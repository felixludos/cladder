{
 "cells": [
  {
   "cell_type": "code",
   "execution_count": 1,
   "metadata": {
    "collapsed": true,
    "ExecuteTime": {
     "end_time": "2023-08-03T17:25:10.601318557Z",
     "start_time": "2023-08-03T17:25:09.802522621Z"
    }
   },
   "outputs": [],
   "source": [
    "\n",
    "from pathlib import Path\n",
    "import numpy as np\n",
    "import random\n",
    "from collections import Counter\n",
    "from omnibelt import load_json\n"
   ]
  },
  {
   "cell_type": "code",
   "execution_count": 2,
   "outputs": [
    {
     "data": {
      "text/plain": "(10112, 7064)"
     },
     "execution_count": 2,
     "metadata": {},
     "output_type": "execute_result"
    }
   ],
   "source": [
    "\n",
    "root = Path('../data/backup')\n",
    "path = root / 'cladder-v1-q-aggregate.json'\n",
    "path = root / 'cladder-v1-q-commonsense.json'\n",
    "path = root / 'cladder-v1-q-balanced.json'\n",
    "# path = '../data/cladder-v1-common-easy.json'\n",
    "full = load_json(path)\n",
    "full_ids = {entry['question_id']: entry for entry in full}\n",
    "models = load_json(root / 'cladder-v1-meta-models.json')\n",
    "model_table = {info['model_id']: info for info in models}\n",
    "len(full), len(models)"
   ],
   "metadata": {
    "collapsed": false,
    "ExecuteTime": {
     "end_time": "2023-08-03T17:25:10.858744956Z",
     "start_time": "2023-08-03T17:25:10.605007686Z"
    }
   }
  },
  {
   "cell_type": "code",
   "execution_count": 3,
   "outputs": [],
   "source": [
    "# models[1]"
   ],
   "metadata": {
    "collapsed": false,
    "ExecuteTime": {
     "end_time": "2023-08-03T17:25:10.860596710Z",
     "start_time": "2023-08-03T17:25:10.859951034Z"
    }
   }
  },
  {
   "cell_type": "code",
   "execution_count": 4,
   "outputs": [
    {
     "data": {
      "text/plain": "{'question_id': 25722,\n 'desc_id': 'nonsense1-mediation-nde-model6194-spec0-q1',\n 'given_info': 'For those who are not kwox and are not swoq, the probability of kwoz is 24%. For those who are not kwox and are swoq, the probability of kwoz is 15%. For those who are kwox and are not swoq, the probability of kwoz is 8%. For those who are kwox and are swoq, the probability of kwoz is 51%. For those who are not kwox, the probability of swoq is 12%. For those who are kwox, the probability of swoq is 50%.',\n 'question': 'If we disregard the mediation effect through swoq, would kwox negatively affect kwoz?',\n 'answer': 'yes',\n 'meta': {'story_id': 'nonsense1',\n  'graph_id': 'mediation',\n  'mediators': ['V2'],\n  'polarity': False,\n  'groundtruth': -0.10102520089737221,\n  'query_type': 'nde',\n  'rung': 3,\n  'formal_form': 'E[Y_{X=1, V2=0} - Y_{X=0, V2=0}]',\n  'given_info': {'p(Y | X, V2)': [[0.2437127161150832, 0.154040346732467],\n    [0.07985903371822341, 0.5100300185877629]],\n   'p(V2 | X)': [0.12086041109416945, 0.5022908043360607]},\n  'estimand': '\\\\sum_{V2=v} P(V2=v|X=0)*[P(Y=1|X=1,V2=v) - P(Y=1|X=0, V2=v)]',\n  'treatment': 'X',\n  'outcome': 'Y',\n  'model_id': 6194},\n 'reasoning': {'step0': 'Let X = kwox; V2 = swoq; Y = kwoz.',\n  'step1': 'X->V2,X->Y,V2->Y',\n  'step2': 'E[Y_{X=1, V2=0} - Y_{X=0, V2=0}]',\n  'step3': '\\\\sum_{V2=v} P(V2=v|X=0)*[P(Y=1|X=1,V2=v) - P(Y=1|X=0, V2=v)]',\n  'step4': 'P(Y=1 | X=0, V2=0) = 0.24\\nP(Y=1 | X=0, V2=1) = 0.15\\nP(Y=1 | X=1, V2=0) = 0.08\\nP(Y=1 | X=1, V2=1) = 0.51\\nP(V2=1 | X=0) = 0.12\\nP(V2=1 | X=1) = 0.50',\n  'step5': '0.12 * (0.51 - 0.08) + 0.50 * (0.15 - 0.24) = -0.10',\n  'end': '-0.10 < 0'}}"
     },
     "execution_count": 4,
     "metadata": {},
     "output_type": "execute_result"
    }
   ],
   "source": [
    "full[8003]"
   ],
   "metadata": {
    "collapsed": false,
    "ExecuteTime": {
     "end_time": "2023-08-03T17:25:11.870657116Z",
     "start_time": "2023-08-03T17:25:11.860504436Z"
    }
   }
  },
  {
   "cell_type": "code",
   "execution_count": 5,
   "outputs": [
    {
     "data": {
      "text/plain": "dict_keys([3, 2, 1])"
     },
     "execution_count": 5,
     "metadata": {},
     "output_type": "execute_result"
    }
   ],
   "source": [
    "key = 'rung'\n",
    "vocabs = {}\n",
    "for entry in full:\n",
    "\tvocabs.setdefault(entry['meta'][key], []).extend(entry['question'].split())\n",
    "\tvocabs.setdefault(entry['meta'][key], []).extend(entry['given_info'].split())\n",
    "\tmodel = models[entry['meta']['model_id']]\n",
    "\tvocabs.setdefault(entry['meta'][key], []).extend(model['background'].split())\n",
    "def _cleanup(w):\n",
    "\tw = w.lower()\n",
    "\tw = w.replace('?', '').replace('.', '').replace(',', '').replace('\\'', '').replace('\\\"', '').replace('%', '').replace(':', '')\n",
    "\t# check if it's a number\n",
    "\ttry:\n",
    "\t\tfloat(w)\n",
    "\t\treturn 'NUM'\n",
    "\texcept:\n",
    "\t\tpass\n",
    "\treturn w\n",
    "vocabs = {k: [_cleanup(w) for w in v] for k, v in vocabs.items()}\n",
    "vocabs = {k: Counter(v) for k, v in vocabs.items()}\n",
    "vocabs.keys()"
   ],
   "metadata": {
    "collapsed": false,
    "ExecuteTime": {
     "end_time": "2023-08-03T17:25:14.323669205Z",
     "start_time": "2023-08-03T17:25:13.472326295Z"
    }
   }
  },
  {
   "cell_type": "code",
   "execution_count": 6,
   "outputs": [],
   "source": [
    "# vocabs"
   ],
   "metadata": {
    "collapsed": false,
    "ExecuteTime": {
     "end_time": "2023-08-03T17:25:14.654117003Z",
     "start_time": "2023-08-03T17:25:14.651524178Z"
    }
   }
  },
  {
   "cell_type": "code",
   "execution_count": 8,
   "outputs": [
    {
     "data": {
      "text/plain": "{3: 479, 2: 400, 1: 405}"
     },
     "execution_count": 8,
     "metadata": {},
     "output_type": "execute_result"
    }
   ],
   "source": [
    "{k: len(v) for k, v in vocabs.items()}"
   ],
   "metadata": {
    "collapsed": false,
    "ExecuteTime": {
     "end_time": "2023-08-03T17:25:17.349414117Z",
     "start_time": "2023-08-03T17:25:17.339736314Z"
    }
   }
  },
  {
   "cell_type": "code",
   "execution_count": 10,
   "outputs": [
    {
     "name": "stdout",
     "output_type": "stream",
     "text": [
      "[8538, 7664, 4252, 2618, 5170, 4094, 7925, 3067, 4819, 5899, 9182, 5103, 2849, 7642, 6252, 2533, 9199, 9937, 8192, 9122, 3136, 7380, 9089, 6916, 4774, 1018, 4390, 6177, 9232, 9774, 4823, 8750, 2634, 8140, 5548, 141, 7277, 4032, 8340, 6756, 11, 4991, 8773, 2466, 3288, 8802, 1932, 5738, 2412, 9783]\n"
     ]
    }
   ],
   "source": [
    "random.seed(0)\n",
    "indices = random.choices(list(range(len(full))), k=50)\n",
    "print(indices)\n",
    "assert len(set(indices)) == len(indices)"
   ],
   "metadata": {
    "collapsed": false,
    "ExecuteTime": {
     "end_time": "2023-08-03T17:25:37.583458412Z",
     "start_time": "2023-08-03T17:25:37.581180612Z"
    }
   }
  },
  {
   "cell_type": "code",
   "execution_count": 16,
   "outputs": [
    {
     "name": "stdout",
     "output_type": "stream",
     "text": [
      "1\n",
      "Imagine a self-contained, hypothetical world with only the following conditions, and without any unmentioned factors or causal relationships: Hwax has a direct effect on gyzp and jyka. Jyka has a direct effect on lirg. Gyzp has a direct effect on lirg.\n",
      "The overall probability of jyka is 18%. For those who are not jyka, the probability of lirg is 72%. For those who are jyka, the probability of lirg is 35%.\n",
      "Is lirg less likely than not lirg overall?\n",
      "\n",
      "2\n",
      "Imagine a self-contained, hypothetical world with only the following conditions, and without any unmentioned factors or causal relationships: Hwax has a direct effect on kraz and pexu. Pexu has a direct effect on rukz. Kraz has a direct effect on rukz.\n",
      "For those who are not pexu and are not kraz, the probability of rukz is 54%. For those who are not pexu and are kraz, the probability of rukz is 27%. For those who are pexu and are not kraz, the probability of rukz is 11%. For those who are pexu and are kraz, the probability of rukz is 96%. For those who are not pexu, the probability of kraz is 86%. For those who are pexu, the probability of kraz is 87%.\n",
      "For those who are pexu, would it be less likely to see rukz if the individual was not pexu?\n",
      "\n",
      "3\n",
      "Imagine a self-contained, hypothetical world with only the following conditions, and without any unmentioned factors or causal relationships: Kidney stone size has a direct effect on treatment and lip thickness. Treatment has a direct effect on lip thickness.\n",
      "The overall probability of receives treatment is 64%. For patients not receiving treatment, the probability of thick lips is 80%. For patients receiving treatment, the probability of thick lips is 51%.\n",
      "Is thick lips more likely than thin lips overall?\n",
      "\n",
      "4\n",
      "Imagine a self-contained, hypothetical world with only the following conditions, and without any unmentioned factors or causal relationships: Gender has a direct effect on smoking and lung cancer. Smoking has a direct effect on tar deposit. Tar deposit has a direct effect on lung cancer. Gender is unobserved.\n",
      "For nonsmokers, the probability of high tar deposit is 66%. For smokers, the probability of high tar deposit is 8%. For nonsmokers and with no tar deposit, the probability of lung cancer is 84%. For nonsmokers and with high tar deposit, the probability of lung cancer is 33%. For smokers and with no tar deposit, the probability of lung cancer is 82%. For smokers and with high tar deposit, the probability of lung cancer is 33%. The overall probability of smoking is 57%.\n",
      "Will smoking increase the chance of lung cancer?\n",
      "\n",
      "5\n",
      "Imagine a self-contained, hypothetical world with only the following conditions, and without any unmentioned factors or causal relationships: Talent has a direct effect on elite institution admission status. Brown eyes has a direct effect on elite institution admission status.\n",
      "The overall probability of talent is 86%. For students who are not talented and rejected from elite institutions, the probability of brown eyes is 99%. For students who are not talented and accepted to elite institutions, the probability of brown eyes is 94%. For students who are talented and rejected from elite institutions, the probability of brown eyes is 97%. For students who are talented and accepted to elite institutions, the probability of brown eyes is 91%.\n",
      "If we look at students accepted to elite institutions, does the chance of brown eyes decrease when talent?\n",
      "\n",
      "6\n",
      "Imagine a self-contained, hypothetical world with only the following conditions, and without any unmentioned factors or causal relationships: Eating citrus has a direct effect on vitmain C. Vitmain C has a direct effect on curly hair.\n",
      "For patients not consuming citrus, the probability of curly hair is 33%. For patients consuming citrus, the probability of curly hair is 13%.\n",
      "Will citrus intake decrease the chance of curly hair?\n",
      "\n",
      "7\n",
      "Imagine a self-contained, hypothetical world with only the following conditions, and without any unmentioned factors or causal relationships: Rixq has a direct effect on swoy and zuph. Zuph has a direct effect on xevu. Swoy has a direct effect on xevu.\n",
      "For those who are not rixq, the probability of xevu is 88%. For those who are rixq, the probability of xevu is 92%.\n",
      "For those who are rixq, would it be more likely to see xevu if the individual was not rixq?\n",
      "\n",
      "8\n",
      "Imagine a self-contained, hypothetical world with only the following conditions, and without any unmentioned factors or causal relationships: Pre-conditions has a direct effect on vaccination and disease. Vaccination has a direct effect on disease.\n",
      "We know that pre-conditions causes vaccine refusal. pre-conditions and getting the vaccine causes recovering from the disease. We observed the person has no pre-conditions.\n",
      "Would the person dies from the disease if getting the vaccine instead of vaccine refusal?\n",
      "\n",
      "9\n",
      "Imagine a self-contained, hypothetical world with only the following conditions, and without any unmentioned factors or causal relationships: Ability to speak english has a direct effect on the forest. The smoker has a direct effect on the forest.\n",
      "Method 1: We look at how ability to speak english correlates with the forest case by case according to the smoker. Method 2: We look directly at how ability to speak english correlates with the forest in general.\n",
      "To understand how ability to speak english affects the forest, is it more correct to use the Method 1 than Method 2?\n",
      "\n",
      "10\n",
      "Imagine a self-contained, hypothetical world with only the following conditions, and without any unmentioned factors or causal relationships: Unobserved confounders has a direct effect on having a brother and infant's birth weight. Cigarette tax has a direct effect on having a brother. Having a brother has a direct effect on infant's birth weight. Unobserved confounders is unobserved.\n",
      "The overall probability of having a brother is 39%. The probability of not having a brother and normal infant birth weight is 14%. The probability of having a brother and normal infant birth weight is 21%.\n",
      "Is the chance of normal infant birth weight smaller when observing having a brother?\n",
      "\n",
      "11\n",
      "Imagine a self-contained, hypothetical world with only the following conditions, and without any unmentioned factors or causal relationships: Pexu has a direct effect on kraz and hwax. Hwax has a direct effect on rukz. Kraz has a direct effect on rukz.\n",
      "The overall probability of pexu is 40%. For those who are not pexu, the probability of rukz is 48%. For those who are pexu, the probability of rukz is 48%.\n",
      "Is rukz less likely than not rukz overall?\n",
      "\n",
      "12\n",
      "Imagine a self-contained, hypothetical world with only the following conditions, and without any unmentioned factors or causal relationships: Having a brother has a direct effect on skill. Skill has a direct effect on salary.\n",
      "Method 1: We look at how having a brother correlates with salary case by case according to skill. Method 2: We look directly at how having a brother correlates with salary in general.\n",
      "To understand how having a brother affects salary, is it more correct to use the Method 1 than Method 2?\n",
      "\n",
      "13\n",
      "Imagine a self-contained, hypothetical world with only the following conditions, and without any unmentioned factors or causal relationships: Season has a direct effect on sprinkler and weather. Weather has a direct effect on ground. Sprinkler has a direct effect on ground.\n",
      "We know that rainy season causes rain and sprinkler off. rain or sprinkler on causes wet ground.\n",
      "Would the ground is dry if rainy season instead of dry season?\n",
      "\n",
      "14\n",
      "Imagine a self-contained, hypothetical world with only the following conditions, and without any unmentioned factors or causal relationships: Pexu has a direct effect on kraz and hwax. Hwax has a direct effect on rukz. Kraz has a direct effect on rukz.\n",
      "The overall probability of pexu is 37%. For those who are not pexu, the probability of rukz is 48%. For those who are pexu, the probability of rukz is 58%.\n",
      "Is rukz more likely than not rukz overall?\n",
      "\n",
      "15\n",
      "Imagine a self-contained, hypothetical world with only the following conditions, and without any unmentioned factors or causal relationships: Unobserved confounders has a direct effect on maternal smoking status and brown eyes. Cigarette tax has a direct effect on maternal smoking status. Maternal smoking status has a direct effect on brown eyes. Unobserved confounders is unobserved.\n",
      "We know that confounder active and high cigarette tax causes smoking mother. confounder active and smoking mother causes brown eyes. We observed the cigarette tax is high and confounder active.\n",
      "Would the infant has blue eyes if smoking mother instead of nonsmoking mother?\n",
      "\n",
      "16\n",
      "Imagine a self-contained, hypothetical world with only the following conditions, and without any unmentioned factors or causal relationships: Pre-conditions has a direct effect on vaccination and disease. Vaccination has a direct effect on disease.\n",
      "The overall probability of getting the vaccine is 44%. For people refusing the vaccine, the probability of recovering from the disease is 31%. For people getting the vaccine, the probability of recovering from the disease is 69%.\n",
      "Is recovering from the disease less likely than dying from the disease overall?\n",
      "\n",
      "17\n",
      "Imagine a self-contained, hypothetical world with only the following conditions, and without any unmentioned factors or causal relationships: Hwax has a direct effect on kraz and pexu. Pexu has a direct effect on rukz. Kraz has a direct effect on rukz.\n",
      "The overall probability of pexu is 43%. The probability of not pexu and rukz is 34%. The probability of pexu and rukz is 29%.\n",
      "Is the chance of rukz larger when observing pexu?\n",
      "\n",
      "18\n",
      "Imagine a self-contained, hypothetical world with only the following conditions, and without any unmentioned factors or causal relationships: Zuph has a direct effect on vubr and wibl. Wibl has a direct effect on uvzi. Vubr has a direct effect on uvzi.\n",
      "We know that zuph causes wibl and vubr. wibl and vubr causes uvzi.\n",
      "Would an individual is uvzi if zuph instead of not zuph?\n",
      "\n",
      "19\n",
      "Imagine a self-contained, hypothetical world with only the following conditions, and without any unmentioned factors or causal relationships: Xevo has a direct effect on tijw and tijv. Tijv has a direct effect on gyzp. Tijw has a direct effect on gyzp.\n",
      "For those who are not xevo, the probability of gyzp is 38%. For those who are xevo, the probability of gyzp is 32%.\n",
      "Does xevo positively affect gyzp through tijv and tijw?\n",
      "\n",
      "20\n",
      "Imagine a self-contained, hypothetical world with only the following conditions, and without any unmentioned factors or causal relationships: Kraz has a direct effect on pexu and rukz. Pexu has a direct effect on hwax. Hwax has a direct effect on rukz. Kraz is unobserved.\n",
      "Method 1: We look directly at how pexu correlates with rukz in general. Method 2: We look at this correlation case by case according to kraz.\n",
      "To understand how pexu affects rukz, is it more correct to use the Method 1 than Method 2?\n",
      "\n",
      "21\n",
      "Imagine a self-contained, hypothetical world with only the following conditions, and without any unmentioned factors or causal relationships: Poverty has a direct effect on water quality and cholera. Water company has a direct effect on water quality. Water quality has a direct effect on cholera. Poverty is unobserved.\n",
      "We know that high poverty and global water company causes clean water. high poverty or clean water causes cholera contraction. We observed the person is served by a global water company and the region has low poverty.\n",
      "Would the person avoids cholera if clean water instead of polluted water?\n",
      "\n",
      "22\n",
      "Imagine a self-contained, hypothetical world with only the following conditions, and without any unmentioned factors or causal relationships: Zuph has a direct effect on wibl. Wibl has a direct effect on uvzi.\n",
      "The overall probability of zuph is 34%. For those who are not zuph, the probability of uvzi is 74%. For those who are zuph, the probability of uvzi is 75%.\n",
      "Is uvzi less likely than not uvzi overall?\n",
      "\n",
      "23\n",
      "Imagine a self-contained, hypothetical world with only the following conditions, and without any unmentioned factors or causal relationships: Hwax has a direct effect on pexu and rukz. Pexu has a direct effect on rukz.\n",
      "Method 1: We look at how pexu correlates with rukz case by case according to hwax. Method 2: We look directly at how pexu correlates with rukz in general.\n",
      "To understand how pexu affects rukz, is it more correct to use the Method 1 than Method 2?\n",
      "\n",
      "24\n",
      "Imagine a self-contained, hypothetical world with only the following conditions, and without any unmentioned factors or causal relationships: Jyka has a direct effect on hwax. Lirg has a direct effect on hwax.\n",
      "Method 1: We look at how jyka correlates with lirg case by case according to hwax. Method 2: We look directly at how jyka correlates with lirg in general.\n",
      "To understand how jyka affects lirg, is it more correct to use the Method 1 than Method 2?\n",
      "\n",
      "25\n",
      "Imagine a self-contained, hypothetical world with only the following conditions, and without any unmentioned factors or causal relationships: Season has a direct effect on sprinkler and weather. Weather has a direct effect on rainfall. Sprinkler has a direct effect on rainfall.\n",
      "The overall probability of rainy season is 90%. For people in the dry season, the probability of high rainfall is 57%. For in the rainy season, the probability of high rainfall is 58%.\n",
      "Is high rainfall less likely than low rainfall overall?\n",
      "\n",
      "26\n",
      "Imagine a self-contained, hypothetical world with only the following conditions, and without any unmentioned factors or causal relationships: Demand has a direct effect on supply and price. Yield per acre has a direct effect on supply. Supply has a direct effect on price. Demand is unobserved.\n",
      "Method 1: We look at how supply correlates with price case by case according to demand. Method 2: We look directly at how supply correlates with price in general.\n",
      "To understand how supply affects price, is it more correct to use the Method 1 than Method 2?\n",
      "\n",
      "27\n",
      "Imagine a self-contained, hypothetical world with only the following conditions, and without any unmentioned factors or causal relationships: Gender has a direct effect on smoking and peanut allergy. Smoking has a direct effect on tar deposit. Tar deposit has a direct effect on peanut allergy. Gender is unobserved.\n",
      "Method 1: We look directly at how smoking correlates with peanut allergy in general. Method 2: We look at this correlation case by case according to gender.\n",
      "To understand how smoking affects peanut allergy, is it more correct to use the Method 1 than Method 2?\n",
      "\n",
      "28\n",
      "Imagine a self-contained, hypothetical world with only the following conditions, and without any unmentioned factors or causal relationships: Age has a direct effect on hospital costs and freckles. Hospital costs has a direct effect on freckles.\n",
      "We know that old age causes low hospital bill. old age and high hospital bill causes freckles. We observed the patient is old.\n",
      "Would the patient has freckles if low hospital bill instead of high hospital bill?\n",
      "\n",
      "29\n",
      "Imagine a self-contained, hypothetical world with only the following conditions, and without any unmentioned factors or causal relationships: Zuph has a direct effect on jyka. Jyka has a direct effect on glimx.\n",
      "For those who are not zuph, the probability of glimx is 10%. For those who are zuph, the probability of glimx is 10%.\n",
      "Will zuph decrease the chance of glimx?\n",
      "\n",
      "30\n",
      "Imagine a self-contained, hypothetical world with only the following conditions, and without any unmentioned factors or causal relationships: Jyka has a direct effect on yupt and kwox. Yupt has a direct effect on kwox.\n",
      "We know that jyka causes yupt. jyka or yupt causes kwox.\n",
      "Would an individual is not kwox if jyka instead of not jyka?\n",
      "\n",
      "31\n",
      "Imagine a self-contained, hypothetical world with only the following conditions, and without any unmentioned factors or causal relationships: Ability to speak english has a direct effect on the forest. The smoker has a direct effect on the forest.\n",
      "Method 1: We look at how ability to speak english correlates with the forest case by case according to the smoker. Method 2: We look directly at how ability to speak english correlates with the forest in general.\n",
      "To understand how ability to speak english affects the forest, is it more correct to use the Method 1 than Method 2?\n",
      "\n",
      "32\n",
      "Imagine a self-contained, hypothetical world with only the following conditions, and without any unmentioned factors or causal relationships: Yupt has a direct effect on zupj. Zupj has a direct effect on muvq.\n",
      "For those who are not yupt, the probability of muvq is 25%. For those who are yupt, the probability of muvq is 25%.\n",
      "Will yupt increase the chance of muvq?\n",
      "\n",
      "33\n",
      "Imagine a self-contained, hypothetical world with only the following conditions, and without any unmentioned factors or causal relationships: Gender has a direct effect on smoking and lung cancer. Smoking has a direct effect on tar deposit. Tar deposit has a direct effect on lung cancer. Gender is unobserved.\n",
      "For nonsmokers and with no tar deposit, the probability of lung cancer is 62%. For nonsmokers and with high tar deposit, the probability of lung cancer is 28%. For smokers and with no tar deposit, the probability of lung cancer is 61%. For smokers and with high tar deposit, the probability of lung cancer is 27%. For nonsmokers, the probability of high tar deposit is 97%. For smokers, the probability of high tar deposit is 45%.\n",
      "For smokers, would it be less likely to see lung cancer if the person had been a nonsmoker?\n",
      "\n",
      "34\n",
      "Imagine a self-contained, hypothetical world with only the following conditions, and without any unmentioned factors or causal relationships: Tijw has a direct effect on xevo and gyzp. Xevo has a direct effect on tijv. Tijv has a direct effect on gyzp. Tijw is unobserved.\n",
      "The overall probability of xevo is 59%. The probability of not xevo and gyzp is 20%. The probability of xevo and gyzp is 28%.\n",
      "Is the chance of gyzp smaller when observing xevo?\n",
      "\n",
      "35\n",
      "Imagine a self-contained, hypothetical world with only the following conditions, and without any unmentioned factors or causal relationships: Demand has a direct effect on full moon and price. Yield per acre has a direct effect on full moon. Full moon has a direct effect on price. Demand is unobserved.\n",
      "The overall probability of full moon is 69%. For situations where there is no full moon, the probability of increased price is 45%. For situations where there is a full moon, the probability of increased price is 74%.\n",
      "Is increased price more likely than reduced price overall?\n",
      "\n",
      "36\n",
      "Imagine a self-contained, hypothetical world with only the following conditions, and without any unmentioned factors or causal relationships: CEO has a direct effect on director and manager. Manager has a direct effect on employee. Director has a direct effect on employee.\n",
      "The overall probability of manager signing the termination letter is 14%. For managers who don't sign termination letters, the probability of employee being fired is 19%. For managers who sign termination letters, the probability of employee being fired is 64%.\n",
      "Is employee being fired less likely than employee not being fired overall?\n",
      "\n",
      "37\n",
      "Imagine a self-contained, hypothetical world with only the following conditions, and without any unmentioned factors or causal relationships: Yupt has a direct effect on zupj and muvq. Zupj has a direct effect on muvq.\n",
      "Method 1: We look at how yupt correlates with muvq case by case according to zupj. Method 2: We look directly at how yupt correlates with muvq in general.\n",
      "To understand how yupt affects muvq, is it more correct to use the Method 1 than Method 2?\n",
      "\n",
      "38\n",
      "Imagine a self-contained, hypothetical world with only the following conditions, and without any unmentioned factors or causal relationships: Smoking has a direct effect on effort and lactose intolerance. Effort has a direct effect on lactose intolerance.\n",
      "Method 1: We look directly at how smoking correlates with lactose intolerance in general. Method 2: We look at this correlation case by case according to effort.\n",
      "To understand how smoking affects lactose intolerance, is it more correct to use the Method 1 than Method 2?\n",
      "\n",
      "39\n",
      "Imagine a self-contained, hypothetical world with only the following conditions, and without any unmentioned factors or causal relationships: Yomx has a direct effect on gwet and xevu. Cwoi has a direct effect on gwet and xevu. Gwet has a direct effect on xevu. Cwoi is unobserved.\n",
      "The overall probability of yomx is 57%. The probability of not yomx and xevu is 28%. The probability of yomx and xevu is 18%.\n",
      "Is the chance of xevu smaller when observing yomx?\n",
      "\n",
      "40\n",
      "Imagine a self-contained, hypothetical world with only the following conditions, and without any unmentioned factors or causal relationships: Yomx has a direct effect on gwet. Gwet has a direct effect on xevu.\n",
      "Method 1: We look directly at how yomx correlates with xevu in general. Method 2: We look at this correlation case by case according to gwet.\n",
      "To understand how yomx affects xevu, is it more correct to use the Method 1 than Method 2?\n",
      "\n",
      "41\n",
      "Imagine a self-contained, hypothetical world with only the following conditions, and without any unmentioned factors or causal relationships: Husband has a direct effect on wife and alarm clock. Wife has a direct effect on alarm clock.\n",
      "For husbands that don't set the alarm and wives that don't set the alarm, the probability of ringing alarm is 11%. For husbands that don't set the alarm and wives that set the alarm, the probability of ringing alarm is 63%. For husbands that set the alarm and wives that don't set the alarm, the probability of ringing alarm is 49%. For husbands that set the alarm and wives that set the alarm, the probability of ringing alarm is 99%. For husbands that don't set the alarm, the probability of alarm set by wife is 59%. For husbands that set the alarm, the probability of alarm set by wife is 35%.\n",
      "Does husband positively affect alarm clock through wife?\n",
      "\n",
      "42\n",
      "Imagine a self-contained, hypothetical world with only the following conditions, and without any unmentioned factors or causal relationships: Vaccination status has a direct effect on vaccination reaction and getting smallpox. Getting smallpox has a direct effect on black hair. Vaccination reaction has a direct effect on black hair.\n",
      "The overall probability of vaccination is 10%. The probability of lack of vaccination and black hair is 46%. The probability of vaccination and black hair is 7%.\n",
      "Is the chance of black hair larger when observing vaccination?\n",
      "\n",
      "43\n",
      "Imagine a self-contained, hypothetical world with only the following conditions, and without any unmentioned factors or causal relationships: Zupj has a direct effect on yupt and muvq. Yupt has a direct effect on muvq.\n",
      "For those who are not zupj and are not yupt, the probability of muvq is 4%. For those who are not zupj and are yupt, the probability of muvq is 42%. For those who are zupj and are not yupt, the probability of muvq is 13%. For those who are zupj and are yupt, the probability of muvq is 76%. The overall probability of zupj is 28%.\n",
      "Will yupt decrease the chance of muvq?\n",
      "\n",
      "44\n",
      "Imagine a self-contained, hypothetical world with only the following conditions, and without any unmentioned factors or causal relationships: Kidney stone size has a direct effect on treatment and recovery. Treatment has a direct effect on recovery.\n",
      "The overall probability of receives treatment is 55%. The probability of receives no treatment and recovery is 18%. The probability of receives treatment and recovery is 47%.\n",
      "Is the chance of recovery smaller when observing receives treatment?\n",
      "\n",
      "45\n",
      "Imagine a self-contained, hypothetical world with only the following conditions, and without any unmentioned factors or causal relationships: CEO has a direct effect on director and having visited England. Having visited England has a direct effect on employee. Director has a direct effect on employee.\n",
      "For CEOs who fire employees and have not visited England, the probability of employee being fired is 18%. For CEOs who fire employees and have visited England, the probability of employee being fired is 55%. For CEOs who fire employees and have not visited England, the probability of employee being fired is 35%. For CEOs who fire employees and have visited England, the probability of employee being fired is 71%. The overall probability of CEO's decision to fire the employee is 29%.\n",
      "Will having visited England decrease the chance of employee being fired?\n",
      "\n",
      "46\n",
      "Imagine a self-contained, hypothetical world with only the following conditions, and without any unmentioned factors or causal relationships: Xyfo has a direct effect on yupt and muvq. Yupt has a direct effect on zupj. Zupj has a direct effect on muvq. Xyfo is unobserved.\n",
      "For those who are not yupt and are not zupj, the probability of muvq is 45%. For those who are not yupt and are zupj, the probability of muvq is 70%. For those who are yupt and are not zupj, the probability of muvq is 52%. For those who are yupt and are zupj, the probability of muvq is 66%. For those who are not yupt, the probability of zupj is 65%. For those who are yupt, the probability of zupj is 72%.\n",
      "For those who are yupt, would it be more likely to see muvq if the individual was not yupt?\n",
      "\n",
      "47\n",
      "Imagine a self-contained, hypothetical world with only the following conditions, and without any unmentioned factors or causal relationships: Unobserved confounders has a direct effect on drug taken and cholesterol level. Treatment assignment has a direct effect on drug taken. Drug taken has a direct effect on cholesterol level. Unobserved confounders is unobserved.\n",
      "Method 1: We look at how drug taken correlates with cholesterol level case by case according to unobserved confounders. Method 2: We look directly at how drug taken correlates with cholesterol level in general.\n",
      "To understand how drug taken affects cholesterol level, is it more correct to use the Method 1 than Method 2?\n",
      "\n",
      "48\n",
      "Imagine a self-contained, hypothetical world with only the following conditions, and without any unmentioned factors or causal relationships: Gender has a direct effect on smoking and freckles. Smoking has a direct effect on tar deposit. Tar deposit has a direct effect on freckles. Gender is unobserved.\n",
      "Method 1: We look at how smoking correlates with freckles case by case according to gender. Method 2: We look directly at how smoking correlates with freckles in general.\n",
      "To understand how smoking affects freckles, is it more correct to use the Method 1 than Method 2?\n",
      "\n",
      "49\n",
      "Imagine a self-contained, hypothetical world with only the following conditions, and without any unmentioned factors or causal relationships: Gender has a direct effect on treatment and recovery. Treatment has a direct effect on recovery.\n",
      "The overall probability of receives treatment is 47%. For patients not receiving treatment, the probability of recovery is 37%. For patients receiving treatment, the probability of recovery is 52%.\n",
      "Is recovery more likely than non-recovery overall?\n",
      "\n",
      "50\n",
      "Imagine a self-contained, hypothetical world with only the following conditions, and without any unmentioned factors or causal relationships: Qwiu has a direct effect on jyka and kwox. Jyka has a direct effect on yupt. Yupt has a direct effect on kwox. Qwiu is unobserved.\n",
      "We know that qwiu causes jyka. jyka causes not yupt. qwiu or yupt causes kwox. We observed an individual is qwiu.\n",
      "Would an individual is kwox if jyka instead of not jyka?\n",
      "\n"
     ]
    }
   ],
   "source": [
    "for i, ind in enumerate(indices):\n",
    "\tentry = full[ind]\n",
    "\tmodel = models[entry['meta']['model_id']]\n",
    "\tprint(i+1)\n",
    "\tprint(model['background'])\n",
    "\tprint(entry['given_info'])\n",
    "\tprint(entry['question'])\n",
    "\t# print(entry['answer'])\n",
    "\tprint()"
   ],
   "metadata": {
    "collapsed": false,
    "ExecuteTime": {
     "end_time": "2023-08-03T17:37:33.301147397Z",
     "start_time": "2023-08-03T17:37:33.256188411Z"
    }
   }
  },
  {
   "cell_type": "code",
   "execution_count": 13,
   "outputs": [
    {
     "data": {
      "text/plain": "0.37994462025316456"
     },
     "execution_count": 13,
     "metadata": {},
     "output_type": "execute_result"
    }
   ],
   "source": [
    "len([e for e in full if e['desc_id'].startswith('nonse')])/len(full)"
   ],
   "metadata": {
    "collapsed": false,
    "ExecuteTime": {
     "end_time": "2023-08-03T17:25:48.512217938Z",
     "start_time": "2023-08-03T17:25:48.504397746Z"
    }
   }
  },
  {
   "cell_type": "markdown",
   "source": [
    "# Count grammar mistakes"
   ],
   "metadata": {
    "collapsed": false
   }
  },
  {
   "cell_type": "code",
   "execution_count": 29,
   "outputs": [],
   "source": [
    "\n",
    "from tqdm.notebook import tqdm\n",
    "from efficiency.function import avg\n",
    "import language_tool_python\n",
    "\n",
    "grammar_tool = language_tool_python.LanguageTool('en-US')\n",
    "def count_grammar_mistakes(text):\n",
    "   matches = grammar_tool.check(text)\n",
    "   return len(matches)"
   ],
   "metadata": {
    "collapsed": false,
    "ExecuteTime": {
     "end_time": "2023-08-09T11:03:36.215420154Z",
     "start_time": "2023-08-09T11:03:24.774980826Z"
    }
   }
  },
  {
   "cell_type": "code",
   "execution_count": 38,
   "outputs": [],
   "source": [
    "\n",
    "from pathlib import Path\n",
    "import numpy as np\n",
    "import random\n",
    "from collections import Counter\n",
    "from omnibelt import load_json, save_json"
   ],
   "metadata": {
    "collapsed": false,
    "ExecuteTime": {
     "end_time": "2023-08-09T11:10:02.937300761Z",
     "start_time": "2023-08-09T11:10:02.926740106Z"
    }
   }
  },
  {
   "cell_type": "code",
   "execution_count": 31,
   "outputs": [
    {
     "data": {
      "text/plain": "(10112, 7064)"
     },
     "execution_count": 31,
     "metadata": {},
     "output_type": "execute_result"
    }
   ],
   "source": [
    "root = Path('../data/backup')\n",
    "path = root / 'cladder-v1-q-aggregate.json'\n",
    "path = root / 'cladder-v1-q-commonsense.json'\n",
    "path = root / 'cladder-v1-q-balanced.json'\n",
    "# path = '../data/cladder-v1-common-easy.json'\n",
    "full = load_json(path)\n",
    "full_ids = {entry['question_id']: entry for entry in full}\n",
    "models = load_json(root / 'cladder-v1-meta-models.json')\n",
    "model_table = {info['model_id']: info for info in models}\n",
    "len(full), len(models)"
   ],
   "metadata": {
    "collapsed": false,
    "ExecuteTime": {
     "end_time": "2023-08-09T11:03:45.060902663Z",
     "start_time": "2023-08-09T11:03:44.673563910Z"
    }
   }
  },
  {
   "cell_type": "code",
   "execution_count": 32,
   "outputs": [],
   "source": [
    "for entry in full:\n",
    "\tmodel = models[entry['meta']['model_id']]\n",
    "\tentry['nonsense'] = model.get('nonsense', False)\n",
    "\tentry['anticommonsense'] = 'anticommonsense' in model\n",
    "\tentry['background'] = model['background']"
   ],
   "metadata": {
    "collapsed": false,
    "ExecuteTime": {
     "end_time": "2023-08-09T11:03:47.144949661Z",
     "start_time": "2023-08-09T11:03:47.128118206Z"
    }
   }
  },
  {
   "cell_type": "code",
   "execution_count": 48,
   "outputs": [],
   "source": [
    "byID = {entry['question_id']: entry for entry in full}"
   ],
   "metadata": {
    "collapsed": false,
    "ExecuteTime": {
     "end_time": "2023-08-09T11:16:30.372482122Z",
     "start_time": "2023-08-09T11:16:30.284664698Z"
    }
   }
  },
  {
   "cell_type": "code",
   "execution_count": 33,
   "outputs": [
    {
     "data": {
      "text/plain": "6270"
     },
     "execution_count": 33,
     "metadata": {},
     "output_type": "execute_result"
    }
   ],
   "source": [
    "sensical = [e for e in full if not e['nonsense']]\n",
    "len(sensical)"
   ],
   "metadata": {
    "collapsed": false,
    "ExecuteTime": {
     "end_time": "2023-08-09T11:03:50.568272390Z",
     "start_time": "2023-08-09T11:03:50.561986772Z"
    }
   }
  },
  {
   "cell_type": "code",
   "execution_count": 43,
   "outputs": [
    {
     "data": {
      "text/plain": "1"
     },
     "execution_count": 43,
     "metadata": {},
     "output_type": "execute_result"
    }
   ],
   "source": [
    "mistakes = {}\n",
    "mistake_path = root / 'grammar-mistakes.json'\n",
    "if mistake_path.exists():\n",
    "\tmistakes = load_json(mistake_path)\n",
    "len(mistakes)"
   ],
   "metadata": {
    "collapsed": false,
    "ExecuteTime": {
     "end_time": "2023-08-09T11:12:22.597471103Z",
     "start_time": "2023-08-09T11:12:22.592013120Z"
    }
   }
  },
  {
   "cell_type": "code",
   "execution_count": 53,
   "outputs": [
    {
     "data": {
      "text/plain": "6270"
     },
     "execution_count": 53,
     "metadata": {},
     "output_type": "execute_result"
    }
   ],
   "source": [
    "all_prompts = [f'{models[entry[\"meta\"][\"model_id\"]][\"background\"]}\\n{entry[\"given_info\"]}\\n{entry[\"question\"]}' for entry in sensical]\n",
    "len(all_prompts)"
   ],
   "metadata": {
    "collapsed": false,
    "ExecuteTime": {
     "end_time": "2023-08-09T11:22:22.673546939Z",
     "start_time": "2023-08-09T11:22:22.642557441Z"
    }
   }
  },
  {
   "cell_type": "code",
   "execution_count": 45,
   "outputs": [
    {
     "data": {
      "text/plain": "  0%|          | 0/6270 [00:00<?, ?it/s]",
      "application/vnd.jupyter.widget-view+json": {
       "version_major": 2,
       "version_minor": 0,
       "model_id": "e4845d233f8b4f6d97d34e5c7c10447c"
      }
     },
     "metadata": {},
     "output_type": "display_data"
    }
   ],
   "source": [
    "total = 0\n",
    "n = 0\n",
    "bar = tqdm(sensical)\n",
    "for entry in bar:\n",
    "\tn += 1\n",
    "\tif entry['question_id'] in mistakes:\n",
    "\t\ttotal += mistakes[entry['question_id']]\n",
    "\t\tcontinue\n",
    "\tmodel = models[entry['meta']['model_id']]\n",
    "\tprompt = f'{model[\"background\"]}\\n{entry[\"given_info\"]}\\n{entry[\"question\"]}'\n",
    "\tcnt = count_grammar_mistakes(prompt)\n",
    "\ttotal += cnt\n",
    "\tbar.set_description(f'{total/n:.2f}')\n",
    "\tmistakes[entry['question_id']] = cnt"
   ],
   "metadata": {
    "collapsed": false,
    "ExecuteTime": {
     "end_time": "2023-08-09T11:16:30.241368272Z",
     "start_time": "2023-08-09T11:12:38.602474207Z"
    }
   }
  },
  {
   "cell_type": "code",
   "execution_count": 46,
   "outputs": [
    {
     "name": "stdout",
     "output_type": "stream",
     "text": [
      "7808/6271 = 1.25\n"
     ]
    }
   ],
   "source": [
    "print(f'{sum(mistakes.values()):d}/{len(mistakes):d} = {sum(mistakes.values())/len(mistakes):.2f}')"
   ],
   "metadata": {
    "collapsed": false,
    "ExecuteTime": {
     "end_time": "2023-08-09T11:16:30.246222139Z",
     "start_time": "2023-08-09T11:16:30.242842908Z"
    }
   }
  },
  {
   "cell_type": "code",
   "execution_count": 47,
   "outputs": [],
   "source": [
    "save_json(mistakes, mistake_path)"
   ],
   "metadata": {
    "collapsed": false,
    "ExecuteTime": {
     "end_time": "2023-08-09T11:16:30.303601346Z",
     "start_time": "2023-08-09T11:16:30.247094258Z"
    }
   }
  },
  {
   "cell_type": "code",
   "execution_count": 50,
   "outputs": [
    {
     "name": "stdout",
     "output_type": "stream",
     "text": [
      "3413/3142 = 1.09\n"
     ]
    }
   ],
   "source": [
    "common_mistakes = {k: v for k, v in mistakes.items() if not byID[int(k)].get('anticommonsense', False) and not byID[int(k)].get('nonsense', False)}\n",
    "print(f'{sum(common_mistakes.values()):d}/{len(common_mistakes):d} = {sum(common_mistakes.values())/len(common_mistakes):.2f}')"
   ],
   "metadata": {
    "collapsed": false,
    "ExecuteTime": {
     "end_time": "2023-08-09T11:18:34.527809376Z",
     "start_time": "2023-08-09T11:18:34.525066784Z"
    }
   }
  },
  {
   "cell_type": "code",
   "execution_count": 51,
   "outputs": [
    {
     "name": "stdout",
     "output_type": "stream",
     "text": [
      "4395/3129 = 1.40\n"
     ]
    }
   ],
   "source": [
    "anti_mistakes = {k: v for k, v in mistakes.items() if byID[int(k)].get('anticommonsense', False)}\n",
    "print(f'{sum(anti_mistakes.values()):d}/{len(anti_mistakes):d} = {sum(anti_mistakes.values())/len(anti_mistakes):.2f}')"
   ],
   "metadata": {
    "collapsed": false,
    "ExecuteTime": {
     "end_time": "2023-08-09T11:18:53.089735923Z",
     "start_time": "2023-08-09T11:18:53.086435925Z"
    }
   }
  },
  {
   "cell_type": "code",
   "execution_count": 54,
   "outputs": [
    {
     "data": {
      "text/plain": "620425"
     },
     "execution_count": 54,
     "metadata": {},
     "output_type": "execute_result"
    }
   ],
   "source": [
    "wordcount = [len(prompt.split()) for prompt in all_prompts]\n",
    "sum(wordcount)"
   ],
   "metadata": {
    "collapsed": false,
    "ExecuteTime": {
     "end_time": "2023-08-09T11:22:52.597314644Z",
     "start_time": "2023-08-09T11:22:52.568196490Z"
    }
   }
  },
  {
   "cell_type": "code",
   "execution_count": 58,
   "outputs": [
    {
     "data": {
      "text/plain": "1.2584921626304548"
     },
     "execution_count": 58,
     "metadata": {},
     "output_type": "execute_result"
    }
   ],
   "source": [
    "sum(mistakes.values())/sum(wordcount)*100"
   ],
   "metadata": {
    "collapsed": false,
    "ExecuteTime": {
     "end_time": "2023-08-09T11:23:35.690926064Z",
     "start_time": "2023-08-09T11:23:35.686181116Z"
    }
   }
  },
  {
   "cell_type": "code",
   "execution_count": 59,
   "outputs": [
    {
     "data": {
      "text/plain": "98.95135566188198"
     },
     "execution_count": 59,
     "metadata": {},
     "output_type": "execute_result"
    }
   ],
   "source": [
    "sum(wordcount)/len(wordcount)"
   ],
   "metadata": {
    "collapsed": false,
    "ExecuteTime": {
     "end_time": "2023-08-09T11:24:04.616774132Z",
     "start_time": "2023-08-09T11:24:04.607302517Z"
    }
   }
  },
  {
   "cell_type": "code",
   "execution_count": null,
   "outputs": [],
   "source": [],
   "metadata": {
    "collapsed": false
   }
  },
  {
   "cell_type": "code",
   "execution_count": 18,
   "outputs": [],
   "source": [
    "entry = sensical[0]\n",
    "model = models[entry['meta']['model_id']]"
   ],
   "metadata": {
    "collapsed": false,
    "ExecuteTime": {
     "end_time": "2023-08-09T10:58:23.977139610Z",
     "start_time": "2023-08-09T10:58:23.931695052Z"
    }
   }
  },
  {
   "cell_type": "code",
   "execution_count": 19,
   "outputs": [],
   "source": [
    "prompt = f'{model[\"background\"]}\\n{entry[\"given_info\"]}\\n{entry[\"question\"]}'"
   ],
   "metadata": {
    "collapsed": false,
    "ExecuteTime": {
     "end_time": "2023-08-09T10:58:24.771477651Z",
     "start_time": "2023-08-09T10:58:24.758073567Z"
    }
   }
  },
  {
   "cell_type": "code",
   "execution_count": 23,
   "outputs": [
    {
     "data": {
      "text/plain": "4"
     },
     "execution_count": 23,
     "metadata": {},
     "output_type": "execute_result"
    }
   ],
   "source": [
    "cnt = count_grammar_mistakes(prompt)\n",
    "cnt"
   ],
   "metadata": {
    "collapsed": false,
    "ExecuteTime": {
     "end_time": "2023-08-09T11:00:14.008515211Z",
     "start_time": "2023-08-09T11:00:11.604875972Z"
    }
   }
  },
  {
   "cell_type": "code",
   "execution_count": null,
   "outputs": [],
   "source": [],
   "metadata": {
    "collapsed": false
   }
  },
  {
   "cell_type": "code",
   "execution_count": 24,
   "outputs": [
    {
     "name": "stdout",
     "output_type": "stream",
     "text": [
      "Imagine a self-contained, hypothetical world with only the following conditions, and without any unmentioned factors or causal relationships: Husband has a direct effect on wife and alarm clock. Wife has a direct effect on alarm clock.\n",
      "For husbands that don't set the alarm and wives that don't set the alarm, the probability of ringing alarm is 8%. For husbands that don't set the alarm and wives that set the alarm, the probability of ringing alarm is 54%. For husbands that set the alarm and wives that don't set the alarm, the probability of ringing alarm is 41%. For husbands that set the alarm and wives that set the alarm, the probability of ringing alarm is 86%. For husbands that don't set the alarm, the probability of alarm set by wife is 74%. For husbands that set the alarm, the probability of alarm set by wife is 24%.\n",
      "If we disregard the mediation effect through wife, would husband positively affect alarm clock?\n"
     ]
    }
   ],
   "source": [
    "print(prompt)"
   ],
   "metadata": {
    "collapsed": false,
    "ExecuteTime": {
     "end_time": "2023-08-09T11:00:15.215014408Z",
     "start_time": "2023-08-09T11:00:15.210900433Z"
    }
   }
  },
  {
   "cell_type": "code",
   "execution_count": 28,
   "outputs": [
    {
     "data": {
      "text/plain": "2"
     },
     "execution_count": 28,
     "metadata": {},
     "output_type": "execute_result"
    }
   ],
   "source": [
    "\n",
    "cnt = count_grammar_mistakes('These is cool. She think me am cool.')\n",
    "cnt"
   ],
   "metadata": {
    "collapsed": false,
    "ExecuteTime": {
     "end_time": "2023-08-09T11:01:55.665092663Z",
     "start_time": "2023-08-09T11:01:43.255267193Z"
    }
   }
  },
  {
   "cell_type": "code",
   "execution_count": null,
   "outputs": [],
   "source": [],
   "metadata": {
    "collapsed": false
   }
  },
  {
   "cell_type": "code",
   "execution_count": 13,
   "outputs": [],
   "source": [
    "mistakes = {}\n"
   ],
   "metadata": {
    "collapsed": false,
    "ExecuteTime": {
     "end_time": "2023-08-09T10:56:16.248222119Z",
     "start_time": "2023-08-09T10:56:16.241526358Z"
    }
   }
  },
  {
   "cell_type": "code",
   "execution_count": null,
   "outputs": [],
   "source": [],
   "metadata": {
    "collapsed": false
   }
  },
  {
   "cell_type": "code",
   "execution_count": 5,
   "outputs": [
    {
     "data": {
      "text/plain": "  0%|          | 0/1 [00:00<?, ?it/s]",
      "application/vnd.jupyter.widget-view+json": {
       "version_major": 2,
       "version_minor": 0,
       "model_id": "ae0c1d74dfd540ebb8201cdf2d72eb75"
      }
     },
     "metadata": {},
     "output_type": "display_data"
    }
   ],
   "source": [
    "\n",
    "# texts = get_texts() # TODO: Felix, can you exclude the nonsensical, which triggers grammatical errors? Then we can get the count of grammatical errors.\n",
    "texts = ['These is cool. She think it am cool.',]# 'This is cool', 'He think it is cool.', 'He wants I to think it is cool.']\n",
    "bar = tqdm(texts)\n",
    "cnts = []\n",
    "for text in bar:\n",
    "   cnt = count_grammar_mistakes(text)\n",
    "   cnts.append(cnt)\n",
    "   bar.set_description(str(avg(cnts)))"
   ],
   "metadata": {
    "collapsed": false,
    "ExecuteTime": {
     "end_time": "2023-08-09T10:53:04.704337962Z",
     "start_time": "2023-08-09T10:52:58.059866913Z"
    }
   }
  },
  {
   "cell_type": "code",
   "execution_count": 6,
   "outputs": [
    {
     "data": {
      "text/plain": "[2]"
     },
     "execution_count": 6,
     "metadata": {},
     "output_type": "execute_result"
    }
   ],
   "source": [
    "cnts"
   ],
   "metadata": {
    "collapsed": false,
    "ExecuteTime": {
     "end_time": "2023-08-09T10:53:04.749316283Z",
     "start_time": "2023-08-09T10:53:04.705122520Z"
    }
   }
  },
  {
   "cell_type": "code",
   "execution_count": null,
   "outputs": [],
   "source": [],
   "metadata": {
    "collapsed": false
   }
  },
  {
   "cell_type": "code",
   "execution_count": null,
   "outputs": [],
   "source": [],
   "metadata": {
    "collapsed": false
   }
  },
  {
   "cell_type": "code",
   "execution_count": null,
   "outputs": [],
   "source": [],
   "metadata": {
    "collapsed": false
   }
  },
  {
   "cell_type": "code",
   "execution_count": null,
   "outputs": [],
   "source": [],
   "metadata": {
    "collapsed": false
   }
  }
 ],
 "metadata": {
  "kernelspec": {
   "display_name": "Python 3",
   "language": "python",
   "name": "python3"
  },
  "language_info": {
   "codemirror_mode": {
    "name": "ipython",
    "version": 2
   },
   "file_extension": ".py",
   "mimetype": "text/x-python",
   "name": "python",
   "nbconvert_exporter": "python",
   "pygments_lexer": "ipython2",
   "version": "2.7.6"
  }
 },
 "nbformat": 4,
 "nbformat_minor": 0
}

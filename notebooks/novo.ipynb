{
 "cells": [
  {
   "cell_type": "code",
   "execution_count": 2,
   "id": "initial_id",
   "metadata": {
    "collapsed": true,
    "ExecuteTime": {
     "end_time": "2023-11-08T15:11:06.331791485Z",
     "start_time": "2023-11-08T15:11:03.002980266Z"
    }
   },
   "outputs": [],
   "source": [
    "import numpy as np\n",
    "import torch\n",
    "from pomegranate.distributions import Categorical\n",
    "from pomegranate.distributions import ConditionalCategorical\n",
    "from pomegranate.bayesian_network import BayesianNetwork"
   ]
  },
  {
   "cell_type": "code",
   "execution_count": 11,
   "outputs": [
    {
     "data": {
      "text/plain": "array([[0, 0],\n       [1, 0],\n       [0, 1],\n       [1, 1],\n       [1, 0],\n       [0, 0],\n       [0, 0],\n       [0, 0],\n       [0, 1],\n       [1, 1]])"
     },
     "execution_count": 11,
     "metadata": {},
     "output_type": "execute_result"
    }
   ],
   "source": [
    "X = np.random.randint(2, size=(10, 2))\n",
    "X"
   ],
   "metadata": {
    "collapsed": false,
    "ExecuteTime": {
     "end_time": "2023-11-08T15:11:50.913079518Z",
     "start_time": "2023-11-08T15:11:50.868758407Z"
    }
   },
   "id": "eeaa3a61763ea702"
  },
  {
   "cell_type": "code",
   "execution_count": 50,
   "outputs": [
    {
     "data": {
      "text/plain": "[0.24914337694644928, 0.5017131567001343, 0.24914337694644928]"
     },
     "execution_count": 50,
     "metadata": {},
     "output_type": "execute_result"
    }
   ],
   "source": [
    "torch.tensor([0.1, 0.8, 0.1]).softmax(dim=-1)"
   ],
   "metadata": {
    "collapsed": false,
    "ExecuteTime": {
     "end_time": "2023-11-08T16:16:56.588955230Z",
     "start_time": "2023-11-08T16:16:56.548033367Z"
    }
   },
   "id": "80112e5ff2410f1b"
  },
  {
   "cell_type": "code",
   "execution_count": 43,
   "outputs": [
    {
     "data": {
      "text/plain": "Categorical()"
     },
     "execution_count": 43,
     "metadata": {},
     "output_type": "execute_result"
    }
   ],
   "source": [
    "Categorical([[0.1, 0.8, 0.1]])"
   ],
   "metadata": {
    "collapsed": false,
    "ExecuteTime": {
     "end_time": "2023-11-08T16:13:20.362800237Z",
     "start_time": "2023-11-08T16:13:20.357520095Z"
    }
   },
   "id": "919841fa4124bea4"
  },
  {
   "cell_type": "code",
   "execution_count": 35,
   "outputs": [],
   "source": [
    "\n",
    "d1 = Categorical([[0.1, 0.8, 0.1]])\n",
    "d2 = ConditionalCategorical([[[0.4, 0.6], [0.3, 0.7], [0.3, 0.7]]])\n",
    "\n",
    "model = BayesianNetwork([d1, d2], [(d1, d2)])"
   ],
   "metadata": {
    "collapsed": false,
    "ExecuteTime": {
     "end_time": "2023-11-08T16:05:20.653725951Z",
     "start_time": "2023-11-08T16:05:20.595471408Z"
    }
   },
   "id": "bbef73e7cbce789b"
  },
  {
   "cell_type": "code",
   "execution_count": 51,
   "outputs": [
    {
     "data": {
      "text/plain": "ConditionalCategorical(\n  (probs): ParameterList(  (0): Parameter containing: [torch.float32 of size 2x2x2])\n  (_w_sum): [tensor([[0., 0.],\n          [0., 0.]])]\n  (_xw_sum): [tensor([[[0., 0.],\n           [0., 0.]],\n  \n          [[0., 0.],\n           [0., 0.]]])]\n  (_log_probs): [tensor([[[-0.2231, -1.6094],\n           [-2.3026, -0.1054]],\n  \n          [[-2.3026, -0.1054],\n           [-0.6931, -0.6931]]])]\n)"
     },
     "execution_count": 51,
     "metadata": {},
     "output_type": "execute_result"
    }
   ],
   "source": [
    "\n",
    "d4 = ConditionalCategorical([[[[0.8, 0.2], [0.1, 0.9]], [[0.1, 0.9], [0.5, 0.5]]]])\n",
    "d4"
   ],
   "metadata": {
    "collapsed": false,
    "ExecuteTime": {
     "end_time": "2023-11-08T16:22:11.589058915Z",
     "start_time": "2023-11-08T16:22:11.544857569Z"
    }
   },
   "id": "6d7dc13177bfce24"
  },
  {
   "cell_type": "code",
   "execution_count": 52,
   "outputs": [
    {
     "data": {
      "text/plain": "<torch._C.Generator at 0x7fedd7cf46d0>"
     },
     "execution_count": 52,
     "metadata": {},
     "output_type": "execute_result"
    }
   ],
   "source": [
    "\n",
    "def get_rng(seed):\n",
    "\treturn torch.Generator().manual_seed(seed)\n",
    "get_rng(8099045677)"
   ],
   "metadata": {
    "collapsed": false,
    "ExecuteTime": {
     "end_time": "2023-11-08T16:28:37.468996781Z",
     "start_time": "2023-11-08T16:28:37.426937541Z"
    }
   },
   "id": "3693a11c78fd74dc"
  },
  {
   "cell_type": "code",
   "execution_count": 65,
   "outputs": [
    {
     "data": {
      "text/plain": "3"
     },
     "execution_count": 65,
     "metadata": {},
     "output_type": "execute_result"
    }
   ],
   "source": [
    "d1.probs.shape[-1]"
   ],
   "metadata": {
    "collapsed": false,
    "ExecuteTime": {
     "end_time": "2023-11-08T16:41:20.293877006Z",
     "start_time": "2023-11-08T16:41:20.288533365Z"
    }
   },
   "id": "91a5cae4ae74a523"
  },
  {
   "cell_type": "code",
   "execution_count": 36,
   "outputs": [
    {
     "data": {
      "text/plain": "BayesianNetwork(\n  (distributions): ModuleList(\n    (0): Categorical()\n    (1): ConditionalCategorical(\n      (probs): ParameterList(  (0): Parameter containing: [torch.float32 of size 3x2])\n      (_w_sum): [tensor([0., 0., 0.])]\n      (_xw_sum): [tensor([[0., 0.],\n              [0., 0.],\n              [0., 0.]])]\n      (_log_probs): [tensor([[-0.9163, -0.5108],\n              [-1.2040, -0.3567],\n              [-1.2040, -0.3567]])]\n    )\n  )\n  (_factor_graph): FactorGraph(\n    (factors): ModuleList(\n      (0): Categorical()\n      (1): JointCategorical()\n    )\n    (marginals): ModuleList(\n      (0-1): 2 x Categorical()\n    )\n  )\n)"
     },
     "execution_count": 36,
     "metadata": {},
     "output_type": "execute_result"
    }
   ],
   "source": [
    "model"
   ],
   "metadata": {
    "collapsed": false,
    "ExecuteTime": {
     "end_time": "2023-11-08T16:05:21.636963586Z",
     "start_time": "2023-11-08T16:05:21.588597046Z"
    }
   },
   "id": "86a4a34da65677bb"
  },
  {
   "cell_type": "code",
   "execution_count": 37,
   "outputs": [
    {
     "data": {
      "text/plain": "tensor([[1, 1],\n        [1, 1],\n        [1, 1],\n        [1, 1]])"
     },
     "execution_count": 37,
     "metadata": {},
     "output_type": "execute_result"
    }
   ],
   "source": [
    "X_torch = torch.tensor(X[:4]).long()\n",
    "X_torch[:] = 1\n",
    "X_torch"
   ],
   "metadata": {
    "collapsed": false,
    "ExecuteTime": {
     "end_time": "2023-11-08T16:05:21.939566477Z",
     "start_time": "2023-11-08T16:05:21.926195296Z"
    }
   },
   "id": "5c66a5f0bb89bba"
  },
  {
   "cell_type": "code",
   "execution_count": 37,
   "outputs": [],
   "source": [],
   "metadata": {
    "collapsed": false,
    "ExecuteTime": {
     "end_time": "2023-11-08T16:05:22.699349449Z",
     "start_time": "2023-11-08T16:05:22.671587478Z"
    }
   },
   "id": "384f6849076421fd"
  },
  {
   "cell_type": "code",
   "execution_count": 38,
   "outputs": [
    {
     "data": {
      "text/plain": "[tensor([[0.0000, 1.0000, 0.0000],\n         [0.0000, 1.0000, 0.0000],\n         [0.0000, 1.0000, 0.0000],\n         [0.1000, 0.8000, 0.1000]]),\n tensor([[0.3000, 0.7000],\n         [0.3000, 0.7000],\n         [0.0000, 1.0000],\n         [0.3100, 0.6900]])]"
     },
     "execution_count": 38,
     "metadata": {},
     "output_type": "execute_result"
    }
   ],
   "source": [
    "X_torch = torch.tensor([[1, 1],\n",
    "        [1, 0],\n",
    "        # [0, 1],\n",
    "        [1, 1],\n",
    "        [1, 1]])\n",
    "\n",
    "mask = torch.tensor([[True, False],\n",
    "                     [True, False],\n",
    "                     [True, True],\n",
    "                     [False, False]])\n",
    "\n",
    "X_masked = torch.masked.MaskedTensor(X_torch, mask=mask)\n",
    "model.predict_proba(X_masked)"
   ],
   "metadata": {
    "collapsed": false,
    "ExecuteTime": {
     "end_time": "2023-11-08T16:05:23.063663871Z",
     "start_time": "2023-11-08T16:05:23.039346047Z"
    }
   },
   "id": "fb9f9e075c5f16f2"
  },
  {
   "cell_type": "code",
   "execution_count": null,
   "outputs": [],
   "source": [],
   "metadata": {
    "collapsed": false
   },
   "id": "70f6a6ea185d7b39"
  },
  {
   "cell_type": "code",
   "execution_count": null,
   "outputs": [],
   "source": [],
   "metadata": {
    "collapsed": false
   },
   "id": "1f767d54f01e016c"
  },
  {
   "cell_type": "code",
   "execution_count": 7,
   "outputs": [],
   "source": [],
   "metadata": {
    "collapsed": false,
    "ExecuteTime": {
     "end_time": "2023-11-08T15:11:09.117096819Z",
     "start_time": "2023-11-08T15:11:09.113466331Z"
    }
   },
   "id": "f1efb4fcac2bf329"
  },
  {
   "cell_type": "code",
   "execution_count": 8,
   "outputs": [],
   "source": [
    "X = torch.randint(2, size=(20, 4))\n",
    "\n",
    "d1 = Categorical([[0.1, 0.9]])\n",
    "d2 = Categorical([[0.3, 0.7]])\n",
    "d3 = ConditionalCategorical([[[0.4, 0.6], [0.3, 0.7]]])\n",
    "d4 = ConditionalCategorical([[[[0.8, 0.2], [0.1, 0.9]], [[0.1, 0.9], [0.5, 0.5]]]])\n",
    "\n",
    "model = BayesianNetwork([d1, d2, d3, d4], [(d1, d3), (d2, d4), (d3, d4)])\n",
    "model.summarize(X[:5])\n",
    "model.summarize(X[5:])\n",
    "model.from_summaries()"
   ],
   "metadata": {
    "collapsed": false,
    "ExecuteTime": {
     "end_time": "2023-11-08T15:11:09.516989801Z",
     "start_time": "2023-11-08T15:11:09.508031538Z"
    }
   },
   "id": "f7f9f924af30dc1f"
  },
  {
   "cell_type": "code",
   "execution_count": 9,
   "outputs": [
    {
     "data": {
      "text/plain": "Parameter containing:\ntensor([[0.4000, 0.6000]])"
     },
     "execution_count": 9,
     "metadata": {},
     "output_type": "execute_result"
    }
   ],
   "source": [
    "model.distributions[0].probs"
   ],
   "metadata": {
    "collapsed": false,
    "ExecuteTime": {
     "end_time": "2023-11-08T15:11:10.577839954Z",
     "start_time": "2023-11-08T15:11:10.550408277Z"
    }
   },
   "id": "a89daef7fe7f5bf4"
  },
  {
   "cell_type": "code",
   "execution_count": 10,
   "outputs": [
    {
     "data": {
      "text/plain": "Parameter containing:\ntensor([[0.6250, 0.3750],\n        [0.5000, 0.5000]])"
     },
     "execution_count": 10,
     "metadata": {},
     "output_type": "execute_result"
    }
   ],
   "source": [
    "model.distributions[2].probs[0]"
   ],
   "metadata": {
    "collapsed": false,
    "ExecuteTime": {
     "end_time": "2023-11-08T15:11:11.151680040Z",
     "start_time": "2023-11-08T15:11:11.141357590Z"
    }
   },
   "id": "84d45186764c4904"
  },
  {
   "cell_type": "code",
   "execution_count": null,
   "outputs": [],
   "source": [],
   "metadata": {
    "collapsed": false
   },
   "id": "61c5f45b6b562604"
  },
  {
   "cell_type": "code",
   "execution_count": null,
   "outputs": [],
   "source": [],
   "metadata": {
    "collapsed": false
   },
   "id": "9a3c2061f9cc4978"
  }
 ],
 "metadata": {
  "kernelspec": {
   "display_name": "Python 3",
   "language": "python",
   "name": "python3"
  },
  "language_info": {
   "codemirror_mode": {
    "name": "ipython",
    "version": 2
   },
   "file_extension": ".py",
   "mimetype": "text/x-python",
   "name": "python",
   "nbconvert_exporter": "python",
   "pygments_lexer": "ipython2",
   "version": "2.7.6"
  }
 },
 "nbformat": 4,
 "nbformat_minor": 5
}

{
 "cells": [
  {
   "cell_type": "code",
   "execution_count": 7,
   "outputs": [
    {
     "ename": "SyntaxError",
     "evalue": "invalid syntax (4117984695.py, line 1)",
     "output_type": "error",
     "traceback": [
      "\u001B[0;36m  File \u001B[0;32m\"/tmp/ipykernel_5413/4117984695.py\"\u001B[0;36m, line \u001B[0;32m1\u001B[0m\n\u001B[0;31m    import\u001B[0m\n\u001B[0m          ^\u001B[0m\n\u001B[0;31mSyntaxError\u001B[0m\u001B[0;31m:\u001B[0m invalid syntax\n"
     ]
    }
   ],
   "source": [
    "import"
   ],
   "metadata": {
    "collapsed": false
   }
  },
  {
   "cell_type": "code",
   "execution_count": null,
   "outputs": [],
   "source": [],
   "metadata": {
    "collapsed": false
   }
  },
  {
   "cell_type": "code",
   "execution_count": 1,
   "outputs": [],
   "source": [
    "from collections import OrderedDict"
   ],
   "metadata": {
    "collapsed": false,
    "ExecuteTime": {
     "end_time": "2023-08-14T13:47:12.542051483Z",
     "start_time": "2023-08-14T13:47:12.522668351Z"
    }
   }
  },
  {
   "cell_type": "code",
   "execution_count": 2,
   "outputs": [],
   "source": [
    "d = OrderedDict()\n",
    "d['a'] = 1\n",
    "d['b'] = 2"
   ],
   "metadata": {
    "collapsed": false,
    "ExecuteTime": {
     "end_time": "2023-08-14T13:47:13.164851086Z",
     "start_time": "2023-08-14T13:47:13.125271769Z"
    }
   }
  },
  {
   "cell_type": "code",
   "execution_count": 4,
   "outputs": [
    {
     "data": {
      "text/plain": "('b', 2)"
     },
     "execution_count": 4,
     "metadata": {},
     "output_type": "execute_result"
    }
   ],
   "source": [
    "d.popitem()"
   ],
   "metadata": {
    "collapsed": false,
    "ExecuteTime": {
     "end_time": "2023-08-14T13:47:27.331576174Z",
     "start_time": "2023-08-14T13:47:27.308711422Z"
    }
   }
  },
  {
   "cell_type": "code",
   "execution_count": 5,
   "outputs": [
    {
     "data": {
      "text/plain": "OrderedDict([('a', 1)])"
     },
     "execution_count": 5,
     "metadata": {},
     "output_type": "execute_result"
    }
   ],
   "source": [
    "d"
   ],
   "metadata": {
    "collapsed": false,
    "ExecuteTime": {
     "end_time": "2023-08-14T13:47:31.739202639Z",
     "start_time": "2023-08-14T13:47:31.713222868Z"
    }
   }
  },
  {
   "cell_type": "code",
   "execution_count": 17,
   "outputs": [
    {
     "ename": "ValueError",
     "evalue": "generator already executing",
     "output_type": "error",
     "traceback": [
      "\u001B[0;31m---------------------------------------------------------------------------\u001B[0m",
      "\u001B[0;31mValueError\u001B[0m                                Traceback (most recent call last)",
      "Cell \u001B[0;32mIn[17], line 8\u001B[0m\n\u001B[1;32m      4\u001B[0m \t\u001B[38;5;28;01myield from\u001B[39;00m gm\n\u001B[1;32m      6\u001B[0m gm \u001B[38;5;241m=\u001B[39m g()\n\u001B[0;32m----> 8\u001B[0m \u001B[38;5;28;43mnext\u001B[39;49m\u001B[43m(\u001B[49m\u001B[43mgm\u001B[49m\u001B[43m)\u001B[49m\n",
      "Cell \u001B[0;32mIn[17], line 4\u001B[0m, in \u001B[0;36mg\u001B[0;34m()\u001B[0m\n\u001B[1;32m      2\u001B[0m \u001B[38;5;28;01mdef\u001B[39;00m \u001B[38;5;21mg\u001B[39m():\n\u001B[1;32m      3\u001B[0m \t\u001B[38;5;28;01mglobal\u001B[39;00m gm\n\u001B[0;32m----> 4\u001B[0m \t\u001B[38;5;28;01myield from\u001B[39;00m gm\n",
      "\u001B[0;31mValueError\u001B[0m: generator already executing"
     ]
    }
   ],
   "source": [
    "# gm = None\n",
    "def g():\n",
    "\tglobal gm\n",
    "\tyield from gm\n",
    "\t\n",
    "gm = g()\n",
    "\n",
    "next(gm)\n",
    "\t"
   ],
   "metadata": {
    "collapsed": false,
    "ExecuteTime": {
     "end_time": "2023-08-14T16:55:32.018333099Z",
     "start_time": "2023-08-14T16:55:31.964918425Z"
    }
   }
  },
  {
   "cell_type": "code",
   "execution_count": null,
   "outputs": [],
   "source": [],
   "metadata": {
    "collapsed": false
   }
  },
  {
   "cell_type": "code",
   "execution_count": 7,
   "outputs": [],
   "source": [
    "\n",
    "def crawler(ls):\n",
    "\tif len(ls) == 2:\n",
    "\t\tyield from ls\n",
    "\telse:\n",
    "\t\treturn ls[-1]"
   ],
   "metadata": {
    "collapsed": false,
    "ExecuteTime": {
     "end_time": "2023-08-14T14:01:44.796785405Z",
     "start_time": "2023-08-14T14:01:44.739288263Z"
    }
   }
  },
  {
   "cell_type": "code",
   "execution_count": 9,
   "outputs": [
    {
     "data": {
      "text/plain": "[]"
     },
     "execution_count": 9,
     "metadata": {},
     "output_type": "execute_result"
    }
   ],
   "source": [
    "list(crawler([1,2,3]))"
   ],
   "metadata": {
    "collapsed": false,
    "ExecuteTime": {
     "end_time": "2023-08-14T14:01:57.269988700Z",
     "start_time": "2023-08-14T14:01:57.242724987Z"
    }
   }
  },
  {
   "cell_type": "code",
   "execution_count": 11,
   "outputs": [
    {
     "data": {
      "text/plain": "[]"
     },
     "execution_count": 11,
     "metadata": {},
     "output_type": "execute_result"
    }
   ],
   "source": [
    "list(crawler([1,]))"
   ],
   "metadata": {
    "collapsed": false,
    "ExecuteTime": {
     "end_time": "2023-08-14T14:02:15.952525378Z",
     "start_time": "2023-08-14T14:02:15.925909306Z"
    }
   }
  },
  {
   "cell_type": "code",
   "execution_count": 10,
   "outputs": [
    {
     "data": {
      "text/plain": "[1, 2]"
     },
     "execution_count": 10,
     "metadata": {},
     "output_type": "execute_result"
    }
   ],
   "source": [
    "list(crawler([1,2]))"
   ],
   "metadata": {
    "collapsed": false,
    "ExecuteTime": {
     "end_time": "2023-08-14T14:02:08.843839483Z",
     "start_time": "2023-08-14T14:02:08.801533683Z"
    }
   }
  },
  {
   "cell_type": "code",
   "execution_count": null,
   "metadata": {
    "collapsed": true
   },
   "outputs": [],
   "source": [
    "import itertools"
   ]
  },
  {
   "cell_type": "code",
   "execution_count": null,
   "outputs": [],
   "source": [
    "list(itertools.product([], [1,2]))"
   ],
   "metadata": {
    "collapsed": false
   }
  },
  {
   "cell_type": "code",
   "execution_count": null,
   "outputs": [],
   "source": [
    "list(itertools.combinations(([1,], [1,2]), 1))"
   ],
   "metadata": {
    "collapsed": false
   }
  },
  {
   "cell_type": "code",
   "execution_count": null,
   "outputs": [],
   "source": [
    "vs = ['X', 'Z', 'W']\n",
    "srcs = ['X']\n",
    "ds = ['Z', 'X']\n",
    "es = [v for v in srcs if v not in ds]\n",
    "ds, es"
   ],
   "metadata": {
    "collapsed": false
   }
  },
  {
   "cell_type": "code",
   "execution_count": null,
   "outputs": [],
   "source": [
    "import numpy as np\n",
    "from itertools import product\n",
    "\n",
    "\n",
    "def generate_all_bit_strings(n):\n",
    "\t\"\"\"\n",
    "\tGenerate all bit strings of length n as numpy bool arrays\n",
    "\t:param n: length of bit strings\n",
    "\t:return: generator of bit strings\n",
    "\t\"\"\"\n",
    "\treturn np.array(list(product([False, True], repeat=n)), dtype=bool) # shape (2**n, n)\n"
   ],
   "metadata": {
    "collapsed": false
   }
  },
  {
   "cell_type": "code",
   "execution_count": null,
   "outputs": [],
   "source": [
    "for x in generate_all_bit_strings(0):\n",
    "    print(len(x))"
   ],
   "metadata": {
    "collapsed": false
   }
  },
  {
   "cell_type": "code",
   "execution_count": null,
   "outputs": [],
   "source": [
    "generate_all_bit_strings(2)"
   ],
   "metadata": {
    "collapsed": false
   }
  },
  {
   "cell_type": "code",
   "execution_count": null,
   "outputs": [],
   "source": [
    "x = np.array([True])\n",
    "x = True\n",
    "x"
   ],
   "metadata": {
    "collapsed": false
   }
  },
  {
   "cell_type": "code",
   "execution_count": null,
   "outputs": [],
   "source": [
    "x | np.array([True, False])"
   ],
   "metadata": {
    "collapsed": false
   }
  },
  {
   "cell_type": "code",
   "execution_count": null,
   "outputs": [],
   "source": [
    "vals = generate_all_bit_strings(3)\n",
    "vals"
   ],
   "metadata": {
    "collapsed": false
   }
  },
  {
   "cell_type": "code",
   "execution_count": null,
   "outputs": [],
   "source": [
    "sel = np.array([True, False])\n",
    "inds = np.arange(len(vals))\n",
    "inds"
   ],
   "metadata": {
    "collapsed": false
   }
  },
  {
   "cell_type": "code",
   "execution_count": null,
   "outputs": [],
   "source": [
    "np.equal(sel.reshape(-1, 1), vals.T[:len(sel)]).prod(0).astype(bool)"
   ],
   "metadata": {
    "collapsed": false
   }
  },
  {
   "cell_type": "code",
   "execution_count": null,
   "outputs": [],
   "source": [
    "import numpy as np"
   ],
   "metadata": {
    "collapsed": false
   }
  },
  {
   "cell_type": "code",
   "execution_count": null,
   "outputs": [],
   "source": [
    "p = np.random.rand(2,2)\n",
    "p"
   ],
   "metadata": {
    "collapsed": false
   }
  },
  {
   "cell_type": "code",
   "execution_count": null,
   "outputs": [],
   "source": [
    "x = np.random.rand(5) < 0.5\n",
    "y = np.random.rand(5) < 0.5\n",
    "x, y"
   ],
   "metadata": {
    "collapsed": false
   }
  },
  {
   "cell_type": "code",
   "execution_count": null,
   "outputs": [],
   "source": [
    "parents = x,y"
   ],
   "metadata": {
    "collapsed": false
   }
  },
  {
   "cell_type": "code",
   "execution_count": null,
   "outputs": [],
   "source": [
    "np.random.rand(5) < p[tuple(pa.astype(int) for pa in parents)]"
   ],
   "metadata": {
    "collapsed": false
   }
  },
  {
   "cell_type": "code",
   "execution_count": null,
   "outputs": [],
   "source": [
    "np.random.rand(*[2]*5)"
   ],
   "metadata": {
    "collapsed": false
   }
  },
  {
   "cell_type": "code",
   "execution_count": null,
   "outputs": [],
   "source": [
    "np.random.rand(*[2]*0)"
   ],
   "metadata": {
    "collapsed": false
   }
  },
  {
   "cell_type": "code",
   "execution_count": null,
   "outputs": [],
   "source": [
    "from causalbenchmark.graphs import create_graph\n",
    "import numpy as np"
   ],
   "metadata": {
    "collapsed": false
   }
  },
  {
   "cell_type": "code",
   "execution_count": null,
   "outputs": [],
   "source": [
    "# g = create_graph('simpson', overlap=0.5, width=0.5, offset=0.2, overlap_offset=0.4)\n",
    "g = create_graph('confounding')\n",
    "g"
   ],
   "metadata": {
    "collapsed": false
   }
  },
  {
   "cell_type": "code",
   "execution_count": null,
   "outputs": [],
   "source": [
    "print(g)"
   ],
   "metadata": {
    "collapsed": false
   }
  },
  {
   "cell_type": "code",
   "execution_count": null,
   "outputs": [],
   "source": [
    "g.Y.parents"
   ],
   "metadata": {
    "collapsed": false
   }
  },
  {
   "cell_type": "code",
   "execution_count": null,
   "outputs": [],
   "source": [
    "list(map(str,g.nodes()))"
   ],
   "metadata": {
    "collapsed": false
   }
  },
  {
   "cell_type": "code",
   "execution_count": null,
   "outputs": [],
   "source": [
    "g.Z.p"
   ],
   "metadata": {
    "collapsed": false
   }
  },
  {
   "cell_type": "code",
   "execution_count": null,
   "outputs": [],
   "source": [
    "g.X.p"
   ],
   "metadata": {
    "collapsed": false
   }
  },
  {
   "cell_type": "code",
   "execution_count": null,
   "outputs": [],
   "source": [
    "g.Y.p"
   ],
   "metadata": {
    "collapsed": false
   }
  },
  {
   "cell_type": "code",
   "execution_count": null,
   "outputs": [],
   "source": [
    "g = create_graph('simpson', overlap=0.5, width=0.5, offset=0.2, overlap_offset=0.4, prior=0.7, gap=0.3, aggregate_offset=0.1)\n",
    "\n",
    "\n",
    "g.Z.p = 0.25\n",
    "\n",
    "g.X.p = [0.9, 0.3]\n",
    "\n",
    "# g.X.p = [0.6, 0.2]\n",
    "\n",
    "# g.X.p = [0.3, 0.1]\n",
    "\n",
    "\n",
    "# g.Z.p = np.random.rand()\n",
    "# g.X.p = np.random.rand(2)\n",
    "\n",
    "pY1_X0, pY1_X1 = g.marginals(X=0)['Y'], g.marginals(X=1)['Y']\n",
    "pY1_X0, pY1_X1"
   ],
   "metadata": {
    "collapsed": false
   }
  },
  {
   "cell_type": "code",
   "execution_count": null,
   "outputs": [],
   "source": [
    "# Z = g.Z.p\n",
    "# nZ = 1 - Z\n",
    "# X0, X1 = g.X.p\n",
    "# Y00, Y01 = g.Y.p[0]\n",
    "# Y10, Y11 = g.Y.p[1]\n",
    "\n",
    "Z = 0.6\n",
    "nZ = 1 - Z\n",
    "\n",
    "Y00, Y01 = 0.1, 0.45\n",
    "Y10, Y11 = 0.2, 0.6\n",
    "\n",
    "X0, X1 = 0.7, 0.001\n",
    "\n",
    "aggX0 = (Y00*nZ*(1-X0) + Y01*Z*(1-X1)) / (nZ*(1-X0)+Z*(1-X1))\n",
    "aggX1 = (Y10*nZ*X0 + Y11*Z*X1) / (nZ*X0+Z*X1)\n",
    "\n",
    "aggX0, aggX1"
   ],
   "metadata": {
    "collapsed": false
   }
  },
  {
   "cell_type": "code",
   "execution_count": null,
   "outputs": [],
   "source": [
    "aggX0, aggX1 = 0.2925, 0.2575\n",
    "aggX0, aggX1 = 0.4, 0.3\n",
    "\n",
    "a1, b1, c1 = (Y10 - aggX1)*nZ, (Y11 - aggX1)*Z, 0\n",
    "a2, b2, c2 = (aggX0 - Y00)*nZ, (aggX0 - Y01)*Z, aggX0 - Y01*Z  - Y00*nZ\n",
    "\n",
    "det = a1 * b2 - a2 * b1\n",
    "\n",
    "xx = (b2 * c1 - b1 * c2) / det\n",
    "yy = (a1 * c2 - a2 * c1) / det\n",
    "(xx, yy), (X0, X1) #g.X.p.tolist()"
   ],
   "metadata": {
    "collapsed": false
   }
  },
  {
   "cell_type": "code",
   "execution_count": null,
   "outputs": [],
   "source": [
    "# for X0 = 0\n",
    "X1lim0 = (aggX0 - Y01*Z  - Y00*nZ) / (aggX0 - Y01) / Z\n",
    "# for X1 = 0\n",
    "X0lim0 = (aggX0 - Y01*Z  - Y00*nZ) / (aggX0 - Y00) / nZ\n",
    "# for X0 = 1\n",
    "X1lim1 = (aggX0 - Y01*Z  - Y00*nZ - (aggX0 - Y00)*nZ) / (aggX0 - Y01) / Z\n",
    "# for X1 = 1\n",
    "X0lim1 = (aggX0 - Y01*Z  - Y00*nZ - (aggX0 - Y01)*Z) / (aggX0 - Y00) / nZ\n",
    "\n",
    "X1lim0, X1lim1, X1, X0lim0, X0lim1, X0"
   ],
   "metadata": {
    "collapsed": false
   }
  },
  {
   "cell_type": "code",
   "execution_count": null,
   "outputs": [],
   "source": [],
   "metadata": {
    "collapsed": false
   }
  },
  {
   "cell_type": "code",
   "execution_count": null,
   "outputs": [],
   "source": [],
   "metadata": {
    "collapsed": false
   }
  },
  {
   "cell_type": "code",
   "execution_count": null,
   "outputs": [],
   "source": [
    "# aggZ0 = (Y00*nZ*(1-X0) + Y01*Z*(1-X1)) / (nZ*(1-X0)+Z*(1-X1))\n",
    "\n",
    "# aggZ0 * (nZ*(1-X0)+Z*(1-X1)) = (Y00*nZ*(1-X0) + Y01*Z*(1-X1))\n",
    "\n",
    "# aggZ0 * (nZ*(1-X0)+Z*(1-X1)) = Y00*nZ - Y00*nZ*X0 + Y01*Z - Y01*Z*X1\n",
    "\n",
    "# aggZ0 - aggZ0*nZ*X0 - aggZ0*Z*X1 = Y00*nZ - Y00*nZ*X0 + Y01*Z - Y01*Z*X1\n",
    "\n",
    "# aggZ0 - Y01*Z  - Y00*nZ = (aggZ0 - Y00)*nZ*X0 + (aggZ0 - Y01)*Z*X1\n",
    "####################\n",
    "# aggZ1 = (Y10*nZ*X0 + Y11*Z*X1) / (nZ*X0+Z*X1)\n",
    "\n",
    "# aggZ1*nZ*X0 + aggZ1*Z*X1 = (Y10*nZ*X0 + Y11*Z*X1)\n",
    "\n"
   ],
   "metadata": {
    "collapsed": false
   }
  },
  {
   "cell_type": "code",
   "execution_count": null,
   "outputs": [],
   "source": [
    "g.X.p.tolist()"
   ],
   "metadata": {
    "collapsed": false
   }
  },
  {
   "cell_type": "code",
   "execution_count": null,
   "outputs": [],
   "source": [
    "a1, b1, c1 = (Y10-aggZ1)*nZ, (Y11-aggZ1)*Z, 0\n",
    "a2, b2, c2 = (aggZ0 - Y00)*nZ, (aggZ0 - Y01)*Z, aggZ0 - Y01*Z  - Y00*nZ\n",
    "\n",
    "det = a1 * b2 - a2 * b1\n",
    "\n",
    "xx = (b2 * c1 - b1 * c2) / det\n",
    "yy = (a1 * c2 - a2 * c1) / det\n",
    "xx, yy"
   ],
   "metadata": {
    "collapsed": false
   }
  },
  {
   "cell_type": "code",
   "execution_count": null,
   "outputs": [],
   "source": [],
   "metadata": {
    "collapsed": false
   }
  },
  {
   "cell_type": "code",
   "execution_count": null,
   "outputs": [],
   "source": [
    "# 2 * aggZ0 - Y00 - Y01 = (aggZ0-Y00) * X0 + (aggZ0-Y01) * X1\n",
    "# 0 = (Y10-aggZ1) * X0 + (Y11-aggZ1) * X1"
   ],
   "metadata": {
    "collapsed": false
   }
  },
  {
   "cell_type": "code",
   "execution_count": null,
   "outputs": [],
   "source": [
    "a1, b1, c1 = (Y10-aggZ1), (Y11-aggZ1), 0\n",
    "a2, b2, c2 = (aggZ0-Y00), (aggZ0-Y01), 2 * aggZ0 - Y00 - Y01\n",
    "\n",
    "det = a1 * b2 - a2 * b1\n",
    "\n",
    "xx = (b2 * c1 - b1 * c2) / det\n",
    "yy = (a1 * c2 - a2 * c1) / det\n",
    "xx, yy"
   ],
   "metadata": {
    "collapsed": false
   }
  },
  {
   "cell_type": "code",
   "execution_count": null,
   "outputs": [],
   "source": [
    "g.X.p"
   ],
   "metadata": {
    "collapsed": false
   }
  },
  {
   "cell_type": "code",
   "execution_count": null,
   "outputs": [],
   "source": [
    "# a1 * x + b1 * y = c1\n",
    "# a2 * x + b2 * y = c2\n",
    "\n",
    "# det = a1 * b2 - a2 * b1\n",
    "#\n",
    "# xx = (b2 * c1 - b1 * c2) / det\n",
    "# yy = (a1 * c2 - a2 * c1) / det"
   ],
   "metadata": {
    "collapsed": false
   }
  },
  {
   "cell_type": "code",
   "execution_count": null,
   "outputs": [],
   "source": [
    "det = (aggZ0-Y00) * (Y11-aggZ1) - (aggZ0-Y01) * (Y10-aggZ1)\n",
    "\n",
    "dx =\n",
    "dy = (Y10-aggZ1) * (aggZ0-Y00) - (Y11-aggZ1) * (aggZ0-Y01)\n",
    "\n",
    "dx, dy"
   ],
   "metadata": {
    "collapsed": false
   }
  },
  {
   "cell_type": "code",
   "execution_count": null,
   "outputs": [],
   "source": [],
   "metadata": {
    "collapsed": false
   }
  },
  {
   "cell_type": "code",
   "execution_count": null,
   "outputs": [],
   "source": [],
   "metadata": {
    "collapsed": false
   }
  },
  {
   "cell_type": "code",
   "execution_count": null,
   "outputs": [],
   "source": [
    "a, b = g.X.p\n",
    "a, b = 1-a, 1-b\n",
    "a, b = a/(a+b), b/(a+b)\n",
    "\n",
    "a, b"
   ],
   "metadata": {
    "collapsed": false
   }
  },
  {
   "cell_type": "code",
   "execution_count": null,
   "outputs": [],
   "source": [
    "worst, best = g.Y.p[0]\n",
    "\n",
    "a*worst + b*best"
   ],
   "metadata": {
    "collapsed": false
   }
  },
  {
   "cell_type": "code",
   "execution_count": null,
   "outputs": [],
   "source": [],
   "metadata": {
    "collapsed": false
   }
  },
  {
   "cell_type": "code",
   "execution_count": null,
   "outputs": [],
   "source": [
    "\n",
    "a, b = g.X.p\n",
    "a, b = a/(a+b), b/(a+b)\n",
    "\n",
    "a, b"
   ],
   "metadata": {
    "collapsed": false
   }
  },
  {
   "cell_type": "code",
   "execution_count": null,
   "outputs": [],
   "source": [
    "\n",
    "worst, best = g.Y.p[1]\n",
    "\n",
    "a*worst + b*best\n"
   ],
   "metadata": {
    "collapsed": false
   }
  },
  {
   "cell_type": "code",
   "execution_count": null,
   "outputs": [],
   "source": [],
   "metadata": {
    "collapsed": false
   }
  },
  {
   "cell_type": "code",
   "execution_count": null,
   "outputs": [],
   "source": [],
   "metadata": {
    "collapsed": false
   }
  },
  {
   "cell_type": "code",
   "execution_count": null,
   "outputs": [],
   "source": [
    "0.45*0.9/(0.9*0.1) + 0.1*0.1/np.sqrt(0.9*0.1)"
   ],
   "metadata": {
    "collapsed": false
   }
  },
  {
   "cell_type": "code",
   "execution_count": null,
   "outputs": [],
   "source": [
    "import numpy as np\n",
    "from scipy.linalg import pascal\n",
    "pascal(4)"
   ],
   "metadata": {
    "collapsed": false
   }
  },
  {
   "cell_type": "code",
   "execution_count": null,
   "outputs": [],
   "source": [
    "pascal(2, 'lower')[-1]"
   ],
   "metadata": {
    "collapsed": false
   }
  },
  {
   "cell_type": "code",
   "execution_count": null,
   "outputs": [],
   "source": [
    "parents, constraints = 1, 1\n",
    "groups = pascal(constraints+1, kind='lower')[-1]\n",
    "groups = groups * 2**parents / groups.sum()\n",
    "groups = groups.astype(int)\n",
    "groups"
   ],
   "metadata": {
    "collapsed": false
   }
  },
  {
   "cell_type": "code",
   "execution_count": null,
   "outputs": [],
   "source": [
    "[1,2,3] - [2]"
   ],
   "metadata": {
    "collapsed": false
   }
  },
  {
   "cell_type": "code",
   "execution_count": null,
   "outputs": [],
   "source": [
    "from causalbenchmark.graphs import create_graph"
   ],
   "metadata": {
    "collapsed": false
   }
  },
  {
   "cell_type": "code",
   "execution_count": null,
   "outputs": [],
   "source": [
    "g = create_graph('IV')\n",
    "print(g)"
   ],
   "metadata": {
    "collapsed": false
   }
  },
  {
   "cell_type": "code",
   "execution_count": null,
   "outputs": [],
   "source": [
    "g.symbolic_nie_estimand('Y', 'X')"
   ],
   "metadata": {
    "collapsed": false
   }
  },
  {
   "cell_type": "code",
   "execution_count": null,
   "outputs": [],
   "source": [
    "g.symbolic_ate_estimand('Y', 'X')"
   ],
   "metadata": {
    "collapsed": false
   }
  },
  {
   "cell_type": "code",
   "execution_count": null,
   "outputs": [],
   "source": [
    "(g.marginals(V2=1)['Y']-g.marginals(V2=0)['Y'])/(g.marginals(V2=1)['X']-g.marginals(V2=0)['X'])"
   ],
   "metadata": {
    "collapsed": false
   }
  },
  {
   "cell_type": "code",
   "execution_count": null,
   "outputs": [],
   "source": [
    "g.ate('X')"
   ],
   "metadata": {
    "collapsed": false
   }
  },
  {
   "cell_type": "code",
   "execution_count": null,
   "outputs": [],
   "source": [
    "mg = g.marginals()\n",
    "mg"
   ],
   "metadata": {
    "collapsed": false
   }
  },
  {
   "cell_type": "code",
   "execution_count": null,
   "outputs": [],
   "source": [
    "cd = g.marginals(X=1)\n",
    "cd"
   ],
   "metadata": {
    "collapsed": false
   }
  },
  {
   "cell_type": "code",
   "execution_count": null,
   "outputs": [],
   "source": [
    "it = g.interventional({n: v for n,v in cd.items() if len(g.get_variable(n).parents) == 0})\n",
    "it"
   ],
   "metadata": {
    "collapsed": false
   }
  },
  {
   "cell_type": "code",
   "execution_count": null,
   "outputs": [],
   "source": [],
   "metadata": {
    "collapsed": false
   }
  },
  {
   "cell_type": "code",
   "execution_count": null,
   "outputs": [],
   "source": [
    "g = create_graph('frontdoor')\n",
    "print(g)"
   ],
   "metadata": {
    "collapsed": false
   }
  },
  {
   "cell_type": "code",
   "execution_count": null,
   "outputs": [],
   "source": [
    "g.ett('X')"
   ],
   "metadata": {
    "collapsed": false
   }
  },
  {
   "cell_type": "code",
   "execution_count": null,
   "outputs": [],
   "source": [
    "g.symbolic_ett_estimand('Y', 'X')"
   ],
   "metadata": {
    "collapsed": false
   }
  },
  {
   "cell_type": "code",
   "execution_count": null,
   "outputs": [],
   "source": [
    "g.marginals(X=1,V3=1)['Y']*(g.marginals(X=1)['V3'] - g.marginals(X=0)['V3']) + \\\n",
    "g.marginals(X=1,V3=0)['Y']*(1-g.marginals(X=1)['V3'] - 1 + g.marginals(X=0)['V3'])"
   ],
   "metadata": {
    "collapsed": false
   }
  },
  {
   "cell_type": "code",
   "execution_count": null,
   "outputs": [],
   "source": [],
   "metadata": {
    "collapsed": false
   }
  },
  {
   "cell_type": "code",
   "execution_count": null,
   "outputs": [],
   "source": [
    "g = create_graph('IV')\n",
    "print(g)\n",
    "g.ett('X')"
   ],
   "metadata": {
    "collapsed": false
   }
  },
  {
   "cell_type": "code",
   "execution_count": 1,
   "outputs": [
    {
     "name": "stdout",
     "output_type": "stream",
     "text": [
      "ImportError: cannot import name ci_relation_check\n",
      "nonsense_story.csv saved to /is/ei/fleeb/workspace/code/projects/causalbenchmark/causalbenchmark/verbal/nonsense_story.csv\n"
     ]
    }
   ],
   "source": [
    "import numpy as np\n",
    "from causalbenchmark.graphs import create_graph"
   ],
   "metadata": {
    "collapsed": false
   }
  },
  {
   "cell_type": "code",
   "execution_count": 30,
   "outputs": [
    {
     "name": "stdout",
     "output_type": "stream",
     "text": [
      "p(Y) p(X) p(V3 | X, Y)\n"
     ]
    }
   ],
   "source": [
    "g = create_graph('collision')\n",
    "print(g)"
   ],
   "metadata": {
    "collapsed": false
   }
  },
  {
   "cell_type": "code",
   "execution_count": 31,
   "outputs": [
    {
     "data": {
      "text/plain": "array([[0.5142082 , 0.56804152],\n       [0.82349225, 0.30770921]])"
     },
     "execution_count": 31,
     "metadata": {},
     "output_type": "execute_result"
    }
   ],
   "source": [
    "g.V3.param"
   ],
   "metadata": {
    "collapsed": false
   }
  },
  {
   "cell_type": "code",
   "execution_count": 32,
   "outputs": [
    {
     "data": {
      "text/plain": "(-0.09651193243513342, 0.19683542767229623)"
     },
     "execution_count": 32,
     "metadata": {},
     "output_type": "execute_result"
    }
   ],
   "source": [],
   "metadata": {
    "collapsed": false
   }
  },
  {
   "cell_type": "code",
   "execution_count": 33,
   "outputs": [
    {
     "data": {
      "text/plain": "(0.23997383924060042, -0.04619287739370133)"
     },
     "execution_count": 33,
     "metadata": {},
     "output_type": "execute_result"
    }
   ],
   "source": [
    "g.correlation('X', 'V3'), g.correlation('Y', 'V3')"
   ],
   "metadata": {
    "collapsed": false
   }
  },
  {
   "cell_type": "code",
   "execution_count": 97,
   "outputs": [
    {
     "name": "stdout",
     "output_type": "stream",
     "text": [
      "Correlation X-Y (V3=1): -0.123\n",
      "Covariance X-Y (V3=1): -0.027\n",
      "Correlation X-V3: 0.165\n",
      "Correlation Y-V3: 0.016\n",
      "Explain away effect: -0.038\n",
      "(change in Y when observing X)\n"
     ]
    }
   ],
   "source": [
    "g = create_graph('collision')\n",
    "cx = g.correlation('X', 'V3')\n",
    "cy = g.correlation('Y', 'V3')\n",
    "v1, v0 = g.correlation('X', 'Y', V3=1), g.correlation('X', 'Y', V3=0)\n",
    "cv1 = g.covariance('X', 'Y', V3=1)\n",
    "now = g.marginals(X=1, V3=1)['Y']\n",
    "prev = g.marginals(V3=1)['Y']\n",
    "print(f'Correlation X-Y (V3=1): {v1:.3f}')\n",
    "print(f'Covariance X-Y (V3=1): {cv1:.3f}')\n",
    "# print(f'Correlation X-Y (V3=0): {v0:.3f}')\n",
    "print(f'Correlation X-V3: {cx:.3f}')\n",
    "print(f'Correlation Y-V3: {cy:.3f}')\n",
    "print(f'Explain away effect: {now-prev:.3f}\\n(change in Y when observing X)')"
   ],
   "metadata": {
    "collapsed": false
   }
  },
  {
   "cell_type": "code",
   "execution_count": 35,
   "outputs": [
    {
     "data": {
      "text/plain": "(0.2190231159850397, 0.08047069798352728)"
     },
     "execution_count": 35,
     "metadata": {},
     "output_type": "execute_result"
    }
   ],
   "source": [
    "g.marginals(X=1, V3=0)['Y'], g.marginals(V3=0)['Y']"
   ],
   "metadata": {
    "collapsed": false
   }
  },
  {
   "cell_type": "code",
   "execution_count": 36,
   "outputs": [
    {
     "data": {
      "text/plain": "(-0.010621371218757168, 0.018003068362960197)"
     },
     "execution_count": 36,
     "metadata": {},
     "output_type": "execute_result"
    }
   ],
   "source": [
    "g.covariance('X', 'Y', V3=1), g.covariance('X', 'Y', V3=0)"
   ],
   "metadata": {
    "collapsed": false
   }
  },
  {
   "cell_type": "code",
   "execution_count": null,
   "outputs": [],
   "source": [],
   "metadata": {
    "collapsed": false
   }
  },
  {
   "cell_type": "code",
   "execution_count": null,
   "outputs": [],
   "source": [],
   "metadata": {
    "collapsed": false
   }
  },
  {
   "cell_type": "code",
   "execution_count": null,
   "outputs": [],
   "source": [],
   "metadata": {
    "collapsed": false
   }
  }
 ],
 "metadata": {
  "kernelspec": {
   "display_name": "Python 3",
   "language": "python",
   "name": "python3"
  },
  "language_info": {
   "codemirror_mode": {
    "name": "ipython",
    "version": 2
   },
   "file_extension": ".py",
   "mimetype": "text/x-python",
   "name": "python",
   "nbconvert_exporter": "python",
   "pygments_lexer": "ipython2",
   "version": "2.7.6"
  }
 },
 "nbformat": 4,
 "nbformat_minor": 0
}

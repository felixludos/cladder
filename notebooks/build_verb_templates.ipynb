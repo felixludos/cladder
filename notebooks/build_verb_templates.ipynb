{
 "cells": [
  {
   "cell_type": "code",
   "execution_count": 1,
   "id": "initial_id",
   "metadata": {
    "collapsed": true,
    "ExecuteTime": {
     "end_time": "2023-11-29T00:29:08.608333800Z",
     "start_time": "2023-11-29T00:29:02.675017800Z"
    }
   },
   "outputs": [],
   "source": [
    "from pathlib import Path\n",
    "from omnibelt import toposort, load_json, save_json, pformat, pformat_vars\n",
    "from itertools import product, combinations\n",
    "# import pyperclip\n",
    "import random\n",
    "from PIL import Image\n",
    "from graphviz import Digraph\n",
    "import matplotlib.pyplot as plt\n",
    "import io\n",
    "# import clipboard\n",
    "import networkx as nx\n",
    "from tqdm.notebook import tqdm\n",
    "from tabulate import tabulate\n",
    "import matplotlib.pyplot as plt\n",
    "import seaborn as sns\n",
    "from omniply import tool, ToolKit, Context\n",
    "\n",
    "import numpy as np\n",
    "import torch\n",
    "from causalbenchmark.novo.simulation.models import Bernoulli, ConditionalBernoulli, BernoulliNetwork\n",
    "from causalbenchmark.novo.seeding import NewsHeadlines, StatisticsPrompting, Story\n",
    "# from causalbenchmark.novo.seeding.prompting import GraphInfo\n",
    "from causalbenchmark.novo.templating import FixedTemplate, SimpleTemplater\n",
    "# from causalbenchmark.novo.verbalization import misc\n",
    "from causalbenchmark.novo import misc\n",
    "from causalbenchmark.novo.verbalization.decision import Decision\n",
    "from causalbenchmark.novo.templating import Template\n",
    "from causalbenchmark.novo.verbalization.clause import ClauseVerbalization"
   ]
  },
  {
   "cell_type": "code",
   "execution_count": 2,
   "outputs": [
    {
     "data": {
      "text/plain": "3",
      "image/png": "[encoded data removed]",
      "text/latex": "$\\displaystyle 3$"
     },
     "execution_count": 2,
     "metadata": {},
     "output_type": "execute_result"
    }
   ],
   "source": [
    "story_names = [\n",
    "\t'test19',\n",
    "\t'test20',\n",
    "\t'test21',\n",
    "]\n",
    "stories = []\n",
    "for name in story_names:\n",
    "\tstory = Story(story_root=misc.data_root() / 'stories', story_id=name)#.populate_defaults()\n",
    "\tstories.append(story)\n",
    "\t\n",
    "\tstory['stats'] = {int(k): v for k, v in story['stats'].items()}\n",
    "\tstory['verbs'] = {k: {int(k2): v2 for k2, v2 in v.items()} for k, v in story['verbs'].items()}\n",
    "\tfor k, v in story['verbs'].items():\n",
    "\t\tfor k2, v2 in v.items():\n",
    "\t\t\tif 'value' in v2:\n",
    "\t\t\t\tv2['value'] = {int(k3): v3 for k3, v3 in v2['value'].items()}\n",
    "\tstory['questions']['questions'] = {int(k): v for k, v in story['questions']['questions'].items()}\n",
    "len(stories)"
   ],
   "metadata": {
    "collapsed": false,
    "ExecuteTime": {
     "end_time": "2023-11-29T00:29:09.634462600Z",
     "start_time": "2023-11-29T00:29:08.444159600Z"
    }
   },
   "id": "604bd583b4084ccd"
  },
  {
   "cell_type": "code",
   "execution_count": 3,
   "outputs": [],
   "source": [
    "def story_atoms(story):\n",
    "\tvarverbs = {}\n",
    "\tfor var, raw in story['verbs'].items():\n",
    "\t\tinfo = {'values': {0: {}, 1: {}}}\n",
    "\t\t\n",
    "\t\tinfo['variable'] = raw[1]['variable']\n",
    "\t\tinfo['subject'] = raw[2]['subject']\n",
    "\t\tinfo['domain'] = raw[4]['domain']\n",
    "\t\t\n",
    "\t\tfor i in [0, 1]:\n",
    "\t\t\tinfo_val = info['values'][i]\n",
    "\t\t\tinfo_val['verb'] = raw[2]['value'][i] # goes with subject\n",
    "\t\t\tinfo_val['phrase'] = raw[3]['value'][i]\n",
    "\t\t\tinfo_val['descriptor'] = raw[4]['value'][i] # goes with domain\n",
    "\t\t\tinfo_val['event'] = raw[5]['value'][i]\n",
    "\t\t\tinfo_val['conditional'] = raw[6]['value'][i]\n",
    "\t\t\tinfo_val['interventional'] = raw[7]['value'][i]\n",
    "\t\t\t\n",
    "\t\tvarverbs[var] = info\n",
    "\t\n",
    "\tstory['sheet'] = varverbs\n",
    "\treturn story\n",
    "\n",
    "for story in stories:\n",
    "\tstory_atoms(story)"
   ],
   "metadata": {
    "collapsed": false,
    "ExecuteTime": {
     "end_time": "2023-11-29T00:29:09.658498Z",
     "start_time": "2023-11-29T00:29:09.636467300Z"
    }
   },
   "id": "172e69abce303632"
  },
  {
   "cell_type": "code",
   "execution_count": 4,
   "outputs": [],
   "source": [
    "story = random.choice(stories)\n",
    "rawverbs = story['verbs']\n",
    "rawvars = {node['name']: node for node in story['nodes']}\n",
    "# next(iter(rawverbs.values()))"
   ],
   "metadata": {
    "collapsed": false,
    "ExecuteTime": {
     "end_time": "2023-11-28T20:05:39.689878800Z",
     "start_time": "2023-11-28T20:05:39.671836400Z"
    }
   },
   "id": "f02461335f55fce0"
  },
  {
   "cell_type": "code",
   "execution_count": 5,
   "outputs": [
    {
     "data": {
      "text/plain": "('StadiumDecision', 'No Construction')"
     },
     "execution_count": 5,
     "metadata": {},
     "output_type": "execute_result"
    }
   ],
   "source": [
    "varname = random.choice(list(rawverbs.keys()))\n",
    "nodeinfo = [node for node in story['nodes'] if node['name'] == varname][0]\n",
    "varinfo = story['sheet'][varname]\n",
    "varval = 0\n",
    "varname, nodeinfo['values'][varval]"
   ],
   "metadata": {
    "collapsed": false,
    "ExecuteTime": {
     "end_time": "2023-11-28T20:05:40.256891300Z",
     "start_time": "2023-11-28T20:05:40.241014700Z"
    }
   },
   "id": "ad18af624f5ce543"
  },
  {
   "cell_type": "code",
   "execution_count": 6,
   "outputs": [
    {
     "data": {
      "text/plain": "dict_keys(['variable', 'subject', 'domain', 'verb', 'phrase', 'descriptor', 'event', 'conditional', 'interventional'])"
     },
     "execution_count": 6,
     "metadata": {},
     "output_type": "execute_result"
    }
   ],
   "source": [
    "info = {**varinfo, **varinfo['values'][0]}\n",
    "del info['values']\n",
    "info.keys()"
   ],
   "metadata": {
    "collapsed": false,
    "ExecuteTime": {
     "end_time": "2023-11-28T20:05:42.646328900Z",
     "start_time": "2023-11-28T20:05:42.631499Z"
    }
   },
   "id": "df399a40f923e9b8"
  },
  {
   "cell_type": "code",
   "execution_count": 24,
   "outputs": [],
   "source": [
    "precise_templates = [\n",
    "\t['there', 'is', 'a', '{quantity}', '{prob_word}', 'that', '{position}'],\n",
    "\t['the', '{chance_word}', 'that', '{position}', '{\"are\" if chance_word == \"odds\" else \"is\"}', '{quantity}'],\n",
    "\t['{quantity}', 'of', 'the', 'time', '{position}'],\n",
    "\t['{quantity}', 'of', '{domain}', '{descriptor}'],\n",
    "\t['with a', '{confidence_word}', 'of {quantity}, {position}']\n",
    "]\n",
    "\n",
    "position_templates = [\n",
    "\t['{subject}', '{verb}',],\n",
    "\t['{domain}', '{descriptor}'],\n",
    "\t# ['{descriptor}'],\n",
    "\t['{phrase}',],\n",
    "\t['{event}',],\n",
    "]\n",
    "\n",
    "def sample_text(ident=None, **static):\n",
    "\tif ident is None:\n",
    "\t\tident = {}\n",
    "\tstory_id = ident.setdefault('story_id', random.randint(0,len(stories)-1))\n",
    "\tstory = stories[story_id]\n",
    "\t\n",
    "\tvar_id = ident.setdefault('var_id', random.randint(0,len(story['nodes'])-1))\n",
    "\tvarname = story['nodes'][var_id]['name']\n",
    "\tvarinfo = story['sheet'][varname]\n",
    "\tvarval = ident.setdefault('value_id', random.choice([0, 1]))\n",
    "\t\n",
    "\tinfo = {**varinfo, **varinfo['values'][varval]}\n",
    "\tdel info['values']\n",
    "\t\n",
    "\tctx = ClauseVerbalization().populate_variable_info(info, **static).populate_default(precise_templates=precise_templates, position_templates=position_templates)\n",
    "\t\n",
    "\tctx.include(Decision(['confidence', 'certainty'], 'confidence_word'))\n",
    "\t\n",
    "\tctx.update(ident)\n",
    "\treturn ctx"
   ],
   "metadata": {
    "collapsed": false,
    "ExecuteTime": {
     "end_time": "2023-11-28T20:34:56.909097300Z",
     "start_time": "2023-11-28T20:34:56.893687900Z"
    }
   },
   "id": "37e1aaf88d56bd56"
  },
  {
   "cell_type": "code",
   "execution_count": 50,
   "outputs": [
    {
     "name": "stdout",
     "output_type": "stream",
     "text": [
      "  i  text\n",
      "---  --------------------------------------------------------------------------\n",
      "  0  With a confidence of 38%, the refinery has been operating for a long time.\n",
      "  1  38% of the time the refinery has been operating for many years.\n",
      "  2  The chance that the refinery has many years of operation is 38%.\n",
      "  3  38% of refineries have been operating for many years.\n",
      "  4  With a certainty of 38%, the refinery has been operating for a long time.\n",
      "  5  There is a 38% chance that the refinery is an old establishment.\n",
      "  6  38% of refineries have been operating for many years.\n",
      "  7  There is a 38% chance that the refinery is an older establishment.\n",
      "  8  The likelihood that the refinery has been operating for many years is 38%.\n",
      "  9  38% of refineries have been operating for many years.\n",
      " 10  38% of the time the refinery is quite old.\n",
      " 11  38% of the time the refinery is an old establishment.\n",
      " 12  There is a 38% chance that the refinery is an older establishment.\n",
      " 13  With a confidence of 38%, the refinery is an older establishment.\n",
      " 14  38% of the time refineries are older facilities.\n",
      " 15  38% of refineries have been operating for many years.\n",
      " 16  38% of the time the refinery has been operating for many years.\n",
      " 17  38% of the time the refinery has been operating for many years.\n",
      " 18  38% of the time the refinery has been operating for a long time.\n",
      " 19  There is a 38% likelihood that the refinery is quite old.\n",
      " 20  38% of the time the refinery is quite old.\n",
      " 21  38% of refineries are older facilities.\n",
      " 22  38% of refineries are older facilities.\n",
      " 23  38% of the time refineries are older facilities.\n",
      " 24  There is a 38% chance that refineries have been operating for many years.\n",
      " 25  The odds that the refinery has been operating for many years are 38%.\n",
      " 26  The odds that refineries are older facilities are 38%.\n",
      " 27  With a certainty of 38%, the refinery has many years of operation.\n",
      " 28  38% of the time the refinery has many years of operation.\n",
      " 29  38% of refineries have been operating for many years.\n"
     ]
    }
   ],
   "source": [
    "samples = []\n",
    "for _ in range(30):\n",
    "\tident = {\n",
    "\t\t'story_id': 0,\n",
    "\t\t'var_id': 0,\n",
    "\t\t'value_id': 1,\n",
    "\t\t\n",
    "\t\t# 'clause_id': 0,\n",
    "\t\t# 'position_id': 3,\n",
    "\t\t\n",
    "\t}\n",
    "\tctx = sample_text(ident, mean=0.38)\n",
    "\ttext = Template.detok(ctx['clause'], capitalize=True, sentence=True)\n",
    "\tident.update(ctx.identity())\n",
    "\tsamples.append({'text': text, 'ctx': ctx, 'ident': ident})\n",
    "\n",
    "cols = []\n",
    "for row in samples:\n",
    "\tfor key in row['ident']:\n",
    "\t\tif key not in cols:\n",
    "\t\t\tcols.append(key)\n",
    "\n",
    "table = [(i, \n",
    "\t\t  row['text'], \n",
    "\t\t  # row['ctx']['event'], row['ctx']['event'], row['ctx']['phrase'], row['ctx']['subject'], row['ctx']['verb'],  \n",
    "\t\t  # *[row['ident'].get(key, '-') for key in cols]\n",
    "\t\t  ) for i, row in enumerate(samples)]\n",
    "print(tabulate(table, headers=['i', 'text', *cols]))# *list(map(str, range(len(cols))))]))"
   ],
   "metadata": {
    "collapsed": false,
    "ExecuteTime": {
     "end_time": "2023-11-28T23:04:35.133169200Z",
     "start_time": "2023-11-28T23:04:34.974702100Z"
    }
   },
   "id": "8790ba39976af0d6"
  },
  {
   "cell_type": "code",
   "execution_count": 78,
   "outputs": [
    {
     "name": "stdout",
     "output_type": "stream",
     "text": [
      "The odds that this incident got limited coverage in the news are 62%.\n",
      "{'story_id': 0, 'var_id': 6, 'value_id': 0, 'verb_id': 2, 'clause_id': 1, 'position_id': 0, 'chance_word_id': 3}\n"
     ]
    }
   ],
   "source": [
    "sample = samples[0]\n",
    "ident = sample['ident']\n",
    "ctx = sample['ctx']\n",
    "text = sample['text']\n",
    "\n",
    "print(text)\n",
    "print(ident)"
   ],
   "metadata": {
    "collapsed": false,
    "ExecuteTime": {
     "end_time": "2023-11-28T15:59:53.828803246Z",
     "start_time": "2023-11-28T15:59:53.784457623Z"
    }
   },
   "id": "9d0d64ebfd8f51cc"
  },
  {
   "cell_type": "code",
   "execution_count": null,
   "outputs": [],
   "source": [],
   "metadata": {
    "collapsed": false
   },
   "id": "3cd787366e4e679d"
  },
  {
   "cell_type": "code",
   "execution_count": null,
   "outputs": [],
   "source": [],
   "metadata": {
    "collapsed": false
   },
   "id": "d7a845301396d1d3"
  },
  {
   "cell_type": "code",
   "execution_count": null,
   "outputs": [],
   "source": [],
   "metadata": {
    "collapsed": false
   },
   "id": "c7fa0d632a600a78"
  },
  {
   "cell_type": "code",
   "execution_count": null,
   "outputs": [],
   "source": [
    "ident = {}\n",
    "ctx = sample_text(ident, mean=0.57)\n",
    "\n",
    "\n",
    "\n",
    "text = Template.detok(ctx['clause'], capitalize=True, sentence=True)\n",
    "ident.update(ctx.identity())\n",
    "print(text)\n",
    "ident"
   ],
   "metadata": {
    "collapsed": false
   },
   "id": "d9d909ddbba12f12"
  },
  {
   "cell_type": "code",
   "execution_count": 33,
   "outputs": [
    {
     "name": "stdout",
     "output_type": "stream",
     "text": [
      "The chance that this incident was scarcely covered by the media is 57%.\n"
     ]
    },
    {
     "data": {
      "text/plain": "{'verb_id': 1, 'clause_id': 1, 'position_id': 0, 'chance_word_id': 1}"
     },
     "execution_count": 33,
     "metadata": {},
     "output_type": "execute_result"
    }
   ],
   "source": [
    "\n",
    "selection = {}\n",
    "\n",
    "\n",
    "\n",
    "\n",
    "story = random.choice(stories)\n",
    "varname = random.choice(list(rawverbs.keys()))\n",
    "varinfo = story['sheet'][varname]\n",
    "varval = 0\n",
    "\n",
    "ctx = ClauseVerbalization().populate_variable_info(info, mean=0.57).populate_default(precise_templates=precise_templates, position_templates=position_templates)\n",
    "\n",
    "# ctx['clause_id'] = 3\n",
    "ctx['position_id'] = 0\n",
    "\n",
    "text = Template.detok(ctx['clause'], capitalize=True, sentence=True)\n",
    "print(text)\n",
    "ctx.identity()"
   ],
   "metadata": {
    "collapsed": false,
    "ExecuteTime": {
     "end_time": "2023-11-28T15:36:36.356975911Z",
     "start_time": "2023-11-28T15:36:36.339666321Z"
    }
   },
   "id": "a615f931ea866100"
  },
  {
   "cell_type": "code",
   "execution_count": 10,
   "outputs": [],
   "source": [
    "# ClauseVerbalization._precise_templates[0]"
   ],
   "metadata": {
    "collapsed": false,
    "ExecuteTime": {
     "end_time": "2023-11-28T15:31:53.646470614Z",
     "start_time": "2023-11-28T15:31:53.633782175Z"
    }
   },
   "id": "cb7ccfec6057274e"
  },
  {
   "cell_type": "code",
   "execution_count": null,
   "outputs": [],
   "source": [],
   "metadata": {
    "collapsed": false
   },
   "id": "84adb6c628d96022"
  },
  {
   "cell_type": "code",
   "execution_count": null,
   "outputs": [],
   "source": [],
   "metadata": {
    "collapsed": false
   },
   "id": "87145c097f684a73"
  },
  {
   "cell_type": "code",
   "execution_count": 10,
   "outputs": [],
   "source": [],
   "metadata": {
    "collapsed": false,
    "ExecuteTime": {
     "end_time": "2023-11-28T15:31:58.875779123Z",
     "start_time": "2023-11-28T15:31:58.862463497Z"
    }
   },
   "id": "5531e86555338fac"
  },
  {
   "cell_type": "code",
   "execution_count": null,
   "outputs": [],
   "source": [],
   "metadata": {
    "collapsed": false
   },
   "id": "c32d952d9e328b8"
  },
  {
   "cell_type": "code",
   "execution_count": null,
   "outputs": [],
   "source": [],
   "metadata": {
    "collapsed": false
   },
   "id": "5052a520708b640"
  },
  {
   "cell_type": "code",
   "execution_count": 8,
   "outputs": [],
   "source": [
    "\n",
    "prob_words = ['probability', 'chance', 'likelihood']\n",
    "chance_words = ['probability', 'chance', 'likelihood', 'odds']\n",
    "\n"
   ],
   "metadata": {
    "collapsed": false,
    "ExecuteTime": {
     "end_time": "2023-11-28T14:39:52.537372963Z",
     "start_time": "2023-11-28T14:39:52.511392357Z"
    }
   },
   "id": "eca2719f35b8fe6d"
  },
  {
   "cell_type": "code",
   "execution_count": 18,
   "outputs": [],
   "source": [
    "def detok(tokens):\n",
    "\ttoks = [', ' if tok == ',' else tok for tok in tokens]\n",
    "\tsentence = ' '.join(toks) + '.'\n",
    "\treturn sentence.capitalize()"
   ],
   "metadata": {
    "collapsed": false,
    "ExecuteTime": {
     "end_time": "2023-11-27T15:47:41.226348946Z",
     "start_time": "2023-11-27T15:47:41.210297087Z"
    }
   },
   "id": "1aab35e99d67d976"
  },
  {
   "cell_type": "code",
   "execution_count": null,
   "outputs": [],
   "source": [
    "# 1. One of the variables is {descriptor}.\n",
    "# 2. {subject} [often/usually/sometimes/rarely/etc.] {predicate}.\n",
    "# 3. There is a [number]% chance that {noun-clause}.\n",
    "# 4. [In/For/With/etc.] [number]% of {domain}, there {phrase}.\n",
    "# 5. Conditional sentence: {condition}, [some consequence].\n",
    "# 6. Interventional: If {action}, [some effect]."
   ],
   "metadata": {
    "collapsed": false
   },
   "id": "eb8aeeebcf773cdf"
  },
  {
   "cell_type": "code",
   "execution_count": 19,
   "outputs": [
    {
     "ename": "NameError",
     "evalue": "name 'AbstractGadget' is not defined",
     "output_type": "error",
     "traceback": [
      "\u001B[0;31m---------------------------------------------------------------------------\u001B[0m",
      "\u001B[0;31mNameError\u001B[0m                                 Traceback (most recent call last)",
      "Cell \u001B[0;32mIn[19], line 1\u001B[0m\n\u001B[0;32m----> 1\u001B[0m \u001B[38;5;28;01mclass\u001B[39;00m \u001B[38;5;21;01mDictGadget\u001B[39;00m(\u001B[43mAbstractGadget\u001B[49m):\n\u001B[1;32m      2\u001B[0m \t_no_default \u001B[38;5;241m=\u001B[39m \u001B[38;5;28mobject\u001B[39m()\n\u001B[1;32m      3\u001B[0m \t\u001B[38;5;28;01mdef\u001B[39;00m \u001B[38;5;21m__init__\u001B[39m(\u001B[38;5;28mself\u001B[39m, data: \u001B[38;5;28mdict\u001B[39m[\u001B[38;5;28mstr\u001B[39m, Any], default_value\u001B[38;5;241m=\u001B[39m_no_default, gizmos: \u001B[38;5;28mlist\u001B[39m[\u001B[38;5;28mstr\u001B[39m] \u001B[38;5;241m=\u001B[39m \u001B[38;5;28;01mNone\u001B[39;00m, \u001B[38;5;241m*\u001B[39m\u001B[38;5;241m*\u001B[39mkwargs):\n",
      "\u001B[0;31mNameError\u001B[0m: name 'AbstractGadget' is not defined"
     ]
    }
   ],
   "source": [
    "# The man that she loved went home.\n",
    "# She realized that he loves her."
   ],
   "metadata": {
    "collapsed": false,
    "ExecuteTime": {
     "end_time": "2023-11-28T10:15:39.525389468Z",
     "start_time": "2023-11-28T10:15:39.473031079Z"
    }
   },
   "id": "238567e178379552"
  },
  {
   "cell_type": "code",
   "execution_count": null,
   "outputs": [],
   "source": [
    "# 1. One of the variables is {variable}.\n",
    "# 2. We estimate {subject} [often/usually/sometimes/rarely/etc.] {value}.\n",
    "# 3. There is a [number]% chance that {value}.\n",
    "# 4. [number]% of {domain} {value}.\n",
    "# 5. [number]% of the time {value}.\n",
    "# 6. Conditional sentence: {value}, [some consequence].\n",
    "# 7. Interventional: If {value}, [some effect]."
   ],
   "metadata": {
    "collapsed": false
   },
   "id": "28f852100b5fcba3"
  },
  {
   "cell_type": "code",
   "execution_count": null,
   "outputs": [],
   "source": [],
   "metadata": {
    "collapsed": false
   },
   "id": "27eac865d2408b88"
  },
  {
   "cell_type": "code",
   "execution_count": null,
   "outputs": [],
   "source": [],
   "metadata": {
    "collapsed": false,
    "ExecuteTime": {
     "end_time": "2023-11-27T15:11:52.536416030Z",
     "start_time": "2023-11-27T15:11:52.478641307Z"
    }
   },
   "id": "10620b6940b3b876"
  },
  {
   "cell_type": "code",
   "execution_count": null,
   "outputs": [],
   "source": [],
   "metadata": {
    "collapsed": false
   },
   "id": "960b14f65ddc10ec"
  }
 ],
 "metadata": {
  "kernelspec": {
   "display_name": "Python 3",
   "language": "python",
   "name": "python3"
  },
  "language_info": {
   "codemirror_mode": {
    "name": "ipython",
    "version": 2
   },
   "file_extension": ".py",
   "mimetype": "text/x-python",
   "name": "python",
   "nbconvert_exporter": "python",
   "pygments_lexer": "ipython2",
   "version": "2.7.6"
  }
 },
 "nbformat": 4,
 "nbformat_minor": 5
}

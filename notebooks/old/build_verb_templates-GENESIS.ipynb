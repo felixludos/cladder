{
 "cells": [
  {
   "cell_type": "code",
   "execution_count": 1,
   "id": "initial_id",
   "metadata": {
    "collapsed": true,
    "ExecuteTime": {
     "end_time": "2023-12-01T08:58:50.084837136Z",
     "start_time": "2023-12-01T08:58:47.362753258Z"
    }
   },
   "outputs": [],
   "source": [
    "from pathlib import Path\n",
    "from omnibelt import toposort, load_json, save_json, pformat, pformat_vars\n",
    "from itertools import product, combinations\n",
    "# import pyperclip\n",
    "import random\n",
    "from PIL import Image\n",
    "from graphviz import Digraph\n",
    "import matplotlib.pyplot as plt\n",
    "import io\n",
    "# import clipboard\n",
    "import networkx as nx\n",
    "from tqdm.notebook import tqdm\n",
    "from tabulate import tabulate\n",
    "import matplotlib.pyplot as plt\n",
    "import seaborn as sns\n",
    "from omniply import tool, ToolKit, Context\n",
    "\n",
    "import numpy as np\n",
    "import torch\n",
    "from causalbenchmark.novo.simulation.models import Bernoulli, ConditionalBernoulli, BernoulliNetwork\n",
    "from causalbenchmark.novo.seeding import NewsHeadlines, StatisticsPrompting, Story\n",
    "# from causalbenchmark.novo.seeding.prompting import GraphInfo\n",
    "from causalbenchmark.novo.templating import FixedTemplate, SimpleTemplater\n",
    "# from causalbenchmark.novo.verbalization import misc\n",
    "from causalbenchmark.novo import misc\n",
    "from causalbenchmark.novo.verbalization.decision import Decision\n",
    "from causalbenchmark.novo.templating import Template\n",
    "from causalbenchmark.novo.verbalization import Verbalizer, MarginalVerbalization, ConditionalVerbalization\n",
    "from causalbenchmark.novo.verbalization.variable import VariableVerbalization\n",
    "from causalbenchmark.novo.verbalization.flavors import PrecisePercent"
   ]
  },
  {
   "cell_type": "code",
   "execution_count": 2,
   "outputs": [
    {
     "name": "stdout",
     "output_type": "stream",
     "text": [
      "['Impact_of_Covid_on_Auto_Industry_Job_Market', 'NHS_Glasgow_Coronavirus_Outbreak_Impact_Study', 'Impact_of_Refurbished_Tech_on_Student_Performance_Milan']\n"
     ]
    }
   ],
   "source": [
    "path = misc.data_root() / 'stories'\n",
    "story_names = [p.stem for p in path.glob('*.json')]\n",
    "print(story_names)"
   ],
   "metadata": {
    "collapsed": false,
    "ExecuteTime": {
     "end_time": "2023-12-01T08:58:50.087693343Z",
     "start_time": "2023-12-01T08:58:50.085440372Z"
    }
   },
   "id": "c2b29a486f9094f2"
  },
  {
   "cell_type": "code",
   "execution_count": 3,
   "outputs": [
    {
     "data": {
      "text/plain": "3",
      "image/png": "[encoded data removed]",
      "text/latex": "$\\displaystyle 3$"
     },
     "execution_count": 3,
     "metadata": {},
     "output_type": "execute_result"
    }
   ],
   "source": [
    "use_old_loading = False\n",
    "# story_names = [\n",
    "# \t# 'old/test19', 'old/test20', 'old/test21',\n",
    "# \t# 'Facebook-WallStreet_Trends_Post-Verdict1',\n",
    "# \t# 'RoyalFashionTrends_Analysis2',\n",
    "# \t# 'EU Gas Alliance and Inflation Trends',\n",
    "# \t\n",
    "# \t'Impact_of_Covid_on_Auto_Industry_Job_Market',\n",
    "# \t\n",
    "# ]\n",
    "stories = []\n",
    "for name in story_names:\n",
    "\tstory = Story(story_root=misc.data_root() / 'stories', story_id=name)#.populate_defaults()\n",
    "\tstories.append(story)\n",
    "\tif use_old_loading:\n",
    "\t\tstory['stats'] = {int(k): v for k, v in story['stats'].items()}\n",
    "\t\tstory['verbs'] = {k: {int(k2): v2 for k2, v2 in v.items()} for k, v in story['verbs'].items()}\n",
    "\t\tfor k, v in story['verbs'].items():\n",
    "\t\t\tfor k2, v2 in v.items():\n",
    "\t\t\t\tif 'value' in v2:\n",
    "\t\t\t\t\tv2['value'] = {int(k3): v3 for k3, v3 in v2['value'].items()}\n",
    "\t\tstory['questions']['questions'] = {int(k): v for k, v in story['questions']['questions'].items()}\n",
    "len(stories)"
   ],
   "metadata": {
    "collapsed": false,
    "ExecuteTime": {
     "end_time": "2023-12-01T08:58:50.212605107Z",
     "start_time": "2023-12-01T08:58:50.089338498Z"
    }
   },
   "id": "604bd583b4084ccd"
  },
  {
   "cell_type": "code",
   "execution_count": 4,
   "outputs": [],
   "source": [
    "def old_story_atoms(story):\n",
    "\tvarverbs = {}\n",
    "\tfor var, raw in story['verbs'].items():\n",
    "\t\tinfo = {'values': {0: {}, 1: {}}}\n",
    "\t\t\n",
    "\t\tinfo['variable'] = raw[1]['variable']\n",
    "\t\tinfo['subject'] = raw[2]['subject']\n",
    "\t\tinfo['domain'] = raw[4]['domain']\n",
    "\t\t\n",
    "\t\tfor i in [0, 1]:\n",
    "\t\t\tinfo_val = info['values'][i]\n",
    "\t\t\tinfo_val['verb'] = raw[2]['value'][i] # goes with subject\n",
    "\t\t\tinfo_val['phrase'] = raw[3]['value'][i]\n",
    "\t\t\tinfo_val['descriptor'] = raw[4]['value'][i] # goes with domain\n",
    "\t\t\tinfo_val['event'] = raw[5]['value'][i]\n",
    "\t\t\tinfo_val['conditional'] = raw[6]['value'][i]\n",
    "\t\t\tinfo_val['interventional'] = raw[7]['value'][i]\n",
    "\t\t\t\n",
    "\t\tvarverbs[var] = info\n",
    "\t\n",
    "\tstory['sheet'] = varverbs\n",
    "\treturn story\n",
    "\n",
    "def story_atoms(story):\n",
    "\tbase_keys = ['descriptor', 'subject', 'pronoun', 'preposition', 'domain']\n",
    "\tvalue_keys = ['predicate', 'nounclause', 'subclause', 'condition', 'action']\n",
    "\tverbs = []\n",
    "\tfor node in story['nodes']:\n",
    "\t\traw = story['verbs'][node['name']]\n",
    "\t\tinfo = {'values': {0: {}, 1: {}}}\n",
    "\t\tinfo.update({key: raw[key] for key in base_keys})\n",
    "\t\tfor i in [0, 1]:\n",
    "\t\t\tinfo_val = info['values'][i]\n",
    "\t\t\tinfo_val.update({key: raw[f'{key}{i}'] for key in value_keys})\n",
    "\t\t# node['verbs'] = info\n",
    "\t\tverbs.append(info)\n",
    "\tstory['verbs'] = verbs\n",
    "for story in stories:\n",
    "\t(old_story_atoms if use_old_loading else story_atoms)(story)"
   ],
   "metadata": {
    "collapsed": false,
    "ExecuteTime": {
     "end_time": "2023-12-01T08:58:50.232680818Z",
     "start_time": "2023-12-01T08:58:50.211878363Z"
    }
   },
   "id": "172e69abce303632"
  },
  {
   "cell_type": "code",
   "execution_count": 5,
   "outputs": [],
   "source": [
    "story = random.choice(stories)\n",
    "# rawverbs = story['verbs']\n",
    "# rawvars = {node['name']: node for node in story['nodes']}\n",
    "# next(iter(rawverbs.values()))"
   ],
   "metadata": {
    "collapsed": false,
    "ExecuteTime": {
     "end_time": "2023-12-01T08:58:50.275389746Z",
     "start_time": "2023-12-01T08:58:50.217555386Z"
    }
   },
   "id": "f02461335f55fce0"
  },
  {
   "cell_type": "code",
   "execution_count": 6,
   "outputs": [
    {
     "data": {
      "text/plain": "('Government Economic Policy', 'No policy change')"
     },
     "execution_count": 6,
     "metadata": {},
     "output_type": "execute_result"
    }
   ],
   "source": [
    "node = random.choice(list(story['nodes']))\n",
    "varval = 0\n",
    "node['name'], node['values'][varval]"
   ],
   "metadata": {
    "collapsed": false,
    "ExecuteTime": {
     "end_time": "2023-12-01T08:58:50.275614102Z",
     "start_time": "2023-12-01T08:58:50.264682544Z"
    }
   },
   "id": "ad18af624f5ce543"
  },
  {
   "cell_type": "code",
   "execution_count": 7,
   "outputs": [],
   "source": [
    "def get_varverb(node, verb, varval, **static):\n",
    "\tvarverb = VariableVerbalization().populate_defaults().populate_variable({**node, **static}, verb, varval)\n",
    "\treturn varverb\n",
    "\n",
    "def sample_text(ident=None, *other_tools, **static):\n",
    "\tif ident is None:\n",
    "\t\tident = {}\n",
    "\tstory_id = ident.setdefault('story_id', random.randint(0,len(stories)-1))\n",
    "\tstory = stories[story_id]\n",
    "\t\n",
    "\tvar_id = ident.setdefault('var_id', random.randint(0,len(story['nodes'])-1))\n",
    "\tvarval = ident.setdefault('value_id', random.choice([0, 1]))\n",
    "\t\n",
    "\tvarverb = get_varverb(story['nodes'][var_id], story['verbs'][var_id], varval, **static)\n",
    "\n",
    "\tconditions = []\n",
    "\t\n",
    "\tparent_ids = {key: val for key, val in sorted(ident.items()) if key.startswith('parent_id')}\n",
    "\tif len(parent_ids) or ident.setdefault('num_parents', random.choice([0, 1, 2])):\n",
    "\t\tparent_idx_options = [i for i, node in enumerate(story['nodes']) if i != var_id]\n",
    "\t\tif not len(parent_ids):\n",
    "\t\t\tnum = ident.setdefault('num_parents', random.choice([0, 1, 2]))\n",
    "\t\t\tparent_ids = {f'parent_id{i}': pid for i, pid in enumerate(random.sample(parent_idx_options, k=num))}\n",
    "\t\t\n",
    "\t\tpvals = ident.setdefault('parent_vals', [random.randint(0, 1) for _ in range(len(parent_ids))])\n",
    "\t\tident['parent_vals'] = tuple(pvals)\n",
    "\t\tconditions = [get_varverb(story['nodes'][pid], story['verbs'][pid], pval) \n",
    "\t\t\t\t\t  for (key, pid), pval in zip(parent_ids.items(), pvals)]\n",
    "\t\tfor k, pid in parent_ids.items():\n",
    "\t\t\tident[k] = pid\n",
    "\t\n",
    "\tverbalizer = Verbalizer().populate_defaults().add_variable(varverb, *conditions)\n",
    "\tverbalizer.extend(other_tools)\n",
    "\tverbalizer.update(ident)\n",
    "\treturn verbalizer"
   ],
   "metadata": {
    "collapsed": false,
    "ExecuteTime": {
     "end_time": "2023-12-01T08:58:51.706908709Z",
     "start_time": "2023-12-01T08:58:51.681670054Z"
    }
   },
   "id": "37e1aaf88d56bd56"
  },
  {
   "cell_type": "code",
   "execution_count": 21,
   "outputs": [
    {
     "name": "stdout",
     "output_type": "stream",
     "text": [
      "i\n",
      "------------------------------------------------------------------------------\n",
      "There is a 12% probability that a student struggles with technology.\n",
      "Among 12% of students, a student's tech literacy is low.\n",
      "With a certainty of 12%, a student struggles with technology.\n",
      "Among 12% of students, there is a lack of technological proficiency.\n",
      "Among 12% of students, there is a lack of technological proficiency.\n",
      "There is a 12% chance that technological skills are lacking in a student.\n",
      "12% of the time a student is not tech-savvy.\n",
      "With a confidence of 12%, a student's tech literacy is low.\n",
      "Among 12% of students, a student's tech literacy is low.\n",
      "The likelihood that a student lacks technological expertise is 12%.\n",
      "There is a 12% probability that a student lacks technological expertise.\n",
      "There is a 12% probability that technological skills are lacking in a student.\n",
      "With a certainty of 12%, a student is not tech-savvy.\n",
      "There is a 12% chance that a student's tech literacy is low.\n",
      "With a confidence of 12%, a student's tech literacy is low.\n",
      "There is a 12% chance that a student struggles with technology.\n",
      "There is a 12% probability that a student is not tech-savvy.\n",
      "With a confidence of 12%, there is a lack of technological proficiency.\n",
      "Among 12% of students, a student's tech literacy is low.\n",
      "Among 12% of students, there is a lack of technological proficiency.\n",
      "12% of the time there is a lack of technological proficiency.\n",
      "The odds that a student is not tech-savvy are 12%.\n",
      "With a certainty of 12%, a student lacks technological expertise.\n",
      "12% of the time a student struggles with technology.\n",
      "With a certainty of 12%, a student is not tech-savvy.\n",
      "The chance that a student is not tech-savvy is 12%.\n",
      "The probability that a student is not tech-savvy is 12%.\n",
      "There is a 12% probability that a student lacks technological expertise.\n",
      "There is a 12% chance that a student is not tech-savvy.\n",
      "Among 12% of students, a student's tech literacy is low.\n"
     ]
    }
   ],
   "source": [
    "samples = []\n",
    "\n",
    "prior = {\n",
    "\t'story_id': 2,\n",
    "\t'var_id': 5,\n",
    "\t'value_id': 0,\n",
    "\t\n",
    "\t# 'clause_id': 0,\n",
    "\t# 'position_id': 3,\n",
    "\t\n",
    "\t'num_parents': 0,\n",
    "\t# 'parent_id1': 0,\n",
    "\t# 'parent_vals': [1],\n",
    "\t# 'parent_id2': 1,\n",
    "\t\n",
    "}\n",
    "\n",
    "others = [PrecisePercent()]\n",
    "\n",
    "for _ in range(30):\n",
    "\tident = prior.copy()\n",
    "\tctx = sample_text(ident, *others, mean=0.12)\n",
    "\ttext = ctx['sentence']\n",
    "\tident.update(ctx.identity())\n",
    "\tctx['ident'] = ident\n",
    "\tsamples.append(ctx)\n",
    "\n",
    "cols = []\n",
    "for row in samples:\n",
    "\tfor key in row['ident']:\n",
    "\t\tif key not in cols:\n",
    "\t\t\tcols.append(key)\n",
    "\n",
    "table = [(\n",
    "\t# i, len([k for k in row['ident'] if k not in prior]),\n",
    "\t\t  row['sentence'], \n",
    "\t\t  # row['ctx']['event'], row['ctx']['event'], row['ctx']['phrase'], row['ctx']['subject'], row['ctx']['verb'],  \n",
    "\t\t  # *[row['ident'].get(key, '-') for key in cols]\n",
    "\t\t  ) for i, row in enumerate(samples)]\n",
    "print(tabulate(table, headers=['i', 'dof', 'text', *cols]))# *list(map(str, range(len(cols))))]))"
   ],
   "metadata": {
    "collapsed": false,
    "ExecuteTime": {
     "end_time": "2023-12-01T09:07:13.786728509Z",
     "start_time": "2023-12-01T09:07:13.738955387Z"
    }
   },
   "id": "8790ba39976af0d6"
  },
  {
   "cell_type": "code",
   "execution_count": 11,
   "outputs": [
    {
     "name": "stdout",
     "output_type": "stream",
     "text": [
      "There is a 38% probability that economic indicators are positive, because there is robust growth in the global economy.\n",
      "{'story_id': 0, 'var_id': 0, 'value_id': 1, 'parent_id1': 0, 'parent_vals': [1], 'marginal_id': 0, 'chance_word_id': 0, 'antecedent_id': 0, 'cond_conjunction_id': 3, 'conditional_id': 1, 'clause_id': 2, 'subclause_id': 1, 'cond0_clause_id': 1, 'cond0_nounclause_id': 1}\n"
     ]
    }
   ],
   "source": [
    "sample = samples[0]\n",
    "ident = sample['ident']\n",
    "text = sample['sentence']\n",
    "\n",
    "print(text)\n",
    "print(ident)"
   ],
   "metadata": {
    "collapsed": false,
    "ExecuteTime": {
     "end_time": "2023-12-01T08:37:45.928224118Z",
     "start_time": "2023-12-01T08:37:45.883193871Z"
    }
   },
   "id": "9d0d64ebfd8f51cc"
  },
  {
   "cell_type": "code",
   "execution_count": null,
   "outputs": [],
   "source": [
    "\n",
    "class ParentVerbalization(ToolKit):\n",
    "\t@tool('antecedent')\n",
    "\tdef construct_antecedent(self, parents):\n",
    "\t\tpass\n"
   ],
   "metadata": {
    "collapsed": false
   },
   "id": "3cd787366e4e679d"
  },
  {
   "cell_type": "code",
   "execution_count": 10,
   "outputs": [],
   "source": [
    "cond_templates = [\n",
    "\t['{antecedent}', '{clause}'],\n",
    "\t['{clause},', '{antecedent}'],\n",
    "]\n",
    "\n",
    "@tool('antecedent')\n",
    "def construct_antecedent(parents):\n",
    "\t\n",
    "\t\n",
    "\t\n",
    "\tpass\n"
   ],
   "metadata": {
    "collapsed": false,
    "ExecuteTime": {
     "end_time": "2023-11-29T13:24:24.098559553Z",
     "start_time": "2023-11-29T13:24:24.046550252Z"
    }
   },
   "id": "390071951aed0d1d"
  },
  {
   "cell_type": "code",
   "execution_count": null,
   "outputs": [],
   "source": [],
   "metadata": {
    "collapsed": false
   },
   "id": "41fdb29c5d1ccd64"
  },
  {
   "cell_type": "code",
   "execution_count": null,
   "outputs": [],
   "source": [],
   "metadata": {
    "collapsed": false
   },
   "id": "d7a845301396d1d3"
  },
  {
   "cell_type": "code",
   "execution_count": null,
   "outputs": [],
   "source": [],
   "metadata": {
    "collapsed": false
   },
   "id": "c7fa0d632a600a78"
  },
  {
   "cell_type": "code",
   "execution_count": null,
   "outputs": [],
   "source": [
    "ident = {}\n",
    "ctx = sample_text(ident, mean=0.57)\n",
    "\n",
    "\n",
    "\n",
    "text = Template.detok(ctx['clause'], capitalize=True, sentence=True)\n",
    "ident.update(ctx.identity())\n",
    "print(text)\n",
    "ident"
   ],
   "metadata": {
    "collapsed": false
   },
   "id": "d9d909ddbba12f12"
  },
  {
   "cell_type": "code",
   "execution_count": 33,
   "outputs": [
    {
     "name": "stdout",
     "output_type": "stream",
     "text": [
      "The chance that this incident was scarcely covered by the media is 57%.\n"
     ]
    },
    {
     "data": {
      "text/plain": "{'verb_id': 1, 'clause_id': 1, 'position_id': 0, 'chance_word_id': 1}"
     },
     "execution_count": 33,
     "metadata": {},
     "output_type": "execute_result"
    }
   ],
   "source": [
    "\n",
    "selection = {}\n",
    "\n",
    "\n",
    "\n",
    "\n",
    "story = random.choice(stories)\n",
    "varname = random.choice(list(rawverbs.keys()))\n",
    "varinfo = story['sheet'][varname]\n",
    "varval = 0\n",
    "\n",
    "ctx = ClauseVerbalization().populate_variable_info(info, mean=0.57).populate_default(precise_templates=precise_templates, position_templates=position_templates)\n",
    "\n",
    "# ctx['clause_id'] = 3\n",
    "ctx['position_id'] = 0\n",
    "\n",
    "text = Template.detok(ctx['clause'], capitalize=True, sentence=True)\n",
    "print(text)\n",
    "ctx.identity()"
   ],
   "metadata": {
    "collapsed": false,
    "ExecuteTime": {
     "end_time": "2023-11-28T15:36:36.356975911Z",
     "start_time": "2023-11-28T15:36:36.339666321Z"
    }
   },
   "id": "a615f931ea866100"
  },
  {
   "cell_type": "code",
   "execution_count": 10,
   "outputs": [],
   "source": [
    "# ClauseVerbalization._precise_templates[0]"
   ],
   "metadata": {
    "collapsed": false,
    "ExecuteTime": {
     "end_time": "2023-11-28T15:31:53.646470614Z",
     "start_time": "2023-11-28T15:31:53.633782175Z"
    }
   },
   "id": "cb7ccfec6057274e"
  },
  {
   "cell_type": "code",
   "execution_count": null,
   "outputs": [],
   "source": [],
   "metadata": {
    "collapsed": false
   },
   "id": "84adb6c628d96022"
  },
  {
   "cell_type": "code",
   "execution_count": null,
   "outputs": [],
   "source": [],
   "metadata": {
    "collapsed": false
   },
   "id": "87145c097f684a73"
  },
  {
   "cell_type": "code",
   "execution_count": 10,
   "outputs": [],
   "source": [],
   "metadata": {
    "collapsed": false,
    "ExecuteTime": {
     "end_time": "2023-11-28T15:31:58.875779123Z",
     "start_time": "2023-11-28T15:31:58.862463497Z"
    }
   },
   "id": "5531e86555338fac"
  },
  {
   "cell_type": "code",
   "execution_count": null,
   "outputs": [],
   "source": [],
   "metadata": {
    "collapsed": false
   },
   "id": "c32d952d9e328b8"
  },
  {
   "cell_type": "code",
   "execution_count": null,
   "outputs": [],
   "source": [],
   "metadata": {
    "collapsed": false
   },
   "id": "5052a520708b640"
  },
  {
   "cell_type": "code",
   "execution_count": 8,
   "outputs": [],
   "source": [
    "\n",
    "prob_words = ['probability', 'chance', 'likelihood']\n",
    "chance_words = ['probability', 'chance', 'likelihood', 'odds']\n",
    "\n"
   ],
   "metadata": {
    "collapsed": false,
    "ExecuteTime": {
     "end_time": "2023-11-28T14:39:52.537372963Z",
     "start_time": "2023-11-28T14:39:52.511392357Z"
    }
   },
   "id": "eca2719f35b8fe6d"
  },
  {
   "cell_type": "code",
   "execution_count": 18,
   "outputs": [],
   "source": [
    "def detok(tokens):\n",
    "\ttoks = [', ' if tok == ',' else tok for tok in tokens]\n",
    "\tsentence = ' '.join(toks) + '.'\n",
    "\treturn sentence.capitalize()"
   ],
   "metadata": {
    "collapsed": false,
    "ExecuteTime": {
     "end_time": "2023-11-27T15:47:41.226348946Z",
     "start_time": "2023-11-27T15:47:41.210297087Z"
    }
   },
   "id": "1aab35e99d67d976"
  },
  {
   "cell_type": "code",
   "execution_count": null,
   "outputs": [],
   "source": [
    "# 1. One of the variables is {descriptor}.\n",
    "# 2. {subject} [often/usually/sometimes/rarely/etc.] {predicate}.\n",
    "# 3. There is a [number]% chance that {noun-clause}.\n",
    "# 4. [In/For/With/etc.] [number]% of {domain}, there {phrase}.\n",
    "# 5. Conditional sentence: {condition}, [some consequence].\n",
    "# 6. Interventional: If {action}, [some effect]."
   ],
   "metadata": {
    "collapsed": false
   },
   "id": "eb8aeeebcf773cdf"
  },
  {
   "cell_type": "code",
   "execution_count": 19,
   "outputs": [
    {
     "ename": "NameError",
     "evalue": "name 'AbstractGadget' is not defined",
     "output_type": "error",
     "traceback": [
      "\u001B[0;31m---------------------------------------------------------------------------\u001B[0m",
      "\u001B[0;31mNameError\u001B[0m                                 Traceback (most recent call last)",
      "Cell \u001B[0;32mIn[19], line 1\u001B[0m\n\u001B[0;32m----> 1\u001B[0m \u001B[38;5;28;01mclass\u001B[39;00m \u001B[38;5;21;01mDictGadget\u001B[39;00m(\u001B[43mAbstractGadget\u001B[49m):\n\u001B[1;32m      2\u001B[0m \t_no_default \u001B[38;5;241m=\u001B[39m \u001B[38;5;28mobject\u001B[39m()\n\u001B[1;32m      3\u001B[0m \t\u001B[38;5;28;01mdef\u001B[39;00m \u001B[38;5;21m__init__\u001B[39m(\u001B[38;5;28mself\u001B[39m, data: \u001B[38;5;28mdict\u001B[39m[\u001B[38;5;28mstr\u001B[39m, Any], default_value\u001B[38;5;241m=\u001B[39m_no_default, gizmos: \u001B[38;5;28mlist\u001B[39m[\u001B[38;5;28mstr\u001B[39m] \u001B[38;5;241m=\u001B[39m \u001B[38;5;28;01mNone\u001B[39;00m, \u001B[38;5;241m*\u001B[39m\u001B[38;5;241m*\u001B[39mkwargs):\n",
      "\u001B[0;31mNameError\u001B[0m: name 'AbstractGadget' is not defined"
     ]
    }
   ],
   "source": [
    "# The man that she loved went home.\n",
    "# She realized that he loves her."
   ],
   "metadata": {
    "collapsed": false,
    "ExecuteTime": {
     "end_time": "2023-11-28T10:15:39.525389468Z",
     "start_time": "2023-11-28T10:15:39.473031079Z"
    }
   },
   "id": "238567e178379552"
  },
  {
   "cell_type": "code",
   "execution_count": null,
   "outputs": [],
   "source": [
    "# 1. One of the variables is {variable}.\n",
    "# 2. We estimate {subject} [often/usually/sometimes/rarely/etc.] {value}.\n",
    "# 3. There is a [number]% chance that {value}.\n",
    "# 4. [number]% of {domain} {value}.\n",
    "# 5. [number]% of the time {value}.\n",
    "# 6. Conditional sentence: {value}, [some consequence].\n",
    "# 7. Interventional: If {value}, [some effect]."
   ],
   "metadata": {
    "collapsed": false
   },
   "id": "28f852100b5fcba3"
  },
  {
   "cell_type": "code",
   "execution_count": null,
   "outputs": [],
   "source": [],
   "metadata": {
    "collapsed": false
   },
   "id": "27eac865d2408b88"
  },
  {
   "cell_type": "code",
   "execution_count": null,
   "outputs": [],
   "source": [],
   "metadata": {
    "collapsed": false,
    "ExecuteTime": {
     "end_time": "2023-11-27T15:11:52.536416030Z",
     "start_time": "2023-11-27T15:11:52.478641307Z"
    }
   },
   "id": "10620b6940b3b876"
  },
  {
   "cell_type": "code",
   "execution_count": null,
   "outputs": [],
   "source": [],
   "metadata": {
    "collapsed": false
   },
   "id": "960b14f65ddc10ec"
  }
 ],
 "metadata": {
  "kernelspec": {
   "display_name": "Python 3",
   "language": "python",
   "name": "python3"
  },
  "language_info": {
   "codemirror_mode": {
    "name": "ipython",
    "version": 2
   },
   "file_extension": ".py",
   "mimetype": "text/x-python",
   "name": "python",
   "nbconvert_exporter": "python",
   "pygments_lexer": "ipython2",
   "version": "2.7.6"
  }
 },
 "nbformat": 4,
 "nbformat_minor": 5
}

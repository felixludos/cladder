{
 "cells": [
  {
   "cell_type": "code",
   "execution_count": 4,
   "id": "initial_id",
   "metadata": {
    "collapsed": true,
    "ExecuteTime": {
     "end_time": "2023-11-13T14:17:32.377287786Z",
     "start_time": "2023-11-13T14:17:32.376865062Z"
    }
   },
   "outputs": [],
   "source": [
    "from pathlib import Path\n",
    "import random\n",
    "from tqdm.notebook import tqdm\n",
    "from omnibelt import load_json, save_json\n",
    "import random"
   ]
  },
  {
   "cell_type": "code",
   "execution_count": 2,
   "outputs": [
    {
     "data": {
      "text/plain": "54"
     },
     "execution_count": 2,
     "metadata": {},
     "output_type": "execute_result"
    }
   ],
   "source": [
    "lang_clusters = {'en': ['au', 'ca', 'gb', 'ie', 'in', 'my', 'ng', 'nz', 'ph', 'sa', 'sg', 'us', 'za'],\n",
    "\t\t\t\t 'es': ['ar', 'co', 'cu', 'mx', 've'], 'de': ['at', 'ch', 'de'], 'fr': ['be', 'fr', 'ma'],\n",
    "\t\t\t\t 'zh': ['cn', 'hk', 'tw'], 'ar': ['ae', 'eg'], 'pt': ['br', 'pt'], 'bg': ['bg'], 'cs': ['cz'],\n",
    "\t\t\t\t 'el': ['gr'], 'he': ['il'], 'hu': ['hu'], 'id': ['id'], 'it': ['it'], 'ja': ['jp'], 'ko': ['kr'],\n",
    "\t\t\t\t 'lt': ['lt'], 'lv': ['lv'], 'nl': ['nl'], 'no': ['no'], 'pl': ['pl'], 'ro': ['ro'], 'ru': ['ru'],\n",
    "\t\t\t\t 'sv': ['se'], 'sl': ['si'], 'sk': ['sk'], 'sr': ['rs'], 'th': ['th'], 'tr': ['tr'], 'uk': ['ua']}\n",
    "loc_names = {'gb': 'United Kingdom', 'ar': 'Argentina', 'pl': 'Poland', 'sk': 'Slovakia', 'us': 'United States',\n",
    "\t\t\t 'eg': 'Egypt', 'no': 'Norway', 'ph': 'Philippines', 'at': 'Austria', 'rs': 'Serbia', 'tw': 'Taiwan',\n",
    "\t\t\t 'be': 'Belgium', 'cu': 'Cuba', 'sa': 'Saudi Arabia', 'th': 'Thailand', 'id': 'Indonesia',\n",
    "\t\t\t 'ru': 'Russian Federation', 'ch': 'Switzerland', 'fr': 'France', 'lt': 'Lithuania', 'tr': 'Turkey',\n",
    "\t\t\t 'de': 'Germany', 'cz': 'Czechia', 'pt': 'Portugal', 'ae': 'United Arab Emirates', 'it': 'Italy',\n",
    "\t\t\t 'cn': 'China', 'lv': 'Latvia', 'nl': 'Netherlands', 'hk': 'Hong Kong', 'ca': 'Canada', 'br': 'Brazil',\n",
    "\t\t\t 'hu': 'Hungary', 'kr': 'Korea', 'si': 'Slovenia', 'au': 'Australia', 'my': 'Malaysia', 'ie': 'Ireland',\n",
    "\t\t\t 'ua': 'Ukraine', 'in': 'India', 'ma': 'Morocco', 'bg': 'Bulgaria', 'ng': 'Nigeria', 'il': 'Israel',\n",
    "\t\t\t 'se': 'Sweden', 'za': 'South Africa', 've': 'Venezuela', 'nz': 'New Zealand', 'jp': 'Japan',\n",
    "\t\t\t 'sg': 'Singapore', 'gr': 'Greece', 'mx': 'Mexico', 'co': 'Colombia', 'ro': 'Romania'}\n",
    "lang_names = {'en': 'English', 'ko': 'Korean', 'ru': 'Russian', 'es': 'Spanish', 'pt': 'Portuguese', 'cs': 'Czech',\n",
    "\t\t\t  'tr': 'Turkish', 'nl': 'Dutch', 'ar': 'Arabic', 'fr': 'French', 'bg': 'Bulgarian', 'id': 'Indonesian',\n",
    "\t\t\t  'sk': 'Slovak', 'el': 'Greek', 'he': 'Hebrew', 'sr': 'Serbian', 'hu': 'Hungarian', 'th': 'Thai',\n",
    "\t\t\t  'zh': 'Chinese', 'no': 'Norwegian', 'sl': 'Slovenian', 'sv': 'Swedish', 'de': 'German', 'lv': 'Latvian',\n",
    "\t\t\t  'pl': 'Polish', 'it': 'Italian', 'ro': 'Romanian', 'lt': 'Lithuanian', 'ja': 'Japanese',\n",
    "\t\t\t  'uk': 'Ukrainian'}\n",
    "cluster_id = {loc: lang for lang, locs in lang_clusters.items() for loc in locs}\n",
    "len(cluster_id)"
   ],
   "metadata": {
    "collapsed": false,
    "ExecuteTime": {
     "end_time": "2023-11-13T14:16:32.400970452Z",
     "start_time": "2023-11-13T14:16:32.398810184Z"
    }
   },
   "id": "5d04a0e420ef837b"
  },
  {
   "cell_type": "code",
   "execution_count": 3,
   "outputs": [
    {
     "data": {
      "text/plain": "  0%|          | 0/54 [00:00<?, ?it/s]",
      "application/vnd.jupyter.widget-view+json": {
       "version_major": 2,
       "version_minor": 0,
       "model_id": "60138eb76a6b493494e5873660e74978"
      }
     },
     "metadata": {},
     "output_type": "display_data"
    },
    {
     "data": {
      "text/plain": "4719199"
     },
     "execution_count": 3,
     "metadata": {},
     "output_type": "execute_result"
    }
   ],
   "source": [
    "root = Path('/home/fleeb/workspace/local_data/nnn')\n",
    "recs = (root / 'babel-briefings-v1').glob('**/*.json')\n",
    "recs = list(recs)\n",
    "len(recs)\n",
    "articles = []\n",
    "for rec in tqdm(recs):\n",
    "\tarticles.extend([{'ID': art['ID'], \n",
    "\t\t\t\t\t  'title': art.get('en-title', art['title']), \n",
    "\t\t\t\t\t  'description': art.get('en-description', art['description']),\n",
    "\t\t\t\t\t  'content': art.get('en-content', art['content']),\n",
    "\t\t\t\t\t  'language': art['language']} for art in load_json(rec)])\n",
    "len(articles)"
   ],
   "metadata": {
    "collapsed": false,
    "ExecuteTime": {
     "end_time": "2023-11-13T14:17:32.377178161Z",
     "start_time": "2023-11-13T14:16:33.351884084Z"
    }
   },
   "id": "9b582f9afb73c156"
  },
  {
   "cell_type": "code",
   "execution_count": 4,
   "outputs": [],
   "source": [
    "# by_loc = {}\n",
    "# by_lang = {}\n",
    "# by_source = {}\n",
    "# by_ID = {}\n",
    "# for article in tqdm(articles):\n",
    "# \tby_ID[article['ID']] = article\n",
    "# \t# article['published'] = parser.parse(article['publishedAt'])\n",
    "# \tby_source.setdefault(article['source-name'], []).append(article)\n",
    "# \tby_lang.setdefault(article['language'], []).append(article)\n",
    "# \tfor instance in article['instances']:\n",
    "# \t\t# instance['collected'] = parser.parse(instance['collectedAt'])\n",
    "# \t\tby_loc.setdefault(instance['location'], []).append(article)\n",
    "# len(by_loc), len(by_lang)"
   ],
   "metadata": {
    "collapsed": false,
    "ExecuteTime": {
     "end_time": "2023-11-13T14:14:37.546219623Z",
     "start_time": "2023-11-13T14:14:37.512990124Z"
    }
   },
   "id": "f431b7e4201f4426"
  },
  {
   "cell_type": "code",
   "execution_count": 22,
   "outputs": [
    {
     "name": "stdout",
     "output_type": "stream",
     "text": [
      "```\n",
      "Title: Urgent.. Star Wafa Amer reveals the truth about the death of her mother - Al-Bashayer\n",
      "Description: Actress Wafa Amer announced her dissatisfaction with the recent rumors about her mother’s death following the deterioration of her health.\n",
      "Original Language: Arabic\n",
      "```\n",
      "\n",
      "```\n",
      "Title: Samsung Pay and why Russia bans the brand's phones - News.bg\n",
      "Description: Unexpected problems for the Korean giant\n",
      "Original Language: Bulgarian\n",
      "```\n",
      "\n",
      "```\n",
      "Title: Waiting for Casemiro - AS\n",
      "Description: Casemiro, who takes an unwanted break during the national team break after testing positive for coronavirus, will reach the limit to play in Villarreal.\n",
      "Original Language: Spanish\n",
      "```\n",
      "\n",
      "```\n",
      "Title: What symptoms are associated with liver cancer? -Deia\n",
      "Description: Researcher Saioa Gómez recalls that fatty liver is normally asymptomatic\n",
      "Original Language: Spanish\n",
      "```\n",
      "\n",
      "```\n",
      "Title: SHOCKING incident in Italy! A Lazio footballer has died! What happened and what the club officials said - SPORT.RO\n",
      "Description: Real-life tragedies also hit people involved in football, and this time the club from Rome was affected.\n",
      "Original Language: Romanian\n",
      "```\n",
      "\n",
      "```\n",
      "Title: How pensioners' pensions are taxed - naftemporiki.gr\n",
      "Description: Amounts corresponding to cuts and reductions in the main pensions of pensioners in the private sector, which were imposed between June 11, 2015 and until the publication of Law 4387/2016, i.e. until May 12, 2016, are paid without...\n",
      "Original Language: Greek\n",
      "```\n",
      "\n",
      "```\n",
      "Title: The silent killer that has similar symptoms to the coronavirus and may be lurking in your home - Health | News 24/7 - News247.gr\n",
      "Description: The appearance of a fever or a cough refers to the flu or coronavirus, but there is something else that is deadly and lurks mainly in the winter.\n",
      "Original Language: Greek\n",
      "```\n",
      "\n",
      "```\n",
      "Title: Barcelona Stars Take Pay Cut So Club Can Register New Signings - Balls.ie\n",
      "Description: Barcelona are an absolute mess.Long seen as the pinnacle of club football, the Catalan side have gone from the best in the world to an absolute shambles in the space ...\n",
      "Original Language: English\n",
      "```\n",
      "\n",
      "```\n",
      "Title: Huanggang Port builds an international science and technology innovation center integrating microelectronics, artificial intelligence and medicine - Hong Kong News - Real-time News - Headline Daily - Headline Daily\n",
      "Description: Huanggang Port is the first port between Shenzhen and Hong Kong to implement 24-hour customs clearance. Before the outbreak of the new coronavirus, more than 300,000 people went to Hong Kong from Huanggang Port every day. According to the Shenzhen Municipal Government Port Office, Huanggang...\n",
      "Original Language: Chinese\n",
      "```\n",
      "\n",
      "```\n",
      "Title: LR Vicenza corsair in Crotone, wins narrowly with a goal from Giacomelli - VicenzaToday\n",
      "Description: After a first half that ended goalless, but with several chances for the red and whites, in the second half Vicenza took the lead with a...\n",
      "Original Language: Italian\n",
      "```\n"
     ]
    }
   ],
   "source": [
    "batch = random.choices(articles, k=10)\n",
    "for art in batch:\n",
    "\t\n",
    "\tlines = [\n",
    "\t\t'```',\n",
    "\t\tf'Title: {art[\"title\"]}',\n",
    "\t\tf'Description: {art[\"description\"]}',\n",
    "\t\tf'Content: {art[\"content\"]}',\n",
    "\t\tf'Original Language: {lang_names[art[\"language\"]]}',\n",
    "\t\t'```',\n",
    "\t]\n",
    "\tif True or art['language'] in {'el', 'zh', 'ja', }:\n",
    "\t\tdel lines[3]\n",
    "\tprint(\"\\n\".join(lines))\n",
    "\tprint()"
   ],
   "metadata": {
    "collapsed": false,
    "ExecuteTime": {
     "end_time": "2023-11-13T15:10:52.529020229Z",
     "start_time": "2023-11-13T15:10:52.488109207Z"
    }
   },
   "id": "1d6688de00c75e8f"
  },
  {
   "cell_type": "code",
   "execution_count": null,
   "outputs": [],
   "source": [],
   "metadata": {
    "collapsed": false
   },
   "id": "5a2bf8812e865358"
  },
  {
   "cell_type": "code",
   "execution_count": null,
   "outputs": [],
   "source": [],
   "metadata": {
    "collapsed": false
   },
   "id": "4c2ca1a1acfff9d5"
  },
  {
   "cell_type": "code",
   "execution_count": null,
   "outputs": [],
   "source": [],
   "metadata": {
    "collapsed": false
   },
   "id": "ea37269d25095090"
  },
  {
   "cell_type": "code",
   "execution_count": 2,
   "outputs": [
    {
     "data": {
      "text/plain": "True"
     },
     "execution_count": 2,
     "metadata": {},
     "output_type": "execute_result"
    }
   ],
   "source": [
    "path = Path().absolute().parent / 'data' / 'general_gb.json'\n",
    "path.exists()"
   ],
   "metadata": {
    "collapsed": false,
    "ExecuteTime": {
     "end_time": "2023-10-05T14:43:44.108102500Z",
     "start_time": "2023-10-05T14:43:44.027582Z"
    }
   },
   "id": "1af4f098c21fc41e"
  },
  {
   "cell_type": "code",
   "execution_count": 3,
   "outputs": [
    {
     "data": {
      "text/plain": "6"
     },
     "execution_count": 3,
     "metadata": {},
     "output_type": "execute_result"
    }
   ],
   "source": [
    "full = load_json(path)\n",
    "len(full)"
   ],
   "metadata": {
    "collapsed": false,
    "ExecuteTime": {
     "end_time": "2023-10-05T14:43:44.144303800Z",
     "start_time": "2023-10-05T14:43:44.048282800Z"
    }
   },
   "id": "62ee6cc6ca87cab5"
  },
  {
   "cell_type": "code",
   "execution_count": 4,
   "outputs": [
    {
     "data": {
      "text/plain": "38"
     },
     "execution_count": 4,
     "metadata": {},
     "output_type": "execute_result"
    }
   ],
   "source": [
    "arts = full['articles']\n",
    "len(arts)"
   ],
   "metadata": {
    "collapsed": false,
    "ExecuteTime": {
     "end_time": "2023-10-05T14:43:44.148301700Z",
     "start_time": "2023-10-05T14:43:44.081075200Z"
    }
   },
   "id": "818bfb59a7d2bb7c"
  },
  {
   "cell_type": "code",
   "execution_count": 17,
   "outputs": [
    {
     "name": "stdout",
     "output_type": "stream",
     "text": [
      "```\n",
      "Title: Warm up with this cozy image of a hot spot on Jupiter - Space.com\n",
      "Description: \n",
      "```\n",
      "\n",
      "```\n",
      "Title: PM must reform the union or risk UK becoming a 'failed state' - Gordon Brown - Sky News\n",
      "Description: Gordon Brown says Boris Johnson should promote the armed forces and the NHS as examples of the union's \"everyday benefits\".\n",
      "```\n",
      "\n",
      "```\n",
      "Title: WhatsApp loses millions of users after terms update - The Guardian\n",
      "Description: Poorly-executed change of terms of service sends messaging app’s subscribers flocking to competitors\n",
      "```\n",
      "\n",
      "```\n",
      "Title: Adele celebrates 10th anniversary of album 21's release with rare Instagram post - Daily Mail\n",
      "Description: Taking to Instagram, the star admitted  she can't remember much about 'how she felt'  in 2011 but is so grateful for fans letting her be 'a soundtrack' to some of the last decade.\n",
      "```\n",
      "\n",
      "```\n",
      "Title: The best photos of snow from across Wales - WalesOnline\n",
      "Description: Some places could see more snow fall this evening\n",
      "```\n"
     ]
    }
   ],
   "source": [
    "for a in random.choices(arts, k=5):\n",
    "\tprint(f'''```\n",
    "Title: {a[\"title\"]}\n",
    "Description: {a[\"description\"]}\n",
    "```''') # Content: {a[\"content\"]}\n",
    "\tprint()"
   ],
   "metadata": {
    "collapsed": false,
    "ExecuteTime": {
     "end_time": "2023-10-06T08:54:47.500447600Z",
     "start_time": "2023-10-06T08:54:47.468684300Z"
    }
   },
   "id": "240d28913dfb9c5d"
  },
  {
   "cell_type": "code",
   "execution_count": null,
   "outputs": [],
   "source": [],
   "metadata": {
    "collapsed": false
   },
   "id": "9bed720ba68e3a41"
  },
  {
   "cell_type": "code",
   "execution_count": null,
   "outputs": [],
   "source": [],
   "metadata": {
    "collapsed": false
   },
   "id": "cdadc3947f344cb2"
  },
  {
   "cell_type": "code",
   "execution_count": null,
   "outputs": [],
   "source": [],
   "metadata": {
    "collapsed": false
   },
   "id": "29d7b89dcfd0768d"
  },
  {
   "cell_type": "code",
   "execution_count": null,
   "outputs": [],
   "source": [],
   "metadata": {
    "collapsed": false
   },
   "id": "31a90e954cd9e84f"
  }
 ],
 "metadata": {
  "kernelspec": {
   "display_name": "Python 3",
   "language": "python",
   "name": "python3"
  },
  "language_info": {
   "codemirror_mode": {
    "name": "ipython",
    "version": 2
   },
   "file_extension": ".py",
   "mimetype": "text/x-python",
   "name": "python",
   "nbconvert_exporter": "python",
   "pygments_lexer": "ipython2",
   "version": "2.7.6"
  }
 },
 "nbformat": 4,
 "nbformat_minor": 5
}

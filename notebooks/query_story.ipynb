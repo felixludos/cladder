{
 "cells": [
  {
   "cell_type": "code",
   "execution_count": 1,
   "outputs": [],
   "source": [
    "from pathlib import Path\n",
    "from omnibelt import toposort, load_json, save_json\n",
    "from itertools import product, combinations\n",
    "# import pyperclip\n",
    "import random\n",
    "import json\n",
    "from PIL import Image\n",
    "from graphviz import Digraph\n",
    "import matplotlib.pyplot as plt\n",
    "import io\n",
    "# import clipboard\n",
    "import networkx as nx\n",
    "from tqdm.notebook import tqdm\n",
    "from tabulate import tabulate\n",
    "import matplotlib.pyplot as plt\n",
    "import seaborn as sns\n",
    "from omniply import tool, ToolKit, Context\n",
    "\n",
    "import numpy as np\n",
    "import torch\n",
    "from causalbenchmark.novo.simulation.models import Bernoulli, ConditionalBernoulli, BernoulliNetwork\n",
    "from causalbenchmark.novo.seeding import NewsHeadlines, StatisticsPrompting, Story\n",
    "# from causalbenchmark.novo.seeding.prompting import GraphInfo\n",
    "from causalbenchmark.novo.templating import FixedTemplate, SimpleTemplater, FileTemplate\n",
    "from causalbenchmark.novo import misc"
   ],
   "metadata": {
    "collapsed": false,
    "ExecuteTime": {
     "end_time": "2024-01-05T16:07:45.345372068Z",
     "start_time": "2024-01-05T16:07:42.647686731Z"
    }
   },
   "id": "e4dbd77df7c7caae"
  },
  {
   "cell_type": "code",
   "execution_count": 351,
   "outputs": [
    {
     "data": {
      "text/plain": "  0%|          | 0/54 [00:00<?, ?it/s]",
      "application/vnd.jupyter.widget-view+json": {
       "version_major": 2,
       "version_minor": 0,
       "model_id": "8339a400d1604522af08c0187a552d8b"
      }
     },
     "metadata": {},
     "output_type": "display_data"
    },
    {
     "data": {
      "text/plain": "1419731",
      "image/png": "[encoded data removed]",
      "text/latex": "$\\displaystyle 1419731$"
     },
     "execution_count": 351,
     "metadata": {},
     "output_type": "execute_result"
    }
   ],
   "source": [
    "spark_generator = NewsHeadlines(#locs=['jp'], #['gb', 'de', 'fr', 'it', 'nl'], \n",
    "                                dataset_root=Path(r'/home/fleeb/workspace/local_data/nnn/babel-briefings-v1'),\n",
    "                                # dataset_root=Path(r'C:\\Users\\anwan\\Documents\\workspace\\nnn\\babel-briefings-v1'),\n",
    "                                # dataset_root=Path(r'C:\\Users\\anwan\\workspace\\local_data\\nnn\\babel-briefings-v1'),\n",
    "    cats = ['business', 'general'],\n",
    "    # business, entertainment, general, health, science, sports, technology\n",
    "                                ).load(pbar=tqdm)\n",
    "len(spark_generator.article_IDs)"
   ],
   "metadata": {
    "collapsed": false,
    "ExecuteTime": {
     "end_time": "2024-01-08T15:49:57.236766557Z",
     "start_time": "2024-01-08T15:49:03.977641565Z"
    }
   },
   "id": "a3e440a9e9d43579"
  },
  {
   "cell_type": "code",
   "execution_count": 717,
   "outputs": [
    {
     "name": "stdout",
     "output_type": "stream",
     "text": [
      "3370982\n",
      "Title: JR Kyudai Line fully opened, damaged by heavy rain, railway bridges in other sections reused (Asahi Shimbun Digital) - Yahoo! News - Yahoo! News\n",
      "Description: The JR Kyudai Line, which had been suspended due to heavy rain damage in July last year, resumed operations from the first train on the 1st between Bungomori (Kusu Town, Oita Prefecture) and Yufuin (Yufu City, Oita Prefecture), and the entire line is now open to traffic. Restoration efforts on the Hitahikoyama Line, which was damaged by heavy rains in 2017, have been abandoned.\n",
      "Original Language: Japanese\n"
     ]
    }
   ],
   "source": [
    "# ctx = Story(story_root=misc.data_root() / 'stories', story_id='Digital Transformation at Khalifa Port: Data-Driven Insights')\n",
    "ctx = Story(story_root=misc.data_root() / 'stories').populate_defaults()\n",
    "ctx.include(spark_generator,)\n",
    "# print(ctx)\n",
    "# ctx['seed'] = 5115792#2494534#91220#1684065#6805333\n",
    "print(ctx['seed'])\n",
    "print(ctx['spark'])"
   ],
   "metadata": {
    "collapsed": false,
    "ExecuteTime": {
     "end_time": "2024-01-10T13:25:48.031790117Z",
     "start_time": "2024-01-10T13:25:48.022649234Z"
    }
   },
   "id": "46baeb3a28e45ee"
  },
  {
   "cell_type": "code",
   "execution_count": 718,
   "outputs": [
    {
     "name": "stdout",
     "output_type": "stream",
     "text": [
      "We have a news article headline, and we would like to identify a potential specific analysis that could be motivated by the article. Importantly, we would like specific details to be mentioned in the setting, even if they don't show up in the original article, to paint a vivid picture of the motivation and potential features of the data.\n",
      "\n",
      "Here is the article headline:\n",
      "\n",
      "```\n",
      "Title: JR Kyudai Line fully opened, damaged by heavy rain, railway bridges in other sections reused (Asahi Shimbun Digital) - Yahoo! News - Yahoo! News\n",
      "Description: The JR Kyudai Line, which had been suspended due to heavy rain damage in July last year, resumed operations from the first train on the 1st between Bungomori (Kusu Town, Oita Prefecture) and Yufuin (Yufu City, Oita Prefecture), and the entire line is now open to traffic. Restoration efforts on the Hitahikoyama Line, which was damaged by heavy rains in 2017, have been abandoned.\n",
      "Original Language: Japanese\n",
      "```\n",
      "\n",
      "Write a 2-3 sentence introduction to a statistical analysis that could be motivated by this article. Be sure to include specific details about the data that would be used and the analysis that would be performed. You do not need to write the entire analysis, just the introduction. Avoid using any technical jargon (such as words like \"statistical analysis\" or \"model\" and avoid starting with \"imagine\") and make sure the introduction is accessible to laypeople (albeit in a professional setting), and the motivation is clear. Imagine a casual conversation between friends or colleagues about the article that may prompt some deeper quantitative analysis when thinking about it, and make sure this introduction would sound understandable and interesting to them.\n",
      "\n",
      "Answer in the form of a json dictionary with two entries: one for the `introduction` and one for a proposed `title` for this specific setting that can serve as a file name.\n"
     ]
    }
   ],
   "source": [
    "# if 'prompt_story' in ctx:\n",
    "#     del ctx['prompt_motivation']\n",
    "print(ctx['prompt_motivation'])"
   ],
   "metadata": {
    "collapsed": false,
    "ExecuteTime": {
     "end_time": "2024-01-10T13:25:55.575766028Z",
     "start_time": "2024-01-10T13:25:55.569784206Z"
    }
   },
   "id": "3785127939de600d"
  },
  {
   "cell_type": "code",
   "execution_count": 719,
   "outputs": [],
   "source": [
    "##############################################\n",
    "motivation_raw = '''\n",
    "{\n",
    "  \"introduction\": \"The recent reopening of the JR Kyudai Line, previously halted by heavy rain damage, presents an interesting opportunity to explore the relationship between extreme weather events and public transportation systems. By examining data on the frequency and severity of such weather events, along with the operational records of the railway, we could gain insights into how weather impacts rail travel, specifically looking at delays, cancellations, and restoration efforts.\",\n",
    "  \"title\": \"Impact_of_Extreme_Weather_on_JR_Kyudai_Line_Operations\"\n",
    "}\n",
    "\n",
    "'''\n",
    "##############################################\n",
    "ctx['motivation'] = json.loads(motivation_raw)"
   ],
   "metadata": {
    "collapsed": false,
    "ExecuteTime": {
     "end_time": "2024-01-10T13:26:29.720856875Z",
     "start_time": "2024-01-10T13:26:29.672945739Z"
    }
   },
   "id": "8f63a07ab974c0b7"
  },
  {
   "cell_type": "code",
   "execution_count": 720,
   "outputs": [
    {
     "name": "stdout",
     "output_type": "stream",
     "text": [
      "We are interested in building a causal model based on the explicit and implicit assumptions contained in the specified article and then using causal inference to evaluate the reasoning. Answer the following questions to design an interesting, simple, and most importantly realistic causal model from a news article.\n",
      "\n",
      "To help understand the instructions here are some tips:\n",
      "- all variables are always binary and (at least in principle) measurable, so when creating and selecting variables, make sure it is reasonable to treat them as binary\n",
      "- whenever you propose a variable, make sure to define the meaning of each value it can take, and mention whether it is observable or not\n",
      "- outcome variables are always observable, and should always have 2-3 causal parents (including treatment, mediator, and confounder variables)\n",
      "- treatment variables are always observable and intervenable, that means it must be possible to (at least in principle) change their value if desired, and these should generally have at least causal parent, and always at least one child\n",
      "- confounder variables may or may not be observable, and should always have 2-3 causal children and no causal parents\n",
      "- mediator variables may or may not be observable, and should always have 1-2 causal parents (for example, a treatment variable or confounder) and 1-2 causal children (for example, the outcome variable)\n",
      "- collider variables are always observable, and should always have 2-3 causal parents (for example, a treatment and outcome variable) and no causal children\n",
      "\n",
      "Here is the topic and original the news article headline:\n",
      "\n",
      "```\n",
      "Title: JR Kyudai Line fully opened, damaged by heavy rain, railway bridges in other sections reused (Asahi Shimbun Digital) - Yahoo! News - Yahoo! News\n",
      "Description: The JR Kyudai Line, which had been suspended due to heavy rain damage in July last year, resumed operations from the first train on the 1st between Bungomori (Kusu Town, Oita Prefecture) and Yufuin (Yufu City, Oita Prefecture), and the entire line is now open to traffic. Restoration efforts on the Hitahikoyama Line, which was damaged by heavy rains in 2017, have been abandoned.\n",
      "Original Language: Japanese\n",
      "\n",
      "The recent reopening of the JR Kyudai Line, previously halted by heavy rain damage, presents an interesting opportunity to explore the relationship between extreme weather events and public transportation systems. By examining data on the frequency and severity of such weather events, along with the operational records of the railway, we could gain insights into how weather impacts rail travel, specifically looking at delays, cancellations, and restoration efforts.\n",
      "```\n",
      "\n",
      "Begin by brainstorming some non-trivial interesting binary causal variables to construct a causal bayes net:\n",
      "\n",
      "1. Propose 1 outcome variable mentioned implicitly or explicitly in the introduction addressing some quantity that people are most likely to be interested in studying, especially if people tend to have misconceptions about it\n",
      "3. Propose 2 treatment variables that either directly or indirectly affect the selected outcome variable and are the most interesting to study. Make sure the treatment variables affect the outcome (possibly through a mediator).\n",
      "4. Propose 2 confounder variables that affect some reasonable combination of the outcome, treatment, and mediator variables in a non-trivial way. Make sure the confounders have at least one child.\n",
      "5. Propose 2 mediator variables that affect and are affected by some reasonable combination of any other variables in a non-trivial way. Make sure the mediators have both parents and children.\n",
      "6. Propose 1 collider variable that are affected by some reasonable combination of any other variables in a non-trivial way. Make sure the collider has at least two parents.\n",
      "\n",
      "The variables and causal graph should, where possible, use specific details such as names and locations mentioned in the article. Also, generally the variable value \"0\" should correspond to the negative, neutral, or control while the value \"1\" should correspond to the positive choice or active value.\n",
      "\n",
      "As part of the brainstorming you should briefly first list the names of all the proposed variables.\n",
      "\n",
      "Next, construct a causal graph using the proposed variables by listing all the edges in the graph. Make sure to into the outcome variable and both treatment variables, and some interesting and intuitive combination of the other variables (you don't have to use all the others). Important: Make sure the causal graph is a DAG and that each node has at most THREE parents!\n",
      "\n",
      "Formalize this causal graph in the form of a JSON list of variables where each variable contains the following fields:\n",
      "- `name`: the name of the variable\n",
      "- `description`: a short description of the variable\n",
      "- `type`: the type of the variable, which can be one of the following: `outcome`, `treatment`, `confounder`, `mediator`, `collider`\n",
      "- `observed`: a boolean value indicating whether the variable is observable or not\n",
      "- `values`: a JSON list of the descriptions of the values the variable can take (corresponding to the index)\n",
      "- `parents`: a JSON list of the names of the parents of the variable (make sure they match the corresponding `name` field of the parent nodes, and remember, there should not be more than three parents for any node)\n",
      "\n",
      "Aside from some brief brainstorming, answer concisely and precisely with a JSON list in the desired format.\n",
      "\n",
      "Take a deep breath and think step-by-step how you are going to do this.\n"
     ]
    }
   ],
   "source": [
    "# if 'prompt_graph' in ctx:\n",
    "#     del ctx['prompt_graph']\n",
    "# print(FileTemplate('graph').fill_in(ctx))\n",
    "print(ctx['prompt_graph'])"
   ],
   "metadata": {
    "collapsed": false,
    "ExecuteTime": {
     "end_time": "2024-01-10T13:26:30.162169385Z",
     "start_time": "2024-01-10T13:26:30.157096759Z"
    }
   },
   "id": "3dba22960a9e0ca4"
  },
  {
   "cell_type": "code",
   "execution_count": 731,
   "outputs": [],
   "source": [
    "# nodes = ctx['nodes']\n",
    "#################################################\n",
    "nodes_raw = '''\n",
    "[\n",
    "  {\n",
    "    \"name\": \"Rail Service Disruption\",\n",
    "    \"description\": \"Whether the rail service is significantly disrupted or not\",\n",
    "    \"type\": \"outcome\",\n",
    "    \"observed\": true,\n",
    "    \"values\": [\"No Disruption\", \"Significant Disruption\"],\n",
    "    \"parents\": [\"Emergency Response Preparedness\", \"Heavy Rain\", \"Maintenance Efficiency\"]\n",
    "  },\n",
    "  {\n",
    "    \"name\": \"Heavy Rain\",\n",
    "    \"description\": \"Incidence of heavy rain in the region\",\n",
    "    \"type\": \"treatment\",\n",
    "    \"observed\": true,\n",
    "    \"values\": [\"No Heavy Rain\", \"Heavy Rain\"],\n",
    "    \"parents\": [\"Regional Climate\"]\n",
    "  },\n",
    "  {\n",
    "    \"name\": \"Infrastructure Investment\",\n",
    "    \"description\": \"Level of investment in rail infrastructure\",\n",
    "    \"type\": \"treatment\",\n",
    "    \"observed\": true,\n",
    "    \"values\": [\"Low Investment\", \"High Investment\"],\n",
    "    \"parents\": [\"Government Policy\"]\n",
    "  },\n",
    "  {\n",
    "    \"name\": \"Regional Climate\",\n",
    "    \"description\": \"Climatic conditions of the region\",\n",
    "    \"type\": \"confounder\",\n",
    "    \"observed\": true,\n",
    "    \"values\": [\"Dry Climate\", \"Wet Climate\"],\n",
    "    \"parents\": []\n",
    "  },\n",
    "  {\n",
    "    \"name\": \"Government Policy\",\n",
    "    \"description\": \"Government policies affecting public transportation\",\n",
    "    \"type\": \"confounder\",\n",
    "    \"observed\": true,\n",
    "    \"values\": [\"Unfavorable Policies\", \"Favorable Policies\"],\n",
    "    \"parents\": []\n",
    "  },\n",
    "  {\n",
    "    \"name\": \"Maintenance Efficiency\",\n",
    "    \"description\": \"Efficiency of rail maintenance operations\",\n",
    "    \"type\": \"mediator\",\n",
    "    \"observed\": false,\n",
    "    \"values\": [\"Inefficient\", \"Efficient\"],\n",
    "    \"parents\": [\"Infrastructure Investment\", \"Heavy Rain\"]\n",
    "  },\n",
    "  {\n",
    "    \"name\": \"Emergency Response Preparedness\",\n",
    "    \"description\": \"Readiness of emergency response systems for rail incidents\",\n",
    "    \"type\": \"mediator\",\n",
    "    \"observed\": false,\n",
    "    \"values\": [\"Unprepared\", \"Prepared\"],\n",
    "    \"parents\": [\"Infrastructure Investment\", \"Government Policy\"]\n",
    "  },\n",
    "  {\n",
    "    \"name\": \"Public Perception of Rail Safety\",\n",
    "    \"description\": \"Public perception regarding the safety of the rail network\",\n",
    "    \"type\": \"collider\",\n",
    "    \"observed\": true,\n",
    "    \"values\": [\"Perceived as Unsafe\", \"Perceived as Safe\"],\n",
    "    \"parents\": [\"Heavy Rain\", \"Rail Service Disruption\"]\n",
    "  }\n",
    "]\n",
    "'''\n",
    "#################################################\n",
    "if len(nodes_raw):\n",
    "    nodes = json.loads(nodes_raw)\n",
    "varparents = {node['name']: node['parents'] for node in nodes}\n",
    "varorder = toposort(varparents)\n",
    "nodes = sorted(nodes, key=lambda x: varorder.index(x['name']))\n",
    "nodes = [node for node in nodes if len(node['parents']) or any(node['name'] in parent for parent in varparents.values())]\n",
    "ctx['nodes'] = nodes"
   ],
   "metadata": {
    "collapsed": false,
    "ExecuteTime": {
     "end_time": "2024-01-10T13:32:05.372437238Z",
     "start_time": "2024-01-10T13:32:05.327534468Z"
    }
   },
   "id": "f3fcf031d24d5d48"
  },
  {
   "cell_type": "code",
   "execution_count": 732,
   "outputs": [
    {
     "ename": "ValueError",
     "evalue": "Could not save to JPEG for display",
     "output_type": "error",
     "traceback": [
      "\u001B[0;31m---------------------------------------------------------------------------\u001B[0m",
      "\u001B[0;31mKeyError\u001B[0m                                  Traceback (most recent call last)",
      "File \u001B[0;32m~/miniconda3/lib/python3.11/site-packages/PIL/JpegImagePlugin.py:639\u001B[0m, in \u001B[0;36m_save\u001B[0;34m(im, fp, filename)\u001B[0m\n\u001B[1;32m    638\u001B[0m \u001B[38;5;28;01mtry\u001B[39;00m:\n\u001B[0;32m--> 639\u001B[0m     rawmode \u001B[38;5;241m=\u001B[39m \u001B[43mRAWMODE\u001B[49m\u001B[43m[\u001B[49m\u001B[43mim\u001B[49m\u001B[38;5;241;43m.\u001B[39;49m\u001B[43mmode\u001B[49m\u001B[43m]\u001B[49m\n\u001B[1;32m    640\u001B[0m \u001B[38;5;28;01mexcept\u001B[39;00m \u001B[38;5;167;01mKeyError\u001B[39;00m \u001B[38;5;28;01mas\u001B[39;00m e:\n",
      "\u001B[0;31mKeyError\u001B[0m: 'RGBA'",
      "\nThe above exception was the direct cause of the following exception:\n",
      "\u001B[0;31mOSError\u001B[0m                                   Traceback (most recent call last)",
      "File \u001B[0;32m~/miniconda3/lib/python3.11/site-packages/PIL/Image.py:643\u001B[0m, in \u001B[0;36mImage._repr_image\u001B[0;34m(self, image_format, **kwargs)\u001B[0m\n\u001B[1;32m    642\u001B[0m \u001B[38;5;28;01mtry\u001B[39;00m:\n\u001B[0;32m--> 643\u001B[0m     \u001B[38;5;28;43mself\u001B[39;49m\u001B[38;5;241;43m.\u001B[39;49m\u001B[43msave\u001B[49m\u001B[43m(\u001B[49m\u001B[43mb\u001B[49m\u001B[43m,\u001B[49m\u001B[43m \u001B[49m\u001B[43mimage_format\u001B[49m\u001B[43m,\u001B[49m\u001B[43m \u001B[49m\u001B[38;5;241;43m*\u001B[39;49m\u001B[38;5;241;43m*\u001B[39;49m\u001B[43mkwargs\u001B[49m\u001B[43m)\u001B[49m\n\u001B[1;32m    644\u001B[0m \u001B[38;5;28;01mexcept\u001B[39;00m \u001B[38;5;167;01mException\u001B[39;00m \u001B[38;5;28;01mas\u001B[39;00m e:\n",
      "File \u001B[0;32m~/miniconda3/lib/python3.11/site-packages/PIL/Image.py:2413\u001B[0m, in \u001B[0;36mImage.save\u001B[0;34m(self, fp, format, **params)\u001B[0m\n\u001B[1;32m   2412\u001B[0m \u001B[38;5;28;01mtry\u001B[39;00m:\n\u001B[0;32m-> 2413\u001B[0m     \u001B[43msave_handler\u001B[49m\u001B[43m(\u001B[49m\u001B[38;5;28;43mself\u001B[39;49m\u001B[43m,\u001B[49m\u001B[43m \u001B[49m\u001B[43mfp\u001B[49m\u001B[43m,\u001B[49m\u001B[43m \u001B[49m\u001B[43mfilename\u001B[49m\u001B[43m)\u001B[49m\n\u001B[1;32m   2414\u001B[0m \u001B[38;5;28;01mexcept\u001B[39;00m \u001B[38;5;167;01mException\u001B[39;00m:\n",
      "File \u001B[0;32m~/miniconda3/lib/python3.11/site-packages/PIL/JpegImagePlugin.py:642\u001B[0m, in \u001B[0;36m_save\u001B[0;34m(im, fp, filename)\u001B[0m\n\u001B[1;32m    641\u001B[0m     msg \u001B[38;5;241m=\u001B[39m \u001B[38;5;124mf\u001B[39m\u001B[38;5;124m\"\u001B[39m\u001B[38;5;124mcannot write mode \u001B[39m\u001B[38;5;132;01m{\u001B[39;00mim\u001B[38;5;241m.\u001B[39mmode\u001B[38;5;132;01m}\u001B[39;00m\u001B[38;5;124m as JPEG\u001B[39m\u001B[38;5;124m\"\u001B[39m\n\u001B[0;32m--> 642\u001B[0m     \u001B[38;5;28;01mraise\u001B[39;00m \u001B[38;5;167;01mOSError\u001B[39;00m(msg) \u001B[38;5;28;01mfrom\u001B[39;00m \u001B[38;5;21;01me\u001B[39;00m\n\u001B[1;32m    644\u001B[0m info \u001B[38;5;241m=\u001B[39m im\u001B[38;5;241m.\u001B[39mencoderinfo\n",
      "\u001B[0;31mOSError\u001B[0m: cannot write mode RGBA as JPEG",
      "\nThe above exception was the direct cause of the following exception:\n",
      "\u001B[0;31mValueError\u001B[0m                                Traceback (most recent call last)",
      "File \u001B[0;32m~/miniconda3/lib/python3.11/site-packages/IPython/core/formatters.py:344\u001B[0m, in \u001B[0;36mBaseFormatter.__call__\u001B[0;34m(self, obj)\u001B[0m\n\u001B[1;32m    342\u001B[0m     method \u001B[38;5;241m=\u001B[39m get_real_method(obj, \u001B[38;5;28mself\u001B[39m\u001B[38;5;241m.\u001B[39mprint_method)\n\u001B[1;32m    343\u001B[0m     \u001B[38;5;28;01mif\u001B[39;00m method \u001B[38;5;129;01mis\u001B[39;00m \u001B[38;5;129;01mnot\u001B[39;00m \u001B[38;5;28;01mNone\u001B[39;00m:\n\u001B[0;32m--> 344\u001B[0m         \u001B[38;5;28;01mreturn\u001B[39;00m \u001B[43mmethod\u001B[49m\u001B[43m(\u001B[49m\u001B[43m)\u001B[49m\n\u001B[1;32m    345\u001B[0m     \u001B[38;5;28;01mreturn\u001B[39;00m \u001B[38;5;28;01mNone\u001B[39;00m\n\u001B[1;32m    346\u001B[0m \u001B[38;5;28;01melse\u001B[39;00m:\n",
      "File \u001B[0;32m~/miniconda3/lib/python3.11/site-packages/PIL/Image.py:661\u001B[0m, in \u001B[0;36mImage._repr_jpeg_\u001B[0;34m(self)\u001B[0m\n\u001B[1;32m    656\u001B[0m \u001B[38;5;28;01mdef\u001B[39;00m \u001B[38;5;21m_repr_jpeg_\u001B[39m(\u001B[38;5;28mself\u001B[39m):\n\u001B[1;32m    657\u001B[0m \u001B[38;5;250m    \u001B[39m\u001B[38;5;124;03m\"\"\"iPython display hook support for JPEG format.\u001B[39;00m\n\u001B[1;32m    658\u001B[0m \n\u001B[1;32m    659\u001B[0m \u001B[38;5;124;03m    :returns: JPEG version of the image as bytes\u001B[39;00m\n\u001B[1;32m    660\u001B[0m \u001B[38;5;124;03m    \"\"\"\u001B[39;00m\n\u001B[0;32m--> 661\u001B[0m     \u001B[38;5;28;01mreturn\u001B[39;00m \u001B[38;5;28;43mself\u001B[39;49m\u001B[38;5;241;43m.\u001B[39;49m\u001B[43m_repr_image\u001B[49m\u001B[43m(\u001B[49m\u001B[38;5;124;43m\"\u001B[39;49m\u001B[38;5;124;43mJPEG\u001B[39;49m\u001B[38;5;124;43m\"\u001B[39;49m\u001B[43m)\u001B[49m\n",
      "File \u001B[0;32m~/miniconda3/lib/python3.11/site-packages/PIL/Image.py:646\u001B[0m, in \u001B[0;36mImage._repr_image\u001B[0;34m(self, image_format, **kwargs)\u001B[0m\n\u001B[1;32m    644\u001B[0m \u001B[38;5;28;01mexcept\u001B[39;00m \u001B[38;5;167;01mException\u001B[39;00m \u001B[38;5;28;01mas\u001B[39;00m e:\n\u001B[1;32m    645\u001B[0m     msg \u001B[38;5;241m=\u001B[39m \u001B[38;5;124mf\u001B[39m\u001B[38;5;124m\"\u001B[39m\u001B[38;5;124mCould not save to \u001B[39m\u001B[38;5;132;01m{\u001B[39;00mimage_format\u001B[38;5;132;01m}\u001B[39;00m\u001B[38;5;124m for display\u001B[39m\u001B[38;5;124m\"\u001B[39m\n\u001B[0;32m--> 646\u001B[0m     \u001B[38;5;28;01mraise\u001B[39;00m \u001B[38;5;167;01mValueError\u001B[39;00m(msg) \u001B[38;5;28;01mfrom\u001B[39;00m \u001B[38;5;21;01me\u001B[39;00m\n\u001B[1;32m    647\u001B[0m \u001B[38;5;28;01mreturn\u001B[39;00m b\u001B[38;5;241m.\u001B[39mgetvalue()\n",
      "\u001B[0;31mValueError\u001B[0m: Could not save to JPEG for display"
     ]
    },
    {
     "data": {
      "text/plain": "<PIL.PngImagePlugin.PngImageFile image mode=RGBA size=856x443>",
      "image/png": "[encoded data removed]"
     },
     "execution_count": 732,
     "metadata": {},
     "output_type": "execute_result"
    }
   ],
   "source": [
    "dot = Digraph(comment='Causal Model')\n",
    "node_styles = {\n",
    "    \"treatment\": {\"shape\": \"ellipse\", \"style\": \"filled\", \"color\": \"lightpink\"},\n",
    "    \"outcome\": {\"shape\": \"ellipse\", \"style\": \"filled\", \"color\": \"lightgreen\"},\n",
    "    \"confounder\": {\"shape\": \"diamond\", \"style\": \"filled\", \"color\": \"lightblue\"},\n",
    "    \"mediator\": {\"shape\": \"box\", \"style\": \"filled\", \"color\": \"lightyellow\"},\n",
    "    \"collider\": {\"shape\": \"box\", \"style\": \"filled\", \"color\": \"lightgray\"}\n",
    "}\n",
    "for node in ctx['nodes']:\n",
    "    style = node_styles.get(node[\"type\"], {\"shape\": \"ellipse\"})\n",
    "    dot.node(node[\"name\"], node[\"name\"], **style)\n",
    "for node in ctx['nodes']:\n",
    "    for parent in node[\"parents\"]:\n",
    "        dot.edge(parent, node[\"name\"])\n",
    "# dot.view()\n",
    "dot.render(str(misc.temp_root() / 'graph'), format='png')\n",
    "Image.open(misc.temp_root() / 'graph.png')"
   ],
   "metadata": {
    "collapsed": false,
    "ExecuteTime": {
     "end_time": "2024-01-10T13:32:05.999716898Z",
     "start_time": "2024-01-10T13:32:05.893167549Z"
    }
   },
   "id": "9f8b963c0ac35fa8"
  },
  {
   "cell_type": "code",
   "execution_count": 733,
   "outputs": [
    {
     "name": "stdout",
     "output_type": "stream",
     "text": [
      "\n",
      "We have a causal bayes net model for an analysis about this topic:\n",
      "\n",
      "The recent reopening of the JR Kyudai Line, previously halted by heavy rain damage, presents an interesting opportunity to explore the relationship between extreme weather events and public transportation systems. By examining data on the frequency and severity of such weather events, along with the operational records of the railway, we could gain insights into how weather impacts rail travel, specifically looking at delays, cancellations, and restoration efforts.\n",
      "\n",
      "Write a list of 4-8 concise and well-worded sentences that describe the structure and associated assumptions of the causal graph. The sentences should be ordered from describing the most noteworthy/surprising features of the graph to the most natural/intuitive features. Use an intuitive conversational style to describe the causal graph, and avoid using technical terms or jargon, but you can describe the variables and their relationships (including using terms like \"affects\", \"confounder\"/\"confounding\", \"mediator\"/\"mediates\") as long as you use them in a way that is understandable to a layperson. Refrain from mentioning words like \"causal inference\", \"model\", or \"variable\". Also, try to make the sentences flow together well, and avoid repeating yourself while still being thorough. Make sure not to mention the names or types of the variables in the graph, only what they represent to make the overview more natural. For each of the sentences, include a list of the variables in the causal model that are mentioned explicitly in the sentence (ordered in terms of importance).\n",
      "\n",
      "The meanings and parents of all the variables (all of which are binary) in the statistical model are:\n",
      "\n",
      "```\n",
      "[{'name': 'Regional Climate', 'description': 'Climatic conditions of the region', 'type': 'confounder', 'observed': True, 'values': ['Dry Climate', 'Wet Climate'], 'parents': []}, {'name': 'Heavy Rain', 'description': 'Incidence of heavy rain in the region', 'type': 'treatment', 'observed': True, 'values': ['No Heavy Rain', 'Heavy Rain'], 'parents': ['Regional Climate']}, {'name': 'Government Policy', 'description': 'Government policies affecting public transportation', 'type': 'confounder', 'observed': True, 'values': ['Unfavorable Policies', 'Favorable Policies'], 'parents': []}, {'name': 'Infrastructure Investment', 'description': 'Level of investment in rail infrastructure', 'type': 'treatment', 'observed': True, 'values': ['Low Investment', 'High Investment'], 'parents': ['Government Policy']}, {'name': 'Maintenance Efficiency', 'description': 'Efficiency of rail maintenance operations', 'type': 'mediator', 'observed': False, 'values': ['Inefficient', 'Efficient'], 'parents': ['Infrastructure Investment', 'Heavy Rain']}, {'name': 'Emergency Response Preparedness', 'description': 'Readiness of emergency response systems for rail incidents', 'type': 'mediator', 'observed': False, 'values': ['Unprepared', 'Prepared'], 'parents': ['Infrastructure Investment', 'Government Policy']}, {'name': 'Rail Service Disruption', 'description': 'Whether the rail service is significantly disrupted or not', 'type': 'outcome', 'observed': True, 'values': ['No Disruption', 'Significant Disruption'], 'parents': ['Emergency Response Preparedness', 'Heavy Rain', 'Maintenance Efficiency']}, {'name': 'Public Perception of Rail Safety', 'description': 'Public perception regarding the safety of the rail network', 'type': 'collider', 'observed': True, 'values': ['Perceived as Unsafe', 'Perceived as Safe'], 'parents': ['Heavy Rain', 'Rail Service Disruption']}]\n",
      "```\n",
      "\n",
      "Take a deep breath and think step-by-step how you are going to do this. Once you are ready, be sure to complete your answer in the form of a JSON list of sentences in the format:\n",
      "\n",
      "```json\n",
      "[\n",
      "\t{\"sentence\": \"[some sentence about assumptions/structure]\", \"involved\": [\"variable 1\", \"variable 2\", ...]},\n",
      "\t...\n",
      "]\n",
      "```\n"
     ]
    }
   ],
   "source": [
    "# if 'prompt_story' in ctx:\n",
    "#     del ctx['prompt_motivation']\n",
    "# print(FileTemplate('structure').fill_in(ctx))\n",
    "print(ctx['prompt_structure'])"
   ],
   "metadata": {
    "collapsed": false,
    "ExecuteTime": {
     "end_time": "2024-01-10T13:33:00.086275118Z",
     "start_time": "2024-01-10T13:33:00.043260239Z"
    }
   },
   "id": "b01d6f5a6f6c70ea"
  },
  {
   "cell_type": "code",
   "execution_count": 734,
   "outputs": [],
   "source": [
    "#################################################\n",
    "\n",
    "structure_raw = '''\n",
    "[\n",
    "\t{\"sentence\": \"The climate of the region surprisingly influences the incidence of heavy rain, suggesting that broader environmental factors play a significant role in more localized weather events.\", \"involved\": [\"Regional Climate\", \"Heavy Rain\"]},\n",
    "\t{\"sentence\": \"Government policies, which shape the level of investment in rail infrastructure, have a notable impact on the quality and resilience of the rail network.\", \"involved\": [\"Government Policy\", \"Infrastructure Investment\"]},\n",
    "\t{\"sentence\": \"Interestingly, both the amount of rain and the investment in infrastructure together determine how well maintenance operations can cope with weather-related challenges.\", \"involved\": [\"Heavy Rain\", \"Infrastructure Investment\", \"Maintenance Efficiency\"]},\n",
    "\t{\"sentence\": \"The readiness of emergency response systems for rail incidents is affected not only by the level of infrastructure investment but also by government policies, highlighting the complex interplay between policy and practical preparedness.\", \"involved\": [\"Infrastructure Investment\", \"Government Policy\", \"Emergency Response Preparedness\"]},\n",
    "\t{\"sentence\": \"Rail service disruptions hinge on several factors: the efficiency of maintenance operations, the preparedness of emergency response, and the incidence of heavy rain, reflecting a multifaceted approach to understanding rail service reliability.\", \"involved\": [\"Maintenance Efficiency\", \"Emergency Response Preparedness\", \"Heavy Rain\", \"Rail Service Disruption\"]},\n",
    "\t{\"sentence\": \"Public perception of rail safety is shaped both by the occurrence of heavy rain and the actual disruptions to rail service, indicating how external events and service quality combine to form public opinion.\", \"involved\": [\"Heavy Rain\", \"Rail Service Disruption\", \"Public Perception of Rail Safety\"]}\n",
    "]\n",
    "\n",
    "'''\n",
    "\n",
    "#################################################\n",
    "ctx['structure'] = json.loads(structure_raw)"
   ],
   "metadata": {
    "collapsed": false,
    "ExecuteTime": {
     "end_time": "2024-01-10T13:33:43.770071026Z",
     "start_time": "2024-01-10T13:33:43.728655134Z"
    }
   },
   "id": "9e6543cef8511170"
  },
  {
   "cell_type": "code",
   "execution_count": 735,
   "outputs": [
    {
     "name": "stdout",
     "output_type": "stream",
     "text": [
      "We have a causal bayes net based on the following topic:\n",
      "\n",
      "The recent reopening of the JR Kyudai Line, previously halted by heavy rain damage, presents an interesting opportunity to explore the relationship between extreme weather events and public transportation systems. By examining data on the frequency and severity of such weather events, along with the operational records of the railway, we could gain insights into how weather impacts rail travel, specifically looking at delays, cancellations, and restoration efforts.\n",
      "\n",
      "Now we would like to estimate the probabilities of certain events in a corresponding causal bayes net.\n",
      "\n",
      "Using commonsense, estimate the probabilities of the following events:\n",
      "\n",
      "1. what is the probability that \"Regional Climate\" is \"Wet Climate\" (rather than \"Dry Climate\")?\n",
      "2. when \"Regional Climate\" is \"Dry Climate\": what is the probability that \"Heavy Rain\" is \"Heavy Rain\" (rather than \"No Heavy Rain\")?\n",
      "3. when \"Regional Climate\" is \"Wet Climate\": what is the probability that \"Heavy Rain\" is \"Heavy Rain\" (rather than \"No Heavy Rain\")?\n",
      "4. what is the probability that \"Government Policy\" is \"Favorable Policies\" (rather than \"Unfavorable Policies\")?\n",
      "5. when \"Government Policy\" is \"Unfavorable Policies\": what is the probability that \"Infrastructure Investment\" is \"High Investment\" (rather than \"Low Investment\")?\n",
      "6. when \"Government Policy\" is \"Favorable Policies\": what is the probability that \"Infrastructure Investment\" is \"High Investment\" (rather than \"Low Investment\")?\n",
      "7. when \"Infrastructure Investment\" is \"Low Investment\" and \"Heavy Rain\" is \"No Heavy Rain\": what is the probability that \"Maintenance Efficiency\" is \"Efficient\" (rather than \"Inefficient\")?\n",
      "8. when \"Infrastructure Investment\" is \"Low Investment\" and \"Heavy Rain\" is \"Heavy Rain\": what is the probability that \"Maintenance Efficiency\" is \"Efficient\" (rather than \"Inefficient\")?\n",
      "9. when \"Infrastructure Investment\" is \"High Investment\" and \"Heavy Rain\" is \"No Heavy Rain\": what is the probability that \"Maintenance Efficiency\" is \"Efficient\" (rather than \"Inefficient\")?\n",
      "10. when \"Infrastructure Investment\" is \"High Investment\" and \"Heavy Rain\" is \"Heavy Rain\": what is the probability that \"Maintenance Efficiency\" is \"Efficient\" (rather than \"Inefficient\")?\n",
      "11. when \"Infrastructure Investment\" is \"Low Investment\" and \"Government Policy\" is \"Unfavorable Policies\": what is the probability that \"Emergency Response Preparedness\" is \"Prepared\" (rather than \"Unprepared\")?\n",
      "12. when \"Infrastructure Investment\" is \"Low Investment\" and \"Government Policy\" is \"Favorable Policies\": what is the probability that \"Emergency Response Preparedness\" is \"Prepared\" (rather than \"Unprepared\")?\n",
      "13. when \"Infrastructure Investment\" is \"High Investment\" and \"Government Policy\" is \"Unfavorable Policies\": what is the probability that \"Emergency Response Preparedness\" is \"Prepared\" (rather than \"Unprepared\")?\n",
      "14. when \"Infrastructure Investment\" is \"High Investment\" and \"Government Policy\" is \"Favorable Policies\": what is the probability that \"Emergency Response Preparedness\" is \"Prepared\" (rather than \"Unprepared\")?\n",
      "15. when \"Emergency Response Preparedness\" is \"Unprepared\" and \"Heavy Rain\" is \"No Heavy Rain\" and \"Maintenance Efficiency\" is \"Inefficient\": what is the probability that \"Rail Service Disruption\" is \"Significant Disruption\" (rather than \"No Disruption\")?\n",
      "16. when \"Emergency Response Preparedness\" is \"Unprepared\" and \"Heavy Rain\" is \"No Heavy Rain\" and \"Maintenance Efficiency\" is \"Efficient\": what is the probability that \"Rail Service Disruption\" is \"Significant Disruption\" (rather than \"No Disruption\")?\n",
      "17. when \"Emergency Response Preparedness\" is \"Unprepared\" and \"Heavy Rain\" is \"Heavy Rain\" and \"Maintenance Efficiency\" is \"Inefficient\": what is the probability that \"Rail Service Disruption\" is \"Significant Disruption\" (rather than \"No Disruption\")?\n",
      "18. when \"Emergency Response Preparedness\" is \"Unprepared\" and \"Heavy Rain\" is \"Heavy Rain\" and \"Maintenance Efficiency\" is \"Efficient\": what is the probability that \"Rail Service Disruption\" is \"Significant Disruption\" (rather than \"No Disruption\")?\n",
      "19. when \"Emergency Response Preparedness\" is \"Prepared\" and \"Heavy Rain\" is \"No Heavy Rain\" and \"Maintenance Efficiency\" is \"Inefficient\": what is the probability that \"Rail Service Disruption\" is \"Significant Disruption\" (rather than \"No Disruption\")?\n",
      "20. when \"Emergency Response Preparedness\" is \"Prepared\" and \"Heavy Rain\" is \"No Heavy Rain\" and \"Maintenance Efficiency\" is \"Efficient\": what is the probability that \"Rail Service Disruption\" is \"Significant Disruption\" (rather than \"No Disruption\")?\n",
      "21. when \"Emergency Response Preparedness\" is \"Prepared\" and \"Heavy Rain\" is \"Heavy Rain\" and \"Maintenance Efficiency\" is \"Inefficient\": what is the probability that \"Rail Service Disruption\" is \"Significant Disruption\" (rather than \"No Disruption\")?\n",
      "22. when \"Emergency Response Preparedness\" is \"Prepared\" and \"Heavy Rain\" is \"Heavy Rain\" and \"Maintenance Efficiency\" is \"Efficient\": what is the probability that \"Rail Service Disruption\" is \"Significant Disruption\" (rather than \"No Disruption\")?\n",
      "23. when \"Heavy Rain\" is \"No Heavy Rain\" and \"Rail Service Disruption\" is \"No Disruption\": what is the probability that \"Public Perception of Rail Safety\" is \"Perceived as Safe\" (rather than \"Perceived as Unsafe\")?\n",
      "24. when \"Heavy Rain\" is \"No Heavy Rain\" and \"Rail Service Disruption\" is \"Significant Disruption\": what is the probability that \"Public Perception of Rail Safety\" is \"Perceived as Safe\" (rather than \"Perceived as Unsafe\")?\n",
      "25. when \"Heavy Rain\" is \"Heavy Rain\" and \"Rail Service Disruption\" is \"No Disruption\": what is the probability that \"Public Perception of Rail Safety\" is \"Perceived as Safe\" (rather than \"Perceived as Unsafe\")?\n",
      "26. when \"Heavy Rain\" is \"Heavy Rain\" and \"Rail Service Disruption\" is \"Significant Disruption\": what is the probability that \"Public Perception of Rail Safety\" is \"Perceived as Safe\" (rather than \"Perceived as Unsafe\")?\n",
      "\n",
      "Where the variables are defined as:\n",
      "\"Regional Climate\" means \"Climatic conditions of the region\"\n",
      "\"Heavy Rain\" means \"Incidence of heavy rain in the region\"\n",
      "\"Government Policy\" means \"Government policies affecting public transportation\"\n",
      "\"Infrastructure Investment\" means \"Level of investment in rail infrastructure\"\n",
      "\"Maintenance Efficiency\" means \"Efficiency of rail maintenance operations\"\n",
      "\"Emergency Response Preparedness\" means \"Readiness of emergency response systems for rail incidents\"\n",
      "\"Rail Service Disruption\" means \"Whether the rail service is significantly disrupted or not\"\n",
      "\"Public Perception of Rail Safety\" means \"Public perception regarding the safety of the rail network\"\n",
      "\n",
      "For each question above, answer with the lower and upper bound estimates of the probabilities as a JSON object where the key corresponds to the question index in exactly the following format:\n",
      "\n",
      "```json\n",
      "{\n",
      "  \"1\": [0.3, 0.4],\n",
      "  ...\n",
      "}\n",
      "```\n",
      "\n",
      "Answer concisely and precisely in the desired format. Do not add any additional comments or discussion.\n"
     ]
    }
   ],
   "source": [
    "# if 'prompt_stats' in ctx:\n",
    "#     del ctx['descriptions']\n",
    "#     del ctx['prob_questions']\n",
    "#     del ctx['prompt_stats']\n",
    "# print(FileTemplate('stats').fill_in(ctx))\n",
    "print(ctx['prompt_stats'])"
   ],
   "metadata": {
    "collapsed": false,
    "ExecuteTime": {
     "end_time": "2024-01-10T13:33:44.755385079Z",
     "start_time": "2024-01-10T13:33:44.707520083Z"
    }
   },
   "id": "feaee31660914e5"
  },
  {
   "cell_type": "code",
   "execution_count": 736,
   "outputs": [],
   "source": [
    "# probabilities = ctx['stats']\n",
    "#################################################\n",
    "\n",
    "probabilities_raw = '''\n",
    "{\n",
    "  \"1\": [0.4, 0.6],\n",
    "  \"2\": [0.1, 0.2],\n",
    "  \"3\": [0.6, 0.8],\n",
    "  \"4\": [0.5, 0.7],\n",
    "  \"5\": [0.2, 0.4],\n",
    "  \"6\": [0.6, 0.8],\n",
    "  \"7\": [0.4, 0.6],\n",
    "  \"8\": [0.2, 0.4],\n",
    "  \"9\": [0.7, 0.9],\n",
    "  \"10\": [0.5, 0.7],\n",
    "  \"11\": [0.2, 0.3],\n",
    "  \"12\": [0.4, 0.6],\n",
    "  \"13\": [0.5, 0.7],\n",
    "  \"14\": [0.7, 0.9],\n",
    "  \"15\": [0.6, 0.8],\n",
    "  \"16\": [0.3, 0.5],\n",
    "  \"17\": [0.8, 0.9],\n",
    "  \"18\": [0.5, 0.7],\n",
    "  \"19\": [0.4, 0.6],\n",
    "  \"20\": [0.1, 0.3],\n",
    "  \"21\": [0.7, 0.8],\n",
    "  \"22\": [0.3, 0.5],\n",
    "  \"23\": [0.7, 0.9],\n",
    "  \"24\": [0.3, 0.5],\n",
    "  \"25\": [0.4, 0.6],\n",
    "  \"26\": [0.6, 0.8]\n",
    "}\n",
    "\n",
    "'''\n",
    "\n",
    "#################################################\n",
    "ctx['stats'] = json.loads(probabilities_raw)"
   ],
   "metadata": {
    "collapsed": false,
    "ExecuteTime": {
     "end_time": "2024-01-10T13:34:25.931969360Z",
     "start_time": "2024-01-10T13:34:25.882168361Z"
    }
   },
   "id": "43b3c05608ca33be"
  },
  {
   "cell_type": "code",
   "execution_count": 737,
   "outputs": [
    {
     "name": "stdout",
     "output_type": "stream",
     "text": [
      "-------------------------  --------------  ----------------------  ----------------------------------------------------------\n",
      "Heavy Rain                 No Heavy Rain   Heavy Rain              Incidence of heavy rain in the region\n",
      "Infrastructure Investment  Low Investment  High Investment         Level of investment in rail infrastructure\n",
      "Rail Service Disruption    No Disruption   Significant Disruption  Whether the rail service is significantly disrupted or not\n",
      "-------------------------  --------------  ----------------------  ----------------------------------------------------------\n"
     ]
    },
    {
     "data": {
      "text/plain": "  0%|          | 0/20 [00:00<?, ?it/s]",
      "application/vnd.jupyter.widget-view+json": {
       "version_major": 2,
       "version_minor": 0,
       "model_id": "5833a90c2d6147d48d3e9c4f67d2e48d"
      }
     },
     "metadata": {},
     "output_type": "display_data"
    },
    {
     "name": "stderr",
     "output_type": "stream",
     "text": [
      "/home/fleeb/miniconda3/lib/python3.11/site-packages/torch/masked/maskedtensor/core.py:156: UserWarning: The PyTorch API of MaskedTensors is in prototype stage and will change in the near future. Please open a Github issue for features requests and see our documentation on the torch.masked module for further information about the project.\n",
      "  warnings.warn((\"The PyTorch API of MaskedTensors is in prototype stage \"\n"
     ]
    },
    {
     "name": "stdout",
     "output_type": "stream",
     "text": [
      "'Regional Climate' means Climatic conditions of the region\n",
      "'Heavy Rain' means Incidence of heavy rain in the region\n",
      "'Government Policy' means Government policies affecting public transportation\n",
      "'Infrastructure Investment' means Level of investment in rail infrastructure\n",
      "'Maintenance Efficiency' means Efficiency of rail maintenance operations\n",
      "'Emergency Response Preparedness' means Readiness of emergency response systems for rail incidents\n",
      "'Rail Service Disruption' means Whether the rail service is significantly disrupted or not\n",
      "'Public Perception of Rail Safety' means Public perception regarding the safety of the rail network\n",
      "Treatment Value    Treatment                  Outcome Value           Outcome                        ATE    Correlation\n",
      "-----------------  -------------------------  ----------------------  -----------------------  ---------  -------------\n",
      "Heavy Rain         Heavy Rain                 Significant Disruption  Rail Service Disruption   0.257849       0.246204\n",
      "High Investment    Infrastructure Investment  Significant Disruption  Rail Service Disruption  -0.144856      -0.153578\n"
     ]
    }
   ],
   "source": [
    "raw_prob_samples = []\n",
    "def to_prob_range(raw):\n",
    "    raw = [prange for _, prange in sorted(raw.items(), key=lambda item: int(item[0]))]\n",
    "    return torch.tensor(raw)\n",
    "\n",
    "prob_ranges = to_prob_range(ctx['stats'])\n",
    "lower_bound, upper_bound = prob_ranges.t()\n",
    "\n",
    "net = BernoulliNetwork({node['name']: node['parents'] for node in ctx['nodes']})\n",
    "\n",
    "def mc_samples(N, *fns):\n",
    "    estimates = []\n",
    "    for _ in tqdm(range(N)):\n",
    "        param_sample = torch.rand(len(prob_ranges)) * (upper_bound - lower_bound) + lower_bound\n",
    "        net.set_params(param_sample)\n",
    "        estimates.append([fn() for fn in fns])\n",
    "    return torch.tensor(estimates)\n",
    "def make_ate_fn(treatment, outcome, conditions=None):\n",
    "    def ate_fn():\n",
    "        return net.ate(treatment, outcome, conditions=conditions).item()\n",
    "    return ate_fn\n",
    "def make_corr_fn(v1, v2):\n",
    "    def corr_fn():\n",
    "        return net.correlation(v1, v2).item()\n",
    "    return corr_fn\n",
    "treatment1, treatment2 = [n for n in ctx['treatments']]\n",
    "# t1vals = [node['values'] for node in ctx['nodes'] if node['name'] == treatment1][0]\n",
    "# t2vals = [node['values'] for node in ctx['nodes'] if node['name'] == treatment2][0]\n",
    "outcome = ctx['outcome']#['name']\n",
    "# ovals = [node['values'] for node in ctx['nodes'] if node['name'] == outcome][0]\n",
    "confounders = [node for node in ctx['confounders']]\n",
    "\n",
    "print(tabulate([\n",
    "    [treatment1['name'], *treatment1['values'], treatment1['description']],\n",
    "    [treatment2['name'], *treatment2['values'], treatment2['description']],\n",
    "    [outcome['name'], *outcome['values'], outcome['description']],\n",
    "]))\n",
    "\n",
    "cate_keys = [(treatment, confounder, cval) for treatment in ctx['treatments'] for confounder in ctx['confounders'] for cval in [0, 1]]\n",
    "cate_fns = [make_ate_fn(treatment['name'], outcome['name'], conditions={confounder['name']: val}) for treatment, confounder, val in cate_keys]\n",
    "ate1, ate2, corr1, corr2, *cates = mc_samples(20, make_ate_fn(treatment1['name'], outcome['name']), make_ate_fn(treatment2['name'], outcome['name']),\n",
    "                                      make_corr_fn(treatment1['name'], outcome['name']), make_corr_fn(treatment2['name'], outcome['name']), *cate_fns).t()\n",
    "\n",
    "print('\\n'.join(f'{node[\"name\"]!r} means {node[\"description\"]}' for node in ctx['nodes']))\n",
    "print(tabulate([\n",
    "    [f'{treatment1[\"values\"][1]}', f'{treatment1[\"name\"]}', f'{outcome[\"values\"][1]}', f'{outcome[\"name\"]}', ate1.mean(), corr1.mean(), ],\n",
    "    [f'{treatment2[\"values\"][1]}', f'{treatment2[\"name\"]}', f'{outcome[\"values\"][1]}', f'{outcome[\"name\"]}', ate2.mean(), corr2.mean(), ],\n",
    "], headers=['Treatment Value', 'Treatment', 'Outcome Value', 'Outcome', 'ATE', 'Correlation']))"
   ],
   "metadata": {
    "collapsed": false,
    "ExecuteTime": {
     "end_time": "2024-01-10T13:34:37.434030479Z",
     "start_time": "2024-01-10T13:34:26.399368616Z"
    }
   },
   "id": "72b141894423bdcb"
  },
  {
   "cell_type": "code",
   "execution_count": 738,
   "outputs": [
    {
     "name": "stderr",
     "output_type": "stream",
     "text": [
      "/home/fleeb/miniconda3/lib/python3.11/site-packages/torch/masked/maskedtensor/core.py:156: UserWarning: The PyTorch API of MaskedTensors is in prototype stage and will change in the near future. Please open a Github issue for features requests and see our documentation on the torch.masked module for further information about the project.\n",
      "  warnings.warn((\"The PyTorch API of MaskedTensors is in prototype stage \"\n",
      "WARNING:dowhy.causal_identifier.auto_identifier: No directed path from treatment to outcome. Causal Effect is zero.\n",
      "WARNING:dowhy.causal_identifier.auto_identifier: No directed path from treatment to outcome. Causal Effect is zero.\n",
      "WARNING:dowhy.causal_identifier.auto_identifier: No directed path from treatment to outcome. Causal Effect is zero.\n",
      "WARNING:dowhy.causal_identifier.auto_identifier: No directed path from treatment to outcome. Causal Effect is zero.\n",
      "WARNING:dowhy.causal_identifier.auto_identifier: No directed path from treatment to outcome. Causal Effect is zero.\n",
      "WARNING:dowhy.causal_identifier.auto_identifier: No directed path from treatment to outcome. Causal Effect is zero.\n",
      "WARNING:dowhy.causal_identifier.auto_identifier: No directed path from treatment to outcome. Causal Effect is zero.\n",
      "WARNING:dowhy.causal_identifier.auto_identifier: No directed path from treatment to outcome. Causal Effect is zero.\n",
      "WARNING:dowhy.causal_identifier.auto_identifier: No directed path from treatment to outcome. Causal Effect is zero.\n",
      "WARNING:dowhy.causal_identifier.auto_identifier: No directed path from treatment to outcome. Causal Effect is zero.\n",
      "WARNING:dowhy.causal_identifier.auto_identifier: No directed path from treatment to outcome. Causal Effect is zero.\n",
      "WARNING:dowhy.causal_identifier.auto_identifier: No directed path from treatment to outcome. Causal Effect is zero.\n",
      "WARNING:dowhy.causal_identifier.auto_identifier: No directed path from treatment to outcome. Causal Effect is zero.\n",
      "WARNING:dowhy.causal_identifier.auto_identifier: No directed path from treatment to outcome. Causal Effect is zero.\n",
      "WARNING:dowhy.causal_identifier.auto_identifier: No directed path from treatment to outcome. Causal Effect is zero.\n",
      "WARNING:dowhy.causal_identifier.auto_identifier: No directed path from treatment to outcome. Causal Effect is zero.\n",
      "WARNING:dowhy.causal_identifier.auto_identifier: No directed path from treatment to outcome. Causal Effect is zero.\n",
      "WARNING:dowhy.causal_identifier.auto_identifier: No directed path from treatment to outcome. Causal Effect is zero.\n",
      "WARNING:dowhy.causal_identifier.auto_identifier: No directed path from treatment to outcome. Causal Effect is zero.\n",
      "WARNING:dowhy.causal_identifier.auto_identifier: No directed path from treatment to outcome. Causal Effect is zero.\n",
      "WARNING:dowhy.causal_identifier.auto_identifier: No directed path from treatment to outcome. Causal Effect is zero.\n",
      "WARNING:dowhy.causal_identifier.auto_identifier: No directed path from treatment to outcome. Causal Effect is zero.\n",
      "WARNING:dowhy.causal_identifier.auto_identifier: No directed path from treatment to outcome. Causal Effect is zero.\n",
      "WARNING:dowhy.causal_identifier.auto_identifier: No directed path from treatment to outcome. Causal Effect is zero.\n",
      "WARNING:dowhy.causal_identifier.auto_identifier: No directed path from treatment to outcome. Causal Effect is zero.\n",
      "WARNING:dowhy.causal_identifier.auto_identifier: No directed path from treatment to outcome. Causal Effect is zero.\n",
      "WARNING:dowhy.causal_identifier.auto_identifier: No directed path from treatment to outcome. Causal Effect is zero.\n",
      "WARNING:dowhy.causal_identifier.auto_identifier: No directed path from treatment to outcome. Causal Effect is zero.\n",
      "WARNING:dowhy.causal_identifier.auto_identifier: No directed path from treatment to outcome. Causal Effect is zero.\n",
      "WARNING:dowhy.causal_identifier.auto_identifier: No directed path from treatment to outcome. Causal Effect is zero.\n",
      "WARNING:dowhy.causal_identifier.auto_identifier: No directed path from treatment to outcome. Causal Effect is zero.\n",
      "WARNING:dowhy.causal_identifier.auto_identifier: No directed path from treatment to outcome. Causal Effect is zero.\n",
      "WARNING:dowhy.causal_identifier.auto_identifier: No directed path from treatment to outcome. Causal Effect is zero.\n",
      "WARNING:dowhy.causal_identifier.auto_identifier: No directed path from treatment to outcome. Causal Effect is zero.\n",
      "WARNING:dowhy.causal_identifier.auto_identifier: No directed path from treatment to outcome. Causal Effect is zero.\n"
     ]
    },
    {
     "name": "stdout",
     "output_type": "stream",
     "text": [
      "Treatment                                             ATE    Correlation  Outcome\n",
      "--------------------------------------------------  -----  -------------  --------------------------------------------------\n",
      "Wet Climate Regional Climate                         0.61           0.61  Heavy Rain Heavy Rain\n",
      "Wet Climate Regional Climate                         0              0     Favorable Policies Government Policy\n",
      "Wet Climate Regional Climate                         0              0     High Investment Infrastructure Investment\n",
      "Wet Climate Regional Climate                        -0.15          -0.16  Efficient Maintenance Efficiency\n",
      "Wet Climate Regional Climate                         0              0     Prepared Emergency Response Preparedness\n",
      "Wet Climate Regional Climate                         0.16           0.16  Significant Disruption Rail Service Disruption\n",
      "Wet Climate Regional Climate                        -0.07          -0.07  Perceived as Safe Public Perception of Rail Safety\n",
      "Heavy Rain Heavy Rain                                0              0.61  Wet Climate Regional Climate\n",
      "Heavy Rain Heavy Rain                                0             -0     Favorable Policies Government Policy\n",
      "Heavy Rain Heavy Rain                                0              0     High Investment Infrastructure Investment\n",
      "Heavy Rain Heavy Rain                               -0.25          -0.26  Efficient Maintenance Efficiency\n",
      "Heavy Rain Heavy Rain                                0              0     Prepared Emergency Response Preparedness\n",
      "Heavy Rain Heavy Rain                                0.27           0.26  Significant Disruption Rail Service Disruption\n",
      "Heavy Rain Heavy Rain                               -0.08          -0.12  Perceived as Safe Public Perception of Rail Safety\n",
      "Favorable Policies Government Policy                 0              0     Wet Climate Regional Climate\n",
      "Favorable Policies Government Policy                 0              0     Heavy Rain Heavy Rain\n",
      "Favorable Policies Government Policy                 0.41           0.4   High Investment Infrastructure Investment\n",
      "Favorable Policies Government Policy                 0.09           0.09  Efficient Maintenance Efficiency\n",
      "Favorable Policies Government Policy                 0.43           0.41  Prepared Emergency Response Preparedness\n",
      "Favorable Policies Government Policy                -0.1           -0.1   Significant Disruption Rail Service Disruption\n",
      "Favorable Policies Government Policy                 0.01           0.01  Perceived as Safe Public Perception of Rail Safety\n",
      "High Investment Infrastructure Investment            0             -0     Wet Climate Regional Climate\n",
      "High Investment Infrastructure Investment            0             -0     Heavy Rain Heavy Rain\n",
      "High Investment Infrastructure Investment            0              0.4   Favorable Policies Government Policy\n",
      "High Investment Infrastructure Investment            0.21           0.21  Efficient Maintenance Efficiency\n",
      "High Investment Infrastructure Investment            0.28           0.4   Prepared Emergency Response Preparedness\n",
      "High Investment Infrastructure Investment           -0.11          -0.12  Significant Disruption Rail Service Disruption\n",
      "High Investment Infrastructure Investment            0.01           0.01  Perceived as Safe Public Perception of Rail Safety\n",
      "Efficient Maintenance Efficiency                     0             -0.16  Wet Climate Regional Climate\n",
      "Efficient Maintenance Efficiency                     0             -0.26  Heavy Rain Heavy Rain\n",
      "Efficient Maintenance Efficiency                     0              0.09  Favorable Policies Government Policy\n",
      "Efficient Maintenance Efficiency                     0              0.21  High Investment Infrastructure Investment\n",
      "Efficient Maintenance Efficiency                     0              0.08  Prepared Emergency Response Preparedness\n",
      "Efficient Maintenance Efficiency                    -0.26          -0.31  Significant Disruption Rail Service Disruption\n",
      "Efficient Maintenance Efficiency                     0              0.05  Perceived as Safe Public Perception of Rail Safety\n",
      "Prepared Emergency Response Preparedness             0              0     Wet Climate Regional Climate\n",
      "Prepared Emergency Response Preparedness             0              0     Heavy Rain Heavy Rain\n",
      "Prepared Emergency Response Preparedness             0              0.45  Favorable Policies Government Policy\n",
      "Prepared Emergency Response Preparedness             0              0.43  High Investment Infrastructure Investment\n",
      "Prepared Emergency Response Preparedness             0              0.09  Efficient Maintenance Efficiency\n",
      "Prepared Emergency Response Preparedness            -0.19          -0.21  Significant Disruption Rail Service Disruption\n",
      "Prepared Emergency Response Preparedness             0.02           0.02  Perceived as Safe Public Perception of Rail Safety\n",
      "Significant Disruption Rail Service Disruption       0              0.17  Wet Climate Regional Climate\n",
      "Significant Disruption Rail Service Disruption       0              0.28  Heavy Rain Heavy Rain\n",
      "Significant Disruption Rail Service Disruption       0             -0.11  Favorable Policies Government Policy\n",
      "Significant Disruption Rail Service Disruption       0             -0.14  High Investment Infrastructure Investment\n",
      "Significant Disruption Rail Service Disruption       0             -0.32  Efficient Maintenance Efficiency\n",
      "Significant Disruption Rail Service Disruption       0             -0.21  Prepared Emergency Response Preparedness\n",
      "Significant Disruption Rail Service Disruption      -0.08          -0.12  Perceived as Safe Public Perception of Rail Safety\n",
      "Perceived as Safe Public Perception of Rail Safety   0             -0.03  Wet Climate Regional Climate\n",
      "Perceived as Safe Public Perception of Rail Safety   0              0     Heavy Rain Heavy Rain\n",
      "Perceived as Safe Public Perception of Rail Safety   0              0.01  Favorable Policies Government Policy\n",
      "Perceived as Safe Public Perception of Rail Safety   0              0.01  High Investment Infrastructure Investment\n",
      "Perceived as Safe Public Perception of Rail Safety   0              0.07  Efficient Maintenance Efficiency\n",
      "Perceived as Safe Public Perception of Rail Safety   0              0.02  Prepared Emergency Response Preparedness\n",
      "Perceived as Safe Public Perception of Rail Safety   0             -0.01  Significant Disruption Rail Service Disruption\n"
     ]
    },
    {
     "data": {
      "text/plain": "<Figure size 800x400 with 1 Axes>",
      "image/png": "[encoded data removed]"
     },
     "metadata": {},
     "output_type": "display_data"
    },
    {
     "data": {
      "text/plain": "<Figure size 800x400 with 1 Axes>",
      "image/png": "[encoded data removed]"
     },
     "metadata": {},
     "output_type": "display_data"
    }
   ],
   "source": [
    "plt.figure(figsize=(8, 4))\n",
    "sns.kdeplot(ate1, label=f'{treatment1[\"values\"][1]} = {treatment1[\"name\"]}', fill=True, clip=(min(ate1), max(ate1)));\n",
    "sns.kdeplot(ate2, label=f'{treatment2[\"values\"][1]} = {treatment2[\"name\"]}', fill=True, clip=(min(ate2), max(ate2)));\n",
    "plt.title(f'{outcome[\"values\"][1]} = {outcome[\"name\"]}')\n",
    "plt.ylabel(f'P(ATE)')\n",
    "plt.gca().legend(loc='upper center', bbox_to_anchor=(0.5, -.1))\n",
    "plt.axvline(0, color='black', linestyle='--', alpha=0.5)\n",
    "# plt.xlim(-1, 1)\n",
    "plt.tight_layout();\n",
    "\n",
    "plt.figure(figsize=(8, 4))\n",
    "sns.kdeplot(corr1, label=f'{treatment1[\"values\"][1]} = {treatment1[\"name\"]}', fill=True, clip=(min(corr1), max(corr1)));\n",
    "sns.kdeplot(corr2, label=f'{treatment2[\"values\"][1]} = {treatment2[\"name\"]}', fill=True, clip=(min(corr2), max(corr2)));\n",
    "plt.title(f'{outcome[\"values\"][1]} = {outcome[\"name\"]}')\n",
    "plt.ylabel(f'P(Correlation)')\n",
    "plt.gca().legend(loc='upper center', bbox_to_anchor=(0.5, -.1))\n",
    "plt.axvline(0, color='black', linestyle='--', alpha=0.5)\n",
    "# plt.xlim(-1, 1)\n",
    "plt.tight_layout();\n",
    "\n",
    "mn1, mx1 = ate1.min().item(), ate1.max().item()\n",
    "mu1 = ate1.mean().item()\n",
    "# assert mn1 * mx1 > 0, f'{mn1} * {mx1} < 0'\n",
    "mn2, mx2 = ate2.min().item(), ate2.max().item()\n",
    "mu2 = ate2.mean().item()\n",
    "# assert mn2 * mx2 > 0, f'{mn2} * {mx2} < 0'\n",
    "ctx['ate1'] = ate1.mean().item()\n",
    "ctx['ate2'] = ate2.mean().item()\n",
    "reverse1 = mu1 < 0\n",
    "reverse2 = mu2 < 0\n",
    "# print(tabulate([(node['name'], *node['values'], node['description']) for node in ctx['nodes']], headers=['Variable Name', 'Value 0', 'Value 1', 'Description']))\n",
    "# outcome = [node['name'] for node in ctx['nodes'] if node['type'] == 'outcome'][0]\n",
    "tbl = []\n",
    "\n",
    "for node1, node2 in product(ctx['nodes'], ctx['nodes']):\n",
    "    if node1 != node2:\n",
    "        tbl.append([\n",
    "                    f'{node1[\"values\"][1]} {node1[\"name\"]}', \n",
    "                    f\"{net.ate(node1['name'], node2['name']).item():.2f}\", \n",
    "                    f\"{net.correlation(node1['name'], node2['name']).item():.2f}\",\n",
    "                    f'{node2[\"values\"][1]} {node2[\"name\"]}', \n",
    "                    # node1['description'], \n",
    "                    # node2['description'], \n",
    "                    ])\n",
    "print(tabulate(tbl, headers=['Treatment', 'ATE', 'Correlation', 'Outcome', \n",
    "                             # 'Treatment Description', 'Outcome Description'\n",
    "                             ]))\n",
    "\n",
    "# print(net.backdoor_estimand(treatment1['name'], outcome['name']))\n",
    "# print(net.backdoor_estimand(treatment2['name'], outcome['name']))"
   ],
   "metadata": {
    "collapsed": false,
    "ExecuteTime": {
     "end_time": "2024-01-10T13:34:41.482227724Z",
     "start_time": "2024-01-10T13:34:37.432051096Z"
    }
   },
   "id": "91c54e61480a1489"
  },
  {
   "cell_type": "code",
   "execution_count": 739,
   "outputs": [
    {
     "name": "stdout",
     "output_type": "stream",
     "text": [
      "We would like to find very natural verbalizations of the following binary variables selected from a statistical model. The verbalizations should sound more natural and organic, so that you could imagine them being used in a newspaper article or casual conversation, while still being semantically equivalent to the variable and value definition.\n",
      "\n",
      "Here are the templates that we use to verbalize the variables:\n",
      "\n",
      "1. One of the variables is {descriptor}.\n",
      "2. {subject} [often/usually/sometimes/rarely/etc.] {predicate#}. (with pronoun: {pronoun})\n",
      "3. There is a [number]% chance that {nounclause#}.\n",
      "4. {preposition} [number]% of {domain}, {subclause#}.\n",
      "5. Conditional sentence: {condition#}, [some consequence].\n",
      "6. Interventional: If {action#}, [some effect].\n",
      "\n",
      "Variable 'Regional Climate' (0='Dry Climate', 1='Wet Climate') means Climatic conditions of the region\n",
      "Variable 'Heavy Rain' (0='No Heavy Rain', 1='Heavy Rain') means Incidence of heavy rain in the region\n",
      "Variable 'Government Policy' (0='Unfavorable Policies', 1='Favorable Policies') means Government policies affecting public transportation\n",
      "Variable 'Infrastructure Investment' (0='Low Investment', 1='High Investment') means Level of investment in rail infrastructure\n",
      "Variable 'Maintenance Efficiency' (0='Inefficient', 1='Efficient') means Efficiency of rail maintenance operations\n",
      "Variable 'Emergency Response Preparedness' (0='Unprepared', 1='Prepared') means Readiness of emergency response systems for rail incidents\n",
      "Variable 'Rail Service Disruption' (0='No Disruption', 1='Significant Disruption') means Whether the rail service is significantly disrupted or not\n",
      "Variable 'Public Perception of Rail Safety' (0='Perceived as Unsafe', 1='Perceived as Safe') means Public perception regarding the safety of the rail network\n",
      "\n",
      "Here are some examples of verbalizations of the variable. For each of the templates fill in the blanks in the curly braces (and include 2-3 examples for each template, sorted from highest quality to least). Format your response as a JSON object. When replacing a key that ends in \"#\", make sure to include some examples for both values (0 and 1) that the variables can take. For example, a variable \"Smoking Rate\" which takes the values \"Low Smoking Rate\"=0 and \"High Smoking Rate\"=1 can be verbalized like this:\n",
      "\n",
      "```json\n",
      "{\n",
      "  \"Smoking Rate\": {\n",
      "    \"descriptor\": [\"the smoking rate\", \"prevalence of smokers\"],\n",
      "    \"subject\": \"people\",\n",
      "    \"predicate0\": [\"do not smoke\", \"are non-smokers\"],\n",
      "    \"predicate1\": [\"smoke\", \"are smokers\"],\n",
      "    \"pronoun\": \"they\",\n",
      "    \"nounclause0\": [\"people do not smoke\", \"people are non-smokers\"],\n",
      "    \"nounclause1\": [\"people smoke\", \"people are smokers\"],\n",
      "    \"preposition\": [\"in\", \"for\"],\n",
      "    \"domain\": \"cases\",\n",
      "    \"subclause0\": [\"a person does not smoke\", \"there is no smoking habit\"],\n",
      "    \"subclause1\": [\"a person smokes\", \"there is a smoking habit\"],\n",
      "    \"condition0\": [\"among non-smokers\", \"for people that do not smoke\"],\n",
      "    \"condition1\": [\"among smokers\", \"for people that smoke\"],\n",
      "    \"action0\": [\"people quit smoking\", \"people become non-smokers\"],\n",
      "    \"action1\": [\"people become smokers\", \"people take up smoking\"]\n",
      "  },\n",
      "  ...\n",
      "}\n",
      "```\n",
      "\n",
      "Answer concisely and precisely in the desired format, and only replace the blanks in curly braces. Do not add any additional comments or discussion. Most importantly, the verbalizations should not contain quantitative information like \"often\" or \"rarely\" aluding to the liklihood of the variable taking that value, and instead always neutrally assert the value of the variable definition in a precise, creative, and most importantly semantically equivalent way.\n"
     ]
    }
   ],
   "source": [
    "# if 'prompt_verbs' in ctx:\n",
    "#     del ctx['prompt_verbs']\n",
    "print(FileTemplate('verbs').fill_in(ctx))\n",
    "# print(ctx['prompt_verbs'])"
   ],
   "metadata": {
    "collapsed": false,
    "ExecuteTime": {
     "end_time": "2024-01-10T13:35:06.521013399Z",
     "start_time": "2024-01-10T13:35:06.504178575Z"
    }
   },
   "id": "3dc15b60d5792cfb"
  },
  {
   "cell_type": "code",
   "execution_count": 742,
   "outputs": [],
   "source": [
    "# verbalization = ctx['verbs']\n",
    "#################################################\n",
    "verbalization_raw = '''\n",
    "{\n",
    "  \"Regional Climate\": {\n",
    "    \"descriptor\": [\"the regional climate\", \"the area's climatic conditions\"],\n",
    "    \"subject\": \"this region\",\n",
    "    \"predicate0\": [\"experiences drier weather\", \"is known for its dry climate\"],\n",
    "    \"predicate1\": [\"experiences wetter weather\", \"is characterized by a wet climate\"],\n",
    "    \"pronoun\": \"it\",\n",
    "    \"nounclause0\": [\"the region experiences dry weather\", \"the area is known for its dry climate\"],\n",
    "    \"nounclause1\": [\"the region experiences wet weather\", \"the area is characterized by a wet climate\"],\n",
    "    \"preposition\": [\"in\", \"across\"],\n",
    "    \"domain\": \"the region\",\n",
    "    \"subclause0\": [\"dry weather is prevalent\", \"a dry climate dominates\"],\n",
    "    \"subclause1\": [\"wet weather is prevalent\", \"a wet climate dominates\"],\n",
    "    \"condition0\": [\"in a dry climate\", \"when the region has a dry weather pattern\"],\n",
    "    \"condition1\": [\"in a wet climate\", \"when the region has a wet weather pattern\"],\n",
    "    \"action0\": [\"the climate becomes drier\", \"the region experiences less rainfall\"],\n",
    "    \"action1\": [\"the climate becomes wetter\", \"the region experiences more rainfall\"]\n",
    "  },\n",
    "  \"Heavy Rain\": {\n",
    "    \"descriptor\": [\"the incidence of heavy rain\", \"heavy rainfall events\"],\n",
    "    \"subject\": \"the region\",\n",
    "    \"predicate0\": [\"does not experience heavy rain\", \"is free from heavy rainfall\"],\n",
    "    \"predicate1\": [\"experiences heavy rain\", \"is hit by heavy rainfall\"],\n",
    "    \"pronoun\": \"it\",\n",
    "    \"nounclause0\": [\"there is no heavy rain in the region\", \"heavy rainfall is absent in the area\"],\n",
    "    \"nounclause1\": [\"there is heavy rain in the region\", \"heavy rainfall occurs in the area\"],\n",
    "    \"preposition\": [\"during\", \"in the case of\"],\n",
    "    \"domain\": \"weather conditions\",\n",
    "    \"subclause0\": [\"heavy rain is not present\", \"the weather is clear of heavy rainfall\"],\n",
    "    \"subclause1\": [\"heavy rain occurs\", \"the weather includes heavy rainfall\"],\n",
    "    \"condition0\": [\"without heavy rainfall\", \"when the region is not experiencing heavy rain\"],\n",
    "    \"condition1\": [\"with heavy rainfall\", \"when the region is experiencing heavy rain\"],\n",
    "    \"action0\": [\"heavy rain is prevented\", \"rainfall intensity is reduced\"],\n",
    "    \"action1\": [\"heavy rain occurs\", \"rainfall intensity increases\"]\n",
    "  },\n",
    "  \"Government Policy\": {\n",
    "    \"descriptor\": [\"the government's transportation policy\", \"public transportation policies\"],\n",
    "    \"subject\": \"the government\",\n",
    "    \"predicate0\": [\"adopts unfavorable policies for public transportation\", \"is not supportive of public transport\"],\n",
    "    \"predicate1\": [\"adopts favorable policies for public transportation\", \"supports public transport\"],\n",
    "    \"pronoun\": \"it\",\n",
    "    \"nounclause0\": [\"government policies are unfavorable to public transportation\", \"public transport lacks government support\"],\n",
    "    \"nounclause1\": [\"government policies are favorable to public transportation\", \"public transport receives strong government support\"],\n",
    "    \"preposition\": [\"under\", \"with\"],\n",
    "    \"domain\": \"governmental decisions\",\n",
    "    \"subclause0\": [\"public transportation policies are not supportive\", \"there is a lack of support for public transport\"],\n",
    "    \"subclause1\": [\"public transportation policies are supportive\", \"there is strong support for public transport\"],\n",
    "    \"condition0\": [\"if public transport policies are unfavorable\", \"when the government does not support public transport\"],\n",
    "    \"condition1\": [\"if public transport policies are favorable\", \"when the government supports public transport\"],\n",
    "    \"action0\": [\"government policies shift against public transportation\", \"public transport support is withdrawn\"],\n",
    "    \"action1\": [\"government policies favor public transportation\", \"support for public transport is increased\"]\n",
    "  },\n",
    "  \"Infrastructure Investment\": {\n",
    "    \"descriptor\": [\"the level of infrastructure investment\", \"investment in rail infrastructure\"],\n",
    "    \"subject\": \"the government\",\n",
    "    \"predicate0\": [\"allocates low investment to rail infrastructure\", \"does not invest heavily in rail infrastructure\"],\n",
    "    \"predicate1\": [\"allocates high investment to rail infrastructure\", \"invests heavily in rail infrastructure\"],\n",
    "    \"pronoun\": \"it\",\n",
    "    \"nounclause0\": [\"there is low investment in rail infrastructure\", \"rail infrastructure receives minimal investment\"],\n",
    "    \"nounclause1\": [\"there is high investment in rail infrastructure\", \"rail infrastructure receives significant investment\"],\n",
    "    \"preposition\": [\"with\", \"in the context of\"],\n",
    "    \"domain\": \"transportation projects\",\n",
    "    \"subclause0\": [\"investment in rail infrastructure is minimal\", \"rail infrastructure funding is low\"],\n",
    "    \"subclause1\": [\"investment in rail infrastructure is substantial\", \"rail infrastructure funding is high\"],\n",
    "    \"condition0\": [\"when investment in rail infrastructure is low\", \"if rail infrastructure funding is minimal\"],\n",
    "    \"condition1\": [\"when investment in rail infrastructure is high\", \"if rail infrastructure funding is substantial\"],\n",
    "    \"action0\": [\"rail infrastructure investment is reduced\", \"funding for rail projects is cut\"],\n",
    "    \"action1\": [\"rail infrastructure investment is increased\", \"funding for rail projects is boosted\"]\n",
    "  },\n",
    "  \"Maintenance Efficiency\": {\n",
    "    \"descriptor\": [\"the efficiency of rail maintenance\", \"maintenance operations efficiency\"],\n",
    "    \"subject\": \"rail maintenance\",\n",
    "    \"predicate0\": [\"is inefficient\", \"fails to meet standards\"],\n",
    "    \"predicate1\": [\"is efficient\", \"meets high standards\"],\n",
    "    \"pronoun\": \"it\",\n",
    "    \"nounclause0\": [\"rail maintenance is not carried out efficiently\", \"maintenance operations fall short of efficiency\"],\n",
    "    \"nounclause1\": [\"rail maintenance is carried out efficiently\", \"maintenance operations meet high standards\"],\n",
    "    \"preposition\": [\"in\", \"during\"],\n",
    "    \"domain\": \"railway upkeep\",\n",
    "    \"subclause0\": [\"maintenance operations are not efficient\", \"there is a lack of efficiency in maintenance\"],\n",
    "    \"subclause1\": [\"maintenance operations are efficient\", \"there is high efficiency in maintenance\"],\n",
    "    \"condition0\": [\"if rail maintenance is inefficient\", \"when maintenance operations do not meet standards\"],\n",
    "    \"condition1\": [\"if rail maintenance is efficient\", \"when maintenance operations meet high standards\"],\n",
    "    \"action0\": [\"maintenance efficiency declines\", \"rail upkeep becomes less efficient\"],\n",
    "    \"action1\": [\"maintenance efficiency improves\", \"rail upkeep becomes more efficient\"]\n",
    "  },\n",
    "  \"Emergency Response Preparedness\": {\n",
    "    \"descriptor\": [\"the emergency response readiness\", \"preparedness for rail incidents\"],\n",
    "    \"subject\": \"emergency response systems\",\n",
    "    \"predicate0\": [\"are unprepared for rail incidents\", \"lack readiness for emergencies\"],\n",
    "    \"predicate1\": [\"are prepared for rail incidents\", \"are ready for emergencies\"],\n",
    "    \"pronoun\": \"they\",\n",
    "    \"nounclause0\": [\"there is a lack of preparedness for rail emergencies\", \"emergency systems are unprepared\"],\n",
    "    \"nounclause1\": [\"there is strong preparedness for rail emergencies\", \"emergency systems are ready\"],\n",
    "    \"preposition\": [\"in terms of\", \"with regards to\"],\n",
    "    \"domain\": \"emergency situations\",\n",
    "    \"subclause0\": [\"preparedness for emergencies is lacking\", \"emergency systems are not ready\"],\n",
    "    \"subclause1\": [\"preparedness for emergencies is strong\", \"emergency systems are well-prepared\"],\n",
    "    \"condition0\": [\"if emergency systems are unprepared\", \"when there is a lack of emergency preparedness\"],\n",
    "    \"condition1\": [\"if emergency systems are prepared\", \"when there is strong emergency preparedness\"],\n",
    "    \"action0\": [\"emergency preparedness is not prioritized\", \"readiness for rail incidents is neglected\"],\n",
    "    \"action1\": [\"emergency preparedness is enhanced\", \"readiness for rail incidents is ensured\"]\n",
    "  },\n",
    "  \"Rail Service Disruption\": {\n",
    "    \"descriptor\": [\"the stability of train services\", \"the regularity of rail operations\"],\n",
    "    \"subject\": \"trains\",\n",
    "    \"predicate0\": [\"run on schedule\", \"operate without interruptions\"],\n",
    "    \"predicate1\": [\"face significant delays\", \"experience major disruptions\"],\n",
    "    \"pronoun\": \"they\",\n",
    "    \"nounclause0\": [\"trains are running on time\", \"there are no disruptions in rail services\"],\n",
    "    \"nounclause1\": [\"trains are significantly delayed\", \"major disruptions are affecting rail services\"],\n",
    "    \"preposition\": [\"in\", \"among\"],\n",
    "    \"domain\": \"situations\",\n",
    "    \"subclause0\": [\"trains run smoothly\", \"rail services operate as expected\"],\n",
    "    \"subclause1\": [\"train schedules are heavily disrupted\", \"rail services are significantly affected\"],\n",
    "    \"condition0\": [\"If trains are running on time\", \"When there are no disruptions\"],\n",
    "    \"condition1\": [\"If train services face major disruptions\", \"When significant delays occur\"],\n",
    "    \"action0\": [\"schedules are strictly adhered to\", \"effective management prevents disruptions\"],\n",
    "    \"action1\": [\"unexpected events disrupt the schedule\", \"severe conditions lead to service disruptions\"]\n",
    "  },\n",
    "  \"Public Perception of Rail Safety\": {\n",
    "    \"descriptor\": [\"public confidence in rail safety\", \"the public's view on train safety\"],\n",
    "    \"subject\": \"passengers\",\n",
    "    \"predicate0\": [\"are concerned about rail safety\", \"doubt the safety of trains\"],\n",
    "    \"predicate1\": [\"feel secure while traveling by train\", \"trust the safety of the rail network\"],\n",
    "    \"pronoun\": \"they\",\n",
    "    \"nounclause0\": [\"people are worried about rail safety\", \"there are concerns regarding train safety\"],\n",
    "    \"nounclause1\": [\"people feel safe when using trains\", \"public trust in rail safety is high\"],\n",
    "    \"preposition\": [\"among\", \"within\"],\n",
    "    \"domain\": \"groups\",\n",
    "    \"subclause0\": [\"safety concerns are raised by passengers\", \"doubts about rail safety prevail\"],\n",
    "    \"subclause1\": [\"a sense of security is felt by passengers\", \"confidence in train safety is expressed\"],\n",
    "    \"condition0\": [\"When safety concerns are high\", \"If there are doubts about rail safety\"],\n",
    "    \"condition1\": [\"When passengers feel safe\", \"If the public trusts the rail network\"],\n",
    "    \"action0\": [\"measures are not taken to ensure safety\", \"lapses in safety protocols occur\"],\n",
    "    \"action1\": [\"strict safety standards are maintained\", \"efforts to ensure safety are recognized\"]\n",
    "  }\n",
    "}\n",
    "\n",
    "'''\n",
    "#################################################\n",
    "ctx['verbs'] = json.loads(verbalization_raw)\n",
    "assert all(node['name'] in ctx['verbs'] for node in nodes)"
   ],
   "metadata": {
    "collapsed": false,
    "ExecuteTime": {
     "end_time": "2024-01-10T13:42:43.018144495Z",
     "start_time": "2024-01-10T13:42:42.973826539Z"
    }
   },
   "id": "79f6bf9e67c64775"
  },
  {
   "cell_type": "code",
   "execution_count": 743,
   "outputs": [
    {
     "name": "stdout",
     "output_type": "stream",
     "text": [
      "We have a statistical model based on the following topic:\n",
      "\n",
      "The recent reopening of the JR Kyudai Line, previously halted by heavy rain damage, presents an interesting opportunity to explore the relationship between extreme weather events and public transportation systems. By examining data on the frequency and severity of such weather events, along with the operational records of the railway, we could gain insights into how weather impacts rail travel, specifically looking at delays, cancellations, and restoration efforts.\n",
      "\n",
      "Now we would like to use this model to generate the following interesting research questions. Verbalize interesting \"yes\"/\"no\" questions where the correct answer depends computation of each of the following quantities:\n",
      "\n",
      "\t1. ATE('Heavy Rain') > 0\n",
      "\t2. ATE('Infrastructure Investment') < 0\n",
      "\t3. ATE('Heavy Rain') < ATE('Infrastructure Investment')\n",
      "\t4. |ATE('Heavy Rain')| < |ATE('Infrastructure Investment')|\n",
      "\t5. CATE('Heavy Rain' | 'Regional Climate' = 0) > 0\n",
      "\t6. CATE('Infrastructure Investment' | 'Regional Climate' = 0) < 0\n",
      "\t7. CATE('Infrastructure Investment' | 'Regional Climate' = 0) < CATE('Heavy Rain' | 'Regional Climate' = 0)\n",
      "\t8. |CATE('Infrastructure Investment' | 'Regional Climate' = 0)| < |CATE('Heavy Rain' | 'Regional Climate' = 0)|\n",
      "\t9. CATE('Heavy Rain' | 'Regional Climate' = 1) < 0\n",
      "\t10. CATE('Infrastructure Investment' | 'Regional Climate' = 1) < 0\n",
      "\t11. CATE('Heavy Rain' | 'Regional Climate' = 1) > CATE('Infrastructure Investment' | 'Regional Climate' = 1)\n",
      "\t12. |CATE('Infrastructure Investment' | 'Regional Climate' = 1)| > |CATE('Heavy Rain' | 'Regional Climate' = 1)|\n",
      "\t13. CATE('Heavy Rain' | 'Regional Climate' = 1) > CATE('Heavy Rain' | 'Regional Climate' = 0)\n",
      "\t14. |CATE('Heavy Rain' | 'Regional Climate' = 0)| > |CATE('Heavy Rain' | 'Regional Climate' = 1)|\n",
      "\t15. CATE('Infrastructure Investment' | 'Regional Climate' = 0) > CATE('Infrastructure Investment' | 'Regional Climate' = 1)\n",
      "\t16. |CATE('Infrastructure Investment' | 'Regional Climate' = 0)| < |CATE('Infrastructure Investment' | 'Regional Climate' = 1)|\n",
      "\t17. CATE('Heavy Rain' | 'Government Policy' = 0) > 0\n",
      "\t18. CATE('Infrastructure Investment' | 'Government Policy' = 0) < 0\n",
      "\t19. CATE('Heavy Rain' | 'Government Policy' = 0) > CATE('Infrastructure Investment' | 'Government Policy' = 0)\n",
      "\t20. |CATE('Heavy Rain' | 'Government Policy' = 0)| > |CATE('Infrastructure Investment' | 'Government Policy' = 0)|\n",
      "\t21. CATE('Heavy Rain' | 'Government Policy' = 1) > 0\n",
      "\t22. CATE('Infrastructure Investment' | 'Government Policy' = 1) < 0\n",
      "\t23. CATE('Heavy Rain' | 'Government Policy' = 1) > CATE('Infrastructure Investment' | 'Government Policy' = 1)\n",
      "\t24. |CATE('Infrastructure Investment' | 'Government Policy' = 1)| > |CATE('Heavy Rain' | 'Government Policy' = 1)|\n",
      "\t25. CATE('Heavy Rain' | 'Government Policy' = 1) > CATE('Heavy Rain' | 'Government Policy' = 0)\n",
      "\t26. |CATE('Heavy Rain' | 'Government Policy' = 1)| > |CATE('Heavy Rain' | 'Government Policy' = 0)|\n",
      "\t27. CATE('Infrastructure Investment' | 'Government Policy' = 1) > CATE('Infrastructure Investment' | 'Government Policy' = 0)\n",
      "\t28. |CATE('Infrastructure Investment' | 'Government Policy' = 1)| < |CATE('Infrastructure Investment' | 'Government Policy' = 0)|\n",
      "\n",
      "Where \"| * |\" is the absolute value and the definitions of \"ATE('X')\" (average treatment effect) and \"CATE('X' | 'U'=u)\" are:\n",
      "\n",
      "ATE('X') = E['Y' | do('X' = 1)] - E['Y' | do('X' = 0)]\n",
      "CATE('X' | 'U'=u) = E['Y' | 'U'=u, do('X' = 1)] - E['Y' | 'U'=u, do('X' = 0)]\n",
      "\n",
      "Where 'X' is a treatment variable, 'Y' is the outcome variable, and 'U' is a confounder variable.\n",
      "\n",
      "In addition to the questions and associated answers include a one sentence claim answering each question. Make sure the claim can stand on its own without the question, so it should restate all important details from the question.\n",
      "\n",
      "The meanings of all the variables (all of which are binary) in the statistical model are:\n",
      "\n",
      "Variable 'Regional Climate' (0='Dry Climate', 1='Wet Climate') means Climatic conditions of the region\n",
      "Variable 'Heavy Rain' (0='No Heavy Rain', 1='Heavy Rain') means Incidence of heavy rain in the region\n",
      "Variable 'Government Policy' (0='Unfavorable Policies', 1='Favorable Policies') means Government policies affecting public transportation\n",
      "Variable 'Infrastructure Investment' (0='Low Investment', 1='High Investment') means Level of investment in rail infrastructure\n",
      "Variable 'Maintenance Efficiency' (0='Inefficient', 1='Efficient') means Efficiency of rail maintenance operations\n",
      "Variable 'Emergency Response Preparedness' (0='Unprepared', 1='Prepared') means Readiness of emergency response systems for rail incidents\n",
      "Variable 'Rail Service Disruption' (0='No Disruption', 1='Significant Disruption') means Whether the rail service is significantly disrupted or not\n",
      "Variable 'Public Perception of Rail Safety' (0='Perceived as Unsafe', 1='Perceived as Safe') means Public perception regarding the safety of the rail network\n",
      "\n",
      "Answer in the form of a JSON object in the following format:\n",
      "\n",
      "```json\n",
      "\n",
      "    \"1\": \"question\": \"[question]\", \"answer\": \"yes\", \"claim\": \"[claim]\",\n",
      "    ...\n",
      "\n",
      "```\n",
      "\n",
      "Answer concisely and precisely in the desired format. Do not add any additional comments or discussion. Most importantly, do not use any technical terms from causal inference such as ATE or CATE in the questions and claims so that everything is easy to understand even for a layperson in a casual conversation.\n"
     ]
    }
   ],
   "source": [
    "# if 'prompt_questions' in ctx:\n",
    "#     del ctx['prompt_questions']\n",
    "# print(FileTemplate('questions').fill_in(ctx))\n",
    "print(ctx['prompt_questions'])"
   ],
   "metadata": {
    "collapsed": false,
    "ExecuteTime": {
     "end_time": "2024-01-10T13:42:44.282163321Z",
     "start_time": "2024-01-10T13:42:44.258777731Z"
    }
   },
   "id": "e7a104d246a371ac"
  },
  {
   "cell_type": "code",
   "execution_count": 744,
   "outputs": [],
   "source": [
    "# setting = ctx['questions']\n",
    "#################################################\n",
    "settings_raw = '''\n",
    "{\n",
    "    \"1\": {\"question\": \"Does heavy rain generally lead to more rail service disruptions?\", \"answer\": \"yes\", \"claim\": \"Heavy rain generally leads to more rail service disruptions.\"},\n",
    "    \"2\": {\"question\": \"Does higher investment in rail infrastructure generally lead to fewer rail service disruptions?\", \"answer\": \"yes\", \"claim\": \"Higher investment in rail infrastructure generally leads to fewer rail service disruptions.\"},\n",
    "    \"3\": {\"question\": \"Is the impact of heavy rain on rail service disruptions greater than that of infrastructure investment?\", \"answer\": \"no\", \"claim\": \"The impact of infrastructure investment on rail service disruptions is greater than that of heavy rain.\"},\n",
    "    \"4\": {\"question\": \"Is the absolute impact of heavy rain on rail service disruptions less than that of infrastructure investment?\", \"answer\": \"yes\", \"claim\": \"The absolute impact of infrastructure investment on rail service disruptions is greater than that of heavy rain.\"},\n",
    "    \"5\": {\"question\": \"In regions with a dry climate, does heavy rain lead to more rail service disruptions?\", \"answer\": \"yes\", \"claim\": \"In regions with a dry climate, heavy rain leads to more rail service disruptions.\"},\n",
    "    \"6\": {\"question\": \"In regions with a dry climate, does higher investment in rail infrastructure lead to fewer rail service disruptions?\", \"answer\": \"yes\", \"claim\": \"In regions with a dry climate, higher investment in rail infrastructure leads to fewer rail service disruptions.\"},\n",
    "    \"7\": {\"question\": \"In regions with a dry climate, is the impact of infrastructure investment on rail service disruptions less than that of heavy rain?\", \"answer\": \"no\", \"claim\": \"In regions with a dry climate, the impact of infrastructure investment on rail service disruptions is greater than that of heavy rain.\"},\n",
    "    \"8\": {\"question\": \"In regions with a dry climate, is the absolute impact of infrastructure investment on rail service disruptions less than that of heavy rain?\", \"answer\": \"yes\", \"claim\": \"In regions with a dry climate, the absolute impact of heavy rain on rail service disruptions is greater than that of infrastructure investment.\"},\n",
    "    \"9\": {\"question\": \"In regions with a wet climate, does heavy rain lead to fewer rail service disruptions?\", \"answer\": \"yes\", \"claim\": \"In regions with a wet climate, heavy rain leads to fewer rail service disruptions.\"},\n",
    "    \"10\": {\"question\": \"In regions with a wet climate, does higher investment in rail infrastructure lead to fewer rail service disruptions?\", \"answer\": \"yes\", \"claim\": \"In regions with a wet climate, higher investment in rail infrastructure leads to fewer rail service disruptions.\"},\n",
    "    \"11\": {\"question\": \"In regions with a wet climate, is the impact of heavy rain on rail service disruptions greater than that of infrastructure investment?\", \"answer\": \"no\", \"claim\": \"In regions with a wet climate, the impact of infrastructure investment on rail service disruptions is greater than that of heavy rain.\"},\n",
    "    \"12\": {\"question\": \"In regions with a wet climate, is the absolute impact of infrastructure investment on rail service disruptions greater than that of heavy rain?\", \"answer\": \"yes\", \"claim\": \"In regions with a wet climate, the absolute impact of infrastructure investment on rail service disruptions is greater than that of heavy rain.\"},\n",
    "    \"13\": {\"question\": \"Is the impact of heavy rain on rail service disruptions greater in regions with a wet climate compared to dry regions?\", \"answer\": \"yes\", \"claim\": \"The impact of heavy rain on rail service disruptions is greater in regions with a wet climate compared to dry regions.\"},\n",
    "    \"14\": {\"question\": \"Is the absolute impact of heavy rain on rail service disruptions greater in regions with a dry climate compared to wet regions?\", \"answer\": \"yes\", \"claim\": \"The absolute impact of heavy rain on rail service disruptions is greater in regions with a dry climate compared to wet regions.\"},\n",
    "    \"15\": {\"question\": \"Is the impact of infrastructure investment on rail service disruptions greater in regions with a dry climate compared to wet regions?\", \"answer\": \"yes\", \"claim\": \"The impact of infrastructure investment on rail service disruptions is greater in regions with a dry climate compared to wet regions.\"},\n",
    "    \"16\": {\"question\": \"Is the absolute impact of infrastructure investment on rail service disruptions less in regions with a dry climate compared to wet regions?\", \"answer\": \"yes\", \"claim\": \"The absolute impact of infrastructure investment on rail service disruptions is less in regions with a dry climate compared to wet regions.\"},\n",
    "    \"17\": {\"question\": \"Under unfavorable government policies, does heavy rain lead to more rail service disruptions?\", \"answer\": \"yes\", \"claim\": \"Under unfavorable government policies, heavy rain leads to more rail service disruptions.\"},\n",
    "    \"18\": {\"question\": \"Under unfavorable government policies, does higher investment in rail infrastructure lead to fewer rail service disruptions?\", \"answer\": \"yes\", \"claim\": \"Under unfavorable government policies, higher investment in rail infrastructure leads to fewer rail service disruptions.\"},\n",
    "    \"19\": {\"question\": \"Under unfavorable government policies, is the impact of heavy rain on rail service disruptions greater than that of infrastructure investment?\", \"answer\": \"no\", \"claim\": \"Under unfavorable government policies, the impact of infrastructure investment on rail service disruptions is greater than that of heavy rain.\"},\n",
    "    \"20\": {\"question\": \"Under unfavorable government policies, is the absolute impact of heavy rain on rail service disruptions greater than that of infrastructure investment?\", \"answer\": \"yes\", \"claim\": \"Under unfavorable government policies, the absolute impact of heavy rain on rail service disruptions is greater than that of infrastructure investment.\"},\n",
    "    \"21\": {\"question\": \"Under favorable government policies, does heavy rain lead to more rail service disruptions?\", \"answer\": \"yes\", \"claim\": \"Under favorable government policies, heavy rain leads to more rail service disruptions.\"},\n",
    "    \"22\": {\"question\": \"Under favorable government policies, does higher investment in rail infrastructure lead to fewer rail service disruptions?\", \"answer\": \"yes\", \"claim\": \"Under favorable government policies, higher investment in rail infrastructure leads to fewer rail service disruptions.\"},\n",
    "    \"23\": {\"question\": \"Under favorable government policies, is the impact of heavy rain on rail service disruptions greater than that of infrastructure investment?\", \"answer\": \"no\", \"claim\": \"Under favorable government policies, the impact of infrastructure investment on rail service disruptions is greater than that of heavy rain.\"},\n",
    "    \"24\": {\"question\": \"Under favorable government policies, is the absolute impact of infrastructure investment on rail service disruptions greater than that of heavy rain?\", \"answer\": \"yes\", \"claim\": \"Under favorable government policies, the absolute impact of infrastructure investment on rail service disruptions is greater than that of heavy rain.\"},\n",
    "    \"25\": {\"question\": \"Is the impact of heavy rain on rail service disruptions greater under favorable government policies compared to unfavorable ones?\", \"answer\": \"yes\", \"claim\": \"The impact of heavy rain on rail service disruptions is greater under favorable government policies compared to unfavorable ones.\"},\n",
    "    \"26\": {\"question\": \"Is the absolute impact of heavy rain on rail service disruptions greater under favorable government policies compared to unfavorable ones?\", \"answer\": \"yes\", \"claim\": \"The absolute impact of heavy rain on rail service disruptions is greater under favorable government policies compared to unfavorable ones.\"},\n",
    "    \"27\": {\"question\": \"Is the impact of infrastructure investment on rail service disruptions greater under favorable government policies compared to unfavorable ones?\", \"answer\": \"yes\", \"claim\": \"The impact of infrastructure investment on rail service disruptions is greater under favorable government policies compared to unfavorable ones.\"},\n",
    "    \"28\": {\"question\": \"Is the absolute impact of infrastructure investment on rail service disruptions less under favorable government policies compared to unfavorable ones?\", \"answer\": \"yes\", \"claim\": \"The absolute impact of infrastructure investment on rail service disruptions is less under favorable government policies compared to unfavorable ones.\"}\n",
    "}\n",
    "\n",
    "'''\n",
    "#################################################\n",
    "setting = json.loads(settings_raw)\n",
    "setting = [setting[str(i)] for i in range(1, len(setting)+1)]\n",
    "ctx['questions'] = setting"
   ],
   "metadata": {
    "collapsed": false,
    "ExecuteTime": {
     "end_time": "2024-01-10T13:45:19.034195270Z",
     "start_time": "2024-01-10T13:45:18.991188448Z"
    }
   },
   "id": "15ee584645d0a66d"
  },
  {
   "cell_type": "code",
   "execution_count": 744,
   "outputs": [],
   "source": [],
   "metadata": {
    "collapsed": false,
    "ExecuteTime": {
     "end_time": "2024-01-10T13:45:20.124649839Z",
     "start_time": "2024-01-10T13:45:20.110100072Z"
    }
   },
   "id": "19aa513e0b179ac4"
  },
  {
   "cell_type": "code",
   "execution_count": 745,
   "outputs": [
    {
     "data": {
      "text/plain": "'Impact_of_Extreme_Weather_on_JR_Kyudai_Line_Operations.json'"
     },
     "execution_count": 745,
     "metadata": {},
     "output_type": "execute_result"
    }
   ],
   "source": [
    "i = 0\n",
    "path = ctx._root / f'{ctx[\"motivation\"][\"title\"] if \"motivation\" in ctx else \"test\"}{i if i > 1 else \"\"}'\n",
    "while path.exists():\n",
    "    i += 1\n",
    "    path = ctx._root / f'{ctx[\"motivation\"][\"title\"] if \"motivation\" in ctx else \"test\"}{i if i > 1 else \"\"}'\n",
    "ctx.save(path.stem if ctx.story_id is None else ctx.story_id).name"
   ],
   "metadata": {
    "collapsed": false,
    "ExecuteTime": {
     "end_time": "2024-01-10T13:45:20.438670668Z",
     "start_time": "2024-01-10T13:45:20.435439287Z"
    }
   },
   "id": "6135ec55dcfc66cb"
  },
  {
   "cell_type": "code",
   "execution_count": null,
   "outputs": [],
   "source": [],
   "metadata": {
    "collapsed": false
   },
   "id": "74283ee029cef299"
  },
  {
   "cell_type": "code",
   "execution_count": null,
   "outputs": [],
   "source": [],
   "metadata": {
    "collapsed": false
   },
   "id": "7898714478f8ecbf"
  },
  {
   "cell_type": "code",
   "execution_count": null,
   "outputs": [],
   "source": [],
   "metadata": {
    "collapsed": false
   },
   "id": "b6436dbf1a4b3a4e"
  },
  {
   "cell_type": "code",
   "execution_count": null,
   "outputs": [],
   "source": [],
   "metadata": {
    "collapsed": false
   },
   "id": "e1ab83f0f02c3b51"
  },
  {
   "cell_type": "code",
   "execution_count": null,
   "id": "initial_id",
   "metadata": {
    "collapsed": true
   },
   "outputs": [],
   "source": []
  }
 ],
 "metadata": {
  "kernelspec": {
   "display_name": "Python 3",
   "language": "python",
   "name": "python3"
  },
  "language_info": {
   "codemirror_mode": {
    "name": "ipython",
    "version": 2
   },
   "file_extension": ".py",
   "mimetype": "text/x-python",
   "name": "python",
   "nbconvert_exporter": "python",
   "pygments_lexer": "ipython2",
   "version": "2.7.6"
  }
 },
 "nbformat": 4,
 "nbformat_minor": 5
}

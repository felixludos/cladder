{
 "cells": [
  {
   "cell_type": "raw",
   "source": [],
   "metadata": {
    "collapsed": false
   },
   "id": "8b988a4a60af55d1"
  },
  {
   "cell_type": "code",
   "execution_count": 1,
   "id": "initial_id",
   "metadata": {
    "collapsed": true,
    "ExecuteTime": {
     "end_time": "2023-11-13T16:53:37.197940192Z",
     "start_time": "2023-11-13T16:53:34.428627715Z"
    }
   },
   "outputs": [],
   "source": [
    "import numpy as np\n",
    "import torch\n",
    "from causalbenchmark.novo.simulation.models import Bernoulli, ConditionalBernoulli, BernoulliNetwork"
   ]
  },
  {
   "cell_type": "code",
   "execution_count": 13,
   "outputs": [
    {
     "name": "stdout",
     "output_type": "stream",
     "text": [
      "p(Y | U, X) p(X | U) p(U=0.38)\n"
     ]
    }
   ],
   "source": [
    "# U = Bernoulli(0.1)\n",
    "# X = ConditionalBernoulli([U], [0.4, 0.6])\n",
    "# Y = ConditionalBernoulli([U, X], [[0.3, 0.5], [0.8, 0.2]])\n",
    "U = Bernoulli()\n",
    "X = ConditionalBernoulli([U])\n",
    "Y = ConditionalBernoulli([U, X])\n",
    "net = BernoulliNetwork({'U': U, 'X': X, 'Y': Y})\n",
    "print(net)"
   ],
   "metadata": {
    "collapsed": false,
    "ExecuteTime": {
     "end_time": "2023-11-13T17:20:30.650476102Z",
     "start_time": "2023-11-13T17:20:30.638256527Z"
    }
   },
   "id": "f27c9f7fa383bc52"
  },
  {
   "cell_type": "code",
   "execution_count": 18,
   "outputs": [],
   "source": [
    "def ett(net):\n",
    "\tpU1 = net.marginals(X=1)['U'].item()\n",
    "\tpY00, pY01, pY10, pY11 = Y.param.view(-1).tolist()\n",
    "\treturn pU1 * (pY01 - pY00) + (1 - pU1) * (pY11 - pY10)\n",
    "def counferfactual(net):\n",
    "\tabduction = net.marginals(X=1)\n",
    "\taction_net = net.intervene(X=1, U=abduction['U'])\n",
    "\treturn action_net.marginals()\n",
    "def alt_ett(net):\n",
    "\tobs = net.marginals(X=1)\n",
    "\tcf = counferfactual(net)\n",
    "\treturn obs['Y'] - cf['Y']"
   ],
   "metadata": {
    "collapsed": false,
    "ExecuteTime": {
     "end_time": "2023-11-13T17:23:25.121724957Z",
     "start_time": "2023-11-13T17:23:25.119855745Z"
    }
   },
   "id": "ee3978b678409356"
  },
  {
   "cell_type": "code",
   "execution_count": 19,
   "outputs": [
    {
     "data": {
      "text/plain": "(-0.5868473561670111, tensor(0.))"
     },
     "execution_count": 19,
     "metadata": {},
     "output_type": "execute_result"
    }
   ],
   "source": [
    "ett(net), alt_ett(net)"
   ],
   "metadata": {
    "collapsed": false,
    "ExecuteTime": {
     "end_time": "2023-11-13T17:23:28.253849383Z",
     "start_time": "2023-11-13T17:23:28.236810924Z"
    }
   },
   "id": "ebdcf4683857147b"
  },
  {
   "cell_type": "code",
   "execution_count": 26,
   "outputs": [
    {
     "data": {
      "text/plain": "p(Y | U, X) p(X | U) p(U=0.38)"
     },
     "execution_count": 26,
     "metadata": {},
     "output_type": "execute_result"
    }
   ],
   "source": [
    "net"
   ],
   "metadata": {
    "collapsed": false,
    "ExecuteTime": {
     "end_time": "2023-11-13T17:25:26.178052687Z",
     "start_time": "2023-11-13T17:25:26.165362162Z"
    }
   },
   "id": "89538f262824a5bd"
  },
  {
   "cell_type": "code",
   "execution_count": 24,
   "outputs": [
    {
     "data": {
      "text/plain": "tensor(0.2479)"
     },
     "execution_count": 24,
     "metadata": {},
     "output_type": "execute_result"
    }
   ],
   "source": [
    "net.marginals(X=1)['Y']"
   ],
   "metadata": {
    "collapsed": false,
    "ExecuteTime": {
     "end_time": "2023-11-13T17:24:53.413049643Z",
     "start_time": "2023-11-13T17:24:53.369480740Z"
    }
   },
   "id": "d53c4f646f3910eb"
  },
  {
   "cell_type": "code",
   "execution_count": 22,
   "outputs": [
    {
     "data": {
      "text/plain": "tensor(0.6609)"
     },
     "execution_count": 22,
     "metadata": {},
     "output_type": "execute_result"
    }
   ],
   "source": [
    "pU = net.marginals(X=1)['U']\n",
    "pU"
   ],
   "metadata": {
    "collapsed": false,
    "ExecuteTime": {
     "end_time": "2023-11-13T17:24:23.257006690Z",
     "start_time": "2023-11-13T17:24:23.214979502Z"
    }
   },
   "id": "8a015e72ac159c4a"
  },
  {
   "cell_type": "code",
   "execution_count": 23,
   "outputs": [
    {
     "data": {
      "text/plain": "tensor(0.2479)"
     },
     "execution_count": 23,
     "metadata": {},
     "output_type": "execute_result"
    }
   ],
   "source": [
    "action_net = net.intervene(X=1, U=pU)\n",
    "action_net.marginals()['Y']"
   ],
   "metadata": {
    "collapsed": false,
    "ExecuteTime": {
     "end_time": "2023-11-13T17:24:25.114265658Z",
     "start_time": "2023-11-13T17:24:25.101312274Z"
    }
   },
   "id": "7f0fe414dea23564"
  },
  {
   "cell_type": "code",
   "execution_count": 25,
   "outputs": [
    {
     "data": {
      "text/plain": "p(Y | U, X) p(X=1) p(U=0.66)"
     },
     "execution_count": 25,
     "metadata": {},
     "output_type": "execute_result"
    }
   ],
   "source": [
    "action_net"
   ],
   "metadata": {
    "collapsed": false,
    "ExecuteTime": {
     "end_time": "2023-11-13T17:25:09.618780013Z",
     "start_time": "2023-11-13T17:25:09.567823996Z"
    }
   },
   "id": "9ed1414a365eb2ac"
  },
  {
   "cell_type": "code",
   "execution_count": null,
   "outputs": [],
   "source": [],
   "metadata": {
    "collapsed": false
   },
   "id": "b0ab9fe1d80e81a0"
  },
  {
   "cell_type": "code",
   "execution_count": 21,
   "outputs": [
    {
     "data": {
      "text/plain": "({'U': tensor(0.6609), 'X': tensor(1.), 'Y': tensor(0.2479)},\n {'U': tensor(0.6609), 'X': tensor(1.), 'Y': tensor(0.2479)})"
     },
     "execution_count": 21,
     "metadata": {},
     "output_type": "execute_result"
    }
   ],
   "source": [
    "obs = net.marginals(X=1)\n",
    "cf = counferfactual(net)\n",
    "obs, cf"
   ],
   "metadata": {
    "collapsed": false,
    "ExecuteTime": {
     "end_time": "2023-11-13T17:23:48.325426939Z",
     "start_time": "2023-11-13T17:23:48.310504900Z"
    }
   },
   "id": "a45b0840f2bec871"
  },
  {
   "cell_type": "code",
   "execution_count": null,
   "outputs": [],
   "source": [],
   "metadata": {
    "collapsed": false,
    "ExecuteTime": {
     "end_time": "2023-11-13T16:19:48.973736346Z",
     "start_time": "2023-11-13T16:19:48.960393955Z"
    }
   },
   "id": "2f7dee63eb661f8e"
  },
  {
   "cell_type": "code",
   "execution_count": null,
   "outputs": [],
   "source": [],
   "metadata": {
    "collapsed": false,
    "ExecuteTime": {
     "end_time": "2023-11-13T16:19:49.153395345Z",
     "start_time": "2023-11-13T16:19:49.141425668Z"
    }
   },
   "id": "c3cb124d959107b0"
  },
  {
   "cell_type": "code",
   "execution_count": null,
   "outputs": [],
   "source": [],
   "metadata": {
    "collapsed": false,
    "ExecuteTime": {
     "end_time": "2023-11-13T16:19:49.366046747Z",
     "start_time": "2023-11-13T16:19:49.352840454Z"
    }
   },
   "id": "542bce135eac081c"
  },
  {
   "cell_type": "code",
   "execution_count": null,
   "outputs": [],
   "source": [],
   "metadata": {
    "collapsed": false
   },
   "id": "fdd0064b2820e7ae"
  }
 ],
 "metadata": {
  "kernelspec": {
   "display_name": "Python 3",
   "language": "python",
   "name": "python3"
  },
  "language_info": {
   "codemirror_mode": {
    "name": "ipython",
    "version": 2
   },
   "file_extension": ".py",
   "mimetype": "text/x-python",
   "name": "python",
   "nbconvert_exporter": "python",
   "pygments_lexer": "ipython2",
   "version": "2.7.6"
  }
 },
 "nbformat": 4,
 "nbformat_minor": 5
}

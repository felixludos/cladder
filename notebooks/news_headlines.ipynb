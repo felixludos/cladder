{
 "cells": [
  {
   "cell_type": "code",
   "execution_count": 9,
   "id": "initial_id",
   "metadata": {
    "collapsed": true,
    "ExecuteTime": {
     "end_time": "2023-10-05T14:44:59.283219800Z",
     "start_time": "2023-10-05T14:44:59.251523300Z"
    }
   },
   "outputs": [],
   "source": [
    "from pathlib import Path\n",
    "from omnibelt import load_json, save_json\n",
    "import random"
   ]
  },
  {
   "cell_type": "code",
   "execution_count": 2,
   "outputs": [
    {
     "data": {
      "text/plain": "True"
     },
     "execution_count": 2,
     "metadata": {},
     "output_type": "execute_result"
    }
   ],
   "source": [
    "path = Path().absolute().parent / 'data' / 'general_gb.json'\n",
    "path.exists()"
   ],
   "metadata": {
    "collapsed": false,
    "ExecuteTime": {
     "end_time": "2023-10-05T14:43:44.108102500Z",
     "start_time": "2023-10-05T14:43:44.027582Z"
    }
   },
   "id": "1af4f098c21fc41e"
  },
  {
   "cell_type": "code",
   "execution_count": 3,
   "outputs": [
    {
     "data": {
      "text/plain": "6"
     },
     "execution_count": 3,
     "metadata": {},
     "output_type": "execute_result"
    }
   ],
   "source": [
    "full = load_json(path)\n",
    "len(full)"
   ],
   "metadata": {
    "collapsed": false,
    "ExecuteTime": {
     "end_time": "2023-10-05T14:43:44.144303800Z",
     "start_time": "2023-10-05T14:43:44.048282800Z"
    }
   },
   "id": "62ee6cc6ca87cab5"
  },
  {
   "cell_type": "code",
   "execution_count": 4,
   "outputs": [
    {
     "data": {
      "text/plain": "38"
     },
     "execution_count": 4,
     "metadata": {},
     "output_type": "execute_result"
    }
   ],
   "source": [
    "arts = full['articles']\n",
    "len(arts)"
   ],
   "metadata": {
    "collapsed": false,
    "ExecuteTime": {
     "end_time": "2023-10-05T14:43:44.148301700Z",
     "start_time": "2023-10-05T14:43:44.081075200Z"
    }
   },
   "id": "818bfb59a7d2bb7c"
  },
  {
   "cell_type": "code",
   "execution_count": 17,
   "outputs": [
    {
     "name": "stdout",
     "output_type": "stream",
     "text": [
      "```\n",
      "Title: Warm up with this cozy image of a hot spot on Jupiter - Space.com\n",
      "Description: \n",
      "```\n",
      "\n",
      "```\n",
      "Title: PM must reform the union or risk UK becoming a 'failed state' - Gordon Brown - Sky News\n",
      "Description: Gordon Brown says Boris Johnson should promote the armed forces and the NHS as examples of the union's \"everyday benefits\".\n",
      "```\n",
      "\n",
      "```\n",
      "Title: WhatsApp loses millions of users after terms update - The Guardian\n",
      "Description: Poorly-executed change of terms of service sends messaging app’s subscribers flocking to competitors\n",
      "```\n",
      "\n",
      "```\n",
      "Title: Adele celebrates 10th anniversary of album 21's release with rare Instagram post - Daily Mail\n",
      "Description: Taking to Instagram, the star admitted  she can't remember much about 'how she felt'  in 2011 but is so grateful for fans letting her be 'a soundtrack' to some of the last decade.\n",
      "```\n",
      "\n",
      "```\n",
      "Title: The best photos of snow from across Wales - WalesOnline\n",
      "Description: Some places could see more snow fall this evening\n",
      "```\n"
     ]
    }
   ],
   "source": [
    "for a in random.choices(arts, k=5):\n",
    "\tprint(f'''```\n",
    "Title: {a[\"title\"]}\n",
    "Description: {a[\"description\"]}\n",
    "```''') # Content: {a[\"content\"]}\n",
    "\tprint()"
   ],
   "metadata": {
    "collapsed": false,
    "ExecuteTime": {
     "end_time": "2023-10-06T08:54:47.500447600Z",
     "start_time": "2023-10-06T08:54:47.468684300Z"
    }
   },
   "id": "240d28913dfb9c5d"
  },
  {
   "cell_type": "code",
   "execution_count": null,
   "outputs": [],
   "source": [],
   "metadata": {
    "collapsed": false
   },
   "id": "9bed720ba68e3a41"
  },
  {
   "cell_type": "code",
   "execution_count": null,
   "outputs": [],
   "source": [],
   "metadata": {
    "collapsed": false
   },
   "id": "cdadc3947f344cb2"
  },
  {
   "cell_type": "code",
   "execution_count": null,
   "outputs": [],
   "source": [],
   "metadata": {
    "collapsed": false
   },
   "id": "29d7b89dcfd0768d"
  },
  {
   "cell_type": "code",
   "execution_count": null,
   "outputs": [],
   "source": [],
   "metadata": {
    "collapsed": false
   },
   "id": "31a90e954cd9e84f"
  }
 ],
 "metadata": {
  "kernelspec": {
   "display_name": "Python 3",
   "language": "python",
   "name": "python3"
  },
  "language_info": {
   "codemirror_mode": {
    "name": "ipython",
    "version": 2
   },
   "file_extension": ".py",
   "mimetype": "text/x-python",
   "name": "python",
   "nbconvert_exporter": "python",
   "pygments_lexer": "ipython2",
   "version": "2.7.6"
  }
 },
 "nbformat": 4,
 "nbformat_minor": 5
}

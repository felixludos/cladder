{
 "cells": [
  {
   "cell_type": "code",
   "execution_count": 1,
   "outputs": [],
   "source": [
    "from pathlib import Path\n",
    "from omnibelt import toposort, load_json, save_json\n",
    "from itertools import product, combinations\n",
    "# import pyperclip\n",
    "# import clipboard\n",
    "import networkx as nx\n",
    "from tqdm.notebook import tqdm\n",
    "from tabulate import tabulate\n",
    "import matplotlib.pyplot as plt\n",
    "import seaborn as sns\n",
    "\n",
    "import numpy as np\n",
    "import torch\n",
    "from causalbenchmark.novo.simulation.models import Bernoulli, ConditionalBernoulli, BernoulliNetwork\n",
    "from causalbenchmark.novo.seeding import NewsHeadlines, StatisticsPrompting, Story\n",
    "from causalbenchmark.novo.templating import FixedTemplate, SimpleTemplater\n",
    "from causalbenchmark.novo import misc"
   ],
   "metadata": {
    "collapsed": false,
    "ExecuteTime": {
     "end_time": "2023-11-19T15:45:14.274821538Z",
     "start_time": "2023-11-19T15:45:11.609943487Z"
    }
   },
   "id": "e4dbd77df7c7caae"
  },
  {
   "cell_type": "code",
   "execution_count": 2,
   "outputs": [
    {
     "data": {
      "text/plain": "  0%|          | 0/5 [00:00<?, ?it/s]",
      "application/vnd.jupyter.widget-view+json": {
       "version_major": 2,
       "version_minor": 0,
       "model_id": "e05088b501fb419cb50fe23f332f33e2"
      }
     },
     "metadata": {},
     "output_type": "display_data"
    },
    {
     "data": {
      "text/plain": "550074",
      "image/png": "[encoded data removed]",
      "text/latex": "$\\displaystyle 550074$"
     },
     "execution_count": 2,
     "metadata": {},
     "output_type": "execute_result"
    }
   ],
   "source": [
    "spark_generator = NewsHeadlines(locs=['gb', 'de', 'fr', 'it', 'nl']).load(pbar=tqdm)\n",
    "len(spark_generator.article_IDs)"
   ],
   "metadata": {
    "collapsed": false,
    "ExecuteTime": {
     "end_time": "2023-11-19T15:45:19.588695837Z",
     "start_time": "2023-11-19T15:45:14.275934308Z"
    }
   },
   "id": "a3e440a9e9d43579"
  },
  {
   "cell_type": "code",
   "execution_count": 4,
   "outputs": [],
   "source": [
    "setting_generation_prompt_template = \\\n",
    "'''We are interested in building a causal model based on the explicit and implicit assumptions contained in the specified article and then using causal inference to evaluate the reasoning. Answer the following questions to design an interesting, simple, and most importantly realistic causal model from a news article.\n",
    "\n",
    "To help understand the instructions here are some tips:\n",
    "- all variables are always binary and (at least in principle) measurable, so when creating and selecting variables, make sure it is reasonable to treat them as binary\n",
    "- whenever you propose a variable, make sure to define the meaning of each value it can take, and mention whether it is observable or not\n",
    "- outcome variables are always observable\n",
    "- treatment variables are always observable and intervenable, that means it must be possible to (at least in principle) change their value if desired\n",
    "- confounder variables may or may not be observable, and should always have at least two causal children (for example, a treatment and outcome variable) and no causal parents\n",
    "- mediator variables may or may not be observable, and should always have at least one causal parents (for example, a treatment variable) and at least one causal child (for example, the outcome variable)\n",
    "- collider variables may or may not be observable, and should always have at least two causal parents (for example, a treatment and outcome variable) and no causal children\n",
    "\n",
    "Answer concisely and precisely in the desired format. Carefully complete each of these tasks in order.\n",
    "\n",
    "1. Write a short description of what the article is about and what causal model make inform the reasoning behind an argument the might make.\n",
    "2. Propose 1 outcome variable that the news article is either implicitly or explicitly addressing that people are most likely to be interested in studying, especially if people tend to have misconceptions about it\n",
    "3. Propose 2 treatment variables that either directly or indirectly affect the selected outcome variable and are the most interesting to study\n",
    "4. Propose 3 confounder variables that affect some reasonable combination of the outcome and treatment variables\n",
    "5. Propose 3 mediator variables that affect and are affected by some reasonable combination of any other variables\n",
    "6. Propose 2 collider variables that are affected by some reasonable combination of any other variables\n",
    "\n",
    "Here is the beginning of the new article:\n",
    "```\n",
    "{spark}\n",
    "```\n",
    "\n",
    "The variables and causal graph should, where possible, use specific details such as names and locations mentioned in the article. Also, generally the variable value \"0\" should correspond to the negative or control while the value \"1\" should correspond to the positive or greater value.\n",
    "\n",
    "Take a deep breath and think step-by-step about how you will do this.'''\n",
    "graph_selection_prompt_template = \\\n",
    "'''1. From all proposed confounder, mediator, and collider variables, select between 5-8 variables that are most interesting to study and together with the treatment and outcome variables result in a realistic interesting causal graph. Important: Make sure the causal graph is a DAG and that no node has more than 3 parents!\n",
    "2.  List all the edges in the causal graph, and make sure to mention which edges are observable and which are not.\n",
    "3. Provide a python list called `nodes` of all the nodes in the proposed graph. For each node, provide the following information in the form of a python dict:\n",
    "- `name`: the name of the variable\n",
    "- `description`: a short description of the variable\n",
    "- `type`: the type of the variable, which can be one of the following: `outcome`, `treatment`, `confounder`, `mediator`, `collider`\n",
    "- `observed`: a boolean value indicating whether the variable is observable or not\n",
    "- `values`: a python list of the descriptions of the values the variable can take (corresponding to the index)\n",
    "- `parents`: a python list of the names of the parents of the variable (make sure they match the corresponding `name` field of the parent nodes, and remember, there should not be more than 3 parents for any node)\n",
    "\n",
    "Take a deep breath and think step-by-step about how you will do this.'''\n",
    "stats_prompt_template = \\\n",
    "'''We have a causal bayes net based on the following article:\n",
    "\n",
    "```\n",
    "{spark}\n",
    "```\n",
    "\n",
    "Now we would like to estimate the probabilities of certain events.\n",
    "\n",
    "Using commonsense, estimate the probabilities of the following events:\n",
    "\n",
    "{questions}\n",
    "\n",
    "Where the variables are defined as:\n",
    "{descriptions}\n",
    "\n",
    "For each question above, answer with the lower and upper bound estimates of the probabilities as a python dictionary where the key corresponds to the question index in exactly the following format:\n",
    "\n",
    "```python\n",
    "probabilities = {{\n",
    "  1: [0.3, 0.4],\n",
    "  ...\n",
    "}}\n",
    "```\n",
    "\n",
    "Answer concisely and precisely in the desired format.'''"
   ],
   "metadata": {
    "collapsed": false,
    "ExecuteTime": {
     "end_time": "2023-11-19T15:45:29.504879324Z",
     "start_time": "2023-11-19T15:45:29.487568714Z"
    }
   },
   "id": "810e9c63d4ccc441"
  },
  {
   "cell_type": "code",
   "execution_count": 5,
   "outputs": [
    {
     "name": "stdout",
     "output_type": "stream",
     "text": [
      "5157889\n",
      "Title: ARM takeover: Qualcomm interested in participating - heise online\n",
      "Description: If nothing comes of Nvidia's $40 billion ARM takeover, a consortium of several manufacturers could act as investors.\n",
      "Original Language: German\n"
     ]
    }
   ],
   "source": [
    "# ctx = Story(story_root=misc.data_root() / 'stories', story_id='test2')\n",
    "ctx = Story(story_root=misc.data_root() / 'stories')\n",
    "# ctx.populate_defaults()\n",
    "ctx.include(\n",
    "    FixedTemplate('setting', setting_generation_prompt_template),\n",
    "    FixedTemplate('graph', graph_selection_prompt_template),\n",
    "    StatisticsPrompting(stats_prompt_template),\n",
    "    spark_generator,\n",
    ");\n",
    "# print(ctx)\n",
    "print(ctx['seed'])\n",
    "print(ctx['spark'])"
   ],
   "metadata": {
    "collapsed": false,
    "ExecuteTime": {
     "end_time": "2023-11-19T15:45:29.662648422Z",
     "start_time": "2023-11-19T15:45:29.645385617Z"
    }
   },
   "id": "46baeb3a28e45ee"
  },
  {
   "cell_type": "code",
   "execution_count": 6,
   "outputs": [
    {
     "name": "stdout",
     "output_type": "stream",
     "text": [
      "We are interested in building a causal model based on the explicit and implicit assumptions contained in the specified article and then using causal inference to evaluate the reasoning. Answer the following questions to design an interesting, simple, and most importantly realistic causal model from a news article.\n",
      "\n",
      "To help understand the instructions here are some tips:\n",
      "- all variables are always binary and (at least in principle) measurable, so when creating and selecting variables, make sure it is reasonable to treat them as binary\n",
      "- whenever you propose a variable, make sure to define the meaning of each value it can take, and mention whether it is observable or not\n",
      "- outcome variables are always observable\n",
      "- treatment variables are always observable and intervenable, that means it must be possible to (at least in principle) change their value if desired\n",
      "- confounder variables may or may not be observable, and should always have at least two causal children (for example, a treatment and outcome variable) and no causal parents\n",
      "- mediator variables may or may not be observable, and should always have at least one causal parents (for example, a treatment variable) and at least one causal child (for example, the outcome variable)\n",
      "- collider variables may or may not be observable, and should always have at least two causal parents (for example, a treatment and outcome variable) and no causal children\n",
      "\n",
      "Answer concisely and precisely in the desired format. Carefully complete each of these tasks in order.\n",
      "\n",
      "1. Write a short description of what the article is about and what causal model make inform the reasoning behind an argument the might make.\n",
      "2. Propose 1 outcome variable that the news article is either implicitly or explicitly addressing that people are most likely to be interested in studying, especially if people tend to have misconceptions about it\n",
      "3. Propose 2 treatment variables that either directly or indirectly affect the selected outcome variable and are the most interesting to study\n",
      "4. Propose 3 confounder variables that affect some reasonable combination of the outcome and treatment variables\n",
      "5. Propose 3 mediator variables that affect and are affected by some reasonable combination of any other variables\n",
      "6. Propose 2 collider variables that are affected by some reasonable combination of any other variables\n",
      "\n",
      "Here is the beginning of the new article:\n",
      "```\n",
      "Title: ARM takeover: Qualcomm interested in participating - heise online\n",
      "Description: If nothing comes of Nvidia's $40 billion ARM takeover, a consortium of several manufacturers could act as investors.\n",
      "Original Language: German\n",
      "```\n",
      "\n",
      "The variables and causal graph should, where possible, use specific details such as names and locations mentioned in the article. Also, generally the variable value \"0\" should correspond to the negative or control while the value \"1\" should correspond to the positive or greater value.\n",
      "\n",
      "Take a deep breath and think step-by-step about how you will do this.\n"
     ]
    }
   ],
   "source": [
    "print(ctx['setting'])"
   ],
   "metadata": {
    "collapsed": false,
    "ExecuteTime": {
     "end_time": "2023-11-19T15:45:33.516228421Z",
     "start_time": "2023-11-19T15:45:33.479269207Z"
    }
   },
   "id": "7cac9d876fc4d17a"
  },
  {
   "cell_type": "code",
   "execution_count": 7,
   "outputs": [
    {
     "name": "stdout",
     "output_type": "stream",
     "text": [
      "1. From all proposed confounder, mediator, and collider variables, select between 5-8 variables that are most interesting to study and together with the treatment and outcome variables result in a realistic interesting causal graph. Important: Make sure the causal graph is a DAG and that no node has more than 3 parents!\n",
      "2.  List all the edges in the causal graph, and make sure to mention which edges are observable and which are not.\n",
      "3. Provide a python list called `nodes` of all the nodes in the proposed graph. For each node, provide the following information in the form of a python dict:\n",
      "- `name`: the name of the variable\n",
      "- `description`: a short description of the variable\n",
      "- `type`: the type of the variable, which can be one of the following: `outcome`, `treatment`, `confounder`, `mediator`, `collider`\n",
      "- `observed`: a boolean value indicating whether the variable is observable or not\n",
      "- `values`: a python list of the descriptions of the values the variable can take (corresponding to the index)\n",
      "- `parents`: a python list of the names of the parents of the variable (make sure they match the corresponding `name` field of the parent nodes)\n",
      "\n",
      "Take a deep breath and think step-by-step about how you will do this.\n"
     ]
    }
   ],
   "source": [
    "print(ctx['graph'])"
   ],
   "metadata": {
    "collapsed": false,
    "ExecuteTime": {
     "end_time": "2023-11-19T15:45:34.666625729Z",
     "start_time": "2023-11-19T15:45:34.640186141Z"
    }
   },
   "id": "3dba22960a9e0ca4"
  },
  {
   "cell_type": "code",
   "execution_count": 8,
   "outputs": [],
   "source": [
    "#################################################\n",
    "\n",
    "\n",
    "nodes = [\n",
    "    {\n",
    "        \"name\": \"Qualcomm_Participation\",\n",
    "        \"description\": \"Participation of Qualcomm in ARM takeover\",\n",
    "        \"type\": \"treatment\",\n",
    "        \"observed\": True,\n",
    "        \"values\": [\"Does not participate\", \"Participates\"],\n",
    "        \"parents\": []\n",
    "    },\n",
    "    {\n",
    "        \"name\": \"Nvidia_Takeover_Success\",\n",
    "        \"description\": \"Success of Nvidia's ARM takeover attempt\",\n",
    "        \"type\": \"treatment\",\n",
    "        \"observed\": True,\n",
    "        \"values\": [\"Takeover fails\", \"Takeover succeeds\"],\n",
    "        \"parents\": [\"Regulatory_Approval\", \"Global_Economic_Conditions\"]\n",
    "    },\n",
    "    {\n",
    "        \"name\": \"Market_Competition\",\n",
    "        \"description\": \"Level of market competition in the tech industry\",\n",
    "        \"type\": \"outcome\",\n",
    "        \"observed\": True,\n",
    "        \"values\": [\"Reduced competition\", \"Increased competition\"],\n",
    "        \"parents\": [\"Qualcomm_Participation\", \"Nvidia_Takeover_Success\", \"Investment_Strategy\", \"Tech_Innovation\", \"Regulatory_Approval\"]\n",
    "    },\n",
    "    {\n",
    "        \"name\": \"Regulatory_Approval\",\n",
    "        \"description\": \"Regulatory approval for ARM takeover\",\n",
    "        \"type\": \"confounder\",\n",
    "        \"observed\": True,\n",
    "        \"values\": [\"Not approved\", \"Approved\"],\n",
    "        \"parents\": []\n",
    "    },\n",
    "    {\n",
    "        \"name\": \"Global_Economic_Conditions\",\n",
    "        \"description\": \"Current global economic conditions\",\n",
    "        \"type\": \"confounder\",\n",
    "        \"observed\": True,\n",
    "        \"values\": [\"Unfavorable conditions\", \"Favorable conditions\"],\n",
    "        \"parents\": []\n",
    "    },\n",
    "    {\n",
    "        \"name\": \"Investment_Strategy\",\n",
    "        \"description\": \"Investment strategy adopted by Qualcomm\",\n",
    "        \"type\": \"mediator\",\n",
    "        \"observed\": True,\n",
    "        \"values\": [\"Conservative strategy\", \"Aggressive strategy\"],\n",
    "        \"parents\": [\"Qualcomm_Participation\"]\n",
    "    },\n",
    "    {\n",
    "        \"name\": \"Tech_Innovation\",\n",
    "        \"description\": \"Level of technological innovation in the market\",\n",
    "        \"type\": \"mediator\",\n",
    "        \"observed\": True,\n",
    "        \"values\": [\"Low innovation\", \"High innovation\"],\n",
    "        \"parents\": [\"Nvidia_Takeover_Success\"]\n",
    "    },\n",
    "    {\n",
    "        \"name\": \"Stock_Market_Response\",\n",
    "        \"description\": \"Stock market response to the takeover and market conditions\",\n",
    "        \"type\": \"collider\",\n",
    "        \"observed\": True,\n",
    "        \"values\": [\"Negative response\", \"Positive response\"],\n",
    "        \"parents\": [\"Market_Competition\", \"Tech_Innovation\"]\n",
    "    }\n",
    "]\n",
    "\n",
    "\n",
    "\n",
    "#################################################\n",
    "varvals = {node['name']: node['values'] for node in nodes}\n",
    "varparents = {node['name']: node['parents'] for node in nodes}\n",
    "varorder = toposort(varparents)\n",
    "nodes = sorted(nodes, key=lambda x: varorder.index(x['name']))\n",
    "\n",
    "ctx['nodes'] = nodes\n"
   ],
   "metadata": {
    "collapsed": false,
    "ExecuteTime": {
     "end_time": "2023-11-19T15:47:32.171433328Z",
     "start_time": "2023-11-19T15:47:32.109565103Z"
    }
   },
   "id": "f3fcf031d24d5d48"
  },
  {
   "cell_type": "code",
   "execution_count": 9,
   "outputs": [
    {
     "name": "stderr",
     "output_type": "stream",
     "text": [
      "/tmp/ipykernel_390120/2912959094.py:20: UserWarning: This figure includes Axes that are not compatible with tight_layout, so results might be incorrect.\n",
      "  plt.tight_layout();\n"
     ]
    },
    {
     "data": {
      "text/plain": "<Figure size 1000x600 with 1 Axes>",
      "image/png": "[encoded data removed]"
     },
     "metadata": {},
     "output_type": "display_data"
    }
   ],
   "source": [
    "G = nx.DiGraph()\n",
    "\n",
    "# Add nodes and edges to the graph\n",
    "for node in ctx['nodes']:\n",
    "    G.add_node(node['name'], type=node['type'], observed=node['observed'])\n",
    "\n",
    "    for parent in node['parents']:\n",
    "        G.add_edge(parent, node['name'])\n",
    "\n",
    "# Define node colors based on type\n",
    "node_colors = {'treatment': 'lightcoral', 'outcome': 'lightgreen', 'confounder': 'lightblue', 'mediator': 'lightyellow', 'collider': 'lightgray'}\n",
    "colors = [node_colors[G.nodes[n]['type']] for n in G.nodes]\n",
    "\n",
    "# Draw the graph\n",
    "plt.figure(figsize=(10, 6))\n",
    "# pos = nx.spring_layout(G)\n",
    "pos = nx.circular_layout(G)\n",
    "nx.draw(G, pos, with_labels=True, node_color=colors, node_size=5000, font_size=10, font_weight='bold', edge_color='gray', arrowsize=20)\n",
    "plt.title('Causal Graph', size=15);\n",
    "plt.tight_layout();"
   ],
   "metadata": {
    "collapsed": false,
    "ExecuteTime": {
     "end_time": "2023-11-19T15:47:33.004908105Z",
     "start_time": "2023-11-19T15:47:32.839379873Z"
    }
   },
   "id": "9f8b963c0ac35fa8"
  },
  {
   "cell_type": "code",
   "execution_count": 10,
   "outputs": [
    {
     "name": "stdout",
     "output_type": "stream",
     "text": [
      "We have a causal bayes net based on the following article:\n",
      "\n",
      "```\n",
      "Title: ARM takeover: Qualcomm interested in participating - heise online\n",
      "Description: If nothing comes of Nvidia's $40 billion ARM takeover, a consortium of several manufacturers could act as investors.\n",
      "Original Language: German\n",
      "```\n",
      "\n",
      "Now we would like to estimate the probabilities of certain events.\n",
      "\n",
      "Using commonsense, estimate the probabilities of the following events:\n",
      "\n",
      "1. what is the probability that \"Qualcomm_Participation\" is \"Participates\" (rather than \"Does not participate\")?\n",
      "2. what is the probability that \"Regulatory_Approval\" is \"Approved\" (rather than \"Not approved\")?\n",
      "3. what is the probability that \"Global_Economic_Conditions\" is \"Favorable conditions\" (rather than \"Unfavorable conditions\")?\n",
      "4. when \"Regulatory_Approval\" is \"Not approved\" and \"Global_Economic_Conditions\" is \"Unfavorable conditions\": what is the probability that \"Nvidia_Takeover_Success\" is \"Takeover succeeds\" (rather than \"Takeover fails\")?\n",
      "5. when \"Regulatory_Approval\" is \"Not approved\" and \"Global_Economic_Conditions\" is \"Favorable conditions\": what is the probability that \"Nvidia_Takeover_Success\" is \"Takeover succeeds\" (rather than \"Takeover fails\")?\n",
      "6. when \"Regulatory_Approval\" is \"Approved\" and \"Global_Economic_Conditions\" is \"Unfavorable conditions\": what is the probability that \"Nvidia_Takeover_Success\" is \"Takeover succeeds\" (rather than \"Takeover fails\")?\n",
      "7. when \"Regulatory_Approval\" is \"Approved\" and \"Global_Economic_Conditions\" is \"Favorable conditions\": what is the probability that \"Nvidia_Takeover_Success\" is \"Takeover succeeds\" (rather than \"Takeover fails\")?\n",
      "8. when \"Qualcomm_Participation\" is \"Does not participate\": what is the probability that \"Investment_Strategy\" is \"Aggressive strategy\" (rather than \"Conservative strategy\")?\n",
      "9. when \"Qualcomm_Participation\" is \"Participates\": what is the probability that \"Investment_Strategy\" is \"Aggressive strategy\" (rather than \"Conservative strategy\")?\n",
      "10. when \"Nvidia_Takeover_Success\" is \"Takeover fails\": what is the probability that \"Tech_Innovation\" is \"High innovation\" (rather than \"Low innovation\")?\n",
      "11. when \"Nvidia_Takeover_Success\" is \"Takeover succeeds\": what is the probability that \"Tech_Innovation\" is \"High innovation\" (rather than \"Low innovation\")?\n",
      "12. when \"Qualcomm_Participation\" is \"Does not participate\" and \"Nvidia_Takeover_Success\" is \"Takeover fails\" and \"Investment_Strategy\" is \"Conservative strategy\" and \"Tech_Innovation\" is \"Low innovation\" and \"Regulatory_Approval\" is \"Not approved\": what is the probability that \"Market_Competition\" is \"Increased competition\" (rather than \"Reduced competition\")?\n",
      "13. when \"Qualcomm_Participation\" is \"Does not participate\" and \"Nvidia_Takeover_Success\" is \"Takeover fails\" and \"Investment_Strategy\" is \"Conservative strategy\" and \"Tech_Innovation\" is \"Low innovation\" and \"Regulatory_Approval\" is \"Approved\": what is the probability that \"Market_Competition\" is \"Increased competition\" (rather than \"Reduced competition\")?\n",
      "14. when \"Qualcomm_Participation\" is \"Does not participate\" and \"Nvidia_Takeover_Success\" is \"Takeover fails\" and \"Investment_Strategy\" is \"Conservative strategy\" and \"Tech_Innovation\" is \"High innovation\" and \"Regulatory_Approval\" is \"Not approved\": what is the probability that \"Market_Competition\" is \"Increased competition\" (rather than \"Reduced competition\")?\n",
      "15. when \"Qualcomm_Participation\" is \"Does not participate\" and \"Nvidia_Takeover_Success\" is \"Takeover fails\" and \"Investment_Strategy\" is \"Conservative strategy\" and \"Tech_Innovation\" is \"High innovation\" and \"Regulatory_Approval\" is \"Approved\": what is the probability that \"Market_Competition\" is \"Increased competition\" (rather than \"Reduced competition\")?\n",
      "16. when \"Qualcomm_Participation\" is \"Does not participate\" and \"Nvidia_Takeover_Success\" is \"Takeover fails\" and \"Investment_Strategy\" is \"Aggressive strategy\" and \"Tech_Innovation\" is \"Low innovation\" and \"Regulatory_Approval\" is \"Not approved\": what is the probability that \"Market_Competition\" is \"Increased competition\" (rather than \"Reduced competition\")?\n",
      "17. when \"Qualcomm_Participation\" is \"Does not participate\" and \"Nvidia_Takeover_Success\" is \"Takeover fails\" and \"Investment_Strategy\" is \"Aggressive strategy\" and \"Tech_Innovation\" is \"Low innovation\" and \"Regulatory_Approval\" is \"Approved\": what is the probability that \"Market_Competition\" is \"Increased competition\" (rather than \"Reduced competition\")?\n",
      "18. when \"Qualcomm_Participation\" is \"Does not participate\" and \"Nvidia_Takeover_Success\" is \"Takeover fails\" and \"Investment_Strategy\" is \"Aggressive strategy\" and \"Tech_Innovation\" is \"High innovation\" and \"Regulatory_Approval\" is \"Not approved\": what is the probability that \"Market_Competition\" is \"Increased competition\" (rather than \"Reduced competition\")?\n",
      "19. when \"Qualcomm_Participation\" is \"Does not participate\" and \"Nvidia_Takeover_Success\" is \"Takeover fails\" and \"Investment_Strategy\" is \"Aggressive strategy\" and \"Tech_Innovation\" is \"High innovation\" and \"Regulatory_Approval\" is \"Approved\": what is the probability that \"Market_Competition\" is \"Increased competition\" (rather than \"Reduced competition\")?\n",
      "20. when \"Qualcomm_Participation\" is \"Does not participate\" and \"Nvidia_Takeover_Success\" is \"Takeover succeeds\" and \"Investment_Strategy\" is \"Conservative strategy\" and \"Tech_Innovation\" is \"Low innovation\" and \"Regulatory_Approval\" is \"Not approved\": what is the probability that \"Market_Competition\" is \"Increased competition\" (rather than \"Reduced competition\")?\n",
      "21. when \"Qualcomm_Participation\" is \"Does not participate\" and \"Nvidia_Takeover_Success\" is \"Takeover succeeds\" and \"Investment_Strategy\" is \"Conservative strategy\" and \"Tech_Innovation\" is \"Low innovation\" and \"Regulatory_Approval\" is \"Approved\": what is the probability that \"Market_Competition\" is \"Increased competition\" (rather than \"Reduced competition\")?\n",
      "22. when \"Qualcomm_Participation\" is \"Does not participate\" and \"Nvidia_Takeover_Success\" is \"Takeover succeeds\" and \"Investment_Strategy\" is \"Conservative strategy\" and \"Tech_Innovation\" is \"High innovation\" and \"Regulatory_Approval\" is \"Not approved\": what is the probability that \"Market_Competition\" is \"Increased competition\" (rather than \"Reduced competition\")?\n",
      "23. when \"Qualcomm_Participation\" is \"Does not participate\" and \"Nvidia_Takeover_Success\" is \"Takeover succeeds\" and \"Investment_Strategy\" is \"Conservative strategy\" and \"Tech_Innovation\" is \"High innovation\" and \"Regulatory_Approval\" is \"Approved\": what is the probability that \"Market_Competition\" is \"Increased competition\" (rather than \"Reduced competition\")?\n",
      "24. when \"Qualcomm_Participation\" is \"Does not participate\" and \"Nvidia_Takeover_Success\" is \"Takeover succeeds\" and \"Investment_Strategy\" is \"Aggressive strategy\" and \"Tech_Innovation\" is \"Low innovation\" and \"Regulatory_Approval\" is \"Not approved\": what is the probability that \"Market_Competition\" is \"Increased competition\" (rather than \"Reduced competition\")?\n",
      "25. when \"Qualcomm_Participation\" is \"Does not participate\" and \"Nvidia_Takeover_Success\" is \"Takeover succeeds\" and \"Investment_Strategy\" is \"Aggressive strategy\" and \"Tech_Innovation\" is \"Low innovation\" and \"Regulatory_Approval\" is \"Approved\": what is the probability that \"Market_Competition\" is \"Increased competition\" (rather than \"Reduced competition\")?\n",
      "26. when \"Qualcomm_Participation\" is \"Does not participate\" and \"Nvidia_Takeover_Success\" is \"Takeover succeeds\" and \"Investment_Strategy\" is \"Aggressive strategy\" and \"Tech_Innovation\" is \"High innovation\" and \"Regulatory_Approval\" is \"Not approved\": what is the probability that \"Market_Competition\" is \"Increased competition\" (rather than \"Reduced competition\")?\n",
      "27. when \"Qualcomm_Participation\" is \"Does not participate\" and \"Nvidia_Takeover_Success\" is \"Takeover succeeds\" and \"Investment_Strategy\" is \"Aggressive strategy\" and \"Tech_Innovation\" is \"High innovation\" and \"Regulatory_Approval\" is \"Approved\": what is the probability that \"Market_Competition\" is \"Increased competition\" (rather than \"Reduced competition\")?\n",
      "28. when \"Qualcomm_Participation\" is \"Participates\" and \"Nvidia_Takeover_Success\" is \"Takeover fails\" and \"Investment_Strategy\" is \"Conservative strategy\" and \"Tech_Innovation\" is \"Low innovation\" and \"Regulatory_Approval\" is \"Not approved\": what is the probability that \"Market_Competition\" is \"Increased competition\" (rather than \"Reduced competition\")?\n",
      "29. when \"Qualcomm_Participation\" is \"Participates\" and \"Nvidia_Takeover_Success\" is \"Takeover fails\" and \"Investment_Strategy\" is \"Conservative strategy\" and \"Tech_Innovation\" is \"Low innovation\" and \"Regulatory_Approval\" is \"Approved\": what is the probability that \"Market_Competition\" is \"Increased competition\" (rather than \"Reduced competition\")?\n",
      "30. when \"Qualcomm_Participation\" is \"Participates\" and \"Nvidia_Takeover_Success\" is \"Takeover fails\" and \"Investment_Strategy\" is \"Conservative strategy\" and \"Tech_Innovation\" is \"High innovation\" and \"Regulatory_Approval\" is \"Not approved\": what is the probability that \"Market_Competition\" is \"Increased competition\" (rather than \"Reduced competition\")?\n",
      "31. when \"Qualcomm_Participation\" is \"Participates\" and \"Nvidia_Takeover_Success\" is \"Takeover fails\" and \"Investment_Strategy\" is \"Conservative strategy\" and \"Tech_Innovation\" is \"High innovation\" and \"Regulatory_Approval\" is \"Approved\": what is the probability that \"Market_Competition\" is \"Increased competition\" (rather than \"Reduced competition\")?\n",
      "32. when \"Qualcomm_Participation\" is \"Participates\" and \"Nvidia_Takeover_Success\" is \"Takeover fails\" and \"Investment_Strategy\" is \"Aggressive strategy\" and \"Tech_Innovation\" is \"Low innovation\" and \"Regulatory_Approval\" is \"Not approved\": what is the probability that \"Market_Competition\" is \"Increased competition\" (rather than \"Reduced competition\")?\n",
      "33. when \"Qualcomm_Participation\" is \"Participates\" and \"Nvidia_Takeover_Success\" is \"Takeover fails\" and \"Investment_Strategy\" is \"Aggressive strategy\" and \"Tech_Innovation\" is \"Low innovation\" and \"Regulatory_Approval\" is \"Approved\": what is the probability that \"Market_Competition\" is \"Increased competition\" (rather than \"Reduced competition\")?\n",
      "34. when \"Qualcomm_Participation\" is \"Participates\" and \"Nvidia_Takeover_Success\" is \"Takeover fails\" and \"Investment_Strategy\" is \"Aggressive strategy\" and \"Tech_Innovation\" is \"High innovation\" and \"Regulatory_Approval\" is \"Not approved\": what is the probability that \"Market_Competition\" is \"Increased competition\" (rather than \"Reduced competition\")?\n",
      "35. when \"Qualcomm_Participation\" is \"Participates\" and \"Nvidia_Takeover_Success\" is \"Takeover fails\" and \"Investment_Strategy\" is \"Aggressive strategy\" and \"Tech_Innovation\" is \"High innovation\" and \"Regulatory_Approval\" is \"Approved\": what is the probability that \"Market_Competition\" is \"Increased competition\" (rather than \"Reduced competition\")?\n",
      "36. when \"Qualcomm_Participation\" is \"Participates\" and \"Nvidia_Takeover_Success\" is \"Takeover succeeds\" and \"Investment_Strategy\" is \"Conservative strategy\" and \"Tech_Innovation\" is \"Low innovation\" and \"Regulatory_Approval\" is \"Not approved\": what is the probability that \"Market_Competition\" is \"Increased competition\" (rather than \"Reduced competition\")?\n",
      "37. when \"Qualcomm_Participation\" is \"Participates\" and \"Nvidia_Takeover_Success\" is \"Takeover succeeds\" and \"Investment_Strategy\" is \"Conservative strategy\" and \"Tech_Innovation\" is \"Low innovation\" and \"Regulatory_Approval\" is \"Approved\": what is the probability that \"Market_Competition\" is \"Increased competition\" (rather than \"Reduced competition\")?\n",
      "38. when \"Qualcomm_Participation\" is \"Participates\" and \"Nvidia_Takeover_Success\" is \"Takeover succeeds\" and \"Investment_Strategy\" is \"Conservative strategy\" and \"Tech_Innovation\" is \"High innovation\" and \"Regulatory_Approval\" is \"Not approved\": what is the probability that \"Market_Competition\" is \"Increased competition\" (rather than \"Reduced competition\")?\n",
      "39. when \"Qualcomm_Participation\" is \"Participates\" and \"Nvidia_Takeover_Success\" is \"Takeover succeeds\" and \"Investment_Strategy\" is \"Conservative strategy\" and \"Tech_Innovation\" is \"High innovation\" and \"Regulatory_Approval\" is \"Approved\": what is the probability that \"Market_Competition\" is \"Increased competition\" (rather than \"Reduced competition\")?\n",
      "40. when \"Qualcomm_Participation\" is \"Participates\" and \"Nvidia_Takeover_Success\" is \"Takeover succeeds\" and \"Investment_Strategy\" is \"Aggressive strategy\" and \"Tech_Innovation\" is \"Low innovation\" and \"Regulatory_Approval\" is \"Not approved\": what is the probability that \"Market_Competition\" is \"Increased competition\" (rather than \"Reduced competition\")?\n",
      "41. when \"Qualcomm_Participation\" is \"Participates\" and \"Nvidia_Takeover_Success\" is \"Takeover succeeds\" and \"Investment_Strategy\" is \"Aggressive strategy\" and \"Tech_Innovation\" is \"Low innovation\" and \"Regulatory_Approval\" is \"Approved\": what is the probability that \"Market_Competition\" is \"Increased competition\" (rather than \"Reduced competition\")?\n",
      "42. when \"Qualcomm_Participation\" is \"Participates\" and \"Nvidia_Takeover_Success\" is \"Takeover succeeds\" and \"Investment_Strategy\" is \"Aggressive strategy\" and \"Tech_Innovation\" is \"High innovation\" and \"Regulatory_Approval\" is \"Not approved\": what is the probability that \"Market_Competition\" is \"Increased competition\" (rather than \"Reduced competition\")?\n",
      "43. when \"Qualcomm_Participation\" is \"Participates\" and \"Nvidia_Takeover_Success\" is \"Takeover succeeds\" and \"Investment_Strategy\" is \"Aggressive strategy\" and \"Tech_Innovation\" is \"High innovation\" and \"Regulatory_Approval\" is \"Approved\": what is the probability that \"Market_Competition\" is \"Increased competition\" (rather than \"Reduced competition\")?\n",
      "44. when \"Market_Competition\" is \"Reduced competition\" and \"Tech_Innovation\" is \"Low innovation\": what is the probability that \"Stock_Market_Response\" is \"Positive response\" (rather than \"Negative response\")?\n",
      "45. when \"Market_Competition\" is \"Reduced competition\" and \"Tech_Innovation\" is \"High innovation\": what is the probability that \"Stock_Market_Response\" is \"Positive response\" (rather than \"Negative response\")?\n",
      "46. when \"Market_Competition\" is \"Increased competition\" and \"Tech_Innovation\" is \"Low innovation\": what is the probability that \"Stock_Market_Response\" is \"Positive response\" (rather than \"Negative response\")?\n",
      "47. when \"Market_Competition\" is \"Increased competition\" and \"Tech_Innovation\" is \"High innovation\": what is the probability that \"Stock_Market_Response\" is \"Positive response\" (rather than \"Negative response\")?\n",
      "\n",
      "Where the variables are defined as:\n",
      "\"Qualcomm_Participation\" means \"Participation of Qualcomm in ARM takeover\"\n",
      "\"Regulatory_Approval\" means \"Regulatory approval for ARM takeover\"\n",
      "\"Global_Economic_Conditions\" means \"Current global economic conditions\"\n",
      "\"Nvidia_Takeover_Success\" means \"Success of Nvidia's ARM takeover attempt\"\n",
      "\"Investment_Strategy\" means \"Investment strategy adopted by Qualcomm\"\n",
      "\"Tech_Innovation\" means \"Level of technological innovation in the market\"\n",
      "\"Market_Competition\" means \"Level of market competition in the tech industry\"\n",
      "\"Stock_Market_Response\" means \"Stock market response to the takeover and market conditions\"\n",
      "\n",
      "For each question above, answer with the lower and upper bound estimates of the probabilities as a python dictionary where the key corresponds to the question index in exactly the following format:\n",
      "\n",
      "```python\n",
      "probabilities = {\n",
      "  1: [0.3, 0.4],\n",
      "  ...\n",
      "}\n",
      "```\n",
      "\n",
      "Answer concisely and precisely in the desired format.\n"
     ]
    }
   ],
   "source": [
    "print(ctx['stats'])"
   ],
   "metadata": {
    "collapsed": false,
    "ExecuteTime": {
     "end_time": "2023-11-19T15:47:33.134990189Z",
     "start_time": "2023-11-19T15:47:33.085188538Z"
    }
   },
   "id": "feaee31660914e5"
  },
  {
   "cell_type": "code",
   "execution_count": 11,
   "outputs": [],
   "source": [
    "#################################################\n",
    "\n",
    "\n",
    "\n",
    "probabilities = {\n",
    "    1: [0.4, 0.6],  # Qualcomm's interest in participating\n",
    "    2: [0.5, 0.7],  # Regulatory approval for large tech mergers can be uncertain\n",
    "    3: [0.5, 0.7],  # Global economic conditions are dynamic but generally tend towards stability\n",
    "    4: [0.1, 0.3],  # Takeover success under negative regulatory and economic conditions is low\n",
    "    5: [0.2, 0.4],  # Favorable economic conditions might slightly increase the chance of success despite regulatory disapproval\n",
    "    6: [0.3, 0.5],  # Regulatory approval is key, even in unfavorable economic conditions\n",
    "    7: [0.6, 0.8],  # Both favorable conditions and regulatory approval significantly increase chances of success\n",
    "    8: [0.2, 0.4],  # Less likely to adopt an aggressive strategy without Qualcomm's participation\n",
    "    9: [0.5, 0.7],  # Qualcomm's participation could lead to a more aggressive investment strategy\n",
    "    10: [0.3, 0.5], # Innovation might be stifled if Nvidia's takeover fails\n",
    "    11: [0.6, 0.8], # Success could foster higher innovation\n",
    "    12: [0.2, 0.4], # Multiple negative factors leading to reduced competition likelihood\n",
    "    13: [0.3, 0.5], # Regulatory approval might not fully mitigate other negative factors\n",
    "    14: [0.3, 0.5], # High innovation could slightly offset other negative factors\n",
    "    15: [0.4, 0.6], # Regulatory approval and high innovation could increase competition\n",
    "    16: [0.3, 0.5], # Aggressive strategy might not overcome negative factors\n",
    "    17: [0.4, 0.6], # Regulatory approval might improve the situation\n",
    "    18: [0.4, 0.6], # High innovation and aggressive strategy could positively impact competition\n",
    "    19: [0.5, 0.7], # Combination of positive factors improving competition chances\n",
    "    20: [0.2, 0.4], # Takeover success with conservative strategy and low innovation indicates lower competition\n",
    "    21: [0.3, 0.5], # Regulatory approval might not fully offset other factors\n",
    "    22: [0.3, 0.5], # High innovation might improve competition\n",
    "    23: [0.4, 0.6], # Several positive factors increasing the chance for more competition\n",
    "    24: [0.2, 0.4], # Aggressive strategy might not overcome negative factors\n",
    "    25: [0.3, 0.5], # Regulatory approval might improve the situation\n",
    "    26: [0.4, 0.6], # High innovation and aggressive strategy could positively impact competition\n",
    "    27: [0.5, 0.7], # Combination of positive factors improving competition chances\n",
    "    28: [0.3, 0.5], # Qualcomm's participation might not offset other negative factors\n",
    "    29: [0.4, 0.6], # Regulatory approval might improve the situation\n",
    "    30: [0.4, 0.6], # High innovation could slightly improve competition\n",
    "    31: [0.5, 0.7], # Combination of Qualcomm's participation, high innovation, and regulatory approval\n",
    "    32: [0.4, 0.6], # Aggressive strategy might improve competition\n",
    "    33: [0.5, 0.7], # Additional positive factor of regulatory approval\n",
    "    34: [0.5, 0.7], # Combination of factors supporting increased competition\n",
    "    35: [0.6, 0.8], # High innovation and Qualcomm's participation likely to increase competition\n",
    "    36: [0.2, 0.4], # Qualcomm's participation might not fully mitigate other negative factors\n",
    "    37: [0.3, 0.5], # Regulatory approval might slightly improve competition\n",
    "    38: [0.4, 0.6], # Qualcomm's participation and high innovation may foster competition\n",
    "    39: [0.5, 0.7], # Several positive factors improving competition\n",
    "    40: [0.3, 0.5], # Aggressive strategy might not overcome negative factors\n",
    "    41: [0.4, 0.6], # Regulatory approval could have a positive impact\n",
    "    42: [0.5, 0.7], # High innovation and aggressive strategy could foster competition\n",
    "    43: [0.6, 0.8], # Combination of positive factors improving competition\n",
    "    44: [0.4, 0.6], # Reduced competition and low innovation might lead to a more cautious market response\n",
    "    45: [0.5, 0.7], # High innovation might improve the market response\n",
    "    46: [0.6, 0.8], # Increased competition and low innovation might still garner a positive response\n",
    "    47: [0.7, 0.9]  # High innovation and increased competition are likely to lead to a very positive market response\n",
    "}\n",
    "\n",
    "\n",
    "#################################################\n",
    "probs = probabilities\n",
    "ctx['probs'] = probs"
   ],
   "metadata": {
    "collapsed": false,
    "ExecuteTime": {
     "end_time": "2023-11-19T15:49:51.236917040Z",
     "start_time": "2023-11-19T15:49:51.171410385Z"
    }
   },
   "id": "43b3c05608ca33be"
  },
  {
   "cell_type": "code",
   "execution_count": 12,
   "outputs": [],
   "source": [
    "raw_prob_samples = []\n",
    "def to_prob_range(raw):\n",
    "    raw = [prange for _, prange in sorted(raw.items())]\n",
    "    return torch.tensor(raw)\n",
    "\n",
    "prob_ranges = to_prob_range(ctx['probs'])\n",
    "lower_bound, upper_bound = prob_ranges.t()\n",
    "\n",
    "variables = {}\n",
    "for node in ctx['nodes']:\n",
    "    if len(node['parents']):\n",
    "        variables[node['name']] = ConditionalBernoulli([variables[parent] for parent in node['parents']])\n",
    "    else:\n",
    "        variables[node['name']] = Bernoulli(0.5)\n",
    "net = BernoulliNetwork(variables)\n",
    "# net"
   ],
   "metadata": {
    "collapsed": false,
    "ExecuteTime": {
     "end_time": "2023-11-19T15:49:51.939729232Z",
     "start_time": "2023-11-19T15:49:51.916877563Z"
    }
   },
   "id": "9c542b5b6c1269ef"
  },
  {
   "cell_type": "code",
   "execution_count": 13,
   "outputs": [],
   "source": [
    "def mc_samples(N, *fns):\n",
    "    estimates = []\n",
    "    for _ in tqdm(range(N)):\n",
    "        param_sample = torch.rand(len(prob_ranges), 1) * (upper_bound - lower_bound) + lower_bound\n",
    "        net.set_params(param_sample)\n",
    "        estimates.append([fn() for fn in fns])\n",
    "    return torch.tensor(estimates)\n",
    "def make_ate_fn(treatment, outcome):\n",
    "    def ate_fn():\n",
    "        return net.ate(treatment)[outcome].item()\n",
    "    return ate_fn\n",
    "def make_corr_fn(v1, v2):\n",
    "    def corr_fn():\n",
    "        return net.correlation(v1, v2).item()\n",
    "    return corr_fn"
   ],
   "metadata": {
    "collapsed": false,
    "ExecuteTime": {
     "end_time": "2023-11-19T15:49:52.778960234Z",
     "start_time": "2023-11-19T15:49:52.757124173Z"
    }
   },
   "id": "ad421b1510843ee"
  },
  {
   "cell_type": "code",
   "execution_count": 14,
   "outputs": [
    {
     "name": "stdout",
     "output_type": "stream",
     "text": [
      "-----------------------  --------------------  ---------------------\n",
      "Qualcomm_Participation   Does not participate  Participates\n",
      "Nvidia_Takeover_Success  Takeover fails        Takeover succeeds\n",
      "Market_Competition       Reduced competition   Increased competition\n",
      "-----------------------  --------------------  ---------------------\n"
     ]
    },
    {
     "data": {
      "text/plain": "  0%|          | 0/100 [00:00<?, ?it/s]",
      "application/vnd.jupyter.widget-view+json": {
       "version_major": 2,
       "version_minor": 0,
       "model_id": "96cad92cf0e2455196c22bd0f5bbc39b"
      }
     },
     "metadata": {},
     "output_type": "display_data"
    },
    {
     "name": "stderr",
     "output_type": "stream",
     "text": [
      "/home/fleeb/miniconda3/lib/python3.11/site-packages/torch/masked/maskedtensor/core.py:156: UserWarning: The PyTorch API of MaskedTensors is in prototype stage and will change in the near future. Please open a Github issue for features requests and see our documentation on the torch.masked module for further information about the project.\n",
      "  warnings.warn((\"The PyTorch API of MaskedTensors is in prototype stage \"\n"
     ]
    },
    {
     "name": "stdout",
     "output_type": "stream",
     "text": [
      "'Qualcomm_Participation' means Participation of Qualcomm in ARM takeover\n",
      "'Regulatory_Approval' means Regulatory approval for ARM takeover\n",
      "'Global_Economic_Conditions' means Current global economic conditions\n",
      "'Nvidia_Takeover_Success' means Success of Nvidia's ARM takeover attempt\n",
      "'Investment_Strategy' means Investment strategy adopted by Qualcomm\n",
      "'Tech_Innovation' means Level of technological innovation in the market\n",
      "'Market_Competition' means Level of market competition in the tech industry\n",
      "'Stock_Market_Response' means Stock market response to the takeover and market conditions\n",
      "Treatment Value    Treatment                Outcome Value          Outcome                   ATE    Correlation\n",
      "-----------------  -----------------------  ---------------------  ------------------  ---------  -------------\n",
      "Participates       Qualcomm_Participation   Increased competition  Market_Competition  0.115766      -0.074101\n",
      "Takeover succeeds  Nvidia_Takeover_Success  Increased competition  Market_Competition  0.0086201     -0.0169118\n"
     ]
    }
   ],
   "source": [
    "treatment1, treatment2 = [node['name'] for node in ctx['nodes'] if node['type'] == 'treatment']\n",
    "t1vals = [node['values'] for node in ctx['nodes'] if node['name'] == treatment1][0]\n",
    "t2vals = [node['values'] for node in ctx['nodes'] if node['name'] == treatment2][0]\n",
    "outcome = [node['name'] for node in ctx['nodes'] if node['type'] == 'outcome'][0]\n",
    "ovals = [node['values'] for node in ctx['nodes'] if node['name'] == outcome][0]\n",
    "\n",
    "print(tabulate([\n",
    "    [treatment1, *t1vals],\n",
    "    [treatment2, *t2vals],\n",
    "    [outcome, *ovals]\n",
    "]))\n",
    "\n",
    "ate1, ate2, corr1, corr2 = mc_samples(100, make_ate_fn(treatment1, outcome), make_ate_fn(treatment2, outcome),\n",
    "                                      make_corr_fn(treatment1, outcome), make_corr_fn(treatment2, outcome)).t()\n",
    "\n",
    "print('\\n'.join(f'{node[\"name\"]!r} means {node[\"description\"]}' for node in ctx['nodes']))\n",
    "print(tabulate([\n",
    "    [f'{t1vals[1]}', f'{treatment1}', f'{ovals[1]}', f'{outcome}', ate1.mean(), corr1.mean(), ],\n",
    "    [f'{t2vals[1]}', f'{treatment2}', f'{ovals[1]}', f'{outcome}', ate2.mean(), corr2.mean(), ],\n",
    "], headers=['Treatment Value', 'Treatment', 'Outcome Value', 'Outcome', 'ATE', 'Correlation']))"
   ],
   "metadata": {
    "collapsed": false,
    "ExecuteTime": {
     "end_time": "2023-11-19T15:50:12.589453543Z",
     "start_time": "2023-11-19T15:49:53.730795308Z"
    }
   },
   "id": "438022b13300119a"
  },
  {
   "cell_type": "code",
   "execution_count": 15,
   "outputs": [
    {
     "data": {
      "text/plain": "<Figure size 800x400 with 1 Axes>",
      "image/png": "[encoded data removed]"
     },
     "metadata": {},
     "output_type": "display_data"
    }
   ],
   "source": [
    "plt.figure(figsize=(8, 4))\n",
    "sns.kdeplot(ate1, label=f'{t1vals[1]} = {treatment1}', fill=True, clip=(min(ate1), max(ate1)));\n",
    "sns.kdeplot(ate2, label=f'{t2vals[1]} = {treatment2}', fill=True, clip=(min(ate2), max(ate2)));\n",
    "plt.title(f'{ovals[1]} = {outcome}')\n",
    "plt.ylabel(f'P(ATE)')\n",
    "plt.gca().legend(loc='upper center', bbox_to_anchor=(0.5, -.1))\n",
    "plt.axvline(0, color='black', linestyle='--', alpha=0.5)\n",
    "# plt.xlim(-1, 1)\n",
    "plt.tight_layout();"
   ],
   "metadata": {
    "collapsed": false,
    "ExecuteTime": {
     "end_time": "2023-11-19T15:50:12.877424015Z",
     "start_time": "2023-11-19T15:50:12.590795403Z"
    }
   },
   "id": "91c54e61480a1489"
  },
  {
   "cell_type": "code",
   "execution_count": 16,
   "outputs": [
    {
     "data": {
      "text/plain": "<Figure size 800x400 with 1 Axes>",
      "image/png": "[encoded data removed]"
     },
     "metadata": {},
     "output_type": "display_data"
    }
   ],
   "source": [
    "plt.figure(figsize=(8, 4))\n",
    "sns.kdeplot(corr1, label=f'{t1vals[1]} = {treatment1}', fill=True, clip=(min(corr1), max(corr1)));\n",
    "sns.kdeplot(corr2, label=f'{t2vals[1]} = {treatment2}', fill=True, clip=(min(corr2), max(corr2)));\n",
    "plt.title(f'{ovals[1]} = {outcome}')\n",
    "plt.ylabel(f'P(Correlation)')\n",
    "plt.gca().legend(loc='upper center', bbox_to_anchor=(0.5, -.1))\n",
    "plt.axvline(0, color='black', linestyle='--', alpha=0.5)\n",
    "# plt.xlim(-1, 1)\n",
    "plt.tight_layout();"
   ],
   "metadata": {
    "collapsed": false,
    "ExecuteTime": {
     "end_time": "2023-11-19T15:50:13.196970875Z",
     "start_time": "2023-11-19T15:50:12.864694073Z"
    }
   },
   "id": "567b6b9bfc98960c"
  },
  {
   "cell_type": "code",
   "execution_count": 17,
   "outputs": [
    {
     "data": {
      "text/plain": "PosixPath('/home/fleeb/workspace/code/cladder/novo-data/stories/test11.json')"
     },
     "execution_count": 17,
     "metadata": {},
     "output_type": "execute_result"
    }
   ],
   "source": [
    "i = len(list(ctx._root.glob(\"*.json\")))+1\n",
    "path = ctx._root / f'test{i}'\n",
    "while path.exists():\n",
    "    i += 1\n",
    "    path = ctx._root / f'test{i}'\n",
    "ctx.save(path.stem if ctx.story_id is None else ctx.story_id)"
   ],
   "metadata": {
    "collapsed": false,
    "ExecuteTime": {
     "end_time": "2023-11-19T15:50:44.237879731Z",
     "start_time": "2023-11-19T15:50:44.189448804Z"
    }
   },
   "id": "b09bd69041ed5cb2"
  },
  {
   "cell_type": "code",
   "execution_count": 18,
   "outputs": [
    {
     "name": "stdout",
     "output_type": "stream",
     "text": [
      "\"Qualcomm_Participation\" means \"Participation of Qualcomm in ARM takeover\"\n",
      "\"Regulatory_Approval\" means \"Regulatory approval for ARM takeover\"\n",
      "\"Global_Economic_Conditions\" means \"Current global economic conditions\"\n",
      "\"Nvidia_Takeover_Success\" means \"Success of Nvidia's ARM takeover attempt\"\n",
      "\"Investment_Strategy\" means \"Investment strategy adopted by Qualcomm\"\n",
      "\"Tech_Innovation\" means \"Level of technological innovation in the market\"\n",
      "\"Market_Competition\" means \"Level of market competition in the tech industry\"\n",
      "\"Stock_Market_Response\" means \"Stock market response to the takeover and market conditions\"\n"
     ]
    }
   ],
   "source": [
    "print(ctx['descriptions'])"
   ],
   "metadata": {
    "collapsed": false,
    "ExecuteTime": {
     "end_time": "2023-11-19T15:50:44.389017971Z",
     "start_time": "2023-11-19T15:50:44.369439345Z"
    }
   },
   "id": "1e6fbb0b6124ccf3"
  },
  {
   "cell_type": "code",
   "execution_count": 20,
   "outputs": [
    {
     "name": "stdout",
     "output_type": "stream",
     "text": [
      "Treatment                                          ATE    Correlation  Outcome\n",
      "-----------------------------------------------  -----  -------------  -----------------------------------------------\n",
      "Participates Qualcomm_Participation               0              0     Approved Regulatory_Approval\n",
      "Participates Qualcomm_Participation              -0              0     Favorable conditions Global_Economic_Conditions\n",
      "Participates Qualcomm_Participation              -0              0     Takeover succeeds Nvidia_Takeover_Success\n",
      "Participates Qualcomm_Participation               0.3           -0.59  Aggressive strategy Investment_Strategy\n",
      "Participates Qualcomm_Participation               0             -0     High innovation Tech_Innovation\n",
      "Participates Qualcomm_Participation               0.12          -0.08  Increased competition Market_Competition\n",
      "Participates Qualcomm_Participation               0.02          -0.07  Positive response Stock_Market_Response\n",
      "Approved Regulatory_Approval                      0              0     Participates Qualcomm_Participation\n",
      "Approved Regulatory_Approval                      0              0     Favorable conditions Global_Economic_Conditions\n",
      "Approved Regulatory_Approval                      0.33          -0.62  Takeover succeeds Nvidia_Takeover_Success\n",
      "Approved Regulatory_Approval                      0              0     Aggressive strategy Investment_Strategy\n",
      "Approved Regulatory_Approval                      0.1            0.44  High innovation Tech_Innovation\n",
      "Approved Regulatory_Approval                      0.1           -0.08  Increased competition Market_Competition\n",
      "Approved Regulatory_Approval                      0.03           0.06  Positive response Stock_Market_Response\n",
      "Favorable conditions Global_Economic_Conditions   0              0     Participates Qualcomm_Participation\n",
      "Favorable conditions Global_Economic_Conditions   0              0     Approved Regulatory_Approval\n",
      "Favorable conditions Global_Economic_Conditions   0.23           0.12  Takeover succeeds Nvidia_Takeover_Success\n",
      "Favorable conditions Global_Economic_Conditions   0              0     Aggressive strategy Investment_Strategy\n",
      "Favorable conditions Global_Economic_Conditions   0.07          -0.09  High innovation Tech_Innovation\n",
      "Favorable conditions Global_Economic_Conditions   0             -0     Increased competition Market_Competition\n",
      "Favorable conditions Global_Economic_Conditions   0.01          -0.03  Positive response Stock_Market_Response\n",
      "Takeover succeeds Nvidia_Takeover_Success         0             -0     Participates Qualcomm_Participation\n",
      "Takeover succeeds Nvidia_Takeover_Success         0             -0.62  Approved Regulatory_Approval\n",
      "Takeover succeeds Nvidia_Takeover_Success         0              0.12  Favorable conditions Global_Economic_Conditions\n",
      "Takeover succeeds Nvidia_Takeover_Success        -0              0     Aggressive strategy Investment_Strategy\n",
      "Takeover succeeds Nvidia_Takeover_Success         0.3           -0.71  High innovation Tech_Innovation\n",
      "Takeover succeeds Nvidia_Takeover_Success         0.01           0.04  Increased competition Market_Competition\n",
      "Takeover succeeds Nvidia_Takeover_Success         0.03          -0.17  Positive response Stock_Market_Response\n",
      "Aggressive strategy Investment_Strategy           0             -0.59  Participates Qualcomm_Participation\n",
      "Aggressive strategy Investment_Strategy           0              0     Approved Regulatory_Approval\n",
      "Aggressive strategy Investment_Strategy           0             -0     Favorable conditions Global_Economic_Conditions\n",
      "Aggressive strategy Investment_Strategy           0             -0     Takeover succeeds Nvidia_Takeover_Success\n",
      "Aggressive strategy Investment_Strategy           0              0     High innovation Tech_Innovation\n",
      "Aggressive strategy Investment_Strategy           0.09           0.07  Increased competition Market_Competition\n",
      "Aggressive strategy Investment_Strategy           0.02           0.07  Positive response Stock_Market_Response\n",
      "High innovation Tech_Innovation                   0              0     Participates Qualcomm_Participation\n",
      "High innovation Tech_Innovation                   0              0.44  Approved Regulatory_Approval\n",
      "High innovation Tech_Innovation                   0             -0.09  Favorable conditions Global_Economic_Conditions\n",
      "High innovation Tech_Innovation                   0             -0.71  Takeover succeeds Nvidia_Takeover_Success\n",
      "High innovation Tech_Innovation                   0             -0     Aggressive strategy Investment_Strategy\n",
      "High innovation Tech_Innovation                   0.14          -0.02  Increased competition Market_Competition\n",
      "High innovation Tech_Innovation                   0.13           0.28  Positive response Stock_Market_Response\n",
      "Increased competition Market_Competition          0             -0.01  Participates Qualcomm_Participation\n",
      "Increased competition Market_Competition          0             -0.16  Approved Regulatory_Approval\n",
      "Increased competition Market_Competition          0             -0     Favorable conditions Global_Economic_Conditions\n",
      "Increased competition Market_Competition          0              0     Takeover succeeds Nvidia_Takeover_Success\n",
      "Increased competition Market_Competition          0              0.15  Aggressive strategy Investment_Strategy\n",
      "Increased competition Market_Competition          0             -0.06  High innovation Tech_Innovation\n",
      "Increased competition Market_Competition          0.2            0.6   Positive response Stock_Market_Response\n",
      "Positive response Stock_Market_Response           0             -0.01  Participates Qualcomm_Participation\n",
      "Positive response Stock_Market_Response           0              0.02  Approved Regulatory_Approval\n",
      "Positive response Stock_Market_Response           0             -0.03  Favorable conditions Global_Economic_Conditions\n",
      "Positive response Stock_Market_Response           0             -0.21  Takeover succeeds Nvidia_Takeover_Success\n",
      "Positive response Stock_Market_Response           0              0.09  Aggressive strategy Investment_Strategy\n",
      "Positive response Stock_Market_Response           0              0.25  High innovation Tech_Innovation\n",
      "Positive response Stock_Market_Response           0              0.59  Increased competition Market_Competition\n"
     ]
    }
   ],
   "source": [
    "outcome = [node['name'] for node in ctx['nodes'] if node['type'] == 'outcome'][0]\n",
    "tbl = []\n",
    "\n",
    "for node1, node2 in product(ctx['nodes'], ctx['nodes']):\n",
    "    if node1 != node2:\n",
    "        tbl.append([\n",
    "                    f'{node1[\"values\"][1]} {node1[\"name\"]}', \n",
    "                    f\"{net.ate(node1['name'])[node2['name']].item():.2f}\", \n",
    "                    f\"{net.correlation(node1['name'], node2['name']).item():.2f}\",\n",
    "                    f'{node2[\"values\"][1]} {node2[\"name\"]}', \n",
    "                    # node1['description'], \n",
    "                    # node2['description'], \n",
    "                    ])\n",
    "print(tabulate(tbl, headers=['Treatment', 'ATE', 'Correlation', 'Outcome', \n",
    "                             # 'Treatment Description', 'Outcome Description'\n",
    "                             ]))"
   ],
   "metadata": {
    "collapsed": false,
    "ExecuteTime": {
     "end_time": "2023-11-19T15:51:32.413146163Z",
     "start_time": "2023-11-19T15:51:27.295591967Z"
    }
   },
   "id": "edf70b7683a3e1b0"
  },
  {
   "cell_type": "code",
   "execution_count": null,
   "outputs": [],
   "source": [],
   "metadata": {
    "collapsed": false
   },
   "id": "f5f1f0b3d96dc4b7"
  },
  {
   "cell_type": "code",
   "execution_count": 22,
   "outputs": [
    {
     "name": "stderr",
     "output_type": "stream",
     "text": [
      "ERROR:dowhy.causal_graph: Error: Pygraphviz cannot be loaded. No module named 'pygraphviz'\n",
      "Trying pydot ...\n",
      "ERROR:dowhy.causal_graph: Error: Pygraphviz cannot be loaded. No module named 'pygraphviz'\n",
      "Trying pydot ...\n"
     ]
    },
    {
     "name": "stdout",
     "output_type": "stream",
     "text": [
      "('Promotional Activities', 'Increased Sales', [])\n",
      "('Price Reduction', 'Increased Sales', ['Consumer Economic Confidence'])\n"
     ]
    }
   ],
   "source": [
    "print(net.backdoor_estimand(treatment1, outcome))\n",
    "print(net.backdoor_estimand(treatment2, outcome))"
   ],
   "metadata": {
    "collapsed": false,
    "ExecuteTime": {
     "end_time": "2023-11-19T13:52:02.896242498Z",
     "start_time": "2023-11-19T13:52:02.709004916Z"
    }
   },
   "id": "edc6313c83a358fc"
  },
  {
   "cell_type": "code",
   "execution_count": null,
   "outputs": [],
   "source": [],
   "metadata": {
    "collapsed": false
   },
   "id": "35ea57ded39019e8"
  },
  {
   "cell_type": "code",
   "execution_count": null,
   "outputs": [],
   "source": [],
   "metadata": {
    "collapsed": false
   },
   "id": "e2ead53bd9f0d663"
  },
  {
   "cell_type": "code",
   "execution_count": null,
   "outputs": [],
   "source": [],
   "metadata": {
    "collapsed": false
   },
   "id": "dec8a389b45661b3"
  },
  {
   "cell_type": "code",
   "execution_count": 21,
   "outputs": [],
   "source": [
    "old_prompt_template = '''We have a causal bayes net based on the following article:\n",
    "\n",
    "```\n",
    "{spark}\n",
    "```\n",
    "\n",
    "And, for additional context, here are the variables and their descriptions:\n",
    "\n",
    "{descriptions}\n",
    "\n",
    "Now we would like to verbalize the description of some evidence. For each set of questions, fill in the blank and then for each possible descriptor of the probability, provide a reasonable quantitative estimate for the lower and upper bounds of the probability that would be implied by that evidence if the variable took on the value corresponding to 1. Note that your estimates for each descriptor should conform to common sense and reflect the meaning of the variable taking on the value corresponding to 1.\n",
    "\n",
    "For example, if the question is:\n",
    "\n",
    "Evidence template: \"The probability of _ is {descriptor}.\"\n",
    "With these descriptors: ['low', 'high', 'very high']\n",
    "\n",
    "1. \"Tax Rate\" can either be 0=\"Decreased\" or 1=\"Increased\".\n",
    "2. \"Vaccination Status\" can either be 0=\"Not Vaccinated\" or 1=\"Vaccinated\".\n",
    "...\n",
    "\n",
    "You should answer in the following format:\n",
    "\n",
    "```python\n",
    "evidence = {{\n",
    "  1: {{'blank': {{'Decreased': 'decreased taxes', 'Increased': 'increased taxes'}} 'implications': {{'low': [0.2, 0.4], 'high': [0.6, 0.8], 'very high': [0.8, 0.9]}}}},\n",
    "  2: {{'blank': {{'Not Vaccinated': 'not being vaccinated', 'Vaccinated': 'being vaccinated'}} 'implications': {{'low': [0.3, 0.5], 'high': [0.7, 0.9], 'very high': [0.85, 0.99]}}}},\n",
    "  ...\n",
    "}}\n",
    "```\n",
    "\n",
    "Here are the questions:\n",
    "\n",
    "Evidence template: \"The probability of _ is {descriptor}.\"\n",
    "With these descriptors: {descriptors}\n",
    "\n",
    "{questions}\n",
    "\n",
    "Answer all the questions in order, concisely, and precisely in the desired format, without any additional comments or discussion.\n",
    "'''\n",
    "\n",
    "prompt_template = '''We have a causal bayes net based on the following article:\n",
    "\n",
    "```\n",
    "{spark}\n",
    "```\n",
    "\n",
    "And, for additional context, here are the variables and their descriptions:\n",
    "\n",
    "{descriptions}\n",
    "\n",
    "Now we would like to verbalize the description of some evidence using a few templates. For each template and variable, fill in the blank and then for each possible value the variable can take. Always use the present tense and make sure to use simple but precise language so the evidence can be communicated clearly. Also, only fill in the templates that make sense for the variable values.\n",
    "\n",
    "For example, if the question is:\n",
    "\n",
    "Template A: \"The probability of {variable} is high.\"\n",
    "Template B: \"{variable} often.\"\n",
    "Template C: \"It is likely that {variable}.\"\n",
    "Template D: \"Few {subject} {variable}.\"\n",
    "\n",
    "1. \"Tax Rate\": [\"Decreased\", \"Increased\"]\n",
    "2. \"Vaccination Status\": [\"Not Vaccinated\", \"Vaccinated\"]\n",
    "...\n",
    "\n",
    "You should answer in the following format:\n",
    "\n",
    "```python\n",
    "evidence = {{\n",
    "  1: {{'A': {{'variable': ['decreased taxes', 'increased taxes']}},\n",
    "       'B': {{'variable': ['taxes are decreased', 'taxes are increased']}},\n",
    "       'C': {{'variable': ['taxes are decreased', 'taxes are increased']}},\n",
    "       'D': {{'subject': [], 'variable': ['taxes are decreased', 'taxes are increased']}}}},\n",
    "  }},\n",
    "  2: {{'variable': {{'Not Vaccinated': 'not being vaccinated', 'Vaccinated': 'being vaccinated'}}}},\n",
    "  ...\n",
    "}}\n",
    "```\n",
    "\n",
    "Here are the questions:\n",
    "\n",
    "Evidence template: \"The probability of _ is {descriptor}.\"\n",
    "With these descriptors: {descriptors}\n",
    "\n",
    "{questions}\n",
    "\n",
    "Answer all the questions in order, concisely, and precisely in the desired format, without any additional comments or discussion.\n",
    "'''\n",
    "\n",
    "q_template = '{i}. \"{variable}\" can either be 0=\"{value}\" or 1=\"{othervalue}\".'\n",
    "\n",
    "verbs = [\n",
    "    'very low', 'low', 'moderate', 'high', 'very high',\n",
    "    # 'extremely small', 'small', 'large', 'extremely large',\n",
    "    'significant', 'negligible', 'substantial', 'insignificant', 'considerable',\n",
    "    # 'improbable', 'likely', 'probable', 'unlikely', 'certain',\n",
    "]"
   ],
   "metadata": {
    "collapsed": false,
    "ExecuteTime": {
     "end_time": "2023-11-19T15:58:07.180931606Z",
     "start_time": "2023-11-19T15:58:07.135552858Z"
    }
   },
   "id": "bf9d27a21b2ff726"
  },
  {
   "cell_type": "code",
   "execution_count": 22,
   "outputs": [],
   "source": [
    "nodes = ctx['nodes']\n",
    "qlines = []\n",
    "i = 1\n",
    "for node in nodes:\n",
    "    v0, v1 = node['values']\n",
    "    qlines.append(q_template.format(i=i, variable=node['name'], value=v1, othervalue=v0))\n",
    "    i += 1\n",
    "questions = '\\n'.join(qlines)"
   ],
   "metadata": {
    "collapsed": false,
    "ExecuteTime": {
     "end_time": "2023-11-19T15:58:08.750511902Z",
     "start_time": "2023-11-19T15:58:08.732077429Z"
    }
   },
   "id": "949e58680c1eb438"
  },
  {
   "cell_type": "code",
   "execution_count": 23,
   "outputs": [
    {
     "data": {
      "text/plain": "{'descriptions', 'descriptor', 'descriptors', 'questions', 'spark'}"
     },
     "execution_count": 23,
     "metadata": {},
     "output_type": "execute_result"
    }
   ],
   "source": [
    "tmpl = SimpleTemplater(prompt_template)\n",
    "tmpl.keys"
   ],
   "metadata": {
    "collapsed": false,
    "ExecuteTime": {
     "end_time": "2023-11-19T15:58:09.178284729Z",
     "start_time": "2023-11-19T15:58:09.135420113Z"
    }
   },
   "id": "a474aee9dc7f34a4"
  },
  {
   "cell_type": "code",
   "execution_count": 24,
   "outputs": [
    {
     "name": "stdout",
     "output_type": "stream",
     "text": [
      "We have a causal bayes net based on the following article:\n",
      "\n",
      "```\n",
      "Title: ARM takeover: Qualcomm interested in participating - heise online\n",
      "Description: If nothing comes of Nvidia's $40 billion ARM takeover, a consortium of several manufacturers could act as investors.\n",
      "Original Language: German\n",
      "```\n",
      "\n",
      "And, for additional context, here are the variables and their descriptions:\n",
      "\n",
      "\"Qualcomm_Participation\" means \"Participation of Qualcomm in ARM takeover\"\n",
      "\"Regulatory_Approval\" means \"Regulatory approval for ARM takeover\"\n",
      "\"Global_Economic_Conditions\" means \"Current global economic conditions\"\n",
      "\"Nvidia_Takeover_Success\" means \"Success of Nvidia's ARM takeover attempt\"\n",
      "\"Investment_Strategy\" means \"Investment strategy adopted by Qualcomm\"\n",
      "\"Tech_Innovation\" means \"Level of technological innovation in the market\"\n",
      "\"Market_Competition\" means \"Level of market competition in the tech industry\"\n",
      "\"Stock_Market_Response\" means \"Stock market response to the takeover and market conditions\"\n",
      "\n",
      "Now we would like to verbalize the description of some evidence. For each set of questions, fill in the blank and then for each possible descriptor of the probability, provide a reasonable quantitative estimate for the lower and upper bounds of the probability that would be implied by that evidence if the variable took on the value corresponding to 1. Note that your estimates for each descriptor should conform to common sense and reflect the meaning of the variable taking on the value corresponding to 1.\n",
      "\n",
      "For example, if the question is:\n",
      "\n",
      "Evidence template: \"The probability of _ is {descriptor}.\"\n",
      "With these descriptors: ['low', 'high', 'very high']\n",
      "\n",
      "1. \"Tax Rate\" can either be 0=\"Decreased\" or 1=\"Increased\".\n",
      "2. \"Vaccination Status\" can either be 0=\"Not Vaccinated\" or 1=\"Vaccinated\".\n",
      "...\n",
      "\n",
      "You should answer in the following format:\n",
      "\n",
      "```python\n",
      "evidence = {\n",
      "  1: {'blank': {'Decreased': 'decreased taxes', 'Increased': 'increased taxes'} 'implications': {'low': [0.2, 0.4], 'high': [0.6, 0.8], 'very high': [0.8, 0.9]}},\n",
      "  2: {'blank': {'Not Vaccinated': 'not being vaccinated', 'Vaccinated': 'being vaccinated'} 'implications': {'low': [0.3, 0.5], 'high': [0.7, 0.9], 'very high': [0.85, 0.99]}},\n",
      "  ...\n",
      "}\n",
      "```\n",
      "\n",
      "Here are the questions:\n",
      "\n",
      "Evidence template: \"The probability of _ is {descriptor}.\"\n",
      "With these descriptors: ['very low', 'low', 'moderate', 'high', 'very high', 'significant', 'negligible', 'substantial', 'insignificant', 'considerable']\n",
      "\n",
      "1. \"Qualcomm_Participation\" can either be 0=\"Participates\" or 1=\"Does not participate\".\n",
      "2. \"Regulatory_Approval\" can either be 0=\"Approved\" or 1=\"Not approved\".\n",
      "3. \"Global_Economic_Conditions\" can either be 0=\"Favorable conditions\" or 1=\"Unfavorable conditions\".\n",
      "4. \"Nvidia_Takeover_Success\" can either be 0=\"Takeover succeeds\" or 1=\"Takeover fails\".\n",
      "5. \"Investment_Strategy\" can either be 0=\"Aggressive strategy\" or 1=\"Conservative strategy\".\n",
      "6. \"Tech_Innovation\" can either be 0=\"High innovation\" or 1=\"Low innovation\".\n",
      "7. \"Market_Competition\" can either be 0=\"Increased competition\" or 1=\"Reduced competition\".\n",
      "8. \"Stock_Market_Response\" can either be 0=\"Positive response\" or 1=\"Negative response\".\n",
      "\n",
      "Answer all the questions in order, concisely, and precisely in the desired format, without any additional comments or discussion.\n"
     ]
    }
   ],
   "source": [
    "# print(tmpl.fill_in(dict(spark=ctx['spark'], descriptions=ctx['descriptions'], descriptors=verbs, descriptor='{descriptor}', questions=questions)))\n",
    "print(prompt_template.format(spark=ctx['spark'], descriptions=ctx['descriptions'], descriptors=verbs, descriptor='{descriptor}', questions=questions))"
   ],
   "metadata": {
    "collapsed": false,
    "ExecuteTime": {
     "end_time": "2023-11-19T15:58:09.619565965Z",
     "start_time": "2023-11-19T15:58:09.601398688Z"
    }
   },
   "id": "7b23a2f10c9d7c62"
  },
  {
   "cell_type": "code",
   "execution_count": null,
   "outputs": [],
   "source": [
    "line_template = 'The probability that __ is {quantity}'"
   ],
   "metadata": {
    "collapsed": false
   },
   "id": "61af6af1c0665464"
  },
  {
   "cell_type": "code",
   "execution_count": 120,
   "outputs": [
    {
     "data": {
      "text/plain": "True"
     },
     "execution_count": 120,
     "metadata": {},
     "output_type": "execute_result"
    }
   ],
   "source": [
    "evidence = {\n",
    "  1: {\n",
    "    'blank': {'Stimulative': 'stimulative government economic policies', 'Restrictive': 'restrictive government economic policies'}, \n",
    "    'implications': {\n",
    "      'very low': [0.01, 0.1], \n",
    "      'low': [0.1, 0.3], \n",
    "      'moderate': [0.3, 0.5], \n",
    "      'high': [0.5, 0.7], \n",
    "      'very high': [0.7, 0.9], \n",
    "      'significant': [0.6, 0.8], \n",
    "      'negligible': [0.1, 0.2], \n",
    "      'substantial': [0.5, 0.7], \n",
    "      'insignificant': [0.2, 0.3], \n",
    "      'considerable': [0.4, 0.6]\n",
    "    }\n",
    "  },\n",
    "  2: {\n",
    "    'blank': {'Increase': 'an increase in industrial production', 'Decrease': 'a decrease in industrial production'}, \n",
    "    'implications': {\n",
    "      'very low': [0.01, 0.1], \n",
    "      'low': [0.1, 0.3], \n",
    "      'moderate': [0.3, 0.5], \n",
    "      'high': [0.5, 0.7], \n",
    "      'very high': [0.7, 0.9], \n",
    "      'significant': [0.6, 0.8], \n",
    "      'negligible': [0.1, 0.2], \n",
    "      'substantial': [0.5, 0.7], \n",
    "      'insignificant': [0.2, 0.3], \n",
    "      'considerable': [0.4, 0.6]\n",
    "    }\n",
    "  },\n",
    "  3: {\n",
    "    'blank': {'Decrease': 'a decrease in the unemployment rate', 'Increase': 'an increase in the unemployment rate'}, \n",
    "    'implications': {\n",
    "      'very low': [0.01, 0.1], \n",
    "      'low': [0.1, 0.3], \n",
    "      'moderate': [0.3, 0.5], \n",
    "      'high': [0.5, 0.7], \n",
    "      'very high': [0.7, 0.9], \n",
    "      'significant': [0.6, 0.8], \n",
    "      'negligible': [0.1, 0.2], \n",
    "      'substantial': [0.5, 0.7], \n",
    "      'insignificant': [0.2, 0.3], \n",
    "      'considerable': [0.4, 0.6]\n",
    "    }\n",
    "  },\n",
    "  4: {\n",
    "    'blank': {'High': 'high consumer confidence', 'Low': 'low consumer confidence'}, \n",
    "    'implications': {\n",
    "      'very low': [0.01, 0.1], \n",
    "      'low': [0.1, 0.3], \n",
    "      'moderate': [0.3, 0.5], \n",
    "      'high': [0.5, 0.7], \n",
    "      'very high': [0.7, 0.9], \n",
    "      'significant': [0.6, 0.8], \n",
    "      'negligible': [0.1, 0.2], \n",
    "      'substantial': [0.5, 0.7], \n",
    "      'insignificant': [0.2, 0.3], \n",
    "      'considerable': [0.4, 0.6]\n",
    "    }\n",
    "  },\n",
    "  5: {\n",
    "    'blank': {'Positive Growth': 'positive economic growth', 'No Growth': 'no economic growth'}, \n",
    "    'implications': {\n",
    "      'very low': [0.01, 0.1], \n",
    "      'low': [0.1, 0.3], \n",
    "      'moderate': [0.3, 0.5], \n",
    "      'high': [0.5, 0.7], \n",
    "      'very high': [0.7, 0.9], \n",
    "      'significant': [0.6, 0.8], \n",
    "      'negligible': [0.1, 0.2], \n",
    "      'substantial': [0.5, 0.7], \n",
    "      'insignificant': [0.2, 0.3], \n",
    "      'considerable': [0.4, 0.6]\n",
    "    }\n",
    "  },\n",
    "  6: {\n",
    "    'blank': {'Good': 'good market performance', 'Poor': 'poor market performance'}, \n",
    "    'implications': {\n",
    "      'very low': [0.01, 0.1], \n",
    "      'low': [0.1, 0.3], \n",
    "      'moderate': [0.3, 0.5], \n",
    "      'high': [0.5, 0.7], \n",
    "      'very high': [0.7, 0.9], \n",
    "      'significant': [0.6, 0.8], \n",
    "      'negligible': [0.1, 0.2], \n",
    "      'substantial': [0.5, 0.7], \n",
    "      'insignificant': [0.2, 0.3], \n",
    "      'considerable': [0.4, 0.6]\n",
    "    }\n",
    "  }\n",
    "}\n",
    "\n",
    "all(e1['implications'] == e2['implications'] for e1, e2 in combinations(evidence.values(), 2))\n"
   ],
   "metadata": {
    "collapsed": false,
    "ExecuteTime": {
     "end_time": "2023-11-17T14:10:45.018453412Z",
     "start_time": "2023-11-17T14:10:44.985886236Z"
    }
   },
   "id": "79cbbcae4d3e4455"
  },
  {
   "cell_type": "code",
   "execution_count": 121,
   "outputs": [
    {
     "name": "stdout",
     "output_type": "stream",
     "text": [
      "Title: China's economy grows 4.9% while the rest of the world is crippled by coronavirus - Daily Mail\n",
      "Description: China's economy has grown 4.9 percent in the third quarter from last year proving the country is back to its pre-pandemic trajectory as industrial production is up and unemployment is down.\n",
      "Original Language: English\n"
     ]
    }
   ],
   "source": [
    "print(ctx['spark'])"
   ],
   "metadata": {
    "collapsed": false,
    "ExecuteTime": {
     "end_time": "2023-11-17T14:40:34.386481665Z",
     "start_time": "2023-11-17T14:40:34.334250094Z"
    }
   },
   "id": "46ccd04c24fae20e"
  },
  {
   "cell_type": "code",
   "execution_count": null,
   "outputs": [],
   "source": [],
   "metadata": {
    "collapsed": false
   },
   "id": "cf82aa58afe6397b"
  },
  {
   "cell_type": "code",
   "execution_count": null,
   "outputs": [],
   "source": [
    "setting = {\n",
    "    \"introduction\": \"In light of China's notable economic growth of 4.9% amidst the global coronavirus pandemic, as reported by the Daily Mail, this causal model seeks to unravel the underlying factors contributing to this growth. It aims to provide insights into how different aspects such as industrial production and unemployment rates have played a role in shaping China's economic trajectory during this period.\",\n",
    "    \"overview\": \"Our causal graph is a simplified representation of the complex interplay between various economic factors. It includes variables like government policies, industrial production, and unemployment rates, each affecting the other in unique ways. For instance, government policies can be a confounder, affecting both unemployment and industrial production, while consumer confidence acts as a mediator, reflecting the impact of industrial changes on the overall economic growth.\",\n",
    "    \"questions\": {\n",
    "        1: {\"question\": \"Does an increase in industrial production have a positive effect on China's economic growth?\", \"answer\": \"yes\", \"explanation\": \"Given the economic context, an increase in industrial production likely contributes positively to economic growth.\", \"inequality\": \"ATE(IP) > 0\"},\n",
    "        2: {\"question\": \"Is the positive impact of decreasing unemployment on economic growth greater than that of increasing industrial production?\", \"answer\": \"no\", \"explanation\": \"Industrial production typically has a more direct and significant impact on economic growth compared to changes in unemployment rates.\", \"inequality\": \"ATE(UR) > ATE(IP)\"},\n",
    "        3: {\"question\": \"Does a decrease in the unemployment rate positively influence China's economic growth?\", \"answer\": \"yes\", \"explanation\": \"Lower unemployment generally leads to higher consumer spending and economic growth.\", \"inequality\": \"ATE(UR) > 0\"},\n",
    "        4: {\"question\": \"Is the impact of industrial production on economic growth stronger than the influence of government economic policies?\", \"answer\": \"yes\", \"explanation\": \"While government policies set the stage, industrial production is a more direct driver of economic growth.\", \"inequality\": \"ATE(IP) > ATE(GEP)\"},\n",
    "        5: {\"question\": \"Does a stimulative government policy have a greater positive effect on economic growth than an increase in industrial production?\", \"answer\": \"no\", \"explanation\": \"Industrial production, being a direct economic activity, likely has a stronger immediate impact on economic growth than general government policies.\", \"inequality\": \"ATE(GEP) > ATE(IP)\"}\n",
    "    },\n",
    "}\n"
   ],
   "metadata": {
    "collapsed": false
   },
   "id": "bcb1b46b3d4dc419"
  },
  {
   "cell_type": "code",
   "execution_count": 227,
   "outputs": [],
   "source": [
    "import pandas as pd\n",
    "from dowhy import CausalModel\n",
    "from networkx.drawing.nx_pydot import write_dot"
   ],
   "metadata": {
    "collapsed": false,
    "ExecuteTime": {
     "end_time": "2023-11-17T16:42:53.528932801Z",
     "start_time": "2023-11-17T16:42:53.492019Z"
    }
   },
   "id": "aa2676eeab935fe6"
  },
  {
   "cell_type": "code",
   "execution_count": 226,
   "outputs": [
    {
     "data": {
      "text/plain": "<networkx.classes.digraph.DiGraph at 0x7face779d850>"
     },
     "execution_count": 226,
     "metadata": {},
     "output_type": "execute_result"
    }
   ],
   "source": [
    "G = nx.DiGraph()\n",
    "for var in net.vars:\n",
    "    G.add_node(var.name)\n",
    "    for parent in var.parents:\n",
    "        G.add_edge(parent.name, var.name)\n",
    "G"
   ],
   "metadata": {
    "collapsed": false,
    "ExecuteTime": {
     "end_time": "2023-11-17T16:42:42.536213022Z",
     "start_time": "2023-11-17T16:42:42.484794281Z"
    }
   },
   "id": "5e7aafe933bd077f"
  },
  {
   "cell_type": "code",
   "execution_count": null,
   "outputs": [],
   "source": [],
   "metadata": {
    "collapsed": false
   },
   "id": "8c7e5e9f7b925deb"
  },
  {
   "cell_type": "code",
   "execution_count": null,
   "outputs": [],
   "source": [],
   "metadata": {
    "collapsed": false
   },
   "id": "826859c190c49f94"
  },
  {
   "cell_type": "code",
   "execution_count": 127,
   "outputs": [],
   "source": [
    "def convert_to_dot(nodes):\n",
    "    # Start the DOT graph definition\n",
    "    dot_graph = \"digraph {\\n\"\n",
    "\n",
    "    # Iterate over nodes to add them to the graph\n",
    "    for node in nodes:\n",
    "        dot_graph += f'    \"{node[\"name\"]}\" [label=\"{node[\"name\"]}: {node[\"description\"]}\"];\\n'\n",
    "\n",
    "        # Add edges from parents to this node\n",
    "        for parent in node.get(\"parents\", []):\n",
    "            dot_graph += f'    \"{parent}\" -> \"{node[\"name\"]}\";\\n'\n",
    "\n",
    "    dot_graph += \"}\\n\"\n",
    "    return dot_graph"
   ],
   "metadata": {
    "collapsed": false,
    "ExecuteTime": {
     "end_time": "2023-11-17T15:29:05.491002427Z",
     "start_time": "2023-11-17T15:29:05.471333306Z"
    }
   },
   "id": "4d7c72efc77402f6"
  },
  {
   "cell_type": "code",
   "execution_count": null,
   "outputs": [],
   "source": [],
   "metadata": {
    "collapsed": false
   },
   "id": "3c7139d76940267d"
  },
  {
   "cell_type": "code",
   "execution_count": null,
   "outputs": [],
   "source": [
    "net"
   ],
   "metadata": {
    "collapsed": false
   },
   "id": "ccaa22fdb7db1823"
  },
  {
   "cell_type": "code",
   "execution_count": null,
   "outputs": [],
   "source": [],
   "metadata": {
    "collapsed": false
   },
   "id": "70ed5f4de754786b"
  },
  {
   "cell_type": "code",
   "execution_count": 129,
   "outputs": [
    {
     "name": "stdout",
     "output_type": "stream",
     "text": [
      "\"GEP\" means \"Government Economic Policies\"\n",
      "\"IP\" means \"Industrial Production\"\n",
      "\"UR\" means \"Unemployment Rate\"\n",
      "\"CC\" means \"Consumer Confidence\"\n",
      "\"EG\" means \"Economic Growth\"\n",
      "\"MP\" means \"Market Performance\"\n"
     ]
    }
   ],
   "source": [
    "print(ctx['descriptions'])"
   ],
   "metadata": {
    "collapsed": false,
    "ExecuteTime": {
     "end_time": "2023-11-17T15:29:23.980795422Z",
     "start_time": "2023-11-17T15:29:23.959606348Z"
    }
   },
   "id": "27207467be5d57a"
  },
  {
   "cell_type": "code",
   "execution_count": 221,
   "outputs": [
    {
     "name": "stderr",
     "output_type": "stream",
     "text": [
      "ERROR:dowhy.causal_graph: Error: Pygraphviz cannot be loaded. No module named 'pygraphviz'\n",
      "Trying pydot ...\n"
     ]
    },
    {
     "name": "stdout",
     "output_type": "stream",
     "text": [
      "Estimand type: EstimandType.NONPARAMETRIC_ATE\n",
      "\n",
      "### Estimand : 1\n",
      "Estimand name: backdoor\n",
      "Estimand expression:\n",
      "  d               \n",
      "─────(E[EG|UR,IP])\n",
      "d[CC]             \n",
      "Estimand assumption 1, Unconfoundedness: If U→{CC} and U→EG then P(EG|CC,UR,IP,U) = P(EG|CC,UR,IP)\n",
      "\n",
      "### Estimand : 2\n",
      "Estimand name: iv\n",
      "No such variable(s) found!\n",
      "\n",
      "### Estimand : 3\n",
      "Estimand name: frontdoor\n",
      "No such variable(s) found!\n"
     ]
    },
    {
     "data": {
      "text/plain": "({'backdoor1': ['UR', 'IP', 'GEP'],\n  'backdoor2': ['UR', 'IP'],\n  'backdoor': ['UR', 'IP']},\n 'backdoor2')"
     },
     "execution_count": 221,
     "metadata": {},
     "output_type": "execute_result"
    }
   ],
   "source": [
    "# Create a dummy DataFrame\n",
    "# The columns should match the nodes in your causal graph\n",
    "dummy_data = pd.DataFrame({\n",
    "    'EG': [0],   # Economic Growth\n",
    "    'IP': [0],   # Industrial Production\n",
    "    'UR': [0],   # Unemployment Rate\n",
    "    'GEP': [0],  # Government Economic Policies\n",
    "    'CC': [0],   # Consumer Confidence\n",
    "    'MP': [0]    # Market Performance\n",
    "})\n",
    "\n",
    "# Define your DOT graph (use the function from the previous response)\n",
    "dot_graph = convert_to_dot(nodes)\n",
    "\n",
    "# Instantiate the CausalModel with dummy data\n",
    "model = CausalModel(\n",
    "    data=dummy_data,\n",
    "    treatment='CC',  # Replace with your treatment variable name\n",
    "    outcome='EG',      # Replace with your outcome variable name\n",
    "    graph=dot_graph\n",
    ")\n",
    "\n",
    "identified_estimand = model.identify_effect()\n",
    "print(identified_estimand)\n",
    "\n",
    "from sympy import pretty\n",
    "\n",
    "# # Assuming 'identified_estimand' is the object returned by model.identify_effect()\n",
    "# \n",
    "# # Print the basic information about the estimand\n",
    "# print(\"Estimand Identifier:\", identified_estimand.identifier)\n",
    "# print(\"Estimand Type:\", identified_estimand.estimand_type)\n",
    "# \n",
    "# # Accessing the estimands attribute\n",
    "# estimands_info = identified_estimand.estimands\n",
    "# \n",
    "# # Displaying the estimands information\n",
    "# print(\"Estimands Information:\")\n",
    "# print(estimands_info)\n",
    "\n",
    "identified_estimand.backdoor_variables, identified_estimand.default_backdoor_id"
   ],
   "metadata": {
    "collapsed": false,
    "ExecuteTime": {
     "end_time": "2023-11-17T16:20:35.773521574Z",
     "start_time": "2023-11-17T16:20:35.723047563Z"
    }
   },
   "id": "93d6c72207e41e7d"
  },
  {
   "cell_type": "code",
   "execution_count": 222,
   "outputs": [
    {
     "data": {
      "text/plain": "  d               \n─────(E[EG|UR,IP])\nd[CC]             ",
      "text/latex": "$\\displaystyle \\frac{d}{d \\left[\\begin{matrix}CC\\end{matrix}\\right]} \\operatorname{E}\\left[EG|UR,IP\\right]$"
     },
     "execution_count": 222,
     "metadata": {},
     "output_type": "execute_result"
    }
   ],
   "source": [
    "sym = identified_estimand.estimands[identified_estimand.default_backdoor_id]['estimand']\n",
    "sym"
   ],
   "metadata": {
    "collapsed": false,
    "ExecuteTime": {
     "end_time": "2023-11-17T16:20:37.010913900Z",
     "start_time": "2023-11-17T16:20:36.939807580Z"
    }
   },
   "id": "71c98945aa48f639"
  },
  {
   "cell_type": "code",
   "execution_count": 223,
   "outputs": [
    {
     "name": "stdout",
     "output_type": "stream",
     "text": [
      "  d               \n",
      "─────(E[EG|UR,IP])\n",
      "d[CC]             \n"
     ]
    }
   ],
   "source": [
    "print(pretty(sym))"
   ],
   "metadata": {
    "collapsed": false,
    "ExecuteTime": {
     "end_time": "2023-11-17T16:20:37.530553227Z",
     "start_time": "2023-11-17T16:20:37.514577711Z"
    }
   },
   "id": "81dca0ac3d6af062"
  },
  {
   "cell_type": "code",
   "execution_count": 224,
   "outputs": [
    {
     "name": "stdout",
     "output_type": "stream",
     "text": [
      "EG CC ['UR', 'IP']\n"
     ]
    }
   ],
   "source": [
    "do = sym.args[1][0].args[0][0].name\n",
    "exp = sym.args[0].args[0].name\n",
    "if '|' in exp:\n",
    "    outcome, cond = exp.split('|')\n",
    "    cond = cond.split(',')\n",
    "else:\n",
    "    outcome = exp\n",
    "    cond = []\n",
    "    \n",
    "print(outcome, do, cond)"
   ],
   "metadata": {
    "collapsed": false,
    "ExecuteTime": {
     "end_time": "2023-11-17T16:20:38.501074816Z",
     "start_time": "2023-11-17T16:20:38.443318970Z"
    }
   },
   "id": "42a9234e24004c1b"
  },
  {
   "cell_type": "code",
   "execution_count": 229,
   "outputs": [
    {
     "name": "stdout",
     "output_type": "stream",
     "text": [
      "ATE(CC -> EG) = E_{UR=u,IP=v} [ p(EG=1 | CC=1,UR=u,IP=v) - p(EG=1 | CC=0,UR=u,IP=v) ]\n"
     ]
    }
   ],
   "source": [
    "dummyvars = 'uvwxyz'\n",
    "assert len(cond) <= len(dummyvars)\n",
    "psum = ''\n",
    "condsuffix = ''\n",
    "if len(cond):\n",
    "    psum = ','.join(f'{v}={dummyvars[i]}' for i, v in enumerate(cond))\n",
    "    psum = f'E_{{{psum}}} '\n",
    "\n",
    "    condsuffix = ',' + ','.join(f'{v}={dummyvars[i]}' for i, v in enumerate(cond))\n",
    "\n",
    "expr = f'{psum}{\"[ \" if len(cond) else \"\"}p({outcome}=1 | {do}=1{condsuffix}) - p({outcome}=1 | {do}=0{condsuffix}){\" ]\" if len(cond) else \"\"}'\n",
    "\n",
    "# expr = (f'{psum}{\" [ \" if len(cond) else \"\"}p({outcome} | {do}=1{\", \" + \", \".join(cond) if len(cond) else \"\"}) - p({outcome} | {do}=0{\", \" + \",\".join(cond) if len(cond) else \"\"}){\" ]\" if len(cond) else \"\"}')\n",
    "print(f'ATE({do} -> {outcome}) = {expr}')"
   ],
   "metadata": {
    "collapsed": false,
    "ExecuteTime": {
     "end_time": "2023-11-17T17:06:39.653520046Z",
     "start_time": "2023-11-17T17:06:39.579828051Z"
    }
   },
   "id": "3c4b6395db86d3a5"
  },
  {
   "cell_type": "code",
   "execution_count": 215,
   "outputs": [],
   "source": [],
   "metadata": {
    "collapsed": false,
    "ExecuteTime": {
     "end_time": "2023-11-17T16:19:16.720067792Z",
     "start_time": "2023-11-17T16:19:16.682463947Z"
    }
   },
   "id": "f10832a3a199de04"
  },
  {
   "cell_type": "code",
   "execution_count": null,
   "outputs": [],
   "source": [],
   "metadata": {
    "collapsed": false
   },
   "id": "ce7532d3e5f9710c"
  },
  {
   "cell_type": "code",
   "execution_count": 153,
   "outputs": [
    {
     "ename": "AttributeError",
     "evalue": "'ImmutableDenseNDimArray' object has no attribute 'name'",
     "output_type": "error",
     "traceback": [
      "\u001B[0;31m---------------------------------------------------------------------------\u001B[0m",
      "\u001B[0;31mAttributeError\u001B[0m                            Traceback (most recent call last)",
      "Cell \u001B[0;32mIn[153], line 1\u001B[0m\n\u001B[0;32m----> 1\u001B[0m \u001B[43msym\u001B[49m\u001B[38;5;241;43m.\u001B[39;49m\u001B[43mvariables\u001B[49m\u001B[43m[\u001B[49m\u001B[38;5;241;43m0\u001B[39;49m\u001B[43m]\u001B[49m\u001B[38;5;241;43m.\u001B[39;49m\u001B[43mname\u001B[49m\n",
      "\u001B[0;31mAttributeError\u001B[0m: 'ImmutableDenseNDimArray' object has no attribute 'name'"
     ]
    }
   ],
   "source": [
    "sym.variables[0]"
   ],
   "metadata": {
    "collapsed": false,
    "ExecuteTime": {
     "end_time": "2023-11-17T15:41:40.436083421Z",
     "start_time": "2023-11-17T15:41:40.421360492Z"
    }
   },
   "id": "37bf7343710ee697"
  },
  {
   "cell_type": "code",
   "execution_count": 154,
   "outputs": [
    {
     "data": {
      "text/plain": "E[EG|GEP]",
      "image/png": "[encoded data removed]",
      "text/latex": "$\\displaystyle \\operatorname{E}\\left[EG|GEP\\right]$"
     },
     "execution_count": 154,
     "metadata": {},
     "output_type": "execute_result"
    }
   ],
   "source": [
    "expr = sym.expr\n",
    "expr"
   ],
   "metadata": {
    "collapsed": false,
    "ExecuteTime": {
     "end_time": "2023-11-17T15:42:23.896056718Z",
     "start_time": "2023-11-17T15:42:23.817110496Z"
    }
   },
   "id": "7ca9b5d52e9bdc53"
  },
  {
   "cell_type": "code",
   "execution_count": 159,
   "outputs": [],
   "source": [
    "e = expr.args[0]"
   ],
   "metadata": {
    "collapsed": false,
    "ExecuteTime": {
     "end_time": "2023-11-17T15:48:29.372834510Z",
     "start_time": "2023-11-17T15:48:29.331815176Z"
    }
   },
   "id": "942f1e9a7ab93ef2"
  },
  {
   "cell_type": "code",
   "execution_count": 160,
   "outputs": [
    {
     "data": {
      "text/plain": "⎛⎡⎛  d               ⎛                ⎛  d              ⎞⎞⎞⎤    ⎞\n⎜⎢⎜─────(E[EG|GEP]), ⎜(1.0, 0.0), (), ⎜─────(E[EG|GEP]),⎟⎟⎟⎥, []⎟\n⎝⎣⎝d[UR]             ⎝                ⎝d[UR]            ⎠⎠⎠⎦    ⎠",
      "text/latex": "$\\displaystyle \\left( \\left[ \\left( \\frac{d}{d \\left[\\begin{matrix}UR\\end{matrix}\\right]} \\operatorname{E}\\left[EG|GEP\\right], \\  \\left( \\left( 1.0, \\  0.0\\right), \\  \\left( \\right), \\  \\left( \\frac{d}{d \\left[\\begin{matrix}UR\\end{matrix}\\right]} \\operatorname{E}\\left[EG|GEP\\right],\\right)\\right)\\right)\\right], \\  \\left[ \\right]\\right)$"
     },
     "execution_count": 160,
     "metadata": {},
     "output_type": "execute_result"
    }
   ],
   "source": [
    "terms = sym.as_terms()\n",
    "terms"
   ],
   "metadata": {
    "collapsed": false,
    "ExecuteTime": {
     "end_time": "2023-11-17T15:54:02.518522151Z",
     "start_time": "2023-11-17T15:54:02.447641319Z"
    }
   },
   "id": "17f662ccb78cb6da"
  },
  {
   "cell_type": "code",
   "execution_count": 161,
   "outputs": [
    {
     "name": "stdout",
     "output_type": "stream",
     "text": [
      "Expression: Derivative(Expectation(EG|GEP), [UR])\n",
      "Coefficient: ((1.0, 0.0), (), (Derivative(Expectation(EG|GEP), [UR]),))\n"
     ]
    }
   ],
   "source": [
    "for term in terms[0]:\n",
    "    # Each term is a tuple, with the first element being the term itself and the second being its coefficient\n",
    "    expression, coefficient = term\n",
    "    # You can now analyze 'expression' and 'coefficient' to extract variable names and their relationships\n",
    "    # For instance, print them out to see their structure\n",
    "    print(\"Expression:\", expression)\n",
    "    print(\"Coefficient:\", coefficient)"
   ],
   "metadata": {
    "collapsed": false,
    "ExecuteTime": {
     "end_time": "2023-11-17T15:54:25.600817796Z",
     "start_time": "2023-11-17T15:54:25.565631474Z"
    }
   },
   "id": "50280e325b2cda90"
  },
  {
   "cell_type": "code",
   "execution_count": 164,
   "outputs": [
    {
     "name": "stdout",
     "output_type": "stream",
     "text": [
      "Expression: Derivative(E(EG, GEP), UR)\n",
      "Coefficient: ((1.0, 0.0), (1,), ())\n"
     ]
    }
   ],
   "source": [
    "from sympy import symbols, Derivative, Function\n",
    "\n",
    "# Define your symbols\n",
    "EG, GEP, UR = symbols('EG GEP UR')\n",
    "\n",
    "# Define the expected value function\n",
    "E = Function('E')(EG, GEP)\n",
    "\n",
    "# Define the derivative\n",
    "deriv = Derivative(E, UR)\n",
    "\n",
    "# Extract terms from the derivative\n",
    "terms = deriv.as_terms()\n",
    "\n",
    "# Process the terms to extract variable names and relationships\n",
    "# terms is a tuple, where the first element contains the terms\n",
    "for term in terms[0]:\n",
    "    # Each term is a tuple, with the first element being the term itself and the second being its coefficient\n",
    "    expression, coefficient = term\n",
    "    # You can now analyze 'expression' and 'coefficient' to extract variable names and their relationships\n",
    "    # For instance, print them out to see their structure\n",
    "    print(\"Expression:\", expression)\n",
    "    print(\"Coefficient:\", coefficient)"
   ],
   "metadata": {
    "collapsed": false,
    "ExecuteTime": {
     "end_time": "2023-11-17T15:55:19.554568299Z",
     "start_time": "2023-11-17T15:55:19.447398010Z"
    }
   },
   "id": "a83ad5dd7c6dc685"
  },
  {
   "cell_type": "code",
   "execution_count": 167,
   "outputs": [
    {
     "data": {
      "text/plain": " ∂             \n───(E(EG, GEP))\n∂UR            ",
      "image/png": "[encoded data removed]",
      "text/latex": "$\\displaystyle \\frac{\\partial}{\\partial UR} E{\\left(EG,GEP \\right)}$"
     },
     "execution_count": 167,
     "metadata": {},
     "output_type": "execute_result"
    }
   ],
   "source": [
    "deriv"
   ],
   "metadata": {
    "collapsed": false,
    "ExecuteTime": {
     "end_time": "2023-11-17T15:59:32.937196075Z",
     "start_time": "2023-11-17T15:59:32.851668831Z"
    }
   },
   "id": "11fe1cb94c8c0c7e"
  },
  {
   "cell_type": "code",
   "execution_count": 166,
   "outputs": [
    {
     "data": {
      "text/plain": "(EG, GEP)",
      "image/png": "[encoded data removed]",
      "text/latex": "$\\displaystyle \\left( EG, \\  GEP\\right)$"
     },
     "execution_count": 166,
     "metadata": {},
     "output_type": "execute_result"
    }
   ],
   "source": [
    "E.args"
   ],
   "metadata": {
    "collapsed": false,
    "ExecuteTime": {
     "end_time": "2023-11-17T15:59:25.637477739Z",
     "start_time": "2023-11-17T15:59:25.562784063Z"
    }
   },
   "id": "d54fe53bb33c4c02"
  },
  {
   "cell_type": "code",
   "execution_count": null,
   "outputs": [],
   "source": [],
   "metadata": {
    "collapsed": false
   },
   "id": "b6436dbf1a4b3a4e"
  },
  {
   "cell_type": "code",
   "execution_count": null,
   "outputs": [],
   "source": [],
   "metadata": {
    "collapsed": false
   },
   "id": "e1ab83f0f02c3b51"
  },
  {
   "cell_type": "code",
   "execution_count": null,
   "id": "initial_id",
   "metadata": {
    "collapsed": true
   },
   "outputs": [],
   "source": []
  }
 ],
 "metadata": {
  "kernelspec": {
   "display_name": "Python 3",
   "language": "python",
   "name": "python3"
  },
  "language_info": {
   "codemirror_mode": {
    "name": "ipython",
    "version": 2
   },
   "file_extension": ".py",
   "mimetype": "text/x-python",
   "name": "python",
   "nbconvert_exporter": "python",
   "pygments_lexer": "ipython2",
   "version": "2.7.6"
  }
 },
 "nbformat": 4,
 "nbformat_minor": 5
}

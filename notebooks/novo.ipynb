{
 "cells": [
  {
   "cell_type": "code",
   "execution_count": 5,
   "id": "initial_id",
   "metadata": {
    "collapsed": true,
    "ExecuteTime": {
     "end_time": "2023-10-25T14:26:08.942898875Z",
     "start_time": "2023-10-25T14:26:08.894962126Z"
    }
   },
   "outputs": [],
   "source": [
    "import torch\n",
    "from pomegranate.distributions import Categorical\n",
    "from pomegranate.distributions import ConditionalCategorical\n",
    "from pomegranate.bayesian_network import BayesianNetwork"
   ]
  },
  {
   "cell_type": "code",
   "execution_count": 2,
   "outputs": [],
   "source": [
    "\n",
    "d1 = Categorical([[0.1, 0.9]])\n",
    "d2 = ConditionalCategorical([[[0.4, 0.6], [0.3, 0.7]]])\n",
    "\n",
    "model = BayesianNetwork([d1, d2], [(d1, d2)])"
   ],
   "metadata": {
    "collapsed": false,
    "ExecuteTime": {
     "end_time": "2023-10-25T14:24:40.098135537Z",
     "start_time": "2023-10-25T14:24:40.088397967Z"
    }
   },
   "id": "bbef73e7cbce789b"
  },
  {
   "cell_type": "code",
   "execution_count": 3,
   "outputs": [
    {
     "data": {
      "text/plain": "BayesianNetwork(\n  (distributions): ModuleList(\n    (0): Categorical()\n    (1): ConditionalCategorical(\n      (probs): ParameterList(  (0): Parameter containing: [torch.float32 of size 2x2])\n      (_w_sum): [tensor([0., 0.])]\n      (_xw_sum): [tensor([[0., 0.],\n              [0., 0.]])]\n      (_log_probs): [tensor([[-0.9163, -0.5108],\n              [-1.2040, -0.3567]])]\n    )\n  )\n  (_factor_graph): FactorGraph(\n    (factors): ModuleList(\n      (0): Categorical()\n      (1): JointCategorical()\n    )\n    (marginals): ModuleList(\n      (0-1): 2 x Categorical()\n    )\n  )\n)"
     },
     "execution_count": 3,
     "metadata": {},
     "output_type": "execute_result"
    }
   ],
   "source": [
    "model"
   ],
   "metadata": {
    "collapsed": false,
    "ExecuteTime": {
     "end_time": "2023-10-25T14:24:42.310708650Z",
     "start_time": "2023-10-25T14:24:42.298028425Z"
    }
   },
   "id": "86a4a34da65677bb"
  },
  {
   "cell_type": "code",
   "execution_count": 4,
   "outputs": [
    {
     "ename": "AttributeError",
     "evalue": "'list' object has no attribute 'shape'",
     "output_type": "error",
     "traceback": [
      "\u001B[0;31m---------------------------------------------------------------------------\u001B[0m",
      "\u001B[0;31mAttributeError\u001B[0m                            Traceback (most recent call last)",
      "Cell \u001B[0;32mIn[4], line 1\u001B[0m\n\u001B[0;32m----> 1\u001B[0m \u001B[43mmodel\u001B[49m\u001B[38;5;241;43m.\u001B[39;49m\u001B[43mpredict_proba\u001B[49m\u001B[43m(\u001B[49m\u001B[43m[\u001B[49m\u001B[43m[\u001B[49m\u001B[38;5;241;43m0.1\u001B[39;49m\u001B[43m,\u001B[49m\u001B[43m \u001B[49m\u001B[38;5;241;43m0.9\u001B[39;49m\u001B[43m]\u001B[49m\u001B[43m]\u001B[49m\u001B[43m)\u001B[49m\n",
      "File \u001B[0;32m~/miniconda3/lib/python3.11/site-packages/pomegranate/bayesian_network.py:439\u001B[0m, in \u001B[0;36mBayesianNetwork.predict_proba\u001B[0;34m(self, X)\u001B[0m\n\u001B[1;32m    396\u001B[0m \u001B[38;5;28;01mdef\u001B[39;00m \u001B[38;5;21mpredict_proba\u001B[39m(\u001B[38;5;28mself\u001B[39m, X):\n\u001B[1;32m    397\u001B[0m \u001B[38;5;250m\t\u001B[39m\u001B[38;5;124;03m\"\"\"Infers the probability of each category given the model and data.\u001B[39;00m\n\u001B[1;32m    398\u001B[0m \n\u001B[1;32m    399\u001B[0m \u001B[38;5;124;03m\tThis method infers a probability distribution for each of the missing \u001B[39;00m\n\u001B[0;32m   (...)\u001B[0m\n\u001B[1;32m    436\u001B[0m \u001B[38;5;124;03m\t\tvalues for that dimension.\u001B[39;00m\n\u001B[1;32m    437\u001B[0m \u001B[38;5;124;03m\t\"\"\"\u001B[39;00m\n\u001B[0;32m--> 439\u001B[0m \t\u001B[38;5;28;01mreturn\u001B[39;00m \u001B[38;5;28;43mself\u001B[39;49m\u001B[38;5;241;43m.\u001B[39;49m\u001B[43m_factor_graph\u001B[49m\u001B[38;5;241;43m.\u001B[39;49m\u001B[43mpredict_proba\u001B[49m\u001B[43m(\u001B[49m\u001B[43mX\u001B[49m\u001B[43m)\u001B[49m\n",
      "File \u001B[0;32m~/miniconda3/lib/python3.11/site-packages/pomegranate/factor_graph.py:315\u001B[0m, in \u001B[0;36mFactorGraph.predict_proba\u001B[0;34m(self, X)\u001B[0m\n\u001B[1;32m    312\u001B[0m nm \u001B[38;5;241m=\u001B[39m \u001B[38;5;28mlen\u001B[39m(\u001B[38;5;28mself\u001B[39m\u001B[38;5;241m.\u001B[39mmarginals)\n\u001B[1;32m    313\u001B[0m nf \u001B[38;5;241m=\u001B[39m \u001B[38;5;28mlen\u001B[39m(\u001B[38;5;28mself\u001B[39m\u001B[38;5;241m.\u001B[39mfactors)\n\u001B[0;32m--> 315\u001B[0m \u001B[38;5;28;01mif\u001B[39;00m \u001B[43mX\u001B[49m\u001B[38;5;241;43m.\u001B[39;49m\u001B[43mshape\u001B[49m[\u001B[38;5;241m1\u001B[39m] \u001B[38;5;241m!=\u001B[39m nm:\n\u001B[1;32m    316\u001B[0m \t\u001B[38;5;28;01mraise\u001B[39;00m \u001B[38;5;167;01mValueError\u001B[39;00m(\u001B[38;5;124m\"\u001B[39m\u001B[38;5;124mX.shape[1] must match the number of marginals.\u001B[39m\u001B[38;5;124m\"\u001B[39m)\n\u001B[1;32m    318\u001B[0m \u001B[38;5;66;03m# Pull out the current distributions from factors and marginals\u001B[39;00m\n",
      "\u001B[0;31mAttributeError\u001B[0m: 'list' object has no attribute 'shape'"
     ]
    }
   ],
   "source": [
    "model.predict_proba([[0.1, 0.9]])"
   ],
   "metadata": {
    "collapsed": false,
    "ExecuteTime": {
     "end_time": "2023-10-25T14:24:49.784637494Z",
     "start_time": "2023-10-25T14:24:49.580553989Z"
    }
   },
   "id": "52d8f44eff5bb8b4"
  },
  {
   "cell_type": "code",
   "execution_count": null,
   "outputs": [],
   "source": [],
   "metadata": {
    "collapsed": false,
    "ExecuteTime": {
     "end_time": "2023-10-25T14:24:22.219931433Z",
     "start_time": "2023-10-25T14:24:22.219042441Z"
    }
   },
   "id": "f1efb4fcac2bf329"
  },
  {
   "cell_type": "code",
   "execution_count": 6,
   "outputs": [],
   "source": [
    "X = torch.randint(2, size=(20, 4))\n",
    "\n",
    "d1 = Categorical([[0.1, 0.9]])\n",
    "d2 = Categorical([[0.3, 0.7]])\n",
    "d3 = ConditionalCategorical([[[0.4, 0.6], [0.3, 0.7]]])\n",
    "d4 = ConditionalCategorical([[[[0.8, 0.2], [0.1, 0.9]], [[0.1, 0.9], [0.5, 0.5]]]])\n",
    "\n",
    "model = BayesianNetwork([d1, d2, d3, d4], [(d1, d3), (d2, d4), (d3, d4)])\n",
    "model.summarize(X[:5])\n",
    "model.summarize(X[5:])\n",
    "model.from_summaries()"
   ],
   "metadata": {
    "collapsed": false,
    "ExecuteTime": {
     "end_time": "2023-10-25T14:26:11.088712887Z",
     "start_time": "2023-10-25T14:26:11.037543612Z"
    }
   },
   "id": "f7f9f924af30dc1f"
  },
  {
   "cell_type": "code",
   "execution_count": 8,
   "outputs": [
    {
     "data": {
      "text/plain": "Parameter containing:\ntensor([[0.5000, 0.5000]])"
     },
     "execution_count": 8,
     "metadata": {},
     "output_type": "execute_result"
    }
   ],
   "source": [
    "model.distributions[0].probs"
   ],
   "metadata": {
    "collapsed": false,
    "ExecuteTime": {
     "end_time": "2023-10-25T14:29:39.523172245Z",
     "start_time": "2023-10-25T14:29:39.482355210Z"
    }
   },
   "id": "a89daef7fe7f5bf4"
  },
  {
   "cell_type": "code",
   "execution_count": 15,
   "outputs": [
    {
     "data": {
      "text/plain": "Parameter containing:\ntensor([[0.4000, 0.6000],\n        [0.7000, 0.3000]])"
     },
     "execution_count": 15,
     "metadata": {},
     "output_type": "execute_result"
    }
   ],
   "source": [
    "model.distributions[2].probs[0]"
   ],
   "metadata": {
    "collapsed": false,
    "ExecuteTime": {
     "end_time": "2023-10-25T14:32:54.711520031Z",
     "start_time": "2023-10-25T14:32:54.667490411Z"
    }
   },
   "id": "84d45186764c4904"
  },
  {
   "cell_type": "code",
   "execution_count": null,
   "outputs": [],
   "source": [],
   "metadata": {
    "collapsed": false
   },
   "id": "61c5f45b6b562604"
  },
  {
   "cell_type": "code",
   "execution_count": null,
   "outputs": [],
   "source": [],
   "metadata": {
    "collapsed": false
   },
   "id": "9a3c2061f9cc4978"
  }
 ],
 "metadata": {
  "kernelspec": {
   "display_name": "Python 3",
   "language": "python",
   "name": "python3"
  },
  "language_info": {
   "codemirror_mode": {
    "name": "ipython",
    "version": 2
   },
   "file_extension": ".py",
   "mimetype": "text/x-python",
   "name": "python",
   "nbconvert_exporter": "python",
   "pygments_lexer": "ipython2",
   "version": "2.7.6"
  }
 },
 "nbformat": 4,
 "nbformat_minor": 5
}

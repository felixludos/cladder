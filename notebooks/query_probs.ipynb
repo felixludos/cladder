{
 "cells": [
  {
   "cell_type": "code",
   "execution_count": 7,
   "outputs": [],
   "source": [
    "from omnibelt import toposort\n",
    "from itertools import product\n",
    "import numpy as np\n",
    "import torch\n",
    "from causalbenchmark.novo.simulation.models import Bernoulli, ConditionalBernoulli, BernoulliNetwork"
   ],
   "metadata": {
    "collapsed": false,
    "ExecuteTime": {
     "end_time": "2023-11-14T13:40:17.665046522Z",
     "start_time": "2023-11-14T13:40:17.622653329Z"
    }
   },
   "id": "e4dbd77df7c7caae"
  },
  {
   "cell_type": "code",
   "execution_count": 2,
   "outputs": [],
   "source": [
    "nodes = [\n",
    "    {\n",
    "        \"name\": \"Player Mortality\",\n",
    "        \"type\": \"outcome\",\n",
    "        \"observed\": True,\n",
    "        \"values\": [\"alive\", \"deceased\"],\n",
    "        \"parents\": [\"Physical Fitness\", \"Quality of Medical Care\"]\n",
    "    },\n",
    "    {\n",
    "        \"name\": \"Physical Training Intensity\",\n",
    "        \"type\": \"treatment\",\n",
    "        \"observed\": True,\n",
    "        \"values\": [\"low/moderate\", \"high\"],\n",
    "        \"parents\": [\"Age of the Player\"]\n",
    "    },\n",
    "    {\n",
    "        \"name\": \"Health Monitoring Practices\",\n",
    "        \"type\": \"treatment\",\n",
    "        \"observed\": True,\n",
    "        \"values\": [\"inadequate\", \"adequate\"],\n",
    "        \"parents\": [\"Age of the Player\"]\n",
    "    },\n",
    "    {\n",
    "        \"name\": \"Age of the Player\",\n",
    "        \"type\": \"confounder\",\n",
    "        \"observed\": True,\n",
    "        \"values\": [\"younger\", \"older\"],\n",
    "        \"parents\": []\n",
    "    },\n",
    "    {\n",
    "        \"name\": \"Physical Fitness\",\n",
    "        \"type\": \"mediator\",\n",
    "        \"observed\": True,\n",
    "        \"values\": [\"poor\", \"good\"],\n",
    "        \"parents\": [\"Physical Training Intensity\"]\n",
    "    },\n",
    "    {\n",
    "        \"name\": \"Quality of Medical Care\",\n",
    "        \"type\": \"mediator\",\n",
    "        \"observed\": True,\n",
    "        \"values\": [\"low\", \"high\"],\n",
    "        \"parents\": [\"Health Monitoring Practices\"]\n",
    "    }\n",
    "]\n"
   ],
   "metadata": {
    "collapsed": false,
    "ExecuteTime": {
     "end_time": "2023-11-14T13:24:59.658161428Z",
     "start_time": "2023-11-14T13:24:59.639758467Z"
    }
   },
   "id": "9dc460209f671bd2"
  },
  {
   "cell_type": "code",
   "execution_count": 8,
   "outputs": [
    {
     "name": "stdout",
     "output_type": "stream",
     "text": [
      "['Age of the Player', 'Physical Training Intensity', 'Health Monitoring Practices', 'Physical Fitness', 'Quality of Medical Care', 'Player Mortality']\n"
     ]
    }
   ],
   "source": [
    "varvals = {node['name']: node['values'] for node in nodes}\n",
    "varparents = {node['name']: node['parents'] for node in nodes}\n",
    "varorder = toposort(varparents)\n",
    "nodes = sorted(nodes, key=lambda x: varorder.index(x['name']))\n",
    "print(varorder)"
   ],
   "metadata": {
    "collapsed": false,
    "ExecuteTime": {
     "end_time": "2023-11-14T13:42:33.376934200Z",
     "start_time": "2023-11-14T13:42:33.328733224Z"
    }
   },
   "id": "23f8bd7ab8b26eea"
  },
  {
   "cell_type": "code",
   "execution_count": 57,
   "outputs": [],
   "source": [
    "\n",
    "template = '{index}. What is the probability that {outcome}{parents}?'\n",
    "# val_template = '{name} = {val}'\n",
    "# parentval_template = val_template\n",
    "# parent_template = ' given that ({parents})'\n",
    "# separator = ') and ('\n",
    "\n",
    "template = '{index}. What is the probability that {outcome}{parents}?'\n",
    "val_template = '\"{name}\" is \"{val}\" (rather than \"{otherval}\")'\n",
    "parentval_template = '\"{name}\" is \"{val}\"'\n",
    "parent_template = ' given that {parents}'\n",
    "separator = ' and '\n",
    "\n",
    "template = '{index}. {parents}what is the probability that {outcome}?'\n",
    "val_template = '\"{name}\" is \"{val}\" (rather than \"{otherval}\")'\n",
    "parentval_template = '\"{name}\" is \"{val}\"'\n",
    "parent_template = 'when {parents}: '\n",
    "separator = ' and '"
   ],
   "metadata": {
    "collapsed": false,
    "ExecuteTime": {
     "end_time": "2023-11-14T14:48:37.432903609Z",
     "start_time": "2023-11-14T14:48:37.388788426Z"
    }
   },
   "id": "9eeffeba9617b7a7"
  },
  {
   "cell_type": "code",
   "execution_count": 58,
   "outputs": [],
   "source": [
    "def generate_terms(nodes):\n",
    "    index = 1\n",
    "    for node in nodes:\n",
    "        name = node['name']\n",
    "        parents = node['parents']\n",
    "        vals = node['values']\n",
    "        \n",
    "        for parentvals in product(*[varvals[parent] for parent in parents]):\n",
    "            yield template.format(\n",
    "                index=index,\n",
    "                outcome=val_template.format(name=name, val=vals[1], otherval=vals[0]),\n",
    "                parents=parent_template.format(parents=separator.join([parentval_template.format(name=parent, val=parentval) for parent, parentval in zip(parents, parentvals)])) if len(parents) else ''\n",
    "            )\n",
    "            index += 1\n",
    "            \n",
    "        # for val in vals:\n",
    "        #     if len(parents):\n",
    "        #         for parentvals in product(*[varvals[parent] for parent in parents]):\n",
    "        #             yield template.format(\n",
    "        #                 index=index,\n",
    "        #                 outcome=val_template.format(name=name, val=val),\n",
    "        #                 parents=parent_template.format(parents=separator.join([val_template.format(name=parent, val=parentval) for parent, parentval in zip(parents, parentvals)])) if len(parents) else ''\n",
    "        #             )\n",
    "        #             index += 1\n",
    "        #     else:\n",
    "        #         yield template.format(\n",
    "        #                 index=index,\n",
    "        #             outcome=f'{name} = {val}',\n",
    "        #             parents=''\n",
    "        #         )\n",
    "        #         index += 1\n",
    "        "
   ],
   "metadata": {
    "collapsed": false,
    "ExecuteTime": {
     "end_time": "2023-11-14T14:48:37.843796420Z",
     "start_time": "2023-11-14T14:48:37.828388779Z"
    }
   },
   "id": "9a87665ab98901e6"
  },
  {
   "cell_type": "code",
   "execution_count": 59,
   "outputs": [
    {
     "name": "stdout",
     "output_type": "stream",
     "text": [
      "1. what is the probability that \"Age of the Player\" is \"older\" (rather than \"younger\")?\n",
      "2. when \"Age of the Player\" is \"younger\": what is the probability that \"Physical Training Intensity\" is \"high\" (rather than \"low/moderate\")?\n",
      "3. when \"Age of the Player\" is \"older\": what is the probability that \"Physical Training Intensity\" is \"high\" (rather than \"low/moderate\")?\n",
      "4. when \"Age of the Player\" is \"younger\": what is the probability that \"Health Monitoring Practices\" is \"adequate\" (rather than \"inadequate\")?\n",
      "5. when \"Age of the Player\" is \"older\": what is the probability that \"Health Monitoring Practices\" is \"adequate\" (rather than \"inadequate\")?\n",
      "6. when \"Physical Training Intensity\" is \"low/moderate\": what is the probability that \"Physical Fitness\" is \"good\" (rather than \"poor\")?\n",
      "7. when \"Physical Training Intensity\" is \"high\": what is the probability that \"Physical Fitness\" is \"good\" (rather than \"poor\")?\n",
      "8. when \"Health Monitoring Practices\" is \"inadequate\": what is the probability that \"Quality of Medical Care\" is \"high\" (rather than \"low\")?\n",
      "9. when \"Health Monitoring Practices\" is \"adequate\": what is the probability that \"Quality of Medical Care\" is \"high\" (rather than \"low\")?\n",
      "10. when \"Physical Fitness\" is \"poor\" and \"Quality of Medical Care\" is \"low\": what is the probability that \"Player Mortality\" is \"deceased\" (rather than \"alive\")?\n",
      "11. when \"Physical Fitness\" is \"poor\" and \"Quality of Medical Care\" is \"high\": what is the probability that \"Player Mortality\" is \"deceased\" (rather than \"alive\")?\n",
      "12. when \"Physical Fitness\" is \"good\" and \"Quality of Medical Care\" is \"low\": what is the probability that \"Player Mortality\" is \"deceased\" (rather than \"alive\")?\n",
      "13. when \"Physical Fitness\" is \"good\" and \"Quality of Medical Care\" is \"high\": what is the probability that \"Player Mortality\" is \"deceased\" (rather than \"alive\")?\n"
     ]
    }
   ],
   "source": [
    "terms = list(generate_terms(nodes))\n",
    "print('\\n'.join(terms))"
   ],
   "metadata": {
    "collapsed": false,
    "ExecuteTime": {
     "end_time": "2023-11-14T14:48:38.908753090Z",
     "start_time": "2023-11-14T14:48:38.890968876Z"
    }
   },
   "id": "de5d64dee1225dd5"
  },
  {
   "cell_type": "code",
   "execution_count": null,
   "outputs": [],
   "source": [
    "invprobabilities = {\n",
    "  1: [0.7, 0.9],\n",
    "  2: [0.6, 0.8],\n",
    "  3: [0.2, 0.4],\n",
    "  4: [0.4, 0.6],\n",
    "  5: [0.1, 0.3],\n",
    "  6: [0.2, 0.4],\n",
    "  7: [0.3, 0.5],\n",
    "  8: [0.8, 0.9],\n",
    "  9: [0.2, 0.4],\n",
    "  10: [0.05, 0.2],\n",
    "  11: [0.2, 0.5],\n",
    "  12: [0.95, 0.99],\n",
    "  13: [0.98, 1.0]\n",
    "}"
   ],
   "metadata": {
    "collapsed": false
   },
   "id": "d9fcf6d245b1ef2d"
  },
  {
   "cell_type": "code",
   "execution_count": null,
   "outputs": [],
   "source": [
    "# Probabilities: \n",
    "1: [0.6, 0.7]\n",
    "2: [0.3, 0.4]\n",
    "3: [0.6, 0.7]\n",
    "4: [0.7, 0.8]\n",
    "5: [0.8, 0.9]\n",
    "6: [0.7, 0.8]\n",
    "7: [0.3, 0.4]\n",
    "8: [0.2, 0.3]\n",
    "9: [0.7, 0.8]\n",
    "10: [0.8, 0.9]\n",
    "11: [0.3, 0.4]\n",
    "12: [0.2, 0.3]\n",
    "13: [0.1, 0.2]"
   ],
   "metadata": {
    "collapsed": false
   },
   "id": "f86400540beb1278"
  },
  {
   "cell_type": "code",
   "execution_count": null,
   "outputs": [],
   "source": [],
   "metadata": {
    "collapsed": false
   },
   "id": "18395f7df34b9de2"
  },
  {
   "cell_type": "code",
   "execution_count": null,
   "outputs": [],
   "source": [],
   "metadata": {
    "collapsed": false
   },
   "id": "93d6c72207e41e7d"
  },
  {
   "cell_type": "code",
   "execution_count": null,
   "id": "initial_id",
   "metadata": {
    "collapsed": true
   },
   "outputs": [],
   "source": []
  }
 ],
 "metadata": {
  "kernelspec": {
   "display_name": "Python 3",
   "language": "python",
   "name": "python3"
  },
  "language_info": {
   "codemirror_mode": {
    "name": "ipython",
    "version": 2
   },
   "file_extension": ".py",
   "mimetype": "text/x-python",
   "name": "python",
   "nbconvert_exporter": "python",
   "pygments_lexer": "ipython2",
   "version": "2.7.6"
  }
 },
 "nbformat": 4,
 "nbformat_minor": 5
}

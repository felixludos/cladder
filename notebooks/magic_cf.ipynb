{
 "cells": [
  {
   "cell_type": "raw",
   "source": [],
   "metadata": {
    "collapsed": false
   },
   "id": "8b988a4a60af55d1"
  },
  {
   "cell_type": "code",
   "execution_count": 1,
   "id": "initial_id",
   "metadata": {
    "collapsed": true,
    "ExecuteTime": {
     "end_time": "2023-11-13T16:53:37.197940192Z",
     "start_time": "2023-11-13T16:53:34.428627715Z"
    }
   },
   "outputs": [],
   "source": [
    "import numpy as np\n",
    "import torch\n",
    "from causalbenchmark.novo.simulation.models import Bernoulli, ConditionalBernoulli, BernoulliNetwork"
   ]
  },
  {
   "cell_type": "code",
   "execution_count": 4,
   "outputs": [
    {
     "name": "stdout",
     "output_type": "stream",
     "text": [
      "p(Y | U, X) p(X | U) p(U=0.1)\n"
     ]
    }
   ],
   "source": [
    "U = Bernoulli(0.1)\n",
    "X = ConditionalBernoulli([U], [0.4, 0.6])\n",
    "Y = ConditionalBernoulli([U, X], [[0.3, 0.5], [0.8, 0.2]])\n",
    "net = BernoulliNetwork({'U': U, 'X': X, 'Y': Y})\n",
    "print(net)"
   ],
   "metadata": {
    "collapsed": false,
    "ExecuteTime": {
     "end_time": "2023-11-13T16:53:45.767765541Z",
     "start_time": "2023-11-13T16:53:45.755601929Z"
    }
   },
   "id": "f27c9f7fa383bc52"
  },
  {
   "cell_type": "code",
   "execution_count": 6,
   "outputs": [],
   "source": [
    "def ett(net):\n",
    "\tpU1 = net.marginals(X=1)['U'].item()\n",
    "\tpY00, pY01, pY10, pY11 = Y.param.view(-1).tolist()\n",
    "\treturn pU1 * (pY01 - pY00) + (1 - pU1) * (pY11 - pY10)\n",
    "def counferfactual(net):\n",
    "\tabduction = net.marginals(X=1)\n",
    "\taction_net = net.intervene(X=1, U=abduction['U'])\n",
    "\treturn action_net.marginals()\n",
    "def alt_ett(net):\n",
    "\tobs = net.marginals(X=1)\n",
    "\tcf = counferfactual(net)\n",
    "\treturn obs['Y'] - cf['Y']"
   ],
   "metadata": {
    "collapsed": false,
    "ExecuteTime": {
     "end_time": "2023-11-13T16:53:49.576359491Z",
     "start_time": "2023-11-13T16:53:49.562568884Z"
    }
   },
   "id": "ee3978b678409356"
  },
  {
   "cell_type": "code",
   "execution_count": 7,
   "outputs": [
    {
     "name": "stderr",
     "output_type": "stream",
     "text": [
      "/home/fleeb/miniconda3/lib/python3.11/site-packages/torch/masked/maskedtensor/core.py:156: UserWarning: The PyTorch API of MaskedTensors is in prototype stage and will change in the near future. Please open a Github issue for features requests and see our documentation on the torch.masked module for further information about the project.\n",
      "  warnings.warn((\"The PyTorch API of MaskedTensors is in prototype stage \"\n"
     ]
    },
    {
     "data": {
      "text/plain": "(-0.48571428997176036, tensor(0.))"
     },
     "execution_count": 7,
     "metadata": {},
     "output_type": "execute_result"
    }
   ],
   "source": [
    "ett(net), alt_ett(net)"
   ],
   "metadata": {
    "collapsed": false,
    "ExecuteTime": {
     "end_time": "2023-11-13T16:53:50.245603562Z",
     "start_time": "2023-11-13T16:53:50.229144497Z"
    }
   },
   "id": "ebdcf4683857147b"
  },
  {
   "cell_type": "code",
   "execution_count": 8,
   "outputs": [
    {
     "data": {
      "text/plain": "tensor(0.1429)"
     },
     "execution_count": 8,
     "metadata": {},
     "output_type": "execute_result"
    }
   ],
   "source": [
    "pU = net.marginals(X=1)['U']\n",
    "pU"
   ],
   "metadata": {
    "collapsed": false,
    "ExecuteTime": {
     "end_time": "2023-11-13T16:53:51.801858764Z",
     "start_time": "2023-11-13T16:53:51.793997470Z"
    }
   },
   "id": "f580324c9e56d348"
  },
  {
   "cell_type": "code",
   "execution_count": 10,
   "outputs": [
    {
     "data": {
      "text/plain": "tensor(0.4571)"
     },
     "execution_count": 10,
     "metadata": {},
     "output_type": "execute_result"
    }
   ],
   "source": [
    "action_net = net.intervene(X=1, U=pU)\n",
    "action_net.marginals()['Y']"
   ],
   "metadata": {
    "collapsed": false,
    "ExecuteTime": {
     "end_time": "2023-11-13T16:54:25.940933658Z",
     "start_time": "2023-11-13T16:54:25.898296407Z"
    }
   },
   "id": "7f0fe414dea23564"
  },
  {
   "cell_type": "code",
   "execution_count": null,
   "outputs": [],
   "source": [],
   "metadata": {
    "collapsed": false,
    "ExecuteTime": {
     "end_time": "2023-11-13T16:19:48.973736346Z",
     "start_time": "2023-11-13T16:19:48.960393955Z"
    }
   },
   "id": "2f7dee63eb661f8e"
  },
  {
   "cell_type": "code",
   "execution_count": null,
   "outputs": [],
   "source": [],
   "metadata": {
    "collapsed": false,
    "ExecuteTime": {
     "end_time": "2023-11-13T16:19:49.153395345Z",
     "start_time": "2023-11-13T16:19:49.141425668Z"
    }
   },
   "id": "c3cb124d959107b0"
  },
  {
   "cell_type": "code",
   "execution_count": null,
   "outputs": [],
   "source": [],
   "metadata": {
    "collapsed": false,
    "ExecuteTime": {
     "end_time": "2023-11-13T16:19:49.366046747Z",
     "start_time": "2023-11-13T16:19:49.352840454Z"
    }
   },
   "id": "542bce135eac081c"
  },
  {
   "cell_type": "code",
   "execution_count": null,
   "outputs": [],
   "source": [],
   "metadata": {
    "collapsed": false
   },
   "id": "fdd0064b2820e7ae"
  }
 ],
 "metadata": {
  "kernelspec": {
   "display_name": "Python 3",
   "language": "python",
   "name": "python3"
  },
  "language_info": {
   "codemirror_mode": {
    "name": "ipython",
    "version": 2
   },
   "file_extension": ".py",
   "mimetype": "text/x-python",
   "name": "python",
   "nbconvert_exporter": "python",
   "pygments_lexer": "ipython2",
   "version": "2.7.6"
  }
 },
 "nbformat": 4,
 "nbformat_minor": 5
}

{
 "cells": [
  {
   "cell_type": "code",
   "execution_count": 4,
   "id": "initial_id",
   "metadata": {
    "collapsed": true,
    "ExecuteTime": {
     "end_time": "2023-11-14T13:16:35.823606067Z",
     "start_time": "2023-11-14T13:16:35.685343346Z"
    }
   },
   "outputs": [],
   "source": [
    "from pathlib import Path\n",
    "import random\n",
    "from tqdm.notebook import tqdm\n",
    "from omnibelt import load_json, save_json\n",
    "import random"
   ]
  },
  {
   "cell_type": "code",
   "execution_count": 2,
   "outputs": [
    {
     "data": {
      "text/plain": "54"
     },
     "execution_count": 2,
     "metadata": {},
     "output_type": "execute_result"
    }
   ],
   "source": [
    "lang_clusters = {'en': ['au', 'ca', 'gb', 'ie', 'in', 'my', 'ng', 'nz', 'ph', 'sa', 'sg', 'us', 'za'],\n",
    "\t\t\t\t 'es': ['ar', 'co', 'cu', 'mx', 've'], 'de': ['at', 'ch', 'de'], 'fr': ['be', 'fr', 'ma'],\n",
    "\t\t\t\t 'zh': ['cn', 'hk', 'tw'], 'ar': ['ae', 'eg'], 'pt': ['br', 'pt'], 'bg': ['bg'], 'cs': ['cz'],\n",
    "\t\t\t\t 'el': ['gr'], 'he': ['il'], 'hu': ['hu'], 'id': ['id'], 'it': ['it'], 'ja': ['jp'], 'ko': ['kr'],\n",
    "\t\t\t\t 'lt': ['lt'], 'lv': ['lv'], 'nl': ['nl'], 'no': ['no'], 'pl': ['pl'], 'ro': ['ro'], 'ru': ['ru'],\n",
    "\t\t\t\t 'sv': ['se'], 'sl': ['si'], 'sk': ['sk'], 'sr': ['rs'], 'th': ['th'], 'tr': ['tr'], 'uk': ['ua']}\n",
    "loc_names = {'gb': 'United Kingdom', 'ar': 'Argentina', 'pl': 'Poland', 'sk': 'Slovakia', 'us': 'United States',\n",
    "\t\t\t 'eg': 'Egypt', 'no': 'Norway', 'ph': 'Philippines', 'at': 'Austria', 'rs': 'Serbia', 'tw': 'Taiwan',\n",
    "\t\t\t 'be': 'Belgium', 'cu': 'Cuba', 'sa': 'Saudi Arabia', 'th': 'Thailand', 'id': 'Indonesia',\n",
    "\t\t\t 'ru': 'Russian Federation', 'ch': 'Switzerland', 'fr': 'France', 'lt': 'Lithuania', 'tr': 'Turkey',\n",
    "\t\t\t 'de': 'Germany', 'cz': 'Czechia', 'pt': 'Portugal', 'ae': 'United Arab Emirates', 'it': 'Italy',\n",
    "\t\t\t 'cn': 'China', 'lv': 'Latvia', 'nl': 'Netherlands', 'hk': 'Hong Kong', 'ca': 'Canada', 'br': 'Brazil',\n",
    "\t\t\t 'hu': 'Hungary', 'kr': 'Korea', 'si': 'Slovenia', 'au': 'Australia', 'my': 'Malaysia', 'ie': 'Ireland',\n",
    "\t\t\t 'ua': 'Ukraine', 'in': 'India', 'ma': 'Morocco', 'bg': 'Bulgaria', 'ng': 'Nigeria', 'il': 'Israel',\n",
    "\t\t\t 'se': 'Sweden', 'za': 'South Africa', 've': 'Venezuela', 'nz': 'New Zealand', 'jp': 'Japan',\n",
    "\t\t\t 'sg': 'Singapore', 'gr': 'Greece', 'mx': 'Mexico', 'co': 'Colombia', 'ro': 'Romania'}\n",
    "lang_names = {'en': 'English', 'ko': 'Korean', 'ru': 'Russian', 'es': 'Spanish', 'pt': 'Portuguese', 'cs': 'Czech',\n",
    "\t\t\t  'tr': 'Turkish', 'nl': 'Dutch', 'ar': 'Arabic', 'fr': 'French', 'bg': 'Bulgarian', 'id': 'Indonesian',\n",
    "\t\t\t  'sk': 'Slovak', 'el': 'Greek', 'he': 'Hebrew', 'sr': 'Serbian', 'hu': 'Hungarian', 'th': 'Thai',\n",
    "\t\t\t  'zh': 'Chinese', 'no': 'Norwegian', 'sl': 'Slovenian', 'sv': 'Swedish', 'de': 'German', 'lv': 'Latvian',\n",
    "\t\t\t  'pl': 'Polish', 'it': 'Italian', 'ro': 'Romanian', 'lt': 'Lithuanian', 'ja': 'Japanese',\n",
    "\t\t\t  'uk': 'Ukrainian'}\n",
    "cluster_id = {loc: lang for lang, locs in lang_clusters.items() for loc in locs}\n",
    "len(cluster_id)"
   ],
   "metadata": {
    "collapsed": false,
    "ExecuteTime": {
     "end_time": "2023-11-14T13:16:32.790909239Z",
     "start_time": "2023-11-14T13:16:32.787086270Z"
    }
   },
   "id": "5d04a0e420ef837b"
  },
  {
   "cell_type": "code",
   "execution_count": 26,
   "outputs": [
    {
     "data": {
      "text/plain": "  0%|          | 0/54 [00:00<?, ?it/s]",
      "application/vnd.jupyter.widget-view+json": {
       "version_major": 2,
       "version_minor": 0,
       "model_id": "906d85722f49424bb5d0e2031c327e3c"
      }
     },
     "metadata": {},
     "output_type": "display_data"
    },
    {
     "data": {
      "text/plain": "4719199"
     },
     "execution_count": 26,
     "metadata": {},
     "output_type": "execute_result"
    }
   ],
   "source": [
    "root = Path('/home/fleeb/workspace/local_data/nnn')\n",
    "recs = (root / 'babel-briefings-v1').glob('**/*.json')\n",
    "recs = list(recs)\n",
    "len(recs)\n",
    "articles = []\n",
    "rec_lens = {}\n",
    "for rec in tqdm(recs):\n",
    "\tnew = [{'ID': art['ID'], \n",
    "\t\t\t'title': art.get('en-title', art['title']), \n",
    "\t\t\t'description': art.get('en-description', art['description']),\n",
    "\t\t\t'content': art.get('en-content', art['content']),\n",
    "\t\t\t'language': art['language']} for art in load_json(rec)]\n",
    "\trec_lens[rec.name] = len(new)\n",
    "\tarticles.extend(new)\n",
    "len(articles)"
   ],
   "metadata": {
    "collapsed": false,
    "ExecuteTime": {
     "end_time": "2023-11-16T12:13:33.923203994Z",
     "start_time": "2023-11-16T12:12:18.166219354Z"
    }
   },
   "id": "9b582f9afb73c156"
  },
  {
   "cell_type": "code",
   "execution_count": 27,
   "outputs": [
    {
     "name": "stdout",
     "output_type": "stream",
     "text": [
      "{'babel-briefings-v1-hu.json': 73509, 'babel-briefings-v1-gr.json': 119940, 'babel-briefings-v1-jp.json': 118475, 'babel-briefings-v1-sa.json': 26269, 'babel-briefings-v1-it.json': 129005, 'babel-briefings-v1-fr.json': 100561, 'babel-briefings-v1-ie.json': 101041, 'babel-briefings-v1-ve.json': 47374, 'babel-briefings-v1-id.json': 131252, 'babel-briefings-v1-pl.json': 116904, 'babel-briefings-v1-tr.json': 122724, 'babel-briefings-v1-za.json': 63222, 'babel-briefings-v1-ae.json': 106094, 'babel-briefings-v1-ma.json': 91643, 'babel-briefings-v1-eg.json': 72760, 'babel-briefings-v1-se.json': 86838, 'babel-briefings-v1-mx.json': 89593, 'babel-briefings-v1-pt.json': 108365, 'babel-briefings-v1-hk.json': 82324, 'babel-briefings-v1-ph.json': 77055, 'babel-briefings-v1-nl.json': 104031, 'babel-briefings-v1-au.json': 133481, 'babel-briefings-v1-ro.json': 54601, 'babel-briefings-v1-lt.json': 34719, 'babel-briefings-v1-us.json': 92497, 'babel-briefings-v1-kr.json': 83090, 'babel-briefings-v1-be.json': 96124, 'babel-briefings-v1-de.json': 96996, 'babel-briefings-v1-at.json': 110272, 'babel-briefings-v1-ua.json': 65610, 'babel-briefings-v1-sk.json': 43057, 'babel-briefings-v1-ng.json': 98976, 'babel-briefings-v1-sg.json': 44178, 'babel-briefings-v1-cu.json': 108769, 'babel-briefings-v1-my.json': 68681, 'babel-briefings-v1-nz.json': 52153, 'babel-briefings-v1-lv.json': 40006, 'babel-briefings-v1-no.json': 46804, 'babel-briefings-v1-ch.json': 52450, 'babel-briefings-v1-il.json': 67794, 'babel-briefings-v1-ar.json': 119033, 'babel-briefings-v1-co.json': 91184, 'babel-briefings-v1-gb.json': 119481, 'babel-briefings-v1-br.json': 135463, 'babel-briefings-v1-bg.json': 67223, 'babel-briefings-v1-rs.json': 80040, 'babel-briefings-v1-si.json': 33026, 'babel-briefings-v1-ru.json': 113395, 'babel-briefings-v1-tw.json': 97008, 'babel-briefings-v1-th.json': 90708, 'babel-briefings-v1-in.json': 123754, 'babel-briefings-v1-ca.json': 127445, 'babel-briefings-v1-cn.json': 91555, 'babel-briefings-v1-cz.json': 70647}\n"
     ]
    }
   ],
   "source": [
    "print(rec_lens)"
   ],
   "metadata": {
    "collapsed": false,
    "ExecuteTime": {
     "end_time": "2023-11-16T12:13:33.925545992Z",
     "start_time": "2023-11-16T12:13:33.923092747Z"
    }
   },
   "id": "59395d00875fe16"
  },
  {
   "cell_type": "code",
   "execution_count": null,
   "outputs": [],
   "source": [],
   "metadata": {
    "collapsed": false
   },
   "id": "328040855080152d"
  },
  {
   "cell_type": "code",
   "execution_count": 23,
   "outputs": [
    {
     "data": {
      "text/plain": "  0%|          | 0/4719199 [00:00<?, ?it/s]",
      "application/vnd.jupyter.widget-view+json": {
       "version_major": 2,
       "version_minor": 0,
       "model_id": "20c2441e3c8f44d4b30c588a7a5cc019"
      }
     },
     "metadata": {},
     "output_type": "display_data"
    },
    {
     "data": {
      "text/plain": "(0, 30)"
     },
     "execution_count": 23,
     "metadata": {},
     "output_type": "execute_result"
    }
   ],
   "source": [
    "by_loc = {}\n",
    "by_lang = {}\n",
    "# by_source = {}\n",
    "by_ID = {}\n",
    "for article in tqdm(articles):\n",
    "\tby_ID[article['ID']] = article\n",
    "\t# article['published'] = parser.parse(article['publishedAt'])\n",
    "\t# by_source.setdefault(article['source-name'], []).append(article)\n",
    "\tby_lang.setdefault(article['language'], []).append(article)\n",
    "\t# for instance in article['instances']:\n",
    "\t\t# instance['collected'] = parser.parse(instance['collectedAt'])\n",
    "\t\t# by_loc.setdefault(instance['location'], []).append(article)\n",
    "len(by_loc), len(by_lang)"
   ],
   "metadata": {
    "collapsed": false,
    "ExecuteTime": {
     "end_time": "2023-11-16T12:07:21.972798973Z",
     "start_time": "2023-11-16T12:06:49.113794114Z"
    }
   },
   "id": "f431b7e4201f4426"
  },
  {
   "cell_type": "code",
   "execution_count": 24,
   "outputs": [
    {
     "data": {
      "text/plain": "4719199"
     },
     "execution_count": 24,
     "metadata": {},
     "output_type": "execute_result"
    }
   ],
   "source": [
    "len(by_ID)"
   ],
   "metadata": {
    "collapsed": false,
    "ExecuteTime": {
     "end_time": "2023-11-16T12:07:34.008994704Z",
     "start_time": "2023-11-16T12:07:33.968370279Z"
    }
   },
   "id": "794f7570eeee73e0"
  },
  {
   "cell_type": "code",
   "execution_count": 30,
   "outputs": [],
   "source": [
    "import torch"
   ],
   "metadata": {
    "collapsed": false,
    "ExecuteTime": {
     "end_time": "2023-11-16T12:33:24.308427439Z",
     "start_time": "2023-11-16T12:32:59.422307734Z"
    }
   },
   "id": "9c09f667045e2583"
  },
  {
   "cell_type": "code",
   "execution_count": 31,
   "outputs": [],
   "source": [
    "paths = [[1,2,3], [4,5], [6,7,8,9]]\n",
    "total = 9\n",
    "rng = torch.Generator().manual_seed(42)"
   ],
   "metadata": {
    "collapsed": false,
    "ExecuteTime": {
     "end_time": "2023-11-16T12:33:54.488749848Z",
     "start_time": "2023-11-16T12:33:54.441837491Z"
    }
   },
   "id": "ff6f7703b6fef61f"
  },
  {
   "cell_type": "code",
   "execution_count": 33,
   "outputs": [
    {
     "data": {
      "text/plain": "5"
     },
     "execution_count": 33,
     "metadata": {},
     "output_type": "execute_result"
    }
   ],
   "source": [
    "lens = [len(p) for p in paths]\n",
    "seed = torch.randint(0, total, (1,), generator=rng).item()\n",
    "seed"
   ],
   "metadata": {
    "collapsed": false,
    "ExecuteTime": {
     "end_time": "2023-11-16T12:34:32.368301138Z",
     "start_time": "2023-11-16T12:34:32.289319474Z"
    }
   },
   "id": "ac83a4c0a3bb0fe5"
  },
  {
   "cell_type": "code",
   "execution_count": null,
   "outputs": [],
   "source": [
    "selected = [] "
   ],
   "metadata": {
    "collapsed": false
   },
   "id": "8a25901dfde7fb8b"
  },
  {
   "cell_type": "code",
   "execution_count": null,
   "outputs": [],
   "source": [],
   "metadata": {
    "collapsed": false
   },
   "id": "93b430d2beab7cc1"
  },
  {
   "cell_type": "code",
   "execution_count": null,
   "outputs": [],
   "source": [],
   "metadata": {
    "collapsed": false
   },
   "id": "e53114b2544fdaee"
  },
  {
   "cell_type": "code",
   "execution_count": 18,
   "outputs": [
    {
     "name": "stdout",
     "output_type": "stream",
     "text": [
      "```\n",
      "Title: His wife was taken away by the coronavirus - Gábor was left alone with his three children - video - Bors\n",
      "Description: BorsOnline\n",
      "Original Language: Hungarian\n",
      "```\n",
      "\n",
      "```\n",
      "Title: Beyond 'Netflix Party': startups and their VCs bet we'll browse more of the web together - Yahoo Singapore News\n",
      "Description: Last year, during the pandemic, a free browser extension called Netflix Party gained traction because it enabled people trapped in their homes to connect...\n",
      "Original Language: English\n",
      "```\n",
      "\n",
      "```\n",
      "Title: Gleb Retivykh: “The mistake cost us not getting into the final. It’s a shame, I had strength” - news.Sportbox.ru\n",
      "Description: Russian skier Gleb Retivykh explained why he was unable to qualify for the decisive sprint race in the classic style at the World Championships in Oberstdorf.\n",
      "Original Language: Russian\n",
      "```\n",
      "\n",
      "```\n",
      "Title: Central banks are driving investors crazy: even Greece now has negative interest rates - Volkskrant\n",
      "Description: On Monday, for the first time in history, investors poured money into Greek bonds with a five-year term. Why do investors do this?\n",
      "Original Language: Dutch\n",
      "```\n",
      "\n",
      "```\n",
      "Title: SpaceX ‘Gateway to Mars’ video shows off its Starship spacecraft - Digital Trends\n",
      "Description: SpaceX has released a new video showing off its Starship spacecraft that it believes will one day transport astronauts to Mars.\n",
      "Original Language: English\n",
      "```\n",
      "\n",
      "```\n",
      "Title: Association offers free legal and psychological support to women victims of violence - O POVO\n",
      "Description: Service is provided remotely; Registration can be made until this Friday, 14th\n",
      "Original Language: Portuguese\n",
      "```\n",
      "\n",
      "```\n",
      "Title: Gemini Career Horoscope for November 2021 - Vogue India\n",
      "Description: Vogue Monthly Career & Finance Horoscope for November 2021: Check out our monthly predictions to find out what the stars have in store for you\n",
      "Original Language: English\n",
      "```\n",
      "\n",
      "```\n",
      "Title: Landing in Malang, Former PSS Captain Immediately Sees Arema Training in Kanjuruhan - Bola.com\n",
      "Description: One final Arema FC player for the 2021 Menpora Cup has arrived, namely the former PSS Sleman captain, Ikhwan Ciptadi Muhammad.\n",
      "Original Language: Indonesian\n",
      "```\n",
      "\n",
      "```\n",
      "Title: COVID-19 In Pennsylvania: Data Shows Significant Increases In Coronavirus Cases Reported Among Younger People - CBS Pittsburgh\n",
      "Description: In a release on Saturday, the Pennsylvania Department of Health said they're seeing significant increases in cases among people ages 19 to 24.\n",
      "Original Language: English\n",
      "```\n",
      "\n",
      "```\n",
      "Title: AstraZeneca Vaccine Test in Chile Zero Cases of Blood Clots - A ray of hope\n",
      "Description: Research Involves 20% of Elderly Volunteers Over 60 Years.\n",
      "Original Language: Indonesian\n",
      "```\n"
     ]
    }
   ],
   "source": [
    "batch = random.choices(articles, k=10)\n",
    "for art in batch:\n",
    "\t\n",
    "\tlines = [\n",
    "\t\t'```',\n",
    "\t\tf'Title: {art[\"title\"]}',\n",
    "\t\tf'Description: {art[\"description\"]}',\n",
    "\t\tf'Content: {art[\"content\"]}',\n",
    "\t\tf'Original Language: {lang_names[art[\"language\"]]}',\n",
    "\t\t'```',\n",
    "\t]\n",
    "\tif True or art['language'] in {'el', 'zh', 'ja', }:\n",
    "\t\tdel lines[3]\n",
    "\tprint(\"\\n\".join(lines))\n",
    "\tprint()"
   ],
   "metadata": {
    "collapsed": false,
    "ExecuteTime": {
     "end_time": "2023-11-16T11:35:35.269346396Z",
     "start_time": "2023-11-16T11:35:35.203232113Z"
    }
   },
   "id": "1d6688de00c75e8f"
  },
  {
   "cell_type": "code",
   "execution_count": null,
   "outputs": [],
   "source": [],
   "metadata": {
    "collapsed": false
   },
   "id": "5a2bf8812e865358"
  },
  {
   "cell_type": "code",
   "execution_count": null,
   "outputs": [],
   "source": [],
   "metadata": {
    "collapsed": false
   },
   "id": "4c2ca1a1acfff9d5"
  },
  {
   "cell_type": "code",
   "execution_count": null,
   "outputs": [],
   "source": [],
   "metadata": {
    "collapsed": false
   },
   "id": "ea37269d25095090"
  },
  {
   "cell_type": "code",
   "execution_count": 2,
   "outputs": [
    {
     "data": {
      "text/plain": "True"
     },
     "execution_count": 2,
     "metadata": {},
     "output_type": "execute_result"
    }
   ],
   "source": [
    "path = Path().absolute().parent / 'data' / 'general_gb.json'\n",
    "path.exists()"
   ],
   "metadata": {
    "collapsed": false,
    "ExecuteTime": {
     "end_time": "2023-10-05T14:43:44.108102500Z",
     "start_time": "2023-10-05T14:43:44.027582Z"
    }
   },
   "id": "1af4f098c21fc41e"
  },
  {
   "cell_type": "code",
   "execution_count": 3,
   "outputs": [
    {
     "data": {
      "text/plain": "6"
     },
     "execution_count": 3,
     "metadata": {},
     "output_type": "execute_result"
    }
   ],
   "source": [
    "full = load_json(path)\n",
    "len(full)"
   ],
   "metadata": {
    "collapsed": false,
    "ExecuteTime": {
     "end_time": "2023-10-05T14:43:44.144303800Z",
     "start_time": "2023-10-05T14:43:44.048282800Z"
    }
   },
   "id": "62ee6cc6ca87cab5"
  },
  {
   "cell_type": "code",
   "execution_count": 4,
   "outputs": [
    {
     "data": {
      "text/plain": "38"
     },
     "execution_count": 4,
     "metadata": {},
     "output_type": "execute_result"
    }
   ],
   "source": [
    "arts = full['articles']\n",
    "len(arts)"
   ],
   "metadata": {
    "collapsed": false,
    "ExecuteTime": {
     "end_time": "2023-10-05T14:43:44.148301700Z",
     "start_time": "2023-10-05T14:43:44.081075200Z"
    }
   },
   "id": "818bfb59a7d2bb7c"
  },
  {
   "cell_type": "code",
   "execution_count": 17,
   "outputs": [
    {
     "name": "stdout",
     "output_type": "stream",
     "text": [
      "```\n",
      "Title: Warm up with this cozy image of a hot spot on Jupiter - Space.com\n",
      "Description: \n",
      "```\n",
      "\n",
      "```\n",
      "Title: PM must reform the union or risk UK becoming a 'failed state' - Gordon Brown - Sky News\n",
      "Description: Gordon Brown says Boris Johnson should promote the armed forces and the NHS as examples of the union's \"everyday benefits\".\n",
      "```\n",
      "\n",
      "```\n",
      "Title: WhatsApp loses millions of users after terms update - The Guardian\n",
      "Description: Poorly-executed change of terms of service sends messaging app’s subscribers flocking to competitors\n",
      "```\n",
      "\n",
      "```\n",
      "Title: Adele celebrates 10th anniversary of album 21's release with rare Instagram post - Daily Mail\n",
      "Description: Taking to Instagram, the star admitted  she can't remember much about 'how she felt'  in 2011 but is so grateful for fans letting her be 'a soundtrack' to some of the last decade.\n",
      "```\n",
      "\n",
      "```\n",
      "Title: The best photos of snow from across Wales - WalesOnline\n",
      "Description: Some places could see more snow fall this evening\n",
      "```\n"
     ]
    }
   ],
   "source": [
    "for a in random.choices(arts, k=5):\n",
    "\tprint(f'''```\n",
    "Title: {a[\"title\"]}\n",
    "Description: {a[\"description\"]}\n",
    "```''') # Content: {a[\"content\"]}\n",
    "\tprint()"
   ],
   "metadata": {
    "collapsed": false,
    "ExecuteTime": {
     "end_time": "2023-10-06T08:54:47.500447600Z",
     "start_time": "2023-10-06T08:54:47.468684300Z"
    }
   },
   "id": "240d28913dfb9c5d"
  },
  {
   "cell_type": "code",
   "execution_count": null,
   "outputs": [],
   "source": [],
   "metadata": {
    "collapsed": false
   },
   "id": "9bed720ba68e3a41"
  },
  {
   "cell_type": "code",
   "execution_count": null,
   "outputs": [],
   "source": [],
   "metadata": {
    "collapsed": false
   },
   "id": "cdadc3947f344cb2"
  },
  {
   "cell_type": "code",
   "execution_count": null,
   "outputs": [],
   "source": [],
   "metadata": {
    "collapsed": false
   },
   "id": "29d7b89dcfd0768d"
  },
  {
   "cell_type": "code",
   "execution_count": null,
   "outputs": [],
   "source": [],
   "metadata": {
    "collapsed": false
   },
   "id": "31a90e954cd9e84f"
  }
 ],
 "metadata": {
  "kernelspec": {
   "display_name": "Python 3",
   "language": "python",
   "name": "python3"
  },
  "language_info": {
   "codemirror_mode": {
    "name": "ipython",
    "version": 2
   },
   "file_extension": ".py",
   "mimetype": "text/x-python",
   "name": "python",
   "nbconvert_exporter": "python",
   "pygments_lexer": "ipython2",
   "version": "2.7.6"
  }
 },
 "nbformat": 4,
 "nbformat_minor": 5
}

{
 "cells": [
  {
   "cell_type": "code",
   "execution_count": 1,
   "id": "initial_id",
   "metadata": {
    "collapsed": true,
    "ExecuteTime": {
     "end_time": "2024-01-12T10:59:39.188737Z",
     "start_time": "2024-01-12T10:59:18.587535700Z"
    }
   },
   "outputs": [],
   "source": [
    "from pathlib import Path\n",
    "from omnibelt import toposort, load_json, save_json, pformat, pformat_vars\n",
    "from itertools import product, combinations\n",
    "# import pyperclip\n",
    "import random\n",
    "from PIL import Image\n",
    "from graphviz import Digraph\n",
    "import matplotlib.pyplot as plt\n",
    "import io\n",
    "# import clipboard\n",
    "import networkx as nx\n",
    "from tqdm.notebook import tqdm\n",
    "from tabulate import tabulate\n",
    "import matplotlib.pyplot as plt\n",
    "import seaborn as sns\n",
    "from omniply import tool, ToolKit, Context\n",
    "\n",
    "import numpy as np\n",
    "import torch\n",
    "from causalbenchmark.novo.simulation.models import Bernoulli, ConditionalBernoulli, BernoulliNetwork\n",
    "from causalbenchmark.novo.seeding import NewsHeadlines, StatisticsPrompting, Story\n",
    "# from causalbenchmark.novo.seeding.prompting import GraphInfo\n",
    "from causalbenchmark.novo.templating import FixedTemplate, SimpleTemplater\n",
    "# from causalbenchmark.novo.verbalization import misc\n",
    "from causalbenchmark.novo import misc\n",
    "from causalbenchmark.novo.verbalization.decision import Decision\n",
    "from causalbenchmark.novo.templating import Template\n",
    "from causalbenchmark.novo.verbalization import Verbalizer, MarginalVerbalization, ConditionalVerbalization\n",
    "from causalbenchmark.novo.verbalization.variable import VariableVerbalization\n",
    "from causalbenchmark.novo.verbalization.flavors import PrecisePercent\n",
    "from causalbenchmark.novo.seeding.prompting import VerbalizationPrompting\n",
    "from causalbenchmark.novo.simulation.solvers import ATE_Sign"
   ]
  },
  {
   "cell_type": "code",
   "execution_count": 2,
   "outputs": [
    {
     "name": "stdout",
     "output_type": "stream",
     "text": [
      "['China_2021_GDP_and_Inflation_Exploration', 'Comet Fragment Explosion Impact Analysis - Adriatic Coast', 'E-Bike Summer Sale Impact Analysis', 'Impact_of_Benelux_Tour_on_Tour_of_Britain_Performance', 'Impact_of_Covid_on_Auto_Industry_Job_Market', 'Impact_of_Refurbished_Tech_on_Student_Performance_Milan', 'Meteorite_Approach_Analysis_2024', 'NHS_Glasgow_Coronavirus_Outbreak_Impact_Study', 'Oil_Price_Trends_and_Global_Economic_Indicators_Analysis', 'Penguin_Populations_and_Climate_Change_Analysis', 'PlayStation_5_Supply_Demand_Analysis_Netherlands']\n"
     ]
    }
   ],
   "source": [
    "path = misc.data_root() / 'stories'\n",
    "story_names = [p.stem for p in path.glob('*.json')]#[:1]\n",
    "print(story_names)"
   ],
   "metadata": {
    "collapsed": false,
    "ExecuteTime": {
     "end_time": "2024-01-12T10:59:39.276937800Z",
     "start_time": "2024-01-12T10:59:39.188737Z"
    }
   },
   "id": "c2b29a486f9094f2"
  },
  {
   "cell_type": "code",
   "execution_count": 3,
   "outputs": [
    {
     "data": {
      "text/plain": "11",
      "image/png": "[encoded data removed]",
      "text/latex": "$\\displaystyle 11$"
     },
     "execution_count": 3,
     "metadata": {},
     "output_type": "execute_result"
    }
   ],
   "source": [
    "use_old_loading = False\n",
    "# story_names = [\n",
    "# \t# 'old/test19', 'old/test20', 'old/test21',\n",
    "# \t# 'Facebook-WallStreet_Trends_Post-Verdict1',\n",
    "# \t# 'RoyalFashionTrends_Analysis2',\n",
    "# \t# 'EU Gas Alliance and Inflation Trends',\n",
    "# \t\n",
    "# \t'Impact_of_Covid_on_Auto_Industry_Job_Market',\n",
    "# \t\n",
    "# ]\n",
    "stories = []\n",
    "for name in story_names:\n",
    "\tstory = Story(story_root=misc.data_root() / 'stories', story_id=name)#.populate_defaults()\n",
    "\tstories.append(story)\n",
    "\tif use_old_loading:\n",
    "\t\tstory['stats'] = {int(k): v for k, v in story['stats'].items()}\n",
    "\t\tstory['verbs'] = {k: {int(k2): v2 for k2, v2 in v.items()} for k, v in story['verbs'].items()}\n",
    "\t\tfor k, v in story['verbs'].items():\n",
    "\t\t\tfor k2, v2 in v.items():\n",
    "\t\t\t\tif 'value' in v2:\n",
    "\t\t\t\t\tv2['value'] = {int(k3): v3 for k3, v3 in v2['value'].items()}\n",
    "\t\tstory['questions']['questions'] = {int(k): v for k, v in story['questions']['questions'].items()}\n",
    "len(stories)"
   ],
   "metadata": {
    "collapsed": false,
    "ExecuteTime": {
     "end_time": "2024-01-12T10:59:39.575072400Z",
     "start_time": "2024-01-12T10:59:39.237493500Z"
    }
   },
   "id": "604bd583b4084ccd"
  },
  {
   "cell_type": "code",
   "execution_count": 4,
   "outputs": [],
   "source": [
    "def old_story_atoms(story):\n",
    "\tvarverbs = {}\n",
    "\tfor var, raw in story['verbs'].items():\n",
    "\t\tinfo = {'values': {0: {}, 1: {}}}\n",
    "\t\t\n",
    "\t\tinfo['variable'] = raw[1]['variable']\n",
    "\t\tinfo['subject'] = raw[2]['subject']\n",
    "\t\tinfo['domain'] = raw[4]['domain']\n",
    "\t\t\n",
    "\t\tfor i in [0, 1]:\n",
    "\t\t\tinfo_val = info['values'][i]\n",
    "\t\t\tinfo_val['verb'] = raw[2]['value'][i] # goes with subject\n",
    "\t\t\tinfo_val['phrase'] = raw[3]['value'][i]\n",
    "\t\t\tinfo_val['descriptor'] = raw[4]['value'][i] # goes with domain\n",
    "\t\t\tinfo_val['event'] = raw[5]['value'][i]\n",
    "\t\t\tinfo_val['conditional'] = raw[6]['value'][i]\n",
    "\t\t\tinfo_val['interventional'] = raw[7]['value'][i]\n",
    "\t\t\t\n",
    "\t\tvarverbs[var] = info\n",
    "\t\n",
    "\tstory['sheet'] = varverbs\n",
    "\treturn story\n",
    "\n",
    "def story_atoms(story):\n",
    "\tbase_keys = ['descriptor', 'subject', 'pronoun', 'preposition', 'domain']\n",
    "\tvalue_keys = ['predicate', 'nounclause', 'subclause', 'condition', 'action']\n",
    "\tverbs = []\n",
    "\tfor node in story['nodes']:\n",
    "\t\traw = story['verbs'][node['name']]\n",
    "\t\tinfo = {'values': {0: {}, 1: {}}}\n",
    "\t\tinfo.update({key: raw[key] for key in base_keys})\n",
    "\t\tfor i in [0, 1]:\n",
    "\t\t\tinfo_val = info['values'][i]\n",
    "\t\t\tinfo_val.update({key: raw[f'{key}{i}'] for key in value_keys})\n",
    "\t\t# node['verbs'] = info\n",
    "\t\tverbs.append(info)\n",
    "\tstory['verbs'] = verbs\n",
    "for story in stories:\n",
    "\t(old_story_atoms if use_old_loading else story_atoms)(story)"
   ],
   "metadata": {
    "collapsed": false,
    "ExecuteTime": {
     "end_time": "2024-01-12T10:59:39.575072400Z",
     "start_time": "2024-01-12T10:59:39.513567200Z"
    }
   },
   "id": "172e69abce303632"
  },
  {
   "cell_type": "code",
   "execution_count": 15,
   "outputs": [],
   "source": [
    "story = random.choice(stories)\n",
    "story = stories[-4]\n",
    "# rawverbs = story['verbs']\n",
    "# rawvars = {node['name']: node for node in story['nodes']}\n",
    "# next(iter(rawverbs.values()))"
   ],
   "metadata": {
    "collapsed": false,
    "ExecuteTime": {
     "end_time": "2024-01-12T11:05:21.478258300Z",
     "start_time": "2024-01-12T11:05:21.422142700Z"
    }
   },
   "id": "f02461335f55fce0"
  },
  {
   "cell_type": "code",
   "execution_count": 16,
   "outputs": [
    {
     "data": {
      "text/plain": "('Staff Stress Levels', 'High stress')"
     },
     "execution_count": 16,
     "metadata": {},
     "output_type": "execute_result"
    }
   ],
   "source": [
    "node = random.choice(list(story['nodes']))\n",
    "varval = 0\n",
    "node['name'], node['values'][varval]"
   ],
   "metadata": {
    "collapsed": false,
    "ExecuteTime": {
     "end_time": "2024-01-12T11:05:21.825911300Z",
     "start_time": "2024-01-12T11:05:21.721699600Z"
    }
   },
   "id": "ad18af624f5ce543"
  },
  {
   "cell_type": "code",
   "outputs": [
    {
     "data": {
      "text/plain": "['Prior Experience with Pandemics',\n 'Hospital Funding',\n 'PPE Availability',\n 'Staff Training on Pandemic Protocols',\n 'Staff Stress Levels',\n 'Quality of Patient Care',\n 'Staff Morale',\n 'Staff Absenteeism']"
     },
     "execution_count": 22,
     "metadata": {},
     "output_type": "execute_result"
    }
   ],
   "source": [
    "[node['name'] for node in story['nodes']]"
   ],
   "metadata": {
    "collapsed": false,
    "ExecuteTime": {
     "end_time": "2024-01-12T11:06:14.143193300Z",
     "start_time": "2024-01-12T11:06:14.066217600Z"
    }
   },
   "id": "528f9fddf2cbc226",
   "execution_count": 22
  },
  {
   "cell_type": "code",
   "execution_count": 17,
   "outputs": [],
   "source": [
    "def get_varverb(node, verb, varval, **static):\n",
    "\tvarverb = VariableVerbalization().populate_defaults().populate_variable({**node, **static}, verb, varval)\n",
    "\treturn varverb\n",
    "\n",
    "def sample_text(ident=None, *other_tools, **static):\n",
    "\tif ident is None:\n",
    "\t\tident = {}\n",
    "\tstory_id = ident.setdefault('story_id', random.randint(0,len(stories)-1))\n",
    "\tstory = stories[story_id]\n",
    "\t\n",
    "\tvar_id = ident.setdefault('var_id', random.randint(0,len(story['nodes'])-1))\n",
    "\tvarval = ident.setdefault('value_id', random.choice([0, 1]))\n",
    "\t\n",
    "\tvarverb = get_varverb(story['nodes'][var_id], story['verbs'][var_id], varval, **static)\n",
    "\n",
    "\tconditions = []\n",
    "\t\n",
    "\tparent_ids = {key: val for key, val in sorted(ident.items()) if key.startswith('parent_id')}\n",
    "\tif len(parent_ids) or ident.setdefault('num_parents', random.choice([0, 1, 2])):\n",
    "\t\tparent_idx_options = [i for i, node in enumerate(story['nodes']) if i != var_id]\n",
    "\t\tif not len(parent_ids):\n",
    "\t\t\tnum = ident.setdefault('num_parents', random.choice([0, 1, 2]))\n",
    "\t\t\tparent_ids = {f'parent_id{i}': pid for i, pid in enumerate(random.sample(parent_idx_options, k=num))}\n",
    "\t\t\n",
    "\t\tpvals = ident.setdefault('parent_vals', [random.randint(0, 1) for _ in range(len(parent_ids))])\n",
    "\t\tident['parent_vals'] = tuple(pvals)\n",
    "\t\tconditions = [get_varverb(story['nodes'][pid], story['verbs'][pid], pval) \n",
    "\t\t\t\t\t  for (key, pid), pval in zip(parent_ids.items(), pvals)]\n",
    "\t\tfor k, pid in parent_ids.items():\n",
    "\t\t\tident[k] = pid\n",
    "\t\n",
    "\tverbalizer = Verbalizer().populate_defaults().add_variable(varverb, *conditions)\n",
    "\tverbalizer.extend(other_tools)\n",
    "\tverbalizer.update(ident)\n",
    "\treturn verbalizer"
   ],
   "metadata": {
    "collapsed": false,
    "ExecuteTime": {
     "end_time": "2024-01-12T11:05:23.115532400Z",
     "start_time": "2024-01-12T11:05:23.049575200Z"
    }
   },
   "id": "37e1aaf88d56bd56"
  },
  {
   "cell_type": "code",
   "execution_count": 28,
   "outputs": [
    {
     "name": "stdout",
     "output_type": "stream",
     "text": [
      "i\n",
      "---------------------------------------------------------------------------------------------------------------------------------------------\n",
      "Given that the staff lack adequate training for pandemics, the odds that the healthcare system maintains excellent care standards are 12%.\n",
      "In 12% of medical facilities, patient treatment is not up to par, with comprehensive pandemic training.\n",
      "If the staff are undertrained for pandemic scenarios, 12% of the time the quality of care is compromised.\n",
      "12% of the time the healthcare system maintains excellent care standards, with comprehensive pandemic training.\n",
      "Given that the staff lack adequate training for pandemics, with a certainty of 12%, a facility excels in patient care.\n",
      "With comprehensive pandemic training, in 12% of medical facilities, care quality in a facility is lacking.\n",
      "12% of the time the healthcare system provides subpar patient care, with comprehensive pandemic training.\n",
      "Provided that there is thorough training in pandemic protocols, 12% of the time the healthcare system maintains excellent care standards.\n",
      "Given that training in pandemic protocols is lacking, 12% of the time a facility excels in patient care.\n",
      "Without proper pandemic training, with a certainty of 12%, the quality of care is compromised.\n",
      "If staff are fully trained for pandemic response, there is a 12% chance that a facility excels in patient care.\n",
      "With a certainty of 12%, the healthcare system provides subpar patient care, when staff are well-trained.\n",
      "12% of the time patient care falls short of standards, if staff are fully trained for pandemic response.\n",
      "12% of the time there is excellence in patient treatment, if staff training is inadequate.\n",
      "When adequate training is missing, 12% of the time the healthcare system maintains excellent care standards.\n",
      "If training in pandemic protocols is lacking, in 12% of medical facilities, a facility excels in patient care.\n",
      "With a confidence of 12%, the healthcare system delivers high-quality patient care, provided that staff are not fully prepared for pandemics.\n",
      "Without proper pandemic training, 12% of the time a facility excels in patient care.\n",
      "The probability that patient care meets high standards is 12%, if training in pandemic protocols is lacking.\n",
      "There is a 12% probability that the quality of care is compromised, when staff are not fully prepared for pandemics.\n",
      "12% of the time a facility excels in patient care, without proper pandemic training.\n",
      "In 12% of medical facilities, high standards of treatment are maintained, when the staff have received comprehensive pandemic training.\n",
      "With comprehensive pandemic training, there is a 12% probability that a facility excels in patient care.\n",
      "With comprehensive pandemic training, in 12% of medical facilities, patient treatment is not up to par.\n",
      "Without proper pandemic training, 12% of the time a facility excels in patient care.\n",
      "With a certainty of 12%, the healthcare system is struggling with care quality, without proper pandemic training.\n",
      "With comprehensive pandemic training, 12% of the time patient care meets high standards.\n",
      "The likelihood that the healthcare system is struggling with care quality is 12%, if staff training is inadequate.\n",
      "When the staff have received comprehensive pandemic training, in 12% of medical facilities, high standards of treatment are maintained.\n",
      "If the staff are undertrained for pandemic scenarios, in 12% of medical facilities, a facility excels in patient care.\n"
     ]
    }
   ],
   "source": [
    "samples = []\n",
    "\n",
    "prior = {\n",
    "\t'story_id': -4,\n",
    "\t'var_id': -3,\n",
    "\t# 'value_id': 0,\n",
    "\t\n",
    "\t# 'clause_id': 0,\n",
    "\t# 'position_id': 3,\n",
    "\t\n",
    "\t# 'num_parents': 0,\n",
    "\t'parent_id1': 3,\n",
    "\t# 'parent_vals': [1],\n",
    "\t# 'parent_id2': 1,\n",
    "\t\n",
    "}\n",
    "\n",
    "others = [PrecisePercent()]\n",
    "\n",
    "for _ in range(30):\n",
    "\tident = prior.copy()\n",
    "\tctx = sample_text(ident, *others, mean=0.12)\n",
    "\ttext = ctx['sentence']\n",
    "\tident.update(ctx.identity())\n",
    "\tctx['ident'] = ident\n",
    "\tsamples.append(ctx)\n",
    "\n",
    "cols = []\n",
    "for row in samples:\n",
    "\tfor key in row['ident']:\n",
    "\t\tif key not in cols:\n",
    "\t\t\tcols.append(key)\n",
    "\n",
    "table = [(\n",
    "\t# i, len([k for k in row['ident'] if k not in prior]),\n",
    "\t\t  row['sentence'], \n",
    "\t\t  # row['ctx']['event'], row['ctx']['event'], row['ctx']['phrase'], row['ctx']['subject'], row['ctx']['verb'],  \n",
    "\t\t  # *[row['ident'].get(key, '-') for key in cols]\n",
    "\t\t  ) for i, row in enumerate(samples)]\n",
    "print(tabulate(table, headers=['i', 'dof', 'text', *cols]))# *list(map(str, range(len(cols))))]))"
   ],
   "metadata": {
    "collapsed": false,
    "ExecuteTime": {
     "end_time": "2024-01-12T11:10:32.620119300Z",
     "start_time": "2024-01-12T11:10:32.352106100Z"
    }
   },
   "id": "8790ba39976af0d6"
  },
  {
   "cell_type": "code",
   "execution_count": 19,
   "outputs": [
    {
     "name": "stdout",
     "output_type": "stream",
     "text": [
      "If a cyclist manages to keep fatigue low and when a rider has less experience, 12% of the time the cyclist trains with low intensity.\n",
      "{'story_id': 3, 'var_id': 4, 'value_id': 0, 'num_parents': 2, 'parent_vals': (0, 0), 'parent_id0': 5, 'parent_id1': 0, 'marginal_id': 2, 'antecedent_id': 0, 'conditional_id': 0, 'clause_id': 1, 'nounclause_id': 0}\n"
     ]
    }
   ],
   "source": [
    "sample = samples[0]\n",
    "ident = sample['ident']\n",
    "text = sample['sentence']\n",
    "\n",
    "print(text)\n",
    "print(ident)"
   ],
   "metadata": {
    "collapsed": false,
    "ExecuteTime": {
     "end_time": "2024-01-12T11:05:24.260055800Z",
     "start_time": "2024-01-12T11:05:24.191147900Z"
    }
   },
   "id": "9d0d64ebfd8f51cc"
  },
  {
   "cell_type": "code",
   "execution_count": null,
   "outputs": [],
   "source": [
    "\n",
    "class ParentVerbalization(ToolKit):\n",
    "\t@tool('antecedent')\n",
    "\tdef construct_antecedent(self, parents):\n",
    "\t\tpass\n"
   ],
   "metadata": {
    "collapsed": false
   },
   "id": "3cd787366e4e679d"
  },
  {
   "cell_type": "code",
   "execution_count": 10,
   "outputs": [],
   "source": [
    "cond_templates = [\n",
    "\t['{antecedent}', '{clause}'],\n",
    "\t['{clause},', '{antecedent}'],\n",
    "]\n",
    "\n",
    "@tool('antecedent')\n",
    "def construct_antecedent(parents):\n",
    "\t\n",
    "\t\n",
    "\t\n",
    "\tpass\n"
   ],
   "metadata": {
    "collapsed": false,
    "ExecuteTime": {
     "end_time": "2023-11-29T13:24:24.098559553Z",
     "start_time": "2023-11-29T13:24:24.046550252Z"
    }
   },
   "id": "390071951aed0d1d"
  },
  {
   "cell_type": "code",
   "execution_count": 60,
   "outputs": [],
   "source": [
    "def to_prob_range(raw):\n",
    "    raw = [prange for _, prange in sorted(raw.items(), key=lambda item: int(item[0]))]\n",
    "    return torch.tensor(raw)\n",
    "\n",
    "prob_ranges = to_prob_range(story['stats'])\n",
    "lower_bound, upper_bound = prob_ranges.t()\n",
    "\n",
    "variables = {}\n",
    "for node in story['nodes']:\n",
    "    if len(node['parents']):\n",
    "        variables[node['name']] = ConditionalBernoulli([variables[parent] for parent in node['parents']])\n",
    "    else:\n",
    "        variables[node['name']] = Bernoulli(0.5)\n",
    "net = BernoulliNetwork(variables)\n",
    "\n",
    "param_sample = torch.rand(len(prob_ranges), 1) * (upper_bound - lower_bound) + lower_bound\n",
    "net.set_params(param_sample)"
   ],
   "metadata": {
    "collapsed": false,
    "ExecuteTime": {
     "end_time": "2024-01-03T15:34:04.602588269Z",
     "start_time": "2024-01-03T15:34:04.592532545Z"
    }
   },
   "id": "590214f6e522c441"
  },
  {
   "cell_type": "code",
   "execution_count": 61,
   "outputs": [
    {
     "data": {
      "text/plain": "(['GDP Growth Rate', 'Inflation Rate'], 'Consumer Economic Confidence')"
     },
     "execution_count": 61,
     "metadata": {},
     "output_type": "execute_result"
    }
   ],
   "source": [
    "treatments = [v['name'] for v in story['nodes'] if v['type'] == 'treatment']\n",
    "outcome = [v['name'] for v in story['nodes'] if v['type'] == 'outcome'][0]\n",
    "treatments, outcome"
   ],
   "metadata": {
    "collapsed": false,
    "ExecuteTime": {
     "end_time": "2024-01-03T15:34:05.037741035Z",
     "start_time": "2024-01-03T15:34:05.026911018Z"
    }
   },
   "id": "dab89b6055391c8d"
  },
  {
   "cell_type": "code",
   "execution_count": 65,
   "outputs": [
    {
     "data": {
      "text/plain": "({'question': 'Does a higher GDP growth rate generally lead to better overall economic outcomes?',\n  'answer': 'yes',\n  'explanation': 'A higher GDP growth rate typically results in more positive economic outcomes.'},\n {'treatment': 'GDP Growth Rate',\n  'query': 'ate',\n  'type': 'ate-sign',\n  'criterion': '>'})"
     },
     "execution_count": 65,
     "metadata": {},
     "output_type": "execute_result"
    }
   ],
   "source": [
    "qid = random.randint(0, len(story['questions'])-1)\n",
    "qid = 0\n",
    "question = story['questions'][qid]\n",
    "query = story['queries'][qid]\n",
    "question, query"
   ],
   "metadata": {
    "collapsed": false,
    "ExecuteTime": {
     "end_time": "2024-01-03T15:34:14.869569534Z",
     "start_time": "2024-01-03T15:34:14.852224874Z"
    }
   },
   "id": "b6fbdd0bbc1e2f48"
  },
  {
   "cell_type": "code",
   "execution_count": 74,
   "outputs": [
    {
     "data": {
      "text/plain": "Context(outcome, treatment, query, type, criterion, {estimand}, {conditions}, {terms}, {values}, {estimate}, {ate}, {ground_truth})"
     },
     "execution_count": 74,
     "metadata": {},
     "output_type": "execute_result"
    }
   ],
   "source": [
    "solver = ATE_Sign(net)\n",
    "sol = Context().include(solver)\n",
    "sol['outcome'] = outcome\n",
    "sol.update(**query)\n",
    "sol"
   ],
   "metadata": {
    "collapsed": false,
    "ExecuteTime": {
     "end_time": "2024-01-03T16:04:51.700994659Z",
     "start_time": "2024-01-03T16:04:51.685740634Z"
    }
   },
   "id": "2247fb4e0a21cc69"
  },
  {
   "cell_type": "code",
   "execution_count": 67,
   "outputs": [
    {
     "data": {
      "text/plain": "('GDP Growth Rate', 'Consumer Economic Confidence', ['Inflation Rate'])"
     },
     "execution_count": 67,
     "metadata": {},
     "output_type": "execute_result"
    }
   ],
   "source": [
    "sol['estimand']"
   ],
   "metadata": {
    "collapsed": false,
    "ExecuteTime": {
     "end_time": "2024-01-03T15:34:15.712100160Z",
     "start_time": "2024-01-03T15:34:15.692110394Z"
    }
   },
   "id": "c665fe0c07ccb0b8"
  },
  {
   "cell_type": "code",
   "execution_count": 68,
   "outputs": [
    {
     "data": {
      "text/plain": "[('Inflation Rate', {}),\n ('Consumer Economic Confidence', {'GDP Growth Rate': 0, 'Inflation Rate': 0}),\n ('Consumer Economic Confidence', {'GDP Growth Rate': 0, 'Inflation Rate': 1}),\n ('Consumer Economic Confidence', {'GDP Growth Rate': 1, 'Inflation Rate': 0}),\n ('Consumer Economic Confidence', {'GDP Growth Rate': 1, 'Inflation Rate': 1})]"
     },
     "execution_count": 68,
     "metadata": {},
     "output_type": "execute_result"
    }
   ],
   "source": [
    "sol['terms']"
   ],
   "metadata": {
    "collapsed": false,
    "ExecuteTime": {
     "end_time": "2024-01-03T15:34:43.429519390Z",
     "start_time": "2024-01-03T15:34:43.386795738Z"
    }
   },
   "id": "3d203f8c5c336976"
  },
  {
   "cell_type": "code",
   "execution_count": 76,
   "outputs": [
    {
     "name": "stderr",
     "output_type": "stream",
     "text": [
      "/home/fleeb/miniconda3/lib/python3.11/site-packages/torch/masked/maskedtensor/core.py:156: UserWarning: The PyTorch API of MaskedTensors is in prototype stage and will change in the near future. Please open a Github issue for features requests and see our documentation on the torch.masked module for further information about the project.\n",
      "  warnings.warn((\"The PyTorch API of MaskedTensors is in prototype stage \"\n"
     ]
    },
    {
     "data": {
      "text/plain": "0.20638799667358398",
      "image/png": "[encoded data removed]",
      "text/latex": "$\\displaystyle 0.206387996673584$"
     },
     "execution_count": 76,
     "metadata": {},
     "output_type": "execute_result"
    }
   ],
   "source": [
    "sol['ate']"
   ],
   "metadata": {
    "collapsed": false,
    "ExecuteTime": {
     "end_time": "2024-01-03T16:04:57.079854526Z",
     "start_time": "2024-01-03T16:04:56.981330685Z"
    }
   },
   "id": "4791c4860ae4d670"
  },
  {
   "cell_type": "code",
   "execution_count": 75,
   "outputs": [
    {
     "name": "stderr",
     "output_type": "stream",
     "text": [
      "/home/fleeb/miniconda3/lib/python3.11/site-packages/torch/masked/maskedtensor/core.py:156: UserWarning: The PyTorch API of MaskedTensors is in prototype stage and will change in the near future. Please open a Github issue for features requests and see our documentation on the torch.masked module for further information about the project.\n",
      "  warnings.warn((\"The PyTorch API of MaskedTensors is in prototype stage \"\n"
     ]
    },
    {
     "data": {
      "text/plain": "-0.02878666158853349",
      "image/png": "[encoded data removed]",
      "text/latex": "$\\displaystyle -0.0287866615885335$"
     },
     "execution_count": 75,
     "metadata": {},
     "output_type": "execute_result"
    }
   ],
   "source": [
    "sol['estimate']"
   ],
   "metadata": {
    "collapsed": false,
    "ExecuteTime": {
     "end_time": "2024-01-03T16:04:52.878024181Z",
     "start_time": "2024-01-03T16:04:52.742707413Z"
    }
   },
   "id": "bd819981c1572a61"
  },
  {
   "cell_type": "code",
   "execution_count": 80,
   "outputs": [
    {
     "ename": "ValueError",
     "evalue": "Could not save to JPEG for display",
     "output_type": "error",
     "traceback": [
      "\u001B[0;31m---------------------------------------------------------------------------\u001B[0m",
      "\u001B[0;31mKeyError\u001B[0m                                  Traceback (most recent call last)",
      "File \u001B[0;32m~/miniconda3/lib/python3.11/site-packages/PIL/JpegImagePlugin.py:639\u001B[0m, in \u001B[0;36m_save\u001B[0;34m(im, fp, filename)\u001B[0m\n\u001B[1;32m    638\u001B[0m \u001B[38;5;28;01mtry\u001B[39;00m:\n\u001B[0;32m--> 639\u001B[0m     rawmode \u001B[38;5;241m=\u001B[39m \u001B[43mRAWMODE\u001B[49m\u001B[43m[\u001B[49m\u001B[43mim\u001B[49m\u001B[38;5;241;43m.\u001B[39;49m\u001B[43mmode\u001B[49m\u001B[43m]\u001B[49m\n\u001B[1;32m    640\u001B[0m \u001B[38;5;28;01mexcept\u001B[39;00m \u001B[38;5;167;01mKeyError\u001B[39;00m \u001B[38;5;28;01mas\u001B[39;00m e:\n",
      "\u001B[0;31mKeyError\u001B[0m: 'RGBA'",
      "\nThe above exception was the direct cause of the following exception:\n",
      "\u001B[0;31mOSError\u001B[0m                                   Traceback (most recent call last)",
      "File \u001B[0;32m~/miniconda3/lib/python3.11/site-packages/PIL/Image.py:643\u001B[0m, in \u001B[0;36mImage._repr_image\u001B[0;34m(self, image_format, **kwargs)\u001B[0m\n\u001B[1;32m    642\u001B[0m \u001B[38;5;28;01mtry\u001B[39;00m:\n\u001B[0;32m--> 643\u001B[0m     \u001B[38;5;28;43mself\u001B[39;49m\u001B[38;5;241;43m.\u001B[39;49m\u001B[43msave\u001B[49m\u001B[43m(\u001B[49m\u001B[43mb\u001B[49m\u001B[43m,\u001B[49m\u001B[43m \u001B[49m\u001B[43mimage_format\u001B[49m\u001B[43m,\u001B[49m\u001B[43m \u001B[49m\u001B[38;5;241;43m*\u001B[39;49m\u001B[38;5;241;43m*\u001B[39;49m\u001B[43mkwargs\u001B[49m\u001B[43m)\u001B[49m\n\u001B[1;32m    644\u001B[0m \u001B[38;5;28;01mexcept\u001B[39;00m \u001B[38;5;167;01mException\u001B[39;00m \u001B[38;5;28;01mas\u001B[39;00m e:\n",
      "File \u001B[0;32m~/miniconda3/lib/python3.11/site-packages/PIL/Image.py:2413\u001B[0m, in \u001B[0;36mImage.save\u001B[0;34m(self, fp, format, **params)\u001B[0m\n\u001B[1;32m   2412\u001B[0m \u001B[38;5;28;01mtry\u001B[39;00m:\n\u001B[0;32m-> 2413\u001B[0m     \u001B[43msave_handler\u001B[49m\u001B[43m(\u001B[49m\u001B[38;5;28;43mself\u001B[39;49m\u001B[43m,\u001B[49m\u001B[43m \u001B[49m\u001B[43mfp\u001B[49m\u001B[43m,\u001B[49m\u001B[43m \u001B[49m\u001B[43mfilename\u001B[49m\u001B[43m)\u001B[49m\n\u001B[1;32m   2414\u001B[0m \u001B[38;5;28;01mexcept\u001B[39;00m \u001B[38;5;167;01mException\u001B[39;00m:\n",
      "File \u001B[0;32m~/miniconda3/lib/python3.11/site-packages/PIL/JpegImagePlugin.py:642\u001B[0m, in \u001B[0;36m_save\u001B[0;34m(im, fp, filename)\u001B[0m\n\u001B[1;32m    641\u001B[0m     msg \u001B[38;5;241m=\u001B[39m \u001B[38;5;124mf\u001B[39m\u001B[38;5;124m\"\u001B[39m\u001B[38;5;124mcannot write mode \u001B[39m\u001B[38;5;132;01m{\u001B[39;00mim\u001B[38;5;241m.\u001B[39mmode\u001B[38;5;132;01m}\u001B[39;00m\u001B[38;5;124m as JPEG\u001B[39m\u001B[38;5;124m\"\u001B[39m\n\u001B[0;32m--> 642\u001B[0m     \u001B[38;5;28;01mraise\u001B[39;00m \u001B[38;5;167;01mOSError\u001B[39;00m(msg) \u001B[38;5;28;01mfrom\u001B[39;00m \u001B[38;5;21;01me\u001B[39;00m\n\u001B[1;32m    644\u001B[0m info \u001B[38;5;241m=\u001B[39m im\u001B[38;5;241m.\u001B[39mencoderinfo\n",
      "\u001B[0;31mOSError\u001B[0m: cannot write mode RGBA as JPEG",
      "\nThe above exception was the direct cause of the following exception:\n",
      "\u001B[0;31mValueError\u001B[0m                                Traceback (most recent call last)",
      "File \u001B[0;32m~/miniconda3/lib/python3.11/site-packages/IPython/core/formatters.py:344\u001B[0m, in \u001B[0;36mBaseFormatter.__call__\u001B[0;34m(self, obj)\u001B[0m\n\u001B[1;32m    342\u001B[0m     method \u001B[38;5;241m=\u001B[39m get_real_method(obj, \u001B[38;5;28mself\u001B[39m\u001B[38;5;241m.\u001B[39mprint_method)\n\u001B[1;32m    343\u001B[0m     \u001B[38;5;28;01mif\u001B[39;00m method \u001B[38;5;129;01mis\u001B[39;00m \u001B[38;5;129;01mnot\u001B[39;00m \u001B[38;5;28;01mNone\u001B[39;00m:\n\u001B[0;32m--> 344\u001B[0m         \u001B[38;5;28;01mreturn\u001B[39;00m \u001B[43mmethod\u001B[49m\u001B[43m(\u001B[49m\u001B[43m)\u001B[49m\n\u001B[1;32m    345\u001B[0m     \u001B[38;5;28;01mreturn\u001B[39;00m \u001B[38;5;28;01mNone\u001B[39;00m\n\u001B[1;32m    346\u001B[0m \u001B[38;5;28;01melse\u001B[39;00m:\n",
      "File \u001B[0;32m~/miniconda3/lib/python3.11/site-packages/PIL/Image.py:661\u001B[0m, in \u001B[0;36mImage._repr_jpeg_\u001B[0;34m(self)\u001B[0m\n\u001B[1;32m    656\u001B[0m \u001B[38;5;28;01mdef\u001B[39;00m \u001B[38;5;21m_repr_jpeg_\u001B[39m(\u001B[38;5;28mself\u001B[39m):\n\u001B[1;32m    657\u001B[0m \u001B[38;5;250m    \u001B[39m\u001B[38;5;124;03m\"\"\"iPython display hook support for JPEG format.\u001B[39;00m\n\u001B[1;32m    658\u001B[0m \n\u001B[1;32m    659\u001B[0m \u001B[38;5;124;03m    :returns: JPEG version of the image as bytes\u001B[39;00m\n\u001B[1;32m    660\u001B[0m \u001B[38;5;124;03m    \"\"\"\u001B[39;00m\n\u001B[0;32m--> 661\u001B[0m     \u001B[38;5;28;01mreturn\u001B[39;00m \u001B[38;5;28;43mself\u001B[39;49m\u001B[38;5;241;43m.\u001B[39;49m\u001B[43m_repr_image\u001B[49m\u001B[43m(\u001B[49m\u001B[38;5;124;43m\"\u001B[39;49m\u001B[38;5;124;43mJPEG\u001B[39;49m\u001B[38;5;124;43m\"\u001B[39;49m\u001B[43m)\u001B[49m\n",
      "File \u001B[0;32m~/miniconda3/lib/python3.11/site-packages/PIL/Image.py:646\u001B[0m, in \u001B[0;36mImage._repr_image\u001B[0;34m(self, image_format, **kwargs)\u001B[0m\n\u001B[1;32m    644\u001B[0m \u001B[38;5;28;01mexcept\u001B[39;00m \u001B[38;5;167;01mException\u001B[39;00m \u001B[38;5;28;01mas\u001B[39;00m e:\n\u001B[1;32m    645\u001B[0m     msg \u001B[38;5;241m=\u001B[39m \u001B[38;5;124mf\u001B[39m\u001B[38;5;124m\"\u001B[39m\u001B[38;5;124mCould not save to \u001B[39m\u001B[38;5;132;01m{\u001B[39;00mimage_format\u001B[38;5;132;01m}\u001B[39;00m\u001B[38;5;124m for display\u001B[39m\u001B[38;5;124m\"\u001B[39m\n\u001B[0;32m--> 646\u001B[0m     \u001B[38;5;28;01mraise\u001B[39;00m \u001B[38;5;167;01mValueError\u001B[39;00m(msg) \u001B[38;5;28;01mfrom\u001B[39;00m \u001B[38;5;21;01me\u001B[39;00m\n\u001B[1;32m    647\u001B[0m \u001B[38;5;28;01mreturn\u001B[39;00m b\u001B[38;5;241m.\u001B[39mgetvalue()\n",
      "\u001B[0;31mValueError\u001B[0m: Could not save to JPEG for display"
     ]
    },
    {
     "data": {
      "text/plain": "<PIL.PngImagePlugin.PngImageFile image mode=RGBA size=981x347>",
      "image/png": "[encoded data removed]"
     },
     "execution_count": 80,
     "metadata": {},
     "output_type": "execute_result"
    }
   ],
   "source": [
    "dot = Digraph(comment='Causal Model')\n",
    "node_styles = {\n",
    "    \"treatment\": {\"shape\": \"ellipse\", \"style\": \"filled\", \"color\": \"lightpink\"},\n",
    "    \"outcome\": {\"shape\": \"ellipse\", \"style\": \"filled\", \"color\": \"lightgreen\"},\n",
    "    \"confounder\": {\"shape\": \"diamond\", \"style\": \"filled\", \"color\": \"lightblue\"},\n",
    "    \"mediator\": {\"shape\": \"box\", \"style\": \"filled\", \"color\": \"lightyellow\"},\n",
    "    \"collider\": {\"shape\": \"box\", \"style\": \"filled\", \"color\": \"lightgray\"}\n",
    "}\n",
    "for node in story['nodes']:\n",
    "    style = node_styles.get(node[\"type\"], {\"shape\": \"ellipse\"})\n",
    "    dot.node(node[\"name\"], node[\"name\"], **style)\n",
    "for node in story['nodes']:\n",
    "    for parent in node[\"parents\"]:\n",
    "        dot.edge(parent, node[\"name\"])\n",
    "# dot.view()\n",
    "dot.render(str(misc.temp_root() / 'graph'), format='png')\n",
    "Image.open(misc.temp_root() / 'graph.png')"
   ],
   "metadata": {
    "collapsed": false,
    "ExecuteTime": {
     "end_time": "2024-01-03T16:21:18.333324072Z",
     "start_time": "2024-01-03T16:21:18.006014687Z"
    }
   },
   "id": "2969306489f4ff0b"
  },
  {
   "cell_type": "code",
   "execution_count": null,
   "outputs": [],
   "source": [],
   "metadata": {
    "collapsed": false
   },
   "id": "41c0e26c9226fe04"
  },
  {
   "cell_type": "code",
   "execution_count": null,
   "outputs": [],
   "source": [],
   "metadata": {
    "collapsed": false
   },
   "id": "c7c52a435ad18784"
  },
  {
   "cell_type": "code",
   "execution_count": null,
   "outputs": [],
   "source": [],
   "metadata": {
    "collapsed": false
   },
   "id": "9ab93a1a296cfe3"
  },
  {
   "cell_type": "code",
   "execution_count": 32,
   "outputs": [
    {
     "data": {
      "text/plain": "tensor(0.0290)"
     },
     "execution_count": 32,
     "metadata": {},
     "output_type": "execute_result"
    }
   ],
   "source": [
    "net.ate(query['treatment'], conditions={query['confounder']: query['confounder_value']})[outcome]"
   ],
   "metadata": {
    "collapsed": false,
    "ExecuteTime": {
     "end_time": "2024-01-03T10:21:24.104926506Z",
     "start_time": "2024-01-03T10:21:24.056737048Z"
    }
   },
   "id": "c8aee9f8514e60a5"
  },
  {
   "cell_type": "code",
   "execution_count": null,
   "outputs": [],
   "source": [
    "net.ate(query['treatment'], conditions={query['confounder']: query['confounder_value']})[outcome]"
   ],
   "metadata": {
    "collapsed": false
   },
   "id": "46cbd8db8ec38154"
  },
  {
   "cell_type": "code",
   "execution_count": null,
   "outputs": [],
   "source": [],
   "metadata": {
    "collapsed": false
   },
   "id": "84c3aa47998e8f82"
  },
  {
   "cell_type": "code",
   "execution_count": null,
   "outputs": [],
   "source": [],
   "metadata": {
    "collapsed": false
   },
   "id": "807404bb9ac2aaa4"
  },
  {
   "cell_type": "code",
   "execution_count": 42,
   "outputs": [
    {
     "name": "stdout",
     "output_type": "stream",
     "text": [
      "\t1. ATE('Meteorite Visibility') < 0\n",
      "\t2. ATE('NASA Communication') < 0\n",
      "\t3. ATE('Meteorite Visibility') > ATE('NASA Communication')\n",
      "\t4. |ATE('Meteorite Visibility')| < |ATE('NASA Communication')|\n",
      "\t5. CATE('Meteorite Visibility' | 'Media Coverage' = 0) < 0\n",
      "\t6. CATE('NASA Communication' | 'Media Coverage' = 0) < 0\n",
      "\t7. CATE('Meteorite Visibility' | 'Media Coverage' = 0) > CATE('NASA Communication' | 'Media Coverage' = 0)\n",
      "\t8. |CATE('NASA Communication' | 'Media Coverage' = 0)| < |CATE('Meteorite Visibility' | 'Media Coverage' = 0)|\n",
      "\t9. CATE('Meteorite Visibility' | 'Media Coverage' = 1) < 0\n",
      "\t10. CATE('NASA Communication' | 'Media Coverage' = 1) < 0\n",
      "\t11. CATE('Meteorite Visibility' | 'Media Coverage' = 1) < CATE('NASA Communication' | 'Media Coverage' = 1)\n",
      "\t12. |CATE('NASA Communication' | 'Media Coverage' = 1)| > |CATE('Meteorite Visibility' | 'Media Coverage' = 1)|\n",
      "\t13. CATE('Meteorite Visibility' | 'Media Coverage' = 1) < CATE('Meteorite Visibility' | 'Media Coverage' = 0)\n",
      "\t14. |CATE('Meteorite Visibility' | 'Media Coverage' = 1)| < |CATE('Meteorite Visibility' | 'Media Coverage' = 0)|\n",
      "\t15. CATE('NASA Communication' | 'Media Coverage' = 1) < CATE('NASA Communication' | 'Media Coverage' = 0)\n",
      "\t16. |CATE('NASA Communication' | 'Media Coverage' = 1)| > |CATE('NASA Communication' | 'Media Coverage' = 0)|\n",
      "\t17. CATE('Meteorite Visibility' | 'Scientific Literacy' = 0) > 0\n",
      "\t18. CATE('NASA Communication' | 'Scientific Literacy' = 0) > 0\n",
      "\t19. CATE('NASA Communication' | 'Scientific Literacy' = 0) > CATE('Meteorite Visibility' | 'Scientific Literacy' = 0)\n",
      "\t20. |CATE('NASA Communication' | 'Scientific Literacy' = 0)| < |CATE('Meteorite Visibility' | 'Scientific Literacy' = 0)|\n",
      "\t21. CATE('Meteorite Visibility' | 'Scientific Literacy' = 1) < 0\n",
      "\t22. CATE('NASA Communication' | 'Scientific Literacy' = 1) < 0\n",
      "\t23. CATE('Meteorite Visibility' | 'Scientific Literacy' = 1) < CATE('NASA Communication' | 'Scientific Literacy' = 1)\n",
      "\t24. |CATE('NASA Communication' | 'Scientific Literacy' = 1)| > |CATE('Meteorite Visibility' | 'Scientific Literacy' = 1)|\n",
      "\t25. CATE('Meteorite Visibility' | 'Scientific Literacy' = 0) < CATE('Meteorite Visibility' | 'Scientific Literacy' = 1)\n",
      "\t26. |CATE('Meteorite Visibility' | 'Scientific Literacy' = 0)| < |CATE('Meteorite Visibility' | 'Scientific Literacy' = 1)|\n",
      "\t27. CATE('NASA Communication' | 'Scientific Literacy' = 1) > CATE('NASA Communication' | 'Scientific Literacy' = 0)\n",
      "\t28. |CATE('NASA Communication' | 'Scientific Literacy' = 1)| > |CATE('NASA Communication' | 'Scientific Literacy' = 0)|\n"
     ]
    }
   ],
   "source": [
    "print(VerbalizationPrompting().get_query_descriptions(story['queries']))"
   ],
   "metadata": {
    "collapsed": false,
    "ExecuteTime": {
     "end_time": "2024-01-03T10:28:54.967527556Z",
     "start_time": "2024-01-03T10:28:54.960595449Z"
    }
   },
   "id": "d7a845301396d1d3"
  },
  {
   "cell_type": "code",
   "execution_count": null,
   "outputs": [],
   "source": [],
   "metadata": {
    "collapsed": false
   },
   "id": "c7fa0d632a600a78"
  },
  {
   "cell_type": "code",
   "execution_count": null,
   "outputs": [],
   "source": [
    "ident = {}\n",
    "ctx = sample_text(ident, mean=0.57)\n",
    "\n",
    "\n",
    "\n",
    "text = Template.detok(ctx['clause'], capitalize=True, sentence=True)\n",
    "ident.update(ctx.identity())\n",
    "print(text)\n",
    "ident"
   ],
   "metadata": {
    "collapsed": false
   },
   "id": "d9d909ddbba12f12"
  },
  {
   "cell_type": "code",
   "execution_count": 33,
   "outputs": [
    {
     "name": "stdout",
     "output_type": "stream",
     "text": [
      "The chance that this incident was scarcely covered by the media is 57%.\n"
     ]
    },
    {
     "data": {
      "text/plain": "{'verb_id': 1, 'clause_id': 1, 'position_id': 0, 'chance_word_id': 1}"
     },
     "execution_count": 33,
     "metadata": {},
     "output_type": "execute_result"
    }
   ],
   "source": [
    "\n",
    "selection = {}\n",
    "\n",
    "\n",
    "\n",
    "\n",
    "story = random.choice(stories)\n",
    "varname = random.choice(list(rawverbs.keys()))\n",
    "varinfo = story['sheet'][varname]\n",
    "varval = 0\n",
    "\n",
    "ctx = ClauseVerbalization().populate_variable_info(info, mean=0.57).populate_default(precise_templates=precise_templates, position_templates=position_templates)\n",
    "\n",
    "# ctx['clause_id'] = 3\n",
    "ctx['position_id'] = 0\n",
    "\n",
    "text = Template.detok(ctx['clause'], capitalize=True, sentence=True)\n",
    "print(text)\n",
    "ctx.identity()"
   ],
   "metadata": {
    "collapsed": false,
    "ExecuteTime": {
     "end_time": "2023-11-28T15:36:36.356975911Z",
     "start_time": "2023-11-28T15:36:36.339666321Z"
    }
   },
   "id": "a615f931ea866100"
  },
  {
   "cell_type": "code",
   "execution_count": 10,
   "outputs": [],
   "source": [
    "# ClauseVerbalization._precise_templates[0]"
   ],
   "metadata": {
    "collapsed": false,
    "ExecuteTime": {
     "end_time": "2023-11-28T15:31:53.646470614Z",
     "start_time": "2023-11-28T15:31:53.633782175Z"
    }
   },
   "id": "cb7ccfec6057274e"
  },
  {
   "cell_type": "code",
   "execution_count": null,
   "outputs": [],
   "source": [],
   "metadata": {
    "collapsed": false
   },
   "id": "84adb6c628d96022"
  },
  {
   "cell_type": "code",
   "execution_count": null,
   "outputs": [],
   "source": [],
   "metadata": {
    "collapsed": false
   },
   "id": "87145c097f684a73"
  },
  {
   "cell_type": "code",
   "execution_count": 10,
   "outputs": [],
   "source": [],
   "metadata": {
    "collapsed": false,
    "ExecuteTime": {
     "end_time": "2023-11-28T15:31:58.875779123Z",
     "start_time": "2023-11-28T15:31:58.862463497Z"
    }
   },
   "id": "5531e86555338fac"
  },
  {
   "cell_type": "code",
   "execution_count": null,
   "outputs": [],
   "source": [],
   "metadata": {
    "collapsed": false
   },
   "id": "c32d952d9e328b8"
  },
  {
   "cell_type": "code",
   "execution_count": null,
   "outputs": [],
   "source": [],
   "metadata": {
    "collapsed": false
   },
   "id": "5052a520708b640"
  },
  {
   "cell_type": "code",
   "execution_count": 8,
   "outputs": [],
   "source": [
    "\n",
    "prob_words = ['probability', 'chance', 'likelihood']\n",
    "chance_words = ['probability', 'chance', 'likelihood', 'odds']\n",
    "\n"
   ],
   "metadata": {
    "collapsed": false,
    "ExecuteTime": {
     "end_time": "2023-11-28T14:39:52.537372963Z",
     "start_time": "2023-11-28T14:39:52.511392357Z"
    }
   },
   "id": "eca2719f35b8fe6d"
  },
  {
   "cell_type": "code",
   "execution_count": 18,
   "outputs": [],
   "source": [
    "def detok(tokens):\n",
    "\ttoks = [', ' if tok == ',' else tok for tok in tokens]\n",
    "\tsentence = ' '.join(toks) + '.'\n",
    "\treturn sentence.capitalize()"
   ],
   "metadata": {
    "collapsed": false,
    "ExecuteTime": {
     "end_time": "2023-11-27T15:47:41.226348946Z",
     "start_time": "2023-11-27T15:47:41.210297087Z"
    }
   },
   "id": "1aab35e99d67d976"
  },
  {
   "cell_type": "code",
   "execution_count": null,
   "outputs": [],
   "source": [
    "# 1. One of the variables is {descriptor}.\n",
    "# 2. {subject} [often/usually/sometimes/rarely/etc.] {predicate}.\n",
    "# 3. There is a [number]% chance that {noun-clause}.\n",
    "# 4. [In/For/With/etc.] [number]% of {domain}, there {phrase}.\n",
    "# 5. Conditional sentence: {condition}, [some consequence].\n",
    "# 6. Interventional: If {action}, [some effect]."
   ],
   "metadata": {
    "collapsed": false
   },
   "id": "eb8aeeebcf773cdf"
  },
  {
   "cell_type": "code",
   "execution_count": 19,
   "outputs": [
    {
     "ename": "NameError",
     "evalue": "name 'AbstractGadget' is not defined",
     "output_type": "error",
     "traceback": [
      "\u001B[0;31m---------------------------------------------------------------------------\u001B[0m",
      "\u001B[0;31mNameError\u001B[0m                                 Traceback (most recent call last)",
      "Cell \u001B[0;32mIn[19], line 1\u001B[0m\n\u001B[0;32m----> 1\u001B[0m \u001B[38;5;28;01mclass\u001B[39;00m \u001B[38;5;21;01mDictGadget\u001B[39;00m(\u001B[43mAbstractGadget\u001B[49m):\n\u001B[1;32m      2\u001B[0m \t_no_default \u001B[38;5;241m=\u001B[39m \u001B[38;5;28mobject\u001B[39m()\n\u001B[1;32m      3\u001B[0m \t\u001B[38;5;28;01mdef\u001B[39;00m \u001B[38;5;21m__init__\u001B[39m(\u001B[38;5;28mself\u001B[39m, data: \u001B[38;5;28mdict\u001B[39m[\u001B[38;5;28mstr\u001B[39m, Any], default_value\u001B[38;5;241m=\u001B[39m_no_default, gizmos: \u001B[38;5;28mlist\u001B[39m[\u001B[38;5;28mstr\u001B[39m] \u001B[38;5;241m=\u001B[39m \u001B[38;5;28;01mNone\u001B[39;00m, \u001B[38;5;241m*\u001B[39m\u001B[38;5;241m*\u001B[39mkwargs):\n",
      "\u001B[0;31mNameError\u001B[0m: name 'AbstractGadget' is not defined"
     ]
    }
   ],
   "source": [
    "# The man that she loved went home.\n",
    "# She realized that he loves her."
   ],
   "metadata": {
    "collapsed": false,
    "ExecuteTime": {
     "end_time": "2023-11-28T10:15:39.525389468Z",
     "start_time": "2023-11-28T10:15:39.473031079Z"
    }
   },
   "id": "238567e178379552"
  },
  {
   "cell_type": "code",
   "execution_count": null,
   "outputs": [],
   "source": [
    "# 1. One of the variables is {variable}.\n",
    "# 2. We estimate {subject} [often/usually/sometimes/rarely/etc.] {value}.\n",
    "# 3. There is a [number]% chance that {value}.\n",
    "# 4. [number]% of {domain} {value}.\n",
    "# 5. [number]% of the time {value}.\n",
    "# 6. Conditional sentence: {value}, [some consequence].\n",
    "# 7. Interventional: If {value}, [some effect]."
   ],
   "metadata": {
    "collapsed": false
   },
   "id": "28f852100b5fcba3"
  },
  {
   "cell_type": "code",
   "execution_count": null,
   "outputs": [],
   "source": [],
   "metadata": {
    "collapsed": false
   },
   "id": "27eac865d2408b88"
  },
  {
   "cell_type": "code",
   "execution_count": null,
   "outputs": [],
   "source": [],
   "metadata": {
    "collapsed": false,
    "ExecuteTime": {
     "end_time": "2023-11-27T15:11:52.536416030Z",
     "start_time": "2023-11-27T15:11:52.478641307Z"
    }
   },
   "id": "10620b6940b3b876"
  },
  {
   "cell_type": "code",
   "execution_count": null,
   "outputs": [],
   "source": [],
   "metadata": {
    "collapsed": false
   },
   "id": "960b14f65ddc10ec"
  }
 ],
 "metadata": {
  "kernelspec": {
   "display_name": "Python 3",
   "language": "python",
   "name": "python3"
  },
  "language_info": {
   "codemirror_mode": {
    "name": "ipython",
    "version": 2
   },
   "file_extension": ".py",
   "mimetype": "text/x-python",
   "name": "python",
   "nbconvert_exporter": "python",
   "pygments_lexer": "ipython2",
   "version": "2.7.6"
  }
 },
 "nbformat": 4,
 "nbformat_minor": 5
}

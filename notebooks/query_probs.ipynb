{
 "cells": [
  {
   "cell_type": "code",
   "execution_count": 1,
   "outputs": [],
   "source": [
    "from pathlib import Path\n",
    "from omnibelt import toposort, load_json, save_json\n",
    "from itertools import product, combinations\n",
    "# import pyperclip\n",
    "import random\n",
    "from PIL import Image\n",
    "from graphviz import Digraph\n",
    "import matplotlib.pyplot as plt\n",
    "import io\n",
    "# import clipboard\n",
    "import networkx as nx\n",
    "from tqdm.notebook import tqdm\n",
    "from tabulate import tabulate\n",
    "import matplotlib.pyplot as plt\n",
    "import seaborn as sns\n",
    "from omniply import tool, ToolKit, Context\n",
    "\n",
    "import numpy as np\n",
    "import torch\n",
    "from causalbenchmark.novo.simulation.models import Bernoulli, ConditionalBernoulli, BernoulliNetwork\n",
    "from causalbenchmark.novo.seeding import NewsHeadlines, StatisticsPrompting, Story\n",
    "# from causalbenchmark.novo.seeding.prompting import GraphInfo\n",
    "from causalbenchmark.novo.templating import FixedTemplate, SimpleTemplater\n",
    "from causalbenchmark.novo import misc"
   ],
   "metadata": {
    "collapsed": false,
    "ExecuteTime": {
     "end_time": "2023-11-24T13:42:56.138940209Z",
     "start_time": "2023-11-24T13:42:53.554407819Z"
    }
   },
   "id": "e4dbd77df7c7caae"
  },
  {
   "cell_type": "code",
   "execution_count": 6,
   "outputs": [],
   "source": [
    "import os"
   ],
   "metadata": {
    "collapsed": false,
    "ExecuteTime": {
     "end_time": "2023-11-24T13:43:20.552721703Z",
     "start_time": "2023-11-24T13:43:20.521927060Z"
    }
   },
   "id": "72d90292d31d187e"
  },
  {
   "cell_type": "code",
   "execution_count": 7,
   "outputs": [
    {
     "data": {
      "text/plain": "  0%|          | 0/5 [00:00<?, ?it/s]",
      "application/vnd.jupyter.widget-view+json": {
       "version_major": 2,
       "version_minor": 0,
       "model_id": "3011c2bd6057461b8fb0d5b97a6409cb"
      }
     },
     "metadata": {},
     "output_type": "display_data"
    },
    {
     "data": {
      "text/plain": "550074",
      "image/png": "[encoded data removed]",
      "text/latex": "$\\displaystyle 550074$"
     },
     "execution_count": 7,
     "metadata": {},
     "output_type": "execute_result"
    }
   ],
   "source": [
    "spark_generator = NewsHeadlines(locs=['gb', 'de', 'fr', 'it', 'nl'], \n",
    "                                dataset_root=Path(r'/home/fleeb/workspace/local_data/nnn/babel-briefings-v1'),\n",
    "                                # dataset_root=Path(r'C:\\Users\\anwan\\workspace\\local_data\\nnn\\babel-briefings-v1'),\n",
    "                                ).load(pbar=tqdm)\n",
    "len(spark_generator.article_IDs)"
   ],
   "metadata": {
    "collapsed": false,
    "ExecuteTime": {
     "end_time": "2023-11-24T13:44:56.651906052Z",
     "start_time": "2023-11-24T13:44:51.294315720Z"
    }
   },
   "id": "a3e440a9e9d43579"
  },
  {
   "cell_type": "code",
   "execution_count": 8,
   "outputs": [],
   "source": [
    "setting_generation_prompt_template = \\\n",
    "'''We are interested in building a causal model based on the explicit and implicit assumptions contained in the specified article and then using causal inference to evaluate the reasoning. Answer the following questions to design an interesting, simple, and most importantly realistic causal model from a news article.\n",
    "\n",
    "To help understand the instructions here are some tips:\n",
    "- all variables are always binary and (at least in principle) measurable, so when creating and selecting variables, make sure it is reasonable to treat them as binary\n",
    "- whenever you propose a variable, make sure to define the meaning of each value it can take, and mention whether it is observable or not\n",
    "- outcome variables are always observable\n",
    "- treatment variables are always observable and intervenable, that means it must be possible to (at least in principle) change their value if desired\n",
    "- confounder variables may or may not be observable, and should always have at least two causal children (for example, a treatment and outcome variable) and no causal parents\n",
    "- mediator variables may or may not be observable, and should always have at least one causal parent (for example, a treatment variable) and at least one causal child (for example, the outcome variable)\n",
    "- collider variables may or may not be observable, and should always have at least two causal parents (for example, a treatment and outcome variable) and no causal children\n",
    "\n",
    "Answer concisely and precisely in the desired format. Carefully complete each of these tasks in order.\n",
    "\n",
    "1. Write a short description of what the article is about and what causal model make inform the reasoning behind an argument the might make.\n",
    "2. Propose 1 outcome variable that the news article is either implicitly or explicitly addressing that people are most likely to be interested in studying, especially if people tend to have misconceptions about it\n",
    "3. Propose 2 treatment variables that either directly or indirectly affect the selected outcome variable and are the most interesting to study\n",
    "4. Propose 4 confounder variables that affect some reasonable combination of the outcome and treatment variables\n",
    "5. Propose 3 mediator variables that affect and are affected by some reasonable combination of any other variables\n",
    "6. Propose 2 collider variables that are affected by some reasonable combination of any other variables\n",
    "\n",
    "Here is the beginning of the news article:\n",
    "```\n",
    "{spark}\n",
    "```\n",
    "\n",
    "The variables and causal graph should, where possible, use specific details such as names and locations mentioned in the article. Also, generally the variable value \"0\" should correspond to the negative, neutral, or control while the value \"1\" should correspond to the positive choice or active value.\n",
    "\n",
    "Take a deep breath and think step-by-step about how you will do this.'''\n",
    "graph_selection_prompt_template = \\\n",
    "'''1. Select some combination of 3-5 of the suggested confounder, mediator, and collider variables, in addition to the treatment and outcome variables to construct a realistic and interesting causal graph. Important: Make sure the causal graph is a DAG and that no node has more than three parents!\n",
    "2.  List all the edges in the causal graph, and make sure to mention which edges are observable and which are not.\n",
    "3. Provide a python list called `nodes` of all the nodes in the proposed graph. For each node, provide the following information in the form of a python dict:\n",
    "- `name`: the name of the variable\n",
    "- `description`: a short description of the variable\n",
    "- `type`: the type of the variable, which can be one of the following: `outcome`, `treatment`, `confounder`, `mediator`, `collider`\n",
    "- `observed`: a boolean value indicating whether the variable is observable or not\n",
    "- `values`: a python list of the descriptions of the values the variable can take (corresponding to the index)\n",
    "- `parents`: a python list of the names of the parents of the variable (make sure they match the corresponding `name` field of the parent nodes, and remember, there should not be more than three parents for any node)\n",
    "\n",
    "Take a deep breath and think step-by-step about how you will do this.'''\n",
    "stats_prompt_template = \\\n",
    "'''We have a causal bayes net based on the following article:\n",
    "\n",
    "```\n",
    "{spark}\n",
    "```\n",
    "\n",
    "Now we would like to estimate the probabilities of certain events.\n",
    "\n",
    "Using commonsense, estimate the probabilities of the following events:\n",
    "\n",
    "{prob_questions}\n",
    "\n",
    "Where the variables are defined as:\n",
    "{descriptions}\n",
    "\n",
    "For each question above, answer with the lower and upper bound estimates of the probabilities as a python dictionary where the key corresponds to the question index in exactly the following format:\n",
    "\n",
    "```python\n",
    "probabilities = {{\n",
    "  1: [0.3, 0.4],\n",
    "  ...\n",
    "}}\n",
    "```\n",
    "\n",
    "Answer concisely and precisely in the desired format.'''\n",
    "verb_prompt_template = \\\n",
    "'''We would like to find very natural verbalizations of the following binary variables selected from a statistical model. The verbalizations should sound more natural and organic, so that you could imagine them being used in a news paper article or casual conversation, while still being semantically equivalent to the original variable and value.\n",
    "\n",
    "Here are the templates that we use to verbalize the variables:\n",
    "\n",
    "1. One of the variables is {{variable}}.\n",
    "2. We estimate {{subject}} [often/usually/sometimes/rarely/etc.] {{value}}.\n",
    "3. There is a [number]% chance that {{value}}.\n",
    "4. [number]% of {{domain}} {{value}}.\n",
    "5. [number]% of the time {{value}}.\n",
    "6. Conditional sentence: {{value}}, [some consequence].\n",
    "7. Interventional: If {{value}}, [some effect].\n",
    "\n",
    "{variable_description}\n",
    "\n",
    "Here are some examples of verbalizations of the variable. For each of the templates fill in the blanks (and include 2-3 examples for each template). Format your response as a python dictionary. When replacing the key \"value\", make sure to include some examples for both values that the variables can take. For example, a variable \"Smoking Rate\" which takes the values \"Low Smoking Rate\"=0 and \"High Smoking Rate\"=1 can be verbalized like this:\n",
    "\n",
    "```python\n",
    "verbalizations = {{\n",
    "  \"Smoking Rate\": {{\n",
    "    1: {{\"variable\": [\"the smoking rate\", \"proportion of smokers\"]}},\n",
    "    2: {{\"subject\": \"people\", \"value\": {{0: [\"do not smoke\", \"are non-smokers\"], 1: [\"smoke\", \"are smokers\"]}}}},\n",
    "    3: {{\"value\": {{0: [\"people do not smoke\", \"people are non-smokers\"], 1: [\"people smoke\", \"people are smokers\"]}}}},\n",
    "    4: {{\"domain\": \"people\", \"value\": {{0: [\"do not smoke\", \"are non-smokers\"], 1: [\"smoke\", \"are smokers\"]}}}},\n",
    "    5: {{\"value\": {{0: [\"the smoking rate decreases\", \"people stop smoking\"], 1: [\"the smoking rate increases\", \"people start smoking\"]}}}},\n",
    "    6: {{\"value\": {{0: [\"For people that do not smoke\", \"Among non-smokers\"], 1: [\"For people that smoke\", \"Among smokers\"]}}}},\n",
    "    7: {{\"value\": {{0: [\"people quite smoking\", \"people become non-smokers\"], 1: [\"people become smokers\", \"people take up smoking\"]}}}},\n",
    "  }},\n",
    "  ...\n",
    "}}\n",
    "```\n",
    "\n",
    "Answer concisely and precisely in the desired format, and only replace the blanks in curly braces. Do not add any additional comments or discussion. Most importantly, the verbalizations should not contain quantitative information like \"often\" or \"rarely\", and instead always assert the corresponding value.'''\n",
    "question_prompt_template = \\\n",
    "'''We have a causal bayes net based on the following article:\n",
    "\n",
    "```\n",
    "{spark}\n",
    "```\n",
    "\n",
    "Now we would like to use this model to generate some interesting research questions:\n",
    "\n",
    "1. Write a short two sentence introduction to describe motivation and purpose of the causal model to provide context to the questions in an conversational/debate setting. Where possible, include relevant details from the original article headline or related information you can infer therefrom. Avoid discussing specific structural properties or assumptions in the causal graph, and instead focus on the overall motivation and potential applications for the model. Refrain from mentioning words like \"causal inference\" or \"model\".\n",
    "Make sure not to use any technical terms from causal inference so that the introduction is easy to understand even for a layperson, as if this were in a newspaper or casual discussion.\n",
    "2. Write a short two sentence overview of the structure of the causal graph including noteworthy properties and assumptions. Use an intuitive conversational style to describe the causal graph, and avoid using technical terms or jargon, but you can describe the variables and their relationships (including using terms like \"confounder\"/\"confounding\", \"mediator\"/\"mediates\") as long as you explain them in a way that is understandable to a layperson.\n",
    "3. Verbalize an interesting \"yes\"/\"no\" question where the correct answer depends computation of each of the following quantities:\n",
    "\n",
    "{query_description}\n",
    "\n",
    "Where \"| * |\" is the absolute value and the definitions of \"ATE('X')\" (average treatment effect) and \"CATE('X' | 'U'=u)\" are:\n",
    "\n",
    "ATE('X') = E['Y' | do('X' = 1)] - E['Y' | do('X' = 0)]\n",
    "CATE('X' | 'U'=u) = E['Y' | 'U'=u, do('X' = 1)] - E['Y' | 'U'=u, do('X' = 0)]\n",
    "\n",
    "Where 'X' is a treatment variable, 'Y' is the outcome variable, and 'U' is a confounder variable.\n",
    "\n",
    "4. In addition to the questions and associated answers include a one sentence explanation for each question, and \"wrong_explanation\" which is just like the explanation but argues for the opposite answer.\n",
    "\n",
    "The meanings of all the variables (all of which are binary) in the statistical model are:\n",
    "\n",
    "{variable_description}\n",
    "\n",
    "Answer in the form of a python dictionary in the following format:\n",
    "\n",
    "```python\n",
    "setting = {{\n",
    "  \"introduction\": \"[introduction]\",\n",
    "  \"overview\": \"[overview]\",\n",
    "  \"questions\": {{\n",
    "    1: {{\"question\": \"[question]\", \"answer\": \"yes\", \"explanation\": \"[explanation]\", \"wrong_explanation\": \"[wrong_explanation]\"}},\n",
    "    ...\n",
    "  }},\n",
    "}}\n",
    "```\n",
    "Answer concisely and precisely in the desired format. Do not add any additional comments or discussion. Most importantly, do not use any technical terms from causal inference such as ATE or CATE in the questions and explanations so that everything is easy to understand even for a layperson.'''"
   ],
   "metadata": {
    "collapsed": false,
    "ExecuteTime": {
     "end_time": "2023-11-24T13:44:56.705960958Z",
     "start_time": "2023-11-24T13:44:56.650107674Z"
    }
   },
   "id": "810e9c63d4ccc441"
  },
  {
   "cell_type": "code",
   "execution_count": 71,
   "outputs": [
    {
     "name": "stdout",
     "output_type": "stream",
     "text": [
      "3495520\n",
      "Title: Dementia symptoms: The three main signs of the cognitive decline disease - Express\n",
      "Description: DEMENTIA damages the nerve cells within the brain. As a result, these neurons struggle to communicate effectively, leading to a unique experience of the disease. However, three big themes present in most cases - what are they?\n",
      "Original Language: English\n"
     ]
    }
   ],
   "source": [
    "# ctx = Story(story_root=misc.data_root() / 'stories', story_id='test17')\n",
    "ctx = Story(story_root=misc.data_root() / 'stories')\n",
    "ctx.populate_defaults(story_prompt_tempalte=setting_generation_prompt_template,\n",
    "                      graph_prompt_template=graph_selection_prompt_template,\n",
    "                      stats_prompt_template=stats_prompt_template,\n",
    "                        verb_prompt_template=verb_prompt_template,\n",
    "                        questions_prompt_template=question_prompt_template,\n",
    "                      )\n",
    "ctx.include(spark_generator,)\n",
    "# print(ctx)\n",
    "# ctx['seed'] = 2494534#91220#1684065#6805333\n",
    "print(ctx['seed'])\n",
    "print(ctx['spark'])"
   ],
   "metadata": {
    "collapsed": false,
    "ExecuteTime": {
     "end_time": "2023-11-24T14:29:36.841515180Z",
     "start_time": "2023-11-24T14:29:36.820880107Z"
    }
   },
   "id": "46baeb3a28e45ee"
  },
  {
   "cell_type": "code",
   "execution_count": 72,
   "outputs": [
    {
     "name": "stdout",
     "output_type": "stream",
     "text": [
      "We are interested in building a causal model based on the explicit and implicit assumptions contained in the specified article and then using causal inference to evaluate the reasoning. Answer the following questions to design an interesting, simple, and most importantly realistic causal model from a news article.\n",
      "\n",
      "To help understand the instructions here are some tips:\n",
      "- all variables are always binary and (at least in principle) measurable, so when creating and selecting variables, make sure it is reasonable to treat them as binary\n",
      "- whenever you propose a variable, make sure to define the meaning of each value it can take, and mention whether it is observable or not\n",
      "- outcome variables are always observable\n",
      "- treatment variables are always observable and intervenable, that means it must be possible to (at least in principle) change their value if desired\n",
      "- confounder variables may or may not be observable, and should always have at least two causal children (for example, a treatment and outcome variable) and no causal parents\n",
      "- mediator variables may or may not be observable, and should always have at least one causal parent (for example, a treatment variable) and at least one causal child (for example, the outcome variable)\n",
      "- collider variables may or may not be observable, and should always have at least two causal parents (for example, a treatment and outcome variable) and no causal children\n",
      "\n",
      "Answer concisely and precisely in the desired format. Carefully complete each of these tasks in order.\n",
      "\n",
      "1. Write a short description of what the article is about and what causal model make inform the reasoning behind an argument the might make.\n",
      "2. Propose 1 outcome variable that the news article is either implicitly or explicitly addressing that people are most likely to be interested in studying, especially if people tend to have misconceptions about it\n",
      "3. Propose 2 treatment variables that either directly or indirectly affect the selected outcome variable and are the most interesting to study\n",
      "4. Propose 4 confounder variables that affect some reasonable combination of the outcome and treatment variables\n",
      "5. Propose 3 mediator variables that affect and are affected by some reasonable combination of any other variables\n",
      "6. Propose 2 collider variables that are affected by some reasonable combination of any other variables\n",
      "\n",
      "Here is the beginning of the news article:\n",
      "```\n",
      "Title: Dementia symptoms: The three main signs of the cognitive decline disease - Express\n",
      "Description: DEMENTIA damages the nerve cells within the brain. As a result, these neurons struggle to communicate effectively, leading to a unique experience of the disease. However, three big themes present in most cases - what are they?\n",
      "Original Language: English\n",
      "```\n",
      "\n",
      "The variables and causal graph should, where possible, use specific details such as names and locations mentioned in the article. Also, generally the variable value \"0\" should correspond to the negative, neutral, or control while the value \"1\" should correspond to the positive choice or active value.\n",
      "\n",
      "Take a deep breath and think step-by-step about how you will do this.\n"
     ]
    }
   ],
   "source": [
    "# if 'prompt_story' in ctx:\n",
    "#     del ctx['prompt_story']\n",
    "print(ctx['prompt_story'])"
   ],
   "metadata": {
    "collapsed": false,
    "ExecuteTime": {
     "end_time": "2023-11-24T14:29:41.590554064Z",
     "start_time": "2023-11-24T14:29:41.565645592Z"
    }
   },
   "id": "7cac9d876fc4d17a"
  },
  {
   "cell_type": "code",
   "execution_count": 73,
   "outputs": [
    {
     "name": "stdout",
     "output_type": "stream",
     "text": [
      "1. Select some combination of 3-5 of the suggested confounder, mediator, and collider variables, in addition to the treatment and outcome variables to construct a realistic and interesting causal graph. Important: Make sure the causal graph is a DAG and that no node has more than three parents!\n",
      "2.  List all the edges in the causal graph, and make sure to mention which edges are observable and which are not.\n",
      "3. Provide a python list called `nodes` of all the nodes in the proposed graph. For each node, provide the following information in the form of a python dict:\n",
      "- `name`: the name of the variable\n",
      "- `description`: a short description of the variable\n",
      "- `type`: the type of the variable, which can be one of the following: `outcome`, `treatment`, `confounder`, `mediator`, `collider`\n",
      "- `observed`: a boolean value indicating whether the variable is observable or not\n",
      "- `values`: a python list of the descriptions of the values the variable can take (corresponding to the index)\n",
      "- `parents`: a python list of the names of the parents of the variable (make sure they match the corresponding `name` field of the parent nodes, and remember, there should not be more than three parents for any node)\n",
      "\n",
      "Take a deep breath and think step-by-step about how you will do this.\n"
     ]
    }
   ],
   "source": [
    "# if 'prompt_graph' in ctx:\n",
    "#     del ctx['prompt_graph']\n",
    "print(ctx['prompt_graph'])"
   ],
   "metadata": {
    "collapsed": false,
    "ExecuteTime": {
     "end_time": "2023-11-24T14:29:55.739717353Z",
     "start_time": "2023-11-24T14:29:55.692325032Z"
    }
   },
   "id": "3dba22960a9e0ca4"
  },
  {
   "cell_type": "code",
   "execution_count": 76,
   "outputs": [],
   "source": [
    "# nodes = ctx['nodes']\n",
    "#################################################\n",
    "\n",
    "nodes = [\n",
    "    {\"name\": \"Brain Stimulation Activities\", \"description\": \"Engagement in brain stimulation activities\", \"type\": \"treatment\", \"observed\": True, \"values\": [\"No engagement\", \"Regular engagement\"], \"parents\": []},\n",
    "    {\"name\": \"Physical Exercise\", \"description\": \"Engagement in physical exercise\", \"type\": \"treatment\", \"observed\": True, \"values\": [\"No regular exercise\", \"Regular exercise\"], \"parents\": [\"Age\"]},\n",
    "    {\"name\": \"Cognitive Decline\", \"description\": \"Level of cognitive decline\", \"type\": \"outcome\", \"observed\": True, \"values\": [\"No or minimal decline\", \"Significant decline\"], \"parents\": [\"Age\", \"Genetic Predisposition\", \"Mental Health Status\"]},\n",
    "    {\"name\": \"Age\", \"description\": \"Age group of the individual\", \"type\": \"confounder\", \"observed\": True, \"values\": [\"Younger age group\", \"Older age group\"], \"parents\": []},\n",
    "    {\"name\": \"Genetic Predisposition\", \"description\": \"Genetic predisposition to dementia\", \"type\": \"confounder\", \"observed\": True, \"values\": [\"No predisposition\", \"Presence of predisposition\"], \"parents\": []},\n",
    "    {\"name\": \"Mental Health Status\", \"description\": \"Current mental health status\", \"type\": \"mediator\", \"observed\": True, \"values\": [\"Good mental health\", \"Poor mental health\"], \"parents\": [\"Brain Stimulation Activities\", \"Physical Exercise\"]},\n",
    "    {\"name\": \"Overall Health Status\", \"description\": \"Overall health status\", \"type\": \"collider\", \"observed\": True, \"values\": [\"Poor overall health\", \"Good overall health\"], \"parents\": [\"Brain Stimulation Activities\", \"Physical Exercise\", \"Cognitive Decline\"]}\n",
    "]\n",
    "\n",
    "\n",
    "\n",
    "\n",
    "#################################################\n",
    "varparents = {node['name']: node['parents'] for node in nodes}\n",
    "varorder = toposort(varparents)\n",
    "nodes = sorted(nodes, key=lambda x: varorder.index(x['name']))\n",
    "ctx['nodes'] = nodes"
   ],
   "metadata": {
    "collapsed": false,
    "ExecuteTime": {
     "end_time": "2023-11-24T14:32:34.756629375Z",
     "start_time": "2023-11-24T14:32:34.690078633Z"
    }
   },
   "id": "f3fcf031d24d5d48"
  },
  {
   "cell_type": "code",
   "execution_count": 77,
   "outputs": [
    {
     "ename": "ValueError",
     "evalue": "Could not save to JPEG for display",
     "output_type": "error",
     "traceback": [
      "\u001B[0;31m---------------------------------------------------------------------------\u001B[0m",
      "\u001B[0;31mKeyError\u001B[0m                                  Traceback (most recent call last)",
      "File \u001B[0;32m~/miniconda3/lib/python3.11/site-packages/PIL/JpegImagePlugin.py:639\u001B[0m, in \u001B[0;36m_save\u001B[0;34m(im, fp, filename)\u001B[0m\n\u001B[1;32m    638\u001B[0m \u001B[38;5;28;01mtry\u001B[39;00m:\n\u001B[0;32m--> 639\u001B[0m     rawmode \u001B[38;5;241m=\u001B[39m \u001B[43mRAWMODE\u001B[49m\u001B[43m[\u001B[49m\u001B[43mim\u001B[49m\u001B[38;5;241;43m.\u001B[39;49m\u001B[43mmode\u001B[49m\u001B[43m]\u001B[49m\n\u001B[1;32m    640\u001B[0m \u001B[38;5;28;01mexcept\u001B[39;00m \u001B[38;5;167;01mKeyError\u001B[39;00m \u001B[38;5;28;01mas\u001B[39;00m e:\n",
      "\u001B[0;31mKeyError\u001B[0m: 'RGBA'",
      "\nThe above exception was the direct cause of the following exception:\n",
      "\u001B[0;31mOSError\u001B[0m                                   Traceback (most recent call last)",
      "File \u001B[0;32m~/miniconda3/lib/python3.11/site-packages/PIL/Image.py:643\u001B[0m, in \u001B[0;36mImage._repr_image\u001B[0;34m(self, image_format, **kwargs)\u001B[0m\n\u001B[1;32m    642\u001B[0m \u001B[38;5;28;01mtry\u001B[39;00m:\n\u001B[0;32m--> 643\u001B[0m     \u001B[38;5;28;43mself\u001B[39;49m\u001B[38;5;241;43m.\u001B[39;49m\u001B[43msave\u001B[49m\u001B[43m(\u001B[49m\u001B[43mb\u001B[49m\u001B[43m,\u001B[49m\u001B[43m \u001B[49m\u001B[43mimage_format\u001B[49m\u001B[43m,\u001B[49m\u001B[43m \u001B[49m\u001B[38;5;241;43m*\u001B[39;49m\u001B[38;5;241;43m*\u001B[39;49m\u001B[43mkwargs\u001B[49m\u001B[43m)\u001B[49m\n\u001B[1;32m    644\u001B[0m \u001B[38;5;28;01mexcept\u001B[39;00m \u001B[38;5;167;01mException\u001B[39;00m \u001B[38;5;28;01mas\u001B[39;00m e:\n",
      "File \u001B[0;32m~/miniconda3/lib/python3.11/site-packages/PIL/Image.py:2413\u001B[0m, in \u001B[0;36mImage.save\u001B[0;34m(self, fp, format, **params)\u001B[0m\n\u001B[1;32m   2412\u001B[0m \u001B[38;5;28;01mtry\u001B[39;00m:\n\u001B[0;32m-> 2413\u001B[0m     \u001B[43msave_handler\u001B[49m\u001B[43m(\u001B[49m\u001B[38;5;28;43mself\u001B[39;49m\u001B[43m,\u001B[49m\u001B[43m \u001B[49m\u001B[43mfp\u001B[49m\u001B[43m,\u001B[49m\u001B[43m \u001B[49m\u001B[43mfilename\u001B[49m\u001B[43m)\u001B[49m\n\u001B[1;32m   2414\u001B[0m \u001B[38;5;28;01mexcept\u001B[39;00m \u001B[38;5;167;01mException\u001B[39;00m:\n",
      "File \u001B[0;32m~/miniconda3/lib/python3.11/site-packages/PIL/JpegImagePlugin.py:642\u001B[0m, in \u001B[0;36m_save\u001B[0;34m(im, fp, filename)\u001B[0m\n\u001B[1;32m    641\u001B[0m     msg \u001B[38;5;241m=\u001B[39m \u001B[38;5;124mf\u001B[39m\u001B[38;5;124m\"\u001B[39m\u001B[38;5;124mcannot write mode \u001B[39m\u001B[38;5;132;01m{\u001B[39;00mim\u001B[38;5;241m.\u001B[39mmode\u001B[38;5;132;01m}\u001B[39;00m\u001B[38;5;124m as JPEG\u001B[39m\u001B[38;5;124m\"\u001B[39m\n\u001B[0;32m--> 642\u001B[0m     \u001B[38;5;28;01mraise\u001B[39;00m \u001B[38;5;167;01mOSError\u001B[39;00m(msg) \u001B[38;5;28;01mfrom\u001B[39;00m \u001B[38;5;21;01me\u001B[39;00m\n\u001B[1;32m    644\u001B[0m info \u001B[38;5;241m=\u001B[39m im\u001B[38;5;241m.\u001B[39mencoderinfo\n",
      "\u001B[0;31mOSError\u001B[0m: cannot write mode RGBA as JPEG",
      "\nThe above exception was the direct cause of the following exception:\n",
      "\u001B[0;31mValueError\u001B[0m                                Traceback (most recent call last)",
      "File \u001B[0;32m~/miniconda3/lib/python3.11/site-packages/IPython/core/formatters.py:344\u001B[0m, in \u001B[0;36mBaseFormatter.__call__\u001B[0;34m(self, obj)\u001B[0m\n\u001B[1;32m    342\u001B[0m     method \u001B[38;5;241m=\u001B[39m get_real_method(obj, \u001B[38;5;28mself\u001B[39m\u001B[38;5;241m.\u001B[39mprint_method)\n\u001B[1;32m    343\u001B[0m     \u001B[38;5;28;01mif\u001B[39;00m method \u001B[38;5;129;01mis\u001B[39;00m \u001B[38;5;129;01mnot\u001B[39;00m \u001B[38;5;28;01mNone\u001B[39;00m:\n\u001B[0;32m--> 344\u001B[0m         \u001B[38;5;28;01mreturn\u001B[39;00m \u001B[43mmethod\u001B[49m\u001B[43m(\u001B[49m\u001B[43m)\u001B[49m\n\u001B[1;32m    345\u001B[0m     \u001B[38;5;28;01mreturn\u001B[39;00m \u001B[38;5;28;01mNone\u001B[39;00m\n\u001B[1;32m    346\u001B[0m \u001B[38;5;28;01melse\u001B[39;00m:\n",
      "File \u001B[0;32m~/miniconda3/lib/python3.11/site-packages/PIL/Image.py:661\u001B[0m, in \u001B[0;36mImage._repr_jpeg_\u001B[0;34m(self)\u001B[0m\n\u001B[1;32m    656\u001B[0m \u001B[38;5;28;01mdef\u001B[39;00m \u001B[38;5;21m_repr_jpeg_\u001B[39m(\u001B[38;5;28mself\u001B[39m):\n\u001B[1;32m    657\u001B[0m \u001B[38;5;250m    \u001B[39m\u001B[38;5;124;03m\"\"\"iPython display hook support for JPEG format.\u001B[39;00m\n\u001B[1;32m    658\u001B[0m \n\u001B[1;32m    659\u001B[0m \u001B[38;5;124;03m    :returns: JPEG version of the image as bytes\u001B[39;00m\n\u001B[1;32m    660\u001B[0m \u001B[38;5;124;03m    \"\"\"\u001B[39;00m\n\u001B[0;32m--> 661\u001B[0m     \u001B[38;5;28;01mreturn\u001B[39;00m \u001B[38;5;28;43mself\u001B[39;49m\u001B[38;5;241;43m.\u001B[39;49m\u001B[43m_repr_image\u001B[49m\u001B[43m(\u001B[49m\u001B[38;5;124;43m\"\u001B[39;49m\u001B[38;5;124;43mJPEG\u001B[39;49m\u001B[38;5;124;43m\"\u001B[39;49m\u001B[43m)\u001B[49m\n",
      "File \u001B[0;32m~/miniconda3/lib/python3.11/site-packages/PIL/Image.py:646\u001B[0m, in \u001B[0;36mImage._repr_image\u001B[0;34m(self, image_format, **kwargs)\u001B[0m\n\u001B[1;32m    644\u001B[0m \u001B[38;5;28;01mexcept\u001B[39;00m \u001B[38;5;167;01mException\u001B[39;00m \u001B[38;5;28;01mas\u001B[39;00m e:\n\u001B[1;32m    645\u001B[0m     msg \u001B[38;5;241m=\u001B[39m \u001B[38;5;124mf\u001B[39m\u001B[38;5;124m\"\u001B[39m\u001B[38;5;124mCould not save to \u001B[39m\u001B[38;5;132;01m{\u001B[39;00mimage_format\u001B[38;5;132;01m}\u001B[39;00m\u001B[38;5;124m for display\u001B[39m\u001B[38;5;124m\"\u001B[39m\n\u001B[0;32m--> 646\u001B[0m     \u001B[38;5;28;01mraise\u001B[39;00m \u001B[38;5;167;01mValueError\u001B[39;00m(msg) \u001B[38;5;28;01mfrom\u001B[39;00m \u001B[38;5;21;01me\u001B[39;00m\n\u001B[1;32m    647\u001B[0m \u001B[38;5;28;01mreturn\u001B[39;00m b\u001B[38;5;241m.\u001B[39mgetvalue()\n",
      "\u001B[0;31mValueError\u001B[0m: Could not save to JPEG for display"
     ]
    },
    {
     "data": {
      "text/plain": "<PIL.PngImagePlugin.PngImageFile image mode=RGBA size=1169x443>",
      "image/png": "[encoded data removed]"
     },
     "execution_count": 77,
     "metadata": {},
     "output_type": "execute_result"
    }
   ],
   "source": [
    "# G = ctx['graph']\n",
    "# if 'graph' in ctx:\n",
    "#     del ctx['graph']\n",
    "# node_colors = {'treatment': 'lightcoral', 'outcome': 'lightgreen', 'confounder': 'lightblue', 'mediator': 'lightyellow', 'collider': 'lightgray'}\n",
    "# colors = [node_colors[G.nodes[n]['type']] for n in G.nodes]\n",
    "# plt.figure(figsize=(10, 6))\n",
    "# pos = nx.circular_layout(G)\n",
    "# nx.draw(G, pos, with_labels=True, node_color=colors, node_size=5000, font_size=10, font_weight='bold', edge_color='gray', arrowsize=20)\n",
    "# plt.title('Causal Graph', size=15);\n",
    "# plt.tight_layout();\n",
    "\n",
    "dot = Digraph(comment='Causal Model')\n",
    "node_styles = {\n",
    "    \"treatment\": {\"shape\": \"ellipse\", \"style\": \"filled\", \"color\": \"lightpink\"},\n",
    "    \"outcome\": {\"shape\": \"ellipse\", \"style\": \"filled\", \"color\": \"lightgreen\"},\n",
    "    \"confounder\": {\"shape\": \"diamond\", \"style\": \"filled\", \"color\": \"lightblue\"},\n",
    "    \"mediator\": {\"shape\": \"box\", \"style\": \"filled\", \"color\": \"lightyellow\"},\n",
    "    \"collider\": {\"shape\": \"box\", \"style\": \"filled\", \"color\": \"lightgray\"}\n",
    "}\n",
    "for node in ctx['nodes']:\n",
    "    style = node_styles.get(node[\"type\"], {\"shape\": \"ellipse\"})\n",
    "    dot.node(node[\"name\"], node[\"name\"], **style)\n",
    "for node in ctx['nodes']:\n",
    "    for parent in node[\"parents\"]:\n",
    "        dot.edge(parent, node[\"name\"])\n",
    "# dot.view()\n",
    "dot.render(str(misc.temp_root() / 'graph'), format='png')\n",
    "Image.open(misc.temp_root() / 'graph.png')"
   ],
   "metadata": {
    "collapsed": false,
    "ExecuteTime": {
     "end_time": "2023-11-24T14:32:35.782266755Z",
     "start_time": "2023-11-24T14:32:35.661587818Z"
    }
   },
   "id": "9f8b963c0ac35fa8"
  },
  {
   "cell_type": "code",
   "execution_count": 78,
   "outputs": [
    {
     "name": "stdout",
     "output_type": "stream",
     "text": [
      "We have a causal bayes net based on the following article:\n",
      "\n",
      "```\n",
      "Title: Dementia symptoms: The three main signs of the cognitive decline disease - Express\n",
      "Description: DEMENTIA damages the nerve cells within the brain. As a result, these neurons struggle to communicate effectively, leading to a unique experience of the disease. However, three big themes present in most cases - what are they?\n",
      "Original Language: English\n",
      "```\n",
      "\n",
      "Now we would like to estimate the probabilities of certain events.\n",
      "\n",
      "Using commonsense, estimate the probabilities of the following events:\n",
      "\n",
      "1. what is the probability that \"Brain Stimulation Activities\" is \"Regular engagement\" (rather than \"No engagement\")?\n",
      "2. what is the probability that \"Age\" is \"Older age group\" (rather than \"Younger age group\")?\n",
      "3. when \"Age\" is \"Younger age group\": what is the probability that \"Physical Exercise\" is \"Regular exercise\" (rather than \"No regular exercise\")?\n",
      "4. when \"Age\" is \"Older age group\": what is the probability that \"Physical Exercise\" is \"Regular exercise\" (rather than \"No regular exercise\")?\n",
      "5. what is the probability that \"Genetic Predisposition\" is \"Presence of predisposition\" (rather than \"No predisposition\")?\n",
      "6. when \"Brain Stimulation Activities\" is \"No engagement\" and \"Physical Exercise\" is \"No regular exercise\": what is the probability that \"Mental Health Status\" is \"Poor mental health\" (rather than \"Good mental health\")?\n",
      "7. when \"Brain Stimulation Activities\" is \"No engagement\" and \"Physical Exercise\" is \"Regular exercise\": what is the probability that \"Mental Health Status\" is \"Poor mental health\" (rather than \"Good mental health\")?\n",
      "8. when \"Brain Stimulation Activities\" is \"Regular engagement\" and \"Physical Exercise\" is \"No regular exercise\": what is the probability that \"Mental Health Status\" is \"Poor mental health\" (rather than \"Good mental health\")?\n",
      "9. when \"Brain Stimulation Activities\" is \"Regular engagement\" and \"Physical Exercise\" is \"Regular exercise\": what is the probability that \"Mental Health Status\" is \"Poor mental health\" (rather than \"Good mental health\")?\n",
      "10. when \"Age\" is \"Younger age group\" and \"Genetic Predisposition\" is \"No predisposition\" and \"Mental Health Status\" is \"Good mental health\": what is the probability that \"Cognitive Decline\" is \"Significant decline\" (rather than \"No or minimal decline\")?\n",
      "11. when \"Age\" is \"Younger age group\" and \"Genetic Predisposition\" is \"No predisposition\" and \"Mental Health Status\" is \"Poor mental health\": what is the probability that \"Cognitive Decline\" is \"Significant decline\" (rather than \"No or minimal decline\")?\n",
      "12. when \"Age\" is \"Younger age group\" and \"Genetic Predisposition\" is \"Presence of predisposition\" and \"Mental Health Status\" is \"Good mental health\": what is the probability that \"Cognitive Decline\" is \"Significant decline\" (rather than \"No or minimal decline\")?\n",
      "13. when \"Age\" is \"Younger age group\" and \"Genetic Predisposition\" is \"Presence of predisposition\" and \"Mental Health Status\" is \"Poor mental health\": what is the probability that \"Cognitive Decline\" is \"Significant decline\" (rather than \"No or minimal decline\")?\n",
      "14. when \"Age\" is \"Older age group\" and \"Genetic Predisposition\" is \"No predisposition\" and \"Mental Health Status\" is \"Good mental health\": what is the probability that \"Cognitive Decline\" is \"Significant decline\" (rather than \"No or minimal decline\")?\n",
      "15. when \"Age\" is \"Older age group\" and \"Genetic Predisposition\" is \"No predisposition\" and \"Mental Health Status\" is \"Poor mental health\": what is the probability that \"Cognitive Decline\" is \"Significant decline\" (rather than \"No or minimal decline\")?\n",
      "16. when \"Age\" is \"Older age group\" and \"Genetic Predisposition\" is \"Presence of predisposition\" and \"Mental Health Status\" is \"Good mental health\": what is the probability that \"Cognitive Decline\" is \"Significant decline\" (rather than \"No or minimal decline\")?\n",
      "17. when \"Age\" is \"Older age group\" and \"Genetic Predisposition\" is \"Presence of predisposition\" and \"Mental Health Status\" is \"Poor mental health\": what is the probability that \"Cognitive Decline\" is \"Significant decline\" (rather than \"No or minimal decline\")?\n",
      "18. when \"Brain Stimulation Activities\" is \"No engagement\" and \"Physical Exercise\" is \"No regular exercise\" and \"Cognitive Decline\" is \"No or minimal decline\": what is the probability that \"Overall Health Status\" is \"Good overall health\" (rather than \"Poor overall health\")?\n",
      "19. when \"Brain Stimulation Activities\" is \"No engagement\" and \"Physical Exercise\" is \"No regular exercise\" and \"Cognitive Decline\" is \"Significant decline\": what is the probability that \"Overall Health Status\" is \"Good overall health\" (rather than \"Poor overall health\")?\n",
      "20. when \"Brain Stimulation Activities\" is \"No engagement\" and \"Physical Exercise\" is \"Regular exercise\" and \"Cognitive Decline\" is \"No or minimal decline\": what is the probability that \"Overall Health Status\" is \"Good overall health\" (rather than \"Poor overall health\")?\n",
      "21. when \"Brain Stimulation Activities\" is \"No engagement\" and \"Physical Exercise\" is \"Regular exercise\" and \"Cognitive Decline\" is \"Significant decline\": what is the probability that \"Overall Health Status\" is \"Good overall health\" (rather than \"Poor overall health\")?\n",
      "22. when \"Brain Stimulation Activities\" is \"Regular engagement\" and \"Physical Exercise\" is \"No regular exercise\" and \"Cognitive Decline\" is \"No or minimal decline\": what is the probability that \"Overall Health Status\" is \"Good overall health\" (rather than \"Poor overall health\")?\n",
      "23. when \"Brain Stimulation Activities\" is \"Regular engagement\" and \"Physical Exercise\" is \"No regular exercise\" and \"Cognitive Decline\" is \"Significant decline\": what is the probability that \"Overall Health Status\" is \"Good overall health\" (rather than \"Poor overall health\")?\n",
      "24. when \"Brain Stimulation Activities\" is \"Regular engagement\" and \"Physical Exercise\" is \"Regular exercise\" and \"Cognitive Decline\" is \"No or minimal decline\": what is the probability that \"Overall Health Status\" is \"Good overall health\" (rather than \"Poor overall health\")?\n",
      "25. when \"Brain Stimulation Activities\" is \"Regular engagement\" and \"Physical Exercise\" is \"Regular exercise\" and \"Cognitive Decline\" is \"Significant decline\": what is the probability that \"Overall Health Status\" is \"Good overall health\" (rather than \"Poor overall health\")?\n",
      "\n",
      "Where the variables are defined as:\n",
      "\"Brain Stimulation Activities\" means \"Engagement in brain stimulation activities\"\n",
      "\"Age\" means \"Age group of the individual\"\n",
      "\"Physical Exercise\" means \"Engagement in physical exercise\"\n",
      "\"Genetic Predisposition\" means \"Genetic predisposition to dementia\"\n",
      "\"Mental Health Status\" means \"Current mental health status\"\n",
      "\"Cognitive Decline\" means \"Level of cognitive decline\"\n",
      "\"Overall Health Status\" means \"Overall health status\"\n",
      "\n",
      "For each question above, answer with the lower and upper bound estimates of the probabilities as a python dictionary where the key corresponds to the question index in exactly the following format:\n",
      "\n",
      "```python\n",
      "probabilities = {\n",
      "  1: [0.3, 0.4],\n",
      "  ...\n",
      "}\n",
      "```\n",
      "\n",
      "Answer concisely and precisely in the desired format.\n"
     ]
    }
   ],
   "source": [
    "# if 'prompt_stats' in ctx:\n",
    "#     del ctx['descriptions']\n",
    "#     del ctx['prob_questions']\n",
    "#     del ctx['prompt_stats']\n",
    "print(ctx['prompt_stats'])"
   ],
   "metadata": {
    "collapsed": false,
    "ExecuteTime": {
     "end_time": "2023-11-24T14:33:31.584866535Z",
     "start_time": "2023-11-24T14:33:31.516005165Z"
    }
   },
   "id": "feaee31660914e5"
  },
  {
   "cell_type": "code",
   "execution_count": 79,
   "outputs": [],
   "source": [
    "# probabilities = ctx['stats']\n",
    "#################################################\n",
    "\n",
    "probabilities = {\n",
    "    1: [0.4, 0.6],  # Probability of regular engagement in brain stimulation activities\n",
    "    2: [0.7, 0.9],  # Probability of being in the older age group\n",
    "    3: [0.6, 0.8],  # Probability of regular exercise in the younger age group\n",
    "    4: [0.3, 0.5],  # Probability of regular exercise in the older age group\n",
    "    5: [0.1, 0.3],  # Probability of having a genetic predisposition to dementia\n",
    "    6: [0.4, 0.6],  # Probability of poor mental health with no brain stimulation and no regular exercise\n",
    "    7: [0.2, 0.4],  # Probability of poor mental health with no brain stimulation but regular exercise\n",
    "    8: [0.3, 0.5],  # Probability of poor mental health with brain stimulation but no regular exercise\n",
    "    9: [0.1, 0.3],  # Probability of poor mental health with both brain stimulation and regular exercise\n",
    "    10: [0.05, 0.15], # Probability of significant cognitive decline in younger age group with no predisposition and good mental health\n",
    "    11: [0.2, 0.4],  # Probability of significant cognitive decline in younger age group with no predisposition but poor mental health\n",
    "    12: [0.15, 0.25], # Probability of significant cognitive decline in younger age group with predisposition and good mental health\n",
    "    13: [0.3, 0.5],  # Probability of significant cognitive decline in younger age group with predisposition and poor mental health\n",
    "    14: [0.4, 0.6],  # Probability of significant cognitive decline in older age group with no predisposition and good mental health\n",
    "    15: [0.6, 0.8],  # Probability of significant cognitive decline in older age group with no predisposition but poor mental health\n",
    "    16: [0.5, 0.7],  # Probability of significant cognitive decline in older age group with predisposition and good mental health\n",
    "    17: [0.7, 0.9],  # Probability of significant cognitive decline in older age group with predisposition and poor mental health\n",
    "    18: [0.6, 0.8],  # Probability of good overall health with no brain stimulation, no regular exercise, and minimal cognitive decline\n",
    "    19: [0.2, 0.4],  # Probability of good overall health with no brain stimulation, no regular exercise, and significant cognitive decline\n",
    "    20: [0.7, 0.9],  # Probability of good overall health with no brain stimulation, regular exercise, and minimal cognitive decline\n",
    "    21: [0.3, 0.5],  # Probability of good overall health with no brain stimulation, regular exercise, and significant cognitive decline\n",
    "    22: [0.7, 0.9],  # Probability of good overall health with brain stimulation, no regular exercise, and minimal cognitive decline\n",
    "    23: [0.3, 0.5],  # Probability of good overall health with brain stimulation, no regular exercise, and significant cognitive decline\n",
    "    24: [0.8, 0.95], # Probability of good overall health with brain stimulation, regular exercise, and minimal cognitive decline\n",
    "    25: [0.4, 0.6]   # Probability of good overall health with brain stimulation, regular exercise, and significant cognitive decline\n",
    "}\n",
    "\n",
    "\n",
    "\n",
    "#################################################\n",
    "ctx['stats'] = probabilities"
   ],
   "metadata": {
    "collapsed": false,
    "ExecuteTime": {
     "end_time": "2023-11-24T14:35:19.433645392Z",
     "start_time": "2023-11-24T14:35:19.366845864Z"
    }
   },
   "id": "43b3c05608ca33be"
  },
  {
   "cell_type": "code",
   "execution_count": 80,
   "outputs": [
    {
     "name": "stdout",
     "output_type": "stream",
     "text": [
      "----------------------------  ---------------------  -------------------  ------------------------------------------\n",
      "Brain Stimulation Activities  No engagement          Regular engagement   Engagement in brain stimulation activities\n",
      "Physical Exercise             No regular exercise    Regular exercise     Engagement in physical exercise\n",
      "Cognitive Decline             No or minimal decline  Significant decline  Level of cognitive decline\n",
      "----------------------------  ---------------------  -------------------  ------------------------------------------\n"
     ]
    },
    {
     "data": {
      "text/plain": "  0%|          | 0/10 [00:00<?, ?it/s]",
      "application/vnd.jupyter.widget-view+json": {
       "version_major": 2,
       "version_minor": 0,
       "model_id": "9fe3941016ea4d77a7195869b66f49ec"
      }
     },
     "metadata": {},
     "output_type": "display_data"
    },
    {
     "name": "stderr",
     "output_type": "stream",
     "text": [
      "/home/fleeb/miniconda3/lib/python3.11/site-packages/torch/masked/maskedtensor/core.py:156: UserWarning: The PyTorch API of MaskedTensors is in prototype stage and will change in the near future. Please open a Github issue for features requests and see our documentation on the torch.masked module for further information about the project.\n",
      "  warnings.warn((\"The PyTorch API of MaskedTensors is in prototype stage \"\n"
     ]
    },
    {
     "name": "stdout",
     "output_type": "stream",
     "text": [
      "'Brain Stimulation Activities' means Engagement in brain stimulation activities\n",
      "'Age' means Age group of the individual\n",
      "'Physical Exercise' means Engagement in physical exercise\n",
      "'Genetic Predisposition' means Genetic predisposition to dementia\n",
      "'Mental Health Status' means Current mental health status\n",
      "'Cognitive Decline' means Level of cognitive decline\n",
      "'Overall Health Status' means Overall health status\n",
      "Treatment Value     Treatment                     Outcome Value        Outcome                   ATE    Correlation\n",
      "------------------  ----------------------------  -------------------  -----------------  ----------  -------------\n",
      "Regular engagement  Brain Stimulation Activities  Significant decline  Cognitive Decline  -0.0197079    0.000107327\n",
      "Regular exercise    Physical Exercise             Significant decline  Cognitive Decline  -0.0394159   -0.0131146\n"
     ]
    }
   ],
   "source": [
    "raw_prob_samples = []\n",
    "def to_prob_range(raw):\n",
    "    raw = [prange for _, prange in sorted(raw.items(), key=lambda item: int(item[0]))]\n",
    "    return torch.tensor(raw)\n",
    "\n",
    "prob_ranges = to_prob_range(ctx['stats'])\n",
    "lower_bound, upper_bound = prob_ranges.t()\n",
    "\n",
    "variables = {}\n",
    "for node in ctx['nodes']:\n",
    "    if len(node['parents']):\n",
    "        variables[node['name']] = ConditionalBernoulli([variables[parent] for parent in node['parents']])\n",
    "    else:\n",
    "        variables[node['name']] = Bernoulli(0.5)\n",
    "net = BernoulliNetwork(variables)\n",
    "def mc_samples(N, *fns):\n",
    "    estimates = []\n",
    "    for _ in tqdm(range(N)):\n",
    "        param_sample = torch.rand(len(prob_ranges), 1) * (upper_bound - lower_bound) + lower_bound\n",
    "        net.set_params(param_sample)\n",
    "        estimates.append([fn() for fn in fns])\n",
    "    return torch.tensor(estimates)\n",
    "def make_ate_fn(treatment, outcome, conditions=None):\n",
    "    def ate_fn():\n",
    "        return net.ate(treatment, conditions=conditions)[outcome].item()\n",
    "    return ate_fn\n",
    "def make_corr_fn(v1, v2):\n",
    "    def corr_fn():\n",
    "        return net.correlation(v1, v2).item()\n",
    "    return corr_fn\n",
    "treatment1, treatment2 = [n for n in ctx['treatments']]\n",
    "# t1vals = [node['values'] for node in ctx['nodes'] if node['name'] == treatment1][0]\n",
    "# t2vals = [node['values'] for node in ctx['nodes'] if node['name'] == treatment2][0]\n",
    "outcome = ctx['outcome']#['name']\n",
    "# ovals = [node['values'] for node in ctx['nodes'] if node['name'] == outcome][0]\n",
    "confounders = [node for node in ctx['confounders']]\n",
    "\n",
    "print(tabulate([\n",
    "    [treatment1['name'], *treatment1['values'], treatment1['description']],\n",
    "    [treatment2['name'], *treatment2['values'], treatment2['description']],\n",
    "    [outcome['name'], *outcome['values'], outcome['description']],\n",
    "]))\n",
    "\n",
    "cate_keys = [(treatment, confounder, cval) for treatment in ctx['treatments'] for confounder in ctx['confounders'] for cval in [0, 1]]\n",
    "cate_fns = [make_ate_fn(treatment['name'], outcome['name'], conditions={confounder['name']: val}) for treatment, confounder, val in cate_keys]\n",
    "ate1, ate2, corr1, corr2, *cates = mc_samples(10, make_ate_fn(treatment1['name'], outcome['name']), make_ate_fn(treatment2['name'], outcome['name']),\n",
    "                                      make_corr_fn(treatment1['name'], outcome['name']), make_corr_fn(treatment2['name'], outcome['name']), *cate_fns).t()\n",
    "\n",
    "print('\\n'.join(f'{node[\"name\"]!r} means {node[\"description\"]}' for node in ctx['nodes']))\n",
    "print(tabulate([\n",
    "    [f'{treatment1[\"values\"][1]}', f'{treatment1[\"name\"]}', f'{outcome[\"values\"][1]}', f'{outcome[\"name\"]}', ate1.mean(), corr1.mean(), ],\n",
    "    [f'{treatment2[\"values\"][1]}', f'{treatment2[\"name\"]}', f'{outcome[\"values\"][1]}', f'{outcome[\"name\"]}', ate2.mean(), corr2.mean(), ],\n",
    "], headers=['Treatment Value', 'Treatment', 'Outcome Value', 'Outcome', 'ATE', 'Correlation']))"
   ],
   "metadata": {
    "collapsed": false,
    "ExecuteTime": {
     "end_time": "2023-11-24T14:35:23.351357322Z",
     "start_time": "2023-11-24T14:35:19.843516934Z"
    }
   },
   "id": "72b141894423bdcb"
  },
  {
   "cell_type": "code",
   "execution_count": 81,
   "outputs": [
    {
     "data": {
      "text/plain": "<Figure size 800x400 with 1 Axes>",
      "image/png": "[encoded data removed]"
     },
     "metadata": {},
     "output_type": "display_data"
    },
    {
     "data": {
      "text/plain": "<Figure size 800x400 with 1 Axes>",
      "image/png": "[encoded data removed]"
     },
     "metadata": {},
     "output_type": "display_data"
    }
   ],
   "source": [
    "plt.figure(figsize=(8, 4))\n",
    "sns.kdeplot(ate1, label=f'{treatment1[\"values\"][1]} = {treatment1[\"name\"]}', fill=True, clip=(min(ate1), max(ate1)));\n",
    "sns.kdeplot(ate2, label=f'{treatment2[\"values\"][1]} = {treatment2[\"name\"]}', fill=True, clip=(min(ate2), max(ate2)));\n",
    "plt.title(f'{outcome[\"values\"][1]} = {outcome[\"name\"]}')\n",
    "plt.ylabel(f'P(ATE)')\n",
    "plt.gca().legend(loc='upper center', bbox_to_anchor=(0.5, -.1))\n",
    "plt.axvline(0, color='black', linestyle='--', alpha=0.5)\n",
    "# plt.xlim(-1, 1)\n",
    "plt.tight_layout();\n",
    "\n",
    "plt.figure(figsize=(8, 4))\n",
    "sns.kdeplot(corr1, label=f'{treatment1[\"values\"][1]} = {treatment1[\"name\"]}', fill=True, clip=(min(corr1), max(corr1)));\n",
    "sns.kdeplot(corr2, label=f'{treatment2[\"values\"][1]} = {treatment2[\"name\"]}', fill=True, clip=(min(corr2), max(corr2)));\n",
    "plt.title(f'{outcome[\"values\"][1]} = {outcome[\"name\"]}')\n",
    "plt.ylabel(f'P(Correlation)')\n",
    "plt.gca().legend(loc='upper center', bbox_to_anchor=(0.5, -.1))\n",
    "plt.axvline(0, color='black', linestyle='--', alpha=0.5)\n",
    "# plt.xlim(-1, 1)\n",
    "plt.tight_layout();"
   ],
   "metadata": {
    "collapsed": false,
    "ExecuteTime": {
     "end_time": "2023-11-24T14:35:23.796059760Z",
     "start_time": "2023-11-24T14:35:23.351439232Z"
    }
   },
   "id": "91c54e61480a1489"
  },
  {
   "cell_type": "code",
   "execution_count": 82,
   "outputs": [
    {
     "name": "stderr",
     "output_type": "stream",
     "text": [
      "/home/fleeb/miniconda3/lib/python3.11/site-packages/torch/masked/maskedtensor/core.py:156: UserWarning: The PyTorch API of MaskedTensors is in prototype stage and will change in the near future. Please open a Github issue for features requests and see our documentation on the torch.masked module for further information about the project.\n",
      "  warnings.warn((\"The PyTorch API of MaskedTensors is in prototype stage \"\n"
     ]
    },
    {
     "name": "stdout",
     "output_type": "stream",
     "text": [
      "Treatment                                            ATE    Correlation  Outcome\n",
      "-------------------------------------------------  -----  -------------  -------------------------------------------------\n",
      "Regular engagement Brain Stimulation Activities     0              0     Older age group Age\n",
      "Regular engagement Brain Stimulation Activities    -0              0     Regular exercise Physical Exercise\n",
      "Regular engagement Brain Stimulation Activities     0              0     Presence of predisposition Genetic Predisposition\n",
      "Regular engagement Brain Stimulation Activities    -0.1            0.01  Poor mental health Mental Health Status\n",
      "Regular engagement Brain Stimulation Activities    -0.02           0     Significant decline Cognitive Decline\n",
      "Regular engagement Brain Stimulation Activities     0.11           0.12  Good overall health Overall Health Status\n",
      "Older age group Age                                 0              0     Regular engagement Brain Stimulation Activities\n",
      "Older age group Age                                -0.3            0.18  Regular exercise Physical Exercise\n",
      "Older age group Age                                 0              0     Presence of predisposition Genetic Predisposition\n",
      "Older age group Age                                 0.06          -0.01  Poor mental health Mental Health Status\n",
      "Older age group Age                                 0.38          -0.07  Significant decline Cognitive Decline\n",
      "Older age group Age                                -0.18           0.05  Good overall health Overall Health Status\n",
      "Regular exercise Physical Exercise                  0              0     Regular engagement Brain Stimulation Activities\n",
      "Regular exercise Physical Exercise                  0              0.18  Older age group Age\n",
      "Regular exercise Physical Exercise                  0              0     Presence of predisposition Genetic Predisposition\n",
      "Regular exercise Physical Exercise                 -0.2           -0.07  Poor mental health Mental Health Status\n",
      "Regular exercise Physical Exercise                 -0.04          -0.01  Significant decline Cognitive Decline\n",
      "Regular exercise Physical Exercise                  0.11           0.28  Good overall health Overall Health Status\n",
      "Presence of predisposition Genetic Predisposition  -0              0     Regular engagement Brain Stimulation Activities\n",
      "Presence of predisposition Genetic Predisposition   0              0     Older age group Age\n",
      "Presence of predisposition Genetic Predisposition  -0              0     Regular exercise Physical Exercise\n",
      "Presence of predisposition Genetic Predisposition  -0              0     Poor mental health Mental Health Status\n",
      "Presence of predisposition Genetic Predisposition   0.1           -0.21  Significant decline Cognitive Decline\n",
      "Presence of predisposition Genetic Predisposition  -0.04          -0.01  Good overall health Overall Health Status\n",
      "Poor mental health Mental Health Status             0              0.01  Regular engagement Brain Stimulation Activities\n",
      "Poor mental health Mental Health Status             0             -0.01  Older age group Age\n",
      "Poor mental health Mental Health Status             0             -0.07  Regular exercise Physical Exercise\n",
      "Poor mental health Mental Health Status            -0              0     Presence of predisposition Genetic Predisposition\n",
      "Poor mental health Mental Health Status             0.19           0.03  Significant decline Cognitive Decline\n",
      "Poor mental health Mental Health Status            -0.08          -0.03  Good overall health Overall Health Status\n",
      "Significant decline Cognitive Decline               0              0     Regular engagement Brain Stimulation Activities\n",
      "Significant decline Cognitive Decline               0             -0.07  Older age group Age\n",
      "Significant decline Cognitive Decline               0             -0.01  Regular exercise Physical Exercise\n",
      "Significant decline Cognitive Decline               0             -0.21  Presence of predisposition Genetic Predisposition\n",
      "Significant decline Cognitive Decline               0              0.03  Poor mental health Mental Health Status\n",
      "Significant decline Cognitive Decline              -0.4            0.03  Good overall health Overall Health Status\n",
      "Good overall health Overall Health Status           0              0.12  Regular engagement Brain Stimulation Activities\n",
      "Good overall health Overall Health Status           0              0.05  Older age group Age\n",
      "Good overall health Overall Health Status           0              0.28  Regular exercise Physical Exercise\n",
      "Good overall health Overall Health Status           0             -0.01  Presence of predisposition Genetic Predisposition\n",
      "Good overall health Overall Health Status           0             -0.02  Poor mental health Mental Health Status\n",
      "Good overall health Overall Health Status           0              0.03  Significant decline Cognitive Decline\n"
     ]
    }
   ],
   "source": [
    "mn1, mx1 = ate1.min().item(), ate1.max().item()\n",
    "mu1 = ate1.mean().item()\n",
    "assert mn1 * mx1 > 0, f'{mn1} * {mx1} < 0'\n",
    "mn2, mx2 = ate2.min().item(), ate2.max().item()\n",
    "mu2 = ate2.mean().item()\n",
    "assert mn2 * mx2 > 0, f'{mn2} * {mx2} < 0'\n",
    "ctx['ate1'] = ate1.mean().item()\n",
    "ctx['ate2'] = ate2.mean().item()\n",
    "reverse1 = mu1 < 0\n",
    "reverse2 = mu2 < 0\n",
    "# print(tabulate([(node['name'], *node['values'], node['description']) for node in ctx['nodes']], headers=['Variable Name', 'Value 0', 'Value 1', 'Description']))\n",
    "# outcome = [node['name'] for node in ctx['nodes'] if node['type'] == 'outcome'][0]\n",
    "tbl = []\n",
    "\n",
    "for node1, node2 in product(ctx['nodes'], ctx['nodes']):\n",
    "    if node1 != node2:\n",
    "        tbl.append([\n",
    "                    f'{node1[\"values\"][1]} {node1[\"name\"]}', \n",
    "                    f\"{net.ate(node1['name'])[node2['name']].item():.2f}\", \n",
    "                    f\"{net.correlation(node1['name'], node2['name']).item():.2f}\",\n",
    "                    f'{node2[\"values\"][1]} {node2[\"name\"]}', \n",
    "                    # node1['description'], \n",
    "                    # node2['description'], \n",
    "                    ])\n",
    "print(tabulate(tbl, headers=['Treatment', 'ATE', 'Correlation', 'Outcome', \n",
    "                             # 'Treatment Description', 'Outcome Description'\n",
    "                             ]))"
   ],
   "metadata": {
    "collapsed": false,
    "ExecuteTime": {
     "end_time": "2023-11-24T14:35:26.231494301Z",
     "start_time": "2023-11-24T14:35:23.795092417Z"
    }
   },
   "id": "edc6313c83a358fc"
  },
  {
   "cell_type": "code",
   "execution_count": 83,
   "outputs": [
    {
     "name": "stdout",
     "output_type": "stream",
     "text": [
      "('Brain Stimulation Activities', 'Cognitive Decline', [])\n",
      "('Physical Exercise', 'Cognitive Decline', ['Age'])\n"
     ]
    }
   ],
   "source": [
    "print(net.backdoor_estimand(treatment1['name'], outcome['name']))\n",
    "print(net.backdoor_estimand(treatment2['name'], outcome['name']))"
   ],
   "metadata": {
    "collapsed": false,
    "ExecuteTime": {
     "end_time": "2023-11-24T14:35:26.247878142Z",
     "start_time": "2023-11-24T14:35:26.232363447Z"
    }
   },
   "id": "9f227b6c39d469e2"
  },
  {
   "cell_type": "code",
   "execution_count": 84,
   "outputs": [
    {
     "name": "stdout",
     "output_type": "stream",
     "text": [
      "We would like to find very natural verbalizations of the following binary variables selected from a statistical model. The verbalizations should sound more natural and organic, so that you could imagine them being used in a news paper article or casual conversation, while still being semantically equivalent to the original variable and value.\n",
      "\n",
      "Here are the templates that we use to verbalize the variables:\n",
      "\n",
      "1. One of the variables is {variable}.\n",
      "2. We estimate {subject} [often/usually/sometimes/rarely/etc.] {value}.\n",
      "3. There is a [number]% chance that {value}.\n",
      "4. [number]% of {domain} {value}.\n",
      "5. [number]% of the time {value}.\n",
      "6. Conditional sentence: {value}, [some consequence].\n",
      "7. Interventional: If {value}, [some effect].\n",
      "\n",
      "Variable 'Brain Stimulation Activities' (0='No engagement', 1='Regular engagement') means Engagement in brain stimulation activities\n",
      "Variable 'Age' (0='Younger age group', 1='Older age group') means Age group of the individual\n",
      "Variable 'Physical Exercise' (0='No regular exercise', 1='Regular exercise') means Engagement in physical exercise\n",
      "Variable 'Genetic Predisposition' (0='No predisposition', 1='Presence of predisposition') means Genetic predisposition to dementia\n",
      "Variable 'Mental Health Status' (0='Good mental health', 1='Poor mental health') means Current mental health status\n",
      "Variable 'Cognitive Decline' (0='No or minimal decline', 1='Significant decline') means Level of cognitive decline\n",
      "Variable 'Overall Health Status' (0='Poor overall health', 1='Good overall health') means Overall health status\n",
      "\n",
      "Here are some examples of verbalizations of the variable. For each of the templates fill in the blanks (and include 2-3 examples for each template). Format your response as a python dictionary. When replacing the key \"value\", make sure to include some examples for both values that the variables can take. For example, a variable \"Smoking Rate\" which takes the values \"Low Smoking Rate\"=0 and \"High Smoking Rate\"=1 can be verbalized like this:\n",
      "\n",
      "```python\n",
      "verbalizations = {\n",
      "  \"Smoking Rate\": {\n",
      "    1: {\"variable\": [\"the smoking rate\", \"proportion of smokers\"]}}},\n",
      "    2: {\"subject\": \"people\", \"value\": {0: [\"do not smoke\", \"are non-smokers\"], 1: [\"smoke\", \"are smokers\"]}}}},\n",
      "    3: {\"value\": {0: [\"people do not smoke\", \"people are non-smokers\"], 1: [\"people smoke\", \"people are smokers\"]}}}},\n",
      "    4: {\"domain\": \"people\", \"value\": {0: [\"do not smoke\", \"are non-smokers\"], 1: [\"smoke\", \"are smokers\"]}}}},\n",
      "    5: {\"value\": {0: [\"the smoking rate decreases\", \"people stop smoking\"], 1: [\"the smoking rate increases\", \"people start smoking\"]}}}},\n",
      "    6: {\"value\": {0: [\"For people that do not smoke\", \"Among non-smokers\"], 1: [\"For people that smoke\", \"Among smokers\"]}}}},\n",
      "    7: {\"value\": {0: [\"people quite smoking\", \"people become non-smokers\"], 1: [\"people become smokers\", \"people take up smoking\"]}}}},\n",
      "  }},\n",
      "  ...\n",
      "}\n",
      "```\n",
      "\n",
      "Answer concisely and precisely in the desired format, and only replace the blanks in curly braces. Do not add any additional comments or discussion. Most importantly, the verbalizations should not contain quantitative information like \"often\" or \"rarely\", and instead always assert the corresponding value.\n"
     ]
    }
   ],
   "source": [
    "# if 'prompt_verbs' in ctx:\n",
    "#     del ctx['prompt_verbs']\n",
    "print(ctx['prompt_verbs'])"
   ],
   "metadata": {
    "collapsed": false,
    "ExecuteTime": {
     "end_time": "2023-11-24T14:35:29.426357678Z",
     "start_time": "2023-11-24T14:35:29.391056099Z"
    }
   },
   "id": "a4f7df7140fd0547"
  },
  {
   "cell_type": "code",
   "execution_count": 49,
   "outputs": [],
   "source": [
    "# verbalizations = ctx['verbs']\n",
    "#######################################################################\n",
    "\n",
    "verbalizations = {\n",
    "    \"Refinery Age\": {\n",
    "        1: {\"variable\": [\"the age of the refinery\", \"how long the refinery has been operational\"]},\n",
    "        2: {\"subject\": \"the refinery\", \"value\": {0: [\"is a new facility\", \"has been recently established\"], 1: [\"has been operating for many years\", \"is an older establishment\"]}},\n",
    "        3: {\"value\": {0: [\"the refinery is newly built\", \"the refinery has been recently established\"], 1: [\"the refinery is quite old\", \"the refinery has many years of operation\"]}},\n",
    "        4: {\"domain\": \"refineries\", \"value\": {0: [\"are new establishments\", \"have been recently built\"], 1: [\"are older facilities\", \"have been operating for many years\"]}},\n",
    "        5: {\"value\": {0: [\"the refinery is a new establishment\", \"the refinery has been recently constructed\"], 1: [\"the refinery is an old establishment\", \"the refinery has been operating for a long time\"]}},\n",
    "        6: {\"value\": {0: [\"If the refinery is newly established\", \"In newer refineries\"], 1: [\"If the refinery has been around for many years\", \"In older refineries\"]}},\n",
    "        7: {\"value\": {0: [\"if the refinery is new\", \"if the refinery has just started operations\"], 1: [\"if the refinery is old\", \"if the refinery has been operating for decades\"]}},\n",
    "    },\n",
    "    \"Regulatory Oversight\": {\n",
    "        1: {\"variable\": [\"the level of regulatory oversight at the refinery\", \"how strictly the refinery is regulated\"]},\n",
    "        2: {\"subject\": \"the refinery\", \"value\": {0: [\"operates under weak regulatory oversight\", \"has minimal regulatory supervision\"], 1: [\"is subject to strong regulatory oversight\", \"is tightly regulated\"]}},\n",
    "        3: {\"value\": {0: [\"the refinery faces weak regulation\", \"regulatory oversight is minimal\"], 1: [\"there is strong regulation in place\", \"the oversight is stringent\"]}},\n",
    "        4: {\"domain\": \"refineries\", \"value\": {0: [\"operate under weak regulation\", \"have minimal regulatory supervision\"], 1: [\"are tightly regulated\", \"are subject to strong oversight\"]}},\n",
    "        5: {\"value\": {0: [\"regulation is lax\", \"oversight is minimal\"], 1: [\"regulation is stringent\", \"oversight is thorough\"]}},\n",
    "        6: {\"value\": {0: [\"Under weak regulatory oversight\", \"With minimal regulation\"], 1: [\"With strong regulatory oversight\", \"Under strict regulation\"]}},\n",
    "        7: {\"value\": {0: [\"if regulatory oversight is weak\", \"if regulation is minimal\"], 1: [\"if there is strong regulatory oversight\", \"if the refinery is tightly regulated\"]}},\n",
    "    },\n",
    "    \"Refinery Safety Protocols\": {\n",
    "        1: {\"variable\": [\"the safety protocols in place at the refinery\", \"how well the refinery follows safety guidelines\"]},\n",
    "        2: {\"subject\": \"the refinery\", \"value\": {0: [\"lacks adequate safety protocols\", \"has insufficient safety measures\"], 1: [\"maintains adequate safety protocols\", \"has robust safety measures\"]}},\n",
    "        3: {\"value\": {0: [\"safety protocols are inadequate\", \"safety measures are not up to standard\"], 1: [\"safety protocols are thoroughly implemented\", \"safety measures are comprehensive\"]}},\n",
    "        4: {\"domain\": \"refineries\", \"value\": {0: [\"lack adequate safety measures\", \"do not follow safety guidelines properly\"], 1: [\"have robust safety protocols\", \"adhere strictly to safety guidelines\"]}},\n",
    "        5: {\"value\": {0: [\"safety protocols are not followed properly\", \"safety measures are neglected\"], 1: [\"safety protocols are strictly followed\", \"safety measures are taken seriously\"]}},\n",
    "        6: {\"value\": {0: [\"If safety protocols are lacking\", \"In refineries with insufficient safety measures\"], 1: [\"When safety protocols are adequate\", \"In refineries with comprehensive safety measures\"]}},\n",
    "        7: {\"value\": {0: [\"if safety protocols are not followed\", \"if safety measures are inadequate\"], 1: [\"if safety protocols are well implemented\", \"if the refinery has strong safety measures\"]}},\n",
    "    },\n",
    "    \"Emergency Response Efficiency\": {\n",
    "        1: {\"variable\": [\"the efficiency of emergency response at the refinery\", \"how quickly the refinery responds to emergencies\"]},\n",
    "        2: {\"subject\": \"the emergency response team\", \"value\": {0: [\"is slow to respond to emergencies\", \"struggles with efficient response\"], 1: [\"responds swiftly to emergencies\", \"handles emergency situations efficiently\"]}},\n",
    "        3: {\"value\": {0: [\"emergency response is slow\", \"response to emergencies is not efficient\"], 1: [\"emergency response is quick\", \"there is an efficient response to emergencies\"]}},\n",
    "        4: {\"domain\": \"emergency response teams\", \"value\": {0: [\"are slow to react in crisis\", \"struggle with quick response\"], 1: [\"respond quickly in emergencies\", \"are efficient in crisis situations\"]}},\n",
    "        5: {\"value\": {0: [\"emergency response is often delayed\", \"efficiency in emergency situations is lacking\"], 1: [\"emergency response is prompt\", \"emergencies are handled with efficiency\"]}},\n",
    "        6: {\"value\": {0: [\"If the emergency response is sluggish\", \"When response to emergencies is inefficient\"], 1: [\"When the emergency response is quick\", \"If there is an efficient response to emergencies\"]}},\n",
    "        7: {\"value\": {0: [\"if the emergency response is slow\", \"if the response to emergencies is inefficient\"], 1: [\"if emergency response is quick\", \"if emergencies are handled efficiently\"]}},\n",
    "    },\n",
    "    \"Alarm System Efficiency\": {\n",
    "        1: {\"variable\": [\"the efficiency of the alarm system at the refinery\", \"how effective the refinery's alarm system is\"]},\n",
    "        2: {\"subject\": \"the alarm system\", \"value\": {0: [\"is not very effective\", \"often fails to alert in time\"], 1: [\"is highly efficient\", \"alerts promptly in case of emergencies\"]}},\n",
    "        3: {\"value\": {0: [\"the alarm system is inefficient\", \"alarms often fail to go off in time\"], 1: [\"the alarm system functions efficiently\", \"alarms are quick to alert in emergencies\"]}},\n",
    "        4: {\"domain\": \"alarm systems\", \"value\": {0: [\"are not very effective\", \"often fail to alert in time\"], 1: [\"are highly efficient\", \"alert promptly in emergencies\"]}},\n",
    "        5: {\"value\": {0: [\"the alarm system often malfunctions\", \"there are delays in the alarm system\"], 1: [\"the alarm system works efficiently\", \"alarms go off promptly\"]}},\n",
    "        6: {\"value\": {0: [\"If the alarm system is inefficient\", \"When alarms fail to alert in time\"], 1: [\"When the alarm system is efficient\", \"If alarms promptly alert in emergencies\"]}},\n",
    "        7: {\"value\": {0: [\"if the alarm system is not effective\", \"if the alarms fail to alert in time\"], 1: [\"if the alarm system is efficient\", \"if alarms quickly signal emergencies\"]}},\n",
    "    },\n",
    "    \"Human Casualties\": {\n",
    "        1: {\"variable\": [\"the occurrence of casualties in the refinery incident\", \"whether there were casualties as a result of the incident\"]},\n",
    "        2: {\"subject\": \"the incident\", \"value\": {0: [\"did not result in any casualties\", \"was without any loss of life\"], 1: [\"led to casualties\", \"resulted in loss of life\"]}},\n",
    "        3: {\"value\": {0: [\"there were no casualties\", \"there was no loss of life\"], 1: [\"there were casualties\", \"loss of life occurred\"]}},\n",
    "        4: {\"domain\": \"incidents\", \"value\": {0: [\"result in no casualties\", \"do not lead to loss of life\"], 1: [\"lead to casualties\", \"result in loss of life\"]}},\n",
    "        5: {\"value\": {0: [\"casualties are avoided\", \"there is no loss of life\"], 1: [\"casualties occur\", \"there is loss of life\"]}},\n",
    "        6: {\"value\": {0: [\"If there are no casualties\", \"When there is no loss of life\"], 1: [\"If casualties occur\", \"When there is loss of life\"]}},\n",
    "        7: {\"value\": {0: [\"if there are no casualties\", \"if there is no loss of life\"], 1: [\"if there are casualties\", \"if loss of life occurs\"]}},\n",
    "    },\n",
    "    \"Media Coverage\": {\n",
    "        1: {\n",
    "            \"variable\": [\"the extent of media coverage\", \"media attention\", \"coverage in the news\"]\n",
    "        },\n",
    "        2: {\n",
    "            \"subject\": \"this incident\",\n",
    "            \"value\": {\n",
    "                0: [\"received minimal media attention\", \"was scarcely covered by the media\", \"got limited coverage in the news\"],\n",
    "                1: [\"was widely covered in the media\", \"received extensive media coverage\", \"was a major story in the news\"]\n",
    "            }\n",
    "        },\n",
    "        3: {\n",
    "            \"value\": {\n",
    "                0: [\"the incident gets minimal media attention\", \"there is limited coverage of the incident\", \"the event is scarcely covered in the news\"],\n",
    "                1: [\"the incident receives widespread media attention\", \"there is extensive coverage of the incident\", \"the event is prominently featured in the news\"]\n",
    "            }\n",
    "        },\n",
    "        4: {\n",
    "            \"domain\": \"incidents\",\n",
    "            \"value\": {\n",
    "                0: [\"receive minimal media attention\", \"get limited coverage in the news\", \"are scarcely covered by the media\"],\n",
    "                1: [\"are widely covered in the media\", \"receive extensive media coverage\", \"become major stories in the news\"]\n",
    "            }\n",
    "        },\n",
    "        5: {\n",
    "            \"value\": {\n",
    "                0: [\"the incident receives minimal media attention\", \"there is limited coverage of the event\", \"the event is scarcely mentioned in the news\"],\n",
    "                1: [\"the incident receives extensive media attention\", \"there is widespread coverage of the event\", \"the event dominates news headlines\"]\n",
    "            }\n",
    "        },\n",
    "        6: {\n",
    "            \"value\": {\n",
    "                0: [\"With limited media coverage\", \"When the media scarcely covers the incident\", \"If the event receives minimal attention in the news\"],\n",
    "                1: [\"With extensive media coverage\", \"When the media widely covers the incident\", \"If the event is prominently featured in the news\"]\n",
    "            }\n",
    "        },\n",
    "        7: {\n",
    "            \"value\": {\n",
    "                0: [\"if the incident receives minimal media attention\", \"if there is limited coverage of the event\", \"if the event is scarcely mentioned in the news\"],\n",
    "                1: [\"if the incident receives extensive media coverage\", \"if there is widespread coverage of the event\", \"if the event dominates news headlines\"]\n",
    "            }\n",
    "        }\n",
    "    }\n",
    "}\n",
    "\n",
    "\n",
    "#######################################################################\n",
    "ctx['verbs'] = verbalizations"
   ],
   "metadata": {
    "collapsed": false,
    "ExecuteTime": {
     "end_time": "2023-11-24T14:04:56.872083841Z",
     "start_time": "2023-11-24T14:04:56.805289334Z"
    }
   },
   "id": "73d2b62e8d93e205"
  },
  {
   "cell_type": "code",
   "execution_count": 50,
   "outputs": [
    {
     "name": "stdout",
     "output_type": "stream",
     "text": [
      "We have a causal bayes net based on the following article:\n",
      "\n",
      "```\n",
      "Title: Huge fire and explosion at oil refinery in Indonesia - RTL News\n",
      "Description: A huge fire has broken out at an oil refinery on the Indonesian island of Java. Images show a huge blaze and a gigantic explosion can be heard. Hundreds of people have been evacuated. Five people have been injured so far.\n",
      "Original Language: Dutch\n",
      "```\n",
      "\n",
      "Now we would like to use this model to generate some interesting research questions:\n",
      "\n",
      "1. Write a short two sentence introduction to describe motivation and purpose of the causal model to provide context to the questions in an conversational/debate setting. Where possible, include relevant details from the original article headline or related information you can infer therefrom. Avoid discussing specific structural properties or assumptions in the causal graph, and instead focus on the overall motivation and potential applications for the model. Refrain from mentioning words like \"causal inference\" or \"model\".\n",
      "Make sure not to use any technical terms from causal inference so that the introduction is easy to understand even for a layperson, as if this were in a newspaper or casual discussion.\n",
      "2. Write a short two sentence overview of the structure of the causal graph including noteworthy properties and assumptions. Use an intuitive conversational style to describe the causal graph, and avoid using technical terms or jargon, but you can describe the variables and their relationships (including using terms like \"confounder\"/\"confounding\", \"mediator\"/\"mediates\") as long as you explain them in a way that is understandable to a layperson.\n",
      "3. Verbalize an interesting \"yes\"/\"no\" question where the correct answer depends computation of each of the following quantities:\n",
      "\n",
      "\t1. ATE('Refinery Safety Protocols') > 0\n",
      "\t2. ATE('Emergency Response Efficiency') < 0\n",
      "\t3. ATE('Refinery Safety Protocols') < ATE('Emergency Response Efficiency')\n",
      "\t4. |ATE('Refinery Safety Protocols')| > |ATE('Emergency Response Efficiency')|\n",
      "\t5. CATE('Refinery Safety Protocols' | 'Refinery Age' = 0) < 0\n",
      "\t6. CATE('Emergency Response Efficiency' | 'Refinery Age' = 0) < 0\n",
      "\t7. CATE('Refinery Safety Protocols' | 'Refinery Age' = 0) < CATE('Emergency Response Efficiency' | 'Refinery Age' = 0)\n",
      "\t8. |CATE('Refinery Safety Protocols' | 'Refinery Age' = 0)| > |CATE('Emergency Response Efficiency' | 'Refinery Age' = 0)|\n",
      "\t9. CATE('Refinery Safety Protocols' | 'Refinery Age' = 1) > 0\n",
      "\t10. CATE('Emergency Response Efficiency' | 'Refinery Age' = 1) > 0\n",
      "\t11. CATE('Emergency Response Efficiency' | 'Refinery Age' = 1) > CATE('Refinery Safety Protocols' | 'Refinery Age' = 1)\n",
      "\t12. |CATE('Refinery Safety Protocols' | 'Refinery Age' = 1)| > |CATE('Emergency Response Efficiency' | 'Refinery Age' = 1)|\n",
      "\t13. CATE('Refinery Safety Protocols' | 'Refinery Age' = 1) < CATE('Refinery Safety Protocols' | 'Refinery Age' = 0)\n",
      "\t14. |CATE('Refinery Safety Protocols' | 'Refinery Age' = 1)| < |CATE('Refinery Safety Protocols' | 'Refinery Age' = 0)|\n",
      "\t15. CATE('Emergency Response Efficiency' | 'Refinery Age' = 0) < CATE('Emergency Response Efficiency' | 'Refinery Age' = 1)\n",
      "\t16. |CATE('Emergency Response Efficiency' | 'Refinery Age' = 0)| < |CATE('Emergency Response Efficiency' | 'Refinery Age' = 1)|\n",
      "\t17. CATE('Refinery Safety Protocols' | 'Regulatory Oversight' = 0) > 0\n",
      "\t18. CATE('Emergency Response Efficiency' | 'Regulatory Oversight' = 0) < 0\n",
      "\t19. CATE('Refinery Safety Protocols' | 'Regulatory Oversight' = 0) < CATE('Emergency Response Efficiency' | 'Regulatory Oversight' = 0)\n",
      "\t20. |CATE('Refinery Safety Protocols' | 'Regulatory Oversight' = 0)| > |CATE('Emergency Response Efficiency' | 'Regulatory Oversight' = 0)|\n",
      "\t21. CATE('Refinery Safety Protocols' | 'Regulatory Oversight' = 1) < 0\n",
      "\t22. CATE('Emergency Response Efficiency' | 'Regulatory Oversight' = 1) < 0\n",
      "\t23. CATE('Emergency Response Efficiency' | 'Regulatory Oversight' = 1) > CATE('Refinery Safety Protocols' | 'Regulatory Oversight' = 1)\n",
      "\t24. |CATE('Emergency Response Efficiency' | 'Regulatory Oversight' = 1)| < |CATE('Refinery Safety Protocols' | 'Regulatory Oversight' = 1)|\n",
      "\t25. CATE('Refinery Safety Protocols' | 'Regulatory Oversight' = 0) > CATE('Refinery Safety Protocols' | 'Regulatory Oversight' = 1)\n",
      "\t26. |CATE('Refinery Safety Protocols' | 'Regulatory Oversight' = 1)| > |CATE('Refinery Safety Protocols' | 'Regulatory Oversight' = 0)|\n",
      "\t27. CATE('Emergency Response Efficiency' | 'Regulatory Oversight' = 1) < CATE('Emergency Response Efficiency' | 'Regulatory Oversight' = 0)\n",
      "\t28. |CATE('Emergency Response Efficiency' | 'Regulatory Oversight' = 0)| > |CATE('Emergency Response Efficiency' | 'Regulatory Oversight' = 1)|\n",
      "\n",
      "Where \"| * |\" is the absolute value and the definitions of \"ATE('X')\" (average treatment effect) and \"CATE('X' | 'U'=u)\" are:\n",
      "\n",
      "ATE('X') = E['Y' | do('X' = 1)] - E['Y' | do('X' = 0)]\n",
      "CATE('X' | 'U'=u) = E['Y' | 'U'=u, do('X' = 1)] - E['Y' | 'U'=u, do('X' = 0)]\n",
      "\n",
      "Where 'X' is a treatment variable, 'Y' is the outcome variable, and 'U' is a confounder variable.\n",
      "\n",
      "4. In addition to the questions and associated answers include a one sentence explanation for each question, and \"wrong_explanation\" which is just like the explanation but argues for the opposite answer.\n",
      "\n",
      "The meanings of all the variables (all of which are binary) in the statistical model are:\n",
      "\n",
      "Variable 'Refinery Age' (0='New refinery', 1='Old refinery') means Age of the refinery\n",
      "Variable 'Regulatory Oversight' (0='Weak regulation', 1='Strong regulation') means Level of regulatory oversight at the refinery\n",
      "Variable 'Refinery Safety Protocols' (0='Inadequate safety protocols', 1='Adequate safety protocols') means Safety protocols in place at the refinery\n",
      "Variable 'Emergency Response Efficiency' (0='Inefficient emergency response', 1='Efficient emergency response') means Efficiency of emergency response following the incident\n",
      "Variable 'Alarm System Efficiency' (0='Inefficient alarm system', 1='Efficient alarm system') means Efficiency of the alarm system at the refinery\n",
      "Variable 'Human Casualties' (0='No casualties', 1='Casualties occurred') means Casualties as a result of the refinery incident\n",
      "Variable 'Media Coverage' (0='Limited coverage', 1='Extensive coverage') means Extent of media coverage of the incident\n",
      "\n",
      "Answer in the form of a python dictionary in the following format:\n",
      "\n",
      "```python\n",
      "setting = {\n",
      "  \"introduction\": \"[introduction]\",\n",
      "  \"overview\": \"[overview]\",\n",
      "  \"questions\": {\n",
      "    1: {\"question\": \"[question]\", \"answer\": \"yes\", \"explanation\": \"[explanation]\", \"wrong_explanation\": \"[wrong_explanation]\"}}},\n",
      "    ...\n",
      "  }},\n",
      "}\n",
      "```\n",
      "Answer concisely and precisely in the desired format. Do not add any additional comments or discussion. Most importantly, do not use any technical terms from causal inference such as ATE or CATE in the questions and explanations so that everything is easy to understand even for a layperson.\n"
     ]
    }
   ],
   "source": [
    "# if 'prompt_questions' in ctx:\n",
    "#     del ctx['prompt_questions']\n",
    "print(ctx['prompt_questions'])"
   ],
   "metadata": {
    "collapsed": false,
    "ExecuteTime": {
     "end_time": "2023-11-24T14:04:57.305775672Z",
     "start_time": "2023-11-24T14:04:57.261710336Z"
    }
   },
   "id": "e7a104d246a371ac"
  },
  {
   "cell_type": "code",
   "execution_count": 53,
   "outputs": [],
   "source": [
    "# setting = ctx['questions']\n",
    "#######################################################################\n",
    "\n",
    "setting = {\n",
    "    \"introduction\": \"Following a major fire and explosion at an oil refinery in Java, Indonesia, there's a growing interest in understanding the factors that might have influenced the severity of this incident. This exploration could help in improving safety measures and emergency responses for future incidents.\",\n",
    "    \"overview\": \"In our exploration, we consider several factors such as the age of the refinery, the level of safety protocols in place, and the efficiency of the emergency response. These factors, along with regulatory oversight, help us understand their influence on the likelihood of casualties and the extent of media coverage.\",\n",
    "    \"questions\": {\n",
    "        1: {\n",
    "            \"question\": \"Is implementing adequate safety protocols at the refinery likely to reduce the chance of casualties?\",\n",
    "            \"answer\": \"yes\",\n",
    "            \"explanation\": \"Adequate safety protocols are expected to lower the risk of casualties in such incidents.\",\n",
    "            \"wrong_explanation\": \"Adequate safety protocols may not significantly impact the likelihood of casualties due to other overriding factors.\"\n",
    "        },\n",
    "        2: {\n",
    "            \"question\": \"Does a more efficient emergency response tend to increase the chance of casualties?\",\n",
    "            \"answer\": \"no\",\n",
    "            \"explanation\": \"An efficient emergency response is generally associated with a reduced likelihood of casualties.\",\n",
    "            \"wrong_explanation\": \"An efficient emergency response might inadvertently increase the risk of casualties due to unforeseen complications.\"\n",
    "        },\n",
    "        3: {\n",
    "            \"question\": \"Are the benefits of efficient emergency response greater than those of having adequate safety protocols in preventing casualties?\",\n",
    "            \"answer\": \"no\",\n",
    "            \"explanation\": \"While both are important, adequate safety protocols typically have a more direct impact on preventing casualties than the efficiency of emergency response.\",\n",
    "            \"wrong_explanation\": \"The efficiency of emergency response is generally more crucial than safety protocols in reducing casualties.\"\n",
    "        },\n",
    "        4: {\n",
    "            \"question\": \"Is the impact of having adequate safety protocols on preventing casualties greater than that of an efficient emergency response?\",\n",
    "            \"answer\": \"yes\",\n",
    "            \"explanation\": \"Implementing adequate safety protocols often has a more substantial effect on reducing casualties compared to the efficiency of emergency response.\",\n",
    "            \"wrong_explanation\": \"The efficiency of emergency response generally has a greater impact on casualty reduction than the presence of adequate safety protocols.\"\n",
    "        },\n",
    "        5: {\n",
    "            \"question\": \"In the context of newer refineries, does implementing adequate safety protocols reduce the chance of casualties?\",\n",
    "            \"answer\": \"no\",\n",
    "            \"explanation\": \"For newer refineries, the implementation of safety protocols might not significantly decrease the likelihood of casualties due to modern design and technology already in place.\",\n",
    "            \"wrong_explanation\": \"Even in newer refineries, the implementation of adequate safety protocols is crucial for significantly reducing the chance of casualties.\"\n",
    "        },\n",
    "        6: {\n",
    "            \"question\": \"Does a more efficient emergency response in newer refineries tend to reduce the chance of casualties?\",\n",
    "            \"answer\": \"no\",\n",
    "            \"explanation\": \"In newer refineries, the existing advanced infrastructure and technology might diminish the relative importance of emergency response efficiency in reducing casualties.\",\n",
    "            \"wrong_explanation\": \"Efficient emergency response is particularly effective in newer refineries in lowering the risk of casualties.\"\n",
    "        },\n",
    "        7: {\n",
    "            \"question\": \"For new refineries, is the impact of efficient emergency response on reducing casualties less than that of implementing adequate safety protocols?\",\n",
    "            \"answer\": \"yes\",\n",
    "            \"explanation\": \"In the setting of new refineries, safety protocols are likely to have a greater impact on casualty reduction than the efficiency of emergency response due to advanced design and technology.\",\n",
    "            \"wrong_explanation\": \"In new refineries, emergency response efficiency is generally more crucial than safety protocols in reducing casualties.\"\n",
    "        },\n",
    "        8: {\n",
    "            \"question\": \"In new refineries, is the effectiveness of safety protocols in preventing casualties greater than that of emergency response efficiency?\",\n",
    "            \"answer\": \"yes\",\n",
    "            \"explanation\": \"Given the modern infrastructure of new refineries, the role of safety protocols in preventing casualties is likely more pronounced than that of emergency response efficiency.\",\n",
    "            \"wrong_explanation\": \"Emergency response efficiency is more significant than safety protocols in preventing casualties in new refineries.\"\n",
    "        },\n",
    "        9: {\n",
    "            \"question\": \"In older refineries, does implementing adequate safety protocols increase the chance of casualties?\",\n",
    "            \"answer\": \"no\",\n",
    "            \"explanation\": \"In older refineries, adequate safety protocols are crucial and likely help in reducing the chance of casualties.\",\n",
    "            \"wrong_explanation\": \"Adequate safety protocols in older refineries might inadvertently lead to an increased chance of casualties due to outdated infrastructure.\"\n",
    "        },\n",
    "        10: {\n",
    "            \"question\": \"Is a more efficient emergency response in older refineries associated with a decrease in casualties?\",\n",
    "            \"answer\": \"yes\",\n",
    "            \"explanation\": \"In the context of older refineries, efficient emergency response can be particularly effective in reducing casualties.\",\n",
    "            \"wrong_explanation\": \"In older refineries, the efficiency of emergency response might not significantly impact the likelihood of casualties.\"\n",
    "        },\n",
    "        11: {\n",
    "            \"question\": \"In older refineries, does emergency response efficiency have a greater effect on casualty reduction than safety protocols?\",\n",
    "            \"answer\": \"no\",\n",
    "            \"explanation\": \"Despite their age, safety protocols in older refineries are likely more influential in reducing casualties than the efficiency of emergency response.\",\n",
    "            \"wrong_explanation\": \"For older refineries, the efficiency of emergency response is usually more important than safety protocols in preventing casualties.\"\n",
    "        },\n",
    "        12: {\n",
    "            \"question\": \"Does the effectiveness of safety protocols in preventing casualties exceed that of emergency response efficiency in older refineries?\",\n",
    "            \"answer\": \"yes\",\n",
    "            \"explanation\": \"Due to potential outdated infrastructure in older refineries, the role of safety protocols in reducing casualties is likely more significant than that of emergency response efficiency.\",\n",
    "            \"wrong_explanation\": \"In older refineries, emergency response efficiency tends to be more crucial than safety protocols in reducing casualties.\"\n",
    "        },\n",
    "        13: {\n",
    "            \"question\": \"Is the effect of safety protocols on reducing casualties lesser in older refineries compared to newer ones?\",\n",
    "            \"answer\": \"no\",\n",
    "            \"explanation\": \"Safety protocols may be equally if not more important in older refineries due to potential risks associated with outdated infrastructure.\",\n",
    "            \"wrong_explanation\": \"In older refineries, the implementation of safety protocols is less effective in reducing casualties compared to newer refineries.\"\n",
    "        },\n",
    "        14: {\n",
    "            \"question\": \"Is the importance of safety protocols in preventing casualties lower in older refineries than in newer ones?\",\n",
    "            \"answer\": \"yes\",\n",
    "            \"explanation\": \"The effectiveness of safety protocols might be somewhat diminished in older refineries due to their aging infrastructure compared to newer ones.\",\n",
    "            \"wrong_explanation\": \"Safety protocols tend to be more effective in older refineries than in newer ones due to the increased risks associated with older infrastructure.\"\n",
    "        },\n",
    "        15: {\n",
    "            \"question\": \"Does emergency response efficiency have a smaller impact on reducing casualties in new refineries compared to old ones?\",\n",
    "            \"answer\": \"yes\",\n",
    "            \"explanation\": \"In new refineries, the advanced design and technology might reduce the relative impact of emergency response efficiency compared to older refineries.\",\n",
    "            \"wrong_explanation\": \"Emergency response efficiency is likely more impactful in new refineries due to their modern infrastructure and technology.\"\n",
    "        },\n",
    "        16: {\n",
    "            \"question\": \"Is the impact of emergency response efficiency on casualty reduction lesser in new refineries compared to old ones?\",\n",
    "            \"answer\": \"yes\",\n",
    "            \"explanation\": \"The modern infrastructure of new refineries might make the efficiency of emergency response less critical in reducing casualties compared to older refineries.\",\n",
    "            \"wrong_explanation\": \"In new refineries, the efficiency of emergency response plays a more crucial role in reducing casualties compared to older refineries.\"\n",
    "        },\n",
    "        17: {\n",
    "            \"question\": \"Under weak regulatory oversight, does implementing adequate safety protocols at the refinery increase the chance of casualties?\",\n",
    "            \"answer\": \"no\",\n",
    "            \"explanation\": \"Even under weak regulatory oversight, adequate safety protocols are likely to help in reducing the chance of casualties.\",\n",
    "            \"wrong_explanation\": \"Adequate safety protocols might be less effective under weak regulatory oversight, potentially leading to an increased chance of casualties.\"\n",
    "        },\n",
    "        18: {\n",
    "            \"question\": \"With weak regulation, does a more efficient emergency response tend to increase the chance of casualties?\",\n",
    "            \"answer\": \"no\",\n",
    "            \"explanation\": \"An efficient emergency response is expected to reduce the chance of casualties, even under weak regulatory oversight.\",\n",
    "            \"wrong_explanation\": \"Under weak regulation, efficient emergency response might inadvertently increase the chance of casualties.\"\n",
    "        },\n",
    "        19: {\n",
    "            \"question\": \"Under weak regulatory oversight, is the benefit of efficient emergency response in reducing casualties less than that of implementing adequate safety protocols?\",\n",
    "            \"answer\": \"yes\",\n",
    "            \"explanation\": \"Even with weak regulation, safety protocols might be more crucial than emergency response efficiency in reducing casualties.\",\n",
    "            \"wrong_explanation\": \"Under weak regulation, the efficiency of emergency response is generally more important than safety protocols in reducing casualties.\"\n",
    "        },\n",
    "        20: {\n",
    "            \"question\": \"With weak regulation, is the impact of safety protocols on preventing casualties greater than that of emergency response efficiency?\",\n",
    "            \"answer\": \"yes\",\n",
    "            \"explanation\": \"Safety protocols likely play a more significant role in reducing casualties than emergency response efficiency, even under weak regulatory oversight.\",\n",
    "            \"wrong_explanation\": \"Emergency response efficiency tends to have a greater impact than safety protocols under weak regulatory conditions.\"\n",
    "        },\n",
    "        21: {\n",
    "            \"question\": \"Is the improvement in safety protocols at the refinery less noticeable under strong regulatory oversight compared to weak oversight?\",\n",
    "            \"answer\": \"yes\",\n",
    "            \"explanation\": \"Strong regulatory oversight likely ensures high safety standards to begin with, making additional improvements less pronounced.\",\n",
    "            \"wrong_explanation\": \"Strong regulatory oversight could lead to more significant improvements in safety protocols compared to weak oversight.\"\n",
    "        },\n",
    "        22: {\n",
    "            \"question\": \"Does the efficiency of emergency response tend to decrease when regulatory oversight is strong?\",\n",
    "            \"answer\": \"yes\",\n",
    "            \"explanation\": \"In a strongly regulated environment, emergency response may already be at a high level, making further improvements less likely.\",\n",
    "            \"wrong_explanation\": \"Strong regulatory oversight generally leads to continuous improvements in emergency response efficiency.\"\n",
    "        },\n",
    "        23: {\n",
    "            \"question\": \"Is the impact of strong regulatory oversight greater on emergency response efficiency than on safety protocols?\",\n",
    "            \"answer\": \"yes\",\n",
    "            \"explanation\": \"Regulatory oversight might more directly influence emergency response processes compared to safety protocols.\",\n",
    "            \"wrong_explanation\": \"Safety protocols are more likely to be influenced by regulatory oversight than emergency response efficiency.\"\n",
    "        },\n",
    "        24: {\n",
    "            \"question\": \"Is the variation in emergency response efficiency under strong oversight less than the variation in safety protocols?\",\n",
    "            \"answer\": \"yes\",\n",
    "            \"explanation\": \"Strong oversight might standardize emergency response more consistently than it does safety protocols.\",\n",
    "            \"wrong_explanation\": \"Safety protocols under strong oversight might show less variation compared to emergency response efficiency.\"\n",
    "        },\n",
    "        25: {\n",
    "            \"question\": \"Are safety protocols at the refinery more likely to be adequate under weak regulation than under strong regulation?\",\n",
    "            \"answer\": \"no\",\n",
    "            \"explanation\": \"Strong regulation typically enforces stricter safety standards than weak regulation.\",\n",
    "            \"wrong_explanation\": \"Weak regulation allows for greater flexibility and innovation in safety protocols, potentially leading to higher adequacy.\"\n",
    "        },\n",
    "        26: {\n",
    "            \"question\": \"Is the difference in safety protocols more pronounced under strong regulation than under weak regulation?\",\n",
    "            \"answer\": \"yes\",\n",
    "            \"explanation\": \"Strong regulation likely results in more uniform and consistently higher safety standards, leading to a greater difference compared to weak regulation.\",\n",
    "            \"wrong_explanation\": \"Weak regulation might lead to a larger variance in safety protocols as companies are left to their own devices.\"\n",
    "        },\n",
    "        27: {\n",
    "            \"question\": \"Does emergency response efficiency improve more in the presence of weak regulatory oversight compared to strong oversight?\",\n",
    "            \"answer\": \"no\",\n",
    "            \"explanation\": \"Strong regulatory oversight typically ensures higher standards of emergency response, leaving less room for improvement.\",\n",
    "            \"wrong_explanation\": \"Weak regulatory oversight provides more opportunity for significant improvements in emergency response efficiency.\"\n",
    "        },\n",
    "        28: {\n",
    "            \"question\": \"Is there less variability in emergency response efficiency under weak regulatory oversight than under strong oversight?\",\n",
    "            \"answer\": \"no\",\n",
    "            \"explanation\": \"Strong regulatory oversight likely leads to more consistent standards in emergency response, reducing variability.\",\n",
    "            \"wrong_explanation\": \"Weak regulatory oversight might result in more standardized emergency response practices, decreasing variability.\"\n",
    "        }\n",
    "    }\n",
    "}\n",
    "\n",
    "\n",
    "#######################################################################\n",
    "ctx['questions'] = setting"
   ],
   "metadata": {
    "collapsed": false,
    "ExecuteTime": {
     "end_time": "2023-11-24T14:11:20.018539349Z",
     "start_time": "2023-11-24T14:11:19.952143405Z"
    }
   },
   "id": "15ee584645d0a66d"
  },
  {
   "cell_type": "code",
   "execution_count": null,
   "outputs": [],
   "source": [],
   "metadata": {
    "collapsed": false
   },
   "id": "4dde4b628b5f1463"
  },
  {
   "cell_type": "code",
   "execution_count": 54,
   "outputs": [
    {
     "data": {
      "text/plain": "PosixPath('/home/fleeb/workspace/code/cladder/novo-data/stories/test19.json')"
     },
     "execution_count": 54,
     "metadata": {},
     "output_type": "execute_result"
    }
   ],
   "source": [
    "i = len(list(ctx._root.glob(\"*.json\")))+1\n",
    "path = ctx._root / f'test{i}'\n",
    "while path.exists():\n",
    "    i += 1\n",
    "    path = ctx._root / f'test{i}'\n",
    "ctx.save(path.stem if ctx.story_id is None else ctx.story_id)"
   ],
   "metadata": {
    "collapsed": false,
    "ExecuteTime": {
     "end_time": "2023-11-24T14:11:22.038191945Z",
     "start_time": "2023-11-24T14:11:22.009500211Z"
    }
   },
   "id": "6135ec55dcfc66cb"
  },
  {
   "cell_type": "code",
   "execution_count": 58,
   "outputs": [],
   "source": [
    "ctx['stats'] = {int(k): v for k, v in ctx['stats'].items()}\n",
    "ctx['verbs'] = {k: {int(k2): v2 for k2, v2 in v.items()} for k, v in ctx['verbs'].items()}\n",
    "for k, v in ctx['verbs'].items():\n",
    "    for k2, v2 in v.items():\n",
    "        if 'value' in v2:\n",
    "            v2['value'] = {int(k3): v3 for k3, v3 in v2['value'].items()}\n",
    "ctx['questions']['questions'] = {int(k): v for k, v in ctx['questions']['questions'].items()}"
   ],
   "metadata": {
    "collapsed": false,
    "ExecuteTime": {
     "end_time": "2023-11-24T14:15:31.442565243Z",
     "start_time": "2023-11-24T14:15:31.368187683Z"
    }
   },
   "id": "a3ecd05075012115"
  },
  {
   "cell_type": "code",
   "execution_count": 59,
   "outputs": [],
   "source": [
    "rawverbs = ctx['verbs']\n",
    "rawvars = {node['name']: node for node in ctx['nodes']}"
   ],
   "metadata": {
    "collapsed": false,
    "ExecuteTime": {
     "end_time": "2023-11-24T14:15:36.546437574Z",
     "start_time": "2023-11-24T14:15:36.510030990Z"
    }
   },
   "id": "812ee6056e37cd92"
  },
  {
   "cell_type": "code",
   "execution_count": 60,
   "outputs": [
    {
     "name": "stdout",
     "output_type": "stream",
     "text": [
      "('Refinery Safety Protocols', 'Human Casualties', ['Emergency Response Efficiency'])\n",
      "('Emergency Response Efficiency', 'Human Casualties', ['Refinery Safety Protocols'])\n"
     ]
    }
   ],
   "source": [
    "print(net.backdoor_estimand(treatment1['name'], outcome['name']))\n",
    "print(net.backdoor_estimand(treatment2['name'], outcome['name']))"
   ],
   "metadata": {
    "collapsed": false,
    "ExecuteTime": {
     "end_time": "2023-11-24T14:15:37.072221639Z",
     "start_time": "2023-11-24T14:15:37.037262223Z"
    }
   },
   "id": "868f7eddeea4a0bd"
  },
  {
   "cell_type": "code",
   "execution_count": 61,
   "outputs": [
    {
     "name": "stdout",
     "output_type": "stream",
     "text": [
      "\t3. ATE('Refinery Safety Protocols') < ATE('Emergency Response Efficiency')\n",
      "{'treatment1': 'Refinery Safety Protocols', 'treatment2': 'Emergency Response Efficiency', 'query': 'ate', 'type': 'ate-compare', 'criterion': '<'}\n"
     ]
    },
    {
     "data": {
      "text/plain": "{'question': 'Are the benefits of efficient emergency response greater than those of having adequate safety protocols in preventing casualties?',\n 'answer': 'no',\n 'explanation': 'While both are important, adequate safety protocols typically have a more direct impact on preventing casualties than the efficiency of emergency response.',\n 'wrong_explanation': 'The efficiency of emergency response is generally more crucial than safety protocols in reducing casualties.'}"
     },
     "execution_count": 61,
     "metadata": {},
     "output_type": "execute_result"
    }
   ],
   "source": [
    "qkey = random.choice(list(ctx['questions']['questions']))\n",
    "qkey = 3\n",
    "qinfo = ctx['questions']['questions'][qkey]\n",
    "query = ctx['queries'][qkey-1]\n",
    "print(ctx['query_description'].split('\\n')[qkey-1])\n",
    "print(query)\n",
    "qinfo"
   ],
   "metadata": {
    "collapsed": false,
    "ExecuteTime": {
     "end_time": "2023-11-24T14:15:51.271010738Z",
     "start_time": "2023-11-24T14:15:51.235721505Z"
    }
   },
   "id": "72b12b18af21c3b0"
  },
  {
   "cell_type": "code",
   "execution_count": null,
   "outputs": [],
   "source": [
    "# 1. One of the variables is {variable}.\n",
    "# 2. We estimate {subject} [often/usually/sometimes/rarely/etc.] {value}.\n",
    "# 3. There is a [number]% chance that {value}.\n",
    "# 4. [number]% of {domain} {value}.\n",
    "# 5. [number]% of the time {value}.\n",
    "# 6. Conditional sentence: {value}, [some consequence].\n",
    "# 7. Interventional: If {value}, [some effect]."
   ],
   "metadata": {
    "collapsed": false
   },
   "id": "705ad18c9db5c863"
  },
  {
   "cell_type": "code",
   "execution_count": 63,
   "outputs": [
    {
     "data": {
      "text/plain": "{1: {'variable': ['the age of the refinery',\n   'how long the refinery has been operational']},\n 2: {'subject': 'the refinery',\n  'value': {0: ['is a new facility', 'has been recently established'],\n   1: ['has been operating for many years', 'is an older establishment']}},\n 3: {'value': {0: ['the refinery is newly built',\n    'the refinery has been recently established'],\n   1: ['the refinery is quite old',\n    'the refinery has many years of operation']}},\n 4: {'domain': 'refineries',\n  'value': {0: ['are new establishments', 'have been recently built'],\n   1: ['are older facilities', 'have been operating for many years']}},\n 5: {'value': {0: ['the refinery is a new establishment',\n    'the refinery has been recently constructed'],\n   1: ['the refinery is an old establishment',\n    'the refinery has been operating for a long time']}},\n 6: {'value': {0: ['If the refinery is newly established',\n    'In newer refineries'],\n   1: ['If the refinery has been around for many years',\n    'In older refineries']}},\n 7: {'value': {0: ['if the refinery is new',\n    'if the refinery has just started operations'],\n   1: ['if the refinery is old',\n    'if the refinery has been operating for decades']}}}"
     },
     "execution_count": 63,
     "metadata": {},
     "output_type": "execute_result"
    }
   ],
   "source": [
    "next(iter(rawverbs.values()))"
   ],
   "metadata": {
    "collapsed": false,
    "ExecuteTime": {
     "end_time": "2023-11-24T14:19:13.163194498Z",
     "start_time": "2023-11-24T14:19:13.112825244Z"
    }
   },
   "id": "945a4e8e8acb9125"
  },
  {
   "cell_type": "code",
   "execution_count": null,
   "outputs": [],
   "source": [
    "varverbs = {}\n",
    "\n",
    "for var, raw in rawverbs.items():\n",
    "    info = {'values': {0: {}, 1: {}}}\n",
    "    info0 = info['values'][0]\n",
    "    info1 = info['values'][1]\n",
    "    \n",
    "    info['variable'] = raw[1]['variable']\n",
    "    info['subject'] = raw[2]['subject']\n",
    "    info['domain'] = raw[3]['domain']\n",
    "    \n",
    "    \n",
    "    \n",
    "    for i in [0, 1]:\n",
    "        info_val = raw[2]['value'][i]\n",
    "        info_val['verb'] = raw[2]['value'][i]\n",
    "        \n",
    "\n",
    "    varverbs[var] = info"
   ],
   "metadata": {
    "collapsed": false
   },
   "id": "c9bd1232c55e1b23"
  },
  {
   "cell_type": "code",
   "execution_count": null,
   "outputs": [],
   "source": [],
   "metadata": {
    "collapsed": false
   },
   "id": "ea1fd369d89f7d18"
  },
  {
   "cell_type": "code",
   "execution_count": 62,
   "outputs": [
    {
     "data": {
      "text/plain": "{1: {'variable': ['the safety protocols in place at the refinery',\n   'how well the refinery follows safety guidelines']},\n 2: {'subject': 'the refinery',\n  'value': {0: ['lacks adequate safety protocols',\n    'has insufficient safety measures'],\n   1: ['maintains adequate safety protocols', 'has robust safety measures']}},\n 3: {'value': {0: ['safety protocols are inadequate',\n    'safety measures are not up to standard'],\n   1: ['safety protocols are thoroughly implemented',\n    'safety measures are comprehensive']}},\n 4: {'domain': 'refineries',\n  'value': {0: ['lack adequate safety measures',\n    'do not follow safety guidelines properly'],\n   1: ['have robust safety protocols',\n    'adhere strictly to safety guidelines']}},\n 5: {'value': {0: ['safety protocols are not followed properly',\n    'safety measures are neglected'],\n   1: ['safety protocols are strictly followed',\n    'safety measures are taken seriously']}},\n 6: {'value': {0: ['If safety protocols are lacking',\n    'In refineries with insufficient safety measures'],\n   1: ['When safety protocols are adequate',\n    'In refineries with comprehensive safety measures']}},\n 7: {'value': {0: ['if safety protocols are not followed',\n    'if safety measures are inadequate'],\n   1: ['if safety protocols are well implemented',\n    'if the refinery has strong safety measures']}}}"
     },
     "execution_count": 62,
     "metadata": {},
     "output_type": "execute_result"
    }
   ],
   "source": [
    "rawverbs[treatment1['name']]"
   ],
   "metadata": {
    "collapsed": false,
    "ExecuteTime": {
     "end_time": "2023-11-24T14:18:20.480701735Z",
     "start_time": "2023-11-24T14:18:20.433803517Z"
    }
   },
   "id": "197ea0866e2c44d3"
  },
  {
   "cell_type": "code",
   "execution_count": 28,
   "outputs": [
    {
     "data": {
      "text/plain": "{'1': {'variable': ['public support for the climate bill',\n   \"the climate bill's popularity\"]},\n '2': {'subject': 'the climate bill',\n  'value': {'0': ['lacks public support', 'is unpopular among the public'],\n   '1': ['enjoys high public support', 'is popular among the public']}},\n '3': {'value': {'0': ['there is little public backing for the climate bill',\n    'the climate bill is not popular'],\n   '1': ['there is strong public support for the climate bill',\n    'the climate bill is popular']}},\n '4': {'domain': 'public opinions',\n  'value': {'0': ['do not favor the climate bill',\n    'show disapproval of the climate bill'],\n   '1': ['favor the climate bill', 'show approval of the climate bill']}},\n '5': {'value': {'0': ['the climate bill struggles to gain public support',\n    'the climate bill faces public disapproval'],\n   '1': ['the climate bill wins public support',\n    'the climate bill is well-received by the public']}},\n '6': {'value': {'0': ['If public support for the climate bill is lacking',\n    'When the climate bill is unpopular'],\n   '1': ['If public support for the climate bill is strong',\n    'When the climate bill is popular']}},\n '7': {'value': {'0': ['if the climate bill fails to gain public support',\n    'if the climate bill is unpopular'],\n   '1': ['if the climate bill garners strong public support',\n    'if the climate bill is popular']}}}"
     },
     "execution_count": 28,
     "metadata": {},
     "output_type": "execute_result"
    }
   ],
   "source": [
    "rawverbs[outcome['name']]"
   ],
   "metadata": {
    "collapsed": false,
    "ExecuteTime": {
     "end_time": "2023-11-23T14:30:57.291253900Z",
     "start_time": "2023-11-23T14:30:57.244182100Z"
    }
   },
   "id": "327e8784efac4364"
  },
  {
   "cell_type": "code",
   "execution_count": null,
   "outputs": [],
   "source": [],
   "metadata": {
    "collapsed": false
   },
   "id": "f825d25d6d6b085e"
  },
  {
   "cell_type": "code",
   "execution_count": null,
   "outputs": [],
   "source": [
    "example_tmpl = '{subject} often {value}.'"
   ],
   "metadata": {
    "collapsed": false
   },
   "id": "94ae67d265970696"
  },
  {
   "cell_type": "code",
   "execution_count": 35,
   "outputs": [
    {
     "data": {
      "text/plain": "{'Presidential Engagement in Climate Discussions': {'1': {'variable': ['presidential involvement in climate talks',\n    \"the president's active participation in climate discussions\"]},\n  '2': {'subject': 'the president',\n   'value': {'0': ['is not involved in climate discussions',\n     'does not engage in climate talks'],\n    '1': ['actively participates in climate discussions',\n     'is deeply involved in climate talks']}},\n  '3': {'value': {'0': ['the president is not engaged in climate talks',\n     'there is no presidential involvement in climate discussions'],\n    '1': ['the president is actively engaged in climate talks',\n     'there is direct presidential involvement in climate discussions']}},\n  '4': {'domain': 'instances of climate discussions',\n   'value': {'0': ['do not include presidential engagement',\n     \"lack the president's involvement\"],\n    '1': ['include active presidential participation',\n     \"feature the president's active involvement\"]}},\n  '5': {'value': {'0': ['the president stays out of climate discussions',\n     \"there's no presidential involvement in climate talks\"],\n    '1': ['the president is actively engaged in climate discussions',\n     'presidential involvement in climate talks is evident']}},\n  '6': {'value': {'0': ['Without presidential engagement in climate talks',\n     \"In the absence of the president's involvement in climate discussions\"],\n    '1': ['With the president actively participating in climate discussions',\n     'When the president is involved in climate talks']}},\n  '7': {'value': {'0': ['if the president does not engage in climate discussions',\n     'if there is no presidential involvement in climate talks'],\n    '1': ['if the president actively participates in climate discussions',\n     'if there is direct presidential involvement in climate talks']}}},\n 'Media Coverage of Climate Issues': {'1': {'variable': ['media coverage of climate issues',\n    'reporting on climate matters']},\n  '2': {'subject': 'media outlets',\n   'value': {'0': ['provide limited or negative coverage of climate issues',\n     'report negatively on climate matters'],\n    '1': ['offer extensive and positive coverage of climate issues',\n     'report positively on climate matters']}},\n  '3': {'value': {'0': ['coverage of climate issues is limited or negative',\n     'reporting on climate matters is predominantly negative'],\n    '1': ['coverage of climate issues is extensive and positive',\n     'reporting on climate matters is predominantly positive']}},\n  '4': {'domain': 'reports on climate issues',\n   'value': {'0': ['are limited or negative',\n     'portray climate matters negatively'],\n    '1': ['are extensive and positive',\n     'portray climate matters positively']}},\n  '5': {'value': {'0': ['media coverage of climate issues is limited or negative',\n     'climate matters are reported negatively'],\n    '1': ['media coverage of climate issues is extensive and positive',\n     'climate matters are reported positively']}},\n  '6': {'value': {'0': ['When media coverage of climate issues is limited or negative',\n     'If climate matters are reported negatively'],\n    '1': ['When media coverage of climate issues is extensive and positive',\n     'If climate matters are reported positively']}},\n  '7': {'value': {'0': ['if media coverage of climate issues is limited or negative',\n     'if climate matters are reported negatively'],\n    '1': ['if media coverage of climate issues is extensive and positive',\n     'if climate matters are reported positively']}}},\n 'Content of Climate Bill': {'1': {'variable': ['perception of the climate bill',\n    'public view of the climate legislation']},\n  '2': {'subject': 'the climate bill',\n   'value': {'0': ['is perceived as ineffective or unfavorable',\n     'garners criticism'],\n    '1': ['is seen as effective and favorable', 'receives praise']}},\n  '3': {'value': {'0': ['the climate bill is viewed unfavorably',\n     'the legislation is considered ineffective'],\n    '1': ['the climate bill is favored',\n     'the legislation is seen as effective']}},\n  '4': {'domain': 'responses to the climate bill',\n   'value': {'0': ['are negative or critical', 'indicate dissatisfaction'],\n    '1': ['are positive or approving', 'indicate support']}},\n  '5': {'value': {'0': ['the climate bill is often criticized',\n     'the legislation faces disapproval'],\n    '1': ['the climate bill is often praised',\n     'the legislation is well-received']}},\n  '6': {'value': {'0': ['If the climate bill is perceived as ineffective',\n     'When the legislation is viewed unfavorably'],\n    '1': ['If the climate bill is seen as effective',\n     'When the legislation is viewed favorably']}},\n  '7': {'value': {'0': ['if the climate bill is criticized',\n     'if the legislation is seen as ineffective'],\n    '1': ['if the climate bill is praised',\n     'if the legislation is seen as effective']}}},\n 'Perceived Credibility of the President': {'1': {'variable': [\"the president's credibility\",\n    'public trust in the president']},\n  '2': {'subject': 'the president',\n   'value': {'0': ['is viewed as having low credibility',\n     'suffers from a lack of public trust'],\n    '1': ['is seen as highly credible',\n     'enjoys a high level of public trust']}},\n  '3': {'value': {'0': ['the president is perceived to have low credibility',\n     'public trust in the president is low'],\n    '1': ['the president is perceived to be highly credible',\n     'public trust in the president is high']}},\n  '4': {'domain': 'public opinions',\n   'value': {'0': ['reflect low credibility for the president',\n     'show a lack of trust in the president'],\n    '1': ['reflect high credibility for the president',\n     'show a high level of trust in the president']}},\n  '5': {'value': {'0': [\"the president's credibility is questioned\",\n     \"there's a notable lack of trust in the president\"],\n    '1': [\"the president's credibility is affirmed\",\n     \"there's a strong level of trust in the president\"]}},\n  '6': {'value': {'0': [\"When the president's credibility is low\",\n     'If public trust in the president is lacking'],\n    '1': [\"When the president's credibility is high\",\n     'If public trust in the president is strong']}},\n  '7': {'value': {'0': ['if the president is seen as lacking credibility',\n     'if public trust in the president is low'],\n    '1': ['if the president is seen as highly credible',\n     'if public trust in the president is high']}}},\n 'Public Support for Climate Bill': {'1': {'variable': ['public support for the climate bill',\n    \"the climate bill's popularity\"]},\n  '2': {'subject': 'the climate bill',\n   'value': {'0': ['lacks public support', 'is unpopular among the public'],\n    '1': ['enjoys high public support', 'is popular among the public']}},\n  '3': {'value': {'0': ['there is little public backing for the climate bill',\n     'the climate bill is not popular'],\n    '1': ['there is strong public support for the climate bill',\n     'the climate bill is popular']}},\n  '4': {'domain': 'public opinions',\n   'value': {'0': ['do not favor the climate bill',\n     'show disapproval of the climate bill'],\n    '1': ['favor the climate bill', 'show approval of the climate bill']}},\n  '5': {'value': {'0': ['the climate bill struggles to gain public support',\n     'the climate bill faces public disapproval'],\n    '1': ['the climate bill wins public support',\n     'the climate bill is well-received by the public']}},\n  '6': {'value': {'0': ['If public support for the climate bill is lacking',\n     'When the climate bill is unpopular'],\n    '1': ['If public support for the climate bill is strong',\n     'When the climate bill is popular']}},\n  '7': {'value': {'0': ['if the climate bill fails to gain public support',\n     'if the climate bill is unpopular'],\n    '1': ['if the climate bill garners strong public support',\n     'if the climate bill is popular']}}},\n \"Government's Overall Approval Rating\": {'1': {'variable': [\"the government's overall approval rating\",\n    \"the public's general approval of the government\"]},\n  '2': {'subject': 'the government',\n   'value': {'0': ['has a low approval rating',\n     'is not widely approved by the public'],\n    '1': ['enjoys a high approval rating',\n     'is broadly approved by the public']}},\n  '3': {'value': {'0': ['the government has a low approval rating',\n     'the public does not widely approve the government'],\n    '1': ['the government enjoys a high approval rating',\n     'the public broadly approves the government']}},\n  '4': {'domain': 'citizens',\n   'value': {'0': ['do not approve of the government',\n     'have a low opinion of the government'],\n    '1': ['approve of the government',\n     'have a high opinion of the government']}},\n  '5': {'value': {'0': [\"the government's approval rating is low\",\n     'public approval of the government is low'],\n    '1': [\"the government's approval rating is high\",\n     'public approval of the government is high']}},\n  '6': {'value': {'0': ['With a low approval rating for the government',\n     'When the government is not widely approved'],\n    '1': ['With a high approval rating for the government',\n     'When the government is broadly approved']}},\n  '7': {'value': {'0': [\"if the government's approval rating remains low\",\n     'if the public continues to disapprove the government'],\n    '1': [\"if the government's approval rating increases\",\n     \"if the public's approval of the government rises\"]}}}}"
     },
     "execution_count": 35,
     "metadata": {},
     "output_type": "execute_result"
    }
   ],
   "source": [
    "rawverbs"
   ],
   "metadata": {
    "collapsed": false,
    "ExecuteTime": {
     "end_time": "2023-11-23T14:45:57.525295500Z",
     "start_time": "2023-11-23T14:45:57.415375400Z"
    }
   },
   "id": "72cc0b2d090e4021"
  },
  {
   "cell_type": "code",
   "execution_count": null,
   "outputs": [],
   "source": [],
   "metadata": {
    "collapsed": false
   },
   "id": "a184ee6bd0f946e0"
  },
  {
   "cell_type": "code",
   "execution_count": null,
   "outputs": [],
   "source": [],
   "metadata": {
    "collapsed": false
   },
   "id": "2ec237388a7f8626"
  },
  {
   "cell_type": "code",
   "execution_count": null,
   "outputs": [],
   "source": [],
   "metadata": {
    "collapsed": false
   },
   "id": "7e56414c2cceb563"
  },
  {
   "cell_type": "code",
   "execution_count": null,
   "outputs": [],
   "source": [],
   "metadata": {
    "collapsed": false
   },
   "id": "7094e0f316209b1"
  },
  {
   "cell_type": "code",
   "execution_count": null,
   "outputs": [],
   "source": [
    "ctx.include(get_verbalization_info);\n",
    "verb_prompt_template = '''We would like to find very natural verbalizations of the following binary variables selected from a statistical model. The verbalizations should sound more natural and organic, so that you could imagine them being used in a news paper article or casual conversation, while still being semantically equivalent to the original variable and value.\n",
    "\n",
    "Here are the templates that we use to verbalize the variables:\n",
    "\n",
    "1. {{subject}} [often/usually/sometimes/rarely/etc.] {{value}}.\n",
    "2. There is a [number]% chance that {{value}}.\n",
    "3. [number]% of {{domain}} {{value}}.\n",
    "4. [number]% of the time {{value}}.\n",
    "5. Conditional sentence: {{value}}, [some consequence].\n",
    "6. Interventional: If {{value}}, [some effect].\n",
    "\n",
    "{variable_description}\n",
    "\n",
    "Here are some examples of verbalizations of the variable. For each of the templates fill in the blanks (and include 2-3 examples for each template). Format your response as a python dictionary. For example, a variable \"Smoking Rate\" which takes the values \"Low Smoking Rate\" and \"High Smoking Rate\" can be verbalized like this:\n",
    "\n",
    "```python\n",
    "verbalizations = {{\n",
    "  \"Smoking Rate\": {{\n",
    "    \"Low Smoking Rate\": {{\n",
    "      1: {{\"subject\": \"people\", \"value\": [\"do not smoke\", \"are non-smokers\"]}},\n",
    "      2: {{\"value\": [\"a person does not smoke\", \"people are non-smokers\"]}}, \n",
    "      3: {{\"domain\": \"people\", \"value\": [\"do not smoke\", \"are non-smokers\"]}}, \n",
    "      4: {{\"value\": [\"people do not smoke\", \"people are non-smokers\"]}},\n",
    "      5: {{\"value\": [\"For people that do not smoke\", \"Among non-smokers\"]}}, \n",
    "      6: {{\"value\": [\"the smoking rate is decreased\", \"people stop smoking\"]}},\n",
    "    }},\n",
    "    \"High Smoking Rate\": {{\n",
    "      ...\n",
    "    }}\n",
    "  }},\n",
    "  ...\n",
    "}}\n",
    "```\n",
    "\n",
    "Answer concisely and precisely in the desired format, and only replace the blanks in curly braces. Do not add any additional comments or discussion. Most importantly, the verbalizations should not contain quantitative information like \"often\" or \"rarely\", and instead always assert the corresponding value.'''\n",
    "\n",
    "tmpl = FixedTemplate('verb_prompt', verb_prompt_template)\n",
    "ctx.include(tmpl,);\n",
    "print(ctx['verb_prompt'])"
   ],
   "metadata": {
    "collapsed": false
   },
   "id": "edee3643d33fc5b7"
  },
  {
   "cell_type": "code",
   "execution_count": 29,
   "outputs": [],
   "source": [
    "# # ate1_template = '{ate1:.3f} = ATE({{treatments}[0][\"name\"]!r}) = P({{outcome}[\"name\"]!r}={{outcome}[\"values\"][1]!r} | do({{treatments}[0][\"name\"]!r}={{treatments}[0][\"values\"][1]!r})) - P({{outcome}[\"name\"]!r}={{outcome}[\"values\"][1]!r} | do({{treatments}[0][\"name\"]!r}={{treatments}[0][\"values\"][0]!r}))'\n",
    "# # ate2_template = '{ate2:.3f} = ATE({{treatments}[1][\"name\"]!r}) = P({{outcome}[\"name\"]!r}={{outcome}[\"values\"][1]!r} | do({{treatments}[1][\"name\"]!r}={{treatments}[1][\"values\"][1]!r})) - P({{outcome}[\"name\"]!r}={{outcome}[\"values\"][1]!r} | do({{treatments}[1][\"name\"]!r}={{treatments}[1][\"values\"][0]!r}))'\n",
    "# ate_tmpl = '{val:.3f} = ATE({treatment!r}) = E({outcome!r} | do({treatment!r}=1)) - E({outcome!r} | do({treatment!r}=0))'\n",
    "# cate_tmpl = ('{val:.3f} = CATE({treatment!r} | {confounder!r}={cval}) = '\n",
    "#              'E[{outcome!r} | {confounder!r}={cval}, do({treatment!r}=1)] - E[{outcome!r} | {confounder!r}={cval}, do({treatment!r}=0)]')\n",
    "# for treatment, ate in [(treatment1, ate1.mean().item()), (treatment2, ate2.mean().item())]:\n",
    "#     print(SimpleTemplater(ate_tmpl).fill_in({}, treatment=treatment, outcome=outcome, val=ate))\n",
    "# for (treatment, confounder, cval), cate in zip(*[cate_keys, cates]):\n",
    "#     print(SimpleTemplater(cate_tmpl).fill_in({}, treatment=treatment, outcome=outcome, confounder=confounder, cval=cval, val=cate.mean().item()))"
   ],
   "metadata": {
    "collapsed": false,
    "ExecuteTime": {
     "end_time": "2023-11-17T13:11:02.565115226Z",
     "start_time": "2023-11-17T13:11:00.597492931Z"
    }
   },
   "id": "7faa4f69f3367c76"
  },
  {
   "cell_type": "code",
   "execution_count": 44,
   "outputs": [],
   "source": [
    "#######################################################################\n",
    "\n",
    "setting = {\n",
    "    \"introduction\": \"In light of the new decree by Prime Minister Giuseppe Conte, introducing a curfew in regions like Lombardy and Piedmont, it's crucial to understand how such decisions affect public health and behavior. This understanding can help in assessing the effectiveness of such measures and their impact on society.\",\n",
    "    \"overview\": \"Our approach looks at how different factors like the curfew enforcement, public response, and healthcare capacity interplay with each other. It's like a web, where pulling one strand can cause movement in another, and we try to understand these relationships, like how public compliance might be influenced by the curfew or how all these affect public health.\",\n",
    "    \"questions\": {\n",
    "        1: {\"question\": \"Does implementing a curfew generally lead to better public health outcomes?\", \"answer\": \"yes\", \"explanation\": \"Implementing a curfew is likely to have a positive effect on public health by controlling the situation that necessitated the curfew.\", \"wrong_explanation\": \"Implementing a curfew might not significantly impact public health, as other factors could play a more dominant role.\"},\n",
    "        2: {\"question\": \"Is public non-compliance with a curfew typically associated with better public health outcomes?\", \"answer\": \"no\", \"explanation\": \"Public non-compliance with a curfew is generally not expected to contribute positively to public health outcomes.\", \"wrong_explanation\": \"Public non-compliance might actually lead to better public health outcomes as it indicates normalcy and lesser public panic.\"},\n",
    "        3: {\"question\": \"Is the positive impact on public health greater when a curfew is implemented than when the public complies with it?\", \"answer\": \"yes\", \"explanation\": \"The direct enforcement of a curfew is likely to have a stronger positive impact on public health than the variable level of public compliance.\", \"wrong_explanation\": \"Public compliance with the curfew could have a greater positive impact on public health than the mere implementation of the curfew.\"},\n",
    "        4: {\"question\": \"Do both the implementation of a curfew and the lack of public compliance have a combined negative effect on public health?\", \"answer\": \"no\", \"explanation\": \"While the lack of public compliance might negatively affect public health, the implementation of a curfew is expected to have a positive impact, which does not result in a combined negative effect.\", \"wrong_explanation\": \"The negative impacts of both non-compliance and curfew implementation may combine to deteriorate public health.\"},\n",
    "        5: {\"question\": \"In regions with high healthcare capacity, does implementing a curfew have a positive impact on public health?\", \"answer\": \"yes\", \"explanation\": \"In areas with strong healthcare systems, the implementation of a curfew is likely to further bolster public health outcomes.\", \"wrong_explanation\": \"Even in regions with high healthcare capacity, a curfew might not significantly improve public health outcomes.\"},\n",
    "        6: {\"question\": \"In regions with low healthcare capacity, does implementing a curfew have a positive impact on public health?\", \"answer\": \"yes\", \"explanation\": \"In regions where healthcare resources are limited, implementing a curfew can be crucial in preventing the overburdening of the healthcare system.\", \"wrong_explanation\": \"A curfew might not be as effective in regions with low healthcare capacity due to the already strained resources.\"},\n",
    "        7: {\"question\": \"In regions with high healthcare capacity, does high public compliance with the curfew lead to worse public health outcomes?\", \"answer\": \"no\", \"explanation\": \"In areas with ample healthcare resources, high public compliance with a curfew is expected to support or maintain good public health outcomes.\", \"wrong_explanation\": \"High compliance in regions with strong healthcare systems might lead to negative public health outcomes due to over-cautious behavior.\"},\n",
    "        8: {\"question\": \"In regions with low healthcare capacity, does high public compliance with the curfew lead to better public health outcomes?\", \"answer\": \"yes\", \"explanation\": \"In areas with limited healthcare resources, high compliance with curfew measures can play a critical role in maintaining or improving public health outcomes.\", \"wrong_explanation\": \"High public compliance in regions with low healthcare capacity might not significantly improve public health outcomes.\"},\n",
    "        9: {\"question\": \"Is the positive impact on public health of implementing a curfew greater in regions with low healthcare capacity compared to those with high capacity?\", \"answer\": \"no\", \"explanation\": \"The positive impact of a curfew is likely significant in both scenarios but not necessarily greater in regions with lower healthcare capacity.\", \"wrong_explanation\": \"Implementing a curfew in regions with low healthcare capacity might have a greater positive impact on public health compared to regions with high healthcare capacity.\"},\n",
    "        10: {\"question\": \"Does high public compliance with the curfew lead to better public health outcomes in regions with high healthcare capacity compared to those with low capacity?\", \"answer\": \"yes\", \"explanation\": \"High compliance in regions with strong healthcare infrastructure likely results in more pronounced improvements in public health compared to regions with weaker healthcare systems.\", \"wrong_explanation\": \"The impact of high public compliance on public health might be greater in regions with low healthcare capacity.\"},\n",
    "        11: {\"question\": \"Is the positive impact on public health from implementing a curfew less in regions with high healthcare capacity than the impact of high public compliance in these regions?\", \"answer\": \"no\", \"explanation\": \"The implementation of a curfew is likely to have a significant positive impact on public health, potentially more so than the variable of public compliance, even in regions with high healthcare capacity.\", \"wrong_explanation\": \"In regions with high healthcare capacity, the impact of public compliance might be more significant for public health than the implementation of a curfew.\"},\n",
    "        12: {\"question\": \"Is the positive impact on public health from implementing a curfew less in regions with low healthcare capacity than the impact of high public compliance in these regions?\", \"answer\": \"yes\", \"explanation\": \"In regions with low healthcare capacity, the impact of high public compliance might be more crucial for public health than the mere implementation of a curfew.\", \"wrong_explanation\": \"Implementing a curfew in regions with low healthcare capacity is likely to have a greater positive impact on public health than high public compliance.\"}\n",
    "    },\n",
    "}\n",
    "\n",
    "\n",
    "\n",
    "#######################################################################\n",
    "ctx['setting'] = setting"
   ],
   "metadata": {
    "collapsed": false,
    "ExecuteTime": {
     "end_time": "2023-11-22T13:20:35.178557424Z",
     "start_time": "2023-11-22T13:20:35.089786551Z"
    }
   },
   "id": "47eb0d3ae6db4f3a"
  },
  {
   "cell_type": "code",
   "execution_count": null,
   "outputs": [],
   "source": [],
   "metadata": {
    "collapsed": false
   },
   "id": "29df5bbe5c120f68"
  },
  {
   "cell_type": "markdown",
   "source": [
    "# Save Story"
   ],
   "metadata": {
    "collapsed": false
   },
   "id": "5fb83cc089e9a915"
  },
  {
   "cell_type": "code",
   "execution_count": null,
   "outputs": [],
   "source": [],
   "metadata": {
    "collapsed": false
   },
   "id": "cbc87bb6935393"
  },
  {
   "cell_type": "code",
   "execution_count": null,
   "outputs": [],
   "source": [],
   "metadata": {
    "collapsed": false
   },
   "id": "e46308cbcd5d5d8d"
  },
  {
   "cell_type": "code",
   "execution_count": null,
   "outputs": [],
   "source": [],
   "metadata": {
    "collapsed": false
   },
   "id": "76dd431ae7bde9"
  },
  {
   "cell_type": "code",
   "execution_count": null,
   "outputs": [],
   "source": [],
   "metadata": {
    "collapsed": false
   },
   "id": "2eff1eb58588c15"
  },
  {
   "cell_type": "code",
   "execution_count": 59,
   "outputs": [],
   "source": [
    "import nltk\n",
    "from nltk import word_tokenize, pos_tag, ne_chunk\n",
    "from nltk.stem import WordNetLemmatizer\n",
    "from nltk.corpus import stopwords\n",
    "from rake_nltk import Rake\n",
    "import spacy\n",
    "import random"
   ],
   "metadata": {
    "collapsed": false
   },
   "id": "c45e6c65749794d3"
  },
  {
   "cell_type": "code",
   "execution_count": 61,
   "outputs": [
    {
     "data": {
      "text/plain": "24",
      "image/png": "[encoded data removed]",
      "text/latex": "$\\displaystyle 24$"
     },
     "execution_count": 61,
     "metadata": {},
     "output_type": "execute_result"
    }
   ],
   "source": [
    "example_texts = [val for var in raw_verbalization.values() for varval in var.values() for val in varval[4]['value']]\n",
    "len(example_texts)"
   ],
   "metadata": {
    "collapsed": false
   },
   "id": "173c691818cfe5b8"
  },
  {
   "cell_type": "code",
   "execution_count": 53,
   "outputs": [],
   "source": [
    "stop_words = set(stopwords.words('english'))\n",
    "stop_words.update(\"'s\", '|', 'I', \"n't\", \"`s\", \"'s\", 'n`t')\n",
    "\n",
    "nlp = spacy.load('en_core_web_md')\n",
    "\n"
   ],
   "metadata": {
    "collapsed": false
   },
   "id": "df2fb4ad34998003"
  },
  {
   "cell_type": "code",
   "execution_count": 79,
   "outputs": [
    {
     "name": "stdout",
     "output_type": "stream",
     "text": [
      "there is widespread healthcare availability in Moscow\n",
      "None None\n",
      "['widespread healthcare availability', 'Moscow']\n"
     ]
    }
   ],
   "source": [
    "text = \"Covid-19 mortality rate is high\"\n",
    "text = random.choice(example_texts)\n",
    "print(text)\n",
    "doc = nlp(text)\n",
    "subject, verb = None, None\n",
    "for token in doc:\n",
    "    if \"subj\" in token.dep_:\n",
    "        subject = token.text\n",
    "    # if \"VERB\" in token.pos_:\n",
    "    #     verb = token.text\n",
    "print(subject, verb)\n",
    "noun_phrases = [chunk.text for chunk in doc.noun_chunks]\n",
    "print(noun_phrases)"
   ],
   "metadata": {
    "collapsed": false,
    "ExecuteTime": {
     "end_time": "2023-11-21T13:58:08.296988112Z",
     "start_time": "2023-11-21T13:58:08.252502195Z"
    }
   },
   "id": "63e7dbde8cca2751"
  },
  {
   "cell_type": "code",
   "execution_count": null,
   "outputs": [],
   "source": [],
   "metadata": {
    "collapsed": false
   },
   "id": "fece4c4d70ada148"
  },
  {
   "cell_type": "code",
   "execution_count": null,
   "outputs": [],
   "source": [],
   "metadata": {
    "collapsed": false
   },
   "id": "e2a80b1279cd7a8f"
  },
  {
   "cell_type": "code",
   "execution_count": null,
   "outputs": [],
   "source": [],
   "metadata": {
    "collapsed": false
   },
   "id": "e2ead53bd9f0d663"
  },
  {
   "cell_type": "code",
   "execution_count": null,
   "outputs": [],
   "source": [],
   "metadata": {
    "collapsed": false
   },
   "id": "dec8a389b45661b3"
  },
  {
   "cell_type": "code",
   "execution_count": 21,
   "outputs": [],
   "source": [
    "old_prompt_template = '''We have a causal bayes net based on the following article:\n",
    "\n",
    "```\n",
    "{spark}\n",
    "```\n",
    "\n",
    "And, for additional context, here are the variables and their descriptions:\n",
    "\n",
    "{descriptions}\n",
    "\n",
    "Now we would like to verbalize the description of some evidence. For each set of questions, fill in the blank and then for each possible descriptor of the probability, provide a reasonable quantitative estimate for the lower and upper bounds of the probability that would be implied by that evidence if the variable took on the value corresponding to 1. Note that your estimates for each descriptor should conform to common sense and reflect the meaning of the variable taking on the value corresponding to 1.\n",
    "\n",
    "For example, if the question is:\n",
    "\n",
    "Evidence template: \"The probability of _ is {descriptor}.\"\n",
    "With these descriptors: ['low', 'high', 'very high']\n",
    "\n",
    "1. \"Tax Rate\" can either be 0=\"Decreased\" or 1=\"Increased\".\n",
    "2. \"Vaccination Status\" can either be 0=\"Not Vaccinated\" or 1=\"Vaccinated\".\n",
    "...\n",
    "\n",
    "You should answer in the following format:\n",
    "\n",
    "```python\n",
    "evidence = {{\n",
    "  1: {{'blank': {{'Decreased': 'decreased taxes', 'Increased': 'increased taxes'}} 'implications': {{'low': [0.2, 0.4], 'high': [0.6, 0.8], 'very high': [0.8, 0.9]}}}},\n",
    "  2: {{'blank': {{'Not Vaccinated': 'not being vaccinated', 'Vaccinated': 'being vaccinated'}} 'implications': {{'low': [0.3, 0.5], 'high': [0.7, 0.9], 'very high': [0.85, 0.99]}}}},\n",
    "  ...\n",
    "}}\n",
    "```\n",
    "\n",
    "Here are the questions:\n",
    "\n",
    "Evidence template: \"The probability of _ is {descriptor}.\"\n",
    "With these descriptors: {descriptors}\n",
    "\n",
    "{questions}\n",
    "\n",
    "Answer all the questions in order, concisely, and precisely in the desired format, without any additional comments or discussion.\n",
    "'''\n",
    "\n",
    "prompt_template = '''We have a causal bayes net based on the following article:\n",
    "\n",
    "```\n",
    "{spark}\n",
    "```\n",
    "\n",
    "And, for additional context, here are the variables and their descriptions:\n",
    "\n",
    "{descriptions}\n",
    "\n",
    "Now we would like to verbalize the description of some evidence using a few templates. For each template and variable, fill in the blank and then for each possible value the variable can take. Always use the present tense and make sure to use simple but precise language so the evidence can be communicated clearly. Also, only fill in the templates that make sense for the variable values.\n",
    "\n",
    "For example, if the question is:\n",
    "\n",
    "Template A: \"The probability of {variable} is high.\"\n",
    "Template B: \"{variable} often.\"\n",
    "Template C: \"It is likely that {variable}.\"\n",
    "Template D: \"Few {subject} {variable}.\"\n",
    "\n",
    "1. \"Tax Rate\": [\"Decreased\", \"Increased\"]\n",
    "2. \"Vaccination Status\": [\"Not Vaccinated\", \"Vaccinated\"]\n",
    "...\n",
    "\n",
    "You should answer in the following format:\n",
    "\n",
    "```python\n",
    "evidence = {{\n",
    "  1: {{'A': {{'variable': ['decreased taxes', 'increased taxes']}},\n",
    "       'B': {{'variable': ['taxes are decreased', 'taxes are increased']}},\n",
    "       'C': {{'variable': ['taxes are decreased', 'taxes are increased']}},\n",
    "       'D': {{'subject': [], 'variable': ['taxes are decreased', 'taxes are increased']}}}},\n",
    "  }},\n",
    "  2: {{'variable': {{'Not Vaccinated': 'not being vaccinated', 'Vaccinated': 'being vaccinated'}}}},\n",
    "  ...\n",
    "}}\n",
    "```\n",
    "\n",
    "Here are the questions:\n",
    "\n",
    "Evidence template: \"The probability of _ is {descriptor}.\"\n",
    "With these descriptors: {descriptors}\n",
    "\n",
    "{questions}\n",
    "\n",
    "Answer all the questions in order, concisely, and precisely in the desired format, without any additional comments or discussion.\n",
    "'''\n",
    "\n",
    "q_template = '{i}. \"{variable}\" can either be 0=\"{value}\" or 1=\"{othervalue}\".'\n",
    "\n",
    "verbs = [\n",
    "    'very low', 'low', 'moderate', 'high', 'very high',\n",
    "    # 'extremely small', 'small', 'large', 'extremely large',\n",
    "    'significant', 'negligible', 'substantial', 'insignificant', 'considerable',\n",
    "    # 'improbable', 'likely', 'probable', 'unlikely', 'certain',\n",
    "]"
   ],
   "metadata": {
    "collapsed": false,
    "ExecuteTime": {
     "end_time": "2023-11-19T15:58:07.180931606Z",
     "start_time": "2023-11-19T15:58:07.135552858Z"
    }
   },
   "id": "bf9d27a21b2ff726"
  },
  {
   "cell_type": "code",
   "execution_count": 22,
   "outputs": [],
   "source": [
    "nodes = ctx['nodes']\n",
    "qlines = []\n",
    "i = 1\n",
    "for node in nodes:\n",
    "    v0, v1 = node['values']\n",
    "    qlines.append(q_template.format(i=i, variable=node['name'], value=v1, othervalue=v0))\n",
    "    i += 1\n",
    "questions = '\\n'.join(qlines)"
   ],
   "metadata": {
    "collapsed": false,
    "ExecuteTime": {
     "end_time": "2023-11-19T15:58:08.750511902Z",
     "start_time": "2023-11-19T15:58:08.732077429Z"
    }
   },
   "id": "949e58680c1eb438"
  },
  {
   "cell_type": "code",
   "execution_count": 23,
   "outputs": [
    {
     "data": {
      "text/plain": "{'descriptions', 'descriptor', 'descriptors', 'questions', 'spark'}"
     },
     "execution_count": 23,
     "metadata": {},
     "output_type": "execute_result"
    }
   ],
   "source": [
    "tmpl = SimpleTemplater(prompt_template)\n",
    "tmpl.keys"
   ],
   "metadata": {
    "collapsed": false,
    "ExecuteTime": {
     "end_time": "2023-11-19T15:58:09.178284729Z",
     "start_time": "2023-11-19T15:58:09.135420113Z"
    }
   },
   "id": "a474aee9dc7f34a4"
  },
  {
   "cell_type": "code",
   "execution_count": 24,
   "outputs": [
    {
     "name": "stdout",
     "output_type": "stream",
     "text": [
      "We have a causal bayes net based on the following article:\n",
      "\n",
      "```\n",
      "Title: ARM takeover: Qualcomm interested in participating - heise online\n",
      "Description: If nothing comes of Nvidia's $40 billion ARM takeover, a consortium of several manufacturers could act as investors.\n",
      "Original Language: German\n",
      "```\n",
      "\n",
      "And, for additional context, here are the variables and their descriptions:\n",
      "\n",
      "\"Qualcomm_Participation\" means \"Participation of Qualcomm in ARM takeover\"\n",
      "\"Regulatory_Approval\" means \"Regulatory approval for ARM takeover\"\n",
      "\"Global_Economic_Conditions\" means \"Current global economic conditions\"\n",
      "\"Nvidia_Takeover_Success\" means \"Success of Nvidia's ARM takeover attempt\"\n",
      "\"Investment_Strategy\" means \"Investment strategy adopted by Qualcomm\"\n",
      "\"Tech_Innovation\" means \"Level of technological innovation in the market\"\n",
      "\"Market_Competition\" means \"Level of market competition in the tech industry\"\n",
      "\"Stock_Market_Response\" means \"Stock market response to the takeover and market conditions\"\n",
      "\n",
      "Now we would like to verbalize the description of some evidence. For each set of questions, fill in the blank and then for each possible descriptor of the probability, provide a reasonable quantitative estimate for the lower and upper bounds of the probability that would be implied by that evidence if the variable took on the value corresponding to 1. Note that your estimates for each descriptor should conform to common sense and reflect the meaning of the variable taking on the value corresponding to 1.\n",
      "\n",
      "For example, if the question is:\n",
      "\n",
      "Evidence template: \"The probability of _ is {descriptor}.\"\n",
      "With these descriptors: ['low', 'high', 'very high']\n",
      "\n",
      "1. \"Tax Rate\" can either be 0=\"Decreased\" or 1=\"Increased\".\n",
      "2. \"Vaccination Status\" can either be 0=\"Not Vaccinated\" or 1=\"Vaccinated\".\n",
      "...\n",
      "\n",
      "You should answer in the following format:\n",
      "\n",
      "```python\n",
      "evidence = {\n",
      "  1: {'blank': {'Decreased': 'decreased taxes', 'Increased': 'increased taxes'} 'implications': {'low': [0.2, 0.4], 'high': [0.6, 0.8], 'very high': [0.8, 0.9]}},\n",
      "  2: {'blank': {'Not Vaccinated': 'not being vaccinated', 'Vaccinated': 'being vaccinated'} 'implications': {'low': [0.3, 0.5], 'high': [0.7, 0.9], 'very high': [0.85, 0.99]}},\n",
      "  ...\n",
      "}\n",
      "```\n",
      "\n",
      "Here are the questions:\n",
      "\n",
      "Evidence template: \"The probability of _ is {descriptor}.\"\n",
      "With these descriptors: ['very low', 'low', 'moderate', 'high', 'very high', 'significant', 'negligible', 'substantial', 'insignificant', 'considerable']\n",
      "\n",
      "1. \"Qualcomm_Participation\" can either be 0=\"Participates\" or 1=\"Does not participate\".\n",
      "2. \"Regulatory_Approval\" can either be 0=\"Approved\" or 1=\"Not approved\".\n",
      "3. \"Global_Economic_Conditions\" can either be 0=\"Favorable conditions\" or 1=\"Unfavorable conditions\".\n",
      "4. \"Nvidia_Takeover_Success\" can either be 0=\"Takeover succeeds\" or 1=\"Takeover fails\".\n",
      "5. \"Investment_Strategy\" can either be 0=\"Aggressive strategy\" or 1=\"Conservative strategy\".\n",
      "6. \"Tech_Innovation\" can either be 0=\"High innovation\" or 1=\"Low innovation\".\n",
      "7. \"Market_Competition\" can either be 0=\"Increased competition\" or 1=\"Reduced competition\".\n",
      "8. \"Stock_Market_Response\" can either be 0=\"Positive response\" or 1=\"Negative response\".\n",
      "\n",
      "Answer all the questions in order, concisely, and precisely in the desired format, without any additional comments or discussion.\n"
     ]
    }
   ],
   "source": [
    "# print(tmpl.fill_in(dict(spark=ctx['spark'], descriptions=ctx['descriptions'], descriptors=verbs, descriptor='{descriptor}', questions=questions)))\n",
    "print(prompt_template.format(spark=ctx['spark'], descriptions=ctx['descriptions'], descriptors=verbs, descriptor='{descriptor}', questions=questions))"
   ],
   "metadata": {
    "collapsed": false,
    "ExecuteTime": {
     "end_time": "2023-11-19T15:58:09.619565965Z",
     "start_time": "2023-11-19T15:58:09.601398688Z"
    }
   },
   "id": "7b23a2f10c9d7c62"
  },
  {
   "cell_type": "code",
   "execution_count": null,
   "outputs": [],
   "source": [
    "line_template = 'The probability that __ is {quantity}'"
   ],
   "metadata": {
    "collapsed": false
   },
   "id": "61af6af1c0665464"
  },
  {
   "cell_type": "code",
   "execution_count": 120,
   "outputs": [
    {
     "data": {
      "text/plain": "True"
     },
     "execution_count": 120,
     "metadata": {},
     "output_type": "execute_result"
    }
   ],
   "source": [
    "evidence = {\n",
    "  1: {\n",
    "    'blank': {'Stimulative': 'stimulative government economic policies', 'Restrictive': 'restrictive government economic policies'}, \n",
    "    'implications': {\n",
    "      'very low': [0.01, 0.1], \n",
    "      'low': [0.1, 0.3], \n",
    "      'moderate': [0.3, 0.5], \n",
    "      'high': [0.5, 0.7], \n",
    "      'very high': [0.7, 0.9], \n",
    "      'significant': [0.6, 0.8], \n",
    "      'negligible': [0.1, 0.2], \n",
    "      'substantial': [0.5, 0.7], \n",
    "      'insignificant': [0.2, 0.3], \n",
    "      'considerable': [0.4, 0.6]\n",
    "    }\n",
    "  },\n",
    "  2: {\n",
    "    'blank': {'Increase': 'an increase in industrial production', 'Decrease': 'a decrease in industrial production'}, \n",
    "    'implications': {\n",
    "      'very low': [0.01, 0.1], \n",
    "      'low': [0.1, 0.3], \n",
    "      'moderate': [0.3, 0.5], \n",
    "      'high': [0.5, 0.7], \n",
    "      'very high': [0.7, 0.9], \n",
    "      'significant': [0.6, 0.8], \n",
    "      'negligible': [0.1, 0.2], \n",
    "      'substantial': [0.5, 0.7], \n",
    "      'insignificant': [0.2, 0.3], \n",
    "      'considerable': [0.4, 0.6]\n",
    "    }\n",
    "  },\n",
    "  3: {\n",
    "    'blank': {'Decrease': 'a decrease in the unemployment rate', 'Increase': 'an increase in the unemployment rate'}, \n",
    "    'implications': {\n",
    "      'very low': [0.01, 0.1], \n",
    "      'low': [0.1, 0.3], \n",
    "      'moderate': [0.3, 0.5], \n",
    "      'high': [0.5, 0.7], \n",
    "      'very high': [0.7, 0.9], \n",
    "      'significant': [0.6, 0.8], \n",
    "      'negligible': [0.1, 0.2], \n",
    "      'substantial': [0.5, 0.7], \n",
    "      'insignificant': [0.2, 0.3], \n",
    "      'considerable': [0.4, 0.6]\n",
    "    }\n",
    "  },\n",
    "  4: {\n",
    "    'blank': {'High': 'high consumer confidence', 'Low': 'low consumer confidence'}, \n",
    "    'implications': {\n",
    "      'very low': [0.01, 0.1], \n",
    "      'low': [0.1, 0.3], \n",
    "      'moderate': [0.3, 0.5], \n",
    "      'high': [0.5, 0.7], \n",
    "      'very high': [0.7, 0.9], \n",
    "      'significant': [0.6, 0.8], \n",
    "      'negligible': [0.1, 0.2], \n",
    "      'substantial': [0.5, 0.7], \n",
    "      'insignificant': [0.2, 0.3], \n",
    "      'considerable': [0.4, 0.6]\n",
    "    }\n",
    "  },\n",
    "  5: {\n",
    "    'blank': {'Positive Growth': 'positive economic growth', 'No Growth': 'no economic growth'}, \n",
    "    'implications': {\n",
    "      'very low': [0.01, 0.1], \n",
    "      'low': [0.1, 0.3], \n",
    "      'moderate': [0.3, 0.5], \n",
    "      'high': [0.5, 0.7], \n",
    "      'very high': [0.7, 0.9], \n",
    "      'significant': [0.6, 0.8], \n",
    "      'negligible': [0.1, 0.2], \n",
    "      'substantial': [0.5, 0.7], \n",
    "      'insignificant': [0.2, 0.3], \n",
    "      'considerable': [0.4, 0.6]\n",
    "    }\n",
    "  },\n",
    "  6: {\n",
    "    'blank': {'Good': 'good market performance', 'Poor': 'poor market performance'}, \n",
    "    'implications': {\n",
    "      'very low': [0.01, 0.1], \n",
    "      'low': [0.1, 0.3], \n",
    "      'moderate': [0.3, 0.5], \n",
    "      'high': [0.5, 0.7], \n",
    "      'very high': [0.7, 0.9], \n",
    "      'significant': [0.6, 0.8], \n",
    "      'negligible': [0.1, 0.2], \n",
    "      'substantial': [0.5, 0.7], \n",
    "      'insignificant': [0.2, 0.3], \n",
    "      'considerable': [0.4, 0.6]\n",
    "    }\n",
    "  }\n",
    "}\n",
    "\n",
    "all(e1['implications'] == e2['implications'] for e1, e2 in combinations(evidence.values(), 2))\n"
   ],
   "metadata": {
    "collapsed": false,
    "ExecuteTime": {
     "end_time": "2023-11-17T14:10:45.018453412Z",
     "start_time": "2023-11-17T14:10:44.985886236Z"
    }
   },
   "id": "79cbbcae4d3e4455"
  },
  {
   "cell_type": "code",
   "execution_count": 121,
   "outputs": [
    {
     "name": "stdout",
     "output_type": "stream",
     "text": [
      "Title: China's economy grows 4.9% while the rest of the world is crippled by coronavirus - Daily Mail\n",
      "Description: China's economy has grown 4.9 percent in the third quarter from last year proving the country is back to its pre-pandemic trajectory as industrial production is up and unemployment is down.\n",
      "Original Language: English\n"
     ]
    }
   ],
   "source": [
    "print(ctx['spark'])"
   ],
   "metadata": {
    "collapsed": false,
    "ExecuteTime": {
     "end_time": "2023-11-17T14:40:34.386481665Z",
     "start_time": "2023-11-17T14:40:34.334250094Z"
    }
   },
   "id": "46ccd04c24fae20e"
  },
  {
   "cell_type": "code",
   "execution_count": null,
   "outputs": [],
   "source": [],
   "metadata": {
    "collapsed": false
   },
   "id": "cf82aa58afe6397b"
  },
  {
   "cell_type": "code",
   "execution_count": null,
   "outputs": [],
   "source": [
    "setting = {\n",
    "    \"introduction\": \"In light of China's notable economic growth of 4.9% amidst the global coronavirus pandemic, as reported by the Daily Mail, this causal model seeks to unravel the underlying factors contributing to this growth. It aims to provide insights into how different aspects such as industrial production and unemployment rates have played a role in shaping China's economic trajectory during this period.\",\n",
    "    \"overview\": \"Our causal graph is a simplified representation of the complex interplay between various economic factors. It includes variables like government policies, industrial production, and unemployment rates, each affecting the other in unique ways. For instance, government policies can be a confounder, affecting both unemployment and industrial production, while consumer confidence acts as a mediator, reflecting the impact of industrial changes on the overall economic growth.\",\n",
    "    \"questions\": {\n",
    "        1: {\"question\": \"Does an increase in industrial production have a positive effect on China's economic growth?\", \"answer\": \"yes\", \"explanation\": \"Given the economic context, an increase in industrial production likely contributes positively to economic growth.\", \"inequality\": \"ATE(IP) > 0\"},\n",
    "        2: {\"question\": \"Is the positive impact of decreasing unemployment on economic growth greater than that of increasing industrial production?\", \"answer\": \"no\", \"explanation\": \"Industrial production typically has a more direct and significant impact on economic growth compared to changes in unemployment rates.\", \"inequality\": \"ATE(UR) > ATE(IP)\"},\n",
    "        3: {\"question\": \"Does a decrease in the unemployment rate positively influence China's economic growth?\", \"answer\": \"yes\", \"explanation\": \"Lower unemployment generally leads to higher consumer spending and economic growth.\", \"inequality\": \"ATE(UR) > 0\"},\n",
    "        4: {\"question\": \"Is the impact of industrial production on economic growth stronger than the influence of government economic policies?\", \"answer\": \"yes\", \"explanation\": \"While government policies set the stage, industrial production is a more direct driver of economic growth.\", \"inequality\": \"ATE(IP) > ATE(GEP)\"},\n",
    "        5: {\"question\": \"Does a stimulative government policy have a greater positive effect on economic growth than an increase in industrial production?\", \"answer\": \"no\", \"explanation\": \"Industrial production, being a direct economic activity, likely has a stronger immediate impact on economic growth than general government policies.\", \"inequality\": \"ATE(GEP) > ATE(IP)\"}\n",
    "    },\n",
    "}\n"
   ],
   "metadata": {
    "collapsed": false
   },
   "id": "bcb1b46b3d4dc419"
  },
  {
   "cell_type": "code",
   "execution_count": 227,
   "outputs": [],
   "source": [
    "import pandas as pd\n",
    "from dowhy import CausalModel\n",
    "from networkx.drawing.nx_pydot import write_dot"
   ],
   "metadata": {
    "collapsed": false,
    "ExecuteTime": {
     "end_time": "2023-11-17T16:42:53.528932801Z",
     "start_time": "2023-11-17T16:42:53.492019Z"
    }
   },
   "id": "aa2676eeab935fe6"
  },
  {
   "cell_type": "code",
   "execution_count": 226,
   "outputs": [
    {
     "data": {
      "text/plain": "<networkx.classes.digraph.DiGraph at 0x7face779d850>"
     },
     "execution_count": 226,
     "metadata": {},
     "output_type": "execute_result"
    }
   ],
   "source": [
    "G = nx.DiGraph()\n",
    "for var in net.vars:\n",
    "    G.add_node(var.name)\n",
    "    for parent in var.parents:\n",
    "        G.add_edge(parent.name, var.name)\n",
    "G"
   ],
   "metadata": {
    "collapsed": false,
    "ExecuteTime": {
     "end_time": "2023-11-17T16:42:42.536213022Z",
     "start_time": "2023-11-17T16:42:42.484794281Z"
    }
   },
   "id": "5e7aafe933bd077f"
  },
  {
   "cell_type": "code",
   "execution_count": null,
   "outputs": [],
   "source": [],
   "metadata": {
    "collapsed": false
   },
   "id": "8c7e5e9f7b925deb"
  },
  {
   "cell_type": "code",
   "execution_count": null,
   "outputs": [],
   "source": [],
   "metadata": {
    "collapsed": false
   },
   "id": "826859c190c49f94"
  },
  {
   "cell_type": "code",
   "execution_count": 127,
   "outputs": [],
   "source": [
    "def convert_to_dot(nodes):\n",
    "    # Start the DOT graph definition\n",
    "    dot_graph = \"digraph {\\n\"\n",
    "\n",
    "    # Iterate over nodes to add them to the graph\n",
    "    for node in nodes:\n",
    "        dot_graph += f'    \"{node[\"name\"]}\" [label=\"{node[\"name\"]}: {node[\"description\"]}\"];\\n'\n",
    "\n",
    "        # Add edges from parents to this node\n",
    "        for parent in node.get(\"parents\", []):\n",
    "            dot_graph += f'    \"{parent}\" -> \"{node[\"name\"]}\";\\n'\n",
    "\n",
    "    dot_graph += \"}\\n\"\n",
    "    return dot_graph"
   ],
   "metadata": {
    "collapsed": false,
    "ExecuteTime": {
     "end_time": "2023-11-17T15:29:05.491002427Z",
     "start_time": "2023-11-17T15:29:05.471333306Z"
    }
   },
   "id": "4d7c72efc77402f6"
  },
  {
   "cell_type": "code",
   "execution_count": null,
   "outputs": [],
   "source": [],
   "metadata": {
    "collapsed": false
   },
   "id": "3c7139d76940267d"
  },
  {
   "cell_type": "code",
   "execution_count": null,
   "outputs": [],
   "source": [
    "net"
   ],
   "metadata": {
    "collapsed": false
   },
   "id": "ccaa22fdb7db1823"
  },
  {
   "cell_type": "code",
   "execution_count": null,
   "outputs": [],
   "source": [],
   "metadata": {
    "collapsed": false
   },
   "id": "70ed5f4de754786b"
  },
  {
   "cell_type": "code",
   "execution_count": 129,
   "outputs": [
    {
     "name": "stdout",
     "output_type": "stream",
     "text": [
      "\"GEP\" means \"Government Economic Policies\"\n",
      "\"IP\" means \"Industrial Production\"\n",
      "\"UR\" means \"Unemployment Rate\"\n",
      "\"CC\" means \"Consumer Confidence\"\n",
      "\"EG\" means \"Economic Growth\"\n",
      "\"MP\" means \"Market Performance\"\n"
     ]
    }
   ],
   "source": [
    "print(ctx['descriptions'])"
   ],
   "metadata": {
    "collapsed": false,
    "ExecuteTime": {
     "end_time": "2023-11-17T15:29:23.980795422Z",
     "start_time": "2023-11-17T15:29:23.959606348Z"
    }
   },
   "id": "27207467be5d57a"
  },
  {
   "cell_type": "code",
   "execution_count": 221,
   "outputs": [
    {
     "name": "stderr",
     "output_type": "stream",
     "text": [
      "ERROR:dowhy.causal_graph: Error: Pygraphviz cannot be loaded. No module named 'pygraphviz'\n",
      "Trying pydot ...\n"
     ]
    },
    {
     "name": "stdout",
     "output_type": "stream",
     "text": [
      "Estimand type: EstimandType.NONPARAMETRIC_ATE\n",
      "\n",
      "### Estimand : 1\n",
      "Estimand name: backdoor\n",
      "Estimand expression:\n",
      "  d               \n",
      "─────(E[EG|UR,IP])\n",
      "d[CC]             \n",
      "Estimand assumption 1, Unconfoundedness: If U→{CC} and U→EG then P(EG|CC,UR,IP,U) = P(EG|CC,UR,IP)\n",
      "\n",
      "### Estimand : 2\n",
      "Estimand name: iv\n",
      "No such variable(s) found!\n",
      "\n",
      "### Estimand : 3\n",
      "Estimand name: frontdoor\n",
      "No such variable(s) found!\n"
     ]
    },
    {
     "data": {
      "text/plain": "({'backdoor1': ['UR', 'IP', 'GEP'],\n  'backdoor2': ['UR', 'IP'],\n  'backdoor': ['UR', 'IP']},\n 'backdoor2')"
     },
     "execution_count": 221,
     "metadata": {},
     "output_type": "execute_result"
    }
   ],
   "source": [
    "# Create a dummy DataFrame\n",
    "# The columns should match the nodes in your causal graph\n",
    "dummy_data = pd.DataFrame({\n",
    "    'EG': [0],   # Economic Growth\n",
    "    'IP': [0],   # Industrial Production\n",
    "    'UR': [0],   # Unemployment Rate\n",
    "    'GEP': [0],  # Government Economic Policies\n",
    "    'CC': [0],   # Consumer Confidence\n",
    "    'MP': [0]    # Market Performance\n",
    "})\n",
    "\n",
    "# Define your DOT graph (use the function from the previous response)\n",
    "dot_graph = convert_to_dot(nodes)\n",
    "\n",
    "# Instantiate the CausalModel with dummy data\n",
    "model = CausalModel(\n",
    "    data=dummy_data,\n",
    "    treatment='CC',  # Replace with your treatment variable name\n",
    "    outcome='EG',      # Replace with your outcome variable name\n",
    "    graph=dot_graph\n",
    ")\n",
    "\n",
    "identified_estimand = model.identify_effect()\n",
    "print(identified_estimand)\n",
    "\n",
    "from sympy import pretty\n",
    "\n",
    "# # Assuming 'identified_estimand' is the object returned by model.identify_effect()\n",
    "# \n",
    "# # Print the basic information about the estimand\n",
    "# print(\"Estimand Identifier:\", identified_estimand.identifier)\n",
    "# print(\"Estimand Type:\", identified_estimand.estimand_type)\n",
    "# \n",
    "# # Accessing the estimands attribute\n",
    "# estimands_info = identified_estimand.estimands\n",
    "# \n",
    "# # Displaying the estimands information\n",
    "# print(\"Estimands Information:\")\n",
    "# print(estimands_info)\n",
    "\n",
    "identified_estimand.backdoor_variables, identified_estimand.default_backdoor_id"
   ],
   "metadata": {
    "collapsed": false,
    "ExecuteTime": {
     "end_time": "2023-11-17T16:20:35.773521574Z",
     "start_time": "2023-11-17T16:20:35.723047563Z"
    }
   },
   "id": "93d6c72207e41e7d"
  },
  {
   "cell_type": "code",
   "execution_count": 222,
   "outputs": [
    {
     "data": {
      "text/plain": "  d               \n─────(E[EG|UR,IP])\nd[CC]             ",
      "text/latex": "$\\displaystyle \\frac{d}{d \\left[\\begin{matrix}CC\\end{matrix}\\right]} \\operatorname{E}\\left[EG|UR,IP\\right]$"
     },
     "execution_count": 222,
     "metadata": {},
     "output_type": "execute_result"
    }
   ],
   "source": [
    "sym = identified_estimand.estimands[identified_estimand.default_backdoor_id]['estimand']\n",
    "sym"
   ],
   "metadata": {
    "collapsed": false,
    "ExecuteTime": {
     "end_time": "2023-11-17T16:20:37.010913900Z",
     "start_time": "2023-11-17T16:20:36.939807580Z"
    }
   },
   "id": "71c98945aa48f639"
  },
  {
   "cell_type": "code",
   "execution_count": 223,
   "outputs": [
    {
     "name": "stdout",
     "output_type": "stream",
     "text": [
      "  d               \n",
      "─────(E[EG|UR,IP])\n",
      "d[CC]             \n"
     ]
    }
   ],
   "source": [
    "print(pretty(sym))"
   ],
   "metadata": {
    "collapsed": false,
    "ExecuteTime": {
     "end_time": "2023-11-17T16:20:37.530553227Z",
     "start_time": "2023-11-17T16:20:37.514577711Z"
    }
   },
   "id": "81dca0ac3d6af062"
  },
  {
   "cell_type": "code",
   "execution_count": 224,
   "outputs": [
    {
     "name": "stdout",
     "output_type": "stream",
     "text": [
      "EG CC ['UR', 'IP']\n"
     ]
    }
   ],
   "source": [
    "do = sym.args[1][0].args[0][0].name\n",
    "exp = sym.args[0].args[0].name\n",
    "if '|' in exp:\n",
    "    outcome, cond = exp.split('|')\n",
    "    cond = cond.split(',')\n",
    "else:\n",
    "    outcome = exp\n",
    "    cond = []\n",
    "    \n",
    "print(outcome, do, cond)"
   ],
   "metadata": {
    "collapsed": false,
    "ExecuteTime": {
     "end_time": "2023-11-17T16:20:38.501074816Z",
     "start_time": "2023-11-17T16:20:38.443318970Z"
    }
   },
   "id": "42a9234e24004c1b"
  },
  {
   "cell_type": "code",
   "execution_count": 229,
   "outputs": [
    {
     "name": "stdout",
     "output_type": "stream",
     "text": [
      "ATE(CC -> EG) = E_{UR=u,IP=v} [ p(EG=1 | CC=1,UR=u,IP=v) - p(EG=1 | CC=0,UR=u,IP=v) ]\n"
     ]
    }
   ],
   "source": [
    "dummyvars = 'uvwxyz'\n",
    "assert len(cond) <= len(dummyvars)\n",
    "psum = ''\n",
    "condsuffix = ''\n",
    "if len(cond):\n",
    "    psum = ','.join(f'{v}={dummyvars[i]}' for i, v in enumerate(cond))\n",
    "    psum = f'E_{{{psum}}} '\n",
    "\n",
    "    condsuffix = ',' + ','.join(f'{v}={dummyvars[i]}' for i, v in enumerate(cond))\n",
    "\n",
    "expr = f'{psum}{\"[ \" if len(cond) else \"\"}p({outcome}=1 | {do}=1{condsuffix}) - p({outcome}=1 | {do}=0{condsuffix}){\" ]\" if len(cond) else \"\"}'\n",
    "\n",
    "# expr = (f'{psum}{\" [ \" if len(cond) else \"\"}p({outcome} | {do}=1{\", \" + \", \".join(cond) if len(cond) else \"\"}) - p({outcome} | {do}=0{\", \" + \",\".join(cond) if len(cond) else \"\"}){\" ]\" if len(cond) else \"\"}')\n",
    "print(f'ATE({do} -> {outcome}) = {expr}')"
   ],
   "metadata": {
    "collapsed": false,
    "ExecuteTime": {
     "end_time": "2023-11-17T17:06:39.653520046Z",
     "start_time": "2023-11-17T17:06:39.579828051Z"
    }
   },
   "id": "3c4b6395db86d3a5"
  },
  {
   "cell_type": "code",
   "execution_count": 215,
   "outputs": [],
   "source": [],
   "metadata": {
    "collapsed": false,
    "ExecuteTime": {
     "end_time": "2023-11-17T16:19:16.720067792Z",
     "start_time": "2023-11-17T16:19:16.682463947Z"
    }
   },
   "id": "f10832a3a199de04"
  },
  {
   "cell_type": "code",
   "execution_count": null,
   "outputs": [],
   "source": [],
   "metadata": {
    "collapsed": false
   },
   "id": "ce7532d3e5f9710c"
  },
  {
   "cell_type": "code",
   "execution_count": 153,
   "outputs": [
    {
     "ename": "AttributeError",
     "evalue": "'ImmutableDenseNDimArray' object has no attribute 'name'",
     "output_type": "error",
     "traceback": [
      "\u001B[0;31m---------------------------------------------------------------------------\u001B[0m",
      "\u001B[0;31mAttributeError\u001B[0m                            Traceback (most recent call last)",
      "Cell \u001B[0;32mIn[153], line 1\u001B[0m\n\u001B[0;32m----> 1\u001B[0m \u001B[43msym\u001B[49m\u001B[38;5;241;43m.\u001B[39;49m\u001B[43mvariables\u001B[49m\u001B[43m[\u001B[49m\u001B[38;5;241;43m0\u001B[39;49m\u001B[43m]\u001B[49m\u001B[38;5;241;43m.\u001B[39;49m\u001B[43mname\u001B[49m\n",
      "\u001B[0;31mAttributeError\u001B[0m: 'ImmutableDenseNDimArray' object has no attribute 'name'"
     ]
    }
   ],
   "source": [
    "sym.variables[0]"
   ],
   "metadata": {
    "collapsed": false,
    "ExecuteTime": {
     "end_time": "2023-11-17T15:41:40.436083421Z",
     "start_time": "2023-11-17T15:41:40.421360492Z"
    }
   },
   "id": "37bf7343710ee697"
  },
  {
   "cell_type": "code",
   "execution_count": 154,
   "outputs": [
    {
     "data": {
      "text/plain": "E[EG|GEP]",
      "image/png": "[encoded data removed]",
      "text/latex": "$\\displaystyle \\operatorname{E}\\left[EG|GEP\\right]$"
     },
     "execution_count": 154,
     "metadata": {},
     "output_type": "execute_result"
    }
   ],
   "source": [
    "expr = sym.expr\n",
    "expr"
   ],
   "metadata": {
    "collapsed": false,
    "ExecuteTime": {
     "end_time": "2023-11-17T15:42:23.896056718Z",
     "start_time": "2023-11-17T15:42:23.817110496Z"
    }
   },
   "id": "7ca9b5d52e9bdc53"
  },
  {
   "cell_type": "code",
   "execution_count": 159,
   "outputs": [],
   "source": [
    "e = expr.args[0]"
   ],
   "metadata": {
    "collapsed": false,
    "ExecuteTime": {
     "end_time": "2023-11-17T15:48:29.372834510Z",
     "start_time": "2023-11-17T15:48:29.331815176Z"
    }
   },
   "id": "942f1e9a7ab93ef2"
  },
  {
   "cell_type": "code",
   "execution_count": 160,
   "outputs": [
    {
     "data": {
      "text/plain": "⎛⎡⎛  d               ⎛                ⎛  d              ⎞⎞⎞⎤    ⎞\n⎜⎢⎜─────(E[EG|GEP]), ⎜(1.0, 0.0), (), ⎜─────(E[EG|GEP]),⎟⎟⎟⎥, []⎟\n⎝⎣⎝d[UR]             ⎝                ⎝d[UR]            ⎠⎠⎠⎦    ⎠",
      "text/latex": "$\\displaystyle \\left( \\left[ \\left( \\frac{d}{d \\left[\\begin{matrix}UR\\end{matrix}\\right]} \\operatorname{E}\\left[EG|GEP\\right], \\  \\left( \\left( 1.0, \\  0.0\\right), \\  \\left( \\right), \\  \\left( \\frac{d}{d \\left[\\begin{matrix}UR\\end{matrix}\\right]} \\operatorname{E}\\left[EG|GEP\\right],\\right)\\right)\\right)\\right], \\  \\left[ \\right]\\right)$"
     },
     "execution_count": 160,
     "metadata": {},
     "output_type": "execute_result"
    }
   ],
   "source": [
    "terms = sym.as_terms()\n",
    "terms"
   ],
   "metadata": {
    "collapsed": false,
    "ExecuteTime": {
     "end_time": "2023-11-17T15:54:02.518522151Z",
     "start_time": "2023-11-17T15:54:02.447641319Z"
    }
   },
   "id": "17f662ccb78cb6da"
  },
  {
   "cell_type": "code",
   "execution_count": 161,
   "outputs": [
    {
     "name": "stdout",
     "output_type": "stream",
     "text": [
      "Expression: Derivative(Expectation(EG|GEP), [UR])\n",
      "Coefficient: ((1.0, 0.0), (), (Derivative(Expectation(EG|GEP), [UR]),))\n"
     ]
    }
   ],
   "source": [
    "for term in terms[0]:\n",
    "    # Each term is a tuple, with the first element being the term itself and the second being its coefficient\n",
    "    expression, coefficient = term\n",
    "    # You can now analyze 'expression' and 'coefficient' to extract variable names and their relationships\n",
    "    # For instance, print them out to see their structure\n",
    "    print(\"Expression:\", expression)\n",
    "    print(\"Coefficient:\", coefficient)"
   ],
   "metadata": {
    "collapsed": false,
    "ExecuteTime": {
     "end_time": "2023-11-17T15:54:25.600817796Z",
     "start_time": "2023-11-17T15:54:25.565631474Z"
    }
   },
   "id": "50280e325b2cda90"
  },
  {
   "cell_type": "code",
   "execution_count": 164,
   "outputs": [
    {
     "name": "stdout",
     "output_type": "stream",
     "text": [
      "Expression: Derivative(E(EG, GEP), UR)\n",
      "Coefficient: ((1.0, 0.0), (1,), ())\n"
     ]
    }
   ],
   "source": [
    "from sympy import symbols, Derivative, Function\n",
    "\n",
    "# Define your symbols\n",
    "EG, GEP, UR = symbols('EG GEP UR')\n",
    "\n",
    "# Define the expected value function\n",
    "E = Function('E')(EG, GEP)\n",
    "\n",
    "# Define the derivative\n",
    "deriv = Derivative(E, UR)\n",
    "\n",
    "# Extract terms from the derivative\n",
    "terms = deriv.as_terms()\n",
    "\n",
    "# Process the terms to extract variable names and relationships\n",
    "# terms is a tuple, where the first element contains the terms\n",
    "for term in terms[0]:\n",
    "    # Each term is a tuple, with the first element being the term itself and the second being its coefficient\n",
    "    expression, coefficient = term\n",
    "    # You can now analyze 'expression' and 'coefficient' to extract variable names and their relationships\n",
    "    # For instance, print them out to see their structure\n",
    "    print(\"Expression:\", expression)\n",
    "    print(\"Coefficient:\", coefficient)"
   ],
   "metadata": {
    "collapsed": false,
    "ExecuteTime": {
     "end_time": "2023-11-17T15:55:19.554568299Z",
     "start_time": "2023-11-17T15:55:19.447398010Z"
    }
   },
   "id": "a83ad5dd7c6dc685"
  },
  {
   "cell_type": "code",
   "execution_count": 167,
   "outputs": [
    {
     "data": {
      "text/plain": " ∂             \n───(E(EG, GEP))\n∂UR            ",
      "image/png": "[encoded data removed]",
      "text/latex": "$\\displaystyle \\frac{\\partial}{\\partial UR} E{\\left(EG,GEP \\right)}$"
     },
     "execution_count": 167,
     "metadata": {},
     "output_type": "execute_result"
    }
   ],
   "source": [
    "deriv"
   ],
   "metadata": {
    "collapsed": false,
    "ExecuteTime": {
     "end_time": "2023-11-17T15:59:32.937196075Z",
     "start_time": "2023-11-17T15:59:32.851668831Z"
    }
   },
   "id": "11fe1cb94c8c0c7e"
  },
  {
   "cell_type": "code",
   "execution_count": 166,
   "outputs": [
    {
     "data": {
      "text/plain": "(EG, GEP)",
      "image/png": "[encoded data removed]",
      "text/latex": "$\\displaystyle \\left( EG, \\  GEP\\right)$"
     },
     "execution_count": 166,
     "metadata": {},
     "output_type": "execute_result"
    }
   ],
   "source": [
    "E.args"
   ],
   "metadata": {
    "collapsed": false,
    "ExecuteTime": {
     "end_time": "2023-11-17T15:59:25.637477739Z",
     "start_time": "2023-11-17T15:59:25.562784063Z"
    }
   },
   "id": "d54fe53bb33c4c02"
  },
  {
   "cell_type": "code",
   "execution_count": null,
   "outputs": [],
   "source": [],
   "metadata": {
    "collapsed": false
   },
   "id": "b6436dbf1a4b3a4e"
  },
  {
   "cell_type": "code",
   "execution_count": null,
   "outputs": [],
   "source": [],
   "metadata": {
    "collapsed": false
   },
   "id": "e1ab83f0f02c3b51"
  },
  {
   "cell_type": "code",
   "execution_count": null,
   "id": "initial_id",
   "metadata": {
    "collapsed": true
   },
   "outputs": [],
   "source": []
  }
 ],
 "metadata": {
  "kernelspec": {
   "display_name": "Python 3",
   "language": "python",
   "name": "python3"
  },
  "language_info": {
   "codemirror_mode": {
    "name": "ipython",
    "version": 2
   },
   "file_extension": ".py",
   "mimetype": "text/x-python",
   "name": "python",
   "nbconvert_exporter": "python",
   "pygments_lexer": "ipython2",
   "version": "2.7.6"
  }
 },
 "nbformat": 4,
 "nbformat_minor": 5
}

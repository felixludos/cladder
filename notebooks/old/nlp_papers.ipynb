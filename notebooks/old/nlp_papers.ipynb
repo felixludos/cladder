{
 "cells": [
  {
   "cell_type": "code",
   "outputs": [],
   "source": [
    "from pathlib import Path\n",
    "import bibtexparser"
   ],
   "metadata": {
    "collapsed": false,
    "ExecuteTime": {
     "end_time": "2024-01-19T15:52:05.983797100Z",
     "start_time": "2024-01-19T15:52:05.940786600Z"
    }
   },
   "id": "a0422ab301911e2f",
   "execution_count": 2
  },
  {
   "cell_type": "code",
   "outputs": [],
   "source": [
    "root = Path(r'C:\\Users\\anwan\\Downloads')\n",
    "bibpath = root / 'anthology+abstracts.bib'"
   ],
   "metadata": {
    "collapsed": false,
    "ExecuteTime": {
     "end_time": "2024-01-19T15:52:07.113901700Z",
     "start_time": "2024-01-19T15:52:07.092948600Z"
    }
   },
   "id": "9ceac9494b28724e",
   "execution_count": 3
  },
  {
   "cell_type": "code",
   "outputs": [
    {
     "name": "stderr",
     "output_type": "stream",
     "text": [
      "\n",
      "KeyboardInterrupt\n",
      "\n"
     ]
    }
   ],
   "source": [
    "with bibpath.open('r', encoding='utf-8') as bibtex_file:\n",
    "    bib_database = bibtexparser.load(bibtex_file)"
   ],
   "metadata": {
    "collapsed": false,
    "ExecuteTime": {
     "end_time": "2024-01-19T15:54:35.463265500Z",
     "start_time": "2024-01-19T15:52:56.198018500Z"
    }
   },
   "id": "a0a0cd4922adb288",
   "execution_count": 6
  },
  {
   "cell_type": "code",
   "outputs": [],
   "source": [
    "for entry in bib_database.entries:\n",
    "    print(entry)\n",
    "    break"
   ],
   "metadata": {
    "collapsed": false,
    "ExecuteTime": {
     "end_time": "2024-01-19T15:54:35.471399300Z",
     "start_time": "2024-01-19T15:54:35.469211500Z"
    }
   },
   "id": "f2c1dcd399e9ef83"
  },
  {
   "cell_type": "code",
   "outputs": [],
   "source": [],
   "metadata": {
    "collapsed": false
   },
   "id": "b80f5aebf733783a"
  },
  {
   "cell_type": "code",
   "outputs": [],
   "source": [],
   "metadata": {
    "collapsed": false
   },
   "id": "309161e5b2458644"
  },
  {
   "cell_type": "code",
   "outputs": [],
   "source": [],
   "metadata": {
    "collapsed": false
   },
   "id": "28b3d5cd5b3ef755"
  },
  {
   "cell_type": "code",
   "outputs": [],
   "source": [],
   "metadata": {
    "collapsed": false
   },
   "id": "177d5f757a935750"
  },
  {
   "cell_type": "code",
   "execution_count": null,
   "id": "initial_id",
   "metadata": {
    "collapsed": true
   },
   "outputs": [],
   "source": []
  }
 ],
 "metadata": {
  "kernelspec": {
   "display_name": "Python 3",
   "language": "python",
   "name": "python3"
  },
  "language_info": {
   "codemirror_mode": {
    "name": "ipython",
    "version": 2
   },
   "file_extension": ".py",
   "mimetype": "text/x-python",
   "name": "python",
   "nbconvert_exporter": "python",
   "pygments_lexer": "ipython2",
   "version": "2.7.6"
  }
 },
 "nbformat": 4,
 "nbformat_minor": 5
}

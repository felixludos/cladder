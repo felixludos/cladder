{
 "cells": [
  {
   "cell_type": "code",
   "execution_count": 22,
   "id": "initial_id",
   "metadata": {
    "collapsed": true,
    "ExecuteTime": {
     "end_time": "2023-10-25T14:38:36.235043695Z",
     "start_time": "2023-10-25T14:38:36.192290733Z"
    }
   },
   "outputs": [],
   "source": [
    "import numpy as np\n",
    "import torch\n",
    "from pomegranate.distributions import Categorical\n",
    "from pomegranate.distributions import ConditionalCategorical\n",
    "from pomegranate.bayesian_network import BayesianNetwork"
   ]
  },
  {
   "cell_type": "code",
   "execution_count": 23,
   "outputs": [
    {
     "data": {
      "text/plain": "array([[0, 0],\n       [1, 1],\n       [0, 1],\n       [1, 0],\n       [1, 0],\n       [0, 0],\n       [0, 0],\n       [1, 0],\n       [0, 1],\n       [1, 1]])"
     },
     "execution_count": 23,
     "metadata": {},
     "output_type": "execute_result"
    }
   ],
   "source": [
    "X = np.random.randint(2, size=(10, 2))\n",
    "X"
   ],
   "metadata": {
    "collapsed": false,
    "ExecuteTime": {
     "end_time": "2023-10-25T14:38:45.043858200Z",
     "start_time": "2023-10-25T14:38:45.032772095Z"
    }
   },
   "id": "eeaa3a61763ea702"
  },
  {
   "cell_type": "code",
   "execution_count": 19,
   "outputs": [],
   "source": [
    "\n",
    "d1 = Categorical([[0.1, 0.9]])\n",
    "d2 = ConditionalCategorical([[[0.4, 0.6], [0.3, 0.7]]])\n",
    "\n",
    "model = BayesianNetwork([d1, d2], [(d1, d2)])"
   ],
   "metadata": {
    "collapsed": false,
    "ExecuteTime": {
     "end_time": "2023-10-25T14:37:46.612767582Z",
     "start_time": "2023-10-25T14:37:46.603981332Z"
    }
   },
   "id": "bbef73e7cbce789b"
  },
  {
   "cell_type": "code",
   "execution_count": 20,
   "outputs": [
    {
     "data": {
      "text/plain": "BayesianNetwork(\n  (distributions): ModuleList(\n    (0): Categorical()\n    (1): ConditionalCategorical(\n      (probs): ParameterList(  (0): Parameter containing: [torch.float32 of size 2x2])\n      (_w_sum): [tensor([0., 0.])]\n      (_xw_sum): [tensor([[0., 0.],\n              [0., 0.]])]\n      (_log_probs): [tensor([[-0.9163, -0.5108],\n              [-1.2040, -0.3567]])]\n    )\n  )\n  (_factor_graph): FactorGraph(\n    (factors): ModuleList(\n      (0): Categorical()\n      (1): JointCategorical()\n    )\n    (marginals): ModuleList(\n      (0-1): 2 x Categorical()\n    )\n  )\n)"
     },
     "execution_count": 20,
     "metadata": {},
     "output_type": "execute_result"
    }
   ],
   "source": [
    "model"
   ],
   "metadata": {
    "collapsed": false,
    "ExecuteTime": {
     "end_time": "2023-10-25T14:37:46.806600073Z",
     "start_time": "2023-10-25T14:37:46.791009092Z"
    }
   },
   "id": "86a4a34da65677bb"
  },
  {
   "cell_type": "code",
   "execution_count": 27,
   "outputs": [
    {
     "data": {
      "text/plain": "tensor([[0, 0],\n        [1, 1],\n        [0, 1],\n        [1, 0]])"
     },
     "execution_count": 27,
     "metadata": {},
     "output_type": "execute_result"
    }
   ],
   "source": [
    "X_torch = torch.tensor(X[:4])\n",
    "X_torch"
   ],
   "metadata": {
    "collapsed": false,
    "ExecuteTime": {
     "end_time": "2023-10-25T14:48:41.223221003Z",
     "start_time": "2023-10-25T14:48:41.179117293Z"
    }
   },
   "id": "5c66a5f0bb89bba"
  },
  {
   "cell_type": "code",
   "execution_count": 26,
   "outputs": [
    {
     "data": {
      "text/plain": "[tensor([[1.0000, 0.0000],\n         [0.0870, 0.9130],\n         [1.0000, 0.0000],\n         [0.1000, 0.9000]]),\n tensor([[0.4000, 0.6000],\n         [0.0000, 1.0000],\n         [0.0000, 1.0000],\n         [0.3100, 0.6900]])]"
     },
     "execution_count": 26,
     "metadata": {},
     "output_type": "execute_result"
    }
   ],
   "source": [
    "\n",
    "mask = torch.tensor([[True, False],\n",
    "                     [False, True],\n",
    "                     [True, True],\n",
    "                     [False, False]])\n",
    "\n",
    "X_masked = torch.masked.MaskedTensor(X_torch, mask=mask)\n",
    "model.predict_proba(X_masked)"
   ],
   "metadata": {
    "collapsed": false,
    "ExecuteTime": {
     "end_time": "2023-10-25T14:48:14.739147245Z",
     "start_time": "2023-10-25T14:48:14.696257183Z"
    }
   },
   "id": "fb9f9e075c5f16f2"
  },
  {
   "cell_type": "code",
   "execution_count": null,
   "outputs": [],
   "source": [],
   "metadata": {
    "collapsed": false,
    "ExecuteTime": {
     "end_time": "2023-10-25T14:24:22.219931433Z",
     "start_time": "2023-10-25T14:24:22.219042441Z"
    }
   },
   "id": "f1efb4fcac2bf329"
  },
  {
   "cell_type": "code",
   "execution_count": 6,
   "outputs": [],
   "source": [
    "X = torch.randint(2, size=(20, 4))\n",
    "\n",
    "d1 = Categorical([[0.1, 0.9]])\n",
    "d2 = Categorical([[0.3, 0.7]])\n",
    "d3 = ConditionalCategorical([[[0.4, 0.6], [0.3, 0.7]]])\n",
    "d4 = ConditionalCategorical([[[[0.8, 0.2], [0.1, 0.9]], [[0.1, 0.9], [0.5, 0.5]]]])\n",
    "\n",
    "model = BayesianNetwork([d1, d2, d3, d4], [(d1, d3), (d2, d4), (d3, d4)])\n",
    "model.summarize(X[:5])\n",
    "model.summarize(X[5:])\n",
    "model.from_summaries()"
   ],
   "metadata": {
    "collapsed": false,
    "ExecuteTime": {
     "end_time": "2023-10-25T14:26:11.088712887Z",
     "start_time": "2023-10-25T14:26:11.037543612Z"
    }
   },
   "id": "f7f9f924af30dc1f"
  },
  {
   "cell_type": "code",
   "execution_count": 8,
   "outputs": [
    {
     "data": {
      "text/plain": "Parameter containing:\ntensor([[0.5000, 0.5000]])"
     },
     "execution_count": 8,
     "metadata": {},
     "output_type": "execute_result"
    }
   ],
   "source": [
    "model.distributions[0].probs"
   ],
   "metadata": {
    "collapsed": false,
    "ExecuteTime": {
     "end_time": "2023-10-25T14:29:39.523172245Z",
     "start_time": "2023-10-25T14:29:39.482355210Z"
    }
   },
   "id": "a89daef7fe7f5bf4"
  },
  {
   "cell_type": "code",
   "execution_count": 15,
   "outputs": [
    {
     "data": {
      "text/plain": "Parameter containing:\ntensor([[0.4000, 0.6000],\n        [0.7000, 0.3000]])"
     },
     "execution_count": 15,
     "metadata": {},
     "output_type": "execute_result"
    }
   ],
   "source": [
    "model.distributions[2].probs[0]"
   ],
   "metadata": {
    "collapsed": false,
    "ExecuteTime": {
     "end_time": "2023-10-25T14:32:54.711520031Z",
     "start_time": "2023-10-25T14:32:54.667490411Z"
    }
   },
   "id": "84d45186764c4904"
  },
  {
   "cell_type": "code",
   "execution_count": null,
   "outputs": [],
   "source": [],
   "metadata": {
    "collapsed": false
   },
   "id": "61c5f45b6b562604"
  },
  {
   "cell_type": "code",
   "execution_count": null,
   "outputs": [],
   "source": [],
   "metadata": {
    "collapsed": false
   },
   "id": "9a3c2061f9cc4978"
  }
 ],
 "metadata": {
  "kernelspec": {
   "display_name": "Python 3",
   "language": "python",
   "name": "python3"
  },
  "language_info": {
   "codemirror_mode": {
    "name": "ipython",
    "version": 2
   },
   "file_extension": ".py",
   "mimetype": "text/x-python",
   "name": "python",
   "nbconvert_exporter": "python",
   "pygments_lexer": "ipython2",
   "version": "2.7.6"
  }
 },
 "nbformat": 4,
 "nbformat_minor": 5
}

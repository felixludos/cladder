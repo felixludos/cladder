{
 "cells": [
  {
   "cell_type": "code",
   "execution_count": 4,
   "id": "initial_id",
   "metadata": {
    "collapsed": true,
    "ExecuteTime": {
     "end_time": "2023-11-14T13:16:35.823606067Z",
     "start_time": "2023-11-14T13:16:35.685343346Z"
    }
   },
   "outputs": [],
   "source": [
    "from pathlib import Path\n",
    "import random\n",
    "from tqdm.notebook import tqdm\n",
    "from omnibelt import load_json, save_json\n",
    "import random"
   ]
  },
  {
   "cell_type": "code",
   "execution_count": 2,
   "outputs": [
    {
     "data": {
      "text/plain": "54"
     },
     "execution_count": 2,
     "metadata": {},
     "output_type": "execute_result"
    }
   ],
   "source": [
    "lang_clusters = {'en': ['au', 'ca', 'gb', 'ie', 'in', 'my', 'ng', 'nz', 'ph', 'sa', 'sg', 'us', 'za'],\n",
    "\t\t\t\t 'es': ['ar', 'co', 'cu', 'mx', 've'], 'de': ['at', 'ch', 'de'], 'fr': ['be', 'fr', 'ma'],\n",
    "\t\t\t\t 'zh': ['cn', 'hk', 'tw'], 'ar': ['ae', 'eg'], 'pt': ['br', 'pt'], 'bg': ['bg'], 'cs': ['cz'],\n",
    "\t\t\t\t 'el': ['gr'], 'he': ['il'], 'hu': ['hu'], 'id': ['id'], 'it': ['it'], 'ja': ['jp'], 'ko': ['kr'],\n",
    "\t\t\t\t 'lt': ['lt'], 'lv': ['lv'], 'nl': ['nl'], 'no': ['no'], 'pl': ['pl'], 'ro': ['ro'], 'ru': ['ru'],\n",
    "\t\t\t\t 'sv': ['se'], 'sl': ['si'], 'sk': ['sk'], 'sr': ['rs'], 'th': ['th'], 'tr': ['tr'], 'uk': ['ua']}\n",
    "loc_names = {'gb': 'United Kingdom', 'ar': 'Argentina', 'pl': 'Poland', 'sk': 'Slovakia', 'us': 'United States',\n",
    "\t\t\t 'eg': 'Egypt', 'no': 'Norway', 'ph': 'Philippines', 'at': 'Austria', 'rs': 'Serbia', 'tw': 'Taiwan',\n",
    "\t\t\t 'be': 'Belgium', 'cu': 'Cuba', 'sa': 'Saudi Arabia', 'th': 'Thailand', 'id': 'Indonesia',\n",
    "\t\t\t 'ru': 'Russian Federation', 'ch': 'Switzerland', 'fr': 'France', 'lt': 'Lithuania', 'tr': 'Turkey',\n",
    "\t\t\t 'de': 'Germany', 'cz': 'Czechia', 'pt': 'Portugal', 'ae': 'United Arab Emirates', 'it': 'Italy',\n",
    "\t\t\t 'cn': 'China', 'lv': 'Latvia', 'nl': 'Netherlands', 'hk': 'Hong Kong', 'ca': 'Canada', 'br': 'Brazil',\n",
    "\t\t\t 'hu': 'Hungary', 'kr': 'Korea', 'si': 'Slovenia', 'au': 'Australia', 'my': 'Malaysia', 'ie': 'Ireland',\n",
    "\t\t\t 'ua': 'Ukraine', 'in': 'India', 'ma': 'Morocco', 'bg': 'Bulgaria', 'ng': 'Nigeria', 'il': 'Israel',\n",
    "\t\t\t 'se': 'Sweden', 'za': 'South Africa', 've': 'Venezuela', 'nz': 'New Zealand', 'jp': 'Japan',\n",
    "\t\t\t 'sg': 'Singapore', 'gr': 'Greece', 'mx': 'Mexico', 'co': 'Colombia', 'ro': 'Romania'}\n",
    "lang_names = {'en': 'English', 'ko': 'Korean', 'ru': 'Russian', 'es': 'Spanish', 'pt': 'Portuguese', 'cs': 'Czech',\n",
    "\t\t\t  'tr': 'Turkish', 'nl': 'Dutch', 'ar': 'Arabic', 'fr': 'French', 'bg': 'Bulgarian', 'id': 'Indonesian',\n",
    "\t\t\t  'sk': 'Slovak', 'el': 'Greek', 'he': 'Hebrew', 'sr': 'Serbian', 'hu': 'Hungarian', 'th': 'Thai',\n",
    "\t\t\t  'zh': 'Chinese', 'no': 'Norwegian', 'sl': 'Slovenian', 'sv': 'Swedish', 'de': 'German', 'lv': 'Latvian',\n",
    "\t\t\t  'pl': 'Polish', 'it': 'Italian', 'ro': 'Romanian', 'lt': 'Lithuanian', 'ja': 'Japanese',\n",
    "\t\t\t  'uk': 'Ukrainian'}\n",
    "cluster_id = {loc: lang for lang, locs in lang_clusters.items() for loc in locs}\n",
    "len(cluster_id)"
   ],
   "metadata": {
    "collapsed": false,
    "ExecuteTime": {
     "end_time": "2023-11-14T13:16:32.790909239Z",
     "start_time": "2023-11-14T13:16:32.787086270Z"
    }
   },
   "id": "5d04a0e420ef837b"
  },
  {
   "cell_type": "code",
   "execution_count": 5,
   "outputs": [
    {
     "data": {
      "text/plain": "  0%|          | 0/54 [00:00<?, ?it/s]",
      "application/vnd.jupyter.widget-view+json": {
       "version_major": 2,
       "version_minor": 0,
       "model_id": "9aeb100c7aa94572a544bc6e286edee1"
      }
     },
     "metadata": {},
     "output_type": "display_data"
    },
    {
     "data": {
      "text/plain": "4719199"
     },
     "execution_count": 5,
     "metadata": {},
     "output_type": "execute_result"
    }
   ],
   "source": [
    "root = Path('/home/fleeb/workspace/local_data/nnn')\n",
    "recs = (root / 'babel-briefings-v1').glob('**/*.json')\n",
    "recs = list(recs)\n",
    "len(recs)\n",
    "articles = []\n",
    "for rec in tqdm(recs):\n",
    "\tarticles.extend([{'ID': art['ID'], \n",
    "\t\t\t\t\t  'title': art.get('en-title', art['title']), \n",
    "\t\t\t\t\t  'description': art.get('en-description', art['description']),\n",
    "\t\t\t\t\t  'content': art.get('en-content', art['content']),\n",
    "\t\t\t\t\t  'language': art['language']} for art in load_json(rec)])\n",
    "len(articles)"
   ],
   "metadata": {
    "collapsed": false,
    "ExecuteTime": {
     "end_time": "2023-11-14T13:17:34.964022793Z",
     "start_time": "2023-11-14T13:16:36.603157570Z"
    }
   },
   "id": "9b582f9afb73c156"
  },
  {
   "cell_type": "code",
   "execution_count": 4,
   "outputs": [],
   "source": [
    "# by_loc = {}\n",
    "# by_lang = {}\n",
    "# by_source = {}\n",
    "# by_ID = {}\n",
    "# for article in tqdm(articles):\n",
    "# \tby_ID[article['ID']] = article\n",
    "# \t# article['published'] = parser.parse(article['publishedAt'])\n",
    "# \tby_source.setdefault(article['source-name'], []).append(article)\n",
    "# \tby_lang.setdefault(article['language'], []).append(article)\n",
    "# \tfor instance in article['instances']:\n",
    "# \t\t# instance['collected'] = parser.parse(instance['collectedAt'])\n",
    "# \t\tby_loc.setdefault(instance['location'], []).append(article)\n",
    "# len(by_loc), len(by_lang)"
   ],
   "metadata": {
    "collapsed": false,
    "ExecuteTime": {
     "end_time": "2023-11-13T14:14:37.546219623Z",
     "start_time": "2023-11-13T14:14:37.512990124Z"
    }
   },
   "id": "f431b7e4201f4426"
  },
  {
   "cell_type": "code",
   "execution_count": 17,
   "outputs": [
    {
     "name": "stdout",
     "output_type": "stream",
     "text": [
      "```\n",
      "Title: Murphy seeks more N.J. offshore wind farms. Rivals wonder if promises are already being ignored. - NJ.com\n",
      "Description: A political war is brewing between the governor and his chief rival over wind power.\n",
      "Original Language: English\n",
      "```\n",
      "\n",
      "```\n",
      "Title: Google Pixel 5 and Pixel 4a 5G may be set to launch as early as this month - TechRadar\n",
      "Description: Both handsets spotted in new FCC filings\n",
      "Original Language: English\n",
      "```\n",
      "\n",
      "```\n",
      "Title: \"Actors Please Take Your Place 2\" reveals the living conditions of actors - Jinyang.com\n",
      "Description: Those with high market ratings will be given priority in selecting scripts and roles.\n",
      "Original Language: Chinese\n",
      "```\n",
      "\n",
      "```\n",
      "Title: Android 11, capacious battery and NFC, inexpensive. Sales of ZTE Blade A71 have started in Russia - iXBT.com\n",
      "Description: ZTE Mobile Devices has announced the start of sales in Russia of a new inexpensive smartphone ZTE Blade A71.  Russian users of the ZTE Blade A71 are offered at a recommended retail price of 10,990 rubles for the version with 3 GB of RAM…\n",
      "Original Language: Russian\n",
      "```\n",
      "\n",
      "```\n",
      "Title: Will the dark special car appear? Toyota previews the new US-standard Prius model to be launched on June 2 - U-car\n",
      "Description: Toyota recently released a new model launch trailer through the official U.S. website. The original manufacturer did not disclose which model it will be. It only stated that it will demonstrate the new car product on the official website on June 2, 2021 local time in the United States, and through a video Partial rear photos of the new car are shown. Judging from the video released by the original manufacturer, it can be found that it is the rear photo of the current Prius model.\n",
      "Original Language: Chinese\n",
      "```\n",
      "\n",
      "```\n",
      "Title: The Hubble telescope reveals strange changes in the winds of Jupiter's Great Red Spot and the... - RT in Spanish\n",
      "Description: In the outer zone of that storm system the speed of the winds has increased, while in the inner region it has slowed down.\n",
      "Original Language: Spanish\n",
      "```\n",
      "\n",
      "```\n",
      "Title: Webprint to take over Citywest site from INM - Independent.ie\n",
      "Description: Cork-based Webprint has agreed a deal to take over the former Independent News and Media (INM) printing plant at Citywest on the outskirts of Dublin.\n",
      "Original Language: English\n",
      "```\n",
      "\n",
      "```\n",
      "Title: Forget about self-sufficiency, Dukovany are nonsense, says heating engineer Nejdl - Seznam Správy\n",
      "Description: Dozens of heating plants, unable to pay expensive allowances, face extinction. It is too late to save them. And the salvation of the Czech energy industry is not in the construction of a new nuclear power plant, but in a connected Europe, claims co-owner of C-Energy Planá Ivo Nejdl.\n",
      "Original Language: Czech\n",
      "```\n",
      "\n",
      "```\n",
      "Title: Record night in the UEFA Europa League! Exactly 11 years later... - Hürriyet\n",
      "Description: The last 32 round matches of the UEFA Europa League have been completed. The record was broken after 11 years in the matches played over 3 different sessions: 16.00, 20.55 and 23.00.\n",
      "Original Language: Turkish\n",
      "```\n",
      "\n",
      "```\n",
      "Title: Polish science. Regulations stifle innovation. And we could be a giant! - Wprost.pl\n",
      "Description: Nothing came of the breakthrough method of graphene production in Poland. The blue laser technology developed by Poles was not invested in and others took over the leadership. These are just two examples of wasted inventions from Poland. About what should…\n",
      "Original Language: Polish\n",
      "```\n"
     ]
    }
   ],
   "source": [
    "batch = random.choices(articles, k=10)\n",
    "for art in batch:\n",
    "\t\n",
    "\tlines = [\n",
    "\t\t'```',\n",
    "\t\tf'Title: {art[\"title\"]}',\n",
    "\t\tf'Description: {art[\"description\"]}',\n",
    "\t\tf'Content: {art[\"content\"]}',\n",
    "\t\tf'Original Language: {lang_names[art[\"language\"]]}',\n",
    "\t\t'```',\n",
    "\t]\n",
    "\tif True or art['language'] in {'el', 'zh', 'ja', }:\n",
    "\t\tdel lines[3]\n",
    "\tprint(\"\\n\".join(lines))\n",
    "\tprint()"
   ],
   "metadata": {
    "collapsed": false,
    "ExecuteTime": {
     "end_time": "2023-11-15T18:03:56.853002172Z",
     "start_time": "2023-11-15T18:03:56.811860068Z"
    }
   },
   "id": "1d6688de00c75e8f"
  },
  {
   "cell_type": "code",
   "execution_count": null,
   "outputs": [],
   "source": [],
   "metadata": {
    "collapsed": false
   },
   "id": "5a2bf8812e865358"
  },
  {
   "cell_type": "code",
   "execution_count": null,
   "outputs": [],
   "source": [],
   "metadata": {
    "collapsed": false
   },
   "id": "4c2ca1a1acfff9d5"
  },
  {
   "cell_type": "code",
   "execution_count": null,
   "outputs": [],
   "source": [],
   "metadata": {
    "collapsed": false
   },
   "id": "ea37269d25095090"
  },
  {
   "cell_type": "code",
   "execution_count": 2,
   "outputs": [
    {
     "data": {
      "text/plain": "True"
     },
     "execution_count": 2,
     "metadata": {},
     "output_type": "execute_result"
    }
   ],
   "source": [
    "path = Path().absolute().parent / 'data' / 'general_gb.json'\n",
    "path.exists()"
   ],
   "metadata": {
    "collapsed": false,
    "ExecuteTime": {
     "end_time": "2023-10-05T14:43:44.108102500Z",
     "start_time": "2023-10-05T14:43:44.027582Z"
    }
   },
   "id": "1af4f098c21fc41e"
  },
  {
   "cell_type": "code",
   "execution_count": 3,
   "outputs": [
    {
     "data": {
      "text/plain": "6"
     },
     "execution_count": 3,
     "metadata": {},
     "output_type": "execute_result"
    }
   ],
   "source": [
    "full = load_json(path)\n",
    "len(full)"
   ],
   "metadata": {
    "collapsed": false,
    "ExecuteTime": {
     "end_time": "2023-10-05T14:43:44.144303800Z",
     "start_time": "2023-10-05T14:43:44.048282800Z"
    }
   },
   "id": "62ee6cc6ca87cab5"
  },
  {
   "cell_type": "code",
   "execution_count": 4,
   "outputs": [
    {
     "data": {
      "text/plain": "38"
     },
     "execution_count": 4,
     "metadata": {},
     "output_type": "execute_result"
    }
   ],
   "source": [
    "arts = full['articles']\n",
    "len(arts)"
   ],
   "metadata": {
    "collapsed": false,
    "ExecuteTime": {
     "end_time": "2023-10-05T14:43:44.148301700Z",
     "start_time": "2023-10-05T14:43:44.081075200Z"
    }
   },
   "id": "818bfb59a7d2bb7c"
  },
  {
   "cell_type": "code",
   "execution_count": 17,
   "outputs": [
    {
     "name": "stdout",
     "output_type": "stream",
     "text": [
      "```\n",
      "Title: Warm up with this cozy image of a hot spot on Jupiter - Space.com\n",
      "Description: \n",
      "```\n",
      "\n",
      "```\n",
      "Title: PM must reform the union or risk UK becoming a 'failed state' - Gordon Brown - Sky News\n",
      "Description: Gordon Brown says Boris Johnson should promote the armed forces and the NHS as examples of the union's \"everyday benefits\".\n",
      "```\n",
      "\n",
      "```\n",
      "Title: WhatsApp loses millions of users after terms update - The Guardian\n",
      "Description: Poorly-executed change of terms of service sends messaging app’s subscribers flocking to competitors\n",
      "```\n",
      "\n",
      "```\n",
      "Title: Adele celebrates 10th anniversary of album 21's release with rare Instagram post - Daily Mail\n",
      "Description: Taking to Instagram, the star admitted  she can't remember much about 'how she felt'  in 2011 but is so grateful for fans letting her be 'a soundtrack' to some of the last decade.\n",
      "```\n",
      "\n",
      "```\n",
      "Title: The best photos of snow from across Wales - WalesOnline\n",
      "Description: Some places could see more snow fall this evening\n",
      "```\n"
     ]
    }
   ],
   "source": [
    "for a in random.choices(arts, k=5):\n",
    "\tprint(f'''```\n",
    "Title: {a[\"title\"]}\n",
    "Description: {a[\"description\"]}\n",
    "```''') # Content: {a[\"content\"]}\n",
    "\tprint()"
   ],
   "metadata": {
    "collapsed": false,
    "ExecuteTime": {
     "end_time": "2023-10-06T08:54:47.500447600Z",
     "start_time": "2023-10-06T08:54:47.468684300Z"
    }
   },
   "id": "240d28913dfb9c5d"
  },
  {
   "cell_type": "code",
   "execution_count": null,
   "outputs": [],
   "source": [],
   "metadata": {
    "collapsed": false
   },
   "id": "9bed720ba68e3a41"
  },
  {
   "cell_type": "code",
   "execution_count": null,
   "outputs": [],
   "source": [],
   "metadata": {
    "collapsed": false
   },
   "id": "cdadc3947f344cb2"
  },
  {
   "cell_type": "code",
   "execution_count": null,
   "outputs": [],
   "source": [],
   "metadata": {
    "collapsed": false
   },
   "id": "29d7b89dcfd0768d"
  },
  {
   "cell_type": "code",
   "execution_count": null,
   "outputs": [],
   "source": [],
   "metadata": {
    "collapsed": false
   },
   "id": "31a90e954cd9e84f"
  }
 ],
 "metadata": {
  "kernelspec": {
   "display_name": "Python 3",
   "language": "python",
   "name": "python3"
  },
  "language_info": {
   "codemirror_mode": {
    "name": "ipython",
    "version": 2
   },
   "file_extension": ".py",
   "mimetype": "text/x-python",
   "name": "python",
   "nbconvert_exporter": "python",
   "pygments_lexer": "ipython2",
   "version": "2.7.6"
  }
 },
 "nbformat": 4,
 "nbformat_minor": 5
}

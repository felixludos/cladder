{
 "cells": [
  {
   "cell_type": "code",
   "execution_count": 6,
   "id": "initial_id",
   "metadata": {
    "collapsed": true,
    "ExecuteTime": {
     "end_time": "2023-08-09T23:40:13.813852800Z",
     "start_time": "2023-08-09T23:40:13.791907Z"
    }
   },
   "outputs": [],
   "source": [
    "from pathlib import Path\n",
    "from omnibelt import load_json, save_json, save_txt, load_txt\n",
    "from collections import Counter"
   ]
  },
  {
   "cell_type": "code",
   "execution_count": 2,
   "outputs": [
    {
     "data": {
      "text/plain": "True"
     },
     "execution_count": 2,
     "metadata": {},
     "output_type": "execute_result"
    }
   ],
   "source": [
    "root = Path('../data/backup/')\n",
    "path = root / 'cladder-v1-q-balanced.json'\n",
    "path.exists()"
   ],
   "metadata": {
    "collapsed": false,
    "ExecuteTime": {
     "end_time": "2023-08-09T23:39:30.626936900Z",
     "start_time": "2023-08-09T23:39:30.615422900Z"
    }
   },
   "id": "1fbefd11e6788a5"
  },
  {
   "cell_type": "code",
   "execution_count": 3,
   "outputs": [
    {
     "data": {
      "text/plain": "(10112, 7064)"
     },
     "execution_count": 3,
     "metadata": {},
     "output_type": "execute_result"
    }
   ],
   "source": [
    "full = load_json(path)\n",
    "models = load_json(root / 'cladder-v1-meta-models.json')\n",
    "len(full), len(models)"
   ],
   "metadata": {
    "collapsed": false,
    "ExecuteTime": {
     "end_time": "2023-08-09T23:39:30.907099500Z",
     "start_time": "2023-08-09T23:39:30.628938600Z"
    }
   },
   "id": "edbccf68b3b0c9da"
  },
  {
   "cell_type": "code",
   "execution_count": 18,
   "outputs": [
    {
     "data": {
      "text/plain": "dict_keys([3, 2, 1])"
     },
     "execution_count": 18,
     "metadata": {},
     "output_type": "execute_result"
    }
   ],
   "source": [
    "key = 'rung'\n",
    "vocabs = {}\n",
    "for entry in full:\n",
    "\tvocabs.setdefault(entry['meta'][key], []).extend(entry['question'].split())\n",
    "\tvocabs.setdefault(entry['meta'][key], []).extend(entry['given_info'].split())\n",
    "\tmodel = models[entry['meta']['model_id']]\n",
    "\tvocabs.setdefault(entry['meta'][key], []).extend(model['background'].split())\n",
    "def _cleanup(w):\n",
    "\tw = w.lower()\n",
    "\tw = w.replace('?', '').replace('.', '').replace(',', '').replace('\\'', '').replace('\\\"', '').replace('%', '').replace(':', '')\n",
    "\t# check if it's a number\n",
    "\ttry:\n",
    "\t\tfloat(w)\n",
    "\t\treturn 'NUM'\n",
    "\texcept:\n",
    "\t\tpass\n",
    "\treturn w\n",
    "vocabs = {k: [_cleanup(w) for w in v] for k, v in vocabs.items()}\n",
    "vocabs = {k: Counter(v) for k, v in vocabs.items()}\n",
    "vocabs.keys()"
   ],
   "metadata": {
    "collapsed": false,
    "ExecuteTime": {
     "end_time": "2023-08-07T14:34:03.593523Z",
     "start_time": "2023-08-07T14:34:00.374782Z"
    }
   },
   "id": "d897f1ae9d3a4f36"
  },
  {
   "cell_type": "code",
   "execution_count": 19,
   "outputs": [
    {
     "data": {
      "text/plain": "539"
     },
     "execution_count": 19,
     "metadata": {},
     "output_type": "execute_result"
    }
   ],
   "source": [
    "total = Counter()\n",
    "for v in vocabs.values():\n",
    "\ttotal.update(v)\n",
    "len(total)"
   ],
   "metadata": {
    "collapsed": false,
    "ExecuteTime": {
     "end_time": "2023-08-07T14:34:17.480546600Z",
     "start_time": "2023-08-07T14:34:17.438707700Z"
    }
   },
   "id": "1160baef99ee4e52"
  },
  {
   "cell_type": "code",
   "execution_count": 7,
   "outputs": [
    {
     "data": {
      "text/plain": "dict_keys(['question_id', 'desc_id', 'given_info', 'question', 'answer', 'meta', 'reasoning'])"
     },
     "execution_count": 7,
     "metadata": {},
     "output_type": "execute_result"
    }
   ],
   "source": [
    "full[0].keys()"
   ],
   "metadata": {
    "collapsed": false,
    "ExecuteTime": {
     "end_time": "2023-08-07T11:31:30.024425Z",
     "start_time": "2023-08-07T11:31:30.009300300Z"
    }
   },
   "id": "5b41de85ad3643f3"
  },
  {
   "cell_type": "code",
   "execution_count": 8,
   "outputs": [
    {
     "data": {
      "text/plain": "dict_keys(['story_id', 'graph_id', 'mediators', 'polarity', 'groundtruth', 'query_type', 'rung', 'formal_form', 'given_info', 'estimand', 'treatment', 'outcome', 'model_id'])"
     },
     "execution_count": 8,
     "metadata": {},
     "output_type": "execute_result"
    }
   ],
   "source": [
    "full[0]['meta'].keys()"
   ],
   "metadata": {
    "collapsed": false,
    "ExecuteTime": {
     "end_time": "2023-08-07T11:33:53.287036700Z",
     "start_time": "2023-08-07T11:33:53.199232800Z"
    }
   },
   "id": "57d06d73046f5345"
  },
  {
   "cell_type": "code",
   "execution_count": 7,
   "outputs": [
    {
     "data": {
      "text/plain": "10112"
     },
     "execution_count": 7,
     "metadata": {},
     "output_type": "execute_result"
    }
   ],
   "source": [
    "simple = []\n",
    "\n",
    "for entry in full:\n",
    "\tmodel = models[entry['meta']['model_id']]\n",
    "\t# if not model.get('nonsense', False):\n",
    "\tsimple.append({\n",
    "\t\t'id': entry['question_id'],\n",
    "\t\t'prompt': f'{model[\"background\"]} {entry[\"given_info\"]} {entry[\"question\"]}',\n",
    "\t\t'ground_truth': entry['answer'],\n",
    "\t})\n",
    "len(simple)"
   ],
   "metadata": {
    "collapsed": false,
    "ExecuteTime": {
     "end_time": "2023-08-09T23:42:09.382774200Z",
     "start_time": "2023-08-09T23:42:09.349031900Z"
    }
   },
   "id": "1b200eba4539884a"
  },
  {
   "cell_type": "code",
   "execution_count": 8,
   "outputs": [
    {
     "data": {
      "text/plain": "5817039"
     },
     "execution_count": 8,
     "metadata": {},
     "output_type": "execute_result"
    }
   ],
   "source": [
    "# save_txt('\\n'.join([item['prompt'] for item in simple]), root / 'cladder-v1-prompts.txt')"
   ],
   "metadata": {
    "collapsed": false,
    "ExecuteTime": {
     "end_time": "2023-08-09T23:42:14.055877100Z",
     "start_time": "2023-08-09T23:42:14.003727Z"
    }
   }
  },
  {
   "cell_type": "code",
   "execution_count": 25,
   "outputs": [
    {
     "data": {
      "text/plain": "[{'model_id': 0,\n  'story_id': 'alarm',\n  'graph_id': 'mediation',\n  'spec_id': 0,\n  'spec': {'X': [0.6, 0.8], 'V2': {'X': -0.2}, 'Y': {'X': 0.3, 'V2': 0.4}},\n  'seed': 101,\n  'builder': 'difficulty',\n  'difficulty': 'easy',\n  'equation_type': 'bernoulli',\n  'background': 'Imagine a self-contained, hypothetical world with only the following conditions, and without any unmentioned factors or causal relationships: Husband has a direct effect on wife and alarm clock. Wife has a direct effect on alarm clock.',\n  'variable_mapping': {'Xname': 'husband',\n   'X1': 'alarm set by husband',\n   'X0': 'alarm not set by husband',\n   'V2name': 'wife',\n   'V21': 'alarm set by wife',\n   'V20': 'alarm not set by wife',\n   'Yname': 'alarm clock',\n   'Y1': 'ringing alarm',\n   'Y0': 'silent alarm'},\n  'structure': 'X->V2,X->Y,V2->Y',\n  'params': {'p(X)': 0.7887065011221108,\n   'p(V2 | X)': [0.7416866188819118, 0.2351932407152126],\n   'p(Y | X, V2)': [[0.08430222457648492, 0.5394610521458689],\n    [0.4061509701126924, 0.8620283206949243]]},\n  'groundtruth': {'ATE(Y | X)': 0.09148280511411633,\n   'ETT(Y | X)': 0.09148280511411633,\n   'NDE(Y | X)': 0.32238166444019534,\n   'NIE(Y | X)': -0.2305349321780112,\n   'P(Y=1 | X=1)': 0.5133702415647927,\n   'P(Y=1 | X=0)': 0.4218874364506764,\n   'P(X=1)': 0.7887065011221105,\n   'P(V2=1)': 0.3422119987465367,\n   'P(Y=1)': 0.49410116751885785}},\n {'model_id': 1,\n  'story_id': 'alarm',\n  'graph_id': 'mediation',\n  'spec_id': 1,\n  'spec': {'X': [0.7, 0.9], 'V2': {'X': 0}, 'Y': {'X': 0.4, 'V2': 0.4}},\n  'seed': 101,\n  'builder': 'difficulty',\n  'difficulty': 'easy',\n  'equation_type': 'bernoulli',\n  'background': 'Imagine a self-contained, hypothetical world with only the following conditions, and without any unmentioned factors or causal relationships: Husband has a direct effect on wife and alarm clock. Wife has a direct effect on alarm clock.',\n  'variable_mapping': {'Xname': 'husband',\n   'X1': 'alarm set by husband',\n   'X0': 'alarm not set by husband',\n   'V2name': 'wife',\n   'V21': 'alarm set by wife',\n   'V20': 'alarm not set by wife',\n   'Yname': 'alarm clock',\n   'Y1': 'ringing alarm',\n   'Y0': 'silent alarm'},\n  'structure': 'X->V2,X->Y,V2->Y',\n  'params': {'p(X)': 0.7718842066683146,\n   'p(V2 | X)': [0.45055617699696016, 0.6298325295813721],\n   'p(Y | X, V2)': [[0.05817074449299683, 0.5078147083164893],\n    [0.4740385713604388, 0.9214449300368498]]},\n  'groundtruth': {'ATE(Y | X)': 0.49506904015332415,\n   'ETT(Y | X)': 0.49506904015332415,\n   'NDE(Y | X)': 0.41485966004674407,\n   'NIE(Y | X)': 0.08061052979587302,\n   'P(Y=1 | X=1)': 0.7558296499963933,\n   'P(Y=1 | X=0)': 0.2607606098430692,\n   'P(X=1)': 0.771884206668314,\n   'P(V2=1)': 0.5889367621859679,\n   'P(Y=1)': 0.6429672171752433}},\n {'model_id': 2,\n  'story_id': 'alarm',\n  'graph_id': 'mediation',\n  'spec_id': 2,\n  'spec': {'X': [0.6, 0.8], 'V2': {'X': -0.2}, 'Y': {'X': 0.3, 'V2': 0.4}},\n  'seed': 101,\n  'builder': 'difficulty',\n  'difficulty': 'easy',\n  'equation_type': 'bernoulli',\n  'background': 'Imagine a self-contained, hypothetical world with only the following conditions, and without any unmentioned factors or causal relationships: Husband has a direct effect on wife and alarm clock. Wife has a direct effect on alarm clock.',\n  'variable_mapping': {'Xname': 'husband',\n   'X1': 'alarm set by husband',\n   'X0': 'alarm not set by husband',\n   'V2name': 'wife',\n   'V21': 'alarm set by wife',\n   'V20': 'alarm not set by wife',\n   'Yname': 'alarm clock',\n   'Y1': 'ringing alarm',\n   'Y0': 'silent alarm'},\n  'structure': 'X->V2,X->Y,V2->Y',\n  'params': {'p(X)': 0.7569610823939954,\n   'p(V2 | X)': [0.7194401498023935, 0.26850165208522164],\n   'p(Y | X, V2)': [[0.1651879304008069, 0.6361186024416806],\n    [0.5101531443110805, 0.9800356208488215]]},\n  'groundtruth': {'ATE(Y | X)': 0.13232300190692448,\n   'ETT(Y | X)': 0.13232300190692448,\n   'NDE(Y | X)': 0.3442110999804773,\n   'NIE(Y | X)': -0.21236076977904944,\n   'P(Y=1 | X=1)': 0.6363173655473594,\n   'P(Y=1 | X=0)': 0.5039943636404349,\n   'P(X=1)': 0.7569610823939951,\n   'P(V2=1)': 0.3780972564772811,\n   'P(Y=1)': 0.6040707685021821}}]"
     },
     "execution_count": 25,
     "metadata": {},
     "output_type": "execute_result"
    }
   ],
   "source": [
    "models[:3]"
   ],
   "metadata": {
    "collapsed": false,
    "ExecuteTime": {
     "end_time": "2023-08-07T14:46:33.345312700Z",
     "start_time": "2023-08-07T14:46:33.264304100Z"
    }
   },
   "id": "40c9a8cd30e27416"
  },
  {
   "cell_type": "code",
   "execution_count": 20,
   "outputs": [
    {
     "name": "stdout",
     "output_type": "stream",
     "text": [
      "4\n"
     ]
    }
   ],
   "source": [
    "print(simple[0]['id'])"
   ],
   "metadata": {
    "collapsed": false,
    "ExecuteTime": {
     "end_time": "2023-08-07T14:38:13.595443800Z",
     "start_time": "2023-08-07T14:38:13.528897Z"
    }
   },
   "id": "ca9796193c017630"
  },
  {
   "cell_type": "code",
   "execution_count": 14,
   "outputs": [],
   "source": [
    "save_json(simple, root / 'cladder-v1-prompts.json')"
   ],
   "metadata": {
    "collapsed": false,
    "ExecuteTime": {
     "end_time": "2023-08-07T11:36:51.372667500Z",
     "start_time": "2023-08-07T11:36:51.060812900Z"
    }
   },
   "id": "a021e78ff631e81e"
  },
  {
   "cell_type": "code",
   "execution_count": 4,
   "outputs": [],
   "source": [
    "from tqdm.notebook import tqdm\n",
    "from efficiency.function import avg"
   ],
   "metadata": {
    "collapsed": false,
    "ExecuteTime": {
     "end_time": "2023-08-09T10:16:07.740760400Z",
     "start_time": "2023-08-09T10:16:07.516612500Z"
    }
   },
   "id": "c74d7a8355e27280"
  },
  {
   "cell_type": "code",
   "execution_count": 5,
   "outputs": [
    {
     "ename": "ModuleNotFoundError",
     "evalue": "No module named 'grammar_check'",
     "output_type": "error",
     "traceback": [
      "\u001B[1;31m---------------------------------------------------------------------------\u001B[0m",
      "\u001B[1;31mModuleNotFoundError\u001B[0m                       Traceback (most recent call last)",
      "Cell \u001B[1;32mIn[5], line 1\u001B[0m\n\u001B[1;32m----> 1\u001B[0m \u001B[38;5;28;01mimport\u001B[39;00m \u001B[38;5;21;01mgrammar_check\u001B[39;00m\n\u001B[0;32m      2\u001B[0m tool \u001B[38;5;241m=\u001B[39m grammar_check\u001B[38;5;241m.\u001B[39mLanguageTool(\u001B[38;5;124m'\u001B[39m\u001B[38;5;124men-GB\u001B[39m\u001B[38;5;124m'\u001B[39m)\n\u001B[0;32m      3\u001B[0m text \u001B[38;5;241m=\u001B[39m \u001B[38;5;124m'\u001B[39m\u001B[38;5;124mThis are bad.\u001B[39m\u001B[38;5;124m'\u001B[39m\n",
      "\u001B[1;31mModuleNotFoundError\u001B[0m: No module named 'grammar_check'"
     ]
    }
   ],
   "source": [
    "import grammar_check\n",
    "tool = grammar_check.LanguageTool('en-GB')\n",
    "text = 'This are bad.'\n",
    "matches = tool.check(text)\n",
    "len(matches)"
   ],
   "metadata": {
    "collapsed": false,
    "ExecuteTime": {
     "end_time": "2023-08-09T10:16:08.804521200Z",
     "start_time": "2023-08-09T10:16:07.778314400Z"
    }
   },
   "id": "d0c8a82a6a5c6a67"
  },
  {
   "cell_type": "code",
   "execution_count": null,
   "outputs": [],
   "source": [
    "texts = [item['prompt'] for item in simple]\n",
    "# grammatical errors\n",
    "bar = tqdm(texts)\n",
    "cnts = []\n",
    "for text in bar:\n",
    "cnt = count_grammar_mistakes(text)\n",
    "cnts.append(cnt)\n",
    "bar.set_description(str(avg(cnts)))"
   ],
   "metadata": {
    "collapsed": false
   },
   "id": "117fe93c9479ee20"
  },
  {
   "cell_type": "code",
   "execution_count": 4,
   "outputs": [],
   "source": [
    "import language_tool_python\n",
    "\n",
    "from tqdm.notebook import tqdm\n",
    "from efficiency.function import avg"
   ],
   "metadata": {
    "collapsed": false,
    "ExecuteTime": {
     "end_time": "2023-08-09T10:42:43.542034600Z",
     "start_time": "2023-08-09T10:42:42.467585800Z"
    }
   },
   "id": "9bad6cfb3c7d95dc"
  },
  {
   "cell_type": "code",
   "execution_count": 7,
   "outputs": [
    {
     "data": {
      "text/plain": "  0%|          | 0/3 [00:00<?, ?it/s]",
      "application/vnd.jupyter.widget-view+json": {
       "version_major": 2,
       "version_minor": 0,
       "model_id": "c144c57af3a149deb9bf30998740b838"
      }
     },
     "metadata": {},
     "output_type": "display_data"
    }
   ],
   "source": [
    "def count_grammar_mistakes(text):\n",
    "   tool = language_tool_python.LanguageTool('en-US')\n",
    "   matches = tool.check(text)\n",
    "   return len(matches)\n",
    "\n",
    "texts = [q['question'] for q in full[:10]] # TODO: Felix, can you exclude the nonsensical, which triggers grammatical errors? Then we can get the count of grammatical errors.\n",
    "texts = ['These is cool.', 'This is cool.', 'This is cool to I and he.']\n",
    "bar = tqdm(texts)\n",
    "cnts = []\n",
    "for text in bar:\n",
    "   cnt = count_grammar_mistakes(text)\n",
    "   cnts.append(cnt)\n",
    "   bar.set_description(str(avg(cnts)))\n"
   ],
   "metadata": {
    "collapsed": false,
    "ExecuteTime": {
     "end_time": "2023-08-09T10:46:48.768056700Z",
     "start_time": "2023-08-09T10:45:38.707712800Z"
    }
   },
   "id": "1f36091f5f289fa9"
  },
  {
   "cell_type": "code",
   "execution_count": 6,
   "outputs": [
    {
     "data": {
      "text/plain": "[0, 0, 0, 0, 0, 0, 0, 0, 0, 0]"
     },
     "execution_count": 6,
     "metadata": {},
     "output_type": "execute_result"
    }
   ],
   "source": [
    "cnts"
   ],
   "metadata": {
    "collapsed": false,
    "ExecuteTime": {
     "end_time": "2023-08-09T10:45:35.058660800Z",
     "start_time": "2023-08-09T10:45:35.036718Z"
    }
   },
   "id": "de8b56e765f4935a"
  },
  {
   "cell_type": "code",
   "execution_count": null,
   "outputs": [],
   "source": [],
   "metadata": {
    "collapsed": false
   },
   "id": "acca259b45788507"
  },
  {
   "cell_type": "code",
   "execution_count": null,
   "outputs": [],
   "source": [],
   "metadata": {
    "collapsed": false
   },
   "id": "e6a717a2c49f3072"
  },
  {
   "cell_type": "code",
   "execution_count": null,
   "outputs": [],
   "source": [],
   "metadata": {
    "collapsed": false
   },
   "id": "7f7e08eeaba02aaf"
  },
  {
   "cell_type": "code",
   "execution_count": null,
   "outputs": [],
   "source": [],
   "metadata": {
    "collapsed": false
   },
   "id": "a7065f7c0a3c958e"
  },
  {
   "cell_type": "code",
   "execution_count": null,
   "outputs": [],
   "source": [],
   "metadata": {
    "collapsed": false
   },
   "id": "3b75f7df85ae7784"
  }
 ],
 "metadata": {
  "kernelspec": {
   "display_name": "Python 3",
   "language": "python",
   "name": "python3"
  },
  "language_info": {
   "codemirror_mode": {
    "name": "ipython",
    "version": 2
   },
   "file_extension": ".py",
   "mimetype": "text/x-python",
   "name": "python",
   "nbconvert_exporter": "python",
   "pygments_lexer": "ipython2",
   "version": "2.7.6"
  }
 },
 "nbformat": 4,
 "nbformat_minor": 5
}

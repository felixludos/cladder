{
 "cells": [
  {
   "cell_type": "code",
   "execution_count": 13,
   "id": "initial_id",
   "metadata": {
    "collapsed": true,
    "ExecuteTime": {
     "end_time": "2024-03-08T13:20:35.105400375Z",
     "start_time": "2024-03-08T13:20:35.094242722Z"
    }
   },
   "outputs": [],
   "source": [
    "from pathlib import Path\n",
    "from omnibelt import toposort, load_json, save_json, load_yaml\n",
    "from itertools import product, combinations\n",
    "# import pyperclip\n",
    "import random\n",
    "import json\n",
    "from PIL import Image\n",
    "from graphviz import Digraph\n",
    "import matplotlib.pyplot as plt\n",
    "import io\n",
    "# import clipboard\n",
    "import networkx as nx\n",
    "from tqdm.notebook import tqdm\n",
    "from tabulate import tabulate\n",
    "import matplotlib.pyplot as plt\n",
    "import seaborn as sns\n",
    "from collections import Counter\n",
    "from omniply import tool, ToolKit, Context\n",
    "\n",
    "import numpy as np\n",
    "import torch\n",
    "history = []"
   ]
  },
  {
   "cell_type": "code",
   "outputs": [
    {
     "data": {
      "text/plain": "47",
      "image/png": "[encoded data removed]",
      "text/latex": "$\\displaystyle 47$"
     },
     "execution_count": 5,
     "metadata": {},
     "output_type": "execute_result"
    }
   ],
   "source": [
    "story_root = Path('../assets/stories')\n",
    "story_paths = list(story_root.glob('*.yml'))\n",
    "len(story_paths)"
   ],
   "metadata": {
    "collapsed": false,
    "ExecuteTime": {
     "end_time": "2024-03-08T13:18:36.027762634Z",
     "start_time": "2024-03-08T13:18:35.957418810Z"
    }
   },
   "id": "8b7b2d316b1ca615",
   "execution_count": 5
  },
  {
   "cell_type": "code",
   "outputs": [
    {
     "data": {
      "text/plain": "  0%|          | 0/47 [00:00<?, ?it/s]",
      "application/vnd.jupyter.widget-view+json": {
       "version_major": 2,
       "version_minor": 0,
       "model_id": "bc39606ae04d45b89dadd8927dc6f696"
      }
     },
     "metadata": {},
     "output_type": "display_data"
    },
    {
     "data": {
      "text/plain": "37",
      "image/png": "[encoded data removed]",
      "text/latex": "$\\displaystyle 37$"
     },
     "execution_count": 24,
     "metadata": {},
     "output_type": "execute_result"
    }
   ],
   "source": [
    "stories = [load_yaml(p) for p in tqdm(story_paths)]\n",
    "for path, story in zip(story_paths, stories):\n",
    "\tstory['pathname'] = path.stem\n",
    "stories = [story for story in stories if not story['pathname'].startswith('nonsense')]\n",
    "len(stories)"
   ],
   "metadata": {
    "collapsed": false,
    "ExecuteTime": {
     "end_time": "2024-03-08T13:27:44.409490240Z",
     "start_time": "2024-03-08T13:27:44.142381528Z"
    }
   },
   "id": "3e133cbd40eae5d2",
   "execution_count": 24
  },
  {
   "cell_type": "code",
   "outputs": [
    {
     "name": "stdout",
     "output_type": "stream",
     "text": [
      "{\n",
      "  \"Source\": NaN,\n",
      "  \"W0_noun\": \"poor health\",\n",
      "  \"W0_sentence\": \"the person has poor health\",\n",
      "  \"W0_wherepartial\": \"with poor health\",\n",
      "  \"W0_wheresentence\": \"people with poor health\",\n",
      "  \"W1_noun\": \"good health\",\n",
      "  \"W1_sentence\": \"the person has good health\",\n",
      "  \"W1_wherepartial\": \"with good health\",\n",
      "  \"W1_wheresentence\": \"people with good health\",\n",
      "  \"Wname\": \"health condition\",\n",
      "  \"Wsubject\": \"infant\",\n",
      "  \"X0_noun\": \"nonsmoking mother\",\n",
      "  \"X0_sentence\": \"the infant has a nonsmoking mother\",\n",
      "  \"X0_sentence_condition\": \"if the infant had a nonsmoking mother instead of a smoking mother\",\n",
      "  \"X0_wherepartial\": \"with nonsmoking mothers\",\n",
      "  \"X0_wheresentence\": \"infants with nonsmoking mothers\",\n",
      "  \"X1_noun\": \"smoking mother\",\n",
      "  \"X1_sentence\": \"the infant has a smoking mother\",\n",
      "  \"X1_sentence_condition\": \"if the infant had a smoking mother instead of a nonsmoking mother\",\n",
      "  \"X1_wherepartial\": \"with smoking mothers\",\n",
      "  \"X1_wheresentence\": \"infants with smoking mothers\",\n",
      "  \"Xname\": \"maternal smoking status\",\n",
      "  \"Xsubject\": \"infant\",\n",
      "  \"Y0_noun\": \"low infant mortality\",\n",
      "  \"Y0_sentence\": \"infant mortality is low\",\n",
      "  \"Y0_wherepartial\": \"low infant mortality\",\n",
      "  \"Y0_wheresentence\": \"cases with low infant mortality\",\n",
      "  \"Y1_noun\": \"high infant mortality\",\n",
      "  \"Y1_sentence\": \"infant mortality is high\",\n",
      "  \"Y1_wherepartial\": \"high infant mortality\",\n",
      "  \"Y1_wheresentence\": \"cases with high infant mortality\",\n",
      "  \"Yname\": \"infant mortality\",\n",
      "  \"Ysubject\": \"infant\",\n",
      "  \"Z0_noun\": \"low infant birth weight\",\n",
      "  \"Z0_sentence\": \"the infant is born with low weight\",\n",
      "  \"Z0_wherepartial\": \"low infant birth weight\",\n",
      "  \"Z0_wheresentence\": \"infants with low birth weight\",\n",
      "  \"Z1_noun\": \"normal infant birth weight\",\n",
      "  \"Z1_sentence\": \"the infant is born with a normal weight\",\n",
      "  \"Z1_wherepartial\": \"normal infant birth weight\",\n",
      "  \"Z1_wheresentence\": \"infants with normal birth weight\",\n",
      "  \"Zname\": \"infant's birth weight\",\n",
      "  \"Zsubject\": \"infant\",\n",
      "  \"causal_graph_type\": \"arrowhead\",\n",
      "  \"easy\": [\n",
      "    {\n",
      "      \"X\": 0,\n",
      "      \"W\": 2,\n",
      "      \"Z\": {\n",
      "        \"X\": -1,\n",
      "        \"W\": 1\n",
      "      },\n",
      "      \"Y\": {\n",
      "        \"Z\": -1,\n",
      "        \"X\": 1,\n",
      "        \"W\": 1\n",
      "      }\n",
      "    },\n",
      "    {\n",
      "      \"X\": 0,\n",
      "      \"W\": 1,\n",
      "      \"Z\": {\n",
      "        \"X\": -1,\n",
      "        \"W\": 1\n",
      "      },\n",
      "      \"Y\": {\n",
      "        \"Z\": -1,\n",
      "        \"X\": 1,\n",
      "        \"W\": 0\n",
      "      }\n",
      "    },\n",
      "    {\n",
      "      \"X\": 0,\n",
      "      \"W\": 1,\n",
      "      \"Z\": {\n",
      "        \"X\": -1,\n",
      "        \"W\": 0\n",
      "      },\n",
      "      \"Y\": {\n",
      "        \"Z\": -1,\n",
      "        \"X\": 1,\n",
      "        \"W\": 0\n",
      "      }\n",
      "    },\n",
      "    {\n",
      "      \"X\": 0,\n",
      "      \"W\": 2,\n",
      "      \"Z\": {\n",
      "        \"X\": -1,\n",
      "        \"W\": 1\n",
      "      },\n",
      "      \"Y\": {\n",
      "        \"Z\": -1,\n",
      "        \"X\": 0,\n",
      "        \"W\": 1\n",
      "      }\n",
      "    },\n",
      "    {\n",
      "      \"X\": 0,\n",
      "      \"W\": 1,\n",
      "      \"Z\": {\n",
      "        \"X\": -1,\n",
      "        \"W\": 1\n",
      "      },\n",
      "      \"Y\": {\n",
      "        \"Z\": -1,\n",
      "        \"X\": 0,\n",
      "        \"W\": 0\n",
      "      }\n",
      "    },\n",
      "    {\n",
      "      \"X\": 0,\n",
      "      \"W\": 1,\n",
      "      \"Z\": {\n",
      "        \"X\": -1,\n",
      "        \"W\": 0\n",
      "      },\n",
      "      \"Y\": {\n",
      "        \"Z\": -1,\n",
      "        \"X\": 0,\n",
      "        \"W\": 0\n",
      "      }\n",
      "    }\n",
      "  ],\n",
      "  \"hard\": [\n",
      "    {\n",
      "      \"X\": 2,\n",
      "      \"W\": 0,\n",
      "      \"Z\": {\n",
      "        \"X\": 1,\n",
      "        \"W\": -1\n",
      "      },\n",
      "      \"Y\": {\n",
      "        \"Z\": 1,\n",
      "        \"X\": -1,\n",
      "        \"W\": -1\n",
      "      }\n",
      "    },\n",
      "    {\n",
      "      \"X\": 2,\n",
      "      \"W\": 0,\n",
      "      \"Z\": {\n",
      "        \"X\": 1,\n",
      "        \"W\": -1\n",
      "      },\n",
      "      \"Y\": {\n",
      "        \"Z\": 1,\n",
      "        \"X\": -1,\n",
      "        \"W\": 0\n",
      "      }\n",
      "    }\n",
      "  ],\n",
      "  \"params\": {},\n",
      "  \"phenomenon\": \"arrowhead\",\n",
      "  \"queries\": \"cou, cou_pos, att, nde, nie, nie_polarity, nde_pos, nie_polarity, adj, constant_set, collider_bias, collider_bias, ace, ace_pos, te\",\n",
      "  \"scm\": \"linear\",\n",
      "  \"semantic_graph (by topological order)\": \"conf->collider, conf->effect, cause->collider, cause->effect, collider->effect\",\n",
      "  \"source\": \"https://www.sciencedirect.com/science/article/pii/S0047272798000905\",\n",
      "  \"story_id\": \"smoke_birthWeight\",\n",
      "  \"structural_equation\": NaN,\n",
      "  \"variable_correspondence\": {\n",
      "    \"W\": \"conf\",\n",
      "    \"X\": \"cause\",\n",
      "    \"Y\": \"effect\",\n",
      "    \"Z collider\": null\n",
      "  },\n",
      "  \"pathname\": \"smoke_birthWeight\"\n",
      "}\n"
     ]
    }
   ],
   "source": [
    "story = stories[0]\n",
    "print(json.dumps(story, indent=2))"
   ],
   "metadata": {
    "collapsed": false,
    "ExecuteTime": {
     "end_time": "2024-03-08T13:27:46.874493427Z",
     "start_time": "2024-03-08T13:27:46.833347518Z"
    }
   },
   "id": "1a77e4c35115983e",
   "execution_count": 25
  },
  {
   "cell_type": "code",
   "outputs": [
    {
     "name": "stdout",
     "output_type": "stream",
     "text": [
      "source                                                                 count\n",
      "-------------------------------------------------------------------  -------\n",
      "nan                                                                        6\n",
      "self_composed                                                              6\n",
      "A Primer p.66                                                              2\n",
      "{'Causes and Explanations': 'A Structural-Model Approach. Part II'}        2\n",
      "Why p.285 (pdf)                                                            2\n",
      "Causality and Counterfactuals in the Situation Calculus                    2\n",
      "https://www.sciencedirect.com/science/article/pii/S0047272798000905        1\n",
      "Why p.230(pdf)                                                             1\n",
      "ECI p.94                                                                   1\n",
      "self-composed                                                              1\n",
      "Causality p.15                                                             1\n",
      "A Primer p.98                                                              1\n",
      "Why p.274 (pdf)                                                            1\n",
      "A Primer p.94                                                              1\n",
      "Why p.46 (pdf)                                                             1\n",
      "Why p.191 (pdf)                                                            1\n",
      "Why p.192 (pdf)                                                            1\n",
      "Why p.279(pdf)                                                             1\n",
      "Why p.226(pdf)                                                             1\n",
      "Why p.51(pdf)                                                              1\n",
      "Card 1995.pdf                                                              1\n",
      "Can higher cigarette taxes improve birth outcomes? - ScienceDirect         1\n",
      "Why p.229(pdf)                                                             1\n"
     ]
    }
   ],
   "source": [
    "sources = Counter(str(story.get('source', None)) for story in stories)\n",
    "print(tabulate(sources.most_common(), headers=['source', 'count']))"
   ],
   "metadata": {
    "collapsed": false,
    "ExecuteTime": {
     "end_time": "2024-03-08T13:27:48.418084426Z",
     "start_time": "2024-03-08T13:27:48.415053263Z"
    }
   },
   "id": "d0c8b886a1f3b02a",
   "execution_count": 26
  },
  {
   "cell_type": "code",
   "outputs": [
    {
     "name": "stdout",
     "output_type": "stream",
     "text": [
      "name                    phenomenon    source\n",
      "----------------------  ------------  -------------------------------------------------------------------\n",
      "smoke_birthWeight       arrowhead     https://www.sciencedirect.com/science/article/pii/S0047272798000905\n",
      "cholesterol             IV            Why p.230(pdf)\n",
      "simpson_kidneystone     confounding   ECI p.94\n",
      "elite_students          collision     nan\n",
      "smoking_frontdoor       frontdoor     A Primer p.66\n",
      "simpson_vaccine         confounding   self-composed\n",
      "smoking_tar_cancer      chain         A Primer p.66\n",
      "floor_wet               diamond       Causality p.15\n",
      "getting_tanned          fork          {'Causes and Explanations': 'A Structural-Model Approach. Part II'}\n",
      "college_salary          chain         A Primer p.98\n",
      "penguin                 mediation     self_composed\n",
      "man_in_relationship     collision     nan\n",
      "orange_scurvy           chain         Why p.274 (pdf)\n",
      "encouagement_program    mediation     A Primer p.94\n",
      "gender_admission        mediation     Why p.285 (pdf)\n",
      "gender_admission_state  arrowhead     Why p.285 (pdf)\n",
      "forest_fire             fork          {'Causes and Explanations': 'A Structural-Model Approach. Part II'}\n",
      "firing_squad            diamond       Why p.46 (pdf)\n",
      "getting_late            fork          self_composed\n",
      "neg_mediation           mediation     self_composed\n",
      "gender_pay              arrowhead     nan\n",
      "simpson_drug            confounding   Why p.191 (pdf)\n",
      "obesity_mortality       arrowhead     nan\n",
      "simpson_hospital        confounding   self_composed\n",
      "celebrity               collision     nan\n",
      "smoking_gene_cancer     arrowhead     self_composed\n",
      "blood_pressure          mediation     Why p.192 (pdf)\n",
      "hospitalization         collision     nan\n",
      "nature_vs_nurture       arrowhead     Why p.279(pdf)\n",
      "firing_employee         diamondcut    self_composed\n",
      "price                   IV            Why p.226(pdf)\n",
      "vaccine_kills           diamond       Why p.51(pdf)\n",
      "alarm                   mediation     Causality and Counterfactuals in the Situation Calculus\n",
      "college_wage            IV            Card 1995.pdf\n",
      "tax_smoke_birthWeight   IV            Can higher cigarette taxes improve birth outcomes? - ScienceDirect\n",
      "water_cholera           IV            Why p.229(pdf)\n",
      "candle                  fork          Causality and Counterfactuals in the Situation Calculus\n"
     ]
    }
   ],
   "source": [
    "names = [path.stem for path in story_paths]\n",
    "print(tabulate([(story['pathname'], story.get('phenomenon'), story.get('source')) for story in stories], headers=['name', 'phenomenon', 'source']))"
   ],
   "metadata": {
    "collapsed": false,
    "ExecuteTime": {
     "end_time": "2024-03-08T13:27:56.664528699Z",
     "start_time": "2024-03-08T13:27:56.658301371Z"
    }
   },
   "id": "28fc1657b1b6c7fa",
   "execution_count": 27
  },
  {
   "cell_type": "code",
   "outputs": [
    {
     "name": "stdout",
     "output_type": "stream",
     "text": [
      "phenomenon      count\n",
      "------------  -------\n",
      "arrowhead           6\n",
      "mediation           6\n",
      "IV                  5\n",
      "confounding         4\n",
      "collision           4\n",
      "fork                4\n",
      "chain               3\n",
      "diamond             3\n",
      "frontdoor           1\n",
      "diamondcut          1\n"
     ]
    }
   ],
   "source": [
    "phens = Counter(story.get('phenomenon') for story in stories)\n",
    "print(tabulate(phens.most_common(), headers=['phenomenon', 'count']))"
   ],
   "metadata": {
    "collapsed": false,
    "ExecuteTime": {
     "end_time": "2024-03-08T13:29:02.645458410Z",
     "start_time": "2024-03-08T13:29:02.599057591Z"
    }
   },
   "id": "f21ee4c42997d292",
   "execution_count": 31
  },
  {
   "cell_type": "code",
   "outputs": [
    {
     "name": "stdout",
     "output_type": "stream",
     "text": [
      "phenomenon      count\n",
      "------------  -------\n",
      "IV                  5\n",
      "mediation           4\n",
      "arrowhead           3\n",
      "confounding         3\n",
      "chain               3\n",
      "diamond             3\n",
      "fork                3\n",
      "frontdoor           1\n"
     ]
    }
   ],
   "source": [
    "phens = Counter(story.get('phenomenon') for story in stories if str(story.get('source')) not in {'None', 'nan', 'self_composed'})\n",
    "print(tabulate(phens.most_common(), headers=['phenomenon', 'count']))"
   ],
   "metadata": {
    "collapsed": false,
    "ExecuteTime": {
     "end_time": "2024-03-08T13:30:22.402474628Z",
     "start_time": "2024-03-08T13:30:22.355862496Z"
    }
   },
   "id": "82960dffa8627002",
   "execution_count": 34
  },
  {
   "cell_type": "code",
   "outputs": [
    {
     "name": "stdout",
     "output_type": "stream",
     "text": [
      "phenomenon      count\n",
      "------------  -------\n",
      "collision           4\n",
      "arrowhead           3\n",
      "mediation           2\n",
      "fork                1\n",
      "confounding         1\n",
      "diamondcut          1\n"
     ]
    }
   ],
   "source": [
    "phens = Counter(story.get('phenomenon') for story in stories if str(story.get('source')) in {'None', 'nan', 'self_composed'})\n",
    "print(tabulate(phens.most_common(), headers=['phenomenon', 'count']))"
   ],
   "metadata": {
    "collapsed": false,
    "ExecuteTime": {
     "end_time": "2024-03-08T13:30:27.298788269Z",
     "start_time": "2024-03-08T13:30:27.294377100Z"
    }
   },
   "id": "ffe4b871c0b6dd44",
   "execution_count": 35
  },
  {
   "cell_type": "code",
   "outputs": [],
   "source": [
    "from omnibelt import pformat, pformat_vars"
   ],
   "metadata": {
    "collapsed": false,
    "ExecuteTime": {
     "end_time": "2024-03-15T10:43:26.147934Z",
     "start_time": "2024-03-15T10:43:26.121690Z"
    }
   },
   "id": "fe4de439ba02bdd7",
   "execution_count": 1
  },
  {
   "cell_type": "code",
   "outputs": [
    {
     "data": {
      "text/plain": "['sometype', 'test']"
     },
     "execution_count": 12,
     "metadata": {},
     "output_type": "execute_result"
    }
   ],
   "source": [
    "template = '{sometype(test)}'\n",
    "list(pformat_vars(template))"
   ],
   "metadata": {
    "collapsed": false,
    "ExecuteTime": {
     "end_time": "2024-03-15T10:46:44.060797Z",
     "start_time": "2024-03-15T10:46:44.055980Z"
    }
   },
   "id": "99bbc9ddd925d02b",
   "execution_count": 12
  },
  {
   "cell_type": "code",
   "outputs": [
    {
     "data": {
      "text/plain": "'10.0'"
     },
     "execution_count": 14,
     "metadata": {},
     "output_type": "execute_result"
    }
   ],
   "source": [
    "pformat(template, test=10, sometype=float)"
   ],
   "metadata": {
    "collapsed": false,
    "ExecuteTime": {
     "end_time": "2024-03-15T10:46:48.640229Z",
     "start_time": "2024-03-15T10:46:48.635132Z"
    }
   },
   "id": "f296995c19ebb1b4",
   "execution_count": 14
  },
  {
   "cell_type": "code",
   "outputs": [
    {
     "data": {
      "text/plain": "-3550055125485641917"
     },
     "execution_count": 16,
     "metadata": {},
     "output_type": "execute_result"
    }
   ],
   "source": [
    "hash((1,2))"
   ],
   "metadata": {
    "collapsed": false,
    "ExecuteTime": {
     "end_time": "2024-03-15T12:06:24.897953Z",
     "start_time": "2024-03-15T12:06:24.888005Z"
    }
   },
   "id": "7621197fa740b98e",
   "execution_count": 16
  },
  {
   "cell_type": "code",
   "outputs": [
    {
     "data": {
      "text/plain": "-6644214454873602895"
     },
     "execution_count": 18,
     "metadata": {},
     "output_type": "execute_result"
    }
   ],
   "source": [
    "hash((1,))"
   ],
   "metadata": {
    "collapsed": false,
    "ExecuteTime": {
     "end_time": "2024-03-15T12:06:35.274017Z",
     "start_time": "2024-03-15T12:06:35.264002Z"
    }
   },
   "id": "81ec4a930a7402ae",
   "execution_count": 18
  },
  {
   "cell_type": "code",
   "outputs": [],
   "source": [],
   "metadata": {
    "collapsed": false
   },
   "id": "bebbaa620191ee2d"
  },
  {
   "cell_type": "code",
   "outputs": [],
   "source": [],
   "metadata": {
    "collapsed": false,
    "ExecuteTime": {
     "start_time": "2024-03-08T13:17:20.182774612Z"
    }
   },
   "id": "9951456ec532c88"
  },
  {
   "cell_type": "code",
   "outputs": [],
   "source": [],
   "metadata": {
    "collapsed": false
   },
   "id": "7769ba09ff4f72c1"
  }
 ],
 "metadata": {
  "kernelspec": {
   "display_name": "Python 3",
   "language": "python",
   "name": "python3"
  },
  "language_info": {
   "codemirror_mode": {
    "name": "ipython",
    "version": 2
   },
   "file_extension": ".py",
   "mimetype": "text/x-python",
   "name": "python",
   "nbconvert_exporter": "python",
   "pygments_lexer": "ipython2",
   "version": "2.7.6"
  }
 },
 "nbformat": 4,
 "nbformat_minor": 5
}

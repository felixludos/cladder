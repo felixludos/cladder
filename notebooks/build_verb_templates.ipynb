{
 "cells": [
  {
   "cell_type": "code",
   "execution_count": 1,
   "id": "initial_id",
   "metadata": {
    "collapsed": true,
    "ExecuteTime": {
     "end_time": "2023-11-29T16:46:26.357266615Z",
     "start_time": "2023-11-29T16:46:23.733054326Z"
    }
   },
   "outputs": [],
   "source": [
    "from pathlib import Path\n",
    "from omnibelt import toposort, load_json, save_json, pformat, pformat_vars\n",
    "from itertools import product, combinations\n",
    "# import pyperclip\n",
    "import random\n",
    "from PIL import Image\n",
    "from graphviz import Digraph\n",
    "import matplotlib.pyplot as plt\n",
    "import io\n",
    "# import clipboard\n",
    "import networkx as nx\n",
    "from tqdm.notebook import tqdm\n",
    "from tabulate import tabulate\n",
    "import matplotlib.pyplot as plt\n",
    "import seaborn as sns\n",
    "from omniply import tool, ToolKit, Context\n",
    "\n",
    "import numpy as np\n",
    "import torch\n",
    "from causalbenchmark.novo.simulation.models import Bernoulli, ConditionalBernoulli, BernoulliNetwork\n",
    "from causalbenchmark.novo.seeding import NewsHeadlines, StatisticsPrompting, Story\n",
    "# from causalbenchmark.novo.seeding.prompting import GraphInfo\n",
    "from causalbenchmark.novo.templating import FixedTemplate, SimpleTemplater\n",
    "# from causalbenchmark.novo.verbalization import misc\n",
    "from causalbenchmark.novo import misc\n",
    "from causalbenchmark.novo.verbalization.decision import Decision\n",
    "from causalbenchmark.novo.templating import Template\n",
    "from causalbenchmark.novo.verbalization import Verbalizer, MarginalVerbalization, ConditionalVerbalization"
   ]
  },
  {
   "cell_type": "code",
   "execution_count": 2,
   "outputs": [
    {
     "data": {
      "text/plain": "1",
      "image/png": "[encoded data removed]",
      "text/latex": "$\\displaystyle 1$"
     },
     "execution_count": 2,
     "metadata": {},
     "output_type": "execute_result"
    }
   ],
   "source": [
    "use_old_loading = False\n",
    "story_names = [\n",
    "\t# 'old/test19', 'old/test20', 'old/test21',\n",
    "\t\n",
    "\t# 'Facebook-WallStreet_Trends_Post-Verdict1',\n",
    "\t# 'RoyalFashionTrends_Analysis2',\n",
    "\t'EU Gas Alliance and Inflation Trends',\n",
    "]\n",
    "stories = []\n",
    "for name in story_names:\n",
    "\tstory = Story(story_root=misc.data_root() / 'stories', story_id=name)#.populate_defaults()\n",
    "\tstories.append(story)\n",
    "\tif use_old_loading:\n",
    "\t\tstory['stats'] = {int(k): v for k, v in story['stats'].items()}\n",
    "\t\tstory['verbs'] = {k: {int(k2): v2 for k2, v2 in v.items()} for k, v in story['verbs'].items()}\n",
    "\t\tfor k, v in story['verbs'].items():\n",
    "\t\t\tfor k2, v2 in v.items():\n",
    "\t\t\t\tif 'value' in v2:\n",
    "\t\t\t\t\tv2['value'] = {int(k3): v3 for k3, v3 in v2['value'].items()}\n",
    "\t\tstory['questions']['questions'] = {int(k): v for k, v in story['questions']['questions'].items()}\n",
    "len(stories)"
   ],
   "metadata": {
    "collapsed": false,
    "ExecuteTime": {
     "end_time": "2023-11-29T16:46:26.477217464Z",
     "start_time": "2023-11-29T16:46:26.355285529Z"
    }
   },
   "id": "604bd583b4084ccd"
  },
  {
   "cell_type": "code",
   "execution_count": 3,
   "outputs": [],
   "source": [
    "def old_story_atoms(story):\n",
    "\tvarverbs = {}\n",
    "\tfor var, raw in story['verbs'].items():\n",
    "\t\tinfo = {'values': {0: {}, 1: {}}}\n",
    "\t\t\n",
    "\t\tinfo['variable'] = raw[1]['variable']\n",
    "\t\tinfo['subject'] = raw[2]['subject']\n",
    "\t\tinfo['domain'] = raw[4]['domain']\n",
    "\t\t\n",
    "\t\tfor i in [0, 1]:\n",
    "\t\t\tinfo_val = info['values'][i]\n",
    "\t\t\tinfo_val['verb'] = raw[2]['value'][i] # goes with subject\n",
    "\t\t\tinfo_val['phrase'] = raw[3]['value'][i]\n",
    "\t\t\tinfo_val['descriptor'] = raw[4]['value'][i] # goes with domain\n",
    "\t\t\tinfo_val['event'] = raw[5]['value'][i]\n",
    "\t\t\tinfo_val['conditional'] = raw[6]['value'][i]\n",
    "\t\t\tinfo_val['interventional'] = raw[7]['value'][i]\n",
    "\t\t\t\n",
    "\t\tvarverbs[var] = info\n",
    "\t\n",
    "\tstory['sheet'] = varverbs\n",
    "\treturn story\n",
    "\n",
    "def story_atoms(story):\n",
    "\tbase_keys = ['descriptor', 'subject', 'pronoun', 'preposition', 'domain']\n",
    "\tvalue_keys = ['predicate', 'nounclause', 'subclause', 'condition', 'action']\n",
    "\tfor node in story['nodes']:\n",
    "\t\traw = story['verbs'][node['name']]\n",
    "\t\tinfo = {'values': {0: {}, 1: {}}}\n",
    "\t\tinfo.update({key: raw[key] for key in base_keys})\n",
    "\t\tfor i in [0, 1]:\n",
    "\t\t\tinfo_val = info['values'][i]\n",
    "\t\t\tinfo_val.update({key: raw[f'{key}{i}'] for key in value_keys})\n",
    "\t\tnode['verbs'] = info\n",
    "for story in stories:\n",
    "\t(old_story_atoms if use_old_loading else story_atoms)(story)"
   ],
   "metadata": {
    "collapsed": false,
    "ExecuteTime": {
     "end_time": "2023-11-29T16:46:26.481668793Z",
     "start_time": "2023-11-29T16:46:26.477809032Z"
    }
   },
   "id": "172e69abce303632"
  },
  {
   "cell_type": "code",
   "execution_count": 4,
   "outputs": [],
   "source": [
    "story = random.choice(stories)\n",
    "# rawverbs = story['verbs']\n",
    "# rawvars = {node['name']: node for node in story['nodes']}\n",
    "# next(iter(rawverbs.values()))"
   ],
   "metadata": {
    "collapsed": false,
    "ExecuteTime": {
     "end_time": "2023-11-29T16:46:26.493929415Z",
     "start_time": "2023-11-29T16:46:26.479859177Z"
    }
   },
   "id": "f02461335f55fce0"
  },
  {
   "cell_type": "code",
   "execution_count": 5,
   "outputs": [
    {
     "data": {
      "text/plain": "('EU Gas Alliance Formation', 'No Alliance')"
     },
     "execution_count": 5,
     "metadata": {},
     "output_type": "execute_result"
    }
   ],
   "source": [
    "node = random.choice(list(story['nodes']))\n",
    "varval = 0\n",
    "node['name'], node['values'][varval]"
   ],
   "metadata": {
    "collapsed": false,
    "ExecuteTime": {
     "end_time": "2023-11-29T16:46:26.530925199Z",
     "start_time": "2023-11-29T16:46:26.488206091Z"
    }
   },
   "id": "ad18af624f5ce543"
  },
  {
   "cell_type": "code",
   "execution_count": 6,
   "outputs": [
    {
     "data": {
      "text/plain": "dict_keys(['descriptor', 'subject', 'pronoun', 'preposition', 'domain', 'predicate', 'nounclause', 'subclause', 'condition', 'action'])"
     },
     "execution_count": 6,
     "metadata": {},
     "output_type": "execute_result"
    }
   ],
   "source": [
    "atoms = {**node['verbs'], **node['verbs']['values'][varval]}\n",
    "del atoms['values']\n",
    "atoms.keys()"
   ],
   "metadata": {
    "collapsed": false,
    "ExecuteTime": {
     "end_time": "2023-11-29T16:46:26.531072098Z",
     "start_time": "2023-11-29T16:46:26.528737155Z"
    }
   },
   "id": "df399a40f923e9b8"
  },
  {
   "cell_type": "code",
   "execution_count": 7,
   "outputs": [],
   "source": [
    "precise_templates = [\n",
    "\t['there', 'is', 'a', '{quantity}', '{prob_word}', 'that', '{position}'],\n",
    "\t['the', '{chance_word}', 'that', '{position}', '{\"are\" if chance_word == \"odds\" else \"is\"}', '{quantity}'],\n",
    "\t['{quantity}', 'of', 'the', 'time', '{position}'],\n",
    "\t['{quantity}', 'of', '{domain}', '{descriptor}'],\n",
    "\t['with a', '{confidence_word}', 'of {quantity}, {position}']\n",
    "] if use_old_loading else [\n",
    "\t['there', 'is', 'a', '{quantity}', '{prob_word}', 'that', '{position}'],\n",
    "\t['the', '{chance_word}', 'that', '{position}', '{\"are\" if chance_word == \"odds\" else \"is\"}', '{quantity}'],\n",
    "\t['{quantity}', 'of', 'the', 'time', '{position}'],\n",
    "\t['{preposition}', '{quantity}', 'of', '{domain},', '{subclause}'],\n",
    "\t['with a', '{confidence_word}', 'of {quantity}, {position}']\n",
    "]\n",
    "position_templates = [\n",
    "\t['{subject}', '{verb}',],\n",
    "\t['{domain}', '{descriptor}'],\n",
    "\t# ['{descriptor}'],\n",
    "\t['{phrase}',],\n",
    "\t['{event}',],\n",
    "] if use_old_loading else [\n",
    "\t['{subject}', '{predicate}',],\n",
    "\t['{nounclause}',],\n",
    "\t['{subclause}',],\n",
    "]\n",
    "\n",
    "cond_templates = [\n",
    "\t['{antecedent}', '{consequent}'],\n",
    "\t['{consequent},', '{antecedent}'],\n",
    "]\n",
    "\t\n",
    "def verb_atoms(node, varval=1):\n",
    "\tatoms = {**node['verbs'], **node['verbs']['values'][varval]}\n",
    "\tdel atoms['values']\n",
    "\treturn atoms\n",
    "\t\n",
    "def sample_text(ident=None, **static):\n",
    "\tif ident is None:\n",
    "\t\tident = {}\n",
    "\tstory_id = ident.setdefault('story_id', random.randint(0,len(stories)-1))\n",
    "\tstory = stories[story_id]\n",
    "\t\n",
    "\tvar_id = ident.setdefault('var_id', random.randint(0,len(story['nodes'])-1))\n",
    "\tnode = story['nodes'][var_id]\n",
    "\tvarname = node['name']\n",
    "\tvarval = ident.setdefault('value_id', random.choice([0, 1]))\n",
    "\tbase_atoms = verb_atoms(node, varval)\n",
    "\t\n",
    "\tconditions = None\n",
    "\t\n",
    "\tparents = [val for key, val in sorted(ident.items()) if key.startswith('parent_id')]\n",
    "\tif len(parents) or ident.setdefault('no_parents', random.choice([False, True])):\n",
    "\t\tparent_nodes = [node for i, node in enumerate(story['nodes']) if i != var_id]\n",
    "\t\tif not len(parents):\n",
    "\t\t\tnum = ident.setdefault('num_parents', random.randint(1, 2))\n",
    "\t\t\tparents = random.sample([i for i in range(len(story['nodes'])) if i != var_id], k=num)\n",
    "\t\t\n",
    "\t\tpvals = ident.setdefault('parent_vals', [random.randint(0, 1) for _ in range(len(parents))])\n",
    "\t\tconditions = [verb_atoms(node, pval) for node, pval in zip(parent_nodes, pvals)]\n",
    "\t\tfor i in parents:\n",
    "\t\t\tident[f'parent_id{i}'] = i\n",
    "\t\n",
    "\tV = MarginalVerbalization() if conditions is None else ConditionalVerbalization()\n",
    "\tdefault_pops = dict(position_templates=position_templates, precise_templates=precise_templates)\n",
    "\tif conditions is not None:\n",
    "\t\tdefault_pops['cond_templates'] = cond_templates\n",
    "\tV.populate_default(**default_pops)\n",
    "\tctx = Verbalizer().populate_variable_info(base_atoms, conditions, verbalization=V, **static)#.populate_default(precise_templates=precise_templates, position_templates=position_templates)\n",
    "\t\n",
    "\tctx.update(ident)\n",
    "\treturn ctx"
   ],
   "metadata": {
    "collapsed": false,
    "ExecuteTime": {
     "end_time": "2023-11-29T16:46:26.531126592Z",
     "start_time": "2023-11-29T16:46:26.528802178Z"
    }
   },
   "id": "37e1aaf88d56bd56"
  },
  {
   "cell_type": "code",
   "execution_count": 8,
   "outputs": [
    {
     "name": "stdout",
     "output_type": "stream",
     "text": [
      "  i    dof  text\n",
      "---  -----  --------------------------------------------------------------------------------------------------------\n",
      "  0      6  38% of the time global energy prices are fluctuating, with an unstable EU economy.\n",
      "  1      6  38% of the time global energy prices are fluctuating, with an unstable EU economy.\n",
      "  2      7  With a confidence of 38%, global energy prices are fluctuating, if the EU economy is unstable.\n",
      "  3      7  The probability that there's volatility in energy markets is 38%, with an unstable EU economy.\n",
      "  4      6  With an unstable EU economy 38% of the time there is a significant variation in prices.\n",
      "  5      7  With an unstable EU economy with a certainty of 38%, global energy prices are fluctuating.\n",
      "  6      7  There is a 38% likelihood that global energy prices are fluctuating, with an unstable EU economy.\n",
      "  7      7  If the EU economy is unstable with a certainty of 38%, there is a significant variation in prices.\n",
      "  8      5  Among 38% of energy markets, energy prices fluctuate, with an unstable EU economy.\n",
      "  9      7  With an unstable EU economy with a certainty of 38%, global energy prices are fluctuating.\n",
      " 10      5  Among 38% of energy markets, energy prices fluctuate, with an unstable EU economy.\n",
      " 11      5  If the EU economy is unstable among 38% of energy markets, energy prices fluctuate.\n",
      " 12      7  With a confidence of 38%, there is a significant variation in prices, with an unstable EU economy.\n",
      " 13      7  If the EU economy is unstable with a certainty of 38%, there is a significant variation in prices.\n",
      " 14      5  With an unstable EU economy among 38% of energy markets, there is a significant variation in prices.\n",
      " 15      7  With a confidence of 38%, global energy prices experience volatility, if the EU economy is unstable.\n",
      " 16      7  If the EU economy is unstable with a confidence of 38%, there is a significant variation in prices.\n",
      " 17      6  38% of the time energy prices fluctuate, with an unstable EU economy.\n",
      " 18      5  Among 38% of energy markets, energy prices fluctuate, if the EU economy is unstable.\n",
      " 19      7  There is a 38% probability that global energy prices experience volatility, with an unstable EU economy.\n",
      " 20      7  There is a 38% likelihood that energy prices fluctuate, if the EU economy is unstable.\n",
      " 21      7  The probability that energy prices fluctuate is 38%, with an unstable EU economy.\n",
      " 22      7  With an unstable EU economy there is a 38% chance that there's volatility in energy markets.\n",
      " 23      7  With an unstable EU economy with a certainty of 38%, global energy prices are fluctuating.\n",
      " 24      5  If the EU economy is unstable among 38% of energy markets, there is a significant variation in prices.\n",
      " 25      7  If the EU economy is unstable there is a 38% likelihood that energy prices fluctuate.\n",
      " 26      6  If the EU economy is unstable 38% of the time global energy prices are fluctuating.\n",
      " 27      7  If the EU economy is unstable there is a 38% likelihood that global energy prices are fluctuating.\n",
      " 28      6  38% of the time there is a significant variation in prices, if the EU economy is unstable.\n",
      " 29      6  38% of the time there's volatility in energy markets, if the EU economy is unstable.\n"
     ]
    }
   ],
   "source": [
    "samples = []\n",
    "\n",
    "\n",
    "prior = {\n",
    "\t'story_id': 0,\n",
    "\t'var_id': 0,\n",
    "\t'value_id': 1,\n",
    "\t\n",
    "\t# 'clause_id': 0,\n",
    "\t# 'position_id': 3,\n",
    "\t\n",
    "\t'parent_id1': 0,\n",
    "\t'parent_vals': [1],\n",
    "\t# 'parent_id2': 1,\n",
    "\t\n",
    "}\n",
    "\n",
    "for _ in range(30):\n",
    "\tident = prior.copy()\n",
    "\tctx = sample_text(ident, mean=0.38)\n",
    "\ttext = ctx['sentence']\n",
    "\tident.update(ctx.identity())\n",
    "\tctx['ident'] = ident\n",
    "\tsamples.append(ctx)\n",
    "\n",
    "cols = []\n",
    "for row in samples:\n",
    "\tfor key in row['ident']:\n",
    "\t\tif key not in cols:\n",
    "\t\t\tcols.append(key)\n",
    "\n",
    "table = [(i, len([k for k in row['ident'] if k not in prior]),\n",
    "\t\t  row['sentence'], \n",
    "\t\t  # row['ctx']['event'], row['ctx']['event'], row['ctx']['phrase'], row['ctx']['subject'], row['ctx']['verb'],  \n",
    "\t\t  # *[row['ident'].get(key, '-') for key in cols]\n",
    "\t\t  ) for i, row in enumerate(samples)]\n",
    "print(tabulate(table, headers=['i', 'dof', 'text', *cols]))# *list(map(str, range(len(cols))))]))"
   ],
   "metadata": {
    "collapsed": false,
    "ExecuteTime": {
     "end_time": "2023-11-29T16:46:27.172275732Z",
     "start_time": "2023-11-29T16:46:27.123836110Z"
    }
   },
   "id": "8790ba39976af0d6"
  },
  {
   "cell_type": "code",
   "execution_count": 78,
   "outputs": [
    {
     "name": "stdout",
     "output_type": "stream",
     "text": [
      "The odds that this incident got limited coverage in the news are 62%.\n",
      "{'story_id': 0, 'var_id': 6, 'value_id': 0, 'verb_id': 2, 'clause_id': 1, 'position_id': 0, 'chance_word_id': 3}\n"
     ]
    }
   ],
   "source": [
    "sample = samples[0]\n",
    "ident = sample['ident']\n",
    "ctx = sample['ctx']\n",
    "text = sample['text']\n",
    "\n",
    "print(text)\n",
    "print(ident)"
   ],
   "metadata": {
    "collapsed": false,
    "ExecuteTime": {
     "end_time": "2023-11-28T15:59:53.828803246Z",
     "start_time": "2023-11-28T15:59:53.784457623Z"
    }
   },
   "id": "9d0d64ebfd8f51cc"
  },
  {
   "cell_type": "code",
   "execution_count": null,
   "outputs": [],
   "source": [
    "\n",
    "class ParentVerbalization(ToolKit):\n",
    "\t@tool('antecedent')\n",
    "\tdef construct_antecedent(self, parents):\n",
    "\t\tpass\n"
   ],
   "metadata": {
    "collapsed": false
   },
   "id": "3cd787366e4e679d"
  },
  {
   "cell_type": "code",
   "execution_count": 10,
   "outputs": [],
   "source": [
    "cond_templates = [\n",
    "\t['{antecedent}', '{clause}'],\n",
    "\t['{clause},', '{antecedent}'],\n",
    "]\n",
    "\n",
    "@tool('antecedent')\n",
    "def construct_antecedent(parents):\n",
    "\t\n",
    "\t\n",
    "\t\n",
    "\tpass\n"
   ],
   "metadata": {
    "collapsed": false,
    "ExecuteTime": {
     "end_time": "2023-11-29T13:24:24.098559553Z",
     "start_time": "2023-11-29T13:24:24.046550252Z"
    }
   },
   "id": "390071951aed0d1d"
  },
  {
   "cell_type": "code",
   "execution_count": null,
   "outputs": [],
   "source": [],
   "metadata": {
    "collapsed": false
   },
   "id": "41fdb29c5d1ccd64"
  },
  {
   "cell_type": "code",
   "execution_count": null,
   "outputs": [],
   "source": [],
   "metadata": {
    "collapsed": false
   },
   "id": "d7a845301396d1d3"
  },
  {
   "cell_type": "code",
   "execution_count": null,
   "outputs": [],
   "source": [],
   "metadata": {
    "collapsed": false
   },
   "id": "c7fa0d632a600a78"
  },
  {
   "cell_type": "code",
   "execution_count": null,
   "outputs": [],
   "source": [
    "ident = {}\n",
    "ctx = sample_text(ident, mean=0.57)\n",
    "\n",
    "\n",
    "\n",
    "text = Template.detok(ctx['clause'], capitalize=True, sentence=True)\n",
    "ident.update(ctx.identity())\n",
    "print(text)\n",
    "ident"
   ],
   "metadata": {
    "collapsed": false
   },
   "id": "d9d909ddbba12f12"
  },
  {
   "cell_type": "code",
   "execution_count": 33,
   "outputs": [
    {
     "name": "stdout",
     "output_type": "stream",
     "text": [
      "The chance that this incident was scarcely covered by the media is 57%.\n"
     ]
    },
    {
     "data": {
      "text/plain": "{'verb_id': 1, 'clause_id': 1, 'position_id': 0, 'chance_word_id': 1}"
     },
     "execution_count": 33,
     "metadata": {},
     "output_type": "execute_result"
    }
   ],
   "source": [
    "\n",
    "selection = {}\n",
    "\n",
    "\n",
    "\n",
    "\n",
    "story = random.choice(stories)\n",
    "varname = random.choice(list(rawverbs.keys()))\n",
    "varinfo = story['sheet'][varname]\n",
    "varval = 0\n",
    "\n",
    "ctx = ClauseVerbalization().populate_variable_info(info, mean=0.57).populate_default(precise_templates=precise_templates, position_templates=position_templates)\n",
    "\n",
    "# ctx['clause_id'] = 3\n",
    "ctx['position_id'] = 0\n",
    "\n",
    "text = Template.detok(ctx['clause'], capitalize=True, sentence=True)\n",
    "print(text)\n",
    "ctx.identity()"
   ],
   "metadata": {
    "collapsed": false,
    "ExecuteTime": {
     "end_time": "2023-11-28T15:36:36.356975911Z",
     "start_time": "2023-11-28T15:36:36.339666321Z"
    }
   },
   "id": "a615f931ea866100"
  },
  {
   "cell_type": "code",
   "execution_count": 10,
   "outputs": [],
   "source": [
    "# ClauseVerbalization._precise_templates[0]"
   ],
   "metadata": {
    "collapsed": false,
    "ExecuteTime": {
     "end_time": "2023-11-28T15:31:53.646470614Z",
     "start_time": "2023-11-28T15:31:53.633782175Z"
    }
   },
   "id": "cb7ccfec6057274e"
  },
  {
   "cell_type": "code",
   "execution_count": null,
   "outputs": [],
   "source": [],
   "metadata": {
    "collapsed": false
   },
   "id": "84adb6c628d96022"
  },
  {
   "cell_type": "code",
   "execution_count": null,
   "outputs": [],
   "source": [],
   "metadata": {
    "collapsed": false
   },
   "id": "87145c097f684a73"
  },
  {
   "cell_type": "code",
   "execution_count": 10,
   "outputs": [],
   "source": [],
   "metadata": {
    "collapsed": false,
    "ExecuteTime": {
     "end_time": "2023-11-28T15:31:58.875779123Z",
     "start_time": "2023-11-28T15:31:58.862463497Z"
    }
   },
   "id": "5531e86555338fac"
  },
  {
   "cell_type": "code",
   "execution_count": null,
   "outputs": [],
   "source": [],
   "metadata": {
    "collapsed": false
   },
   "id": "c32d952d9e328b8"
  },
  {
   "cell_type": "code",
   "execution_count": null,
   "outputs": [],
   "source": [],
   "metadata": {
    "collapsed": false
   },
   "id": "5052a520708b640"
  },
  {
   "cell_type": "code",
   "execution_count": 8,
   "outputs": [],
   "source": [
    "\n",
    "prob_words = ['probability', 'chance', 'likelihood']\n",
    "chance_words = ['probability', 'chance', 'likelihood', 'odds']\n",
    "\n"
   ],
   "metadata": {
    "collapsed": false,
    "ExecuteTime": {
     "end_time": "2023-11-28T14:39:52.537372963Z",
     "start_time": "2023-11-28T14:39:52.511392357Z"
    }
   },
   "id": "eca2719f35b8fe6d"
  },
  {
   "cell_type": "code",
   "execution_count": 18,
   "outputs": [],
   "source": [
    "def detok(tokens):\n",
    "\ttoks = [', ' if tok == ',' else tok for tok in tokens]\n",
    "\tsentence = ' '.join(toks) + '.'\n",
    "\treturn sentence.capitalize()"
   ],
   "metadata": {
    "collapsed": false,
    "ExecuteTime": {
     "end_time": "2023-11-27T15:47:41.226348946Z",
     "start_time": "2023-11-27T15:47:41.210297087Z"
    }
   },
   "id": "1aab35e99d67d976"
  },
  {
   "cell_type": "code",
   "execution_count": null,
   "outputs": [],
   "source": [
    "# 1. One of the variables is {descriptor}.\n",
    "# 2. {subject} [often/usually/sometimes/rarely/etc.] {predicate}.\n",
    "# 3. There is a [number]% chance that {noun-clause}.\n",
    "# 4. [In/For/With/etc.] [number]% of {domain}, there {phrase}.\n",
    "# 5. Conditional sentence: {condition}, [some consequence].\n",
    "# 6. Interventional: If {action}, [some effect]."
   ],
   "metadata": {
    "collapsed": false
   },
   "id": "eb8aeeebcf773cdf"
  },
  {
   "cell_type": "code",
   "execution_count": 19,
   "outputs": [
    {
     "ename": "NameError",
     "evalue": "name 'AbstractGadget' is not defined",
     "output_type": "error",
     "traceback": [
      "\u001B[0;31m---------------------------------------------------------------------------\u001B[0m",
      "\u001B[0;31mNameError\u001B[0m                                 Traceback (most recent call last)",
      "Cell \u001B[0;32mIn[19], line 1\u001B[0m\n\u001B[0;32m----> 1\u001B[0m \u001B[38;5;28;01mclass\u001B[39;00m \u001B[38;5;21;01mDictGadget\u001B[39;00m(\u001B[43mAbstractGadget\u001B[49m):\n\u001B[1;32m      2\u001B[0m \t_no_default \u001B[38;5;241m=\u001B[39m \u001B[38;5;28mobject\u001B[39m()\n\u001B[1;32m      3\u001B[0m \t\u001B[38;5;28;01mdef\u001B[39;00m \u001B[38;5;21m__init__\u001B[39m(\u001B[38;5;28mself\u001B[39m, data: \u001B[38;5;28mdict\u001B[39m[\u001B[38;5;28mstr\u001B[39m, Any], default_value\u001B[38;5;241m=\u001B[39m_no_default, gizmos: \u001B[38;5;28mlist\u001B[39m[\u001B[38;5;28mstr\u001B[39m] \u001B[38;5;241m=\u001B[39m \u001B[38;5;28;01mNone\u001B[39;00m, \u001B[38;5;241m*\u001B[39m\u001B[38;5;241m*\u001B[39mkwargs):\n",
      "\u001B[0;31mNameError\u001B[0m: name 'AbstractGadget' is not defined"
     ]
    }
   ],
   "source": [
    "# The man that she loved went home.\n",
    "# She realized that he loves her."
   ],
   "metadata": {
    "collapsed": false,
    "ExecuteTime": {
     "end_time": "2023-11-28T10:15:39.525389468Z",
     "start_time": "2023-11-28T10:15:39.473031079Z"
    }
   },
   "id": "238567e178379552"
  },
  {
   "cell_type": "code",
   "execution_count": null,
   "outputs": [],
   "source": [
    "# 1. One of the variables is {variable}.\n",
    "# 2. We estimate {subject} [often/usually/sometimes/rarely/etc.] {value}.\n",
    "# 3. There is a [number]% chance that {value}.\n",
    "# 4. [number]% of {domain} {value}.\n",
    "# 5. [number]% of the time {value}.\n",
    "# 6. Conditional sentence: {value}, [some consequence].\n",
    "# 7. Interventional: If {value}, [some effect]."
   ],
   "metadata": {
    "collapsed": false
   },
   "id": "28f852100b5fcba3"
  },
  {
   "cell_type": "code",
   "execution_count": null,
   "outputs": [],
   "source": [],
   "metadata": {
    "collapsed": false
   },
   "id": "27eac865d2408b88"
  },
  {
   "cell_type": "code",
   "execution_count": null,
   "outputs": [],
   "source": [],
   "metadata": {
    "collapsed": false,
    "ExecuteTime": {
     "end_time": "2023-11-27T15:11:52.536416030Z",
     "start_time": "2023-11-27T15:11:52.478641307Z"
    }
   },
   "id": "10620b6940b3b876"
  },
  {
   "cell_type": "code",
   "execution_count": null,
   "outputs": [],
   "source": [],
   "metadata": {
    "collapsed": false
   },
   "id": "960b14f65ddc10ec"
  }
 ],
 "metadata": {
  "kernelspec": {
   "display_name": "Python 3",
   "language": "python",
   "name": "python3"
  },
  "language_info": {
   "codemirror_mode": {
    "name": "ipython",
    "version": 2
   },
   "file_extension": ".py",
   "mimetype": "text/x-python",
   "name": "python",
   "nbconvert_exporter": "python",
   "pygments_lexer": "ipython2",
   "version": "2.7.6"
  }
 },
 "nbformat": 4,
 "nbformat_minor": 5
}

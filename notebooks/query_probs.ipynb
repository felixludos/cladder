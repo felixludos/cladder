{
 "cells": [
  {
   "cell_type": "code",
   "execution_count": 38,
   "outputs": [],
   "source": [
    "from pathlib import Path\n",
    "from omnibelt import toposort, load_json, save_json\n",
    "from itertools import product, combinations\n",
    "# import pyperclip\n",
    "import random\n",
    "import json\n",
    "from PIL import Image\n",
    "from graphviz import Digraph\n",
    "import matplotlib.pyplot as plt\n",
    "import io\n",
    "# import clipboard\n",
    "import networkx as nx\n",
    "from tqdm.notebook import tqdm\n",
    "from tabulate import tabulate\n",
    "import matplotlib.pyplot as plt\n",
    "import seaborn as sns\n",
    "from omniply import tool, ToolKit, Context\n",
    "\n",
    "import numpy as np\n",
    "import torch\n",
    "from causalbenchmark.novo.simulation.models import Bernoulli, ConditionalBernoulli, BernoulliNetwork\n",
    "from causalbenchmark.novo.seeding import NewsHeadlines, StatisticsPrompting, Story\n",
    "# from causalbenchmark.novo.seeding.prompting import GraphInfo\n",
    "from causalbenchmark.novo.templating import FixedTemplate, SimpleTemplater, FileTemplate\n",
    "from causalbenchmark.novo import misc"
   ],
   "metadata": {
    "collapsed": false,
    "ExecuteTime": {
     "end_time": "2023-11-29T16:46:38.259378205Z",
     "start_time": "2023-11-29T16:46:38.168891491Z"
    }
   },
   "id": "e4dbd77df7c7caae"
  },
  {
   "cell_type": "code",
   "execution_count": 2,
   "outputs": [
    {
     "data": {
      "text/plain": "  0%|          | 0/5 [00:00<?, ?it/s]",
      "application/vnd.jupyter.widget-view+json": {
       "version_major": 2,
       "version_minor": 0,
       "model_id": "c7e6db8b058e475fae43b9c7b42a1344"
      }
     },
     "metadata": {},
     "output_type": "display_data"
    },
    {
     "data": {
      "text/plain": "550074",
      "image/png": "[encoded data removed]",
      "text/latex": "$\\displaystyle 550074$"
     },
     "execution_count": 2,
     "metadata": {},
     "output_type": "execute_result"
    }
   ],
   "source": [
    "spark_generator = NewsHeadlines(locs=['gb', 'de', 'fr', 'it', 'nl'], \n",
    "                                dataset_root=Path(r'/home/fleeb/workspace/local_data/nnn/babel-briefings-v1'),\n",
    "                                # dataset_root=Path(r'C:\\Users\\anwan\\workspace\\local_data\\nnn\\babel-briefings-v1'),\n",
    "                                ).load(pbar=tqdm)\n",
    "len(spark_generator.article_IDs)"
   ],
   "metadata": {
    "collapsed": false,
    "ExecuteTime": {
     "end_time": "2023-11-29T12:52:54.821557201Z",
     "start_time": "2023-11-29T12:52:49.622792035Z"
    }
   },
   "id": "a3e440a9e9d43579"
  },
  {
   "cell_type": "code",
   "execution_count": 41,
   "outputs": [
    {
     "name": "stdout",
     "output_type": "stream",
     "text": [
      "280411\n",
      "Title: Deutz: Engine manufacturer is cutting hundreds of jobs in Germany - t-online.de\n",
      "Description: The auto industry is suffering greatly from the corona pandemic. The traditional engine manufacturer Deutz also feels this. The company wants to cut many jobs in Germany. Around 1,000 jobs are expected to be eliminated worldwide by 2022.\n",
      "Original Language: German\n"
     ]
    }
   ],
   "source": [
    "# ctx = Story(story_root=misc.data_root() / 'stories', story_id='test17')\n",
    "ctx = Story(story_root=misc.data_root() / 'stories').populate_defaults()\n",
    "ctx.include(spark_generator,)\n",
    "# print(ctx)\n",
    "# ctx['seed'] = 6660483#2494534#91220#1684065#6805333\n",
    "# ctx['seed'] = 3357669#6660483\n",
    "# ctx['spark'] = '''Title: Naples, Apple renews the Academy program with the Federico II University - Rai News\n",
    "# Description: The academic training born between Cupertino and the University in 2016 restarts at the San Giovanni a Teduccio headquarters\n",
    "# Original Language: Italian'''\n",
    "print(ctx['seed'])\n",
    "print(ctx['spark'])"
   ],
   "metadata": {
    "collapsed": false,
    "ExecuteTime": {
     "end_time": "2023-11-29T16:46:48.361032300Z",
     "start_time": "2023-11-29T16:46:48.291893116Z"
    }
   },
   "id": "46baeb3a28e45ee"
  },
  {
   "cell_type": "code",
   "execution_count": 42,
   "outputs": [
    {
     "name": "stdout",
     "output_type": "stream",
     "text": [
      "We have a news article headline, and we would like to identify a potential specific analysis that could be motivated by the article. Importantly, we would like specific details to be mentioned in the setting, even if they don't show up in the original article, to paint a vivid picture of the motivation and potential features of the data.\n",
      "\n",
      "Here is the article headline:\n",
      "\n",
      "```\n",
      "Title: Deutz: Engine manufacturer is cutting hundreds of jobs in Germany - t-online.de\n",
      "Description: The auto industry is suffering greatly from the corona pandemic. The traditional engine manufacturer Deutz also feels this. The company wants to cut many jobs in Germany. Around 1,000 jobs are expected to be eliminated worldwide by 2022.\n",
      "Original Language: German\n",
      "```\n",
      "\n",
      "Write a 2-3 sentence introduction to a statistical analysis that could be motivated by this article. Be sure to include specific details about the data that would be used and the analysis that would be performed. You do not need to write the entire analysis, just the introduction. Avoid using any technical jargon (such as words like \"statistical analysis\" or \"model\" and avoid starting with \"imagine\") and make sure the introduction is accessible to laypeople (albeit in a professional setting), and the motivation is clear. Imagine a casual conversation between friends or colleagues about the article that may prompt some deeper quantitative analysis when thinking about it, and make sure this introduction would sound understandable and interesting to them.\n",
      "\n",
      "Answer in the form of a json dictionary with two entries: one for the `introduction` and one for a proposed `title` for this specific setting that can serve as a file name.\n"
     ]
    }
   ],
   "source": [
    "# if 'prompt_story' in ctx:\n",
    "#     del ctx['prompt_motivation']\n",
    "print(ctx['prompt_motivation'])"
   ],
   "metadata": {
    "collapsed": false,
    "ExecuteTime": {
     "end_time": "2023-11-29T16:47:02.566359555Z",
     "start_time": "2023-11-29T16:47:02.526972421Z"
    }
   },
   "id": "3785127939de600d"
  },
  {
   "cell_type": "code",
   "execution_count": 45,
   "outputs": [],
   "source": [
    "##############################################\n",
    "motivation_raw = '''\n",
    "\n",
    "{\n",
    "  \"title\": \"Impact_of_Covid_on_Auto_Industry_Job_Market\",\n",
    "  \"introduction\": \"This analysis explores the ripple effects of the COVID-19 pandemic on the auto industry's job market, inspired by Deutz's recent job cuts. By comparing employment data from before and during the pandemic, specifically focusing on auto manufacturers in Germany, we can uncover trends and assess the broader impact on jobs. Our look into various companies' workforce sizes, hiring and layoff rates will reveal the pandemic's real impact on this sector.\"\n",
    "}\n",
    "\n",
    "\n",
    "'''\n",
    "##############################################\n",
    "ctx['motivation'] = json.loads(motivation_raw)"
   ],
   "metadata": {
    "collapsed": false,
    "ExecuteTime": {
     "end_time": "2023-11-29T16:48:03.659850116Z",
     "start_time": "2023-11-29T16:48:03.629410145Z"
    }
   },
   "id": "8f63a07ab974c0b7"
  },
  {
   "cell_type": "code",
   "execution_count": 46,
   "outputs": [
    {
     "name": "stdout",
     "output_type": "stream",
     "text": [
      "We are interested in building a causal model based on the explicit and implicit assumptions contained in the specified article and then using causal inference to evaluate the reasoning. Answer the following questions to design an interesting, simple, and most importantly realistic causal model from a news article.\n",
      "\n",
      "To help understand the instructions here are some tips:\n",
      "- all variables are always binary and (at least in principle) measurable, so when creating and selecting variables, make sure it is reasonable to treat them as binary\n",
      "- whenever you propose a variable, make sure to define the meaning of each value it can take, and mention whether it is observable or not\n",
      "- outcome variables are always observable, and should always have 2-3 causal parents (including treatment, mediator, and confounder variables)\n",
      "- treatment variables are always observable and intervenable, that means it must be possible to (at least in principle) change their value if desired, and these should generally have at least causal parent, and always at least one child\n",
      "- confounder variables may or may not be observable, and should always have 2-3 causal children and no causal parents\n",
      "- mediator variables may or may not be observable, and should always have 1-2 causal parents (for example, a treatment variable or confounder) and 1-2 causal children (for example, the outcome variable)\n",
      "- collider variables are always observable, and should always have 2-3 causal parents (for example, a treatment and outcome variable) and no causal children\n",
      "\n",
      "Here is the topic and original the news article headline:\n",
      "\n",
      "```\n",
      "Title: Deutz: Engine manufacturer is cutting hundreds of jobs in Germany - t-online.de\n",
      "Description: The auto industry is suffering greatly from the corona pandemic. The traditional engine manufacturer Deutz also feels this. The company wants to cut many jobs in Germany. Around 1,000 jobs are expected to be eliminated worldwide by 2022.\n",
      "Original Language: German\n",
      "\n",
      "This analysis explores the ripple effects of the COVID-19 pandemic on the auto industry's job market, inspired by Deutz's recent job cuts. By comparing employment data from before and during the pandemic, specifically focusing on auto manufacturers in Germany, we can uncover trends and assess the broader impact on jobs. Our look into various companies' workforce sizes, hiring and layoff rates will reveal the pandemic's real impact on this sector.\n",
      "```\n",
      "\n",
      "Begin by brainstorming some non-trivial interesting binary causal variables to construct a causal bayes net:\n",
      "\n",
      "1. Propose 1 outcome variable mentioned implicitly or explicitly in the introduction addressing some quantity that people are most likely to be interested in studying, especially if people tend to have misconceptions about it\n",
      "3. Propose 2 treatment variables that either directly or indirectly affect the selected outcome variable and are the most interesting to study. Make sure the treatment variables affect the outcome (possibly through a mediator).\n",
      "4. Propose 2 confounder variables that affect some reasonable combination of the outcome, treatment, and mediator variables in a non-trivial way. Make sure the confounders have at least one child.\n",
      "5. Propose 2 mediator variables that affect and are affected by some reasonable combination of any other variables in a non-trivial way. Make sure the mediators have both parents and children.\n",
      "6. Propose 1 collider variable that are affected by some reasonable combination of any other variables in a non-trivial way. Make sure the collider has at least two parents.\n",
      "\n",
      "The variables and causal graph should, where possible, use specific details such as names and locations mentioned in the article. Also, generally the variable value \"0\" should correspond to the negative, neutral, or control while the value \"1\" should correspond to the positive choice or active value.\n",
      "\n",
      "As part of the brainstorming you should briefly first list the names of all the proposed variables.\n",
      "\n",
      "Next, construct a causal graph using the proposed variables by listing all the edges in the graph. Make sure to into the outcome variable and both treatment variables, and some interesting and intuitive combination of the other variables (you don't have to use all the others). Important: Make sure the causal graph is a DAG and that no node has more than three parents!\n",
      "\n",
      "Formalize this causal graph in the form of a JSON list of variables where each variable contains the following fields:\n",
      "- `name`: the name of the variable\n",
      "- `description`: a short description of the variable\n",
      "- `type`: the type of the variable, which can be one of the following: `outcome`, `treatment`, `confounder`, `mediator`, `collider`\n",
      "- `observed`: a boolean value indicating whether the variable is observable or not\n",
      "- `values`: a JSON list of the descriptions of the values the variable can take (corresponding to the index)\n",
      "- `parents`: a JSON list of the names of the parents of the variable (make sure they match the corresponding `name` field of the parent nodes, and remember, there should not be more than three parents for any node)\n",
      "\n",
      "Aside from some brief brainstorming, answer concisely and precisely with a JSON list in the desired format.\n",
      "\n",
      "Take a deep breath and think step-by-step how you are going to do this.\n"
     ]
    }
   ],
   "source": [
    "# if 'prompt_graph' in ctx:\n",
    "#     del ctx['prompt_graph']\n",
    "# print(FileTemplate('graph').fill_in(ctx))\n",
    "print(ctx['prompt_graph'])"
   ],
   "metadata": {
    "collapsed": false,
    "ExecuteTime": {
     "end_time": "2023-11-29T16:48:06.359535982Z",
     "start_time": "2023-11-29T16:48:06.312635604Z"
    }
   },
   "id": "3dba22960a9e0ca4"
  },
  {
   "cell_type": "code",
   "execution_count": 49,
   "outputs": [],
   "source": [
    "# nodes = ctx['nodes']\n",
    "#################################################\n",
    "nodes_raw = '''\n",
    "\n",
    "\n",
    "[\n",
    "  {\n",
    "    \"name\": \"Job Loss in Auto Industry\",\n",
    "    \"description\": \"Reduction in the number of jobs in the auto industry\",\n",
    "    \"type\": \"outcome\",\n",
    "    \"observed\": true,\n",
    "    \"values\": [\"No job loss\", \"Job loss\"],\n",
    "    \"parents\": [\"Company Financial Stability\", \"Public Demand for Cars\", \"COVID-19 Pandemic Impact\"]\n",
    "  },\n",
    "  {\n",
    "    \"name\": \"COVID-19 Pandemic Impact\",\n",
    "    \"description\": \"Impact of the COVID-19 pandemic on the economy\",\n",
    "    \"type\": \"treatment\",\n",
    "    \"observed\": true,\n",
    "    \"values\": [\"No impact\", \"Impact\"],\n",
    "    \"parents\": [\"Global Economic Health\"]\n",
    "  },\n",
    "  {\n",
    "    \"name\": \"Government Economic Policy\",\n",
    "    \"description\": \"Government policies affecting the economy during the pandemic\",\n",
    "    \"type\": \"treatment\",\n",
    "    \"observed\": true,\n",
    "    \"values\": [\"No policy change\", \"Policy change\"],\n",
    "    \"parents\": [\"Global Economic Health\"]\n",
    "  },\n",
    "  {\n",
    "    \"name\": \"Global Economic Health\",\n",
    "    \"description\": \"Overall health of the global economy\",\n",
    "    \"type\": \"confounder\",\n",
    "    \"observed\": true,\n",
    "    \"values\": [\"Poor economic health\", \"Good economic health\"],\n",
    "    \"parents\": []\n",
    "  },\n",
    "  {\n",
    "    \"name\": \"Auto Industry Health\",\n",
    "    \"description\": \"Financial health and stability of the auto industry\",\n",
    "    \"type\": \"confounder\",\n",
    "    \"observed\": true,\n",
    "    \"values\": [\"Unstable\", \"Stable\"],\n",
    "    \"parents\": []\n",
    "  },\n",
    "  {\n",
    "    \"name\": \"Company Financial Stability\",\n",
    "    \"description\": \"Financial stability of individual companies in the auto industry\",\n",
    "    \"type\": \"mediator\",\n",
    "    \"observed\": true,\n",
    "    \"values\": [\"Unstable\", \"Stable\"],\n",
    "    \"parents\": [\"COVID-19 Pandemic Impact\", \"Government Economic Policy\", \"Auto Industry Health\"]\n",
    "  },\n",
    "  {\n",
    "    \"name\": \"Public Demand for Cars\",\n",
    "    \"description\": \"Consumer demand for automobiles\",\n",
    "    \"type\": \"mediator\",\n",
    "    \"observed\": true,\n",
    "    \"values\": [\"Low demand\", \"High demand\"],\n",
    "    \"parents\": [\"Auto Industry Health\"]\n",
    "  },\n",
    "  {\n",
    "    \"name\": \"Media Coverage of Job Losses\",\n",
    "    \"description\": \"Extent of media coverage on job losses in the auto industry\",\n",
    "    \"type\": \"collider\",\n",
    "    \"observed\": true,\n",
    "    \"values\": [\"Limited coverage\", \"Extensive coverage\"],\n",
    "    \"parents\": [\"COVID-19 Pandemic Impact\", \"Job Loss in Auto Industry\"]\n",
    "  }\n",
    "]\n",
    "\n",
    "\n",
    "\n",
    "'''\n",
    "#################################################\n",
    "if len(nodes_raw):\n",
    "    nodes = json.loads(nodes_raw)\n",
    "varparents = {node['name']: node['parents'] for node in nodes}\n",
    "varorder = toposort(varparents)\n",
    "nodes = sorted(nodes, key=lambda x: varorder.index(x['name']))\n",
    "nodes = [node for node in nodes if len(node['parents']) or any(node['name'] in parent for parent in varparents.values())]\n",
    "ctx['nodes'] = nodes"
   ],
   "metadata": {
    "collapsed": false,
    "ExecuteTime": {
     "end_time": "2023-11-29T16:50:52.769529282Z",
     "start_time": "2023-11-29T16:50:52.697369785Z"
    }
   },
   "id": "f3fcf031d24d5d48"
  },
  {
   "cell_type": "code",
   "execution_count": 50,
   "outputs": [
    {
     "ename": "ValueError",
     "evalue": "Could not save to JPEG for display",
     "output_type": "error",
     "traceback": [
      "\u001B[0;31m---------------------------------------------------------------------------\u001B[0m",
      "\u001B[0;31mKeyError\u001B[0m                                  Traceback (most recent call last)",
      "File \u001B[0;32m~/miniconda3/lib/python3.11/site-packages/PIL/JpegImagePlugin.py:639\u001B[0m, in \u001B[0;36m_save\u001B[0;34m(im, fp, filename)\u001B[0m\n\u001B[1;32m    638\u001B[0m \u001B[38;5;28;01mtry\u001B[39;00m:\n\u001B[0;32m--> 639\u001B[0m     rawmode \u001B[38;5;241m=\u001B[39m \u001B[43mRAWMODE\u001B[49m\u001B[43m[\u001B[49m\u001B[43mim\u001B[49m\u001B[38;5;241;43m.\u001B[39;49m\u001B[43mmode\u001B[49m\u001B[43m]\u001B[49m\n\u001B[1;32m    640\u001B[0m \u001B[38;5;28;01mexcept\u001B[39;00m \u001B[38;5;167;01mKeyError\u001B[39;00m \u001B[38;5;28;01mas\u001B[39;00m e:\n",
      "\u001B[0;31mKeyError\u001B[0m: 'RGBA'",
      "\nThe above exception was the direct cause of the following exception:\n",
      "\u001B[0;31mOSError\u001B[0m                                   Traceback (most recent call last)",
      "File \u001B[0;32m~/miniconda3/lib/python3.11/site-packages/PIL/Image.py:643\u001B[0m, in \u001B[0;36mImage._repr_image\u001B[0;34m(self, image_format, **kwargs)\u001B[0m\n\u001B[1;32m    642\u001B[0m \u001B[38;5;28;01mtry\u001B[39;00m:\n\u001B[0;32m--> 643\u001B[0m     \u001B[38;5;28;43mself\u001B[39;49m\u001B[38;5;241;43m.\u001B[39;49m\u001B[43msave\u001B[49m\u001B[43m(\u001B[49m\u001B[43mb\u001B[49m\u001B[43m,\u001B[49m\u001B[43m \u001B[49m\u001B[43mimage_format\u001B[49m\u001B[43m,\u001B[49m\u001B[43m \u001B[49m\u001B[38;5;241;43m*\u001B[39;49m\u001B[38;5;241;43m*\u001B[39;49m\u001B[43mkwargs\u001B[49m\u001B[43m)\u001B[49m\n\u001B[1;32m    644\u001B[0m \u001B[38;5;28;01mexcept\u001B[39;00m \u001B[38;5;167;01mException\u001B[39;00m \u001B[38;5;28;01mas\u001B[39;00m e:\n",
      "File \u001B[0;32m~/miniconda3/lib/python3.11/site-packages/PIL/Image.py:2413\u001B[0m, in \u001B[0;36mImage.save\u001B[0;34m(self, fp, format, **params)\u001B[0m\n\u001B[1;32m   2412\u001B[0m \u001B[38;5;28;01mtry\u001B[39;00m:\n\u001B[0;32m-> 2413\u001B[0m     \u001B[43msave_handler\u001B[49m\u001B[43m(\u001B[49m\u001B[38;5;28;43mself\u001B[39;49m\u001B[43m,\u001B[49m\u001B[43m \u001B[49m\u001B[43mfp\u001B[49m\u001B[43m,\u001B[49m\u001B[43m \u001B[49m\u001B[43mfilename\u001B[49m\u001B[43m)\u001B[49m\n\u001B[1;32m   2414\u001B[0m \u001B[38;5;28;01mexcept\u001B[39;00m \u001B[38;5;167;01mException\u001B[39;00m:\n",
      "File \u001B[0;32m~/miniconda3/lib/python3.11/site-packages/PIL/JpegImagePlugin.py:642\u001B[0m, in \u001B[0;36m_save\u001B[0;34m(im, fp, filename)\u001B[0m\n\u001B[1;32m    641\u001B[0m     msg \u001B[38;5;241m=\u001B[39m \u001B[38;5;124mf\u001B[39m\u001B[38;5;124m\"\u001B[39m\u001B[38;5;124mcannot write mode \u001B[39m\u001B[38;5;132;01m{\u001B[39;00mim\u001B[38;5;241m.\u001B[39mmode\u001B[38;5;132;01m}\u001B[39;00m\u001B[38;5;124m as JPEG\u001B[39m\u001B[38;5;124m\"\u001B[39m\n\u001B[0;32m--> 642\u001B[0m     \u001B[38;5;28;01mraise\u001B[39;00m \u001B[38;5;167;01mOSError\u001B[39;00m(msg) \u001B[38;5;28;01mfrom\u001B[39;00m \u001B[38;5;21;01me\u001B[39;00m\n\u001B[1;32m    644\u001B[0m info \u001B[38;5;241m=\u001B[39m im\u001B[38;5;241m.\u001B[39mencoderinfo\n",
      "\u001B[0;31mOSError\u001B[0m: cannot write mode RGBA as JPEG",
      "\nThe above exception was the direct cause of the following exception:\n",
      "\u001B[0;31mValueError\u001B[0m                                Traceback (most recent call last)",
      "File \u001B[0;32m~/miniconda3/lib/python3.11/site-packages/IPython/core/formatters.py:344\u001B[0m, in \u001B[0;36mBaseFormatter.__call__\u001B[0;34m(self, obj)\u001B[0m\n\u001B[1;32m    342\u001B[0m     method \u001B[38;5;241m=\u001B[39m get_real_method(obj, \u001B[38;5;28mself\u001B[39m\u001B[38;5;241m.\u001B[39mprint_method)\n\u001B[1;32m    343\u001B[0m     \u001B[38;5;28;01mif\u001B[39;00m method \u001B[38;5;129;01mis\u001B[39;00m \u001B[38;5;129;01mnot\u001B[39;00m \u001B[38;5;28;01mNone\u001B[39;00m:\n\u001B[0;32m--> 344\u001B[0m         \u001B[38;5;28;01mreturn\u001B[39;00m \u001B[43mmethod\u001B[49m\u001B[43m(\u001B[49m\u001B[43m)\u001B[49m\n\u001B[1;32m    345\u001B[0m     \u001B[38;5;28;01mreturn\u001B[39;00m \u001B[38;5;28;01mNone\u001B[39;00m\n\u001B[1;32m    346\u001B[0m \u001B[38;5;28;01melse\u001B[39;00m:\n",
      "File \u001B[0;32m~/miniconda3/lib/python3.11/site-packages/PIL/Image.py:661\u001B[0m, in \u001B[0;36mImage._repr_jpeg_\u001B[0;34m(self)\u001B[0m\n\u001B[1;32m    656\u001B[0m \u001B[38;5;28;01mdef\u001B[39;00m \u001B[38;5;21m_repr_jpeg_\u001B[39m(\u001B[38;5;28mself\u001B[39m):\n\u001B[1;32m    657\u001B[0m \u001B[38;5;250m    \u001B[39m\u001B[38;5;124;03m\"\"\"iPython display hook support for JPEG format.\u001B[39;00m\n\u001B[1;32m    658\u001B[0m \n\u001B[1;32m    659\u001B[0m \u001B[38;5;124;03m    :returns: JPEG version of the image as bytes\u001B[39;00m\n\u001B[1;32m    660\u001B[0m \u001B[38;5;124;03m    \"\"\"\u001B[39;00m\n\u001B[0;32m--> 661\u001B[0m     \u001B[38;5;28;01mreturn\u001B[39;00m \u001B[38;5;28;43mself\u001B[39;49m\u001B[38;5;241;43m.\u001B[39;49m\u001B[43m_repr_image\u001B[49m\u001B[43m(\u001B[49m\u001B[38;5;124;43m\"\u001B[39;49m\u001B[38;5;124;43mJPEG\u001B[39;49m\u001B[38;5;124;43m\"\u001B[39;49m\u001B[43m)\u001B[49m\n",
      "File \u001B[0;32m~/miniconda3/lib/python3.11/site-packages/PIL/Image.py:646\u001B[0m, in \u001B[0;36mImage._repr_image\u001B[0;34m(self, image_format, **kwargs)\u001B[0m\n\u001B[1;32m    644\u001B[0m \u001B[38;5;28;01mexcept\u001B[39;00m \u001B[38;5;167;01mException\u001B[39;00m \u001B[38;5;28;01mas\u001B[39;00m e:\n\u001B[1;32m    645\u001B[0m     msg \u001B[38;5;241m=\u001B[39m \u001B[38;5;124mf\u001B[39m\u001B[38;5;124m\"\u001B[39m\u001B[38;5;124mCould not save to \u001B[39m\u001B[38;5;132;01m{\u001B[39;00mimage_format\u001B[38;5;132;01m}\u001B[39;00m\u001B[38;5;124m for display\u001B[39m\u001B[38;5;124m\"\u001B[39m\n\u001B[0;32m--> 646\u001B[0m     \u001B[38;5;28;01mraise\u001B[39;00m \u001B[38;5;167;01mValueError\u001B[39;00m(msg) \u001B[38;5;28;01mfrom\u001B[39;00m \u001B[38;5;21;01me\u001B[39;00m\n\u001B[1;32m    647\u001B[0m \u001B[38;5;28;01mreturn\u001B[39;00m b\u001B[38;5;241m.\u001B[39mgetvalue()\n",
      "\u001B[0;31mValueError\u001B[0m: Could not save to JPEG for display"
     ]
    },
    {
     "data": {
      "text/plain": "<PIL.PngImagePlugin.PngImageFile image mode=RGBA size=1231x443>",
      "image/png": "[encoded data removed]"
     },
     "execution_count": 50,
     "metadata": {},
     "output_type": "execute_result"
    }
   ],
   "source": [
    "dot = Digraph(comment='Causal Model')\n",
    "node_styles = {\n",
    "    \"treatment\": {\"shape\": \"ellipse\", \"style\": \"filled\", \"color\": \"lightpink\"},\n",
    "    \"outcome\": {\"shape\": \"ellipse\", \"style\": \"filled\", \"color\": \"lightgreen\"},\n",
    "    \"confounder\": {\"shape\": \"diamond\", \"style\": \"filled\", \"color\": \"lightblue\"},\n",
    "    \"mediator\": {\"shape\": \"box\", \"style\": \"filled\", \"color\": \"lightyellow\"},\n",
    "    \"collider\": {\"shape\": \"box\", \"style\": \"filled\", \"color\": \"lightgray\"}\n",
    "}\n",
    "for node in ctx['nodes']:\n",
    "    style = node_styles.get(node[\"type\"], {\"shape\": \"ellipse\"})\n",
    "    dot.node(node[\"name\"], node[\"name\"], **style)\n",
    "for node in ctx['nodes']:\n",
    "    for parent in node[\"parents\"]:\n",
    "        dot.edge(parent, node[\"name\"])\n",
    "# dot.view()\n",
    "dot.render(str(misc.temp_root() / 'graph'), format='png')\n",
    "Image.open(misc.temp_root() / 'graph.png')"
   ],
   "metadata": {
    "collapsed": false,
    "ExecuteTime": {
     "end_time": "2023-11-29T16:50:53.676486830Z",
     "start_time": "2023-11-29T16:50:53.558095106Z"
    }
   },
   "id": "9f8b963c0ac35fa8"
  },
  {
   "cell_type": "code",
   "execution_count": 52,
   "outputs": [
    {
     "name": "stdout",
     "output_type": "stream",
     "text": [
      "\n",
      "We have a causal bayes net model for an analysis about this topic:\n",
      "\n",
      "This analysis explores the ripple effects of the COVID-19 pandemic on the auto industry's job market, inspired by Deutz's recent job cuts. By comparing employment data from before and during the pandemic, specifically focusing on auto manufacturers in Germany, we can uncover trends and assess the broader impact on jobs. Our look into various companies' workforce sizes, hiring and layoff rates will reveal the pandemic's real impact on this sector.\n",
      "\n",
      "Write a list of 4-8 concise and well-worded sentences that describe the structure and associated assumptions of the causal graph. The sentences should be ordered from describing the most noteworthy/surprising features of the graph to the most natural/intuitive features. Use an intuitive conversational style to describe the causal graph, and avoid using technical terms or jargon, but you can describe the variables and their relationships (including using terms like \"affects\", \"confounder\"/\"confounding\", \"mediator\"/\"mediates\") as long as you use them in a way that is understandable to a layperson. Refrain from mentioning words like \"causal inference\", \"model\", or \"variable\". Also, try to make the sentences flow together well, and avoid repeating yourself while still being thorough. Make sure not to mention the names or types of the variables in the graph, only what they represent to make the overview more natural. For each of the sentences, include a list of the variables in the causal model that are mentioned explicitly in the sentence (ordered in terms of importance).\n",
      "\n",
      "The meanings and parents of all the variables (all of which are binary) in the statistical model are:\n",
      "\n",
      "```\n",
      "[{'name': 'Global Economic Health', 'description': 'Overall health of the global economy', 'type': 'confounder', 'observed': True, 'values': ['Poor economic health', 'Good economic health'], 'parents': []}, {'name': 'COVID-19 Pandemic Impact', 'description': 'Impact of the COVID-19 pandemic on the economy', 'type': 'treatment', 'observed': True, 'values': ['No impact', 'Impact'], 'parents': ['Global Economic Health']}, {'name': 'Government Economic Policy', 'description': 'Government policies affecting the economy during the pandemic', 'type': 'treatment', 'observed': True, 'values': ['No policy change', 'Policy change'], 'parents': ['Global Economic Health']}, {'name': 'Auto Industry Health', 'description': 'Financial health and stability of the auto industry', 'type': 'confounder', 'observed': True, 'values': ['Unstable', 'Stable'], 'parents': []}, {'name': 'Company Financial Stability', 'description': 'Financial stability of individual companies in the auto industry', 'type': 'mediator', 'observed': True, 'values': ['Unstable', 'Stable'], 'parents': ['COVID-19 Pandemic Impact', 'Government Economic Policy', 'Auto Industry Health']}, {'name': 'Public Demand for Cars', 'description': 'Consumer demand for automobiles', 'type': 'mediator', 'observed': True, 'values': ['Low demand', 'High demand'], 'parents': ['Auto Industry Health']}, {'name': 'Job Loss in Auto Industry', 'description': 'Reduction in the number of jobs in the auto industry', 'type': 'outcome', 'observed': True, 'values': ['No job loss', 'Job loss'], 'parents': ['Company Financial Stability', 'Public Demand for Cars', 'COVID-19 Pandemic Impact']}, {'name': 'Media Coverage of Job Losses', 'description': 'Extent of media coverage on job losses in the auto industry', 'type': 'collider', 'observed': True, 'values': ['Limited coverage', 'Extensive coverage'], 'parents': ['COVID-19 Pandemic Impact', 'Job Loss in Auto Industry']}]\n",
      "```\n",
      "\n",
      "Take a deep breath and think step-by-step how you are going to do this. Once you are ready, be sure to complete your answer in the form of a JSON list of sentences in the format:\n",
      "\n",
      "```json\n",
      "[\n",
      "\t{\"sentence\": \"[some sentence about assumptions/structure]\", \"involved\": [\"variable 1\", \"variable 2\", ...]},\n",
      "\t...\n",
      "]\n",
      "```\n"
     ]
    }
   ],
   "source": [
    "# if 'prompt_story' in ctx:\n",
    "#     del ctx['prompt_motivation']\n",
    "print(FileTemplate('structure').fill_in(ctx))\n",
    "# print(ctx['prompt_structure'])"
   ],
   "metadata": {
    "collapsed": false,
    "ExecuteTime": {
     "end_time": "2023-11-29T16:56:45.005095385Z",
     "start_time": "2023-11-29T16:56:44.936455953Z"
    }
   },
   "id": "b01d6f5a6f6c70ea"
  },
  {
   "cell_type": "code",
   "execution_count": 53,
   "outputs": [],
   "source": [
    "#################################################\n",
    "\n",
    "structure_raw = '''\n",
    "[\n",
    "    {\"sentence\": \"The overall health of the global economy plays a pivotal role, influencing not only the pandemic's economic impact but also shaping government policies during these challenging times.\", \"involved\": [\"Global Economic Health\", \"COVID-19 Pandemic Impact\", \"Government Economic Policy\"]},\n",
    "    {\"sentence\": \"Interestingly, the financial health and stability of the auto industry, a critical sector, is affected by broader economic factors and in turn, influences consumer demand for cars.\", \"involved\": [\"Auto Industry Health\", \"Public Demand for Cars\"]},\n",
    "    {\"sentence\": \"The pandemic's impact and government responses directly sway the financial stability of auto companies, which is a key factor leading to job reductions in the industry.\", \"involved\": [\"COVID-19 Pandemic Impact\", \"Government Economic Policy\", \"Company Financial Stability\", \"Job Loss in Auto Industry\"]},\n",
    "    {\"sentence\": \"Consumer demand for automobiles, tied closely to the industry's health, also plays a significant role in determining job stability within these companies.\", \"involved\": [\"Public Demand for Cars\", \"Job Loss in Auto Industry\"]},\n",
    "    {\"sentence\": \"Job losses in the auto industry, a consequence of multiple economic factors, surprisingly become a focal point of media attention, alongside the direct effects of the pandemic.\", \"involved\": [\"Job Loss in Auto Industry\", \"Media Coverage of Job Losses\", \"COVID-19 Pandemic Impact\"]},\n",
    "    {\"sentence\": \"This analysis paints a comprehensive picture, linking the ripple effects of a global pandemic to individual job security and public perception, as reflected in media coverage.\", \"involved\": [\"COVID-19 Pandemic Impact\", \"Job Loss in Auto Industry\", \"Media Coverage of Job Losses\"]}\n",
    "]\n",
    "\n",
    "\n",
    "'''\n",
    "\n",
    "#################################################\n",
    "ctx['structure'] = json.loads(structure_raw)"
   ],
   "metadata": {
    "collapsed": false,
    "ExecuteTime": {
     "end_time": "2023-11-29T16:57:33.447988061Z",
     "start_time": "2023-11-29T16:57:33.384712580Z"
    }
   },
   "id": "9e6543cef8511170"
  },
  {
   "cell_type": "code",
   "execution_count": 54,
   "outputs": [
    {
     "name": "stdout",
     "output_type": "stream",
     "text": [
      "We have a causal bayes net based on the following topic:\n",
      "\n",
      "This analysis explores the ripple effects of the COVID-19 pandemic on the auto industry's job market, inspired by Deutz's recent job cuts. By comparing employment data from before and during the pandemic, specifically focusing on auto manufacturers in Germany, we can uncover trends and assess the broader impact on jobs. Our look into various companies' workforce sizes, hiring and layoff rates will reveal the pandemic's real impact on this sector.\n",
      "\n",
      "Now we would like to estimate the probabilities of certain events in a corresponding causal bayes net.\n",
      "\n",
      "Using commonsense, estimate the probabilities of the following events:\n",
      "\n",
      "1. what is the probability that \"Global Economic Health\" is \"Good economic health\" (rather than \"Poor economic health\")?\n",
      "2. when \"Global Economic Health\" is \"Poor economic health\": what is the probability that \"COVID-19 Pandemic Impact\" is \"Impact\" (rather than \"No impact\")?\n",
      "3. when \"Global Economic Health\" is \"Good economic health\": what is the probability that \"COVID-19 Pandemic Impact\" is \"Impact\" (rather than \"No impact\")?\n",
      "4. when \"Global Economic Health\" is \"Poor economic health\": what is the probability that \"Government Economic Policy\" is \"Policy change\" (rather than \"No policy change\")?\n",
      "5. when \"Global Economic Health\" is \"Good economic health\": what is the probability that \"Government Economic Policy\" is \"Policy change\" (rather than \"No policy change\")?\n",
      "6. what is the probability that \"Auto Industry Health\" is \"Stable\" (rather than \"Unstable\")?\n",
      "7. when \"COVID-19 Pandemic Impact\" is \"No impact\" and \"Government Economic Policy\" is \"No policy change\" and \"Auto Industry Health\" is \"Unstable\": what is the probability that \"Company Financial Stability\" is \"Stable\" (rather than \"Unstable\")?\n",
      "8. when \"COVID-19 Pandemic Impact\" is \"No impact\" and \"Government Economic Policy\" is \"No policy change\" and \"Auto Industry Health\" is \"Stable\": what is the probability that \"Company Financial Stability\" is \"Stable\" (rather than \"Unstable\")?\n",
      "9. when \"COVID-19 Pandemic Impact\" is \"No impact\" and \"Government Economic Policy\" is \"Policy change\" and \"Auto Industry Health\" is \"Unstable\": what is the probability that \"Company Financial Stability\" is \"Stable\" (rather than \"Unstable\")?\n",
      "10. when \"COVID-19 Pandemic Impact\" is \"No impact\" and \"Government Economic Policy\" is \"Policy change\" and \"Auto Industry Health\" is \"Stable\": what is the probability that \"Company Financial Stability\" is \"Stable\" (rather than \"Unstable\")?\n",
      "11. when \"COVID-19 Pandemic Impact\" is \"Impact\" and \"Government Economic Policy\" is \"No policy change\" and \"Auto Industry Health\" is \"Unstable\": what is the probability that \"Company Financial Stability\" is \"Stable\" (rather than \"Unstable\")?\n",
      "12. when \"COVID-19 Pandemic Impact\" is \"Impact\" and \"Government Economic Policy\" is \"No policy change\" and \"Auto Industry Health\" is \"Stable\": what is the probability that \"Company Financial Stability\" is \"Stable\" (rather than \"Unstable\")?\n",
      "13. when \"COVID-19 Pandemic Impact\" is \"Impact\" and \"Government Economic Policy\" is \"Policy change\" and \"Auto Industry Health\" is \"Unstable\": what is the probability that \"Company Financial Stability\" is \"Stable\" (rather than \"Unstable\")?\n",
      "14. when \"COVID-19 Pandemic Impact\" is \"Impact\" and \"Government Economic Policy\" is \"Policy change\" and \"Auto Industry Health\" is \"Stable\": what is the probability that \"Company Financial Stability\" is \"Stable\" (rather than \"Unstable\")?\n",
      "15. when \"Auto Industry Health\" is \"Unstable\": what is the probability that \"Public Demand for Cars\" is \"High demand\" (rather than \"Low demand\")?\n",
      "16. when \"Auto Industry Health\" is \"Stable\": what is the probability that \"Public Demand for Cars\" is \"High demand\" (rather than \"Low demand\")?\n",
      "17. when \"Company Financial Stability\" is \"Unstable\" and \"Public Demand for Cars\" is \"Low demand\" and \"COVID-19 Pandemic Impact\" is \"No impact\": what is the probability that \"Job Loss in Auto Industry\" is \"Job loss\" (rather than \"No job loss\")?\n",
      "18. when \"Company Financial Stability\" is \"Unstable\" and \"Public Demand for Cars\" is \"Low demand\" and \"COVID-19 Pandemic Impact\" is \"Impact\": what is the probability that \"Job Loss in Auto Industry\" is \"Job loss\" (rather than \"No job loss\")?\n",
      "19. when \"Company Financial Stability\" is \"Unstable\" and \"Public Demand for Cars\" is \"High demand\" and \"COVID-19 Pandemic Impact\" is \"No impact\": what is the probability that \"Job Loss in Auto Industry\" is \"Job loss\" (rather than \"No job loss\")?\n",
      "20. when \"Company Financial Stability\" is \"Unstable\" and \"Public Demand for Cars\" is \"High demand\" and \"COVID-19 Pandemic Impact\" is \"Impact\": what is the probability that \"Job Loss in Auto Industry\" is \"Job loss\" (rather than \"No job loss\")?\n",
      "21. when \"Company Financial Stability\" is \"Stable\" and \"Public Demand for Cars\" is \"Low demand\" and \"COVID-19 Pandemic Impact\" is \"No impact\": what is the probability that \"Job Loss in Auto Industry\" is \"Job loss\" (rather than \"No job loss\")?\n",
      "22. when \"Company Financial Stability\" is \"Stable\" and \"Public Demand for Cars\" is \"Low demand\" and \"COVID-19 Pandemic Impact\" is \"Impact\": what is the probability that \"Job Loss in Auto Industry\" is \"Job loss\" (rather than \"No job loss\")?\n",
      "23. when \"Company Financial Stability\" is \"Stable\" and \"Public Demand for Cars\" is \"High demand\" and \"COVID-19 Pandemic Impact\" is \"No impact\": what is the probability that \"Job Loss in Auto Industry\" is \"Job loss\" (rather than \"No job loss\")?\n",
      "24. when \"Company Financial Stability\" is \"Stable\" and \"Public Demand for Cars\" is \"High demand\" and \"COVID-19 Pandemic Impact\" is \"Impact\": what is the probability that \"Job Loss in Auto Industry\" is \"Job loss\" (rather than \"No job loss\")?\n",
      "25. when \"COVID-19 Pandemic Impact\" is \"No impact\" and \"Job Loss in Auto Industry\" is \"No job loss\": what is the probability that \"Media Coverage of Job Losses\" is \"Extensive coverage\" (rather than \"Limited coverage\")?\n",
      "26. when \"COVID-19 Pandemic Impact\" is \"No impact\" and \"Job Loss in Auto Industry\" is \"Job loss\": what is the probability that \"Media Coverage of Job Losses\" is \"Extensive coverage\" (rather than \"Limited coverage\")?\n",
      "27. when \"COVID-19 Pandemic Impact\" is \"Impact\" and \"Job Loss in Auto Industry\" is \"No job loss\": what is the probability that \"Media Coverage of Job Losses\" is \"Extensive coverage\" (rather than \"Limited coverage\")?\n",
      "28. when \"COVID-19 Pandemic Impact\" is \"Impact\" and \"Job Loss in Auto Industry\" is \"Job loss\": what is the probability that \"Media Coverage of Job Losses\" is \"Extensive coverage\" (rather than \"Limited coverage\")?\n",
      "\n",
      "Where the variables are defined as:\n",
      "\"Global Economic Health\" means \"Overall health of the global economy\"\n",
      "\"COVID-19 Pandemic Impact\" means \"Impact of the COVID-19 pandemic on the economy\"\n",
      "\"Government Economic Policy\" means \"Government policies affecting the economy during the pandemic\"\n",
      "\"Auto Industry Health\" means \"Financial health and stability of the auto industry\"\n",
      "\"Company Financial Stability\" means \"Financial stability of individual companies in the auto industry\"\n",
      "\"Public Demand for Cars\" means \"Consumer demand for automobiles\"\n",
      "\"Job Loss in Auto Industry\" means \"Reduction in the number of jobs in the auto industry\"\n",
      "\"Media Coverage of Job Losses\" means \"Extent of media coverage on job losses in the auto industry\"\n",
      "\n",
      "For each question above, answer with the lower and upper bound estimates of the probabilities as a JSON object where the key corresponds to the question index in exactly the following format:\n",
      "\n",
      "```json\n",
      "{\n",
      "  \"1\": [0.3, 0.4],\n",
      "  ...\n",
      "}\n",
      "```\n",
      "\n",
      "Answer concisely and precisely in the desired format. Do not add any additional comments or discussion.\n"
     ]
    }
   ],
   "source": [
    "# if 'prompt_stats' in ctx:\n",
    "#     del ctx['descriptions']\n",
    "#     del ctx['prob_questions']\n",
    "#     del ctx['prompt_stats']\n",
    "# print(FileTemplate('stats').fill_in(ctx))\n",
    "print(ctx['prompt_stats'])"
   ],
   "metadata": {
    "collapsed": false,
    "ExecuteTime": {
     "end_time": "2023-11-29T16:57:35.427855244Z",
     "start_time": "2023-11-29T16:57:35.387082870Z"
    }
   },
   "id": "feaee31660914e5"
  },
  {
   "cell_type": "code",
   "execution_count": 55,
   "outputs": [],
   "source": [
    "# probabilities = ctx['stats']\n",
    "#################################################\n",
    "\n",
    "probabilities_raw = '''\n",
    "\n",
    "{\n",
    "  \"1\": [0.4, 0.6],\n",
    "  \"2\": [0.7, 0.9],\n",
    "  \"3\": [0.5, 0.7],\n",
    "  \"4\": [0.6, 0.8],\n",
    "  \"5\": [0.3, 0.5],\n",
    "  \"6\": [0.5, 0.7],\n",
    "  \"7\": [0.2, 0.4],\n",
    "  \"8\": [0.6, 0.8],\n",
    "  \"9\": [0.3, 0.5],\n",
    "  \"10\": [0.7, 0.9],\n",
    "  \"11\": [0.1, 0.3],\n",
    "  \"12\": [0.4, 0.6],\n",
    "  \"13\": [0.2, 0.4],\n",
    "  \"14\": [0.5, 0.7],\n",
    "  \"15\": [0.2, 0.4],\n",
    "  \"16\": [0.6, 0.8],\n",
    "  \"17\": [0.7, 0.9],\n",
    "  \"18\": [0.8, 0.95],\n",
    "  \"19\": [0.5, 0.7],\n",
    "  \"20\": [0.6, 0.8],\n",
    "  \"21\": [0.3, 0.5],\n",
    "  \"22\": [0.4, 0.6],\n",
    "  \"23\": [0.2, 0.4],\n",
    "  \"24\": [0.3, 0.5],\n",
    "  \"25\": [0.2, 0.4],\n",
    "  \"26\": [0.4, 0.6],\n",
    "  \"27\": [0.6, 0.8],\n",
    "  \"28\": [0.7, 0.9]\n",
    "}\n",
    "\n",
    "\n",
    "\n",
    "\n",
    "\n",
    "'''\n",
    "\n",
    "#################################################\n",
    "ctx['stats'] = json.loads(probabilities_raw)"
   ],
   "metadata": {
    "collapsed": false,
    "ExecuteTime": {
     "end_time": "2023-11-29T16:58:37.387371610Z",
     "start_time": "2023-11-29T16:58:37.288179354Z"
    }
   },
   "id": "43b3c05608ca33be"
  },
  {
   "cell_type": "code",
   "execution_count": 56,
   "outputs": [
    {
     "name": "stdout",
     "output_type": "stream",
     "text": [
      "--------------------------  ----------------  -------------  -------------------------------------------------------------\n",
      "COVID-19 Pandemic Impact    No impact         Impact         Impact of the COVID-19 pandemic on the economy\n",
      "Government Economic Policy  No policy change  Policy change  Government policies affecting the economy during the pandemic\n",
      "Job Loss in Auto Industry   No job loss       Job loss       Reduction in the number of jobs in the auto industry\n",
      "--------------------------  ----------------  -------------  -------------------------------------------------------------\n"
     ]
    },
    {
     "data": {
      "text/plain": "  0%|          | 0/50 [00:00<?, ?it/s]",
      "application/vnd.jupyter.widget-view+json": {
       "version_major": 2,
       "version_minor": 0,
       "model_id": "b64fe8234850417ebd271ab7d4c7d556"
      }
     },
     "metadata": {},
     "output_type": "display_data"
    },
    {
     "name": "stderr",
     "output_type": "stream",
     "text": [
      "/home/fleeb/miniconda3/lib/python3.11/site-packages/torch/masked/maskedtensor/core.py:156: UserWarning: The PyTorch API of MaskedTensors is in prototype stage and will change in the near future. Please open a Github issue for features requests and see our documentation on the torch.masked module for further information about the project.\n",
      "  warnings.warn((\"The PyTorch API of MaskedTensors is in prototype stage \"\n"
     ]
    },
    {
     "name": "stdout",
     "output_type": "stream",
     "text": [
      "'Global Economic Health' means Overall health of the global economy\n",
      "'COVID-19 Pandemic Impact' means Impact of the COVID-19 pandemic on the economy\n",
      "'Government Economic Policy' means Government policies affecting the economy during the pandemic\n",
      "'Auto Industry Health' means Financial health and stability of the auto industry\n",
      "'Company Financial Stability' means Financial stability of individual companies in the auto industry\n",
      "'Public Demand for Cars' means Consumer demand for automobiles\n",
      "'Job Loss in Auto Industry' means Reduction in the number of jobs in the auto industry\n",
      "'Media Coverage of Job Losses' means Extent of media coverage on job losses in the auto industry\n",
      "Treatment Value    Treatment                   Outcome Value    Outcome                           ATE    Correlation\n",
      "-----------------  --------------------------  ---------------  -------------------------  ----------  -------------\n",
      "Impact             COVID-19 Pandemic Impact    Job loss         Job Loss in Auto Industry   0.150018      0.0243842\n",
      "Policy change      Government Economic Policy  Job loss         Job Loss in Auto Industry  -0.0338817    -0.00556986\n"
     ]
    }
   ],
   "source": [
    "raw_prob_samples = []\n",
    "def to_prob_range(raw):\n",
    "    raw = [prange for _, prange in sorted(raw.items(), key=lambda item: int(item[0]))]\n",
    "    return torch.tensor(raw)\n",
    "\n",
    "prob_ranges = to_prob_range(ctx['stats'])\n",
    "lower_bound, upper_bound = prob_ranges.t()\n",
    "\n",
    "variables = {}\n",
    "for node in ctx['nodes']:\n",
    "    if len(node['parents']):\n",
    "        variables[node['name']] = ConditionalBernoulli([variables[parent] for parent in node['parents']])\n",
    "    else:\n",
    "        variables[node['name']] = Bernoulli(0.5)\n",
    "net = BernoulliNetwork(variables)\n",
    "def mc_samples(N, *fns):\n",
    "    estimates = []\n",
    "    for _ in tqdm(range(N)):\n",
    "        param_sample = torch.rand(len(prob_ranges), 1) * (upper_bound - lower_bound) + lower_bound\n",
    "        net.set_params(param_sample)\n",
    "        estimates.append([fn() for fn in fns])\n",
    "    return torch.tensor(estimates)\n",
    "def make_ate_fn(treatment, outcome, conditions=None):\n",
    "    def ate_fn():\n",
    "        return net.ate(treatment, conditions=conditions)[outcome].item()\n",
    "    return ate_fn\n",
    "def make_corr_fn(v1, v2):\n",
    "    def corr_fn():\n",
    "        return net.correlation(v1, v2).item()\n",
    "    return corr_fn\n",
    "treatment1, treatment2 = [n for n in ctx['treatments']]\n",
    "# t1vals = [node['values'] for node in ctx['nodes'] if node['name'] == treatment1][0]\n",
    "# t2vals = [node['values'] for node in ctx['nodes'] if node['name'] == treatment2][0]\n",
    "outcome = ctx['outcome']#['name']\n",
    "# ovals = [node['values'] for node in ctx['nodes'] if node['name'] == outcome][0]\n",
    "confounders = [node for node in ctx['confounders']]\n",
    "\n",
    "print(tabulate([\n",
    "    [treatment1['name'], *treatment1['values'], treatment1['description']],\n",
    "    [treatment2['name'], *treatment2['values'], treatment2['description']],\n",
    "    [outcome['name'], *outcome['values'], outcome['description']],\n",
    "]))\n",
    "\n",
    "cate_keys = [(treatment, confounder, cval) for treatment in ctx['treatments'] for confounder in ctx['confounders'] for cval in [0, 1]]\n",
    "cate_fns = [make_ate_fn(treatment['name'], outcome['name'], conditions={confounder['name']: val}) for treatment, confounder, val in cate_keys]\n",
    "ate1, ate2, corr1, corr2, *cates = mc_samples(50, make_ate_fn(treatment1['name'], outcome['name']), make_ate_fn(treatment2['name'], outcome['name']),\n",
    "                                      make_corr_fn(treatment1['name'], outcome['name']), make_corr_fn(treatment2['name'], outcome['name']), *cate_fns).t()\n",
    "\n",
    "print('\\n'.join(f'{node[\"name\"]!r} means {node[\"description\"]}' for node in ctx['nodes']))\n",
    "print(tabulate([\n",
    "    [f'{treatment1[\"values\"][1]}', f'{treatment1[\"name\"]}', f'{outcome[\"values\"][1]}', f'{outcome[\"name\"]}', ate1.mean(), corr1.mean(), ],\n",
    "    [f'{treatment2[\"values\"][1]}', f'{treatment2[\"name\"]}', f'{outcome[\"values\"][1]}', f'{outcome[\"name\"]}', ate2.mean(), corr2.mean(), ],\n",
    "], headers=['Treatment Value', 'Treatment', 'Outcome Value', 'Outcome', 'ATE', 'Correlation']))"
   ],
   "metadata": {
    "collapsed": false,
    "ExecuteTime": {
     "end_time": "2023-11-29T16:58:57.628456558Z",
     "start_time": "2023-11-29T16:58:37.966807657Z"
    }
   },
   "id": "72b141894423bdcb"
  },
  {
   "cell_type": "code",
   "execution_count": 57,
   "outputs": [
    {
     "name": "stderr",
     "output_type": "stream",
     "text": [
      "/home/fleeb/miniconda3/lib/python3.11/site-packages/torch/masked/maskedtensor/core.py:156: UserWarning: The PyTorch API of MaskedTensors is in prototype stage and will change in the near future. Please open a Github issue for features requests and see our documentation on the torch.masked module for further information about the project.\n",
      "  warnings.warn((\"The PyTorch API of MaskedTensors is in prototype stage \"\n"
     ]
    },
    {
     "name": "stdout",
     "output_type": "stream",
     "text": [
      "Treatment                                          ATE    Correlation  Outcome\n",
      "-----------------------------------------------  -----  -------------  -----------------------------------------------\n",
      "Good economic health Global Economic Health      -0.2           -0.41  Impact COVID-19 Pandemic Impact\n",
      "Good economic health Global Economic Health      -0.3           -0.33  Policy change Government Economic Policy\n",
      "Good economic health Global Economic Health       0              0     Stable Auto Industry Health\n",
      "Good economic health Global Economic Health       0             -0.08  Stable Company Financial Stability\n",
      "Good economic health Global Economic Health       0              0     High demand Public Demand for Cars\n",
      "Good economic health Global Economic Health      -0.02          -0.01  Job loss Job Loss in Auto Industry\n",
      "Good economic health Global Economic Health      -0.07          -0.1   Extensive coverage Media Coverage of Job Losses\n",
      "Impact COVID-19 Pandemic Impact                   0             -0.41  Good economic health Global Economic Health\n",
      "Impact COVID-19 Pandemic Impact                   0              0.14  Policy change Government Economic Policy\n",
      "Impact COVID-19 Pandemic Impact                   0              0     Stable Auto Industry Health\n",
      "Impact COVID-19 Pandemic Impact                  -0.15           0.01  Stable Company Financial Stability\n",
      "Impact COVID-19 Pandemic Impact                  -0              0     High demand Public Demand for Cars\n",
      "Impact COVID-19 Pandemic Impact                   0.15           0.02  Job loss Job Loss in Auto Industry\n",
      "Impact COVID-19 Pandemic Impact                   0.37           0.24  Extensive coverage Media Coverage of Job Losses\n",
      "Policy change Government Economic Policy          0             -0.33  Good economic health Global Economic Health\n",
      "Policy change Government Economic Policy          0              0.14  Impact COVID-19 Pandemic Impact\n",
      "Policy change Government Economic Policy          0              0     Stable Auto Industry Health\n",
      "Policy change Government Economic Policy          0.1            0.28  Stable Company Financial Stability\n",
      "Policy change Government Economic Policy          0              0     High demand Public Demand for Cars\n",
      "Policy change Government Economic Policy         -0.04          -0     Job loss Job Loss in Auto Industry\n",
      "Policy change Government Economic Policy         -0              0.04  Extensive coverage Media Coverage of Job Losses\n",
      "Stable Auto Industry Health                       0              0     Good economic health Global Economic Health\n",
      "Stable Auto Industry Health                       0              0     Impact COVID-19 Pandemic Impact\n",
      "Stable Auto Industry Health                       0             -0     Policy change Government Economic Policy\n",
      "Stable Auto Industry Health                       0.34           0.48  Stable Company Financial Stability\n",
      "Stable Auto Industry Health                       0.4            0.01  High demand Public Demand for Cars\n",
      "Stable Auto Industry Health                      -0.19          -0.02  Job loss Job Loss in Auto Industry\n",
      "Stable Auto Industry Health                      -0.03           0.01  Extensive coverage Media Coverage of Job Losses\n",
      "Stable Company Financial Stability                0             -0.05  Good economic health Global Economic Health\n",
      "Stable Company Financial Stability                0              0.01  Impact COVID-19 Pandemic Impact\n",
      "Stable Company Financial Stability                0              0.28  Policy change Government Economic Policy\n",
      "Stable Company Financial Stability                0              0.48  Stable Auto Industry Health\n",
      "Stable Company Financial Stability                0              0.01  High demand Public Demand for Cars\n",
      "Stable Company Financial Stability               -0.36          -0.03  Job loss Job Loss in Auto Industry\n",
      "Stable Company Financial Stability               -0.05           0.02  Extensive coverage Media Coverage of Job Losses\n",
      "High demand Public Demand for Cars                0              0     Good economic health Global Economic Health\n",
      "High demand Public Demand for Cars                0              0     Impact COVID-19 Pandemic Impact\n",
      "High demand Public Demand for Cars                0              0     Policy change Government Economic Policy\n",
      "High demand Public Demand for Cars                0              0.01  Stable Auto Industry Health\n",
      "High demand Public Demand for Cars                0              0.01  Stable Company Financial Stability\n",
      "High demand Public Demand for Cars               -0.16          -0.59  Job loss Job Loss in Auto Industry\n",
      "High demand Public Demand for Cars               -0.02           0.32  Extensive coverage Media Coverage of Job Losses\n",
      "Job loss Job Loss in Auto Industry                0             -0.01  Good economic health Global Economic Health\n",
      "Job loss Job Loss in Auto Industry                0              0.02  Impact COVID-19 Pandemic Impact\n",
      "Job loss Job Loss in Auto Industry                0             -0     Policy change Government Economic Policy\n",
      "Job loss Job Loss in Auto Industry                0             -0.02  Stable Auto Industry Health\n",
      "Job loss Job Loss in Auto Industry                0             -0.03  Stable Company Financial Stability\n",
      "Job loss Job Loss in Auto Industry                0             -0.59  High demand Public Demand for Cars\n",
      "Job loss Job Loss in Auto Industry                0.14          -0.54  Extensive coverage Media Coverage of Job Losses\n",
      "Extensive coverage Media Coverage of Job Losses   0             -0.1   Good economic health Global Economic Health\n",
      "Extensive coverage Media Coverage of Job Losses   0              0.24  Impact COVID-19 Pandemic Impact\n",
      "Extensive coverage Media Coverage of Job Losses   0              0.04  Policy change Government Economic Policy\n",
      "Extensive coverage Media Coverage of Job Losses   0              0.01  Stable Auto Industry Health\n",
      "Extensive coverage Media Coverage of Job Losses   0              0.02  Stable Company Financial Stability\n",
      "Extensive coverage Media Coverage of Job Losses   0              0.32  High demand Public Demand for Cars\n",
      "Extensive coverage Media Coverage of Job Losses   0             -0.55  Job loss Job Loss in Auto Industry\n",
      "('COVID-19 Pandemic Impact', 'Job Loss in Auto Industry', ['Global Economic Health'])\n",
      "('Government Economic Policy', 'Job Loss in Auto Industry', ['Global Economic Health'])\n"
     ]
    },
    {
     "data": {
      "text/plain": "<Figure size 800x400 with 1 Axes>",
      "image/png": "[encoded data removed]"
     },
     "metadata": {},
     "output_type": "display_data"
    },
    {
     "data": {
      "text/plain": "<Figure size 800x400 with 1 Axes>",
      "image/png": "[encoded data removed]"
     },
     "metadata": {},
     "output_type": "display_data"
    }
   ],
   "source": [
    "plt.figure(figsize=(8, 4))\n",
    "sns.kdeplot(ate1, label=f'{treatment1[\"values\"][1]} = {treatment1[\"name\"]}', fill=True, clip=(min(ate1), max(ate1)));\n",
    "sns.kdeplot(ate2, label=f'{treatment2[\"values\"][1]} = {treatment2[\"name\"]}', fill=True, clip=(min(ate2), max(ate2)));\n",
    "plt.title(f'{outcome[\"values\"][1]} = {outcome[\"name\"]}')\n",
    "plt.ylabel(f'P(ATE)')\n",
    "plt.gca().legend(loc='upper center', bbox_to_anchor=(0.5, -.1))\n",
    "plt.axvline(0, color='black', linestyle='--', alpha=0.5)\n",
    "# plt.xlim(-1, 1)\n",
    "plt.tight_layout();\n",
    "\n",
    "plt.figure(figsize=(8, 4))\n",
    "sns.kdeplot(corr1, label=f'{treatment1[\"values\"][1]} = {treatment1[\"name\"]}', fill=True, clip=(min(corr1), max(corr1)));\n",
    "sns.kdeplot(corr2, label=f'{treatment2[\"values\"][1]} = {treatment2[\"name\"]}', fill=True, clip=(min(corr2), max(corr2)));\n",
    "plt.title(f'{outcome[\"values\"][1]} = {outcome[\"name\"]}')\n",
    "plt.ylabel(f'P(Correlation)')\n",
    "plt.gca().legend(loc='upper center', bbox_to_anchor=(0.5, -.1))\n",
    "plt.axvline(0, color='black', linestyle='--', alpha=0.5)\n",
    "# plt.xlim(-1, 1)\n",
    "plt.tight_layout();\n",
    "\n",
    "mn1, mx1 = ate1.min().item(), ate1.max().item()\n",
    "mu1 = ate1.mean().item()\n",
    "assert mn1 * mx1 > 0, f'{mn1} * {mx1} < 0'\n",
    "mn2, mx2 = ate2.min().item(), ate2.max().item()\n",
    "mu2 = ate2.mean().item()\n",
    "assert mn2 * mx2 > 0, f'{mn2} * {mx2} < 0'\n",
    "ctx['ate1'] = ate1.mean().item()\n",
    "ctx['ate2'] = ate2.mean().item()\n",
    "reverse1 = mu1 < 0\n",
    "reverse2 = mu2 < 0\n",
    "# print(tabulate([(node['name'], *node['values'], node['description']) for node in ctx['nodes']], headers=['Variable Name', 'Value 0', 'Value 1', 'Description']))\n",
    "# outcome = [node['name'] for node in ctx['nodes'] if node['type'] == 'outcome'][0]\n",
    "tbl = []\n",
    "\n",
    "for node1, node2 in product(ctx['nodes'], ctx['nodes']):\n",
    "    if node1 != node2:\n",
    "        tbl.append([\n",
    "                    f'{node1[\"values\"][1]} {node1[\"name\"]}', \n",
    "                    f\"{net.ate(node1['name'])[node2['name']].item():.2f}\", \n",
    "                    f\"{net.correlation(node1['name'], node2['name']).item():.2f}\",\n",
    "                    f'{node2[\"values\"][1]} {node2[\"name\"]}', \n",
    "                    # node1['description'], \n",
    "                    # node2['description'], \n",
    "                    ])\n",
    "print(tabulate(tbl, headers=['Treatment', 'ATE', 'Correlation', 'Outcome', \n",
    "                             # 'Treatment Description', 'Outcome Description'\n",
    "                             ]))\n",
    "\n",
    "print(net.backdoor_estimand(treatment1['name'], outcome['name']))\n",
    "print(net.backdoor_estimand(treatment2['name'], outcome['name']))"
   ],
   "metadata": {
    "collapsed": false,
    "ExecuteTime": {
     "end_time": "2023-11-29T16:59:01.701579541Z",
     "start_time": "2023-11-29T16:58:57.623839627Z"
    }
   },
   "id": "91c54e61480a1489"
  },
  {
   "cell_type": "code",
   "execution_count": 58,
   "outputs": [
    {
     "name": "stdout",
     "output_type": "stream",
     "text": [
      "We would like to find very natural verbalizations of the following binary variables selected from a statistical model. The verbalizations should sound more natural and organic, so that you could imagine them being used in a newspaper article or casual conversation, while still being semantically equivalent to the variable and value definition.\n",
      "\n",
      "Here are the templates that we use to verbalize the variables:\n",
      "\n",
      "1. One of the variables is {descriptor}.\n",
      "2. {subject} [often/usually/sometimes/rarely/etc.] {predicate#}. (with pronoun: {pronoun})\n",
      "3. There is a [number]% chance that {nounclause#}.\n",
      "4. {preposition} [number]% of {domain}, {subclause#}.\n",
      "5. Conditional sentence: {condition#}, [some consequence].\n",
      "6. Interventional: If {action#}, [some effect].\n",
      "\n",
      "Variable 'Global Economic Health' (0='Poor economic health', 1='Good economic health') means Overall health of the global economy\n",
      "Variable 'COVID-19 Pandemic Impact' (0='No impact', 1='Impact') means Impact of the COVID-19 pandemic on the economy\n",
      "Variable 'Government Economic Policy' (0='No policy change', 1='Policy change') means Government policies affecting the economy during the pandemic\n",
      "Variable 'Auto Industry Health' (0='Unstable', 1='Stable') means Financial health and stability of the auto industry\n",
      "Variable 'Company Financial Stability' (0='Unstable', 1='Stable') means Financial stability of individual companies in the auto industry\n",
      "Variable 'Public Demand for Cars' (0='Low demand', 1='High demand') means Consumer demand for automobiles\n",
      "Variable 'Job Loss in Auto Industry' (0='No job loss', 1='Job loss') means Reduction in the number of jobs in the auto industry\n",
      "Variable 'Media Coverage of Job Losses' (0='Limited coverage', 1='Extensive coverage') means Extent of media coverage on job losses in the auto industry\n",
      "\n",
      "Here are some examples of verbalizations of the variable. For each of the templates fill in the blanks in the curly braces (and include 2-3 examples for each template, sorted from highest quality to least). Format your response as a JSON object. When replacing a key that ends in \"#\", make sure to include some examples for both values (0 and 1) that the variables can take. For example, a variable \"Smoking Rate\" which takes the values \"Low Smoking Rate\"=0 and \"High Smoking Rate\"=1 can be verbalized like this:\n",
      "\n",
      "```json\n",
      "{\n",
      "  \"Smoking Rate\": {\n",
      "    \"descriptor\": [\"the smoking rate\", \"prevalence of smokers\"],\n",
      "    \"subject\": \"people\",\n",
      "    \"predicate0\": [\"do not smoke\", \"are non-smokers\"],\n",
      "    \"predicate1\": [\"smoke\", \"are smokers\"],\n",
      "    \"pronoun\": \"they\",\n",
      "    \"nounclause0\": [\"people do not smoke\", \"people are non-smokers\"],\n",
      "    \"nounclause1\": [\"people smoke\", \"people are smokers\"],\n",
      "    \"preposition\": \"in\",\n",
      "    \"domain\": \"cases\",\n",
      "    \"subclause0\": [\"a person does not smoke\", \"there is no smoking habit\"],\n",
      "    \"subclause1\": [\"a person smokes\", \"there is a smoking habit\"],\n",
      "    \"condition0\": [\"among non-smokers\", \"for people that do not smoke\"],\n",
      "    \"condition1\": [\"among smokers\", \"for people that smoke\"],\n",
      "    \"action0\": [\"people quit smoking\", \"people become non-smokers\"],\n",
      "    \"action1\": [\"people become smokers\", \"people take up smoking\"]\n",
      "  },\n",
      "  ...\n",
      "}\n",
      "```\n",
      "\n",
      "Answer concisely and precisely in the desired format, and only replace the blanks in curly braces. Do not add any additional comments or discussion. Most importantly, the verbalizations should not contain quantitative information like \"often\" or \"rarely\" aluding to the liklihood of the variable taking that value, and instead always neutrally assert the value of the variable definition in a precise, creative, and most importantly semantically equivalent way.\n"
     ]
    }
   ],
   "source": [
    "# if 'prompt_verbs' in ctx:\n",
    "#     del ctx['prompt_verbs']\n",
    "# print(FileTemplate('verbs').fill_in(ctx))\n",
    "print(ctx['prompt_verbs'])"
   ],
   "metadata": {
    "collapsed": false,
    "ExecuteTime": {
     "end_time": "2023-11-29T16:59:01.703319964Z",
     "start_time": "2023-11-29T16:59:01.699212288Z"
    }
   },
   "id": "3dc15b60d5792cfb"
  },
  {
   "cell_type": "code",
   "execution_count": 59,
   "outputs": [],
   "source": [
    "# verbalization = ctx['verbs']\n",
    "#################################################\n",
    "verbalization_raw = '''\n",
    "\n",
    "\n",
    "{\n",
    "  \"Global Economic Health\": {\n",
    "    \"descriptor\": [\"the global economic climate\", \"the worldwide economic situation\"],\n",
    "    \"subject\": \"the global economy\",\n",
    "    \"predicate0\": [\"is struggling\", \"is in a downturn\"],\n",
    "    \"predicate1\": [\"is thriving\", \"is robust\"],\n",
    "    \"pronoun\": \"it\",\n",
    "    \"nounclause0\": [\"the global economy is struggling\", \"there is a downturn in the global economy\"],\n",
    "    \"nounclause1\": [\"the global economy is thriving\", \"there is robust growth in the global economy\"],\n",
    "    \"preposition\": \"amid\",\n",
    "    \"domain\": \"economic scenarios\",\n",
    "    \"subclause0\": [\"the global economy faces challenges\", \"economic growth is stagnant\"],\n",
    "    \"subclause1\": [\"the global economy is experiencing growth\", \"economic indicators are positive\"],\n",
    "    \"condition0\": [\"in a struggling global economy\", \"when the global economic climate is poor\"],\n",
    "    \"condition1\": [\"in a thriving global economy\", \"when the global economic climate is strong\"],\n",
    "    \"action0\": [\"the global economy dips\", \"there's a downturn in global economics\"],\n",
    "    \"action1\": [\"the global economy rallies\", \"economic growth is stimulated\"]\n",
    "  },\n",
    "  \"COVID-19 Pandemic Impact\": {\n",
    "    \"descriptor\": [\"the economic impact of the pandemic\", \"the COVID-19 economic shock\"],\n",
    "    \"subject\": \"the pandemic\",\n",
    "    \"predicate0\": [\"has not affected the economy\", \"has left the economy unscathed\"],\n",
    "    \"predicate1\": [\"has impacted the economy\", \"has shaken the economic landscape\"],\n",
    "    \"pronoun\": \"it\",\n",
    "    \"nounclause0\": [\"the pandemic has not affected the economy\", \"there is no economic impact from COVID-19\"],\n",
    "    \"nounclause1\": [\"the pandemic has impacted the economy\", \"COVID-19 has caused economic disruption\"],\n",
    "    \"preposition\": \"during\",\n",
    "    \"domain\": \"pandemic periods\",\n",
    "    \"subclause0\": [\"the pandemic does not affect the economy\", \"economic activity remains unaffected by COVID-19\"],\n",
    "    \"subclause1\": [\"the pandemic causes economic disruption\", \"economic downturns are linked to COVID-19\"],\n",
    "    \"condition0\": [\"if the pandemic has no economic impact\", \"when COVID-19 doesn't affect economic activity\"],\n",
    "    \"condition1\": [\"if the pandemic impacts the economy\", \"when COVID-19 causes economic disruption\"],\n",
    "    \"action0\": [\"COVID-19 leaves the economy unaffected\", \"the pandemic doesn't impact economic activity\"],\n",
    "    \"action1\": [\"COVID-19 impacts the economy\", \"the pandemic triggers economic changes\"]\n",
    "  },\n",
    "  \"Government Economic Policy\": {\n",
    "    \"descriptor\": [\"the government's economic response\", \"policy measures during the pandemic\"],\n",
    "    \"subject\": \"government policy\",\n",
    "    \"predicate0\": [\"remains unchanged\", \"is consistent\"],\n",
    "    \"predicate1\": [\"undergoes changes\", \"is adjusted\"],\n",
    "    \"pronoun\": \"it\",\n",
    "    \"nounclause0\": [\"government policy remains unchanged\", \"there are no changes in economic policy\"],\n",
    "    \"nounclause1\": [\"government policy changes\", \"economic policy is adjusted\"],\n",
    "    \"preposition\": \"amid\",\n",
    "    \"domain\": \"policy environments\",\n",
    "    \"subclause0\": [\"there is no change in government policy\", \"economic policy remains the same\"],\n",
    "    \"subclause1\": [\"government policy adapts to the situation\", \"economic strategies are revised\"],\n",
    "    \"condition0\": [\"if government policy remains the same\", \"when there's no change in economic strategies\"],\n",
    "    \"condition1\": [\"if government policy changes\", \"when economic policy is revised\"],\n",
    "    \"action0\": [\"the government maintains its current policies\", \"economic strategies remain unchanged\"],\n",
    "    \"action1\": [\"the government revises its policies\", \"economic strategies are adjusted\"]\n",
    "  },\n",
    "  \"Auto Industry Health\": {\n",
    "    \"descriptor\": [\"the stability of the auto industry\", \"the auto industry's financial health\"],\n",
    "    \"subject\": \"the auto industry\",\n",
    "    \"predicate0\": [\"is unstable\", \"faces financial challenges\"],\n",
    "    \"predicate1\": [\"is stable\", \"enjoys financial health\"],\n",
    "    \"pronoun\": \"it\",\n",
    "    \"nounclause0\": [\"the auto industry is unstable\", \"there are financial challenges in the auto industry\"],\n",
    "    \"nounclause1\": [\"the auto industry is stable\", \"there is financial health in the auto industry\"],\n",
    "    \"preposition\": \"among\",\n",
    "    \"domain\": \"auto sectors\",\n",
    "    \"subclause0\": [\"the auto industry faces instability\", \"financial issues plague the auto sector\"],\n",
    "    \"subclause1\": [\"the auto industry remains stable\", \"financial health prevails in the auto sector\"],\n",
    "    \"condition0\": [\"when the auto industry is unstable\", \"if there are financial challenges in the auto sector\"],\n",
    "    \"condition1\": [\"when the auto industry is stable\", \"if there is financial health in the auto sector\"],\n",
    "    \"action0\": [\"the auto industry faces instability\", \"financial turmoil hits the auto sector\"],\n",
    "    \"action1\": [\"the auto industry stabilizes\", \"financial health improves in the auto sector\"]\n",
    "  },\n",
    "  \"Company Financial Stability\": {\n",
    "    \"descriptor\": [\"the financial footing of companies\", \"corporate financial stability\"],\n",
    "    \"subject\": \"companies\",\n",
    "    \"predicate0\": [\"are financially unstable\", \"struggle with financial stability\"],\n",
    "    \"predicate1\": [\"are financially stable\", \"maintain financial stability\"],\n",
    "    \"pronoun\": \"they\",\n",
    "    \"nounclause0\": [\"companies are financially unstable\", \"there is financial instability in companies\"],\n",
    "    \"nounclause1\": [\"companies are financially stable\", \"corporate financial stability is maintained\"],\n",
    "    \"preposition\": \"within\",\n",
    "    \"domain\": \"corporate sectors\",\n",
    "    \"subclause0\": [\"companies face financial instability\", \"there are financial challenges for companies\"],\n",
    "    \"subclause1\": [\"companies achieve financial stability\", \"financial stability is a hallmark for companies\"],\n",
    "    \"condition0\": [\"if companies are financially unstable\", \"when financial instability plagues companies\"],\n",
    "    \"condition1\": [\"if companies are financially stable\", \"when companies maintain financial stability\"],\n",
    "    \"action0\": [\"companies struggle financially\", \"financial instability hits companies\"],\n",
    "    \"action1\": [\"companies stabilize financially\", \"corporate financial health is ensured\"]\n",
    "  },\n",
    "  \"Public Demand for Cars\": {\n",
    "    \"descriptor\": [\"consumer interest in cars\", \"the public's demand for automobiles\"],\n",
    "    \"subject\": \"consumers\",\n",
    "    \"predicate0\": [\"show little interest in cars\", \"are not keen on buying cars\"],\n",
    "    \"predicate1\": [\"are highly interested in cars\", \"eagerly purchase automobiles\"],\n",
    "    \"pronoun\": \"they\",\n",
    "    \"nounclause0\": [\"consumers show little interest in cars\", \"there's a low demand for automobiles\"],\n",
    "    \"nounclause1\": [\"consumers have a high interest in cars\", \"the demand for automobiles is high\"],\n",
    "    \"preposition\": \"among\",\n",
    "    \"domain\": \"consumer groups\",\n",
    "    \"subclause0\": [\"there's a waning interest in automobiles\", \"car purchases are on the decline\"],\n",
    "    \"subclause1\": [\"automobiles are in high demand\", \"there's a surge in car purchases\"],\n",
    "    \"condition0\": [\"if consumer interest in cars is low\", \"when there's a decline in automobile purchases\"],\n",
    "    \"condition1\": [\"if consumer interest in cars is high\", \"when automobile purchases are surging\"],\n",
    "    \"action0\": [\"consumer interest in cars wanes\", \"car purchases decline\"],\n",
    "    \"action1\": [\"consumer interest in cars spikes\", \"there's a surge in car purchases\"]\n",
    "  },\n",
    "  \"Job Loss in Auto Industry\": {\n",
    "    \"descriptor\": [\"job cuts in the auto industry\", \"the reduction of auto industry workforce\"],\n",
    "    \"subject\": \"the auto industry\",\n",
    "    \"predicate0\": [\"avoids job cuts\", \"maintains its workforce\"],\n",
    "    \"predicate1\": [\"faces job cuts\", \"sees a reduction in its workforce\"],\n",
    "    \"pronoun\": \"it\",\n",
    "    \"nounclause0\": [\"the auto industry avoids job cuts\", \"there is no reduction in the auto industry workforce\"],\n",
    "    \"nounclause1\": [\"the auto industry faces job cuts\", \"there is a reduction in the auto industry workforce\"],\n",
    "    \"preposition\": \"within\",\n",
    "    \"domain\": \"auto sectors\",\n",
    "    \"subclause0\": [\"job cuts are avoided in the auto industry\", \"the workforce remains intact\"],\n",
    "    \"subclause1\": [\"job cuts occur in the auto industry\", \"the workforce is reduced\"],\n",
    "    \"condition0\": [\"if the auto industry avoids job cuts\", \"when the auto sector maintains its workforce\"],\n",
    "    \"condition1\": [\"if the auto industry faces job cuts\", \"when there's a workforce reduction in the auto sector\"],\n",
    "    \"action0\": [\"the auto industry avoids layoffs\", \"workforce reduction is prevented in the auto sector\"],\n",
    "    \"action1\": [\"the auto industry proceeds with layoffs\", \"the workforce is downsized in the auto sector\"]\n",
    "  },\n",
    "  \"Media Coverage of Job Losses\": {\n",
    "    \"descriptor\": [\"the extent of media attention to job losses\", \"how extensively job losses are covered in the media\", \"the level of media focus on job losses\"],\n",
    "    \"subject\": \"media reports\",\n",
    "    \"predicate0\": [\"touch briefly on job losses\", \"give limited attention to job losses\"],\n",
    "    \"predicate1\": [\"highlight job losses extensively\", \"focus deeply on job losses\"],\n",
    "    \"pronoun\": \"they\",\n",
    "    \"nounclause0\": [\"media coverage on job losses is minimal\", \"there is only brief reporting on job losses\"],\n",
    "    \"nounclause1\": [\"media coverage on job losses is extensive\", \"there is in-depth reporting on job losses\"],\n",
    "    \"preposition\": \"among\",\n",
    "    \"domain\": \"media outlets\",\n",
    "    \"subclause0\": [\"job losses are not a major story\", \"job loss coverage is brief and to the point\"],\n",
    "    \"subclause1\": [\"job losses dominate the headlines\", \"job loss stories are covered in great detail\"],\n",
    "    \"condition0\": [\"if job losses are not a major story\", \"when job losses receive limited media attention\"],\n",
    "    \"condition1\": [\"if job losses dominate the headlines\", \"when job losses are extensively covered in the media\"],\n",
    "    \"action0\": [\"job losses are underreported\", \"the media downplays job losses\"],\n",
    "    \"action1\": [\"job losses are highlighted in the media\", \"the media focuses extensively on job losses\"]\n",
    "  }\n",
    "}\n",
    "\n",
    "\n",
    "\n",
    "'''\n",
    "#################################################\n",
    "ctx['verbs'] = json.loads(verbalization_raw)"
   ],
   "metadata": {
    "collapsed": false,
    "ExecuteTime": {
     "end_time": "2023-11-29T17:04:09.214299807Z",
     "start_time": "2023-11-29T17:04:09.126606478Z"
    }
   },
   "id": "79f6bf9e67c64775"
  },
  {
   "cell_type": "code",
   "execution_count": 62,
   "outputs": [
    {
     "name": "stdout",
     "output_type": "stream",
     "text": [
      "We have a statistical model based on the following topic:\n",
      "\n",
      "This analysis explores the ripple effects of the COVID-19 pandemic on the auto industry's job market, inspired by Deutz's recent job cuts. By comparing employment data from before and during the pandemic, specifically focusing on auto manufacturers in Germany, we can uncover trends and assess the broader impact on jobs. Our look into various companies' workforce sizes, hiring and layoff rates will reveal the pandemic's real impact on this sector.\n",
      "\n",
      "Now we would like to use this model to generate the following interesting research questions. Verbalize interesting \"yes\"/\"no\" questions where the correct answer depends computation of each of the following quantities:\n",
      "\n",
      "\t1. ATE('COVID-19 Pandemic Impact') > 0\n",
      "\t2. ATE('Government Economic Policy') > 0\n",
      "\t3. ATE('COVID-19 Pandemic Impact') < ATE('Government Economic Policy')\n",
      "\t4. |ATE('Government Economic Policy')| > |ATE('COVID-19 Pandemic Impact')|\n",
      "\t5. CATE('COVID-19 Pandemic Impact' | 'Global Economic Health' = 0) > 0\n",
      "\t6. CATE('Government Economic Policy' | 'Global Economic Health' = 0) > 0\n",
      "\t7. CATE('Government Economic Policy' | 'Global Economic Health' = 0) < CATE('COVID-19 Pandemic Impact' | 'Global Economic Health' = 0)\n",
      "\t8. |CATE('COVID-19 Pandemic Impact' | 'Global Economic Health' = 0)| < |CATE('Government Economic Policy' | 'Global Economic Health' = 0)|\n",
      "\t9. CATE('COVID-19 Pandemic Impact' | 'Global Economic Health' = 1) < 0\n",
      "\t10. CATE('Government Economic Policy' | 'Global Economic Health' = 1) < 0\n",
      "\t11. CATE('Government Economic Policy' | 'Global Economic Health' = 1) > CATE('COVID-19 Pandemic Impact' | 'Global Economic Health' = 1)\n",
      "\t12. |CATE('Government Economic Policy' | 'Global Economic Health' = 1)| < |CATE('COVID-19 Pandemic Impact' | 'Global Economic Health' = 1)|\n",
      "\t13. CATE('COVID-19 Pandemic Impact' | 'Global Economic Health' = 0) > CATE('COVID-19 Pandemic Impact' | 'Global Economic Health' = 1)\n",
      "\t14. |CATE('COVID-19 Pandemic Impact' | 'Global Economic Health' = 1)| > |CATE('COVID-19 Pandemic Impact' | 'Global Economic Health' = 0)|\n",
      "\t15. CATE('Government Economic Policy' | 'Global Economic Health' = 0) < CATE('Government Economic Policy' | 'Global Economic Health' = 1)\n",
      "\t16. |CATE('Government Economic Policy' | 'Global Economic Health' = 1)| < |CATE('Government Economic Policy' | 'Global Economic Health' = 0)|\n",
      "\t17. CATE('COVID-19 Pandemic Impact' | 'Auto Industry Health' = 0) > 0\n",
      "\t18. CATE('Government Economic Policy' | 'Auto Industry Health' = 0) > 0\n",
      "\t19. CATE('Government Economic Policy' | 'Auto Industry Health' = 0) > CATE('COVID-19 Pandemic Impact' | 'Auto Industry Health' = 0)\n",
      "\t20. |CATE('COVID-19 Pandemic Impact' | 'Auto Industry Health' = 0)| > |CATE('Government Economic Policy' | 'Auto Industry Health' = 0)|\n",
      "\t21. CATE('COVID-19 Pandemic Impact' | 'Auto Industry Health' = 1) < 0\n",
      "\t22. CATE('Government Economic Policy' | 'Auto Industry Health' = 1) < 0\n",
      "\t23. CATE('COVID-19 Pandemic Impact' | 'Auto Industry Health' = 1) > CATE('Government Economic Policy' | 'Auto Industry Health' = 1)\n",
      "\t24. |CATE('COVID-19 Pandemic Impact' | 'Auto Industry Health' = 1)| > |CATE('Government Economic Policy' | 'Auto Industry Health' = 1)|\n",
      "\t25. CATE('COVID-19 Pandemic Impact' | 'Auto Industry Health' = 1) < CATE('COVID-19 Pandemic Impact' | 'Auto Industry Health' = 0)\n",
      "\t26. |CATE('COVID-19 Pandemic Impact' | 'Auto Industry Health' = 0)| > |CATE('COVID-19 Pandemic Impact' | 'Auto Industry Health' = 1)|\n",
      "\t27. CATE('Government Economic Policy' | 'Auto Industry Health' = 1) > CATE('Government Economic Policy' | 'Auto Industry Health' = 0)\n",
      "\t28. |CATE('Government Economic Policy' | 'Auto Industry Health' = 1)| < |CATE('Government Economic Policy' | 'Auto Industry Health' = 0)|\n",
      "\n",
      "Where \"| * |\" is the absolute value and the definitions of \"ATE('X')\" (average treatment effect) and \"CATE('X' | 'U'=u)\" are:\n",
      "\n",
      "ATE('X') = E['Y' | do('X' = 1)] - E['Y' | do('X' = 0)]\n",
      "CATE('X' | 'U'=u) = E['Y' | 'U'=u, do('X' = 1)] - E['Y' | 'U'=u, do('X' = 0)]\n",
      "\n",
      "Where 'X' is a treatment variable, 'Y' is the outcome variable, and 'U' is a confounder variable.\n",
      "\n",
      "In addition to the questions and associated answers include a one sentence explanation for each question. Make sure the explanation can stand on its own without the question, so it should include all important details from the question.\n",
      "\n",
      "The meanings of all the variables (all of which are binary) in the statistical model are:\n",
      "\n",
      "Variable 'Global Economic Health' (0='Poor economic health', 1='Good economic health') means Overall health of the global economy\n",
      "Variable 'COVID-19 Pandemic Impact' (0='No impact', 1='Impact') means Impact of the COVID-19 pandemic on the economy\n",
      "Variable 'Government Economic Policy' (0='No policy change', 1='Policy change') means Government policies affecting the economy during the pandemic\n",
      "Variable 'Auto Industry Health' (0='Unstable', 1='Stable') means Financial health and stability of the auto industry\n",
      "Variable 'Company Financial Stability' (0='Unstable', 1='Stable') means Financial stability of individual companies in the auto industry\n",
      "Variable 'Public Demand for Cars' (0='Low demand', 1='High demand') means Consumer demand for automobiles\n",
      "Variable 'Job Loss in Auto Industry' (0='No job loss', 1='Job loss') means Reduction in the number of jobs in the auto industry\n",
      "Variable 'Media Coverage of Job Losses' (0='Limited coverage', 1='Extensive coverage') means Extent of media coverage on job losses in the auto industry\n",
      "\n",
      "Answer in the form of a JSON object in the following format:\n",
      "\n",
      "```json\n",
      "{\n",
      "    \"1\": {\"question\": \"[question]\", \"answer\": \"yes\", \"explanation\": \"[explanation]\"},\n",
      "    ...\n",
      "}\n",
      "```\n",
      "\n",
      "Answer concisely and precisely in the desired format. Do not add any additional comments or discussion. Most importantly, do not use any technical terms from causal inference such as ATE or CATE in the questions and explanations so that everything is easy to understand even for a layperson in a casual conversation.\n"
     ]
    }
   ],
   "source": [
    "# if 'prompt_questions' in ctx:\n",
    "#     del ctx['prompt_questions']\n",
    "# print(FileTemplate('questions').fill_in(ctx))\n",
    "print(ctx['prompt_questions'])"
   ],
   "metadata": {
    "collapsed": false,
    "ExecuteTime": {
     "end_time": "2023-11-29T17:05:23.180679477Z",
     "start_time": "2023-11-29T17:05:23.115012960Z"
    }
   },
   "id": "e7a104d246a371ac"
  },
  {
   "cell_type": "code",
   "execution_count": 63,
   "outputs": [],
   "source": [
    "# setting = ctx['questions']\n",
    "#################################################\n",
    "settings_raw = '''\n",
    "\n",
    "\n",
    "{\n",
    "    \"1\": {\n",
    "        \"question\": \"Did the COVID-19 pandemic generally have a noticeable impact on the auto industry's job market?\",\n",
    "        \"answer\": \"yes\",\n",
    "        \"explanation\": \"The COVID-19 pandemic had a significant effect on job losses in the auto industry.\"\n",
    "    },\n",
    "    \"2\": {\n",
    "        \"question\": \"Did changes in government economic policies during the pandemic generally lead to noticeable effects in the auto industry's job market?\",\n",
    "        \"answer\": \"yes\",\n",
    "        \"explanation\": \"Government economic policies implemented during the pandemic significantly affected job stability in the auto industry.\"\n",
    "    },\n",
    "    \"3\": {\n",
    "        \"question\": \"Was the impact of the COVID-19 pandemic on the auto industry's job market less than the impact of government economic policies?\",\n",
    "        \"answer\": \"no\",\n",
    "        \"explanation\": \"The effect of the COVID-19 pandemic on job losses in the auto industry was not less than the impact of government economic policies.\"\n",
    "    },\n",
    "    \"4\": {\n",
    "        \"question\": \"Were the effects of government economic policies on the auto industry's job market more variable than the effects of the COVID-19 pandemic?\",\n",
    "        \"answer\": \"no\",\n",
    "        \"explanation\": \"The variability in the effects of government economic policies on the auto industry's job market was not greater than the variability of the pandemic's effects.\"\n",
    "    },\n",
    "    \"5\": {\n",
    "        \"question\": \"During times of poor global economic health, did the COVID-19 pandemic have a noticeable impact on the auto industry's job market?\",\n",
    "        \"answer\": \"yes\",\n",
    "        \"explanation\": \"In periods of poor global economic health, the COVID-19 pandemic significantly affected job losses in the auto industry.\"\n",
    "    },\n",
    "    \"6\": {\n",
    "        \"question\": \"During times of poor global economic health, did changes in government economic policies have a noticeable impact on the auto industry's job market?\",\n",
    "        \"answer\": \"yes\",\n",
    "        \"explanation\": \"In periods of poor global economic health, changes in government economic policies had a significant impact on job stability in the auto industry.\"\n",
    "    },\n",
    "    \"7\": {\n",
    "        \"question\": \"During times of poor global economic health, was the impact of government economic policies on the auto industry's job market less than the impact of the COVID-19 pandemic?\",\n",
    "        \"answer\": \"no\",\n",
    "        \"explanation\": \"During poor global economic health, the effect of government economic policies on the auto industry's job market was not less than the impact of the COVID-19 pandemic.\"\n",
    "    },\n",
    "    \"8\": {\n",
    "        \"question\": \"During times of poor global economic health, were the effects of the COVID-19 pandemic on the auto industry's job market less variable than the effects of government economic policies?\",\n",
    "        \"answer\": \"no\",\n",
    "        \"explanation\": \"When the global economy was struggling, the variability in the effects of the pandemic on the auto industry's job market was not less than the variability in the effects of government policies.\"\n",
    "    },\n",
    "    \"9\": {\n",
    "        \"question\": \"During times of good global economic health, did the COVID-19 pandemic reduce job stability in the auto industry?\",\n",
    "        \"answer\": \"no\",\n",
    "        \"explanation\": \"In periods of good global economic health, the COVID-19 pandemic did not decrease job stability in the auto industry.\"\n",
    "    },\n",
    "    \"10\": {\n",
    "        \"question\": \"During times of good global economic health, did changes in government economic policies reduce job stability in the auto industry?\",\n",
    "        \"answer\": \"no\",\n",
    "        \"explanation\": \"In periods of good global economic health, changes in government economic policies did not decrease job stability in the auto industry.\"\n",
    "    },\n",
    "    \"11\": {\n",
    "        \"question\": \"During times of good global economic health, was the impact of government economic policies on the auto industry's job market greater than the impact of the COVID-19 pandemic?\",\n",
    "        \"answer\": \"yes\",\n",
    "        \"explanation\": \"When the global economy was healthy, the impact of government economic policies on the auto industry's job market was greater than the impact of the COVID-19 pandemic.\"\n",
    "    },\n",
    "    \"12\": {\n",
    "        \"question\": \"During times of good global economic health, were the effects of government economic policies on the auto industry's job market less variable than the effects of the COVID-19 pandemic?\",\n",
    "        \"answer\": \"no\",\n",
    "        \"explanation\": \"In periods of good global economic health, the variability in the effects of government economic policies on the auto industry's job market was not less than the variability in the effects of the pandemic.\"\n",
    "    },\n",
    "    \"13\": {\n",
    "        \"question\": \"Did the COVID-19 pandemic have a greater impact on the auto industry's job market during times of poor global economic health compared to times of good global economic health?\",\n",
    "        \"answer\": \"yes\",\n",
    "        \"explanation\": \"The impact of the COVID-19 pandemic on job losses in the auto industry was more significant during periods of poor global economic health than during times of good economic health.\"\n",
    "    },\n",
    "    \"14\": {\n",
    "        \"question\": \"Was the impact of the COVID-19 pandemic on the auto industry's job market more variable during times of good global economic health compared to times of poor global economic health?\",\n",
    "        \"answer\": \"yes\",\n",
    "        \"explanation\": \"The variability in the impact of the COVID-19 pandemic on the auto industry's job market was greater during good global economic health than during poor economic periods.\"\n",
    "    },\n",
    "    \"15\": {\n",
    "        \"question\": \"During times of poor global economic health, was the impact of government economic policies on the auto industry's job market less than during times of good global economic health?\",\n",
    "        \"answer\": \"no\",\n",
    "        \"explanation\": \"The impact of government economic policies on the auto industry's job market was not less during poor global economic health compared to times of good economic health.\"\n",
    "    },\n",
    "    \"16\": {\n",
    "        \"question\": \"During times of good global economic health, was the impact of government economic policies on the auto industry's job market less variable compared to times of poor global economic health?\",\n",
    "        \"answer\": \"yes\",\n",
    "        \"explanation\": \"The variability in the impact of government economic policies on the auto industry's job market was less during good global economic health compared to poor economic periods.\"\n",
    "    },\n",
    "    \"17\": {\n",
    "        \"question\": \"When the auto industry was financially unstable, did the COVID-19 pandemic still have a noticeable impact on the industry's job market?\",\n",
    "        \"answer\": \"yes\",\n",
    "        \"explanation\": \"Even when the auto industry was financially unstable, the COVID-19 pandemic significantly affected job losses in the sector.\"\n",
    "    },\n",
    "    \"18\": {\n",
    "        \"question\": \"When the auto industry was financially unstable, did changes in government economic policies have a noticeable impact on the industry's job market?\",\n",
    "        \"answer\": \"yes\",\n",
    "        \"explanation\": \"Changes in government economic policies had a significant impact on job stability in the auto industry even when the industry was financially unstable.\"\n",
    "    },\n",
    "    \"19\": {\n",
    "        \"question\": \"When the auto industry was financially unstable, was the impact of government economic policies on the industry's job market greater than the impact of the COVID-19 pandemic?\",\n",
    "        \"answer\": \"no\",\n",
    "        \"explanation\": \"In a financially unstable auto industry, the impact of government economic policies on job losses was not greater than the impact of the COVID-19 pandemic.\"\n",
    "    },\n",
    "    \"20\": {\n",
    "        \"question\": \"When the auto industry was financially unstable, was the impact of the COVID-19 pandemic on the industry's job market more variable than the impact of government economic policies?\",\n",
    "        \"answer\": \"yes\",\n",
    "        \"explanation\": \"In a financially unstable auto industry, the variability in the impact of the COVID-19 pandemic on job losses was greater than the variability in the impact of government policies.\"\n",
    "    },\n",
    "    \"21\": {\n",
    "        \"question\": \"When the auto industry was financially stable, did the COVID-19 pandemic improve job stability in the industry?\",\n",
    "        \"answer\": \"no\",\n",
    "        \"explanation\": \"The COVID-19 pandemic did not improve job stability in the auto industry even when the industry was financially stable.\"\n",
    "    },\n",
    "    \"22\": {\n",
    "        \"question\": \"When the auto industry was financially stable, did changes in government economic policies improve job stability in the industry?\",\n",
    "        \"answer\": \"no\",\n",
    "        \"explanation\": \"Changes in government economic policies did not improve job stability in the auto industry even when the industry was financially stable.\"\n",
    "    },\n",
    "    \"23\": {\n",
    "        \"question\": \"When the auto industry was financially stable, was the impact of the COVID-19 pandemic on the industry's job market greater than the impact of government economic policies?\",\n",
    "        \"answer\": \"yes\",\n",
    "        \"explanation\": \"In a financially stable auto industry, the impact of the COVID-19 pandemic on job losses was greater than the impact of government economic policies.\"\n",
    "    },\n",
    "    \"24\": {\n",
    "        \"question\": \"When the auto industry was financially stable, was the impact of the COVID-19 pandemic on the industry's job market more variable than the impact of government economic policies?\",\n",
    "        \"answer\": \"yes\",\n",
    "        \"explanation\": \"In a financially stable auto industry, the variability in the impact of the COVID-19 pandemic on job losses was greater than the variability in the impact of government policies.\"\n",
    "    },\n",
    "    \"25\": {\n",
    "        \"question\": \"Was the impact of the COVID-19 pandemic on the auto industry's job market greater when the industry was financially stable compared to when it was unstable?\",\n",
    "        \"answer\": \"no\",\n",
    "        \"explanation\": \"The impact of the COVID-19 pandemic on job losses in the auto industry was not greater when the industry was financially stable compared to when it was unstable.\"\n",
    "    }\n",
    "}\n",
    "\n",
    "\n",
    "\n",
    "'''\n",
    "#################################################\n",
    "setting = json.loads(settings_raw)\n",
    "setting = [setting[str(i)] for i in range(1, len(setting)+1)]\n",
    "ctx['questions'] = setting"
   ],
   "metadata": {
    "collapsed": false,
    "ExecuteTime": {
     "end_time": "2023-11-29T17:08:35.384756710Z",
     "start_time": "2023-11-29T17:08:35.309912160Z"
    }
   },
   "id": "15ee584645d0a66d"
  },
  {
   "cell_type": "code",
   "execution_count": 36,
   "outputs": [],
   "source": [],
   "metadata": {
    "collapsed": false,
    "ExecuteTime": {
     "end_time": "2023-11-29T12:51:50.589474479Z",
     "start_time": "2023-11-29T12:51:50.547172645Z"
    }
   },
   "id": "19aa513e0b179ac4"
  },
  {
   "cell_type": "code",
   "execution_count": 64,
   "outputs": [
    {
     "data": {
      "text/plain": "PosixPath('/home/fleeb/workspace/code/cladder/novo-data/stories/Impact_of_Covid_on_Auto_Industry_Job_Market.json')"
     },
     "execution_count": 64,
     "metadata": {},
     "output_type": "execute_result"
    }
   ],
   "source": [
    "i = 0\n",
    "path = ctx._root / f'{ctx[\"motivation\"][\"title\"] if \"motivation\" in ctx else \"test\"}{i if i > 1 else \"\"}'\n",
    "while path.exists():\n",
    "    i += 1\n",
    "    path = ctx._root / f'{ctx[\"motivation\"][\"title\"] if \"motivation\" in ctx else \"test\"}{i if i > 1 else \"\"}'\n",
    "ctx.save(path.stem if ctx.story_id is None else ctx.story_id).name"
   ],
   "metadata": {
    "collapsed": false,
    "ExecuteTime": {
     "end_time": "2023-11-29T17:08:42.536652915Z",
     "start_time": "2023-11-29T17:08:42.497634490Z"
    }
   },
   "id": "6135ec55dcfc66cb"
  },
  {
   "cell_type": "code",
   "execution_count": null,
   "outputs": [],
   "source": [],
   "metadata": {
    "collapsed": false
   },
   "id": "74283ee029cef299"
  },
  {
   "cell_type": "code",
   "execution_count": null,
   "outputs": [],
   "source": [],
   "metadata": {
    "collapsed": false
   },
   "id": "7898714478f8ecbf"
  },
  {
   "cell_type": "code",
   "execution_count": 27,
   "outputs": [],
   "source": [
    "ctx['stats'] = {int(k): v for k, v in ctx['stats'].items()}\n",
    "ctx['verbs'] = {k: {int(k2): v2 for k2, v2 in v.items()} for k, v in ctx['verbs'].items()}\n",
    "for k, v in ctx['verbs'].items():\n",
    "    for k2, v2 in v.items():\n",
    "        if 'value' in v2:\n",
    "            v2['value'] = {int(k3): v3 for k3, v3 in v2['value'].items()}\n",
    "ctx['questions']['questions'] = {int(k): v for k, v in ctx['questions']['questions'].items()}"
   ],
   "metadata": {
    "collapsed": false,
    "ExecuteTime": {
     "end_time": "2023-11-27T13:16:14.760924760Z",
     "start_time": "2023-11-27T13:16:14.681129533Z"
    }
   },
   "id": "a3ecd05075012115"
  },
  {
   "cell_type": "code",
   "execution_count": 28,
   "outputs": [],
   "source": [
    "rawverbs = ctx['verbs']\n",
    "rawvars = {node['name']: node for node in ctx['nodes']}"
   ],
   "metadata": {
    "collapsed": false,
    "ExecuteTime": {
     "end_time": "2023-11-27T13:16:16.110972483Z",
     "start_time": "2023-11-27T13:16:16.068164578Z"
    }
   },
   "id": "812ee6056e37cd92"
  },
  {
   "cell_type": "code",
   "execution_count": 29,
   "outputs": [
    {
     "name": "stdout",
     "output_type": "stream",
     "text": [
      "('ParticipationAppleAcademy', 'EmploymentRateTech', ['LocalEconCond'])\n",
      "('UnivIndustryCollab', 'EmploymentRateTech', ['LocalEconCond'])\n"
     ]
    }
   ],
   "source": [
    "print(net.backdoor_estimand(treatment1['name'], outcome['name']))\n",
    "print(net.backdoor_estimand(treatment2['name'], outcome['name']))"
   ],
   "metadata": {
    "collapsed": false,
    "ExecuteTime": {
     "end_time": "2023-11-27T13:16:16.341443207Z",
     "start_time": "2023-11-27T13:16:16.280347603Z"
    }
   },
   "id": "868f7eddeea4a0bd"
  },
  {
   "cell_type": "code",
   "execution_count": 30,
   "outputs": [
    {
     "name": "stdout",
     "output_type": "stream",
     "text": [
      "\t3. ATE('ParticipationAppleAcademy') < ATE('UnivIndustryCollab')\n",
      "{'treatment1': 'ParticipationAppleAcademy', 'treatment2': 'UnivIndustryCollab', 'query': 'ate', 'type': 'ate-compare', 'criterion': '<'}\n"
     ]
    },
    {
     "data": {
      "text/plain": "{'question': 'Is participating in the Apple Academy program more influential in increasing tech sector employment than active university-industry collaboration?',\n 'answer': 'no',\n 'explanation': 'Active university-industry collaboration tends to have a more significant impact on employment in the tech sector compared to individual participation in programs like Apple Academy.',\n 'wrong_explanation': 'Participation in the Apple Academy program is more effective in increasing employment in the tech sector compared to university-industry collaboration.'}"
     },
     "execution_count": 30,
     "metadata": {},
     "output_type": "execute_result"
    }
   ],
   "source": [
    "qkey = random.choice(list(ctx['questions']['questions']))\n",
    "qkey = 3\n",
    "qinfo = ctx['questions']['questions'][qkey]\n",
    "query = ctx['queries'][qkey-1]\n",
    "print(ctx['query_description'].split('\\n')[qkey-1])\n",
    "print(query)\n",
    "qinfo"
   ],
   "metadata": {
    "collapsed": false,
    "ExecuteTime": {
     "end_time": "2023-11-27T13:16:18.930917530Z",
     "start_time": "2023-11-27T13:16:18.890397758Z"
    }
   },
   "id": "72b12b18af21c3b0"
  },
  {
   "cell_type": "code",
   "execution_count": null,
   "outputs": [],
   "source": [
    "# 1. One of the variables is {variable}.\n",
    "# 2. We estimate {subject} [often/usually/sometimes/rarely/etc.] {value}.\n",
    "# 3. There is a [number]% chance that {value}.\n",
    "# 4. [number]% of {domain} {value}.\n",
    "# 5. [number]% of the time {value}.\n",
    "# 6. Conditional sentence: {value}, [some consequence].\n",
    "# 7. Interventional: If {value}, [some effect]."
   ],
   "metadata": {
    "collapsed": false
   },
   "id": "705ad18c9db5c863"
  },
  {
   "cell_type": "code",
   "execution_count": 63,
   "outputs": [
    {
     "data": {
      "text/plain": "{1: {'variable': ['the age of the refinery',\n   'how long the refinery has been operational']},\n 2: {'subject': 'the refinery',\n  'value': {0: ['is a new facility', 'has been recently established'],\n   1: ['has been operating for many years', 'is an older establishment']}},\n 3: {'value': {0: ['the refinery is newly built',\n    'the refinery has been recently established'],\n   1: ['the refinery is quite old',\n    'the refinery has many years of operation']}},\n 4: {'domain': 'refineries',\n  'value': {0: ['are new establishments', 'have been recently built'],\n   1: ['are older facilities', 'have been operating for many years']}},\n 5: {'value': {0: ['the refinery is a new establishment',\n    'the refinery has been recently constructed'],\n   1: ['the refinery is an old establishment',\n    'the refinery has been operating for a long time']}},\n 6: {'value': {0: ['If the refinery is newly established',\n    'In newer refineries'],\n   1: ['If the refinery has been around for many years',\n    'In older refineries']}},\n 7: {'value': {0: ['if the refinery is new',\n    'if the refinery has just started operations'],\n   1: ['if the refinery is old',\n    'if the refinery has been operating for decades']}}}"
     },
     "execution_count": 63,
     "metadata": {},
     "output_type": "execute_result"
    }
   ],
   "source": [
    "next(iter(rawverbs.values()))"
   ],
   "metadata": {
    "collapsed": false,
    "ExecuteTime": {
     "end_time": "2023-11-24T14:19:13.163194498Z",
     "start_time": "2023-11-24T14:19:13.112825244Z"
    }
   },
   "id": "945a4e8e8acb9125"
  },
  {
   "cell_type": "code",
   "execution_count": null,
   "outputs": [],
   "source": [
    "varverbs = {}\n",
    "\n",
    "for var, raw in rawverbs.items():\n",
    "    info = {'values': {0: {}, 1: {}}}\n",
    "    info0 = info['values'][0]\n",
    "    info1 = info['values'][1]\n",
    "    \n",
    "    info['variable'] = raw[1]['variable']\n",
    "    info['subject'] = raw[2]['subject']\n",
    "    info['domain'] = raw[3]['domain']\n",
    "    \n",
    "    \n",
    "    \n",
    "    for i in [0, 1]:\n",
    "        info_val = raw[2]['value'][i]\n",
    "        info_val['verb'] = raw[2]['value'][i]\n",
    "        \n",
    "\n",
    "    varverbs[var] = info"
   ],
   "metadata": {
    "collapsed": false
   },
   "id": "c9bd1232c55e1b23"
  },
  {
   "cell_type": "code",
   "execution_count": null,
   "outputs": [],
   "source": [],
   "metadata": {
    "collapsed": false
   },
   "id": "ea1fd369d89f7d18"
  },
  {
   "cell_type": "code",
   "execution_count": 62,
   "outputs": [
    {
     "data": {
      "text/plain": "{1: {'variable': ['the safety protocols in place at the refinery',\n   'how well the refinery follows safety guidelines']},\n 2: {'subject': 'the refinery',\n  'value': {0: ['lacks adequate safety protocols',\n    'has insufficient safety measures'],\n   1: ['maintains adequate safety protocols', 'has robust safety measures']}},\n 3: {'value': {0: ['safety protocols are inadequate',\n    'safety measures are not up to standard'],\n   1: ['safety protocols are thoroughly implemented',\n    'safety measures are comprehensive']}},\n 4: {'domain': 'refineries',\n  'value': {0: ['lack adequate safety measures',\n    'do not follow safety guidelines properly'],\n   1: ['have robust safety protocols',\n    'adhere strictly to safety guidelines']}},\n 5: {'value': {0: ['safety protocols are not followed properly',\n    'safety measures are neglected'],\n   1: ['safety protocols are strictly followed',\n    'safety measures are taken seriously']}},\n 6: {'value': {0: ['If safety protocols are lacking',\n    'In refineries with insufficient safety measures'],\n   1: ['When safety protocols are adequate',\n    'In refineries with comprehensive safety measures']}},\n 7: {'value': {0: ['if safety protocols are not followed',\n    'if safety measures are inadequate'],\n   1: ['if safety protocols are well implemented',\n    'if the refinery has strong safety measures']}}}"
     },
     "execution_count": 62,
     "metadata": {},
     "output_type": "execute_result"
    }
   ],
   "source": [
    "rawverbs[treatment1['name']]"
   ],
   "metadata": {
    "collapsed": false,
    "ExecuteTime": {
     "end_time": "2023-11-24T14:18:20.480701735Z",
     "start_time": "2023-11-24T14:18:20.433803517Z"
    }
   },
   "id": "197ea0866e2c44d3"
  },
  {
   "cell_type": "code",
   "execution_count": 28,
   "outputs": [
    {
     "data": {
      "text/plain": "{'1': {'variable': ['public support for the climate bill',\n   \"the climate bill's popularity\"]},\n '2': {'subject': 'the climate bill',\n  'value': {'0': ['lacks public support', 'is unpopular among the public'],\n   '1': ['enjoys high public support', 'is popular among the public']}},\n '3': {'value': {'0': ['there is little public backing for the climate bill',\n    'the climate bill is not popular'],\n   '1': ['there is strong public support for the climate bill',\n    'the climate bill is popular']}},\n '4': {'domain': 'public opinions',\n  'value': {'0': ['do not favor the climate bill',\n    'show disapproval of the climate bill'],\n   '1': ['favor the climate bill', 'show approval of the climate bill']}},\n '5': {'value': {'0': ['the climate bill struggles to gain public support',\n    'the climate bill faces public disapproval'],\n   '1': ['the climate bill wins public support',\n    'the climate bill is well-received by the public']}},\n '6': {'value': {'0': ['If public support for the climate bill is lacking',\n    'When the climate bill is unpopular'],\n   '1': ['If public support for the climate bill is strong',\n    'When the climate bill is popular']}},\n '7': {'value': {'0': ['if the climate bill fails to gain public support',\n    'if the climate bill is unpopular'],\n   '1': ['if the climate bill garners strong public support',\n    'if the climate bill is popular']}}}"
     },
     "execution_count": 28,
     "metadata": {},
     "output_type": "execute_result"
    }
   ],
   "source": [
    "rawverbs[outcome['name']]"
   ],
   "metadata": {
    "collapsed": false,
    "ExecuteTime": {
     "end_time": "2023-11-23T14:30:57.291253900Z",
     "start_time": "2023-11-23T14:30:57.244182100Z"
    }
   },
   "id": "327e8784efac4364"
  },
  {
   "cell_type": "code",
   "execution_count": null,
   "outputs": [],
   "source": [],
   "metadata": {
    "collapsed": false
   },
   "id": "f825d25d6d6b085e"
  },
  {
   "cell_type": "code",
   "execution_count": null,
   "outputs": [],
   "source": [
    "example_tmpl = '{subject} often {value}.'"
   ],
   "metadata": {
    "collapsed": false
   },
   "id": "94ae67d265970696"
  },
  {
   "cell_type": "code",
   "execution_count": 35,
   "outputs": [
    {
     "data": {
      "text/plain": "{'Presidential Engagement in Climate Discussions': {'1': {'variable': ['presidential involvement in climate talks',\n    \"the president's active participation in climate discussions\"]},\n  '2': {'subject': 'the president',\n   'value': {'0': ['is not involved in climate discussions',\n     'does not engage in climate talks'],\n    '1': ['actively participates in climate discussions',\n     'is deeply involved in climate talks']}},\n  '3': {'value': {'0': ['the president is not engaged in climate talks',\n     'there is no presidential involvement in climate discussions'],\n    '1': ['the president is actively engaged in climate talks',\n     'there is direct presidential involvement in climate discussions']}},\n  '4': {'domain': 'instances of climate discussions',\n   'value': {'0': ['do not include presidential engagement',\n     \"lack the president's involvement\"],\n    '1': ['include active presidential participation',\n     \"feature the president's active involvement\"]}},\n  '5': {'value': {'0': ['the president stays out of climate discussions',\n     \"there's no presidential involvement in climate talks\"],\n    '1': ['the president is actively engaged in climate discussions',\n     'presidential involvement in climate talks is evident']}},\n  '6': {'value': {'0': ['Without presidential engagement in climate talks',\n     \"In the absence of the president's involvement in climate discussions\"],\n    '1': ['With the president actively participating in climate discussions',\n     'When the president is involved in climate talks']}},\n  '7': {'value': {'0': ['if the president does not engage in climate discussions',\n     'if there is no presidential involvement in climate talks'],\n    '1': ['if the president actively participates in climate discussions',\n     'if there is direct presidential involvement in climate talks']}}},\n 'Media Coverage of Climate Issues': {'1': {'variable': ['media coverage of climate issues',\n    'reporting on climate matters']},\n  '2': {'subject': 'media outlets',\n   'value': {'0': ['provide limited or negative coverage of climate issues',\n     'report negatively on climate matters'],\n    '1': ['offer extensive and positive coverage of climate issues',\n     'report positively on climate matters']}},\n  '3': {'value': {'0': ['coverage of climate issues is limited or negative',\n     'reporting on climate matters is predominantly negative'],\n    '1': ['coverage of climate issues is extensive and positive',\n     'reporting on climate matters is predominantly positive']}},\n  '4': {'domain': 'reports on climate issues',\n   'value': {'0': ['are limited or negative',\n     'portray climate matters negatively'],\n    '1': ['are extensive and positive',\n     'portray climate matters positively']}},\n  '5': {'value': {'0': ['media coverage of climate issues is limited or negative',\n     'climate matters are reported negatively'],\n    '1': ['media coverage of climate issues is extensive and positive',\n     'climate matters are reported positively']}},\n  '6': {'value': {'0': ['When media coverage of climate issues is limited or negative',\n     'If climate matters are reported negatively'],\n    '1': ['When media coverage of climate issues is extensive and positive',\n     'If climate matters are reported positively']}},\n  '7': {'value': {'0': ['if media coverage of climate issues is limited or negative',\n     'if climate matters are reported negatively'],\n    '1': ['if media coverage of climate issues is extensive and positive',\n     'if climate matters are reported positively']}}},\n 'Content of Climate Bill': {'1': {'variable': ['perception of the climate bill',\n    'public view of the climate legislation']},\n  '2': {'subject': 'the climate bill',\n   'value': {'0': ['is perceived as ineffective or unfavorable',\n     'garners criticism'],\n    '1': ['is seen as effective and favorable', 'receives praise']}},\n  '3': {'value': {'0': ['the climate bill is viewed unfavorably',\n     'the legislation is considered ineffective'],\n    '1': ['the climate bill is favored',\n     'the legislation is seen as effective']}},\n  '4': {'domain': 'responses to the climate bill',\n   'value': {'0': ['are negative or critical', 'indicate dissatisfaction'],\n    '1': ['are positive or approving', 'indicate support']}},\n  '5': {'value': {'0': ['the climate bill is often criticized',\n     'the legislation faces disapproval'],\n    '1': ['the climate bill is often praised',\n     'the legislation is well-received']}},\n  '6': {'value': {'0': ['If the climate bill is perceived as ineffective',\n     'When the legislation is viewed unfavorably'],\n    '1': ['If the climate bill is seen as effective',\n     'When the legislation is viewed favorably']}},\n  '7': {'value': {'0': ['if the climate bill is criticized',\n     'if the legislation is seen as ineffective'],\n    '1': ['if the climate bill is praised',\n     'if the legislation is seen as effective']}}},\n 'Perceived Credibility of the President': {'1': {'variable': [\"the president's credibility\",\n    'public trust in the president']},\n  '2': {'subject': 'the president',\n   'value': {'0': ['is viewed as having low credibility',\n     'suffers from a lack of public trust'],\n    '1': ['is seen as highly credible',\n     'enjoys a high level of public trust']}},\n  '3': {'value': {'0': ['the president is perceived to have low credibility',\n     'public trust in the president is low'],\n    '1': ['the president is perceived to be highly credible',\n     'public trust in the president is high']}},\n  '4': {'domain': 'public opinions',\n   'value': {'0': ['reflect low credibility for the president',\n     'show a lack of trust in the president'],\n    '1': ['reflect high credibility for the president',\n     'show a high level of trust in the president']}},\n  '5': {'value': {'0': [\"the president's credibility is questioned\",\n     \"there's a notable lack of trust in the president\"],\n    '1': [\"the president's credibility is affirmed\",\n     \"there's a strong level of trust in the president\"]}},\n  '6': {'value': {'0': [\"When the president's credibility is low\",\n     'If public trust in the president is lacking'],\n    '1': [\"When the president's credibility is high\",\n     'If public trust in the president is strong']}},\n  '7': {'value': {'0': ['if the president is seen as lacking credibility',\n     'if public trust in the president is low'],\n    '1': ['if the president is seen as highly credible',\n     'if public trust in the president is high']}}},\n 'Public Support for Climate Bill': {'1': {'variable': ['public support for the climate bill',\n    \"the climate bill's popularity\"]},\n  '2': {'subject': 'the climate bill',\n   'value': {'0': ['lacks public support', 'is unpopular among the public'],\n    '1': ['enjoys high public support', 'is popular among the public']}},\n  '3': {'value': {'0': ['there is little public backing for the climate bill',\n     'the climate bill is not popular'],\n    '1': ['there is strong public support for the climate bill',\n     'the climate bill is popular']}},\n  '4': {'domain': 'public opinions',\n   'value': {'0': ['do not favor the climate bill',\n     'show disapproval of the climate bill'],\n    '1': ['favor the climate bill', 'show approval of the climate bill']}},\n  '5': {'value': {'0': ['the climate bill struggles to gain public support',\n     'the climate bill faces public disapproval'],\n    '1': ['the climate bill wins public support',\n     'the climate bill is well-received by the public']}},\n  '6': {'value': {'0': ['If public support for the climate bill is lacking',\n     'When the climate bill is unpopular'],\n    '1': ['If public support for the climate bill is strong',\n     'When the climate bill is popular']}},\n  '7': {'value': {'0': ['if the climate bill fails to gain public support',\n     'if the climate bill is unpopular'],\n    '1': ['if the climate bill garners strong public support',\n     'if the climate bill is popular']}}},\n \"Government's Overall Approval Rating\": {'1': {'variable': [\"the government's overall approval rating\",\n    \"the public's general approval of the government\"]},\n  '2': {'subject': 'the government',\n   'value': {'0': ['has a low approval rating',\n     'is not widely approved by the public'],\n    '1': ['enjoys a high approval rating',\n     'is broadly approved by the public']}},\n  '3': {'value': {'0': ['the government has a low approval rating',\n     'the public does not widely approve the government'],\n    '1': ['the government enjoys a high approval rating',\n     'the public broadly approves the government']}},\n  '4': {'domain': 'citizens',\n   'value': {'0': ['do not approve of the government',\n     'have a low opinion of the government'],\n    '1': ['approve of the government',\n     'have a high opinion of the government']}},\n  '5': {'value': {'0': [\"the government's approval rating is low\",\n     'public approval of the government is low'],\n    '1': [\"the government's approval rating is high\",\n     'public approval of the government is high']}},\n  '6': {'value': {'0': ['With a low approval rating for the government',\n     'When the government is not widely approved'],\n    '1': ['With a high approval rating for the government',\n     'When the government is broadly approved']}},\n  '7': {'value': {'0': [\"if the government's approval rating remains low\",\n     'if the public continues to disapprove the government'],\n    '1': [\"if the government's approval rating increases\",\n     \"if the public's approval of the government rises\"]}}}}"
     },
     "execution_count": 35,
     "metadata": {},
     "output_type": "execute_result"
    }
   ],
   "source": [
    "rawverbs"
   ],
   "metadata": {
    "collapsed": false,
    "ExecuteTime": {
     "end_time": "2023-11-23T14:45:57.525295500Z",
     "start_time": "2023-11-23T14:45:57.415375400Z"
    }
   },
   "id": "72cc0b2d090e4021"
  },
  {
   "cell_type": "code",
   "execution_count": 80,
   "outputs": [
    {
     "name": "stdout",
     "output_type": "stream",
     "text": [
      "We have a news article headline, and we would like to identify a potential specific analysis that could be motivated by the article. Importantly, we would like specific details to be mentioned in the setting, even if they don't show up in the original article, to paint a vivid picture of the motivation and potential features of the data.\n",
      "\n",
      "Here is the article headline:\n",
      "\n",
      "```\n",
      "Title: Inside the race to keep secrets safe from the quantum computing revolution - Telegraph.co.uk\n",
      "Description: Start-ups are taking part in a global competition to upgrade encryption to fend off the quantum computing threat\n",
      "Original Language: English\n",
      "```\n",
      "\n",
      "Write a 2-3 sentence introduction to a statistical analysis that could be motivated by this article. Be sure to include specific details about the data that would be used and the analysis that would be performed. You do not need to write the entire analysis, just the introduction. Avoid using any technical jargon (such as words like \"statistical analysis\" or \"model\" and avoid starting with \"imagine\") and make sure the introduction is accessible to laypeople (albeit in a professional setting), and the motivation is clear. Imagine a casual conversation between friends or colleagues about the article that may prompt some deeper quantitative analysis when thinking about it, and make sure this introduction would sound understandable and interesting to them.\n",
      "\n",
      "Answer in the form of a json dictionary with two entries: one for the `introduction` and one for a proposed `title` for this specific setting that can serve as a file name.\n"
     ]
    }
   ],
   "source": [
    "prompt = FileTemplate('motivation').fill_in(ctx)\n",
    "print(prompt)"
   ],
   "metadata": {
    "collapsed": false,
    "ExecuteTime": {
     "end_time": "2023-11-29T09:37:28.669484533Z",
     "start_time": "2023-11-29T09:37:28.601758308Z"
    }
   },
   "id": "a184ee6bd0f946e0"
  },
  {
   "cell_type": "code",
   "execution_count": 77,
   "outputs": [
    {
     "data": {
      "text/plain": "{'introduction': \"Imagine we're tracking a high-stakes race where companies around the world are scrambling to make their secrets quantum-proof. We'd gather data on how different start-ups are updating their encryption methods, noting things like the type of technology they're using, their progress speed, and the investments they're receiving. By looking at these pieces, we can understand who's leading in this crucial tech shift and what strategies are proving most effective.\",\n 'proposed_title': 'QuantumLeap_EncryptionRace'}"
     },
     "execution_count": 77,
     "metadata": {},
     "output_type": "execute_result"
    }
   ],
   "source": [
    "{\n",
    "  \"introduction\": \"With the rise of quantum computing posing a real challenge to current encryption methods, there's a fascinating question about how prepared different tech companies are for this change. By examining the patterns in investments made by these companies into quantum-safe technologies, we can get a sense of who's leading and who might be lagging in this race. This exploration would involve looking at the amount and types of investments over the past few years, delving into the sectors these companies belong to, and assessing their geographical distribution.\",\n",
    "  \"title\": \"Quantum_Leap_In_Encryption_Preparedness\"\n",
    "}\n"
   ],
   "metadata": {
    "collapsed": false,
    "ExecuteTime": {
     "end_time": "2023-11-29T09:23:05.923149087Z",
     "start_time": "2023-11-29T09:23:05.842205680Z"
    }
   },
   "id": "bcd5027970a8295e"
  },
  {
   "cell_type": "code",
   "execution_count": null,
   "outputs": [],
   "source": [
    "\n",
    "# For example, if the article is about some political decision or issue in the economy, then we can imagine using that article (and some implied associated data) to analyze how some specific company should adjust investments or how some associated economic indicator will change. \n"
   ],
   "metadata": {
    "collapsed": false
   },
   "id": "2ec237388a7f8626"
  },
  {
   "cell_type": "code",
   "execution_count": null,
   "outputs": [],
   "source": [],
   "metadata": {
    "collapsed": false
   },
   "id": "7094e0f316209b1"
  },
  {
   "cell_type": "code",
   "execution_count": null,
   "outputs": [],
   "source": [
    "ctx.include(get_verbalization_info);\n",
    "verb_prompt_template = '''We would like to find very natural verbalizations of the following binary variables selected from a statistical model. The verbalizations should sound more natural and organic, so that you could imagine them being used in a news paper article or casual conversation, while still being semantically equivalent to the original variable and value.\n",
    "\n",
    "Here are the templates that we use to verbalize the variables:\n",
    "\n",
    "1. {{subject}} [often/usually/sometimes/rarely/etc.] {{value}}.\n",
    "2. There is a [number]% chance that {{value}}.\n",
    "3. [number]% of {{domain}} {{value}}.\n",
    "4. [number]% of the time {{value}}.\n",
    "5. Conditional sentence: {{value}}, [some consequence].\n",
    "6. Interventional: If {{value}}, [some effect].\n",
    "\n",
    "{variable_description}\n",
    "\n",
    "Here are some examples of verbalizations of the variable. For each of the templates fill in the blanks (and include 2-3 examples for each template). Format your response as a python dictionary. For example, a variable \"Smoking Rate\" which takes the values \"Low Smoking Rate\" and \"High Smoking Rate\" can be verbalized like this:\n",
    "\n",
    "```python\n",
    "verbalizations = {{\n",
    "  \"Smoking Rate\": {{\n",
    "    \"Low Smoking Rate\": {{\n",
    "      1: {{\"subject\": \"people\", \"value\": [\"do not smoke\", \"are non-smokers\"]}},\n",
    "      2: {{\"value\": [\"a person does not smoke\", \"people are non-smokers\"]}}, \n",
    "      3: {{\"domain\": \"people\", \"value\": [\"do not smoke\", \"are non-smokers\"]}}, \n",
    "      4: {{\"value\": [\"people do not smoke\", \"people are non-smokers\"]}},\n",
    "      5: {{\"value\": [\"For people that do not smoke\", \"Among non-smokers\"]}}, \n",
    "      6: {{\"value\": [\"the smoking rate is decreased\", \"people stop smoking\"]}},\n",
    "    }},\n",
    "    \"High Smoking Rate\": {{\n",
    "      ...\n",
    "    }}\n",
    "  }},\n",
    "  ...\n",
    "}}\n",
    "```\n",
    "\n",
    "Answer concisely and precisely in the desired format, and only replace the blanks in curly braces. Do not add any additional comments or discussion. Most importantly, the verbalizations should not contain quantitative information like \"often\" or \"rarely\", and instead always assert the corresponding value.'''\n",
    "\n",
    "tmpl = FixedTemplate('verb_prompt', verb_prompt_template)\n",
    "ctx.include(tmpl,);\n",
    "print(ctx['verb_prompt'])"
   ],
   "metadata": {
    "collapsed": false
   },
   "id": "edee3643d33fc5b7"
  },
  {
   "cell_type": "code",
   "execution_count": 29,
   "outputs": [],
   "source": [
    "# # ate1_template = '{ate1:.3f} = ATE({{treatments}[0][\"name\"]!r}) = P({{outcome}[\"name\"]!r}={{outcome}[\"values\"][1]!r} | do({{treatments}[0][\"name\"]!r}={{treatments}[0][\"values\"][1]!r})) - P({{outcome}[\"name\"]!r}={{outcome}[\"values\"][1]!r} | do({{treatments}[0][\"name\"]!r}={{treatments}[0][\"values\"][0]!r}))'\n",
    "# # ate2_template = '{ate2:.3f} = ATE({{treatments}[1][\"name\"]!r}) = P({{outcome}[\"name\"]!r}={{outcome}[\"values\"][1]!r} | do({{treatments}[1][\"name\"]!r}={{treatments}[1][\"values\"][1]!r})) - P({{outcome}[\"name\"]!r}={{outcome}[\"values\"][1]!r} | do({{treatments}[1][\"name\"]!r}={{treatments}[1][\"values\"][0]!r}))'\n",
    "# ate_tmpl = '{val:.3f} = ATE({treatment!r}) = E({outcome!r} | do({treatment!r}=1)) - E({outcome!r} | do({treatment!r}=0))'\n",
    "# cate_tmpl = ('{val:.3f} = CATE({treatment!r} | {confounder!r}={cval}) = '\n",
    "#              'E[{outcome!r} | {confounder!r}={cval}, do({treatment!r}=1)] - E[{outcome!r} | {confounder!r}={cval}, do({treatment!r}=0)]')\n",
    "# for treatment, ate in [(treatment1, ate1.mean().item()), (treatment2, ate2.mean().item())]:\n",
    "#     print(SimpleTemplater(ate_tmpl).fill_in({}, treatment=treatment, outcome=outcome, val=ate))\n",
    "# for (treatment, confounder, cval), cate in zip(*[cate_keys, cates]):\n",
    "#     print(SimpleTemplater(cate_tmpl).fill_in({}, treatment=treatment, outcome=outcome, confounder=confounder, cval=cval, val=cate.mean().item()))"
   ],
   "metadata": {
    "collapsed": false,
    "ExecuteTime": {
     "end_time": "2023-11-17T13:11:02.565115226Z",
     "start_time": "2023-11-17T13:11:00.597492931Z"
    }
   },
   "id": "7faa4f69f3367c76"
  },
  {
   "cell_type": "code",
   "execution_count": 44,
   "outputs": [],
   "source": [
    "#######################################################################\n",
    "\n",
    "setting = {\n",
    "    \"introduction\": \"In light of the new decree by Prime Minister Giuseppe Conte, introducing a curfew in regions like Lombardy and Piedmont, it's crucial to understand how such decisions affect public health and behavior. This understanding can help in assessing the effectiveness of such measures and their impact on society.\",\n",
    "    \"overview\": \"Our approach looks at how different factors like the curfew enforcement, public response, and healthcare capacity interplay with each other. It's like a web, where pulling one strand can cause movement in another, and we try to understand these relationships, like how public compliance might be influenced by the curfew or how all these affect public health.\",\n",
    "    \"questions\": {\n",
    "        1: {\"question\": \"Does implementing a curfew generally lead to better public health outcomes?\", \"answer\": \"yes\", \"explanation\": \"Implementing a curfew is likely to have a positive effect on public health by controlling the situation that necessitated the curfew.\", \"wrong_explanation\": \"Implementing a curfew might not significantly impact public health, as other factors could play a more dominant role.\"},\n",
    "        2: {\"question\": \"Is public non-compliance with a curfew typically associated with better public health outcomes?\", \"answer\": \"no\", \"explanation\": \"Public non-compliance with a curfew is generally not expected to contribute positively to public health outcomes.\", \"wrong_explanation\": \"Public non-compliance might actually lead to better public health outcomes as it indicates normalcy and lesser public panic.\"},\n",
    "        3: {\"question\": \"Is the positive impact on public health greater when a curfew is implemented than when the public complies with it?\", \"answer\": \"yes\", \"explanation\": \"The direct enforcement of a curfew is likely to have a stronger positive impact on public health than the variable level of public compliance.\", \"wrong_explanation\": \"Public compliance with the curfew could have a greater positive impact on public health than the mere implementation of the curfew.\"},\n",
    "        4: {\"question\": \"Do both the implementation of a curfew and the lack of public compliance have a combined negative effect on public health?\", \"answer\": \"no\", \"explanation\": \"While the lack of public compliance might negatively affect public health, the implementation of a curfew is expected to have a positive impact, which does not result in a combined negative effect.\", \"wrong_explanation\": \"The negative impacts of both non-compliance and curfew implementation may combine to deteriorate public health.\"},\n",
    "        5: {\"question\": \"In regions with high healthcare capacity, does implementing a curfew have a positive impact on public health?\", \"answer\": \"yes\", \"explanation\": \"In areas with strong healthcare systems, the implementation of a curfew is likely to further bolster public health outcomes.\", \"wrong_explanation\": \"Even in regions with high healthcare capacity, a curfew might not significantly improve public health outcomes.\"},\n",
    "        6: {\"question\": \"In regions with low healthcare capacity, does implementing a curfew have a positive impact on public health?\", \"answer\": \"yes\", \"explanation\": \"In regions where healthcare resources are limited, implementing a curfew can be crucial in preventing the overburdening of the healthcare system.\", \"wrong_explanation\": \"A curfew might not be as effective in regions with low healthcare capacity due to the already strained resources.\"},\n",
    "        7: {\"question\": \"In regions with high healthcare capacity, does high public compliance with the curfew lead to worse public health outcomes?\", \"answer\": \"no\", \"explanation\": \"In areas with ample healthcare resources, high public compliance with a curfew is expected to support or maintain good public health outcomes.\", \"wrong_explanation\": \"High compliance in regions with strong healthcare systems might lead to negative public health outcomes due to over-cautious behavior.\"},\n",
    "        8: {\"question\": \"In regions with low healthcare capacity, does high public compliance with the curfew lead to better public health outcomes?\", \"answer\": \"yes\", \"explanation\": \"In areas with limited healthcare resources, high compliance with curfew measures can play a critical role in maintaining or improving public health outcomes.\", \"wrong_explanation\": \"High public compliance in regions with low healthcare capacity might not significantly improve public health outcomes.\"},\n",
    "        9: {\"question\": \"Is the positive impact on public health of implementing a curfew greater in regions with low healthcare capacity compared to those with high capacity?\", \"answer\": \"no\", \"explanation\": \"The positive impact of a curfew is likely significant in both scenarios but not necessarily greater in regions with lower healthcare capacity.\", \"wrong_explanation\": \"Implementing a curfew in regions with low healthcare capacity might have a greater positive impact on public health compared to regions with high healthcare capacity.\"},\n",
    "        10: {\"question\": \"Does high public compliance with the curfew lead to better public health outcomes in regions with high healthcare capacity compared to those with low capacity?\", \"answer\": \"yes\", \"explanation\": \"High compliance in regions with strong healthcare infrastructure likely results in more pronounced improvements in public health compared to regions with weaker healthcare systems.\", \"wrong_explanation\": \"The impact of high public compliance on public health might be greater in regions with low healthcare capacity.\"},\n",
    "        11: {\"question\": \"Is the positive impact on public health from implementing a curfew less in regions with high healthcare capacity than the impact of high public compliance in these regions?\", \"answer\": \"no\", \"explanation\": \"The implementation of a curfew is likely to have a significant positive impact on public health, potentially more so than the variable of public compliance, even in regions with high healthcare capacity.\", \"wrong_explanation\": \"In regions with high healthcare capacity, the impact of public compliance might be more significant for public health than the implementation of a curfew.\"},\n",
    "        12: {\"question\": \"Is the positive impact on public health from implementing a curfew less in regions with low healthcare capacity than the impact of high public compliance in these regions?\", \"answer\": \"yes\", \"explanation\": \"In regions with low healthcare capacity, the impact of high public compliance might be more crucial for public health than the mere implementation of a curfew.\", \"wrong_explanation\": \"Implementing a curfew in regions with low healthcare capacity is likely to have a greater positive impact on public health than high public compliance.\"}\n",
    "    },\n",
    "}\n",
    "\n",
    "\n",
    "\n",
    "#######################################################################\n",
    "ctx['setting'] = setting"
   ],
   "metadata": {
    "collapsed": false,
    "ExecuteTime": {
     "end_time": "2023-11-22T13:20:35.178557424Z",
     "start_time": "2023-11-22T13:20:35.089786551Z"
    }
   },
   "id": "47eb0d3ae6db4f3a"
  },
  {
   "cell_type": "code",
   "execution_count": null,
   "outputs": [],
   "source": [],
   "metadata": {
    "collapsed": false
   },
   "id": "29df5bbe5c120f68"
  },
  {
   "cell_type": "markdown",
   "source": [
    "# Save Story"
   ],
   "metadata": {
    "collapsed": false
   },
   "id": "5fb83cc089e9a915"
  },
  {
   "cell_type": "code",
   "execution_count": null,
   "outputs": [],
   "source": [],
   "metadata": {
    "collapsed": false
   },
   "id": "cbc87bb6935393"
  },
  {
   "cell_type": "code",
   "execution_count": null,
   "outputs": [],
   "source": [],
   "metadata": {
    "collapsed": false
   },
   "id": "e46308cbcd5d5d8d"
  },
  {
   "cell_type": "code",
   "execution_count": null,
   "outputs": [],
   "source": [],
   "metadata": {
    "collapsed": false
   },
   "id": "76dd431ae7bde9"
  },
  {
   "cell_type": "code",
   "execution_count": null,
   "outputs": [],
   "source": [],
   "metadata": {
    "collapsed": false
   },
   "id": "2eff1eb58588c15"
  },
  {
   "cell_type": "code",
   "execution_count": 59,
   "outputs": [],
   "source": [
    "import nltk\n",
    "from nltk import word_tokenize, pos_tag, ne_chunk\n",
    "from nltk.stem import WordNetLemmatizer\n",
    "from nltk.corpus import stopwords\n",
    "from rake_nltk import Rake\n",
    "import spacy\n",
    "import random"
   ],
   "metadata": {
    "collapsed": false
   },
   "id": "c45e6c65749794d3"
  },
  {
   "cell_type": "code",
   "execution_count": 61,
   "outputs": [
    {
     "data": {
      "text/plain": "24",
      "image/png": "[encoded data removed]",
      "text/latex": "$\\displaystyle 24$"
     },
     "execution_count": 61,
     "metadata": {},
     "output_type": "execute_result"
    }
   ],
   "source": [
    "example_texts = [val for var in raw_verbalization.values() for varval in var.values() for val in varval[4]['value']]\n",
    "len(example_texts)"
   ],
   "metadata": {
    "collapsed": false
   },
   "id": "173c691818cfe5b8"
  },
  {
   "cell_type": "code",
   "execution_count": 53,
   "outputs": [],
   "source": [
    "stop_words = set(stopwords.words('english'))\n",
    "stop_words.update(\"'s\", '|', 'I', \"n't\", \"`s\", \"'s\", 'n`t')\n",
    "\n",
    "nlp = spacy.load('en_core_web_md')\n",
    "\n"
   ],
   "metadata": {
    "collapsed": false
   },
   "id": "df2fb4ad34998003"
  },
  {
   "cell_type": "code",
   "execution_count": 79,
   "outputs": [
    {
     "name": "stdout",
     "output_type": "stream",
     "text": [
      "there is widespread healthcare availability in Moscow\n",
      "None None\n",
      "['widespread healthcare availability', 'Moscow']\n"
     ]
    }
   ],
   "source": [
    "text = \"Covid-19 mortality rate is high\"\n",
    "text = random.choice(example_texts)\n",
    "print(text)\n",
    "doc = nlp(text)\n",
    "subject, verb = None, None\n",
    "for token in doc:\n",
    "    if \"subj\" in token.dep_:\n",
    "        subject = token.text\n",
    "    # if \"VERB\" in token.pos_:\n",
    "    #     verb = token.text\n",
    "print(subject, verb)\n",
    "noun_phrases = [chunk.text for chunk in doc.noun_chunks]\n",
    "print(noun_phrases)"
   ],
   "metadata": {
    "collapsed": false,
    "ExecuteTime": {
     "end_time": "2023-11-21T13:58:08.296988112Z",
     "start_time": "2023-11-21T13:58:08.252502195Z"
    }
   },
   "id": "63e7dbde8cca2751"
  },
  {
   "cell_type": "code",
   "execution_count": null,
   "outputs": [],
   "source": [],
   "metadata": {
    "collapsed": false
   },
   "id": "fece4c4d70ada148"
  },
  {
   "cell_type": "code",
   "execution_count": null,
   "outputs": [],
   "source": [],
   "metadata": {
    "collapsed": false
   },
   "id": "e2a80b1279cd7a8f"
  },
  {
   "cell_type": "code",
   "execution_count": null,
   "outputs": [],
   "source": [],
   "metadata": {
    "collapsed": false
   },
   "id": "e2ead53bd9f0d663"
  },
  {
   "cell_type": "code",
   "execution_count": null,
   "outputs": [],
   "source": [],
   "metadata": {
    "collapsed": false
   },
   "id": "dec8a389b45661b3"
  },
  {
   "cell_type": "code",
   "execution_count": 21,
   "outputs": [],
   "source": [
    "old_prompt_template = '''We have a causal bayes net based on the following article:\n",
    "\n",
    "```\n",
    "{spark}\n",
    "```\n",
    "\n",
    "And, for additional context, here are the variables and their descriptions:\n",
    "\n",
    "{descriptions}\n",
    "\n",
    "Now we would like to verbalize the description of some evidence. For each set of questions, fill in the blank and then for each possible descriptor of the probability, provide a reasonable quantitative estimate for the lower and upper bounds of the probability that would be implied by that evidence if the variable took on the value corresponding to 1. Note that your estimates for each descriptor should conform to common sense and reflect the meaning of the variable taking on the value corresponding to 1.\n",
    "\n",
    "For example, if the question is:\n",
    "\n",
    "Evidence template: \"The probability of _ is {descriptor}.\"\n",
    "With these descriptors: ['low', 'high', 'very high']\n",
    "\n",
    "1. \"Tax Rate\" can either be 0=\"Decreased\" or 1=\"Increased\".\n",
    "2. \"Vaccination Status\" can either be 0=\"Not Vaccinated\" or 1=\"Vaccinated\".\n",
    "...\n",
    "\n",
    "You should answer in the following format:\n",
    "\n",
    "```python\n",
    "evidence = {{\n",
    "  1: {{'blank': {{'Decreased': 'decreased taxes', 'Increased': 'increased taxes'}} 'implications': {{'low': [0.2, 0.4], 'high': [0.6, 0.8], 'very high': [0.8, 0.9]}}}},\n",
    "  2: {{'blank': {{'Not Vaccinated': 'not being vaccinated', 'Vaccinated': 'being vaccinated'}} 'implications': {{'low': [0.3, 0.5], 'high': [0.7, 0.9], 'very high': [0.85, 0.99]}}}},\n",
    "  ...\n",
    "}}\n",
    "```\n",
    "\n",
    "Here are the questions:\n",
    "\n",
    "Evidence template: \"The probability of _ is {descriptor}.\"\n",
    "With these descriptors: {descriptors}\n",
    "\n",
    "{questions}\n",
    "\n",
    "Answer all the questions in order, concisely, and precisely in the desired format, without any additional comments or discussion.\n",
    "'''\n",
    "\n",
    "prompt_template = '''We have a causal bayes net based on the following article:\n",
    "\n",
    "```\n",
    "{spark}\n",
    "```\n",
    "\n",
    "And, for additional context, here are the variables and their descriptions:\n",
    "\n",
    "{descriptions}\n",
    "\n",
    "Now we would like to verbalize the description of some evidence using a few templates. For each template and variable, fill in the blank and then for each possible value the variable can take. Always use the present tense and make sure to use simple but precise language so the evidence can be communicated clearly. Also, only fill in the templates that make sense for the variable values.\n",
    "\n",
    "For example, if the question is:\n",
    "\n",
    "Template A: \"The probability of {variable} is high.\"\n",
    "Template B: \"{variable} often.\"\n",
    "Template C: \"It is likely that {variable}.\"\n",
    "Template D: \"Few {subject} {variable}.\"\n",
    "\n",
    "1. \"Tax Rate\": [\"Decreased\", \"Increased\"]\n",
    "2. \"Vaccination Status\": [\"Not Vaccinated\", \"Vaccinated\"]\n",
    "...\n",
    "\n",
    "You should answer in the following format:\n",
    "\n",
    "```python\n",
    "evidence = {{\n",
    "  1: {{'A': {{'variable': ['decreased taxes', 'increased taxes']}},\n",
    "       'B': {{'variable': ['taxes are decreased', 'taxes are increased']}},\n",
    "       'C': {{'variable': ['taxes are decreased', 'taxes are increased']}},\n",
    "       'D': {{'subject': [], 'variable': ['taxes are decreased', 'taxes are increased']}}}},\n",
    "  }},\n",
    "  2: {{'variable': {{'Not Vaccinated': 'not being vaccinated', 'Vaccinated': 'being vaccinated'}}}},\n",
    "  ...\n",
    "}}\n",
    "```\n",
    "\n",
    "Here are the questions:\n",
    "\n",
    "Evidence template: \"The probability of _ is {descriptor}.\"\n",
    "With these descriptors: {descriptors}\n",
    "\n",
    "{questions}\n",
    "\n",
    "Answer all the questions in order, concisely, and precisely in the desired format, without any additional comments or discussion.\n",
    "'''\n",
    "\n",
    "q_template = '{i}. \"{variable}\" can either be 0=\"{value}\" or 1=\"{othervalue}\".'\n",
    "\n",
    "verbs = [\n",
    "    'very low', 'low', 'moderate', 'high', 'very high',\n",
    "    # 'extremely small', 'small', 'large', 'extremely large',\n",
    "    'significant', 'negligible', 'substantial', 'insignificant', 'considerable',\n",
    "    # 'improbable', 'likely', 'probable', 'unlikely', 'certain',\n",
    "]"
   ],
   "metadata": {
    "collapsed": false,
    "ExecuteTime": {
     "end_time": "2023-11-19T15:58:07.180931606Z",
     "start_time": "2023-11-19T15:58:07.135552858Z"
    }
   },
   "id": "bf9d27a21b2ff726"
  },
  {
   "cell_type": "code",
   "execution_count": 22,
   "outputs": [],
   "source": [
    "nodes = ctx['nodes']\n",
    "qlines = []\n",
    "i = 1\n",
    "for node in nodes:\n",
    "    v0, v1 = node['values']\n",
    "    qlines.append(q_template.format(i=i, variable=node['name'], value=v1, othervalue=v0))\n",
    "    i += 1\n",
    "questions = '\\n'.join(qlines)"
   ],
   "metadata": {
    "collapsed": false,
    "ExecuteTime": {
     "end_time": "2023-11-19T15:58:08.750511902Z",
     "start_time": "2023-11-19T15:58:08.732077429Z"
    }
   },
   "id": "949e58680c1eb438"
  },
  {
   "cell_type": "code",
   "execution_count": 23,
   "outputs": [
    {
     "data": {
      "text/plain": "{'descriptions', 'descriptor', 'descriptors', 'questions', 'spark'}"
     },
     "execution_count": 23,
     "metadata": {},
     "output_type": "execute_result"
    }
   ],
   "source": [
    "tmpl = SimpleTemplater(prompt_template)\n",
    "tmpl.keys"
   ],
   "metadata": {
    "collapsed": false,
    "ExecuteTime": {
     "end_time": "2023-11-19T15:58:09.178284729Z",
     "start_time": "2023-11-19T15:58:09.135420113Z"
    }
   },
   "id": "a474aee9dc7f34a4"
  },
  {
   "cell_type": "code",
   "execution_count": 24,
   "outputs": [
    {
     "name": "stdout",
     "output_type": "stream",
     "text": [
      "We have a causal bayes net based on the following article:\n",
      "\n",
      "```\n",
      "Title: ARM takeover: Qualcomm interested in participating - heise online\n",
      "Description: If nothing comes of Nvidia's $40 billion ARM takeover, a consortium of several manufacturers could act as investors.\n",
      "Original Language: German\n",
      "```\n",
      "\n",
      "And, for additional context, here are the variables and their descriptions:\n",
      "\n",
      "\"Qualcomm_Participation\" means \"Participation of Qualcomm in ARM takeover\"\n",
      "\"Regulatory_Approval\" means \"Regulatory approval for ARM takeover\"\n",
      "\"Global_Economic_Conditions\" means \"Current global economic conditions\"\n",
      "\"Nvidia_Takeover_Success\" means \"Success of Nvidia's ARM takeover attempt\"\n",
      "\"Investment_Strategy\" means \"Investment strategy adopted by Qualcomm\"\n",
      "\"Tech_Innovation\" means \"Level of technological innovation in the market\"\n",
      "\"Market_Competition\" means \"Level of market competition in the tech industry\"\n",
      "\"Stock_Market_Response\" means \"Stock market response to the takeover and market conditions\"\n",
      "\n",
      "Now we would like to verbalize the description of some evidence. For each set of questions, fill in the blank and then for each possible descriptor of the probability, provide a reasonable quantitative estimate for the lower and upper bounds of the probability that would be implied by that evidence if the variable took on the value corresponding to 1. Note that your estimates for each descriptor should conform to common sense and reflect the meaning of the variable taking on the value corresponding to 1.\n",
      "\n",
      "For example, if the question is:\n",
      "\n",
      "Evidence template: \"The probability of _ is {descriptor}.\"\n",
      "With these descriptors: ['low', 'high', 'very high']\n",
      "\n",
      "1. \"Tax Rate\" can either be 0=\"Decreased\" or 1=\"Increased\".\n",
      "2. \"Vaccination Status\" can either be 0=\"Not Vaccinated\" or 1=\"Vaccinated\".\n",
      "...\n",
      "\n",
      "You should answer in the following format:\n",
      "\n",
      "```python\n",
      "evidence = {\n",
      "  1: {'blank': {'Decreased': 'decreased taxes', 'Increased': 'increased taxes'} 'implications': {'low': [0.2, 0.4], 'high': [0.6, 0.8], 'very high': [0.8, 0.9]}},\n",
      "  2: {'blank': {'Not Vaccinated': 'not being vaccinated', 'Vaccinated': 'being vaccinated'} 'implications': {'low': [0.3, 0.5], 'high': [0.7, 0.9], 'very high': [0.85, 0.99]}},\n",
      "  ...\n",
      "}\n",
      "```\n",
      "\n",
      "Here are the questions:\n",
      "\n",
      "Evidence template: \"The probability of _ is {descriptor}.\"\n",
      "With these descriptors: ['very low', 'low', 'moderate', 'high', 'very high', 'significant', 'negligible', 'substantial', 'insignificant', 'considerable']\n",
      "\n",
      "1. \"Qualcomm_Participation\" can either be 0=\"Participates\" or 1=\"Does not participate\".\n",
      "2. \"Regulatory_Approval\" can either be 0=\"Approved\" or 1=\"Not approved\".\n",
      "3. \"Global_Economic_Conditions\" can either be 0=\"Favorable conditions\" or 1=\"Unfavorable conditions\".\n",
      "4. \"Nvidia_Takeover_Success\" can either be 0=\"Takeover succeeds\" or 1=\"Takeover fails\".\n",
      "5. \"Investment_Strategy\" can either be 0=\"Aggressive strategy\" or 1=\"Conservative strategy\".\n",
      "6. \"Tech_Innovation\" can either be 0=\"High innovation\" or 1=\"Low innovation\".\n",
      "7. \"Market_Competition\" can either be 0=\"Increased competition\" or 1=\"Reduced competition\".\n",
      "8. \"Stock_Market_Response\" can either be 0=\"Positive response\" or 1=\"Negative response\".\n",
      "\n",
      "Answer all the questions in order, concisely, and precisely in the desired format, without any additional comments or discussion.\n"
     ]
    }
   ],
   "source": [
    "# print(tmpl.fill_in(dict(spark=ctx['spark'], descriptions=ctx['descriptions'], descriptors=verbs, descriptor='{descriptor}', questions=questions)))\n",
    "print(prompt_template.format(spark=ctx['spark'], descriptions=ctx['descriptions'], descriptors=verbs, descriptor='{descriptor}', questions=questions))"
   ],
   "metadata": {
    "collapsed": false,
    "ExecuteTime": {
     "end_time": "2023-11-19T15:58:09.619565965Z",
     "start_time": "2023-11-19T15:58:09.601398688Z"
    }
   },
   "id": "7b23a2f10c9d7c62"
  },
  {
   "cell_type": "code",
   "execution_count": null,
   "outputs": [],
   "source": [
    "line_template = 'The probability that __ is {quantity}'"
   ],
   "metadata": {
    "collapsed": false
   },
   "id": "61af6af1c0665464"
  },
  {
   "cell_type": "code",
   "execution_count": 120,
   "outputs": [
    {
     "data": {
      "text/plain": "True"
     },
     "execution_count": 120,
     "metadata": {},
     "output_type": "execute_result"
    }
   ],
   "source": [
    "evidence = {\n",
    "  1: {\n",
    "    'blank': {'Stimulative': 'stimulative government economic policies', 'Restrictive': 'restrictive government economic policies'}, \n",
    "    'implications': {\n",
    "      'very low': [0.01, 0.1], \n",
    "      'low': [0.1, 0.3], \n",
    "      'moderate': [0.3, 0.5], \n",
    "      'high': [0.5, 0.7], \n",
    "      'very high': [0.7, 0.9], \n",
    "      'significant': [0.6, 0.8], \n",
    "      'negligible': [0.1, 0.2], \n",
    "      'substantial': [0.5, 0.7], \n",
    "      'insignificant': [0.2, 0.3], \n",
    "      'considerable': [0.4, 0.6]\n",
    "    }\n",
    "  },\n",
    "  2: {\n",
    "    'blank': {'Increase': 'an increase in industrial production', 'Decrease': 'a decrease in industrial production'}, \n",
    "    'implications': {\n",
    "      'very low': [0.01, 0.1], \n",
    "      'low': [0.1, 0.3], \n",
    "      'moderate': [0.3, 0.5], \n",
    "      'high': [0.5, 0.7], \n",
    "      'very high': [0.7, 0.9], \n",
    "      'significant': [0.6, 0.8], \n",
    "      'negligible': [0.1, 0.2], \n",
    "      'substantial': [0.5, 0.7], \n",
    "      'insignificant': [0.2, 0.3], \n",
    "      'considerable': [0.4, 0.6]\n",
    "    }\n",
    "  },\n",
    "  3: {\n",
    "    'blank': {'Decrease': 'a decrease in the unemployment rate', 'Increase': 'an increase in the unemployment rate'}, \n",
    "    'implications': {\n",
    "      'very low': [0.01, 0.1], \n",
    "      'low': [0.1, 0.3], \n",
    "      'moderate': [0.3, 0.5], \n",
    "      'high': [0.5, 0.7], \n",
    "      'very high': [0.7, 0.9], \n",
    "      'significant': [0.6, 0.8], \n",
    "      'negligible': [0.1, 0.2], \n",
    "      'substantial': [0.5, 0.7], \n",
    "      'insignificant': [0.2, 0.3], \n",
    "      'considerable': [0.4, 0.6]\n",
    "    }\n",
    "  },\n",
    "  4: {\n",
    "    'blank': {'High': 'high consumer confidence', 'Low': 'low consumer confidence'}, \n",
    "    'implications': {\n",
    "      'very low': [0.01, 0.1], \n",
    "      'low': [0.1, 0.3], \n",
    "      'moderate': [0.3, 0.5], \n",
    "      'high': [0.5, 0.7], \n",
    "      'very high': [0.7, 0.9], \n",
    "      'significant': [0.6, 0.8], \n",
    "      'negligible': [0.1, 0.2], \n",
    "      'substantial': [0.5, 0.7], \n",
    "      'insignificant': [0.2, 0.3], \n",
    "      'considerable': [0.4, 0.6]\n",
    "    }\n",
    "  },\n",
    "  5: {\n",
    "    'blank': {'Positive Growth': 'positive economic growth', 'No Growth': 'no economic growth'}, \n",
    "    'implications': {\n",
    "      'very low': [0.01, 0.1], \n",
    "      'low': [0.1, 0.3], \n",
    "      'moderate': [0.3, 0.5], \n",
    "      'high': [0.5, 0.7], \n",
    "      'very high': [0.7, 0.9], \n",
    "      'significant': [0.6, 0.8], \n",
    "      'negligible': [0.1, 0.2], \n",
    "      'substantial': [0.5, 0.7], \n",
    "      'insignificant': [0.2, 0.3], \n",
    "      'considerable': [0.4, 0.6]\n",
    "    }\n",
    "  },\n",
    "  6: {\n",
    "    'blank': {'Good': 'good market performance', 'Poor': 'poor market performance'}, \n",
    "    'implications': {\n",
    "      'very low': [0.01, 0.1], \n",
    "      'low': [0.1, 0.3], \n",
    "      'moderate': [0.3, 0.5], \n",
    "      'high': [0.5, 0.7], \n",
    "      'very high': [0.7, 0.9], \n",
    "      'significant': [0.6, 0.8], \n",
    "      'negligible': [0.1, 0.2], \n",
    "      'substantial': [0.5, 0.7], \n",
    "      'insignificant': [0.2, 0.3], \n",
    "      'considerable': [0.4, 0.6]\n",
    "    }\n",
    "  }\n",
    "}\n",
    "\n",
    "all(e1['implications'] == e2['implications'] for e1, e2 in combinations(evidence.values(), 2))\n"
   ],
   "metadata": {
    "collapsed": false,
    "ExecuteTime": {
     "end_time": "2023-11-17T14:10:45.018453412Z",
     "start_time": "2023-11-17T14:10:44.985886236Z"
    }
   },
   "id": "79cbbcae4d3e4455"
  },
  {
   "cell_type": "code",
   "execution_count": 121,
   "outputs": [
    {
     "name": "stdout",
     "output_type": "stream",
     "text": [
      "Title: China's economy grows 4.9% while the rest of the world is crippled by coronavirus - Daily Mail\n",
      "Description: China's economy has grown 4.9 percent in the third quarter from last year proving the country is back to its pre-pandemic trajectory as industrial production is up and unemployment is down.\n",
      "Original Language: English\n"
     ]
    }
   ],
   "source": [
    "print(ctx['spark'])"
   ],
   "metadata": {
    "collapsed": false,
    "ExecuteTime": {
     "end_time": "2023-11-17T14:40:34.386481665Z",
     "start_time": "2023-11-17T14:40:34.334250094Z"
    }
   },
   "id": "46ccd04c24fae20e"
  },
  {
   "cell_type": "code",
   "execution_count": null,
   "outputs": [],
   "source": [],
   "metadata": {
    "collapsed": false
   },
   "id": "cf82aa58afe6397b"
  },
  {
   "cell_type": "code",
   "execution_count": null,
   "outputs": [],
   "source": [
    "setting = {\n",
    "    \"introduction\": \"In light of China's notable economic growth of 4.9% amidst the global coronavirus pandemic, as reported by the Daily Mail, this causal model seeks to unravel the underlying factors contributing to this growth. It aims to provide insights into how different aspects such as industrial production and unemployment rates have played a role in shaping China's economic trajectory during this period.\",\n",
    "    \"overview\": \"Our causal graph is a simplified representation of the complex interplay between various economic factors. It includes variables like government policies, industrial production, and unemployment rates, each affecting the other in unique ways. For instance, government policies can be a confounder, affecting both unemployment and industrial production, while consumer confidence acts as a mediator, reflecting the impact of industrial changes on the overall economic growth.\",\n",
    "    \"questions\": {\n",
    "        1: {\"question\": \"Does an increase in industrial production have a positive effect on China's economic growth?\", \"answer\": \"yes\", \"explanation\": \"Given the economic context, an increase in industrial production likely contributes positively to economic growth.\", \"inequality\": \"ATE(IP) > 0\"},\n",
    "        2: {\"question\": \"Is the positive impact of decreasing unemployment on economic growth greater than that of increasing industrial production?\", \"answer\": \"no\", \"explanation\": \"Industrial production typically has a more direct and significant impact on economic growth compared to changes in unemployment rates.\", \"inequality\": \"ATE(UR) > ATE(IP)\"},\n",
    "        3: {\"question\": \"Does a decrease in the unemployment rate positively influence China's economic growth?\", \"answer\": \"yes\", \"explanation\": \"Lower unemployment generally leads to higher consumer spending and economic growth.\", \"inequality\": \"ATE(UR) > 0\"},\n",
    "        4: {\"question\": \"Is the impact of industrial production on economic growth stronger than the influence of government economic policies?\", \"answer\": \"yes\", \"explanation\": \"While government policies set the stage, industrial production is a more direct driver of economic growth.\", \"inequality\": \"ATE(IP) > ATE(GEP)\"},\n",
    "        5: {\"question\": \"Does a stimulative government policy have a greater positive effect on economic growth than an increase in industrial production?\", \"answer\": \"no\", \"explanation\": \"Industrial production, being a direct economic activity, likely has a stronger immediate impact on economic growth than general government policies.\", \"inequality\": \"ATE(GEP) > ATE(IP)\"}\n",
    "    },\n",
    "}\n"
   ],
   "metadata": {
    "collapsed": false
   },
   "id": "bcb1b46b3d4dc419"
  },
  {
   "cell_type": "code",
   "execution_count": 227,
   "outputs": [],
   "source": [
    "import pandas as pd\n",
    "from dowhy import CausalModel\n",
    "from networkx.drawing.nx_pydot import write_dot"
   ],
   "metadata": {
    "collapsed": false,
    "ExecuteTime": {
     "end_time": "2023-11-17T16:42:53.528932801Z",
     "start_time": "2023-11-17T16:42:53.492019Z"
    }
   },
   "id": "aa2676eeab935fe6"
  },
  {
   "cell_type": "code",
   "execution_count": 226,
   "outputs": [
    {
     "data": {
      "text/plain": "<networkx.classes.digraph.DiGraph at 0x7face779d850>"
     },
     "execution_count": 226,
     "metadata": {},
     "output_type": "execute_result"
    }
   ],
   "source": [
    "G = nx.DiGraph()\n",
    "for var in net.vars:\n",
    "    G.add_node(var.name)\n",
    "    for parent in var.parents:\n",
    "        G.add_edge(parent.name, var.name)\n",
    "G"
   ],
   "metadata": {
    "collapsed": false,
    "ExecuteTime": {
     "end_time": "2023-11-17T16:42:42.536213022Z",
     "start_time": "2023-11-17T16:42:42.484794281Z"
    }
   },
   "id": "5e7aafe933bd077f"
  },
  {
   "cell_type": "code",
   "execution_count": null,
   "outputs": [],
   "source": [],
   "metadata": {
    "collapsed": false
   },
   "id": "8c7e5e9f7b925deb"
  },
  {
   "cell_type": "code",
   "execution_count": null,
   "outputs": [],
   "source": [],
   "metadata": {
    "collapsed": false
   },
   "id": "826859c190c49f94"
  },
  {
   "cell_type": "code",
   "execution_count": 127,
   "outputs": [],
   "source": [
    "def convert_to_dot(nodes):\n",
    "    # Start the DOT graph definition\n",
    "    dot_graph = \"digraph {\\n\"\n",
    "\n",
    "    # Iterate over nodes to add them to the graph\n",
    "    for node in nodes:\n",
    "        dot_graph += f'    \"{node[\"name\"]}\" [label=\"{node[\"name\"]}: {node[\"description\"]}\"];\\n'\n",
    "\n",
    "        # Add edges from parents to this node\n",
    "        for parent in node.get(\"parents\", []):\n",
    "            dot_graph += f'    \"{parent}\" -> \"{node[\"name\"]}\";\\n'\n",
    "\n",
    "    dot_graph += \"}\\n\"\n",
    "    return dot_graph"
   ],
   "metadata": {
    "collapsed": false,
    "ExecuteTime": {
     "end_time": "2023-11-17T15:29:05.491002427Z",
     "start_time": "2023-11-17T15:29:05.471333306Z"
    }
   },
   "id": "4d7c72efc77402f6"
  },
  {
   "cell_type": "code",
   "execution_count": null,
   "outputs": [],
   "source": [],
   "metadata": {
    "collapsed": false
   },
   "id": "3c7139d76940267d"
  },
  {
   "cell_type": "code",
   "execution_count": null,
   "outputs": [],
   "source": [
    "net"
   ],
   "metadata": {
    "collapsed": false
   },
   "id": "ccaa22fdb7db1823"
  },
  {
   "cell_type": "code",
   "execution_count": null,
   "outputs": [],
   "source": [],
   "metadata": {
    "collapsed": false
   },
   "id": "70ed5f4de754786b"
  },
  {
   "cell_type": "code",
   "execution_count": 129,
   "outputs": [
    {
     "name": "stdout",
     "output_type": "stream",
     "text": [
      "\"GEP\" means \"Government Economic Policies\"\n",
      "\"IP\" means \"Industrial Production\"\n",
      "\"UR\" means \"Unemployment Rate\"\n",
      "\"CC\" means \"Consumer Confidence\"\n",
      "\"EG\" means \"Economic Growth\"\n",
      "\"MP\" means \"Market Performance\"\n"
     ]
    }
   ],
   "source": [
    "print(ctx['descriptions'])"
   ],
   "metadata": {
    "collapsed": false,
    "ExecuteTime": {
     "end_time": "2023-11-17T15:29:23.980795422Z",
     "start_time": "2023-11-17T15:29:23.959606348Z"
    }
   },
   "id": "27207467be5d57a"
  },
  {
   "cell_type": "code",
   "execution_count": 221,
   "outputs": [
    {
     "name": "stderr",
     "output_type": "stream",
     "text": [
      "ERROR:dowhy.causal_graph: Error: Pygraphviz cannot be loaded. No module named 'pygraphviz'\n",
      "Trying pydot ...\n"
     ]
    },
    {
     "name": "stdout",
     "output_type": "stream",
     "text": [
      "Estimand type: EstimandType.NONPARAMETRIC_ATE\n",
      "\n",
      "### Estimand : 1\n",
      "Estimand name: backdoor\n",
      "Estimand expression:\n",
      "  d               \n",
      "─────(E[EG|UR,IP])\n",
      "d[CC]             \n",
      "Estimand assumption 1, Unconfoundedness: If U→{CC} and U→EG then P(EG|CC,UR,IP,U) = P(EG|CC,UR,IP)\n",
      "\n",
      "### Estimand : 2\n",
      "Estimand name: iv\n",
      "No such variable(s) found!\n",
      "\n",
      "### Estimand : 3\n",
      "Estimand name: frontdoor\n",
      "No such variable(s) found!\n"
     ]
    },
    {
     "data": {
      "text/plain": "({'backdoor1': ['UR', 'IP', 'GEP'],\n  'backdoor2': ['UR', 'IP'],\n  'backdoor': ['UR', 'IP']},\n 'backdoor2')"
     },
     "execution_count": 221,
     "metadata": {},
     "output_type": "execute_result"
    }
   ],
   "source": [
    "# Create a dummy DataFrame\n",
    "# The columns should match the nodes in your causal graph\n",
    "dummy_data = pd.DataFrame({\n",
    "    'EG': [0],   # Economic Growth\n",
    "    'IP': [0],   # Industrial Production\n",
    "    'UR': [0],   # Unemployment Rate\n",
    "    'GEP': [0],  # Government Economic Policies\n",
    "    'CC': [0],   # Consumer Confidence\n",
    "    'MP': [0]    # Market Performance\n",
    "})\n",
    "\n",
    "# Define your DOT graph (use the function from the previous response)\n",
    "dot_graph = convert_to_dot(nodes)\n",
    "\n",
    "# Instantiate the CausalModel with dummy data\n",
    "model = CausalModel(\n",
    "    data=dummy_data,\n",
    "    treatment='CC',  # Replace with your treatment variable name\n",
    "    outcome='EG',      # Replace with your outcome variable name\n",
    "    graph=dot_graph\n",
    ")\n",
    "\n",
    "identified_estimand = model.identify_effect()\n",
    "print(identified_estimand)\n",
    "\n",
    "from sympy import pretty\n",
    "\n",
    "# # Assuming 'identified_estimand' is the object returned by model.identify_effect()\n",
    "# \n",
    "# # Print the basic information about the estimand\n",
    "# print(\"Estimand Identifier:\", identified_estimand.identifier)\n",
    "# print(\"Estimand Type:\", identified_estimand.estimand_type)\n",
    "# \n",
    "# # Accessing the estimands attribute\n",
    "# estimands_info = identified_estimand.estimands\n",
    "# \n",
    "# # Displaying the estimands information\n",
    "# print(\"Estimands Information:\")\n",
    "# print(estimands_info)\n",
    "\n",
    "identified_estimand.backdoor_variables, identified_estimand.default_backdoor_id"
   ],
   "metadata": {
    "collapsed": false,
    "ExecuteTime": {
     "end_time": "2023-11-17T16:20:35.773521574Z",
     "start_time": "2023-11-17T16:20:35.723047563Z"
    }
   },
   "id": "93d6c72207e41e7d"
  },
  {
   "cell_type": "code",
   "execution_count": 222,
   "outputs": [
    {
     "data": {
      "text/plain": "  d               \n─────(E[EG|UR,IP])\nd[CC]             ",
      "text/latex": "$\\displaystyle \\frac{d}{d \\left[\\begin{matrix}CC\\end{matrix}\\right]} \\operatorname{E}\\left[EG|UR,IP\\right]$"
     },
     "execution_count": 222,
     "metadata": {},
     "output_type": "execute_result"
    }
   ],
   "source": [
    "sym = identified_estimand.estimands[identified_estimand.default_backdoor_id]['estimand']\n",
    "sym"
   ],
   "metadata": {
    "collapsed": false,
    "ExecuteTime": {
     "end_time": "2023-11-17T16:20:37.010913900Z",
     "start_time": "2023-11-17T16:20:36.939807580Z"
    }
   },
   "id": "71c98945aa48f639"
  },
  {
   "cell_type": "code",
   "execution_count": 223,
   "outputs": [
    {
     "name": "stdout",
     "output_type": "stream",
     "text": [
      "  d               \n",
      "─────(E[EG|UR,IP])\n",
      "d[CC]             \n"
     ]
    }
   ],
   "source": [
    "print(pretty(sym))"
   ],
   "metadata": {
    "collapsed": false,
    "ExecuteTime": {
     "end_time": "2023-11-17T16:20:37.530553227Z",
     "start_time": "2023-11-17T16:20:37.514577711Z"
    }
   },
   "id": "81dca0ac3d6af062"
  },
  {
   "cell_type": "code",
   "execution_count": 224,
   "outputs": [
    {
     "name": "stdout",
     "output_type": "stream",
     "text": [
      "EG CC ['UR', 'IP']\n"
     ]
    }
   ],
   "source": [
    "do = sym.args[1][0].args[0][0].name\n",
    "exp = sym.args[0].args[0].name\n",
    "if '|' in exp:\n",
    "    outcome, cond = exp.split('|')\n",
    "    cond = cond.split(',')\n",
    "else:\n",
    "    outcome = exp\n",
    "    cond = []\n",
    "    \n",
    "print(outcome, do, cond)"
   ],
   "metadata": {
    "collapsed": false,
    "ExecuteTime": {
     "end_time": "2023-11-17T16:20:38.501074816Z",
     "start_time": "2023-11-17T16:20:38.443318970Z"
    }
   },
   "id": "42a9234e24004c1b"
  },
  {
   "cell_type": "code",
   "execution_count": 229,
   "outputs": [
    {
     "name": "stdout",
     "output_type": "stream",
     "text": [
      "ATE(CC -> EG) = E_{UR=u,IP=v} [ p(EG=1 | CC=1,UR=u,IP=v) - p(EG=1 | CC=0,UR=u,IP=v) ]\n"
     ]
    }
   ],
   "source": [
    "dummyvars = 'uvwxyz'\n",
    "assert len(cond) <= len(dummyvars)\n",
    "psum = ''\n",
    "condsuffix = ''\n",
    "if len(cond):\n",
    "    psum = ','.join(f'{v}={dummyvars[i]}' for i, v in enumerate(cond))\n",
    "    psum = f'E_{{{psum}}} '\n",
    "\n",
    "    condsuffix = ',' + ','.join(f'{v}={dummyvars[i]}' for i, v in enumerate(cond))\n",
    "\n",
    "expr = f'{psum}{\"[ \" if len(cond) else \"\"}p({outcome}=1 | {do}=1{condsuffix}) - p({outcome}=1 | {do}=0{condsuffix}){\" ]\" if len(cond) else \"\"}'\n",
    "\n",
    "# expr = (f'{psum}{\" [ \" if len(cond) else \"\"}p({outcome} | {do}=1{\", \" + \", \".join(cond) if len(cond) else \"\"}) - p({outcome} | {do}=0{\", \" + \",\".join(cond) if len(cond) else \"\"}){\" ]\" if len(cond) else \"\"}')\n",
    "print(f'ATE({do} -> {outcome}) = {expr}')"
   ],
   "metadata": {
    "collapsed": false,
    "ExecuteTime": {
     "end_time": "2023-11-17T17:06:39.653520046Z",
     "start_time": "2023-11-17T17:06:39.579828051Z"
    }
   },
   "id": "3c4b6395db86d3a5"
  },
  {
   "cell_type": "code",
   "execution_count": 215,
   "outputs": [],
   "source": [],
   "metadata": {
    "collapsed": false,
    "ExecuteTime": {
     "end_time": "2023-11-17T16:19:16.720067792Z",
     "start_time": "2023-11-17T16:19:16.682463947Z"
    }
   },
   "id": "f10832a3a199de04"
  },
  {
   "cell_type": "code",
   "execution_count": null,
   "outputs": [],
   "source": [],
   "metadata": {
    "collapsed": false
   },
   "id": "ce7532d3e5f9710c"
  },
  {
   "cell_type": "code",
   "execution_count": 153,
   "outputs": [
    {
     "ename": "AttributeError",
     "evalue": "'ImmutableDenseNDimArray' object has no attribute 'name'",
     "output_type": "error",
     "traceback": [
      "\u001B[0;31m---------------------------------------------------------------------------\u001B[0m",
      "\u001B[0;31mAttributeError\u001B[0m                            Traceback (most recent call last)",
      "Cell \u001B[0;32mIn[153], line 1\u001B[0m\n\u001B[0;32m----> 1\u001B[0m \u001B[43msym\u001B[49m\u001B[38;5;241;43m.\u001B[39;49m\u001B[43mvariables\u001B[49m\u001B[43m[\u001B[49m\u001B[38;5;241;43m0\u001B[39;49m\u001B[43m]\u001B[49m\u001B[38;5;241;43m.\u001B[39;49m\u001B[43mname\u001B[49m\n",
      "\u001B[0;31mAttributeError\u001B[0m: 'ImmutableDenseNDimArray' object has no attribute 'name'"
     ]
    }
   ],
   "source": [
    "sym.variables[0]"
   ],
   "metadata": {
    "collapsed": false,
    "ExecuteTime": {
     "end_time": "2023-11-17T15:41:40.436083421Z",
     "start_time": "2023-11-17T15:41:40.421360492Z"
    }
   },
   "id": "37bf7343710ee697"
  },
  {
   "cell_type": "code",
   "execution_count": 154,
   "outputs": [
    {
     "data": {
      "text/plain": "E[EG|GEP]",
      "image/png": "[encoded data removed]",
      "text/latex": "$\\displaystyle \\operatorname{E}\\left[EG|GEP\\right]$"
     },
     "execution_count": 154,
     "metadata": {},
     "output_type": "execute_result"
    }
   ],
   "source": [
    "expr = sym.expr\n",
    "expr"
   ],
   "metadata": {
    "collapsed": false,
    "ExecuteTime": {
     "end_time": "2023-11-17T15:42:23.896056718Z",
     "start_time": "2023-11-17T15:42:23.817110496Z"
    }
   },
   "id": "7ca9b5d52e9bdc53"
  },
  {
   "cell_type": "code",
   "execution_count": 159,
   "outputs": [],
   "source": [
    "e = expr.args[0]"
   ],
   "metadata": {
    "collapsed": false,
    "ExecuteTime": {
     "end_time": "2023-11-17T15:48:29.372834510Z",
     "start_time": "2023-11-17T15:48:29.331815176Z"
    }
   },
   "id": "942f1e9a7ab93ef2"
  },
  {
   "cell_type": "code",
   "execution_count": 160,
   "outputs": [
    {
     "data": {
      "text/plain": "⎛⎡⎛  d               ⎛                ⎛  d              ⎞⎞⎞⎤    ⎞\n⎜⎢⎜─────(E[EG|GEP]), ⎜(1.0, 0.0), (), ⎜─────(E[EG|GEP]),⎟⎟⎟⎥, []⎟\n⎝⎣⎝d[UR]             ⎝                ⎝d[UR]            ⎠⎠⎠⎦    ⎠",
      "text/latex": "$\\displaystyle \\left( \\left[ \\left( \\frac{d}{d \\left[\\begin{matrix}UR\\end{matrix}\\right]} \\operatorname{E}\\left[EG|GEP\\right], \\  \\left( \\left( 1.0, \\  0.0\\right), \\  \\left( \\right), \\  \\left( \\frac{d}{d \\left[\\begin{matrix}UR\\end{matrix}\\right]} \\operatorname{E}\\left[EG|GEP\\right],\\right)\\right)\\right)\\right], \\  \\left[ \\right]\\right)$"
     },
     "execution_count": 160,
     "metadata": {},
     "output_type": "execute_result"
    }
   ],
   "source": [
    "terms = sym.as_terms()\n",
    "terms"
   ],
   "metadata": {
    "collapsed": false,
    "ExecuteTime": {
     "end_time": "2023-11-17T15:54:02.518522151Z",
     "start_time": "2023-11-17T15:54:02.447641319Z"
    }
   },
   "id": "17f662ccb78cb6da"
  },
  {
   "cell_type": "code",
   "execution_count": 161,
   "outputs": [
    {
     "name": "stdout",
     "output_type": "stream",
     "text": [
      "Expression: Derivative(Expectation(EG|GEP), [UR])\n",
      "Coefficient: ((1.0, 0.0), (), (Derivative(Expectation(EG|GEP), [UR]),))\n"
     ]
    }
   ],
   "source": [
    "for term in terms[0]:\n",
    "    # Each term is a tuple, with the first element being the term itself and the second being its coefficient\n",
    "    expression, coefficient = term\n",
    "    # You can now analyze 'expression' and 'coefficient' to extract variable names and their relationships\n",
    "    # For instance, print them out to see their structure\n",
    "    print(\"Expression:\", expression)\n",
    "    print(\"Coefficient:\", coefficient)"
   ],
   "metadata": {
    "collapsed": false,
    "ExecuteTime": {
     "end_time": "2023-11-17T15:54:25.600817796Z",
     "start_time": "2023-11-17T15:54:25.565631474Z"
    }
   },
   "id": "50280e325b2cda90"
  },
  {
   "cell_type": "code",
   "execution_count": 164,
   "outputs": [
    {
     "name": "stdout",
     "output_type": "stream",
     "text": [
      "Expression: Derivative(E(EG, GEP), UR)\n",
      "Coefficient: ((1.0, 0.0), (1,), ())\n"
     ]
    }
   ],
   "source": [
    "from sympy import symbols, Derivative, Function\n",
    "\n",
    "# Define your symbols\n",
    "EG, GEP, UR = symbols('EG GEP UR')\n",
    "\n",
    "# Define the expected value function\n",
    "E = Function('E')(EG, GEP)\n",
    "\n",
    "# Define the derivative\n",
    "deriv = Derivative(E, UR)\n",
    "\n",
    "# Extract terms from the derivative\n",
    "terms = deriv.as_terms()\n",
    "\n",
    "# Process the terms to extract variable names and relationships\n",
    "# terms is a tuple, where the first element contains the terms\n",
    "for term in terms[0]:\n",
    "    # Each term is a tuple, with the first element being the term itself and the second being its coefficient\n",
    "    expression, coefficient = term\n",
    "    # You can now analyze 'expression' and 'coefficient' to extract variable names and their relationships\n",
    "    # For instance, print them out to see their structure\n",
    "    print(\"Expression:\", expression)\n",
    "    print(\"Coefficient:\", coefficient)"
   ],
   "metadata": {
    "collapsed": false,
    "ExecuteTime": {
     "end_time": "2023-11-17T15:55:19.554568299Z",
     "start_time": "2023-11-17T15:55:19.447398010Z"
    }
   },
   "id": "a83ad5dd7c6dc685"
  },
  {
   "cell_type": "code",
   "execution_count": 167,
   "outputs": [
    {
     "data": {
      "text/plain": " ∂             \n───(E(EG, GEP))\n∂UR            ",
      "image/png": "[encoded data removed]",
      "text/latex": "$\\displaystyle \\frac{\\partial}{\\partial UR} E{\\left(EG,GEP \\right)}$"
     },
     "execution_count": 167,
     "metadata": {},
     "output_type": "execute_result"
    }
   ],
   "source": [
    "deriv"
   ],
   "metadata": {
    "collapsed": false,
    "ExecuteTime": {
     "end_time": "2023-11-17T15:59:32.937196075Z",
     "start_time": "2023-11-17T15:59:32.851668831Z"
    }
   },
   "id": "11fe1cb94c8c0c7e"
  },
  {
   "cell_type": "code",
   "execution_count": 166,
   "outputs": [
    {
     "data": {
      "text/plain": "(EG, GEP)",
      "image/png": "[encoded data removed]",
      "text/latex": "$\\displaystyle \\left( EG, \\  GEP\\right)$"
     },
     "execution_count": 166,
     "metadata": {},
     "output_type": "execute_result"
    }
   ],
   "source": [
    "E.args"
   ],
   "metadata": {
    "collapsed": false,
    "ExecuteTime": {
     "end_time": "2023-11-17T15:59:25.637477739Z",
     "start_time": "2023-11-17T15:59:25.562784063Z"
    }
   },
   "id": "d54fe53bb33c4c02"
  },
  {
   "cell_type": "code",
   "execution_count": null,
   "outputs": [],
   "source": [],
   "metadata": {
    "collapsed": false
   },
   "id": "b6436dbf1a4b3a4e"
  },
  {
   "cell_type": "code",
   "execution_count": null,
   "outputs": [],
   "source": [],
   "metadata": {
    "collapsed": false
   },
   "id": "e1ab83f0f02c3b51"
  },
  {
   "cell_type": "code",
   "execution_count": null,
   "id": "initial_id",
   "metadata": {
    "collapsed": true
   },
   "outputs": [],
   "source": []
  }
 ],
 "metadata": {
  "kernelspec": {
   "display_name": "Python 3",
   "language": "python",
   "name": "python3"
  },
  "language_info": {
   "codemirror_mode": {
    "name": "ipython",
    "version": 2
   },
   "file_extension": ".py",
   "mimetype": "text/x-python",
   "name": "python",
   "nbconvert_exporter": "python",
   "pygments_lexer": "ipython2",
   "version": "2.7.6"
  }
 },
 "nbformat": 4,
 "nbformat_minor": 5
}

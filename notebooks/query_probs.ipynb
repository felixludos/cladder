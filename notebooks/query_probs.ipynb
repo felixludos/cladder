{
 "cells": [
  {
   "cell_type": "code",
   "execution_count": 1,
   "outputs": [],
   "source": [
    "from pathlib import Path\n",
    "from omnibelt import toposort, load_json, save_json\n",
    "from itertools import product, combinations\n",
    "# import pyperclip\n",
    "import random\n",
    "from PIL import Image\n",
    "from graphviz import Digraph\n",
    "import matplotlib.pyplot as plt\n",
    "import io\n",
    "# import clipboard\n",
    "import networkx as nx\n",
    "from tqdm.notebook import tqdm\n",
    "from tabulate import tabulate\n",
    "import matplotlib.pyplot as plt\n",
    "import seaborn as sns\n",
    "from omniply import tool, ToolKit, Context\n",
    "\n",
    "import numpy as np\n",
    "import torch\n",
    "from causalbenchmark.novo.simulation.models import Bernoulli, ConditionalBernoulli, BernoulliNetwork\n",
    "from causalbenchmark.novo.seeding import NewsHeadlines, StatisticsPrompting, Story\n",
    "# from causalbenchmark.novo.seeding.prompting import GraphInfo\n",
    "from causalbenchmark.novo.templating import FixedTemplate, SimpleTemplater\n",
    "from causalbenchmark.novo import misc"
   ],
   "metadata": {
    "collapsed": false,
    "ExecuteTime": {
     "end_time": "2023-11-22T16:22:18.805876559Z",
     "start_time": "2023-11-22T16:22:16.093999723Z"
    }
   },
   "id": "e4dbd77df7c7caae"
  },
  {
   "cell_type": "code",
   "execution_count": 2,
   "outputs": [
    {
     "data": {
      "text/plain": "  0%|          | 0/5 [00:00<?, ?it/s]",
      "application/vnd.jupyter.widget-view+json": {
       "version_major": 2,
       "version_minor": 0,
       "model_id": "c4710247e34a43f2a3ebe2245ef99c53"
      }
     },
     "metadata": {},
     "output_type": "display_data"
    },
    {
     "data": {
      "text/plain": "550074",
      "image/png": "[encoded data removed]",
      "text/latex": "$\\displaystyle 550074$"
     },
     "execution_count": 2,
     "metadata": {},
     "output_type": "execute_result"
    }
   ],
   "source": [
    "spark_generator = NewsHeadlines(locs=['gb', 'de', 'fr', 'it', 'nl']).load(pbar=tqdm)\n",
    "len(spark_generator.article_IDs)"
   ],
   "metadata": {
    "collapsed": false,
    "ExecuteTime": {
     "end_time": "2023-11-22T16:22:24.075354896Z",
     "start_time": "2023-11-22T16:22:18.806944824Z"
    }
   },
   "id": "a3e440a9e9d43579"
  },
  {
   "cell_type": "code",
   "execution_count": 3,
   "outputs": [],
   "source": [
    "setting_generation_prompt_template = \\\n",
    "'''We are interested in building a causal model based on the explicit and implicit assumptions contained in the specified article and then using causal inference to evaluate the reasoning. Answer the following questions to design an interesting, simple, and most importantly realistic causal model from a news article.\n",
    "\n",
    "To help understand the instructions here are some tips:\n",
    "- all variables are always binary and (at least in principle) measurable, so when creating and selecting variables, make sure it is reasonable to treat them as binary\n",
    "- whenever you propose a variable, make sure to define the meaning of each value it can take, and mention whether it is observable or not\n",
    "- outcome variables are always observable\n",
    "- treatment variables are always observable and intervenable, that means it must be possible to (at least in principle) change their value if desired\n",
    "- confounder variables may or may not be observable, and should always have at least two causal children (for example, a treatment and outcome variable) and no causal parents\n",
    "- mediator variables may or may not be observable, and should always have at least one causal parent (for example, a treatment variable) and at least one causal child (for example, the outcome variable)\n",
    "- collider variables may or may not be observable, and should always have at least two causal parents (for example, a treatment and outcome variable) and no causal children\n",
    "\n",
    "Answer concisely and precisely in the desired format. Carefully complete each of these tasks in order.\n",
    "\n",
    "1. Write a short description of what the article is about and what causal model make inform the reasoning behind an argument the might make.\n",
    "2. Propose 1 outcome variable that the news article is either implicitly or explicitly addressing that people are most likely to be interested in studying, especially if people tend to have misconceptions about it\n",
    "3. Propose 2 treatment variables that either directly or indirectly affect the selected outcome variable and are the most interesting to study\n",
    "4. Propose 3 confounder variables that affect some reasonable combination of the outcome and treatment variables\n",
    "5. Propose 3 mediator variables that affect and are affected by some reasonable combination of any other variables\n",
    "6. Propose 2 collider variables that are affected by some reasonable combination of any other variables\n",
    "\n",
    "Here is the beginning of the news article:\n",
    "```\n",
    "{spark}\n",
    "```\n",
    "\n",
    "The variables and causal graph should, where possible, use specific details such as names and locations mentioned in the article. Also, generally the variable value \"0\" should correspond to the negative, neutral, or control while the value \"1\" should correspond to the positive choice or active value.\n",
    "\n",
    "Take a deep breath and think step-by-step about how you will do this.'''\n",
    "graph_selection_prompt_template = \\\n",
    "'''1. From all proposed confounder, mediator, and collider variables, select between 4-6 variables that are most interesting to study and together with the treatment and outcome variables result in a realistic interesting causal graph. Important: Make sure the causal graph is a DAG and that no node has more than TWO parents!\n",
    "2.  List all the edges in the causal graph, and make sure to mention which edges are observable and which are not.\n",
    "3. Provide a python list called `nodes` of all the nodes in the proposed graph. For each node, provide the following information in the form of a python dict:\n",
    "- `name`: the name of the variable\n",
    "- `description`: a short description of the variable\n",
    "- `type`: the type of the variable, which can be one of the following: `outcome`, `treatment`, `confounder`, `mediator`, `collider`\n",
    "- `observed`: a boolean value indicating whether the variable is observable or not\n",
    "- `values`: a python list of the descriptions of the values the variable can take (corresponding to the index)\n",
    "- `parents`: a python list of the names of the parents of the variable (make sure they match the corresponding `name` field of the parent nodes, and remember, there should not be more than TWO parents for any node)\n",
    "\n",
    "Take a deep breath and think step-by-step about how you will do this.'''\n",
    "stats_prompt_template = \\\n",
    "'''We have a causal bayes net based on the following article:\n",
    "\n",
    "```\n",
    "{spark}\n",
    "```\n",
    "\n",
    "Now we would like to estimate the probabilities of certain events.\n",
    "\n",
    "Using commonsense, estimate the probabilities of the following events:\n",
    "\n",
    "{prob_questions}\n",
    "\n",
    "Where the variables are defined as:\n",
    "{descriptions}\n",
    "\n",
    "For each question above, answer with the lower and upper bound estimates of the probabilities as a python dictionary where the key corresponds to the question index in exactly the following format:\n",
    "\n",
    "```python\n",
    "probabilities = {{\n",
    "  1: [0.3, 0.4],\n",
    "  ...\n",
    "}}\n",
    "```\n",
    "\n",
    "Answer concisely and precisely in the desired format.'''\n",
    "verb_prompt_template = \\\n",
    "'''We would like to find very natural verbalizations of the following binary variables selected from a statistical model. The verbalizations should sound more natural and organic, so that you could imagine them being used in a news paper article or casual conversation, while still being semantically equivalent to the original variable and value.\n",
    "\n",
    "Here are the templates that we use to verbalize the variables:\n",
    "\n",
    "1. One of the variables is {{variable}}.\n",
    "2. We estimate {{subject}} [often/usually/sometimes/rarely/etc.] {{value}}.\n",
    "3. There is a [number]% chance that {{value}}.\n",
    "4. [number]% of {{domain}} {{value}}.\n",
    "5. [number]% of the time {{value}}.\n",
    "6. Conditional sentence: {{value}}, [some consequence].\n",
    "7. Interventional: If {{value}}, [some effect].\n",
    "\n",
    "{variable_description}\n",
    "\n",
    "Here are some examples of verbalizations of the variable. For each of the templates fill in the blanks (and include 2-3 examples for each template). Format your response as a python dictionary. When replacing the key \"value\", make sure to include some examples for both values that the variables can take. For example, a variable \"Smoking Rate\" which takes the values \"Low Smoking Rate\"=0 and \"High Smoking Rate\"=1 can be verbalized like this:\n",
    "\n",
    "```python\n",
    "verbalizations = {{\n",
    "  \"Smoking Rate\": {{\n",
    "    1: {{\"variable\": [\"the smoking rate\", \"proportion of smokers\"]}},\n",
    "    2: {{\"subject\": \"people\", \"value\": {{0: [\"do not smoke\", \"are non-smokers\"], 1: [\"smoke\", \"are smokers\"]}}}},\n",
    "    3: {{\"value\": {{0: [\"people do not smoke\", \"people are non-smokers\"], 1: [\"people smoke\", \"people are smokers\"]}}}},\n",
    "    4: {{\"domain\": \"people\", \"value\": {{0: [\"do not smoke\", \"are non-smokers\"], 1: [\"smoke\", \"are smokers\"]}}}},\n",
    "    5: {{\"value\": {{0: [\"the smoking rate decreases\", \"people stop smoking\"], 1: [\"the smoking rate increases\", \"people start smoking\"]}}}},\n",
    "    6: {{\"value\": {{0: [\"For people that do not smoke\", \"Among non-smokers\"], 1: [\"For people that smoke\", \"Among smokers\"]}}}},\n",
    "    7: {{\"value\": {{0: [\"people quite smoking\", \"people become non-smokers\"], 1: [\"people become smokers\", \"people take up smoking\"]}}}},\n",
    "  }},\n",
    "  ...\n",
    "}}\n",
    "```\n",
    "\n",
    "Answer concisely and precisely in the desired format, and only replace the blanks in curly braces. Do not add any additional comments or discussion. Most importantly, the verbalizations should not contain quantitative information like \"often\" or \"rarely\", and instead always assert the corresponding value.'''\n",
    "question_prompt_template = \\\n",
    "'''We have a causal bayes net based on the following article:\n",
    "\n",
    "```\n",
    "{spark}\n",
    "```\n",
    "\n",
    "Now we would like to use this model to generate some interesting research questions:\n",
    "\n",
    "1. Write a short two sentence introduction to describe motivation and purpose of the causal model to provide context to the questions in an conversational/debate setting. Where possible, include relevant details from the original article headline or related information you can infer therefrom. Avoid discussing specific structural properties or assumptions in the causal graph, and instead focus on the overall motivation and potential applications for the model. Refrain from mentioning words like \"causal inference\" or \"model\".\n",
    "Make sure not to use any technical terms from causal inference so that the introduction is easy to understand even for a layperson, as if this were in a newspaper or casual discussion.\n",
    "2. Write a short two sentence overview of the structure of the causal graph including noteworthy properties and assumptions. Use an intuitive conversational style to describe the causal graph, and avoid using technical terms or jargon, but you can describe the variables and their relationships (including using terms like \"confounder\"/\"confounding\", \"mediator\"/\"mediates\") as long as you explain them in a way that is understandable to a layperson.\n",
    "3. Verbalize an interesting \"yes\"/\"no\" question where the correct answer depends computation of each of the following quantities:\n",
    "\n",
    "{query_description}\n",
    "\n",
    "Where \"| * |\" is the absolute value and the definitions of \"ATE('X')\" (average treatment effect) and \"CATE('X' | 'U'=u)\" are:\n",
    "\n",
    "ATE('X') = E['Y' | do('X' = 1)] - E['Y' | do('X' = 0)]\n",
    "CATE('X' | 'U'=u) = E['Y' | 'U'=u, do('X' = 1)] - E['Y' | 'U'=u, do('X' = 0)]\n",
    "\n",
    "Where 'X' is a treatment variable, 'Y' is the outcome variable, and 'U' is a confounder variable.\n",
    "\n",
    "4. In addition to the questions and associated answers include a one sentence explanation for each question, and \"wrong_explanation\" which is just like the explanation but argues for the opposite answer.\n",
    "\n",
    "The meanings of all the variables (all of which are binary) in the statistical model are:\n",
    "\n",
    "{variable_description}\n",
    "\n",
    "Answer in the form of a python dictionary in the following format:\n",
    "\n",
    "```python\n",
    "setting = {{\n",
    "  \"introduction\": \"[introduction]\",\n",
    "  \"overview\": \"[overview]\",\n",
    "  \"questions\": {{\n",
    "    1: {{\"question\": \"[question]\", \"answer\": \"yes\", \"explanation\": \"[explanation]\", \"wrong_explanation\": \"[wrong_explanation]\"}},\n",
    "    ...\n",
    "  }},\n",
    "}}\n",
    "```\n",
    "Answer concisely and precisely in the desired format. Do not add any additional comments or discussion. Most importantly, do not use any technical terms from causal inference such as ATE or CATE in the questions and explanations so that everything is easy to understand even for a layperson.'''"
   ],
   "metadata": {
    "collapsed": false,
    "ExecuteTime": {
     "end_time": "2023-11-22T16:22:24.123413315Z",
     "start_time": "2023-11-22T16:22:24.077266705Z"
    }
   },
   "id": "810e9c63d4ccc441"
  },
  {
   "cell_type": "code",
   "execution_count": 5,
   "outputs": [
    {
     "name": "stdout",
     "output_type": "stream",
     "text": [
      "4117142\n",
      "Title: Prince Charles addresses the nation after the death of father Philip - RTL News\n",
      "Description: 72-year-old Prince Charles has responded publicly for the first time to the death of his father, Prince Philip. In the presence of the press, he said he missed his 'daddy' enormously and thanked him for all the messages of support from all over the world.\n",
      "Original Language: Dutch\n"
     ]
    }
   ],
   "source": [
    "# ctx = Story(story_root=misc.data_root() / 'stories', story_id='test14')\n",
    "ctx = Story(story_root=misc.data_root() / 'stories')\n",
    "ctx.populate_defaults(story_prompt_tempalte=setting_generation_prompt_template,\n",
    "                      graph_prompt_template=graph_selection_prompt_template,\n",
    "                      stats_prompt_template=stats_prompt_template,\n",
    "                        verb_prompt_template=verb_prompt_template,\n",
    "                        questions_prompt_template=question_prompt_template,\n",
    "                      )\n",
    "ctx.include(spark_generator,);\n",
    "# print(ctx)\n",
    "# ctx['seed'] = 1684065#6805333\n",
    "print(ctx['seed'])\n",
    "print(ctx['spark'])"
   ],
   "metadata": {
    "collapsed": false,
    "ExecuteTime": {
     "end_time": "2023-11-22T16:22:36.574719195Z",
     "start_time": "2023-11-22T16:22:36.547759871Z"
    }
   },
   "id": "46baeb3a28e45ee"
  },
  {
   "cell_type": "code",
   "execution_count": 6,
   "outputs": [
    {
     "name": "stdout",
     "output_type": "stream",
     "text": [
      "We are interested in building a causal model based on the explicit and implicit assumptions contained in the specified article and then using causal inference to evaluate the reasoning. Answer the following questions to design an interesting, simple, and most importantly realistic causal model from a news article.\n",
      "\n",
      "To help understand the instructions here are some tips:\n",
      "- all variables are always binary and (at least in principle) measurable, so when creating and selecting variables, make sure it is reasonable to treat them as binary\n",
      "- whenever you propose a variable, make sure to define the meaning of each value it can take, and mention whether it is observable or not\n",
      "- outcome variables are always observable\n",
      "- treatment variables are always observable and intervenable, that means it must be possible to (at least in principle) change their value if desired\n",
      "- confounder variables may or may not be observable, and should always have at least two causal children (for example, a treatment and outcome variable) and no causal parents\n",
      "- mediator variables may or may not be observable, and should always have at least one causal parent (for example, a treatment variable) and at least one causal child (for example, the outcome variable)\n",
      "- collider variables may or may not be observable, and should always have at least two causal parents (for example, a treatment and outcome variable) and no causal children\n",
      "\n",
      "Answer concisely and precisely in the desired format. Carefully complete each of these tasks in order.\n",
      "\n",
      "1. Write a short description of what the article is about and what causal model make inform the reasoning behind an argument the might make.\n",
      "2. Propose 1 outcome variable that the news article is either implicitly or explicitly addressing that people are most likely to be interested in studying, especially if people tend to have misconceptions about it\n",
      "3. Propose 2 treatment variables that either directly or indirectly affect the selected outcome variable and are the most interesting to study\n",
      "4. Propose 3 confounder variables that affect some reasonable combination of the outcome and treatment variables\n",
      "5. Propose 3 mediator variables that affect and are affected by some reasonable combination of any other variables\n",
      "6. Propose 2 collider variables that are affected by some reasonable combination of any other variables\n",
      "\n",
      "Here is the beginning of the news article:\n",
      "```\n",
      "Title: Prince Charles addresses the nation after the death of father Philip - RTL News\n",
      "Description: 72-year-old Prince Charles has responded publicly for the first time to the death of his father, Prince Philip. In the presence of the press, he said he missed his 'daddy' enormously and thanked him for all the messages of support from all over the world.\n",
      "Original Language: Dutch\n",
      "```\n",
      "\n",
      "The variables and causal graph should, where possible, use specific details such as names and locations mentioned in the article. Also, generally the variable value \"0\" should correspond to the negative, neutral, or control while the value \"1\" should correspond to the positive choice or active value.\n",
      "\n",
      "Take a deep breath and think step-by-step about how you will do this.\n"
     ]
    }
   ],
   "source": [
    "# if 'prompt_story' in ctx:\n",
    "#     del ctx['prompt_story']\n",
    "print(ctx['prompt_story'])"
   ],
   "metadata": {
    "collapsed": false,
    "ExecuteTime": {
     "end_time": "2023-11-22T16:22:38.019148353Z",
     "start_time": "2023-11-22T16:22:37.995021486Z"
    }
   },
   "id": "7cac9d876fc4d17a"
  },
  {
   "cell_type": "code",
   "execution_count": 7,
   "outputs": [
    {
     "name": "stdout",
     "output_type": "stream",
     "text": [
      "1. From all proposed confounder, mediator, and collider variables, select between 4-6 variables that are most interesting to study and together with the treatment and outcome variables result in a realistic interesting causal graph. Important: Make sure the causal graph is a DAG and that no node has more than TWO parents!\n",
      "2.  List all the edges in the causal graph, and make sure to mention which edges are observable and which are not.\n",
      "3. Provide a python list called `nodes` of all the nodes in the proposed graph. For each node, provide the following information in the form of a python dict:\n",
      "- `name`: the name of the variable\n",
      "- `description`: a short description of the variable\n",
      "- `type`: the type of the variable, which can be one of the following: `outcome`, `treatment`, `confounder`, `mediator`, `collider`\n",
      "- `observed`: a boolean value indicating whether the variable is observable or not\n",
      "- `values`: a python list of the descriptions of the values the variable can take (corresponding to the index)\n",
      "- `parents`: a python list of the names of the parents of the variable (make sure they match the corresponding `name` field of the parent nodes, and remember, there should not be more than TWO parents for any node)\n",
      "\n",
      "Take a deep breath and think step-by-step about how you will do this.\n"
     ]
    }
   ],
   "source": [
    "# if 'prompt_graph' in ctx:\n",
    "#     del ctx['prompt_graph']\n",
    "print(ctx['prompt_graph'])"
   ],
   "metadata": {
    "collapsed": false,
    "ExecuteTime": {
     "end_time": "2023-11-22T16:22:38.715516937Z",
     "start_time": "2023-11-22T16:22:38.690336244Z"
    }
   },
   "id": "3dba22960a9e0ca4"
  },
  {
   "cell_type": "code",
   "execution_count": 8,
   "outputs": [],
   "source": [
    "#################################################\n",
    "\n",
    "nodes = [\n",
    "    {\n",
    "        'name': 'Public Sentiment Towards Monarchy',\n",
    "        'description': 'The public’s overall sentiment towards the monarchy.',\n",
    "        'type': 'outcome',\n",
    "        'observed': True,\n",
    "        'values': ['Neutral/Negative Sentiment', 'Positive Sentiment'],\n",
    "        'parents': ['Royal Family Public Address', 'Media Coverage Intensity', 'Social Media Engagement', 'Public Empathy for Royalty']\n",
    "    },\n",
    "    {\n",
    "        'name': 'Royal Family Public Address',\n",
    "        'description': 'Whether a royal family member makes a significant public address.',\n",
    "        'type': 'treatment',\n",
    "        'observed': True,\n",
    "        'values': ['No/Neutral Address', 'Emotional/Significant Address'],\n",
    "        'parents': ['Historical Public Sentiment']\n",
    "    },\n",
    "    {\n",
    "        'name': 'Media Coverage Intensity',\n",
    "        'description': 'The extent and nature of media coverage regarding royal events.',\n",
    "        'type': 'treatment',\n",
    "        'observed': True,\n",
    "        'values': ['Limited/Neutral Coverage', 'Extensive/Sensational Coverage'],\n",
    "        'parents': ['Historical Public Sentiment']\n",
    "    },\n",
    "    {\n",
    "        'name': 'Historical Public Sentiment',\n",
    "        'description': 'Public sentiment towards the monarchy in the past.',\n",
    "        'type': 'confounder',\n",
    "        'observed': False,\n",
    "        'values': ['Historically Neutral/Negative', 'Historically Positive'],\n",
    "        'parents': []\n",
    "    },\n",
    "    {\n",
    "        'name': 'Social Media Engagement',\n",
    "        'description': 'The level of engagement on social media regarding royal events.',\n",
    "        'type': 'mediator',\n",
    "        'observed': False,\n",
    "        'values': ['Low Engagement', 'High Engagement'],\n",
    "        'parents': ['Royal Family Public Address', 'Media Coverage Intensity']\n",
    "    },\n",
    "    {\n",
    "        'name': 'Public Empathy for Royalty',\n",
    "        'description': 'The public’s empathy towards the royal family.',\n",
    "        'type': 'mediator',\n",
    "        'observed': False,\n",
    "        'values': ['Low Empathy', 'High Empathy'],\n",
    "        'parents': []\n",
    "    },\n",
    "    {\n",
    "        'name': 'Celebrity Endorsements',\n",
    "        'description': 'Celebrity endorsements related to royal events.',\n",
    "        'type': 'collider',\n",
    "        'observed': False,\n",
    "        'values': ['Absence of Endorsements', 'Presence of Endorsements'],\n",
    "        'parents': ['Media Coverage Intensity', 'Public Sentiment Towards Monarchy']\n",
    "    }\n",
    "]\n",
    "\n",
    "\n",
    "\n",
    "#################################################\n",
    "varvals = {node['name']: node['values'] for node in nodes}\n",
    "varparents = {node['name']: node['parents'] for node in nodes}\n",
    "varorder = toposort(varparents)\n",
    "nodes = sorted(nodes, key=lambda x: varorder.index(x['name']))\n",
    "ctx['nodes'] = nodes"
   ],
   "metadata": {
    "collapsed": false,
    "ExecuteTime": {
     "end_time": "2023-11-22T16:26:15.339425058Z",
     "start_time": "2023-11-22T16:26:15.289042712Z"
    }
   },
   "id": "f3fcf031d24d5d48"
  },
  {
   "cell_type": "code",
   "execution_count": 10,
   "outputs": [
    {
     "ename": "ValueError",
     "evalue": "Could not save to JPEG for display",
     "output_type": "error",
     "traceback": [
      "\u001B[0;31m---------------------------------------------------------------------------\u001B[0m",
      "\u001B[0;31mKeyError\u001B[0m                                  Traceback (most recent call last)",
      "File \u001B[0;32m~/miniconda3/lib/python3.11/site-packages/PIL/JpegImagePlugin.py:639\u001B[0m, in \u001B[0;36m_save\u001B[0;34m(im, fp, filename)\u001B[0m\n\u001B[1;32m    638\u001B[0m \u001B[38;5;28;01mtry\u001B[39;00m:\n\u001B[0;32m--> 639\u001B[0m     rawmode \u001B[38;5;241m=\u001B[39m \u001B[43mRAWMODE\u001B[49m\u001B[43m[\u001B[49m\u001B[43mim\u001B[49m\u001B[38;5;241;43m.\u001B[39;49m\u001B[43mmode\u001B[49m\u001B[43m]\u001B[49m\n\u001B[1;32m    640\u001B[0m \u001B[38;5;28;01mexcept\u001B[39;00m \u001B[38;5;167;01mKeyError\u001B[39;00m \u001B[38;5;28;01mas\u001B[39;00m e:\n",
      "\u001B[0;31mKeyError\u001B[0m: 'RGBA'",
      "\nThe above exception was the direct cause of the following exception:\n",
      "\u001B[0;31mOSError\u001B[0m                                   Traceback (most recent call last)",
      "File \u001B[0;32m~/miniconda3/lib/python3.11/site-packages/PIL/Image.py:643\u001B[0m, in \u001B[0;36mImage._repr_image\u001B[0;34m(self, image_format, **kwargs)\u001B[0m\n\u001B[1;32m    642\u001B[0m \u001B[38;5;28;01mtry\u001B[39;00m:\n\u001B[0;32m--> 643\u001B[0m     \u001B[38;5;28;43mself\u001B[39;49m\u001B[38;5;241;43m.\u001B[39;49m\u001B[43msave\u001B[49m\u001B[43m(\u001B[49m\u001B[43mb\u001B[49m\u001B[43m,\u001B[49m\u001B[43m \u001B[49m\u001B[43mimage_format\u001B[49m\u001B[43m,\u001B[49m\u001B[43m \u001B[49m\u001B[38;5;241;43m*\u001B[39;49m\u001B[38;5;241;43m*\u001B[39;49m\u001B[43mkwargs\u001B[49m\u001B[43m)\u001B[49m\n\u001B[1;32m    644\u001B[0m \u001B[38;5;28;01mexcept\u001B[39;00m \u001B[38;5;167;01mException\u001B[39;00m \u001B[38;5;28;01mas\u001B[39;00m e:\n",
      "File \u001B[0;32m~/miniconda3/lib/python3.11/site-packages/PIL/Image.py:2413\u001B[0m, in \u001B[0;36mImage.save\u001B[0;34m(self, fp, format, **params)\u001B[0m\n\u001B[1;32m   2412\u001B[0m \u001B[38;5;28;01mtry\u001B[39;00m:\n\u001B[0;32m-> 2413\u001B[0m     \u001B[43msave_handler\u001B[49m\u001B[43m(\u001B[49m\u001B[38;5;28;43mself\u001B[39;49m\u001B[43m,\u001B[49m\u001B[43m \u001B[49m\u001B[43mfp\u001B[49m\u001B[43m,\u001B[49m\u001B[43m \u001B[49m\u001B[43mfilename\u001B[49m\u001B[43m)\u001B[49m\n\u001B[1;32m   2414\u001B[0m \u001B[38;5;28;01mexcept\u001B[39;00m \u001B[38;5;167;01mException\u001B[39;00m:\n",
      "File \u001B[0;32m~/miniconda3/lib/python3.11/site-packages/PIL/JpegImagePlugin.py:642\u001B[0m, in \u001B[0;36m_save\u001B[0;34m(im, fp, filename)\u001B[0m\n\u001B[1;32m    641\u001B[0m     msg \u001B[38;5;241m=\u001B[39m \u001B[38;5;124mf\u001B[39m\u001B[38;5;124m\"\u001B[39m\u001B[38;5;124mcannot write mode \u001B[39m\u001B[38;5;132;01m{\u001B[39;00mim\u001B[38;5;241m.\u001B[39mmode\u001B[38;5;132;01m}\u001B[39;00m\u001B[38;5;124m as JPEG\u001B[39m\u001B[38;5;124m\"\u001B[39m\n\u001B[0;32m--> 642\u001B[0m     \u001B[38;5;28;01mraise\u001B[39;00m \u001B[38;5;167;01mOSError\u001B[39;00m(msg) \u001B[38;5;28;01mfrom\u001B[39;00m \u001B[38;5;21;01me\u001B[39;00m\n\u001B[1;32m    644\u001B[0m info \u001B[38;5;241m=\u001B[39m im\u001B[38;5;241m.\u001B[39mencoderinfo\n",
      "\u001B[0;31mOSError\u001B[0m: cannot write mode RGBA as JPEG",
      "\nThe above exception was the direct cause of the following exception:\n",
      "\u001B[0;31mValueError\u001B[0m                                Traceback (most recent call last)",
      "File \u001B[0;32m~/miniconda3/lib/python3.11/site-packages/IPython/core/formatters.py:344\u001B[0m, in \u001B[0;36mBaseFormatter.__call__\u001B[0;34m(self, obj)\u001B[0m\n\u001B[1;32m    342\u001B[0m     method \u001B[38;5;241m=\u001B[39m get_real_method(obj, \u001B[38;5;28mself\u001B[39m\u001B[38;5;241m.\u001B[39mprint_method)\n\u001B[1;32m    343\u001B[0m     \u001B[38;5;28;01mif\u001B[39;00m method \u001B[38;5;129;01mis\u001B[39;00m \u001B[38;5;129;01mnot\u001B[39;00m \u001B[38;5;28;01mNone\u001B[39;00m:\n\u001B[0;32m--> 344\u001B[0m         \u001B[38;5;28;01mreturn\u001B[39;00m \u001B[43mmethod\u001B[49m\u001B[43m(\u001B[49m\u001B[43m)\u001B[49m\n\u001B[1;32m    345\u001B[0m     \u001B[38;5;28;01mreturn\u001B[39;00m \u001B[38;5;28;01mNone\u001B[39;00m\n\u001B[1;32m    346\u001B[0m \u001B[38;5;28;01melse\u001B[39;00m:\n",
      "File \u001B[0;32m~/miniconda3/lib/python3.11/site-packages/PIL/Image.py:661\u001B[0m, in \u001B[0;36mImage._repr_jpeg_\u001B[0;34m(self)\u001B[0m\n\u001B[1;32m    656\u001B[0m \u001B[38;5;28;01mdef\u001B[39;00m \u001B[38;5;21m_repr_jpeg_\u001B[39m(\u001B[38;5;28mself\u001B[39m):\n\u001B[1;32m    657\u001B[0m \u001B[38;5;250m    \u001B[39m\u001B[38;5;124;03m\"\"\"iPython display hook support for JPEG format.\u001B[39;00m\n\u001B[1;32m    658\u001B[0m \n\u001B[1;32m    659\u001B[0m \u001B[38;5;124;03m    :returns: JPEG version of the image as bytes\u001B[39;00m\n\u001B[1;32m    660\u001B[0m \u001B[38;5;124;03m    \"\"\"\u001B[39;00m\n\u001B[0;32m--> 661\u001B[0m     \u001B[38;5;28;01mreturn\u001B[39;00m \u001B[38;5;28;43mself\u001B[39;49m\u001B[38;5;241;43m.\u001B[39;49m\u001B[43m_repr_image\u001B[49m\u001B[43m(\u001B[49m\u001B[38;5;124;43m\"\u001B[39;49m\u001B[38;5;124;43mJPEG\u001B[39;49m\u001B[38;5;124;43m\"\u001B[39;49m\u001B[43m)\u001B[49m\n",
      "File \u001B[0;32m~/miniconda3/lib/python3.11/site-packages/PIL/Image.py:646\u001B[0m, in \u001B[0;36mImage._repr_image\u001B[0;34m(self, image_format, **kwargs)\u001B[0m\n\u001B[1;32m    644\u001B[0m \u001B[38;5;28;01mexcept\u001B[39;00m \u001B[38;5;167;01mException\u001B[39;00m \u001B[38;5;28;01mas\u001B[39;00m e:\n\u001B[1;32m    645\u001B[0m     msg \u001B[38;5;241m=\u001B[39m \u001B[38;5;124mf\u001B[39m\u001B[38;5;124m\"\u001B[39m\u001B[38;5;124mCould not save to \u001B[39m\u001B[38;5;132;01m{\u001B[39;00mimage_format\u001B[38;5;132;01m}\u001B[39;00m\u001B[38;5;124m for display\u001B[39m\u001B[38;5;124m\"\u001B[39m\n\u001B[0;32m--> 646\u001B[0m     \u001B[38;5;28;01mraise\u001B[39;00m \u001B[38;5;167;01mValueError\u001B[39;00m(msg) \u001B[38;5;28;01mfrom\u001B[39;00m \u001B[38;5;21;01me\u001B[39;00m\n\u001B[1;32m    647\u001B[0m \u001B[38;5;28;01mreturn\u001B[39;00m b\u001B[38;5;241m.\u001B[39mgetvalue()\n",
      "\u001B[0;31mValueError\u001B[0m: Could not save to JPEG for display"
     ]
    },
    {
     "data": {
      "text/plain": "<PIL.PngImagePlugin.PngImageFile image mode=RGBA size=896x443>",
      "image/png": "[encoded data removed]"
     },
     "execution_count": 10,
     "metadata": {},
     "output_type": "execute_result"
    }
   ],
   "source": [
    "# G = ctx['graph']\n",
    "# if 'graph' in ctx:\n",
    "#     del ctx['graph']\n",
    "# node_colors = {'treatment': 'lightcoral', 'outcome': 'lightgreen', 'confounder': 'lightblue', 'mediator': 'lightyellow', 'collider': 'lightgray'}\n",
    "# colors = [node_colors[G.nodes[n]['type']] for n in G.nodes]\n",
    "# plt.figure(figsize=(10, 6))\n",
    "# pos = nx.circular_layout(G)\n",
    "# nx.draw(G, pos, with_labels=True, node_color=colors, node_size=5000, font_size=10, font_weight='bold', edge_color='gray', arrowsize=20)\n",
    "# plt.title('Causal Graph', size=15);\n",
    "# plt.tight_layout();\n",
    "\n",
    "dot = Digraph(comment='Causal Model')\n",
    "node_styles = {\n",
    "    \"treatment\": {\"shape\": \"ellipse\", \"style\": \"filled\", \"color\": \"lightpink\"},\n",
    "    \"outcome\": {\"shape\": \"ellipse\", \"style\": \"filled\", \"color\": \"lightgreen\"},\n",
    "    \"confounder\": {\"shape\": \"diamond\", \"style\": \"filled\", \"color\": \"lightblue\"},\n",
    "    \"mediator\": {\"shape\": \"box\", \"style\": \"filled\", \"color\": \"lightyellow\"},\n",
    "    \"collider\": {\"shape\": \"box\", \"style\": \"filled\", \"color\": \"lightgray\"}\n",
    "}\n",
    "for node in ctx['nodes']:\n",
    "    style = node_styles.get(node[\"type\"], {\"shape\": \"ellipse\"})\n",
    "    dot.node(node[\"name\"], node[\"name\"], **style)\n",
    "for node in ctx['nodes']:\n",
    "    for parent in node[\"parents\"]:\n",
    "        dot.edge(parent, node[\"name\"])\n",
    "# dot.view()\n",
    "dot.render(str(misc.temp_root() / 'graph'), format='png')\n",
    "Image.open(misc.temp_root() / 'graph.png')"
   ],
   "metadata": {
    "collapsed": false,
    "ExecuteTime": {
     "end_time": "2023-11-22T16:26:36.275202388Z",
     "start_time": "2023-11-22T16:26:36.161003092Z"
    }
   },
   "id": "9f8b963c0ac35fa8"
  },
  {
   "cell_type": "code",
   "execution_count": 11,
   "outputs": [
    {
     "name": "stdout",
     "output_type": "stream",
     "text": [
      "We have a causal bayes net based on the following article:\n",
      "\n",
      "```\n",
      "Title: Prince Charles addresses the nation after the death of father Philip - RTL News\n",
      "Description: 72-year-old Prince Charles has responded publicly for the first time to the death of his father, Prince Philip. In the presence of the press, he said he missed his 'daddy' enormously and thanked him for all the messages of support from all over the world.\n",
      "Original Language: Dutch\n",
      "```\n",
      "\n",
      "Now we would like to estimate the probabilities of certain events.\n",
      "\n",
      "Using commonsense, estimate the probabilities of the following events:\n",
      "\n",
      "1. what is the probability that \"Historical Public Sentiment\" is \"Historically Positive\" (rather than \"Historically Neutral/Negative\")?\n",
      "2. when \"Historical Public Sentiment\" is \"Historically Neutral/Negative\": what is the probability that \"Royal Family Public Address\" is \"Emotional/Significant Address\" (rather than \"No/Neutral Address\")?\n",
      "3. when \"Historical Public Sentiment\" is \"Historically Positive\": what is the probability that \"Royal Family Public Address\" is \"Emotional/Significant Address\" (rather than \"No/Neutral Address\")?\n",
      "4. when \"Historical Public Sentiment\" is \"Historically Neutral/Negative\": what is the probability that \"Media Coverage Intensity\" is \"Extensive/Sensational Coverage\" (rather than \"Limited/Neutral Coverage\")?\n",
      "5. when \"Historical Public Sentiment\" is \"Historically Positive\": what is the probability that \"Media Coverage Intensity\" is \"Extensive/Sensational Coverage\" (rather than \"Limited/Neutral Coverage\")?\n",
      "6. when \"Royal Family Public Address\" is \"No/Neutral Address\" and \"Media Coverage Intensity\" is \"Limited/Neutral Coverage\": what is the probability that \"Social Media Engagement\" is \"High Engagement\" (rather than \"Low Engagement\")?\n",
      "7. when \"Royal Family Public Address\" is \"No/Neutral Address\" and \"Media Coverage Intensity\" is \"Extensive/Sensational Coverage\": what is the probability that \"Social Media Engagement\" is \"High Engagement\" (rather than \"Low Engagement\")?\n",
      "8. when \"Royal Family Public Address\" is \"Emotional/Significant Address\" and \"Media Coverage Intensity\" is \"Limited/Neutral Coverage\": what is the probability that \"Social Media Engagement\" is \"High Engagement\" (rather than \"Low Engagement\")?\n",
      "9. when \"Royal Family Public Address\" is \"Emotional/Significant Address\" and \"Media Coverage Intensity\" is \"Extensive/Sensational Coverage\": what is the probability that \"Social Media Engagement\" is \"High Engagement\" (rather than \"Low Engagement\")?\n",
      "10. what is the probability that \"Public Empathy for Royalty\" is \"High Empathy\" (rather than \"Low Empathy\")?\n",
      "11. when \"Royal Family Public Address\" is \"No/Neutral Address\" and \"Media Coverage Intensity\" is \"Limited/Neutral Coverage\" and \"Social Media Engagement\" is \"Low Engagement\" and \"Public Empathy for Royalty\" is \"Low Empathy\": what is the probability that \"Public Sentiment Towards Monarchy\" is \"Positive Sentiment\" (rather than \"Neutral/Negative Sentiment\")?\n",
      "12. when \"Royal Family Public Address\" is \"No/Neutral Address\" and \"Media Coverage Intensity\" is \"Limited/Neutral Coverage\" and \"Social Media Engagement\" is \"Low Engagement\" and \"Public Empathy for Royalty\" is \"High Empathy\": what is the probability that \"Public Sentiment Towards Monarchy\" is \"Positive Sentiment\" (rather than \"Neutral/Negative Sentiment\")?\n",
      "13. when \"Royal Family Public Address\" is \"No/Neutral Address\" and \"Media Coverage Intensity\" is \"Limited/Neutral Coverage\" and \"Social Media Engagement\" is \"High Engagement\" and \"Public Empathy for Royalty\" is \"Low Empathy\": what is the probability that \"Public Sentiment Towards Monarchy\" is \"Positive Sentiment\" (rather than \"Neutral/Negative Sentiment\")?\n",
      "14. when \"Royal Family Public Address\" is \"No/Neutral Address\" and \"Media Coverage Intensity\" is \"Limited/Neutral Coverage\" and \"Social Media Engagement\" is \"High Engagement\" and \"Public Empathy for Royalty\" is \"High Empathy\": what is the probability that \"Public Sentiment Towards Monarchy\" is \"Positive Sentiment\" (rather than \"Neutral/Negative Sentiment\")?\n",
      "15. when \"Royal Family Public Address\" is \"No/Neutral Address\" and \"Media Coverage Intensity\" is \"Extensive/Sensational Coverage\" and \"Social Media Engagement\" is \"Low Engagement\" and \"Public Empathy for Royalty\" is \"Low Empathy\": what is the probability that \"Public Sentiment Towards Monarchy\" is \"Positive Sentiment\" (rather than \"Neutral/Negative Sentiment\")?\n",
      "16. when \"Royal Family Public Address\" is \"No/Neutral Address\" and \"Media Coverage Intensity\" is \"Extensive/Sensational Coverage\" and \"Social Media Engagement\" is \"Low Engagement\" and \"Public Empathy for Royalty\" is \"High Empathy\": what is the probability that \"Public Sentiment Towards Monarchy\" is \"Positive Sentiment\" (rather than \"Neutral/Negative Sentiment\")?\n",
      "17. when \"Royal Family Public Address\" is \"No/Neutral Address\" and \"Media Coverage Intensity\" is \"Extensive/Sensational Coverage\" and \"Social Media Engagement\" is \"High Engagement\" and \"Public Empathy for Royalty\" is \"Low Empathy\": what is the probability that \"Public Sentiment Towards Monarchy\" is \"Positive Sentiment\" (rather than \"Neutral/Negative Sentiment\")?\n",
      "18. when \"Royal Family Public Address\" is \"No/Neutral Address\" and \"Media Coverage Intensity\" is \"Extensive/Sensational Coverage\" and \"Social Media Engagement\" is \"High Engagement\" and \"Public Empathy for Royalty\" is \"High Empathy\": what is the probability that \"Public Sentiment Towards Monarchy\" is \"Positive Sentiment\" (rather than \"Neutral/Negative Sentiment\")?\n",
      "19. when \"Royal Family Public Address\" is \"Emotional/Significant Address\" and \"Media Coverage Intensity\" is \"Limited/Neutral Coverage\" and \"Social Media Engagement\" is \"Low Engagement\" and \"Public Empathy for Royalty\" is \"Low Empathy\": what is the probability that \"Public Sentiment Towards Monarchy\" is \"Positive Sentiment\" (rather than \"Neutral/Negative Sentiment\")?\n",
      "20. when \"Royal Family Public Address\" is \"Emotional/Significant Address\" and \"Media Coverage Intensity\" is \"Limited/Neutral Coverage\" and \"Social Media Engagement\" is \"Low Engagement\" and \"Public Empathy for Royalty\" is \"High Empathy\": what is the probability that \"Public Sentiment Towards Monarchy\" is \"Positive Sentiment\" (rather than \"Neutral/Negative Sentiment\")?\n",
      "21. when \"Royal Family Public Address\" is \"Emotional/Significant Address\" and \"Media Coverage Intensity\" is \"Limited/Neutral Coverage\" and \"Social Media Engagement\" is \"High Engagement\" and \"Public Empathy for Royalty\" is \"Low Empathy\": what is the probability that \"Public Sentiment Towards Monarchy\" is \"Positive Sentiment\" (rather than \"Neutral/Negative Sentiment\")?\n",
      "22. when \"Royal Family Public Address\" is \"Emotional/Significant Address\" and \"Media Coverage Intensity\" is \"Limited/Neutral Coverage\" and \"Social Media Engagement\" is \"High Engagement\" and \"Public Empathy for Royalty\" is \"High Empathy\": what is the probability that \"Public Sentiment Towards Monarchy\" is \"Positive Sentiment\" (rather than \"Neutral/Negative Sentiment\")?\n",
      "23. when \"Royal Family Public Address\" is \"Emotional/Significant Address\" and \"Media Coverage Intensity\" is \"Extensive/Sensational Coverage\" and \"Social Media Engagement\" is \"Low Engagement\" and \"Public Empathy for Royalty\" is \"Low Empathy\": what is the probability that \"Public Sentiment Towards Monarchy\" is \"Positive Sentiment\" (rather than \"Neutral/Negative Sentiment\")?\n",
      "24. when \"Royal Family Public Address\" is \"Emotional/Significant Address\" and \"Media Coverage Intensity\" is \"Extensive/Sensational Coverage\" and \"Social Media Engagement\" is \"Low Engagement\" and \"Public Empathy for Royalty\" is \"High Empathy\": what is the probability that \"Public Sentiment Towards Monarchy\" is \"Positive Sentiment\" (rather than \"Neutral/Negative Sentiment\")?\n",
      "25. when \"Royal Family Public Address\" is \"Emotional/Significant Address\" and \"Media Coverage Intensity\" is \"Extensive/Sensational Coverage\" and \"Social Media Engagement\" is \"High Engagement\" and \"Public Empathy for Royalty\" is \"Low Empathy\": what is the probability that \"Public Sentiment Towards Monarchy\" is \"Positive Sentiment\" (rather than \"Neutral/Negative Sentiment\")?\n",
      "26. when \"Royal Family Public Address\" is \"Emotional/Significant Address\" and \"Media Coverage Intensity\" is \"Extensive/Sensational Coverage\" and \"Social Media Engagement\" is \"High Engagement\" and \"Public Empathy for Royalty\" is \"High Empathy\": what is the probability that \"Public Sentiment Towards Monarchy\" is \"Positive Sentiment\" (rather than \"Neutral/Negative Sentiment\")?\n",
      "27. when \"Media Coverage Intensity\" is \"Limited/Neutral Coverage\" and \"Public Sentiment Towards Monarchy\" is \"Neutral/Negative Sentiment\": what is the probability that \"Celebrity Endorsements\" is \"Presence of Endorsements\" (rather than \"Absence of Endorsements\")?\n",
      "28. when \"Media Coverage Intensity\" is \"Limited/Neutral Coverage\" and \"Public Sentiment Towards Monarchy\" is \"Positive Sentiment\": what is the probability that \"Celebrity Endorsements\" is \"Presence of Endorsements\" (rather than \"Absence of Endorsements\")?\n",
      "29. when \"Media Coverage Intensity\" is \"Extensive/Sensational Coverage\" and \"Public Sentiment Towards Monarchy\" is \"Neutral/Negative Sentiment\": what is the probability that \"Celebrity Endorsements\" is \"Presence of Endorsements\" (rather than \"Absence of Endorsements\")?\n",
      "30. when \"Media Coverage Intensity\" is \"Extensive/Sensational Coverage\" and \"Public Sentiment Towards Monarchy\" is \"Positive Sentiment\": what is the probability that \"Celebrity Endorsements\" is \"Presence of Endorsements\" (rather than \"Absence of Endorsements\")?\n",
      "\n",
      "Where the variables are defined as:\n",
      "\"Historical Public Sentiment\" means \"Public sentiment towards the monarchy in the past.\"\n",
      "\"Royal Family Public Address\" means \"Whether a royal family member makes a significant public address.\"\n",
      "\"Media Coverage Intensity\" means \"The extent and nature of media coverage regarding royal events.\"\n",
      "\"Social Media Engagement\" means \"The level of engagement on social media regarding royal events.\"\n",
      "\"Public Empathy for Royalty\" means \"The public’s empathy towards the royal family.\"\n",
      "\"Public Sentiment Towards Monarchy\" means \"The public’s overall sentiment towards the monarchy.\"\n",
      "\"Celebrity Endorsements\" means \"Celebrity endorsements related to royal events.\"\n",
      "\n",
      "For each question above, answer with the lower and upper bound estimates of the probabilities as a python dictionary where the key corresponds to the question index in exactly the following format:\n",
      "\n",
      "```python\n",
      "probabilities = {\n",
      "  1: [0.3, 0.4],\n",
      "  ...\n",
      "}\n",
      "```\n",
      "\n",
      "Answer concisely and precisely in the desired format.\n"
     ]
    }
   ],
   "source": [
    "# if 'prompt_stats' in ctx:\n",
    "#     del ctx['prompt_stats']\n",
    "print(ctx['prompt_stats'])"
   ],
   "metadata": {
    "collapsed": false,
    "ExecuteTime": {
     "end_time": "2023-11-22T16:27:52.164496213Z",
     "start_time": "2023-11-22T16:27:52.113156067Z"
    }
   },
   "id": "feaee31660914e5"
  },
  {
   "cell_type": "code",
   "execution_count": 12,
   "outputs": [],
   "source": [
    "#################################################\n",
    "\n",
    "\n",
    "\n",
    "probabilities = {\n",
    "    1: [0.6, 0.7],  # Historical Public Sentiment is likely to be positive given the longstanding nature of monarchies.\n",
    "    2: [0.2, 0.3],  # Emotional/Significant Address less likely if past sentiment is neutral/negative.\n",
    "    3: [0.7, 0.8],  # More likely to have an Emotional/Significant Address if past sentiment is positive.\n",
    "    4: [0.4, 0.5],  # Extensive/Sensational Media Coverage less likely with historically neutral/negative sentiment.\n",
    "    5: [0.6, 0.7],  # More likely to have Extensive/Sensational Media Coverage with historically positive sentiment.\n",
    "    6: [0.1, 0.2],  # High Social Media Engagement less likely with no significant royal address and limited media coverage.\n",
    "    7: [0.3, 0.4],  # Higher chance of Social Media Engagement with extensive media coverage, even without significant royal address.\n",
    "    8: [0.5, 0.6],  # High Social Media Engagement more likely with Emotional/Significant Address, even if media coverage is limited.\n",
    "    9: [0.7, 0.8],  # High engagement very likely with both Emotional/Significant Address and Extensive Media Coverage.\n",
    "    10: [0.5, 0.6], # Public Empathy for Royalty could be moderately high.\n",
    "    11: [0.2, 0.3], # Positive Sentiment towards Monarchy less likely with all conditions being neutral/negative.\n",
    "    12: [0.4, 0.5], # Slightly higher probability of Positive Sentiment with high public empathy.\n",
    "    13: [0.3, 0.4], # Positive Sentiment somewhat more likely with High Social Media Engagement.\n",
    "    14: [0.5, 0.6], # Higher probability of Positive Sentiment with both High Social Media Engagement and High Empathy.\n",
    "    15: [0.3, 0.4], # Positive Sentiment more likely with extensive media coverage, even with other factors neutral/negative.\n",
    "    16: [0.5, 0.6], # Positive Sentiment likely higher with both extensive media coverage and high empathy.\n",
    "    17: [0.4, 0.5], # Positive Sentiment more probable with extensive coverage and high social media engagement.\n",
    "    18: [0.6, 0.7], # Positive Sentiment very likely with extensive coverage, high engagement, and high empathy.\n",
    "    19: [0.4, 0.5], # Positive Sentiment more likely with Emotional/Significant Address, despite other neutral factors.\n",
    "    20: [0.6, 0.7], # High probability of Positive Sentiment with Emotional Address and High Empathy.\n",
    "    21: [0.5, 0.6], # Positive Sentiment likely with Emotional Address and High Social Media Engagement.\n",
    "    22: [0.7, 0.8], # Very high probability of Positive Sentiment with all positive factors.\n",
    "    23: [0.5, 0.6], # Positive Sentiment more likely with Emotional Address and Extensive Coverage.\n",
    "    24: [0.7, 0.8], # High probability of Positive Sentiment with Emotional Address, Extensive Coverage, and High Empathy.\n",
    "    25: [0.6, 0.7], # Positive Sentiment likely with Emotional Address, Extensive Coverage, and High Social Media Engagement.\n",
    "    26: [0.8, 0.9], # Very high probability of Positive Sentiment with all factors positive.\n",
    "    27: [0.2, 0.3], # Presence of Celebrity Endorsements less likely with limited media coverage and neutral/negative public sentiment.\n",
    "    28: [0.4, 0.5], # Higher likelihood of Celebrity Endorsements with Positive Sentiment, even if media coverage is limited.\n",
    "    29: [0.5, 0.6], # Higher probability of Celebrity Endorsements with extensive media coverage.\n",
    "    30: [0.7, 0.8], # Very likely to have Celebrity Endorsements with extensive coverage and positive public sentiment.\n",
    "}\n",
    "\n",
    "\n",
    "\n",
    "\n",
    "\n",
    "#################################################\n",
    "probs = probabilities\n",
    "ctx['stats'] = probs"
   ],
   "metadata": {
    "collapsed": false,
    "ExecuteTime": {
     "end_time": "2023-11-22T16:29:28.132176615Z",
     "start_time": "2023-11-22T16:29:28.078234089Z"
    }
   },
   "id": "43b3c05608ca33be"
  },
  {
   "cell_type": "code",
   "execution_count": 13,
   "outputs": [
    {
     "name": "stdout",
     "output_type": "stream",
     "text": [
      "---------------------------------  --------------------------  ------------------------------\n",
      "Royal Family Public Address        No/Neutral Address          Emotional/Significant Address\n",
      "Media Coverage Intensity           Limited/Neutral Coverage    Extensive/Sensational Coverage\n",
      "Public Sentiment Towards Monarchy  Neutral/Negative Sentiment  Positive Sentiment\n",
      "---------------------------------  --------------------------  ------------------------------\n"
     ]
    },
    {
     "data": {
      "text/plain": "  0%|          | 0/100 [00:00<?, ?it/s]",
      "application/vnd.jupyter.widget-view+json": {
       "version_major": 2,
       "version_minor": 0,
       "model_id": "ec2b35e032664e1a89167927c0da32f2"
      }
     },
     "metadata": {},
     "output_type": "display_data"
    },
    {
     "name": "stderr",
     "output_type": "stream",
     "text": [
      "/home/fleeb/miniconda3/lib/python3.11/site-packages/torch/masked/maskedtensor/core.py:156: UserWarning: The PyTorch API of MaskedTensors is in prototype stage and will change in the near future. Please open a Github issue for features requests and see our documentation on the torch.masked module for further information about the project.\n",
      "  warnings.warn((\"The PyTorch API of MaskedTensors is in prototype stage \"\n"
     ]
    },
    {
     "name": "stdout",
     "output_type": "stream",
     "text": [
      "'Historical Public Sentiment' means Public sentiment towards the monarchy in the past.\n",
      "'Royal Family Public Address' means Whether a royal family member makes a significant public address.\n",
      "'Media Coverage Intensity' means The extent and nature of media coverage regarding royal events.\n",
      "'Social Media Engagement' means The level of engagement on social media regarding royal events.\n",
      "'Public Empathy for Royalty' means The public’s empathy towards the royal family.\n",
      "'Public Sentiment Towards Monarchy' means The public’s overall sentiment towards the monarchy.\n",
      "'Celebrity Endorsements' means Celebrity endorsements related to royal events.\n",
      "Treatment Value                 Treatment                    Outcome Value       Outcome                              ATE    Correlation\n",
      "------------------------------  ---------------------------  ------------------  ---------------------------------  -----  -------------\n",
      "Emotional/Significant Address   Royal Family Public Address  Positive Sentiment  Public Sentiment Towards Monarchy   0.24     -0.308336\n",
      "Extensive/Sensational Coverage  Media Coverage Intensity     Positive Sentiment  Public Sentiment Towards Monarchy   0.12      0.0991031\n"
     ]
    }
   ],
   "source": [
    "raw_prob_samples = []\n",
    "def to_prob_range(raw):\n",
    "    raw = [prange for _, prange in sorted(raw.items())]\n",
    "    return torch.tensor(raw)\n",
    "\n",
    "prob_ranges = to_prob_range(ctx['stats'])\n",
    "lower_bound, upper_bound = prob_ranges.t()\n",
    "\n",
    "variables = {}\n",
    "for node in ctx['nodes']:\n",
    "    if len(node['parents']):\n",
    "        variables[node['name']] = ConditionalBernoulli([variables[parent] for parent in node['parents']])\n",
    "    else:\n",
    "        variables[node['name']] = Bernoulli(0.5)\n",
    "net = BernoulliNetwork(variables)\n",
    "def mc_samples(N, *fns):\n",
    "    estimates = []\n",
    "    for _ in tqdm(range(N)):\n",
    "        param_sample = torch.rand(len(prob_ranges), 1) * (upper_bound - lower_bound) + lower_bound\n",
    "        net.set_params(param_sample)\n",
    "        estimates.append([fn() for fn in fns])\n",
    "    return torch.tensor(estimates)\n",
    "def make_ate_fn(treatment, outcome, conditions=None):\n",
    "    def ate_fn():\n",
    "        return net.ate(treatment, conditions=conditions)[outcome].item()\n",
    "    return ate_fn\n",
    "def make_corr_fn(v1, v2):\n",
    "    def corr_fn():\n",
    "        return net.correlation(v1, v2).item()\n",
    "    return corr_fn\n",
    "treatment1, treatment2 = [n['name'] for n in ctx['treatments']]\n",
    "t1vals = [node['values'] for node in ctx['nodes'] if node['name'] == treatment1][0]\n",
    "t2vals = [node['values'] for node in ctx['nodes'] if node['name'] == treatment2][0]\n",
    "outcome = ctx['outcome']['name']\n",
    "ovals = [node['values'] for node in ctx['nodes'] if node['name'] == outcome][0]\n",
    "confounders = [node['name'] for node in ctx['confounders']]\n",
    "\n",
    "print(tabulate([\n",
    "    [treatment1, *t1vals],\n",
    "    [treatment2, *t2vals],\n",
    "    [outcome, *ovals]\n",
    "]))\n",
    "\n",
    "cate_keys = [(treatment['name'], confounder['name'], cval) for treatment in ctx['treatments'] for confounder in ctx['confounders'] for cval in [0, 1]]\n",
    "cate_fns = [make_ate_fn(treatment, outcome, conditions={confounder: val}) for treatment, confounder, val in cate_keys]\n",
    "ate1, ate2, corr1, corr2, *cates = mc_samples(100, make_ate_fn(treatment1, outcome), make_ate_fn(treatment2, outcome),\n",
    "                                      make_corr_fn(treatment1, outcome), make_corr_fn(treatment2, outcome), *cate_fns).t()\n",
    "\n",
    "print('\\n'.join(f'{node[\"name\"]!r} means {node[\"description\"]}' for node in ctx['nodes']))\n",
    "print(tabulate([\n",
    "    [f'{t1vals[1]}', f'{treatment1}', f'{ovals[1]}', f'{outcome}', ate1.mean(), corr1.mean(), ],\n",
    "    [f'{t2vals[1]}', f'{treatment2}', f'{ovals[1]}', f'{outcome}', ate2.mean(), corr2.mean(), ],\n",
    "], headers=['Treatment Value', 'Treatment', 'Outcome Value', 'Outcome', 'ATE', 'Correlation']))"
   ],
   "metadata": {
    "collapsed": false,
    "ExecuteTime": {
     "end_time": "2023-11-22T16:29:53.506829047Z",
     "start_time": "2023-11-22T16:29:28.543893695Z"
    }
   },
   "id": "9c542b5b6c1269ef"
  },
  {
   "cell_type": "code",
   "execution_count": 14,
   "outputs": [
    {
     "data": {
      "text/plain": "<Figure size 800x400 with 1 Axes>",
      "image/png": "[encoded data removed]"
     },
     "metadata": {},
     "output_type": "display_data"
    },
    {
     "data": {
      "text/plain": "<Figure size 800x400 with 1 Axes>",
      "image/png": "[encoded data removed]"
     },
     "metadata": {},
     "output_type": "display_data"
    }
   ],
   "source": [
    "plt.figure(figsize=(8, 4))\n",
    "sns.kdeplot(ate1, label=f'{t1vals[1]} = {treatment1}', fill=True, clip=(min(ate1), max(ate1)));\n",
    "sns.kdeplot(ate2, label=f'{t2vals[1]} = {treatment2}', fill=True, clip=(min(ate2), max(ate2)));\n",
    "plt.title(f'{ovals[1]} = {outcome}')\n",
    "plt.ylabel(f'P(ATE)')\n",
    "plt.gca().legend(loc='upper center', bbox_to_anchor=(0.5, -.1))\n",
    "plt.axvline(0, color='black', linestyle='--', alpha=0.5)\n",
    "# plt.xlim(-1, 1)\n",
    "plt.tight_layout();\n",
    "\n",
    "plt.figure(figsize=(8, 4))\n",
    "sns.kdeplot(corr1, label=f'{t1vals[1]} = {treatment1}', fill=True, clip=(min(corr1), max(corr1)));\n",
    "sns.kdeplot(corr2, label=f'{t2vals[1]} = {treatment2}', fill=True, clip=(min(corr2), max(corr2)));\n",
    "plt.title(f'{ovals[1]} = {outcome}')\n",
    "plt.ylabel(f'P(Correlation)')\n",
    "plt.gca().legend(loc='upper center', bbox_to_anchor=(0.5, -.1))\n",
    "plt.axvline(0, color='black', linestyle='--', alpha=0.5)\n",
    "# plt.xlim(-1, 1)\n",
    "plt.tight_layout();"
   ],
   "metadata": {
    "collapsed": false,
    "ExecuteTime": {
     "end_time": "2023-11-22T16:29:53.939569668Z",
     "start_time": "2023-11-22T16:29:53.506992076Z"
    }
   },
   "id": "91c54e61480a1489"
  },
  {
   "cell_type": "code",
   "execution_count": 15,
   "outputs": [
    {
     "name": "stderr",
     "output_type": "stream",
     "text": [
      "/home/fleeb/miniconda3/lib/python3.11/site-packages/torch/masked/maskedtensor/core.py:156: UserWarning: The PyTorch API of MaskedTensors is in prototype stage and will change in the near future. Please open a Github issue for features requests and see our documentation on the torch.masked module for further information about the project.\n",
      "  warnings.warn((\"The PyTorch API of MaskedTensors is in prototype stage \"\n"
     ]
    },
    {
     "name": "stdout",
     "output_type": "stream",
     "text": [
      "Treatment                                                    ATE    Correlation  Outcome\n",
      "---------------------------------------------------------  -----  -------------  ---------------------------------------------------------\n",
      "Historically Positive Historical Public Sentiment           0.5           -0.53  Emotional/Significant Address Royal Family Public Address\n",
      "Historically Positive Historical Public Sentiment           0.2           -0.01  Extensive/Sensational Coverage Media Coverage Intensity\n",
      "Historically Positive Historical Public Sentiment           0.24          -0.34  High Engagement Social Media Engagement\n",
      "Historically Positive Historical Public Sentiment           0              0     High Empathy Public Empathy for Royalty\n",
      "Historically Positive Historical Public Sentiment           0.14           0.16  Positive Sentiment Public Sentiment Towards Monarchy\n",
      "Historically Positive Historical Public Sentiment           0.09          -0.09  Presence of Endorsements Celebrity Endorsements\n",
      "Emotional/Significant Address Royal Family Public Address   0             -0.53  Historically Positive Historical Public Sentiment\n",
      "Emotional/Significant Address Royal Family Public Address   0              0.01  Extensive/Sensational Coverage Media Coverage Intensity\n",
      "Emotional/Significant Address Royal Family Public Address   0.4            0.64  High Engagement Social Media Engagement\n",
      "Emotional/Significant Address Royal Family Public Address   0              0     High Empathy Public Empathy for Royalty\n",
      "Emotional/Significant Address Royal Family Public Address   0.24          -0.31  Positive Sentiment Public Sentiment Towards Monarchy\n",
      "Emotional/Significant Address Royal Family Public Address   0.05           0.18  Presence of Endorsements Celebrity Endorsements\n",
      "Extensive/Sensational Coverage Media Coverage Intensity     0             -0.01  Historically Positive Historical Public Sentiment\n",
      "Extensive/Sensational Coverage Media Coverage Intensity     0              0.01  Emotional/Significant Address Royal Family Public Address\n",
      "Extensive/Sensational Coverage Media Coverage Intensity     0.2           -0.14  High Engagement Social Media Engagement\n",
      "Extensive/Sensational Coverage Media Coverage Intensity     0              0     High Empathy Public Empathy for Royalty\n",
      "Extensive/Sensational Coverage Media Coverage Intensity     0.12           0.1   Positive Sentiment Public Sentiment Towards Monarchy\n",
      "Extensive/Sensational Coverage Media Coverage Intensity     0.32           0.17  Presence of Endorsements Celebrity Endorsements\n",
      "High Engagement Social Media Engagement                     0             -0.34  Historically Positive Historical Public Sentiment\n",
      "High Engagement Social Media Engagement                     0              0.64  Emotional/Significant Address Royal Family Public Address\n",
      "High Engagement Social Media Engagement                     0             -0.14  Extensive/Sensational Coverage Media Coverage Intensity\n",
      "High Engagement Social Media Engagement                     0             -0     High Empathy Public Empathy for Royalty\n",
      "High Engagement Social Media Engagement                     0.1           -0.27  Positive Sentiment Public Sentiment Towards Monarchy\n",
      "High Engagement Social Media Engagement                     0.02           0.12  Presence of Endorsements Celebrity Endorsements\n",
      "High Empathy Public Empathy for Royalty                     0             -0     Historically Positive Historical Public Sentiment\n",
      "High Empathy Public Empathy for Royalty                     0             -0     Emotional/Significant Address Royal Family Public Address\n",
      "High Empathy Public Empathy for Royalty                     0              0     Extensive/Sensational Coverage Media Coverage Intensity\n",
      "High Empathy Public Empathy for Royalty                     0             -0     High Engagement Social Media Engagement\n",
      "High Empathy Public Empathy for Royalty                     0.2            0.09  Positive Sentiment Public Sentiment Towards Monarchy\n",
      "High Empathy Public Empathy for Royalty                     0.04          -0.05  Presence of Endorsements Celebrity Endorsements\n",
      "Positive Sentiment Public Sentiment Towards Monarchy        0              0.17  Historically Positive Historical Public Sentiment\n",
      "Positive Sentiment Public Sentiment Towards Monarchy        0             -0.36  Emotional/Significant Address Royal Family Public Address\n",
      "Positive Sentiment Public Sentiment Towards Monarchy        0              0.09  Extensive/Sensational Coverage Media Coverage Intensity\n",
      "Positive Sentiment Public Sentiment Towards Monarchy        0             -0.28  High Engagement Social Media Engagement\n",
      "Positive Sentiment Public Sentiment Towards Monarchy        0              0.09  High Empathy Public Empathy for Royalty\n",
      "Positive Sentiment Public Sentiment Towards Monarchy        0.2           -0.49  Presence of Endorsements Celebrity Endorsements\n",
      "Presence of Endorsements Celebrity Endorsements             0             -0.09  Historically Positive Historical Public Sentiment\n",
      "Presence of Endorsements Celebrity Endorsements             0              0.18  Emotional/Significant Address Royal Family Public Address\n",
      "Presence of Endorsements Celebrity Endorsements             0              0.14  Extensive/Sensational Coverage Media Coverage Intensity\n",
      "Presence of Endorsements Celebrity Endorsements             0              0.11  High Engagement Social Media Engagement\n",
      "Presence of Endorsements Celebrity Endorsements             0             -0.05  High Empathy Public Empathy for Royalty\n",
      "Presence of Endorsements Celebrity Endorsements             0             -0.5   Positive Sentiment Public Sentiment Towards Monarchy\n"
     ]
    }
   ],
   "source": [
    "mn1, mx1 = ate1.min().item(), ate1.max().item()\n",
    "mu1 = ate1.mean().item()\n",
    "assert mn1 * mx1 > 0, f'{mn1} * {mx1} < 0'\n",
    "mn2, mx2 = ate2.min().item(), ate2.max().item()\n",
    "mu2 = ate2.mean().item()\n",
    "assert mn2 * mx2 > 0, f'{mn2} * {mx2} < 0'\n",
    "ctx['ate1'] = ate1.mean().item()\n",
    "ctx['ate2'] = ate2.mean().item()\n",
    "reverse1 = mu1 < 0\n",
    "reverse2 = mu2 < 0\n",
    "# print(tabulate([(node['name'], *node['values'], node['description']) for node in ctx['nodes']], headers=['Variable Name', 'Value 0', 'Value 1', 'Description']))\n",
    "outcome = [node['name'] for node in ctx['nodes'] if node['type'] == 'outcome'][0]\n",
    "tbl = []\n",
    "\n",
    "for node1, node2 in product(ctx['nodes'], ctx['nodes']):\n",
    "    if node1 != node2:\n",
    "        tbl.append([\n",
    "                    f'{node1[\"values\"][1]} {node1[\"name\"]}', \n",
    "                    f\"{net.ate(node1['name'])[node2['name']].item():.2f}\", \n",
    "                    f\"{net.correlation(node1['name'], node2['name']).item():.2f}\",\n",
    "                    f'{node2[\"values\"][1]} {node2[\"name\"]}', \n",
    "                    # node1['description'], \n",
    "                    # node2['description'], \n",
    "                    ])\n",
    "print(tabulate(tbl, headers=['Treatment', 'ATE', 'Correlation', 'Outcome', \n",
    "                             # 'Treatment Description', 'Outcome Description'\n",
    "                             ]))"
   ],
   "metadata": {
    "collapsed": false,
    "ExecuteTime": {
     "end_time": "2023-11-22T16:30:38.221644610Z",
     "start_time": "2023-11-22T16:30:35.242870953Z"
    }
   },
   "id": "edf70b7683a3e1b0"
  },
  {
   "cell_type": "code",
   "execution_count": 16,
   "outputs": [
    {
     "name": "stdout",
     "output_type": "stream",
     "text": [
      "('Royal Family Public Address', 'Public Sentiment Towards Monarchy', ['Media Coverage Intensity'])\n",
      "('Media Coverage Intensity', 'Public Sentiment Towards Monarchy', ['Historical Public Sentiment'])\n"
     ]
    }
   ],
   "source": [
    "print(net.backdoor_estimand(treatment1, outcome))\n",
    "print(net.backdoor_estimand(treatment2, outcome))"
   ],
   "metadata": {
    "collapsed": false,
    "ExecuteTime": {
     "end_time": "2023-11-22T16:30:38.238864362Z",
     "start_time": "2023-11-22T16:30:38.224493136Z"
    }
   },
   "id": "edc6313c83a358fc"
  },
  {
   "cell_type": "code",
   "execution_count": 18,
   "outputs": [
    {
     "name": "stdout",
     "output_type": "stream",
     "text": [
      "We would like to find very natural verbalizations of the following binary variables selected from a statistical model. The verbalizations should sound more natural and organic, so that you could imagine them being used in a news paper article or casual conversation, while still being semantically equivalent to the original variable and value.\n",
      "\n",
      "Here are the templates that we use to verbalize the variables:\n",
      "\n",
      "1. One of the variables is {variable.\n",
      "2. We estimate {subject [often/usually/sometimes/rarely/etc.] {value.\n",
      "3. There is a [number]% chance that {value.\n",
      "4. [number]% of {domain {value.\n",
      "5. [number]% of the time {value.\n",
      "6. Conditional sentence: {value, [some consequence].\n",
      "7. Interventional: If {value}, [some effect].\n",
      "\n",
      "Variable 'Historical Public Sentiment' (0='Historically Neutral/Negative', 1='Historically Positive') means Public sentiment towards the monarchy in the past.\n",
      "Variable 'Royal Family Public Address' (0='No/Neutral Address', 1='Emotional/Significant Address') means Whether a royal family member makes a significant public address.\n",
      "Variable 'Media Coverage Intensity' (0='Limited/Neutral Coverage', 1='Extensive/Sensational Coverage') means The extent and nature of media coverage regarding royal events.\n",
      "Variable 'Social Media Engagement' (0='Low Engagement', 1='High Engagement') means The level of engagement on social media regarding royal events.\n",
      "Variable 'Public Empathy for Royalty' (0='Low Empathy', 1='High Empathy') means The public’s empathy towards the royal family.\n",
      "Variable 'Public Sentiment Towards Monarchy' (0='Neutral/Negative Sentiment', 1='Positive Sentiment') means The public’s overall sentiment towards the monarchy.\n",
      "Variable 'Celebrity Endorsements' (0='Absence of Endorsements', 1='Presence of Endorsements') means Celebrity endorsements related to royal events.\n",
      "\n",
      "Here are some examples of verbalizations of the variable. For each of the templates fill in the blanks (and include 2-3 examples for each template). Format your response as a python dictionary. When replacing the key \"value\", make sure to include some examples for both values that the variables can take. For example, a variable \"Smoking Rate\" which takes the values \"Low Smoking Rate\"=0 and \"High Smoking Rate\"=1 can be verbalized like this:\n",
      "\n",
      "```python\n",
      "verbalizations = {\n",
      "  \"Smoking Rate\": {\n",
      "    1: {\"variable\": [\"the smoking rate\", \"proportion of smokers\"],\n",
      "    2: {\"subject\": \"people\", \"value\": {0: [\"do not smoke\", \"are non-smokers\"], 1: [\"smoke\", \"are smokers\"],\n",
      "    3: {\"value\": {0: [\"people do not smoke\", \"people are non-smokers\"], 1: [\"people smoke\", \"people are smokers\"],\n",
      "    4: {\"domain\": \"people\", \"value\": {0: [\"do not smoke\", \"are non-smokers\"], 1: [\"smoke\", \"are smokers\"],\n",
      "    5: {\"value\": {0: [\"the smoking rate decreases\", \"people stop smoking\"], 1: [\"the smoking rate increases\", \"people start smoking\"],\n",
      "    6: {\"value\": {0: [\"For people that do not smoke\", \"Among non-smokers\"], 1: [\"For people that smoke\", \"Among smokers\"],\n",
      "    7: {\"value\": {0: [\"people quite smoking\", \"people become non-smokers\"], 1: [\"people become smokers\", \"people take up smoking\"]},\n",
      "  },\n",
      "  ...\n",
      "}\n",
      "```\n",
      "\n",
      "Answer concisely and precisely in the desired format, and only replace the blanks in curly braces. Do not add any additional comments or discussion. Most importantly, the verbalizations should not contain quantitative information like \"often\" or \"rarely\", and instead always assert the corresponding value.\n"
     ]
    }
   ],
   "source": [
    "# if 'prompt_verbs' in ctx:\n",
    "#     del ctx['prompt_verbs']\n",
    "print(ctx['prompt_verbs'])"
   ],
   "metadata": {
    "collapsed": false,
    "ExecuteTime": {
     "end_time": "2023-11-22T16:31:24.635114178Z",
     "start_time": "2023-11-22T16:31:24.565415521Z"
    }
   },
   "id": "73c0c276210810f5"
  },
  {
   "cell_type": "code",
   "execution_count": 29,
   "outputs": [],
   "source": [
    "#######################################################################\n",
    "\n",
    "verbalizations = {\n",
    "    \"Historical Public Sentiment\": {\n",
    "        1: {\"variable\": [\"historical public sentiment towards the monarchy\", \"public's past sentiment about the monarchy\"]},\n",
    "        2: {\"subject\": \"the public's sentiment\", \"value\": {0: [\"was neutral or negative towards the monarchy\", \"held a neutral or negative view of the monarchy\"], 1: [\"was positive towards the monarchy\", \"favored the monarchy\"]}},\n",
    "        3: {\"value\": {0: [\"the public was neutral or negative towards the monarchy\", \"there was a neutral or negative public sentiment towards the monarchy\"], 1: [\"the public was positive towards the monarchy\", \"there was a favorable public sentiment towards the monarchy\"]}},\n",
    "        4: {\"domain\": \"public sentiment\", \"value\": {0: [\"was neutral or negative towards the monarchy\", \"held a neutral or negative view of the monarchy\"], 1: [\"was positive towards the monarchy\", \"favored the monarchy\"]}},\n",
    "        5: {\"value\": {0: [\"public sentiment towards the monarchy is neutral or negative\", \"the monarchy faces neutral or negative public sentiment\"], 1: [\"public sentiment towards the monarchy is positive\", \"the monarchy enjoys positive public sentiment\"]}},\n",
    "        6: {\"value\": {0: [\"When the public sentiment towards the monarchy is neutral or negative\", \"In times of neutral or negative public sentiment towards the monarchy\"], 1: [\"When the public sentiment towards the monarchy is positive\", \"In times of favorable public sentiment towards the monarchy\"]}},\n",
    "        7: {\"value\": {0: [\"if public sentiment towards the monarchy turns neutral or negative\", \"if the monarchy faces a shift to neutral or negative public sentiment\"], 1: [\"if public sentiment towards the monarchy becomes positive\", \"if the monarchy gains favorable public sentiment\"]}},\n",
    "    },\n",
    "    \"Royal Family Public Address\": {\n",
    "        1: {\"variable\": [\"royal family's public address\", \"public statements by the royal family\"]},\n",
    "        2: {\"subject\": \"a royal family member\", \"value\": {0: [\"does not make a significant public address\", \"gives a neutral or no public address\"], 1: [\"makes an emotional or significant public address\", \"delivers a heartfelt or important public statement\"]}},\n",
    "        3: {\"value\": {0: [\"a royal family member does not make a significant public address\", \"there is a neutral or no public address by a royal family member\"], 1: [\"a royal family member makes an emotional or significant public address\", \"there is a heartfelt or important public statement by a royal family member\"]}},\n",
    "        4: {\"domain\": \"royal family members\", \"value\": {0: [\"do not make a significant public address\", \"give a neutral or no public address\"], 1: [\"make an emotional or significant public address\", \"deliver a heartfelt or important public statement\"]}},\n",
    "        5: {\"value\": {0: [\"a royal family member does not make a significant address\", \"there is no significant public address from the royal family\"], 1: [\"a royal family member makes an emotional or significant address\", \"there is an important public statement from the royal family\"]}},\n",
    "        6: {\"value\": {0: [\"If a royal family member does not make a significant public address\", \"When there is no significant public address from the royal family\"], 1: [\"If a royal family member makes an emotional or significant public address\", \"When there is an important public statement from the royal family\"]}},\n",
    "        7: {\"value\": {0: [\"if a royal family member refrains from making a significant public address\", \"if there is no significant public statement from the royal family\"], 1: [\"if a royal family member makes an emotional or significant public address\", \"if an important public statement is made by the royal family\"]}},\n",
    "    },\n",
    "    \"Media Coverage Intensity\": {\n",
    "        1: {\"variable\": [\"intensity of media coverage on royal events\", \"extent of media focus on royal affairs\"]},\n",
    "        2: {\"subject\": \"media coverage\", \"value\": {0: [\"is limited or neutral on royal events\", \"maintains a neutral or limited focus on royal affairs\"], 1: [\"is extensive or sensational on royal events\", \"takes an extensive or sensational approach to royal affairs\"]}},\n",
    "        3: {\"value\": {0: [\"media coverage is limited or neutral on royal events\", \"there is a neutral or limited focus in media on royal affairs\"], 1: [\"media coverage is extensive or sensational on royal events\", \"there is an extensive or sensational focus in media on royal affairs\"]}},\n",
    "        4: {\"domain\": \"media outlets\", \"value\": {0: [\"provide limited or neutral coverage on royal events\", \"maintain a neutral or limited focus on royal affairs\"], 1: [\"provide extensive or sensational coverage on royal events\", \"take an extensive or sensational approach to royal affairs\"]}},\n",
    "        5: {\"value\": {0: [\"media coverage of royal events is limited or neutral\", \"the focus on royal affairs in the media is neutral or limited\"], 1: [\"media coverage of royal events is extensive or sensational\", \"the focus on royal affairs in the media is extensive or sensational\"]}},\n",
    "        6: {\"value\": {0: [\"When media coverage of royal events is limited or neutral\", \"In cases of neutral or limited media focus on royal affairs\"], 1: [\"When media coverage of royal events is extensive or sensational\", \"In cases of extensive or sensational media focus on royal affairs\"]}},\n",
    "        7: {\"value\": {0: [\"if media coverage of royal events becomes limited or neutral\", \"if the media focus on royal affairs turns neutral or limited\"], 1: [\"if media coverage of royal events becomes extensive or sensational\", \"if the media focus on royal affairs turns extensive or sensational\"]}},\n",
    "    },\n",
    "    \"Social Media Engagement\": {\n",
    "        1: {\"variable\": [\"social media engagement with royal events\", \"level of interaction on social media about royal affairs\"]},\n",
    "        2: {\"subject\": \"social media engagement\", \"value\": {0: [\"is low regarding royal events\", \"remains low for royal affairs\"], 1: [\"is high regarding royal events\", \"soars for royal affairs\"]}},\n",
    "        3: {\"value\": {0: [\"social media engagement is low regarding royal events\", \"there is minimal interaction on social media about royal affairs\"], 1: [\"social media engagement is high regarding royal events\", \"there is significant interaction on social media about royal affairs\"]}},\n",
    "        4: {\"domain\": \"social media posts\", \"value\": {0: [\"show low engagement with royal events\", \"reflect minimal interaction about royal affairs\"], 1: [\"show high engagement with royal events\", \"reflect significant interaction about royal affairs\"]}},\n",
    "        5: {\"value\": {0: [\"social media engagement with royal events is low\", \"interaction on social media about royal affairs remains minimal\"], 1: [\"social media engagement with royal events is high\", \"interaction on social media about royal affairs is significant\"]}},\n",
    "        6: {\"value\": {0: [\"When social media engagement with royal events is low\", \"If interaction on social media about royal affairs remains minimal\"], 1: [\"When social media engagement with royal events is high\", \"If interaction on social media about royal affairs is significant\"]}},\n",
    "        7: {\"value\": {0: [\"if social media engagement with royal events remains low\", \"if interaction on social media about royal affairs stays minimal\"], 1: [\"if social media engagement with royal events becomes high\", \"if interaction on social media about royal affairs becomes significant\"]}},\n",
    "    },\n",
    "    \"Public Empathy for Royalty\": {\n",
    "        1: {\"variable\": [\"public empathy for the royal family\", \"the public's compassion towards royalty\"]},\n",
    "        2: {\"subject\": \"public empathy\", \"value\": {0: [\"is low for the royal family\", \"remains minimal towards royalty\"], 1: [\"is high for the royal family\", \"is strong towards royalty\"]}},\n",
    "        3: {\"value\": {0: [\"public empathy for the royal family is low\", \"there is minimal compassion towards royalty in the public\"], 1: [\"public empathy for the royal family is high\", \"there is strong compassion towards royalty in the public\"]}},\n",
    "        4: {\"domain\": \"public opinions\", \"value\": {0: [\"show low empathy for the royal family\", \"reflect minimal compassion towards royalty\"], 1: [\"show high empathy for the royal family\", \"reflect strong compassion towards royalty\"]}},\n",
    "        5: {\"value\": {0: [\"public empathy for the royal family is low\", \"compassion towards royalty in the public remains minimal\"], 1: [\"public empathy for the royal family is high\", \"compassion towards royalty in the public is strong\"]}},\n",
    "        6: {\"value\": {0: [\"When public empathy for the royal family is low\", \"If compassion towards royalty in the public remains minimal\"], 1: [\"When public empathy for the royal family is high\", \"If compassion towards royalty in the public is strong\"]}},\n",
    "        7: {\"value\": {0: [\"if public empathy for the royal family remains low\", \"if compassion towards royalty in the public stays minimal\"], 1: [\"if public empathy for the royal family becomes high\", \"if compassion towards royalty in the public becomes strong\"]}},\n",
    "    },\n",
    "        \"Public Sentiment Towards Monarchy\": {\n",
    "        1: {\n",
    "            \"variable\": [\"the public's view of the monarchy\", \"societal opinion of the royal family\"]\n",
    "        },\n",
    "        2: {\n",
    "            \"subject\": \"society\",\n",
    "            \"value\": {\n",
    "                0: [\"is indifferent or critical towards the monarchy\", \"holds a neutral or negative view of the monarchy\"],\n",
    "                1: [\"favors the monarchy\", \"holds a positive view of the monarchy\"]\n",
    "            }\n",
    "        },\n",
    "        3: {\n",
    "            \"value\": {\n",
    "                0: [\"the public is indifferent or critical towards the monarchy\", \"society holds a neutral or negative view of the monarchy\"],\n",
    "                1: [\"the public favors the monarchy\", \"society holds a positive view of the monarchy\"]\n",
    "            }\n",
    "        },\n",
    "        4: {\n",
    "            \"domain\": \"the public\",\n",
    "            \"value\": {\n",
    "                0: [\"is indifferent or critical towards the monarchy\", \"holds a neutral or negative view of the monarchy\"],\n",
    "                1: [\"favors the monarchy\", \"holds a positive view of the monarchy\"]\n",
    "            }\n",
    "        },\n",
    "        5: {\n",
    "            \"value\": {\n",
    "                0: [\"public sentiment is neutral or negative towards the monarchy\", \"societal views are indifferent or critical of the monarchy\"],\n",
    "                1: [\"public sentiment is positive towards the monarchy\", \"societal views favor the monarchy\"]\n",
    "            }\n",
    "        },\n",
    "        6: {\n",
    "            \"value\": {\n",
    "                0: [\"If the public is indifferent or critical towards the monarchy\", \"In cases where society holds a neutral or negative view of the monarchy\"],\n",
    "                1: [\"If the public favors the monarchy\", \"When society holds a positive view of the monarchy\"]\n",
    "            }\n",
    "        },\n",
    "        7: {\n",
    "            \"value\": {\n",
    "                0: [\"If the public becomes indifferent or critical towards the monarchy\", \"If society adopts a neutral or negative view of the monarchy\"],\n",
    "                1: [\"If the public starts favoring the monarchy\", \"If society adopts a positive view of the monarchy\"]\n",
    "            }\n",
    "        }\n",
    "    },\n",
    "    \"Celebrity Endorsements\": {\n",
    "        1: {\n",
    "            \"variable\": [\"celebrity involvement in royal events\", \"celebrity support for the monarchy\"]\n",
    "        },\n",
    "        2: {\n",
    "            \"subject\": \"celebrities\",\n",
    "            \"value\": {\n",
    "                0: [\"do not endorse royal events\", \"stay away from royal endorsements\"],\n",
    "                1: [\"endorse royal events\", \"show their support for the monarchy\"]\n",
    "            }\n",
    "        },\n",
    "        3: {\n",
    "            \"value\": {\n",
    "                0: [\"celebrities do not endorse royal events\", \"celebrities stay away from royal endorsements\"],\n",
    "                1: [\"celebrities endorse royal events\", \"celebrities show their support for the monarchy\"]\n",
    "            }\n",
    "        },\n",
    "        4: {\n",
    "            \"domain\": \"celebrities\",\n",
    "            \"value\": {\n",
    "                0: [\"do not endorse royal events\", \"stay away from royal endorsements\"],\n",
    "                1: [\"endorse royal events\", \"show their support for the monarchy\"]\n",
    "            }\n",
    "        },\n",
    "        5: {\n",
    "            \"value\": {\n",
    "                0: [\"there is no celebrity endorsement for royal events\", \"celebrities are not supporting the monarchy\"],\n",
    "                1: [\"there is celebrity endorsement for royal events\", \"celebrities are supporting the monarchy\"]\n",
    "            }\n",
    "        },\n",
    "        6: {\n",
    "            \"value\": {\n",
    "                0: [\"For celebrities who do not endorse royal events\", \"Among celebrities who stay away from royal endorsements\"],\n",
    "                1: [\"For celebrities who endorse royal events\", \"Among celebrities who show their support for the monarchy\"]\n",
    "            }\n",
    "        },\n",
    "        7: {\n",
    "            \"value\": {\n",
    "                0: [\"if celebrities stop endorsing royal events\", \"if celebrities withdraw their support for the monarchy\"],\n",
    "                1: [\"if celebrities start endorsing royal events\", \"if celebrities show support for the monarchy\"]\n",
    "            }\n",
    "        }\n",
    "    }\n",
    "}\n",
    "\n",
    "#######################################################################\n",
    "ctx['verbs'] = verbalizations"
   ],
   "metadata": {
    "collapsed": false,
    "ExecuteTime": {
     "end_time": "2023-11-22T16:49:42.365516129Z",
     "start_time": "2023-11-22T16:49:42.305006137Z"
    }
   },
   "id": "f1b39705ef9701a9"
  },
  {
   "cell_type": "code",
   "execution_count": 28,
   "outputs": [
    {
     "name": "stdout",
     "output_type": "stream",
     "text": [
      "We have a causal bayes net based on the following article:\n",
      "\n",
      "```\n",
      "Title: Prince Charles addresses the nation after the death of father Philip - RTL News\n",
      "Description: 72-year-old Prince Charles has responded publicly for the first time to the death of his father, Prince Philip. In the presence of the press, he said he missed his 'daddy' enormously and thanked him for all the messages of support from all over the world.\n",
      "Original Language: Dutch\n",
      "```\n",
      "\n",
      "Now we would like to use this model to generate some interesting research questions:\n",
      "\n",
      "1. Write a short two sentence introduction to describe motivation and purpose of the causal model to provide context to the questions in an conversational/debate setting. Where possible, include relevant details from the original article headline or related information you can infer therefrom. Avoid discussing specific structural properties or assumptions in the causal graph, and instead focus on the overall motivation and potential applications for the model. Refrain from mentioning words like \"causal inference\" or \"model\".\n",
      "Make sure not to use any technical terms from causal inference so that the introduction is easy to understand even for a layperson, as if this were in a newspaper or casual discussion.\n",
      "2. Write a short two sentence overview of the structure of the causal graph including noteworthy properties and assumptions. Use an intuitive conversational style to describe the causal graph, and avoid using technical terms or jargon, but you can describe the variables and their relationships (including using terms like \"confounder\"/\"confounding\", \"mediator\"/\"mediates\") as long as you explain them in a way that is understandable to a layperson.\n",
      "3. Verbalize an interesting \"yes\"/\"no\" question where the correct answer depends computation of each of the following quantities:\n",
      "\n",
      "\t1. ATE('Royal Family Public Address') < 0\n",
      "\t2. ATE('Media Coverage Intensity') > 0\n",
      "\t3. ATE('Royal Family Public Address')| > |ATE('Media Coverage Intensity')\n",
      "\t4. |ATE('Royal Family Public Address')| < |ATE('Media Coverage Intensity')|\n",
      "\t5. CATE('Royal Family Public Address' | 'Historical Public Sentiment' = 0) < 0\n",
      "\t6. CATE('Media Coverage Intensity' | 'Historical Public Sentiment' = 0) > 0\n",
      "\t7. CATE('Media Coverage Intensity' | 'Historical Public Sentiment' = 0) > CATE('Royal Family Public Address' | 'Historical Public Sentiment' = 0)\n",
      "\t8. |CATE('Royal Family Public Address' | 'Historical Public Sentiment' = 0)| > |CATE('Media Coverage Intensity' | 'Historical Public Sentiment' = 0)|\n",
      "\t9. CATE('Royal Family Public Address' | 'Historical Public Sentiment' = 1) < 0\n",
      "\t10. CATE('Media Coverage Intensity' | 'Historical Public Sentiment' = 1) < 0\n",
      "\t11. CATE('Media Coverage Intensity' | 'Historical Public Sentiment' = 1) < CATE('Royal Family Public Address' | 'Historical Public Sentiment' = 1)\n",
      "\t12. |CATE('Media Coverage Intensity' | 'Historical Public Sentiment' = 1)| > |CATE('Royal Family Public Address' | 'Historical Public Sentiment' = 1)|\n",
      "\t13. CATE('Royal Family Public Address' | 'Historical Public Sentiment' = 0) > CATE('Royal Family Public Address' | 'Historical Public Sentiment' = 1)\n",
      "\t14. |CATE('Royal Family Public Address' | 'Historical Public Sentiment' = 0)| < |CATE('Royal Family Public Address' | 'Historical Public Sentiment' = 1)|\n",
      "\t15. CATE('Media Coverage Intensity' | 'Historical Public Sentiment' = 0) < CATE('Media Coverage Intensity' | 'Historical Public Sentiment' = 1)\n",
      "\t16. |CATE('Media Coverage Intensity' | 'Historical Public Sentiment' = 0)| < |CATE('Media Coverage Intensity' | 'Historical Public Sentiment' = 1)|\n",
      "\n",
      "Where \"| * |\" is the absolute value and the definitions of \"ATE('X')\" (average treatment effect) and \"CATE('X' | 'U'=u)\" are:\n",
      "\n",
      "ATE('X') = E['Y' | do('X' = 1)] - E['Y' | do('X' = 0)]\n",
      "CATE('X' | 'U'=u) = E['Y' | 'U'=u, do('X' = 1)] - E['Y' | 'U'=u, do('X' = 0)]\n",
      "\n",
      "Where 'X' is a treatment variable, 'Y' is the outcome variable, and 'U' is a confounder variable.\n",
      "\n",
      "4. In addition to the questions and associated answers include a one sentence explanation for each question, and \"wrong_explanation\" which is just like the explanation but argues for the opposite answer.\n",
      "\n",
      "The meanings of all the variables (all of which are binary) in the statistical model are:\n",
      "\n",
      "Variable 'Historical Public Sentiment' (0='Historically Neutral/Negative', 1='Historically Positive') means Public sentiment towards the monarchy in the past.\n",
      "Variable 'Royal Family Public Address' (0='No/Neutral Address', 1='Emotional/Significant Address') means Whether a royal family member makes a significant public address.\n",
      "Variable 'Media Coverage Intensity' (0='Limited/Neutral Coverage', 1='Extensive/Sensational Coverage') means The extent and nature of media coverage regarding royal events.\n",
      "Variable 'Social Media Engagement' (0='Low Engagement', 1='High Engagement') means The level of engagement on social media regarding royal events.\n",
      "Variable 'Public Empathy for Royalty' (0='Low Empathy', 1='High Empathy') means The public’s empathy towards the royal family.\n",
      "Variable 'Public Sentiment Towards Monarchy' (0='Neutral/Negative Sentiment', 1='Positive Sentiment') means The public’s overall sentiment towards the monarchy.\n",
      "Variable 'Celebrity Endorsements' (0='Absence of Endorsements', 1='Presence of Endorsements') means Celebrity endorsements related to royal events.\n",
      "\n",
      "Answer in the form of a python dictionary in the following format:\n",
      "\n",
      "```python\n",
      "setting = {\n",
      "  \"introduction\": \"[introduction]\",\n",
      "  \"overview\": \"[overview]\",\n",
      "  \"questions\": {\n",
      "    1: {\"question\": \"[question]\", \"answer\": \"yes\", \"explanation\": \"[explanation]\", \"wrong_explanation\": \"[wrong_explanation]\"},\n",
      "    ...\n",
      "  },\n",
      "}\n",
      "```\n",
      "Answer concisely and precisely in the desired format. Do not add any additional comments or discussion. Most importantly, do not use any technical terms from causal inference such as ATE or CATE in the questions and explanations so that everything is easy to understand even for a layperson.\n"
     ]
    }
   ],
   "source": [
    "if 'prompt_questions' in ctx:\n",
    "    del ctx['prompt_questions']\n",
    "print(ctx['prompt_questions'])"
   ],
   "metadata": {
    "collapsed": false,
    "ExecuteTime": {
     "end_time": "2023-11-22T16:46:44.838726535Z",
     "start_time": "2023-11-22T16:46:44.784084565Z"
    }
   },
   "id": "205f78619189a0b6"
  },
  {
   "cell_type": "code",
   "execution_count": 30,
   "outputs": [],
   "source": [
    "#######################################################################\n",
    "\n",
    "setting = {\n",
    "    \"introduction\": \"Following the death of Prince Philip, Prince Charles's heartfelt address to the nation marked a significant moment. This event offers a unique opportunity to explore how such personal moments in the lives of public figures influence public opinion and media dynamics.\",\n",
    "    \"overview\": \"In this scenario, we're looking at how different factors like a royal family member's public address, media coverage, and historical public sentiments interact and shape current public opinion. It's like a web where each thread—be it the type of media coverage or the emotional tone of a royal address—affects how the public feels about the monarchy.\",\n",
    "    \"questions\": {\n",
    "        1: {\n",
    "            \"question\": \"Is a significant public address by a royal family member less likely to result in positive public sentiment towards the monarchy?\",\n",
    "            \"answer\": \"no\",\n",
    "            \"explanation\": \"A significant and emotional address by a royal family member often resonates with the public, potentially leading to more positive sentiments.\",\n",
    "            \"wrong_explanation\": \"A significant address by a royal family member might overshadow other factors, possibly leading to a decrease in positive public sentiment.\"\n",
    "        },\n",
    "        2: {\n",
    "            \"question\": \"Does extensive media coverage contribute to a more positive public sentiment towards the monarchy?\",\n",
    "            \"answer\": \"yes\",\n",
    "            \"explanation\": \"Extensive and possibly sensational media coverage can amplify the impact of events, swaying public sentiment towards a more positive view of the monarchy.\",\n",
    "            \"wrong_explanation\": \"Extensive media coverage might overexpose the monarchy, potentially leading to a more negative public sentiment.\"\n",
    "        },\n",
    "        3: {\n",
    "            \"question\": \"Does a royal family's public address have a greater impact on public sentiment than the intensity of media coverage?\",\n",
    "            \"answer\": \"no\",\n",
    "            \"explanation\": \"The intensity of media coverage often has a broader reach and can be more influential in shaping public sentiment than a single address.\",\n",
    "            \"wrong_explanation\": \"A royal family's emotional public address might have a more direct and stronger impact on public sentiment compared to media coverage.\"\n",
    "        },\n",
    "        4: {\n",
    "            \"question\": \"Is the impact of media coverage on public sentiment towards the monarchy more significant than that of a royal family's public address?\",\n",
    "            \"answer\": \"yes\",\n",
    "            \"explanation\": \"The pervasive nature of media, especially when coverage is extensive or sensational, tends to have a larger influence on public sentiment than a singular public address.\",\n",
    "            \"wrong_explanation\": \"The personal and emotional connection established during a royal family's public address might have a stronger impact on public sentiment than media coverage.\"\n",
    "        },\n",
    "        5: {\n",
    "            \"question\": \"When historical public sentiment is neutral or negative, does a royal family's public address have a negative impact on current public sentiment?\",\n",
    "            \"answer\": \"no\",\n",
    "            \"explanation\": \"Even when past sentiments are neutral or negative, a heartfelt public address can resonate positively with the public.\",\n",
    "            \"wrong_explanation\": \"If the historical public sentiment is already neutral or negative, a royal family's public address might reinforce these sentiments, leading to a further decline in positivity.\"\n",
    "        },\n",
    "        6: {\n",
    "            \"question\": \"When historical public sentiment is neutral or negative, does extensive media coverage positively influence current public sentiment?\",\n",
    "            \"answer\": \"yes\",\n",
    "            \"explanation\": \"Even with a historically neutral or negative backdrop, extensive media coverage can turn the tide, creating a more positive public sentiment.\",\n",
    "            \"wrong_explanation\": \"Extensive media coverage in the context of historically neutral or negative sentiments might fail to shift the public's opinion positively.\"\n",
    "        },\n",
    "        7: {\n",
    "            \"question\": \"Is the positive influence of extensive media coverage on public sentiment greater than that of a royal family's public address when historical sentiments are neutral or negative?\",\n",
    "            \"answer\": \"yes\",\n",
    "            \"explanation\": \"In a scenario with neutral or negative historical sentiments, the wide reach of media often has a more significant positive influence compared to a singular public address.\",\n",
    "            \"wrong_explanation\": \"Even with neutral or negative historical sentiments, a royal family's public address might have a more profound impact than media coverage.\"\n",
    "        },\n",
    "        8: {\n",
    "            \"question\": \"When historical public sentiment is neutral or negative, does a royal family's public address have a greater positive influence than media coverage on current public sentiment?\",\n",
    "            \"answer\": \"no\",\n",
    "            \"explanation\": \"In this context, the broader impact of media coverage tends to overshadow the influence of a royal family's public address.\",\n",
    "            \"wrong_explanation\": \"A royal family's heartfelt address can resonate more deeply with the public compared to the general impact of media coverage.\"\n",
    "        },\n",
    "        9: {\n",
    "            \"question\": \"When historical public sentiment is positive, does a royal family's public address negatively affect current public sentiment?\",\n",
    "            \"answer\": \"no\",\n",
    "            \"explanation\": \"With a foundation of positive historical sentiment, a royal family's public address is likely to further bolster positive feelings towards the monarchy.\",\n",
    "            \"wrong_explanation\": \"A royal family's address, even in the context of positive historical sentiment, might not resonate well, leading to a decrease in current positive sentiment.\"\n",
    "        },\n",
    "        10: {\n",
    "            \"question\": \"Does extensive media coverage have a negative impact on public sentiment towards the monarchy when historical public sentiment is already positive?\",\n",
    "            \"answer\": \"no\",\n",
    "            \"explanation\": \"In the context of already positive historical sentiment, extensive media coverage typically reinforces or maintains the positive public sentiment.\",\n",
    "            \"wrong_explanation\": \"Extensive media coverage might lead to overexposure and fatigue, turning a previously positive sentiment negative.\"\n",
    "        },\n",
    "        11: {\n",
    "            \"question\": \"Is the negative impact of media coverage on public sentiment towards the monarchy greater than that of a royal family's public address when historical sentiments are positive?\",\n",
    "            \"answer\": \"no\",\n",
    "            \"explanation\": \"In a positive historical context, neither extensive media coverage nor a royal family's public address is likely to significantly diminish public sentiment.\",\n",
    "            \"wrong_explanation\": \"In a scenario of positive historical sentiment, extensive media coverage might overshadow and reduce the impact of a royal family's public address.\"\n",
    "        },\n",
    "        12: {\n",
    "            \"question\": \"Does extensive media coverage have a greater impact on public sentiment towards the monarchy than a royal family's public address when historical public sentiment is positive?\",\n",
    "            \"answer\": \"yes\",\n",
    "            \"explanation\": \"Given a positive historical sentiment, the wide-reaching influence of media coverage tends to have a more substantial impact on public sentiment.\",\n",
    "            \"wrong_explanation\": \"In the presence of positive historical sentiment, a royal family's address might resonate more strongly with the public than media coverage.\"\n",
    "        },\n",
    "        13: {\n",
    "            \"question\": \"Does a royal family's public address have a more positive impact on current public sentiment when historical sentiment is neutral/negative than when it is positive?\",\n",
    "            \"answer\": \"no\",\n",
    "            \"explanation\": \"The impact of a royal family's public address on current public sentiment is generally more positive when the historical sentiment is already positive.\",\n",
    "            \"wrong_explanation\": \"A royal family's public address might have a stronger positive impact against a backdrop of neutral or negative historical sentiment.\"\n",
    "        },\n",
    "        14: {\n",
    "            \"question\": \"Is the positive impact of a royal family's public address on current public sentiment more pronounced when historical sentiment is neutral/negative than when it is positive?\",\n",
    "            \"answer\": \"no\",\n",
    "            \"explanation\": \"A positive historical sentiment provides a stronger foundation for a royal family's public address to reinforce or enhance positive current sentiment.\",\n",
    "            \"wrong_explanation\": \"The contrast provided by a neutral/negative historical sentiment might make a royal family's public address more impactful in shifting current sentiment.\"\n",
    "        },\n",
    "        15: {\n",
    "            \"question\": \"Does extensive media coverage have a less positive impact on current public sentiment when historical sentiment is neutral/negative compared to when it is positive?\",\n",
    "            \"answer\": \"yes\",\n",
    "            \"explanation\": \"Extensive media coverage tends to have a more pronounced positive impact in the context of already positive historical sentiment compared to a neutral/negative one.\",\n",
    "            \"wrong_explanation\": \"In a scenario with neutral/negative historical sentiment, extensive media coverage might be more effective in positively influencing current public sentiment.\"\n",
    "        },\n",
    "        16: {\n",
    "            \"question\": \"Is the positive impact of media coverage on current public sentiment more significant when historical sentiment is neutral/negative than when it is positive?\",\n",
    "            \"answer\": \"no\",\n",
    "            \"explanation\": \"The influence of media coverage in shaping current public sentiment is often more substantial when it builds on a foundation of positive historical sentiment.\",\n",
    "            \"wrong_explanation\": \"Extensive media coverage might have a stronger effect in shifting public sentiment from neutral/negative to positive compared to reinforcing already positive sentiment.\"\n",
    "        }\n",
    "    },\n",
    "}\n",
    "\n",
    "\n",
    "\n",
    "\n",
    "#######################################################################\n",
    "ctx['questions'] = setting"
   ],
   "metadata": {
    "collapsed": false,
    "ExecuteTime": {
     "end_time": "2023-11-22T16:50:36.292758010Z",
     "start_time": "2023-11-22T16:50:36.221282838Z"
    }
   },
   "id": "bfb9b23407004c9a"
  },
  {
   "cell_type": "code",
   "execution_count": null,
   "outputs": [],
   "source": [],
   "metadata": {
    "collapsed": false
   },
   "id": "d605c7d0dc349f38"
  },
  {
   "cell_type": "code",
   "execution_count": 32,
   "outputs": [
    {
     "data": {
      "text/plain": "PosixPath('/home/fleeb/workspace/code/cladder/novo-data/stories/test16.json')"
     },
     "execution_count": 32,
     "metadata": {},
     "output_type": "execute_result"
    }
   ],
   "source": [
    "i = len(list(ctx._root.glob(\"*.json\")))+1\n",
    "path = ctx._root / f'test{i}'\n",
    "while path.exists():\n",
    "    i += 1\n",
    "    path = ctx._root / f'test{i}'\n",
    "ctx.save(path.stem if ctx.story_id is None else ctx.story_id)"
   ],
   "metadata": {
    "collapsed": false,
    "ExecuteTime": {
     "end_time": "2023-11-22T16:52:26.497839990Z",
     "start_time": "2023-11-22T16:52:26.422472352Z"
    }
   },
   "id": "6135ec55dcfc66cb"
  },
  {
   "cell_type": "code",
   "execution_count": null,
   "outputs": [],
   "source": [],
   "metadata": {
    "collapsed": false
   },
   "id": "868f7eddeea4a0bd"
  },
  {
   "cell_type": "code",
   "execution_count": null,
   "outputs": [],
   "source": [],
   "metadata": {
    "collapsed": false
   },
   "id": "7094e0f316209b1"
  },
  {
   "cell_type": "code",
   "execution_count": null,
   "outputs": [],
   "source": [
    "ctx.include(get_verbalization_info);\n",
    "verb_prompt_template = '''We would like to find very natural verbalizations of the following binary variables selected from a statistical model. The verbalizations should sound more natural and organic, so that you could imagine them being used in a news paper article or casual conversation, while still being semantically equivalent to the original variable and value.\n",
    "\n",
    "Here are the templates that we use to verbalize the variables:\n",
    "\n",
    "1. {{subject}} [often/usually/sometimes/rarely/etc.] {{value}}.\n",
    "2. There is a [number]% chance that {{value}}.\n",
    "3. [number]% of {{domain}} {{value}}.\n",
    "4. [number]% of the time {{value}}.\n",
    "5. Conditional sentence: {{value}}, [some consequence].\n",
    "6. Interventional: If {{value}}, [some effect].\n",
    "\n",
    "{variable_description}\n",
    "\n",
    "Here are some examples of verbalizations of the variable. For each of the templates fill in the blanks (and include 2-3 examples for each template). Format your response as a python dictionary. For example, a variable \"Smoking Rate\" which takes the values \"Low Smoking Rate\" and \"High Smoking Rate\" can be verbalized like this:\n",
    "\n",
    "```python\n",
    "verbalizations = {{\n",
    "  \"Smoking Rate\": {{\n",
    "    \"Low Smoking Rate\": {{\n",
    "      1: {{\"subject\": \"people\", \"value\": [\"do not smoke\", \"are non-smokers\"]}},\n",
    "      2: {{\"value\": [\"a person does not smoke\", \"people are non-smokers\"]}}, \n",
    "      3: {{\"domain\": \"people\", \"value\": [\"do not smoke\", \"are non-smokers\"]}}, \n",
    "      4: {{\"value\": [\"people do not smoke\", \"people are non-smokers\"]}},\n",
    "      5: {{\"value\": [\"For people that do not smoke\", \"Among non-smokers\"]}}, \n",
    "      6: {{\"value\": [\"the smoking rate is decreased\", \"people stop smoking\"]}},\n",
    "    }},\n",
    "    \"High Smoking Rate\": {{\n",
    "      ...\n",
    "    }}\n",
    "  }},\n",
    "  ...\n",
    "}}\n",
    "```\n",
    "\n",
    "Answer concisely and precisely in the desired format, and only replace the blanks in curly braces. Do not add any additional comments or discussion. Most importantly, the verbalizations should not contain quantitative information like \"often\" or \"rarely\", and instead always assert the corresponding value.'''\n",
    "\n",
    "tmpl = FixedTemplate('verb_prompt', verb_prompt_template)\n",
    "ctx.include(tmpl,);\n",
    "print(ctx['verb_prompt'])"
   ],
   "metadata": {
    "collapsed": false
   },
   "id": "edee3643d33fc5b7"
  },
  {
   "cell_type": "code",
   "execution_count": 29,
   "outputs": [],
   "source": [
    "# # ate1_template = '{ate1:.3f} = ATE({{treatments}[0][\"name\"]!r}) = P({{outcome}[\"name\"]!r}={{outcome}[\"values\"][1]!r} | do({{treatments}[0][\"name\"]!r}={{treatments}[0][\"values\"][1]!r})) - P({{outcome}[\"name\"]!r}={{outcome}[\"values\"][1]!r} | do({{treatments}[0][\"name\"]!r}={{treatments}[0][\"values\"][0]!r}))'\n",
    "# # ate2_template = '{ate2:.3f} = ATE({{treatments}[1][\"name\"]!r}) = P({{outcome}[\"name\"]!r}={{outcome}[\"values\"][1]!r} | do({{treatments}[1][\"name\"]!r}={{treatments}[1][\"values\"][1]!r})) - P({{outcome}[\"name\"]!r}={{outcome}[\"values\"][1]!r} | do({{treatments}[1][\"name\"]!r}={{treatments}[1][\"values\"][0]!r}))'\n",
    "# ate_tmpl = '{val:.3f} = ATE({treatment!r}) = E({outcome!r} | do({treatment!r}=1)) - E({outcome!r} | do({treatment!r}=0))'\n",
    "# cate_tmpl = ('{val:.3f} = CATE({treatment!r} | {confounder!r}={cval}) = '\n",
    "#              'E[{outcome!r} | {confounder!r}={cval}, do({treatment!r}=1)] - E[{outcome!r} | {confounder!r}={cval}, do({treatment!r}=0)]')\n",
    "# for treatment, ate in [(treatment1, ate1.mean().item()), (treatment2, ate2.mean().item())]:\n",
    "#     print(SimpleTemplater(ate_tmpl).fill_in({}, treatment=treatment, outcome=outcome, val=ate))\n",
    "# for (treatment, confounder, cval), cate in zip(*[cate_keys, cates]):\n",
    "#     print(SimpleTemplater(cate_tmpl).fill_in({}, treatment=treatment, outcome=outcome, confounder=confounder, cval=cval, val=cate.mean().item()))"
   ],
   "metadata": {
    "collapsed": false,
    "ExecuteTime": {
     "end_time": "2023-11-22T13:04:52.744160536Z",
     "start_time": "2023-11-22T13:04:52.716258397Z"
    }
   },
   "id": "e2bb61e4a3c0ae67"
  },
  {
   "cell_type": "code",
   "execution_count": 58,
   "outputs": [
    {
     "data": {
      "text/plain": "12",
      "image/png": "[encoded data removed]",
      "text/latex": "$\\displaystyle 12$"
     },
     "execution_count": 58,
     "metadata": {},
     "output_type": "execute_result"
    }
   ],
   "source": [
    "\n",
    "# if ate1.mean() * ate2.mean() < 0:\n",
    "#     ate_quantities.append([\n",
    "#         'ATE({treatments[0][\"name\"]!r}) + ATE({treatments[1][\"name\"]!r}) > 0', 'ATE({treatments[0][\"name\"]!r}) + ATE({treatments[1][\"name\"]!r}) < 0',\n",
    "#         'ATE({treatments[1][\"name\"]!r}) + ATE({treatments[0][\"name\"]!r}) > 0', 'ATE({treatments[1][\"name\"]!r}) + ATE({treatments[0][\"name\"]!r}) < 0'\n",
    "#     ])\n",
    "# cate_quantities = [\n",
    "#     ['CATE({treatments[0][\"name\"]!r} | {confounder!r} = 1) > 0', 'CATE({treatments[0][\"name\"]!r} | {confounder!r} = 1) < 0'],\n",
    "#     ['CATE({treatments[0][\"name\"]!r} | {confounder!r} = 0) > 0', 'CATE({treatments[0][\"name\"]!r} | {confounder!r} = 0) < 0'], \n",
    "#     \n",
    "#     ['CATE({treatments[1][\"name\"]!r} | {confounder!r} = 1) > 0', 'CATE({treatments[1][\"name\"]!r} | {confounder!r} = 1) < 0'],\n",
    "#     ['CATE({treatments[1][\"name\"]!r} | {confounder!r} = 0) > 0', 'CATE({treatments[1][\"name\"]!r} | {confounder!r} = 0) < 0'], \n",
    "#     \n",
    "#     ['CATE({treatments[0][\"name\"]!r} | {confounder!r} = 1) > CATE({treatments[0][\"name\"]!r} | {confounder!r} = 0)', \n",
    "#      'CATE({treatments[0][\"name\"]!r} | {confounder!r} = 1) < CATE({treatments[0][\"name\"]!r} | {confounder!r} = 0)',\n",
    "#      'CATE({treatments[0][\"name\"]!r} | {confounder!r} = 0) > CATE({treatments[0][\"name\"]!r} | {confounder!r} = 1)',\n",
    "#      'CATE({treatments[0][\"name\"]!r} | {confounder!r} = 0) < CATE({treatments[0][\"name\"]!r} | {confounder!r} = 1)'], \n",
    "#     \n",
    "#     ['CATE({treatments[1][\"name\"]!r} | {confounder!r} = 1) > CATE({treatments[1][\"name\"]!r} | {confounder!r} = 0)', \n",
    "#      'CATE({treatments[1][\"name\"]!r} | {confounder!r} = 1) < CATE({treatments[1][\"name\"]!r} | {confounder!r} = 0)', \n",
    "#      'CATE({treatments[1][\"name\"]!r} | {confounder!r} = 0) > CATE({treatments[1][\"name\"]!r} | {confounder!r} = 1)',\n",
    "#      'CATE({treatments[1][\"name\"]!r} | {confounder!r} = 0) < CATE({treatments[1][\"name\"]!r} | {confounder!r} = 1)'], \n",
    "#     \n",
    "#     ['CATE({treatments[1][\"name\"]!r} | {confounder!r} = 1) > CATE({treatments[0][\"name\"]!r} | {confounder!r} = 1)', \n",
    "#     'CATE({treatments[1][\"name\"]!r} | {confounder!r} = 1) < CATE({treatments[0][\"name\"]!r} | {confounder!r} = 1)', \n",
    "#     'CATE({treatments[0][\"name\"]!r} | {confounder!r} = 1) > CATE({treatments[1][\"name\"]!r} | {confounder!r} = 1)', \n",
    "#     'CATE({treatments[0][\"name\"]!r} | {confounder!r} = 1) < CATE({treatments[1][\"name\"]!r} | {confounder!r} = 1)'], \n",
    "#     \n",
    "#     ['CATE({treatments[1][\"name\"]!r} | {confounder!r} = 0) > CATE({treatments[0][\"name\"]!r} | {confounder!r} = 0)', \n",
    "#     'CATE({treatments[1][\"name\"]!r} | {confounder!r} = 0) < CATE({treatments[0][\"name\"]!r} | {confounder!r} = 0)', \n",
    "#     'CATE({treatments[0][\"name\"]!r} | {confounder!r} = 0) > CATE({treatments[1][\"name\"]!r} | {confounder!r} = 0)', \n",
    "#     'CATE({treatments[0][\"name\"]!r} | {confounder!r} = 0) < CATE({treatments[1][\"name\"]!r} | {confounder!r} = 0)'], \n",
    "# ]\n",
    "# quantities = []\n",
    "# for tmpls in ate_quantities:\n",
    "#     quantities.append(SimpleTemplater(random.choice(tmpls)).fill_in({}, treatments=ctx['treatments'], outcome=ctx['outcome']))\n",
    "# for confounding in ctx['confounders']:\n",
    "#     for tmpls in cate_quantities:\n",
    "#         quantities.append(SimpleTemplater(random.choice(tmpls)).fill_in({}, treatments=ctx['treatments'], outcome=ctx['outcome'], confounder=confounding['name'], cval=confounding['values'][1]))\n",
    "# ctx['quantity_list'] = quantities\n",
    "# ctx['quantities'] = '\\t' + '\\n\\t'.join(f'{i+1}. {q}' for i,q in enumerate(quantities))\n",
    "# len(quantities)"
   ],
   "metadata": {
    "collapsed": false,
    "ExecuteTime": {
     "end_time": "2023-11-22T14:45:44.521488671Z",
     "start_time": "2023-11-22T14:45:44.432722911Z"
    }
   },
   "id": "3455209894878ea3"
  },
  {
   "cell_type": "code",
   "execution_count": 66,
   "outputs": [
    {
     "data": {
      "text/plain": "[\"ATE('Implementation of Curfew') > 0\",\n \"ATE('Public Compliance with Curfew') < 0\",\n \"ATE('Implementation of Curfew') > ATE('Public Compliance with Curfew')\",\n \"ATE('Implementation of Curfew') + ATE('Public Compliance with Curfew') < 0\",\n \"CATE('Implementation of Curfew' | 'Regional Healthcare Capacity' = 1) > 0\",\n \"CATE('Implementation of Curfew' | 'Regional Healthcare Capacity' = 0) > 0\",\n \"CATE('Public Compliance with Curfew' | 'Regional Healthcare Capacity' = 1) < 0\",\n \"CATE('Public Compliance with Curfew' | 'Regional Healthcare Capacity' = 0) > 0\",\n \"CATE('Implementation of Curfew' | 'Regional Healthcare Capacity' = 0) > CATE('Implementation of Curfew' | 'Regional Healthcare Capacity' = 1)\",\n \"CATE('Public Compliance with Curfew' | 'Regional Healthcare Capacity' = 1) > CATE('Public Compliance with Curfew' | 'Regional Healthcare Capacity' = 0)\",\n \"CATE('Implementation of Curfew' | 'Regional Healthcare Capacity' = 1) < CATE('Public Compliance with Curfew' | 'Regional Healthcare Capacity' = 1)\",\n \"CATE('Implementation of Curfew' | 'Regional Healthcare Capacity' = 0) < CATE('Public Compliance with Curfew' | 'Regional Healthcare Capacity' = 0)\"]"
     },
     "execution_count": 66,
     "metadata": {},
     "output_type": "execute_result"
    }
   ],
   "source": [
    "quantities"
   ],
   "metadata": {
    "collapsed": false,
    "ExecuteTime": {
     "end_time": "2023-11-22T14:56:16.782383860Z",
     "start_time": "2023-11-22T14:56:16.713091214Z"
    }
   },
   "id": "e7b45ddf287eb015"
  },
  {
   "cell_type": "code",
   "execution_count": null,
   "outputs": [],
   "source": [],
   "metadata": {
    "collapsed": false
   },
   "id": "1d37e6cdfedc2fa2"
  },
  {
   "cell_type": "code",
   "execution_count": 65,
   "outputs": [
    {
     "name": "stdout",
     "output_type": "stream",
     "text": [
      "We have a causal bayes net based on the following article:\n",
      "\n",
      "```\n",
      "Title: New Prime Ministerial Decree: curfew begins. Lockdown risk for Lombardy and Piedmont - Corriere della Sera\n",
      "Description: When Giuseppe Conte told Italians in front of deputies and on live TV that the curfew will start \"late in the evening\", he made public the\n",
      "Original Language: Italian\n",
      "```\n",
      "\n",
      "Now we would like to use this model to generate some interesting research questions:\n",
      "\n",
      "1. Write a short two sentence introduction to describe motivation and purpose of the causal model to provide context to the questions in an conversational/debate setting. Where possible, include relevant details from the original article headline. Avoid discussing specific structural properties or assumptions in the causal graph, and instead focus on the overall motivation and potential applications for the model. Refrain from mentioning words like \"causal inference\" or \"model\".\n",
      "Make sure not to use any technical terms from causal inference so that the introduction is easy to understand even for a layperson, as if this were in a newspaper or casual discussion.\n",
      "2. Write a short two sentence overview of the structure of the causal graph including noteworthy properties and assumptions. Use an intuitive conversational style to describe the causal graph, and avoid using technical terms or jargon, but you can describe the variables and their relationships (including using terms like \"confounder\"/\"confounding\", \"mediator\"/\"mediates\") as long as you explain them in a way that is understandable to a layperson.\n",
      "3. Verbalize an interesting \"yes\"/\"no\" question where the correct answer depends computation of each of the following quantities:\n",
      "\n",
      "\t1. ATE('Implementation of Curfew') > 0\n",
      "\t2. ATE('Public Compliance with Curfew') < 0\n",
      "\t3. ATE('Implementation of Curfew') > ATE('Public Compliance with Curfew')\n",
      "\t4. ATE('Implementation of Curfew') + ATE('Public Compliance with Curfew') < 0\n",
      "\t5. CATE('Implementation of Curfew' | 'Regional Healthcare Capacity' = 1) > 0\n",
      "\t6. CATE('Implementation of Curfew' | 'Regional Healthcare Capacity' = 0) > 0\n",
      "\t7. CATE('Public Compliance with Curfew' | 'Regional Healthcare Capacity' = 1) < 0\n",
      "\t8. CATE('Public Compliance with Curfew' | 'Regional Healthcare Capacity' = 0) > 0\n",
      "\t9. CATE('Implementation of Curfew' | 'Regional Healthcare Capacity' = 0) > CATE('Implementation of Curfew' | 'Regional Healthcare Capacity' = 1)\n",
      "\t10. CATE('Public Compliance with Curfew' | 'Regional Healthcare Capacity' = 1) > CATE('Public Compliance with Curfew' | 'Regional Healthcare Capacity' = 0)\n",
      "\t11. CATE('Implementation of Curfew' | 'Regional Healthcare Capacity' = 1) < CATE('Public Compliance with Curfew' | 'Regional Healthcare Capacity' = 1)\n",
      "\t12. CATE('Implementation of Curfew' | 'Regional Healthcare Capacity' = 0) < CATE('Public Compliance with Curfew' | 'Regional Healthcare Capacity' = 0)\n",
      "\n",
      "Where the definitions of \"ATE('X')\" (average treatment effect) and \"CATE('X' | 'U'=u)\" are:\n",
      "\n",
      "ATE('X') = E['Y' | do('X' = 1)] - E['Y' | do('X' = 0)]\n",
      "CATE('X' | 'U'=u) = E['Y' | 'U'=u, do('X' = 1)] - E['Y' | 'U'=u, do('X' = 0)]\n",
      "\n",
      "Where 'X' is a treatment variable, 'Y' is the outcome variable, and 'U' is a confounder variable.\n",
      "\n",
      "4. In addition to the questions and associated answers include a one sentence explanation for each question, and \"wrong_explanation\" which is just like the explanation but argues for the opposite answer.\n",
      "\n",
      "The meanings of all the variables (all of which are binary) in the statistical model are:\n",
      "\n",
      "Variable 'Implementation of Curfew' (0='No Curfew', 1='Curfew Implemented') means Whether a curfew is implemented\n",
      "Variable 'Regional Healthcare Capacity' (0='Low Capacity', 1='High Capacity') means Healthcare capacity in the regions\n",
      "Variable 'Economic Impact' (0='No Impact', 1='Negative Impact') means Economic impact of the curfew\n",
      "Variable 'Mental Health Impact' (0='No Impact', 1='Negative Impact') means Impact of the curfew on mental health\n",
      "Variable 'Public Compliance with Curfew' (0='Low Compliance', 1='High Compliance') means Level of public adherence to the curfew\n",
      "Variable 'Public Health Outcome' (0='No Deterioration', 1='Deterioration') means Status of public health in the affected regions\n",
      "\n",
      "Answer in the form of a python dictionary in the following format:\n",
      "\n",
      "```python\n",
      "setting = {\n",
      "  \"introduction\": \"[introduction]\",\n",
      "  \"overview\": \"[overview]\",\n",
      "  \"questions\": {\n",
      "    1: {\"question\": \"[question]\", \"answer\": \"yes\", \"explanation\": \"[explanation]\", \"wrong_explanation\": \"[wrong_explanation]\"},\n",
      "    ...\n",
      "  },\n",
      "}\n",
      "```\n",
      "Answer concisely and precisely in the desired format. Do not add any additional comments or discussion. Most importantly, do not use any technical terms from causal inference such as ATE or CATE in the questions and explanations so that everything is easy to understand even for a layperson.\n"
     ]
    }
   ],
   "source": [
    "\n",
    "ctx.include(FixedTemplate('setting_prompt', question_prompt_template),);\n",
    "# if 'setting_prompt' in ctx:\n",
    "#     del ctx['setting_prompt']\n",
    "print(ctx['prompt_questions'])"
   ],
   "metadata": {
    "collapsed": false,
    "ExecuteTime": {
     "end_time": "2023-11-22T14:52:39.334851859Z",
     "start_time": "2023-11-22T14:52:39.275350243Z"
    }
   },
   "id": "7faa4f69f3367c76"
  },
  {
   "cell_type": "code",
   "execution_count": 44,
   "outputs": [],
   "source": [
    "#######################################################################\n",
    "\n",
    "setting = {\n",
    "    \"introduction\": \"In light of the new decree by Prime Minister Giuseppe Conte, introducing a curfew in regions like Lombardy and Piedmont, it's crucial to understand how such decisions affect public health and behavior. This understanding can help in assessing the effectiveness of such measures and their impact on society.\",\n",
    "    \"overview\": \"Our approach looks at how different factors like the curfew enforcement, public response, and healthcare capacity interplay with each other. It's like a web, where pulling one strand can cause movement in another, and we try to understand these relationships, like how public compliance might be influenced by the curfew or how all these affect public health.\",\n",
    "    \"questions\": {\n",
    "        1: {\"question\": \"Does implementing a curfew generally lead to better public health outcomes?\", \"answer\": \"yes\", \"explanation\": \"Implementing a curfew is likely to have a positive effect on public health by controlling the situation that necessitated the curfew.\", \"wrong_explanation\": \"Implementing a curfew might not significantly impact public health, as other factors could play a more dominant role.\"},\n",
    "        2: {\"question\": \"Is public non-compliance with a curfew typically associated with better public health outcomes?\", \"answer\": \"no\", \"explanation\": \"Public non-compliance with a curfew is generally not expected to contribute positively to public health outcomes.\", \"wrong_explanation\": \"Public non-compliance might actually lead to better public health outcomes as it indicates normalcy and lesser public panic.\"},\n",
    "        3: {\"question\": \"Is the positive impact on public health greater when a curfew is implemented than when the public complies with it?\", \"answer\": \"yes\", \"explanation\": \"The direct enforcement of a curfew is likely to have a stronger positive impact on public health than the variable level of public compliance.\", \"wrong_explanation\": \"Public compliance with the curfew could have a greater positive impact on public health than the mere implementation of the curfew.\"},\n",
    "        4: {\"question\": \"Do both the implementation of a curfew and the lack of public compliance have a combined negative effect on public health?\", \"answer\": \"no\", \"explanation\": \"While the lack of public compliance might negatively affect public health, the implementation of a curfew is expected to have a positive impact, which does not result in a combined negative effect.\", \"wrong_explanation\": \"The negative impacts of both non-compliance and curfew implementation may combine to deteriorate public health.\"},\n",
    "        5: {\"question\": \"In regions with high healthcare capacity, does implementing a curfew have a positive impact on public health?\", \"answer\": \"yes\", \"explanation\": \"In areas with strong healthcare systems, the implementation of a curfew is likely to further bolster public health outcomes.\", \"wrong_explanation\": \"Even in regions with high healthcare capacity, a curfew might not significantly improve public health outcomes.\"},\n",
    "        6: {\"question\": \"In regions with low healthcare capacity, does implementing a curfew have a positive impact on public health?\", \"answer\": \"yes\", \"explanation\": \"In regions where healthcare resources are limited, implementing a curfew can be crucial in preventing the overburdening of the healthcare system.\", \"wrong_explanation\": \"A curfew might not be as effective in regions with low healthcare capacity due to the already strained resources.\"},\n",
    "        7: {\"question\": \"In regions with high healthcare capacity, does high public compliance with the curfew lead to worse public health outcomes?\", \"answer\": \"no\", \"explanation\": \"In areas with ample healthcare resources, high public compliance with a curfew is expected to support or maintain good public health outcomes.\", \"wrong_explanation\": \"High compliance in regions with strong healthcare systems might lead to negative public health outcomes due to over-cautious behavior.\"},\n",
    "        8: {\"question\": \"In regions with low healthcare capacity, does high public compliance with the curfew lead to better public health outcomes?\", \"answer\": \"yes\", \"explanation\": \"In areas with limited healthcare resources, high compliance with curfew measures can play a critical role in maintaining or improving public health outcomes.\", \"wrong_explanation\": \"High public compliance in regions with low healthcare capacity might not significantly improve public health outcomes.\"},\n",
    "        9: {\"question\": \"Is the positive impact on public health of implementing a curfew greater in regions with low healthcare capacity compared to those with high capacity?\", \"answer\": \"no\", \"explanation\": \"The positive impact of a curfew is likely significant in both scenarios but not necessarily greater in regions with lower healthcare capacity.\", \"wrong_explanation\": \"Implementing a curfew in regions with low healthcare capacity might have a greater positive impact on public health compared to regions with high healthcare capacity.\"},\n",
    "        10: {\"question\": \"Does high public compliance with the curfew lead to better public health outcomes in regions with high healthcare capacity compared to those with low capacity?\", \"answer\": \"yes\", \"explanation\": \"High compliance in regions with strong healthcare infrastructure likely results in more pronounced improvements in public health compared to regions with weaker healthcare systems.\", \"wrong_explanation\": \"The impact of high public compliance on public health might be greater in regions with low healthcare capacity.\"},\n",
    "        11: {\"question\": \"Is the positive impact on public health from implementing a curfew less in regions with high healthcare capacity than the impact of high public compliance in these regions?\", \"answer\": \"no\", \"explanation\": \"The implementation of a curfew is likely to have a significant positive impact on public health, potentially more so than the variable of public compliance, even in regions with high healthcare capacity.\", \"wrong_explanation\": \"In regions with high healthcare capacity, the impact of public compliance might be more significant for public health than the implementation of a curfew.\"},\n",
    "        12: {\"question\": \"Is the positive impact on public health from implementing a curfew less in regions with low healthcare capacity than the impact of high public compliance in these regions?\", \"answer\": \"yes\", \"explanation\": \"In regions with low healthcare capacity, the impact of high public compliance might be more crucial for public health than the mere implementation of a curfew.\", \"wrong_explanation\": \"Implementing a curfew in regions with low healthcare capacity is likely to have a greater positive impact on public health than high public compliance.\"}\n",
    "    },\n",
    "}\n",
    "\n",
    "\n",
    "\n",
    "#######################################################################\n",
    "ctx['setting'] = setting"
   ],
   "metadata": {
    "collapsed": false,
    "ExecuteTime": {
     "end_time": "2023-11-22T13:20:35.178557424Z",
     "start_time": "2023-11-22T13:20:35.089786551Z"
    }
   },
   "id": "47eb0d3ae6db4f3a"
  },
  {
   "cell_type": "code",
   "execution_count": null,
   "outputs": [],
   "source": [],
   "metadata": {
    "collapsed": false
   },
   "id": "29df5bbe5c120f68"
  },
  {
   "cell_type": "markdown",
   "source": [
    "# Save Story"
   ],
   "metadata": {
    "collapsed": false
   },
   "id": "5fb83cc089e9a915"
  },
  {
   "cell_type": "code",
   "execution_count": null,
   "outputs": [],
   "source": [],
   "metadata": {
    "collapsed": false
   },
   "id": "cbc87bb6935393"
  },
  {
   "cell_type": "code",
   "execution_count": null,
   "outputs": [],
   "source": [],
   "metadata": {
    "collapsed": false
   },
   "id": "e46308cbcd5d5d8d"
  },
  {
   "cell_type": "code",
   "execution_count": null,
   "outputs": [],
   "source": [],
   "metadata": {
    "collapsed": false
   },
   "id": "76dd431ae7bde9"
  },
  {
   "cell_type": "code",
   "execution_count": null,
   "outputs": [],
   "source": [],
   "metadata": {
    "collapsed": false
   },
   "id": "2eff1eb58588c15"
  },
  {
   "cell_type": "code",
   "execution_count": 59,
   "outputs": [],
   "source": [
    "import nltk\n",
    "from nltk import word_tokenize, pos_tag, ne_chunk\n",
    "from nltk.stem import WordNetLemmatizer\n",
    "from nltk.corpus import stopwords\n",
    "from rake_nltk import Rake\n",
    "import spacy\n",
    "import random"
   ],
   "metadata": {
    "collapsed": false
   },
   "id": "c45e6c65749794d3"
  },
  {
   "cell_type": "code",
   "execution_count": 61,
   "outputs": [
    {
     "data": {
      "text/plain": "24",
      "image/png": "[encoded data removed]",
      "text/latex": "$\\displaystyle 24$"
     },
     "execution_count": 61,
     "metadata": {},
     "output_type": "execute_result"
    }
   ],
   "source": [
    "example_texts = [val for var in raw_verbalization.values() for varval in var.values() for val in varval[4]['value']]\n",
    "len(example_texts)"
   ],
   "metadata": {
    "collapsed": false
   },
   "id": "173c691818cfe5b8"
  },
  {
   "cell_type": "code",
   "execution_count": 53,
   "outputs": [],
   "source": [
    "stop_words = set(stopwords.words('english'))\n",
    "stop_words.update(\"'s\", '|', 'I', \"n't\", \"`s\", \"'s\", 'n`t')\n",
    "\n",
    "nlp = spacy.load('en_core_web_md')\n",
    "\n"
   ],
   "metadata": {
    "collapsed": false
   },
   "id": "df2fb4ad34998003"
  },
  {
   "cell_type": "code",
   "execution_count": 79,
   "outputs": [
    {
     "name": "stdout",
     "output_type": "stream",
     "text": [
      "there is widespread healthcare availability in Moscow\n",
      "None None\n",
      "['widespread healthcare availability', 'Moscow']\n"
     ]
    }
   ],
   "source": [
    "text = \"Covid-19 mortality rate is high\"\n",
    "text = random.choice(example_texts)\n",
    "print(text)\n",
    "doc = nlp(text)\n",
    "subject, verb = None, None\n",
    "for token in doc:\n",
    "    if \"subj\" in token.dep_:\n",
    "        subject = token.text\n",
    "    # if \"VERB\" in token.pos_:\n",
    "    #     verb = token.text\n",
    "print(subject, verb)\n",
    "noun_phrases = [chunk.text for chunk in doc.noun_chunks]\n",
    "print(noun_phrases)"
   ],
   "metadata": {
    "collapsed": false,
    "ExecuteTime": {
     "end_time": "2023-11-21T13:58:08.296988112Z",
     "start_time": "2023-11-21T13:58:08.252502195Z"
    }
   },
   "id": "63e7dbde8cca2751"
  },
  {
   "cell_type": "code",
   "execution_count": null,
   "outputs": [],
   "source": [],
   "metadata": {
    "collapsed": false
   },
   "id": "fece4c4d70ada148"
  },
  {
   "cell_type": "code",
   "execution_count": null,
   "outputs": [],
   "source": [],
   "metadata": {
    "collapsed": false
   },
   "id": "e2a80b1279cd7a8f"
  },
  {
   "cell_type": "code",
   "execution_count": null,
   "outputs": [],
   "source": [],
   "metadata": {
    "collapsed": false
   },
   "id": "e2ead53bd9f0d663"
  },
  {
   "cell_type": "code",
   "execution_count": null,
   "outputs": [],
   "source": [],
   "metadata": {
    "collapsed": false
   },
   "id": "dec8a389b45661b3"
  },
  {
   "cell_type": "code",
   "execution_count": 21,
   "outputs": [],
   "source": [
    "old_prompt_template = '''We have a causal bayes net based on the following article:\n",
    "\n",
    "```\n",
    "{spark}\n",
    "```\n",
    "\n",
    "And, for additional context, here are the variables and their descriptions:\n",
    "\n",
    "{descriptions}\n",
    "\n",
    "Now we would like to verbalize the description of some evidence. For each set of questions, fill in the blank and then for each possible descriptor of the probability, provide a reasonable quantitative estimate for the lower and upper bounds of the probability that would be implied by that evidence if the variable took on the value corresponding to 1. Note that your estimates for each descriptor should conform to common sense and reflect the meaning of the variable taking on the value corresponding to 1.\n",
    "\n",
    "For example, if the question is:\n",
    "\n",
    "Evidence template: \"The probability of _ is {descriptor}.\"\n",
    "With these descriptors: ['low', 'high', 'very high']\n",
    "\n",
    "1. \"Tax Rate\" can either be 0=\"Decreased\" or 1=\"Increased\".\n",
    "2. \"Vaccination Status\" can either be 0=\"Not Vaccinated\" or 1=\"Vaccinated\".\n",
    "...\n",
    "\n",
    "You should answer in the following format:\n",
    "\n",
    "```python\n",
    "evidence = {{\n",
    "  1: {{'blank': {{'Decreased': 'decreased taxes', 'Increased': 'increased taxes'}} 'implications': {{'low': [0.2, 0.4], 'high': [0.6, 0.8], 'very high': [0.8, 0.9]}}}},\n",
    "  2: {{'blank': {{'Not Vaccinated': 'not being vaccinated', 'Vaccinated': 'being vaccinated'}} 'implications': {{'low': [0.3, 0.5], 'high': [0.7, 0.9], 'very high': [0.85, 0.99]}}}},\n",
    "  ...\n",
    "}}\n",
    "```\n",
    "\n",
    "Here are the questions:\n",
    "\n",
    "Evidence template: \"The probability of _ is {descriptor}.\"\n",
    "With these descriptors: {descriptors}\n",
    "\n",
    "{questions}\n",
    "\n",
    "Answer all the questions in order, concisely, and precisely in the desired format, without any additional comments or discussion.\n",
    "'''\n",
    "\n",
    "prompt_template = '''We have a causal bayes net based on the following article:\n",
    "\n",
    "```\n",
    "{spark}\n",
    "```\n",
    "\n",
    "And, for additional context, here are the variables and their descriptions:\n",
    "\n",
    "{descriptions}\n",
    "\n",
    "Now we would like to verbalize the description of some evidence using a few templates. For each template and variable, fill in the blank and then for each possible value the variable can take. Always use the present tense and make sure to use simple but precise language so the evidence can be communicated clearly. Also, only fill in the templates that make sense for the variable values.\n",
    "\n",
    "For example, if the question is:\n",
    "\n",
    "Template A: \"The probability of {variable} is high.\"\n",
    "Template B: \"{variable} often.\"\n",
    "Template C: \"It is likely that {variable}.\"\n",
    "Template D: \"Few {subject} {variable}.\"\n",
    "\n",
    "1. \"Tax Rate\": [\"Decreased\", \"Increased\"]\n",
    "2. \"Vaccination Status\": [\"Not Vaccinated\", \"Vaccinated\"]\n",
    "...\n",
    "\n",
    "You should answer in the following format:\n",
    "\n",
    "```python\n",
    "evidence = {{\n",
    "  1: {{'A': {{'variable': ['decreased taxes', 'increased taxes']}},\n",
    "       'B': {{'variable': ['taxes are decreased', 'taxes are increased']}},\n",
    "       'C': {{'variable': ['taxes are decreased', 'taxes are increased']}},\n",
    "       'D': {{'subject': [], 'variable': ['taxes are decreased', 'taxes are increased']}}}},\n",
    "  }},\n",
    "  2: {{'variable': {{'Not Vaccinated': 'not being vaccinated', 'Vaccinated': 'being vaccinated'}}}},\n",
    "  ...\n",
    "}}\n",
    "```\n",
    "\n",
    "Here are the questions:\n",
    "\n",
    "Evidence template: \"The probability of _ is {descriptor}.\"\n",
    "With these descriptors: {descriptors}\n",
    "\n",
    "{questions}\n",
    "\n",
    "Answer all the questions in order, concisely, and precisely in the desired format, without any additional comments or discussion.\n",
    "'''\n",
    "\n",
    "q_template = '{i}. \"{variable}\" can either be 0=\"{value}\" or 1=\"{othervalue}\".'\n",
    "\n",
    "verbs = [\n",
    "    'very low', 'low', 'moderate', 'high', 'very high',\n",
    "    # 'extremely small', 'small', 'large', 'extremely large',\n",
    "    'significant', 'negligible', 'substantial', 'insignificant', 'considerable',\n",
    "    # 'improbable', 'likely', 'probable', 'unlikely', 'certain',\n",
    "]"
   ],
   "metadata": {
    "collapsed": false,
    "ExecuteTime": {
     "end_time": "2023-11-19T15:58:07.180931606Z",
     "start_time": "2023-11-19T15:58:07.135552858Z"
    }
   },
   "id": "bf9d27a21b2ff726"
  },
  {
   "cell_type": "code",
   "execution_count": 22,
   "outputs": [],
   "source": [
    "nodes = ctx['nodes']\n",
    "qlines = []\n",
    "i = 1\n",
    "for node in nodes:\n",
    "    v0, v1 = node['values']\n",
    "    qlines.append(q_template.format(i=i, variable=node['name'], value=v1, othervalue=v0))\n",
    "    i += 1\n",
    "questions = '\\n'.join(qlines)"
   ],
   "metadata": {
    "collapsed": false,
    "ExecuteTime": {
     "end_time": "2023-11-19T15:58:08.750511902Z",
     "start_time": "2023-11-19T15:58:08.732077429Z"
    }
   },
   "id": "949e58680c1eb438"
  },
  {
   "cell_type": "code",
   "execution_count": 23,
   "outputs": [
    {
     "data": {
      "text/plain": "{'descriptions', 'descriptor', 'descriptors', 'questions', 'spark'}"
     },
     "execution_count": 23,
     "metadata": {},
     "output_type": "execute_result"
    }
   ],
   "source": [
    "tmpl = SimpleTemplater(prompt_template)\n",
    "tmpl.keys"
   ],
   "metadata": {
    "collapsed": false,
    "ExecuteTime": {
     "end_time": "2023-11-19T15:58:09.178284729Z",
     "start_time": "2023-11-19T15:58:09.135420113Z"
    }
   },
   "id": "a474aee9dc7f34a4"
  },
  {
   "cell_type": "code",
   "execution_count": 24,
   "outputs": [
    {
     "name": "stdout",
     "output_type": "stream",
     "text": [
      "We have a causal bayes net based on the following article:\n",
      "\n",
      "```\n",
      "Title: ARM takeover: Qualcomm interested in participating - heise online\n",
      "Description: If nothing comes of Nvidia's $40 billion ARM takeover, a consortium of several manufacturers could act as investors.\n",
      "Original Language: German\n",
      "```\n",
      "\n",
      "And, for additional context, here are the variables and their descriptions:\n",
      "\n",
      "\"Qualcomm_Participation\" means \"Participation of Qualcomm in ARM takeover\"\n",
      "\"Regulatory_Approval\" means \"Regulatory approval for ARM takeover\"\n",
      "\"Global_Economic_Conditions\" means \"Current global economic conditions\"\n",
      "\"Nvidia_Takeover_Success\" means \"Success of Nvidia's ARM takeover attempt\"\n",
      "\"Investment_Strategy\" means \"Investment strategy adopted by Qualcomm\"\n",
      "\"Tech_Innovation\" means \"Level of technological innovation in the market\"\n",
      "\"Market_Competition\" means \"Level of market competition in the tech industry\"\n",
      "\"Stock_Market_Response\" means \"Stock market response to the takeover and market conditions\"\n",
      "\n",
      "Now we would like to verbalize the description of some evidence. For each set of questions, fill in the blank and then for each possible descriptor of the probability, provide a reasonable quantitative estimate for the lower and upper bounds of the probability that would be implied by that evidence if the variable took on the value corresponding to 1. Note that your estimates for each descriptor should conform to common sense and reflect the meaning of the variable taking on the value corresponding to 1.\n",
      "\n",
      "For example, if the question is:\n",
      "\n",
      "Evidence template: \"The probability of _ is {descriptor}.\"\n",
      "With these descriptors: ['low', 'high', 'very high']\n",
      "\n",
      "1. \"Tax Rate\" can either be 0=\"Decreased\" or 1=\"Increased\".\n",
      "2. \"Vaccination Status\" can either be 0=\"Not Vaccinated\" or 1=\"Vaccinated\".\n",
      "...\n",
      "\n",
      "You should answer in the following format:\n",
      "\n",
      "```python\n",
      "evidence = {\n",
      "  1: {'blank': {'Decreased': 'decreased taxes', 'Increased': 'increased taxes'} 'implications': {'low': [0.2, 0.4], 'high': [0.6, 0.8], 'very high': [0.8, 0.9]}},\n",
      "  2: {'blank': {'Not Vaccinated': 'not being vaccinated', 'Vaccinated': 'being vaccinated'} 'implications': {'low': [0.3, 0.5], 'high': [0.7, 0.9], 'very high': [0.85, 0.99]}},\n",
      "  ...\n",
      "}\n",
      "```\n",
      "\n",
      "Here are the questions:\n",
      "\n",
      "Evidence template: \"The probability of _ is {descriptor}.\"\n",
      "With these descriptors: ['very low', 'low', 'moderate', 'high', 'very high', 'significant', 'negligible', 'substantial', 'insignificant', 'considerable']\n",
      "\n",
      "1. \"Qualcomm_Participation\" can either be 0=\"Participates\" or 1=\"Does not participate\".\n",
      "2. \"Regulatory_Approval\" can either be 0=\"Approved\" or 1=\"Not approved\".\n",
      "3. \"Global_Economic_Conditions\" can either be 0=\"Favorable conditions\" or 1=\"Unfavorable conditions\".\n",
      "4. \"Nvidia_Takeover_Success\" can either be 0=\"Takeover succeeds\" or 1=\"Takeover fails\".\n",
      "5. \"Investment_Strategy\" can either be 0=\"Aggressive strategy\" or 1=\"Conservative strategy\".\n",
      "6. \"Tech_Innovation\" can either be 0=\"High innovation\" or 1=\"Low innovation\".\n",
      "7. \"Market_Competition\" can either be 0=\"Increased competition\" or 1=\"Reduced competition\".\n",
      "8. \"Stock_Market_Response\" can either be 0=\"Positive response\" or 1=\"Negative response\".\n",
      "\n",
      "Answer all the questions in order, concisely, and precisely in the desired format, without any additional comments or discussion.\n"
     ]
    }
   ],
   "source": [
    "# print(tmpl.fill_in(dict(spark=ctx['spark'], descriptions=ctx['descriptions'], descriptors=verbs, descriptor='{descriptor}', questions=questions)))\n",
    "print(prompt_template.format(spark=ctx['spark'], descriptions=ctx['descriptions'], descriptors=verbs, descriptor='{descriptor}', questions=questions))"
   ],
   "metadata": {
    "collapsed": false,
    "ExecuteTime": {
     "end_time": "2023-11-19T15:58:09.619565965Z",
     "start_time": "2023-11-19T15:58:09.601398688Z"
    }
   },
   "id": "7b23a2f10c9d7c62"
  },
  {
   "cell_type": "code",
   "execution_count": null,
   "outputs": [],
   "source": [
    "line_template = 'The probability that __ is {quantity}'"
   ],
   "metadata": {
    "collapsed": false
   },
   "id": "61af6af1c0665464"
  },
  {
   "cell_type": "code",
   "execution_count": 120,
   "outputs": [
    {
     "data": {
      "text/plain": "True"
     },
     "execution_count": 120,
     "metadata": {},
     "output_type": "execute_result"
    }
   ],
   "source": [
    "evidence = {\n",
    "  1: {\n",
    "    'blank': {'Stimulative': 'stimulative government economic policies', 'Restrictive': 'restrictive government economic policies'}, \n",
    "    'implications': {\n",
    "      'very low': [0.01, 0.1], \n",
    "      'low': [0.1, 0.3], \n",
    "      'moderate': [0.3, 0.5], \n",
    "      'high': [0.5, 0.7], \n",
    "      'very high': [0.7, 0.9], \n",
    "      'significant': [0.6, 0.8], \n",
    "      'negligible': [0.1, 0.2], \n",
    "      'substantial': [0.5, 0.7], \n",
    "      'insignificant': [0.2, 0.3], \n",
    "      'considerable': [0.4, 0.6]\n",
    "    }\n",
    "  },\n",
    "  2: {\n",
    "    'blank': {'Increase': 'an increase in industrial production', 'Decrease': 'a decrease in industrial production'}, \n",
    "    'implications': {\n",
    "      'very low': [0.01, 0.1], \n",
    "      'low': [0.1, 0.3], \n",
    "      'moderate': [0.3, 0.5], \n",
    "      'high': [0.5, 0.7], \n",
    "      'very high': [0.7, 0.9], \n",
    "      'significant': [0.6, 0.8], \n",
    "      'negligible': [0.1, 0.2], \n",
    "      'substantial': [0.5, 0.7], \n",
    "      'insignificant': [0.2, 0.3], \n",
    "      'considerable': [0.4, 0.6]\n",
    "    }\n",
    "  },\n",
    "  3: {\n",
    "    'blank': {'Decrease': 'a decrease in the unemployment rate', 'Increase': 'an increase in the unemployment rate'}, \n",
    "    'implications': {\n",
    "      'very low': [0.01, 0.1], \n",
    "      'low': [0.1, 0.3], \n",
    "      'moderate': [0.3, 0.5], \n",
    "      'high': [0.5, 0.7], \n",
    "      'very high': [0.7, 0.9], \n",
    "      'significant': [0.6, 0.8], \n",
    "      'negligible': [0.1, 0.2], \n",
    "      'substantial': [0.5, 0.7], \n",
    "      'insignificant': [0.2, 0.3], \n",
    "      'considerable': [0.4, 0.6]\n",
    "    }\n",
    "  },\n",
    "  4: {\n",
    "    'blank': {'High': 'high consumer confidence', 'Low': 'low consumer confidence'}, \n",
    "    'implications': {\n",
    "      'very low': [0.01, 0.1], \n",
    "      'low': [0.1, 0.3], \n",
    "      'moderate': [0.3, 0.5], \n",
    "      'high': [0.5, 0.7], \n",
    "      'very high': [0.7, 0.9], \n",
    "      'significant': [0.6, 0.8], \n",
    "      'negligible': [0.1, 0.2], \n",
    "      'substantial': [0.5, 0.7], \n",
    "      'insignificant': [0.2, 0.3], \n",
    "      'considerable': [0.4, 0.6]\n",
    "    }\n",
    "  },\n",
    "  5: {\n",
    "    'blank': {'Positive Growth': 'positive economic growth', 'No Growth': 'no economic growth'}, \n",
    "    'implications': {\n",
    "      'very low': [0.01, 0.1], \n",
    "      'low': [0.1, 0.3], \n",
    "      'moderate': [0.3, 0.5], \n",
    "      'high': [0.5, 0.7], \n",
    "      'very high': [0.7, 0.9], \n",
    "      'significant': [0.6, 0.8], \n",
    "      'negligible': [0.1, 0.2], \n",
    "      'substantial': [0.5, 0.7], \n",
    "      'insignificant': [0.2, 0.3], \n",
    "      'considerable': [0.4, 0.6]\n",
    "    }\n",
    "  },\n",
    "  6: {\n",
    "    'blank': {'Good': 'good market performance', 'Poor': 'poor market performance'}, \n",
    "    'implications': {\n",
    "      'very low': [0.01, 0.1], \n",
    "      'low': [0.1, 0.3], \n",
    "      'moderate': [0.3, 0.5], \n",
    "      'high': [0.5, 0.7], \n",
    "      'very high': [0.7, 0.9], \n",
    "      'significant': [0.6, 0.8], \n",
    "      'negligible': [0.1, 0.2], \n",
    "      'substantial': [0.5, 0.7], \n",
    "      'insignificant': [0.2, 0.3], \n",
    "      'considerable': [0.4, 0.6]\n",
    "    }\n",
    "  }\n",
    "}\n",
    "\n",
    "all(e1['implications'] == e2['implications'] for e1, e2 in combinations(evidence.values(), 2))\n"
   ],
   "metadata": {
    "collapsed": false,
    "ExecuteTime": {
     "end_time": "2023-11-17T14:10:45.018453412Z",
     "start_time": "2023-11-17T14:10:44.985886236Z"
    }
   },
   "id": "79cbbcae4d3e4455"
  },
  {
   "cell_type": "code",
   "execution_count": 121,
   "outputs": [
    {
     "name": "stdout",
     "output_type": "stream",
     "text": [
      "Title: China's economy grows 4.9% while the rest of the world is crippled by coronavirus - Daily Mail\n",
      "Description: China's economy has grown 4.9 percent in the third quarter from last year proving the country is back to its pre-pandemic trajectory as industrial production is up and unemployment is down.\n",
      "Original Language: English\n"
     ]
    }
   ],
   "source": [
    "print(ctx['spark'])"
   ],
   "metadata": {
    "collapsed": false,
    "ExecuteTime": {
     "end_time": "2023-11-17T14:40:34.386481665Z",
     "start_time": "2023-11-17T14:40:34.334250094Z"
    }
   },
   "id": "46ccd04c24fae20e"
  },
  {
   "cell_type": "code",
   "execution_count": null,
   "outputs": [],
   "source": [],
   "metadata": {
    "collapsed": false
   },
   "id": "cf82aa58afe6397b"
  },
  {
   "cell_type": "code",
   "execution_count": null,
   "outputs": [],
   "source": [
    "setting = {\n",
    "    \"introduction\": \"In light of China's notable economic growth of 4.9% amidst the global coronavirus pandemic, as reported by the Daily Mail, this causal model seeks to unravel the underlying factors contributing to this growth. It aims to provide insights into how different aspects such as industrial production and unemployment rates have played a role in shaping China's economic trajectory during this period.\",\n",
    "    \"overview\": \"Our causal graph is a simplified representation of the complex interplay between various economic factors. It includes variables like government policies, industrial production, and unemployment rates, each affecting the other in unique ways. For instance, government policies can be a confounder, affecting both unemployment and industrial production, while consumer confidence acts as a mediator, reflecting the impact of industrial changes on the overall economic growth.\",\n",
    "    \"questions\": {\n",
    "        1: {\"question\": \"Does an increase in industrial production have a positive effect on China's economic growth?\", \"answer\": \"yes\", \"explanation\": \"Given the economic context, an increase in industrial production likely contributes positively to economic growth.\", \"inequality\": \"ATE(IP) > 0\"},\n",
    "        2: {\"question\": \"Is the positive impact of decreasing unemployment on economic growth greater than that of increasing industrial production?\", \"answer\": \"no\", \"explanation\": \"Industrial production typically has a more direct and significant impact on economic growth compared to changes in unemployment rates.\", \"inequality\": \"ATE(UR) > ATE(IP)\"},\n",
    "        3: {\"question\": \"Does a decrease in the unemployment rate positively influence China's economic growth?\", \"answer\": \"yes\", \"explanation\": \"Lower unemployment generally leads to higher consumer spending and economic growth.\", \"inequality\": \"ATE(UR) > 0\"},\n",
    "        4: {\"question\": \"Is the impact of industrial production on economic growth stronger than the influence of government economic policies?\", \"answer\": \"yes\", \"explanation\": \"While government policies set the stage, industrial production is a more direct driver of economic growth.\", \"inequality\": \"ATE(IP) > ATE(GEP)\"},\n",
    "        5: {\"question\": \"Does a stimulative government policy have a greater positive effect on economic growth than an increase in industrial production?\", \"answer\": \"no\", \"explanation\": \"Industrial production, being a direct economic activity, likely has a stronger immediate impact on economic growth than general government policies.\", \"inequality\": \"ATE(GEP) > ATE(IP)\"}\n",
    "    },\n",
    "}\n"
   ],
   "metadata": {
    "collapsed": false
   },
   "id": "bcb1b46b3d4dc419"
  },
  {
   "cell_type": "code",
   "execution_count": 227,
   "outputs": [],
   "source": [
    "import pandas as pd\n",
    "from dowhy import CausalModel\n",
    "from networkx.drawing.nx_pydot import write_dot"
   ],
   "metadata": {
    "collapsed": false,
    "ExecuteTime": {
     "end_time": "2023-11-17T16:42:53.528932801Z",
     "start_time": "2023-11-17T16:42:53.492019Z"
    }
   },
   "id": "aa2676eeab935fe6"
  },
  {
   "cell_type": "code",
   "execution_count": 226,
   "outputs": [
    {
     "data": {
      "text/plain": "<networkx.classes.digraph.DiGraph at 0x7face779d850>"
     },
     "execution_count": 226,
     "metadata": {},
     "output_type": "execute_result"
    }
   ],
   "source": [
    "G = nx.DiGraph()\n",
    "for var in net.vars:\n",
    "    G.add_node(var.name)\n",
    "    for parent in var.parents:\n",
    "        G.add_edge(parent.name, var.name)\n",
    "G"
   ],
   "metadata": {
    "collapsed": false,
    "ExecuteTime": {
     "end_time": "2023-11-17T16:42:42.536213022Z",
     "start_time": "2023-11-17T16:42:42.484794281Z"
    }
   },
   "id": "5e7aafe933bd077f"
  },
  {
   "cell_type": "code",
   "execution_count": null,
   "outputs": [],
   "source": [],
   "metadata": {
    "collapsed": false
   },
   "id": "8c7e5e9f7b925deb"
  },
  {
   "cell_type": "code",
   "execution_count": null,
   "outputs": [],
   "source": [],
   "metadata": {
    "collapsed": false
   },
   "id": "826859c190c49f94"
  },
  {
   "cell_type": "code",
   "execution_count": 127,
   "outputs": [],
   "source": [
    "def convert_to_dot(nodes):\n",
    "    # Start the DOT graph definition\n",
    "    dot_graph = \"digraph {\\n\"\n",
    "\n",
    "    # Iterate over nodes to add them to the graph\n",
    "    for node in nodes:\n",
    "        dot_graph += f'    \"{node[\"name\"]}\" [label=\"{node[\"name\"]}: {node[\"description\"]}\"];\\n'\n",
    "\n",
    "        # Add edges from parents to this node\n",
    "        for parent in node.get(\"parents\", []):\n",
    "            dot_graph += f'    \"{parent}\" -> \"{node[\"name\"]}\";\\n'\n",
    "\n",
    "    dot_graph += \"}\\n\"\n",
    "    return dot_graph"
   ],
   "metadata": {
    "collapsed": false,
    "ExecuteTime": {
     "end_time": "2023-11-17T15:29:05.491002427Z",
     "start_time": "2023-11-17T15:29:05.471333306Z"
    }
   },
   "id": "4d7c72efc77402f6"
  },
  {
   "cell_type": "code",
   "execution_count": null,
   "outputs": [],
   "source": [],
   "metadata": {
    "collapsed": false
   },
   "id": "3c7139d76940267d"
  },
  {
   "cell_type": "code",
   "execution_count": null,
   "outputs": [],
   "source": [
    "net"
   ],
   "metadata": {
    "collapsed": false
   },
   "id": "ccaa22fdb7db1823"
  },
  {
   "cell_type": "code",
   "execution_count": null,
   "outputs": [],
   "source": [],
   "metadata": {
    "collapsed": false
   },
   "id": "70ed5f4de754786b"
  },
  {
   "cell_type": "code",
   "execution_count": 129,
   "outputs": [
    {
     "name": "stdout",
     "output_type": "stream",
     "text": [
      "\"GEP\" means \"Government Economic Policies\"\n",
      "\"IP\" means \"Industrial Production\"\n",
      "\"UR\" means \"Unemployment Rate\"\n",
      "\"CC\" means \"Consumer Confidence\"\n",
      "\"EG\" means \"Economic Growth\"\n",
      "\"MP\" means \"Market Performance\"\n"
     ]
    }
   ],
   "source": [
    "print(ctx['descriptions'])"
   ],
   "metadata": {
    "collapsed": false,
    "ExecuteTime": {
     "end_time": "2023-11-17T15:29:23.980795422Z",
     "start_time": "2023-11-17T15:29:23.959606348Z"
    }
   },
   "id": "27207467be5d57a"
  },
  {
   "cell_type": "code",
   "execution_count": 221,
   "outputs": [
    {
     "name": "stderr",
     "output_type": "stream",
     "text": [
      "ERROR:dowhy.causal_graph: Error: Pygraphviz cannot be loaded. No module named 'pygraphviz'\n",
      "Trying pydot ...\n"
     ]
    },
    {
     "name": "stdout",
     "output_type": "stream",
     "text": [
      "Estimand type: EstimandType.NONPARAMETRIC_ATE\n",
      "\n",
      "### Estimand : 1\n",
      "Estimand name: backdoor\n",
      "Estimand expression:\n",
      "  d               \n",
      "─────(E[EG|UR,IP])\n",
      "d[CC]             \n",
      "Estimand assumption 1, Unconfoundedness: If U→{CC} and U→EG then P(EG|CC,UR,IP,U) = P(EG|CC,UR,IP)\n",
      "\n",
      "### Estimand : 2\n",
      "Estimand name: iv\n",
      "No such variable(s) found!\n",
      "\n",
      "### Estimand : 3\n",
      "Estimand name: frontdoor\n",
      "No such variable(s) found!\n"
     ]
    },
    {
     "data": {
      "text/plain": "({'backdoor1': ['UR', 'IP', 'GEP'],\n  'backdoor2': ['UR', 'IP'],\n  'backdoor': ['UR', 'IP']},\n 'backdoor2')"
     },
     "execution_count": 221,
     "metadata": {},
     "output_type": "execute_result"
    }
   ],
   "source": [
    "# Create a dummy DataFrame\n",
    "# The columns should match the nodes in your causal graph\n",
    "dummy_data = pd.DataFrame({\n",
    "    'EG': [0],   # Economic Growth\n",
    "    'IP': [0],   # Industrial Production\n",
    "    'UR': [0],   # Unemployment Rate\n",
    "    'GEP': [0],  # Government Economic Policies\n",
    "    'CC': [0],   # Consumer Confidence\n",
    "    'MP': [0]    # Market Performance\n",
    "})\n",
    "\n",
    "# Define your DOT graph (use the function from the previous response)\n",
    "dot_graph = convert_to_dot(nodes)\n",
    "\n",
    "# Instantiate the CausalModel with dummy data\n",
    "model = CausalModel(\n",
    "    data=dummy_data,\n",
    "    treatment='CC',  # Replace with your treatment variable name\n",
    "    outcome='EG',      # Replace with your outcome variable name\n",
    "    graph=dot_graph\n",
    ")\n",
    "\n",
    "identified_estimand = model.identify_effect()\n",
    "print(identified_estimand)\n",
    "\n",
    "from sympy import pretty\n",
    "\n",
    "# # Assuming 'identified_estimand' is the object returned by model.identify_effect()\n",
    "# \n",
    "# # Print the basic information about the estimand\n",
    "# print(\"Estimand Identifier:\", identified_estimand.identifier)\n",
    "# print(\"Estimand Type:\", identified_estimand.estimand_type)\n",
    "# \n",
    "# # Accessing the estimands attribute\n",
    "# estimands_info = identified_estimand.estimands\n",
    "# \n",
    "# # Displaying the estimands information\n",
    "# print(\"Estimands Information:\")\n",
    "# print(estimands_info)\n",
    "\n",
    "identified_estimand.backdoor_variables, identified_estimand.default_backdoor_id"
   ],
   "metadata": {
    "collapsed": false,
    "ExecuteTime": {
     "end_time": "2023-11-17T16:20:35.773521574Z",
     "start_time": "2023-11-17T16:20:35.723047563Z"
    }
   },
   "id": "93d6c72207e41e7d"
  },
  {
   "cell_type": "code",
   "execution_count": 222,
   "outputs": [
    {
     "data": {
      "text/plain": "  d               \n─────(E[EG|UR,IP])\nd[CC]             ",
      "text/latex": "$\\displaystyle \\frac{d}{d \\left[\\begin{matrix}CC\\end{matrix}\\right]} \\operatorname{E}\\left[EG|UR,IP\\right]$"
     },
     "execution_count": 222,
     "metadata": {},
     "output_type": "execute_result"
    }
   ],
   "source": [
    "sym = identified_estimand.estimands[identified_estimand.default_backdoor_id]['estimand']\n",
    "sym"
   ],
   "metadata": {
    "collapsed": false,
    "ExecuteTime": {
     "end_time": "2023-11-17T16:20:37.010913900Z",
     "start_time": "2023-11-17T16:20:36.939807580Z"
    }
   },
   "id": "71c98945aa48f639"
  },
  {
   "cell_type": "code",
   "execution_count": 223,
   "outputs": [
    {
     "name": "stdout",
     "output_type": "stream",
     "text": [
      "  d               \n",
      "─────(E[EG|UR,IP])\n",
      "d[CC]             \n"
     ]
    }
   ],
   "source": [
    "print(pretty(sym))"
   ],
   "metadata": {
    "collapsed": false,
    "ExecuteTime": {
     "end_time": "2023-11-17T16:20:37.530553227Z",
     "start_time": "2023-11-17T16:20:37.514577711Z"
    }
   },
   "id": "81dca0ac3d6af062"
  },
  {
   "cell_type": "code",
   "execution_count": 224,
   "outputs": [
    {
     "name": "stdout",
     "output_type": "stream",
     "text": [
      "EG CC ['UR', 'IP']\n"
     ]
    }
   ],
   "source": [
    "do = sym.args[1][0].args[0][0].name\n",
    "exp = sym.args[0].args[0].name\n",
    "if '|' in exp:\n",
    "    outcome, cond = exp.split('|')\n",
    "    cond = cond.split(',')\n",
    "else:\n",
    "    outcome = exp\n",
    "    cond = []\n",
    "    \n",
    "print(outcome, do, cond)"
   ],
   "metadata": {
    "collapsed": false,
    "ExecuteTime": {
     "end_time": "2023-11-17T16:20:38.501074816Z",
     "start_time": "2023-11-17T16:20:38.443318970Z"
    }
   },
   "id": "42a9234e24004c1b"
  },
  {
   "cell_type": "code",
   "execution_count": 229,
   "outputs": [
    {
     "name": "stdout",
     "output_type": "stream",
     "text": [
      "ATE(CC -> EG) = E_{UR=u,IP=v} [ p(EG=1 | CC=1,UR=u,IP=v) - p(EG=1 | CC=0,UR=u,IP=v) ]\n"
     ]
    }
   ],
   "source": [
    "dummyvars = 'uvwxyz'\n",
    "assert len(cond) <= len(dummyvars)\n",
    "psum = ''\n",
    "condsuffix = ''\n",
    "if len(cond):\n",
    "    psum = ','.join(f'{v}={dummyvars[i]}' for i, v in enumerate(cond))\n",
    "    psum = f'E_{{{psum}}} '\n",
    "\n",
    "    condsuffix = ',' + ','.join(f'{v}={dummyvars[i]}' for i, v in enumerate(cond))\n",
    "\n",
    "expr = f'{psum}{\"[ \" if len(cond) else \"\"}p({outcome}=1 | {do}=1{condsuffix}) - p({outcome}=1 | {do}=0{condsuffix}){\" ]\" if len(cond) else \"\"}'\n",
    "\n",
    "# expr = (f'{psum}{\" [ \" if len(cond) else \"\"}p({outcome} | {do}=1{\", \" + \", \".join(cond) if len(cond) else \"\"}) - p({outcome} | {do}=0{\", \" + \",\".join(cond) if len(cond) else \"\"}){\" ]\" if len(cond) else \"\"}')\n",
    "print(f'ATE({do} -> {outcome}) = {expr}')"
   ],
   "metadata": {
    "collapsed": false,
    "ExecuteTime": {
     "end_time": "2023-11-17T17:06:39.653520046Z",
     "start_time": "2023-11-17T17:06:39.579828051Z"
    }
   },
   "id": "3c4b6395db86d3a5"
  },
  {
   "cell_type": "code",
   "execution_count": 215,
   "outputs": [],
   "source": [],
   "metadata": {
    "collapsed": false,
    "ExecuteTime": {
     "end_time": "2023-11-17T16:19:16.720067792Z",
     "start_time": "2023-11-17T16:19:16.682463947Z"
    }
   },
   "id": "f10832a3a199de04"
  },
  {
   "cell_type": "code",
   "execution_count": null,
   "outputs": [],
   "source": [],
   "metadata": {
    "collapsed": false
   },
   "id": "ce7532d3e5f9710c"
  },
  {
   "cell_type": "code",
   "execution_count": 153,
   "outputs": [
    {
     "ename": "AttributeError",
     "evalue": "'ImmutableDenseNDimArray' object has no attribute 'name'",
     "output_type": "error",
     "traceback": [
      "\u001B[0;31m---------------------------------------------------------------------------\u001B[0m",
      "\u001B[0;31mAttributeError\u001B[0m                            Traceback (most recent call last)",
      "Cell \u001B[0;32mIn[153], line 1\u001B[0m\n\u001B[0;32m----> 1\u001B[0m \u001B[43msym\u001B[49m\u001B[38;5;241;43m.\u001B[39;49m\u001B[43mvariables\u001B[49m\u001B[43m[\u001B[49m\u001B[38;5;241;43m0\u001B[39;49m\u001B[43m]\u001B[49m\u001B[38;5;241;43m.\u001B[39;49m\u001B[43mname\u001B[49m\n",
      "\u001B[0;31mAttributeError\u001B[0m: 'ImmutableDenseNDimArray' object has no attribute 'name'"
     ]
    }
   ],
   "source": [
    "sym.variables[0]"
   ],
   "metadata": {
    "collapsed": false,
    "ExecuteTime": {
     "end_time": "2023-11-17T15:41:40.436083421Z",
     "start_time": "2023-11-17T15:41:40.421360492Z"
    }
   },
   "id": "37bf7343710ee697"
  },
  {
   "cell_type": "code",
   "execution_count": 154,
   "outputs": [
    {
     "data": {
      "text/plain": "E[EG|GEP]",
      "image/png": "[encoded data removed]",
      "text/latex": "$\\displaystyle \\operatorname{E}\\left[EG|GEP\\right]$"
     },
     "execution_count": 154,
     "metadata": {},
     "output_type": "execute_result"
    }
   ],
   "source": [
    "expr = sym.expr\n",
    "expr"
   ],
   "metadata": {
    "collapsed": false,
    "ExecuteTime": {
     "end_time": "2023-11-17T15:42:23.896056718Z",
     "start_time": "2023-11-17T15:42:23.817110496Z"
    }
   },
   "id": "7ca9b5d52e9bdc53"
  },
  {
   "cell_type": "code",
   "execution_count": 159,
   "outputs": [],
   "source": [
    "e = expr.args[0]"
   ],
   "metadata": {
    "collapsed": false,
    "ExecuteTime": {
     "end_time": "2023-11-17T15:48:29.372834510Z",
     "start_time": "2023-11-17T15:48:29.331815176Z"
    }
   },
   "id": "942f1e9a7ab93ef2"
  },
  {
   "cell_type": "code",
   "execution_count": 160,
   "outputs": [
    {
     "data": {
      "text/plain": "⎛⎡⎛  d               ⎛                ⎛  d              ⎞⎞⎞⎤    ⎞\n⎜⎢⎜─────(E[EG|GEP]), ⎜(1.0, 0.0), (), ⎜─────(E[EG|GEP]),⎟⎟⎟⎥, []⎟\n⎝⎣⎝d[UR]             ⎝                ⎝d[UR]            ⎠⎠⎠⎦    ⎠",
      "text/latex": "$\\displaystyle \\left( \\left[ \\left( \\frac{d}{d \\left[\\begin{matrix}UR\\end{matrix}\\right]} \\operatorname{E}\\left[EG|GEP\\right], \\  \\left( \\left( 1.0, \\  0.0\\right), \\  \\left( \\right), \\  \\left( \\frac{d}{d \\left[\\begin{matrix}UR\\end{matrix}\\right]} \\operatorname{E}\\left[EG|GEP\\right],\\right)\\right)\\right)\\right], \\  \\left[ \\right]\\right)$"
     },
     "execution_count": 160,
     "metadata": {},
     "output_type": "execute_result"
    }
   ],
   "source": [
    "terms = sym.as_terms()\n",
    "terms"
   ],
   "metadata": {
    "collapsed": false,
    "ExecuteTime": {
     "end_time": "2023-11-17T15:54:02.518522151Z",
     "start_time": "2023-11-17T15:54:02.447641319Z"
    }
   },
   "id": "17f662ccb78cb6da"
  },
  {
   "cell_type": "code",
   "execution_count": 161,
   "outputs": [
    {
     "name": "stdout",
     "output_type": "stream",
     "text": [
      "Expression: Derivative(Expectation(EG|GEP), [UR])\n",
      "Coefficient: ((1.0, 0.0), (), (Derivative(Expectation(EG|GEP), [UR]),))\n"
     ]
    }
   ],
   "source": [
    "for term in terms[0]:\n",
    "    # Each term is a tuple, with the first element being the term itself and the second being its coefficient\n",
    "    expression, coefficient = term\n",
    "    # You can now analyze 'expression' and 'coefficient' to extract variable names and their relationships\n",
    "    # For instance, print them out to see their structure\n",
    "    print(\"Expression:\", expression)\n",
    "    print(\"Coefficient:\", coefficient)"
   ],
   "metadata": {
    "collapsed": false,
    "ExecuteTime": {
     "end_time": "2023-11-17T15:54:25.600817796Z",
     "start_time": "2023-11-17T15:54:25.565631474Z"
    }
   },
   "id": "50280e325b2cda90"
  },
  {
   "cell_type": "code",
   "execution_count": 164,
   "outputs": [
    {
     "name": "stdout",
     "output_type": "stream",
     "text": [
      "Expression: Derivative(E(EG, GEP), UR)\n",
      "Coefficient: ((1.0, 0.0), (1,), ())\n"
     ]
    }
   ],
   "source": [
    "from sympy import symbols, Derivative, Function\n",
    "\n",
    "# Define your symbols\n",
    "EG, GEP, UR = symbols('EG GEP UR')\n",
    "\n",
    "# Define the expected value function\n",
    "E = Function('E')(EG, GEP)\n",
    "\n",
    "# Define the derivative\n",
    "deriv = Derivative(E, UR)\n",
    "\n",
    "# Extract terms from the derivative\n",
    "terms = deriv.as_terms()\n",
    "\n",
    "# Process the terms to extract variable names and relationships\n",
    "# terms is a tuple, where the first element contains the terms\n",
    "for term in terms[0]:\n",
    "    # Each term is a tuple, with the first element being the term itself and the second being its coefficient\n",
    "    expression, coefficient = term\n",
    "    # You can now analyze 'expression' and 'coefficient' to extract variable names and their relationships\n",
    "    # For instance, print them out to see their structure\n",
    "    print(\"Expression:\", expression)\n",
    "    print(\"Coefficient:\", coefficient)"
   ],
   "metadata": {
    "collapsed": false,
    "ExecuteTime": {
     "end_time": "2023-11-17T15:55:19.554568299Z",
     "start_time": "2023-11-17T15:55:19.447398010Z"
    }
   },
   "id": "a83ad5dd7c6dc685"
  },
  {
   "cell_type": "code",
   "execution_count": 167,
   "outputs": [
    {
     "data": {
      "text/plain": " ∂             \n───(E(EG, GEP))\n∂UR            ",
      "image/png": "[encoded data removed]",
      "text/latex": "$\\displaystyle \\frac{\\partial}{\\partial UR} E{\\left(EG,GEP \\right)}$"
     },
     "execution_count": 167,
     "metadata": {},
     "output_type": "execute_result"
    }
   ],
   "source": [
    "deriv"
   ],
   "metadata": {
    "collapsed": false,
    "ExecuteTime": {
     "end_time": "2023-11-17T15:59:32.937196075Z",
     "start_time": "2023-11-17T15:59:32.851668831Z"
    }
   },
   "id": "11fe1cb94c8c0c7e"
  },
  {
   "cell_type": "code",
   "execution_count": 166,
   "outputs": [
    {
     "data": {
      "text/plain": "(EG, GEP)",
      "image/png": "[encoded data removed]",
      "text/latex": "$\\displaystyle \\left( EG, \\  GEP\\right)$"
     },
     "execution_count": 166,
     "metadata": {},
     "output_type": "execute_result"
    }
   ],
   "source": [
    "E.args"
   ],
   "metadata": {
    "collapsed": false,
    "ExecuteTime": {
     "end_time": "2023-11-17T15:59:25.637477739Z",
     "start_time": "2023-11-17T15:59:25.562784063Z"
    }
   },
   "id": "d54fe53bb33c4c02"
  },
  {
   "cell_type": "code",
   "execution_count": null,
   "outputs": [],
   "source": [],
   "metadata": {
    "collapsed": false
   },
   "id": "b6436dbf1a4b3a4e"
  },
  {
   "cell_type": "code",
   "execution_count": null,
   "outputs": [],
   "source": [],
   "metadata": {
    "collapsed": false
   },
   "id": "e1ab83f0f02c3b51"
  },
  {
   "cell_type": "code",
   "execution_count": null,
   "id": "initial_id",
   "metadata": {
    "collapsed": true
   },
   "outputs": [],
   "source": []
  }
 ],
 "metadata": {
  "kernelspec": {
   "display_name": "Python 3",
   "language": "python",
   "name": "python3"
  },
  "language_info": {
   "codemirror_mode": {
    "name": "ipython",
    "version": 2
   },
   "file_extension": ".py",
   "mimetype": "text/x-python",
   "name": "python",
   "nbconvert_exporter": "python",
   "pygments_lexer": "ipython2",
   "version": "2.7.6"
  }
 },
 "nbformat": 4,
 "nbformat_minor": 5
}

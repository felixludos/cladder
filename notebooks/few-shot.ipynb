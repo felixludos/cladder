{
 "cells": [
  {
   "cell_type": "code",
   "execution_count": null,
   "id": "initial_id",
   "metadata": {
    "collapsed": true,
    "ExecuteTime": {
     "end_time": "2023-08-08T10:37:39.755051200Z",
     "start_time": "2023-08-08T10:37:39.741114200Z"
    }
   },
   "outputs": [],
   "source": []
  },
  {
   "cell_type": "code",
   "execution_count": 2,
   "outputs": [
    {
     "data": {
      "text/plain": "(10112, 7064)"
     },
     "execution_count": 2,
     "metadata": {},
     "output_type": "execute_result"
    }
   ],
   "source": [
    "from pathlib import Path\n",
    "import numpy as np\n",
    "import random\n",
    "from omnibelt import load_json\n",
    "\n",
    "# path = '../data/cladder-v1-aggregate.json'\n",
    "# path = '../data/cladder-v1-common-easy.json'\n",
    "path = '../data/cladder-v1-q-balanced.json'\n",
    "\n",
    "full = load_json(path)\n",
    "full_ids = {entry['question_id']: entry for entry in full}\n",
    "models = load_json('../data/backup/cladder-v1-meta-models.json')\n",
    "model_table = {info['model_id']: info for info in models}\n",
    "len(full), len(models)"
   ],
   "metadata": {
    "collapsed": false,
    "ExecuteTime": {
     "end_time": "2023-08-08T10:45:18.274952500Z",
     "start_time": "2023-08-08T10:45:17.324782200Z"
    }
   },
   "id": "129e6d2afefca43"
  },
  {
   "cell_type": "code",
   "execution_count": 3,
   "outputs": [
    {
     "data": {
      "text/plain": "{'question_id': 18579,\n 'desc_id': 'orange_scurvy-chain-nie-model5725-spec21-q0',\n 'given_info': 'For patients not consuming citrus, the probability of curly hair is 61%. For patients consuming citrus, the probability of curly hair is 45%.',\n 'question': 'Does eating citrus positively affect curly hair through vitmain C?',\n 'answer': 'no',\n 'meta': {'story_id': 'orange_scurvy',\n  'graph_id': 'chain',\n  'mediators': ['V2'],\n  'polarity': True,\n  'groundtruth': -0.16304368894874421,\n  'query_type': 'nie',\n  'rung': 3,\n  'formal_form': 'E[Y_{X=0, V2=1} - Y_{X=0, V2=0}]',\n  'given_info': {'p(Y | X)': [0.6097224762567023, 0.44667878730795796]},\n  'estimand': 'P(Y=1|X=1) - P(Y=1|X=0)',\n  'treatment': 'X',\n  'outcome': 'Y',\n  'model_id': 5725},\n 'reasoning': {'step0': 'Let X = eating citrus; V2 = vitmain C; Y = curly hair.',\n  'step1': 'X->V2,V2->Y',\n  'step2': 'E[Y_{X=0, V2=1} - Y_{X=0, V2=0}]',\n  'step3': 'P(Y=1|X=1) - P(Y=1|X=0)',\n  'step4': 'P(Y=1 | X=0) = 0.61\\nP(Y=1 | X=1) = 0.45',\n  'step5': '0.45 - 0.61 = -0.16',\n  'end': '-0.16 < 0'}}"
     },
     "execution_count": 3,
     "metadata": {},
     "output_type": "execute_result"
    }
   ],
   "source": [
    "entry = full[0]\n",
    "entry"
   ],
   "metadata": {
    "collapsed": false,
    "ExecuteTime": {
     "end_time": "2023-08-08T11:50:50.396589500Z",
     "start_time": "2023-08-08T11:50:50.376927100Z"
    }
   },
   "id": "151bc1782035d2a"
  },
  {
   "cell_type": "code",
   "execution_count": 4,
   "outputs": [
    {
     "data": {
      "text/plain": "10"
     },
     "execution_count": 4,
     "metadata": {},
     "output_type": "execute_result"
    }
   ],
   "source": [
    "qtypes = set(entry['meta']['query_type'] for entry in full)\n",
    "len(qtypes)"
   ],
   "metadata": {
    "collapsed": false,
    "ExecuteTime": {
     "end_time": "2023-08-08T11:52:34.825749100Z",
     "start_time": "2023-08-08T11:52:34.709084800Z"
    }
   },
   "id": "e8e6d4ec448ee13e"
  },
  {
   "cell_type": "code",
   "execution_count": 7,
   "outputs": [
    {
     "data": {
      "text/plain": "10"
     },
     "execution_count": 7,
     "metadata": {},
     "output_type": "execute_result"
    }
   ],
   "source": [
    "samples = {}\n",
    "\n",
    "options = iter(reversed(full))\n",
    "\n",
    "while len(samples) < len(qtypes) or any(len(v) < 3 for v in samples.values()):\n",
    "    entry = next(options)\n",
    "    qtype = entry['meta']['query_type']\n",
    "    if qtype not in samples:\n",
    "        samples[qtype] = []\n",
    "    if len(samples[qtype]) < 3:\n",
    "        samples[qtype].append(entry)\n",
    "\n",
    "# samples = {k: v['question_id'] for k, v in samples.items()}\n",
    "len(samples)"
   ],
   "metadata": {
    "collapsed": false,
    "ExecuteTime": {
     "end_time": "2023-08-08T11:56:35.768948700Z",
     "start_time": "2023-08-08T11:56:35.744389200Z"
    }
   },
   "id": "2ab666026874cf18"
  },
  {
   "cell_type": "code",
   "execution_count": 8,
   "outputs": [
    {
     "data": {
      "text/plain": "{'correlation': [{'question_id': 20946,\n   'desc_id': 'nonsense0-mediation-correlation-model2257-spec7-q0',\n   'given_info': 'The overall probability of rixq is 83%. The probability of not rixq and xevu is 8%. The probability of rixq and xevu is 36%.',\n   'question': 'Is the chance of xevu larger when observing rixq?',\n   'answer': 'no',\n   'meta': {'story_id': 'nonsense0',\n    'graph_id': 'mediation',\n    'given_info': {'P(X=1)': 0.8344154521599108,\n     'P(Y=1, X=0)': 0.07902386142773754,\n     'P(Y=1, X=1)': 0.3569868230240633},\n    'treated': True,\n    'polarity': True,\n    'groundtruth': -0.04941312841588602,\n    'query_type': 'correlation',\n    'rung': 1,\n    'formal_form': 'P(Y | X)',\n    'treatment': 'X',\n    'outcome': 'Y',\n    'model_id': 2257},\n   'reasoning': {'step0': 'Let X = rixq; V2 = zuph; Y = xevu.',\n    'step1': 'X->V2,X->Y,V2->Y',\n    'step2': 'P(Y | X)',\n    'step3': 'P(X = 1, Y = 1)/P(X = 1) - P(X = 0, Y = 1)/P(X = 0)',\n    'step4': 'P(X=1=1) = 0.83\\nP(Y=1, X=0=1) = 0.08\\nP(Y=1, X=1=1) = 0.36',\n    'step5': '0.36/0.83 - 0.08/0.17 = -0.05',\n    'end': '-0.05 < 0'}},\n  {'question_id': 22532,\n   'desc_id': 'nonsense3-fork-correlation-model2615-spec5-q0',\n   'given_info': 'The overall probability of yomx is 69%. The probability of not yomx and xevu is 10%. The probability of yomx and xevu is 14%.',\n   'question': 'Is the chance of xevu larger when observing yomx?',\n   'answer': 'no',\n   'meta': {'story_id': 'nonsense3',\n    'graph_id': 'fork',\n    'given_info': {'P(X=1)': 0.6881656370816213,\n     'P(Y=1, X=0)': 0.09712319993408991,\n     'P(Y=1, X=1)': 0.1394399346396151},\n    'treated': True,\n    'polarity': True,\n    'groundtruth': -0.10883211545255328,\n    'query_type': 'correlation',\n    'rung': 1,\n    'formal_form': 'P(Y | X)',\n    'treatment': 'X',\n    'outcome': 'Y',\n    'model_id': 2615},\n   'reasoning': {'step0': 'Let V2 = gwet; X = yomx; Y = xevu.',\n    'step1': 'X->Y,V2->Y',\n    'step2': 'P(Y | X)',\n    'step3': 'P(X = 1, Y = 1)/P(X = 1) - P(X = 0, Y = 1)/P(X = 0)',\n    'step4': 'P(X=1=1) = 0.69\\nP(Y=1, X=0=1) = 0.10\\nP(Y=1, X=1=1) = 0.14',\n    'step5': '0.14/0.69 - 0.10/0.31 = -0.11',\n    'end': '-0.11 < 0'}},\n  {'question_id': 14193,\n   'desc_id': 'simpson_kidneystone-confounding-correlation-model1988-spec8-q0',\n   'given_info': 'The overall probability of receives treatment is 48%. The probability of receives no treatment and thick lips is 30%. The probability of receives treatment and thick lips is 18%.',\n   'question': 'Is the chance of thick lips larger when observing receives treatment?',\n   'answer': 'no',\n   'meta': {'story_id': 'simpson_kidneystone',\n    'graph_id': 'confounding',\n    'given_info': {'P(X=1)': 0.47660291615028777,\n     'P(Y=1, X=0)': 0.2987150287718838,\n     'P(Y=1, X=1)': 0.1811237087476161},\n    'treated': True,\n    'polarity': True,\n    'groundtruth': -0.1906928904471752,\n    'query_type': 'correlation',\n    'rung': 1,\n    'formal_form': 'P(Y | X)',\n    'treatment': 'X',\n    'outcome': 'Y',\n    'model_id': 1988},\n   'reasoning': {'step0': 'Let V1 = kidney stone size; X = treatment; Y = lip thickness.',\n    'step1': 'V1->X,V1->Y,X->Y',\n    'step2': 'P(Y | X)',\n    'step3': 'P(X = 1, Y = 1)/P(X = 1) - P(X = 0, Y = 1)/P(X = 0)',\n    'step4': 'P(X=1=1) = 0.48\\nP(Y=1, X=0=1) = 0.30\\nP(Y=1, X=1=1) = 0.18',\n    'step5': '0.18/0.48 - 0.30/0.52 = -0.19',\n    'end': '-0.19 < 0'}}],\n 'ate': [{'question_id': 2023,\n   'desc_id': 'encouagement_program-mediation-ate-model487-spec7-q1',\n   'given_info': 'For students who are not encouraged, the probability of high exam score is 26%. For students who are encouraged, the probability of high exam score is 72%.',\n   'question': 'Will encouragement decrease the chance of high exam score?',\n   'answer': 'no',\n   'meta': {'story_id': 'encouagement_program',\n    'graph_id': 'mediation',\n    'treated': True,\n    'result': True,\n    'polarity': False,\n    'groundtruth': 0.46005131844541947,\n    'query_type': 'ate',\n    'rung': 2,\n    'formal_form': 'E[Y | do(X = 1)] - E[Y | do(X = 0)]',\n    'given_info': {'p(Y | X)': [0.2648653767562298, 0.7249166952016493]},\n    'estimand': 'P(Y=1|X=1) - P(Y=1|X=0)',\n    'treatment': 'X',\n    'outcome': 'Y',\n    'model_id': 487},\n   'reasoning': {'step0': 'Let X = encouragement level; V2 = studying habit; Y = exam score.',\n    'step1': 'X->V2,X->Y,V2->Y',\n    'step2': 'E[Y | do(X = 1)] - E[Y | do(X = 0)]',\n    'step3': 'P(Y=1|X=1) - P(Y=1|X=0)',\n    'step4': 'P(Y=1 | X=0) = 0.26\\nP(Y=1 | X=1) = 0.72',\n    'step5': '0.72 - 0.26 = 0.46',\n    'end': '0.46 > 0'}},\n  {'question_id': 28681,\n   'desc_id': 'nonsense8-chain-ate-model6864-spec0-q0',\n   'given_info': 'For those who are not pexu, the probability of rukz is 87%. For those who are pexu, the probability of rukz is 38%.',\n   'question': 'Will pexu increase the chance of rukz?',\n   'answer': 'no',\n   'meta': {'story_id': 'nonsense8',\n    'graph_id': 'chain',\n    'treated': True,\n    'result': True,\n    'polarity': True,\n    'groundtruth': -0.48747997132314425,\n    'query_type': 'ate',\n    'rung': 2,\n    'formal_form': 'E[Y | do(X = 1)] - E[Y | do(X = 0)]',\n    'given_info': {'p(Y | X)': [0.8650578370376943, 0.3775778657145501]},\n    'estimand': 'P(Y=1|X=1) - P(Y=1|X=0)',\n    'treatment': 'X',\n    'outcome': 'Y',\n    'model_id': 6864},\n   'reasoning': {'step0': 'Let X = pexu; V2 = hwax; Y = rukz.',\n    'step1': 'X->V2,V2->Y',\n    'step2': 'E[Y | do(X = 1)] - E[Y | do(X = 0)]',\n    'step3': 'P(Y=1|X=1) - P(Y=1|X=0)',\n    'step4': 'P(Y=1 | X=0) = 0.87\\nP(Y=1 | X=1) = 0.38',\n    'step5': '0.38 - 0.87 = -0.49',\n    'end': '-0.49 < 0'}},\n  {'question_id': 27304,\n   'desc_id': 'nonsense4-fork-ate-model6555-spec1-q1',\n   'given_info': 'For those who are not jyka, the probability of lirg is 71%. For those who are jyka, the probability of lirg is 36%.',\n   'question': 'Will jyka decrease the chance of lirg?',\n   'answer': 'yes',\n   'meta': {'story_id': 'nonsense4',\n    'graph_id': 'fork',\n    'treated': True,\n    'result': True,\n    'polarity': False,\n    'groundtruth': -0.3478624368345915,\n    'query_type': 'ate',\n    'rung': 2,\n    'formal_form': 'E[Y | do(X = 1)] - E[Y | do(X = 0)]',\n    'given_info': {'p(Y | X)': [0.7080131853288142, 0.3601507484942227]},\n    'estimand': 'P(Y|X)',\n    'treatment': 'X',\n    'outcome': 'Y',\n    'model_id': 6555},\n   'reasoning': {'step0': 'Let V2 = hwax; X = jyka; Y = lirg.',\n    'step1': 'X->Y,V2->Y',\n    'step2': 'E[Y | do(X = 1)] - E[Y | do(X = 0)]',\n    'step3': 'P(Y|X)',\n    'step4': 'P(Y=1 | X=0) = 0.71\\nP(Y=1 | X=1) = 0.36',\n    'step5': '0.36 - 0.71 = -0.35',\n    'end': '-0.35 < 0'}}],\n 'marginal': [{'question_id': 26874,\n   'desc_id': 'nonsense3-diamondcut-marginal-model6452-spec8-q0',\n   'given_info': 'The overall probability of yomx is 20%. For those who are not yomx, the probability of xevu is 86%. For those who are yomx, the probability of xevu is 25%.',\n   'question': 'Is xevu more likely than not xevu overall?',\n   'answer': 'yes',\n   'meta': {'story_id': 'nonsense3',\n    'graph_id': 'diamondcut',\n    'given_info': {'P(X)': 0.20439305010186387,\n     'P(Y | X)': [0.8590131635012942, 0.25271943041469586]},\n    'treated': True,\n    'polarity': True,\n    'groundtruth': 0.742828679725964,\n    'query_type': 'marginal',\n    'rung': 1,\n    'formal_form': 'P(Y)',\n    'treatment': 'X',\n    'outcome': 'Y',\n    'model_id': 6452},\n   'reasoning': {'step0': 'Let V1 = gwet; V3 = cwoi; X = yomx; Y = xevu.',\n    'step1': 'V1->V3,V1->X,X->Y,V3->Y',\n    'step2': 'P(Y)',\n    'step3': 'P(Y | X=1)*P(X=1) + P(Y | X=0)*P(X=0)',\n    'step4': 'P(X=1) = 0.20\\nP(Y=1 | X=0) = 0.86\\nP(Y=1 | X=1) = 0.25',\n    'step5': '0.20*0.25 - 0.80*0.86 = 0.74',\n    'end': '0.74 > 0'}},\n  {'question_id': 25572,\n   'desc_id': 'nonsense0-fork-marginal-model6157-spec3-q0',\n   'given_info': 'The overall probability of rixq is 23%. For those who are not rixq, the probability of xevu is 41%. For those who are rixq, the probability of xevu is 54%.',\n   'question': 'Is xevu more likely than not xevu overall?',\n   'answer': 'no',\n   'meta': {'story_id': 'nonsense0',\n    'graph_id': 'fork',\n    'given_info': {'P(X)': 0.234001235447923,\n     'P(Y | X)': [0.40695818300888575, 0.5410562637812442]},\n    'treated': True,\n    'polarity': True,\n    'groundtruth': 0.438337299580813,\n    'query_type': 'marginal',\n    'rung': 1,\n    'formal_form': 'P(Y)',\n    'treatment': 'X',\n    'outcome': 'Y',\n    'model_id': 6157},\n   'reasoning': {'step0': 'Let V2 = zuph; X = rixq; Y = xevu.',\n    'step1': 'X->Y,V2->Y',\n    'step2': 'P(Y)',\n    'step3': 'P(Y | X=1)*P(X=1) + P(Y | X=0)*P(X=0)',\n    'step4': 'P(X=1) = 0.23\\nP(Y=1 | X=0) = 0.41\\nP(Y=1 | X=1) = 0.54',\n    'step5': '0.23*0.54 - 0.77*0.41 = 0.44',\n    'end': '0.44 > 0'}},\n  {'question_id': 16429,\n   'desc_id': 'vaccine_kills-diamond-marginal-model5240-spec16-q0',\n   'given_info': 'The overall probability of vaccination is 14%. For unvaccinated individuals, the probability of black hair is 52%. For vaccinated individuals, the probability of black hair is 59%.',\n   'question': 'Is black hair more likely than blond hair overall?',\n   'answer': 'yes',\n   'meta': {'story_id': 'vaccine_kills',\n    'graph_id': 'diamond',\n    'given_info': {'P(X)': 0.13729671137677218,\n     'P(Y | X)': [0.5171369736422005, 0.5872630594115863]},\n    'treated': True,\n    'polarity': True,\n    'groundtruth': 0.5278136010680512,\n    'query_type': 'marginal',\n    'rung': 1,\n    'formal_form': 'P(Y)',\n    'treatment': 'X',\n    'outcome': 'Y',\n    'model_id': 5240},\n   'reasoning': {'step0': 'Let X = vaccination status; V3 = vaccination reaction; V2 = getting smallpox; Y = black hair.',\n    'step1': 'X->V3,X->V2,V2->Y,V3->Y',\n    'step2': 'P(Y)',\n    'step3': 'P(Y | X=1)*P(X=1) + P(Y | X=0)*P(X=0)',\n    'step4': 'P(X=1) = 0.14\\nP(Y=1 | X=0) = 0.52\\nP(Y=1 | X=1) = 0.59',\n    'step5': '0.14*0.59 - 0.86*0.52 = 0.53',\n    'end': '0.53 > 0'}}],\n 'backadj': [{'question_id': 21850,\n   'desc_id': 'nonsense2-mediation-backadj-model2456-spec6-q0',\n   'given_info': 'Method 1: We look at how xevo correlates with gyzp case by case according to tijv. Method 2: We look directly at how xevo correlates with gyzp in general.',\n   'question': 'To understand how xevo affects gyzp, is it more correct to use the Method 1 than Method 2?',\n   'answer': 'no',\n   'meta': {'story_id': 'nonsense2',\n    'graph_id': 'mediation',\n    'flipped': True,\n    'polarity': True,\n    'groundtruth': [],\n    'bad_candidate_set': ['V2'],\n    'given_info': [['V2'], []],\n    'query_type': 'backadj',\n    'rung': 2,\n    'formal_form': '[backdoor adjustment set for Y given X]',\n    'treatment': 'X',\n    'outcome': 'Y',\n    'model_id': 2456},\n   'reasoning': None},\n  {'question_id': 25098,\n   'desc_id': 'nonsense9-diamondcut-backadj-model3201-spec1-q0',\n   'given_info': 'Method 1: We look directly at how zuph correlates with glimx in general. Method 2: We look at this correlation case by case according to zory.',\n   'question': 'To understand how zuph affects glimx, is it more correct to use the Method 1 than Method 2?',\n   'answer': 'no',\n   'meta': {'story_id': 'nonsense9',\n    'graph_id': 'diamondcut',\n    'flipped': True,\n    'polarity': True,\n    'groundtruth': ['V3'],\n    'bad_candidate_set': [],\n    'given_info': [[], ['V3']],\n    'query_type': 'backadj',\n    'rung': 2,\n    'formal_form': '[backdoor adjustment set for Y given X]',\n    'treatment': 'X',\n    'outcome': 'Y',\n    'model_id': 3201},\n   'reasoning': None},\n  {'question_id': 5150,\n   'desc_id': 'firing_employee-diamondcut-backadj-model3920-spec16-q0',\n   'given_info': 'Method 1: We look directly at how manager correlates with employee in general. Method 2: We look at this correlation case by case according to director.',\n   'question': 'To understand how manager affects employee, is it more correct to use the Method 1 than Method 2?',\n   'answer': 'no',\n   'meta': {'story_id': 'firing_employee',\n    'graph_id': 'diamondcut',\n    'flipped': True,\n    'polarity': True,\n    'groundtruth': ['V3'],\n    'bad_candidate_set': [],\n    'given_info': [[], ['V3']],\n    'query_type': 'backadj',\n    'rung': 2,\n    'formal_form': '[backdoor adjustment set for Y given X]',\n    'treatment': 'X',\n    'outcome': 'Y',\n    'model_id': 3920},\n   'reasoning': None}],\n 'ett': [{'question_id': 19688,\n   'desc_id': 'smoking_tar_cancer-chain-ett-model5996-spec22-q0',\n   'given_info': 'For people who do not have a sister, the probability of lung cancer is 30%. For people who have a sister, the probability of lung cancer is 43%.',\n   'question': 'For people who have a sister, would it be more likely to see lung cancer if the person did not have a sister?',\n   'answer': 'no',\n   'meta': {'story_id': 'smoking_tar_cancer',\n    'graph_id': 'chain',\n    'treated': True,\n    'result': True,\n    'polarity': True,\n    'groundtruth': 0.13404853845487513,\n    'query_type': 'ett',\n    'rung': 3,\n    'formal_form': 'E[Y_{X = 1} - Y_{X = 0} | X = 1]',\n    'given_info': {'p(Y | X)': [0.2951414255793687, 0.4291899640342438]},\n    'estimand': 'P(Y=1|X=1) - P(Y=1|X=0)',\n    'treatment': 'X',\n    'outcome': 'Y',\n    'model_id': 5996},\n   'reasoning': {'step0': 'Let X = having a sister; V2 = tar deposit; Y = lung cancer.',\n    'step1': 'X->V2,V2->Y',\n    'step2': 'E[Y_{X = 1} - Y_{X = 0} | X = 1]',\n    'step3': 'P(Y=1|X=1) - P(Y=1|X=0)',\n    'step4': 'P(Y=1 | X=0) = 0.30\\nP(Y=1 | X=1) = 0.43',\n    'step5': '0.43 - 0.30 = 0.13',\n    'end': '0.13 > 0'}},\n  {'question_id': 15380,\n   'desc_id': 'candle-fork-ett-model4989-spec5-q1',\n   'given_info': 'For people who do not drink coffee, the probability of dark room is 89%. For people who drink coffee, the probability of dark room is 58%.',\n   'question': 'For people who drink coffee, would it be less likely to see dark room if the person did not drink coffee?',\n   'answer': 'no',\n   'meta': {'story_id': 'candle',\n    'graph_id': 'fork',\n    'treated': True,\n    'result': True,\n    'polarity': False,\n    'groundtruth': -0.30474794844922404,\n    'query_type': 'ett',\n    'rung': 3,\n    'formal_form': 'E[Y_{X = 1} - Y_{X = 0} | X = 1]',\n    'given_info': {'p(Y | X)': [0.8853284274857435, 0.5805804790365192]},\n    'estimand': 'P(Y=1|X=1) - P(Y=1|X=0)',\n    'treatment': 'X',\n    'outcome': 'Y',\n    'model_id': 4989},\n   'reasoning': {'step0': 'Let V2 = the candle; X = drinking coffee; Y = room.',\n    'step1': 'X->Y,V2->Y',\n    'step2': 'E[Y_{X = 1} - Y_{X = 0} | X = 1]',\n    'step3': 'P(Y=1|X=1) - P(Y=1|X=0)',\n    'step4': 'P(Y=1 | X=0) = 0.89\\nP(Y=1 | X=1) = 0.58',\n    'step5': '0.58 - 0.89 = -0.30',\n    'end': '-0.30 < 0'}},\n  {'question_id': 16853,\n   'desc_id': 'college_salary-chain-ett-model5348-spec4-q1',\n   'given_info': 'For people who do not have a brother, the probability of high salary is 34%. For people who have a brother, the probability of high salary is 60%.',\n   'question': 'For people who have a brother, would it be less likely to see high salary if the person did not have a brother?',\n   'answer': 'yes',\n   'meta': {'story_id': 'college_salary',\n    'graph_id': 'chain',\n    'treated': True,\n    'result': True,\n    'polarity': False,\n    'groundtruth': 0.2572960434067934,\n    'query_type': 'ett',\n    'rung': 3,\n    'formal_form': 'E[Y_{X = 1} - Y_{X = 0} | X = 1]',\n    'given_info': {'p(Y | X)': [0.34445061833215956, 0.601746661738953]},\n    'estimand': 'P(Y=1|X=1) - P(Y=1|X=0)',\n    'treatment': 'X',\n    'outcome': 'Y',\n    'model_id': 5348},\n   'reasoning': {'step0': 'Let X = having a brother; V2 = skill; Y = salary.',\n    'step1': 'X->V2,V2->Y',\n    'step2': 'E[Y_{X = 1} - Y_{X = 0} | X = 1]',\n    'step3': 'P(Y=1|X=1) - P(Y=1|X=0)',\n    'step4': 'P(Y=1 | X=0) = 0.34\\nP(Y=1 | X=1) = 0.60',\n    'step5': '0.60 - 0.34 = 0.26',\n    'end': '0.26 > 0'}}],\n 'det-counterfactual': [{'question_id': 29884,\n   'desc_id': 'nonsense2-chain-det-counterfactual-model3559-spec3-q0',\n   'given_info': 'We know that xevo causes not tijv, and we know that tijv causes not gyzp.',\n   'question': 'Would an individual is gyzp if not xevo instead of xevo?',\n   'answer': 'no',\n   'meta': {'story_id': 'nonsense2',\n    'graph_id': 'chain',\n    'given_info': {},\n    'formal_form': 'Y_{X=0} = 1 | ',\n    'treatment': 'X',\n    'outcome': 'Y',\n    'action': 0,\n    'polarity': 1,\n    'groundtruth': 0,\n    'query_type': 'det-counterfactual',\n    'rung': 3,\n    'model_id': 3559},\n   'reasoning': {'step0': 'Let X = xevo; V2 = tijv; Y = gyzp.',\n    'step1': 'X->V2,V2->Y',\n    'step2': 'Y_{X=0} = 1 | ',\n    'step3': 'Solve for Y, given the evidence and the action',\n    'step4': 'V2 = not X\\nY = not V2',\n    'step5': 'Y = [0] = not 1',\n    'end': '0'}},\n  {'question_id': 30531,\n   'desc_id': 'nonsense6-arrowhead-det-counterfactual-model3723-spec1-q0',\n   'given_info': 'We know that yupt or xyfo causes zupj. yupt and xyfo and zupj causes muvq. We observed an individual is not xyfo.',\n   'question': 'Would an individual is muvq if not yupt instead of yupt?',\n   'answer': 'no',\n   'meta': {'story_id': 'nonsense6',\n    'graph_id': 'arrowhead',\n    'given_info': {'V2': 0},\n    'formal_form': 'Y_{X=0} = 1 | V2=0',\n    'treatment': 'X',\n    'outcome': 'Y',\n    'action': 0,\n    'polarity': 1,\n    'groundtruth': 0,\n    'query_type': 'det-counterfactual',\n    'rung': 3,\n    'model_id': 3723},\n   'reasoning': {'step0': 'Let V2 = xyfo; X = yupt; V3 = zupj; Y = muvq.',\n    'step1': 'X->V3,V2->V3,X->Y,V2->Y,V3->Y',\n    'step2': 'Y_{X=0} = 1 | V2=0',\n    'step3': 'Solve for Y, given the evidence and the action',\n    'step4': 'V2 = 0\\nV3 = X or V2\\nY = X and V2 and V3',\n    'step5': 'Y = 0 = 0 and 0 and 0',\n    'end': '0'}},\n  {'question_id': 30821,\n   'desc_id': 'nonsense8-arrowhead-det-counterfactual-model3795-spec1-q3',\n   'given_info': 'We know that pexu or kraz causes hwax. pexu and kraz and hwax causes rukz. We observed an individual is not kraz.',\n   'question': 'Would an individual is not rukz if pexu instead of not pexu?',\n   'answer': 'yes',\n   'meta': {'story_id': 'nonsense8',\n    'graph_id': 'arrowhead',\n    'given_info': {'V2': 0},\n    'formal_form': 'Y_{X=1} = 0 | V2=0',\n    'treatment': 'X',\n    'outcome': 'Y',\n    'action': 1,\n    'polarity': 0,\n    'groundtruth': 1,\n    'query_type': 'det-counterfactual',\n    'rung': 3,\n    'model_id': 3795},\n   'reasoning': {'step0': 'Let V2 = kraz; X = pexu; V3 = hwax; Y = rukz.',\n    'step1': 'X->V3,V2->V3,X->Y,V2->Y,V3->Y',\n    'step2': 'Y_{X=1} = 0 | V2=0',\n    'step3': 'Solve for Y, given the evidence and the action',\n    'step4': 'V2 = 0\\nV3 = X or V2\\nY = X and V2 and V3',\n    'step5': 'Y = 0 = 1 and 0 and 1',\n    'end': '1'}}],\n 'nde': [{'question_id': 7775,\n   'desc_id': 'neg_mediation-mediation-nde-model4537-spec3-q0',\n   'given_info': 'For nonsmokers and are lazy, the probability of college admission is 55%. For nonsmokers and are hard-working, the probability of college admission is 24%. For smokers and are lazy, the probability of college admission is 81%. For smokers and are hard-working, the probability of college admission is 59%. For nonsmokers, the probability of being hard-working is 2%. For smokers, the probability of being hard-working is 59%.',\n   'question': 'If we disregard the mediation effect through effort, would smoking positively affect college admission?',\n   'answer': 'yes',\n   'meta': {'story_id': 'neg_mediation',\n    'graph_id': 'mediation',\n    'mediators': ['V2'],\n    'polarity': True,\n    'groundtruth': 0.26976918757116064,\n    'query_type': 'nde',\n    'rung': 3,\n    'formal_form': 'E[Y_{X=1, V2=0} - Y_{X=0, V2=0}]',\n    'given_info': {'p(Y | X, V2)': [[0.546315773243429, 0.2353984103796534],\n      [0.814363176280535, 0.5867104486774141]],\n     'p(V2 | X)': [0.02067846125386408, 0.5911552082259858]},\n    'estimand': '\\\\sum_{V2=v} P(V2=v|X=0)*[P(Y=1|X=1,V2=v) - P(Y=1|X=0, V2=v)]',\n    'treatment': 'X',\n    'outcome': 'Y',\n    'model_id': 4537},\n   'reasoning': {'step0': 'Let X = smoking; V2 = effort; Y = college admission.',\n    'step1': 'X->V2,X->Y,V2->Y',\n    'step2': 'E[Y_{X=1, V2=0} - Y_{X=0, V2=0}]',\n    'step3': '\\\\sum_{V2=v} P(V2=v|X=0)*[P(Y=1|X=1,V2=v) - P(Y=1|X=0, V2=v)]',\n    'step4': 'P(Y=1 | X=0, V2=0) = 0.55\\nP(Y=1 | X=0, V2=1) = 0.24\\nP(Y=1 | X=1, V2=0) = 0.81\\nP(Y=1 | X=1, V2=1) = 0.59\\nP(V2=1 | X=0) = 0.02\\nP(V2=1 | X=1) = 0.59',\n    'step5': '0.02 * (0.59 - 0.81) + 0.59 * (0.24 - 0.55) = 0.27',\n    'end': '0.27 > 0'}},\n  {'question_id': 13272,\n   'desc_id': 'nature_vs_nurture-arrowhead-nde-model1780-spec10-q1',\n   'given_info': 'For children who do not like spicy food and with low parental social status, the probability of intelligent child is 34%. For children who do not like spicy food and with high parental social status, the probability of intelligent child is 30%. For children who like spicy food and with low parental social status, the probability of intelligent child is 73%. For children who like spicy food and with high parental social status, the probability of intelligent child is 64%. For children who do not like spicy food and confounder inactive, the probability of high parental social status is 62%. For children who do not like spicy food and confounder active, the probability of high parental social status is 80%. For children who like spicy food and confounder inactive, the probability of high parental social status is 48%. For children who like spicy food and confounder active, the probability of high parental social status is 64%. The overall probability of confounder active is 56%.',\n   'question': \"If we disregard the mediation effect through parents' social status, would liking spicy food negatively affect child's intelligence?\",\n   'answer': 'no',\n   'meta': {'story_id': 'nature_vs_nurture',\n    'graph_id': 'arrowhead',\n    'mediators': ['V3'],\n    'polarity': False,\n    'groundtruth': 0.3470495022205932,\n    'query_type': 'nde',\n    'rung': 3,\n    'formal_form': 'E[Y_{X=1, V3=0} - Y_{X=0, V3=0}]',\n    'given_info': {'p(Y | X, V3)': [[0.34486151051932706, 0.30254797856017934],\n      [0.7333824099964148, 0.6381974457210032]],\n     'p(V3 | X, V2)': [[0.6222951854182459, 0.8046426556689453],\n      [0.4836129865981634, 0.636838034431012]],\n     'p(V2)': [0.5635495616194267]},\n    'estimand': '\\\\sum_{V3=v} [\\\\sum_{V2=k}[P(Y=1|X=1,V3=v)-P(Y=1|X=0,V3=v)]*P(V3=v|X=0,V2=k)*P(V2=k)]',\n    'treatment': 'X',\n    'outcome': 'Y',\n    'model_id': 1780},\n   'reasoning': {'step0': \"Let V2 = other unobserved factors; X = liking spicy food; V3 = parents' social status; Y = child's intelligence.\",\n    'step1': 'X->V3,V2->V3,X->Y,V2->Y,V3->Y',\n    'step2': 'E[Y_{X=1, V3=0} - Y_{X=0, V3=0}]',\n    'step3': '\\\\sum_{V3=v} [\\\\sum_{V2=k}[P(Y=1|X=1,V3=v)-P(Y=1|X=0,V3=v)]*P(V3=v|X=0,V2=k)*P(V2=k)]',\n    'step4': 'P(Y=1 | X=0, V3=0) = 0.34\\nP(Y=1 | X=0, V3=1) = 0.30\\nP(Y=1 | X=1, V3=0) = 0.73\\nP(Y=1 | X=1, V3=1) = 0.64\\nP(V3=1 | X=0, V2=0) = 0.62\\nP(V3=1 | X=0, V2=1) = 0.80\\nP(V3=1 | X=1, V2=0) = 0.48\\nP(V3=1 | X=1, V2=1) = 0.64\\nP(V2=1) = 0.56',\n    'step5': '0.56 * (0.64 - 0.73) * 0.80 + 0.44 * (0.30 - 0.34) * 0.48 = 0.35',\n    'end': '0.35 > 0'}},\n  {'question_id': 16351,\n   'desc_id': 'penguin-mediation-nde-model5221-spec27-q0',\n   'given_info': 'For those who choose to take the stairs and penguins who are sad, the probability of curly hair is 90%. For those who choose to take the stairs and penguins who are happy, the probability of curly hair is 91%. For those who choose to take the elevator and penguins who are sad, the probability of curly hair is 48%. For those who choose to take the elevator and penguins who are happy, the probability of curly hair is 54%. For those who choose to take the stairs, the probability of penguin happiness is 33%. For those who choose to take the elevator, the probability of penguin happiness is 75%.',\n   'question': 'If we disregard the mediation effect through penguin mood, would my decision positively affect curly hair?',\n   'answer': 'no',\n   'meta': {'story_id': 'penguin',\n    'graph_id': 'mediation',\n    'mediators': ['V2'],\n    'polarity': True,\n    'groundtruth': -0.40649139198875717,\n    'query_type': 'nde',\n    'rung': 3,\n    'formal_form': 'E[Y_{X=1, V2=0} - Y_{X=0, V2=0}]',\n    'given_info': {'p(Y | X, V2)': [[0.9021521003667626, 0.9093474465454826],\n      [0.47586849307596607, 0.5438543542566384]],\n     'p(V2 | X)': [0.32558064858315144, 0.7528404287953105]},\n    'estimand': '\\\\sum_{V2=v} P(V2=v|X=0)*[P(Y=1|X=1,V2=v) - P(Y=1|X=0, V2=v)]',\n    'treatment': 'X',\n    'outcome': 'Y',\n    'model_id': 5221},\n   'reasoning': {'step0': 'Let X = my decision; V2 = penguin mood; Y = curly hair.',\n    'step1': 'X->V2,X->Y,V2->Y',\n    'step2': 'E[Y_{X=1, V2=0} - Y_{X=0, V2=0}]',\n    'step3': '\\\\sum_{V2=v} P(V2=v|X=0)*[P(Y=1|X=1,V2=v) - P(Y=1|X=0, V2=v)]',\n    'step4': 'P(Y=1 | X=0, V2=0) = 0.90\\nP(Y=1 | X=0, V2=1) = 0.91\\nP(Y=1 | X=1, V2=0) = 0.48\\nP(Y=1 | X=1, V2=1) = 0.54\\nP(V2=1 | X=0) = 0.33\\nP(V2=1 | X=1) = 0.75',\n    'step5': '0.33 * (0.54 - 0.48) + 0.75 * (0.91 - 0.90) = -0.41',\n    'end': '-0.41 < 0'}}],\n 'nie': [{'question_id': 24877,\n   'desc_id': 'nonsense9-mediation-nie-model3151-spec1-q1',\n   'given_info': 'For those who are not zuph and are not jyka, the probability of glimx is 100%. For those who are not zuph and are jyka, the probability of glimx is 51%. For those who are zuph and are not jyka, the probability of glimx is 28%. For those who are zuph and are jyka, the probability of glimx is 60%. For those who are not zuph, the probability of jyka is 93%. For those who are zuph, the probability of jyka is 40%.',\n   'question': 'Does zuph negatively affect glimx through jyka?',\n   'answer': 'no',\n   'meta': {'story_id': 'nonsense9',\n    'graph_id': 'mediation',\n    'mediators': ['V2'],\n    'polarity': False,\n    'groundtruth': 0.25745717709789606,\n    'query_type': 'nie',\n    'rung': 3,\n    'formal_form': 'E[Y_{X=0, V2=1} - Y_{X=0, V2=0}]',\n    'given_info': {'p(Y | X, V2)': [[0.995451889223859, 0.5086752171035013],\n      [0.2759062434708122, 0.6013865843892036]],\n     'p(V2 | X)': [0.929973717520451, 0.401071673023465]},\n    'estimand': '\\\\sum_{V2 = v} P(Y=1|X =0,V2 = v)*[P(V2 = v | X = 1) − P(V2 = v | X = 0)]',\n    'treatment': 'X',\n    'outcome': 'Y',\n    'model_id': 3151},\n   'reasoning': {'step0': 'Let X = zuph; V2 = jyka; Y = glimx.',\n    'step1': 'X->V2,X->Y,V2->Y',\n    'step2': 'E[Y_{X=0, V2=1} - Y_{X=0, V2=0}]',\n    'step3': '\\\\sum_{V2 = v} P(Y=1|X =0,V2 = v)*[P(V2 = v | X = 1) − P(V2 = v | X = 0)]',\n    'step4': 'P(Y=1 | X=0, V2=0) = 1.00\\nP(Y=1 | X=0, V2=1) = 0.51\\nP(Y=1 | X=1, V2=0) = 0.28\\nP(Y=1 | X=1, V2=1) = 0.60\\nP(V2=1 | X=0) = 0.93\\nP(V2=1 | X=1) = 0.40',\n    'step5': '0.40 * (0.51 - 1.00)+ 0.93 * (0.60 - 0.28)= 0.26',\n    'end': '0.26 > 0'}},\n  {'question_id': 17209,\n   'desc_id': 'encouagement_program-mediation-nie-model5442-spec8-q0',\n   'given_info': 'For students who are not encouraged and do not study hard, the probability of brown eyes is 76%. For students who are not encouraged and study hard, the probability of brown eyes is 35%. For students who are encouraged and do not study hard, the probability of brown eyes is 49%. For students who are encouraged and study hard, the probability of brown eyes is 4%. For students who are not encouraged, the probability of studying hard is 62%. For students who are encouraged, the probability of studying hard is 2%.',\n   'question': 'Does encouragement level positively affect brown eyes through studying habit?',\n   'answer': 'yes',\n   'meta': {'story_id': 'encouagement_program',\n    'graph_id': 'mediation',\n    'mediators': ['V2'],\n    'polarity': True,\n    'groundtruth': 0.24395874101724213,\n    'query_type': 'nie',\n    'rung': 3,\n    'formal_form': 'E[Y_{X=0, V2=1} - Y_{X=0, V2=0}]',\n    'given_info': {'p(Y | X, V2)': [[0.7572979537983061, 0.3503677084352803],\n      [0.4872310118268078, 0.03665052046258559]],\n     'p(V2 | X)': [0.6224901444995267, 0.022980170008432953]},\n    'estimand': '\\\\sum_{V2 = v} P(Y=1|X =0,V2 = v)*[P(V2 = v | X = 1) − P(V2 = v | X = 0)]',\n    'treatment': 'X',\n    'outcome': 'Y',\n    'model_id': 5442},\n   'reasoning': {'step0': 'Let X = encouragement level; V2 = studying habit; Y = brown eyes.',\n    'step1': 'X->V2,X->Y,V2->Y',\n    'step2': 'E[Y_{X=0, V2=1} - Y_{X=0, V2=0}]',\n    'step3': '\\\\sum_{V2 = v} P(Y=1|X =0,V2 = v)*[P(V2 = v | X = 1) − P(V2 = v | X = 0)]',\n    'step4': 'P(Y=1 | X=0, V2=0) = 0.76\\nP(Y=1 | X=0, V2=1) = 0.35\\nP(Y=1 | X=1, V2=0) = 0.49\\nP(Y=1 | X=1, V2=1) = 0.04\\nP(V2=1 | X=0) = 0.62\\nP(V2=1 | X=1) = 0.02',\n    'step5': '0.02 * (0.35 - 0.76)+ 0.62 * (0.04 - 0.49)= 0.24',\n    'end': '0.24 > 0'}},\n  {'question_id': 28444,\n   'desc_id': 'nonsense7-frontdoor-nie-model6808-spec4-q0',\n   'given_info': 'For those who are not zuph, the probability of wibl is 1%. For those who are zuph, the probability of wibl is 24%. For those who are not zuph and are not wibl, the probability of uvzi is 72%. For those who are not zuph and are wibl, the probability of uvzi is 88%. For those who are zuph and are not wibl, the probability of uvzi is 57%. For those who are zuph and are wibl, the probability of uvzi is 85%. The overall probability of zuph is 93%.',\n   'question': 'Does zuph positively affect uvzi through wibl?',\n   'answer': 'yes',\n   'meta': {'story_id': 'nonsense7',\n    'graph_id': 'frontdoor',\n    'mediators': ['V3'],\n    'polarity': True,\n    'groundtruth': 0.06095744857604379,\n    'query_type': 'nie',\n    'rung': 3,\n    'formal_form': 'E[Y_{X=0, V3=1} - Y_{X=0, V3=0}]',\n    'given_info': {'p(V3 | X)': [0.013679076883763342, 0.23736684625418392],\n     'p(Y | X, V3)': [[0.7217065930439718, 0.875911909109025],\n      [0.5712633460291743, 0.8531718204008816]],\n     'p(X)': [0.9264140548420836]},\n    'estimand': '\\\\sum_{V3 = v} [P(V3 = v|X = 1) - P(V3 = v|X = 0)] * [\\\\sum_{X = h} P(Y = 1|X = h,V3 = v)*P(X = h)]',\n    'treatment': 'X',\n    'outcome': 'Y',\n    'model_id': 6808},\n   'reasoning': {'step0': 'Let V1 = vubr; X = zuph; V3 = wibl; Y = uvzi.',\n    'step1': 'V1->X,X->V3,V1->Y,V3->Y',\n    'step2': 'E[Y_{X=0, V3=1} - Y_{X=0, V3=0}]',\n    'step3': '\\\\sum_{V3 = v} [P(V3 = v|X = 1) - P(V3 = v|X = 0)] * [\\\\sum_{X = h} P(Y = 1|X = h,V3 = v)*P(X = h)]',\n    'step4': 'P(V3=1 | X=0) = 0.01\\nP(V3=1 | X=1) = 0.24\\nP(Y=1 | X=0, V3=0) = 0.72\\nP(Y=1 | X=0, V3=1) = 0.88\\nP(Y=1 | X=1, V3=0) = 0.57\\nP(Y=1 | X=1, V3=1) = 0.85\\nP(X=1) = 0.93',\n    'step5': '0.24 - 0.01 * (0.85 * 0.93 + 0.88 * 0.07)= 0.06',\n    'end': '0.06 > 0'}}],\n 'exp_away': [{'question_id': 17817,\n   'desc_id': 'hospitalization-collision-exp_away-model5557-spec3-q0',\n   'given_info': 'The overall probability of drinking coffee is 41%. For people who do not drink coffee and non-hospitalized individuals, the probability of broken bones is 93%. For people who do not drink coffee and hospitalized individuals, the probability of broken bones is 69%. For people who drink coffee and non-hospitalized individuals, the probability of broken bones is 93%. For people who drink coffee and hospitalized individuals, the probability of broken bones is 75%.',\n   'question': 'If we look at hospitalized individuals, does the chance of broken bones increase when drinking coffee?',\n   'answer': 'yes',\n   'meta': {'story_id': 'hospitalization',\n    'graph_id': 'collision',\n    'treated': True,\n    'result': True,\n    'baseline': True,\n    'polarity': True,\n    'given_info': {'P(X)': 0.412872988582956,\n     'P(Y | X, V3)': [[0.9270573420878465, 0.6865869030398996],\n      [0.9254782255383757, 0.7475509943450367]]},\n    'collider': 'V3',\n    'groundtruth': 0.03177461729216846,\n    'formal_form': 'P(Y = 1 | X = 1, V3 = 1] - P(Y = 1 | V3 = 1)',\n    'query_type': 'exp_away',\n    'rung': 1,\n    'treatment': 'X',\n    'outcome': 'Y',\n    'model_id': 5557},\n   'reasoning': {'step0': 'Let Y = broken bones; X = drinking coffee; V3 = hospitalization status.',\n    'step1': 'X->V3,Y->V3',\n    'step2': 'P(Y = 1 | X = 1, V3 = 1] - P(Y = 1 | V3 = 1)',\n    'step3': 'P(Y=1 | X=1, V3=1) - (P(X=1) * P(Y=1 | X=1, V3=1) + P(X=0) * P(Y=1 | X=0, V3=1))',\n    'step4': 'P(X=1) = 0.41\\nP(Y=1 | X=0, V3=0) = 0.93\\nP(Y=1 | X=0, V3=1) = 0.69\\nP(Y=1 | X=1, V3=0) = 0.93\\nP(Y=1 | X=1, V3=1) = 0.75',\n    'step5': '0.75 - (0.41*0.75 + 0.59*0.69) = 0.03',\n    'end': '0.03 > 0'}},\n  {'question_id': 11920,\n   'desc_id': 'celebrity-collision-exp_away-model1453-spec13-q0',\n   'given_info': 'The overall probability of attractive appearance is 48%. For people considered unattractive and are not famous, the probability of thick lips is 3%. For people considered unattractive and are famous, the probability of thick lips is 9%. For people considered attractive and are not famous, the probability of thick lips is 2%. For people considered attractive and are famous, the probability of thick lips is 6%.',\n   'question': 'If we look at people who are famous, does the chance of thick lips increase when attractive appearance?',\n   'answer': 'no',\n   'meta': {'story_id': 'celebrity',\n    'graph_id': 'collision',\n    'treated': True,\n    'result': True,\n    'baseline': True,\n    'polarity': True,\n    'given_info': {'P(X)': 0.48495334498748244,\n     'P(Y | X, V3)': [[0.027293290834547974, 0.08764994289003412],\n      [0.02157227007117983, 0.0578333081631681]]},\n    'collider': 'V3',\n    'groundtruth': -0.009593830158753612,\n    'formal_form': 'P(Y = 1 | X = 1, V3 = 1] - P(Y = 1 | V3 = 1)',\n    'query_type': 'exp_away',\n    'rung': 1,\n    'treatment': 'X',\n    'outcome': 'Y',\n    'model_id': 1453},\n   'reasoning': {'step0': 'Let Y = lip thickness; X = appearance; V3 = fame.',\n    'step1': 'X->V3,Y->V3',\n    'step2': 'P(Y = 1 | X = 1, V3 = 1] - P(Y = 1 | V3 = 1)',\n    'step3': 'P(Y=1 | X=1, V3=1) - (P(X=1) * P(Y=1 | X=1, V3=1) + P(X=0) * P(Y=1 | X=0, V3=1))',\n    'step4': 'P(X=1) = 0.48\\nP(Y=1 | X=0, V3=0) = 0.03\\nP(Y=1 | X=0, V3=1) = 0.09\\nP(Y=1 | X=1, V3=0) = 0.02\\nP(Y=1 | X=1, V3=1) = 0.06',\n    'step5': '0.06 - (0.48*0.06 + 0.52*0.09) = -0.01',\n    'end': '-0.01 < 0'}},\n  {'question_id': 1935,\n   'desc_id': 'elite_students-collision-exp_away-model461-spec11-q0',\n   'given_info': 'The overall probability of talent is 53%. For students who are not talented and rejected from elite institutions, the probability of being hard-working is 30%. For students who are not talented and accepted to elite institutions, the probability of being hard-working is 78%. For students who are talented and rejected from elite institutions, the probability of being hard-working is 15%. For students who are talented and accepted to elite institutions, the probability of being hard-working is 55%.',\n   'question': 'If we look at students accepted to elite institutions, does the chance of being hard-working increase when talent?',\n   'answer': 'no',\n   'meta': {'story_id': 'elite_students',\n    'graph_id': 'collision',\n    'treated': True,\n    'result': True,\n    'baseline': True,\n    'polarity': True,\n    'given_info': {'P(X)': 0.5328407867313962,\n     'P(Y | X, V3)': [[0.3042750012783359, 0.779671150407714],\n      [0.15264087821990918, 0.5539531487594854]]},\n    'collider': 'V3',\n    'groundtruth': -0.05857857081374174,\n    'formal_form': 'P(Y = 1 | X = 1, V3 = 1] - P(Y = 1 | V3 = 1)',\n    'query_type': 'exp_away',\n    'rung': 1,\n    'treatment': 'X',\n    'outcome': 'Y',\n    'model_id': 461},\n   'reasoning': {'step0': 'Let Y = effort; X = talent; V3 = elite institution admission status.',\n    'step1': 'X->V3,Y->V3',\n    'step2': 'P(Y = 1 | X = 1, V3 = 1] - P(Y = 1 | V3 = 1)',\n    'step3': 'P(Y=1 | X=1, V3=1) - (P(X=1) * P(Y=1 | X=1, V3=1) + P(X=0) * P(Y=1 | X=0, V3=1))',\n    'step4': 'P(X=1) = 0.53\\nP(Y=1 | X=0, V3=0) = 0.30\\nP(Y=1 | X=0, V3=1) = 0.78\\nP(Y=1 | X=1, V3=0) = 0.15\\nP(Y=1 | X=1, V3=1) = 0.55',\n    'step5': '0.55 - (0.53*0.55 + 0.47*0.78) = -0.06',\n    'end': '-0.06 < 0'}}],\n 'collider_bias': [{'question_id': 6720,\n   'desc_id': 'elite_students-collision-collider_bias-model4307-spec13-q0',\n   'given_info': 'For students accepted to elite institutions, the correlation between talent and being hard-working is -0.33.',\n   'question': 'If we look at students accepted to elite institutions, does it mean that talent affects being hard-working?',\n   'answer': 'no',\n   'meta': {'story_id': 'elite_students',\n    'graph_id': 'collision',\n    'treated': True,\n    'result': True,\n    'baseline': True,\n    'polarity': True,\n    'collider': 'V3',\n    'groundtruth': 'no',\n    'given_info': {'P(Y = 1 | X = 1, V3 = 1) - P(Y = 1 | X = 0, V3 = 1)': -0.3294211673867822},\n    'formal_form': 'E[Y = 1 | do(X = 1), V3 = 1] - E[Y = 1 | do(X = 0), V3 = 1]',\n    'query_type': 'collider_bias',\n    'rung': 2,\n    'treatment': 'X',\n    'outcome': 'Y',\n    'model_id': 4307},\n   'reasoning': {'step0': 'Let Y = effort; X = talent; V3 = elite institution admission status.',\n    'step1': 'X->V3,Y->V3',\n    'step2': 'E[Y = 1 | do(X = 1), V3 = 1] - E[Y = 1 | do(X = 0), V3 = 1]',\n    'step3': 'X and Y do not affect each other.',\n    'step4': '',\n    'step5': '0',\n    'end': 'no'}},\n  {'question_id': 7458,\n   'desc_id': 'hospitalization-collision-collider_bias-model4457-spec13-q0',\n   'given_info': 'For hospitalized individuals, the correlation between respiratory issues and broken bones is 0.09.',\n   'question': 'If we look at hospitalized individuals, does it mean that respiratory issues affects broken bones?',\n   'answer': 'no',\n   'meta': {'story_id': 'hospitalization',\n    'graph_id': 'collision',\n    'treated': True,\n    'result': True,\n    'baseline': True,\n    'polarity': True,\n    'collider': 'V3',\n    'groundtruth': 'no',\n    'given_info': {'P(Y = 1 | X = 1, V3 = 1) - P(Y = 1 | X = 0, V3 = 1)': 0.08680610518608989},\n    'formal_form': 'E[Y = 1 | do(X = 1), V3 = 1] - E[Y = 1 | do(X = 0), V3 = 1]',\n    'query_type': 'collider_bias',\n    'rung': 2,\n    'treatment': 'X',\n    'outcome': 'Y',\n    'model_id': 4457},\n   'reasoning': {'step0': 'Let Y = broken bones; X = respiratory issues; V3 = hospitalization status.',\n    'step1': 'X->V3,Y->V3',\n    'step2': 'E[Y = 1 | do(X = 1), V3 = 1] - E[Y = 1 | do(X = 0), V3 = 1]',\n    'step3': 'X and Y do not affect each other.',\n    'step4': '',\n    'step5': '0',\n    'end': 'no'}},\n  {'question_id': 2681,\n   'desc_id': 'hospitalization-collision-collider_bias-model616-spec16-q1',\n   'given_info': 'For hospitalized individuals, the correlation between respiratory issues and broken bones is -0.02.',\n   'question': 'If we look at hospitalized individuals, does it mean that respiratory issues does not affect broken bones?',\n   'answer': 'yes',\n   'meta': {'story_id': 'hospitalization',\n    'graph_id': 'collision',\n    'treated': True,\n    'result': True,\n    'baseline': True,\n    'polarity': False,\n    'collider': 'V3',\n    'groundtruth': 'yes',\n    'given_info': {'P(Y = 1 | X = 1, V3 = 1) - P(Y = 1 | X = 0, V3 = 1)': -0.0204901478526368},\n    'formal_form': 'E[Y = 1 | do(X = 1), V3 = 1] - E[Y = 1 | do(X = 0), V3 = 1]',\n    'query_type': 'collider_bias',\n    'rung': 2,\n    'treatment': 'X',\n    'outcome': 'Y',\n    'model_id': 616},\n   'reasoning': {'step0': 'Let Y = broken bones; X = respiratory issues; V3 = hospitalization status.',\n    'step1': 'X->V3,Y->V3',\n    'step2': 'E[Y = 1 | do(X = 1), V3 = 1] - E[Y = 1 | do(X = 0), V3 = 1]',\n    'step3': 'X and Y do not affect each other.',\n    'step4': '',\n    'step5': '0',\n    'end': 'yes'}}]}"
     },
     "execution_count": 8,
     "metadata": {},
     "output_type": "execute_result"
    }
   ],
   "source": [
    "samples"
   ],
   "metadata": {
    "collapsed": false,
    "ExecuteTime": {
     "end_time": "2023-08-08T11:56:37.207321400Z",
     "start_time": "2023-08-08T11:56:37.113800500Z"
    }
   },
   "id": "8da077d3c56a03b2"
  },
  {
   "cell_type": "code",
   "execution_count": null,
   "outputs": [],
   "source": [],
   "metadata": {
    "collapsed": false,
    "ExecuteTime": {
     "end_time": "2023-08-08T10:37:39.815883900Z",
     "start_time": "2023-08-08T10:37:39.798080100Z"
    }
   },
   "id": "b909d46131c1678f"
  },
  {
   "cell_type": "code",
   "execution_count": null,
   "outputs": [],
   "source": [],
   "metadata": {
    "collapsed": false,
    "ExecuteTime": {
     "end_time": "2023-08-08T10:37:39.833747800Z",
     "start_time": "2023-08-08T10:37:39.819480600Z"
    }
   },
   "id": "37cdfec9a8f526d6"
  },
  {
   "cell_type": "code",
   "execution_count": null,
   "outputs": [],
   "source": [],
   "metadata": {
    "collapsed": false,
    "ExecuteTime": {
     "end_time": "2023-08-08T10:37:39.890323Z",
     "start_time": "2023-08-08T10:37:39.838364900Z"
    }
   },
   "id": "9afd59ccb01ae008"
  },
  {
   "cell_type": "code",
   "execution_count": null,
   "outputs": [],
   "source": [],
   "metadata": {
    "collapsed": false
   },
   "id": "5ddefa81c2880afc"
  }
 ],
 "metadata": {
  "kernelspec": {
   "display_name": "Python 3",
   "language": "python",
   "name": "python3"
  },
  "language_info": {
   "codemirror_mode": {
    "name": "ipython",
    "version": 2
   },
   "file_extension": ".py",
   "mimetype": "text/x-python",
   "name": "python",
   "nbconvert_exporter": "python",
   "pygments_lexer": "ipython2",
   "version": "2.7.6"
  }
 },
 "nbformat": 4,
 "nbformat_minor": 5
}

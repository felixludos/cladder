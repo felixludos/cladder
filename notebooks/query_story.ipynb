{
 "cells": [
  {
   "cell_type": "code",
   "execution_count": 1,
   "outputs": [],
   "source": [
    "from pathlib import Path\n",
    "from omnibelt import toposort, load_json, save_json\n",
    "from itertools import product, combinations\n",
    "# import pyperclip\n",
    "import random\n",
    "import json\n",
    "from PIL import Image\n",
    "from graphviz import Digraph\n",
    "import matplotlib.pyplot as plt\n",
    "import io\n",
    "# import clipboard\n",
    "import networkx as nx\n",
    "from tqdm.notebook import tqdm\n",
    "from tabulate import tabulate\n",
    "import matplotlib.pyplot as plt\n",
    "import seaborn as sns\n",
    "from omniply import tool, ToolKit, Context\n",
    "\n",
    "import numpy as np\n",
    "import torch\n",
    "from causalbenchmark.novo.simulation.models import Bernoulli, ConditionalBernoulli, BernoulliNetwork\n",
    "from causalbenchmark.novo.seeding import NewsHeadlines, StatisticsPrompting, Story\n",
    "# from causalbenchmark.novo.seeding.prompting import GraphInfo\n",
    "from causalbenchmark.novo.templating import FixedTemplate, SimpleTemplater, FileTemplate\n",
    "from causalbenchmark.novo import misc\n",
    "history = []"
   ],
   "metadata": {
    "collapsed": false,
    "ExecuteTime": {
     "end_time": "2024-01-15T08:33:17.048492420Z",
     "start_time": "2024-01-15T08:33:13.924066633Z"
    }
   },
   "id": "e4dbd77df7c7caae"
  },
  {
   "cell_type": "code",
   "execution_count": 2,
   "outputs": [
    {
     "data": {
      "text/plain": "  0%|          | 0/54 [00:00<?, ?it/s]",
      "application/vnd.jupyter.widget-view+json": {
       "version_major": 2,
       "version_minor": 0,
       "model_id": "b8e1836371b941598e51ae18d18c4d22"
      }
     },
     "metadata": {},
     "output_type": "display_data"
    },
    {
     "data": {
      "text/plain": "1419731",
      "image/png": "[encoded data removed]",
      "text/latex": "$\\displaystyle 1419731$"
     },
     "execution_count": 2,
     "metadata": {},
     "output_type": "execute_result"
    }
   ],
   "source": [
    "spark_generator = NewsHeadlines(#locs=['jp'], #['gb', 'de', 'fr', 'it', 'nl'], \n",
    "                                dataset_root=Path(r'/home/fleeb/workspace/local_data/nnn/babel-briefings-v1'),\n",
    "                                # dataset_root=Path(r'C:\\Users\\anwan\\Documents\\workspace\\nnn\\babel-briefings-v1'),\n",
    "                                # dataset_root=Path(r'C:\\Users\\anwan\\workspace\\local_data\\nnn\\babel-briefings-v1'),\n",
    "    cats = ['business', 'general'],\n",
    "    # business, entertainment, general, health, science, sports, technology\n",
    "                                ).load(pbar=tqdm)\n",
    "len(spark_generator.article_IDs)"
   ],
   "metadata": {
    "collapsed": false,
    "ExecuteTime": {
     "end_time": "2024-01-15T08:34:09.181942690Z",
     "start_time": "2024-01-15T08:33:17.049645794Z"
    }
   },
   "id": "a3e440a9e9d43579"
  },
  {
   "cell_type": "code",
   "outputs": [
    {
     "data": {
      "text/plain": "6250",
      "image/png": "[encoded data removed]",
      "text/latex": "$\\displaystyle 6250$"
     },
     "execution_count": 221,
     "metadata": {},
     "output_type": "execute_result"
    }
   ],
   "source": [
    "selected = [ID for ID, item in tqdm(spark_generator.articles.items()) if 'climate' in f'{item[\"title\"]} {item[\"description\"]}'.lower()]\n",
    "len(selected)"
   ],
   "metadata": {
    "collapsed": false,
    "ExecuteTime": {
     "end_time": "2024-01-19T09:53:39.312219818Z",
     "start_time": "2024-01-19T09:53:23.727217433Z"
    }
   },
   "id": "351697bd1e68618b",
   "execution_count": 221
  },
  {
   "cell_type": "code",
   "execution_count": 247,
   "outputs": [
    {
     "name": "stdout",
     "output_type": "stream",
     "text": [
      "6008403\n",
      "Title: CFC ban halted climate catastrophe, scientists say - BBC News\n",
      "Description: A global treaty banning ozone-depleting chemicals in 1987 may have averted a climate catastrophe today.\n",
      "Original Language: English\n"
     ]
    }
   ],
   "source": [
    "# ctx = Story(story_root=misc.data_root() / 'stories', story_id='Digital Transformation at Khalifa Port: Data-Driven Insights')\n",
    "ctx = Story(story_root=misc.data_root() / 'stories').populate_defaults()\n",
    "ctx.include(spark_generator,)\n",
    "@tool('seed')\n",
    "def from_selected(): return random.choice(selected)\n",
    "ctx.include(from_selected)\n",
    "# print(ctx)\n",
    "# ctx['seed'] = 2907356#7216462#2494534#91220#1684065#6805333\n",
    "if not ctx.is_cached('seed'): history.append(ctx['seed'])\n",
    "print(ctx['seed'])\n",
    "print(ctx['spark'])"
   ],
   "metadata": {
    "collapsed": false,
    "ExecuteTime": {
     "end_time": "2024-01-19T10:09:32.340680543Z",
     "start_time": "2024-01-19T10:09:32.308698936Z"
    }
   },
   "id": "46baeb3a28e45ee"
  },
  {
   "cell_type": "code",
   "execution_count": 248,
   "outputs": [
    {
     "name": "stdout",
     "output_type": "stream",
     "text": [
      "We have a news article headline, and we would like to identify a potential specific analysis that could be motivated by the article. Importantly, we would like specific details to be mentioned in the setting, even if they don't show up in the original article, to paint a vivid picture of the motivation and potential features of the data.\n",
      "\n",
      "Here is the article headline:\n",
      "\n",
      "```\n",
      "Title: CFC ban halted climate catastrophe, scientists say - BBC News\n",
      "Description: A global treaty banning ozone-depleting chemicals in 1987 may have averted a climate catastrophe today.\n",
      "Original Language: English\n",
      "```\n",
      "\n",
      "Write a 2-3 sentence introduction to a statistical analysis that could be motivated by this article. Be sure to include specific details about the data that would be used and the analysis that would be performed. You do not need to write the entire analysis, just the introduction. Avoid using any technical jargon (such as words like \"statistical analysis\" or \"model\" and avoid starting with \"imagine\") and make sure the introduction is accessible to laypeople (albeit in a professional setting), and the motivation is clear. Imagine a casual conversation between friends or colleagues about the article that may prompt some deeper quantitative analysis when thinking about it, and make sure this introduction would sound understandable and interesting to them.\n",
      "\n",
      "Answer in the form of a json dictionary with two entries: one for the `introduction` and one for a proposed `title` for this specific setting that can serve as a file name.\n"
     ]
    }
   ],
   "source": [
    "# if 'prompt_story' in ctx:\n",
    "#     del ctx['prompt_motivation']\n",
    "print(ctx['prompt_motivation'])"
   ],
   "metadata": {
    "collapsed": false,
    "ExecuteTime": {
     "end_time": "2024-01-19T10:09:45.498239937Z",
     "start_time": "2024-01-19T10:09:45.457477365Z"
    }
   },
   "id": "3785127939de600d"
  },
  {
   "cell_type": "code",
   "execution_count": 249,
   "outputs": [],
   "source": [
    "##############################################\n",
    "motivation_raw = '''\n",
    "{\n",
    "  \"title\": \"Ozone_Recovery_and_Climate_Change_Impact\",\n",
    "  \"introduction\": \"This article brings to light how the 1987 global treaty to ban CFCs, chemicals harming the ozone layer, might have helped us avoid severe climate issues today. To explore this further, we could look at historical temperature records, greenhouse gas levels, and ozone layer measurements over the past few decades. By comparing these data before and after the ban, we might see how significantly this action contributed to slowing down climate change.\"\n",
    "}\n",
    "\n",
    "'''\n",
    "##############################################\n",
    "ctx['motivation'] = json.loads(motivation_raw)"
   ],
   "metadata": {
    "collapsed": false,
    "ExecuteTime": {
     "end_time": "2024-01-19T10:10:04.102260249Z",
     "start_time": "2024-01-19T10:10:04.081983098Z"
    }
   },
   "id": "8f63a07ab974c0b7"
  },
  {
   "cell_type": "code",
   "execution_count": 250,
   "outputs": [
    {
     "name": "stdout",
     "output_type": "stream",
     "text": [
      "We are interested in building a causal model based on the explicit and implicit assumptions contained in the specified article and then using causal inference to evaluate the reasoning. Answer the following questions to design an interesting, simple, and most importantly realistic causal model from a news article.\n",
      "\n",
      "To help understand the instructions here are some tips:\n",
      "- all variables are always binary and (at least in principle) measurable, so when creating and selecting variables, make sure it is reasonable to treat them as binary\n",
      "- whenever you propose a variable, make sure to define the meaning of each value it can take, and mention whether it is observable or not\n",
      "- outcome variables are always observable, and should always have 2-3 causal parents (including treatment, mediator, and confounder variables)\n",
      "- treatment variables are always observable and intervenable, that means it must be possible to (at least in principle) change their value if desired, and these should generally have at least causal parent, and always at least one child\n",
      "- confounder variables may or may not be observable, and should always have 2-3 causal children and no causal parents\n",
      "- mediator variables may or may not be observable, and should always have 1-2 causal parents (for example, a treatment variable or confounder) and 1-2 causal children (for example, the outcome variable)\n",
      "- collider variables are always observable, and should always have 2-3 causal parents (for example, a treatment and outcome variable) and no causal children\n",
      "\n",
      "Here is the topic and original the news article headline:\n",
      "\n",
      "```\n",
      "Title: CFC ban halted climate catastrophe, scientists say - BBC News\n",
      "Description: A global treaty banning ozone-depleting chemicals in 1987 may have averted a climate catastrophe today.\n",
      "Original Language: English\n",
      "\n",
      "This article brings to light how the 1987 global treaty to ban CFCs, chemicals harming the ozone layer, might have helped us avoid severe climate issues today. To explore this further, we could look at historical temperature records, greenhouse gas levels, and ozone layer measurements over the past few decades. By comparing these data before and after the ban, we might see how significantly this action contributed to slowing down climate change.\n",
      "```\n",
      "\n",
      "Begin by brainstorming some non-trivial interesting binary causal variables to construct a causal bayes net:\n",
      "\n",
      "1. Propose 1 outcome variable mentioned implicitly or explicitly in the introduction addressing some quantity that people are most likely to be interested in studying, especially if people tend to have misconceptions about it\n",
      "3. Propose 2 treatment variables that either directly or indirectly affect the selected outcome variable and are the most interesting to study. Make sure the treatment variables affect the outcome (possibly through a mediator).\n",
      "4. Propose 2 confounder variables that affect some reasonable combination of the outcome, treatment, and mediator variables in a non-trivial way. Make sure the confounders have at least one child.\n",
      "5. Propose 2 mediator variables that affect and are affected by some reasonable combination of any other variables in a non-trivial way. Make sure the mediators have both parents and children.\n",
      "6. Propose 1 collider variable that are affected by some reasonable combination of any other variables in a non-trivial way. Make sure the collider has at least two parents.\n",
      "\n",
      "The variables and causal graph should, where possible, use specific details such as names and locations mentioned in the article. Also, generally the variable value \"0\" should correspond to the negative, neutral, or control while the value \"1\" should correspond to the positive choice or active value.\n",
      "\n",
      "As part of the brainstorming you should briefly first list the names of all the proposed variables.\n",
      "\n",
      "Next, construct a causal graph using the proposed variables by listing all the edges in the graph. Make sure to into the outcome variable and both treatment variables, and some interesting and intuitive combination of the other variables (you don't have to use all the others). Important: Make sure the causal graph is a DAG and that each node has at most THREE parents!\n",
      "\n",
      "Formalize this causal graph in the form of a JSON list of variables where each variable contains the following fields:\n",
      "- `name`: the name of the variable\n",
      "- `description`: a short description of the variable\n",
      "- `type`: the type of the variable, which can be one of the following: `outcome`, `treatment`, `confounder`, `mediator`, `collider`\n",
      "- `observed`: a boolean value indicating whether the variable is observable or not\n",
      "- `values`: a JSON list of the descriptions of the values the variable can take (corresponding to the index)\n",
      "- `parents`: a JSON list of the names of the parents of the variable (make sure they match the corresponding `name` field of the parent nodes, and remember, there should not be more than three parents for any node)\n",
      "\n",
      "Aside from some brief brainstorming, answer concisely and precisely with a JSON list in the desired format.\n",
      "\n",
      "Take a deep breath and think step-by-step how you are going to do this.\n"
     ]
    }
   ],
   "source": [
    "# if 'prompt_graph' in ctx:\n",
    "#     del ctx['prompt_graph']\n",
    "# print(FileTemplate('graph').fill_in(ctx))\n",
    "print(ctx['prompt_graph'])"
   ],
   "metadata": {
    "collapsed": false,
    "ExecuteTime": {
     "end_time": "2024-01-19T10:10:04.647068480Z",
     "start_time": "2024-01-19T10:10:04.642498276Z"
    }
   },
   "id": "3dba22960a9e0ca4"
  },
  {
   "cell_type": "code",
   "execution_count": 262,
   "outputs": [],
   "source": [
    "# nodes = ctx['nodes']\n",
    "#################################################\n",
    "nodes_raw = '''\n",
    "[\n",
    "  {\n",
    "    \"name\": \"Climate Stability\",\n",
    "    \"description\": \"The stability of global climate patterns, with 0 indicating instability and 1 indicating stability.\",\n",
    "    \"type\": \"outcome\",\n",
    "    \"observed\": true,\n",
    "    \"values\": [\"Unstable\", \"Stable\"],\n",
    "    \"parents\": [\"CFC Ban Implementation\", \"Ozone Layer Recovery\", \"Greenhouse Gas Emissions\"]\n",
    "  },\n",
    "  {\n",
    "    \"name\": \"CFC Ban Implementation\",\n",
    "    \"description\": \"Implementation of the ban on CFCs, with 0 being no ban and 1 being a fully enforced ban.\",\n",
    "    \"type\": \"treatment\",\n",
    "    \"observed\": true,\n",
    "    \"values\": [\"No Ban\", \"Enforced Ban\"],\n",
    "    \"parents\": [\"Public Awareness of Climate Issues\", \"Environmental Policies\"]\n",
    "  },\n",
    "  {\n",
    "    \"name\": \"Public Awareness of Climate Issues\",\n",
    "    \"description\": \"Public awareness and concern about climate issues, with 0 indicating low awareness and 1 high awareness.\",\n",
    "    \"type\": \"treatment\",\n",
    "    \"observed\": true,\n",
    "    \"values\": [\"Low Awareness\", \"High Awareness\"],\n",
    "    \"parents\": [\"Environmental Policies\"]\n",
    "  },\n",
    "  {\n",
    "    \"name\": \"Industrial Growth\",\n",
    "    \"description\": \"The rate of industrial growth, with 0 being low growth and 1 high growth.\",\n",
    "    \"type\": \"confounder\",\n",
    "    \"observed\": true,\n",
    "    \"values\": [\"Low Growth\", \"High Growth\"],\n",
    "    \"parents\": [\"Environmental Policies\"]\n",
    "  },\n",
    "  {\n",
    "    \"name\": \"Environmental Policies\",\n",
    "    \"description\": \"The presence and effectiveness of environmental policies, with 0 indicating weak policies and 1 strong policies.\",\n",
    "    \"type\": \"confounder\",\n",
    "    \"observed\": true,\n",
    "    \"values\": [\"Weak Policies\", \"Strong Policies\"],\n",
    "    \"parents\": []\n",
    "  },\n",
    "  {\n",
    "    \"name\": \"Ozone Layer Recovery\",\n",
    "    \"description\": \"The state of the ozone layer's recovery, with 0 indicating poor recovery and 1 indicating good recovery.\",\n",
    "    \"type\": \"mediator\",\n",
    "    \"observed\": true,\n",
    "    \"values\": [\"Poor Recovery\", \"Good Recovery\"],\n",
    "    \"parents\": [\"CFC Ban Implementation\"]\n",
    "  },\n",
    "  {\n",
    "    \"name\": \"Greenhouse Gas Emissions\",\n",
    "    \"description\": \"The level of greenhouse gas emissions, with 0 being high emissions and 1 being low emissions.\",\n",
    "    \"type\": \"mediator\",\n",
    "    \"observed\": true,\n",
    "    \"values\": [\"High Emissions\", \"Low Emissions\"],\n",
    "    \"parents\": [\"Public Awareness of Climate Issues\", \"Industrial Growth\"]\n",
    "  },\n",
    "  {\n",
    "    \"name\": \"Research Investment in Climate Science\",\n",
    "    \"description\": \"Investment in climate science research, with 0 being low investment and 1 being high investment.\",\n",
    "    \"type\": \"collider\",\n",
    "    \"observed\": true,\n",
    "    \"values\": [\"Low Investment\", \"High Investment\"],\n",
    "    \"parents\": [\"Public Awareness of Climate Issues\", \"Climate Stability\"]\n",
    "  }\n",
    "]\n",
    "\n",
    "'''\n",
    "#################################################\n",
    "if len(nodes_raw):\n",
    "    nodes = json.loads(nodes_raw)\n",
    "varparents = {node['name']: node['parents'] for node in nodes}\n",
    "varorder = toposort(varparents)\n",
    "nodes = sorted(nodes, key=lambda x: varorder.index(x['name']))\n",
    "nodes = [node for node in nodes if len(node['parents']) or any(node['name'] in parent for parent in varparents.values())]\n",
    "ctx['nodes'] = nodes"
   ],
   "metadata": {
    "collapsed": false,
    "ExecuteTime": {
     "end_time": "2024-01-19T10:16:26.023788295Z",
     "start_time": "2024-01-19T10:16:25.995220236Z"
    }
   },
   "id": "f3fcf031d24d5d48"
  },
  {
   "cell_type": "code",
   "execution_count": 263,
   "outputs": [
    {
     "ename": "ValueError",
     "evalue": "Could not save to JPEG for display",
     "output_type": "error",
     "traceback": [
      "\u001B[0;31m---------------------------------------------------------------------------\u001B[0m",
      "\u001B[0;31mKeyError\u001B[0m                                  Traceback (most recent call last)",
      "File \u001B[0;32m~/miniconda3/lib/python3.11/site-packages/PIL/JpegImagePlugin.py:639\u001B[0m, in \u001B[0;36m_save\u001B[0;34m(im, fp, filename)\u001B[0m\n\u001B[1;32m    638\u001B[0m \u001B[38;5;28;01mtry\u001B[39;00m:\n\u001B[0;32m--> 639\u001B[0m     rawmode \u001B[38;5;241m=\u001B[39m \u001B[43mRAWMODE\u001B[49m\u001B[43m[\u001B[49m\u001B[43mim\u001B[49m\u001B[38;5;241;43m.\u001B[39;49m\u001B[43mmode\u001B[49m\u001B[43m]\u001B[49m\n\u001B[1;32m    640\u001B[0m \u001B[38;5;28;01mexcept\u001B[39;00m \u001B[38;5;167;01mKeyError\u001B[39;00m \u001B[38;5;28;01mas\u001B[39;00m e:\n",
      "\u001B[0;31mKeyError\u001B[0m: 'RGBA'",
      "\nThe above exception was the direct cause of the following exception:\n",
      "\u001B[0;31mOSError\u001B[0m                                   Traceback (most recent call last)",
      "File \u001B[0;32m~/miniconda3/lib/python3.11/site-packages/PIL/Image.py:643\u001B[0m, in \u001B[0;36mImage._repr_image\u001B[0;34m(self, image_format, **kwargs)\u001B[0m\n\u001B[1;32m    642\u001B[0m \u001B[38;5;28;01mtry\u001B[39;00m:\n\u001B[0;32m--> 643\u001B[0m     \u001B[38;5;28;43mself\u001B[39;49m\u001B[38;5;241;43m.\u001B[39;49m\u001B[43msave\u001B[49m\u001B[43m(\u001B[49m\u001B[43mb\u001B[49m\u001B[43m,\u001B[49m\u001B[43m \u001B[49m\u001B[43mimage_format\u001B[49m\u001B[43m,\u001B[49m\u001B[43m \u001B[49m\u001B[38;5;241;43m*\u001B[39;49m\u001B[38;5;241;43m*\u001B[39;49m\u001B[43mkwargs\u001B[49m\u001B[43m)\u001B[49m\n\u001B[1;32m    644\u001B[0m \u001B[38;5;28;01mexcept\u001B[39;00m \u001B[38;5;167;01mException\u001B[39;00m \u001B[38;5;28;01mas\u001B[39;00m e:\n",
      "File \u001B[0;32m~/miniconda3/lib/python3.11/site-packages/PIL/Image.py:2413\u001B[0m, in \u001B[0;36mImage.save\u001B[0;34m(self, fp, format, **params)\u001B[0m\n\u001B[1;32m   2412\u001B[0m \u001B[38;5;28;01mtry\u001B[39;00m:\n\u001B[0;32m-> 2413\u001B[0m     \u001B[43msave_handler\u001B[49m\u001B[43m(\u001B[49m\u001B[38;5;28;43mself\u001B[39;49m\u001B[43m,\u001B[49m\u001B[43m \u001B[49m\u001B[43mfp\u001B[49m\u001B[43m,\u001B[49m\u001B[43m \u001B[49m\u001B[43mfilename\u001B[49m\u001B[43m)\u001B[49m\n\u001B[1;32m   2414\u001B[0m \u001B[38;5;28;01mexcept\u001B[39;00m \u001B[38;5;167;01mException\u001B[39;00m:\n",
      "File \u001B[0;32m~/miniconda3/lib/python3.11/site-packages/PIL/JpegImagePlugin.py:642\u001B[0m, in \u001B[0;36m_save\u001B[0;34m(im, fp, filename)\u001B[0m\n\u001B[1;32m    641\u001B[0m     msg \u001B[38;5;241m=\u001B[39m \u001B[38;5;124mf\u001B[39m\u001B[38;5;124m\"\u001B[39m\u001B[38;5;124mcannot write mode \u001B[39m\u001B[38;5;132;01m{\u001B[39;00mim\u001B[38;5;241m.\u001B[39mmode\u001B[38;5;132;01m}\u001B[39;00m\u001B[38;5;124m as JPEG\u001B[39m\u001B[38;5;124m\"\u001B[39m\n\u001B[0;32m--> 642\u001B[0m     \u001B[38;5;28;01mraise\u001B[39;00m \u001B[38;5;167;01mOSError\u001B[39;00m(msg) \u001B[38;5;28;01mfrom\u001B[39;00m \u001B[38;5;21;01me\u001B[39;00m\n\u001B[1;32m    644\u001B[0m info \u001B[38;5;241m=\u001B[39m im\u001B[38;5;241m.\u001B[39mencoderinfo\n",
      "\u001B[0;31mOSError\u001B[0m: cannot write mode RGBA as JPEG",
      "\nThe above exception was the direct cause of the following exception:\n",
      "\u001B[0;31mValueError\u001B[0m                                Traceback (most recent call last)",
      "File \u001B[0;32m~/miniconda3/lib/python3.11/site-packages/IPython/core/formatters.py:344\u001B[0m, in \u001B[0;36mBaseFormatter.__call__\u001B[0;34m(self, obj)\u001B[0m\n\u001B[1;32m    342\u001B[0m     method \u001B[38;5;241m=\u001B[39m get_real_method(obj, \u001B[38;5;28mself\u001B[39m\u001B[38;5;241m.\u001B[39mprint_method)\n\u001B[1;32m    343\u001B[0m     \u001B[38;5;28;01mif\u001B[39;00m method \u001B[38;5;129;01mis\u001B[39;00m \u001B[38;5;129;01mnot\u001B[39;00m \u001B[38;5;28;01mNone\u001B[39;00m:\n\u001B[0;32m--> 344\u001B[0m         \u001B[38;5;28;01mreturn\u001B[39;00m \u001B[43mmethod\u001B[49m\u001B[43m(\u001B[49m\u001B[43m)\u001B[49m\n\u001B[1;32m    345\u001B[0m     \u001B[38;5;28;01mreturn\u001B[39;00m \u001B[38;5;28;01mNone\u001B[39;00m\n\u001B[1;32m    346\u001B[0m \u001B[38;5;28;01melse\u001B[39;00m:\n",
      "File \u001B[0;32m~/miniconda3/lib/python3.11/site-packages/PIL/Image.py:661\u001B[0m, in \u001B[0;36mImage._repr_jpeg_\u001B[0;34m(self)\u001B[0m\n\u001B[1;32m    656\u001B[0m \u001B[38;5;28;01mdef\u001B[39;00m \u001B[38;5;21m_repr_jpeg_\u001B[39m(\u001B[38;5;28mself\u001B[39m):\n\u001B[1;32m    657\u001B[0m \u001B[38;5;250m    \u001B[39m\u001B[38;5;124;03m\"\"\"iPython display hook support for JPEG format.\u001B[39;00m\n\u001B[1;32m    658\u001B[0m \n\u001B[1;32m    659\u001B[0m \u001B[38;5;124;03m    :returns: JPEG version of the image as bytes\u001B[39;00m\n\u001B[1;32m    660\u001B[0m \u001B[38;5;124;03m    \"\"\"\u001B[39;00m\n\u001B[0;32m--> 661\u001B[0m     \u001B[38;5;28;01mreturn\u001B[39;00m \u001B[38;5;28;43mself\u001B[39;49m\u001B[38;5;241;43m.\u001B[39;49m\u001B[43m_repr_image\u001B[49m\u001B[43m(\u001B[49m\u001B[38;5;124;43m\"\u001B[39;49m\u001B[38;5;124;43mJPEG\u001B[39;49m\u001B[38;5;124;43m\"\u001B[39;49m\u001B[43m)\u001B[49m\n",
      "File \u001B[0;32m~/miniconda3/lib/python3.11/site-packages/PIL/Image.py:646\u001B[0m, in \u001B[0;36mImage._repr_image\u001B[0;34m(self, image_format, **kwargs)\u001B[0m\n\u001B[1;32m    644\u001B[0m \u001B[38;5;28;01mexcept\u001B[39;00m \u001B[38;5;167;01mException\u001B[39;00m \u001B[38;5;28;01mas\u001B[39;00m e:\n\u001B[1;32m    645\u001B[0m     msg \u001B[38;5;241m=\u001B[39m \u001B[38;5;124mf\u001B[39m\u001B[38;5;124m\"\u001B[39m\u001B[38;5;124mCould not save to \u001B[39m\u001B[38;5;132;01m{\u001B[39;00mimage_format\u001B[38;5;132;01m}\u001B[39;00m\u001B[38;5;124m for display\u001B[39m\u001B[38;5;124m\"\u001B[39m\n\u001B[0;32m--> 646\u001B[0m     \u001B[38;5;28;01mraise\u001B[39;00m \u001B[38;5;167;01mValueError\u001B[39;00m(msg) \u001B[38;5;28;01mfrom\u001B[39;00m \u001B[38;5;21;01me\u001B[39;00m\n\u001B[1;32m    647\u001B[0m \u001B[38;5;28;01mreturn\u001B[39;00m b\u001B[38;5;241m.\u001B[39mgetvalue()\n",
      "\u001B[0;31mValueError\u001B[0m: Could not save to JPEG for display"
     ]
    },
    {
     "data": {
      "text/plain": "<PIL.PngImagePlugin.PngImageFile image mode=RGBA size=930x539>",
      "image/png": "[encoded data removed]"
     },
     "execution_count": 263,
     "metadata": {},
     "output_type": "execute_result"
    }
   ],
   "source": [
    "dot = Digraph(comment='Causal Model')\n",
    "node_styles = {\n",
    "    \"treatment\": {\"shape\": \"ellipse\", \"style\": \"filled\", \"color\": \"lightpink\"},\n",
    "    \"outcome\": {\"shape\": \"ellipse\", \"style\": \"filled\", \"color\": \"lightgreen\"},\n",
    "    \"confounder\": {\"shape\": \"diamond\", \"style\": \"filled\", \"color\": \"lightblue\"},\n",
    "    \"mediator\": {\"shape\": \"box\", \"style\": \"filled\", \"color\": \"lightyellow\"},\n",
    "    \"collider\": {\"shape\": \"box\", \"style\": \"filled\", \"color\": \"lightgray\"}\n",
    "}\n",
    "for node in ctx['nodes']:\n",
    "    style = node_styles.get(node[\"type\"], {\"shape\": \"ellipse\"})\n",
    "    dot.node(node[\"name\"], node[\"name\"], **style)\n",
    "for node in ctx['nodes']:\n",
    "    for parent in node[\"parents\"]:\n",
    "        dot.edge(parent, node[\"name\"])\n",
    "# dot.view()\n",
    "dot.render(str(misc.temp_root() / 'graph'), format='png')\n",
    "Image.open(misc.temp_root() / 'graph.png')"
   ],
   "metadata": {
    "collapsed": false,
    "ExecuteTime": {
     "end_time": "2024-01-19T10:16:26.869051253Z",
     "start_time": "2024-01-19T10:16:26.748792915Z"
    }
   },
   "id": "9f8b963c0ac35fa8"
  },
  {
   "cell_type": "code",
   "execution_count": 264,
   "outputs": [
    {
     "name": "stdout",
     "output_type": "stream",
     "text": [
      "\n",
      "We have a causal bayes net model for an analysis about this topic:\n",
      "\n",
      "This article brings to light how the 1987 global treaty to ban CFCs, chemicals harming the ozone layer, might have helped us avoid severe climate issues today. To explore this further, we could look at historical temperature records, greenhouse gas levels, and ozone layer measurements over the past few decades. By comparing these data before and after the ban, we might see how significantly this action contributed to slowing down climate change.\n",
      "\n",
      "Write a list of 4-8 concise and well-worded sentences that describe the structure and associated assumptions of the causal graph. The sentences should be ordered from describing the most noteworthy/surprising features of the graph to the most natural/intuitive features. Use an intuitive conversational style to describe the causal graph, and avoid using technical terms or jargon, but you can describe the variables and their relationships (including using terms like \"affects\", \"confounder\"/\"confounding\", \"mediator\"/\"mediates\") as long as you use them in a way that is understandable to a layperson. Refrain from mentioning words like \"causal inference\", \"model\", or \"variable\". Also, try to make the sentences flow together well, and avoid repeating yourself while still being thorough. Make sure not to mention the names or types of the variables in the graph, only what they represent to make the overview more natural. For each of the sentences, include a list of the variables in the causal model that are mentioned explicitly in the sentence (ordered in terms of importance).\n",
      "\n",
      "The meanings and parents of all the variables (all of which are binary) in the statistical model are:\n",
      "\n",
      "```\n",
      "[{'name': 'Environmental Policies', 'description': 'The presence and effectiveness of environmental policies, with 0 indicating weak policies and 1 strong policies.', 'type': 'confounder', 'observed': True, 'values': ['Weak Policies', 'Strong Policies'], 'parents': []}, {'name': 'Public Awareness of Climate Issues', 'description': 'Public awareness and concern about climate issues, with 0 indicating low awareness and 1 high awareness.', 'type': 'treatment', 'observed': True, 'values': ['Low Awareness', 'High Awareness'], 'parents': ['Environmental Policies']}, {'name': 'CFC Ban Implementation', 'description': 'Implementation of the ban on CFCs, with 0 being no ban and 1 being a fully enforced ban.', 'type': 'treatment', 'observed': True, 'values': ['No Ban', 'Enforced Ban'], 'parents': ['Public Awareness of Climate Issues', 'Environmental Policies']}, {'name': 'Industrial Growth', 'description': 'The rate of industrial growth, with 0 being low growth and 1 high growth.', 'type': 'confounder', 'observed': True, 'values': ['Low Growth', 'High Growth'], 'parents': ['Environmental Policies']}, {'name': 'Ozone Layer Recovery', 'description': \"The state of the ozone layer's recovery, with 0 indicating poor recovery and 1 indicating good recovery.\", 'type': 'mediator', 'observed': True, 'values': ['Poor Recovery', 'Good Recovery'], 'parents': ['CFC Ban Implementation']}, {'name': 'Greenhouse Gas Emissions', 'description': 'The level of greenhouse gas emissions, with 0 being high emissions and 1 being low emissions.', 'type': 'mediator', 'observed': True, 'values': ['High Emissions', 'Low Emissions'], 'parents': ['Public Awareness of Climate Issues', 'Industrial Growth']}, {'name': 'Climate Stability', 'description': 'The stability of global climate patterns, with 0 indicating instability and 1 indicating stability.', 'type': 'outcome', 'observed': True, 'values': ['Unstable', 'Stable'], 'parents': ['CFC Ban Implementation', 'Ozone Layer Recovery', 'Greenhouse Gas Emissions']}, {'name': 'Research Investment in Climate Science', 'description': 'Investment in climate science research, with 0 being low investment and 1 being high investment.', 'type': 'collider', 'observed': True, 'values': ['Low Investment', 'High Investment'], 'parents': ['Public Awareness of Climate Issues', 'Climate Stability']}]\n",
      "```\n",
      "\n",
      "Take a deep breath and think step-by-step how you are going to do this. Once you are ready, be sure to complete your answer in the form of a JSON list of sentences in the format:\n",
      "\n",
      "```json\n",
      "[\n",
      "\t{\"sentence\": \"[some sentence about assumptions/structure]\", \"involved\": [\"variable 1\", \"variable 2\", ...]},\n",
      "\t...\n",
      "]\n",
      "```\n"
     ]
    }
   ],
   "source": [
    "# if 'prompt_structure' in ctx:\n",
    "#     del ctx['prompt_structure']\n",
    "# print(FileTemplate('structure').fill_in(ctx))\n",
    "print(ctx['prompt_structure'])"
   ],
   "metadata": {
    "collapsed": false,
    "ExecuteTime": {
     "end_time": "2024-01-19T10:16:48.724233112Z",
     "start_time": "2024-01-19T10:16:48.679767798Z"
    }
   },
   "id": "b01d6f5a6f6c70ea"
  },
  {
   "cell_type": "code",
   "execution_count": 266,
   "outputs": [],
   "source": [
    "#################################################\n",
    "\n",
    "structure_raw = '''\n",
    "[\n",
    "    {\"sentence\": \"The effectiveness of environmental policies not only plays a critical role in how strongly the public becomes aware of climate issues but also directly influences the implementation of measures like the CFC ban.\", \"involved\": [\"Environmental Policies\", \"Public Awareness of Climate Issues\", \"CFC Ban Implementation\"]},\n",
    "    {\"sentence\": \"Interestingly, the level of public concern about climate issues is seen as a key driver for the enforcement of the CFC ban, highlighting how societal awareness can impact policy decisions.\", \"involved\": [\"Public Awareness of Climate Issues\", \"CFC Ban Implementation\"]},\n",
    "    {\"sentence\": \"The enforcement of the CFC ban is assumed to be a major contributing factor to the recovery of the ozone layer, underlining the direct impact of policy decisions on environmental health.\", \"involved\": [\"CFC Ban Implementation\", \"Ozone Layer Recovery\"]},\n",
    "    {\"sentence\": \"Industrial growth is considered a dual influencer, contributing to greenhouse gas emissions while also being shaped by the prevailing environmental policies.\", \"involved\": [\"Industrial Growth\", \"Greenhouse Gas Emissions\", \"Environmental Policies\"]},\n",
    "    {\"sentence\": \"The combined effects of ozone layer recovery and the levels of greenhouse gas emissions are believed to be pivotal in determining the stability of the global climate.\", \"involved\": [\"Ozone Layer Recovery\", \"Greenhouse Gas Emissions\", \"Climate Stability\"]},\n",
    "    {\"sentence\": \"Research investment in climate science is uniquely positioned, being influenced by both the general public's awareness of climate issues and the overall stability of the climate itself.\", \"involved\": [\"Research Investment in Climate Science\", \"Public Awareness of Climate Issues\", \"Climate Stability\"]}\n",
    "]\n",
    "\n",
    "'''\n",
    "\n",
    "#################################################\n",
    "ctx['structure'] = json.loads(structure_raw)"
   ],
   "metadata": {
    "collapsed": false,
    "ExecuteTime": {
     "end_time": "2024-01-19T10:18:18.286230459Z",
     "start_time": "2024-01-19T10:18:18.265444020Z"
    }
   },
   "id": "9e6543cef8511170"
  },
  {
   "cell_type": "code",
   "execution_count": 267,
   "outputs": [
    {
     "name": "stdout",
     "output_type": "stream",
     "text": [
      "We have a causal bayes net based on the following topic:\n",
      "\n",
      "This article brings to light how the 1987 global treaty to ban CFCs, chemicals harming the ozone layer, might have helped us avoid severe climate issues today. To explore this further, we could look at historical temperature records, greenhouse gas levels, and ozone layer measurements over the past few decades. By comparing these data before and after the ban, we might see how significantly this action contributed to slowing down climate change.\n",
      "\n",
      "Now we would like to estimate the probabilities of certain events in a corresponding causal bayes net.\n",
      "\n",
      "Using commonsense, estimate the probabilities of the following events:\n",
      "\n",
      "1. what is the probability that \"Environmental Policies\" is \"Strong Policies\" (rather than \"Weak Policies\")?\n",
      "2. when \"Environmental Policies\" is \"Weak Policies\": what is the probability that \"Public Awareness of Climate Issues\" is \"High Awareness\" (rather than \"Low Awareness\")?\n",
      "3. when \"Environmental Policies\" is \"Strong Policies\": what is the probability that \"Public Awareness of Climate Issues\" is \"High Awareness\" (rather than \"Low Awareness\")?\n",
      "4. when \"Public Awareness of Climate Issues\" is \"Low Awareness\" and \"Environmental Policies\" is \"Weak Policies\": what is the probability that \"CFC Ban Implementation\" is \"Enforced Ban\" (rather than \"No Ban\")?\n",
      "5. when \"Public Awareness of Climate Issues\" is \"Low Awareness\" and \"Environmental Policies\" is \"Strong Policies\": what is the probability that \"CFC Ban Implementation\" is \"Enforced Ban\" (rather than \"No Ban\")?\n",
      "6. when \"Public Awareness of Climate Issues\" is \"High Awareness\" and \"Environmental Policies\" is \"Weak Policies\": what is the probability that \"CFC Ban Implementation\" is \"Enforced Ban\" (rather than \"No Ban\")?\n",
      "7. when \"Public Awareness of Climate Issues\" is \"High Awareness\" and \"Environmental Policies\" is \"Strong Policies\": what is the probability that \"CFC Ban Implementation\" is \"Enforced Ban\" (rather than \"No Ban\")?\n",
      "8. when \"Environmental Policies\" is \"Weak Policies\": what is the probability that \"Industrial Growth\" is \"High Growth\" (rather than \"Low Growth\")?\n",
      "9. when \"Environmental Policies\" is \"Strong Policies\": what is the probability that \"Industrial Growth\" is \"High Growth\" (rather than \"Low Growth\")?\n",
      "10. when \"CFC Ban Implementation\" is \"No Ban\": what is the probability that \"Ozone Layer Recovery\" is \"Good Recovery\" (rather than \"Poor Recovery\")?\n",
      "11. when \"CFC Ban Implementation\" is \"Enforced Ban\": what is the probability that \"Ozone Layer Recovery\" is \"Good Recovery\" (rather than \"Poor Recovery\")?\n",
      "12. when \"Public Awareness of Climate Issues\" is \"Low Awareness\" and \"Industrial Growth\" is \"Low Growth\": what is the probability that \"Greenhouse Gas Emissions\" is \"Low Emissions\" (rather than \"High Emissions\")?\n",
      "13. when \"Public Awareness of Climate Issues\" is \"Low Awareness\" and \"Industrial Growth\" is \"High Growth\": what is the probability that \"Greenhouse Gas Emissions\" is \"Low Emissions\" (rather than \"High Emissions\")?\n",
      "14. when \"Public Awareness of Climate Issues\" is \"High Awareness\" and \"Industrial Growth\" is \"Low Growth\": what is the probability that \"Greenhouse Gas Emissions\" is \"Low Emissions\" (rather than \"High Emissions\")?\n",
      "15. when \"Public Awareness of Climate Issues\" is \"High Awareness\" and \"Industrial Growth\" is \"High Growth\": what is the probability that \"Greenhouse Gas Emissions\" is \"Low Emissions\" (rather than \"High Emissions\")?\n",
      "16. when \"CFC Ban Implementation\" is \"No Ban\" and \"Ozone Layer Recovery\" is \"Poor Recovery\" and \"Greenhouse Gas Emissions\" is \"High Emissions\": what is the probability that \"Climate Stability\" is \"Stable\" (rather than \"Unstable\")?\n",
      "17. when \"CFC Ban Implementation\" is \"No Ban\" and \"Ozone Layer Recovery\" is \"Poor Recovery\" and \"Greenhouse Gas Emissions\" is \"Low Emissions\": what is the probability that \"Climate Stability\" is \"Stable\" (rather than \"Unstable\")?\n",
      "18. when \"CFC Ban Implementation\" is \"No Ban\" and \"Ozone Layer Recovery\" is \"Good Recovery\" and \"Greenhouse Gas Emissions\" is \"High Emissions\": what is the probability that \"Climate Stability\" is \"Stable\" (rather than \"Unstable\")?\n",
      "19. when \"CFC Ban Implementation\" is \"No Ban\" and \"Ozone Layer Recovery\" is \"Good Recovery\" and \"Greenhouse Gas Emissions\" is \"Low Emissions\": what is the probability that \"Climate Stability\" is \"Stable\" (rather than \"Unstable\")?\n",
      "20. when \"CFC Ban Implementation\" is \"Enforced Ban\" and \"Ozone Layer Recovery\" is \"Poor Recovery\" and \"Greenhouse Gas Emissions\" is \"High Emissions\": what is the probability that \"Climate Stability\" is \"Stable\" (rather than \"Unstable\")?\n",
      "21. when \"CFC Ban Implementation\" is \"Enforced Ban\" and \"Ozone Layer Recovery\" is \"Poor Recovery\" and \"Greenhouse Gas Emissions\" is \"Low Emissions\": what is the probability that \"Climate Stability\" is \"Stable\" (rather than \"Unstable\")?\n",
      "22. when \"CFC Ban Implementation\" is \"Enforced Ban\" and \"Ozone Layer Recovery\" is \"Good Recovery\" and \"Greenhouse Gas Emissions\" is \"High Emissions\": what is the probability that \"Climate Stability\" is \"Stable\" (rather than \"Unstable\")?\n",
      "23. when \"CFC Ban Implementation\" is \"Enforced Ban\" and \"Ozone Layer Recovery\" is \"Good Recovery\" and \"Greenhouse Gas Emissions\" is \"Low Emissions\": what is the probability that \"Climate Stability\" is \"Stable\" (rather than \"Unstable\")?\n",
      "24. when \"Public Awareness of Climate Issues\" is \"Low Awareness\" and \"Climate Stability\" is \"Unstable\": what is the probability that \"Research Investment in Climate Science\" is \"High Investment\" (rather than \"Low Investment\")?\n",
      "25. when \"Public Awareness of Climate Issues\" is \"Low Awareness\" and \"Climate Stability\" is \"Stable\": what is the probability that \"Research Investment in Climate Science\" is \"High Investment\" (rather than \"Low Investment\")?\n",
      "26. when \"Public Awareness of Climate Issues\" is \"High Awareness\" and \"Climate Stability\" is \"Unstable\": what is the probability that \"Research Investment in Climate Science\" is \"High Investment\" (rather than \"Low Investment\")?\n",
      "27. when \"Public Awareness of Climate Issues\" is \"High Awareness\" and \"Climate Stability\" is \"Stable\": what is the probability that \"Research Investment in Climate Science\" is \"High Investment\" (rather than \"Low Investment\")?\n",
      "\n",
      "Where the variables are defined as:\n",
      "\"Environmental Policies\" means \"The presence and effectiveness of environmental policies, with 0 indicating weak policies and 1 strong policies.\"\n",
      "\"Public Awareness of Climate Issues\" means \"Public awareness and concern about climate issues, with 0 indicating low awareness and 1 high awareness.\"\n",
      "\"CFC Ban Implementation\" means \"Implementation of the ban on CFCs, with 0 being no ban and 1 being a fully enforced ban.\"\n",
      "\"Industrial Growth\" means \"The rate of industrial growth, with 0 being low growth and 1 high growth.\"\n",
      "\"Ozone Layer Recovery\" means \"The state of the ozone layer's recovery, with 0 indicating poor recovery and 1 indicating good recovery.\"\n",
      "\"Greenhouse Gas Emissions\" means \"The level of greenhouse gas emissions, with 0 being high emissions and 1 being low emissions.\"\n",
      "\"Climate Stability\" means \"The stability of global climate patterns, with 0 indicating instability and 1 indicating stability.\"\n",
      "\"Research Investment in Climate Science\" means \"Investment in climate science research, with 0 being low investment and 1 being high investment.\"\n",
      "\n",
      "For each question above, answer with the lower and upper bound estimates of the probabilities as a JSON object where the key corresponds to the question index in exactly the following format:\n",
      "\n",
      "```json\n",
      "{\n",
      "  \"1\": [0.3, 0.4],\n",
      "  ...\n",
      "}\n",
      "```\n",
      "\n",
      "Answer concisely and precisely in the desired format. Do not add any additional comments or discussion.\n"
     ]
    }
   ],
   "source": [
    "# if 'prompt_stats' in ctx:\n",
    "#     del ctx['descriptions']\n",
    "#     del ctx['prob_questions']\n",
    "#     del ctx['prompt_stats']\n",
    "# print(FileTemplate('stats').fill_in(ctx))\n",
    "print(ctx['prompt_stats'])"
   ],
   "metadata": {
    "collapsed": false,
    "ExecuteTime": {
     "end_time": "2024-01-19T10:18:21.774555733Z",
     "start_time": "2024-01-19T10:18:21.704152019Z"
    }
   },
   "id": "feaee31660914e5"
  },
  {
   "cell_type": "code",
   "execution_count": 268,
   "outputs": [],
   "source": [
    "# probabilities = ctx['stats']\n",
    "#################################################\n",
    "\n",
    "probabilities_raw = '''\n",
    "{\n",
    "  \"1\": [0.5, 0.7],\n",
    "  \"2\": [0.2, 0.4],\n",
    "  \"3\": [0.6, 0.8],\n",
    "  \"4\": [0.1, 0.2],\n",
    "  \"5\": [0.3, 0.5],\n",
    "  \"6\": [0.4, 0.6],\n",
    "  \"7\": [0.7, 0.9],\n",
    "  \"8\": [0.6, 0.8],\n",
    "  \"9\": [0.3, 0.5],\n",
    "  \"10\": [0.1, 0.2],\n",
    "  \"11\": [0.7, 0.9],\n",
    "  \"12\": [0.4, 0.6],\n",
    "  \"13\": [0.7, 0.9],\n",
    "  \"14\": [0.5, 0.7],\n",
    "  \"15\": [0.8, 0.9],\n",
    "  \"16\": [0.1, 0.3],\n",
    "  \"17\": [0.3, 0.5],\n",
    "  \"18\": [0.2, 0.4],\n",
    "  \"19\": [0.4, 0.6],\n",
    "  \"20\": [0.2, 0.4],\n",
    "  \"21\": [0.4, 0.6],\n",
    "  \"22\": [0.5, 0.7],\n",
    "  \"23\": [0.7, 0.9],\n",
    "  \"24\": [0.3, 0.5],\n",
    "  \"25\": [0.5, 0.7],\n",
    "  \"26\": [0.4, 0.6],\n",
    "  \"27\": [0.6, 0.8]\n",
    "}\n",
    "\n",
    "'''\n",
    "\n",
    "#################################################\n",
    "ctx['stats'] = json.loads(probabilities_raw)"
   ],
   "metadata": {
    "collapsed": false,
    "ExecuteTime": {
     "end_time": "2024-01-19T10:18:51.258583667Z",
     "start_time": "2024-01-19T10:18:51.217001091Z"
    }
   },
   "id": "43b3c05608ca33be"
  },
  {
   "cell_type": "code",
   "execution_count": 269,
   "outputs": [
    {
     "name": "stdout",
     "output_type": "stream",
     "text": [
      "----------------------------------  -------------  --------------  --------------------------------------------------------------------------------------------------------\n",
      "Public Awareness of Climate Issues  Low Awareness  High Awareness  Public awareness and concern about climate issues, with 0 indicating low awareness and 1 high awareness.\n",
      "CFC Ban Implementation              No Ban         Enforced Ban    Implementation of the ban on CFCs, with 0 being no ban and 1 being a fully enforced ban.\n",
      "Climate Stability                   Unstable       Stable          The stability of global climate patterns, with 0 indicating instability and 1 indicating stability.\n",
      "----------------------------------  -------------  --------------  --------------------------------------------------------------------------------------------------------\n"
     ]
    },
    {
     "data": {
      "text/plain": "  0%|          | 0/20 [00:00<?, ?it/s]",
      "application/vnd.jupyter.widget-view+json": {
       "version_major": 2,
       "version_minor": 0,
       "model_id": "9c53fa07654f4c399a7bab767cf67e41"
      }
     },
     "metadata": {},
     "output_type": "display_data"
    },
    {
     "name": "stderr",
     "output_type": "stream",
     "text": [
      "/home/fleeb/miniconda3/lib/python3.11/site-packages/torch/masked/maskedtensor/core.py:156: UserWarning: The PyTorch API of MaskedTensors is in prototype stage and will change in the near future. Please open a Github issue for features requests and see our documentation on the torch.masked module for further information about the project.\n",
      "  warnings.warn((\"The PyTorch API of MaskedTensors is in prototype stage \"\n"
     ]
    },
    {
     "name": "stdout",
     "output_type": "stream",
     "text": [
      "'Environmental Policies' means The presence and effectiveness of environmental policies, with 0 indicating weak policies and 1 strong policies.\n",
      "'Public Awareness of Climate Issues' means Public awareness and concern about climate issues, with 0 indicating low awareness and 1 high awareness.\n",
      "'CFC Ban Implementation' means Implementation of the ban on CFCs, with 0 being no ban and 1 being a fully enforced ban.\n",
      "'Industrial Growth' means The rate of industrial growth, with 0 being low growth and 1 high growth.\n",
      "'Ozone Layer Recovery' means The state of the ozone layer's recovery, with 0 indicating poor recovery and 1 indicating good recovery.\n",
      "'Greenhouse Gas Emissions' means The level of greenhouse gas emissions, with 0 being high emissions and 1 being low emissions.\n",
      "'Climate Stability' means The stability of global climate patterns, with 0 indicating instability and 1 indicating stability.\n",
      "'Research Investment in Climate Science' means Investment in climate science research, with 0 being low investment and 1 being high investment.\n",
      "Treatment Value    Treatment                           Outcome Value    Outcome                 ATE    Correlation\n",
      "-----------------  ----------------------------------  ---------------  -----------------  --------  -------------\n",
      "High Awareness     Public Awareness of Climate Issues  Stable           Climate Stability  0.136756       0.159294\n",
      "Enforced Ban       CFC Ban Implementation              Stable           Climate Stability  0.325338       0.345945\n"
     ]
    }
   ],
   "source": [
    "raw_prob_samples = []\n",
    "def to_prob_range(raw):\n",
    "    raw = [prange for _, prange in sorted(raw.items(), key=lambda item: int(item[0]))]\n",
    "    return torch.tensor(raw)\n",
    "\n",
    "prob_ranges = to_prob_range(ctx['stats'])\n",
    "lower_bound, upper_bound = prob_ranges.t()\n",
    "\n",
    "net = BernoulliNetwork({node['name']: node['parents'] for node in ctx['nodes']})\n",
    "\n",
    "def mc_samples(N, *fns):\n",
    "    estimates = []\n",
    "    for _ in tqdm(range(N)):\n",
    "        param_sample = torch.rand(len(prob_ranges)) * (upper_bound - lower_bound) + lower_bound\n",
    "        net.set_params(param_sample)\n",
    "        estimates.append([fn() for fn in fns])\n",
    "    return torch.tensor(estimates)\n",
    "def make_ate_fn(treatment, outcome, conditions=None):\n",
    "    def ate_fn():\n",
    "        return net.ate(treatment, outcome, conditions=conditions)#.item()\n",
    "    return ate_fn\n",
    "def make_corr_fn(v1, v2):\n",
    "    def corr_fn():\n",
    "        return net.correlation(v1, v2).item()\n",
    "    return corr_fn\n",
    "treatment1, treatment2 = [n for n in ctx['treatments']]\n",
    "# t1vals = [node['values'] for node in ctx['nodes'] if node['name'] == treatment1][0]\n",
    "# t2vals = [node['values'] for node in ctx['nodes'] if node['name'] == treatment2][0]\n",
    "outcome = ctx['outcome']#['name']\n",
    "# ovals = [node['values'] for node in ctx['nodes'] if node['name'] == outcome][0]\n",
    "confounders = [node for node in ctx['confounders']]\n",
    "\n",
    "print(tabulate([\n",
    "    [treatment1['name'], *treatment1['values'], treatment1['description']],\n",
    "    [treatment2['name'], *treatment2['values'], treatment2['description']],\n",
    "    [outcome['name'], *outcome['values'], outcome['description']],\n",
    "]))\n",
    "\n",
    "cate_keys = [(treatment, confounder, cval) for treatment in ctx['treatments'] for confounder in ctx['confounders'] for cval in [0, 1]]\n",
    "cate_fns = [make_ate_fn(treatment['name'], outcome['name'], conditions={confounder['name']: val}) for treatment, confounder, val in cate_keys]\n",
    "ate1, ate2, corr1, corr2, *cates = mc_samples(20, make_ate_fn(treatment1['name'], outcome['name']), make_ate_fn(treatment2['name'], outcome['name']),\n",
    "                                      make_corr_fn(treatment1['name'], outcome['name']), make_corr_fn(treatment2['name'], outcome['name']), *cate_fns).t()\n",
    "\n",
    "print('\\n'.join(f'{node[\"name\"]!r} means {node[\"description\"]}' for node in ctx['nodes']))\n",
    "print(tabulate([\n",
    "    [f'{treatment1[\"values\"][1]}', f'{treatment1[\"name\"]}', f'{outcome[\"values\"][1]}', f'{outcome[\"name\"]}', ate1.mean(), corr1.mean(), ],\n",
    "    [f'{treatment2[\"values\"][1]}', f'{treatment2[\"name\"]}', f'{outcome[\"values\"][1]}', f'{outcome[\"name\"]}', ate2.mean(), corr2.mean(), ],\n",
    "], headers=['Treatment Value', 'Treatment', 'Outcome Value', 'Outcome', 'ATE', 'Correlation']))"
   ],
   "metadata": {
    "collapsed": false,
    "ExecuteTime": {
     "end_time": "2024-01-19T10:19:07.923074220Z",
     "start_time": "2024-01-19T10:18:51.834339455Z"
    }
   },
   "id": "72b141894423bdcb"
  },
  {
   "cell_type": "code",
   "execution_count": 270,
   "outputs": [
    {
     "name": "stderr",
     "output_type": "stream",
     "text": [
      "/home/fleeb/miniconda3/lib/python3.11/site-packages/torch/masked/maskedtensor/core.py:156: UserWarning: The PyTorch API of MaskedTensors is in prototype stage and will change in the near future. Please open a Github issue for features requests and see our documentation on the torch.masked module for further information about the project.\n",
      "  warnings.warn((\"The PyTorch API of MaskedTensors is in prototype stage \"\n"
     ]
    },
    {
     "ename": "AttributeError",
     "evalue": "'float' object has no attribute 'item'",
     "output_type": "error",
     "traceback": [
      "\u001B[0;31m---------------------------------------------------------------------------\u001B[0m",
      "\u001B[0;31mAttributeError\u001B[0m                            Traceback (most recent call last)",
      "Cell \u001B[0;32mIn[270], line 39\u001B[0m\n\u001B[1;32m     35\u001B[0m \u001B[38;5;28;01mfor\u001B[39;00m node1, node2 \u001B[38;5;129;01min\u001B[39;00m product(ctx[\u001B[38;5;124m'\u001B[39m\u001B[38;5;124mnodes\u001B[39m\u001B[38;5;124m'\u001B[39m], ctx[\u001B[38;5;124m'\u001B[39m\u001B[38;5;124mnodes\u001B[39m\u001B[38;5;124m'\u001B[39m]):\n\u001B[1;32m     36\u001B[0m     \u001B[38;5;28;01mif\u001B[39;00m node1 \u001B[38;5;241m!=\u001B[39m node2:\n\u001B[1;32m     37\u001B[0m         tbl\u001B[38;5;241m.\u001B[39mappend([\n\u001B[1;32m     38\u001B[0m                     \u001B[38;5;124mf\u001B[39m\u001B[38;5;124m'\u001B[39m\u001B[38;5;132;01m{\u001B[39;00mnode1[\u001B[38;5;124m\"\u001B[39m\u001B[38;5;124mvalues\u001B[39m\u001B[38;5;124m\"\u001B[39m][\u001B[38;5;241m1\u001B[39m]\u001B[38;5;132;01m}\u001B[39;00m\u001B[38;5;124m \u001B[39m\u001B[38;5;132;01m{\u001B[39;00mnode1[\u001B[38;5;124m\"\u001B[39m\u001B[38;5;124mname\u001B[39m\u001B[38;5;124m\"\u001B[39m]\u001B[38;5;132;01m}\u001B[39;00m\u001B[38;5;124m'\u001B[39m, \n\u001B[0;32m---> 39\u001B[0m                     \u001B[38;5;124mf\u001B[39m\u001B[38;5;124m\"\u001B[39m\u001B[38;5;132;01m{\u001B[39;00m\u001B[43mnet\u001B[49m\u001B[38;5;241;43m.\u001B[39;49m\u001B[43mate\u001B[49m\u001B[43m(\u001B[49m\u001B[43mnode1\u001B[49m\u001B[43m[\u001B[49m\u001B[38;5;124;43m'\u001B[39;49m\u001B[38;5;124;43mname\u001B[39;49m\u001B[38;5;124;43m'\u001B[39;49m\u001B[43m]\u001B[49m\u001B[43m,\u001B[49m\u001B[38;5;250;43m \u001B[39;49m\u001B[43mnode2\u001B[49m\u001B[43m[\u001B[49m\u001B[38;5;124;43m'\u001B[39;49m\u001B[38;5;124;43mname\u001B[39;49m\u001B[38;5;124;43m'\u001B[39;49m\u001B[43m]\u001B[49m\u001B[43m)\u001B[49m\u001B[38;5;241;43m.\u001B[39;49m\u001B[43mitem\u001B[49m()\u001B[38;5;132;01m:\u001B[39;00m\u001B[38;5;124m.2f\u001B[39m\u001B[38;5;132;01m}\u001B[39;00m\u001B[38;5;124m\"\u001B[39m, \n\u001B[1;32m     40\u001B[0m                     \u001B[38;5;124mf\u001B[39m\u001B[38;5;124m\"\u001B[39m\u001B[38;5;132;01m{\u001B[39;00mnet\u001B[38;5;241m.\u001B[39mcorrelation(node1[\u001B[38;5;124m'\u001B[39m\u001B[38;5;124mname\u001B[39m\u001B[38;5;124m'\u001B[39m],\u001B[38;5;250m \u001B[39mnode2[\u001B[38;5;124m'\u001B[39m\u001B[38;5;124mname\u001B[39m\u001B[38;5;124m'\u001B[39m])\u001B[38;5;241m.\u001B[39mitem()\u001B[38;5;132;01m:\u001B[39;00m\u001B[38;5;124m.2f\u001B[39m\u001B[38;5;132;01m}\u001B[39;00m\u001B[38;5;124m\"\u001B[39m,\n\u001B[1;32m     41\u001B[0m                     \u001B[38;5;124mf\u001B[39m\u001B[38;5;124m'\u001B[39m\u001B[38;5;132;01m{\u001B[39;00mnode2[\u001B[38;5;124m\"\u001B[39m\u001B[38;5;124mvalues\u001B[39m\u001B[38;5;124m\"\u001B[39m][\u001B[38;5;241m1\u001B[39m]\u001B[38;5;132;01m}\u001B[39;00m\u001B[38;5;124m \u001B[39m\u001B[38;5;132;01m{\u001B[39;00mnode2[\u001B[38;5;124m\"\u001B[39m\u001B[38;5;124mname\u001B[39m\u001B[38;5;124m\"\u001B[39m]\u001B[38;5;132;01m}\u001B[39;00m\u001B[38;5;124m'\u001B[39m, \n\u001B[1;32m     42\u001B[0m                     \u001B[38;5;66;03m# node1['description'], \u001B[39;00m\n\u001B[1;32m     43\u001B[0m                     \u001B[38;5;66;03m# node2['description'], \u001B[39;00m\n\u001B[1;32m     44\u001B[0m                     ])\n\u001B[1;32m     45\u001B[0m \u001B[38;5;28mprint\u001B[39m(tabulate(tbl, headers\u001B[38;5;241m=\u001B[39m[\u001B[38;5;124m'\u001B[39m\u001B[38;5;124mTreatment\u001B[39m\u001B[38;5;124m'\u001B[39m, \u001B[38;5;124m'\u001B[39m\u001B[38;5;124mATE\u001B[39m\u001B[38;5;124m'\u001B[39m, \u001B[38;5;124m'\u001B[39m\u001B[38;5;124mCorrelation\u001B[39m\u001B[38;5;124m'\u001B[39m, \u001B[38;5;124m'\u001B[39m\u001B[38;5;124mOutcome\u001B[39m\u001B[38;5;124m'\u001B[39m, \n\u001B[1;32m     46\u001B[0m                              \u001B[38;5;66;03m# 'Treatment Description', 'Outcome Description'\u001B[39;00m\n\u001B[1;32m     47\u001B[0m                              ]))\n\u001B[1;32m     49\u001B[0m \u001B[38;5;66;03m# print(net.backdoor_estimand(treatment1['name'], outcome['name']))\u001B[39;00m\n\u001B[1;32m     50\u001B[0m \u001B[38;5;66;03m# print(net.backdoor_estimand(treatment2['name'], outcome['name']))\u001B[39;00m\n",
      "\u001B[0;31mAttributeError\u001B[0m: 'float' object has no attribute 'item'"
     ]
    },
    {
     "data": {
      "text/plain": "<Figure size 800x400 with 1 Axes>",
      "image/png": "[encoded data removed]"
     },
     "metadata": {},
     "output_type": "display_data"
    },
    {
     "data": {
      "text/plain": "<Figure size 800x400 with 1 Axes>",
      "image/png": "[encoded data removed]"
     },
     "metadata": {},
     "output_type": "display_data"
    }
   ],
   "source": [
    "plt.figure(figsize=(8, 4))\n",
    "sns.kdeplot(ate1, label=f'{treatment1[\"values\"][1]} = {treatment1[\"name\"]}', fill=True, clip=(min(ate1), max(ate1)));\n",
    "sns.kdeplot(ate2, label=f'{treatment2[\"values\"][1]} = {treatment2[\"name\"]}', fill=True, clip=(min(ate2), max(ate2)));\n",
    "plt.title(f'{outcome[\"values\"][1]} = {outcome[\"name\"]}')\n",
    "plt.ylabel(f'P(ATE)')\n",
    "plt.gca().legend(loc='upper center', bbox_to_anchor=(0.5, -.1))\n",
    "plt.axvline(0, color='black', linestyle='--', alpha=0.5)\n",
    "# plt.xlim(-1, 1)\n",
    "plt.tight_layout();\n",
    "\n",
    "plt.figure(figsize=(8, 4))\n",
    "sns.kdeplot(corr1, label=f'{treatment1[\"values\"][1]} = {treatment1[\"name\"]}', fill=True, clip=(min(corr1), max(corr1)));\n",
    "sns.kdeplot(corr2, label=f'{treatment2[\"values\"][1]} = {treatment2[\"name\"]}', fill=True, clip=(min(corr2), max(corr2)));\n",
    "plt.title(f'{outcome[\"values\"][1]} = {outcome[\"name\"]}')\n",
    "plt.ylabel(f'P(Correlation)')\n",
    "plt.gca().legend(loc='upper center', bbox_to_anchor=(0.5, -.1))\n",
    "plt.axvline(0, color='black', linestyle='--', alpha=0.5)\n",
    "# plt.xlim(-1, 1)\n",
    "plt.tight_layout();\n",
    "\n",
    "mn1, mx1 = ate1.min().item(), ate1.max().item()\n",
    "mu1 = ate1.mean().item()\n",
    "# assert mn1 * mx1 > 0, f'{mn1} * {mx1} < 0'\n",
    "mn2, mx2 = ate2.min().item(), ate2.max().item()\n",
    "mu2 = ate2.mean().item()\n",
    "# assert mn2 * mx2 > 0, f'{mn2} * {mx2} < 0'\n",
    "ctx['ate1'] = ate1.mean().item()\n",
    "ctx['ate2'] = ate2.mean().item()\n",
    "reverse1 = mu1 < 0\n",
    "reverse2 = mu2 < 0\n",
    "# print(tabulate([(node['name'], *node['values'], node['description']) for node in ctx['nodes']], headers=['Variable Name', 'Value 0', 'Value 1', 'Description']))\n",
    "# outcome = [node['name'] for node in ctx['nodes'] if node['type'] == 'outcome'][0]\n",
    "tbl = []\n",
    "\n",
    "for node1, node2 in product(ctx['nodes'], ctx['nodes']):\n",
    "    if node1 != node2:\n",
    "        tbl.append([\n",
    "                    f'{node1[\"values\"][1]} {node1[\"name\"]}', \n",
    "                    f\"{net.ate(node1['name'], node2['name']).item():.2f}\", \n",
    "                    f\"{net.correlation(node1['name'], node2['name']).item():.2f}\",\n",
    "                    f'{node2[\"values\"][1]} {node2[\"name\"]}', \n",
    "                    # node1['description'], \n",
    "                    # node2['description'], \n",
    "                    ])\n",
    "print(tabulate(tbl, headers=['Treatment', 'ATE', 'Correlation', 'Outcome', \n",
    "                             # 'Treatment Description', 'Outcome Description'\n",
    "                             ]))\n",
    "\n",
    "# print(net.backdoor_estimand(treatment1['name'], outcome['name']))\n",
    "# print(net.backdoor_estimand(treatment2['name'], outcome['name']))"
   ],
   "metadata": {
    "collapsed": false,
    "ExecuteTime": {
     "end_time": "2024-01-19T10:19:08.393169009Z",
     "start_time": "2024-01-19T10:19:07.923416141Z"
    }
   },
   "id": "91c54e61480a1489"
  },
  {
   "cell_type": "code",
   "execution_count": 271,
   "outputs": [
    {
     "name": "stdout",
     "output_type": "stream",
     "text": [
      "We would like to find very natural verbalizations of the following binary variables selected from a statistical model. The verbalizations should sound more natural and organic, so that you could imagine them being used in a newspaper article or casual conversation, while still being semantically equivalent to the variable and value definition.\n",
      "\n",
      "Here are the templates that we use to verbalize the variables:\n",
      "\n",
      "1. One of the variables is {descriptor}.\n",
      "2. {subject} [often/usually/sometimes/rarely/etc.] {predicate#}. (with pronoun: {pronoun})\n",
      "3. There is a [number]% chance that {nounclause#}.\n",
      "4. {preposition} [number]% of {domain}, {subclause#}.\n",
      "5. Conditional sentence: {condition#}, [some consequence].\n",
      "6. Interventional: If {action#}, [some effect].\n",
      "\n",
      "Variable 'Environmental Policies' (0='Weak Policies', 1='Strong Policies') means The presence and effectiveness of environmental policies, with 0 indicating weak policies and 1 strong policies.\n",
      "Variable 'Public Awareness of Climate Issues' (0='Low Awareness', 1='High Awareness') means Public awareness and concern about climate issues, with 0 indicating low awareness and 1 high awareness.\n",
      "Variable 'CFC Ban Implementation' (0='No Ban', 1='Enforced Ban') means Implementation of the ban on CFCs, with 0 being no ban and 1 being a fully enforced ban.\n",
      "Variable 'Industrial Growth' (0='Low Growth', 1='High Growth') means The rate of industrial growth, with 0 being low growth and 1 high growth.\n",
      "Variable 'Ozone Layer Recovery' (0='Poor Recovery', 1='Good Recovery') means The state of the ozone layer's recovery, with 0 indicating poor recovery and 1 indicating good recovery.\n",
      "Variable 'Greenhouse Gas Emissions' (0='High Emissions', 1='Low Emissions') means The level of greenhouse gas emissions, with 0 being high emissions and 1 being low emissions.\n",
      "Variable 'Climate Stability' (0='Unstable', 1='Stable') means The stability of global climate patterns, with 0 indicating instability and 1 indicating stability.\n",
      "Variable 'Research Investment in Climate Science' (0='Low Investment', 1='High Investment') means Investment in climate science research, with 0 being low investment and 1 being high investment.\n",
      "\n",
      "Here are some examples of verbalizations of the variable. For each of the templates fill in the blanks in the curly braces (and include 2-3 examples for each template, sorted from highest quality to least). Format your response as a JSON object. When replacing a key that ends in \"#\", make sure to include some examples for both values (0 and 1) that the variables can take. For example, a variable \"Smoking Rate\" which takes the values \"Low Smoking Rate\"=0 and \"High Smoking Rate\"=1 can be verbalized like this:\n",
      "\n",
      "```json\n",
      "{\n",
      "  \"Smoking Rate\": {\n",
      "    \"descriptor\": [\"the smoking rate\", \"prevalence of smokers\"],\n",
      "    \"subject\": \"people\",\n",
      "    \"predicate0\": [\"do not smoke\", \"are non-smokers\"],\n",
      "    \"predicate1\": [\"smoke\", \"are smokers\"],\n",
      "    \"pronoun\": \"they\",\n",
      "    \"nounclause0\": [\"people do not smoke\", \"people are non-smokers\"],\n",
      "    \"nounclause1\": [\"people smoke\", \"people are smokers\"],\n",
      "    \"preposition\": [\"in\", \"for\"],\n",
      "    \"domain\": \"cases\",\n",
      "    \"subclause0\": [\"a person does not smoke\", \"there is no smoking habit\"],\n",
      "    \"subclause1\": [\"a person smokes\", \"there is a smoking habit\"],\n",
      "    \"condition0\": [\"among non-smokers\", \"for people that do not smoke\"],\n",
      "    \"condition1\": [\"among smokers\", \"for people that smoke\"],\n",
      "    \"action0\": [\"people quit smoking\", \"people become non-smokers\"],\n",
      "    \"action1\": [\"people become smokers\", \"people take up smoking\"]\n",
      "  },\n",
      "  ...\n",
      "}\n",
      "```\n",
      "\n",
      "Answer concisely and precisely in the desired format, and only replace the blanks in curly braces. Do not add any additional comments or discussion. Most importantly, the verbalizations should not contain quantitative information like \"often\" or \"rarely\" aluding to the liklihood of the variable taking that value, and instead always neutrally assert the value of the variable definition in a precise, creative, and most importantly semantically equivalent way.\n"
     ]
    }
   ],
   "source": [
    "# if 'prompt_verbs' in ctx:\n",
    "#     del ctx['prompt_verbs']\n",
    "print(FileTemplate('verbs').fill_in(ctx))\n",
    "# print(ctx['prompt_verbs'])"
   ],
   "metadata": {
    "collapsed": false,
    "ExecuteTime": {
     "end_time": "2024-01-19T10:19:19.466059723Z",
     "start_time": "2024-01-19T10:19:19.460304732Z"
    }
   },
   "id": "3dc15b60d5792cfb"
  },
  {
   "cell_type": "code",
   "execution_count": 272,
   "outputs": [],
   "source": [
    "# verbalization = ctx['verbs'] # [\"without\", \"in the absence of\"]\n",
    "#################################################\n",
    "verbalization_raw = '''\n",
    "{\n",
    "  \"Environmental Policies\": {\n",
    "    \"descriptor\": [\"the state of environmental policies\", \"the robustness of environmental measures\"],\n",
    "    \"subject\": \"environmental guidelines\",\n",
    "    \"predicate0\": [\"are not stringent\", \"lack rigor\"],\n",
    "    \"predicate1\": [\"are strong\", \"are rigorously enforced\"],\n",
    "    \"pronoun\": \"they\",\n",
    "    \"nounclause0\": [\"environmental policies are weak\", \"there is a lack of strong environmental measures\"],\n",
    "    \"nounclause1\": [\"environmental policies are strong\", \"there is a strong emphasis on environmental conservation\"],\n",
    "    \"preposition\": [\"under\", \"amid\"],\n",
    "    \"domain\": \"these regulations\",\n",
    "    \"subclause0\": [\"the guidelines are not strict\", \"little emphasis is placed on environmental protection\"],\n",
    "    \"subclause1\": [\"the regulations are strictly enforced\", \"great emphasis is placed on environmental protection\"],\n",
    "    \"condition0\": [\"If the environmental policies are weak\", \"In cases of lax environmental regulation\"],\n",
    "    \"condition1\": [\"If environmental policies are strongly enforced\", \"In cases of rigorous environmental measures\"],\n",
    "    \"action0\": [\"if environmental policies are relaxed\", \"if environmental regulations are loosened\"],\n",
    "    \"action1\": [\"if environmental policies are strengthened\", \"if stricter environmental measures are implemented\"]\n",
    "  },\n",
    "  \"Public Awareness of Climate Issues\": {\n",
    "    \"descriptor\": [\"the level of public awareness about climate issues\", \"public consciousness regarding climate change\"],\n",
    "    \"subject\": \"the general public\",\n",
    "    \"predicate0\": [\"is not well-informed about climate issues\", \"shows little concern for climate change\"],\n",
    "    \"predicate1\": [\"is highly aware of climate issues\", \"expresses significant concern for climate change\"],\n",
    "    \"pronoun\": \"they\",\n",
    "    \"nounclause0\": [\"public awareness about climate issues is low\", \"there is minimal concern about climate change among the public\"],\n",
    "    \"nounclause1\": [\"public awareness about climate issues is high\", \"there is a heightened concern about climate change among the public\"],\n",
    "    \"preposition\": [\"among\", \"within\"],\n",
    "    \"domain\": \"the population\",\n",
    "    \"subclause0\": [\"there is a lack of knowledge about climate change\", \"concern for climate issues is minimal\"],\n",
    "    \"subclause1\": [\"there is an increased knowledge about climate change\", \"concern for climate issues is prominent\"],\n",
    "    \"condition0\": [\"If public awareness about climate issues is low\", \"When there is little public concern for climate change\"],\n",
    "    \"condition1\": [\"If public awareness about climate issues is high\", \"When there is significant public concern for climate change\"],\n",
    "    \"action0\": [\"if people become less aware of climate issues\", \"if public concern for climate change decreases\"],\n",
    "    \"action1\": [\"if people become more aware of climate issues\", \"if public concern for climate change increases\"]\n",
    "  },\n",
    "  \"CFC Ban Implementation\": {\n",
    "    \"descriptor\": [\"the status of the CFC ban\", \"the enforcement of the CFC prohibition\"],\n",
    "    \"subject\": \"this policy\",\n",
    "    \"predicate0\": [\"is not implemented\", \"remains unenforced\"],\n",
    "    \"predicate1\": [\"is fully implemented\", \"is strictly enforced\"],\n",
    "    \"pronoun\": \"it\",\n",
    "    \"nounclause0\": [\"the CFC ban is not in effect\", \"there is no enforcement of the CFC ban\"],\n",
    "    \"nounclause1\": [\"the CFC ban is fully in effect\", \"the CFC ban is being strictly enforced\"],\n",
    "    \"preposition\": [\"despite\", \"in the absence of\"],\n",
    "    \"domain\": \"this regulation\",\n",
    "    \"subclause0\": [\"the ban is not active\", \"no measures are taken against CFCs\"],\n",
    "    \"subclause1\": [\"the ban is in full force\", \"strict measures are taken against CFCs\"],\n",
    "    \"condition0\": [\"If the CFC ban is not enforced\", \"When there is no implementation of the CFC ban\"],\n",
    "    \"condition1\": [\"If the CFC ban is fully enforced\", \"When the CFC ban is actively implemented\"],\n",
    "    \"action0\": [\"if the CFC ban remains unenforced\", \"if no action is taken against CFCs\"],\n",
    "    \"action1\": [\"if the CFC ban is put into action\", \"if strict measures against CFCs are implemented\"]\n",
    "  },\n",
    "  \"Industrial Growth\": {\n",
    "    \"descriptor\": [\"the rate of industrial growth\", \"the pace of industrial expansion\"],\n",
    "    \"subject\": \"industrial sectors\",\n",
    "    \"predicate0\": [\"experience slow growth\", \"are expanding at a slow pace\"],\n",
    "    \"predicate1\": [\"are rapidly growing\", \"are expanding quickly\"],\n",
    "    \"pronoun\": \"they\",\n",
    "    \"nounclause0\": [\"industrial growth is low\", \"there is a slow pace of industrial expansion\"],\n",
    "    \"nounclause1\": [\"industrial growth is high\", \"there is a rapid pace of industrial expansion\"],\n",
    "    \"preposition\": [\"in\", \"with\"],\n",
    "    \"domain\": \"these economies\",\n",
    "    \"subclause0\": [\"growth in the industry is sluggish\", \"the expansion rate is minimal\"],\n",
    "    \"subclause1\": [\"there is a boom in the industry\", \"the expansion rate is significant\"],\n",
    "    \"condition0\": [\"If industrial growth is low\", \"When the industrial sector expands slowly\"],\n",
    "    \"condition1\": [\"If industrial growth is high\", \"When the industrial sector expands rapidly\"],\n",
    "    \"action0\": [\"if industrial growth slows down\", \"if the pace of industrial expansion decreases\"],\n",
    "    \"action1\": [\"if there is a surge in industrial growth\", \"if the pace of industrial expansion increases\"]\n",
    "  },\n",
    "  \"Ozone Layer Recovery\": {\n",
    "    \"descriptor\": [\"the state of the ozone layer's recovery\", \"the progress in healing the ozone layer\"],\n",
    "    \"subject\": \"the ozone layer\",\n",
    "    \"predicate0\": [\"is not recovering well\", \"shows signs of deterioration\"],\n",
    "    \"predicate1\": [\"is recovering effectively\", \"shows signs of improvement\"],\n",
    "    \"pronoun\": \"it\",\n",
    "    \"nounclause0\": [\"the ozone layer's recovery is poor\", \"there is ongoing deterioration of the ozone layer\"],\n",
    "    \"nounclause1\": [\"the ozone layer's recovery is progressing well\", \"there is noticeable improvement in the ozone layer\"],\n",
    "    \"preposition\": [\"despite\", \"amid\"],\n",
    "    \"domain\": \"these environmental conditions\",\n",
    "    \"subclause0\": [\"recovery efforts are not effective\", \"there is little progress in healing\"],\n",
    "    \"subclause1\": [\"recovery efforts are yielding results\", \"significant progress is being made in healing\"],\n",
    "    \"condition0\": [\"If the ozone layer's recovery is poor\", \"When there is a lack of improvement in the ozone layer\"],\n",
    "    \"condition1\": [\"If the ozone layer's recovery is good\", \"When there is significant improvement in the ozone layer\"],\n",
    "    \"action0\": [\"if efforts to recover the ozone layer fail\", \"if there is continued deterioration of the ozone layer\"],\n",
    "    \"action1\": [\"if effective measures for ozone recovery are taken\", \"if there is a significant improvement in the ozone layer\"]\n",
    "  },\n",
    "  \"Greenhouse Gas Emissions\": {\n",
    "    \"descriptor\": [\"the level of greenhouse gas emissions\", \"the rate of emissions into the atmosphere\"],\n",
    "    \"subject\": \"these emissions\",\n",
    "    \"predicate0\": [\"are high\", \"pose a significant environmental threat\"],\n",
    "    \"predicate1\": [\"are low\", \"are managed effectively\"],\n",
    "    \"pronoun\": \"they\",\n",
    "    \"nounclause0\": [\"greenhouse gas emissions are high\", \"there is a significant amount of emissions released\"],\n",
    "    \"nounclause1\": [\"greenhouse gas emissions are low\", \"emission levels are well-controlled\"],\n",
    "    \"preposition\": [\"in\", \"among\"],\n",
    "    \"domain\": \"these industries\",\n",
    "    \"subclause0\": [\"the emission of greenhouse gases is substantial\", \"environmental impact is significant\"],\n",
    "    \"subclause1\": [\"emission levels are kept to a minimum\", \"environmental impact is mitigated\"],\n",
    "    \"condition0\": [\"If greenhouse gas emissions are high\", \"When there is a significant release of emissions\"],\n",
    "    \"condition1\": [\"If greenhouse gas emissions are low\", \"When emissions are well-regulated\"],\n",
    "    \"action0\": [\"if greenhouse gas emissions increase\", \"if there is a rise in emissions\"],\n",
    "    \"action1\": [\"if greenhouse gas emissions decrease\", \"if effective measures to reduce emissions are taken\"]\n",
    "  },\n",
    "  \"Climate Stability\": {\n",
    "    \"descriptor\": [\"the stability of the global climate\", \"the balance of climate patterns\", \"the steadiness of weather systems\"],\n",
    "    \"subject\": \"the climate\",\n",
    "    \"predicate0\": [\"is experiencing changes\", \"is showing signs of instability\"],\n",
    "    \"predicate1\": [\"remains stable\", \"is maintaining its regular pattern\"],\n",
    "    \"pronoun\": \"it\",\n",
    "    \"nounclause0\": [\"the climate is going through changes\", \"weather patterns are unstable\"],\n",
    "    \"nounclause1\": [\"the climate remains stable\", \"weather patterns are consistent\"],\n",
    "    \"preposition\": [\"in\", \"across\"],\n",
    "    \"domain\": \"regions\",\n",
    "    \"subclause0\": [\"the climate is changing\", \"instability in weather is observed\"],\n",
    "    \"subclause1\": [\"there is climate stability\", \"weather patterns are steady\"],\n",
    "    \"condition0\": [\"when the climate is unstable\", \"if weather patterns are changing\"],\n",
    "    \"condition1\": [\"when the climate is stable\", \"if weather patterns remain consistent\"],\n",
    "    \"action0\": [\"if the climate destabilizes\", \"should the weather systems change\"],\n",
    "    \"action1\": [\"if the climate remains stable\", \"should weather patterns stay consistent\"]\n",
    "  },\n",
    "  \"Research Investment in Climate Science\": {\n",
    "    \"descriptor\": [\"the funding for climate science research\", \"the investment in climate studies\", \"the support for climate research\"],\n",
    "    \"subject\": \"research in climate science\",\n",
    "    \"predicate0\": [\"receives minimal funding\", \"is underfunded\"],\n",
    "    \"predicate1\": [\"is well-funded\", \"receives substantial investment\"],\n",
    "    \"pronoun\": \"it\",\n",
    "    \"nounclause0\": [\"climate science research is underfunded\", \"there is minimal investment in climate studies\"],\n",
    "    \"nounclause1\": [\"climate science research is well-funded\", \"there is significant investment in climate studies\"],\n",
    "    \"preposition\": [\"in\", \"among\"],\n",
    "    \"domain\": [\"research initiatives\", \"climate projects\"],\n",
    "    \"subclause0\": [\"funding for research is low\", \"investment in studies is minimal\"],\n",
    "    \"subclause1\": [\"funding for research is high\", \"investment in studies is substantial\"],\n",
    "    \"condition0\": [\"with low investment in research\", \"if funding for climate science is minimal\"],\n",
    "    \"condition1\": [\"with high investment in research\", \"if funding for climate science is substantial\"],\n",
    "    \"action0\": [\"if investment in climate research decreases\", \"should funding for climate studies drop\"],\n",
    "    \"action1\": [\"if investment in climate research increases\", \"should funding for climate studies rise\"]\n",
    "  }\n",
    "}\n",
    "'''\n",
    "#################################################\n",
    "ctx['verbs'] = json.loads(verbalization_raw)\n",
    "assert all(node['name'] in ctx['verbs'] for node in nodes), f'{[node[\"name\"] for node in nodes if node[\"name\"] not in ctx[\"verbs\"]]!r}'"
   ],
   "metadata": {
    "collapsed": false,
    "ExecuteTime": {
     "end_time": "2024-01-19T10:22:44.494211298Z",
     "start_time": "2024-01-19T10:22:44.450725923Z"
    }
   },
   "id": "79f6bf9e67c64775"
  },
  {
   "cell_type": "code",
   "execution_count": 273,
   "outputs": [
    {
     "name": "stdout",
     "output_type": "stream",
     "text": [
      "We have a statistical model based on the following topic:\n",
      "\n",
      "This article brings to light how the 1987 global treaty to ban CFCs, chemicals harming the ozone layer, might have helped us avoid severe climate issues today. To explore this further, we could look at historical temperature records, greenhouse gas levels, and ozone layer measurements over the past few decades. By comparing these data before and after the ban, we might see how significantly this action contributed to slowing down climate change.\n",
      "\n",
      "Now we would like to use this model to generate the following interesting research questions. Verbalize interesting \"yes\"/\"no\" questions where the correct answer depends computation of each of the following quantities:\n",
      "\n",
      "\t1. ATE('Public Awareness of Climate Issues') > 0\n",
      "\t2. ATE('CFC Ban Implementation') < 0\n",
      "\t3. ATE('CFC Ban Implementation') < ATE('Public Awareness of Climate Issues')\n",
      "\t4. |ATE('CFC Ban Implementation')| > |ATE('Public Awareness of Climate Issues')|\n",
      "\t5. CATE('Public Awareness of Climate Issues' | 'Environmental Policies' = 0) < 0\n",
      "\t6. CATE('CFC Ban Implementation' | 'Environmental Policies' = 0) > 0\n",
      "\t7. CATE('Public Awareness of Climate Issues' | 'Environmental Policies' = 0) > CATE('CFC Ban Implementation' | 'Environmental Policies' = 0)\n",
      "\t8. |CATE('CFC Ban Implementation' | 'Environmental Policies' = 0)| < |CATE('Public Awareness of Climate Issues' | 'Environmental Policies' = 0)|\n",
      "\t9. CATE('Public Awareness of Climate Issues' | 'Environmental Policies' = 1) > 0\n",
      "\t10. CATE('CFC Ban Implementation' | 'Environmental Policies' = 1) < 0\n",
      "\t11. CATE('CFC Ban Implementation' | 'Environmental Policies' = 1) < CATE('Public Awareness of Climate Issues' | 'Environmental Policies' = 1)\n",
      "\t12. |CATE('CFC Ban Implementation' | 'Environmental Policies' = 1)| > |CATE('Public Awareness of Climate Issues' | 'Environmental Policies' = 1)|\n",
      "\t13. CATE('Public Awareness of Climate Issues' | 'Environmental Policies' = 0) < CATE('Public Awareness of Climate Issues' | 'Environmental Policies' = 1)\n",
      "\t14. |CATE('Public Awareness of Climate Issues' | 'Environmental Policies' = 0)| < |CATE('Public Awareness of Climate Issues' | 'Environmental Policies' = 1)|\n",
      "\t15. CATE('CFC Ban Implementation' | 'Environmental Policies' = 1) < CATE('CFC Ban Implementation' | 'Environmental Policies' = 0)\n",
      "\t16. |CATE('CFC Ban Implementation' | 'Environmental Policies' = 1)| < |CATE('CFC Ban Implementation' | 'Environmental Policies' = 0)|\n",
      "\t17. CATE('Public Awareness of Climate Issues' | 'Industrial Growth' = 0) > 0\n",
      "\t18. CATE('CFC Ban Implementation' | 'Industrial Growth' = 0) > 0\n",
      "\t19. CATE('CFC Ban Implementation' | 'Industrial Growth' = 0) > CATE('Public Awareness of Climate Issues' | 'Industrial Growth' = 0)\n",
      "\t20. |CATE('Public Awareness of Climate Issues' | 'Industrial Growth' = 0)| < |CATE('CFC Ban Implementation' | 'Industrial Growth' = 0)|\n",
      "\t21. CATE('Public Awareness of Climate Issues' | 'Industrial Growth' = 1) < 0\n",
      "\t22. CATE('CFC Ban Implementation' | 'Industrial Growth' = 1) > 0\n",
      "\t23. CATE('CFC Ban Implementation' | 'Industrial Growth' = 1) > CATE('Public Awareness of Climate Issues' | 'Industrial Growth' = 1)\n",
      "\t24. |CATE('CFC Ban Implementation' | 'Industrial Growth' = 1)| > |CATE('Public Awareness of Climate Issues' | 'Industrial Growth' = 1)|\n",
      "\t25. CATE('Public Awareness of Climate Issues' | 'Industrial Growth' = 1) > CATE('Public Awareness of Climate Issues' | 'Industrial Growth' = 0)\n",
      "\t26. |CATE('Public Awareness of Climate Issues' | 'Industrial Growth' = 1)| > |CATE('Public Awareness of Climate Issues' | 'Industrial Growth' = 0)|\n",
      "\t27. CATE('CFC Ban Implementation' | 'Industrial Growth' = 0) < CATE('CFC Ban Implementation' | 'Industrial Growth' = 1)\n",
      "\t28. |CATE('CFC Ban Implementation' | 'Industrial Growth' = 0)| < |CATE('CFC Ban Implementation' | 'Industrial Growth' = 1)|\n",
      "\n",
      "Where \"| * |\" is the absolute value and the definitions of \"ATE('X')\" (average treatment effect) and \"CATE('X' | 'U'=u)\" are:\n",
      "\n",
      "ATE('X') = E['Y' | do('X' = 1)] - E['Y' | do('X' = 0)]\n",
      "CATE('X' | 'U'=u) = E['Y' | 'U'=u, do('X' = 1)] - E['Y' | 'U'=u, do('X' = 0)]\n",
      "\n",
      "Where 'X' is a treatment variable, 'Y' is the outcome variable, and 'U' is a confounder variable.\n",
      "\n",
      "In addition to the questions and associated answers include a one sentence claim answering each question. Make sure the claim can stand on its own without the question, so it should restate all important details from the question.\n",
      "\n",
      "The meanings of all the variables (all of which are binary) in the statistical model are:\n",
      "\n",
      "Variable 'Environmental Policies' (0='Weak Policies', 1='Strong Policies') means The presence and effectiveness of environmental policies, with 0 indicating weak policies and 1 strong policies.\n",
      "Variable 'Public Awareness of Climate Issues' (0='Low Awareness', 1='High Awareness') means Public awareness and concern about climate issues, with 0 indicating low awareness and 1 high awareness.\n",
      "Variable 'CFC Ban Implementation' (0='No Ban', 1='Enforced Ban') means Implementation of the ban on CFCs, with 0 being no ban and 1 being a fully enforced ban.\n",
      "Variable 'Industrial Growth' (0='Low Growth', 1='High Growth') means The rate of industrial growth, with 0 being low growth and 1 high growth.\n",
      "Variable 'Ozone Layer Recovery' (0='Poor Recovery', 1='Good Recovery') means The state of the ozone layer's recovery, with 0 indicating poor recovery and 1 indicating good recovery.\n",
      "Variable 'Greenhouse Gas Emissions' (0='High Emissions', 1='Low Emissions') means The level of greenhouse gas emissions, with 0 being high emissions and 1 being low emissions.\n",
      "Variable 'Climate Stability' (0='Unstable', 1='Stable') means The stability of global climate patterns, with 0 indicating instability and 1 indicating stability.\n",
      "Variable 'Research Investment in Climate Science' (0='Low Investment', 1='High Investment') means Investment in climate science research, with 0 being low investment and 1 being high investment.\n",
      "\n",
      "Answer in the form of a JSON object in the following format:\n",
      "\n",
      "```json\n",
      "\n",
      "    \"1\": \"question\": \"[question]\", \"answer\": \"yes\", \"claim\": \"[claim]\",\n",
      "    ...\n",
      "\n",
      "```\n",
      "\n",
      "Answer concisely and precisely in the desired format. Do not add any additional comments or discussion. Most importantly, do not use any technical terms from causal inference such as ATE or CATE in the questions and claims so that everything is easy to understand even for a layperson in a casual conversation.\n"
     ]
    }
   ],
   "source": [
    "# if 'prompt_questions' in ctx:\n",
    "#     del ctx['prompt_questions']\n",
    "# print(FileTemplate('questions').fill_in(ctx))\n",
    "print(ctx['prompt_questions'])"
   ],
   "metadata": {
    "collapsed": false,
    "ExecuteTime": {
     "end_time": "2024-01-19T10:22:45.513065359Z",
     "start_time": "2024-01-19T10:22:45.473025803Z"
    }
   },
   "id": "e7a104d246a371ac"
  },
  {
   "cell_type": "code",
   "execution_count": 275,
   "outputs": [],
   "source": [
    "# setting = ctx['questions']\n",
    "#################################################\n",
    "settings_raw = '''\n",
    "{\n",
    "    \"1\": {\n",
    "        \"question\": \"Does increasing public awareness of climate issues generally lead to more positive outcomes for climate stability?\",\n",
    "        \"answer\": \"yes\",\n",
    "        \"claim\": \"Increasing public awareness of climate issues generally leads to more positive outcomes for climate stability.\"\n",
    "    },\n",
    "    \"2\": {\n",
    "        \"question\": \"Does implementing a CFC ban typically worsen climate stability?\",\n",
    "        \"answer\": \"no\",\n",
    "        \"claim\": \"Implementing a CFC ban does not typically worsen climate stability.\"\n",
    "    },\n",
    "    \"3\": {\n",
    "        \"question\": \"Is the impact of implementing a CFC ban on climate stability less positive than the impact of increasing public awareness of climate issues?\",\n",
    "        \"answer\": \"yes\",\n",
    "        \"claim\": \"The positive impact on climate stability is less from implementing a CFC ban compared to increasing public awareness of climate issues.\"\n",
    "    },\n",
    "    \"4\": {\n",
    "        \"question\": \"Is the absolute impact of implementing a CFC ban on climate stability greater than that of increasing public awareness of climate issues?\",\n",
    "        \"answer\": \"no\",\n",
    "        \"claim\": \"The absolute impact on climate stability from implementing a CFC ban is not greater than that from increasing public awareness of climate issues.\"\n",
    "    },\n",
    "    \"5\": {\n",
    "        \"question\": \"In the context of weak environmental policies, does increasing public awareness of climate issues tend to lead to worse outcomes for climate stability?\",\n",
    "        \"answer\": \"no\",\n",
    "        \"claim\": \"Even under weak environmental policies, increasing public awareness of climate issues does not lead to worse outcomes for climate stability.\"\n",
    "    },\n",
    "    \"6\": {\n",
    "        \"question\": \"When environmental policies are weak, does implementing a CFC ban typically improve climate stability?\",\n",
    "        \"answer\": \"yes\",\n",
    "        \"claim\": \"Implementing a CFC ban tends to improve climate stability, especially when environmental policies are weak.\"\n",
    "    },\n",
    "    \"7\": {\n",
    "        \"question\": \"Under weak environmental policies, is the positive impact on climate stability greater from increasing public awareness of climate issues than from implementing a CFC ban?\",\n",
    "        \"answer\": \"yes\",\n",
    "        \"claim\": \"Under weak environmental policies, the positive impact on climate stability is greater from increasing public awareness than from implementing a CFC ban.\"\n",
    "    },\n",
    "    \"8\": {\n",
    "        \"question\": \"Is the absolute impact on climate stability smaller from implementing a CFC ban than from increasing public awareness of climate issues under weak environmental policies?\",\n",
    "        \"answer\": \"yes\",\n",
    "        \"claim\": \"Under weak environmental policies, the absolute impact on climate stability is smaller from implementing a CFC ban compared to increasing public awareness.\"\n",
    "    },\n",
    "    \"9\": {\n",
    "        \"question\": \"In the presence of strong environmental policies, does increasing public awareness of climate issues generally lead to better climate stability?\",\n",
    "        \"answer\": \"yes\",\n",
    "        \"claim\": \"Increasing public awareness of climate issues leads to better climate stability, particularly when environmental policies are strong.\"\n",
    "    },\n",
    "    \"10\": {\n",
    "        \"question\": \"When environmental policies are strong, does implementing a CFC ban typically worsen climate stability?\",\n",
    "        \"answer\": \"no\",\n",
    "        \"claim\": \"Implementing a CFC ban does not worsen climate stability, even when environmental policies are strong.\"\n",
    "    },\n",
    "    \"11\": {\n",
    "        \"question\": \"With strong environmental policies, is the positive impact on climate stability greater from increasing public awareness of climate issues than from implementing a CFC ban?\",\n",
    "        \"answer\": \"yes\",\n",
    "        \"claim\": \"With strong environmental policies, the positive impact on climate stability is greater from increasing public awareness than from implementing a CFC ban.\"\n",
    "    },\n",
    "    \"12\": {\n",
    "        \"question\": \"Is the absolute impact on climate stability greater from implementing a CFC ban than from increasing public awareness of climate issues under strong environmental policies?\",\n",
    "        \"answer\": \"no\",\n",
    "        \"claim\": \"Under strong environmental policies, the absolute impact on climate stability is not greater from implementing a CFC ban compared to increasing public awareness.\"\n",
    "    },\n",
    "    \"13\": {\n",
    "        \"question\": \"Does increasing public awareness of climate issues have a greater positive impact on climate stability under strong environmental policies than under weak ones?\",\n",
    "        \"answer\": \"yes\",\n",
    "        \"claim\": \"Increasing public awareness of climate issues has a greater positive impact on climate stability under strong environmental policies than under weak ones.\"\n",
    "    },\n",
    "    \"14\": {\n",
    "        \"question\": \"Is the absolute impact on climate stability from increasing public awareness of climate issues greater under strong environmental policies than under weak ones?\",\n",
    "        \"answer\": \"yes\",\n",
    "        \"claim\": \"The absolute impact on climate stability from increasing public awareness is greater under strong environmental policies than under weak ones.\"\n",
    "    },\n",
    "    \"15\": {\n",
    "        \"question\": \"Does implementing a CFC ban have a lesser positive impact on climate stability under strong environmental policies compared to weak ones?\",\n",
    "        \"answer\": \"yes\",\n",
    "        \"claim\": \"Implementing a CFC ban has a lesser positive impact on climate stability under strong environmental policies compared to weak ones.\"\n",
    "    },\n",
    "    \"16\": {\n",
    "        \"question\": \"Is the absolute impact on climate stability from implementing a CFC ban smaller under strong environmental policies than under weak ones?\",\n",
    "        \"answer\": \"yes\",\n",
    "        \"claim\": \"The absolute impact on climate stability from implementing a CFC ban is smaller under strong environmental policies than under weak ones.\"\n",
    "    },\n",
    "    \"17\": {\n",
    "        \"question\": \"In the context of low industrial growth, does increasing public awareness of climate issues generally lead to better climate stability?\",\n",
    "        \"answer\": \"yes\",\n",
    "        \"claim\": \"Increasing public awareness of climate issues leads to better climate stability, especially in the context of low industrial growth.\"\n",
    "    },\n",
    "    \"18\": {\n",
    "        \"question\": \"When industrial growth is low, does implementing a CFC ban typically improve climate stability?\",\n",
    "        \"answer\": \"yes\",\n",
    "        \"claim\": \"Implementing a CFC ban tends to improve climate stability, particularly when industrial growth is low.\"\n",
    "    },\n",
    "    \"19\": {\n",
    "        \"question\": \"Under low industrial growth, is the positive impact on climate stability greater from implementing a CFC ban than from increasing public awareness of climate issues?\",\n",
    "        \"answer\": \"yes\",\n",
    "        \"claim\": \"Under low industrial growth, the positive impact on climate stability is greater from implementing a CFC ban than from increasing public awareness.\"\n",
    "    },\n",
    "    \"20\": {\n",
    "        \"question\": \"Is the absolute impact on climate stability smaller from increasing public awareness of climate issues than from implementing a CFC ban under low industrial growth?\",\n",
    "        \"answer\": \"yes\",\n",
    "        \"claim\": \"Under low industrial growth, the absolute impact on climate stability is smaller from increasing public awareness compared to implementing a CFC ban.\"\n",
    "    },\n",
    "    \"21\": {\n",
    "        \"question\": \"In the context of high industrial growth, does increasing public awareness of climate issues tend to lead to worse outcomes for climate stability?\",\n",
    "        \"answer\": \"no\",\n",
    "        \"claim\": \"Even under high industrial growth, increasing public awareness of climate issues does not lead to worse outcomes for climate stability.\"\n",
    "    },\n",
    "    \"22\": {\n",
    "        \"question\": \"When industrial growth is high, does implementing a CFC ban typically improve climate stability?\",\n",
    "        \"answer\": \"yes\",\n",
    "        \"claim\": \"Implementing a CFC ban tends to improve climate stability, especially when industrial growth is high.\"\n",
    "    },\n",
    "    \"23\": {\n",
    "        \"question\": \"Under high industrial growth, is the positive impact on climate stability greater from implementing a CFC ban than from increasing public awareness of climate issues?\",\n",
    "        \"answer\": \"yes\",\n",
    "        \"claim\": \"Under high industrial growth, the positive impact on climate stability is greater from implementing a CFC ban than from increasing public awareness.\"\n",
    "    },\n",
    "    \"24\": {\n",
    "        \"question\": \"Is the absolute impact on climate stability greater from implementing a CFC ban than from increasing public awareness of climate issues under high industrial growth?\",\n",
    "        \"answer\": \"yes\",\n",
    "        \"claim\": \"Under high industrial growth, the absolute impact on climate stability is greater from implementing a CFC ban compared to increasing public awareness.\"\n",
    "    },\n",
    "    \"25\": {\n",
    "        \"question\": \"Does increasing public awareness of climate issues have a greater positive impact on climate stability under high industrial growth than under low growth?\",\n",
    "        \"answer\": \"yes\",\n",
    "        \"claim\": \"Increasing public awareness of climate issues has a greater positive impact on climate stability under high industrial growth than under low growth.\"\n",
    "    },\n",
    "    \"26\": {\n",
    "        \"question\": \"Is the absolute impact on climate stability from increasing public awareness of climate issues greater under high industrial growth than under low growth?\",\n",
    "        \"answer\": \"yes\",\n",
    "        \"claim\": \"The absolute impact on climate stability from increasing public awareness is greater under high industrial growth than under low growth.\"\n",
    "    },\n",
    "    \"27\": {\n",
    "        \"question\": \"Does implementing a CFC ban have a lesser positive impact on climate stability under low industrial growth compared to high growth?\",\n",
    "        \"answer\": \"no\",\n",
    "        \"claim\": \"Implementing a CFC ban does not have a lesser positive impact on climate stability under low industrial growth compared to high growth.\"\n",
    "    },\n",
    "    \"28\": {\n",
    "        \"question\": \"Is the absolute impact on climate stability from implementing a CFC ban smaller under low industrial growth than under high growth?\",\n",
    "        \"answer\": \"no\",\n",
    "        \"claim\": \"The absolute impact on climate stability from implementing a CFC ban is not smaller under low industrial growth than under high growth.\"\n",
    "}}\n",
    "\n",
    "'''\n",
    "#################################################\n",
    "setting = json.loads(settings_raw)\n",
    "setting = [setting[str(i)] for i in range(1, len(setting)+1)]\n",
    "ctx['questions'] = setting"
   ],
   "metadata": {
    "collapsed": false,
    "ExecuteTime": {
     "end_time": "2024-01-19T10:27:11.753216469Z",
     "start_time": "2024-01-19T10:27:11.703207372Z"
    }
   },
   "id": "15ee584645d0a66d"
  },
  {
   "cell_type": "code",
   "execution_count": 275,
   "outputs": [],
   "source": [],
   "metadata": {
    "collapsed": false,
    "ExecuteTime": {
     "end_time": "2024-01-19T10:27:13.208256055Z",
     "start_time": "2024-01-19T10:27:13.166149650Z"
    }
   },
   "id": "19aa513e0b179ac4"
  },
  {
   "cell_type": "code",
   "execution_count": 276,
   "outputs": [
    {
     "data": {
      "text/plain": "'Ozone_Recovery_and_Climate_Change_Impact.json'"
     },
     "execution_count": 276,
     "metadata": {},
     "output_type": "execute_result"
    }
   ],
   "source": [
    "i = 0\n",
    "path = ctx._root / f'{ctx[\"motivation\"][\"title\"] if \"motivation\" in ctx else \"test\"}{i if i > 1 else \"\"}'\n",
    "while path.exists():\n",
    "    i += 1\n",
    "    path = ctx._root / f'{ctx[\"motivation\"][\"title\"] if \"motivation\" in ctx else \"test\"}{i if i > 1 else \"\"}'\n",
    "ctx.save(path.stem if ctx.story_id is None else ctx.story_id).name"
   ],
   "metadata": {
    "collapsed": false,
    "ExecuteTime": {
     "end_time": "2024-01-19T10:27:13.539073362Z",
     "start_time": "2024-01-19T10:27:13.502254414Z"
    }
   },
   "id": "6135ec55dcfc66cb"
  },
  {
   "cell_type": "code",
   "execution_count": null,
   "outputs": [],
   "source": [],
   "metadata": {
    "collapsed": false
   },
   "id": "74283ee029cef299"
  },
  {
   "cell_type": "code",
   "execution_count": null,
   "outputs": [],
   "source": [],
   "metadata": {
    "collapsed": false
   },
   "id": "7898714478f8ecbf"
  },
  {
   "cell_type": "code",
   "execution_count": null,
   "outputs": [],
   "source": [],
   "metadata": {
    "collapsed": false
   },
   "id": "b6436dbf1a4b3a4e"
  },
  {
   "cell_type": "code",
   "execution_count": null,
   "outputs": [],
   "source": [],
   "metadata": {
    "collapsed": false
   },
   "id": "e1ab83f0f02c3b51"
  },
  {
   "cell_type": "code",
   "execution_count": null,
   "id": "initial_id",
   "metadata": {
    "collapsed": true
   },
   "outputs": [],
   "source": []
  }
 ],
 "metadata": {
  "kernelspec": {
   "display_name": "Python 3",
   "language": "python",
   "name": "python3"
  },
  "language_info": {
   "codemirror_mode": {
    "name": "ipython",
    "version": 2
   },
   "file_extension": ".py",
   "mimetype": "text/x-python",
   "name": "python",
   "nbconvert_exporter": "python",
   "pygments_lexer": "ipython2",
   "version": "2.7.6"
  }
 },
 "nbformat": 4,
 "nbformat_minor": 5
}

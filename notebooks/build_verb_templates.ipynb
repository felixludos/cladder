{
 "cells": [
  {
   "cell_type": "code",
   "execution_count": 1,
   "id": "initial_id",
   "metadata": {
    "collapsed": true,
    "ExecuteTime": {
     "end_time": "2024-01-10T10:11:57.923025031Z",
     "start_time": "2024-01-10T10:11:55.381976067Z"
    }
   },
   "outputs": [],
   "source": [
    "from pathlib import Path\n",
    "from omnibelt import toposort, load_json, save_json, pformat, pformat_vars\n",
    "from itertools import product, combinations\n",
    "# import pyperclip\n",
    "import random\n",
    "from PIL import Image\n",
    "from graphviz import Digraph\n",
    "import matplotlib.pyplot as plt\n",
    "import io\n",
    "# import clipboard\n",
    "import networkx as nx\n",
    "from tqdm.notebook import tqdm\n",
    "from tabulate import tabulate\n",
    "import matplotlib.pyplot as plt\n",
    "import seaborn as sns\n",
    "from omniply import tool, ToolKit, Context\n",
    "\n",
    "import numpy as np\n",
    "import torch\n",
    "from causalbenchmark.novo.simulation.models import Bernoulli, ConditionalBernoulli, BernoulliNetwork\n",
    "from causalbenchmark.novo.seeding import NewsHeadlines, StatisticsPrompting, Story\n",
    "# from causalbenchmark.novo.seeding.prompting import GraphInfo\n",
    "from causalbenchmark.novo.templating import FixedTemplate, SimpleTemplater\n",
    "# from causalbenchmark.novo.verbalization import misc\n",
    "from causalbenchmark.novo import misc\n",
    "from causalbenchmark.novo.verbalization.decision import Decision\n",
    "from causalbenchmark.novo.templating import Template\n",
    "from causalbenchmark.novo.verbalization import Verbalizer, MarginalVerbalization, ConditionalVerbalization\n",
    "from causalbenchmark.novo.verbalization.variable import VariableVerbalization\n",
    "from causalbenchmark.novo.verbalization.flavors import PrecisePercent\n",
    "from causalbenchmark.novo.seeding.prompting import VerbalizationPrompting\n",
    "from causalbenchmark.novo.simulation.solvers import ATE_Sign"
   ]
  },
  {
   "cell_type": "code",
   "execution_count": 2,
   "outputs": [
    {
     "name": "stdout",
     "output_type": "stream",
     "text": [
      "[\"Larisa Kuklina's Performance and Injury Analysis\", 'Analyzing_the_Impact_of_Moon_New_Deal_Fund', 'Impact_of_SCGP_Deltalab_Acquisition_on_Revenue_Trends', 'Impact_of_Covid_on_Auto_Industry_Job_Market', 'Electra_SolarEnergyVenture_ImpactAnalysis', 'BelGee_Geely_Car_Production_Analysis', 'Impact_of_FDA_Menthol_Ban_on_Cigarette_Sales_and_Public_Health', 'Impact_of_Vrbetice_Compensation_on_Local_Economies_and_Living_Standards', 'Trend_Analysis_of_Retail_Sector_Lawsuits', 'Effectiveness_of_HPV_Self-Testing_in_Māori_Pasifika_Asian_Communities', 'Penguin_Populations_and_Climate_Change_Analysis', 'E-Bike Summer Sale Impact Analysis', 'NHS_Glasgow_Coronavirus_Outbreak_Impact_Study', 'Pandemic_Shopping_Trends_and_Parcel_Return_Rates_Analysis', 'Evaluating_Gogoro_Smart_Tram_Speed_Assist_Effectiveness', 'Impact_of_Child_Benefit_Payment_Timings_on_Household_Budgets_in_Greece', 'Oil_Price_Trends_and_Global_Economic_Indicators_Analysis', 'Impact_of_Benelux_Tour_on_Tour_of_Britain_Performance', 'Meteorite_Approach_Analysis_2024', 'China_2021_GDP_and_Inflation_Exploration', 'Italy_Economic_Trends_Analysis_2024', 'Impact_of_Deposit_on_Plastic_Bottle_Recycling', 'Impact_of_Chip_Costs_on_Consumer_Electronics_Prices', 'Impact_of_Huawei_5G_Royalties_on_Tech_Giants_Revenue', '2020_YoungInvestorsImpact_RobinhoodStocksAnalysis', 'Exploring_Argentinas_Dollar_Dilemma', 'Impact_of_Refurbished_Tech_on_Student_Performance_Milan', 'Impact_of_US_Sanctions_on_Hong_Kong_Financial_Institutions', 'Whistleblower_Retaliation_Patterns_Analysis', 'Understanding the Impact of Global Internet Outages on Online Services', 'Impact_of_Interest_Rate_Changes_on_Consumer_Loans_in_Turkey', 'Digital Transformation at Khalifa Port: Data-Driven Insights', 'UTI_Drug_Market_Trends_Analysis_2021-2026', 'Comet Fragment Explosion Impact Analysis - Adriatic Coast', 'PlayStation_5_Supply_Demand_Analysis_Netherlands']\n"
     ]
    }
   ],
   "source": [
    "path = misc.data_root() / 'stories'\n",
    "story_names = [p.stem for p in path.glob('*.json')]#[:1]\n",
    "print(story_names)"
   ],
   "metadata": {
    "collapsed": false,
    "ExecuteTime": {
     "end_time": "2024-01-10T10:11:57.927714663Z",
     "start_time": "2024-01-10T10:11:57.924732163Z"
    }
   },
   "id": "c2b29a486f9094f2"
  },
  {
   "cell_type": "code",
   "execution_count": 3,
   "outputs": [
    {
     "data": {
      "text/plain": "35",
      "image/png": "[encoded data removed]",
      "text/latex": "$\\displaystyle 35$"
     },
     "execution_count": 3,
     "metadata": {},
     "output_type": "execute_result"
    }
   ],
   "source": [
    "use_old_loading = False\n",
    "# story_names = [\n",
    "# \t# 'old/test19', 'old/test20', 'old/test21',\n",
    "# \t# 'Facebook-WallStreet_Trends_Post-Verdict1',\n",
    "# \t# 'RoyalFashionTrends_Analysis2',\n",
    "# \t# 'EU Gas Alliance and Inflation Trends',\n",
    "# \t\n",
    "# \t'Impact_of_Covid_on_Auto_Industry_Job_Market',\n",
    "# \t\n",
    "# ]\n",
    "stories = []\n",
    "for name in story_names:\n",
    "\tstory = Story(story_root=misc.data_root() / 'stories', story_id=name)#.populate_defaults()\n",
    "\tstories.append(story)\n",
    "\tif use_old_loading:\n",
    "\t\tstory['stats'] = {int(k): v for k, v in story['stats'].items()}\n",
    "\t\tstory['verbs'] = {k: {int(k2): v2 for k2, v2 in v.items()} for k, v in story['verbs'].items()}\n",
    "\t\tfor k, v in story['verbs'].items():\n",
    "\t\t\tfor k2, v2 in v.items():\n",
    "\t\t\t\tif 'value' in v2:\n",
    "\t\t\t\t\tv2['value'] = {int(k3): v3 for k3, v3 in v2['value'].items()}\n",
    "\t\tstory['questions']['questions'] = {int(k): v for k, v in story['questions']['questions'].items()}\n",
    "len(stories)"
   ],
   "metadata": {
    "collapsed": false,
    "ExecuteTime": {
     "end_time": "2024-01-10T10:11:58.360890830Z",
     "start_time": "2024-01-10T10:11:58.230408435Z"
    }
   },
   "id": "604bd583b4084ccd"
  },
  {
   "cell_type": "code",
   "execution_count": 4,
   "outputs": [],
   "source": [
    "def old_story_atoms(story):\n",
    "\tvarverbs = {}\n",
    "\tfor var, raw in story['verbs'].items():\n",
    "\t\tinfo = {'values': {0: {}, 1: {}}}\n",
    "\t\t\n",
    "\t\tinfo['variable'] = raw[1]['variable']\n",
    "\t\tinfo['subject'] = raw[2]['subject']\n",
    "\t\tinfo['domain'] = raw[4]['domain']\n",
    "\t\t\n",
    "\t\tfor i in [0, 1]:\n",
    "\t\t\tinfo_val = info['values'][i]\n",
    "\t\t\tinfo_val['verb'] = raw[2]['value'][i] # goes with subject\n",
    "\t\t\tinfo_val['phrase'] = raw[3]['value'][i]\n",
    "\t\t\tinfo_val['descriptor'] = raw[4]['value'][i] # goes with domain\n",
    "\t\t\tinfo_val['event'] = raw[5]['value'][i]\n",
    "\t\t\tinfo_val['conditional'] = raw[6]['value'][i]\n",
    "\t\t\tinfo_val['interventional'] = raw[7]['value'][i]\n",
    "\t\t\t\n",
    "\t\tvarverbs[var] = info\n",
    "\t\n",
    "\tstory['sheet'] = varverbs\n",
    "\treturn story\n",
    "\n",
    "def story_atoms(story):\n",
    "\tbase_keys = ['descriptor', 'subject', 'pronoun', 'preposition', 'domain']\n",
    "\tvalue_keys = ['predicate', 'nounclause', 'subclause', 'condition', 'action']\n",
    "\tverbs = []\n",
    "\tfor node in story['nodes']:\n",
    "\t\ttry:\n",
    "\t\t\traw = story['verbs'][node['name']]\n",
    "\t\texcept:\n",
    "\t\t\tprint(story['motivation']['title'])\n",
    "\t\t\traise\n",
    "\t\tinfo = {'values': {0: {}, 1: {}}}\n",
    "\t\tinfo.update({key: raw[key] for key in base_keys})\n",
    "\t\tfor i in [0, 1]:\n",
    "\t\t\tinfo_val = info['values'][i]\n",
    "\t\t\tinfo_val.update({key: raw[f'{key}{i}'] for key in value_keys})\n",
    "\t\t# node['verbs'] = info\n",
    "\t\tverbs.append(info)\n",
    "\tstory['verbs'] = verbs\n",
    "for story in stories:\n",
    "\t(old_story_atoms if use_old_loading else story_atoms)(story)"
   ],
   "metadata": {
    "collapsed": false,
    "ExecuteTime": {
     "end_time": "2024-01-10T10:11:59.783982954Z",
     "start_time": "2024-01-10T10:11:59.761539160Z"
    }
   },
   "id": "172e69abce303632"
  },
  {
   "cell_type": "code",
   "execution_count": 5,
   "outputs": [],
   "source": [
    "story = random.choice(stories)\n",
    "# story = stories[4]\n",
    "# rawverbs = story['verbs']\n",
    "# rawvars = {node['name']: node for node in story['nodes']}\n",
    "# next(iter(rawverbs.values()))"
   ],
   "metadata": {
    "collapsed": false,
    "ExecuteTime": {
     "end_time": "2024-01-10T10:12:00.443102105Z",
     "start_time": "2024-01-10T10:12:00.431894003Z"
    }
   },
   "id": "f02461335f55fce0"
  },
  {
   "cell_type": "code",
   "execution_count": 6,
   "outputs": [
    {
     "data": {
      "text/plain": "('Public Perception of Market Stability', 'Perceived as unstable')"
     },
     "execution_count": 6,
     "metadata": {},
     "output_type": "execute_result"
    }
   ],
   "source": [
    "node = random.choice(list(story['nodes']))\n",
    "varval = 0\n",
    "node['name'], node['values'][varval]"
   ],
   "metadata": {
    "collapsed": false,
    "ExecuteTime": {
     "end_time": "2024-01-10T10:12:00.868050337Z",
     "start_time": "2024-01-10T10:12:00.857973676Z"
    }
   },
   "id": "ad18af624f5ce543"
  },
  {
   "cell_type": "code",
   "execution_count": 7,
   "outputs": [],
   "source": [
    "def get_varverb(node, verb, varval, **static):\n",
    "\tvarverb = VariableVerbalization().populate_defaults().populate_variable({**node, **static}, verb, varval)\n",
    "\treturn varverb\n",
    "\n",
    "def sample_text(ident=None, *other_tools, **static):\n",
    "\tif ident is None:\n",
    "\t\tident = {}\n",
    "\tstory_id = ident.setdefault('story_id', random.randint(0,len(stories)-1))\n",
    "\tstory = stories[story_id]\n",
    "\t\n",
    "\tvar_id = ident.setdefault('var_id', random.randint(0,len(story['nodes'])-1))\n",
    "\t# varname = story['nodes'][var_id]['name']\n",
    "\tvarval = ident.setdefault('value_id', random.choice([0, 1]))\n",
    "\t\n",
    "\tvarverb = get_varverb(story['nodes'][var_id], story['verbs'][var_id], varval, **static)\n",
    "\n",
    "\tconditions = []\n",
    "\t\n",
    "\tparent_ids = {key: val for key, val in sorted(ident.items()) if key.startswith('parent_id')}\n",
    "\tif len(parent_ids) or ident.setdefault('num_parents', random.choice([0, 1, 2])):\n",
    "\t\tparent_idx_options = [i for i, node in enumerate(story['nodes']) if i != var_id]\n",
    "\t\tif not len(parent_ids):\n",
    "\t\t\tnum = ident.setdefault('num_parents', random.choice([0, 1, 2]))\n",
    "\t\t\tparent_ids = {f'parent_id{i}': pid for i, pid in enumerate(random.sample(parent_idx_options, k=num))}\n",
    "\t\t\n",
    "\t\tpvals = ident.setdefault('parent_vals', [random.randint(0, 1) for _ in range(len(parent_ids))])\n",
    "\t\tident['parent_vals'] = tuple(pvals)\n",
    "\t\tconditions = [get_varverb(story['nodes'][pid], story['verbs'][pid], pval) \n",
    "\t\t\t\t\t  for (key, pid), pval in zip(parent_ids.items(), pvals)]\n",
    "\t\tfor k, pid in parent_ids.items():\n",
    "\t\t\tident[k] = pid\n",
    "\t\n",
    "\tverbalizer = Verbalizer().populate_defaults().add_variable(varverb, *conditions)\n",
    "\tverbalizer.extend(other_tools)\n",
    "\tverbalizer.update(ident)\n",
    "\treturn verbalizer"
   ],
   "metadata": {
    "collapsed": false,
    "ExecuteTime": {
     "end_time": "2024-01-10T10:12:01.453847449Z",
     "start_time": "2024-01-10T10:12:01.441701067Z"
    }
   },
   "id": "37e1aaf88d56bd56"
  },
  {
   "cell_type": "code",
   "execution_count": 8,
   "outputs": [
    {
     "name": "stdout",
     "output_type": "stream",
     "text": [
      "i\n",
      "----------------------------------------------------------------------------------------------------------------------------------------------------------------------------------\n",
      "If the ecosystem is in good health, amidst 12% of Antarctic conditions, there is a lesser impact of climate change.\n",
      "The probability that the quality of care is compromised is 12%, provided that a hospital is inexperienced with pandemics and the hospital is well-funded.\n",
      "The likelihood that refurbished tech is not available to students is 12%.\n",
      "If Electra partners with SolarEdge, with a certainty of 12%, Electra's efforts in green energy are recognized.\n",
      "With a confidence of 12%, Argentina enjoys a stable economy.\n",
      "The probability that there is minimal worry among the populace is 12%.\n",
      "With a certainty of 12%, the launch has occurred, When there's a lack of contentment.\n",
      "The likelihood that there's a high level of confidence among shoppers is 12%, given that there is economic instability in Italy and there is no increase in industrial output.\n",
      "If there is ample financial flexibility, the chance that there is minimal concern for environmental matters is 12%.\n",
      "Among 12% of the population, there's little awareness of self-testing benefits.\n",
      "In times of economic instability, in 12% of the world, economic indicators are down globally.\n",
      "In times of geopolitical unrest and if oil market topics are a major focus in the media, with a confidence of 12%, investors are hesitant to invest.\n",
      "Provided that the athlete excels in shooting accuracy and an athlete does not show a decline in performance, with a confidence of 12%, an athlete suffers from a hand injury.\n",
      "When media spotlight is minimal and the United States has not imposed sanctions, the odds that economic indicators are positive are 12%.\n",
      "12% of the time the meteorite is visible to the public.\n",
      "When there is a rise in profit margins, 12% of the time the global economy is robust.\n",
      "Within 12% of the market, disposable income is limited.\n",
      "12% of the time the rider shows low attention.\n",
      "Within 12% of PS5 owners, there is disappointment, When gaming doesn't captivate the public and When the PS5 is easily accessible.\n",
      "12% of the time a student's academic history is impressive.\n",
      "Provided that there is no hand injury involved and the athlete excels in shooting accuracy, the chance that an athlete is mentally relaxed is 12%.\n",
      "The chance that there are no legal safeguards is 12%.\n",
      "When the lawsuit is widely covered in a positive light, with 12% of legal teams, legal representation is highly skilled.\n",
      "In 12% of court cases, the ruling is not in favor.\n",
      "There is a 12% chance that the hospital is operating on a tight budget, if staff are not fully prepared for pandemics and the hospital is experienced in managing pandemic crises.\n",
      "Given that China's domestic policies are facing setbacks and the growth rate is underwhelming, 12% of the time inflation stays below the usual level.\n",
      "12% of the time Electra expanded its operations to include a solar panel company.\n",
      "There is a 12% probability that the hospital faces financial constraints, if healthcare workers exhibit high morale and a hospital has previous pandemic experience.\n",
      "12% of the time public confidence in market stability is high.\n",
      "With 12% of legal cases, the legal strategy is forceful.\n"
     ]
    }
   ],
   "source": [
    "samples = []\n",
    "\n",
    "prior = {\n",
    "\t# 'story_id': 0,\n",
    "\t# 'var_id': 5,\n",
    "\t# 'value_id': 0,\n",
    "\t\n",
    "\t# 'clause_id': 0,\n",
    "\t# 'position_id': 3,\n",
    "\t\n",
    "\t# 'num_parents': 0,\n",
    "\t# 'parent_id1': 0,\n",
    "\t# 'parent_vals': [1],\n",
    "\t# 'parent_id2': 1,\n",
    "\t\n",
    "}\n",
    "\n",
    "others = [PrecisePercent()]\n",
    "\n",
    "for _ in range(30):\n",
    "\tident = prior.copy()\n",
    "\tctx = sample_text(ident, *others, mean=0.12)\n",
    "\ttext = ctx['sentence']\n",
    "\tident.update(ctx.identity())\n",
    "\tctx['ident'] = ident\n",
    "\tsamples.append(ctx)\n",
    "\n",
    "cols = []\n",
    "for row in samples:\n",
    "\tfor key in row['ident']:\n",
    "\t\tif key not in cols:\n",
    "\t\t\tcols.append(key)\n",
    "\n",
    "table = [(\n",
    "\t# i, len([k for k in row['ident'] if k not in prior]),\n",
    "\t\t  row['sentence'], \n",
    "\t\t  # row['ctx']['event'], row['ctx']['event'], row['ctx']['phrase'], row['ctx']['subject'], row['ctx']['verb'],  \n",
    "\t\t  # *[row['ident'].get(key, '-') for key in cols]\n",
    "\t\t  ) for i, row in enumerate(samples)]\n",
    "print(tabulate(table, headers=['i', 'dof', 'text', *cols]))# *list(map(str, range(len(cols))))]))"
   ],
   "metadata": {
    "collapsed": false,
    "ExecuteTime": {
     "end_time": "2024-01-10T10:12:02.268930227Z",
     "start_time": "2024-01-10T10:12:02.196801691Z"
    }
   },
   "id": "8790ba39976af0d6"
  },
  {
   "cell_type": "code",
   "execution_count": 32,
   "outputs": [
    {
     "ename": "IndexError",
     "evalue": "list index out of range",
     "output_type": "error",
     "traceback": [
      "\u001B[0;31m---------------------------------------------------------------------------\u001B[0m",
      "\u001B[0;31mIndexError\u001B[0m                                Traceback (most recent call last)",
      "Cell \u001B[0;32mIn[32], line 1\u001B[0m\n\u001B[0;32m----> 1\u001B[0m sample \u001B[38;5;241m=\u001B[39m \u001B[43msamples\u001B[49m\u001B[43m[\u001B[49m\u001B[38;5;241;43m0\u001B[39;49m\u001B[43m]\u001B[49m\n\u001B[1;32m      2\u001B[0m ident \u001B[38;5;241m=\u001B[39m sample[\u001B[38;5;124m'\u001B[39m\u001B[38;5;124mident\u001B[39m\u001B[38;5;124m'\u001B[39m]\n\u001B[1;32m      3\u001B[0m text \u001B[38;5;241m=\u001B[39m sample[\u001B[38;5;124m'\u001B[39m\u001B[38;5;124msentence\u001B[39m\u001B[38;5;124m'\u001B[39m]\n",
      "\u001B[0;31mIndexError\u001B[0m: list index out of range"
     ]
    }
   ],
   "source": [
    "sample = samples[0]\n",
    "ident = sample['ident']\n",
    "text = sample['sentence']\n",
    "\n",
    "print(text)\n",
    "print(ident)"
   ],
   "metadata": {
    "collapsed": false,
    "ExecuteTime": {
     "end_time": "2024-01-10T09:59:23.136855150Z",
     "start_time": "2024-01-10T09:59:23.105736985Z"
    }
   },
   "id": "9d0d64ebfd8f51cc"
  },
  {
   "cell_type": "code",
   "outputs": [],
   "source": [],
   "metadata": {
    "collapsed": false,
    "ExecuteTime": {
     "end_time": "2024-01-08T10:42:41.360220603Z",
     "start_time": "2024-01-08T10:42:41.344400503Z"
    }
   },
   "id": "6b34e86e4fbe3908",
   "execution_count": 19
  },
  {
   "cell_type": "code",
   "execution_count": 20,
   "outputs": [],
   "source": [
    "def to_prob_range(raw):\n",
    "    raw = [prange for _, prange in sorted(raw.items(), key=lambda item: int(item[0]))]\n",
    "    return torch.tensor(raw)\n",
    "\n",
    "prob_ranges = to_prob_range(story['stats'])\n",
    "lower_bound, upper_bound = prob_ranges.t()\n",
    "\n",
    "net = BernoulliNetwork({node['name']: node['parents'] for node in story['nodes']})\n",
    "\n",
    "param_sample = torch.rand(len(prob_ranges)) * (upper_bound - lower_bound) + lower_bound\n",
    "net.set_params(param_sample)"
   ],
   "metadata": {
    "collapsed": false,
    "ExecuteTime": {
     "end_time": "2024-01-08T10:42:41.786676785Z",
     "start_time": "2024-01-08T10:42:41.760608392Z"
    }
   },
   "id": "590214f6e522c441"
  },
  {
   "cell_type": "code",
   "outputs": [
    {
     "ename": "ValueError",
     "evalue": "Could not save to JPEG for display",
     "output_type": "error",
     "traceback": [
      "\u001B[0;31m---------------------------------------------------------------------------\u001B[0m",
      "\u001B[0;31mKeyError\u001B[0m                                  Traceback (most recent call last)",
      "File \u001B[0;32m~/miniconda3/lib/python3.11/site-packages/PIL/JpegImagePlugin.py:639\u001B[0m, in \u001B[0;36m_save\u001B[0;34m(im, fp, filename)\u001B[0m\n\u001B[1;32m    638\u001B[0m \u001B[38;5;28;01mtry\u001B[39;00m:\n\u001B[0;32m--> 639\u001B[0m     rawmode \u001B[38;5;241m=\u001B[39m \u001B[43mRAWMODE\u001B[49m\u001B[43m[\u001B[49m\u001B[43mim\u001B[49m\u001B[38;5;241;43m.\u001B[39;49m\u001B[43mmode\u001B[49m\u001B[43m]\u001B[49m\n\u001B[1;32m    640\u001B[0m \u001B[38;5;28;01mexcept\u001B[39;00m \u001B[38;5;167;01mKeyError\u001B[39;00m \u001B[38;5;28;01mas\u001B[39;00m e:\n",
      "\u001B[0;31mKeyError\u001B[0m: 'RGBA'",
      "\nThe above exception was the direct cause of the following exception:\n",
      "\u001B[0;31mOSError\u001B[0m                                   Traceback (most recent call last)",
      "File \u001B[0;32m~/miniconda3/lib/python3.11/site-packages/PIL/Image.py:643\u001B[0m, in \u001B[0;36mImage._repr_image\u001B[0;34m(self, image_format, **kwargs)\u001B[0m\n\u001B[1;32m    642\u001B[0m \u001B[38;5;28;01mtry\u001B[39;00m:\n\u001B[0;32m--> 643\u001B[0m     \u001B[38;5;28;43mself\u001B[39;49m\u001B[38;5;241;43m.\u001B[39;49m\u001B[43msave\u001B[49m\u001B[43m(\u001B[49m\u001B[43mb\u001B[49m\u001B[43m,\u001B[49m\u001B[43m \u001B[49m\u001B[43mimage_format\u001B[49m\u001B[43m,\u001B[49m\u001B[43m \u001B[49m\u001B[38;5;241;43m*\u001B[39;49m\u001B[38;5;241;43m*\u001B[39;49m\u001B[43mkwargs\u001B[49m\u001B[43m)\u001B[49m\n\u001B[1;32m    644\u001B[0m \u001B[38;5;28;01mexcept\u001B[39;00m \u001B[38;5;167;01mException\u001B[39;00m \u001B[38;5;28;01mas\u001B[39;00m e:\n",
      "File \u001B[0;32m~/miniconda3/lib/python3.11/site-packages/PIL/Image.py:2413\u001B[0m, in \u001B[0;36mImage.save\u001B[0;34m(self, fp, format, **params)\u001B[0m\n\u001B[1;32m   2412\u001B[0m \u001B[38;5;28;01mtry\u001B[39;00m:\n\u001B[0;32m-> 2413\u001B[0m     \u001B[43msave_handler\u001B[49m\u001B[43m(\u001B[49m\u001B[38;5;28;43mself\u001B[39;49m\u001B[43m,\u001B[49m\u001B[43m \u001B[49m\u001B[43mfp\u001B[49m\u001B[43m,\u001B[49m\u001B[43m \u001B[49m\u001B[43mfilename\u001B[49m\u001B[43m)\u001B[49m\n\u001B[1;32m   2414\u001B[0m \u001B[38;5;28;01mexcept\u001B[39;00m \u001B[38;5;167;01mException\u001B[39;00m:\n",
      "File \u001B[0;32m~/miniconda3/lib/python3.11/site-packages/PIL/JpegImagePlugin.py:642\u001B[0m, in \u001B[0;36m_save\u001B[0;34m(im, fp, filename)\u001B[0m\n\u001B[1;32m    641\u001B[0m     msg \u001B[38;5;241m=\u001B[39m \u001B[38;5;124mf\u001B[39m\u001B[38;5;124m\"\u001B[39m\u001B[38;5;124mcannot write mode \u001B[39m\u001B[38;5;132;01m{\u001B[39;00mim\u001B[38;5;241m.\u001B[39mmode\u001B[38;5;132;01m}\u001B[39;00m\u001B[38;5;124m as JPEG\u001B[39m\u001B[38;5;124m\"\u001B[39m\n\u001B[0;32m--> 642\u001B[0m     \u001B[38;5;28;01mraise\u001B[39;00m \u001B[38;5;167;01mOSError\u001B[39;00m(msg) \u001B[38;5;28;01mfrom\u001B[39;00m \u001B[38;5;21;01me\u001B[39;00m\n\u001B[1;32m    644\u001B[0m info \u001B[38;5;241m=\u001B[39m im\u001B[38;5;241m.\u001B[39mencoderinfo\n",
      "\u001B[0;31mOSError\u001B[0m: cannot write mode RGBA as JPEG",
      "\nThe above exception was the direct cause of the following exception:\n",
      "\u001B[0;31mValueError\u001B[0m                                Traceback (most recent call last)",
      "File \u001B[0;32m~/miniconda3/lib/python3.11/site-packages/IPython/core/formatters.py:344\u001B[0m, in \u001B[0;36mBaseFormatter.__call__\u001B[0;34m(self, obj)\u001B[0m\n\u001B[1;32m    342\u001B[0m     method \u001B[38;5;241m=\u001B[39m get_real_method(obj, \u001B[38;5;28mself\u001B[39m\u001B[38;5;241m.\u001B[39mprint_method)\n\u001B[1;32m    343\u001B[0m     \u001B[38;5;28;01mif\u001B[39;00m method \u001B[38;5;129;01mis\u001B[39;00m \u001B[38;5;129;01mnot\u001B[39;00m \u001B[38;5;28;01mNone\u001B[39;00m:\n\u001B[0;32m--> 344\u001B[0m         \u001B[38;5;28;01mreturn\u001B[39;00m \u001B[43mmethod\u001B[49m\u001B[43m(\u001B[49m\u001B[43m)\u001B[49m\n\u001B[1;32m    345\u001B[0m     \u001B[38;5;28;01mreturn\u001B[39;00m \u001B[38;5;28;01mNone\u001B[39;00m\n\u001B[1;32m    346\u001B[0m \u001B[38;5;28;01melse\u001B[39;00m:\n",
      "File \u001B[0;32m~/miniconda3/lib/python3.11/site-packages/PIL/Image.py:661\u001B[0m, in \u001B[0;36mImage._repr_jpeg_\u001B[0;34m(self)\u001B[0m\n\u001B[1;32m    656\u001B[0m \u001B[38;5;28;01mdef\u001B[39;00m \u001B[38;5;21m_repr_jpeg_\u001B[39m(\u001B[38;5;28mself\u001B[39m):\n\u001B[1;32m    657\u001B[0m \u001B[38;5;250m    \u001B[39m\u001B[38;5;124;03m\"\"\"iPython display hook support for JPEG format.\u001B[39;00m\n\u001B[1;32m    658\u001B[0m \n\u001B[1;32m    659\u001B[0m \u001B[38;5;124;03m    :returns: JPEG version of the image as bytes\u001B[39;00m\n\u001B[1;32m    660\u001B[0m \u001B[38;5;124;03m    \"\"\"\u001B[39;00m\n\u001B[0;32m--> 661\u001B[0m     \u001B[38;5;28;01mreturn\u001B[39;00m \u001B[38;5;28;43mself\u001B[39;49m\u001B[38;5;241;43m.\u001B[39;49m\u001B[43m_repr_image\u001B[49m\u001B[43m(\u001B[49m\u001B[38;5;124;43m\"\u001B[39;49m\u001B[38;5;124;43mJPEG\u001B[39;49m\u001B[38;5;124;43m\"\u001B[39;49m\u001B[43m)\u001B[49m\n",
      "File \u001B[0;32m~/miniconda3/lib/python3.11/site-packages/PIL/Image.py:646\u001B[0m, in \u001B[0;36mImage._repr_image\u001B[0;34m(self, image_format, **kwargs)\u001B[0m\n\u001B[1;32m    644\u001B[0m \u001B[38;5;28;01mexcept\u001B[39;00m \u001B[38;5;167;01mException\u001B[39;00m \u001B[38;5;28;01mas\u001B[39;00m e:\n\u001B[1;32m    645\u001B[0m     msg \u001B[38;5;241m=\u001B[39m \u001B[38;5;124mf\u001B[39m\u001B[38;5;124m\"\u001B[39m\u001B[38;5;124mCould not save to \u001B[39m\u001B[38;5;132;01m{\u001B[39;00mimage_format\u001B[38;5;132;01m}\u001B[39;00m\u001B[38;5;124m for display\u001B[39m\u001B[38;5;124m\"\u001B[39m\n\u001B[0;32m--> 646\u001B[0m     \u001B[38;5;28;01mraise\u001B[39;00m \u001B[38;5;167;01mValueError\u001B[39;00m(msg) \u001B[38;5;28;01mfrom\u001B[39;00m \u001B[38;5;21;01me\u001B[39;00m\n\u001B[1;32m    647\u001B[0m \u001B[38;5;28;01mreturn\u001B[39;00m b\u001B[38;5;241m.\u001B[39mgetvalue()\n",
      "\u001B[0;31mValueError\u001B[0m: Could not save to JPEG for display"
     ]
    },
    {
     "data": {
      "text/plain": "<PIL.PngImagePlugin.PngImageFile image mode=RGBA size=1248x347>",
      "image/png": "[encoded data removed]"
     },
     "execution_count": 21,
     "metadata": {},
     "output_type": "execute_result"
    }
   ],
   "source": [
    "dot = Digraph(comment='Causal Model')\n",
    "node_styles = {\n",
    "    \"treatment\": {\"shape\": \"ellipse\", \"style\": \"filled\", \"color\": \"lightpink\"},\n",
    "    \"outcome\": {\"shape\": \"ellipse\", \"style\": \"filled\", \"color\": \"lightgreen\"},\n",
    "    \"confounder\": {\"shape\": \"diamond\", \"style\": \"filled\", \"color\": \"lightblue\"},\n",
    "    \"mediator\": {\"shape\": \"box\", \"style\": \"filled\", \"color\": \"lightyellow\"},\n",
    "    \"collider\": {\"shape\": \"box\", \"style\": \"filled\", \"color\": \"lightgray\"}\n",
    "}\n",
    "for node in story['nodes']:\n",
    "    style = node_styles.get(node[\"type\"], {\"shape\": \"ellipse\"})\n",
    "    dot.node(node[\"name\"], node[\"name\"], **style)\n",
    "for node in story['nodes']:\n",
    "    for parent in node[\"parents\"]:\n",
    "        dot.edge(parent, node[\"name\"])\n",
    "# dot.view()\n",
    "dot.render(str(misc.temp_root() / 'graph'), format='png')\n",
    "Image.open(misc.temp_root() / 'graph.png')"
   ],
   "metadata": {
    "collapsed": false,
    "ExecuteTime": {
     "end_time": "2024-01-08T10:42:42.287149529Z",
     "start_time": "2024-01-08T10:42:42.176863328Z"
    }
   },
   "id": "8f74afce1e1044dd",
   "execution_count": 21
  },
  {
   "cell_type": "code",
   "execution_count": 22,
   "outputs": [
    {
     "data": {
      "text/plain": "(['Marketing Intensity', 'E-bike Price Reduction'],\n 'E-bike Popularity Increase')"
     },
     "execution_count": 22,
     "metadata": {},
     "output_type": "execute_result"
    }
   ],
   "source": [
    "treatments = [v['name'] for v in story['nodes'] if v['type'] == 'treatment']\n",
    "outcome = [v['name'] for v in story['nodes'] if v['type'] == 'outcome'][0]\n",
    "treatments, outcome"
   ],
   "metadata": {
    "collapsed": false,
    "ExecuteTime": {
     "end_time": "2024-01-08T10:43:06.316063856Z",
     "start_time": "2024-01-08T10:43:06.257239371Z"
    }
   },
   "id": "dab89b6055391c8d"
  },
  {
   "cell_type": "code",
   "outputs": [],
   "source": [
    "treatment = treatments[0]"
   ],
   "metadata": {
    "collapsed": false,
    "ExecuteTime": {
     "end_time": "2024-01-08T10:43:07.421789851Z",
     "start_time": "2024-01-08T10:43:07.389747879Z"
    }
   },
   "id": "5ea5c57e41002550",
   "execution_count": 23
  },
  {
   "cell_type": "code",
   "outputs": [
    {
     "name": "stderr",
     "output_type": "stream",
     "text": [
      "/home/fleeb/miniconda3/lib/python3.11/site-packages/torch/masked/maskedtensor/core.py:156: UserWarning: The PyTorch API of MaskedTensors is in prototype stage and will change in the near future. Please open a Github issue for features requests and see our documentation on the torch.masked module for further information about the project.\n",
      "  warnings.warn((\"The PyTorch API of MaskedTensors is in prototype stage \"\n"
     ]
    },
    {
     "data": {
      "text/plain": "tensor(0.3787)"
     },
     "execution_count": 24,
     "metadata": {},
     "output_type": "execute_result"
    }
   ],
   "source": [
    "net.marginals()[outcome]"
   ],
   "metadata": {
    "collapsed": false,
    "ExecuteTime": {
     "end_time": "2024-01-08T10:43:07.922208977Z",
     "start_time": "2024-01-08T10:43:07.885921496Z"
    }
   },
   "id": "3d06199b7d0414e1",
   "execution_count": 24
  },
  {
   "cell_type": "code",
   "outputs": [
    {
     "data": {
      "text/plain": "[p(Marketing Intensity=0.45),\n p(Environmental Awareness=0.63),\n p(Disposable Income=0.51),\n p(E-bike Price Reduction | Environmental Awareness, Disposable Income),\n p(Consumer Interest in E-bikes | Environmental Awareness),\n p(Retailer Stock Availability | Disposable Income),\n p(E-bike Popularity Increase | E-bike Price Reduction, Marketing Intensity, Consumer Interest in E-bikes, Retailer Stock Availability),\n p(Social Media Engagement | E-bike Popularity Increase, Marketing Intensity)]"
     },
     "execution_count": 25,
     "metadata": {},
     "output_type": "execute_result"
    }
   ],
   "source": [
    "net.vars"
   ],
   "metadata": {
    "collapsed": false,
    "ExecuteTime": {
     "end_time": "2024-01-08T10:43:09.331730870Z",
     "start_time": "2024-01-08T10:43:09.295778088Z"
    }
   },
   "id": "273c26acbbbd30ca",
   "execution_count": 25
  },
  {
   "cell_type": "code",
   "outputs": [
    {
     "data": {
      "text/plain": "(tensor(0.3863), tensor(0.5006))"
     },
     "execution_count": 12,
     "metadata": {},
     "output_type": "execute_result"
    }
   ],
   "source": [
    "net.marginals(**{treatment: 0})[outcome], net.marginals(**{treatment: 1})[outcome]"
   ],
   "metadata": {
    "collapsed": false,
    "ExecuteTime": {
     "end_time": "2024-01-04T17:14:03.273930324Z",
     "start_time": "2024-01-04T17:14:03.247225068Z"
    }
   },
   "id": "4e05d793b7f99b05",
   "execution_count": 12
  },
  {
   "cell_type": "code",
   "outputs": [
    {
     "data": {
      "text/plain": "(tensor(0.3685), tensor(0.9691), tensor(0.5848), tensor(0.5853))"
     },
     "execution_count": 13,
     "metadata": {},
     "output_type": "execute_result"
    }
   ],
   "source": [
    "net.marginals(**{treatment: 0, outcome: 0})['Social Media Engagement'], net.marginals(**{treatment: 1, outcome: 0})['Social Media Engagement'], net.marginals(**{treatment: 0, outcome: 1})['Social Media Engagement'], net.marginals(**{treatment: 1, outcome: 1})['Social Media Engagement']"
   ],
   "metadata": {
    "collapsed": false,
    "ExecuteTime": {
     "end_time": "2024-01-04T17:14:06.236358108Z",
     "start_time": "2024-01-04T17:14:06.174590115Z"
    }
   },
   "id": "d502a976fd201d3e",
   "execution_count": 13
  },
  {
   "cell_type": "code",
   "outputs": [
    {
     "name": "stderr",
     "output_type": "stream",
     "text": [
      "/home/fleeb/workspace/code/cladder/causalbenchmark/novo/simulation/models.py:197: UserWarning: To copy construct from a tensor, it is recommended to use sourceTensor.clone().detach() or sourceTensor.clone().detach().requires_grad_(True), rather than torch.tensor(sourceTensor).\n",
      "  probs = torch.tensor(probs).float()\n"
     ]
    },
    {
     "data": {
      "text/plain": "tensor(0.1218)"
     },
     "execution_count": 14,
     "metadata": {},
     "output_type": "execute_result"
    }
   ],
   "source": [
    "net.ate(treatment)[outcome]"
   ],
   "metadata": {
    "collapsed": false,
    "ExecuteTime": {
     "end_time": "2024-01-04T17:14:13.537674126Z",
     "start_time": "2024-01-04T17:14:13.481205936Z"
    }
   },
   "id": "75702906757bfc8a",
   "execution_count": 14
  },
  {
   "cell_type": "code",
   "outputs": [],
   "source": [
    "neti1 = net.intervene(**{treatment: 1})\n",
    "neti0 = net.intervene(**{treatment: 0})"
   ],
   "metadata": {
    "collapsed": false,
    "ExecuteTime": {
     "end_time": "2024-01-04T17:14:16.121672620Z",
     "start_time": "2024-01-04T17:14:16.095035668Z"
    }
   },
   "id": "c4948b2f94a50840",
   "execution_count": 15
  },
  {
   "cell_type": "code",
   "outputs": [
    {
     "data": {
      "text/plain": "(tensor(0.4392), tensor(0.3174))"
     },
     "execution_count": 16,
     "metadata": {},
     "output_type": "execute_result"
    }
   ],
   "source": [
    "neti1.marginals()[outcome], neti0.marginals()[outcome]"
   ],
   "metadata": {
    "collapsed": false,
    "ExecuteTime": {
     "end_time": "2024-01-04T17:14:16.717754272Z",
     "start_time": "2024-01-04T17:14:16.672443950Z"
    }
   },
   "id": "8a60cbdfa224d738",
   "execution_count": 16
  },
  {
   "cell_type": "code",
   "outputs": [
    {
     "data": {
      "text/plain": "(tensor(0.5006), tensor(0.3863))"
     },
     "execution_count": 17,
     "metadata": {},
     "output_type": "execute_result"
    }
   ],
   "source": [
    "net.marginals(**{treatment: 1})[outcome], net.marginals(**{treatment: 0})[outcome]"
   ],
   "metadata": {
    "collapsed": false,
    "ExecuteTime": {
     "end_time": "2024-01-04T17:14:17.219219037Z",
     "start_time": "2024-01-04T17:14:17.191588058Z"
    }
   },
   "id": "3ff89ece25ad6c6a",
   "execution_count": 17
  },
  {
   "cell_type": "code",
   "outputs": [
    {
     "data": {
      "text/plain": "(tensor(0.4392), tensor(0.3174))"
     },
     "execution_count": 18,
     "metadata": {},
     "output_type": "execute_result"
    }
   ],
   "source": [
    "neti1.marginals(**{treatment: 1})[outcome], neti0.marginals(**{treatment: 0})[outcome]"
   ],
   "metadata": {
    "collapsed": false,
    "ExecuteTime": {
     "end_time": "2024-01-04T17:14:20.552769109Z",
     "start_time": "2024-01-04T17:14:20.513768430Z"
    }
   },
   "id": "91e8d0ab8eaec317",
   "execution_count": 18
  },
  {
   "cell_type": "code",
   "outputs": [
    {
     "data": {
      "text/plain": "(tensor(0.4392), tensor(0.3174))"
     },
     "execution_count": 24,
     "metadata": {},
     "output_type": "execute_result"
    }
   ],
   "source": [
    "neti1.marginals()[outcome], neti0.marginals()[outcome]"
   ],
   "metadata": {
    "collapsed": false,
    "ExecuteTime": {
     "end_time": "2024-01-04T17:15:20.728569554Z",
     "start_time": "2024-01-04T17:15:20.685166034Z"
    }
   },
   "id": "89ea7f663112199f",
   "execution_count": 24
  },
  {
   "cell_type": "code",
   "outputs": [
    {
     "data": {
      "text/plain": "[p(E-bike Price Reduction | Environmental Awareness, Disposable Income),\n p(Marketing Intensity=1),\n p(Consumer Interest in E-bikes | Environmental Awareness),\n p(Retailer Stock Availability | Disposable Income)]"
     },
     "execution_count": 19,
     "metadata": {},
     "output_type": "execute_result"
    }
   ],
   "source": [
    "neti1.vars[-2].parents"
   ],
   "metadata": {
    "collapsed": false,
    "ExecuteTime": {
     "end_time": "2024-01-04T17:14:29.354498737Z",
     "start_time": "2024-01-04T17:14:29.321722847Z"
    }
   },
   "id": "1ccb3e01ebc5dc12",
   "execution_count": 19
  },
  {
   "cell_type": "code",
   "outputs": [
    {
     "data": {
      "text/plain": "tensor([[[[0.1575, 0.2312],\n          [0.2334, 0.3272]],\n\n         [[0.2839, 0.3882],\n          [0.3650, 0.4809]]],\n\n\n        [[[0.3339, 0.4676],\n          [0.4323, 0.5058]],\n\n         [[0.4116, 0.5943],\n          [0.5307, 0.6017]]]])"
     },
     "execution_count": 20,
     "metadata": {},
     "output_type": "execute_result"
    }
   ],
   "source": [
    "net.vars[-2].param"
   ],
   "metadata": {
    "collapsed": false,
    "ExecuteTime": {
     "end_time": "2024-01-04T17:14:36.283583585Z",
     "start_time": "2024-01-04T17:14:36.237545449Z"
    }
   },
   "id": "e9730619b68ea2bc",
   "execution_count": 20
  },
  {
   "cell_type": "code",
   "outputs": [
    {
     "data": {
      "text/plain": "tensor([0.5866, 0.4134, 0.4176, 0.5824, 0.4669, 0.5331, 0.7846, 0.2154, 0.6404,\n        0.3596, 0.5293, 0.4707, 0.3829, 0.6171, 0.6768, 0.3232, 0.3994, 0.6006,\n        0.7866, 0.2134, 0.3695, 0.6305, 0.8425, 0.1575, 0.7688, 0.2312, 0.7666,\n        0.2334, 0.6728, 0.3272, 0.7161, 0.2839, 0.6118, 0.3882, 0.6350, 0.3650,\n        0.5191, 0.4809, 0.6661, 0.3339, 0.5324, 0.4676, 0.5677, 0.4323, 0.4942,\n        0.5058, 0.5884, 0.4116, 0.4057, 0.5943, 0.4693, 0.5307, 0.3983, 0.6017,\n        0.7258, 0.2742, 0.6448, 0.3552, 0.5375, 0.4625, 0.4810, 0.5190])"
     },
     "execution_count": 21,
     "metadata": {},
     "output_type": "execute_result"
    }
   ],
   "source": [
    "net.get_params()"
   ],
   "metadata": {
    "collapsed": false,
    "ExecuteTime": {
     "end_time": "2024-01-04T17:14:37.863786642Z",
     "start_time": "2024-01-04T17:14:37.856003992Z"
    }
   },
   "id": "c7a1f80e169df228",
   "execution_count": 21
  },
  {
   "cell_type": "code",
   "outputs": [
    {
     "data": {
      "text/plain": "tensor([1.0000, 0.0000, 0.4176, 0.5824, 0.4669, 0.5331, 0.7846, 0.2154, 0.6404,\n        0.3596, 0.5293, 0.4707, 0.3829, 0.6171, 0.6768, 0.3232, 0.3994, 0.6006,\n        0.7866, 0.2134, 0.3695, 0.6305, 0.8425, 0.1575, 0.7688, 0.2312, 0.7666,\n        0.2334, 0.6728, 0.3272, 0.7161, 0.2839, 0.6118, 0.3882, 0.6350, 0.3650,\n        0.5191, 0.4809, 0.6661, 0.3339, 0.5324, 0.4676, 0.5677, 0.4323, 0.4942,\n        0.5058, 0.5884, 0.4116, 0.4057, 0.5943, 0.4693, 0.5307, 0.3983, 0.6017,\n        0.7258, 0.2742, 0.6448, 0.3552, 0.5375, 0.4625, 0.4810, 0.5190])"
     },
     "execution_count": 22,
     "metadata": {},
     "output_type": "execute_result"
    }
   ],
   "source": [
    "neti0.get_params()"
   ],
   "metadata": {
    "collapsed": false,
    "ExecuteTime": {
     "end_time": "2024-01-04T17:14:38.696682845Z",
     "start_time": "2024-01-04T17:14:38.687184391Z"
    }
   },
   "id": "cbe59dd4e452e702",
   "execution_count": 22
  },
  {
   "cell_type": "code",
   "outputs": [
    {
     "data": {
      "text/plain": "tensor([0.0000, 1.0000, 0.4176, 0.5824, 0.4669, 0.5331, 0.7846, 0.2154, 0.6404,\n        0.3596, 0.5293, 0.4707, 0.3829, 0.6171, 0.6768, 0.3232, 0.3994, 0.6006,\n        0.7866, 0.2134, 0.3695, 0.6305, 0.8425, 0.1575, 0.7688, 0.2312, 0.7666,\n        0.2334, 0.6728, 0.3272, 0.7161, 0.2839, 0.6118, 0.3882, 0.6350, 0.3650,\n        0.5191, 0.4809, 0.6661, 0.3339, 0.5324, 0.4676, 0.5677, 0.4323, 0.4942,\n        0.5058, 0.5884, 0.4116, 0.4057, 0.5943, 0.4693, 0.5307, 0.3983, 0.6017,\n        0.7258, 0.2742, 0.6448, 0.3552, 0.5375, 0.4625, 0.4810, 0.5190])"
     },
     "execution_count": 23,
     "metadata": {},
     "output_type": "execute_result"
    }
   ],
   "source": [
    "neti1.get_params()"
   ],
   "metadata": {
    "collapsed": false,
    "ExecuteTime": {
     "end_time": "2024-01-04T17:14:40.394242651Z",
     "start_time": "2024-01-04T17:14:40.373336523Z"
    }
   },
   "id": "2a8fd55a2f0b4ffd",
   "execution_count": 23
  },
  {
   "cell_type": "code",
   "outputs": [
    {
     "data": {
      "text/plain": "p(Social Media Engagement | E-bike Popularity Increase, Marketing Intensity) p(E-bike Popularity Increase | E-bike Price Reduction, Marketing Intensity, Consumer Interest in E-bikes, Retailer Stock Availability) p(Retailer Stock Availability | Disposable Income) p(Consumer Interest in E-bikes | Environmental Awareness) p(E-bike Price Reduction | Environmental Awareness, Disposable Income) p(Disposable Income=0.56) p(Environmental Awareness=0.66) p(Marketing Intensity=1)"
     },
     "execution_count": 140,
     "metadata": {},
     "output_type": "execute_result"
    }
   ],
   "source": [
    "neti1"
   ],
   "metadata": {
    "collapsed": false,
    "ExecuteTime": {
     "end_time": "2024-01-04T15:57:59.766328302Z",
     "start_time": "2024-01-04T15:57:59.725462074Z"
    }
   },
   "id": "e88d81b4ab274519",
   "execution_count": 140
  },
  {
   "cell_type": "code",
   "outputs": [
    {
     "data": {
      "text/plain": "p(Social Media Engagement | E-bike Popularity Increase, Marketing Intensity) p(E-bike Popularity Increase | E-bike Price Reduction, Marketing Intensity, Consumer Interest in E-bikes, Retailer Stock Availability) p(Retailer Stock Availability | Disposable Income) p(Consumer Interest in E-bikes | Environmental Awareness) p(E-bike Price Reduction | Environmental Awareness, Disposable Income) p(Disposable Income=0.56) p(Environmental Awareness=0.66) p(Marketing Intensity=0.5)"
     },
     "execution_count": 141,
     "metadata": {},
     "output_type": "execute_result"
    }
   ],
   "source": [
    "net"
   ],
   "metadata": {
    "collapsed": false,
    "ExecuteTime": {
     "end_time": "2024-01-04T15:58:15.738382718Z",
     "start_time": "2024-01-04T15:58:15.696917413Z"
    }
   },
   "id": "de26336954711ff5",
   "execution_count": 141
  },
  {
   "cell_type": "code",
   "outputs": [],
   "source": [],
   "metadata": {
    "collapsed": false
   },
   "id": "45393f04ef141ed4"
  },
  {
   "cell_type": "code",
   "outputs": [
    {
     "data": {
      "text/plain": "p(E-bike Popularity Increase | E-bike Price Reduction, Marketing Intensity, Consumer Interest in E-bikes, Retailer Stock Availability)"
     },
     "execution_count": 111,
     "metadata": {},
     "output_type": "execute_result"
    }
   ],
   "source": [
    "v = net.vars[-2]\n",
    "v"
   ],
   "metadata": {
    "collapsed": false,
    "ExecuteTime": {
     "end_time": "2024-01-04T15:36:49.342470296Z",
     "start_time": "2024-01-04T15:36:49.288095840Z"
    }
   },
   "id": "34d36f453c39e2a3",
   "execution_count": 111
  },
  {
   "cell_type": "code",
   "outputs": [
    {
     "data": {
      "text/plain": "tensor([[[[0.1751, 0.2284],\n          [0.2776, 0.3487]],\n\n         [[0.2671, 0.3859],\n          [0.3427, 0.4144]]],\n\n\n        [[[0.3868, 0.4330],\n          [0.4825, 0.5073]],\n\n         [[0.4173, 0.5699],\n          [0.5260, 0.6236]]]])"
     },
     "execution_count": 112,
     "metadata": {},
     "output_type": "execute_result"
    }
   ],
   "source": [
    "v.param"
   ],
   "metadata": {
    "collapsed": false,
    "ExecuteTime": {
     "end_time": "2024-01-04T15:36:49.798052812Z",
     "start_time": "2024-01-04T15:36:49.788167901Z"
    }
   },
   "id": "a3f7fcb2f239e84",
   "execution_count": 112
  },
  {
   "cell_type": "code",
   "outputs": [],
   "source": [],
   "metadata": {
    "collapsed": false,
    "ExecuteTime": {
     "end_time": "2024-01-04T15:36:52.702587774Z",
     "start_time": "2024-01-04T15:36:52.698626895Z"
    }
   },
   "id": "464ec3b5df5a7e9",
   "execution_count": 112
  },
  {
   "cell_type": "code",
   "execution_count": 113,
   "outputs": [
    {
     "data": {
      "text/plain": "({'question': 'Does increasing marketing efforts for e-bike sales not lead to a rise in their popularity?',\n  'answer': 'yes',\n  'explanation': 'Intensifying marketing activities does not result in greater popularity of e-bikes.'},\n {'treatment': 'Marketing Intensity',\n  'query': 'ate',\n  'type': 'ate-sign',\n  'criterion': '<'})"
     },
     "execution_count": 113,
     "metadata": {},
     "output_type": "execute_result"
    }
   ],
   "source": [
    "qid = random.randint(0, len(story['questions'])-1)\n",
    "qid = 0\n",
    "question = story['questions'][qid]\n",
    "query = story['queries'][qid]\n",
    "question, query"
   ],
   "metadata": {
    "collapsed": false,
    "ExecuteTime": {
     "end_time": "2024-01-04T15:36:52.969949207Z",
     "start_time": "2024-01-04T15:36:52.948178819Z"
    }
   },
   "id": "b6fbdd0bbc1e2f48"
  },
  {
   "cell_type": "code",
   "execution_count": 114,
   "outputs": [],
   "source": [
    "solver = ATE_Sign(net)\n",
    "sol = Context().include(solver)\n",
    "sol['outcome'] = outcome\n",
    "sol.update(**query)"
   ],
   "metadata": {
    "collapsed": false,
    "ExecuteTime": {
     "end_time": "2024-01-04T15:36:53.083474213Z",
     "start_time": "2024-01-04T15:36:53.074348989Z"
    }
   },
   "id": "2247fb4e0a21cc69"
  },
  {
   "cell_type": "code",
   "execution_count": 115,
   "outputs": [
    {
     "data": {
      "text/plain": "('Marketing Intensity', 'E-bike Popularity Increase', [])"
     },
     "execution_count": 115,
     "metadata": {},
     "output_type": "execute_result"
    }
   ],
   "source": [
    "sol['estimand']"
   ],
   "metadata": {
    "collapsed": false,
    "ExecuteTime": {
     "end_time": "2024-01-04T15:36:53.241781973Z",
     "start_time": "2024-01-04T15:36:53.224679513Z"
    }
   },
   "id": "c665fe0c07ccb0b8"
  },
  {
   "cell_type": "code",
   "execution_count": 116,
   "outputs": [
    {
     "data": {
      "text/plain": "[('E-bike Popularity Increase', {'Marketing Intensity': 0}),\n ('E-bike Popularity Increase', {'Marketing Intensity': 1})]"
     },
     "execution_count": 116,
     "metadata": {},
     "output_type": "execute_result"
    }
   ],
   "source": [
    "sol['terms']"
   ],
   "metadata": {
    "collapsed": false,
    "ExecuteTime": {
     "end_time": "2024-01-04T15:36:53.845056782Z",
     "start_time": "2024-01-04T15:36:53.802261210Z"
    }
   },
   "id": "3d203f8c5c336976"
  },
  {
   "cell_type": "code",
   "execution_count": 117,
   "outputs": [
    {
     "data": {
      "text/plain": "0.08781301975250244",
      "image/png": "[encoded data removed]",
      "text/latex": "$\\displaystyle 0.0878130197525024$"
     },
     "execution_count": 117,
     "metadata": {},
     "output_type": "execute_result"
    }
   ],
   "source": [
    "sol['ate']"
   ],
   "metadata": {
    "collapsed": false,
    "ExecuteTime": {
     "end_time": "2024-01-04T15:36:54.349379086Z",
     "start_time": "2024-01-04T15:36:54.240321760Z"
    }
   },
   "id": "4791c4860ae4d670"
  },
  {
   "cell_type": "code",
   "execution_count": 118,
   "outputs": [
    {
     "name": "stderr",
     "output_type": "stream",
     "text": [
      "/home/fleeb/miniconda3/lib/python3.11/site-packages/torch/masked/maskedtensor/core.py:156: UserWarning: The PyTorch API of MaskedTensors is in prototype stage and will change in the near future. Please open a Github issue for features requests and see our documentation on the torch.masked module for further information about the project.\n",
      "  warnings.warn((\"The PyTorch API of MaskedTensors is in prototype stage \"\n"
     ]
    },
    {
     "data": {
      "text/plain": "0.1279737949371338",
      "image/png": "[encoded data removed]",
      "text/latex": "$\\displaystyle 0.127973794937134$"
     },
     "execution_count": 118,
     "metadata": {},
     "output_type": "execute_result"
    }
   ],
   "source": [
    "sol['estimate']"
   ],
   "metadata": {
    "collapsed": false,
    "ExecuteTime": {
     "end_time": "2024-01-04T15:36:54.819297513Z",
     "start_time": "2024-01-04T15:36:54.719106144Z"
    }
   },
   "id": "bd819981c1572a61"
  },
  {
   "cell_type": "code",
   "execution_count": null,
   "outputs": [],
   "source": [],
   "metadata": {
    "collapsed": false
   },
   "id": "41c0e26c9226fe04"
  },
  {
   "cell_type": "code",
   "execution_count": null,
   "outputs": [],
   "source": [],
   "metadata": {
    "collapsed": false
   },
   "id": "c7c52a435ad18784"
  },
  {
   "cell_type": "code",
   "execution_count": null,
   "outputs": [],
   "source": [],
   "metadata": {
    "collapsed": false
   },
   "id": "9ab93a1a296cfe3"
  },
  {
   "cell_type": "code",
   "execution_count": 32,
   "outputs": [
    {
     "data": {
      "text/plain": "tensor(0.0290)"
     },
     "execution_count": 32,
     "metadata": {},
     "output_type": "execute_result"
    }
   ],
   "source": [
    "net.ate(query['treatment'], conditions={query['confounder']: query['confounder_value']})[outcome]"
   ],
   "metadata": {
    "collapsed": false,
    "ExecuteTime": {
     "end_time": "2024-01-03T10:21:24.104926506Z",
     "start_time": "2024-01-03T10:21:24.056737048Z"
    }
   },
   "id": "c8aee9f8514e60a5"
  },
  {
   "cell_type": "code",
   "execution_count": null,
   "outputs": [],
   "source": [
    "net.ate(query['treatment'], conditions={query['confounder']: query['confounder_value']})[outcome]"
   ],
   "metadata": {
    "collapsed": false
   },
   "id": "46cbd8db8ec38154"
  },
  {
   "cell_type": "code",
   "execution_count": null,
   "outputs": [],
   "source": [],
   "metadata": {
    "collapsed": false
   },
   "id": "84c3aa47998e8f82"
  },
  {
   "cell_type": "code",
   "execution_count": null,
   "outputs": [],
   "source": [],
   "metadata": {
    "collapsed": false
   },
   "id": "807404bb9ac2aaa4"
  },
  {
   "cell_type": "code",
   "execution_count": 42,
   "outputs": [
    {
     "name": "stdout",
     "output_type": "stream",
     "text": [
      "\t1. ATE('Meteorite Visibility') < 0\n",
      "\t2. ATE('NASA Communication') < 0\n",
      "\t3. ATE('Meteorite Visibility') > ATE('NASA Communication')\n",
      "\t4. |ATE('Meteorite Visibility')| < |ATE('NASA Communication')|\n",
      "\t5. CATE('Meteorite Visibility' | 'Media Coverage' = 0) < 0\n",
      "\t6. CATE('NASA Communication' | 'Media Coverage' = 0) < 0\n",
      "\t7. CATE('Meteorite Visibility' | 'Media Coverage' = 0) > CATE('NASA Communication' | 'Media Coverage' = 0)\n",
      "\t8. |CATE('NASA Communication' | 'Media Coverage' = 0)| < |CATE('Meteorite Visibility' | 'Media Coverage' = 0)|\n",
      "\t9. CATE('Meteorite Visibility' | 'Media Coverage' = 1) < 0\n",
      "\t10. CATE('NASA Communication' | 'Media Coverage' = 1) < 0\n",
      "\t11. CATE('Meteorite Visibility' | 'Media Coverage' = 1) < CATE('NASA Communication' | 'Media Coverage' = 1)\n",
      "\t12. |CATE('NASA Communication' | 'Media Coverage' = 1)| > |CATE('Meteorite Visibility' | 'Media Coverage' = 1)|\n",
      "\t13. CATE('Meteorite Visibility' | 'Media Coverage' = 1) < CATE('Meteorite Visibility' | 'Media Coverage' = 0)\n",
      "\t14. |CATE('Meteorite Visibility' | 'Media Coverage' = 1)| < |CATE('Meteorite Visibility' | 'Media Coverage' = 0)|\n",
      "\t15. CATE('NASA Communication' | 'Media Coverage' = 1) < CATE('NASA Communication' | 'Media Coverage' = 0)\n",
      "\t16. |CATE('NASA Communication' | 'Media Coverage' = 1)| > |CATE('NASA Communication' | 'Media Coverage' = 0)|\n",
      "\t17. CATE('Meteorite Visibility' | 'Scientific Literacy' = 0) > 0\n",
      "\t18. CATE('NASA Communication' | 'Scientific Literacy' = 0) > 0\n",
      "\t19. CATE('NASA Communication' | 'Scientific Literacy' = 0) > CATE('Meteorite Visibility' | 'Scientific Literacy' = 0)\n",
      "\t20. |CATE('NASA Communication' | 'Scientific Literacy' = 0)| < |CATE('Meteorite Visibility' | 'Scientific Literacy' = 0)|\n",
      "\t21. CATE('Meteorite Visibility' | 'Scientific Literacy' = 1) < 0\n",
      "\t22. CATE('NASA Communication' | 'Scientific Literacy' = 1) < 0\n",
      "\t23. CATE('Meteorite Visibility' | 'Scientific Literacy' = 1) < CATE('NASA Communication' | 'Scientific Literacy' = 1)\n",
      "\t24. |CATE('NASA Communication' | 'Scientific Literacy' = 1)| > |CATE('Meteorite Visibility' | 'Scientific Literacy' = 1)|\n",
      "\t25. CATE('Meteorite Visibility' | 'Scientific Literacy' = 0) < CATE('Meteorite Visibility' | 'Scientific Literacy' = 1)\n",
      "\t26. |CATE('Meteorite Visibility' | 'Scientific Literacy' = 0)| < |CATE('Meteorite Visibility' | 'Scientific Literacy' = 1)|\n",
      "\t27. CATE('NASA Communication' | 'Scientific Literacy' = 1) > CATE('NASA Communication' | 'Scientific Literacy' = 0)\n",
      "\t28. |CATE('NASA Communication' | 'Scientific Literacy' = 1)| > |CATE('NASA Communication' | 'Scientific Literacy' = 0)|\n"
     ]
    }
   ],
   "source": [
    "print(VerbalizationPrompting().get_query_descriptions(story['queries']))"
   ],
   "metadata": {
    "collapsed": false,
    "ExecuteTime": {
     "end_time": "2024-01-03T10:28:54.967527556Z",
     "start_time": "2024-01-03T10:28:54.960595449Z"
    }
   },
   "id": "d7a845301396d1d3"
  },
  {
   "cell_type": "code",
   "execution_count": null,
   "outputs": [],
   "source": [],
   "metadata": {
    "collapsed": false
   },
   "id": "c7fa0d632a600a78"
  },
  {
   "cell_type": "code",
   "execution_count": null,
   "outputs": [],
   "source": [
    "ident = {}\n",
    "ctx = sample_text(ident, mean=0.57)\n",
    "\n",
    "\n",
    "\n",
    "text = Template.detok(ctx['clause'], capitalize=True, sentence=True)\n",
    "ident.update(ctx.identity())\n",
    "print(text)\n",
    "ident"
   ],
   "metadata": {
    "collapsed": false
   },
   "id": "d9d909ddbba12f12"
  },
  {
   "cell_type": "code",
   "execution_count": 33,
   "outputs": [
    {
     "name": "stdout",
     "output_type": "stream",
     "text": [
      "The chance that this incident was scarcely covered by the media is 57%.\n"
     ]
    },
    {
     "data": {
      "text/plain": "{'verb_id': 1, 'clause_id': 1, 'position_id': 0, 'chance_word_id': 1}"
     },
     "execution_count": 33,
     "metadata": {},
     "output_type": "execute_result"
    }
   ],
   "source": [
    "\n",
    "selection = {}\n",
    "\n",
    "\n",
    "\n",
    "\n",
    "story = random.choice(stories)\n",
    "varname = random.choice(list(rawverbs.keys()))\n",
    "varinfo = story['sheet'][varname]\n",
    "varval = 0\n",
    "\n",
    "ctx = ClauseVerbalization().populate_variable_info(info, mean=0.57).populate_default(precise_templates=precise_templates, position_templates=position_templates)\n",
    "\n",
    "# ctx['clause_id'] = 3\n",
    "ctx['position_id'] = 0\n",
    "\n",
    "text = Template.detok(ctx['clause'], capitalize=True, sentence=True)\n",
    "print(text)\n",
    "ctx.identity()"
   ],
   "metadata": {
    "collapsed": false,
    "ExecuteTime": {
     "end_time": "2023-11-28T15:36:36.356975911Z",
     "start_time": "2023-11-28T15:36:36.339666321Z"
    }
   },
   "id": "a615f931ea866100"
  },
  {
   "cell_type": "code",
   "execution_count": 10,
   "outputs": [],
   "source": [
    "# ClauseVerbalization._precise_templates[0]"
   ],
   "metadata": {
    "collapsed": false,
    "ExecuteTime": {
     "end_time": "2023-11-28T15:31:53.646470614Z",
     "start_time": "2023-11-28T15:31:53.633782175Z"
    }
   },
   "id": "cb7ccfec6057274e"
  },
  {
   "cell_type": "code",
   "execution_count": null,
   "outputs": [],
   "source": [],
   "metadata": {
    "collapsed": false
   },
   "id": "84adb6c628d96022"
  },
  {
   "cell_type": "code",
   "execution_count": null,
   "outputs": [],
   "source": [],
   "metadata": {
    "collapsed": false
   },
   "id": "87145c097f684a73"
  },
  {
   "cell_type": "code",
   "execution_count": 10,
   "outputs": [],
   "source": [],
   "metadata": {
    "collapsed": false,
    "ExecuteTime": {
     "end_time": "2023-11-28T15:31:58.875779123Z",
     "start_time": "2023-11-28T15:31:58.862463497Z"
    }
   },
   "id": "5531e86555338fac"
  },
  {
   "cell_type": "code",
   "execution_count": null,
   "outputs": [],
   "source": [],
   "metadata": {
    "collapsed": false
   },
   "id": "c32d952d9e328b8"
  },
  {
   "cell_type": "code",
   "execution_count": null,
   "outputs": [],
   "source": [],
   "metadata": {
    "collapsed": false
   },
   "id": "5052a520708b640"
  },
  {
   "cell_type": "code",
   "execution_count": 8,
   "outputs": [],
   "source": [
    "\n",
    "prob_words = ['probability', 'chance', 'likelihood']\n",
    "chance_words = ['probability', 'chance', 'likelihood', 'odds']\n",
    "\n"
   ],
   "metadata": {
    "collapsed": false,
    "ExecuteTime": {
     "end_time": "2023-11-28T14:39:52.537372963Z",
     "start_time": "2023-11-28T14:39:52.511392357Z"
    }
   },
   "id": "eca2719f35b8fe6d"
  },
  {
   "cell_type": "code",
   "execution_count": 18,
   "outputs": [],
   "source": [
    "def detok(tokens):\n",
    "\ttoks = [', ' if tok == ',' else tok for tok in tokens]\n",
    "\tsentence = ' '.join(toks) + '.'\n",
    "\treturn sentence.capitalize()"
   ],
   "metadata": {
    "collapsed": false,
    "ExecuteTime": {
     "end_time": "2023-11-27T15:47:41.226348946Z",
     "start_time": "2023-11-27T15:47:41.210297087Z"
    }
   },
   "id": "1aab35e99d67d976"
  },
  {
   "cell_type": "code",
   "execution_count": null,
   "outputs": [],
   "source": [
    "# 1. One of the variables is {descriptor}.\n",
    "# 2. {subject} [often/usually/sometimes/rarely/etc.] {predicate}.\n",
    "# 3. There is a [number]% chance that {noun-clause}.\n",
    "# 4. [In/For/With/etc.] [number]% of {domain}, there {phrase}.\n",
    "# 5. Conditional sentence: {condition}, [some consequence].\n",
    "# 6. Interventional: If {action}, [some effect]."
   ],
   "metadata": {
    "collapsed": false
   },
   "id": "eb8aeeebcf773cdf"
  },
  {
   "cell_type": "code",
   "execution_count": 19,
   "outputs": [
    {
     "ename": "NameError",
     "evalue": "name 'AbstractGadget' is not defined",
     "output_type": "error",
     "traceback": [
      "\u001B[0;31m---------------------------------------------------------------------------\u001B[0m",
      "\u001B[0;31mNameError\u001B[0m                                 Traceback (most recent call last)",
      "Cell \u001B[0;32mIn[19], line 1\u001B[0m\n\u001B[0;32m----> 1\u001B[0m \u001B[38;5;28;01mclass\u001B[39;00m \u001B[38;5;21;01mDictGadget\u001B[39;00m(\u001B[43mAbstractGadget\u001B[49m):\n\u001B[1;32m      2\u001B[0m \t_no_default \u001B[38;5;241m=\u001B[39m \u001B[38;5;28mobject\u001B[39m()\n\u001B[1;32m      3\u001B[0m \t\u001B[38;5;28;01mdef\u001B[39;00m \u001B[38;5;21m__init__\u001B[39m(\u001B[38;5;28mself\u001B[39m, data: \u001B[38;5;28mdict\u001B[39m[\u001B[38;5;28mstr\u001B[39m, Any], default_value\u001B[38;5;241m=\u001B[39m_no_default, gizmos: \u001B[38;5;28mlist\u001B[39m[\u001B[38;5;28mstr\u001B[39m] \u001B[38;5;241m=\u001B[39m \u001B[38;5;28;01mNone\u001B[39;00m, \u001B[38;5;241m*\u001B[39m\u001B[38;5;241m*\u001B[39mkwargs):\n",
      "\u001B[0;31mNameError\u001B[0m: name 'AbstractGadget' is not defined"
     ]
    }
   ],
   "source": [
    "# The man that she loved went home.\n",
    "# She realized that he loves her."
   ],
   "metadata": {
    "collapsed": false,
    "ExecuteTime": {
     "end_time": "2023-11-28T10:15:39.525389468Z",
     "start_time": "2023-11-28T10:15:39.473031079Z"
    }
   },
   "id": "238567e178379552"
  },
  {
   "cell_type": "code",
   "execution_count": null,
   "outputs": [],
   "source": [
    "# 1. One of the variables is {variable}.\n",
    "# 2. We estimate {subject} [often/usually/sometimes/rarely/etc.] {value}.\n",
    "# 3. There is a [number]% chance that {value}.\n",
    "# 4. [number]% of {domain} {value}.\n",
    "# 5. [number]% of the time {value}.\n",
    "# 6. Conditional sentence: {value}, [some consequence].\n",
    "# 7. Interventional: If {value}, [some effect]."
   ],
   "metadata": {
    "collapsed": false
   },
   "id": "28f852100b5fcba3"
  },
  {
   "cell_type": "code",
   "execution_count": null,
   "outputs": [],
   "source": [],
   "metadata": {
    "collapsed": false
   },
   "id": "27eac865d2408b88"
  },
  {
   "cell_type": "code",
   "execution_count": null,
   "outputs": [],
   "source": [],
   "metadata": {
    "collapsed": false,
    "ExecuteTime": {
     "end_time": "2023-11-27T15:11:52.536416030Z",
     "start_time": "2023-11-27T15:11:52.478641307Z"
    }
   },
   "id": "10620b6940b3b876"
  },
  {
   "cell_type": "code",
   "execution_count": null,
   "outputs": [],
   "source": [],
   "metadata": {
    "collapsed": false
   },
   "id": "960b14f65ddc10ec"
  }
 ],
 "metadata": {
  "kernelspec": {
   "display_name": "Python 3",
   "language": "python",
   "name": "python3"
  },
  "language_info": {
   "codemirror_mode": {
    "name": "ipython",
    "version": 2
   },
   "file_extension": ".py",
   "mimetype": "text/x-python",
   "name": "python",
   "nbconvert_exporter": "python",
   "pygments_lexer": "ipython2",
   "version": "2.7.6"
  }
 },
 "nbformat": 4,
 "nbformat_minor": 5
}

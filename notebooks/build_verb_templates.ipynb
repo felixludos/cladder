{
 "cells": [
  {
   "cell_type": "code",
   "execution_count": 1,
   "id": "initial_id",
   "metadata": {
    "collapsed": true,
    "ExecuteTime": {
     "end_time": "2023-11-30T14:55:11.353972727Z",
     "start_time": "2023-11-30T14:55:07.879528519Z"
    }
   },
   "outputs": [
    {
     "ename": "ImportError",
     "evalue": "cannot import name 'PreciseVerbalization' from 'causalbenchmark.novo.verbalization.clause' (/home/fleeb/workspace/code/cladder/causalbenchmark/novo/verbalization/clause.py)",
     "output_type": "error",
     "traceback": [
      "\u001B[0;31m---------------------------------------------------------------------------\u001B[0m",
      "\u001B[0;31mImportError\u001B[0m                               Traceback (most recent call last)",
      "Cell \u001B[0;32mIn[1], line 20\u001B[0m\n\u001B[1;32m     18\u001B[0m \u001B[38;5;28;01mimport\u001B[39;00m \u001B[38;5;21;01mnumpy\u001B[39;00m \u001B[38;5;28;01mas\u001B[39;00m \u001B[38;5;21;01mnp\u001B[39;00m\n\u001B[1;32m     19\u001B[0m \u001B[38;5;28;01mimport\u001B[39;00m \u001B[38;5;21;01mtorch\u001B[39;00m\n\u001B[0;32m---> 20\u001B[0m \u001B[38;5;28;01mfrom\u001B[39;00m \u001B[38;5;21;01mcausalbenchmark\u001B[39;00m\u001B[38;5;21;01m.\u001B[39;00m\u001B[38;5;21;01mnovo\u001B[39;00m\u001B[38;5;21;01m.\u001B[39;00m\u001B[38;5;21;01msimulation\u001B[39;00m\u001B[38;5;21;01m.\u001B[39;00m\u001B[38;5;21;01mmodels\u001B[39;00m \u001B[38;5;28;01mimport\u001B[39;00m Bernoulli, ConditionalBernoulli, BernoulliNetwork\n\u001B[1;32m     21\u001B[0m \u001B[38;5;28;01mfrom\u001B[39;00m \u001B[38;5;21;01mcausalbenchmark\u001B[39;00m\u001B[38;5;21;01m.\u001B[39;00m\u001B[38;5;21;01mnovo\u001B[39;00m\u001B[38;5;21;01m.\u001B[39;00m\u001B[38;5;21;01mseeding\u001B[39;00m \u001B[38;5;28;01mimport\u001B[39;00m NewsHeadlines, StatisticsPrompting, Story\n\u001B[1;32m     22\u001B[0m \u001B[38;5;66;03m# from causalbenchmark.novo.seeding.prompting import GraphInfo\u001B[39;00m\n",
      "File \u001B[0;32m~/workspace/code/cladder/causalbenchmark/__init__.py:12\u001B[0m\n\u001B[1;32m      1\u001B[0m __version__ \u001B[38;5;241m=\u001B[39m \u001B[38;5;124m'\u001B[39m\u001B[38;5;124m0.1\u001B[39m\u001B[38;5;124m'\u001B[39m\n\u001B[1;32m      3\u001B[0m \u001B[38;5;66;03m# from .graphs import create_graph\u001B[39;00m\n\u001B[1;32m      4\u001B[0m \u001B[38;5;66;03m# from .queries import create_query\u001B[39;00m\n\u001B[1;32m      5\u001B[0m \u001B[38;5;66;03m# from .verbal import load_story\u001B[39;00m\n\u001B[0;32m   (...)\u001B[0m\n\u001B[1;32m      9\u001B[0m \u001B[38;5;66;03m# from . import generator\u001B[39;00m\n\u001B[1;32m     10\u001B[0m \u001B[38;5;66;03m# from . import arguments\u001B[39;00m\n\u001B[0;32m---> 12\u001B[0m \u001B[38;5;28;01mfrom\u001B[39;00m \u001B[38;5;21;01m.\u001B[39;00m \u001B[38;5;28;01mimport\u001B[39;00m novo\n",
      "File \u001B[0;32m~/workspace/code/cladder/causalbenchmark/novo/__init__.py:2\u001B[0m\n\u001B[1;32m      1\u001B[0m \u001B[38;5;28;01mfrom\u001B[39;00m \u001B[38;5;21;01m.\u001B[39;00m \u001B[38;5;28;01mimport\u001B[39;00m simulation\n\u001B[0;32m----> 2\u001B[0m \u001B[38;5;28;01mfrom\u001B[39;00m \u001B[38;5;21;01m.\u001B[39;00m \u001B[38;5;28;01mimport\u001B[39;00m verbalization\n\u001B[1;32m      3\u001B[0m \u001B[38;5;28;01mfrom\u001B[39;00m \u001B[38;5;21;01m.\u001B[39;00m \u001B[38;5;28;01mimport\u001B[39;00m seeding\n",
      "File \u001B[0;32m~/workspace/code/cladder/causalbenchmark/novo/verbalization/__init__.py:4\u001B[0m\n\u001B[1;32m      1\u001B[0m \u001B[38;5;28;01mfrom\u001B[39;00m \u001B[38;5;21;01m.\u001B[39;00m \u001B[38;5;28;01mimport\u001B[39;00m unit_tests\n\u001B[1;32m      3\u001B[0m \u001B[38;5;28;01mfrom\u001B[39;00m \u001B[38;5;21;01m.\u001B[39;00m\u001B[38;5;21;01mdecision\u001B[39;00m \u001B[38;5;28;01mimport\u001B[39;00m Decision\n\u001B[0;32m----> 4\u001B[0m \u001B[38;5;28;01mfrom\u001B[39;00m \u001B[38;5;21;01m.\u001B[39;00m\u001B[38;5;21;01mtop\u001B[39;00m \u001B[38;5;28;01mimport\u001B[39;00m Verbalizer\n\u001B[1;32m      5\u001B[0m \u001B[38;5;28;01mfrom\u001B[39;00m \u001B[38;5;21;01m.\u001B[39;00m\u001B[38;5;21;01mclause\u001B[39;00m \u001B[38;5;28;01mimport\u001B[39;00m ConditionalVerbalization, MarginalVerbalization\n",
      "File \u001B[0;32m~/workspace/code/cladder/causalbenchmark/novo/verbalization/top.py:15\u001B[0m\n\u001B[1;32m     13\u001B[0m \u001B[38;5;28;01mfrom\u001B[39;00m \u001B[38;5;21;01m.\u001B[39;00m\u001B[38;5;21;01m.\u001B[39;00m\u001B[38;5;21;01mtemplating\u001B[39;00m \u001B[38;5;28;01mimport\u001B[39;00m Template\n\u001B[1;32m     14\u001B[0m \u001B[38;5;28;01mfrom\u001B[39;00m \u001B[38;5;21;01m.\u001B[39;00m\u001B[38;5;21;01mvariable\u001B[39;00m \u001B[38;5;28;01mimport\u001B[39;00m VariableVerbalization\n\u001B[0;32m---> 15\u001B[0m \u001B[38;5;28;01mfrom\u001B[39;00m \u001B[38;5;21;01m.\u001B[39;00m\u001B[38;5;21;01mclause\u001B[39;00m \u001B[38;5;28;01mimport\u001B[39;00m PreciseVerbalization, ConditionalVerbalization\n\u001B[1;32m     19\u001B[0m \u001B[38;5;28;01mclass\u001B[39;00m \u001B[38;5;21;01mVerbalizerBase\u001B[39;00m(AbstractGig, VerbalizationBase):\n\u001B[1;32m     20\u001B[0m \t\u001B[38;5;28;01mpass\u001B[39;00m\n",
      "\u001B[0;31mImportError\u001B[0m: cannot import name 'PreciseVerbalization' from 'causalbenchmark.novo.verbalization.clause' (/home/fleeb/workspace/code/cladder/causalbenchmark/novo/verbalization/clause.py)"
     ]
    }
   ],
   "source": [
    "from pathlib import Path\n",
    "from omnibelt import toposort, load_json, save_json, pformat, pformat_vars\n",
    "from itertools import product, combinations\n",
    "# import pyperclip\n",
    "import random\n",
    "from PIL import Image\n",
    "from graphviz import Digraph\n",
    "import matplotlib.pyplot as plt\n",
    "import io\n",
    "# import clipboard\n",
    "import networkx as nx\n",
    "from tqdm.notebook import tqdm\n",
    "from tabulate import tabulate\n",
    "import matplotlib.pyplot as plt\n",
    "import seaborn as sns\n",
    "from omniply import tool, ToolKit, Context\n",
    "\n",
    "import numpy as np\n",
    "import torch\n",
    "from causalbenchmark.novo.simulation.models import Bernoulli, ConditionalBernoulli, BernoulliNetwork\n",
    "from causalbenchmark.novo.seeding import NewsHeadlines, StatisticsPrompting, Story\n",
    "# from causalbenchmark.novo.seeding.prompting import GraphInfo\n",
    "from causalbenchmark.novo.templating import FixedTemplate, SimpleTemplater\n",
    "# from causalbenchmark.novo.verbalization import misc\n",
    "from causalbenchmark.novo import misc\n",
    "from causalbenchmark.novo.verbalization.decision import Decision\n",
    "from causalbenchmark.novo.templating import Template\n",
    "from causalbenchmark.novo.verbalization import Verbalizer, MarginalVerbalization, ConditionalVerbalization"
   ]
  },
  {
   "cell_type": "code",
   "execution_count": 11,
   "outputs": [
    {
     "name": "stdout",
     "output_type": "stream",
     "text": [
      "['Impact_of_Covid_on_Auto_Industry_Job_Market', 'NHS_Glasgow_Coronavirus_Outbreak_Impact_Study', 'Impact_of_Refurbished_Tech_on_Student_Performance_Milan']\n"
     ]
    }
   ],
   "source": [
    "path = misc.data_root() / 'stories'\n",
    "story_names = [p.stem for p in path.glob('*.json')]\n",
    "print(story_names)"
   ],
   "metadata": {
    "collapsed": false,
    "ExecuteTime": {
     "end_time": "2023-11-30T09:08:54.290348614Z",
     "start_time": "2023-11-30T09:08:54.225999948Z"
    }
   },
   "id": "c2b29a486f9094f2"
  },
  {
   "cell_type": "code",
   "execution_count": 12,
   "outputs": [
    {
     "data": {
      "text/plain": "3",
      "image/png": "[encoded data removed]",
      "text/latex": "$\\displaystyle 3$"
     },
     "execution_count": 12,
     "metadata": {},
     "output_type": "execute_result"
    }
   ],
   "source": [
    "use_old_loading = False\n",
    "# story_names = [\n",
    "# \t# 'old/test19', 'old/test20', 'old/test21',\n",
    "# \t# 'Facebook-WallStreet_Trends_Post-Verdict1',\n",
    "# \t# 'RoyalFashionTrends_Analysis2',\n",
    "# \t# 'EU Gas Alliance and Inflation Trends',\n",
    "# \t\n",
    "# \t'Impact_of_Covid_on_Auto_Industry_Job_Market',\n",
    "# \t\n",
    "# ]\n",
    "stories = []\n",
    "for name in story_names:\n",
    "\tstory = Story(story_root=misc.data_root() / 'stories', story_id=name)#.populate_defaults()\n",
    "\tstories.append(story)\n",
    "\tif use_old_loading:\n",
    "\t\tstory['stats'] = {int(k): v for k, v in story['stats'].items()}\n",
    "\t\tstory['verbs'] = {k: {int(k2): v2 for k2, v2 in v.items()} for k, v in story['verbs'].items()}\n",
    "\t\tfor k, v in story['verbs'].items():\n",
    "\t\t\tfor k2, v2 in v.items():\n",
    "\t\t\t\tif 'value' in v2:\n",
    "\t\t\t\t\tv2['value'] = {int(k3): v3 for k3, v3 in v2['value'].items()}\n",
    "\t\tstory['questions']['questions'] = {int(k): v for k, v in story['questions']['questions'].items()}\n",
    "len(stories)"
   ],
   "metadata": {
    "collapsed": false,
    "ExecuteTime": {
     "end_time": "2023-11-30T09:09:05.930375477Z",
     "start_time": "2023-11-30T09:09:05.856139Z"
    }
   },
   "id": "604bd583b4084ccd"
  },
  {
   "cell_type": "code",
   "execution_count": 13,
   "outputs": [],
   "source": [
    "def old_story_atoms(story):\n",
    "\tvarverbs = {}\n",
    "\tfor var, raw in story['verbs'].items():\n",
    "\t\tinfo = {'values': {0: {}, 1: {}}}\n",
    "\t\t\n",
    "\t\tinfo['variable'] = raw[1]['variable']\n",
    "\t\tinfo['subject'] = raw[2]['subject']\n",
    "\t\tinfo['domain'] = raw[4]['domain']\n",
    "\t\t\n",
    "\t\tfor i in [0, 1]:\n",
    "\t\t\tinfo_val = info['values'][i]\n",
    "\t\t\tinfo_val['verb'] = raw[2]['value'][i] # goes with subject\n",
    "\t\t\tinfo_val['phrase'] = raw[3]['value'][i]\n",
    "\t\t\tinfo_val['descriptor'] = raw[4]['value'][i] # goes with domain\n",
    "\t\t\tinfo_val['event'] = raw[5]['value'][i]\n",
    "\t\t\tinfo_val['conditional'] = raw[6]['value'][i]\n",
    "\t\t\tinfo_val['interventional'] = raw[7]['value'][i]\n",
    "\t\t\t\n",
    "\t\tvarverbs[var] = info\n",
    "\t\n",
    "\tstory['sheet'] = varverbs\n",
    "\treturn story\n",
    "\n",
    "def story_atoms(story):\n",
    "\tbase_keys = ['descriptor', 'subject', 'pronoun', 'preposition', 'domain']\n",
    "\tvalue_keys = ['predicate', 'nounclause', 'subclause', 'condition', 'action']\n",
    "\tverbs = []\n",
    "\tfor node in story['nodes']:\n",
    "\t\traw = story['verbs'][node['name']]\n",
    "\t\tinfo = {'values': {0: {}, 1: {}}}\n",
    "\t\tinfo.update({key: raw[key] for key in base_keys})\n",
    "\t\tfor i in [0, 1]:\n",
    "\t\t\tinfo_val = info['values'][i]\n",
    "\t\t\tinfo_val.update({key: raw[f'{key}{i}'] for key in value_keys})\n",
    "\t\t# node['verbs'] = info\n",
    "\t\tverbs.append(info)\n",
    "\tstory['verbs'] = verbs\n",
    "for story in stories:\n",
    "\t(old_story_atoms if use_old_loading else story_atoms)(story)"
   ],
   "metadata": {
    "collapsed": false,
    "ExecuteTime": {
     "end_time": "2023-11-30T09:09:07.171983860Z",
     "start_time": "2023-11-30T09:09:07.137274147Z"
    }
   },
   "id": "172e69abce303632"
  },
  {
   "cell_type": "code",
   "execution_count": 14,
   "outputs": [],
   "source": [
    "story = random.choice(stories)\n",
    "# rawverbs = story['verbs']\n",
    "# rawvars = {node['name']: node for node in story['nodes']}\n",
    "# next(iter(rawverbs.values()))"
   ],
   "metadata": {
    "collapsed": false,
    "ExecuteTime": {
     "end_time": "2023-11-30T09:09:08.059035286Z",
     "start_time": "2023-11-30T09:09:08.038734905Z"
    }
   },
   "id": "f02461335f55fce0"
  },
  {
   "cell_type": "code",
   "execution_count": 15,
   "outputs": [
    {
     "data": {
      "text/plain": "('COVID-19 Pandemic Impact', 'No impact')"
     },
     "execution_count": 15,
     "metadata": {},
     "output_type": "execute_result"
    }
   ],
   "source": [
    "node = random.choice(list(story['nodes']))\n",
    "varval = 0\n",
    "node['name'], node['values'][varval]"
   ],
   "metadata": {
    "collapsed": false,
    "ExecuteTime": {
     "end_time": "2023-11-30T09:09:08.741403380Z",
     "start_time": "2023-11-30T09:09:08.720747018Z"
    }
   },
   "id": "ad18af624f5ce543"
  },
  {
   "cell_type": "code",
   "execution_count": 16,
   "outputs": [
    {
     "data": {
      "text/plain": "dict_keys(['descriptor', 'subject', 'pronoun', 'preposition', 'domain', 'predicate', 'nounclause', 'subclause', 'condition', 'action'])"
     },
     "execution_count": 16,
     "metadata": {},
     "output_type": "execute_result"
    }
   ],
   "source": [
    "atoms = {**node['verbs'], **node['verbs']['values'][varval]}\n",
    "del atoms['values']\n",
    "atoms.keys()"
   ],
   "metadata": {
    "collapsed": false,
    "ExecuteTime": {
     "end_time": "2023-11-30T09:09:16.108153003Z",
     "start_time": "2023-11-30T09:09:16.086847373Z"
    }
   },
   "id": "df399a40f923e9b8"
  },
  {
   "cell_type": "code",
   "execution_count": 19,
   "outputs": [],
   "source": [
    "precise_templates = [\n",
    "\t['there', 'is', 'a', '{quantity}', '{prob_word}', 'that', '{position}'],\n",
    "\t['the', '{chance_word}', 'that', '{position}', '{\"are\" if chance_word == \"odds\" else \"is\"}', '{quantity}'],\n",
    "\t['{quantity}', 'of', 'the', 'time', '{position}'],\n",
    "\t['{quantity}', 'of', '{domain}', '{descriptor}'],\n",
    "\t['with a', '{confidence_word}', 'of {quantity}, {position}']\n",
    "] if use_old_loading else [\n",
    "\t['there', 'is', 'a', '{quantity}', '{prob_word}', 'that', '{position}'],\n",
    "\t['the', '{chance_word}', 'that', '{position}', '{\"are\" if chance_word == \"odds\" else \"is\"}', '{quantity}'],\n",
    "\t['{quantity}', 'of', 'the', 'time', '{position}'],\n",
    "\t['{preposition}', '{quantity}', 'of', '{domain},', '{subclause}'],\n",
    "\t['with a', '{confidence_word}', 'of {quantity}, {position}']\n",
    "]\n",
    "position_templates = [\n",
    "\t['{subject}', '{verb}',],\n",
    "\t['{domain}', '{descriptor}'],\n",
    "\t# ['{descriptor}'],\n",
    "\t['{phrase}',],\n",
    "\t['{event}',],\n",
    "] if use_old_loading else [\n",
    "\t['{subject}', '{predicate}',],\n",
    "\t['{nounclause}',],\n",
    "\t['{subclause}',],\n",
    "]\n",
    "\n",
    "cond_templates = [\n",
    "\t['{antecedent},', '{consequent}'],\n",
    "\t['{consequent},', '{antecedent}'],\n",
    "]\n",
    "\t\n",
    "def verb_atoms(node, varval=1):\n",
    "\tatoms = {**node['verbs'], **node['verbs']['values'][varval]}\n",
    "\tdel atoms['values']\n",
    "\treturn atoms\n",
    "\t\n",
    "def sample_text(ident=None, **static):\n",
    "\tif ident is None:\n",
    "\t\tident = {}\n",
    "\tstory_id = ident.setdefault('story_id', random.randint(0,len(stories)-1))\n",
    "\tstory = stories[story_id]\n",
    "\t\n",
    "\tvar_id = ident.setdefault('var_id', random.randint(0,len(story['nodes'])-1))\n",
    "\tnode = story['nodes'][var_id]\n",
    "\tvarname = node['name']\n",
    "\tvarval = ident.setdefault('value_id', random.choice([0, 1]))\n",
    "\tbase_atoms = verb_atoms(node, varval)\n",
    "\t\n",
    "\tconditions = None\n",
    "\t\n",
    "\tparents = [val for key, val in sorted(ident.items()) if key.startswith('parent_id')]\n",
    "\tif len(parents) or ident.setdefault('no_parents', random.choice([False, True])):\n",
    "\t\tparent_nodes = [node for i, node in enumerate(story['nodes']) if i != var_id]\n",
    "\t\tif not len(parents):\n",
    "\t\t\tnum = ident.setdefault('num_parents', random.randint(1, 2))\n",
    "\t\t\tparents = random.sample([i for i in range(len(story['nodes'])) if i != var_id], k=num)\n",
    "\t\t\n",
    "\t\tpvals = ident.setdefault('parent_vals', [random.randint(0, 1) for _ in range(len(parents))])\n",
    "\t\tconditions = [verb_atoms(node, pval) for node, pval in zip(parent_nodes, pvals)]\n",
    "\t\tfor i in parents:\n",
    "\t\t\tident[f'parent_id{i}'] = i\n",
    "\t\n",
    "\tV = MarginalVerbalization() if conditions is None else ConditionalVerbalization()\n",
    "\tdefault_pops = dict(position_templates=position_templates, precise_templates=precise_templates)\n",
    "\tif conditions is not None:\n",
    "\t\tdefault_pops['cond_templates'] = cond_templates\n",
    "\tV.populate_default(**default_pops)\n",
    "\tctx = Verbalizer().populate_variable_info(base_atoms, conditions, verbalization=V, **static)#.populate_default(precise_templates=precise_templates, position_templates=position_templates)\n",
    "\t\n",
    "\tctx.update(ident)\n",
    "\treturn ctx"
   ],
   "metadata": {
    "collapsed": false,
    "ExecuteTime": {
     "end_time": "2023-11-30T09:09:34.440410858Z",
     "start_time": "2023-11-30T09:09:34.395038626Z"
    }
   },
   "id": "37e1aaf88d56bd56"
  },
  {
   "cell_type": "code",
   "execution_count": 20,
   "outputs": [
    {
     "name": "stdout",
     "output_type": "stream",
     "text": [
      "  i    dof  text\n",
      "---  -----  -----------------------------------------------------------------------------------------------------------------------\n",
      "  0      7  There is a 38% chance that the global economy is experiencing growth, when COVID-19 causes economic disruption.\n",
      "  1      7  When COVID-19 causes economic disruption, there is a 38% likelihood that the global economy is thriving.\n",
      "  2      7  When COVID-19 causes economic disruption, with a certainty of 38%, the global economy is thriving.\n",
      "  3      7  With a certainty of 38%, the global economy is robust, when COVID-19 causes economic disruption.\n",
      "  4      7  The probability that economic indicators are positive is 38%, if the pandemic impacts the economy.\n",
      "  5      7  If the pandemic impacts the economy, there is a 38% probability that the global economy is experiencing growth.\n",
      "  6      6  If the pandemic impacts the economy, 38% of the time economic indicators are positive.\n",
      "  7      5  If the pandemic impacts the economy, amid 38% of economic scenarios, economic indicators are positive.\n",
      "  8      7  With a certainty of 38%, the global economy is experiencing growth, when COVID-19 causes economic disruption.\n",
      "  9      7  If the pandemic impacts the economy, the probability that the global economy is thriving is 38%.\n",
      " 10      5  When COVID-19 causes economic disruption, amid 38% of economic scenarios, economic indicators are positive.\n",
      " 11      5  Amid 38% of economic scenarios, economic indicators are positive, when COVID-19 causes economic disruption.\n",
      " 12      7  When COVID-19 causes economic disruption, there is a 38% chance that there is robust growth in the global economy.\n",
      " 13      7  The odds that the global economy is robust are 38%, when COVID-19 causes economic disruption.\n",
      " 14      7  When COVID-19 causes economic disruption, with a certainty of 38%, there is robust growth in the global economy.\n",
      " 15      7  If the pandemic impacts the economy, with a confidence of 38%, there is robust growth in the global economy.\n",
      " 16      5  Amid 38% of economic scenarios, the global economy is experiencing growth, if the pandemic impacts the economy.\n",
      " 17      5  When COVID-19 causes economic disruption, amid 38% of economic scenarios, the global economy is experiencing growth.\n",
      " 18      7  With a certainty of 38%, the global economy is thriving, when COVID-19 causes economic disruption.\n",
      " 19      7  With a certainty of 38%, economic indicators are positive, when COVID-19 causes economic disruption.\n",
      " 20      7  There is a 38% probability that there is robust growth in the global economy, when COVID-19 causes economic disruption.\n",
      " 21      6  38% of the time the global economy is thriving, when COVID-19 causes economic disruption.\n",
      " 22      7  When COVID-19 causes economic disruption, the odds that the global economy is thriving are 38%.\n",
      " 23      7  There is a 38% chance that economic indicators are positive, if the pandemic impacts the economy.\n",
      " 24      7  If the pandemic impacts the economy, with a certainty of 38%, the global economy is thriving.\n",
      " 25      7  There is a 38% probability that there is robust growth in the global economy, when COVID-19 causes economic disruption.\n",
      " 26      5  Amid 38% of economic scenarios, economic indicators are positive, if the pandemic impacts the economy.\n",
      " 27      7  There is a 38% chance that the global economy is thriving, when COVID-19 causes economic disruption.\n",
      " 28      7  There is a 38% probability that the global economy is thriving, when COVID-19 causes economic disruption.\n",
      " 29      7  With a confidence of 38%, economic indicators are positive, when COVID-19 causes economic disruption.\n"
     ]
    }
   ],
   "source": [
    "samples = []\n",
    "\n",
    "\n",
    "prior = {\n",
    "\t'story_id': 0,\n",
    "\t'var_id': 0,\n",
    "\t'value_id': 1,\n",
    "\t\n",
    "\t# 'clause_id': 0,\n",
    "\t# 'position_id': 3,\n",
    "\t\n",
    "\t'parent_id1': 0,\n",
    "\t'parent_vals': [1],\n",
    "\t# 'parent_id2': 1,\n",
    "\t\n",
    "}\n",
    "\n",
    "for _ in range(30):\n",
    "\tident = prior.copy()\n",
    "\tctx = sample_text(ident, mean=0.38)\n",
    "\ttext = ctx['sentence']\n",
    "\tident.update(ctx.identity())\n",
    "\tctx['ident'] = ident\n",
    "\tsamples.append(ctx)\n",
    "\n",
    "cols = []\n",
    "for row in samples:\n",
    "\tfor key in row['ident']:\n",
    "\t\tif key not in cols:\n",
    "\t\t\tcols.append(key)\n",
    "\n",
    "table = [(i, len([k for k in row['ident'] if k not in prior]),\n",
    "\t\t  row['sentence'], \n",
    "\t\t  # row['ctx']['event'], row['ctx']['event'], row['ctx']['phrase'], row['ctx']['subject'], row['ctx']['verb'],  \n",
    "\t\t  # *[row['ident'].get(key, '-') for key in cols]\n",
    "\t\t  ) for i, row in enumerate(samples)]\n",
    "print(tabulate(table, headers=['i', 'dof', 'text', *cols]))# *list(map(str, range(len(cols))))]))"
   ],
   "metadata": {
    "collapsed": false,
    "ExecuteTime": {
     "end_time": "2023-11-30T09:09:35.261052863Z",
     "start_time": "2023-11-30T09:09:35.214169546Z"
    }
   },
   "id": "8790ba39976af0d6"
  },
  {
   "cell_type": "code",
   "execution_count": 78,
   "outputs": [
    {
     "name": "stdout",
     "output_type": "stream",
     "text": [
      "The odds that this incident got limited coverage in the news are 62%.\n",
      "{'story_id': 0, 'var_id': 6, 'value_id': 0, 'verb_id': 2, 'clause_id': 1, 'position_id': 0, 'chance_word_id': 3}\n"
     ]
    }
   ],
   "source": [
    "sample = samples[0]\n",
    "ident = sample['ident']\n",
    "ctx = sample['ctx']\n",
    "text = sample['text']\n",
    "\n",
    "print(text)\n",
    "print(ident)"
   ],
   "metadata": {
    "collapsed": false,
    "ExecuteTime": {
     "end_time": "2023-11-28T15:59:53.828803246Z",
     "start_time": "2023-11-28T15:59:53.784457623Z"
    }
   },
   "id": "9d0d64ebfd8f51cc"
  },
  {
   "cell_type": "code",
   "execution_count": null,
   "outputs": [],
   "source": [
    "\n",
    "class ParentVerbalization(ToolKit):\n",
    "\t@tool('antecedent')\n",
    "\tdef construct_antecedent(self, parents):\n",
    "\t\tpass\n"
   ],
   "metadata": {
    "collapsed": false
   },
   "id": "3cd787366e4e679d"
  },
  {
   "cell_type": "code",
   "execution_count": 10,
   "outputs": [],
   "source": [
    "cond_templates = [\n",
    "\t['{antecedent}', '{clause}'],\n",
    "\t['{clause},', '{antecedent}'],\n",
    "]\n",
    "\n",
    "@tool('antecedent')\n",
    "def construct_antecedent(parents):\n",
    "\t\n",
    "\t\n",
    "\t\n",
    "\tpass\n"
   ],
   "metadata": {
    "collapsed": false,
    "ExecuteTime": {
     "end_time": "2023-11-29T13:24:24.098559553Z",
     "start_time": "2023-11-29T13:24:24.046550252Z"
    }
   },
   "id": "390071951aed0d1d"
  },
  {
   "cell_type": "code",
   "execution_count": null,
   "outputs": [],
   "source": [],
   "metadata": {
    "collapsed": false
   },
   "id": "41fdb29c5d1ccd64"
  },
  {
   "cell_type": "code",
   "execution_count": null,
   "outputs": [],
   "source": [],
   "metadata": {
    "collapsed": false
   },
   "id": "d7a845301396d1d3"
  },
  {
   "cell_type": "code",
   "execution_count": null,
   "outputs": [],
   "source": [],
   "metadata": {
    "collapsed": false
   },
   "id": "c7fa0d632a600a78"
  },
  {
   "cell_type": "code",
   "execution_count": null,
   "outputs": [],
   "source": [
    "ident = {}\n",
    "ctx = sample_text(ident, mean=0.57)\n",
    "\n",
    "\n",
    "\n",
    "text = Template.detok(ctx['clause'], capitalize=True, sentence=True)\n",
    "ident.update(ctx.identity())\n",
    "print(text)\n",
    "ident"
   ],
   "metadata": {
    "collapsed": false
   },
   "id": "d9d909ddbba12f12"
  },
  {
   "cell_type": "code",
   "execution_count": 33,
   "outputs": [
    {
     "name": "stdout",
     "output_type": "stream",
     "text": [
      "The chance that this incident was scarcely covered by the media is 57%.\n"
     ]
    },
    {
     "data": {
      "text/plain": "{'verb_id': 1, 'clause_id': 1, 'position_id': 0, 'chance_word_id': 1}"
     },
     "execution_count": 33,
     "metadata": {},
     "output_type": "execute_result"
    }
   ],
   "source": [
    "\n",
    "selection = {}\n",
    "\n",
    "\n",
    "\n",
    "\n",
    "story = random.choice(stories)\n",
    "varname = random.choice(list(rawverbs.keys()))\n",
    "varinfo = story['sheet'][varname]\n",
    "varval = 0\n",
    "\n",
    "ctx = ClauseVerbalization().populate_variable_info(info, mean=0.57).populate_default(precise_templates=precise_templates, position_templates=position_templates)\n",
    "\n",
    "# ctx['clause_id'] = 3\n",
    "ctx['position_id'] = 0\n",
    "\n",
    "text = Template.detok(ctx['clause'], capitalize=True, sentence=True)\n",
    "print(text)\n",
    "ctx.identity()"
   ],
   "metadata": {
    "collapsed": false,
    "ExecuteTime": {
     "end_time": "2023-11-28T15:36:36.356975911Z",
     "start_time": "2023-11-28T15:36:36.339666321Z"
    }
   },
   "id": "a615f931ea866100"
  },
  {
   "cell_type": "code",
   "execution_count": 10,
   "outputs": [],
   "source": [
    "# ClauseVerbalization._precise_templates[0]"
   ],
   "metadata": {
    "collapsed": false,
    "ExecuteTime": {
     "end_time": "2023-11-28T15:31:53.646470614Z",
     "start_time": "2023-11-28T15:31:53.633782175Z"
    }
   },
   "id": "cb7ccfec6057274e"
  },
  {
   "cell_type": "code",
   "execution_count": null,
   "outputs": [],
   "source": [],
   "metadata": {
    "collapsed": false
   },
   "id": "84adb6c628d96022"
  },
  {
   "cell_type": "code",
   "execution_count": null,
   "outputs": [],
   "source": [],
   "metadata": {
    "collapsed": false
   },
   "id": "87145c097f684a73"
  },
  {
   "cell_type": "code",
   "execution_count": 10,
   "outputs": [],
   "source": [],
   "metadata": {
    "collapsed": false,
    "ExecuteTime": {
     "end_time": "2023-11-28T15:31:58.875779123Z",
     "start_time": "2023-11-28T15:31:58.862463497Z"
    }
   },
   "id": "5531e86555338fac"
  },
  {
   "cell_type": "code",
   "execution_count": null,
   "outputs": [],
   "source": [],
   "metadata": {
    "collapsed": false
   },
   "id": "c32d952d9e328b8"
  },
  {
   "cell_type": "code",
   "execution_count": null,
   "outputs": [],
   "source": [],
   "metadata": {
    "collapsed": false
   },
   "id": "5052a520708b640"
  },
  {
   "cell_type": "code",
   "execution_count": 8,
   "outputs": [],
   "source": [
    "\n",
    "prob_words = ['probability', 'chance', 'likelihood']\n",
    "chance_words = ['probability', 'chance', 'likelihood', 'odds']\n",
    "\n"
   ],
   "metadata": {
    "collapsed": false,
    "ExecuteTime": {
     "end_time": "2023-11-28T14:39:52.537372963Z",
     "start_time": "2023-11-28T14:39:52.511392357Z"
    }
   },
   "id": "eca2719f35b8fe6d"
  },
  {
   "cell_type": "code",
   "execution_count": 18,
   "outputs": [],
   "source": [
    "def detok(tokens):\n",
    "\ttoks = [', ' if tok == ',' else tok for tok in tokens]\n",
    "\tsentence = ' '.join(toks) + '.'\n",
    "\treturn sentence.capitalize()"
   ],
   "metadata": {
    "collapsed": false,
    "ExecuteTime": {
     "end_time": "2023-11-27T15:47:41.226348946Z",
     "start_time": "2023-11-27T15:47:41.210297087Z"
    }
   },
   "id": "1aab35e99d67d976"
  },
  {
   "cell_type": "code",
   "execution_count": null,
   "outputs": [],
   "source": [
    "# 1. One of the variables is {descriptor}.\n",
    "# 2. {subject} [often/usually/sometimes/rarely/etc.] {predicate}.\n",
    "# 3. There is a [number]% chance that {noun-clause}.\n",
    "# 4. [In/For/With/etc.] [number]% of {domain}, there {phrase}.\n",
    "# 5. Conditional sentence: {condition}, [some consequence].\n",
    "# 6. Interventional: If {action}, [some effect]."
   ],
   "metadata": {
    "collapsed": false
   },
   "id": "eb8aeeebcf773cdf"
  },
  {
   "cell_type": "code",
   "execution_count": 19,
   "outputs": [
    {
     "ename": "NameError",
     "evalue": "name 'AbstractGadget' is not defined",
     "output_type": "error",
     "traceback": [
      "\u001B[0;31m---------------------------------------------------------------------------\u001B[0m",
      "\u001B[0;31mNameError\u001B[0m                                 Traceback (most recent call last)",
      "Cell \u001B[0;32mIn[19], line 1\u001B[0m\n\u001B[0;32m----> 1\u001B[0m \u001B[38;5;28;01mclass\u001B[39;00m \u001B[38;5;21;01mDictGadget\u001B[39;00m(\u001B[43mAbstractGadget\u001B[49m):\n\u001B[1;32m      2\u001B[0m \t_no_default \u001B[38;5;241m=\u001B[39m \u001B[38;5;28mobject\u001B[39m()\n\u001B[1;32m      3\u001B[0m \t\u001B[38;5;28;01mdef\u001B[39;00m \u001B[38;5;21m__init__\u001B[39m(\u001B[38;5;28mself\u001B[39m, data: \u001B[38;5;28mdict\u001B[39m[\u001B[38;5;28mstr\u001B[39m, Any], default_value\u001B[38;5;241m=\u001B[39m_no_default, gizmos: \u001B[38;5;28mlist\u001B[39m[\u001B[38;5;28mstr\u001B[39m] \u001B[38;5;241m=\u001B[39m \u001B[38;5;28;01mNone\u001B[39;00m, \u001B[38;5;241m*\u001B[39m\u001B[38;5;241m*\u001B[39mkwargs):\n",
      "\u001B[0;31mNameError\u001B[0m: name 'AbstractGadget' is not defined"
     ]
    }
   ],
   "source": [
    "# The man that she loved went home.\n",
    "# She realized that he loves her."
   ],
   "metadata": {
    "collapsed": false,
    "ExecuteTime": {
     "end_time": "2023-11-28T10:15:39.525389468Z",
     "start_time": "2023-11-28T10:15:39.473031079Z"
    }
   },
   "id": "238567e178379552"
  },
  {
   "cell_type": "code",
   "execution_count": null,
   "outputs": [],
   "source": [
    "# 1. One of the variables is {variable}.\n",
    "# 2. We estimate {subject} [often/usually/sometimes/rarely/etc.] {value}.\n",
    "# 3. There is a [number]% chance that {value}.\n",
    "# 4. [number]% of {domain} {value}.\n",
    "# 5. [number]% of the time {value}.\n",
    "# 6. Conditional sentence: {value}, [some consequence].\n",
    "# 7. Interventional: If {value}, [some effect]."
   ],
   "metadata": {
    "collapsed": false
   },
   "id": "28f852100b5fcba3"
  },
  {
   "cell_type": "code",
   "execution_count": null,
   "outputs": [],
   "source": [],
   "metadata": {
    "collapsed": false
   },
   "id": "27eac865d2408b88"
  },
  {
   "cell_type": "code",
   "execution_count": null,
   "outputs": [],
   "source": [],
   "metadata": {
    "collapsed": false,
    "ExecuteTime": {
     "end_time": "2023-11-27T15:11:52.536416030Z",
     "start_time": "2023-11-27T15:11:52.478641307Z"
    }
   },
   "id": "10620b6940b3b876"
  },
  {
   "cell_type": "code",
   "execution_count": null,
   "outputs": [],
   "source": [],
   "metadata": {
    "collapsed": false
   },
   "id": "960b14f65ddc10ec"
  }
 ],
 "metadata": {
  "kernelspec": {
   "display_name": "Python 3",
   "language": "python",
   "name": "python3"
  },
  "language_info": {
   "codemirror_mode": {
    "name": "ipython",
    "version": 2
   },
   "file_extension": ".py",
   "mimetype": "text/x-python",
   "name": "python",
   "nbconvert_exporter": "python",
   "pygments_lexer": "ipython2",
   "version": "2.7.6"
  }
 },
 "nbformat": 4,
 "nbformat_minor": 5
}

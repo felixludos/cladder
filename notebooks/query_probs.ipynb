{
 "cells": [
  {
   "cell_type": "code",
   "execution_count": 1,
   "outputs": [],
   "source": [
    "from pathlib import Path\n",
    "from omnibelt import toposort, load_json, save_json\n",
    "from itertools import product, combinations\n",
    "# import pyperclip\n",
    "# import clipboard\n",
    "import networkx as nx\n",
    "from tqdm.notebook import tqdm\n",
    "from tabulate import tabulate\n",
    "import matplotlib.pyplot as plt\n",
    "import seaborn as sns\n",
    "from omniply import tool, ToolKit, Context\n",
    "\n",
    "import numpy as np\n",
    "import torch\n",
    "from causalbenchmark.novo.simulation.models import Bernoulli, ConditionalBernoulli, BernoulliNetwork\n",
    "from causalbenchmark.novo.seeding import NewsHeadlines, StatisticsPrompting, Story\n",
    "from causalbenchmark.novo.templating import FixedTemplate, SimpleTemplater\n",
    "from causalbenchmark.novo import misc"
   ],
   "metadata": {
    "collapsed": false,
    "ExecuteTime": {
     "end_time": "2023-11-21T17:00:54.945429682Z",
     "start_time": "2023-11-21T17:00:52.349378485Z"
    }
   },
   "id": "e4dbd77df7c7caae"
  },
  {
   "cell_type": "code",
   "execution_count": 2,
   "outputs": [
    {
     "data": {
      "text/plain": "  0%|          | 0/5 [00:00<?, ?it/s]",
      "application/vnd.jupyter.widget-view+json": {
       "version_major": 2,
       "version_minor": 0,
       "model_id": "d7ad3b03d21144c4919ebff3e5bd188b"
      }
     },
     "metadata": {},
     "output_type": "display_data"
    },
    {
     "data": {
      "text/plain": "550074",
      "image/png": "[encoded data removed]",
      "text/latex": "$\\displaystyle 550074$"
     },
     "execution_count": 2,
     "metadata": {},
     "output_type": "execute_result"
    }
   ],
   "source": [
    "spark_generator = NewsHeadlines(locs=['gb', 'de', 'fr', 'it', 'nl']).load(pbar=tqdm)\n",
    "len(spark_generator.article_IDs)"
   ],
   "metadata": {
    "collapsed": false,
    "ExecuteTime": {
     "end_time": "2023-11-21T17:01:00.688737359Z",
     "start_time": "2023-11-21T17:00:54.944003593Z"
    }
   },
   "id": "a3e440a9e9d43579"
  },
  {
   "cell_type": "code",
   "execution_count": 3,
   "outputs": [],
   "source": [
    "@tool('treatments')\n",
    "def get_treatments(nodes):\n",
    "    tr = [node for node in nodes if node['type'] == 'treatment']\n",
    "    assert len(tr) == 2\n",
    "    return tr\n",
    "@tool('outcome')\n",
    "def get_outcome(nodes):\n",
    "    o = [node for node in nodes if node['type'] == 'outcome']\n",
    "    assert len(o) == 1\n",
    "    return o[0]\n",
    "@tool('confounders')\n",
    "def get_confounders(nodes):\n",
    "    c = [node for node in nodes if node['type'] == 'confounder']\n",
    "    return c"
   ],
   "metadata": {
    "collapsed": false,
    "ExecuteTime": {
     "end_time": "2023-11-21T17:01:00.688912818Z",
     "start_time": "2023-11-21T17:01:00.646166886Z"
    }
   },
   "id": "f85f3941f2c88fc6"
  },
  {
   "cell_type": "code",
   "execution_count": 4,
   "outputs": [],
   "source": [
    "setting_generation_prompt_template = \\\n",
    "'''We are interested in building a causal model based on the explicit and implicit assumptions contained in the specified article and then using causal inference to evaluate the reasoning. Answer the following questions to design an interesting, simple, and most importantly realistic causal model from a news article.\n",
    "\n",
    "To help understand the instructions here are some tips:\n",
    "- all variables are always binary and (at least in principle) measurable, so when creating and selecting variables, make sure it is reasonable to treat them as binary\n",
    "- whenever you propose a variable, make sure to define the meaning of each value it can take, and mention whether it is observable or not\n",
    "- outcome variables are always observable\n",
    "- treatment variables are always observable and intervenable, that means it must be possible to (at least in principle) change their value if desired\n",
    "- confounder variables may or may not be observable, and should always have at least two causal children (for example, a treatment and outcome variable) and no causal parents\n",
    "- mediator variables may or may not be observable, and should always have at least one causal parent (for example, a treatment variable) and at least one causal child (for example, the outcome variable)\n",
    "- collider variables may or may not be observable, and should always have at least two causal parents (for example, a treatment and outcome variable) and no causal children\n",
    "\n",
    "Answer concisely and precisely in the desired format. Carefully complete each of these tasks in order.\n",
    "\n",
    "1. Write a short description of what the article is about and what causal model make inform the reasoning behind an argument the might make.\n",
    "2. Propose 1 outcome variable that the news article is either implicitly or explicitly addressing that people are most likely to be interested in studying, especially if people tend to have misconceptions about it\n",
    "3. Propose 2 treatment variables that either directly or indirectly affect the selected outcome variable and are the most interesting to study\n",
    "4. Propose 3 confounder variables that affect some reasonable combination of the outcome and treatment variables\n",
    "5. Propose 3 mediator variables that affect and are affected by some reasonable combination of any other variables\n",
    "6. Propose 2 collider variables that are affected by some reasonable combination of any other variables\n",
    "\n",
    "Here is the beginning of the news article:\n",
    "```\n",
    "{spark}\n",
    "```\n",
    "\n",
    "The variables and causal graph should, where possible, use specific details such as names and locations mentioned in the article. Also, generally the variable value \"0\" should correspond to the negative, neutral, or control while the value \"1\" should correspond to the positive choice or active value.\n",
    "\n",
    "Take a deep breath and think step-by-step about how you will do this.'''\n",
    "graph_selection_prompt_template = \\\n",
    "'''1. From all proposed confounder, mediator, and collider variables, select between 4-6 variables that are most interesting to study and together with the treatment and outcome variables result in a realistic interesting causal graph. Important: Make sure the causal graph is a DAG and that no node has more than TWO parents!\n",
    "2.  List all the edges in the causal graph, and make sure to mention which edges are observable and which are not.\n",
    "3. Provide a python list called `nodes` of all the nodes in the proposed graph. For each node, provide the following information in the form of a python dict:\n",
    "- `name`: the name of the variable\n",
    "- `description`: a short description of the variable\n",
    "- `type`: the type of the variable, which can be one of the following: `outcome`, `treatment`, `confounder`, `mediator`, `collider`\n",
    "- `observed`: a boolean value indicating whether the variable is observable or not\n",
    "- `values`: a python list of the descriptions of the values the variable can take (corresponding to the index)\n",
    "- `parents`: a python list of the names of the parents of the variable (make sure they match the corresponding `name` field of the parent nodes, and remember, there should not be more than TWO parents for any node)\n",
    "\n",
    "Take a deep breath and think step-by-step about how you will do this.'''\n",
    "stats_prompt_template = \\\n",
    "'''We have a causal bayes net based on the following article:\n",
    "\n",
    "```\n",
    "{spark}\n",
    "```\n",
    "\n",
    "Now we would like to estimate the probabilities of certain events.\n",
    "\n",
    "Using commonsense, estimate the probabilities of the following events:\n",
    "\n",
    "{questions}\n",
    "\n",
    "Where the variables are defined as:\n",
    "{descriptions}\n",
    "\n",
    "For each question above, answer with the lower and upper bound estimates of the probabilities as a python dictionary where the key corresponds to the question index in exactly the following format:\n",
    "\n",
    "```python\n",
    "probabilities = {{\n",
    "  1: [0.3, 0.4],\n",
    "  ...\n",
    "}}\n",
    "```\n",
    "\n",
    "Answer concisely and precisely in the desired format.'''"
   ],
   "metadata": {
    "collapsed": false,
    "ExecuteTime": {
     "end_time": "2023-11-21T17:01:00.688997895Z",
     "start_time": "2023-11-21T17:01:00.646297449Z"
    }
   },
   "id": "810e9c63d4ccc441"
  },
  {
   "cell_type": "code",
   "execution_count": 5,
   "outputs": [
    {
     "name": "stdout",
     "output_type": "stream",
     "text": [
      "6805333\n",
      "Title: To reduce the risk of heart attack and stroke, 150 grams of these 2 fruits per week could help us - Stock Market Projections\n",
      "Description: The symbolism associates economic luck and iron health with dried fruit. Especially in Northern European countries, this bond is deeply felt, and not\n",
      "Original Language: Italian\n"
     ]
    }
   ],
   "source": [
    "ctx = Story(story_root=misc.data_root() / 'stories', story_id='test14')\n",
    "# ctx = Story(story_root=misc.data_root() / 'stories')\n",
    "# ctx.populate_defaults()\n",
    "ctx.include(\n",
    "    FixedTemplate('setting', setting_generation_prompt_template),\n",
    "    FixedTemplate('graph', graph_selection_prompt_template),\n",
    "    StatisticsPrompting(stats_prompt_template),\n",
    "    spark_generator,\n",
    "    get_treatments,\n",
    "    get_outcome,\n",
    "    get_confounders,\n",
    ");\n",
    "# print(ctx)\n",
    "# ctx['seed'] = 6805333\n",
    "print(ctx['seed'])\n",
    "print(ctx['spark'])"
   ],
   "metadata": {
    "collapsed": false,
    "ExecuteTime": {
     "end_time": "2023-11-21T17:01:00.689169335Z",
     "start_time": "2023-11-21T17:01:00.646370250Z"
    }
   },
   "id": "46baeb3a28e45ee"
  },
  {
   "cell_type": "code",
   "execution_count": 6,
   "outputs": [
    {
     "name": "stdout",
     "output_type": "stream",
     "text": [
      "We are interested in building a causal model based on the explicit and implicit assumptions contained in the specified article and then using causal inference to evaluate the reasoning. Answer the following questions to design an interesting, simple, and most importantly realistic causal model from a news article.\n",
      "\n",
      "To help understand the instructions here are some tips:\n",
      "- all variables are always binary and (at least in principle) measurable, so when creating and selecting variables, make sure it is reasonable to treat them as binary\n",
      "- whenever you propose a variable, make sure to define the meaning of each value it can take, and mention whether it is observable or not\n",
      "- outcome variables are always observable\n",
      "- treatment variables are always observable and intervenable, that means it must be possible to (at least in principle) change their value if desired\n",
      "- confounder variables may or may not be observable, and should always have at least two causal children (for example, a treatment and outcome variable) and no causal parents\n",
      "- mediator variables may or may not be observable, and should always have at least one causal parent (for example, a treatment variable) and at least one causal child (for example, the outcome variable)\n",
      "- collider variables may or may not be observable, and should always have at least two causal parents (for example, a treatment and outcome variable) and no causal children\n",
      "\n",
      "Answer concisely and precisely in the desired format. Carefully complete each of these tasks in order.\n",
      "\n",
      "1. Write a short description of what the article is about and what causal model make inform the reasoning behind an argument the might make.\n",
      "2. Propose 1 outcome variable that the news article is either implicitly or explicitly addressing that people are most likely to be interested in studying, especially if people tend to have misconceptions about it\n",
      "3. Propose 2 treatment variables that either directly or indirectly affect the selected outcome variable and are the most interesting to study\n",
      "4. Propose 3 confounder variables that affect some reasonable combination of the outcome and treatment variables\n",
      "5. Propose 3 mediator variables that affect and are affected by some reasonable combination of any other variables\n",
      "6. Propose 2 collider variables that are affected by some reasonable combination of any other variables\n",
      "\n",
      "Here is the beginning of the news article:\n",
      "```\n",
      "Title: To reduce the risk of heart attack and stroke, 150 grams of these 2 fruits per week could help us - Stock Market Projections\n",
      "Description: The symbolism associates economic luck and iron health with dried fruit. Especially in Northern European countries, this bond is deeply felt, and not\n",
      "Original Language: Italian\n",
      "```\n",
      "\n",
      "The variables and causal graph should, where possible, use specific details such as names and locations mentioned in the article. Also, generally the variable value \"0\" should correspond to the negative, neutral, or control while the value \"1\" should correspond to the positive choice or active value.\n",
      "\n",
      "Take a deep breath and think step-by-step about how you will do this.\n"
     ]
    }
   ],
   "source": [
    "print(ctx['setting'])"
   ],
   "metadata": {
    "collapsed": false,
    "ExecuteTime": {
     "end_time": "2023-11-21T17:01:00.689322938Z",
     "start_time": "2023-11-21T17:01:00.646468240Z"
    }
   },
   "id": "7cac9d876fc4d17a"
  },
  {
   "cell_type": "code",
   "execution_count": 7,
   "outputs": [
    {
     "name": "stdout",
     "output_type": "stream",
     "text": [
      "1. From all proposed confounder, mediator, and collider variables, select between 4-6 variables that are most interesting to study and together with the treatment and outcome variables result in a realistic interesting causal graph. Important: Make sure the causal graph is a DAG and that no node has more than TWO parents!\n",
      "2.  List all the edges in the causal graph, and make sure to mention which edges are observable and which are not.\n",
      "3. Provide a python list called `nodes` of all the nodes in the proposed graph. For each node, provide the following information in the form of a python dict:\n",
      "- `name`: the name of the variable\n",
      "- `description`: a short description of the variable\n",
      "- `type`: the type of the variable, which can be one of the following: `outcome`, `treatment`, `confounder`, `mediator`, `collider`\n",
      "- `observed`: a boolean value indicating whether the variable is observable or not\n",
      "- `values`: a python list of the descriptions of the values the variable can take (corresponding to the index)\n",
      "- `parents`: a python list of the names of the parents of the variable (make sure they match the corresponding `name` field of the parent nodes, and remember, there should not be more than TWO parents for any node)\n",
      "\n",
      "Take a deep breath and think step-by-step about how you will do this.\n"
     ]
    }
   ],
   "source": [
    "print(ctx['graph'])"
   ],
   "metadata": {
    "collapsed": false,
    "ExecuteTime": {
     "end_time": "2023-11-21T17:01:00.689466703Z",
     "start_time": "2023-11-21T17:01:00.646516693Z"
    }
   },
   "id": "3dba22960a9e0ca4"
  },
  {
   "cell_type": "code",
   "execution_count": 8,
   "outputs": [],
   "source": [
    "#################################################\n",
    "\n",
    "\n",
    "nodes = [\n",
    "    {\n",
    "        \"name\": \"Lifestyle Habits\",\n",
    "        \"description\": \"Individual's general lifestyle habits\",\n",
    "        \"type\": \"confounder\",\n",
    "        \"observed\": True,\n",
    "        \"values\": [\"Unhealthy habits\", \"Healthy habits\"],\n",
    "        \"parents\": []\n",
    "    },\n",
    "    {\n",
    "        \"name\": \"Health Awareness\",\n",
    "        \"description\": \"Awareness of health-related information and practices\",\n",
    "        \"type\": \"mediator\",\n",
    "        \"observed\": True,\n",
    "        \"values\": [\"Low awareness\", \"High awareness\"],\n",
    "        \"parents\": [\"Lifestyle Habits\"]\n",
    "    },\n",
    "    {\n",
    "        \"name\": \"Fruit Consumption\",\n",
    "        \"description\": \"Consumption of fruits weekly\",\n",
    "        \"type\": \"treatment\",\n",
    "        \"observed\": True,\n",
    "        \"values\": [\"< 150 grams\", \">= 150 grams\"],\n",
    "        \"parents\": [\"Lifestyle Habits\", \"Health Awareness\"]\n",
    "    },\n",
    "    {\n",
    "        \"name\": \"Type of Fruit Consumed\",\n",
    "        \"description\": \"Type of fruits consumed, specified or others\",\n",
    "        \"type\": \"treatment\",\n",
    "        \"observed\": True,\n",
    "        \"values\": [\"Other fruits\", \"Specified fruits\"],\n",
    "        \"parents\": []\n",
    "    },\n",
    "    {\n",
    "        \"name\": \"Cardiovascular Health\",\n",
    "        \"description\": \"Overall cardiovascular health status\",\n",
    "        \"type\": \"outcome\",\n",
    "        \"observed\": True,\n",
    "        \"values\": [\"Poor\", \"Good\"],\n",
    "        \"parents\": [\"Lifestyle Habits\", \"Fruit Consumption\", \"Type of Fruit Consumed\"]\n",
    "    },\n",
    "    {\n",
    "        \"name\": \"Perceived Health Status\",\n",
    "        \"description\": \"Individual's perception of their health status\",\n",
    "        \"type\": \"collider\",\n",
    "        \"observed\": True,\n",
    "        \"values\": [\"Perceived as Poor\", \"Perceived as Good\"],\n",
    "        \"parents\": [\"Cardiovascular Health\", \"Health Awareness\"]\n",
    "    }\n",
    "]\n",
    "\n",
    "\n",
    "\n",
    "\n",
    "#################################################\n",
    "varvals = {node['name']: node['values'] for node in nodes}\n",
    "varparents = {node['name']: node['parents'] for node in nodes}\n",
    "varorder = toposort(varparents)\n",
    "nodes = sorted(nodes, key=lambda x: varorder.index(x['name']))\n",
    "\n",
    "ctx['nodes'] = nodes\n"
   ],
   "metadata": {
    "collapsed": false,
    "ExecuteTime": {
     "end_time": "2023-11-21T17:01:00.689539670Z",
     "start_time": "2023-11-21T17:01:00.646559432Z"
    }
   },
   "id": "f3fcf031d24d5d48"
  },
  {
   "cell_type": "code",
   "execution_count": 9,
   "outputs": [
    {
     "name": "stderr",
     "output_type": "stream",
     "text": [
      "/tmp/ipykernel_939518/3652574873.py:19: UserWarning: This figure includes Axes that are not compatible with tight_layout, so results might be incorrect.\n",
      "  plt.tight_layout();\n"
     ]
    },
    {
     "data": {
      "text/plain": "<Figure size 1000x600 with 1 Axes>",
      "image/png": "[encoded data removed]"
     },
     "metadata": {},
     "output_type": "display_data"
    }
   ],
   "source": [
    "G = nx.DiGraph()\n",
    "\n",
    "# Add nodes and edges to the graph\n",
    "for node in ctx['nodes']:\n",
    "    G.add_node(node['name'], type=node['type'], observed=node['observed'])\n",
    "    for parent in node['parents']:\n",
    "        G.add_edge(parent, node['name'])\n",
    "\n",
    "# Define node colors based on type\n",
    "node_colors = {'treatment': 'lightcoral', 'outcome': 'lightgreen', 'confounder': 'lightblue', 'mediator': 'lightyellow', 'collider': 'lightgray'}\n",
    "colors = [node_colors[G.nodes[n]['type']] for n in G.nodes]\n",
    "\n",
    "# Draw the graph\n",
    "plt.figure(figsize=(10, 6))\n",
    "# pos = nx.spring_layout(G)\n",
    "pos = nx.circular_layout(G)\n",
    "nx.draw(G, pos, with_labels=True, node_color=colors, node_size=5000, font_size=10, font_weight='bold', edge_color='gray', arrowsize=20)\n",
    "plt.title('Causal Graph', size=15);\n",
    "plt.tight_layout();"
   ],
   "metadata": {
    "collapsed": false,
    "ExecuteTime": {
     "end_time": "2023-11-21T17:01:00.839018075Z",
     "start_time": "2023-11-21T17:01:00.646599974Z"
    }
   },
   "id": "9f8b963c0ac35fa8"
  },
  {
   "cell_type": "code",
   "execution_count": 10,
   "outputs": [
    {
     "name": "stdout",
     "output_type": "stream",
     "text": [
      "We have a causal bayes net based on the following article:\n",
      "\n",
      "```\n",
      "Title: To reduce the risk of heart attack and stroke, 150 grams of these 2 fruits per week could help us - Stock Market Projections\n",
      "Description: The symbolism associates economic luck and iron health with dried fruit. Especially in Northern European countries, this bond is deeply felt, and not\n",
      "Original Language: Italian\n",
      "```\n",
      "\n",
      "Now we would like to estimate the probabilities of certain events.\n",
      "\n",
      "Using commonsense, estimate the probabilities of the following events:\n",
      "\n",
      "1. what is the probability that \"Lifestyle Habits\" is \"Healthy habits\" (rather than \"Unhealthy habits\")?\n",
      "2. when \"Lifestyle Habits\" is \"Unhealthy habits\": what is the probability that \"Health Awareness\" is \"High awareness\" (rather than \"Low awareness\")?\n",
      "3. when \"Lifestyle Habits\" is \"Healthy habits\": what is the probability that \"Health Awareness\" is \"High awareness\" (rather than \"Low awareness\")?\n",
      "4. when \"Lifestyle Habits\" is \"Unhealthy habits\" and \"Health Awareness\" is \"Low awareness\": what is the probability that \"Fruit Consumption\" is \">= 150 grams\" (rather than \"< 150 grams\")?\n",
      "5. when \"Lifestyle Habits\" is \"Unhealthy habits\" and \"Health Awareness\" is \"High awareness\": what is the probability that \"Fruit Consumption\" is \">= 150 grams\" (rather than \"< 150 grams\")?\n",
      "6. when \"Lifestyle Habits\" is \"Healthy habits\" and \"Health Awareness\" is \"Low awareness\": what is the probability that \"Fruit Consumption\" is \">= 150 grams\" (rather than \"< 150 grams\")?\n",
      "7. when \"Lifestyle Habits\" is \"Healthy habits\" and \"Health Awareness\" is \"High awareness\": what is the probability that \"Fruit Consumption\" is \">= 150 grams\" (rather than \"< 150 grams\")?\n",
      "8. what is the probability that \"Type of Fruit Consumed\" is \"Specified fruits\" (rather than \"Other fruits\")?\n",
      "9. when \"Lifestyle Habits\" is \"Unhealthy habits\" and \"Fruit Consumption\" is \"< 150 grams\" and \"Type of Fruit Consumed\" is \"Other fruits\": what is the probability that \"Cardiovascular Health\" is \"Good\" (rather than \"Poor\")?\n",
      "10. when \"Lifestyle Habits\" is \"Unhealthy habits\" and \"Fruit Consumption\" is \"< 150 grams\" and \"Type of Fruit Consumed\" is \"Specified fruits\": what is the probability that \"Cardiovascular Health\" is \"Good\" (rather than \"Poor\")?\n",
      "11. when \"Lifestyle Habits\" is \"Unhealthy habits\" and \"Fruit Consumption\" is \">= 150 grams\" and \"Type of Fruit Consumed\" is \"Other fruits\": what is the probability that \"Cardiovascular Health\" is \"Good\" (rather than \"Poor\")?\n",
      "12. when \"Lifestyle Habits\" is \"Unhealthy habits\" and \"Fruit Consumption\" is \">= 150 grams\" and \"Type of Fruit Consumed\" is \"Specified fruits\": what is the probability that \"Cardiovascular Health\" is \"Good\" (rather than \"Poor\")?\n",
      "13. when \"Lifestyle Habits\" is \"Healthy habits\" and \"Fruit Consumption\" is \"< 150 grams\" and \"Type of Fruit Consumed\" is \"Other fruits\": what is the probability that \"Cardiovascular Health\" is \"Good\" (rather than \"Poor\")?\n",
      "14. when \"Lifestyle Habits\" is \"Healthy habits\" and \"Fruit Consumption\" is \"< 150 grams\" and \"Type of Fruit Consumed\" is \"Specified fruits\": what is the probability that \"Cardiovascular Health\" is \"Good\" (rather than \"Poor\")?\n",
      "15. when \"Lifestyle Habits\" is \"Healthy habits\" and \"Fruit Consumption\" is \">= 150 grams\" and \"Type of Fruit Consumed\" is \"Other fruits\": what is the probability that \"Cardiovascular Health\" is \"Good\" (rather than \"Poor\")?\n",
      "16. when \"Lifestyle Habits\" is \"Healthy habits\" and \"Fruit Consumption\" is \">= 150 grams\" and \"Type of Fruit Consumed\" is \"Specified fruits\": what is the probability that \"Cardiovascular Health\" is \"Good\" (rather than \"Poor\")?\n",
      "17. when \"Cardiovascular Health\" is \"Poor\" and \"Health Awareness\" is \"Low awareness\": what is the probability that \"Perceived Health Status\" is \"Perceived as Good\" (rather than \"Perceived as Poor\")?\n",
      "18. when \"Cardiovascular Health\" is \"Poor\" and \"Health Awareness\" is \"High awareness\": what is the probability that \"Perceived Health Status\" is \"Perceived as Good\" (rather than \"Perceived as Poor\")?\n",
      "19. when \"Cardiovascular Health\" is \"Good\" and \"Health Awareness\" is \"Low awareness\": what is the probability that \"Perceived Health Status\" is \"Perceived as Good\" (rather than \"Perceived as Poor\")?\n",
      "20. when \"Cardiovascular Health\" is \"Good\" and \"Health Awareness\" is \"High awareness\": what is the probability that \"Perceived Health Status\" is \"Perceived as Good\" (rather than \"Perceived as Poor\")?\n",
      "\n",
      "Where the variables are defined as:\n",
      "\"Lifestyle Habits\" means \"Individual's general lifestyle habits\"\n",
      "\"Health Awareness\" means \"Awareness of health-related information and practices\"\n",
      "\"Fruit Consumption\" means \"Consumption of fruits weekly\"\n",
      "\"Type of Fruit Consumed\" means \"Type of fruits consumed, specified or others\"\n",
      "\"Cardiovascular Health\" means \"Overall cardiovascular health status\"\n",
      "\"Perceived Health Status\" means \"Individual's perception of their health status\"\n",
      "\n",
      "For each question above, answer with the lower and upper bound estimates of the probabilities as a python dictionary where the key corresponds to the question index in exactly the following format:\n",
      "\n",
      "```python\n",
      "probabilities = {\n",
      "  1: [0.3, 0.4],\n",
      "  ...\n",
      "}\n",
      "```\n",
      "\n",
      "Answer concisely and precisely in the desired format.\n"
     ]
    }
   ],
   "source": [
    "print(ctx['stats'])"
   ],
   "metadata": {
    "collapsed": false,
    "ExecuteTime": {
     "end_time": "2023-11-21T17:01:00.839351004Z",
     "start_time": "2023-11-21T17:01:00.791671362Z"
    }
   },
   "id": "feaee31660914e5"
  },
  {
   "cell_type": "code",
   "execution_count": 11,
   "outputs": [],
   "source": [
    "#################################################\n",
    "\n",
    "\n",
    "\n",
    "probabilities = {\n",
    "    1: [0.4, 0.6],  # Healthy lifestyle habits in the general population\n",
    "    2: [0.1, 0.3],  # High health awareness with unhealthy lifestyle habits\n",
    "    3: [0.7, 0.9],  # High health awareness with healthy lifestyle habits\n",
    "    4: [0.1, 0.3],  # High fruit consumption with unhealthy habits and low health awareness\n",
    "    5: [0.3, 0.5],  # High fruit consumption with unhealthy habits but high health awareness\n",
    "    6: [0.4, 0.6],  # High fruit consumption with healthy habits and low health awareness\n",
    "    7: [0.8, 0.9],  # High fruit consumption with healthy habits and high health awareness\n",
    "    8: [0.4, 0.6],  # Probability of consuming specified fruits\n",
    "    9: [0.1, 0.3],  # Good cardiovascular health with overall poor lifestyle and fruit habits\n",
    "    10: [0.3, 0.5],  # Slightly better cardiovascular health with specified fruit consumption\n",
    "    11: [0.2, 0.4],  # Moderate cardiovascular health with better fruit consumption but overall unhealthy lifestyle\n",
    "    12: [0.4, 0.6],  # Improved cardiovascular health with specified fruit consumption\n",
    "    13: [0.7, 0.8],  # Good cardiovascular health with healthy lifestyle but lower fruit consumption\n",
    "    14: [0.8, 0.9],  # Very good cardiovascular health with healthy lifestyle and specified fruit consumption\n",
    "    15: [0.8, 0.9],  # Very good cardiovascular health with overall healthy lifestyle and fruit habits\n",
    "    16: [0.9, 0.95], # Excellent cardiovascular health with optimal lifestyle and fruit habits\n",
    "    17: [0.3, 0.5],  # Perception of good health despite poor cardiovascular health and low awareness\n",
    "    18: [0.1, 0.3],  # Lower perception of good health with poor cardiovascular health but high awareness\n",
    "    19: [0.6, 0.8],  # High perception of good health with good cardiovascular health and low awareness\n",
    "    20: [0.8, 0.9]   # Very high perception of good health with good cardiovascular health and high awareness\n",
    "}\n",
    "\n",
    "\n",
    "\n",
    "\n",
    "#################################################\n",
    "probs = probabilities\n",
    "ctx['probs'] = probs"
   ],
   "metadata": {
    "collapsed": false,
    "ExecuteTime": {
     "end_time": "2023-11-21T17:01:00.839473002Z",
     "start_time": "2023-11-21T17:01:00.794134518Z"
    }
   },
   "id": "43b3c05608ca33be"
  },
  {
   "cell_type": "code",
   "execution_count": 12,
   "outputs": [],
   "source": [
    "raw_prob_samples = []\n",
    "def to_prob_range(raw):\n",
    "    raw = [prange for _, prange in sorted(raw.items())]\n",
    "    return torch.tensor(raw)\n",
    "\n",
    "prob_ranges = to_prob_range(ctx['probs'])\n",
    "lower_bound, upper_bound = prob_ranges.t()\n",
    "\n",
    "variables = {}\n",
    "for node in ctx['nodes']:\n",
    "    if len(node['parents']):\n",
    "        variables[node['name']] = ConditionalBernoulli([variables[parent] for parent in node['parents']])\n",
    "    else:\n",
    "        variables[node['name']] = Bernoulli(0.5)\n",
    "net = BernoulliNetwork(variables)\n",
    "# net"
   ],
   "metadata": {
    "collapsed": false,
    "ExecuteTime": {
     "end_time": "2023-11-21T17:01:00.924157293Z",
     "start_time": "2023-11-21T17:01:00.799995236Z"
    }
   },
   "id": "9c542b5b6c1269ef"
  },
  {
   "cell_type": "code",
   "execution_count": 32,
   "outputs": [],
   "source": [
    "def mc_samples(N, *fns):\n",
    "    estimates = []\n",
    "    for _ in tqdm(range(N)):\n",
    "        param_sample = torch.rand(len(prob_ranges), 1) * (upper_bound - lower_bound) + lower_bound\n",
    "        net.set_params(param_sample)\n",
    "        estimates.append([fn() for fn in fns])\n",
    "    return torch.tensor(estimates)\n",
    "def make_ate_fn(treatment, outcome, conditions=None):\n",
    "    def ate_fn():\n",
    "        return net.ate(treatment, conditions=conditions)[outcome].item()\n",
    "    return ate_fn\n",
    "def make_corr_fn(v1, v2):\n",
    "    def corr_fn():\n",
    "        return net.correlation(v1, v2).item()\n",
    "    return corr_fn"
   ],
   "metadata": {
    "collapsed": false,
    "ExecuteTime": {
     "end_time": "2023-11-21T17:05:54.821773740Z",
     "start_time": "2023-11-21T17:05:54.757742982Z"
    }
   },
   "id": "ad421b1510843ee"
  },
  {
   "cell_type": "code",
   "execution_count": 37,
   "outputs": [
    {
     "name": "stdout",
     "output_type": "stream",
     "text": [
      "----------------------  ------------  ----------------\n",
      "Fruit Consumption       < 150 grams   >= 150 grams\n",
      "Type of Fruit Consumed  Other fruits  Specified fruits\n",
      "Cardiovascular Health   Poor          Good\n",
      "----------------------  ------------  ----------------\n"
     ]
    },
    {
     "data": {
      "text/plain": "  0%|          | 0/100 [00:00<?, ?it/s]",
      "application/vnd.jupyter.widget-view+json": {
       "version_major": 2,
       "version_minor": 0,
       "model_id": "d5c7f5a269704a9cba4642c5af600fd9"
      }
     },
     "metadata": {},
     "output_type": "display_data"
    },
    {
     "name": "stderr",
     "output_type": "stream",
     "text": [
      "/home/fleeb/miniconda3/lib/python3.11/site-packages/torch/masked/maskedtensor/core.py:156: UserWarning: The PyTorch API of MaskedTensors is in prototype stage and will change in the near future. Please open a Github issue for features requests and see our documentation on the torch.masked module for further information about the project.\n",
      "  warnings.warn((\"The PyTorch API of MaskedTensors is in prototype stage \"\n"
     ]
    },
    {
     "name": "stdout",
     "output_type": "stream",
     "text": [
      "'Lifestyle Habits' means Individual's general lifestyle habits\n",
      "'Health Awareness' means Awareness of health-related information and practices\n",
      "'Fruit Consumption' means Consumption of fruits weekly\n",
      "'Type of Fruit Consumed' means Type of fruits consumed, specified or others\n",
      "'Cardiovascular Health' means Overall cardiovascular health status\n",
      "'Perceived Health Status' means Individual's perception of their health status\n",
      "Treatment Value    Treatment               Outcome Value    Outcome                      ATE    Correlation\n",
      "-----------------  ----------------------  ---------------  ---------------------  ---------  -------------\n",
      ">= 150 grams       Fruit Consumption       Good             Cardiovascular Health  0.0933174     -0.0872099\n",
      "Specified fruits   Type of Fruit Consumed  Good             Cardiovascular Health  0.143873       0.109458\n"
     ]
    }
   ],
   "source": [
    "treatment1, treatment2 = [n['name'] for n in ctx['treatments']]\n",
    "t1vals = [node['values'] for node in ctx['nodes'] if node['name'] == treatment1][0]\n",
    "t2vals = [node['values'] for node in ctx['nodes'] if node['name'] == treatment2][0]\n",
    "outcome = ctx['outcome']['name']\n",
    "ovals = [node['values'] for node in ctx['nodes'] if node['name'] == outcome][0]\n",
    "confounders = [node['name'] for node in ctx['confounders']]\n",
    "\n",
    "print(tabulate([\n",
    "    [treatment1, *t1vals],\n",
    "    [treatment2, *t2vals],\n",
    "    [outcome, *ovals]\n",
    "]))\n",
    "\n",
    "cate_keys = [(treatment['name'], confounder['name'], cval) for treatment in ctx['treatments'] for confounder in ctx['confounders'] for cval in [0, 1]]\n",
    "cate_fns = [make_ate_fn(treatment, outcome, conditions={confounder: val}) for treatment, confounder, val in cate_keys]\n",
    "ate1, ate2, corr1, corr2, *cates = mc_samples(100, make_ate_fn(treatment1, outcome), make_ate_fn(treatment2, outcome),\n",
    "                                      make_corr_fn(treatment1, outcome), make_corr_fn(treatment2, outcome), *cate_fns).t()\n",
    "\n",
    "print('\\n'.join(f'{node[\"name\"]!r} means {node[\"description\"]}' for node in ctx['nodes']))\n",
    "print(tabulate([\n",
    "    [f'{t1vals[1]}', f'{treatment1}', f'{ovals[1]}', f'{outcome}', ate1.mean(), corr1.mean(), ],\n",
    "    [f'{t2vals[1]}', f'{treatment2}', f'{ovals[1]}', f'{outcome}', ate2.mean(), corr2.mean(), ],\n",
    "], headers=['Treatment Value', 'Treatment', 'Outcome Value', 'Outcome', 'ATE', 'Correlation']))"
   ],
   "metadata": {
    "collapsed": false,
    "ExecuteTime": {
     "end_time": "2023-11-21T17:10:26.325442054Z",
     "start_time": "2023-11-21T17:10:08.336122258Z"
    }
   },
   "id": "438022b13300119a"
  },
  {
   "cell_type": "code",
   "execution_count": 15,
   "outputs": [
    {
     "data": {
      "text/plain": "<Figure size 800x400 with 1 Axes>",
      "image/png": "[encoded data removed]"
     },
     "metadata": {},
     "output_type": "display_data"
    }
   ],
   "source": [
    "plt.figure(figsize=(8, 4))\n",
    "sns.kdeplot(ate1, label=f'{t1vals[1]} = {treatment1}', fill=True, clip=(min(ate1), max(ate1)));\n",
    "sns.kdeplot(ate2, label=f'{t2vals[1]} = {treatment2}', fill=True, clip=(min(ate2), max(ate2)));\n",
    "plt.title(f'{ovals[1]} = {outcome}')\n",
    "plt.ylabel(f'P(ATE)')\n",
    "plt.gca().legend(loc='upper center', bbox_to_anchor=(0.5, -.1))\n",
    "plt.axvline(0, color='black', linestyle='--', alpha=0.5)\n",
    "# plt.xlim(-1, 1)\n",
    "plt.tight_layout();"
   ],
   "metadata": {
    "collapsed": false,
    "ExecuteTime": {
     "end_time": "2023-11-21T17:01:12.216260771Z",
     "start_time": "2023-11-21T17:01:11.960889912Z"
    }
   },
   "id": "91c54e61480a1489"
  },
  {
   "cell_type": "code",
   "execution_count": 16,
   "outputs": [
    {
     "data": {
      "text/plain": "<Figure size 800x400 with 1 Axes>",
      "image/png": "[encoded data removed]"
     },
     "metadata": {},
     "output_type": "display_data"
    }
   ],
   "source": [
    "plt.figure(figsize=(8, 4))\n",
    "sns.kdeplot(corr1, label=f'{t1vals[1]} = {treatment1}', fill=True, clip=(min(corr1), max(corr1)));\n",
    "sns.kdeplot(corr2, label=f'{t2vals[1]} = {treatment2}', fill=True, clip=(min(corr2), max(corr2)));\n",
    "plt.title(f'{ovals[1]} = {outcome}')\n",
    "plt.ylabel(f'P(Correlation)')\n",
    "plt.gca().legend(loc='upper center', bbox_to_anchor=(0.5, -.1))\n",
    "plt.axvline(0, color='black', linestyle='--', alpha=0.5)\n",
    "# plt.xlim(-1, 1)\n",
    "plt.tight_layout();"
   ],
   "metadata": {
    "collapsed": false,
    "ExecuteTime": {
     "end_time": "2023-11-21T17:01:12.432730929Z",
     "start_time": "2023-11-21T17:01:12.215611602Z"
    }
   },
   "id": "567b6b9bfc98960c"
  },
  {
   "cell_type": "code",
   "execution_count": 19,
   "outputs": [
    {
     "ename": "FileExistsError",
     "evalue": "File /home/fleeb/workspace/code/cladder/novo-data/stories/test14.json already exists (use overwrite=True to overwrite)",
     "output_type": "error",
     "traceback": [
      "\u001B[0;31m---------------------------------------------------------------------------\u001B[0m",
      "\u001B[0;31mFileExistsError\u001B[0m                           Traceback (most recent call last)",
      "Cell \u001B[0;32mIn[19], line 6\u001B[0m\n\u001B[1;32m      4\u001B[0m     i \u001B[38;5;241m+\u001B[39m\u001B[38;5;241m=\u001B[39m \u001B[38;5;241m1\u001B[39m\n\u001B[1;32m      5\u001B[0m     path \u001B[38;5;241m=\u001B[39m ctx\u001B[38;5;241m.\u001B[39m_root \u001B[38;5;241m/\u001B[39m \u001B[38;5;124mf\u001B[39m\u001B[38;5;124m'\u001B[39m\u001B[38;5;124mtest\u001B[39m\u001B[38;5;132;01m{\u001B[39;00mi\u001B[38;5;132;01m}\u001B[39;00m\u001B[38;5;124m'\u001B[39m\n\u001B[0;32m----> 6\u001B[0m \u001B[43mctx\u001B[49m\u001B[38;5;241;43m.\u001B[39;49m\u001B[43msave\u001B[49m\u001B[43m(\u001B[49m\u001B[43mpath\u001B[49m\u001B[38;5;241;43m.\u001B[39;49m\u001B[43mstem\u001B[49m\u001B[43m \u001B[49m\u001B[38;5;28;43;01mif\u001B[39;49;00m\u001B[43m \u001B[49m\u001B[43mctx\u001B[49m\u001B[38;5;241;43m.\u001B[39;49m\u001B[43mstory_id\u001B[49m\u001B[43m \u001B[49m\u001B[38;5;129;43;01mis\u001B[39;49;00m\u001B[43m \u001B[49m\u001B[38;5;28;43;01mNone\u001B[39;49;00m\u001B[43m \u001B[49m\u001B[38;5;28;43;01melse\u001B[39;49;00m\u001B[43m \u001B[49m\u001B[43mctx\u001B[49m\u001B[38;5;241;43m.\u001B[39;49m\u001B[43mstory_id\u001B[49m\u001B[43m)\u001B[49m\n",
      "File \u001B[0;32m~/workspace/code/cladder/causalbenchmark/novo/seeding/prompting.py:73\u001B[0m, in \u001B[0;36mStory.save\u001B[0;34m(self, story_id, overwrite)\u001B[0m\n\u001B[1;32m     71\u001B[0m path \u001B[38;5;241m=\u001B[39m \u001B[38;5;28mself\u001B[39m\u001B[38;5;241m.\u001B[39m_root \u001B[38;5;241m/\u001B[39m \u001B[38;5;124mf\u001B[39m\u001B[38;5;124m'\u001B[39m\u001B[38;5;132;01m{\u001B[39;00mstory_id\u001B[38;5;132;01m}\u001B[39;00m\u001B[38;5;124m.json\u001B[39m\u001B[38;5;124m'\u001B[39m\n\u001B[1;32m     72\u001B[0m \u001B[38;5;28;01mif\u001B[39;00m path\u001B[38;5;241m.\u001B[39mexists() \u001B[38;5;129;01mand\u001B[39;00m \u001B[38;5;129;01mnot\u001B[39;00m overwrite:\n\u001B[0;32m---> 73\u001B[0m \t\u001B[38;5;28;01mraise\u001B[39;00m \u001B[38;5;167;01mFileExistsError\u001B[39;00m(\u001B[38;5;124mf\u001B[39m\u001B[38;5;124m'\u001B[39m\u001B[38;5;124mFile \u001B[39m\u001B[38;5;132;01m{\u001B[39;00mpath\u001B[38;5;132;01m}\u001B[39;00m\u001B[38;5;124m already exists (use overwrite=True to overwrite)\u001B[39m\u001B[38;5;124m'\u001B[39m)\n\u001B[1;32m     74\u001B[0m \u001B[38;5;28mself\u001B[39m\u001B[38;5;241m.\u001B[39m_root\u001B[38;5;241m.\u001B[39mmkdir(exist_ok\u001B[38;5;241m=\u001B[39m\u001B[38;5;28;01mTrue\u001B[39;00m, parents\u001B[38;5;241m=\u001B[39m\u001B[38;5;28;01mTrue\u001B[39;00m)\n\u001B[1;32m     76\u001B[0m info \u001B[38;5;241m=\u001B[39m {name: val \u001B[38;5;28;01mfor\u001B[39;00m name, val \u001B[38;5;129;01min\u001B[39;00m \u001B[38;5;28mself\u001B[39m\u001B[38;5;241m.\u001B[39mitems() \u001B[38;5;28;01mif\u001B[39;00m val \u001B[38;5;129;01mis\u001B[39;00m \u001B[38;5;129;01mnot\u001B[39;00m \u001B[38;5;28;01mNone\u001B[39;00m}\n",
      "\u001B[0;31mFileExistsError\u001B[0m: File /home/fleeb/workspace/code/cladder/novo-data/stories/test14.json already exists (use overwrite=True to overwrite)"
     ]
    }
   ],
   "source": [
    "i = len(list(ctx._root.glob(\"*.json\")))+1\n",
    "path = ctx._root / f'test{i}'\n",
    "while path.exists():\n",
    "    i += 1\n",
    "    path = ctx._root / f'test{i}'\n",
    "ctx.save(path.stem if ctx.story_id is None else ctx.story_id)"
   ],
   "metadata": {
    "collapsed": false,
    "ExecuteTime": {
     "end_time": "2023-11-21T15:53:41.475041090Z",
     "start_time": "2023-11-21T15:53:41.415689536Z"
    }
   },
   "id": "b09bd69041ed5cb2"
  },
  {
   "cell_type": "code",
   "execution_count": 17,
   "outputs": [],
   "source": [
    "mn1, mx1 = ate1.min().item(), ate1.max().item()\n",
    "mu1 = ate1.mean().item()\n",
    "assert mn1 * mx1 > 0, f'{mn1} * {mx1} < 0'\n",
    "mn2, mx2 = ate2.min().item(), ate2.max().item()\n",
    "mu2 = ate2.mean().item()\n",
    "assert mn2 * mx2 > 0, f'{mn2} * {mx2} < 0'\n",
    "ctx['ate1'] = ate1.mean().item()\n",
    "ctx['ate2'] = ate2.mean().item()\n",
    "reverse1 = mu1 < 0\n",
    "reverse2 = mu2 < 0"
   ],
   "metadata": {
    "collapsed": false,
    "ExecuteTime": {
     "end_time": "2023-11-21T17:01:12.478516460Z",
     "start_time": "2023-11-21T17:01:12.432134574Z"
    }
   },
   "id": "d6b9c0a633da9a98"
  },
  {
   "cell_type": "code",
   "execution_count": 18,
   "outputs": [
    {
     "name": "stderr",
     "output_type": "stream",
     "text": [
      "/home/fleeb/miniconda3/lib/python3.11/site-packages/torch/masked/maskedtensor/core.py:156: UserWarning: The PyTorch API of MaskedTensors is in prototype stage and will change in the near future. Please open a Github issue for features requests and see our documentation on the torch.masked module for further information about the project.\n",
      "  warnings.warn((\"The PyTorch API of MaskedTensors is in prototype stage \"\n"
     ]
    },
    {
     "name": "stdout",
     "output_type": "stream",
     "text": [
      "Treatment                                    ATE    Correlation  Outcome\n",
      "-----------------------------------------  -----  -------------  -----------------------------------------\n",
      "Healthy habits Lifestyle Habits             0.6            0.15  High awareness Health Awareness\n",
      "Healthy habits Lifestyle Habits             0.55           0.26  >= 150 grams Fruit Consumption\n",
      "Healthy habits Lifestyle Habits             0             -0     Specified fruits Type of Fruit Consumed\n",
      "Healthy habits Lifestyle Habits             0.58           0.27  Good Cardiovascular Health\n",
      "Healthy habits Lifestyle Habits             0.28           0.08  Perceived as Good Perceived Health Status\n",
      "High awareness Health Awareness             0              0.15  Healthy habits Lifestyle Habits\n",
      "High awareness Health Awareness             0.28           0.35  >= 150 grams Fruit Consumption\n",
      "High awareness Health Awareness             0              0     Specified fruits Type of Fruit Consumed\n",
      "High awareness Health Awareness             0.03           0.01  Good Cardiovascular Health\n",
      "High awareness Health Awareness             0.01          -0.17  Perceived as Good Perceived Health Status\n",
      ">= 150 grams Fruit Consumption              0              0.23  Healthy habits Lifestyle Habits\n",
      ">= 150 grams Fruit Consumption              0              0.29  High awareness Health Awareness\n",
      ">= 150 grams Fruit Consumption              0              0     Specified fruits Type of Fruit Consumed\n",
      ">= 150 grams Fruit Consumption              0.1           -0.09  Good Cardiovascular Health\n",
      ">= 150 grams Fruit Consumption              0.04          -0.08  Perceived as Good Perceived Health Status\n",
      "Specified fruits Type of Fruit Consumed    -0              0     Healthy habits Lifestyle Habits\n",
      "Specified fruits Type of Fruit Consumed     0              0     High awareness Health Awareness\n",
      "Specified fruits Type of Fruit Consumed     0             -0     >= 150 grams Fruit Consumption\n",
      "Specified fruits Type of Fruit Consumed     0.15           0.12  Good Cardiovascular Health\n",
      "Specified fruits Type of Fruit Consumed     0.07           0.03  Perceived as Good Perceived Health Status\n",
      "Good Cardiovascular Health                  0              0.23  Healthy habits Lifestyle Habits\n",
      "Good Cardiovascular Health                  0             -0.01  High awareness Health Awareness\n",
      "Good Cardiovascular Health                  0             -0.14  >= 150 grams Fruit Consumption\n",
      "Good Cardiovascular Health                  0              0.08  Specified fruits Type of Fruit Consumed\n",
      "Good Cardiovascular Health                  0.46           0.36  Perceived as Good Perceived Health Status\n",
      "Perceived as Good Perceived Health Status   0              0.06  Healthy habits Lifestyle Habits\n",
      "Perceived as Good Perceived Health Status   0             -0.17  High awareness Health Awareness\n",
      "Perceived as Good Perceived Health Status   0             -0.1   >= 150 grams Fruit Consumption\n",
      "Perceived as Good Perceived Health Status   0              0.03  Specified fruits Type of Fruit Consumed\n",
      "Perceived as Good Perceived Health Status   0              0.37  Good Cardiovascular Health\n"
     ]
    }
   ],
   "source": [
    "# print(tabulate([(node['name'], *node['values'], node['description']) for node in ctx['nodes']], headers=['Variable Name', 'Value 0', 'Value 1', 'Description']))\n",
    "outcome = [node['name'] for node in ctx['nodes'] if node['type'] == 'outcome'][0]\n",
    "tbl = []\n",
    "\n",
    "for node1, node2 in product(ctx['nodes'], ctx['nodes']):\n",
    "    if node1 != node2:\n",
    "        tbl.append([\n",
    "                    f'{node1[\"values\"][1]} {node1[\"name\"]}', \n",
    "                    f\"{net.ate(node1['name'])[node2['name']].item():.2f}\", \n",
    "                    f\"{net.correlation(node1['name'], node2['name']).item():.2f}\",\n",
    "                    f'{node2[\"values\"][1]} {node2[\"name\"]}', \n",
    "                    # node1['description'], \n",
    "                    # node2['description'], \n",
    "                    ])\n",
    "print(tabulate(tbl, headers=['Treatment', 'ATE', 'Correlation', 'Outcome', \n",
    "                             # 'Treatment Description', 'Outcome Description'\n",
    "                             ]))"
   ],
   "metadata": {
    "collapsed": false,
    "ExecuteTime": {
     "end_time": "2023-11-21T17:01:13.940554248Z",
     "start_time": "2023-11-21T17:01:12.472740475Z"
    }
   },
   "id": "edf70b7683a3e1b0"
  },
  {
   "cell_type": "code",
   "execution_count": 19,
   "outputs": [
    {
     "name": "stdout",
     "output_type": "stream",
     "text": [
      "('Fruit Consumption', 'Cardiovascular Health', ['Lifestyle Habits'])\n",
      "('Type of Fruit Consumed', 'Cardiovascular Health', [])\n"
     ]
    }
   ],
   "source": [
    "print(net.backdoor_estimand(treatment1, outcome))\n",
    "print(net.backdoor_estimand(treatment2, outcome))"
   ],
   "metadata": {
    "collapsed": false,
    "ExecuteTime": {
     "end_time": "2023-11-21T17:01:13.955390355Z",
     "start_time": "2023-11-21T17:01:13.942323414Z"
    }
   },
   "id": "edc6313c83a358fc"
  },
  {
   "cell_type": "code",
   "execution_count": 20,
   "outputs": [],
   "source": [
    "@tool('verbalization_info')\n",
    "def get_verbalization_info(nodes):\n",
    "    return tabulate([(node['name'], *node['values'], node['description']) for node in nodes], headers=['Variable Name', 'Value 0', 'Value 1', 'Description'])\n",
    "ctx.include(get_verbalization_info);\n",
    "verb_prompt_template = '''We would like to find very natural verbalizations of the following binary variables selected from a statistical model. The verbalizations should sound more natural and organic, so that you could imagine them being used in a news paper article or casual conversation, while still being semantically equivalent to the original variable and value.\n",
    "\n",
    "Here are the templates that we use to verbalize the variables:\n",
    "\n",
    "1. {{subject}} [often/usually/sometimes/rarely/etc.] {{value}}.\n",
    "2. There is a [number]% chance that {{value}}.\n",
    "3. [number]% of {{domain}} {{value}}.\n",
    "4. [number]% of the time {{value}}.\n",
    "5. Conditional sentence: {{value}}, [some consequence].\n",
    "6. Interventional: If {{value}}, [some effect].\n",
    "\n",
    "{verbalization_info}\n",
    "\n",
    "Here are some examples of verbalizations of the variable. For each of the templates fill in the blanks (and include 2-3 examples for each template). Format your response as a python dictionary. For example, a variable \"Smoking Rate\" which takes the values \"Low Smoking Rate\" and \"High Smoking Rate\" can be verbalized like this:\n",
    "\n",
    "```python\n",
    "verbalizations = {{\n",
    "  \"Smoking Rate\": {{\n",
    "    \"Low Smoking Rate\": {{\n",
    "      1: {{\"subject\": \"people\", \"value\": [\"do not smoke\", \"are non-smokers\"]}},\n",
    "      2: {{\"value\": [\"a person does no smoke\", \"people are non-smokers\"]}}, \n",
    "      3: {{\"domain\": \"people\", \"value\": [\"do not smoke\", \"are non-smokers\"]}}, \n",
    "      4: {{\"value\": [\"people do not smoke\", \"people are non-smokers\"]}},\n",
    "      5: {{\"value\": [\"For people that do not smoke\", \"Among non-smokers\"]}}, \n",
    "      6: {{\"value\": [\"the smoking rate is decreased\", \"people stop smoking\"]}},\n",
    "    }},\n",
    "    \"High Smoking Rate\": {{\n",
    "      ...\n",
    "    }}\n",
    "  }},\n",
    "  ...\n",
    "}}\n",
    "```\n",
    "\n",
    "Answer concisely and precisely in the desired format, and only replace the blanks in curly braces. Do not add any additional comments or discussion. Most importantly, the verbalizations should not contain quantitative information like \"often\" or \"rarely\", and instead always assert the corresponding value.'''\n",
    "ctx.include(FixedTemplate('verb', verb_prompt_template),);"
   ],
   "metadata": {
    "collapsed": false,
    "ExecuteTime": {
     "end_time": "2023-11-21T17:01:14.008268630Z",
     "start_time": "2023-11-21T17:01:13.955752753Z"
    }
   },
   "id": "35ea57ded39019e8"
  },
  {
   "cell_type": "code",
   "execution_count": 21,
   "outputs": [
    {
     "name": "stdout",
     "output_type": "stream",
     "text": [
      "We would like to find very natural verbalizations of the following binary variables selected from a statistical model. The verbalizations should sound more natural and organic, so that you could imagine them being used in a news paper article or casual conversation, while still being semantically equivalent to the original variable and value.\n",
      "\n",
      "Here are the templates that we use to verbalize the variables:\n",
      "\n",
      "1. {subject} [often/usually/sometimes/rarely/etc.] {value}.\n",
      "2. There is a [number]% chance that {value}.\n",
      "3. [number]% of {domain} {value}.\n",
      "4. [number]% of the time {value}.\n",
      "5. Conditional sentence: {value}, [some consequence].\n",
      "6. Interventional: If {value}.\n",
      "\n",
      "Variable Name            Value 0            Value 1            Description\n",
      "-----------------------  -----------------  -----------------  -----------------------------------------------------\n",
      "Lifestyle Habits         Unhealthy habits   Healthy habits     Individual's general lifestyle habits\n",
      "Health Awareness         Low awareness      High awareness     Awareness of health-related information and practices\n",
      "Fruit Consumption        < 150 grams        >= 150 grams       Consumption of fruits weekly\n",
      "Type of Fruit Consumed   Other fruits       Specified fruits   Type of fruits consumed, specified or others\n",
      "Cardiovascular Health    Poor               Good               Overall cardiovascular health status\n",
      "Perceived Health Status  Perceived as Poor  Perceived as Good  Individual's perception of their health status\n",
      "\n",
      "Here are some examples of verbalizations of the variable. For each of the templates fill in the blanks (and include 2-3 examples for each template). Format your response as a python dictionary. For example, a variable \"Smoking Rate\" which takes the values \"Low Smoking Rate\" and \"High Smoking Rate\" can be verbalized like this:\n",
      "\n",
      "```python\n",
      "verbalizations = {\n",
      "  \"Smoking Rate\": {\n",
      "    \"Low Smoking Rate\": {\n",
      "      1: {\"subject\": \"people\", \"value\": [\"do not smoke\", \"are non-smokers\"]},\n",
      "      2: {\"value\": [\"a person does no smoke\", \"people are non-smokers\"]}, \n",
      "      3: {\"domain\": \"people\", \"value\": [\"do not smoke\", \"are non-smokers\"]}, \n",
      "      4: {\"value\": [\"people do not smoke\", \"people are non-smokers\"]},\n",
      "      5: {\"value\": [\"For people that do not smoke\", \"Among non-smokers\"]}, \n",
      "      6: {\"value\": [\"the smoking rate is decreased\", \"people stop smoking\"]},\n",
      "    },\n",
      "    \"High Smoking Rate\": {\n",
      "      ...\n",
      "    }\n",
      "  },\n",
      "  ...\n",
      "}\n",
      "```\n",
      "\n",
      "Answer concisely and precisely in the desired format, and only replace the blanks in curly braces. Do not add any additional comments or discussion. Most importantly, the verbalizations should not contain quantitative information like \"often\" or \"rarely\", and instead always assert the corresponding value.\n"
     ]
    }
   ],
   "source": [
    "print(ctx['verb'])"
   ],
   "metadata": {
    "collapsed": false,
    "ExecuteTime": {
     "end_time": "2023-11-21T17:01:14.023601791Z",
     "start_time": "2023-11-21T17:01:13.996760548Z"
    }
   },
   "id": "bfbf188e62c17bfd"
  },
  {
   "cell_type": "code",
   "execution_count": 22,
   "outputs": [],
   "source": [
    "#######################################################################\n",
    "\n",
    "\n",
    "verbalizations = {\n",
    "    \"Lifestyle Habits\": {\n",
    "        \"Unhealthy habits\": {\n",
    "            1: {\"subject\": \"people\", \"value\": [\"engage in unhealthy lifestyle choices\", \"follow unhealthy lifestyle practices\"]},\n",
    "            2: {\"value\": [\"an individual follows an unhealthy lifestyle\", \"someone engages in unhealthy habits\"]},\n",
    "            3: {\"domain\": \"individuals\", \"value\": [\"follow unhealthy lifestyles\", \"practice unhealthy habits\"]},\n",
    "            4: {\"value\": [\"individuals engage in unhealthy lifestyle practices\", \"people are following unhealthy habits\"]},\n",
    "            5: {\"value\": [\"If a person follows an unhealthy lifestyle\", \"When someone engages in unhealthy habits\"]},\n",
    "            6: {\"value\": [\"lifestyle habits are unhealthy\", \"individuals adopt unhealthy habits\"]},\n",
    "        },\n",
    "        \"Healthy habits\": {\n",
    "            1: {\"subject\": \"people\", \"value\": [\"lead a healthy lifestyle\", \"practice healthy living habits\"]},\n",
    "            2: {\"value\": [\"a person leads a healthy lifestyle\", \"someone practices healthy habits\"]},\n",
    "            3: {\"domain\": \"individuals\", \"value\": [\"adopt healthy lifestyles\", \"embrace healthy living habits\"]},\n",
    "            4: {\"value\": [\"individuals practice healthy lifestyle choices\", \"people are maintaining healthy habits\"]},\n",
    "            5: {\"value\": [\"If a person leads a healthy lifestyle\", \"When someone embraces healthy habits\"]},\n",
    "            6: {\"value\": [\"lifestyle habits are healthy\", \"individuals adopt healthy living practices\"]},\n",
    "        }\n",
    "    },\n",
    "    \"Health Awareness\": {\n",
    "        \"Low awareness\": {\n",
    "            1: {\"subject\": \"people\", \"value\": [\"are not well-informed about health matters\", \"lack health-related knowledge\"]},\n",
    "            2: {\"value\": [\"an individual is not well-informed about health\", \"someone lacks awareness about health practices\"]},\n",
    "            3: {\"domain\": \"people\", \"value\": [\"are not well-informed about health issues\", \"lack health-related awareness\"]},\n",
    "            4: {\"value\": [\"people show a lack of health awareness\", \"there is a general lack of health knowledge\"]},\n",
    "            5: {\"value\": [\"If a person is not well-informed about health\", \"When someone lacks health awareness\"]},\n",
    "            6: {\"value\": [\"health awareness is low\", \"there is a lack of health-related knowledge\"]},\n",
    "        },\n",
    "        \"High awareness\": {\n",
    "            1: {\"subject\": \"people\", \"value\": [\"are well-informed about health matters\", \"have a high level of health-related knowledge\"]},\n",
    "            2: {\"value\": [\"an individual is well-informed about health\", \"someone shows high awareness about health practices\"]},\n",
    "            3: {\"domain\": \"people\", \"value\": [\"are well-informed about health issues\", \"have high health-related awareness\"]},\n",
    "            4: {\"value\": [\"people show a high level of health awareness\", \"there is widespread health knowledge\"]},\n",
    "            5: {\"value\": [\"If a person is well-informed about health\", \"When someone has high health awareness\"]},\n",
    "            6: {\"value\": [\"health awareness is high\", \"there is a widespread understanding of health-related issues\"]},\n",
    "        }\n",
    "    },\n",
    "    \"Fruit Consumption\": {\n",
    "        \"< 150 grams\": {\n",
    "            1: {\"subject\": \"people\", \"value\": [\"consume a small amount of fruit\", \"do not eat much fruit\"]},\n",
    "            2: {\"value\": [\"an individual consumes less fruit\", \"someone eats a minimal amount of fruit\"]},\n",
    "            3: {\"domain\": \"people\", \"value\": [\"consume limited fruit\", \"eat less than the recommended amount of fruit\"]},\n",
    "            4: {\"value\": [\"fruit consumption is minimal\", \"there is a low intake of fruit\"]},\n",
    "            5: {\"value\": [\"If a person consumes a small amount of fruit\", \"When someone does not eat much fruit\"]},\n",
    "            6: {\"value\": [\"fruit consumption is below the recommended level\", \"people do not eat enough fruit\"]},\n",
    "        },\n",
    "        \">= 150 grams\": {\n",
    "            1: {\"subject\": \"people\", \"value\": [\"consume a significant amount of fruit\", \"eat plenty of fruit\"]},\n",
    "            2: {\"value\": [\"an individual consumes more fruit\", \"someone eats a substantial amount of fruit\"]},\n",
    "            3: {\"domain\": \"people\", \"value\": [\"consume a good amount of fruit\", \"eat the recommended amount of fruit or more\"]},\n",
    "            4: {\"value\": [\"fruit consumption is substantial\", \"there is a high intake of fruit\"]},\n",
    "            5: {\"value\": [\"If a person consumes a significant amount of fruit\", \"When someone eats plenty of fruit\"]},\n",
    "            6: {\"value\": [\"fruit consumption meets or exceeds the recommended level\", \"people eat a healthy amount of fruit\"]},\n",
    "        }\n",
    "    },\n",
    "    \"Type of Fruit Consumed\": {\n",
    "        \"Other fruits\": {\n",
    "            1: {\"subject\": \"people\", \"value\": [\"opt for a variety of fruits\", \"choose fruits other than the specified ones\"]},\n",
    "            2: {\"value\": [\"an individual prefers different fruits\", \"someone chooses a range of fruits\"]},\n",
    "            3: {\"domain\": \"people\", \"value\": [\"select a broad range of fruits\", \"choose various fruits\"]},\n",
    "            4: {\"value\": [\"a variety of fruits are consumed\", \"there is a preference for diverse fruits\"]},\n",
    "            5: {\"value\": [\"If a person opts for a variety of fruits\", \"When someone chooses fruits other than the specified ones\"]},\n",
    "            6: {\"value\": [\"a broad range of fruits is consumed\", \"there is a preference for different fruits\"]},\n",
    "        },\n",
    "        \"Specified fruits\": {\n",
    "            1: {\"subject\": \"people\", \"value\": [\"prefer the specified fruits\", \"choose the particular fruits mentioned\"]},\n",
    "            2: {\"value\": [\"an individual opts for the specified fruits\", \"someone selects the particular fruits\"]},\n",
    "            3: {\"domain\": \"people\", \"value\": [\"choose the specified fruits\", \"select the particular fruits mentioned\"]},\n",
    "            4: {\"value\": [\"the specified fruits are consumed\", \"there is a preference for the particular fruits\"]},\n",
    "            5: {\"value\": [\"If a person prefers the specified fruits\", \"When someone chooses the particular fruits mentioned\"]},\n",
    "            6: {\"value\": [\"the specified fruits are preferred\", \"people opt for the particular fruits\"]},\n",
    "        }\n",
    "    },\n",
    "    \"Cardiovascular Health\": {\n",
    "        \"Poor\": {\n",
    "            1: {\"subject\": \"people\", \"value\": [\"have poor cardiovascular health\", \"suffer from cardiovascular issues\"]},\n",
    "            2: {\"value\": [\"an individual has poor cardiovascular health\", \"someone suffers from heart-related problems\"]},\n",
    "            3: {\"domain\": \"people\", \"value\": [\"suffer from poor cardiovascular health\", \"experience heart-related issues\"]},\n",
    "            4: {\"value\": [\"cardiovascular health is compromised\", \"there are prevalent cardiovascular problems\"]},\n",
    "            5: {\"value\": [\"If a person has poor cardiovascular health\", \"When someone suffers from cardiovascular issues\"]},\n",
    "            6: {\"value\": [\"cardiovascular health is not optimal\", \"there are widespread heart-related problems\"]},\n",
    "        },\n",
    "        \"Good\": {\n",
    "            1: {\"subject\": \"people\", \"value\": [\"enjoy good cardiovascular health\", \"have a strong heart and healthy blood vessels\"]},\n",
    "            2: {\"value\": [\"an individual enjoys good cardiovascular health\", \"someone has a strong heart\"]},\n",
    "            3: {\"domain\": \"people\", \"value\": [\"benefit from good cardiovascular health\", \"have strong hearts and healthy blood vessels\"]},\n",
    "            4: {\"value\": [\"cardiovascular health is robust\", \"there is a high level of heart health\"]},\n",
    "            5: {\"value\": [\"If a person enjoys good cardiovascular health\", \"When someone has a strong heart\"]},\n",
    "            6: {\"value\": [\"cardiovascular health is in a good state\", \"people have healthy hearts and blood vessels\"]},\n",
    "        }\n",
    "    },\n",
    "    \"Perceived Health Status\": {\n",
    "        \"Perceived as Poor\": {\n",
    "            1: {\"subject\": \"individuals\", \"value\": [\"feel their health is not in the best shape\", \"perceive their health negatively\"]},\n",
    "            2: {\"value\": [\"an individual perceives their health as poor\", \"someone views their own health unfavorably\"]},\n",
    "            3: {\"domain\": \"people\", \"value\": [\"feel their health is poor\", \"view their health negatively\"]},\n",
    "            4: {\"value\": [\"individuals feel their health is poor\", \"people view their health negatively\"]},\n",
    "            5: {\"value\": [\"If someone perceives their health as poor\", \"When an individual has a negative view of their health\"]},\n",
    "            6: {\"value\": [\"the perception of health is poor\", \"individuals view their health unfavorably\"]}\n",
    "        },\n",
    "        \"Perceived as Good\": {\n",
    "            1: {\"subject\": \"individuals\", \"value\": [\"feel they are in good health\", \"perceive their health positively\"]},\n",
    "            2: {\"value\": [\"an individual perceives their health as good\", \"someone views their own health favorably\"]},\n",
    "            3: {\"domain\": \"people\", \"value\": [\"feel they are in good health\", \"view their health positively\"]},\n",
    "            4: {\"value\": [\"individuals feel they are in good health\", \"people view their health positively\"]},\n",
    "            5: {\"value\": [\"If someone perceives their health as good\", \"When an individual has a positive view of their health\"]},\n",
    "            6: {\"value\": [\"the perception of health is good\", \"individuals view their health favorably\"]}\n",
    "        }\n",
    "    }\n",
    "}\n",
    "\n",
    "\n",
    "#######################################################################\n",
    "ctx['verbalizations'] = verbalizations"
   ],
   "metadata": {
    "collapsed": false,
    "ExecuteTime": {
     "end_time": "2023-11-21T17:01:14.023737743Z",
     "start_time": "2023-11-21T17:01:13.996855681Z"
    }
   },
   "id": "f1b39705ef9701a9"
  },
  {
   "cell_type": "code",
   "execution_count": 23,
   "outputs": [],
   "source": [
    "quantity_template = ''''''"
   ],
   "metadata": {
    "collapsed": false,
    "ExecuteTime": {
     "end_time": "2023-11-21T16:49:07.940832780Z",
     "start_time": "2023-11-21T16:49:07.929007318Z"
    }
   },
   "id": "b5b1211c19f5783d"
  },
  {
   "cell_type": "code",
   "execution_count": 24,
   "outputs": [
    {
     "data": {
      "text/plain": "[{'name': 'Fruit Consumption',\n  'description': 'Consumption of fruits weekly',\n  'type': 'treatment',\n  'observed': True,\n  'values': ['< 150 grams', '>= 150 grams'],\n  'parents': ['Lifestyle Habits', 'Health Awareness']},\n {'name': 'Type of Fruit Consumed',\n  'description': 'Type of fruits consumed, specified or others',\n  'type': 'treatment',\n  'observed': True,\n  'values': ['Other fruits', 'Specified fruits'],\n  'parents': []}]"
     },
     "execution_count": 24,
     "metadata": {},
     "output_type": "execute_result"
    }
   ],
   "source": [
    "ctx['treatments']"
   ],
   "metadata": {
    "collapsed": false,
    "ExecuteTime": {
     "end_time": "2023-11-21T16:49:08.079252672Z",
     "start_time": "2023-11-21T16:49:07.929045808Z"
    }
   },
   "id": "33bb1223c2d9f6b2"
  },
  {
   "cell_type": "code",
   "execution_count": 47,
   "outputs": [],
   "source": [
    "# ate1_template = '{ate1:.3f} = ATE({{treatments}[0][\"name\"]!r}) = P({{outcome}[\"name\"]!r}={{outcome}[\"values\"][1]!r} | do({{treatments}[0][\"name\"]!r}={{treatments}[0][\"values\"][1]!r})) - P({{outcome}[\"name\"]!r}={{outcome}[\"values\"][1]!r} | do({{treatments}[0][\"name\"]!r}={{treatments}[0][\"values\"][0]!r}))'\n",
    "# ate2_template = '{ate2:.3f} = ATE({{treatments}[1][\"name\"]!r}) = P({{outcome}[\"name\"]!r}={{outcome}[\"values\"][1]!r} | do({{treatments}[1][\"name\"]!r}={{treatments}[1][\"values\"][1]!r})) - P({{outcome}[\"name\"]!r}={{outcome}[\"values\"][1]!r} | do({{treatments}[1][\"name\"]!r}={{treatments}[1][\"values\"][0]!r}))'\n",
    "ate_tmpl = '{val:.3f} = ATE({treatment}) = E({outcome} | do({treatment}=1)) - E({outcome} | do({treatment}=0))'\n",
    "cate_tmpl = ('{val:.3f} = CATE({treatment} | {confounder}={cval}) = '\n",
    "             'E[{outcome} | {confounder}={cval}, do({treatment}=1)] - E[{outcome} | {confounder}={cval}, do({treatment}=0)]')"
   ],
   "metadata": {
    "collapsed": false,
    "ExecuteTime": {
     "end_time": "2023-11-21T17:19:13.101853478Z",
     "start_time": "2023-11-21T17:19:13.054525949Z"
    }
   },
   "id": "e2bb61e4a3c0ae67"
  },
  {
   "cell_type": "code",
   "execution_count": 52,
   "outputs": [
    {
     "name": "stdout",
     "output_type": "stream",
     "text": [
      "0.093 = ATE(Fruit Consumption) = E(Cardiovascular Health | do(Fruit Consumption=1)) - E(Cardiovascular Health | do(Fruit Consumption=0))\n",
      "0.144 = ATE(Type of Fruit Consumed) = E(Cardiovascular Health | do(Type of Fruit Consumed=1)) - E(Cardiovascular Health | do(Type of Fruit Consumed=0))\n",
      "0.100 = CATE(Fruit Consumption | Lifestyle Habits=0) = E[Cardiovascular Health | Lifestyle Habits=0, do(Fruit Consumption=1)] - E[Cardiovascular Health | Lifestyle Habits=0, do(Fruit Consumption=0)]\n",
      "0.088 = CATE(Fruit Consumption | Lifestyle Habits=1) = E[Cardiovascular Health | Lifestyle Habits=1, do(Fruit Consumption=1)] - E[Cardiovascular Health | Lifestyle Habits=1, do(Fruit Consumption=0)]\n",
      "0.200 = CATE(Type of Fruit Consumed | Lifestyle Habits=0) = E[Cardiovascular Health | Lifestyle Habits=0, do(Type of Fruit Consumed=1)] - E[Cardiovascular Health | Lifestyle Habits=0, do(Type of Fruit Consumed=0)]\n",
      "0.081 = CATE(Type of Fruit Consumed | Lifestyle Habits=1) = E[Cardiovascular Health | Lifestyle Habits=1, do(Type of Fruit Consumed=1)] - E[Cardiovascular Health | Lifestyle Habits=1, do(Type of Fruit Consumed=0)]\n"
     ]
    }
   ],
   "source": [
    "for treatment, ate in [(treatment1, ate1.mean().item()), (treatment2, ate2.mean().item())]:\n",
    "    print(SimpleTemplater(ate_tmpl).fill_in({}, treatment=treatment, outcome=outcome, val=ate))\n",
    "for (treatment, confounder, cval), cate in zip(*[cate_keys, cates]):\n",
    "    print(SimpleTemplater(cate_tmpl).fill_in({}, treatment=treatment, outcome=outcome, confounder=confounder, cval=cval, val=cate.mean().item()))"
   ],
   "metadata": {
    "collapsed": false,
    "ExecuteTime": {
     "end_time": "2023-11-21T17:23:36.179162486Z",
     "start_time": "2023-11-21T17:23:36.130148573Z"
    }
   },
   "id": "9f314820cd551cc6"
  },
  {
   "cell_type": "code",
   "execution_count": 29,
   "outputs": [
    {
     "data": {
      "text/plain": "\"0.144 = ATE('Type of Fruit Consumed') = P('Cardiovascular Health'='Good' | do('Type of Fruit Consumed'='Specified fruits')) - P('Cardiovascular Health'='Good' | do('Type of Fruit Consumed'='Other fruits'))\""
     },
     "execution_count": 29,
     "metadata": {},
     "output_type": "execute_result"
    }
   ],
   "source": [
    "SimpleTemplater(cate_tmpl).fill_in({}, ate2=ate2.mean().item())"
   ],
   "metadata": {
    "collapsed": false,
    "ExecuteTime": {
     "end_time": "2023-11-21T17:01:52.297942667Z",
     "start_time": "2023-11-21T17:01:52.255207Z"
    }
   },
   "id": "be9d808d06e971b6"
  },
  {
   "cell_type": "code",
   "execution_count": null,
   "outputs": [],
   "source": [
    "print(SimpleTemplater(cate_tmpl).fill_in({}, treatment=treatment, outcome=outcome, confounder=confounder, cval=cval, val=cate.mean().item()))"
   ],
   "metadata": {
    "collapsed": false
   },
   "id": "6e626dd8ff267b81"
  },
  {
   "cell_type": "code",
   "execution_count": 50,
   "outputs": [
    {
     "data": {
      "text/plain": "4",
      "image/png": "[encoded data removed]",
      "text/latex": "$\\displaystyle 4$"
     },
     "execution_count": 50,
     "metadata": {},
     "output_type": "execute_result"
    }
   ],
   "source": [],
   "metadata": {
    "collapsed": false,
    "ExecuteTime": {
     "end_time": "2023-11-21T17:22:38.312722515Z",
     "start_time": "2023-11-21T17:22:38.243300013Z"
    }
   },
   "id": "e6807df1b07ee161"
  },
  {
   "cell_type": "code",
   "execution_count": null,
   "outputs": [],
   "source": [],
   "metadata": {
    "collapsed": false
   },
   "id": "47eb0d3ae6db4f3a"
  },
  {
   "cell_type": "code",
   "execution_count": 26,
   "outputs": [
    {
     "data": {
      "text/plain": "{'ate1', 'outcome', 'treatments'}"
     },
     "execution_count": 26,
     "metadata": {},
     "output_type": "execute_result"
    }
   ],
   "source": [
    "tmpl = FixedTemplate('', ate1_template)\n",
    "tmpl.keys"
   ],
   "metadata": {
    "collapsed": false,
    "ExecuteTime": {
     "end_time": "2023-11-21T16:49:08.079753416Z",
     "start_time": "2023-11-21T16:49:07.972902397Z"
    }
   },
   "id": "734d7c9c8e2de989"
  },
  {
   "cell_type": "code",
   "execution_count": 27,
   "outputs": [
    {
     "data": {
      "text/plain": "\"ATE('Fruit Consumption') = P('Cardiovascular Health'='Good' | do('Fruit Consumption'='>= 150 grams')) - P('Cardiovascular Health'='Good' | do('Fruit Consumption'='< 150 grams')) = 0.09\""
     },
     "execution_count": 27,
     "metadata": {},
     "output_type": "execute_result"
    }
   ],
   "source": [
    "tmpl.grab_from(ctx, '')"
   ],
   "metadata": {
    "collapsed": false,
    "ExecuteTime": {
     "end_time": "2023-11-21T16:49:11.637058642Z",
     "start_time": "2023-11-21T16:49:11.606545444Z"
    }
   },
   "id": "d011628c7ed2f106"
  },
  {
   "cell_type": "code",
   "execution_count": null,
   "outputs": [],
   "source": [
    "ate_def = 'ATE(treatment) = P(outcome | do(treatment=1)) - P(outcome | do(treatment=0))'\n",
    "cate_def = 'CATE(treatment | confounder=c) = E[outcome | confounder=c, do(treatment1=1)] - E[outcome | confounder=c, do(treatment1=0)]'"
   ],
   "metadata": {
    "collapsed": false
   },
   "id": "bfc1229acb2b083c"
  },
  {
   "cell_type": "code",
   "execution_count": 51,
   "outputs": [],
   "source": [],
   "metadata": {
    "collapsed": false,
    "ExecuteTime": {
     "end_time": "2023-11-21T16:36:45.900922401Z",
     "start_time": "2023-11-21T16:36:45.851132725Z"
    }
   },
   "id": "f8998c63f0dcde71"
  },
  {
   "cell_type": "code",
   "execution_count": 26,
   "outputs": [
    {
     "data": {
      "text/plain": "(0.08204638957977295, 0.09990188479423523, 0.12053799629211426, 0.159679681062\n69836)",
      "image/png": "[encoded data removed]",
      "text/latex": "$\\displaystyle \\left( 0.0820463895797729, \\  0.0999018847942352, \\  0.120537996292114, \\  0.159679681062698\\right)$"
     },
     "execution_count": 26,
     "metadata": {},
     "output_type": "execute_result"
    }
   ],
   "source": [
    "mn1, mx1 = ate1.min().item(), ate1.max().item()\n",
    "mn2, mx2 = ate2.min().item(), ate2.max().item()\n",
    "mn1, mx1, mn2, mx2"
   ],
   "metadata": {
    "collapsed": false,
    "ExecuteTime": {
     "end_time": "2023-11-21T16:15:24.518453296Z",
     "start_time": "2023-11-21T16:15:24.391351833Z"
    }
   },
   "id": "be18b91c4ee19c1e"
  },
  {
   "cell_type": "code",
   "execution_count": null,
   "outputs": [],
   "source": [
    "net.ate(treatment1)[outcome].item()"
   ],
   "metadata": {
    "collapsed": false
   },
   "id": "119bf2cd853c17b0"
  },
  {
   "cell_type": "code",
   "execution_count": null,
   "outputs": [],
   "source": [],
   "metadata": {
    "collapsed": false
   },
   "id": "51b99fc0bd4a5c81"
  },
  {
   "cell_type": "code",
   "execution_count": null,
   "outputs": [],
   "source": [
    "question_prompt_template = '''We have a causal bayes net based on the following article:\n",
    "\n",
    "```\n",
    "{spark}\n",
    "```\n",
    "\n",
    "Now we would like to use this model to generate some interesting research questions:\n",
    "\n",
    "1. Write a short two sentence introduction to describe motivation and purpose of the causal model to provide context to the questions in an conversational/debate setting. Where possible, include relevant details from the original article headline. Avoid discussing specific structural properties or assumptions in the causal graph, and instead focus on the overall motivation and potential applications for the model. \n",
    "Make sure not to use and technical terms from causal inference so that the introduction is easy to understand even for a layperson.\n",
    "2. Write a short two sentence overview of the structure of the causal graph including noteworthy properties and assumptions. Use an intuitive conversational style to describe the causal graph, and avoid using technical terms or jargon, but you can describe the variables and their relationships (including using terms like \"confounder\"/\"confounding\", \"mediator\"/\"mediates\") as long as you explain them in a way that is understandable to a layperson.\n",
    "3. Come up with ten interesting \"yes\"/\"no\" questions where the correct answer depends computation of exactly one of the following quantities: ['ATE()]\n",
    "\n",
    "\n",
    "involves either the sign of the ATE of either treatment variable or some comparison between the ATEs of the two treatments. Make sure to formulate the question in an intuitive, yet precise manner and so that the correct answer is either \"yes\" or \"no\". Include the correct answer, and a brief 1 sentence explanation. Most importantly, include the formal ineqality that must be computed to get the correct answer (\"yes\"=True, \"no\"=False) (for example, if the ATE of treatment variable \"A\" is greater than the ATE of treatment variable \"B\", and the correct answer is \"yes\" and the inequality is \"ATE(A) > ATE(B)\", or if the question asks whether treatment variable \"A\" has a positive causal effect on the outcome variable, then the inequality is \"ATE(A) > 0\"). Make sure the questions are intuitive and easy to understand even for a layperson, but not trivial.\n",
    "\n",
    "Answer in the form of a python dictionary in the following format:\n",
    "\n",
    "```python\n",
    "setting = {\n",
    "  \"introduction\": \"[introduction]\",\n",
    "  \"overview\": \"[overview]\",\n",
    "  \"questions\": {\n",
    "    1: {\"question\": \"[question]\", \"answer\": \"yes\", \"explanation\": \"[explanation]\", \"inequality\": \"ATE(A) > 0\"},\n",
    "    ...\n",
    "  },\n",
    "}\n",
    "```\n",
    "\n",
    "Answer concisely and precisely in the desired format, without any additional comments or discussion.\n",
    "\n",
    "\n",
    "Here are the templates that we use to verbalize the variables:\n",
    "\n",
    "1. {{subject}} [often/usually/sometimes/rarely/etc.] {{value}}.\n",
    "2. There is a [number]% chance that {{value}}.\n",
    "3. [number]% of {{domain}} {{value}}.\n",
    "4. [number]% of the time {{value}}.\n",
    "5. Conditional sentence: {{value}}, [some consequence].\n",
    "6. Interventional: If {{value}}, [some effect].\n",
    "\n",
    "{verbalization_info}\n",
    "\n",
    "Here are some examples of verbalizations of the variable. For each of the templates fill in the blanks (and include 2-3 examples for each template). Format your response as a python dictionary. For example, a variable \"Smoking Rate\" which takes the values \"Low Smoking Rate\" and \"High Smoking Rate\" can be verbalized like this:\n",
    "\n",
    "```python\n",
    "verbalizations = {{\n",
    "  \"Smoking Rate\": {{\n",
    "    \"Low Smoking Rate\": {{\n",
    "      1: {{\"subject\": \"people\", \"value\": [\"do not smoke\", \"are non-smokers\"]}},\n",
    "      2: {{\"value\": [\"a person does no smoke\", \"people are non-smokers\"]}}, \n",
    "      3: {{\"domain\": \"people\", \"value\": [\"do not smoke\", \"are non-smokers\"]}}, \n",
    "      4: {{\"value\": [\"people do not smoke\", \"people are non-smokers\"]}},\n",
    "      5: {{\"value\": [\"For people that do not smoke\", \"Among non-smokers\"]}}, \n",
    "      6: {{\"value\": [\"the smoking rate is decreased\", \"people stop smoking\"]}},\n",
    "    }},\n",
    "    \"High Smoking Rate\": {{\n",
    "      ...\n",
    "    }}\n",
    "  }},\n",
    "  ...\n",
    "}}\n",
    "```\n",
    "\n",
    "Answer concisely and precisely in the desired format, and only replace the blanks in curly braces. Do not add any additional comments or discussion. Most importantly, the verbalizations should not contain quantitative information like \"often\" or \"rarely\", and instead always assert the corresponding value.'''"
   ],
   "metadata": {
    "collapsed": false
   },
   "id": "7282a61e0c85bcf5"
  },
  {
   "cell_type": "code",
   "execution_count": null,
   "outputs": [],
   "source": [],
   "metadata": {
    "collapsed": false
   },
   "id": "cbc87bb6935393"
  },
  {
   "cell_type": "code",
   "execution_count": null,
   "outputs": [],
   "source": [],
   "metadata": {
    "collapsed": false
   },
   "id": "e46308cbcd5d5d8d"
  },
  {
   "cell_type": "code",
   "execution_count": null,
   "outputs": [],
   "source": [],
   "metadata": {
    "collapsed": false
   },
   "id": "76dd431ae7bde9"
  },
  {
   "cell_type": "code",
   "execution_count": null,
   "outputs": [],
   "source": [],
   "metadata": {
    "collapsed": false
   },
   "id": "2eff1eb58588c15"
  },
  {
   "cell_type": "code",
   "execution_count": 59,
   "outputs": [],
   "source": [
    "import nltk\n",
    "from nltk import word_tokenize, pos_tag, ne_chunk\n",
    "from nltk.stem import WordNetLemmatizer\n",
    "from nltk.corpus import stopwords\n",
    "from rake_nltk import Rake\n",
    "import spacy\n",
    "import random"
   ],
   "metadata": {
    "collapsed": false
   },
   "id": "c45e6c65749794d3"
  },
  {
   "cell_type": "code",
   "execution_count": 61,
   "outputs": [
    {
     "data": {
      "text/plain": "24",
      "image/png": "[encoded data removed]",
      "text/latex": "$\\displaystyle 24$"
     },
     "execution_count": 61,
     "metadata": {},
     "output_type": "execute_result"
    }
   ],
   "source": [
    "example_texts = [val for var in raw_verbalization.values() for varval in var.values() for val in varval[4]['value']]\n",
    "len(example_texts)"
   ],
   "metadata": {
    "collapsed": false
   },
   "id": "173c691818cfe5b8"
  },
  {
   "cell_type": "code",
   "execution_count": 53,
   "outputs": [],
   "source": [
    "stop_words = set(stopwords.words('english'))\n",
    "stop_words.update(\"'s\", '|', 'I', \"n't\", \"`s\", \"'s\", 'n`t')\n",
    "\n",
    "nlp = spacy.load('en_core_web_md')\n",
    "\n"
   ],
   "metadata": {
    "collapsed": false
   },
   "id": "df2fb4ad34998003"
  },
  {
   "cell_type": "code",
   "execution_count": 79,
   "outputs": [
    {
     "name": "stdout",
     "output_type": "stream",
     "text": [
      "there is widespread healthcare availability in Moscow\n",
      "None None\n",
      "['widespread healthcare availability', 'Moscow']\n"
     ]
    }
   ],
   "source": [
    "text = \"Covid-19 mortality rate is high\"\n",
    "text = random.choice(example_texts)\n",
    "print(text)\n",
    "doc = nlp(text)\n",
    "subject, verb = None, None\n",
    "for token in doc:\n",
    "    if \"subj\" in token.dep_:\n",
    "        subject = token.text\n",
    "    # if \"VERB\" in token.pos_:\n",
    "    #     verb = token.text\n",
    "print(subject, verb)\n",
    "noun_phrases = [chunk.text for chunk in doc.noun_chunks]\n",
    "print(noun_phrases)"
   ],
   "metadata": {
    "collapsed": false,
    "ExecuteTime": {
     "end_time": "2023-11-21T13:58:08.296988112Z",
     "start_time": "2023-11-21T13:58:08.252502195Z"
    }
   },
   "id": "63e7dbde8cca2751"
  },
  {
   "cell_type": "code",
   "execution_count": null,
   "outputs": [],
   "source": [],
   "metadata": {
    "collapsed": false
   },
   "id": "fece4c4d70ada148"
  },
  {
   "cell_type": "code",
   "execution_count": null,
   "outputs": [],
   "source": [],
   "metadata": {
    "collapsed": false
   },
   "id": "e2a80b1279cd7a8f"
  },
  {
   "cell_type": "code",
   "execution_count": null,
   "outputs": [],
   "source": [],
   "metadata": {
    "collapsed": false
   },
   "id": "e2ead53bd9f0d663"
  },
  {
   "cell_type": "code",
   "execution_count": null,
   "outputs": [],
   "source": [],
   "metadata": {
    "collapsed": false
   },
   "id": "dec8a389b45661b3"
  },
  {
   "cell_type": "code",
   "execution_count": 21,
   "outputs": [],
   "source": [
    "old_prompt_template = '''We have a causal bayes net based on the following article:\n",
    "\n",
    "```\n",
    "{spark}\n",
    "```\n",
    "\n",
    "And, for additional context, here are the variables and their descriptions:\n",
    "\n",
    "{descriptions}\n",
    "\n",
    "Now we would like to verbalize the description of some evidence. For each set of questions, fill in the blank and then for each possible descriptor of the probability, provide a reasonable quantitative estimate for the lower and upper bounds of the probability that would be implied by that evidence if the variable took on the value corresponding to 1. Note that your estimates for each descriptor should conform to common sense and reflect the meaning of the variable taking on the value corresponding to 1.\n",
    "\n",
    "For example, if the question is:\n",
    "\n",
    "Evidence template: \"The probability of _ is {descriptor}.\"\n",
    "With these descriptors: ['low', 'high', 'very high']\n",
    "\n",
    "1. \"Tax Rate\" can either be 0=\"Decreased\" or 1=\"Increased\".\n",
    "2. \"Vaccination Status\" can either be 0=\"Not Vaccinated\" or 1=\"Vaccinated\".\n",
    "...\n",
    "\n",
    "You should answer in the following format:\n",
    "\n",
    "```python\n",
    "evidence = {{\n",
    "  1: {{'blank': {{'Decreased': 'decreased taxes', 'Increased': 'increased taxes'}} 'implications': {{'low': [0.2, 0.4], 'high': [0.6, 0.8], 'very high': [0.8, 0.9]}}}},\n",
    "  2: {{'blank': {{'Not Vaccinated': 'not being vaccinated', 'Vaccinated': 'being vaccinated'}} 'implications': {{'low': [0.3, 0.5], 'high': [0.7, 0.9], 'very high': [0.85, 0.99]}}}},\n",
    "  ...\n",
    "}}\n",
    "```\n",
    "\n",
    "Here are the questions:\n",
    "\n",
    "Evidence template: \"The probability of _ is {descriptor}.\"\n",
    "With these descriptors: {descriptors}\n",
    "\n",
    "{questions}\n",
    "\n",
    "Answer all the questions in order, concisely, and precisely in the desired format, without any additional comments or discussion.\n",
    "'''\n",
    "\n",
    "prompt_template = '''We have a causal bayes net based on the following article:\n",
    "\n",
    "```\n",
    "{spark}\n",
    "```\n",
    "\n",
    "And, for additional context, here are the variables and their descriptions:\n",
    "\n",
    "{descriptions}\n",
    "\n",
    "Now we would like to verbalize the description of some evidence using a few templates. For each template and variable, fill in the blank and then for each possible value the variable can take. Always use the present tense and make sure to use simple but precise language so the evidence can be communicated clearly. Also, only fill in the templates that make sense for the variable values.\n",
    "\n",
    "For example, if the question is:\n",
    "\n",
    "Template A: \"The probability of {variable} is high.\"\n",
    "Template B: \"{variable} often.\"\n",
    "Template C: \"It is likely that {variable}.\"\n",
    "Template D: \"Few {subject} {variable}.\"\n",
    "\n",
    "1. \"Tax Rate\": [\"Decreased\", \"Increased\"]\n",
    "2. \"Vaccination Status\": [\"Not Vaccinated\", \"Vaccinated\"]\n",
    "...\n",
    "\n",
    "You should answer in the following format:\n",
    "\n",
    "```python\n",
    "evidence = {{\n",
    "  1: {{'A': {{'variable': ['decreased taxes', 'increased taxes']}},\n",
    "       'B': {{'variable': ['taxes are decreased', 'taxes are increased']}},\n",
    "       'C': {{'variable': ['taxes are decreased', 'taxes are increased']}},\n",
    "       'D': {{'subject': [], 'variable': ['taxes are decreased', 'taxes are increased']}}}},\n",
    "  }},\n",
    "  2: {{'variable': {{'Not Vaccinated': 'not being vaccinated', 'Vaccinated': 'being vaccinated'}}}},\n",
    "  ...\n",
    "}}\n",
    "```\n",
    "\n",
    "Here are the questions:\n",
    "\n",
    "Evidence template: \"The probability of _ is {descriptor}.\"\n",
    "With these descriptors: {descriptors}\n",
    "\n",
    "{questions}\n",
    "\n",
    "Answer all the questions in order, concisely, and precisely in the desired format, without any additional comments or discussion.\n",
    "'''\n",
    "\n",
    "q_template = '{i}. \"{variable}\" can either be 0=\"{value}\" or 1=\"{othervalue}\".'\n",
    "\n",
    "verbs = [\n",
    "    'very low', 'low', 'moderate', 'high', 'very high',\n",
    "    # 'extremely small', 'small', 'large', 'extremely large',\n",
    "    'significant', 'negligible', 'substantial', 'insignificant', 'considerable',\n",
    "    # 'improbable', 'likely', 'probable', 'unlikely', 'certain',\n",
    "]"
   ],
   "metadata": {
    "collapsed": false,
    "ExecuteTime": {
     "end_time": "2023-11-19T15:58:07.180931606Z",
     "start_time": "2023-11-19T15:58:07.135552858Z"
    }
   },
   "id": "bf9d27a21b2ff726"
  },
  {
   "cell_type": "code",
   "execution_count": 22,
   "outputs": [],
   "source": [
    "nodes = ctx['nodes']\n",
    "qlines = []\n",
    "i = 1\n",
    "for node in nodes:\n",
    "    v0, v1 = node['values']\n",
    "    qlines.append(q_template.format(i=i, variable=node['name'], value=v1, othervalue=v0))\n",
    "    i += 1\n",
    "questions = '\\n'.join(qlines)"
   ],
   "metadata": {
    "collapsed": false,
    "ExecuteTime": {
     "end_time": "2023-11-19T15:58:08.750511902Z",
     "start_time": "2023-11-19T15:58:08.732077429Z"
    }
   },
   "id": "949e58680c1eb438"
  },
  {
   "cell_type": "code",
   "execution_count": 23,
   "outputs": [
    {
     "data": {
      "text/plain": "{'descriptions', 'descriptor', 'descriptors', 'questions', 'spark'}"
     },
     "execution_count": 23,
     "metadata": {},
     "output_type": "execute_result"
    }
   ],
   "source": [
    "tmpl = SimpleTemplater(prompt_template)\n",
    "tmpl.keys"
   ],
   "metadata": {
    "collapsed": false,
    "ExecuteTime": {
     "end_time": "2023-11-19T15:58:09.178284729Z",
     "start_time": "2023-11-19T15:58:09.135420113Z"
    }
   },
   "id": "a474aee9dc7f34a4"
  },
  {
   "cell_type": "code",
   "execution_count": 24,
   "outputs": [
    {
     "name": "stdout",
     "output_type": "stream",
     "text": [
      "We have a causal bayes net based on the following article:\n",
      "\n",
      "```\n",
      "Title: ARM takeover: Qualcomm interested in participating - heise online\n",
      "Description: If nothing comes of Nvidia's $40 billion ARM takeover, a consortium of several manufacturers could act as investors.\n",
      "Original Language: German\n",
      "```\n",
      "\n",
      "And, for additional context, here are the variables and their descriptions:\n",
      "\n",
      "\"Qualcomm_Participation\" means \"Participation of Qualcomm in ARM takeover\"\n",
      "\"Regulatory_Approval\" means \"Regulatory approval for ARM takeover\"\n",
      "\"Global_Economic_Conditions\" means \"Current global economic conditions\"\n",
      "\"Nvidia_Takeover_Success\" means \"Success of Nvidia's ARM takeover attempt\"\n",
      "\"Investment_Strategy\" means \"Investment strategy adopted by Qualcomm\"\n",
      "\"Tech_Innovation\" means \"Level of technological innovation in the market\"\n",
      "\"Market_Competition\" means \"Level of market competition in the tech industry\"\n",
      "\"Stock_Market_Response\" means \"Stock market response to the takeover and market conditions\"\n",
      "\n",
      "Now we would like to verbalize the description of some evidence. For each set of questions, fill in the blank and then for each possible descriptor of the probability, provide a reasonable quantitative estimate for the lower and upper bounds of the probability that would be implied by that evidence if the variable took on the value corresponding to 1. Note that your estimates for each descriptor should conform to common sense and reflect the meaning of the variable taking on the value corresponding to 1.\n",
      "\n",
      "For example, if the question is:\n",
      "\n",
      "Evidence template: \"The probability of _ is {descriptor}.\"\n",
      "With these descriptors: ['low', 'high', 'very high']\n",
      "\n",
      "1. \"Tax Rate\" can either be 0=\"Decreased\" or 1=\"Increased\".\n",
      "2. \"Vaccination Status\" can either be 0=\"Not Vaccinated\" or 1=\"Vaccinated\".\n",
      "...\n",
      "\n",
      "You should answer in the following format:\n",
      "\n",
      "```python\n",
      "evidence = {\n",
      "  1: {'blank': {'Decreased': 'decreased taxes', 'Increased': 'increased taxes'} 'implications': {'low': [0.2, 0.4], 'high': [0.6, 0.8], 'very high': [0.8, 0.9]}},\n",
      "  2: {'blank': {'Not Vaccinated': 'not being vaccinated', 'Vaccinated': 'being vaccinated'} 'implications': {'low': [0.3, 0.5], 'high': [0.7, 0.9], 'very high': [0.85, 0.99]}},\n",
      "  ...\n",
      "}\n",
      "```\n",
      "\n",
      "Here are the questions:\n",
      "\n",
      "Evidence template: \"The probability of _ is {descriptor}.\"\n",
      "With these descriptors: ['very low', 'low', 'moderate', 'high', 'very high', 'significant', 'negligible', 'substantial', 'insignificant', 'considerable']\n",
      "\n",
      "1. \"Qualcomm_Participation\" can either be 0=\"Participates\" or 1=\"Does not participate\".\n",
      "2. \"Regulatory_Approval\" can either be 0=\"Approved\" or 1=\"Not approved\".\n",
      "3. \"Global_Economic_Conditions\" can either be 0=\"Favorable conditions\" or 1=\"Unfavorable conditions\".\n",
      "4. \"Nvidia_Takeover_Success\" can either be 0=\"Takeover succeeds\" or 1=\"Takeover fails\".\n",
      "5. \"Investment_Strategy\" can either be 0=\"Aggressive strategy\" or 1=\"Conservative strategy\".\n",
      "6. \"Tech_Innovation\" can either be 0=\"High innovation\" or 1=\"Low innovation\".\n",
      "7. \"Market_Competition\" can either be 0=\"Increased competition\" or 1=\"Reduced competition\".\n",
      "8. \"Stock_Market_Response\" can either be 0=\"Positive response\" or 1=\"Negative response\".\n",
      "\n",
      "Answer all the questions in order, concisely, and precisely in the desired format, without any additional comments or discussion.\n"
     ]
    }
   ],
   "source": [
    "# print(tmpl.fill_in(dict(spark=ctx['spark'], descriptions=ctx['descriptions'], descriptors=verbs, descriptor='{descriptor}', questions=questions)))\n",
    "print(prompt_template.format(spark=ctx['spark'], descriptions=ctx['descriptions'], descriptors=verbs, descriptor='{descriptor}', questions=questions))"
   ],
   "metadata": {
    "collapsed": false,
    "ExecuteTime": {
     "end_time": "2023-11-19T15:58:09.619565965Z",
     "start_time": "2023-11-19T15:58:09.601398688Z"
    }
   },
   "id": "7b23a2f10c9d7c62"
  },
  {
   "cell_type": "code",
   "execution_count": null,
   "outputs": [],
   "source": [
    "line_template = 'The probability that __ is {quantity}'"
   ],
   "metadata": {
    "collapsed": false
   },
   "id": "61af6af1c0665464"
  },
  {
   "cell_type": "code",
   "execution_count": 120,
   "outputs": [
    {
     "data": {
      "text/plain": "True"
     },
     "execution_count": 120,
     "metadata": {},
     "output_type": "execute_result"
    }
   ],
   "source": [
    "evidence = {\n",
    "  1: {\n",
    "    'blank': {'Stimulative': 'stimulative government economic policies', 'Restrictive': 'restrictive government economic policies'}, \n",
    "    'implications': {\n",
    "      'very low': [0.01, 0.1], \n",
    "      'low': [0.1, 0.3], \n",
    "      'moderate': [0.3, 0.5], \n",
    "      'high': [0.5, 0.7], \n",
    "      'very high': [0.7, 0.9], \n",
    "      'significant': [0.6, 0.8], \n",
    "      'negligible': [0.1, 0.2], \n",
    "      'substantial': [0.5, 0.7], \n",
    "      'insignificant': [0.2, 0.3], \n",
    "      'considerable': [0.4, 0.6]\n",
    "    }\n",
    "  },\n",
    "  2: {\n",
    "    'blank': {'Increase': 'an increase in industrial production', 'Decrease': 'a decrease in industrial production'}, \n",
    "    'implications': {\n",
    "      'very low': [0.01, 0.1], \n",
    "      'low': [0.1, 0.3], \n",
    "      'moderate': [0.3, 0.5], \n",
    "      'high': [0.5, 0.7], \n",
    "      'very high': [0.7, 0.9], \n",
    "      'significant': [0.6, 0.8], \n",
    "      'negligible': [0.1, 0.2], \n",
    "      'substantial': [0.5, 0.7], \n",
    "      'insignificant': [0.2, 0.3], \n",
    "      'considerable': [0.4, 0.6]\n",
    "    }\n",
    "  },\n",
    "  3: {\n",
    "    'blank': {'Decrease': 'a decrease in the unemployment rate', 'Increase': 'an increase in the unemployment rate'}, \n",
    "    'implications': {\n",
    "      'very low': [0.01, 0.1], \n",
    "      'low': [0.1, 0.3], \n",
    "      'moderate': [0.3, 0.5], \n",
    "      'high': [0.5, 0.7], \n",
    "      'very high': [0.7, 0.9], \n",
    "      'significant': [0.6, 0.8], \n",
    "      'negligible': [0.1, 0.2], \n",
    "      'substantial': [0.5, 0.7], \n",
    "      'insignificant': [0.2, 0.3], \n",
    "      'considerable': [0.4, 0.6]\n",
    "    }\n",
    "  },\n",
    "  4: {\n",
    "    'blank': {'High': 'high consumer confidence', 'Low': 'low consumer confidence'}, \n",
    "    'implications': {\n",
    "      'very low': [0.01, 0.1], \n",
    "      'low': [0.1, 0.3], \n",
    "      'moderate': [0.3, 0.5], \n",
    "      'high': [0.5, 0.7], \n",
    "      'very high': [0.7, 0.9], \n",
    "      'significant': [0.6, 0.8], \n",
    "      'negligible': [0.1, 0.2], \n",
    "      'substantial': [0.5, 0.7], \n",
    "      'insignificant': [0.2, 0.3], \n",
    "      'considerable': [0.4, 0.6]\n",
    "    }\n",
    "  },\n",
    "  5: {\n",
    "    'blank': {'Positive Growth': 'positive economic growth', 'No Growth': 'no economic growth'}, \n",
    "    'implications': {\n",
    "      'very low': [0.01, 0.1], \n",
    "      'low': [0.1, 0.3], \n",
    "      'moderate': [0.3, 0.5], \n",
    "      'high': [0.5, 0.7], \n",
    "      'very high': [0.7, 0.9], \n",
    "      'significant': [0.6, 0.8], \n",
    "      'negligible': [0.1, 0.2], \n",
    "      'substantial': [0.5, 0.7], \n",
    "      'insignificant': [0.2, 0.3], \n",
    "      'considerable': [0.4, 0.6]\n",
    "    }\n",
    "  },\n",
    "  6: {\n",
    "    'blank': {'Good': 'good market performance', 'Poor': 'poor market performance'}, \n",
    "    'implications': {\n",
    "      'very low': [0.01, 0.1], \n",
    "      'low': [0.1, 0.3], \n",
    "      'moderate': [0.3, 0.5], \n",
    "      'high': [0.5, 0.7], \n",
    "      'very high': [0.7, 0.9], \n",
    "      'significant': [0.6, 0.8], \n",
    "      'negligible': [0.1, 0.2], \n",
    "      'substantial': [0.5, 0.7], \n",
    "      'insignificant': [0.2, 0.3], \n",
    "      'considerable': [0.4, 0.6]\n",
    "    }\n",
    "  }\n",
    "}\n",
    "\n",
    "all(e1['implications'] == e2['implications'] for e1, e2 in combinations(evidence.values(), 2))\n"
   ],
   "metadata": {
    "collapsed": false,
    "ExecuteTime": {
     "end_time": "2023-11-17T14:10:45.018453412Z",
     "start_time": "2023-11-17T14:10:44.985886236Z"
    }
   },
   "id": "79cbbcae4d3e4455"
  },
  {
   "cell_type": "code",
   "execution_count": 121,
   "outputs": [
    {
     "name": "stdout",
     "output_type": "stream",
     "text": [
      "Title: China's economy grows 4.9% while the rest of the world is crippled by coronavirus - Daily Mail\n",
      "Description: China's economy has grown 4.9 percent in the third quarter from last year proving the country is back to its pre-pandemic trajectory as industrial production is up and unemployment is down.\n",
      "Original Language: English\n"
     ]
    }
   ],
   "source": [
    "print(ctx['spark'])"
   ],
   "metadata": {
    "collapsed": false,
    "ExecuteTime": {
     "end_time": "2023-11-17T14:40:34.386481665Z",
     "start_time": "2023-11-17T14:40:34.334250094Z"
    }
   },
   "id": "46ccd04c24fae20e"
  },
  {
   "cell_type": "code",
   "execution_count": null,
   "outputs": [],
   "source": [],
   "metadata": {
    "collapsed": false
   },
   "id": "cf82aa58afe6397b"
  },
  {
   "cell_type": "code",
   "execution_count": null,
   "outputs": [],
   "source": [
    "setting = {\n",
    "    \"introduction\": \"In light of China's notable economic growth of 4.9% amidst the global coronavirus pandemic, as reported by the Daily Mail, this causal model seeks to unravel the underlying factors contributing to this growth. It aims to provide insights into how different aspects such as industrial production and unemployment rates have played a role in shaping China's economic trajectory during this period.\",\n",
    "    \"overview\": \"Our causal graph is a simplified representation of the complex interplay between various economic factors. It includes variables like government policies, industrial production, and unemployment rates, each affecting the other in unique ways. For instance, government policies can be a confounder, affecting both unemployment and industrial production, while consumer confidence acts as a mediator, reflecting the impact of industrial changes on the overall economic growth.\",\n",
    "    \"questions\": {\n",
    "        1: {\"question\": \"Does an increase in industrial production have a positive effect on China's economic growth?\", \"answer\": \"yes\", \"explanation\": \"Given the economic context, an increase in industrial production likely contributes positively to economic growth.\", \"inequality\": \"ATE(IP) > 0\"},\n",
    "        2: {\"question\": \"Is the positive impact of decreasing unemployment on economic growth greater than that of increasing industrial production?\", \"answer\": \"no\", \"explanation\": \"Industrial production typically has a more direct and significant impact on economic growth compared to changes in unemployment rates.\", \"inequality\": \"ATE(UR) > ATE(IP)\"},\n",
    "        3: {\"question\": \"Does a decrease in the unemployment rate positively influence China's economic growth?\", \"answer\": \"yes\", \"explanation\": \"Lower unemployment generally leads to higher consumer spending and economic growth.\", \"inequality\": \"ATE(UR) > 0\"},\n",
    "        4: {\"question\": \"Is the impact of industrial production on economic growth stronger than the influence of government economic policies?\", \"answer\": \"yes\", \"explanation\": \"While government policies set the stage, industrial production is a more direct driver of economic growth.\", \"inequality\": \"ATE(IP) > ATE(GEP)\"},\n",
    "        5: {\"question\": \"Does a stimulative government policy have a greater positive effect on economic growth than an increase in industrial production?\", \"answer\": \"no\", \"explanation\": \"Industrial production, being a direct economic activity, likely has a stronger immediate impact on economic growth than general government policies.\", \"inequality\": \"ATE(GEP) > ATE(IP)\"}\n",
    "    },\n",
    "}\n"
   ],
   "metadata": {
    "collapsed": false
   },
   "id": "bcb1b46b3d4dc419"
  },
  {
   "cell_type": "code",
   "execution_count": 227,
   "outputs": [],
   "source": [
    "import pandas as pd\n",
    "from dowhy import CausalModel\n",
    "from networkx.drawing.nx_pydot import write_dot"
   ],
   "metadata": {
    "collapsed": false,
    "ExecuteTime": {
     "end_time": "2023-11-17T16:42:53.528932801Z",
     "start_time": "2023-11-17T16:42:53.492019Z"
    }
   },
   "id": "aa2676eeab935fe6"
  },
  {
   "cell_type": "code",
   "execution_count": 226,
   "outputs": [
    {
     "data": {
      "text/plain": "<networkx.classes.digraph.DiGraph at 0x7face779d850>"
     },
     "execution_count": 226,
     "metadata": {},
     "output_type": "execute_result"
    }
   ],
   "source": [
    "G = nx.DiGraph()\n",
    "for var in net.vars:\n",
    "    G.add_node(var.name)\n",
    "    for parent in var.parents:\n",
    "        G.add_edge(parent.name, var.name)\n",
    "G"
   ],
   "metadata": {
    "collapsed": false,
    "ExecuteTime": {
     "end_time": "2023-11-17T16:42:42.536213022Z",
     "start_time": "2023-11-17T16:42:42.484794281Z"
    }
   },
   "id": "5e7aafe933bd077f"
  },
  {
   "cell_type": "code",
   "execution_count": null,
   "outputs": [],
   "source": [],
   "metadata": {
    "collapsed": false
   },
   "id": "8c7e5e9f7b925deb"
  },
  {
   "cell_type": "code",
   "execution_count": null,
   "outputs": [],
   "source": [],
   "metadata": {
    "collapsed": false
   },
   "id": "826859c190c49f94"
  },
  {
   "cell_type": "code",
   "execution_count": 127,
   "outputs": [],
   "source": [
    "def convert_to_dot(nodes):\n",
    "    # Start the DOT graph definition\n",
    "    dot_graph = \"digraph {\\n\"\n",
    "\n",
    "    # Iterate over nodes to add them to the graph\n",
    "    for node in nodes:\n",
    "        dot_graph += f'    \"{node[\"name\"]}\" [label=\"{node[\"name\"]}: {node[\"description\"]}\"];\\n'\n",
    "\n",
    "        # Add edges from parents to this node\n",
    "        for parent in node.get(\"parents\", []):\n",
    "            dot_graph += f'    \"{parent}\" -> \"{node[\"name\"]}\";\\n'\n",
    "\n",
    "    dot_graph += \"}\\n\"\n",
    "    return dot_graph"
   ],
   "metadata": {
    "collapsed": false,
    "ExecuteTime": {
     "end_time": "2023-11-17T15:29:05.491002427Z",
     "start_time": "2023-11-17T15:29:05.471333306Z"
    }
   },
   "id": "4d7c72efc77402f6"
  },
  {
   "cell_type": "code",
   "execution_count": null,
   "outputs": [],
   "source": [],
   "metadata": {
    "collapsed": false
   },
   "id": "3c7139d76940267d"
  },
  {
   "cell_type": "code",
   "execution_count": null,
   "outputs": [],
   "source": [
    "net"
   ],
   "metadata": {
    "collapsed": false
   },
   "id": "ccaa22fdb7db1823"
  },
  {
   "cell_type": "code",
   "execution_count": null,
   "outputs": [],
   "source": [],
   "metadata": {
    "collapsed": false
   },
   "id": "70ed5f4de754786b"
  },
  {
   "cell_type": "code",
   "execution_count": 129,
   "outputs": [
    {
     "name": "stdout",
     "output_type": "stream",
     "text": [
      "\"GEP\" means \"Government Economic Policies\"\n",
      "\"IP\" means \"Industrial Production\"\n",
      "\"UR\" means \"Unemployment Rate\"\n",
      "\"CC\" means \"Consumer Confidence\"\n",
      "\"EG\" means \"Economic Growth\"\n",
      "\"MP\" means \"Market Performance\"\n"
     ]
    }
   ],
   "source": [
    "print(ctx['descriptions'])"
   ],
   "metadata": {
    "collapsed": false,
    "ExecuteTime": {
     "end_time": "2023-11-17T15:29:23.980795422Z",
     "start_time": "2023-11-17T15:29:23.959606348Z"
    }
   },
   "id": "27207467be5d57a"
  },
  {
   "cell_type": "code",
   "execution_count": 221,
   "outputs": [
    {
     "name": "stderr",
     "output_type": "stream",
     "text": [
      "ERROR:dowhy.causal_graph: Error: Pygraphviz cannot be loaded. No module named 'pygraphviz'\n",
      "Trying pydot ...\n"
     ]
    },
    {
     "name": "stdout",
     "output_type": "stream",
     "text": [
      "Estimand type: EstimandType.NONPARAMETRIC_ATE\n",
      "\n",
      "### Estimand : 1\n",
      "Estimand name: backdoor\n",
      "Estimand expression:\n",
      "  d               \n",
      "─────(E[EG|UR,IP])\n",
      "d[CC]             \n",
      "Estimand assumption 1, Unconfoundedness: If U→{CC} and U→EG then P(EG|CC,UR,IP,U) = P(EG|CC,UR,IP)\n",
      "\n",
      "### Estimand : 2\n",
      "Estimand name: iv\n",
      "No such variable(s) found!\n",
      "\n",
      "### Estimand : 3\n",
      "Estimand name: frontdoor\n",
      "No such variable(s) found!\n"
     ]
    },
    {
     "data": {
      "text/plain": "({'backdoor1': ['UR', 'IP', 'GEP'],\n  'backdoor2': ['UR', 'IP'],\n  'backdoor': ['UR', 'IP']},\n 'backdoor2')"
     },
     "execution_count": 221,
     "metadata": {},
     "output_type": "execute_result"
    }
   ],
   "source": [
    "# Create a dummy DataFrame\n",
    "# The columns should match the nodes in your causal graph\n",
    "dummy_data = pd.DataFrame({\n",
    "    'EG': [0],   # Economic Growth\n",
    "    'IP': [0],   # Industrial Production\n",
    "    'UR': [0],   # Unemployment Rate\n",
    "    'GEP': [0],  # Government Economic Policies\n",
    "    'CC': [0],   # Consumer Confidence\n",
    "    'MP': [0]    # Market Performance\n",
    "})\n",
    "\n",
    "# Define your DOT graph (use the function from the previous response)\n",
    "dot_graph = convert_to_dot(nodes)\n",
    "\n",
    "# Instantiate the CausalModel with dummy data\n",
    "model = CausalModel(\n",
    "    data=dummy_data,\n",
    "    treatment='CC',  # Replace with your treatment variable name\n",
    "    outcome='EG',      # Replace with your outcome variable name\n",
    "    graph=dot_graph\n",
    ")\n",
    "\n",
    "identified_estimand = model.identify_effect()\n",
    "print(identified_estimand)\n",
    "\n",
    "from sympy import pretty\n",
    "\n",
    "# # Assuming 'identified_estimand' is the object returned by model.identify_effect()\n",
    "# \n",
    "# # Print the basic information about the estimand\n",
    "# print(\"Estimand Identifier:\", identified_estimand.identifier)\n",
    "# print(\"Estimand Type:\", identified_estimand.estimand_type)\n",
    "# \n",
    "# # Accessing the estimands attribute\n",
    "# estimands_info = identified_estimand.estimands\n",
    "# \n",
    "# # Displaying the estimands information\n",
    "# print(\"Estimands Information:\")\n",
    "# print(estimands_info)\n",
    "\n",
    "identified_estimand.backdoor_variables, identified_estimand.default_backdoor_id"
   ],
   "metadata": {
    "collapsed": false,
    "ExecuteTime": {
     "end_time": "2023-11-17T16:20:35.773521574Z",
     "start_time": "2023-11-17T16:20:35.723047563Z"
    }
   },
   "id": "93d6c72207e41e7d"
  },
  {
   "cell_type": "code",
   "execution_count": 222,
   "outputs": [
    {
     "data": {
      "text/plain": "  d               \n─────(E[EG|UR,IP])\nd[CC]             ",
      "text/latex": "$\\displaystyle \\frac{d}{d \\left[\\begin{matrix}CC\\end{matrix}\\right]} \\operatorname{E}\\left[EG|UR,IP\\right]$"
     },
     "execution_count": 222,
     "metadata": {},
     "output_type": "execute_result"
    }
   ],
   "source": [
    "sym = identified_estimand.estimands[identified_estimand.default_backdoor_id]['estimand']\n",
    "sym"
   ],
   "metadata": {
    "collapsed": false,
    "ExecuteTime": {
     "end_time": "2023-11-17T16:20:37.010913900Z",
     "start_time": "2023-11-17T16:20:36.939807580Z"
    }
   },
   "id": "71c98945aa48f639"
  },
  {
   "cell_type": "code",
   "execution_count": 223,
   "outputs": [
    {
     "name": "stdout",
     "output_type": "stream",
     "text": [
      "  d               \n",
      "─────(E[EG|UR,IP])\n",
      "d[CC]             \n"
     ]
    }
   ],
   "source": [
    "print(pretty(sym))"
   ],
   "metadata": {
    "collapsed": false,
    "ExecuteTime": {
     "end_time": "2023-11-17T16:20:37.530553227Z",
     "start_time": "2023-11-17T16:20:37.514577711Z"
    }
   },
   "id": "81dca0ac3d6af062"
  },
  {
   "cell_type": "code",
   "execution_count": 224,
   "outputs": [
    {
     "name": "stdout",
     "output_type": "stream",
     "text": [
      "EG CC ['UR', 'IP']\n"
     ]
    }
   ],
   "source": [
    "do = sym.args[1][0].args[0][0].name\n",
    "exp = sym.args[0].args[0].name\n",
    "if '|' in exp:\n",
    "    outcome, cond = exp.split('|')\n",
    "    cond = cond.split(',')\n",
    "else:\n",
    "    outcome = exp\n",
    "    cond = []\n",
    "    \n",
    "print(outcome, do, cond)"
   ],
   "metadata": {
    "collapsed": false,
    "ExecuteTime": {
     "end_time": "2023-11-17T16:20:38.501074816Z",
     "start_time": "2023-11-17T16:20:38.443318970Z"
    }
   },
   "id": "42a9234e24004c1b"
  },
  {
   "cell_type": "code",
   "execution_count": 229,
   "outputs": [
    {
     "name": "stdout",
     "output_type": "stream",
     "text": [
      "ATE(CC -> EG) = E_{UR=u,IP=v} [ p(EG=1 | CC=1,UR=u,IP=v) - p(EG=1 | CC=0,UR=u,IP=v) ]\n"
     ]
    }
   ],
   "source": [
    "dummyvars = 'uvwxyz'\n",
    "assert len(cond) <= len(dummyvars)\n",
    "psum = ''\n",
    "condsuffix = ''\n",
    "if len(cond):\n",
    "    psum = ','.join(f'{v}={dummyvars[i]}' for i, v in enumerate(cond))\n",
    "    psum = f'E_{{{psum}}} '\n",
    "\n",
    "    condsuffix = ',' + ','.join(f'{v}={dummyvars[i]}' for i, v in enumerate(cond))\n",
    "\n",
    "expr = f'{psum}{\"[ \" if len(cond) else \"\"}p({outcome}=1 | {do}=1{condsuffix}) - p({outcome}=1 | {do}=0{condsuffix}){\" ]\" if len(cond) else \"\"}'\n",
    "\n",
    "# expr = (f'{psum}{\" [ \" if len(cond) else \"\"}p({outcome} | {do}=1{\", \" + \", \".join(cond) if len(cond) else \"\"}) - p({outcome} | {do}=0{\", \" + \",\".join(cond) if len(cond) else \"\"}){\" ]\" if len(cond) else \"\"}')\n",
    "print(f'ATE({do} -> {outcome}) = {expr}')"
   ],
   "metadata": {
    "collapsed": false,
    "ExecuteTime": {
     "end_time": "2023-11-17T17:06:39.653520046Z",
     "start_time": "2023-11-17T17:06:39.579828051Z"
    }
   },
   "id": "3c4b6395db86d3a5"
  },
  {
   "cell_type": "code",
   "execution_count": 215,
   "outputs": [],
   "source": [],
   "metadata": {
    "collapsed": false,
    "ExecuteTime": {
     "end_time": "2023-11-17T16:19:16.720067792Z",
     "start_time": "2023-11-17T16:19:16.682463947Z"
    }
   },
   "id": "f10832a3a199de04"
  },
  {
   "cell_type": "code",
   "execution_count": null,
   "outputs": [],
   "source": [],
   "metadata": {
    "collapsed": false
   },
   "id": "ce7532d3e5f9710c"
  },
  {
   "cell_type": "code",
   "execution_count": 153,
   "outputs": [
    {
     "ename": "AttributeError",
     "evalue": "'ImmutableDenseNDimArray' object has no attribute 'name'",
     "output_type": "error",
     "traceback": [
      "\u001B[0;31m---------------------------------------------------------------------------\u001B[0m",
      "\u001B[0;31mAttributeError\u001B[0m                            Traceback (most recent call last)",
      "Cell \u001B[0;32mIn[153], line 1\u001B[0m\n\u001B[0;32m----> 1\u001B[0m \u001B[43msym\u001B[49m\u001B[38;5;241;43m.\u001B[39;49m\u001B[43mvariables\u001B[49m\u001B[43m[\u001B[49m\u001B[38;5;241;43m0\u001B[39;49m\u001B[43m]\u001B[49m\u001B[38;5;241;43m.\u001B[39;49m\u001B[43mname\u001B[49m\n",
      "\u001B[0;31mAttributeError\u001B[0m: 'ImmutableDenseNDimArray' object has no attribute 'name'"
     ]
    }
   ],
   "source": [
    "sym.variables[0]"
   ],
   "metadata": {
    "collapsed": false,
    "ExecuteTime": {
     "end_time": "2023-11-17T15:41:40.436083421Z",
     "start_time": "2023-11-17T15:41:40.421360492Z"
    }
   },
   "id": "37bf7343710ee697"
  },
  {
   "cell_type": "code",
   "execution_count": 154,
   "outputs": [
    {
     "data": {
      "text/plain": "E[EG|GEP]",
      "image/png": "[encoded data removed]",
      "text/latex": "$\\displaystyle \\operatorname{E}\\left[EG|GEP\\right]$"
     },
     "execution_count": 154,
     "metadata": {},
     "output_type": "execute_result"
    }
   ],
   "source": [
    "expr = sym.expr\n",
    "expr"
   ],
   "metadata": {
    "collapsed": false,
    "ExecuteTime": {
     "end_time": "2023-11-17T15:42:23.896056718Z",
     "start_time": "2023-11-17T15:42:23.817110496Z"
    }
   },
   "id": "7ca9b5d52e9bdc53"
  },
  {
   "cell_type": "code",
   "execution_count": 159,
   "outputs": [],
   "source": [
    "e = expr.args[0]"
   ],
   "metadata": {
    "collapsed": false,
    "ExecuteTime": {
     "end_time": "2023-11-17T15:48:29.372834510Z",
     "start_time": "2023-11-17T15:48:29.331815176Z"
    }
   },
   "id": "942f1e9a7ab93ef2"
  },
  {
   "cell_type": "code",
   "execution_count": 160,
   "outputs": [
    {
     "data": {
      "text/plain": "⎛⎡⎛  d               ⎛                ⎛  d              ⎞⎞⎞⎤    ⎞\n⎜⎢⎜─────(E[EG|GEP]), ⎜(1.0, 0.0), (), ⎜─────(E[EG|GEP]),⎟⎟⎟⎥, []⎟\n⎝⎣⎝d[UR]             ⎝                ⎝d[UR]            ⎠⎠⎠⎦    ⎠",
      "text/latex": "$\\displaystyle \\left( \\left[ \\left( \\frac{d}{d \\left[\\begin{matrix}UR\\end{matrix}\\right]} \\operatorname{E}\\left[EG|GEP\\right], \\  \\left( \\left( 1.0, \\  0.0\\right), \\  \\left( \\right), \\  \\left( \\frac{d}{d \\left[\\begin{matrix}UR\\end{matrix}\\right]} \\operatorname{E}\\left[EG|GEP\\right],\\right)\\right)\\right)\\right], \\  \\left[ \\right]\\right)$"
     },
     "execution_count": 160,
     "metadata": {},
     "output_type": "execute_result"
    }
   ],
   "source": [
    "terms = sym.as_terms()\n",
    "terms"
   ],
   "metadata": {
    "collapsed": false,
    "ExecuteTime": {
     "end_time": "2023-11-17T15:54:02.518522151Z",
     "start_time": "2023-11-17T15:54:02.447641319Z"
    }
   },
   "id": "17f662ccb78cb6da"
  },
  {
   "cell_type": "code",
   "execution_count": 161,
   "outputs": [
    {
     "name": "stdout",
     "output_type": "stream",
     "text": [
      "Expression: Derivative(Expectation(EG|GEP), [UR])\n",
      "Coefficient: ((1.0, 0.0), (), (Derivative(Expectation(EG|GEP), [UR]),))\n"
     ]
    }
   ],
   "source": [
    "for term in terms[0]:\n",
    "    # Each term is a tuple, with the first element being the term itself and the second being its coefficient\n",
    "    expression, coefficient = term\n",
    "    # You can now analyze 'expression' and 'coefficient' to extract variable names and their relationships\n",
    "    # For instance, print them out to see their structure\n",
    "    print(\"Expression:\", expression)\n",
    "    print(\"Coefficient:\", coefficient)"
   ],
   "metadata": {
    "collapsed": false,
    "ExecuteTime": {
     "end_time": "2023-11-17T15:54:25.600817796Z",
     "start_time": "2023-11-17T15:54:25.565631474Z"
    }
   },
   "id": "50280e325b2cda90"
  },
  {
   "cell_type": "code",
   "execution_count": 164,
   "outputs": [
    {
     "name": "stdout",
     "output_type": "stream",
     "text": [
      "Expression: Derivative(E(EG, GEP), UR)\n",
      "Coefficient: ((1.0, 0.0), (1,), ())\n"
     ]
    }
   ],
   "source": [
    "from sympy import symbols, Derivative, Function\n",
    "\n",
    "# Define your symbols\n",
    "EG, GEP, UR = symbols('EG GEP UR')\n",
    "\n",
    "# Define the expected value function\n",
    "E = Function('E')(EG, GEP)\n",
    "\n",
    "# Define the derivative\n",
    "deriv = Derivative(E, UR)\n",
    "\n",
    "# Extract terms from the derivative\n",
    "terms = deriv.as_terms()\n",
    "\n",
    "# Process the terms to extract variable names and relationships\n",
    "# terms is a tuple, where the first element contains the terms\n",
    "for term in terms[0]:\n",
    "    # Each term is a tuple, with the first element being the term itself and the second being its coefficient\n",
    "    expression, coefficient = term\n",
    "    # You can now analyze 'expression' and 'coefficient' to extract variable names and their relationships\n",
    "    # For instance, print them out to see their structure\n",
    "    print(\"Expression:\", expression)\n",
    "    print(\"Coefficient:\", coefficient)"
   ],
   "metadata": {
    "collapsed": false,
    "ExecuteTime": {
     "end_time": "2023-11-17T15:55:19.554568299Z",
     "start_time": "2023-11-17T15:55:19.447398010Z"
    }
   },
   "id": "a83ad5dd7c6dc685"
  },
  {
   "cell_type": "code",
   "execution_count": 167,
   "outputs": [
    {
     "data": {
      "text/plain": " ∂             \n───(E(EG, GEP))\n∂UR            ",
      "image/png": "[encoded data removed]",
      "text/latex": "$\\displaystyle \\frac{\\partial}{\\partial UR} E{\\left(EG,GEP \\right)}$"
     },
     "execution_count": 167,
     "metadata": {},
     "output_type": "execute_result"
    }
   ],
   "source": [
    "deriv"
   ],
   "metadata": {
    "collapsed": false,
    "ExecuteTime": {
     "end_time": "2023-11-17T15:59:32.937196075Z",
     "start_time": "2023-11-17T15:59:32.851668831Z"
    }
   },
   "id": "11fe1cb94c8c0c7e"
  },
  {
   "cell_type": "code",
   "execution_count": 166,
   "outputs": [
    {
     "data": {
      "text/plain": "(EG, GEP)",
      "image/png": "[encoded data removed]",
      "text/latex": "$\\displaystyle \\left( EG, \\  GEP\\right)$"
     },
     "execution_count": 166,
     "metadata": {},
     "output_type": "execute_result"
    }
   ],
   "source": [
    "E.args"
   ],
   "metadata": {
    "collapsed": false,
    "ExecuteTime": {
     "end_time": "2023-11-17T15:59:25.637477739Z",
     "start_time": "2023-11-17T15:59:25.562784063Z"
    }
   },
   "id": "d54fe53bb33c4c02"
  },
  {
   "cell_type": "code",
   "execution_count": null,
   "outputs": [],
   "source": [],
   "metadata": {
    "collapsed": false
   },
   "id": "b6436dbf1a4b3a4e"
  },
  {
   "cell_type": "code",
   "execution_count": null,
   "outputs": [],
   "source": [],
   "metadata": {
    "collapsed": false
   },
   "id": "e1ab83f0f02c3b51"
  },
  {
   "cell_type": "code",
   "execution_count": null,
   "id": "initial_id",
   "metadata": {
    "collapsed": true
   },
   "outputs": [],
   "source": []
  }
 ],
 "metadata": {
  "kernelspec": {
   "display_name": "Python 3",
   "language": "python",
   "name": "python3"
  },
  "language_info": {
   "codemirror_mode": {
    "name": "ipython",
    "version": 2
   },
   "file_extension": ".py",
   "mimetype": "text/x-python",
   "name": "python",
   "nbconvert_exporter": "python",
   "pygments_lexer": "ipython2",
   "version": "2.7.6"
  }
 },
 "nbformat": 4,
 "nbformat_minor": 5
}

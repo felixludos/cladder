{
 "cells": [
  {
   "cell_type": "code",
   "execution_count": 1,
   "outputs": [],
   "source": [
    "from pathlib import Path\n",
    "from omnibelt import toposort, load_json, save_json\n",
    "from itertools import product\n",
    "# import pyperclip\n",
    "# import clipboard\n",
    "import networkx as nx\n",
    "from tqdm.notebook import tqdm\n",
    "from tabulate import tabulate\n",
    "import matplotlib.pyplot as plt\n",
    "import seaborn as sns\n",
    "\n",
    "import numpy as np\n",
    "import torch\n",
    "from causalbenchmark.novo.simulation.models import Bernoulli, ConditionalBernoulli, BernoulliNetwork\n",
    "from causalbenchmark.novo.seeding import NewsHeadlines, StatisticsPrompting, Story\n",
    "from causalbenchmark.novo.templating import FixedTemplate\n",
    "from causalbenchmark.novo import misc"
   ],
   "metadata": {
    "collapsed": false,
    "ExecuteTime": {
     "end_time": "2023-11-16T16:46:20.631845751Z",
     "start_time": "2023-11-16T16:46:18.159377653Z"
    }
   },
   "id": "e4dbd77df7c7caae"
  },
  {
   "cell_type": "code",
   "execution_count": 2,
   "outputs": [
    {
     "data": {
      "text/plain": "  0%|          | 0/1 [00:00<?, ?it/s]",
      "application/vnd.jupyter.widget-view+json": {
       "version_major": 2,
       "version_minor": 0,
       "model_id": "8e084489fc54437aacabebb26cab5e93"
      }
     },
     "metadata": {},
     "output_type": "display_data"
    },
    {
     "data": {
      "text/plain": "119481"
     },
     "execution_count": 2,
     "metadata": {},
     "output_type": "execute_result"
    }
   ],
   "source": [
    "spark_generator = NewsHeadlines(locs=['gb']).load(pbar=tqdm)\n",
    "len(spark_generator.article_IDs)"
   ],
   "metadata": {
    "collapsed": false,
    "ExecuteTime": {
     "end_time": "2023-11-16T16:46:31.442768235Z",
     "start_time": "2023-11-16T16:46:30.482108939Z"
    }
   },
   "id": "a3e440a9e9d43579"
  },
  {
   "cell_type": "code",
   "execution_count": 3,
   "outputs": [],
   "source": [
    "setting_generation_prompt_template = \\\n",
    "'''We are interested in building a causal model based on the explicit and implicit assumptions contained in the specified article and then using causal inference to evaluate the reasoning. Answer the following questions to design an interesting, simple, and most importantly realistic causal model from a news article.\n",
    "\n",
    "To help understand the instructions here are some tips:\n",
    "- all variables are always binary and (at least in principle) measurable, so when creating and selecting variables, make sure it is reasonable to treat them as binary\n",
    "- whenever you propose a variable, make sure to define the meaning of each value it can take, and mention whether it is observable or not\n",
    "- outcome variables are always observable\n",
    "- treatment variables are always observable and intervenable, that means it must be possible to (at least in principle) change their value if desired\n",
    "- confounder variables may or may not be observable, and should always have at least two causal children (for example, a treatment and outcome variable) and no causal parents\n",
    "- mediator variables may or may not be observable, and should always have at least one causal parents (for example, a treatment variable) and at least one causal child (for example, the outcome variable)\n",
    "- collider variables may or may not be observable, and should always have at least two causal parents (for example, a treatment and outcome variable) and no causal children\n",
    "\n",
    "Answer concisely and precisely in the desired format. Carefully complete each of these tasks in order.\n",
    "\n",
    "1. Write a short description of what the article is about and what causal model make inform the reasoning behind an argument the might make.\n",
    "2. Propose 1 outcome variable that the news article is either implicitly or explicitly addressing that people are most likely to be interested in studying, especially if people tend to have misconceptions about it\n",
    "3. Propose 2 treatment variables that either directly or indirectly affect the selected outcome variable and are the most interesting to study\n",
    "4. Propose 3 confounder variables that affect some reasonable combination of the outcome and treatment variables\n",
    "5. Propose 3 mediator variables that affect and are affected by some reasonable combination of any other variables\n",
    "6. Propose 2 collider variables that are affected by some reasonable combination of any other variables\n",
    "\n",
    "Here is the beginning of the new article:\n",
    "```\n",
    "{spark}\n",
    "```\n",
    "\n",
    "The variables and causal graph should, where possible, use specific details such as names and locations mentioned in the article. Also, generally the variable value \"0\" should correspond to the negative or control while the value \"1\" should correspond to the positive or greater value.\n",
    "\n",
    "Take a deep breath and think step-by-step about how you will do this.'''\n",
    "\n",
    "graph_selection_prompt_template = \\\n",
    "'''1. From all proposed confounder, mediator, and collider variables, select between 3-5 variables that are most interesting to study and together with the treatment and outcome variables result in a realistic interesting causal graph. Important: Make sure the causal graph is a DAG and that no node has more than 3 parents!\n",
    "2.  List all the edges in the causal graph, and make sure to mention which edges are observable and which are not.\n",
    "3. Provide a python list called `nodes` of all the nodes in the proposed graph. For each node, provide the following information in the form of a python dict:\n",
    "- `name`: the name of the variable\n",
    "- `description`: a short description of the variable\n",
    "- `type`: the type of the variable, which can be one of the following: `outcome`, `treatment`, `confounder`, `mediator`, `collider`\n",
    "- `observed`: a boolean value indicating whether the variable is observable or not\n",
    "- `values`: a python list of the descriptions of the values the variable can take (corresponding to the index)\n",
    "- `parents`: a python list of the names of the parents of the variable (make sure they match the corresponding `name` field of the parent nodes)\n",
    "\n",
    "Take a deep breath and think step-by-step about how you will do this.'''\n",
    "\n",
    "\n",
    "stats_prompt_template = \\\n",
    "'''We have a causal bayes net based on the following article:\n",
    "\n",
    "```\n",
    "{spark}\n",
    "```\n",
    "\n",
    "Now we would like to estimate the probabilities of certain events.\n",
    "\n",
    "Using commonsense, estimate the probabilities of the following events:\n",
    "\n",
    "{questions}\n",
    "\n",
    "Where the variables are defined as:\n",
    "{descriptions}\n",
    "\n",
    "For each question above, answer with the lower and upper bound estimates of the probabilities as a python dictionary where the key corresponds to the question index in exactly the following format:\n",
    "\n",
    "```python\n",
    "probabilities = {{\n",
    "  1: [0.3, 0.4],\n",
    "  ...\n",
    "}}\n",
    "```\n",
    "\n",
    "Answer concisely and precisely in the desired format.'''"
   ],
   "metadata": {
    "collapsed": false,
    "ExecuteTime": {
     "end_time": "2023-11-16T16:46:36.410894644Z",
     "start_time": "2023-11-16T16:46:36.395608955Z"
    }
   },
   "id": "810e9c63d4ccc441"
  },
  {
   "cell_type": "code",
   "execution_count": 72,
   "outputs": [
    {
     "name": "stdout",
     "output_type": "stream",
     "text": [
      "6836803\n",
      "Title: BBC payout for 'scapegoat' designer Matt Wiessler in Bashir Panorama scandal - The Times\n",
      "Description: The BBC has agreed a settlement potentially worth £750,000 with Matt Wiessler, the graphic designer who was blacklisted by the corporation after blowing the whistle on Martin Bashir.\n",
      "Original Language: English\n"
     ]
    }
   ],
   "source": [
    "ctx = Story(story_root=misc.data_root() / 'stories')\n",
    "# ctx.populate_defaults()\n",
    "ctx.include(\n",
    "    FixedTemplate('setting', setting_generation_prompt_template),\n",
    "    FixedTemplate('graph', graph_selection_prompt_template),\n",
    "    StatisticsPrompting(stats_prompt_template),\n",
    "    spark_generator,\n",
    ");\n",
    "# print(ctx)\n",
    "print(ctx['seed'])\n",
    "print(ctx['spark'])"
   ],
   "metadata": {
    "collapsed": false,
    "ExecuteTime": {
     "end_time": "2023-11-16T17:18:43.046943577Z",
     "start_time": "2023-11-16T17:18:43.041959171Z"
    }
   },
   "id": "46baeb3a28e45ee"
  },
  {
   "cell_type": "code",
   "execution_count": 73,
   "outputs": [
    {
     "name": "stdout",
     "output_type": "stream",
     "text": [
      "We are interested in building a causal model based on the explicit and implicit assumptions contained in the specified article and then using causal inference to evaluate the reasoning. Answer the following questions to design an interesting, simple, and most importantly realistic causal model from a news article.\n",
      "\n",
      "To help understand the instructions here are some tips:\n",
      "- all variables are always binary and (at least in principle) measurable, so when creating and selecting variables, make sure it is reasonable to treat them as binary\n",
      "- whenever you propose a variable, make sure to define the meaning of each value it can take, and mention whether it is observable or not\n",
      "- outcome variables are always observable\n",
      "- treatment variables are always observable and intervenable, that means it must be possible to (at least in principle) change their value if desired\n",
      "- confounder variables may or may not be observable, and should always have at least two causal children (for example, a treatment and outcome variable) and no causal parents\n",
      "- mediator variables may or may not be observable, and should always have at least one causal parents (for example, a treatment variable) and at least one causal child (for example, the outcome variable)\n",
      "- collider variables may or may not be observable, and should always have at least two causal parents (for example, a treatment and outcome variable) and no causal children\n",
      "\n",
      "Answer concisely and precisely in the desired format. Carefully complete each of these tasks in order.\n",
      "\n",
      "1. Write a short description of what the article is about and what causal model make inform the reasoning behind an argument the might make.\n",
      "2. Propose 1 outcome variable that the news article is either implicitly or explicitly addressing that people are most likely to be interested in studying, especially if people tend to have misconceptions about it\n",
      "3. Propose 2 treatment variables that either directly or indirectly affect the selected outcome variable and are the most interesting to study\n",
      "4. Propose 3 confounder variables that affect some reasonable combination of the outcome and treatment variables\n",
      "5. Propose 3 mediator variables that affect and are affected by some reasonable combination of any other variables\n",
      "6. Propose 2 collider variables that are affected by some reasonable combination of any other variables\n",
      "\n",
      "Here is the beginning of the new article:\n",
      "```\n",
      "Title: BBC payout for 'scapegoat' designer Matt Wiessler in Bashir Panorama scandal - The Times\n",
      "Description: The BBC has agreed a settlement potentially worth £750,000 with Matt Wiessler, the graphic designer who was blacklisted by the corporation after blowing the whistle on Martin Bashir.\n",
      "Original Language: English\n",
      "```\n",
      "\n",
      "The variables and causal graph should, where possible, use specific details such as names and locations mentioned in the article. Also, generally the variable value \"0\" should correspond to the negative or control while the value \"1\" should correspond to the positive or greater value.\n",
      "\n",
      "Take a deep breath and think step-by-step about how you will do this.\n"
     ]
    }
   ],
   "source": [
    "print(ctx['setting'])"
   ],
   "metadata": {
    "collapsed": false,
    "ExecuteTime": {
     "end_time": "2023-11-16T17:18:55.429683854Z",
     "start_time": "2023-11-16T17:18:55.383869008Z"
    }
   },
   "id": "7cac9d876fc4d17a"
  },
  {
   "cell_type": "code",
   "execution_count": 22,
   "outputs": [
    {
     "name": "stdout",
     "output_type": "stream",
     "text": [
      "1. From all proposed confounder, mediator, and collider variables, select between 3-5 variables that are most interesting to study and together with the treatment and outcome variables result in a realistic interesting causal graph. Important: Make sure the causal graph is a DAG and that no node has more than 3 parents!\n",
      "2.  List all the edges in the causal graph, and make sure to mention which edges are observable and which are not.\n",
      "3. Provide a python list called `nodes` of all the nodes in the proposed graph. For each node, provide the following information in the form of a python dict:\n",
      "- `name`: the name of the variable\n",
      "- `description`: a short description of the variable\n",
      "- `type`: the type of the variable, which can be one of the following: `outcome`, `treatment`, `confounder`, `mediator`, `collider`\n",
      "- `observed`: a boolean value indicating whether the variable is observable or not\n",
      "- `values`: a python list of the descriptions of the values the variable can take (corresponding to the index)\n",
      "- `parents`: a python list of the names of the parents of the variable (make sure they match the corresponding `name` field of the parent nodes)\n",
      "\n",
      "Take a deep breath and think step-by-step about how you will do this.\n"
     ]
    }
   ],
   "source": [
    "print(ctx['graph'])"
   ],
   "metadata": {
    "collapsed": false,
    "ExecuteTime": {
     "end_time": "2023-11-16T16:48:20.507407580Z",
     "start_time": "2023-11-16T16:48:20.451152142Z"
    }
   },
   "id": "3dba22960a9e0ca4"
  },
  {
   "cell_type": "code",
   "execution_count": 74,
   "outputs": [],
   "source": [
    "#################################################\n",
    "\n",
    "nodes = [\n",
    "    {\"name\": \"Settlement Compensation\",\n",
    "     \"description\": \"Whether Wiessler receives a settlement from the BBC.\",\n",
    "     \"type\": \"outcome\",\n",
    "     \"observed\": True,\n",
    "     \"values\": [\"No compensation\", \"Compensation received\"],\n",
    "     \"parents\": [\"Whistleblowing Act\", \"Legal Proceedings\", \"Public Opinion\"]},\n",
    "\n",
    "    {\"name\": \"Whistleblowing Act\",\n",
    "     \"description\": \"Whether Wiessler blew the whistle on Bashir's actions.\",\n",
    "     \"type\": \"treatment\",\n",
    "     \"observed\": True,\n",
    "     \"values\": [\"No whistleblowing\", \"Whistleblowing occurred\"],\n",
    "     \"parents\": [\"Corporate Ethics Culture\"]},\n",
    "\n",
    "    {\"name\": \"BBC's Initial Reaction\",\n",
    "     \"description\": \"BBC's initial response to Wiessler's whistleblowing.\",\n",
    "     \"type\": \"treatment\",\n",
    "     \"observed\": True,\n",
    "     \"values\": [\"Negative/Dismissive reaction\", \"Positive/Supportive reaction\"],\n",
    "     \"parents\": [\"Corporate Ethics Culture\"]},\n",
    "\n",
    "    {\"name\": \"Corporate Ethics Culture\",\n",
    "     \"description\": \"Ethical culture within the BBC.\",\n",
    "     \"type\": \"confounder\",\n",
    "     \"observed\": False,\n",
    "     \"values\": [\"Poor ethics culture\", \"Strong ethics culture\"],\n",
    "     \"parents\": []},\n",
    "\n",
    "    {\"name\": \"Legal Proceedings\",\n",
    "     \"description\": \"Legal actions taken as a result of the whistleblowing.\",\n",
    "     \"type\": \"mediator\",\n",
    "     \"observed\": False,\n",
    "     \"values\": [\"No legal proceedings\", \"Legal proceedings initiated\"],\n",
    "     \"parents\": [\"Whistleblowing Act\"]},\n",
    "\n",
    "    {\"name\": \"Public Opinion\",\n",
    "     \"description\": \"Public reaction to the BBC's handling of the situation.\",\n",
    "     \"type\": \"mediator\",\n",
    "     \"observed\": True,\n",
    "     \"values\": [\"Negative public opinion\", \"Positive public opinion\"],\n",
    "     \"parents\": [\"BBC's Initial Reaction\"]},\n",
    "\n",
    "    {\"name\": \"Media Coverage Intensity\",\n",
    "     \"description\": \"Extent and nature of media coverage.\",\n",
    "     \"type\": \"collider\",\n",
    "     \"observed\": True,\n",
    "     \"values\": [\"Low media coverage\", \"High media coverage\"],\n",
    "     \"parents\": [\"Legal Proceedings\", \"Public Opinion\"]}\n",
    "]\n",
    "\n",
    "\n",
    "\n",
    "#################################################\n",
    "varvals = {node['name']: node['values'] for node in nodes}\n",
    "varparents = {node['name']: node['parents'] for node in nodes}\n",
    "varorder = toposort(varparents)\n",
    "nodes = sorted(nodes, key=lambda x: varorder.index(x['name']))\n",
    "\n",
    "ctx['nodes'] = nodes\n"
   ],
   "metadata": {
    "collapsed": false,
    "ExecuteTime": {
     "end_time": "2023-11-16T17:21:54.492454685Z",
     "start_time": "2023-11-16T17:21:54.443572154Z"
    }
   },
   "id": "f3fcf031d24d5d48"
  },
  {
   "cell_type": "code",
   "execution_count": 83,
   "outputs": [
    {
     "name": "stderr",
     "output_type": "stream",
     "text": [
      "/tmp/ipykernel_3797011/490739180.py:20: UserWarning: This figure includes Axes that are not compatible with tight_layout, so results might be incorrect.\n",
      "  plt.tight_layout();\n"
     ]
    },
    {
     "data": {
      "text/plain": "<Figure size 1000x600 with 1 Axes>",
      "image/png": "[encoded data removed]"
     },
     "metadata": {},
     "output_type": "display_data"
    }
   ],
   "source": [
    "G = nx.DiGraph()\n",
    "\n",
    "# Add nodes and edges to the graph\n",
    "for node in nodes:\n",
    "    G.add_node(node['name'], type=node['type'], observed=node['observed'])\n",
    "\n",
    "    for parent in node['parents']:\n",
    "        G.add_edge(parent, node['name'])\n",
    "\n",
    "# Define node colors based on type\n",
    "node_colors = {'treatment': 'lightcoral', 'outcome': 'lightgreen', 'confounder': 'lightblue', 'mediator': 'lightyellow', 'collider': 'lightgray'}\n",
    "colors = [node_colors[G.nodes[n]['type']] for n in G.nodes]\n",
    "\n",
    "# Draw the graph\n",
    "plt.figure(figsize=(10, 6))\n",
    "# pos = nx.spring_layout(G)\n",
    "pos = nx.circular_layout(G)\n",
    "nx.draw(G, pos, with_labels=True, node_color=colors, node_size=5000, font_size=10, font_weight='bold', edge_color='gray', arrowsize=20)\n",
    "plt.title('Causal Graph', size=15);\n",
    "plt.tight_layout();"
   ],
   "metadata": {
    "collapsed": false,
    "ExecuteTime": {
     "end_time": "2023-11-16T17:22:39.146724020Z",
     "start_time": "2023-11-16T17:22:39.016023341Z"
    }
   },
   "id": "9f8b963c0ac35fa8"
  },
  {
   "cell_type": "code",
   "execution_count": 84,
   "outputs": [
    {
     "name": "stdout",
     "output_type": "stream",
     "text": [
      "We have a causal bayes net based on the following article:\n",
      "\n",
      "```\n",
      "Title: BBC payout for 'scapegoat' designer Matt Wiessler in Bashir Panorama scandal - The Times\n",
      "Description: The BBC has agreed a settlement potentially worth £750,000 with Matt Wiessler, the graphic designer who was blacklisted by the corporation after blowing the whistle on Martin Bashir.\n",
      "Original Language: English\n",
      "```\n",
      "\n",
      "Now we would like to estimate the probabilities of certain events.\n",
      "\n",
      "Using commonsense, estimate the probabilities of the following events:\n",
      "\n",
      "1. what is the probability that \"Corporate Ethics Culture\" is \"Strong ethics culture\" (rather than \"Poor ethics culture\")?\n",
      "2. when \"Corporate Ethics Culture\" is \"Poor ethics culture\": what is the probability that \"Whistleblowing Act\" is \"Whistleblowing occurred\" (rather than \"No whistleblowing\")?\n",
      "3. when \"Corporate Ethics Culture\" is \"Strong ethics culture\": what is the probability that \"Whistleblowing Act\" is \"Whistleblowing occurred\" (rather than \"No whistleblowing\")?\n",
      "4. when \"Corporate Ethics Culture\" is \"Poor ethics culture\": what is the probability that \"BBC's Initial Reaction\" is \"Positive/Supportive reaction\" (rather than \"Negative/Dismissive reaction\")?\n",
      "5. when \"Corporate Ethics Culture\" is \"Strong ethics culture\": what is the probability that \"BBC's Initial Reaction\" is \"Positive/Supportive reaction\" (rather than \"Negative/Dismissive reaction\")?\n",
      "6. when \"Whistleblowing Act\" is \"No whistleblowing\": what is the probability that \"Legal Proceedings\" is \"Legal proceedings initiated\" (rather than \"No legal proceedings\")?\n",
      "7. when \"Whistleblowing Act\" is \"Whistleblowing occurred\": what is the probability that \"Legal Proceedings\" is \"Legal proceedings initiated\" (rather than \"No legal proceedings\")?\n",
      "8. when \"BBC's Initial Reaction\" is \"Negative/Dismissive reaction\": what is the probability that \"Public Opinion\" is \"Positive public opinion\" (rather than \"Negative public opinion\")?\n",
      "9. when \"BBC's Initial Reaction\" is \"Positive/Supportive reaction\": what is the probability that \"Public Opinion\" is \"Positive public opinion\" (rather than \"Negative public opinion\")?\n",
      "10. when \"Whistleblowing Act\" is \"No whistleblowing\" and \"Legal Proceedings\" is \"No legal proceedings\" and \"Public Opinion\" is \"Negative public opinion\": what is the probability that \"Settlement Compensation\" is \"Compensation received\" (rather than \"No compensation\")?\n",
      "11. when \"Whistleblowing Act\" is \"No whistleblowing\" and \"Legal Proceedings\" is \"No legal proceedings\" and \"Public Opinion\" is \"Positive public opinion\": what is the probability that \"Settlement Compensation\" is \"Compensation received\" (rather than \"No compensation\")?\n",
      "12. when \"Whistleblowing Act\" is \"No whistleblowing\" and \"Legal Proceedings\" is \"Legal proceedings initiated\" and \"Public Opinion\" is \"Negative public opinion\": what is the probability that \"Settlement Compensation\" is \"Compensation received\" (rather than \"No compensation\")?\n",
      "13. when \"Whistleblowing Act\" is \"No whistleblowing\" and \"Legal Proceedings\" is \"Legal proceedings initiated\" and \"Public Opinion\" is \"Positive public opinion\": what is the probability that \"Settlement Compensation\" is \"Compensation received\" (rather than \"No compensation\")?\n",
      "14. when \"Whistleblowing Act\" is \"Whistleblowing occurred\" and \"Legal Proceedings\" is \"No legal proceedings\" and \"Public Opinion\" is \"Negative public opinion\": what is the probability that \"Settlement Compensation\" is \"Compensation received\" (rather than \"No compensation\")?\n",
      "15. when \"Whistleblowing Act\" is \"Whistleblowing occurred\" and \"Legal Proceedings\" is \"No legal proceedings\" and \"Public Opinion\" is \"Positive public opinion\": what is the probability that \"Settlement Compensation\" is \"Compensation received\" (rather than \"No compensation\")?\n",
      "16. when \"Whistleblowing Act\" is \"Whistleblowing occurred\" and \"Legal Proceedings\" is \"Legal proceedings initiated\" and \"Public Opinion\" is \"Negative public opinion\": what is the probability that \"Settlement Compensation\" is \"Compensation received\" (rather than \"No compensation\")?\n",
      "17. when \"Whistleblowing Act\" is \"Whistleblowing occurred\" and \"Legal Proceedings\" is \"Legal proceedings initiated\" and \"Public Opinion\" is \"Positive public opinion\": what is the probability that \"Settlement Compensation\" is \"Compensation received\" (rather than \"No compensation\")?\n",
      "18. when \"Legal Proceedings\" is \"No legal proceedings\" and \"Public Opinion\" is \"Negative public opinion\": what is the probability that \"Media Coverage Intensity\" is \"High media coverage\" (rather than \"Low media coverage\")?\n",
      "19. when \"Legal Proceedings\" is \"No legal proceedings\" and \"Public Opinion\" is \"Positive public opinion\": what is the probability that \"Media Coverage Intensity\" is \"High media coverage\" (rather than \"Low media coverage\")?\n",
      "20. when \"Legal Proceedings\" is \"Legal proceedings initiated\" and \"Public Opinion\" is \"Negative public opinion\": what is the probability that \"Media Coverage Intensity\" is \"High media coverage\" (rather than \"Low media coverage\")?\n",
      "21. when \"Legal Proceedings\" is \"Legal proceedings initiated\" and \"Public Opinion\" is \"Positive public opinion\": what is the probability that \"Media Coverage Intensity\" is \"High media coverage\" (rather than \"Low media coverage\")?\n",
      "\n",
      "Where the variables are defined as:\n",
      "\"Corporate Ethics Culture\" means \"Ethical culture within the BBC.\"\n",
      "\"Whistleblowing Act\" means \"Whether Wiessler blew the whistle on Bashir's actions.\"\n",
      "\"BBC's Initial Reaction\" means \"BBC's initial response to Wiessler's whistleblowing.\"\n",
      "\"Legal Proceedings\" means \"Legal actions taken as a result of the whistleblowing.\"\n",
      "\"Public Opinion\" means \"Public reaction to the BBC's handling of the situation.\"\n",
      "\"Settlement Compensation\" means \"Whether Wiessler receives a settlement from the BBC.\"\n",
      "\"Media Coverage Intensity\" means \"Extent and nature of media coverage.\"\n",
      "\n",
      "For each question above, answer with the lower and upper bound estimates of the probabilities as a python dictionary where the key corresponds to the question index in exactly the following format:\n",
      "\n",
      "```python\n",
      "probabilities = {\n",
      "  1: [0.3, 0.4],\n",
      "  ...\n",
      "}\n",
      "```\n",
      "\n",
      "Answer concisely and precisely in the desired format.\n"
     ]
    }
   ],
   "source": [
    "print(ctx['stats'])"
   ],
   "metadata": {
    "collapsed": false,
    "ExecuteTime": {
     "end_time": "2023-11-16T17:22:53.242679603Z",
     "start_time": "2023-11-16T17:22:53.198914529Z"
    }
   },
   "id": "feaee31660914e5"
  },
  {
   "cell_type": "code",
   "execution_count": 85,
   "outputs": [],
   "source": [
    "#################################################\n",
    "\n",
    "probabilities = {\n",
    "    1: [0.2, 0.4],  # Probability of \"Strong ethics culture\" in a large corporation\n",
    "    2: [0.4, 0.6],  # Higher likelihood of whistleblowing in a poor ethics culture\n",
    "    3: [0.5, 0.7],  # Still significant, but slightly higher probability in a strong ethics culture\n",
    "    4: [0.1, 0.3],  # Low probability of positive reaction in a poor ethics culture\n",
    "    5: [0.6, 0.8],  # Higher probability of positive reaction in a strong ethics culture\n",
    "    6: [0.05, 0.15], # Low probability of legal proceedings without whistleblowing\n",
    "    7: [0.7, 0.9],  # High probability of legal proceedings following whistleblowing\n",
    "    8: [0.2, 0.4],  # Negative reaction from BBC might still garner some positive public opinion\n",
    "    9: [0.7, 0.9],  # Positive reaction from BBC likely to yield positive public opinion\n",
    "    10: [0.05, 0.15], # Low probability of compensation without whistleblowing or legal proceedings and negative public opinion\n",
    "    11: [0.2, 0.4],  # Slightly higher probability with positive public opinion, but still without whistleblowing or legal proceedings\n",
    "    12: [0.4, 0.6],  # Moderate probability of compensation with legal proceedings, even without whistleblowing\n",
    "    13: [0.6, 0.8],  # Higher probability with positive public opinion and legal proceedings\n",
    "    14: [0.3, 0.5],  # Moderate probability of compensation with whistleblowing but without legal proceedings, even if public opinion is negative\n",
    "    15: [0.5, 0.7],  # Higher probability with positive public opinion and whistleblowing, even without legal proceedings\n",
    "    16: [0.7, 0.9],  # High probability of compensation with whistleblowing and legal proceedings, even if public opinion is negative\n",
    "    17: [0.8, 0.95], # Very high probability with whistleblowing, legal proceedings, and positive public opinion\n",
    "    18: [0.3, 0.5],  # Moderate probability of high media coverage even without legal proceedings if public opinion is negative\n",
    "    19: [0.4, 0.6],  # Moderate to high probability of high media coverage with positive public opinion but no legal proceedings\n",
    "    20: [0.6, 0.8],  # Higher probability of high media coverage with legal proceedings, even if public opinion is negative\n",
    "    21: [0.7, 0.9]   # High probability of high media coverage with both legal proceedings and positive public opinion\n",
    "}\n",
    "\n",
    "\n",
    "\n",
    "#################################################\n",
    "probs = probabilities\n",
    "ctx['probs'] = probs"
   ],
   "metadata": {
    "collapsed": false,
    "ExecuteTime": {
     "end_time": "2023-11-16T17:23:51.367775098Z",
     "start_time": "2023-11-16T17:23:51.313295030Z"
    }
   },
   "id": "43b3c05608ca33be"
  },
  {
   "cell_type": "code",
   "execution_count": 86,
   "outputs": [],
   "source": [
    "raw_prob_samples = []\n",
    "def to_prob_range(raw):\n",
    "    raw = [prange for _, prange in sorted(raw.items())]\n",
    "    return torch.tensor(raw)\n",
    "\n",
    "prob_ranges = to_prob_range(probs)\n",
    "lower_bound, upper_bound = prob_ranges.t()\n",
    "\n",
    "variables = {}\n",
    "for node in nodes:\n",
    "    if len(node['parents']):\n",
    "        variables[node['name']] = ConditionalBernoulli([variables[parent] for parent in node['parents']])\n",
    "    else:\n",
    "        variables[node['name']] = Bernoulli(0.5)\n",
    "net = BernoulliNetwork(variables)\n",
    "# net"
   ],
   "metadata": {
    "collapsed": false,
    "ExecuteTime": {
     "end_time": "2023-11-16T17:23:54.673169485Z",
     "start_time": "2023-11-16T17:23:54.654596205Z"
    }
   },
   "id": "9c542b5b6c1269ef"
  },
  {
   "cell_type": "code",
   "execution_count": 87,
   "outputs": [],
   "source": [
    "def mc_samples(N, *fns):\n",
    "    estimates = []\n",
    "    for _ in tqdm(range(N)):\n",
    "        param_sample = torch.rand(len(prob_ranges), 1) * (upper_bound - lower_bound) + lower_bound\n",
    "        net.set_params(param_sample)\n",
    "        estimates.append([fn() for fn in fns])\n",
    "    return torch.tensor(estimates)\n",
    "def make_ate_fn(treatment, outcome):\n",
    "    def ate_fn():\n",
    "        return net.ate(treatment)[outcome].item()\n",
    "\n",
    "    return ate_fn\n",
    "def make_corr_fn(v1, v2):\n",
    "    def corr_fn():\n",
    "        return net.correlation(v1, v2).item()\n",
    "\n",
    "    return corr_fn"
   ],
   "metadata": {
    "collapsed": false,
    "ExecuteTime": {
     "end_time": "2023-11-16T17:23:55.775165826Z",
     "start_time": "2023-11-16T17:23:55.737700245Z"
    }
   },
   "id": "ad421b1510843ee"
  },
  {
   "cell_type": "code",
   "execution_count": 88,
   "outputs": [
    {
     "name": "stdout",
     "output_type": "stream",
     "text": [
      "-----------------------  ----------------------------  ----------------------------\n",
      "Whistleblowing Act       No whistleblowing             Whistleblowing occurred\n",
      "BBC's Initial Reaction   Negative/Dismissive reaction  Positive/Supportive reaction\n",
      "Settlement Compensation  No compensation               Compensation received\n",
      "-----------------------  ----------------------------  ----------------------------\n"
     ]
    },
    {
     "data": {
      "text/plain": "  0%|          | 0/100 [00:00<?, ?it/s]",
      "application/vnd.jupyter.widget-view+json": {
       "version_major": 2,
       "version_minor": 0,
       "model_id": "7f94da66c70040fa97e6ecb8c1a87040"
      }
     },
     "metadata": {},
     "output_type": "display_data"
    },
    {
     "name": "stderr",
     "output_type": "stream",
     "text": [
      "/home/fleeb/miniconda3/lib/python3.11/site-packages/torch/masked/maskedtensor/core.py:156: UserWarning: The PyTorch API of MaskedTensors is in prototype stage and will change in the near future. Please open a Github issue for features requests and see our documentation on the torch.masked module for further information about the project.\n",
      "  warnings.warn((\"The PyTorch API of MaskedTensors is in prototype stage \"\n"
     ]
    },
    {
     "name": "stdout",
     "output_type": "stream",
     "text": [
      "'Corporate Ethics Culture' means Ethical culture within the BBC.\n",
      "'Whistleblowing Act' means Whether Wiessler blew the whistle on Bashir's actions.\n",
      "\"BBC's Initial Reaction\" means BBC's initial response to Wiessler's whistleblowing.\n",
      "'Legal Proceedings' means Legal actions taken as a result of the whistleblowing.\n",
      "'Public Opinion' means Public reaction to the BBC's handling of the situation.\n",
      "'Settlement Compensation' means Whether Wiessler receives a settlement from the BBC.\n",
      "'Media Coverage Intensity' means Extent and nature of media coverage.\n",
      "Treatment Value               Treatment               Outcome Value          Outcome                        ATE    Correlation\n",
      "----------------------------  ----------------------  ---------------------  -----------------------  ---------  -------------\n",
      "Whistleblowing occurred       Whistleblowing Act      Compensation received  Settlement Compensation  0.527599       0.332398\n",
      "Positive/Supportive reaction  BBC's Initial Reaction  Compensation received  Settlement Compensation  0.0821228     -0.0782275\n"
     ]
    }
   ],
   "source": [
    "treatment1, treatment2 = [node['name'] for node in nodes if node['type'] == 'treatment']\n",
    "t1vals = [node['values'] for node in nodes if node['name'] == treatment1][0]\n",
    "t2vals = [node['values'] for node in nodes if node['name'] == treatment2][0]\n",
    "outcome = [node['name'] for node in nodes if node['type'] == 'outcome'][0]\n",
    "ovals = [node['values'] for node in nodes if node['name'] == outcome][0]\n",
    "\n",
    "print(tabulate([\n",
    "    [treatment1, *t1vals],\n",
    "    [treatment2, *t2vals],\n",
    "    [outcome, *ovals]\n",
    "]))\n",
    "\n",
    "ate1, ate2, corr1, corr2 = mc_samples(100, make_ate_fn(treatment1, outcome), make_ate_fn(treatment2, outcome),\n",
    "                                      make_corr_fn(treatment1, outcome), make_corr_fn(treatment2, outcome)).t()\n",
    "\n",
    "print('\\n'.join(f'{node[\"name\"]!r} means {node[\"description\"]}' for node in nodes))\n",
    "print(tabulate([\n",
    "    [f'{t1vals[1]}', f'{treatment1}', f'{ovals[1]}', f'{outcome}', ate1.mean(), corr1.mean(), ],\n",
    "    [f'{t2vals[1]}', f'{treatment2}', f'{ovals[1]}', f'{outcome}', ate2.mean(), corr2.mean(), ],\n",
    "], headers=['Treatment Value', 'Treatment', 'Outcome Value', 'Outcome', 'ATE', 'Correlation']))"
   ],
   "metadata": {
    "collapsed": false,
    "ExecuteTime": {
     "end_time": "2023-11-16T17:24:09.912753825Z",
     "start_time": "2023-11-16T17:23:56.104238965Z"
    }
   },
   "id": "438022b13300119a"
  },
  {
   "cell_type": "code",
   "execution_count": 89,
   "outputs": [
    {
     "data": {
      "text/plain": "<Figure size 800x400 with 1 Axes>",
      "image/png": "[encoded data removed]"
     },
     "metadata": {},
     "output_type": "display_data"
    }
   ],
   "source": [
    "plt.figure(figsize=(8, 4))\n",
    "sns.kdeplot(ate1, label=f'{t1vals[1]} = {treatment1}', fill=True);\n",
    "sns.kdeplot(ate2, label=f'{t2vals[1]} = {treatment2}', fill=True);\n",
    "plt.title(f'{ovals[1]} = {outcome}')\n",
    "plt.ylabel(f'P(ATE)')\n",
    "plt.gca().legend(loc='upper center', bbox_to_anchor=(0.5, -.1))\n",
    "plt.axvline(0, color='black', linestyle='--', alpha=0.5)\n",
    "# plt.xlim(-1, 1)\n",
    "plt.tight_layout();"
   ],
   "metadata": {
    "collapsed": false,
    "ExecuteTime": {
     "end_time": "2023-11-16T17:24:10.198208484Z",
     "start_time": "2023-11-16T17:24:09.964119504Z"
    }
   },
   "id": "91c54e61480a1489"
  },
  {
   "cell_type": "code",
   "execution_count": 90,
   "outputs": [
    {
     "data": {
      "text/plain": "<Figure size 800x400 with 1 Axes>",
      "image/png": "[encoded data removed]"
     },
     "metadata": {},
     "output_type": "display_data"
    }
   ],
   "source": [
    "plt.figure(figsize=(8, 4))\n",
    "sns.kdeplot(corr1, label=f'{t1vals[1]} = {treatment1}', fill=True);\n",
    "sns.kdeplot(corr2, label=f'{t2vals[1]} = {treatment2}', fill=True);\n",
    "plt.title(f'{ovals[1]} = {outcome}')\n",
    "plt.ylabel(f'P(Correlation)')\n",
    "plt.gca().legend(loc='upper center', bbox_to_anchor=(0.5, -.1))\n",
    "plt.axvline(0, color='black', linestyle='--', alpha=0.5)\n",
    "# plt.xlim(-1, 1)\n",
    "plt.tight_layout();"
   ],
   "metadata": {
    "collapsed": false,
    "ExecuteTime": {
     "end_time": "2023-11-16T17:24:10.419927782Z",
     "start_time": "2023-11-16T17:24:10.192737035Z"
    }
   },
   "id": "567b6b9bfc98960c"
  },
  {
   "cell_type": "code",
   "execution_count": 92,
   "outputs": [
    {
     "data": {
      "text/plain": "PosixPath('/home/fleeb/workspace/code/novo/data/stories/test1.json')"
     },
     "execution_count": 92,
     "metadata": {},
     "output_type": "execute_result"
    }
   ],
   "source": [
    "ctx.save(f'test{len(list(ctx._root.glob(\"*.json\")))+1}')"
   ],
   "metadata": {
    "collapsed": false,
    "ExecuteTime": {
     "end_time": "2023-11-16T17:24:41.118062644Z",
     "start_time": "2023-11-16T17:24:41.109806471Z"
    }
   },
   "id": "b09bd69041ed5cb2"
  },
  {
   "cell_type": "code",
   "execution_count": 42,
   "outputs": [],
   "source": [],
   "metadata": {
    "collapsed": false,
    "ExecuteTime": {
     "end_time": "2023-11-16T17:05:05.400058590Z",
     "start_time": "2023-11-16T17:05:05.381715318Z"
    }
   },
   "id": "1e6fbb0b6124ccf3"
  },
  {
   "cell_type": "code",
   "execution_count": null,
   "outputs": [],
   "source": [],
   "metadata": {
    "collapsed": false
   },
   "id": "edf70b7683a3e1b0"
  },
  {
   "cell_type": "code",
   "execution_count": null,
   "outputs": [],
   "source": [],
   "metadata": {
    "collapsed": false
   },
   "id": "4ece7c851d5abf2e"
  },
  {
   "cell_type": "code",
   "execution_count": null,
   "outputs": [],
   "source": [],
   "metadata": {
    "collapsed": false
   },
   "id": "39b6714de237b6e7"
  },
  {
   "cell_type": "code",
   "execution_count": null,
   "outputs": [],
   "source": [],
   "metadata": {
    "collapsed": false
   },
   "id": "87fc559e709b75f0"
  },
  {
   "cell_type": "code",
   "execution_count": null,
   "outputs": [],
   "source": [],
   "metadata": {
    "collapsed": false
   },
   "id": "eb5292bf69900cc3"
  },
  {
   "cell_type": "code",
   "execution_count": null,
   "outputs": [],
   "source": [],
   "metadata": {
    "collapsed": false
   },
   "id": "dec8a389b45661b3"
  },
  {
   "cell_type": "code",
   "execution_count": null,
   "outputs": [],
   "source": [],
   "metadata": {
    "collapsed": false
   },
   "id": "61af6af1c0665464"
  },
  {
   "cell_type": "code",
   "execution_count": null,
   "outputs": [],
   "source": [],
   "metadata": {
    "collapsed": false
   },
   "id": "79cbbcae4d3e4455"
  },
  {
   "cell_type": "code",
   "execution_count": 6,
   "outputs": [
    {
     "name": "stdout",
     "output_type": "stream",
     "text": [
      "Title: Central banks are driving investors crazy: even Greece now has negative interest rates - Volkskrant\n",
      "Description: On Monday, for the first time in history, investors poured money into Greek bonds with a five-year term. Why do investors do this?\n",
      "Original Language: Dutch\n"
     ]
    }
   ],
   "source": [
    "article = '''\n",
    "Title: Central banks are driving investors crazy: even Greece now has negative interest rates - Volkskrant\n",
    "Description: On Monday, for the first time in history, investors poured money into Greek bonds with a five-year term. Why do investors do this?\n",
    "Original Language: Dutch\n",
    "'''[1:-1]\n",
    "print(article)"
   ],
   "metadata": {
    "collapsed": false,
    "ExecuteTime": {
     "end_time": "2023-11-16T11:36:27.337059767Z",
     "start_time": "2023-11-16T11:36:27.324671813Z"
    }
   },
   "id": "e2000710edc988f8"
  },
  {
   "cell_type": "code",
   "execution_count": 7,
   "outputs": [
    {
     "name": "stdout",
     "output_type": "stream",
     "text": [
      "We are interested in building a causal model based on the explicit and implicit assumptions contained in the specified article and then using causal inference to evaluate the reasoning. Answer the following questions to design an interesting, simple, and most importantly realistic causal model from a news article.\n",
      "\n",
      "To help understand the instructions here are some tips:\n",
      "- all variables are always binary and (at least in principle) measurable, so when creating and selecting variables, make sure it is reasonable to treat them as binary\n",
      "- whenever you propose a variable, make sure to define the meaning of each value it can take, and mention whether it is observable or not\n",
      "- outcome variables are always observable\n",
      "- treatment variables are always observable and intervenable, that means it must be possible to (at least in principle) change their value if desired\n",
      "- confounder variables may or may not be observable, and should always have at least two causal children (for example, a treatment and outcome variable) and no causal parents\n",
      "- mediator variables may or may not be observable, and should always have at least one causal parents (for example, a treatment variable) and at least one causal child (for example, the outcome variable)\n",
      "- collider variables may or may not be observable, and should always have at least two causal parents (for example, a treatment and outcome variable) and no causal children\n",
      "\n",
      "Answer concisely and precisely in the desired format. Carefully complete each of these tasks in order.\n",
      "\n",
      "1. Write a short description of what the article is about and what causal model make inform the reasoning behind an argument the might make.\n",
      "2. Propose 1 outcome variable that the news article is either implicitly or explicitly addressing that people are most likely to be interested in studying, especially if people tend to have misconceptions about it\n",
      "3. Propose 2 treatment variables that either directly or indirectly affect the selected outcome variable and are the most interesting to study\n",
      "4. Propose 3 confounder variables that affect some reasonable combination of the outcome and treatment variables\n",
      "5. Propose 3 mediator variables that affect and are affected by some reasonable combination of any other variables\n",
      "6. Propose 2 collider variables that are affected by some reasonable combination of any other variables\n",
      "\n",
      "Here is the beginning of the new article:\n",
      "```\n",
      "Title: Central banks are driving investors crazy: even Greece now has negative interest rates - Volkskrant\n",
      "Description: On Monday, for the first time in history, investors poured money into Greek bonds with a five-year term. Why do investors do this?\n",
      "Original Language: Dutch\n",
      "```\n",
      "\n",
      "The variables and causal graph should, where possible, use specific details such as names and locations mentioned in the article. Also, generally the variable value \"0\" should correspond to the negative or control while the value \"1\" should correspond to the positive or greater value.\n",
      "\n",
      "Take a deep breath and think step-by-step about how you will do this.\n"
     ]
    }
   ],
   "source": [
    "prompt = graph_generation_prompt1.format(article=article)\n",
    "# clipboard.copy(prompt);\n",
    "print(prompt)"
   ],
   "metadata": {
    "collapsed": false,
    "ExecuteTime": {
     "end_time": "2023-11-16T11:36:27.380803532Z",
     "start_time": "2023-11-16T11:36:27.332724534Z"
    }
   },
   "id": "d2f774e40347e508"
  },
  {
   "cell_type": "code",
   "execution_count": 8,
   "outputs": [
    {
     "name": "stdout",
     "output_type": "stream",
     "text": [
      "1. From all proposed confounder, mediator, and collider variables, select between 3-5 variables that are most interesting to study and together with the treatment and outcome variables result in a realistic interesting causal graph. Important: Make sure the causal graph is a DAG and that no node has more than 3 parents!\n",
      "2.  List all the edges in the causal graph, and make sure to mention which edges are observable and which are not.\n",
      "3. Provide a python list of all the nodes in the proposed graph. For each node, provide the following information in the form of a python dict:\n",
      "- `name`: the name of the variable\n",
      "- `description`: a short description of the variable\n",
      "- `type`: the type of the variable, which can be one of the following: `outcome`, `treatment`, `confounder`, `mediator`, `collider`\n",
      "- `observed`: a boolean value indicating whether the variable is observable or not\n",
      "- `values`: a python list of the descriptions of the values the variable can take (corresponding to the index)\n",
      "- `parents`: a python list of the names of the parents of the variable (make sure they match the corresponding `name` field of the parent nodes)\n",
      "\n",
      "Take a deep breath and think step-by-step about how you will do this.\n"
     ]
    }
   ],
   "source": [
    "print(graph_generation_prompt2)"
   ],
   "metadata": {
    "collapsed": false,
    "ExecuteTime": {
     "end_time": "2023-11-16T11:36:27.380980202Z",
     "start_time": "2023-11-16T11:36:27.380695445Z"
    }
   },
   "id": "80924396fb40964"
  },
  {
   "cell_type": "code",
   "execution_count": 9,
   "outputs": [],
   "source": [
    "\n",
    "nodes = [\n",
    "    {\n",
    "        \"name\": \"Central Bank Policy\",\n",
    "        \"description\": \"Policies of central banks affecting interest rates.\",\n",
    "        \"type\": \"treatment\",\n",
    "        \"observed\": True,\n",
    "        \"values\": [\"Traditional interest rates\", \"Negative interest rates\"],\n",
    "        \"parents\": [\"Global Economic Climate\"]\n",
    "    },\n",
    "    {\n",
    "        \"name\": \"Economic Stability of Greece\",\n",
    "        \"description\": \"Perceived economic stability of Greece.\",\n",
    "        \"type\": \"treatment\",\n",
    "        \"observed\": True,\n",
    "        \"values\": [\"Economically unstable\", \"Economically stable\"],\n",
    "        \"parents\": [\"Global Economic Climate\"]\n",
    "    },\n",
    "    {\n",
    "        \"name\": \"Investor Attraction to Negative Interest Bonds\",\n",
    "        \"description\": \"Investor attraction towards bonds with negative interest rates.\",\n",
    "        \"type\": \"outcome\",\n",
    "        \"observed\": True,\n",
    "        \"values\": [\"Not attracted\", \"Attracted\"],\n",
    "        \"parents\": [\"Central Bank Policy\", \"Economic Stability of Greece\", \"Public Perception of Greek Economy\"]\n",
    "    },\n",
    "    {\n",
    "        \"name\": \"Global Economic Climate\",\n",
    "        \"description\": \"The overall global economic climate.\",\n",
    "        \"type\": \"confounder\",\n",
    "        \"observed\": True,\n",
    "        \"values\": [\"Unfavorable\", \"Favorable\"],\n",
    "        \"parents\": []\n",
    "    },\n",
    "    {\n",
    "        \"name\": \"Public Perception of Greek Economy\",\n",
    "        \"description\": \"How the public perceives the economy of Greece.\",\n",
    "        \"type\": \"mediator\",\n",
    "        \"observed\": True,\n",
    "        \"values\": [\"Perceived negatively\", \"Perceived positively\"],\n",
    "        \"parents\": [\"Central Bank Policy\", \"Economic Stability of Greece\"]\n",
    "    }\n",
    "]\n",
    "\n",
    "\n",
    "\n"
   ],
   "metadata": {
    "collapsed": false,
    "ExecuteTime": {
     "end_time": "2023-11-16T11:39:02.979662945Z",
     "start_time": "2023-11-16T11:39:02.934958110Z"
    }
   },
   "id": "9dc460209f671bd2"
  },
  {
   "cell_type": "code",
   "execution_count": 10,
   "outputs": [
    {
     "name": "stdout",
     "output_type": "stream",
     "text": [
      "['Global Economic Climate', 'Central Bank Policy', 'Economic Stability of Greece', 'Public Perception of Greek Economy', 'Investor Attraction to Negative Interest Bonds']\n"
     ]
    }
   ],
   "source": [
    "varvals = {node['name']: node['values'] for node in nodes}\n",
    "varparents = {node['name']: node['parents'] for node in nodes}\n",
    "varorder = toposort(varparents)\n",
    "nodes = sorted(nodes, key=lambda x: varorder.index(x['name']))\n",
    "print(varorder)"
   ],
   "metadata": {
    "collapsed": false,
    "ExecuteTime": {
     "end_time": "2023-11-16T11:39:04.028450507Z",
     "start_time": "2023-11-16T11:39:04.003044345Z"
    }
   },
   "id": "23f8bd7ab8b26eea"
  },
  {
   "cell_type": "code",
   "execution_count": 11,
   "outputs": [],
   "source": [
    "\n",
    "template = '{index}. What is the probability that {outcome}{parents}?'\n",
    "# val_template = '{name} = {val}'\n",
    "# parentval_template = val_template\n",
    "# parent_template = ' given that ({parents})'\n",
    "# separator = ') and ('\n",
    "\n",
    "template = '{index}. What is the probability that {outcome}{parents}?'\n",
    "val_template = '\"{name}\" is \"{val}\" (rather than \"{otherval}\")'\n",
    "parentval_template = '\"{name}\" is \"{val}\"'\n",
    "parent_template = ' given that {parents}'\n",
    "separator = ' and '\n",
    "\n",
    "template = '{index}. {parents}what is the probability that {outcome}?'\n",
    "val_template = '\"{name}\" is \"{val}\" (rather than \"{otherval}\")'\n",
    "parentval_template = '\"{name}\" is \"{val}\"'\n",
    "parent_template = 'when {parents}: '\n",
    "separator = ' and '"
   ],
   "metadata": {
    "collapsed": false,
    "ExecuteTime": {
     "end_time": "2023-11-16T11:39:04.373587995Z",
     "start_time": "2023-11-16T11:39:04.347553974Z"
    }
   },
   "id": "9eeffeba9617b7a7"
  },
  {
   "cell_type": "code",
   "execution_count": 12,
   "outputs": [
    {
     "name": "stdout",
     "output_type": "stream",
     "text": [
      "We have a causal bayes net based on the following article:\n",
      "\n",
      "```\n",
      "Title: Central banks are driving investors crazy: even Greece now has negative interest rates - Volkskrant\n",
      "Description: On Monday, for the first time in history, investors poured money into Greek bonds with a five-year term. Why do investors do this?\n",
      "Original Language: Dutch\n",
      "```\n",
      "\n",
      "Now we would like to estimate the probabilities of certain events.\n",
      "\n",
      "Using commonsense, estimate the probabilities of the following events:\n",
      "\n",
      "1. what is the probability that \"Global Economic Climate\" is \"Favorable\" (rather than \"Unfavorable\")?\n",
      "2. when \"Global Economic Climate\" is \"Unfavorable\": what is the probability that \"Central Bank Policy\" is \"Negative interest rates\" (rather than \"Traditional interest rates\")?\n",
      "3. when \"Global Economic Climate\" is \"Favorable\": what is the probability that \"Central Bank Policy\" is \"Negative interest rates\" (rather than \"Traditional interest rates\")?\n",
      "4. when \"Global Economic Climate\" is \"Unfavorable\": what is the probability that \"Economic Stability of Greece\" is \"Economically stable\" (rather than \"Economically unstable\")?\n",
      "5. when \"Global Economic Climate\" is \"Favorable\": what is the probability that \"Economic Stability of Greece\" is \"Economically stable\" (rather than \"Economically unstable\")?\n",
      "6. when \"Central Bank Policy\" is \"Traditional interest rates\" and \"Economic Stability of Greece\" is \"Economically unstable\": what is the probability that \"Public Perception of Greek Economy\" is \"Perceived positively\" (rather than \"Perceived negatively\")?\n",
      "7. when \"Central Bank Policy\" is \"Traditional interest rates\" and \"Economic Stability of Greece\" is \"Economically stable\": what is the probability that \"Public Perception of Greek Economy\" is \"Perceived positively\" (rather than \"Perceived negatively\")?\n",
      "8. when \"Central Bank Policy\" is \"Negative interest rates\" and \"Economic Stability of Greece\" is \"Economically unstable\": what is the probability that \"Public Perception of Greek Economy\" is \"Perceived positively\" (rather than \"Perceived negatively\")?\n",
      "9. when \"Central Bank Policy\" is \"Negative interest rates\" and \"Economic Stability of Greece\" is \"Economically stable\": what is the probability that \"Public Perception of Greek Economy\" is \"Perceived positively\" (rather than \"Perceived negatively\")?\n",
      "10. when \"Central Bank Policy\" is \"Traditional interest rates\" and \"Economic Stability of Greece\" is \"Economically unstable\" and \"Public Perception of Greek Economy\" is \"Perceived negatively\": what is the probability that \"Investor Attraction to Negative Interest Bonds\" is \"Attracted\" (rather than \"Not attracted\")?\n",
      "11. when \"Central Bank Policy\" is \"Traditional interest rates\" and \"Economic Stability of Greece\" is \"Economically unstable\" and \"Public Perception of Greek Economy\" is \"Perceived positively\": what is the probability that \"Investor Attraction to Negative Interest Bonds\" is \"Attracted\" (rather than \"Not attracted\")?\n",
      "12. when \"Central Bank Policy\" is \"Traditional interest rates\" and \"Economic Stability of Greece\" is \"Economically stable\" and \"Public Perception of Greek Economy\" is \"Perceived negatively\": what is the probability that \"Investor Attraction to Negative Interest Bonds\" is \"Attracted\" (rather than \"Not attracted\")?\n",
      "13. when \"Central Bank Policy\" is \"Traditional interest rates\" and \"Economic Stability of Greece\" is \"Economically stable\" and \"Public Perception of Greek Economy\" is \"Perceived positively\": what is the probability that \"Investor Attraction to Negative Interest Bonds\" is \"Attracted\" (rather than \"Not attracted\")?\n",
      "14. when \"Central Bank Policy\" is \"Negative interest rates\" and \"Economic Stability of Greece\" is \"Economically unstable\" and \"Public Perception of Greek Economy\" is \"Perceived negatively\": what is the probability that \"Investor Attraction to Negative Interest Bonds\" is \"Attracted\" (rather than \"Not attracted\")?\n",
      "15. when \"Central Bank Policy\" is \"Negative interest rates\" and \"Economic Stability of Greece\" is \"Economically unstable\" and \"Public Perception of Greek Economy\" is \"Perceived positively\": what is the probability that \"Investor Attraction to Negative Interest Bonds\" is \"Attracted\" (rather than \"Not attracted\")?\n",
      "16. when \"Central Bank Policy\" is \"Negative interest rates\" and \"Economic Stability of Greece\" is \"Economically stable\" and \"Public Perception of Greek Economy\" is \"Perceived negatively\": what is the probability that \"Investor Attraction to Negative Interest Bonds\" is \"Attracted\" (rather than \"Not attracted\")?\n",
      "17. when \"Central Bank Policy\" is \"Negative interest rates\" and \"Economic Stability of Greece\" is \"Economically stable\" and \"Public Perception of Greek Economy\" is \"Perceived positively\": what is the probability that \"Investor Attraction to Negative Interest Bonds\" is \"Attracted\" (rather than \"Not attracted\")?\n",
      "\n",
      "Where the variables are defined as:\n",
      "'Global Economic Climate' means The overall global economic climate.\n",
      "'Central Bank Policy' means Policies of central banks affecting interest rates.\n",
      "'Economic Stability of Greece' means Perceived economic stability of Greece.\n",
      "'Public Perception of Greek Economy' means How the public perceives the economy of Greece.\n",
      "'Investor Attraction to Negative Interest Bonds' means Investor attraction towards bonds with negative interest rates.\n",
      "\n",
      "For each question above, answer with the lower and upper bound estimates of the probabilities as a python dictionary where the key corresponds to the question index in exactly the following format:\n",
      "\n",
      "```python\n",
      "probabilities = {\n",
      "  1: [0.3, 0.4],\n",
      "  ...\n",
      "}\n",
      "```\n",
      "\n",
      "Answer concisely and precisely in the desired format.\n"
     ]
    }
   ],
   "source": [
    "def generate_terms(nodes):\n",
    "    index = 1\n",
    "    for node in nodes:\n",
    "        name = node['name']\n",
    "        parents = node['parents']\n",
    "        vals = node['values']\n",
    "        \n",
    "        for parentvals in product(*[varvals[parent] for parent in parents]):\n",
    "            yield template.format(\n",
    "                index=index,\n",
    "                outcome=val_template.format(name=name, val=vals[1], otherval=vals[0]),\n",
    "                parents=parent_template.format(parents=separator.join([parentval_template.format(name=parent, val=parentval) for parent, parentval in zip(parents, parentvals)])) if len(parents) else ''\n",
    "            )\n",
    "            index += 1\n",
    "terms = list(generate_terms(nodes))\n",
    "lines = terms.copy()\n",
    "lines.append('')\n",
    "lines.append('Where the variables are defined as:')\n",
    "lines.extend(f'{node[\"name\"]!r} means {node[\"description\"]}' for node in nodes)\n",
    "graph_info = '\\n'.join(lines)\n",
    "print(prob_generation_prompt1.format(article=article, questions=graph_info))"
   ],
   "metadata": {
    "collapsed": false,
    "ExecuteTime": {
     "end_time": "2023-11-16T11:39:05.756682718Z",
     "start_time": "2023-11-16T11:39:05.741658088Z"
    }
   },
   "id": "9a87665ab98901e6"
  },
  {
   "cell_type": "code",
   "execution_count": 178,
   "outputs": [],
   "source": [],
   "metadata": {
    "collapsed": false,
    "ExecuteTime": {
     "end_time": "2023-11-15T17:59:14.560948172Z",
     "start_time": "2023-11-15T17:59:14.517317200Z"
    }
   },
   "id": "e3ceb499239f145c"
  },
  {
   "cell_type": "code",
   "execution_count": 178,
   "outputs": [],
   "source": [],
   "metadata": {
    "collapsed": false,
    "ExecuteTime": {
     "end_time": "2023-11-15T17:59:14.801503533Z",
     "start_time": "2023-11-15T17:59:14.785140696Z"
    }
   },
   "id": "f8b58aafb56933b5"
  },
  {
   "cell_type": "code",
   "execution_count": 13,
   "outputs": [],
   "source": [
    "raw_prob_samples = []\n",
    "def to_prob_range(raw):\n",
    "    raw = [prange for _, prange in sorted(raw.items())]\n",
    "    return torch.tensor(raw)\n",
    "# raw_prob_samples.append(to_prob_range(probabilities))\n",
    "##################################################################################################################\n",
    "\n",
    "probabilities = {\n",
    "    1: [0.4, 0.6],  # Global economic climate being favorable\n",
    "    2: [0.6, 0.8],  # Central bank policy for negative interest rates when global economic climate is unfavorable\n",
    "    3: [0.2, 0.4],  # Central bank policy for negative interest rates when global economic climate is favorable\n",
    "    4: [0.2, 0.4],  # Economic stability of Greece when global economic climate is unfavorable\n",
    "    5: [0.6, 0.8],  # Economic stability of Greece when global economic climate is favorable\n",
    "    6: [0.1, 0.3],  # Public perception of Greek economy positively when central bank policy is traditional and Greece is economically unstable\n",
    "    7: [0.5, 0.7],  # Public perception of Greek economy positively when central bank policy is traditional and Greece is economically stable\n",
    "    8: [0.2, 0.4],  # Public perception of Greek economy positively when central bank policy is negative and Greece is economically unstable\n",
    "    9: [0.6, 0.8],  # Public perception of Greek economy positively when central bank policy is negative and Greece is economically stable\n",
    "    10: [0.1, 0.3], # Investor attraction to negative interest bonds when central bank policy is traditional, Greece is unstable, and perception is negative\n",
    "    11: [0.3, 0.5], # Investor attraction to negative interest bonds when central bank policy is traditional, Greece is unstable, and perception is positive\n",
    "    12: [0.2, 0.4], # Investor attraction to negative interest bonds when central bank policy is traditional, Greece is stable, and perception is negative\n",
    "    13: [0.4, 0.6], # Investor attraction to negative interest bonds when central bank policy is traditional, Greece is stable, and perception is positive\n",
    "    14: [0.4, 0.6], # Investor attraction to negative interest bonds when central bank policy is negative, Greece is unstable, and perception is negative\n",
    "    15: [0.6, 0.8], # Investor attraction to negative interest bonds when central bank policy is negative, Greece is unstable, and perception is positive\n",
    "    16: [0.5, 0.7], # Investor attraction to negative interest bonds when central bank policy is negative, Greece is stable, and perception is negative\n",
    "    17: [0.7, 0.9]  # Investor attraction to negative interest bonds when central bank policy is negative, Greece is stable, and perception is positive\n",
    "}\n",
    "\n",
    "\n",
    "\n",
    "\n",
    "raw_prob_samples.append(to_prob_range(probabilities))\n",
    "##################################################################################################################\n",
    "prob_range_samples = torch.stack(raw_prob_samples, )\n",
    "# prob_range_samples.shape\n",
    "if len(prob_range_samples.shape) == 2:\n",
    "    prob_range_samples = prob_range_samples.unsqueeze(0)\n",
    "else:\n",
    "    union = prob_range_samples[..., 1].max(dim=0).values.sub(prob_range_samples[..., 0].min(dim=0).values).sum()\n",
    "    intersection = prob_range_samples[..., 1].min(dim=0).values.sub(prob_range_samples[..., 0].max(dim=0).values).clamp_min(0).sum()\n",
    "    overlap = intersection / union\n",
    "    overlap.item()"
   ],
   "metadata": {
    "collapsed": false,
    "ExecuteTime": {
     "end_time": "2023-11-16T11:40:09.865832494Z",
     "start_time": "2023-11-16T11:40:09.805244639Z"
    }
   },
   "id": "10fb76cd75debd4e"
  },
  {
   "cell_type": "code",
   "execution_count": 14,
   "outputs": [
    {
     "name": "stdout",
     "output_type": "stream",
     "text": [
      "----------------------------------------------  --------------------------  -----------------------\n",
      "Central Bank Policy                             Traditional interest rates  Negative interest rates\n",
      "Economic Stability of Greece                    Economically unstable       Economically stable\n",
      "Investor Attraction to Negative Interest Bonds  Not attracted               Attracted\n",
      "----------------------------------------------  --------------------------  -----------------------\n"
     ]
    },
    {
     "name": "stderr",
     "output_type": "stream",
     "text": [
      "/tmp/ipykernel_3736112/256519617.py:2: UserWarning: To copy construct from a tensor, it is recommended to use sourceTensor.clone().detach() or sourceTensor.clone().detach().requires_grad_(True), rather than torch.tensor(sourceTensor).\n",
      "  prob_ranges = torch.tensor(prob_ranges)\n"
     ]
    },
    {
     "data": {
      "text/plain": "  0%|          | 0/100 [00:00<?, ?it/s]",
      "application/vnd.jupyter.widget-view+json": {
       "version_major": 2,
       "version_minor": 0,
       "model_id": "00ff077e825f42768bd441995bf454b5"
      }
     },
     "metadata": {},
     "output_type": "display_data"
    },
    {
     "name": "stderr",
     "output_type": "stream",
     "text": [
      "/home/fleeb/miniconda3/lib/python3.11/site-packages/torch/masked/maskedtensor/core.py:156: UserWarning: The PyTorch API of MaskedTensors is in prototype stage and will change in the near future. Please open a Github issue for features requests and see our documentation on the torch.masked module for further information about the project.\n",
      "  warnings.warn((\"The PyTorch API of MaskedTensors is in prototype stage \"\n"
     ]
    },
    {
     "name": "stdout",
     "output_type": "stream",
     "text": [
      "'Global Economic Climate' means The overall global economic climate.\n",
      "'Central Bank Policy' means Policies of central banks affecting interest rates.\n",
      "'Economic Stability of Greece' means Perceived economic stability of Greece.\n",
      "'Public Perception of Greek Economy' means How the public perceives the economy of Greece.\n",
      "'Investor Attraction to Negative Interest Bonds' means Investor attraction towards bonds with negative interest rates.\n",
      "Treatment Value          Treatment                     Outcome Value    Outcome                                           ATE    Correlation\n",
      "-----------------------  ----------------------------  ---------------  ----------------------------------------------  -----  -------------\n",
      "Negative interest rates  Central Bank Policy           Attracted        Investor Attraction to Negative Interest Bonds   0.32     -0.143139\n",
      "Economically stable      Economic Stability of Greece  Attracted        Investor Attraction to Negative Interest Bonds   0.18     -0.0704716\n"
     ]
    }
   ],
   "source": [
    "prob_ranges = prob_range_samples.mean(dim=0)\n",
    "prob_ranges = torch.tensor(prob_ranges)\n",
    "lower_bound, upper_bound = prob_ranges.t()\n",
    "\n",
    "variables = {}\n",
    "for node in nodes:\n",
    "    if len(node['parents']):\n",
    "        variables[node['name']] = ConditionalBernoulli([variables[parent] for parent in node['parents']])\n",
    "    else:\n",
    "        variables[node['name']] = Bernoulli(0.5)\n",
    "net = BernoulliNetwork(variables)\n",
    "# net\n",
    "def mc_samples(N, *fns):\n",
    "    estimates = []\n",
    "    for _ in tqdm(range(N)):\n",
    "        param_sample = torch.rand(len(prob_ranges), 1) * (upper_bound - lower_bound) + lower_bound\n",
    "        net.set_params(param_sample)\n",
    "        estimates.append([fn() for fn in fns])\n",
    "    return torch.tensor(estimates)\n",
    "def make_ate_fn(treatment, outcome):\n",
    "    def ate_fn():\n",
    "        return net.ate(treatment)[outcome].item()\n",
    "    return ate_fn\n",
    "def make_corr_fn(v1, v2):\n",
    "    def corr_fn():\n",
    "        return net.correlation(v1, v2).item()\n",
    "    return corr_fn\n",
    "\n",
    "treatment1, treatment2 = [node['name'] for node in nodes if node['type'] == 'treatment']\n",
    "t1vals = [node['values'] for node in nodes if node['name'] == treatment1][0]\n",
    "t2vals = [node['values'] for node in nodes if node['name'] == treatment2][0]\n",
    "outcome = [node['name'] for node in nodes if node['type'] == 'outcome'][0]\n",
    "ovals = [node['values'] for node in nodes if node['name'] == outcome][0]\n",
    "\n",
    "print(tabulate([\n",
    "    [treatment1, *t1vals],\n",
    "    [treatment2, *t2vals],\n",
    "    [outcome, *ovals]\n",
    "]))\n",
    "\n",
    "ate1, ate2, corr1, corr2 = mc_samples(100, make_ate_fn(treatment1, outcome), make_ate_fn(treatment2, outcome), make_corr_fn(treatment1, outcome), make_corr_fn(treatment2, outcome)).t()\n",
    "\n",
    "print('\\n'.join(f'{node[\"name\"]!r} means {node[\"description\"]}' for node in nodes))\n",
    "print(tabulate([\n",
    "    [f'{t1vals[1]}', f'{treatment1}', f'{ovals[1]}', f'{outcome}', ate1.mean(), corr1.mean(),],\n",
    "    [f'{t2vals[1]}', f'{treatment2}', f'{ovals[1]}', f'{outcome}', ate2.mean(), corr2.mean(), ],\n",
    "], headers=['Treatment Value', 'Treatment', 'Outcome Value', 'Outcome', 'ATE', 'Correlation']))"
   ],
   "metadata": {
    "collapsed": false,
    "ExecuteTime": {
     "end_time": "2023-11-16T11:40:20.355838415Z",
     "start_time": "2023-11-16T11:40:11.061382842Z"
    }
   },
   "id": "d673e61e9cc5d84b"
  },
  {
   "cell_type": "code",
   "execution_count": 15,
   "outputs": [
    {
     "data": {
      "text/plain": "<Figure size 800x400 with 1 Axes>",
      "image/png": "[encoded data removed]"
     },
     "metadata": {},
     "output_type": "display_data"
    }
   ],
   "source": [
    "plt.figure(figsize=(8, 4))\n",
    "\n",
    "sns.kdeplot(ate1, label=f'{t1vals[1]} = {treatment1}', fill=True);\n",
    "sns.kdeplot(ate2, label=f'{t2vals[1]} = {treatment2}', fill=True);\n",
    "plt.title(f'{ovals[1]} = {outcome}')\n",
    "plt.ylabel(f'P(ATE)')\n",
    "plt.gca().legend(loc='upper center', bbox_to_anchor=(0.5, -.1))\n",
    "plt.axvline(0, color='black', linestyle='--', alpha=0.5)\n",
    "# plt.xlim(-1, 1)\n",
    "plt.tight_layout();"
   ],
   "metadata": {
    "collapsed": false,
    "ExecuteTime": {
     "end_time": "2023-11-16T11:40:20.672192793Z",
     "start_time": "2023-11-16T11:40:20.360312567Z"
    }
   },
   "id": "a2fe60b06196f98f"
  },
  {
   "cell_type": "code",
   "execution_count": 16,
   "outputs": [
    {
     "data": {
      "text/plain": "<Figure size 800x400 with 1 Axes>",
      "image/png": "[encoded data removed]"
     },
     "metadata": {},
     "output_type": "display_data"
    }
   ],
   "source": [
    "plt.figure(figsize=(8, 4))\n",
    "\n",
    "sns.kdeplot(corr1, label=f'{t1vals[1]} = {treatment1}', fill=True);\n",
    "sns.kdeplot(corr2, label=f'{t2vals[1]} = {treatment2}', fill=True);\n",
    "plt.title(f'{ovals[1]} = {outcome}')\n",
    "plt.ylabel(f'P(Correlation)')\n",
    "plt.gca().legend(loc='upper center', bbox_to_anchor=(0.5, -.1))\n",
    "plt.axvline(0, color='black', linestyle='--', alpha=0.5)\n",
    "# plt.xlim(-1, 1)\n",
    "plt.tight_layout();"
   ],
   "metadata": {
    "collapsed": false,
    "ExecuteTime": {
     "end_time": "2023-11-16T11:40:20.898379236Z",
     "start_time": "2023-11-16T11:40:20.673730800Z"
    }
   },
   "id": "9ce9041679e02c05"
  },
  {
   "cell_type": "code",
   "execution_count": null,
   "outputs": [],
   "source": [],
   "metadata": {
    "collapsed": false
   },
   "id": "ec76d0cb8dc5916f"
  },
  {
   "cell_type": "code",
   "execution_count": null,
   "outputs": [],
   "source": [],
   "metadata": {
    "collapsed": false
   },
   "id": "cf82aa58afe6397b"
  },
  {
   "cell_type": "code",
   "execution_count": null,
   "outputs": [],
   "source": [],
   "metadata": {
    "collapsed": false
   },
   "id": "bcb1b46b3d4dc419"
  },
  {
   "cell_type": "code",
   "execution_count": null,
   "outputs": [],
   "source": [],
   "metadata": {
    "collapsed": false
   },
   "id": "aa2676eeab935fe6"
  },
  {
   "cell_type": "code",
   "execution_count": null,
   "outputs": [],
   "source": [
    "article = '''\n",
    "Title: Vacation plans are falling apart - Hello!\n",
    "Description: Shops will be closed in Greece today, less than a week since they reopened, and plans to reopen high schools have been postponed indefinitely, due to a sharp increase in the number of new cases of the corona virus.\n",
    "Original Language: Serbian\n",
    "'''[1:-1]\n",
    "probabilities = {\n",
    "    1: [0.8, 0.9],  # High probability of a surge in cases, given the article context\n",
    "    2: [0.05, 0.1],  # Low probability of strict measures if there's no surge in cases\n",
    "    3: [0.7, 0.9],  # High probability of strict measures if there's a surge in cases\n",
    "    4: [0.4, 0.6],  # Moderate probability of high compliance if there's no surge\n",
    "    5: [0.6, 0.8],  # Higher probability of high compliance if there's a surge in cases\n",
    "    6: [0.3, 0.5],  # Moderate probability of high economic impact without strict measures\n",
    "    7: [0.5, 0.7],  # Higher probability of high economic impact with strict measures\n",
    "    8: [0.2, 0.4],  # Lower probability of disrupted vacation plans under these conditions\n",
    "    9: [0.3, 0.5],  # Moderate probability of disrupted plans with high economic impact\n",
    "    10: [0.1, 0.3],  # Lower probability of disrupted plans with high compliance and low economic impact\n",
    "    11: [0.2, 0.4],  # Slightly higher probability of disrupted plans with high economic impact\n",
    "    12: [0.7, 0.9],  # High probability of disrupted plans with strict measures and low compliance\n",
    "    13: [0.8, 0.9],  # Very high probability of disrupted plans under these conditions\n",
    "    14: [0.6, 0.8],  # High probability of disrupted plans even with high compliance if strict measures are in place\n",
    "    15: [0.7, 0.85]  # High probability of disrupted plans in this scenario\n",
    "}\n",
    "nodes = [\n",
    "    {\n",
    "        'name': 'COVID-19 Case Surge',\n",
    "        'description': 'Whether there is a significant increase in COVID-19 cases in Greece.',\n",
    "        'type': 'treatment',\n",
    "        'observed': True,\n",
    "        'values': ['No surge', 'Surge in cases'],\n",
    "        'parents': []\n",
    "    },\n",
    "    {\n",
    "        'name': 'Government Response',\n",
    "        'description': 'Government response to the COVID-19 case surge, such as imposing restrictions.',\n",
    "        'type': 'treatment',\n",
    "        'observed': True,\n",
    "        'values': ['No stringent measures', 'Strict measures like shop closures'],\n",
    "        'parents': ['COVID-19 Case Surge']\n",
    "    },\n",
    "    {\n",
    "        'name': 'Impact on Vacation Plans',\n",
    "        'description': 'Whether the increase in COVID-19 cases has led to a disruption in vacation plans.',\n",
    "        'type': 'outcome',\n",
    "        'observed': True,\n",
    "        'values': ['No impact', 'Plans disrupted'],\n",
    "        'parents': ['Government Response', 'Public Compliance with Health Guidelines', 'Economic Impact']\n",
    "    },\n",
    "    {\n",
    "        'name': 'Public Compliance with Health Guidelines',\n",
    "        'description': 'Degree to which the public adheres to health guidelines and restrictions.',\n",
    "        'type': 'confounder',\n",
    "        'observed': True,\n",
    "        'values': ['Low compliance', 'High compliance'],\n",
    "        'parents': ['COVID-19 Case Surge']\n",
    "    },\n",
    "    {\n",
    "        'name': 'Economic Impact',\n",
    "        'description': 'Economic consequences of government measures on businesses and the economy.',\n",
    "        'type': 'mediator',\n",
    "        'observed': True,\n",
    "        'values': ['Low impact', 'High impact'],\n",
    "        'parents': ['Government Response']\n",
    "    }\n",
    "]\n",
    "article = '''\n",
    "Title: Polish science. Regulations stifle innovation. And we could be a giant! - Wprost.pl\n",
    "Description: Nothing came of the breakthrough method of graphene production in Poland. The blue laser technology developed by Poles was not invested in and others took over the leadership. These are just two examples of wasted inventions from Poland. About what should…\n",
    "Original Language: Polish\n",
    "'''[1:-1]\n",
    "nodes = [\n",
    "    {\n",
    "        \"name\": \"Government Regulations\",\n",
    "        \"description\": \"The level of government regulatory control over innovation\",\n",
    "        \"type\": \"treatment\",\n",
    "        \"observed\": True,\n",
    "        \"values\": [\"Lax or supportive regulations\", \"Strict or stifling regulations\"],\n",
    "        \"parents\": []\n",
    "    },\n",
    "    {\n",
    "        \"name\": \"Investment in Technology\",\n",
    "        \"description\": \"The amount of investment directed towards new technologies\",\n",
    "        \"type\": \"treatment\",\n",
    "        \"observed\": True,\n",
    "        \"values\": [\"Low or no investment\", \"High investment\"],\n",
    "        \"parents\": []\n",
    "    },\n",
    "    {\n",
    "        \"name\": \"Innovation Success in Poland\",\n",
    "        \"description\": \"The success of innovations being developed and commercialized in Poland\",\n",
    "        \"type\": \"outcome\",\n",
    "        \"observed\": True,\n",
    "        \"values\": [\"Innovation is not successful\", \"Innovation is successful\"],\n",
    "        \"parents\": [\"Government Regulations\", \"Investment in Technology\", \"Research and Development Capability\", \"Economic Climate\"]\n",
    "    },\n",
    "    {\n",
    "        \"name\": \"Research and Development Capability\",\n",
    "        \"description\": \"The capability for research and development in Poland\",\n",
    "        \"type\": \"mediator\",\n",
    "        \"observed\": False,\n",
    "        \"values\": [\"Low R&D capability\", \"High R&D capability\"],\n",
    "        \"parents\": [\"Investment in Technology\"]\n",
    "    },\n",
    "    {\n",
    "        \"name\": \"Economic Climate\",\n",
    "        \"description\": \"The overall economic environment in Poland\",\n",
    "        \"type\": \"confounder\",\n",
    "        \"observed\": False,\n",
    "        \"values\": [\"Unfavorable economic climate\", \"Favorable economic climate\"],\n",
    "        \"parents\": []\n",
    "    }\n",
    "]\n",
    "probabilities = {\n",
    "    1: [0.7, 0.8],  # High probability of strict regulations given the context of stifled innovation\n",
    "    2: [0.4, 0.5],  # Moderate probability of high investment in technology\n",
    "    3: [0.1, 0.2],  # Low probability of high R&D capability with low investment in technology\n",
    "    4: [0.7, 0.8],  # High probability of high R&D capability with high investment in technology\n",
    "    5: [0.5, 0.6],  # Moderate probability of a favorable economic climate\n",
    "    6: [0.1, 0.2],  # Low probability of innovation success under all unfavorable conditions\n",
    "    7: [0.2, 0.3],  # Slightly higher probability of success with a favorable economic climate\n",
    "    8: [0.3, 0.4],  # Moderate probability of success with high R&D capability despite other unfavorable conditions\n",
    "    9: [0.4, 0.5],  # Higher probability of success with favorable economic climate and high R&D capability\n",
    "    10: [0.3, 0.4], # Moderate probability of success with high investment but other factors being unfavorable\n",
    "    11: [0.4, 0.5], # Higher probability of success with favorable economic climate\n",
    "    12: [0.5, 0.6], # Higher probability of success with high investment and R&D capability despite unfavorable economic climate\n",
    "    13: [0.7, 0.8], # High probability of success with all favorable conditions except for low R&D capability\n",
    "    14: [0.1, 0.2], # Low probability of success with strict regulations and other unfavorable conditions\n",
    "    15: [0.2, 0.3], # Slightly higher probability of success with favorable economic climate\n",
    "    16: [0.2, 0.3], # Slightly higher probability of success with high R&D capability despite other unfavorable conditions\n",
    "    17: [0.3, 0.4], # Moderate probability of success with favorable economic climate and high R&D capability\n",
    "    18: [0.2, 0.3], # Low probability of success with strict regulations despite high investment\n",
    "    19: [0.3, 0.4], # Moderate probability of success with favorable economic climate despite strict regulations\n",
    "    20: [0.4, 0.5], # Moderate probability of success with high investment and R&D capability despite strict regulations\n",
    "    21: [0.6, 0.7]  # High probability of success with all favorable conditions except for strict regulations\n",
    "}\n",
    "article = '''\n",
    "Title: Central banks are driving investors crazy: even Greece now has negative interest rates - Volkskrant\n",
    "Description: On Monday, for the first time in history, investors poured money into Greek bonds with a five-year term. Why do investors do this?\n",
    "Original Language: Dutch\n",
    "'''[1:-1]\n",
    "nodes = [\n",
    "    {\n",
    "        \"name\": \"Central Bank Policy\",\n",
    "        \"description\": \"Policies of central banks affecting interest rates.\",\n",
    "        \"type\": \"treatment\",\n",
    "        \"observed\": True,\n",
    "        \"values\": [\"Traditional interest rates\", \"Negative interest rates\"],\n",
    "        \"parents\": [\"Global Economic Climate\"]\n",
    "    },\n",
    "    {\n",
    "        \"name\": \"Economic Stability of Greece\",\n",
    "        \"description\": \"Perceived economic stability of Greece.\",\n",
    "        \"type\": \"treatment\",\n",
    "        \"observed\": True,\n",
    "        \"values\": [\"Economically unstable\", \"Economically stable\"],\n",
    "        \"parents\": [\"Global Economic Climate\"]\n",
    "    },\n",
    "    {\n",
    "        \"name\": \"Investor Attraction to Negative Interest Bonds\",\n",
    "        \"description\": \"Investor attraction towards bonds with negative interest rates.\",\n",
    "        \"type\": \"outcome\",\n",
    "        \"observed\": True,\n",
    "        \"values\": [\"Not attracted\", \"Attracted\"],\n",
    "        \"parents\": [\"Central Bank Policy\", \"Economic Stability of Greece\", \"Public Perception of Greek Economy\"]\n",
    "    },\n",
    "    {\n",
    "        \"name\": \"Global Economic Climate\",\n",
    "        \"description\": \"The overall global economic climate.\",\n",
    "        \"type\": \"confounder\",\n",
    "        \"observed\": True,\n",
    "        \"values\": [\"Unfavorable\", \"Favorable\"],\n",
    "        \"parents\": []\n",
    "    },\n",
    "    {\n",
    "        \"name\": \"Public Perception of Greek Economy\",\n",
    "        \"description\": \"How the public perceives the economy of Greece.\",\n",
    "        \"type\": \"mediator\",\n",
    "        \"observed\": True,\n",
    "        \"values\": [\"Perceived negatively\", \"Perceived positively\"],\n",
    "        \"parents\": [\"Central Bank Policy\", \"Economic Stability of Greece\"]\n",
    "    }\n",
    "]\n",
    "probabilities = {\n",
    "    1: [0.4, 0.6],  # Global economic climate being favorable\n",
    "    2: [0.6, 0.8],  # Central bank policy for negative interest rates when global economic climate is unfavorable\n",
    "    3: [0.2, 0.4],  # Central bank policy for negative interest rates when global economic climate is favorable\n",
    "    4: [0.2, 0.4],  # Economic stability of Greece when global economic climate is unfavorable\n",
    "    5: [0.6, 0.8],  # Economic stability of Greece when global economic climate is favorable\n",
    "    6: [0.1, 0.3],  # Public perception of Greek economy positively when central bank policy is traditional and Greece is economically unstable\n",
    "    7: [0.5, 0.7],  # Public perception of Greek economy positively when central bank policy is traditional and Greece is economically stable\n",
    "    8: [0.2, 0.4],  # Public perception of Greek economy positively when central bank policy is negative and Greece is economically unstable\n",
    "    9: [0.6, 0.8],  # Public perception of Greek economy positively when central bank policy is negative and Greece is economically stable\n",
    "    10: [0.1, 0.3], # Investor attraction to negative interest bonds when central bank policy is traditional, Greece is unstable, and perception is negative\n",
    "    11: [0.3, 0.5], # Investor attraction to negative interest bonds when central bank policy is traditional, Greece is unstable, and perception is positive\n",
    "    12: [0.2, 0.4], # Investor attraction to negative interest bonds when central bank policy is traditional, Greece is stable, and perception is negative\n",
    "    13: [0.4, 0.6], # Investor attraction to negative interest bonds when central bank policy is traditional, Greece is stable, and perception is positive\n",
    "    14: [0.4, 0.6], # Investor attraction to negative interest bonds when central bank policy is negative, Greece is unstable, and perception is negative\n",
    "    15: [0.6, 0.8], # Investor attraction to negative interest bonds when central bank policy is negative, Greece is unstable, and perception is positive\n",
    "    16: [0.5, 0.7], # Investor attraction to negative interest bonds when central bank policy is negative, Greece is stable, and perception is negative\n",
    "    17: [0.7, 0.9]  # Investor attraction to negative interest bonds when central bank policy is negative, Greece is stable, and perception is positive\n",
    "}\n"
   ],
   "metadata": {
    "collapsed": false
   },
   "id": "214b38cd78958660"
  },
  {
   "cell_type": "code",
   "execution_count": null,
   "outputs": [],
   "source": [],
   "metadata": {
    "collapsed": false
   },
   "id": "d4d80defe09a7421"
  },
  {
   "cell_type": "code",
   "execution_count": null,
   "outputs": [],
   "source": [],
   "metadata": {
    "collapsed": false
   },
   "id": "ed35d295781b5c73"
  },
  {
   "cell_type": "code",
   "execution_count": null,
   "outputs": [],
   "source": [
    "\n",
    "nodes = [\n",
    "    {\"name\": \"Public Trust in Digital Currency\",\n",
    "     \"description\": \"Public's confidence in the safety, reliability, and utility of the digital currency\",\n",
    "     \"type\": \"outcome\",\n",
    "     \"observed\": True,\n",
    "     \"values\": [\"High Trust\", \"Low Trust\"],\n",
    "     \"parents\": [\"Development of Digital Currency by the Federal Reserve\", \n",
    "                 \"Government Policy on Digital Currency\", \n",
    "                 \"Media Coverage of Digital Currency\"]},\n",
    "\n",
    "    {\"name\": \"Development of Digital Currency by the Federal Reserve\",\n",
    "     \"description\": \"Whether the Federal Reserve develops a digital currency\",\n",
    "     \"type\": \"treatment\",\n",
    "     \"observed\": True,\n",
    "     \"values\": [\"Developed\", \"Not Developed\"],\n",
    "     \"parents\": [\"Economic Stability\"]},\n",
    "\n",
    "    {\"name\": \"Government Policy on Digital Currency\",\n",
    "     \"description\": \"Government's stance on digital currency\",\n",
    "     \"type\": \"treatment\",\n",
    "     \"observed\": True,\n",
    "     \"values\": [\"Favorable\", \"Unfavorable\"],\n",
    "     \"parents\": [\"Economic Stability\"]},\n",
    "\n",
    "    {\"name\": \"Economic Stability\",\n",
    "     \"description\": \"The current state of economic stability\",\n",
    "     \"type\": \"confounder\",\n",
    "     \"observed\": True,\n",
    "     \"values\": [\"Stable\", \"Unstable\"],\n",
    "     \"parents\": []},\n",
    "\n",
    "    {\"name\": \"Media Coverage of Digital Currency\",\n",
    "     \"description\": \"The nature of media coverage regarding digital currency\",\n",
    "     \"type\": \"mediator\",\n",
    "     \"observed\": True,\n",
    "     \"values\": [\"Positive\", \"Negative\"],\n",
    "     \"parents\": [\"Economic Stability\"]},\n",
    "\n",
    "    {\"name\": \"Investment in Digital Currency Technologies\",\n",
    "     \"description\": \"Level of investment in technologies related to digital currency\",\n",
    "     \"type\": \"collider\",\n",
    "     \"observed\": True,\n",
    "     \"values\": [\"Increased\", \"Decreased\"],\n",
    "     \"parents\": [\"Development of Digital Currency by the Federal Reserve\", \n",
    "                 \"Government Policy on Digital Currency\"]}\n",
    "]\n",
    "probabilities = {\n",
    "    1: [0.4, 0.6],  # Economic instability can be a significant factor, especially in the context of developing new technologies like digital currency.\n",
    "    2: [0.1, 0.3],  # If the economy is stable, it seems less likely that there would be a strong push to develop a new digital currency.\n",
    "    3: [0.5, 0.7],  # Economic instability might increase the likelihood of developing a digital currency as a solution or alternative.\n",
    "    4: [0.2, 0.4],  # With economic stability, government policy might be more conservative or unfavorable towards radical changes like digital currencies.\n",
    "    5: [0.6, 0.8],  # Economic instability could lead to more unfavorable government policies as they might perceive new financial technologies as risky.\n",
    "    6: [0.3, 0.5],  # Stable economic conditions could lead to either positive or slightly negative media coverage, as the need for change is not urgent.\n",
    "    7: [0.6, 0.8],  # In times of economic instability, media coverage might lean towards the negative due to perceived risks or uncertainties.\n",
    "    8: [0.1, 0.3],  # Positive development, policy, and media coverage would likely lead to high public trust, so low trust would be less likely.\n",
    "    9: [0.4, 0.6],  # Negative media coverage could significantly impact public trust, even with positive development and policy.\n",
    "    10: [0.5, 0.7], # Unfavorable government policy could undermine public trust, even with positive media coverage.\n",
    "    11: [0.7, 0.9], # Negative media coverage and unfavorable government policy would greatly increase the likelihood of low public trust.\n",
    "    12: [0.2, 0.4], # Favorable policy and positive media coverage could maintain some level of trust, even without development.\n",
    "    13: [0.4, 0.6], # Negative media coverage could lower trust, despite favorable policy and no development.\n",
    "    14: [0.3, 0.5], # Unfavorable policy could lead to lower trust, even with positive media coverage, if not developed.\n",
    "    15: [0.5, 0.7], # Negative media coverage and unfavorable policy would likely lead to low trust if not developed.\n",
    "    16: [0.2, 0.4], # Increased investment is more likely with developed digital currency and favorable policy, so decreased investment is less likely.\n",
    "    17: [0.5, 0.7], # Unfavorable government policy could discourage investment, even if the digital currency is developed.\n",
    "    18: [0.4, 0.6], # Favorable policy could still encourage some investment, even without the development of a digital currency.\n",
    "    19: [0.6, 0.8], # Unfavorable policy and lack of development could lead to decreased investment in digital currency technologies.\n",
    "}\n",
    "\n",
    "nodes = [\n",
    "    {\n",
    "        \"name\": \"Mono_Adolescence\",\n",
    "        \"description\": \"Whether an individual had mono during their teenage years.\",\n",
    "        \"type\": \"treatment\",\n",
    "        \"observed\": True,\n",
    "        \"values\": [\"Did not have mono during adolescence\", \"Had mono during adolescence\"],\n",
    "        \"parents\": []\n",
    "    },\n",
    "    {\n",
    "        \"name\": \"Immunization\",\n",
    "        \"description\": \"Whether an individual received vaccinations that could prevent infections like mono.\",\n",
    "        \"type\": \"treatment\",\n",
    "        \"observed\": True,\n",
    "        \"values\": [\"Not immunized\", \"Immunized\"],\n",
    "        \"parents\": []\n",
    "    },\n",
    "    {\n",
    "        \"name\": \"MS_Development\",\n",
    "        \"description\": \"Whether an individual develops MS as an adult.\",\n",
    "        \"type\": \"outcome\",\n",
    "        \"observed\": True,\n",
    "        \"values\": [\"Does not develop MS\", \"Develops MS\"],\n",
    "        \"parents\": [\"Mono_Adolescence\", \"Immune_Strength\", \"Genetic_MS\"]\n",
    "    },\n",
    "    {\n",
    "        \"name\": \"Immune_Strength\",\n",
    "        \"description\": \"The strength of the individual’s immune system during adolescence.\",\n",
    "        \"type\": \"mediator\",\n",
    "        \"observed\": False,\n",
    "        \"values\": [\"Weak immune system\", \"Strong immune system\"],\n",
    "        \"parents\": [\"Immunization\", \"Genetic_MS\"]\n",
    "    },\n",
    "    {\n",
    "        \"name\": \"Genetic_MS\",\n",
    "        \"description\": \"Whether an individual has a genetic predisposition to developing MS.\",\n",
    "        \"type\": \"confounder\",\n",
    "        \"observed\": False,\n",
    "        \"values\": [\"No genetic predisposition\", \"Genetic predisposition\"],\n",
    "        \"parents\": []\n",
    "    }\n",
    "]\n",
    "probabilities = {\n",
    "    1: [0.1, 0.3],   # Moderate chance of having mono during adolescence\n",
    "    2: [0.7, 0.9],   # High chance of being immunized, depending on the vaccine\n",
    "    3: [0.01, 0.05],  # Low chance of having a genetic predisposition to MS\n",
    "    4: [0.5, 0.7],   # Moderate to high chance of strong immune system without specific risk factors\n",
    "    5: [0.4, 0.6],   # Slightly lower chance of strong immune system with genetic predisposition\n",
    "    6: [0.6, 0.8],   # Higher chance of strong immune system with immunization and no genetic predisposition\n",
    "    7: [0.5, 0.7],   # Moderate to high chance of strong immune system with immunization, even with genetic predisposition\n",
    "    8: [0.01, 0.05], # Low chance of developing MS without specific risk factors\n",
    "    9: [0.05, 0.1],  # Slightly higher chance of developing MS with genetic predisposition\n",
    "    10: [0.005, 0.02], # Very low chance of developing MS with strong immune system and no genetic predisposition\n",
    "    11: [0.02, 0.05], # Low chance of developing MS with strong immune system but genetic predisposition\n",
    "    12: [0.05, 0.1], # Slightly higher chance of developing MS with mono history and no genetic predisposition\n",
    "    13: [0.1, 0.2],  # Moderately increased chance of developing MS with mono history and genetic predisposition\n",
    "    14: [0.02, 0.05], # Low chance of developing MS with mono history, strong immune system, and no genetic predisposition\n",
    "    15: [0.05, 0.1]  # Moderately low chance of developing MS with mono history, strong immune system, and genetic predisposition\n",
    "}\n",
    "\n",
    "nodes = [\n",
    "    {\n",
    "        \"name\": \"AS888\",\n",
    "        \"description\": \"Adoption of Snapdragon 888+ in smartphones\",\n",
    "        \"type\": \"treatment\",\n",
    "        \"observed\": True,\n",
    "        \"values\": [\"Not Adopted\", \"Adopted\"],\n",
    "        \"parents\": [\"EC\"]\n",
    "    },\n",
    "    {\n",
    "        \"name\": \"MIAF\",\n",
    "        \"description\": \"Marketing Intensity for Advanced Features\",\n",
    "        \"type\": \"treatment\",\n",
    "        \"observed\": True,\n",
    "        \"values\": [\"Low Intensity\", \"High Intensity\"],\n",
    "        \"parents\": [\"EC\"]\n",
    "    },\n",
    "    {\n",
    "        \"name\": \"SPS\",\n",
    "        \"description\": \"Smartphone Performance Satisfaction\",\n",
    "        \"type\": \"outcome\",\n",
    "        \"observed\": True,\n",
    "        \"values\": [\"Not Satisfied\", \"Satisfied\"],\n",
    "        \"parents\": [\"AS888\", \"CATS\"]\n",
    "    },\n",
    "    {\n",
    "        \"name\": \"EC\",\n",
    "        \"description\": \"Economic Climate\",\n",
    "        \"type\": \"confounder\",\n",
    "        \"observed\": True,\n",
    "        \"values\": [\"Poor\", \"Strong\"],\n",
    "        \"parents\": []\n",
    "    },\n",
    "    {\n",
    "        \"name\": \"CATS\",\n",
    "        \"description\": \"Consumer Awareness of Tech Specs\",\n",
    "        \"type\": \"mediator\",\n",
    "        \"observed\": True,\n",
    "        \"values\": [\"Low Awareness\", \"High Awareness\"],\n",
    "        \"parents\": [\"MIAF\"]\n",
    "    },\n",
    "    {\n",
    "        \"name\": \"SS\",\n",
    "        \"description\": \"Smartphone Sales\",\n",
    "        \"type\": \"collider\",\n",
    "        \"observed\": True,\n",
    "        \"values\": [\"Low Sales\", \"High Sales\"],\n",
    "        \"parents\": [\"EC\", \"SPS\"]\n",
    "    }\n",
    "]\n",
    "probabilities = {\n",
    "    1: [0.7, 0.8],  # Probability of a strong economic climate given a high-tech product launch.\n",
    "    2: [0.2, 0.3],  # Poor EC likely reduces the probability of adopting a high-end chipset.\n",
    "    3: [0.8, 0.9],  # Strong EC likely increases the probability of adopting a high-end chipset.\n",
    "    4: [0.4, 0.5],  # Poor EC might lead to less intense marketing efforts.\n",
    "    5: [0.7, 0.8],  # Strong EC might lead to more intense marketing efforts.\n",
    "    6: [0.3, 0.4],  # Low marketing intensity may lead to lower consumer awareness.\n",
    "    7: [0.7, 0.8],  # High marketing intensity usually results in higher consumer awareness.\n",
    "    8: [0.4, 0.5],  # Not adopting AS888 and low CATS might lead to moderate smartphone satisfaction.\n",
    "    9: [0.6, 0.7],  # Not adopting AS888 but high CATS might still lead to higher satisfaction.\n",
    "    10: [0.5, 0.6],  # Adopting AS888 with low CATS might lead to moderate satisfaction.\n",
    "    11: [0.8, 0.9],  # Adopting AS888 with high CATS likely results in high satisfaction.\n",
    "    12: [0.2, 0.3],  # Poor EC and not satisfied customers likely lead to lower sales.\n",
    "    13: [0.4, 0.5],  # Poor EC but satisfied customers might still lead to moderate sales.\n",
    "    14: [0.6, 0.7],  # Strong EC but not satisfied customers might still result in moderate sales.\n",
    "    15: [0.8, 0.9],  # Strong EC and satisfied customers likely result in high sales.\n",
    "}\n",
    "\n",
    "nodes = [\n",
    "    {\n",
    "        'name': 'Stress Fracture',\n",
    "        'description': 'Presence of a stress fracture in the athlete',\n",
    "        'type': 'outcome',\n",
    "        'observed': True,\n",
    "        'values': ['No Stress Fracture', 'Stress Fracture'],\n",
    "        'parents': ['Intensive Training', 'Adequate Rest Periods', 'Bone Density']\n",
    "    },\n",
    "    {\n",
    "        'name': 'Intensive Training',\n",
    "        'description': 'The athlete undergoing intensive training',\n",
    "        'type': 'treatment',\n",
    "        'observed': True,\n",
    "        'values': ['No Intensive Training', 'Undergoing Intensive Training'],\n",
    "        'parents': ['Athlete\\'s Physical Condition']\n",
    "    },\n",
    "    {\n",
    "        'name': 'Adequate Rest Periods',\n",
    "        'description': 'Whether the athlete is getting adequate rest periods',\n",
    "        'type': 'treatment',\n",
    "        'observed': True,\n",
    "        'values': ['Insufficient Rest', 'Adequate Rest'],\n",
    "        'parents': ['Athlete\\'s Physical Condition']\n",
    "    },\n",
    "    {\n",
    "        'name': 'Athlete\\'s Physical Condition',\n",
    "        'description': 'The overall physical condition of the athlete',\n",
    "        'type': 'confounder',\n",
    "        'observed': False,\n",
    "        'values': ['Poor Physical Condition', 'Good Physical Condition'],\n",
    "        'parents': []\n",
    "    },\n",
    "    {\n",
    "        'name': 'Bone Density',\n",
    "        'description': 'The bone density of the athlete',\n",
    "        'type': 'mediator',\n",
    "        'observed': False,\n",
    "        'values': ['Low Bone Density', 'High Bone Density'],\n",
    "        'parents': ['Athlete\\'s Physical Condition']\n",
    "    },\n",
    "    {\n",
    "        'name': 'Performance Quality',\n",
    "        'description': 'Quality of the athlete\\'s performance',\n",
    "        'type': 'collider',\n",
    "        'observed': True,\n",
    "        'values': ['Poor Performance', 'High Performance'],\n",
    "        'parents': ['Intensive Training', 'Stress Fracture']\n",
    "    }\n",
    "]\n",
    "probabilities = {\n",
    "    1: [0.7, 0.9],  # High probability that an athlete is in good physical condition\n",
    "    2: [0.5, 0.7],  # If in poor condition, moderately high probability of still undergoing intensive training\n",
    "    3: [0.8, 0.95], # If in good condition, very high probability of undergoing intensive training\n",
    "    4: [0.2, 0.4],  # If in poor condition, lower probability of having adequate rest\n",
    "    5: [0.6, 0.8],  # If in good condition, higher probability of having adequate rest\n",
    "    6: [0.2, 0.4],  # If in poor condition, lower probability of having high bone density\n",
    "    7: [0.6, 0.8],  # If in good condition, higher probability of having high bone density\n",
    "    8: [0.3, 0.5],  # Low bone density, no intensive training, and insufficient rest lead to moderate probability of stress fracture\n",
    "    9: [0.1, 0.3],  # High bone density with no intensive training and insufficient rest reduces the probability of stress fracture\n",
    "    10: [0.2, 0.4], # Low bone density, no intensive training, but adequate rest lowers the probability of stress fracture\n",
    "    11: [0.05, 0.2], # High bone density, no intensive training, adequate rest significantly lowers the probability of stress fracture\n",
    "    12: [0.6, 0.8], # Intensive training, insufficient rest, low bone density significantly increases the probability of stress fracture\n",
    "    13: [0.3, 0.5], # Intensive training, insufficient rest, but high bone density lowers the probability of stress fracture compared to low bone density\n",
    "    14: [0.4, 0.6], # Intensive training and low bone density increase the probability of stress fracture despite adequate rest\n",
    "    15: [0.1, 0.3], # Intensive training but high bone density and adequate rest lowers the probability of stress fracture\n",
    "    16: [0.7, 0.9], # No intensive training and no stress fracture lead to a high probability of high performance\n",
    "    17: [0.2, 0.4], # No intensive training but with a stress fracture lowers the probability of high performance\n",
    "    18: [0.8, 0.95], # Intensive training without a stress fracture highly likely leads to high performance\n",
    "    19: [0.1, 0.3]  # Intensive training with a stress fracture greatly reduces the probability of high performance\n",
    "}\n",
    "\n",
    "nodes = [\n",
    "    {\n",
    "        \"name\": \"Alibaba's Media Holdings\",\n",
    "        \"description\": \"Alibaba's holdings in media companies\",\n",
    "        \"type\": \"treatment\",\n",
    "        \"observed\": True,\n",
    "        \"values\": [\"No holdings\", \"Significant holdings\"],\n",
    "        \"parents\": []\n",
    "    },\n",
    "    {\n",
    "        \"name\": \"Government Intervention\",\n",
    "        \"description\": \"Government intervention in Alibaba's media activities\",\n",
    "        \"type\": \"treatment\",\n",
    "        \"observed\": True,\n",
    "        \"values\": [\"No intervention\", \"Active intervention\"],\n",
    "        \"parents\": [\"Political Climate in China\"]\n",
    "    },\n",
    "    {\n",
    "        \"name\": \"Public Opinion Influence\",\n",
    "        \"description\": \"Influence of Alibaba on public opinion\",\n",
    "        \"type\": \"outcome\",\n",
    "        \"observed\": True,\n",
    "        \"values\": [\"No significant influence\", \"Significant influence\"],\n",
    "        \"parents\": [\"Alibaba's Media Holdings\", \"Government Intervention\", \"Public Trust in Media\"]\n",
    "    },\n",
    "    {\n",
    "        \"name\": \"Political Climate in China\",\n",
    "        \"description\": \"Political climate in China\",\n",
    "        \"type\": \"confounder\",\n",
    "        \"observed\": False,\n",
    "        \"values\": [\"Open and tolerant\", \"Restrictive and controlled\"],\n",
    "        \"parents\": []\n",
    "    },\n",
    "    {\n",
    "        \"name\": \"Public Trust in Media\",\n",
    "        \"description\": \"Level of public trust in media\",\n",
    "        \"type\": \"mediator\",\n",
    "        \"observed\": False,\n",
    "        \"values\": [\"Low trust\", \"High trust\"],\n",
    "        \"parents\": [\"Alibaba's Media Holdings\"]\n",
    "    },\n",
    "    {\n",
    "        \"name\": \"Alibaba's International Reputation\",\n",
    "        \"description\": \"International reputation of Alibaba\",\n",
    "        \"type\": \"collider\",\n",
    "        \"observed\": False,\n",
    "        \"values\": [\"Unaffected or positive\", \"Negatively impacted\"],\n",
    "        \"parents\": [\"Alibaba's Media Holdings\", \"Government Intervention\"]\n",
    "    }\n",
    "]\n",
    "probabilities = {\n",
    "    1: [0.7, 0.9],  # Given Alibaba's size, it's likely they have significant media holdings.\n",
    "    2: [0.8, 0.95],  # The political climate in China is often perceived as restrictive and controlled.\n",
    "    3: [0.1, 0.3],  # With an open and tolerant political climate, active government intervention is less likely.\n",
    "    4: [0.7, 0.9],  # In a restrictive and controlled climate, active intervention is more probable.\n",
    "    5: [0.4, 0.6],  # With no Alibaba holdings, public trust could be moderately high, but other factors also influence trust.\n",
    "    6: [0.2, 0.4],  # Significant holdings by Alibaba might lower public trust due to perceived bias.\n",
    "    7: [0.2, 0.4],  # Without Alibaba's influence and low trust in media, significant influence on public opinion is less likely.\n",
    "    8: [0.5, 0.7],  # High trust in media could correlate with some significant influence on public opinion, even without Alibaba's holdings.\n",
    "    9: [0.3, 0.5],  # Active government intervention and low trust might slightly increase the likelihood of significant influence.\n",
    "    10: [0.6, 0.8], # Active intervention with high media trust could lead to significant influence on public opinion.\n",
    "    11: [0.7, 0.9], # With significant holdings and low public trust, Alibaba likely has a significant influence.\n",
    "    12: [0.8, 0.95],# Significant holdings and high public trust greatly increase the likelihood of significant influence.\n",
    "    13: [0.8, 0.9], # Significant holdings and active intervention, even with low trust, likely lead to significant influence.\n",
    "    14: [0.85, 0.95],# Significant holdings, active intervention, and high trust almost certainly result in significant influence.\n",
    "    15: [0.1, 0.3], # No holdings and no intervention likely mean Alibaba's reputation remains unaffected or positive.\n",
    "    16: [0.3, 0.5], # No holdings but with active intervention, the reputation might be somewhat negatively impacted.\n",
    "    17: [0.4, 0.6], # Significant holdings without government intervention could lead to some negative impact on reputation.\n",
    "    18: [0.7, 0.9]  # Significant holdings and active government intervention likely lead to a negatively impacted reputation.\n",
    "}\n",
    "\n",
    "nodes = [\n",
    "    {\"name\": \"Successful Space Missions\",\n",
    "     \"description\": \"Whether a space mission is successful or not\",\n",
    "     \"type\": \"outcome\",\n",
    "     \"observed\": True,\n",
    "     \"values\": [\"Unsuccessful\", \"Successful\"],\n",
    "     \"parents\": [\"Development of Innovative Space Technologies\"]},\n",
    "\n",
    "    {\"name\": \"NASA's Partnership with Space Companies\",\n",
    "     \"description\": \"Whether NASA has a partnership with space companies\",\n",
    "     \"type\": \"treatment\",\n",
    "     \"observed\": True,\n",
    "     \"values\": [\"No Partnership\", \"Partnership\"],\n",
    "     \"parents\": [\"Government Space Policy\"]},\n",
    "\n",
    "    {\"name\": \"Investment in Space Technology Development\",\n",
    "     \"description\": \"Level of investment in developing new space technologies\",\n",
    "     \"type\": \"treatment\",\n",
    "     \"observed\": True,\n",
    "     \"values\": [\"Low Investment\", \"High Investment\"],\n",
    "     \"parents\": [\"Government Space Policy\"]},\n",
    "\n",
    "    {\"name\": \"Government Space Policy\",\n",
    "     \"description\": \"Government's policy stance towards space exploration\",\n",
    "     \"type\": \"confounder\",\n",
    "     \"observed\": True,\n",
    "     \"values\": [\"Restrictive Policy\", \"Supportive Policy\"],\n",
    "     \"parents\": []},\n",
    "\n",
    "    {\"name\": \"Development of Innovative Space Technologies\",\n",
    "     \"description\": \"The extent of development of new space technologies\",\n",
    "     \"type\": \"mediator\",\n",
    "     \"observed\": True,\n",
    "     \"values\": [\"No Development\", \"Significant Development\"],\n",
    "     \"parents\": [\"Investment in Space Technology Development\", \n",
    "                 \"Collaboration between Companies\"]},\n",
    "\n",
    "    {\"name\": \"Collaboration between Companies\",\n",
    "     \"description\": \"The level of collaboration between space companies\",\n",
    "     \"type\": \"mediator\",\n",
    "     \"observed\": True,\n",
    "     \"values\": [\"Isolated Work\", \"Collaborative Work\"],\n",
    "     \"parents\": [\"NASA's Partnership with Space Companies\"]}\n",
    "]\n",
    "probabilities = {\n",
    "    1: [0.6, 0.7],   # Supportive Government Space Policy\n",
    "    2: [0.2, 0.3],   # Partnership under Restrictive Policy\n",
    "    3: [0.8, 0.9],   # Partnership under Supportive Policy\n",
    "    4: [0.2, 0.3],   # High Investment under Restrictive Policy\n",
    "    5: [0.7, 0.8],   # High Investment under Supportive Policy\n",
    "    6: [0.3, 0.4],   # Collaboration without NASA's Partnership\n",
    "    7: [0.7, 0.8],   # Collaboration with NASA's Partnership\n",
    "    8: [0.1, 0.2],   # Significant Development with Low Investment & Isolated Work\n",
    "    9: [0.3, 0.4],   # Significant Development with Low Investment & Collaborative Work\n",
    "    10: [0.5, 0.6],  # Significant Development with High Investment & Isolated Work\n",
    "    11: [0.8, 0.9],  # Significant Development with High Investment & Collaborative Work\n",
    "    12: [0.2, 0.3],  # Successful Missions with No Development\n",
    "    13: [0.8, 0.9]   # Successful Missions with Significant Development\n",
    "}\n",
    "\n",
    "nodes = [\n",
    "    {\n",
    "        'name': 'COVID-19 Case Surge',\n",
    "        'description': 'Whether there is a significant increase in COVID-19 cases in Greece.',\n",
    "        'type': 'treatment',\n",
    "        'observed': True,\n",
    "        'values': ['No surge', 'Surge in cases'],\n",
    "        'parents': []\n",
    "    },\n",
    "    {\n",
    "        'name': 'Government Response',\n",
    "        'description': 'Government response to the COVID-19 case surge, such as imposing restrictions.',\n",
    "        'type': 'treatment',\n",
    "        'observed': True,\n",
    "        'values': ['No stringent measures', 'Strict measures like shop closures'],\n",
    "        'parents': ['COVID-19 Case Surge']\n",
    "    },\n",
    "    {\n",
    "        'name': 'Impact on Vacation Plans',\n",
    "        'description': 'Whether the increase in COVID-19 cases has led to a disruption in vacation plans.',\n",
    "        'type': 'outcome',\n",
    "        'observed': True,\n",
    "        'values': ['No impact', 'Plans disrupted'],\n",
    "        'parents': ['Government Response', 'Public Compliance with Health Guidelines', 'Economic Impact']\n",
    "    },\n",
    "    {\n",
    "        'name': 'Public Compliance with Health Guidelines',\n",
    "        'description': 'Degree to which the public adheres to health guidelines and restrictions.',\n",
    "        'type': 'confounder',\n",
    "        'observed': True,\n",
    "        'values': ['Low compliance', 'High compliance'],\n",
    "        'parents': ['COVID-19 Case Surge']\n",
    "    },\n",
    "    {\n",
    "        'name': 'Economic Impact',\n",
    "        'description': 'Economic consequences of government measures on businesses and the economy.',\n",
    "        'type': 'mediator',\n",
    "        'observed': True,\n",
    "        'values': ['Low impact', 'High impact'],\n",
    "        'parents': ['Government Response']\n",
    "    }\n",
    "]\n"
   ],
   "metadata": {
    "collapsed": false
   },
   "id": "b9d9fbfc21e96b20"
  },
  {
   "cell_type": "code",
   "execution_count": null,
   "outputs": [],
   "source": [],
   "metadata": {
    "collapsed": false
   },
   "id": "344048c4dd58b213"
  },
  {
   "cell_type": "code",
   "execution_count": null,
   "outputs": [],
   "source": [],
   "metadata": {
    "collapsed": false
   },
   "id": "d74ec9ed47bb600c"
  },
  {
   "cell_type": "code",
   "execution_count": null,
   "outputs": [],
   "source": [],
   "metadata": {
    "collapsed": false
   },
   "id": "93d6c72207e41e7d"
  },
  {
   "cell_type": "code",
   "execution_count": null,
   "id": "initial_id",
   "metadata": {
    "collapsed": true
   },
   "outputs": [],
   "source": []
  }
 ],
 "metadata": {
  "kernelspec": {
   "display_name": "Python 3",
   "language": "python",
   "name": "python3"
  },
  "language_info": {
   "codemirror_mode": {
    "name": "ipython",
    "version": 2
   },
   "file_extension": ".py",
   "mimetype": "text/x-python",
   "name": "python",
   "nbconvert_exporter": "python",
   "pygments_lexer": "ipython2",
   "version": "2.7.6"
  }
 },
 "nbformat": 4,
 "nbformat_minor": 5
}

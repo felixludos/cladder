{
 "cells": [
  {
   "cell_type": "code",
   "execution_count": 4,
   "id": "initial_id",
   "metadata": {
    "collapsed": true,
    "ExecuteTime": {
     "end_time": "2023-11-14T13:16:35.823606067Z",
     "start_time": "2023-11-14T13:16:35.685343346Z"
    }
   },
   "outputs": [],
   "source": [
    "from pathlib import Path\n",
    "import random\n",
    "from tqdm.notebook import tqdm\n",
    "from omnibelt import load_json, save_json\n",
    "import random"
   ]
  },
  {
   "cell_type": "code",
   "execution_count": 2,
   "outputs": [
    {
     "data": {
      "text/plain": "54"
     },
     "execution_count": 2,
     "metadata": {},
     "output_type": "execute_result"
    }
   ],
   "source": [
    "lang_clusters = {'en': ['au', 'ca', 'gb', 'ie', 'in', 'my', 'ng', 'nz', 'ph', 'sa', 'sg', 'us', 'za'],\n",
    "\t\t\t\t 'es': ['ar', 'co', 'cu', 'mx', 've'], 'de': ['at', 'ch', 'de'], 'fr': ['be', 'fr', 'ma'],\n",
    "\t\t\t\t 'zh': ['cn', 'hk', 'tw'], 'ar': ['ae', 'eg'], 'pt': ['br', 'pt'], 'bg': ['bg'], 'cs': ['cz'],\n",
    "\t\t\t\t 'el': ['gr'], 'he': ['il'], 'hu': ['hu'], 'id': ['id'], 'it': ['it'], 'ja': ['jp'], 'ko': ['kr'],\n",
    "\t\t\t\t 'lt': ['lt'], 'lv': ['lv'], 'nl': ['nl'], 'no': ['no'], 'pl': ['pl'], 'ro': ['ro'], 'ru': ['ru'],\n",
    "\t\t\t\t 'sv': ['se'], 'sl': ['si'], 'sk': ['sk'], 'sr': ['rs'], 'th': ['th'], 'tr': ['tr'], 'uk': ['ua']}\n",
    "loc_names = {'gb': 'United Kingdom', 'ar': 'Argentina', 'pl': 'Poland', 'sk': 'Slovakia', 'us': 'United States',\n",
    "\t\t\t 'eg': 'Egypt', 'no': 'Norway', 'ph': 'Philippines', 'at': 'Austria', 'rs': 'Serbia', 'tw': 'Taiwan',\n",
    "\t\t\t 'be': 'Belgium', 'cu': 'Cuba', 'sa': 'Saudi Arabia', 'th': 'Thailand', 'id': 'Indonesia',\n",
    "\t\t\t 'ru': 'Russian Federation', 'ch': 'Switzerland', 'fr': 'France', 'lt': 'Lithuania', 'tr': 'Turkey',\n",
    "\t\t\t 'de': 'Germany', 'cz': 'Czechia', 'pt': 'Portugal', 'ae': 'United Arab Emirates', 'it': 'Italy',\n",
    "\t\t\t 'cn': 'China', 'lv': 'Latvia', 'nl': 'Netherlands', 'hk': 'Hong Kong', 'ca': 'Canada', 'br': 'Brazil',\n",
    "\t\t\t 'hu': 'Hungary', 'kr': 'Korea', 'si': 'Slovenia', 'au': 'Australia', 'my': 'Malaysia', 'ie': 'Ireland',\n",
    "\t\t\t 'ua': 'Ukraine', 'in': 'India', 'ma': 'Morocco', 'bg': 'Bulgaria', 'ng': 'Nigeria', 'il': 'Israel',\n",
    "\t\t\t 'se': 'Sweden', 'za': 'South Africa', 've': 'Venezuela', 'nz': 'New Zealand', 'jp': 'Japan',\n",
    "\t\t\t 'sg': 'Singapore', 'gr': 'Greece', 'mx': 'Mexico', 'co': 'Colombia', 'ro': 'Romania'}\n",
    "lang_names = {'en': 'English', 'ko': 'Korean', 'ru': 'Russian', 'es': 'Spanish', 'pt': 'Portuguese', 'cs': 'Czech',\n",
    "\t\t\t  'tr': 'Turkish', 'nl': 'Dutch', 'ar': 'Arabic', 'fr': 'French', 'bg': 'Bulgarian', 'id': 'Indonesian',\n",
    "\t\t\t  'sk': 'Slovak', 'el': 'Greek', 'he': 'Hebrew', 'sr': 'Serbian', 'hu': 'Hungarian', 'th': 'Thai',\n",
    "\t\t\t  'zh': 'Chinese', 'no': 'Norwegian', 'sl': 'Slovenian', 'sv': 'Swedish', 'de': 'German', 'lv': 'Latvian',\n",
    "\t\t\t  'pl': 'Polish', 'it': 'Italian', 'ro': 'Romanian', 'lt': 'Lithuanian', 'ja': 'Japanese',\n",
    "\t\t\t  'uk': 'Ukrainian'}\n",
    "cluster_id = {loc: lang for lang, locs in lang_clusters.items() for loc in locs}\n",
    "len(cluster_id)"
   ],
   "metadata": {
    "collapsed": false,
    "ExecuteTime": {
     "end_time": "2023-11-14T13:16:32.790909239Z",
     "start_time": "2023-11-14T13:16:32.787086270Z"
    }
   },
   "id": "5d04a0e420ef837b"
  },
  {
   "cell_type": "code",
   "execution_count": 5,
   "outputs": [
    {
     "data": {
      "text/plain": "  0%|          | 0/54 [00:00<?, ?it/s]",
      "application/vnd.jupyter.widget-view+json": {
       "version_major": 2,
       "version_minor": 0,
       "model_id": "9aeb100c7aa94572a544bc6e286edee1"
      }
     },
     "metadata": {},
     "output_type": "display_data"
    },
    {
     "data": {
      "text/plain": "4719199"
     },
     "execution_count": 5,
     "metadata": {},
     "output_type": "execute_result"
    }
   ],
   "source": [
    "root = Path('/home/fleeb/workspace/local_data/nnn')\n",
    "recs = (root / 'babel-briefings-v1').glob('**/*.json')\n",
    "recs = list(recs)\n",
    "len(recs)\n",
    "articles = []\n",
    "for rec in tqdm(recs):\n",
    "\tarticles.extend([{'ID': art['ID'], \n",
    "\t\t\t\t\t  'title': art.get('en-title', art['title']), \n",
    "\t\t\t\t\t  'description': art.get('en-description', art['description']),\n",
    "\t\t\t\t\t  'content': art.get('en-content', art['content']),\n",
    "\t\t\t\t\t  'language': art['language']} for art in load_json(rec)])\n",
    "len(articles)"
   ],
   "metadata": {
    "collapsed": false,
    "ExecuteTime": {
     "end_time": "2023-11-14T13:17:34.964022793Z",
     "start_time": "2023-11-14T13:16:36.603157570Z"
    }
   },
   "id": "9b582f9afb73c156"
  },
  {
   "cell_type": "code",
   "execution_count": 4,
   "outputs": [],
   "source": [
    "# by_loc = {}\n",
    "# by_lang = {}\n",
    "# by_source = {}\n",
    "# by_ID = {}\n",
    "# for article in tqdm(articles):\n",
    "# \tby_ID[article['ID']] = article\n",
    "# \t# article['published'] = parser.parse(article['publishedAt'])\n",
    "# \tby_source.setdefault(article['source-name'], []).append(article)\n",
    "# \tby_lang.setdefault(article['language'], []).append(article)\n",
    "# \tfor instance in article['instances']:\n",
    "# \t\t# instance['collected'] = parser.parse(instance['collectedAt'])\n",
    "# \t\tby_loc.setdefault(instance['location'], []).append(article)\n",
    "# len(by_loc), len(by_lang)"
   ],
   "metadata": {
    "collapsed": false,
    "ExecuteTime": {
     "end_time": "2023-11-13T14:14:37.546219623Z",
     "start_time": "2023-11-13T14:14:37.512990124Z"
    }
   },
   "id": "f431b7e4201f4426"
  },
  {
   "cell_type": "code",
   "execution_count": 6,
   "outputs": [
    {
     "name": "stdout",
     "output_type": "stream",
     "text": [
      "```\n",
      "Title: iPhone crashes from plane at 3,500 m and is found intact in the USA - Tilt\n",
      "Description: An iPhone X was found intact after falling from a plane at a height of 3,500 meters, in Atlanta, in the United States. The aircraft's pilot, David, also the owner of the device, reported the fact on the Diamond Aviators forum, aimed at pilots and aviation enthusiasts.\n",
      "Original Language: Portuguese\n",
      "```\n",
      "\n",
      "```\n",
      "Title: These doctors made decisive vaccine discoveries - VG - VG\n",
      "Description: The experts in Tromsø threw themselves around at the weekend when the news that health workers had been hospitalized with a rare disease after vaccination. That led to Thursday's discovery.\n",
      "Original Language: Norwegian\n",
      "```\n",
      "\n",
      "```\n",
      "Title: Decisive hours on labor law before the deadline - Västerbottens-Kuriren\n",
      "Description: Unions and employers have only hours, until midnight, to agree on changes in labor law. - We are working towards the deadline we set, says Svenskt Näringsliv's CEO Jan-Olof Jacke. But it can drag on over time. A likely scenario is a notice time…\n",
      "Original Language: Swedish\n",
      "```\n",
      "\n",
      "```\n",
      "Title: 🧙‍♀ Horoscope for today, August 30, for all zodiac signs - Channel Five Russia\n",
      "Description: Daily horoscope on 5-tv.ru: today, August 30, the Moon in Virgo favors any painstaking work that requires a thorough approach. These businesses promise to soon bring good dividends.\n",
      "Original Language: Russian\n",
      "```\n",
      "\n",
      "```\n",
      "Title: Katja Fain to the bronze medal in the 200 meter freestyle - 24ur.com\n",
      "Description: Leading Slovenian online media: current events from Slovenia and abroad, sports news and exclusive contributions from the world of entertainment.\n",
      "Original Language: Slovenian\n",
      "```\n",
      "\n",
      "```\n",
      "Title: L'Arc-en-Ciel's first outdoor tour \"1999 GRAND CROSS TOUR\" Odaiba performance will be aired on WOWOW - Natalie\n",
      "Description: The outdoor tour \"1999 GRAND CROSS TOUR\" held by L'Arc-en-Ciel in 1999 will be broadcast on WOWOW Live on July 16th (Friday).\n",
      "Original Language: Japanese\n",
      "```\n",
      "\n",
      "```\n",
      "Title: 5 Best Airlines in the World According to Tantra Tobing, Some are from Thailand - Kompas.com - KOMPAS.com\n",
      "Description: The following five airlines are rated based on several aspects. From ticket purchases, the check-in process, on-board services, to the airport. Page all\n",
      "Original Language: Indonesian\n",
      "```\n",
      "\n",
      "```\n",
      "Title: Katerina Peftitsi: \"I looked at myself in the mirror and was ashamed of my weight\" - NewsIT\n",
      "Description: Katerina Peftitsi spoke to Annita Koita about how it affected her psychology and the efforts she made to lose weight. \"I was\n",
      "Original Language: Greek\n",
      "```\n",
      "\n",
      "```\n",
      "Title: “Zenit” - “Spartak”: experts assessed the teams’ chances in the match between the leaders of the Russian championship - Championship\n",
      "Description: On December 16, the match of the 19th round of the Russian championship “Zenit” - “Spartak” will take place. The game starts at 20:00 Moscow time. The match will be shown live on the Match TV and Match Premier channels.\n",
      "Original Language: Russian\n",
      "```\n",
      "\n",
      "```\n",
      "Title: Grocery Workers Union Wants Reinstatement Of Hazard Pay - CBS Denver\n",
      "Description: The employees work at Kroger and Safeway.\n",
      "Original Language: English\n",
      "```\n"
     ]
    }
   ],
   "source": [
    "batch = random.choices(articles, k=10)\n",
    "for art in batch:\n",
    "\t\n",
    "\tlines = [\n",
    "\t\t'```',\n",
    "\t\tf'Title: {art[\"title\"]}',\n",
    "\t\tf'Description: {art[\"description\"]}',\n",
    "\t\tf'Content: {art[\"content\"]}',\n",
    "\t\tf'Original Language: {lang_names[art[\"language\"]]}',\n",
    "\t\t'```',\n",
    "\t]\n",
    "\tif True or art['language'] in {'el', 'zh', 'ja', }:\n",
    "\t\tdel lines[3]\n",
    "\tprint(\"\\n\".join(lines))\n",
    "\tprint()"
   ],
   "metadata": {
    "collapsed": false,
    "ExecuteTime": {
     "end_time": "2023-11-14T13:17:34.972180618Z",
     "start_time": "2023-11-14T13:17:34.963649946Z"
    }
   },
   "id": "1d6688de00c75e8f"
  },
  {
   "cell_type": "code",
   "execution_count": null,
   "outputs": [],
   "source": [],
   "metadata": {
    "collapsed": false
   },
   "id": "5a2bf8812e865358"
  },
  {
   "cell_type": "code",
   "execution_count": null,
   "outputs": [],
   "source": [],
   "metadata": {
    "collapsed": false
   },
   "id": "4c2ca1a1acfff9d5"
  },
  {
   "cell_type": "code",
   "execution_count": null,
   "outputs": [],
   "source": [],
   "metadata": {
    "collapsed": false
   },
   "id": "ea37269d25095090"
  },
  {
   "cell_type": "code",
   "execution_count": 2,
   "outputs": [
    {
     "data": {
      "text/plain": "True"
     },
     "execution_count": 2,
     "metadata": {},
     "output_type": "execute_result"
    }
   ],
   "source": [
    "path = Path().absolute().parent / 'data' / 'general_gb.json'\n",
    "path.exists()"
   ],
   "metadata": {
    "collapsed": false,
    "ExecuteTime": {
     "end_time": "2023-10-05T14:43:44.108102500Z",
     "start_time": "2023-10-05T14:43:44.027582Z"
    }
   },
   "id": "1af4f098c21fc41e"
  },
  {
   "cell_type": "code",
   "execution_count": 3,
   "outputs": [
    {
     "data": {
      "text/plain": "6"
     },
     "execution_count": 3,
     "metadata": {},
     "output_type": "execute_result"
    }
   ],
   "source": [
    "full = load_json(path)\n",
    "len(full)"
   ],
   "metadata": {
    "collapsed": false,
    "ExecuteTime": {
     "end_time": "2023-10-05T14:43:44.144303800Z",
     "start_time": "2023-10-05T14:43:44.048282800Z"
    }
   },
   "id": "62ee6cc6ca87cab5"
  },
  {
   "cell_type": "code",
   "execution_count": 4,
   "outputs": [
    {
     "data": {
      "text/plain": "38"
     },
     "execution_count": 4,
     "metadata": {},
     "output_type": "execute_result"
    }
   ],
   "source": [
    "arts = full['articles']\n",
    "len(arts)"
   ],
   "metadata": {
    "collapsed": false,
    "ExecuteTime": {
     "end_time": "2023-10-05T14:43:44.148301700Z",
     "start_time": "2023-10-05T14:43:44.081075200Z"
    }
   },
   "id": "818bfb59a7d2bb7c"
  },
  {
   "cell_type": "code",
   "execution_count": 17,
   "outputs": [
    {
     "name": "stdout",
     "output_type": "stream",
     "text": [
      "```\n",
      "Title: Warm up with this cozy image of a hot spot on Jupiter - Space.com\n",
      "Description: \n",
      "```\n",
      "\n",
      "```\n",
      "Title: PM must reform the union or risk UK becoming a 'failed state' - Gordon Brown - Sky News\n",
      "Description: Gordon Brown says Boris Johnson should promote the armed forces and the NHS as examples of the union's \"everyday benefits\".\n",
      "```\n",
      "\n",
      "```\n",
      "Title: WhatsApp loses millions of users after terms update - The Guardian\n",
      "Description: Poorly-executed change of terms of service sends messaging app’s subscribers flocking to competitors\n",
      "```\n",
      "\n",
      "```\n",
      "Title: Adele celebrates 10th anniversary of album 21's release with rare Instagram post - Daily Mail\n",
      "Description: Taking to Instagram, the star admitted  she can't remember much about 'how she felt'  in 2011 but is so grateful for fans letting her be 'a soundtrack' to some of the last decade.\n",
      "```\n",
      "\n",
      "```\n",
      "Title: The best photos of snow from across Wales - WalesOnline\n",
      "Description: Some places could see more snow fall this evening\n",
      "```\n"
     ]
    }
   ],
   "source": [
    "for a in random.choices(arts, k=5):\n",
    "\tprint(f'''```\n",
    "Title: {a[\"title\"]}\n",
    "Description: {a[\"description\"]}\n",
    "```''') # Content: {a[\"content\"]}\n",
    "\tprint()"
   ],
   "metadata": {
    "collapsed": false,
    "ExecuteTime": {
     "end_time": "2023-10-06T08:54:47.500447600Z",
     "start_time": "2023-10-06T08:54:47.468684300Z"
    }
   },
   "id": "240d28913dfb9c5d"
  },
  {
   "cell_type": "code",
   "execution_count": null,
   "outputs": [],
   "source": [],
   "metadata": {
    "collapsed": false
   },
   "id": "9bed720ba68e3a41"
  },
  {
   "cell_type": "code",
   "execution_count": null,
   "outputs": [],
   "source": [],
   "metadata": {
    "collapsed": false
   },
   "id": "cdadc3947f344cb2"
  },
  {
   "cell_type": "code",
   "execution_count": null,
   "outputs": [],
   "source": [],
   "metadata": {
    "collapsed": false
   },
   "id": "29d7b89dcfd0768d"
  },
  {
   "cell_type": "code",
   "execution_count": null,
   "outputs": [],
   "source": [],
   "metadata": {
    "collapsed": false
   },
   "id": "31a90e954cd9e84f"
  }
 ],
 "metadata": {
  "kernelspec": {
   "display_name": "Python 3",
   "language": "python",
   "name": "python3"
  },
  "language_info": {
   "codemirror_mode": {
    "name": "ipython",
    "version": 2
   },
   "file_extension": ".py",
   "mimetype": "text/x-python",
   "name": "python",
   "nbconvert_exporter": "python",
   "pygments_lexer": "ipython2",
   "version": "2.7.6"
  }
 },
 "nbformat": 4,
 "nbformat_minor": 5
}

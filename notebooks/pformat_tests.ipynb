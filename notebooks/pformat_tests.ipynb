{
 "cells": [
  {
   "cell_type": "code",
   "execution_count": 15,
   "outputs": [],
   "source": [
    "from omnibelt import pformat as original_pformat\n",
    "from string import Formatter"
   ],
   "metadata": {
    "collapsed": false,
    "ExecuteTime": {
     "end_time": "2023-11-24T15:24:34.173059239Z",
     "start_time": "2023-11-24T15:24:34.130961937Z"
    }
   },
   "id": "70983627da3c773c"
  },
  {
   "cell_type": "code",
   "execution_count": 10,
   "outputs": [
    {
     "ename": "KeyboardInterrupt",
     "evalue": "",
     "output_type": "error",
     "traceback": [
      "\u001B[0;31m---------------------------------------------------------------------------\u001B[0m",
      "\u001B[0;31mKeyError\u001B[0m                                  Traceback (most recent call last)",
      "Cell \u001B[0;32mIn[10], line 6\u001B[0m, in \u001B[0;36mPowerFormatter.get_field\u001B[0;34m(self, field_name, args, kwargs)\u001B[0m\n\u001B[1;32m      5\u001B[0m \u001B[38;5;28;01mtry\u001B[39;00m:\n\u001B[0;32m----> 6\u001B[0m \t\u001B[38;5;28;01mreturn\u001B[39;00m \u001B[38;5;28;43msuper\u001B[39;49m\u001B[43m(\u001B[49m\u001B[43m)\u001B[49m\u001B[38;5;241;43m.\u001B[39;49m\u001B[43mget_field\u001B[49m\u001B[43m(\u001B[49m\u001B[43mfield_name\u001B[49m\u001B[43m,\u001B[49m\u001B[43m \u001B[49m\u001B[43margs\u001B[49m\u001B[43m,\u001B[49m\u001B[43m \u001B[49m\u001B[43mkwargs\u001B[49m\u001B[43m)\u001B[49m\n\u001B[1;32m      7\u001B[0m \u001B[38;5;28;01mexcept\u001B[39;00m: \u001B[38;5;66;03m# TODO: find the right exception\u001B[39;00m\n",
      "File \u001B[0;32m~/miniconda3/lib/python3.11/string.py:299\u001B[0m, in \u001B[0;36mFormatter.get_field\u001B[0;34m(self, field_name, args, kwargs)\u001B[0m\n\u001B[1;32m    297\u001B[0m first, rest \u001B[38;5;241m=\u001B[39m _string\u001B[38;5;241m.\u001B[39mformatter_field_name_split(field_name)\n\u001B[0;32m--> 299\u001B[0m obj \u001B[38;5;241m=\u001B[39m \u001B[38;5;28;43mself\u001B[39;49m\u001B[38;5;241;43m.\u001B[39;49m\u001B[43mget_value\u001B[49m\u001B[43m(\u001B[49m\u001B[43mfirst\u001B[49m\u001B[43m,\u001B[49m\u001B[43m \u001B[49m\u001B[43margs\u001B[49m\u001B[43m,\u001B[49m\u001B[43m \u001B[49m\u001B[43mkwargs\u001B[49m\u001B[43m)\u001B[49m\n\u001B[1;32m    301\u001B[0m \u001B[38;5;66;03m# loop through the rest of the field_name, doing\u001B[39;00m\n\u001B[1;32m    302\u001B[0m \u001B[38;5;66;03m#  getattr or getitem as needed\u001B[39;00m\n",
      "File \u001B[0;32m~/miniconda3/lib/python3.11/string.py:256\u001B[0m, in \u001B[0;36mFormatter.get_value\u001B[0;34m(self, key, args, kwargs)\u001B[0m\n\u001B[1;32m    255\u001B[0m \u001B[38;5;28;01melse\u001B[39;00m:\n\u001B[0;32m--> 256\u001B[0m     \u001B[38;5;28;01mreturn\u001B[39;00m \u001B[43mkwargs\u001B[49m\u001B[43m[\u001B[49m\u001B[43mkey\u001B[49m\u001B[43m]\u001B[49m\n",
      "\u001B[0;31mKeyError\u001B[0m: '{ {{content}}, }'",
      "\nDuring handling of the above exception, another exception occurred:\n",
      "\u001B[0;31mKeyError\u001B[0m                                  Traceback (most recent call last)",
      "Cell \u001B[0;32mIn[10], line 6\u001B[0m, in \u001B[0;36mPowerFormatter.get_field\u001B[0;34m(self, field_name, args, kwargs)\u001B[0m\n\u001B[1;32m      5\u001B[0m \u001B[38;5;28;01mtry\u001B[39;00m:\n\u001B[0;32m----> 6\u001B[0m \t\u001B[38;5;28;01mreturn\u001B[39;00m \u001B[38;5;28;43msuper\u001B[39;49m\u001B[43m(\u001B[49m\u001B[43m)\u001B[49m\u001B[38;5;241;43m.\u001B[39;49m\u001B[43mget_field\u001B[49m\u001B[43m(\u001B[49m\u001B[43mfield_name\u001B[49m\u001B[43m,\u001B[49m\u001B[43m \u001B[49m\u001B[43margs\u001B[49m\u001B[43m,\u001B[49m\u001B[43m \u001B[49m\u001B[43mkwargs\u001B[49m\u001B[43m)\u001B[49m\n\u001B[1;32m      7\u001B[0m \u001B[38;5;28;01mexcept\u001B[39;00m: \u001B[38;5;66;03m# TODO: find the right exception\u001B[39;00m\n",
      "File \u001B[0;32m~/miniconda3/lib/python3.11/string.py:299\u001B[0m, in \u001B[0;36mFormatter.get_field\u001B[0;34m(self, field_name, args, kwargs)\u001B[0m\n\u001B[1;32m    297\u001B[0m first, rest \u001B[38;5;241m=\u001B[39m _string\u001B[38;5;241m.\u001B[39mformatter_field_name_split(field_name)\n\u001B[0;32m--> 299\u001B[0m obj \u001B[38;5;241m=\u001B[39m \u001B[38;5;28;43mself\u001B[39;49m\u001B[38;5;241;43m.\u001B[39;49m\u001B[43mget_value\u001B[49m\u001B[43m(\u001B[49m\u001B[43mfirst\u001B[49m\u001B[43m,\u001B[49m\u001B[43m \u001B[49m\u001B[43margs\u001B[49m\u001B[43m,\u001B[49m\u001B[43m \u001B[49m\u001B[43mkwargs\u001B[49m\u001B[43m)\u001B[49m\n\u001B[1;32m    301\u001B[0m \u001B[38;5;66;03m# loop through the rest of the field_name, doing\u001B[39;00m\n\u001B[1;32m    302\u001B[0m \u001B[38;5;66;03m#  getattr or getitem as needed\u001B[39;00m\n",
      "File \u001B[0;32m~/miniconda3/lib/python3.11/string.py:256\u001B[0m, in \u001B[0;36mFormatter.get_value\u001B[0;34m(self, key, args, kwargs)\u001B[0m\n\u001B[1;32m    255\u001B[0m \u001B[38;5;28;01melse\u001B[39;00m:\n\u001B[0;32m--> 256\u001B[0m     \u001B[38;5;28;01mreturn\u001B[39;00m \u001B[43mkwargs\u001B[49m\u001B[43m[\u001B[49m\u001B[43mkey\u001B[49m\u001B[43m]\u001B[49m\n",
      "\u001B[0;31mKeyError\u001B[0m: ' {{content}}, '",
      "\nDuring handling of the above exception, another exception occurred:\n",
      "\u001B[0;31mKeyboardInterrupt\u001B[0m                         Traceback (most recent call last)",
      "Cell \u001B[0;32mIn[10], line 130\u001B[0m\n\u001B[1;32m    126\u001B[0m raw \u001B[38;5;241m=\u001B[39m \u001B[38;5;124m'''\u001B[39m\u001B[38;5;124ml1 = \u001B[39m\u001B[38;5;132;01m{ls[{key1}]}\u001B[39;00m\u001B[38;5;124m vs l2 = \u001B[39m\u001B[38;5;124m{{\u001B[39m\u001B[38;5;124mls}[0]}\u001B[39m\u001B[38;5;124m'''\u001B[39m\n\u001B[1;32m    128\u001B[0m raw \u001B[38;5;241m=\u001B[39m \u001B[38;5;124m'''\u001B[39m\u001B[38;5;124m{{\u001B[39m\u001B[38;5;124m \u001B[39m\u001B[38;5;124m{{\u001B[39m\u001B[38;5;124mcontent}}, }}\u001B[39m\u001B[38;5;124m'''\u001B[39m\n\u001B[0;32m--> 130\u001B[0m \u001B[38;5;28mprint\u001B[39m(\u001B[43mpformat\u001B[49m\u001B[43m(\u001B[49m\u001B[43mraw\u001B[49m\u001B[43m)\u001B[49m)\n",
      "Cell \u001B[0;32mIn[10], line 108\u001B[0m, in \u001B[0;36mpformat\u001B[0;34m(s, **vars)\u001B[0m\n\u001B[1;32m    104\u001B[0m \u001B[38;5;250m\u001B[39m\u001B[38;5;124;03m\"\"\"\u001B[39;00m\n\u001B[1;32m    105\u001B[0m \u001B[38;5;124;03mEvaluates the keys in the given string as expressions using the given variables (recursively)\u001B[39;00m\n\u001B[1;32m    106\u001B[0m \u001B[38;5;124;03m\"\"\"\u001B[39;00m\n\u001B[1;32m    107\u001B[0m fmt \u001B[38;5;241m=\u001B[39m PowerFormatter()\n\u001B[0;32m--> 108\u001B[0m \u001B[38;5;28;01mreturn\u001B[39;00m \u001B[43mfmt\u001B[49m\u001B[38;5;241;43m.\u001B[39;49m\u001B[43mformat\u001B[49m\u001B[43m(\u001B[49m\u001B[43ms\u001B[49m\u001B[43m,\u001B[49m\u001B[43m \u001B[49m\u001B[38;5;241;43m*\u001B[39;49m\u001B[38;5;241;43m*\u001B[39;49m\u001B[38;5;28;43mvars\u001B[39;49m\u001B[43m)\u001B[49m\n",
      "File \u001B[0;32m~/miniconda3/lib/python3.11/string.py:190\u001B[0m, in \u001B[0;36mFormatter.format\u001B[0;34m(self, format_string, *args, **kwargs)\u001B[0m\n\u001B[1;32m    189\u001B[0m \u001B[38;5;28;01mdef\u001B[39;00m \u001B[38;5;21mformat\u001B[39m(\u001B[38;5;28mself\u001B[39m, format_string, \u001B[38;5;241m/\u001B[39m, \u001B[38;5;241m*\u001B[39margs, \u001B[38;5;241m*\u001B[39m\u001B[38;5;241m*\u001B[39mkwargs):\n\u001B[0;32m--> 190\u001B[0m     \u001B[38;5;28;01mreturn\u001B[39;00m \u001B[38;5;28;43mself\u001B[39;49m\u001B[38;5;241;43m.\u001B[39;49m\u001B[43mvformat\u001B[49m\u001B[43m(\u001B[49m\u001B[43mformat_string\u001B[49m\u001B[43m,\u001B[49m\u001B[43m \u001B[49m\u001B[43margs\u001B[49m\u001B[43m,\u001B[49m\u001B[43m \u001B[49m\u001B[43mkwargs\u001B[49m\u001B[43m)\u001B[49m\n",
      "File \u001B[0;32m~/miniconda3/lib/python3.11/string.py:194\u001B[0m, in \u001B[0;36mFormatter.vformat\u001B[0;34m(self, format_string, args, kwargs)\u001B[0m\n\u001B[1;32m    192\u001B[0m \u001B[38;5;28;01mdef\u001B[39;00m \u001B[38;5;21mvformat\u001B[39m(\u001B[38;5;28mself\u001B[39m, format_string, args, kwargs):\n\u001B[1;32m    193\u001B[0m     used_args \u001B[38;5;241m=\u001B[39m \u001B[38;5;28mset\u001B[39m()\n\u001B[0;32m--> 194\u001B[0m     result, _ \u001B[38;5;241m=\u001B[39m \u001B[38;5;28;43mself\u001B[39;49m\u001B[38;5;241;43m.\u001B[39;49m\u001B[43m_vformat\u001B[49m\u001B[43m(\u001B[49m\u001B[43mformat_string\u001B[49m\u001B[43m,\u001B[49m\u001B[43m \u001B[49m\u001B[43margs\u001B[49m\u001B[43m,\u001B[49m\u001B[43m \u001B[49m\u001B[43mkwargs\u001B[49m\u001B[43m,\u001B[49m\u001B[43m \u001B[49m\u001B[43mused_args\u001B[49m\u001B[43m,\u001B[49m\u001B[43m \u001B[49m\u001B[38;5;241;43m2\u001B[39;49m\u001B[43m)\u001B[49m\n\u001B[1;32m    195\u001B[0m     \u001B[38;5;28mself\u001B[39m\u001B[38;5;241m.\u001B[39mcheck_unused_args(used_args, args, kwargs)\n\u001B[1;32m    196\u001B[0m     \u001B[38;5;28;01mreturn\u001B[39;00m result\n",
      "File \u001B[0;32m~/miniconda3/lib/python3.11/string.py:234\u001B[0m, in \u001B[0;36mFormatter._vformat\u001B[0;34m(self, format_string, args, kwargs, used_args, recursion_depth, auto_arg_index)\u001B[0m\n\u001B[1;32m    230\u001B[0m     auto_arg_index \u001B[38;5;241m=\u001B[39m \u001B[38;5;28;01mFalse\u001B[39;00m\n\u001B[1;32m    232\u001B[0m \u001B[38;5;66;03m# given the field_name, find the object it references\u001B[39;00m\n\u001B[1;32m    233\u001B[0m \u001B[38;5;66;03m#  and the argument it came from\u001B[39;00m\n\u001B[0;32m--> 234\u001B[0m obj, arg_used \u001B[38;5;241m=\u001B[39m \u001B[38;5;28;43mself\u001B[39;49m\u001B[38;5;241;43m.\u001B[39;49m\u001B[43mget_field\u001B[49m\u001B[43m(\u001B[49m\u001B[43mfield_name\u001B[49m\u001B[43m,\u001B[49m\u001B[43m \u001B[49m\u001B[43margs\u001B[49m\u001B[43m,\u001B[49m\u001B[43m \u001B[49m\u001B[43mkwargs\u001B[49m\u001B[43m)\u001B[49m\n\u001B[1;32m    235\u001B[0m used_args\u001B[38;5;241m.\u001B[39madd(arg_used)\n\u001B[1;32m    237\u001B[0m \u001B[38;5;66;03m# do any conversion on the resulting object\u001B[39;00m\n",
      "Cell \u001B[0;32mIn[10], line 8\u001B[0m, in \u001B[0;36mPowerFormatter.get_field\u001B[0;34m(self, field_name, args, kwargs)\u001B[0m\n\u001B[1;32m      6\u001B[0m \t\u001B[38;5;28;01mreturn\u001B[39;00m \u001B[38;5;28msuper\u001B[39m()\u001B[38;5;241m.\u001B[39mget_field(field_name, args, kwargs)\n\u001B[1;32m      7\u001B[0m \u001B[38;5;28;01mexcept\u001B[39;00m: \u001B[38;5;66;03m# TODO: find the right exception\u001B[39;00m\n\u001B[0;32m----> 8\u001B[0m \t\u001B[38;5;28;01mreturn\u001B[39;00m \u001B[38;5;28meval\u001B[39m(\u001B[38;5;28;43mself\u001B[39;49m\u001B[38;5;241;43m.\u001B[39;49m\u001B[43mvformat\u001B[49m\u001B[43m(\u001B[49m\u001B[43mfield_name\u001B[49m\u001B[43m,\u001B[49m\u001B[43m \u001B[49m\u001B[43margs\u001B[49m\u001B[43m,\u001B[49m\u001B[43m \u001B[49m\u001B[43mkwargs\u001B[49m\u001B[43m)\u001B[49m, kwargs), field_name\n",
      "File \u001B[0;32m~/miniconda3/lib/python3.11/string.py:194\u001B[0m, in \u001B[0;36mFormatter.vformat\u001B[0;34m(self, format_string, args, kwargs)\u001B[0m\n\u001B[1;32m    192\u001B[0m \u001B[38;5;28;01mdef\u001B[39;00m \u001B[38;5;21mvformat\u001B[39m(\u001B[38;5;28mself\u001B[39m, format_string, args, kwargs):\n\u001B[1;32m    193\u001B[0m     used_args \u001B[38;5;241m=\u001B[39m \u001B[38;5;28mset\u001B[39m()\n\u001B[0;32m--> 194\u001B[0m     result, _ \u001B[38;5;241m=\u001B[39m \u001B[38;5;28;43mself\u001B[39;49m\u001B[38;5;241;43m.\u001B[39;49m\u001B[43m_vformat\u001B[49m\u001B[43m(\u001B[49m\u001B[43mformat_string\u001B[49m\u001B[43m,\u001B[49m\u001B[43m \u001B[49m\u001B[43margs\u001B[49m\u001B[43m,\u001B[49m\u001B[43m \u001B[49m\u001B[43mkwargs\u001B[49m\u001B[43m,\u001B[49m\u001B[43m \u001B[49m\u001B[43mused_args\u001B[49m\u001B[43m,\u001B[49m\u001B[43m \u001B[49m\u001B[38;5;241;43m2\u001B[39;49m\u001B[43m)\u001B[49m\n\u001B[1;32m    195\u001B[0m     \u001B[38;5;28mself\u001B[39m\u001B[38;5;241m.\u001B[39mcheck_unused_args(used_args, args, kwargs)\n\u001B[1;32m    196\u001B[0m     \u001B[38;5;28;01mreturn\u001B[39;00m result\n",
      "File \u001B[0;32m~/miniconda3/lib/python3.11/string.py:234\u001B[0m, in \u001B[0;36mFormatter._vformat\u001B[0;34m(self, format_string, args, kwargs, used_args, recursion_depth, auto_arg_index)\u001B[0m\n\u001B[1;32m    230\u001B[0m     auto_arg_index \u001B[38;5;241m=\u001B[39m \u001B[38;5;28;01mFalse\u001B[39;00m\n\u001B[1;32m    232\u001B[0m \u001B[38;5;66;03m# given the field_name, find the object it references\u001B[39;00m\n\u001B[1;32m    233\u001B[0m \u001B[38;5;66;03m#  and the argument it came from\u001B[39;00m\n\u001B[0;32m--> 234\u001B[0m obj, arg_used \u001B[38;5;241m=\u001B[39m \u001B[38;5;28;43mself\u001B[39;49m\u001B[38;5;241;43m.\u001B[39;49m\u001B[43mget_field\u001B[49m\u001B[43m(\u001B[49m\u001B[43mfield_name\u001B[49m\u001B[43m,\u001B[49m\u001B[43m \u001B[49m\u001B[43margs\u001B[49m\u001B[43m,\u001B[49m\u001B[43m \u001B[49m\u001B[43mkwargs\u001B[49m\u001B[43m)\u001B[49m\n\u001B[1;32m    235\u001B[0m used_args\u001B[38;5;241m.\u001B[39madd(arg_used)\n\u001B[1;32m    237\u001B[0m \u001B[38;5;66;03m# do any conversion on the resulting object\u001B[39;00m\n",
      "Cell \u001B[0;32mIn[10], line 8\u001B[0m, in \u001B[0;36mPowerFormatter.get_field\u001B[0;34m(self, field_name, args, kwargs)\u001B[0m\n\u001B[1;32m      6\u001B[0m \t\u001B[38;5;28;01mreturn\u001B[39;00m \u001B[38;5;28msuper\u001B[39m()\u001B[38;5;241m.\u001B[39mget_field(field_name, args, kwargs)\n\u001B[1;32m      7\u001B[0m \u001B[38;5;28;01mexcept\u001B[39;00m: \u001B[38;5;66;03m# TODO: find the right exception\u001B[39;00m\n\u001B[0;32m----> 8\u001B[0m \t\u001B[38;5;28;01mreturn\u001B[39;00m \u001B[38;5;28meval\u001B[39m(\u001B[38;5;28;43mself\u001B[39;49m\u001B[38;5;241;43m.\u001B[39;49m\u001B[43mvformat\u001B[49m\u001B[43m(\u001B[49m\u001B[43mfield_name\u001B[49m\u001B[43m,\u001B[49m\u001B[43m \u001B[49m\u001B[43margs\u001B[49m\u001B[43m,\u001B[49m\u001B[43m \u001B[49m\u001B[43mkwargs\u001B[49m\u001B[43m)\u001B[49m, kwargs), field_name\n",
      "File \u001B[0;32m~/miniconda3/lib/python3.11/string.py:194\u001B[0m, in \u001B[0;36mFormatter.vformat\u001B[0;34m(self, format_string, args, kwargs)\u001B[0m\n\u001B[1;32m    192\u001B[0m \u001B[38;5;28;01mdef\u001B[39;00m \u001B[38;5;21mvformat\u001B[39m(\u001B[38;5;28mself\u001B[39m, format_string, args, kwargs):\n\u001B[1;32m    193\u001B[0m     used_args \u001B[38;5;241m=\u001B[39m \u001B[38;5;28mset\u001B[39m()\n\u001B[0;32m--> 194\u001B[0m     result, _ \u001B[38;5;241m=\u001B[39m \u001B[38;5;28;43mself\u001B[39;49m\u001B[38;5;241;43m.\u001B[39;49m\u001B[43m_vformat\u001B[49m\u001B[43m(\u001B[49m\u001B[43mformat_string\u001B[49m\u001B[43m,\u001B[49m\u001B[43m \u001B[49m\u001B[43margs\u001B[49m\u001B[43m,\u001B[49m\u001B[43m \u001B[49m\u001B[43mkwargs\u001B[49m\u001B[43m,\u001B[49m\u001B[43m \u001B[49m\u001B[43mused_args\u001B[49m\u001B[43m,\u001B[49m\u001B[43m \u001B[49m\u001B[38;5;241;43m2\u001B[39;49m\u001B[43m)\u001B[49m\n\u001B[1;32m    195\u001B[0m     \u001B[38;5;28mself\u001B[39m\u001B[38;5;241m.\u001B[39mcheck_unused_args(used_args, args, kwargs)\n\u001B[1;32m    196\u001B[0m     \u001B[38;5;28;01mreturn\u001B[39;00m result\n",
      "File \u001B[0;32m~/miniconda3/lib/python3.11/string.py:203\u001B[0m, in \u001B[0;36mFormatter._vformat\u001B[0;34m(self, format_string, args, kwargs, used_args, recursion_depth, auto_arg_index)\u001B[0m\n\u001B[1;32m    201\u001B[0m     \u001B[38;5;28;01mraise\u001B[39;00m \u001B[38;5;167;01mValueError\u001B[39;00m(\u001B[38;5;124m'\u001B[39m\u001B[38;5;124mMax string recursion exceeded\u001B[39m\u001B[38;5;124m'\u001B[39m)\n\u001B[1;32m    202\u001B[0m result \u001B[38;5;241m=\u001B[39m []\n\u001B[0;32m--> 203\u001B[0m \u001B[38;5;28;01mfor\u001B[39;00m literal_text, field_name, format_spec, conversion \u001B[38;5;129;01min\u001B[39;00m \\\n\u001B[1;32m    204\u001B[0m         \u001B[38;5;28mself\u001B[39m\u001B[38;5;241m.\u001B[39mparse(format_string):\n\u001B[1;32m    205\u001B[0m \n\u001B[1;32m    206\u001B[0m     \u001B[38;5;66;03m# output the literal text\u001B[39;00m\n\u001B[1;32m    207\u001B[0m     \u001B[38;5;28;01mif\u001B[39;00m literal_text:\n\u001B[1;32m    208\u001B[0m         result\u001B[38;5;241m.\u001B[39mappend(literal_text)\n",
      "Cell \u001B[0;32mIn[10], line 30\u001B[0m, in \u001B[0;36mPowerFormatter.parse\u001B[0;34m(self, s)\u001B[0m\n\u001B[1;32m     27\u001B[0m open_idx \u001B[38;5;241m=\u001B[39m s\u001B[38;5;241m.\u001B[39mfind(\u001B[38;5;124m\"\u001B[39m\u001B[38;5;124m{\u001B[39m\u001B[38;5;124m\"\u001B[39m, idx)\n\u001B[1;32m     28\u001B[0m close_idx \u001B[38;5;241m=\u001B[39m s\u001B[38;5;241m.\u001B[39mfind(\u001B[38;5;124m\"\u001B[39m\u001B[38;5;124m}\u001B[39m\u001B[38;5;124m\"\u001B[39m, idx)\n\u001B[0;32m---> 30\u001B[0m \u001B[38;5;28;01mif\u001B[39;00m \u001B[43mopen_idx\u001B[49m \u001B[38;5;241m==\u001B[39m \u001B[38;5;241m-\u001B[39m\u001B[38;5;241m1\u001B[39m \u001B[38;5;129;01mand\u001B[39;00m close_idx \u001B[38;5;241m==\u001B[39m \u001B[38;5;241m-\u001B[39m\u001B[38;5;241m1\u001B[39m:\n\u001B[1;32m     31\u001B[0m \t\u001B[38;5;66;03m# no more fields - yield the rest of the string\u001B[39;00m\n\u001B[1;32m     32\u001B[0m \t\u001B[38;5;28;01mif\u001B[39;00m counter \u001B[38;5;241m==\u001B[39m \u001B[38;5;241m0\u001B[39m:\n\u001B[1;32m     33\u001B[0m \t\t\u001B[38;5;66;03m# raise StopIteration\u001B[39;00m\n\u001B[1;32m     34\u001B[0m \t\t\u001B[38;5;66;03m# print(f'ending with: {escaped + s[idx:]!r}')\u001B[39;00m\n\u001B[1;32m     35\u001B[0m \t\t\u001B[38;5;28;01myield\u001B[39;00m escaped \u001B[38;5;241m+\u001B[39m s[idx:], \u001B[38;5;28;01mNone\u001B[39;00m, \u001B[38;5;124m'\u001B[39m\u001B[38;5;124m'\u001B[39m, \u001B[38;5;28;01mNone\u001B[39;00m\n",
      "File \u001B[0;32m/snap/pycharm-professional/356/plugins/python/helpers/pydev/_pydevd_bundle/pydevd_frame.py:747\u001B[0m, in \u001B[0;36mPyDBFrame.trace_dispatch\u001B[0;34m(self, frame, event, arg)\u001B[0m\n\u001B[1;32m    745\u001B[0m \u001B[38;5;66;03m# if thread has a suspend flag, we suspend with a busy wait\u001B[39;00m\n\u001B[1;32m    746\u001B[0m \u001B[38;5;28;01mif\u001B[39;00m info\u001B[38;5;241m.\u001B[39mpydev_state \u001B[38;5;241m==\u001B[39m STATE_SUSPEND:\n\u001B[0;32m--> 747\u001B[0m     \u001B[38;5;28;43mself\u001B[39;49m\u001B[38;5;241;43m.\u001B[39;49m\u001B[43mdo_wait_suspend\u001B[49m\u001B[43m(\u001B[49m\u001B[43mthread\u001B[49m\u001B[43m,\u001B[49m\u001B[43m \u001B[49m\u001B[43mframe\u001B[49m\u001B[43m,\u001B[49m\u001B[43m \u001B[49m\u001B[43mevent\u001B[49m\u001B[43m,\u001B[49m\u001B[43m \u001B[49m\u001B[43marg\u001B[49m\u001B[43m)\u001B[49m\n\u001B[1;32m    748\u001B[0m     \u001B[38;5;66;03m# No need to reset frame.f_trace to keep the same trace function.\u001B[39;00m\n\u001B[1;32m    749\u001B[0m     \u001B[38;5;28;01mreturn\u001B[39;00m \u001B[38;5;28mself\u001B[39m\u001B[38;5;241m.\u001B[39mtrace_dispatch\n",
      "File \u001B[0;32m/snap/pycharm-professional/356/plugins/python/helpers/pydev/_pydevd_bundle/pydevd_frame.py:144\u001B[0m, in \u001B[0;36mPyDBFrame.do_wait_suspend\u001B[0;34m(self, *args, **kwargs)\u001B[0m\n\u001B[1;32m    143\u001B[0m \u001B[38;5;28;01mdef\u001B[39;00m \u001B[38;5;21mdo_wait_suspend\u001B[39m(\u001B[38;5;28mself\u001B[39m, \u001B[38;5;241m*\u001B[39margs, \u001B[38;5;241m*\u001B[39m\u001B[38;5;241m*\u001B[39mkwargs):\n\u001B[0;32m--> 144\u001B[0m     \u001B[38;5;28;43mself\u001B[39;49m\u001B[38;5;241;43m.\u001B[39;49m\u001B[43m_args\u001B[49m\u001B[43m[\u001B[49m\u001B[38;5;241;43m0\u001B[39;49m\u001B[43m]\u001B[49m\u001B[38;5;241;43m.\u001B[39;49m\u001B[43mdo_wait_suspend\u001B[49m\u001B[43m(\u001B[49m\u001B[38;5;241;43m*\u001B[39;49m\u001B[43margs\u001B[49m\u001B[43m,\u001B[49m\u001B[43m \u001B[49m\u001B[38;5;241;43m*\u001B[39;49m\u001B[38;5;241;43m*\u001B[39;49m\u001B[43mkwargs\u001B[49m\u001B[43m)\u001B[49m\n",
      "File \u001B[0;32m/snap/pycharm-professional/356/plugins/python/helpers/pydev/pydevd.py:1160\u001B[0m, in \u001B[0;36mPyDB.do_wait_suspend\u001B[0;34m(self, thread, frame, event, arg, send_suspend_message, is_unhandled_exception)\u001B[0m\n\u001B[1;32m   1157\u001B[0m         from_this_thread\u001B[38;5;241m.\u001B[39mappend(frame_id)\n\u001B[1;32m   1159\u001B[0m \u001B[38;5;28;01mwith\u001B[39;00m \u001B[38;5;28mself\u001B[39m\u001B[38;5;241m.\u001B[39m_threads_suspended_single_notification\u001B[38;5;241m.\u001B[39mnotify_thread_suspended(thread_id, stop_reason):\n\u001B[0;32m-> 1160\u001B[0m     \u001B[38;5;28;43mself\u001B[39;49m\u001B[38;5;241;43m.\u001B[39;49m\u001B[43m_do_wait_suspend\u001B[49m\u001B[43m(\u001B[49m\u001B[43mthread\u001B[49m\u001B[43m,\u001B[49m\u001B[43m \u001B[49m\u001B[43mframe\u001B[49m\u001B[43m,\u001B[49m\u001B[43m \u001B[49m\u001B[43mevent\u001B[49m\u001B[43m,\u001B[49m\u001B[43m \u001B[49m\u001B[43marg\u001B[49m\u001B[43m,\u001B[49m\u001B[43m \u001B[49m\u001B[43msuspend_type\u001B[49m\u001B[43m,\u001B[49m\u001B[43m \u001B[49m\u001B[43mfrom_this_thread\u001B[49m\u001B[43m)\u001B[49m\n",
      "File \u001B[0;32m/snap/pycharm-professional/356/plugins/python/helpers/pydev/pydevd.py:1175\u001B[0m, in \u001B[0;36mPyDB._do_wait_suspend\u001B[0;34m(self, thread, frame, event, arg, suspend_type, from_this_thread)\u001B[0m\n\u001B[1;32m   1172\u001B[0m             \u001B[38;5;28mself\u001B[39m\u001B[38;5;241m.\u001B[39m_call_mpl_hook()\n\u001B[1;32m   1174\u001B[0m         \u001B[38;5;28mself\u001B[39m\u001B[38;5;241m.\u001B[39mprocess_internal_commands()\n\u001B[0;32m-> 1175\u001B[0m         time\u001B[38;5;241m.\u001B[39msleep(\u001B[38;5;241m0.01\u001B[39m)\n\u001B[1;32m   1177\u001B[0m \u001B[38;5;28mself\u001B[39m\u001B[38;5;241m.\u001B[39mcancel_async_evaluation(get_current_thread_id(thread), \u001B[38;5;28mstr\u001B[39m(\u001B[38;5;28mid\u001B[39m(frame)))\n\u001B[1;32m   1179\u001B[0m \u001B[38;5;66;03m# process any stepping instructions\u001B[39;00m\n",
      "\u001B[0;31mKeyboardInterrupt\u001B[0m: "
     ]
    }
   ],
   "source": [
    "\n",
    "class PowerFormatter(Formatter):\n",
    "\t# TODO: partial formatting - only format fields that are specified, and leave others as is\n",
    "\tdef get_field(self, field_name, args, kwargs):\n",
    "\t\ttry:\n",
    "\t\t\treturn super().get_field(field_name, args, kwargs)\n",
    "\t\texcept: # TODO: find the right exception\n",
    "\t\t\treturn eval(self.vformat(field_name, args, kwargs), kwargs), field_name\n",
    "\t\t\t# return f'{{{field_name}}}', field_name\n",
    "\n",
    "\n",
    "\tdef parse(self, s):\n",
    "\t\tstart_idx = -1\n",
    "\t\tescaped = ''\n",
    "\t\tpre_idx = 0\n",
    "\t\tcounter = 0\n",
    "\t\tidx = 0\n",
    "\t\t\n",
    "\t\tparity = sum((-1)**(c=='{') for c in s if c in '{}')\n",
    "\t\tassert parity % 2 == 0, f'Unbalanced brackets in {s!r} (remember to escape with double brackets)'\n",
    "\t\t\n",
    "\t\ttree = []\n",
    "\t\t\n",
    "\t\t\n",
    "\n",
    "\t\twhile idx < len(s):\n",
    "\t\t\topen_idx = s.find(\"{\", idx)\n",
    "\t\t\tclose_idx = s.find(\"}\", idx)\n",
    "\n",
    "\t\t\tif open_idx == -1 and close_idx == -1:\n",
    "\t\t\t\t# no more fields - yield the rest of the string\n",
    "\t\t\t\tif counter == 0:\n",
    "\t\t\t\t\t# raise StopIteration\n",
    "\t\t\t\t\t# print(f'ending with: {escaped + s[idx:]!r}')\n",
    "\t\t\t\t\tyield escaped + s[idx:], None, '', None\n",
    "\t\t\t\telse:\n",
    "\t\t\t\t\traise ValueError(\"Mismatched '{' at index {}\".format(start_idx))\n",
    "\t\t\t\tbreak\n",
    "\n",
    "\t\t\tif open_idx != -1 and (open_idx < close_idx or close_idx == -1):\n",
    "\t\t\t\t# found an open bracket - add everything up to it to the escaped string, and increment the (depth) counter\n",
    "\t\t\t\tif counter == 0:\n",
    "\t\t\t\t\t# yield (s[idx:open_idx], None)\n",
    "\t\t\t\t\tstart_idx = open_idx\n",
    "\t\t\t\t\tpre_idx = idx\n",
    "\t\t\t\tidx = open_idx + 1\n",
    "\t\t\t\tcounter += 1\n",
    "\n",
    "\t\t\tif close_idx != -1 and (close_idx < open_idx or open_idx == -1):\n",
    "\t\t\t\t# found a close bracket - decrement the (depth) counter, and if it's 0, yield the field\n",
    "\t\t\t\tif counter == 0:\n",
    "\t\t\t\t\traise ValueError(f\"Mismatched '}}' at index {close_idx}\")\n",
    "\t\t\t\tcounter -= 1\n",
    "\t\t\t\tif counter == 0:\n",
    "\t\t\t\t\tpre = s[pre_idx:start_idx] # everything so far that needs to be escaped\n",
    "\t\t\t\t\tfield = s[start_idx + 1:close_idx] # the field itself (everything between the brackets)\n",
    "\t\t\t\t\tif field.startswith(\"{\") and close_idx+1 < len(s) and s[close_idx+1] == \"}\": # double brackets - escape the inner ones\n",
    "\t\t\t\t\t\tescaped = pre + '{'\n",
    "\t\t\t\t\t\tfor lit, fd, spec, conv in self.parse(field[1:]):\n",
    "\t\t\t\t\t\t\tif escaped is not None:\n",
    "\t\t\t\t\t\t\t\tlit = escaped + lit + '}'\n",
    "\t\t\t\t\t\t\t\tescaped = ''\n",
    "\t\t\t\t\t\t\tyield lit, fd, spec, conv\n",
    "\n",
    "\t\t\t\t\t\tclose_idx += 1\n",
    "\t\t\t\t\t\t# escaped = '}'\n",
    "\n",
    "\t\t\t\t\telse:\n",
    "\t\t\t\t\t\t# spec = None\n",
    "\t\t\t\t\t\tlim = field.rfind('}')\n",
    "\t\t\t\t\t\tconv_idx = field[lim+1:].find('!')\n",
    "\t\t\t\t\t\tif conv_idx != -1:\n",
    "\t\t\t\t\t\t\tconv = field[lim+2+conv_idx:]\n",
    "\t\t\t\t\t\t\tfield = field[:lim+1+conv_idx]\n",
    "\t\t\t\t\t\telse:\n",
    "\t\t\t\t\t\t\tconv = None\n",
    "\n",
    "\t\t\t\t\t\tif conv is None:\n",
    "\t\t\t\t\t\t\tlim = field.rfind(']')\n",
    "\t\t\t\t\t\t\tspec_idx = field[lim+1:].find(':')\n",
    "\t\t\t\t\t\t\tif spec_idx != -1:\n",
    "\t\t\t\t\t\t\t\tspec = field[lim+2+spec_idx:]\n",
    "\t\t\t\t\t\t\t\tfield = field[:lim+1+spec_idx]\n",
    "\t\t\t\t\t\t\telse:\n",
    "\t\t\t\t\t\t\t\tspec = ''\n",
    "\t\t\t\t\t\telse:\n",
    "\t\t\t\t\t\t\tspec_idx = conv.find(':')\n",
    "\t\t\t\t\t\t\tif spec_idx != -1:\n",
    "\t\t\t\t\t\t\t\tspec = conv[spec_idx+1:]\n",
    "\t\t\t\t\t\t\t\tconv = conv[:spec_idx]\n",
    "\t\t\t\t\t\t\telse:\n",
    "\t\t\t\t\t\t\t\tspec = ''\n",
    "\n",
    "\t\t\t\t\t\t# print(f'yielding: {escaped + pre!r}, {field!r}, {spec!r}, {conv!r}')\n",
    "\t\t\t\t\t\t# field = eval(self._format(field), self._world)\n",
    "\t\t\t\t\t\tyield escaped + pre, field, spec, conv\n",
    "\t\t\t\t\t\tescaped = ''\n",
    "\t\t\t\t\tstart_idx = -1\n",
    "\t\t\t\tidx = close_idx + 1\n",
    "\n",
    "\n",
    "\n",
    "def pformat(s, **vars):\n",
    "\t\"\"\"\n",
    "\tEvaluates the keys in the given string as expressions using the given variables (recursively)\n",
    "\t\"\"\"\n",
    "\tfmt = PowerFormatter()\n",
    "\treturn fmt.format(s, **vars)\n",
    "\n",
    "raw = '''```python\n",
    "verbalizations = {{\n",
    "  \"Smoking Rate\": {{\n",
    "    1: {{\"variable\": [\"the smoking rate\", \"proportion of smokers\"]}},\n",
    "    2: {{\"subject\": \"people\", \"value\": {{0: [\"do not smoke\", \"are non-smokers\"], 1: [\"smoke\", \"are smokers\"]}}}},\n",
    "    3: {{\"value\": {{0: [\"people do not smoke\", \"people are non-smokers\"], 1: [\"people smoke\", \"people are smokers\"]}}}},\n",
    "    4: {{\"domain\": \"people\", \"value\": {{0: [\"do not smoke\", \"are non-smokers\"], 1: [\"smoke\", \"are smokers\"]}}}},\n",
    "    5: {{\"value\": {{0: [\"the smoking rate decreases\", \"people stop smoking\"], 1: [\"the smoking rate increases\", \"people start smoking\"]}}}},\n",
    "    6: {{\"value\": {{0: [\"For people that do not smoke\", \"Among non-smokers\"], 1: [\"For people that smoke\", \"Among smokers\"]}}}},\n",
    "    7: {{\"value\": {{0: [\"people quite smoking\", \"people become non-smokers\"], 1: [\"people become smokers\", \"people take up smoking\"]}}}},\n",
    "  }},\n",
    "  ...\n",
    "}}\n",
    "```'''\n",
    "\n",
    "ls = [1]\n",
    "\n",
    "raw = '''{ls[0]} is equivalent to {{ls}[0]}''' # '''1 is equivalent to 1'''\n",
    "raw = '''{{f}({a})}'''\n",
    "raw = '''l1 = {ls[{key1}]} vs l2 = {{ls}[0]}'''\n",
    "\n",
    "raw = '''{{ {{content}}, }}''' # '''{ {content}, }'''\n",
    "\n",
    "print(pformat(raw))"
   ],
   "metadata": {
    "collapsed": false,
    "ExecuteTime": {
     "end_time": "2023-11-24T15:15:38.589019516Z",
     "start_time": "2023-11-24T15:14:23.324781328Z"
    }
   },
   "id": "99cf8584e8c97af3"
  },
  {
   "cell_type": "code",
   "execution_count": null,
   "outputs": [],
   "source": [],
   "metadata": {
    "collapsed": false
   },
   "id": "6bac4f487d6a2112"
  },
  {
   "cell_type": "code",
   "execution_count": null,
   "outputs": [],
   "source": [],
   "metadata": {
    "collapsed": false
   },
   "id": "eae9ef8342708ed0"
  },
  {
   "cell_type": "code",
   "execution_count": 16,
   "outputs": [
    {
     "data": {
      "text/plain": "'hello test'"
     },
     "execution_count": 16,
     "metadata": {},
     "output_type": "execute_result"
    }
   ],
   "source": [
    "original_pformat('hello {\\'test\\'}')"
   ],
   "metadata": {
    "collapsed": false,
    "ExecuteTime": {
     "end_time": "2023-11-24T15:24:38.838099093Z",
     "start_time": "2023-11-24T15:24:38.829466737Z"
    }
   },
   "id": "c1585c1d746229a8"
  },
  {
   "cell_type": "code",
   "execution_count": 18,
   "outputs": [
    {
     "data": {
      "text/plain": "'hello world'"
     },
     "execution_count": 18,
     "metadata": {},
     "output_type": "execute_result"
    }
   ],
   "source": [
    "original_pformat('hello {\"test\"}', **{'\"test\"': 'world'})"
   ],
   "metadata": {
    "collapsed": false,
    "ExecuteTime": {
     "end_time": "2023-11-24T15:26:53.289022829Z",
     "start_time": "2023-11-24T15:26:53.244469739Z"
    }
   },
   "id": "27edc9220123fe8a"
  },
  {
   "cell_type": "code",
   "execution_count": 20,
   "outputs": [],
   "source": [
    "import ast"
   ],
   "metadata": {
    "collapsed": false,
    "ExecuteTime": {
     "end_time": "2023-11-24T15:35:49.557737517Z",
     "start_time": "2023-11-24T15:35:49.515482598Z"
    }
   },
   "id": "8cab11492008960e"
  },
  {
   "cell_type": "code",
   "execution_count": 24,
   "outputs": [],
   "source": [
    "def find_variables_in_expression(expression):\n",
    "\t\"\"\"\n",
    "\tFind all variables used in a given Python expression.\n",
    "\t\n",
    "\tArgs:\n",
    "\texpression (str): A string representing a Python expression.\n",
    "\t\n",
    "\tReturns:\n",
    "\tlist: A list of variable names used in the expression.\n",
    "\t\"\"\"\n",
    "\ttry:\n",
    "\t\ttree = ast.parse(expression, mode='eval')\n",
    "\texcept SyntaxError:\n",
    "\t\treturn \"The input is not a valid expression.\"\n",
    "\n",
    "\tclass VariableVisitor(ast.NodeVisitor):\n",
    "\t\tdef __init__(self):\n",
    "\t\t\tself.variables = []\n",
    "\n",
    "\t\tdef visit_Name(self, node):\n",
    "\t\t\tif node.id not in self.variables:\n",
    "\t\t\t\tself.variables.append(node.id)\n",
    "\n",
    "\tvisitor = VariableVisitor()\n",
    "\tvisitor.visit(tree)\n",
    "\treturn list(visitor.variables)\n",
    " "
   ],
   "metadata": {
    "collapsed": false,
    "ExecuteTime": {
     "end_time": "2023-11-24T15:38:30.056704677Z",
     "start_time": "2023-11-24T15:38:30.010645905Z"
    }
   },
   "id": "835fcdd9ff97b9b4"
  },
  {
   "cell_type": "code",
   "execution_count": 31,
   "outputs": [
    {
     "data": {
      "text/plain": "['ls', 'key1', 'key2']"
     },
     "execution_count": 31,
     "metadata": {},
     "output_type": "execute_result"
    }
   ],
   "source": [
    "find_variables_in_expression('ls[key1.endswith(key2)]')"
   ],
   "metadata": {
    "collapsed": false,
    "ExecuteTime": {
     "end_time": "2023-11-24T15:42:26.770618725Z",
     "start_time": "2023-11-24T15:42:26.761910637Z"
    }
   },
   "id": "3e47afcf40f29f49"
  },
  {
   "cell_type": "code",
   "execution_count": 32,
   "outputs": [
    {
     "data": {
      "text/plain": "['int', 'answer']"
     },
     "execution_count": 32,
     "metadata": {},
     "output_type": "execute_result"
    }
   ],
   "source": [
    "find_variables_in_expression('{-1:\"no\", 1:\"yes\"}[int(answer)]')"
   ],
   "metadata": {
    "collapsed": false,
    "ExecuteTime": {
     "end_time": "2023-11-24T15:44:44.249039486Z",
     "start_time": "2023-11-24T15:44:44.203363159Z"
    }
   },
   "id": "f534bdf9d06062b7"
  },
  {
   "cell_type": "code",
   "execution_count": 35,
   "outputs": [
    {
     "data": {
      "text/plain": "('ab', 'ab')"
     },
     "execution_count": 35,
     "metadata": {},
     "output_type": "execute_result"
    }
   ],
   "source": [
    "a, b = 'a', 'b'\n",
    "a + b, 'a' 'b'"
   ],
   "metadata": {
    "collapsed": false,
    "ExecuteTime": {
     "end_time": "2023-11-24T15:46:06.568362224Z",
     "start_time": "2023-11-24T15:46:06.555575218Z"
    }
   },
   "id": "6c27d6b6604862c"
  },
  {
   "cell_type": "code",
   "execution_count": 36,
   "id": "initial_id",
   "metadata": {
    "collapsed": true,
    "ExecuteTime": {
     "end_time": "2023-11-24T15:46:28.559037806Z",
     "start_time": "2023-11-24T15:46:28.547635629Z"
    }
   },
   "outputs": [
    {
     "data": {
      "text/plain": "' {{treatment}{int(treated)}_wheresentence}'"
     },
     "execution_count": 36,
     "metadata": {},
     "output_type": "execute_result"
    }
   ],
   "source": [
    "' {{treatment}{int(treated)}_wheresentence}'"
   ]
  },
  {
   "cell_type": "code",
   "execution_count": 37,
   "outputs": [
    {
     "data": {
      "text/plain": "['treatment', 'treated']"
     },
     "execution_count": 37,
     "metadata": {},
     "output_type": "execute_result"
    }
   ],
   "source": [
    "find_variables_in_expression('treatment+treated+\"_wheresentence\"')"
   ],
   "metadata": {
    "collapsed": false,
    "ExecuteTime": {
     "end_time": "2023-11-24T15:47:17.301731226Z",
     "start_time": "2023-11-24T15:47:17.260589635Z"
    }
   },
   "id": "5166033c807db5c2"
  },
  {
   "cell_type": "code",
   "execution_count": 39,
   "outputs": [
    {
     "data": {
      "text/plain": "['treatment', 'treated']"
     },
     "execution_count": 39,
     "metadata": {},
     "output_type": "execute_result"
    }
   ],
   "source": [
    "find_variables_in_expression('f\\'{treatment}{treated}_wheresentence\\'')"
   ],
   "metadata": {
    "collapsed": false,
    "ExecuteTime": {
     "end_time": "2023-11-24T15:48:07.741266218Z",
     "start_time": "2023-11-24T15:48:07.697699881Z"
    }
   },
   "id": "79b5653ec4e9ff24"
  },
  {
   "cell_type": "code",
   "execution_count": 55,
   "outputs": [],
   "source": [
    "s1 = 'look at {me!r} and not at {{treatment}{treated}_noun!r}, {{and also {info[{f\\'{treatment}{treated}\\'}]}'\n",
    "s2 = '{{treatment}{treated}_noun!r} == {f\\'{treatment}{treated}_noun\\'!r} {{'"
   ],
   "metadata": {
    "collapsed": false,
    "ExecuteTime": {
     "end_time": "2023-11-24T16:19:07.870998964Z",
     "start_time": "2023-11-24T16:19:07.828288613Z"
    }
   },
   "id": "80d07b7a37696985"
  },
  {
   "cell_type": "code",
   "execution_count": 48,
   "outputs": [
    {
     "ename": "ValueError",
     "evalue": "unexpected '{' in field name",
     "output_type": "error",
     "traceback": [
      "\u001B[0;31m---------------------------------------------------------------------------\u001B[0m",
      "\u001B[0;31mValueError\u001B[0m                                Traceback (most recent call last)",
      "Cell \u001B[0;32mIn[48], line 1\u001B[0m\n\u001B[0;32m----> 1\u001B[0m \u001B[43ms1\u001B[49m\u001B[38;5;241;43m.\u001B[39;49m\u001B[43mformat\u001B[49m\u001B[43m(\u001B[49m\u001B[43mme\u001B[49m\u001B[38;5;241;43m=\u001B[39;49m\u001B[38;5;124;43m'\u001B[39;49m\u001B[38;5;124;43mme\u001B[39;49m\u001B[38;5;124;43m'\u001B[39;49m\u001B[43m,\u001B[49m\u001B[43m \u001B[49m\u001B[43mtreatment\u001B[49m\u001B[38;5;241;43m=\u001B[39;49m\u001B[38;5;124;43m'\u001B[39;49m\u001B[38;5;124;43mX\u001B[39;49m\u001B[38;5;124;43m'\u001B[39;49m\u001B[43m,\u001B[49m\u001B[43m \u001B[49m\u001B[43mtreated\u001B[49m\u001B[38;5;241;43m=\u001B[39;49m\u001B[38;5;241;43m1\u001B[39;49m\u001B[43m,\u001B[49m\u001B[43m \u001B[49m\u001B[43minfo\u001B[49m\u001B[38;5;241;43m=\u001B[39;49m\u001B[43m{\u001B[49m\u001B[38;5;124;43m'\u001B[39;49m\u001B[38;5;124;43mX1\u001B[39;49m\u001B[38;5;124;43m'\u001B[39;49m\u001B[43m:\u001B[49m\u001B[43m \u001B[49m\u001B[38;5;124;43m'\u001B[39;49m\u001B[38;5;124;43mcool\u001B[39;49m\u001B[38;5;124;43m'\u001B[39;49m\u001B[43m,\u001B[49m\u001B[43m \u001B[49m\u001B[38;5;124;43m'\u001B[39;49m\u001B[38;5;124;43mX0\u001B[39;49m\u001B[38;5;124;43m'\u001B[39;49m\u001B[43m:\u001B[49m\u001B[43m \u001B[49m\u001B[38;5;124;43m'\u001B[39;49m\u001B[38;5;124;43mreally cool\u001B[39;49m\u001B[38;5;124;43m'\u001B[39;49m\u001B[43m}\u001B[49m\u001B[43m)\u001B[49m\n",
      "\u001B[0;31mValueError\u001B[0m: unexpected '{' in field name"
     ]
    }
   ],
   "source": [
    "s1.format(me='me', treatment='X', treated=1, info={'X1': 'cool', 'X0': 'really cool'})"
   ],
   "metadata": {
    "collapsed": false,
    "ExecuteTime": {
     "end_time": "2023-11-24T16:04:17.244979739Z",
     "start_time": "2023-11-24T16:04:17.197722063Z"
    }
   },
   "id": "337e2d376652b8e1"
  },
  {
   "cell_type": "code",
   "execution_count": 76,
   "outputs": [],
   "source": [
    "\n",
    "\t"
   ],
   "metadata": {
    "collapsed": false,
    "ExecuteTime": {
     "end_time": "2023-11-24T17:07:53.881642791Z",
     "start_time": "2023-11-24T17:07:53.834545210Z"
    }
   },
   "id": "e61673846223c62e"
  },
  {
   "cell_type": "code",
   "execution_count": 78,
   "outputs": [
    {
     "data": {
      "text/plain": "([(8, 13, []),\n  (26, 54, [(27, 37, []), (38, 46, [])]),\n  (68, 100, [(74, 98, [(77, 87, []), (88, 96, [])])])],\n [57],\n [])"
     },
     "execution_count": 78,
     "metadata": {},
     "output_type": "execute_result"
    }
   ],
   "source": [
    "fields, opens, closes = parse_bracket_tree(s1)\n",
    "fields, opens, closes"
   ],
   "metadata": {
    "collapsed": false,
    "ExecuteTime": {
     "end_time": "2023-11-24T17:08:13.030212257Z",
     "start_time": "2023-11-24T17:08:12.969928453Z"
    }
   },
   "id": "dd9794d413eb7b4e"
  },
  {
   "cell_type": "code",
   "execution_count": 100,
   "outputs": [],
   "source": [
    "\n",
    "\n",
    "\t\t\t\t\t\t# for lit, fd, spec, conv in self.parse(field[1:]):\n",
    "\t\t\t\t\t\t# \tif escaped is not None:\n",
    "\t\t\t\t\t\t# \t\tlit = escaped + lit + '}'\n",
    "\t\t\t\t\t\t# \t\tescaped = ''\n",
    "\t\t\t\t\t\t# \tyield lit, fd, spec, conv\n",
    "\n",
    "import re\n",
    "\n",
    "class PowerFormatter(Formatter):\n",
    "\t# TODO: partial formatting - only format fields that are specified, and leave others as is\n",
    "\tdef get_field(self, field_name, args, kwargs):\n",
    "\t\treturn field_name\n",
    "\t\t# try:\n",
    "\t\t# \treturn super().get_field(field_name, args, kwargs)\n",
    "\t\t# except: # TODO: find the right exception\n",
    "\t\t# \treturn eval(self.vformat(field_name, args, kwargs), kwargs), field_name\n",
    "\t\t# \t# return f'{{{field_name}}}', field_name\n",
    "\t\n",
    "\t@staticmethod\n",
    "\tdef parse_bracket_tree(s):\n",
    "\t\t'''\n",
    "\t\tParses a string with bracket escapes into a tree of bracketed fields\n",
    "\t\t\n",
    "\t\tOutput: [(start, end, children), ...]\n",
    "\t\twhere start and end are the indices of the brackets, and children is a list of children nodes\n",
    "\t\tif children is None, then it's an escaped bracket\n",
    "\t\t'''\n",
    "\t\tstack = []\n",
    "\t\textra_closes = []\n",
    "\t\tpairs = []\n",
    "\t\tfor i, c in enumerate(s):\n",
    "\t\t\tif c == '{':\n",
    "\t\t\t\tstack.append(i)\n",
    "\t\t\telif c == '}':\n",
    "\t\t\t\tif len(stack):\n",
    "\t\t\t\t\tstart = stack.pop()\n",
    "\t\t\t\t\tpairs.append((start, i))\n",
    "\t\t\t\telse:\n",
    "\t\t\t\t\textra_closes.append(i)\n",
    "\t\t\n",
    "\t\t# remove unpaired double bracket escapes\n",
    "\t\tassert all(i+1 in stack or i-1 in stack for i in stack), f'Unbalanced opening brackets in {s!r} (remember to use double brackets to escape)'\n",
    "\t\tassert all(i+1 in extra_closes or i-1 in extra_closes for i in extra_closes), f'Unbalanced closing brackets in {s!r} (remember to use double brackets to escape)'\n",
    "\t\t\n",
    "\t\tescaped_nodes = ([(i, i+1, None) for i in stack if i+1 in stack] # escaped opening brackets\n",
    "\t\t\t\t\t\t + [(i, i+1, None) for i in extra_closes if i+1 in extra_closes]) # escaped closing brackets\n",
    "\t\tescaped_pairs = [(start, end) for start, end in pairs if (start-1, end+1) in pairs]\n",
    "\t\tfor start, end in escaped_pairs:\n",
    "\t\t\tpairs.remove((start-1, end+1))\n",
    "\t\t\tpairs.remove((start, end))\n",
    "\t\t\tescaped_nodes.append((start-1, start, None))\n",
    "\t\t\tescaped_nodes.append((end, end+1, None))\n",
    "\t\t\n",
    "\t\tif not len(pairs):\n",
    "\t\t\treturn sorted(escaped_nodes)\n",
    "\t\t\n",
    "\t\tdef build_interval_tree(remaining, lim=None):\n",
    "\t\t\tnodes = []\n",
    "\t\t\twhile remaining and (lim is None or remaining[-1][0] < lim):\n",
    "\t\t\t\tstart, end = remaining.pop()\n",
    "\t\t\t\tnodes.append((start, end, build_interval_tree(remaining, end)))\n",
    "\t\t\treturn nodes\n",
    "\t\ttree = build_interval_tree(sorted(pairs, reverse=True))\n",
    "\t\treturn sorted(escaped_nodes + tree)\n",
    "\t\t\n",
    "\t\n",
    "\t_style_suffix_pattern = r\"([^:!]+)((!r|!s|!a)?(:[<>=^]?[\\+\\- ]?#?0?\\d*,?\\d*\\.?\\d*[bcdeEfFgGnoxX%])?)$\"\n",
    "\tdef parse_field_content(self, content):\n",
    "\t\tmatch = re.match(self._style_suffix_pattern, content)\n",
    "\t\tif match:\n",
    "\t\t\tfield, style = match.group(1), match.group(2)\n",
    "\t\t\tif field.endswith('='):\n",
    "\t\t\t\tfield = field[:-1]\n",
    "\t\t\treturn field, style\n",
    "\t\tfield = content[:-1] if content.endswith('=') else content\n",
    "\t\tstyle = '=' if content.endswith('=') else None\n",
    "\t\treturn field, style\n",
    "\t\t\n",
    "\t\t\n",
    "\tdef emit_fields(self, s, start, end, children, fn):\n",
    "\t\tfor child in children:\n",
    "\t\t\tyield from self.emit_fields(s, *child, fn)\n",
    "\t\texpr, style = self.parse_field_content(s[start+1:end])\n",
    "\t\tyield fn(expr, style)\n",
    "\t\n",
    "\t\n",
    "\tdef evaluator(self, expr, style):\n",
    "\t\treturn (expr, style)\n",
    "\t\n",
    "\t\n",
    "\tdef viewer(self, expr, style):\n",
    "\t\treturn (expr, style)\n",
    "\n",
    "\n",
    "\tdef full_parse(self, s, fn=None):\n",
    "\t\tif fn is None:\n",
    "\t\t\tfn = self.evaluator\n",
    "\t\t\n",
    "\t\tnodes = self.parse_bracket_tree(s)\n",
    "\t\t\n",
    "\t\tidx = 0\n",
    "\t\tfor start, end, children in nodes:\n",
    "\t\t\tif children is None:\n",
    "\t\t\t\tif end > idx:\n",
    "\t\t\t\t\tliteral = s[idx:end-1]\n",
    "\t\t\t\t\tyield literal, None, '', None\n",
    "\t\t\t\t\tidx = end+1\n",
    "\t\t\telse:\n",
    "\t\t\t\tyield from self.emit_fields(s, start, end, children, fn)\n",
    "\t\t\t\tidx = end+1\n",
    "\t\n",
    "\n",
    "\tdef parse(self, s, fn=None):\n",
    "\t\tif fn is None:\n",
    "\t\t\tfn = self.evaluator\n",
    "\t\t\n",
    "\t\tnodes = self.parse_bracket_tree(s)\n",
    "\t\t\n",
    "\t\tidx = 0\n",
    "\t\tfor start, end, children in nodes:\n",
    "\t\t\tif children is None:\n",
    "\t\t\t\tif end > idx:\n",
    "\t\t\t\t\tliteral = s[idx:end-1]\n",
    "\t\t\t\t\tyield literal, None, '', None\n",
    "\t\t\t\t\tidx = end+1\n",
    "\t\t\t\n",
    "\t\t\telse:\n",
    "\t\t\t\t\n",
    "\t\t\t\t\n",
    "\t\t\t\tpass\n",
    "\t\t\t\n",
    "\t\t\t\n",
    "\t\t\t\n",
    "\t\t\tif idx < start:\n",
    "\t\t\t\tyield s[idx:start], None, '', None\n",
    "\t\t\tif children is None:\n",
    "\t\t\t\tyield s[start+1:end], None, '', None\n",
    "\t\t\telse:\n",
    "\t\t\t\tyield s[start+1:end], children, '', None\n",
    "\t\t\tidx = end+1\n",
    "\t\t\n",
    "\t\t\n",
    "\t\tpass"
   ],
   "metadata": {
    "collapsed": false,
    "ExecuteTime": {
     "end_time": "2023-11-24T18:21:23.401261940Z",
     "start_time": "2023-11-24T18:21:23.392342407Z"
    }
   },
   "id": "a4a7dc1366803687"
  },
  {
   "cell_type": "code",
   "execution_count": 101,
   "outputs": [],
   "source": [
    "pf = PowerFormatter()"
   ],
   "metadata": {
    "collapsed": false,
    "ExecuteTime": {
     "end_time": "2023-11-24T18:21:23.580700836Z",
     "start_time": "2023-11-24T18:21:23.556887607Z"
    }
   },
   "id": "fb2278caffc64bd7"
  },
  {
   "cell_type": "code",
   "execution_count": 102,
   "outputs": [
    {
     "data": {
      "text/plain": "[(\"'test'\", '')]"
     },
     "execution_count": 102,
     "metadata": {},
     "output_type": "execute_result"
    }
   ],
   "source": [
    "list(pf.full_parse('hello {\\'test\\'}', pf.viewer))"
   ],
   "metadata": {
    "collapsed": false,
    "ExecuteTime": {
     "end_time": "2023-11-24T18:21:23.924867438Z",
     "start_time": "2023-11-24T18:21:23.901600616Z"
    }
   },
   "id": "b15640331c85a9e6"
  },
  {
   "cell_type": "code",
   "execution_count": null,
   "outputs": [],
   "source": [],
   "metadata": {
    "collapsed": false
   },
   "id": "f6250082440898e6"
  },
  {
   "cell_type": "code",
   "execution_count": 114,
   "outputs": [
    {
     "data": {
      "text/plain": "[('hello ', \"'test'\", '', None), (' after', None, '', None)]"
     },
     "execution_count": 114,
     "metadata": {},
     "output_type": "execute_result"
    }
   ],
   "source": [
    "class PowerFormatter(Formatter):\n",
    "\tdef evaluate_expr(self, expr, style):\n",
    "\t\treturn (expr, style)\n",
    "\t\t\n",
    "\t\n",
    "\tdef parse(self, s):\n",
    "\t\tnodes = self.parse_bracket_tree(s)\n",
    "\t\t\n",
    "\t\tself.idx = 0\n",
    "\t\tfor start, end, children in nodes:\n",
    "\t\t\tif children is None:\n",
    "\t\t\t\tif end > self.idx:\n",
    "\t\t\t\t\tliteral = s[self.idx:end-1]\n",
    "\t\t\t\t\tyield literal, None, '', None\n",
    "\t\t\t\t\tself.idx = end+1\n",
    "\t\t\telse:\n",
    "\t\t\t\tyield from self.emit_fields(s, start, end, children)\n",
    "\t\t\t\tself.idx = end+1\n",
    "\t\n",
    "\t\tif self.idx < len(s):\n",
    "\t\t\tyield s[self.idx:], None, '', None\n",
    "\t\n",
    "\t\n",
    "\t@staticmethod\n",
    "\tdef parse_bracket_tree(s):\n",
    "\t\t'''\n",
    "\t\tParses a string with bracket escapes into a tree of bracketed fields\n",
    "\t\t\n",
    "\t\tOutput: [(start, end, children), ...]\n",
    "\t\twhere start and end are the indices of the brackets, and children is a list of children nodes\n",
    "\t\tif children is None, then it's an escaped bracket\n",
    "\t\t'''\n",
    "\t\tstack = []\n",
    "\t\textra_closes = []\n",
    "\t\tpairs = []\n",
    "\t\tfor i, c in enumerate(s):\n",
    "\t\t\tif c == '{':\n",
    "\t\t\t\tstack.append(i)\n",
    "\t\t\telif c == '}':\n",
    "\t\t\t\tif len(stack):\n",
    "\t\t\t\t\tstart = stack.pop()\n",
    "\t\t\t\t\tpairs.append((start, i))\n",
    "\t\t\t\telse:\n",
    "\t\t\t\t\textra_closes.append(i)\n",
    "\t\t\n",
    "\t\t# remove unpaired double bracket escapes\n",
    "\t\tassert all(i+1 in stack or i-1 in stack for i in stack), f'Unbalanced opening brackets in {s!r} (remember to use double brackets to escape)'\n",
    "\t\tassert all(i+1 in extra_closes or i-1 in extra_closes for i in extra_closes), f'Unbalanced closing brackets in {s!r} (remember to use double brackets to escape)'\n",
    "\t\t\n",
    "\t\tescaped_nodes = ([(i, i+1, None) for i in stack if i+1 in stack] # escaped opening brackets\n",
    "\t\t\t\t\t\t + [(i, i+1, None) for i in extra_closes if i+1 in extra_closes]) # escaped closing brackets\n",
    "\t\tescaped_pairs = [(start, end) for start, end in pairs if (start-1, end+1) in pairs]\n",
    "\t\tfor start, end in escaped_pairs:\n",
    "\t\t\tpairs.remove((start-1, end+1))\n",
    "\t\t\tpairs.remove((start, end))\n",
    "\t\t\tescaped_nodes.append((start-1, start, None))\n",
    "\t\t\tescaped_nodes.append((end, end+1, None))\n",
    "\t\t\n",
    "\t\tif not len(pairs):\n",
    "\t\t\treturn sorted(escaped_nodes)\n",
    "\t\t\n",
    "\t\tdef build_interval_tree(remaining, lim=None):\n",
    "\t\t\tnodes = []\n",
    "\t\t\twhile remaining and (lim is None or remaining[-1][0] < lim):\n",
    "\t\t\t\tstart, end = remaining.pop()\n",
    "\t\t\t\tnodes.append((start, end, build_interval_tree(remaining, end)))\n",
    "\t\t\treturn nodes\n",
    "\t\ttree = build_interval_tree(sorted(pairs, reverse=True))\n",
    "\t\treturn sorted(escaped_nodes + tree)\n",
    "\t\t\n",
    "\t\n",
    "\t_style_suffix_pattern = r\"([^:!]+)((!r|!s|!a)?(:[<>=^]?[\\+\\- ]?#?0?\\d*,?\\d*\\.?\\d*[bcdeEfFgGnoxX%])?)$\"\n",
    "\tdef parse_field(self, field):\n",
    "\t\tmatch = re.match(self._style_suffix_pattern, field)\n",
    "\t\tif match:\n",
    "\t\t\tcontent, style = match.group(1), match.group(2)\n",
    "\t\t\tif content.endswith('='):\n",
    "\t\t\t\tcontent = content[:-1]\n",
    "\t\t\treturn content, style\n",
    "\t\tcontent = field[:-1] if field.endswith('=') else field\n",
    "\t\tstyle = '=' if field.endswith('=') else None\n",
    "\t\treturn content, style\n",
    "\t\t\n",
    "\t\t\n",
    "\tdef emit_fields(self, s, start, end, children):\n",
    "\t\tfor child in children:\n",
    "\t\t\tyield from self.emit_fields(s, *child)\n",
    "\t\tcontent, style = self.parse_field(s[start+1:end])\n",
    "\t\tyield s[self.idx:start], content, style, None\n",
    "\t\n",
    "\t\n",
    "\tdef format_field(self, value, format_spec):\n",
    "\t\tprint(f'formatting {value!r} with {format_spec!r}')\n",
    "\t\treturn value\n",
    "\t\t\n",
    "\t\n",
    "\tdef get_field(self, field_name, args, kwargs):\n",
    "\t\tprint(f'getting {field_name!r} from {args!r} and {kwargs!r}')\n",
    "\t\treturn field_name, field_name\n",
    "\t\n",
    "\t\n",
    "\tdef evaluator(self, expr, style):\n",
    "\t\treturn (expr, style)\n",
    "\t\n",
    "\t\n",
    "\tdef viewer(self, expr, style):\n",
    "\t\treturn (expr, style)\n",
    "\t\n",
    "pf = PowerFormatter()\n",
    "list(pf.parse('hello {\\'test\\'} after'))"
   ],
   "metadata": {
    "collapsed": false,
    "ExecuteTime": {
     "end_time": "2023-11-24T18:46:04.035594013Z",
     "start_time": "2023-11-24T18:46:03.978254206Z"
    }
   },
   "id": "94bfd907f2ded687"
  },
  {
   "cell_type": "code",
   "execution_count": 115,
   "outputs": [
    {
     "name": "stdout",
     "output_type": "stream",
     "text": [
      "getting \"'test'\" from () and {}\n",
      "formatting \"'test'\" with ''\n"
     ]
    },
    {
     "data": {
      "text/plain": "\"  hello 'test' after\""
     },
     "execution_count": 115,
     "metadata": {},
     "output_type": "execute_result"
    }
   ],
   "source": [
    "pf.format(' }} hello {\\'test\\'} after')"
   ],
   "metadata": {
    "collapsed": false,
    "ExecuteTime": {
     "end_time": "2023-11-24T18:46:04.822949172Z",
     "start_time": "2023-11-24T18:46:04.804701755Z"
    }
   },
   "id": "6fd6a01271f5491c"
  },
  {
   "cell_type": "code",
   "execution_count": null,
   "outputs": [],
   "source": [],
   "metadata": {
    "collapsed": false
   },
   "id": "5be6486adff2d437"
  },
  {
   "cell_type": "code",
   "execution_count": null,
   "outputs": [],
   "source": [],
   "metadata": {
    "collapsed": false
   },
   "id": "3fa33a28847b337a"
  },
  {
   "cell_type": "code",
   "execution_count": null,
   "outputs": [],
   "source": [],
   "metadata": {
    "collapsed": false
   },
   "id": "b0175b460ac28b59"
  },
  {
   "cell_type": "code",
   "execution_count": 85,
   "outputs": [
    {
     "data": {
      "text/plain": "('test!r', None)"
     },
     "execution_count": 85,
     "metadata": {},
     "output_type": "execute_result"
    }
   ],
   "source": [
    "pf.parse_field_content('test!r')"
   ],
   "metadata": {
    "collapsed": false,
    "ExecuteTime": {
     "end_time": "2023-11-24T17:57:17.642267991Z",
     "start_time": "2023-11-24T17:57:17.611137567Z"
    }
   },
   "id": "7ce2e05f226c6dc7"
  },
  {
   "cell_type": "code",
   "execution_count": 86,
   "outputs": [],
   "source": [
    "t = 'test!r'\n",
    "pattern = r'^(=)?(.!(s|r|a))?:(.*)((<|>|=|\\^)[-+ ]?(\\d+)?(\\.\\d+)?([bcdeEfFgGnosxX%]))?$'\n",
    "match = re.match(pattern, t)"
   ],
   "metadata": {
    "collapsed": false,
    "ExecuteTime": {
     "end_time": "2023-11-24T17:59:23.073340475Z",
     "start_time": "2023-11-24T17:59:23.025960778Z"
    }
   },
   "id": "3ba523f57ba6cb7f"
  },
  {
   "cell_type": "code",
   "execution_count": 91,
   "outputs": [
    {
     "name": "stdout",
     "output_type": "stream",
     "text": [
      "('test', '!r')\n"
     ]
    }
   ],
   "source": [
    "def extract_formatting_info_strict_v3(s):\n",
    "    # Further refined regular expression to handle cases like \"test=\" and \"test!r\"\n",
    "    pattern = r\"([^:!]+)((!r|!s|!a)?(:[<>=^]?[\\+\\- ]?#?0?\\d*,?\\d*\\.?\\d*[bcdeEfFgGnoxX%])?)$\"\n",
    "    match = re.match(pattern, s)\n",
    "    if match:\n",
    "        field_name, format_specifier = match.group(1), match.group(2)\n",
    "\t\tif field_name.endswith('='):\n",
    "\t\t\tfield_name = field_name[:-1]\n",
    "        return (field_name, format_specifier) if format_specifier else (field_name, None)\n",
    "    else:\n",
    "\t\tif s.endswith('='):\n",
    "\t\t\ts = s[:-1]\n",
    "\t\t\t\n",
    "        return (s, None)\n",
    "\n",
    "\n",
    "# Example usage\n",
    "t = 'test!r'\n",
    "print(extract_formatting_info_strict_v3(t))"
   ],
   "metadata": {
    "collapsed": false,
    "ExecuteTime": {
     "end_time": "2023-11-24T18:13:39.388173152Z",
     "start_time": "2023-11-24T18:13:39.338405689Z"
    }
   },
   "id": "a612777b8605e044"
  },
  {
   "cell_type": "code",
   "execution_count": 87,
   "outputs": [],
   "source": [
    "match"
   ],
   "metadata": {
    "collapsed": false,
    "ExecuteTime": {
     "end_time": "2023-11-24T17:59:25.405280553Z",
     "start_time": "2023-11-24T17:59:25.391470669Z"
    }
   },
   "id": "238fb74112265b1c"
  },
  {
   "cell_type": "code",
   "execution_count": null,
   "outputs": [],
   "source": [],
   "metadata": {
    "collapsed": false
   },
   "id": "2816ad1314bda061"
  },
  {
   "cell_type": "code",
   "execution_count": 75,
   "outputs": [
    {
     "data": {
      "text/plain": "[(8, 13, []),\n (26, 54, [(27, 37, []), (38, 46, [])]),\n (68, 100, [(74, 98, [(77, 87, []), (88, 96, [])])])]"
     },
     "execution_count": 75,
     "metadata": {},
     "output_type": "execute_result"
    }
   ],
   "source": [
    "\n",
    "\t\n",
    "# Example usage\n",
    "intervals = [(8, 13), (26, 54), (27, 37), (38, 46), (68, 100), (74, 98), (77, 87), (88, 96)]\n",
    "interval_tree = build_interval_tree(sorted(intervals, reverse=True))\n",
    "interval_tree\n"
   ],
   "metadata": {
    "collapsed": false,
    "ExecuteTime": {
     "end_time": "2023-11-24T17:06:48.311896200Z",
     "start_time": "2023-11-24T17:06:48.263280461Z"
    }
   },
   "id": "72370c5f77ed9b9d"
  },
  {
   "cell_type": "code",
   "execution_count": 41,
   "outputs": [
    {
     "data": {
      "text/plain": "'nested brackets} and some {escaped ones}'"
     },
     "execution_count": 41,
     "metadata": {},
     "output_type": "execute_result"
    }
   ],
   "source": [
    "def parse_brackets_advanced_v3(s):\n",
    "    stack = [[]]  # Stack to keep track of nesting levels\n",
    "    current = []  # Current string buffer\n",
    "    i = 0  # Index for manual traversal\n",
    "\n",
    "    while i < len(s):\n",
    "        char = s[i]\n",
    "\n",
    "        if char == '{':\n",
    "            # Check for escaped opening bracket\n",
    "            if i + 1 < len(s) and s[i + 1] == '{':\n",
    "                # It's an escaped opening bracket, treat as literal\n",
    "                current.append('{')\n",
    "                i += 2\n",
    "            else:\n",
    "                # Start of a new level, push current buffer to stack and reset it\n",
    "                stack.append(current)\n",
    "                current = []\n",
    "                i += 1\n",
    "        elif char == '}':\n",
    "            # Check for escaped closing bracket\n",
    "            if i + 1 < len(s) and s[i + 1] == '}':\n",
    "                # It's an escaped closing bracket, treat as literal\n",
    "                current.append('}')\n",
    "                i += 2\n",
    "            else:\n",
    "                # End of current level, pop from stack and append current buffer to it\n",
    "                if len(stack) > 1:\n",
    "                    nested = ''.join(current)\n",
    "                    current = stack.pop()\n",
    "                    current.append(nested)\n",
    "                    i += 1\n",
    "                else:\n",
    "                    # Unbalanced closing bracket, treat it as regular text\n",
    "                    current.append('}')\n",
    "                    i += 1\n",
    "        else:\n",
    "            # Regular text, add it to current buffer\n",
    "            current.append(char)\n",
    "            i += 1\n",
    "\n",
    "    # Joining the remaining text, if any\n",
    "    return ''.join(current)  # Return the last buffer, which is the root level\n",
    "\n",
    "# Test the function again\n",
    "test_string = \"This is a {test string with {nested {brackets}} and some {{escaped ones}}}\"\n",
    "parsed_text_advanced_v3 = parse_brackets_advanced_v3(test_string)\n",
    "parsed_text_advanced_v3\n",
    "\n"
   ],
   "metadata": {
    "collapsed": false,
    "ExecuteTime": {
     "end_time": "2023-11-24T15:51:08.101341147Z",
     "start_time": "2023-11-24T15:51:08.060359478Z"
    }
   },
   "id": "31b5412a8383ce1d"
  },
  {
   "cell_type": "code",
   "execution_count": null,
   "outputs": [],
   "source": [],
   "metadata": {
    "collapsed": false
   },
   "id": "40500f65ec79c260"
  },
  {
   "cell_type": "code",
   "execution_count": null,
   "outputs": [],
   "source": [],
   "metadata": {
    "collapsed": false
   },
   "id": "e600fe3dcd182e4"
  },
  {
   "cell_type": "code",
   "execution_count": null,
   "outputs": [],
   "source": [],
   "metadata": {
    "collapsed": false
   },
   "id": "35b77901397e398"
  },
  {
   "cell_type": "code",
   "execution_count": null,
   "outputs": [],
   "source": [],
   "metadata": {
    "collapsed": false
   },
   "id": "d7652d417a9b3caf"
  }
 ],
 "metadata": {
  "kernelspec": {
   "display_name": "Python 3",
   "language": "python",
   "name": "python3"
  },
  "language_info": {
   "codemirror_mode": {
    "name": "ipython",
    "version": 2
   },
   "file_extension": ".py",
   "mimetype": "text/x-python",
   "name": "python",
   "nbconvert_exporter": "python",
   "pygments_lexer": "ipython2",
   "version": "2.7.6"
  }
 },
 "nbformat": 4,
 "nbformat_minor": 5
}

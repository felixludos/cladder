{
 "cells": [
  {
   "cell_type": "code",
   "execution_count": 1,
   "id": "initial_id",
   "metadata": {
    "collapsed": true,
    "ExecuteTime": {
     "end_time": "2023-10-27T15:48:37.771348800Z",
     "start_time": "2023-10-27T15:48:36.992277100Z"
    }
   },
   "outputs": [],
   "source": [
    "from omnibelt import load_yaml\n",
    "from pathlib import Path"
   ]
  },
  {
   "cell_type": "code",
   "execution_count": 7,
   "outputs": [
    {
     "data": {
      "text/plain": "(WindowsPath('C:/Users/anwan/OneDrive/Khan/research/cladder/assets/anticommonsense.yml'),\n True)"
     },
     "execution_count": 7,
     "metadata": {},
     "output_type": "execute_result"
    }
   ],
   "source": [
    "path = Path().absolute().parent / 'assets' / 'anticommonsense.yml'\n",
    "path, path.exists()"
   ],
   "metadata": {
    "collapsed": false,
    "ExecuteTime": {
     "end_time": "2023-10-27T15:49:37.600392400Z",
     "start_time": "2023-10-27T15:49:37.584466400Z"
    }
   },
   "id": "69d8f78ac0956209"
  },
  {
   "cell_type": "code",
   "execution_count": 8,
   "outputs": [],
   "source": [
    "raw = load_yaml(path)"
   ],
   "metadata": {
    "collapsed": false,
    "ExecuteTime": {
     "end_time": "2023-10-27T15:49:51.687255400Z",
     "start_time": "2023-10-27T15:49:51.606696700Z"
    }
   },
   "id": "bcbb0deb4cacba26"
  },
  {
   "cell_type": "code",
   "execution_count": 16,
   "outputs": [
    {
     "data": {
      "text/plain": "10"
     },
     "execution_count": 16,
     "metadata": {},
     "output_type": "execute_result"
    }
   ],
   "source": [
    "changes_x = {v for options in raw['subjects']['Y'].values() for v in options}\n",
    "len(changes_x)"
   ],
   "metadata": {
    "collapsed": false,
    "ExecuteTime": {
     "end_time": "2023-10-27T15:53:43.280847400Z",
     "start_time": "2023-10-27T15:53:43.233802500Z"
    }
   },
   "id": "de2839ce0ccdaeb9"
  },
  {
   "cell_type": "code",
   "execution_count": 17,
   "outputs": [
    {
     "name": "stdout",
     "output_type": "stream",
     "text": [
      "``lip thickness'', ``earthquakes'', ``lactose intolerance'', ``rainfall'', ``is allergic to peanuts'', ``brown eyes'', ``curly hair'', ``black hair'', ``foot size'', ``freckles''\n"
     ]
    }
   ],
   "source": [
    "print(', '.join(f\"``{x}''\" for x in changes_x))"
   ],
   "metadata": {
    "collapsed": false,
    "ExecuteTime": {
     "end_time": "2023-10-27T15:53:43.578987400Z",
     "start_time": "2023-10-27T15:53:43.547756300Z"
    }
   },
   "id": "437dacf71efe4e53"
  },
  {
   "cell_type": "code",
   "execution_count": null,
   "outputs": [],
   "source": [],
   "metadata": {
    "collapsed": false
   },
   "id": "c9ea84569bab56fb"
  },
  {
   "cell_type": "code",
   "execution_count": null,
   "outputs": [],
   "source": [],
   "metadata": {
    "collapsed": false
   },
   "id": "e8c87b3977900dd2"
  }
 ],
 "metadata": {
  "kernelspec": {
   "display_name": "Python 3",
   "language": "python",
   "name": "python3"
  },
  "language_info": {
   "codemirror_mode": {
    "name": "ipython",
    "version": 2
   },
   "file_extension": ".py",
   "mimetype": "text/x-python",
   "name": "python",
   "nbconvert_exporter": "python",
   "pygments_lexer": "ipython2",
   "version": "2.7.6"
  }
 },
 "nbformat": 4,
 "nbformat_minor": 5
}

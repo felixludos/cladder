{
 "cells": [
  {
   "cell_type": "code",
   "execution_count": 1,
   "metadata": {
    "collapsed": true,
    "ExecuteTime": {
     "end_time": "2023-08-22T10:47:46.486136921Z",
     "start_time": "2023-08-22T10:47:45.697144477Z"
    }
   },
   "outputs": [],
   "source": [
    "\n",
    "from pathlib import Path\n",
    "import numpy as np\n",
    "import random\n",
    "from collections import Counter\n",
    "from omnibelt import load_json\n"
   ]
  },
  {
   "cell_type": "code",
   "execution_count": 2,
   "outputs": [
    {
     "data": {
      "text/plain": "(10112, 7064)"
     },
     "execution_count": 2,
     "metadata": {},
     "output_type": "execute_result"
    }
   ],
   "source": [
    "\n",
    "root = Path('../data/backup')\n",
    "path = root / 'cladder-v1-q-aggregate.json'\n",
    "path = root / 'cladder-v1-q-commonsense.json'\n",
    "path = root / 'cladder-v1-q-balanced.json'\n",
    "# path = '../data/cladder-v1-common-easy.json'\n",
    "full = load_json(path)\n",
    "full_ids = {entry['question_id']: entry for entry in full}\n",
    "models = load_json(root / 'cladder-v1-meta-models.json')\n",
    "model_table = {info['model_id']: info for info in models}\n",
    "len(full), len(models)"
   ],
   "metadata": {
    "collapsed": false,
    "ExecuteTime": {
     "end_time": "2023-08-22T10:47:47.047947050Z",
     "start_time": "2023-08-22T10:47:46.404038326Z"
    }
   }
  },
  {
   "cell_type": "code",
   "execution_count": 3,
   "outputs": [],
   "source": [
    "# models[1]"
   ],
   "metadata": {
    "collapsed": false,
    "ExecuteTime": {
     "end_time": "2023-08-22T10:47:48.020466180Z",
     "start_time": "2023-08-22T10:47:47.983705061Z"
    }
   }
  },
  {
   "cell_type": "code",
   "execution_count": 4,
   "outputs": [
    {
     "data": {
      "text/plain": "{'question_id': 25722,\n 'desc_id': 'nonsense1-mediation-nde-model6194-spec0-q1',\n 'given_info': 'For those who are not kwox and are not swoq, the probability of kwoz is 24%. For those who are not kwox and are swoq, the probability of kwoz is 15%. For those who are kwox and are not swoq, the probability of kwoz is 8%. For those who are kwox and are swoq, the probability of kwoz is 51%. For those who are not kwox, the probability of swoq is 12%. For those who are kwox, the probability of swoq is 50%.',\n 'question': 'If we disregard the mediation effect through swoq, would kwox negatively affect kwoz?',\n 'answer': 'yes',\n 'meta': {'story_id': 'nonsense1',\n  'graph_id': 'mediation',\n  'mediators': ['V2'],\n  'polarity': False,\n  'groundtruth': -0.10102520089737221,\n  'query_type': 'nde',\n  'rung': 3,\n  'formal_form': 'E[Y_{X=1, V2=0} - Y_{X=0, V2=0}]',\n  'given_info': {'p(Y | X, V2)': [[0.2437127161150832, 0.154040346732467],\n    [0.07985903371822341, 0.5100300185877629]],\n   'p(V2 | X)': [0.12086041109416945, 0.5022908043360607]},\n  'estimand': '\\\\sum_{V2=v} P(V2=v|X=0)*[P(Y=1|X=1,V2=v) - P(Y=1|X=0, V2=v)]',\n  'treatment': 'X',\n  'outcome': 'Y',\n  'model_id': 6194},\n 'reasoning': {'step0': 'Let X = kwox; V2 = swoq; Y = kwoz.',\n  'step1': 'X->V2,X->Y,V2->Y',\n  'step2': 'E[Y_{X=1, V2=0} - Y_{X=0, V2=0}]',\n  'step3': '\\\\sum_{V2=v} P(V2=v|X=0)*[P(Y=1|X=1,V2=v) - P(Y=1|X=0, V2=v)]',\n  'step4': 'P(Y=1 | X=0, V2=0) = 0.24\\nP(Y=1 | X=0, V2=1) = 0.15\\nP(Y=1 | X=1, V2=0) = 0.08\\nP(Y=1 | X=1, V2=1) = 0.51\\nP(V2=1 | X=0) = 0.12\\nP(V2=1 | X=1) = 0.50',\n  'step5': '0.12 * (0.51 - 0.08) + 0.50 * (0.15 - 0.24) = -0.10',\n  'end': '-0.10 < 0'}}"
     },
     "execution_count": 4,
     "metadata": {},
     "output_type": "execute_result"
    }
   ],
   "source": [
    "full[8003]"
   ],
   "metadata": {
    "collapsed": false,
    "ExecuteTime": {
     "end_time": "2023-08-22T10:47:48.509608731Z",
     "start_time": "2023-08-22T10:47:48.490320664Z"
    }
   }
  },
  {
   "cell_type": "code",
   "execution_count": 5,
   "outputs": [
    {
     "data": {
      "text/plain": "dict_keys([3, 2, 1])"
     },
     "execution_count": 5,
     "metadata": {},
     "output_type": "execute_result"
    }
   ],
   "source": [
    "key = 'rung'\n",
    "vocabs = {}\n",
    "for entry in full:\n",
    "\tvocabs.setdefault(entry['meta'][key], []).extend(entry['question'].split())\n",
    "\tvocabs.setdefault(entry['meta'][key], []).extend(entry['given_info'].split())\n",
    "\tmodel = models[entry['meta']['model_id']]\n",
    "\tvocabs.setdefault(entry['meta'][key], []).extend(model['background'].split())\n",
    "def _cleanup(w):\n",
    "\tw = w.lower()\n",
    "\tw = w.replace('?', '').replace('.', '').replace(',', '').replace('\\'', '').replace('\\\"', '').replace('%', '').replace(':', '')\n",
    "\t# check if it's a number\n",
    "\t# try:\n",
    "\t# \tfloat(w)\n",
    "\t# \treturn 'NUM'\n",
    "\t# except:\n",
    "\t# \tpass\n",
    "\treturn w\n",
    "vocabs = {k: [_cleanup(w) for w in v] for k, v in vocabs.items()}\n",
    "vocabs = {k: Counter(v) for k, v in vocabs.items()}\n",
    "vocabs.keys()"
   ],
   "metadata": {
    "collapsed": false,
    "ExecuteTime": {
     "end_time": "2023-08-22T10:48:14.507214913Z",
     "start_time": "2023-08-22T10:48:13.996261803Z"
    }
   }
  },
  {
   "cell_type": "code",
   "execution_count": 6,
   "outputs": [],
   "source": [
    "# vocabs"
   ],
   "metadata": {
    "collapsed": false,
    "ExecuteTime": {
     "end_time": "2023-08-03T17:25:14.654117003Z",
     "start_time": "2023-08-03T17:25:14.651524178Z"
    }
   }
  },
  {
   "cell_type": "code",
   "execution_count": 8,
   "outputs": [
    {
     "data": {
      "text/plain": "{3: 479, 2: 400, 1: 405}"
     },
     "execution_count": 8,
     "metadata": {},
     "output_type": "execute_result"
    }
   ],
   "source": [
    "{k: len(v) for k, v in vocabs.items()}"
   ],
   "metadata": {
    "collapsed": false,
    "ExecuteTime": {
     "end_time": "2023-08-03T17:25:17.349414117Z",
     "start_time": "2023-08-03T17:25:17.339736314Z"
    }
   }
  },
  {
   "cell_type": "code",
   "execution_count": 10,
   "outputs": [
    {
     "name": "stdout",
     "output_type": "stream",
     "text": [
      "[8538, 7664, 4252, 2618, 5170, 4094, 7925, 3067, 4819, 5899, 9182, 5103, 2849, 7642, 6252, 2533, 9199, 9937, 8192, 9122, 3136, 7380, 9089, 6916, 4774, 1018, 4390, 6177, 9232, 9774, 4823, 8750, 2634, 8140, 5548, 141, 7277, 4032, 8340, 6756, 11, 4991, 8773, 2466, 3288, 8802, 1932, 5738, 2412, 9783]\n"
     ]
    }
   ],
   "source": [
    "random.seed(0)\n",
    "indices = random.choices(list(range(len(full))), k=50)\n",
    "print(indices)\n",
    "assert len(set(indices)) == len(indices)"
   ],
   "metadata": {
    "collapsed": false,
    "ExecuteTime": {
     "end_time": "2023-08-03T17:25:37.583458412Z",
     "start_time": "2023-08-03T17:25:37.581180612Z"
    }
   }
  },
  {
   "cell_type": "code",
   "execution_count": 7,
   "outputs": [],
   "source": [
    "# for i, ind in enumerate(indices):\n",
    "# \tentry = full[ind]\n",
    "# \tmodel = models[entry['meta']['model_id']]\n",
    "# \tprint(i+1)\n",
    "# \tprint(model['background'])\n",
    "# \tprint(entry['given_info'])\n",
    "# \tprint(entry['question'])\n",
    "# \t# print(entry['answer'])\n",
    "# \tprint()"
   ],
   "metadata": {
    "collapsed": false,
    "ExecuteTime": {
     "end_time": "2023-08-22T10:50:09.120868412Z",
     "start_time": "2023-08-22T10:50:09.099624507Z"
    }
   }
  },
  {
   "cell_type": "code",
   "execution_count": 13,
   "outputs": [
    {
     "data": {
      "text/plain": "0.37994462025316456"
     },
     "execution_count": 13,
     "metadata": {},
     "output_type": "execute_result"
    }
   ],
   "source": [
    "len([e for e in full if e['desc_id'].startswith('nonse')])/len(full)"
   ],
   "metadata": {
    "collapsed": false,
    "ExecuteTime": {
     "end_time": "2023-08-03T17:25:48.512217938Z",
     "start_time": "2023-08-03T17:25:48.504397746Z"
    }
   }
  },
  {
   "cell_type": "markdown",
   "source": [
    "# Calculate Correlations"
   ],
   "metadata": {
    "collapsed": false
   }
  },
  {
   "cell_type": "code",
   "execution_count": 48,
   "outputs": [],
   "source": [
    "from nltk import bigrams, FreqDist\n",
    "from nltk.tokenize import word_tokenize\n",
    "from collections import defaultdict, Counter\n",
    "import math\n",
    "import numpy as np\n",
    "import matplotlib.pyplot as plt\n",
    "import seaborn as sns"
   ],
   "metadata": {
    "collapsed": false,
    "ExecuteTime": {
     "end_time": "2023-08-22T11:25:05.257066671Z",
     "start_time": "2023-08-22T11:25:05.231876588Z"
    }
   }
  },
  {
   "cell_type": "code",
   "execution_count": 77,
   "outputs": [
    {
     "data": {
      "text/plain": "10112"
     },
     "execution_count": 77,
     "metadata": {},
     "output_type": "execute_result"
    }
   ],
   "source": [
    "text = []\n",
    "answers = []\n",
    "for entry in full:\n",
    "\tmodel = models[entry['meta']['model_id']]\n",
    "\tprompt = f'{model[\"background\"]}\\n{entry[\"given_info\"]}\\n{entry[\"question\"]}'\n",
    "\ttext.append(prompt)\n",
    "\tanswers.append(entry['answer'])\n",
    "len(text)"
   ],
   "metadata": {
    "collapsed": false,
    "ExecuteTime": {
     "end_time": "2023-08-22T11:55:26.933631180Z",
     "start_time": "2023-08-22T11:55:26.895926930Z"
    }
   }
  },
  {
   "cell_type": "code",
   "execution_count": 344,
   "outputs": [],
   "source": [
    "ngram_scores = {}\n",
    "ngram_occs = {}"
   ],
   "metadata": {
    "collapsed": false,
    "ExecuteTime": {
     "end_time": "2023-08-22T14:05:35.159528806Z",
     "start_time": "2023-08-22T14:05:35.118830375Z"
    }
   }
  },
  {
   "cell_type": "code",
   "execution_count": 385,
   "outputs": [],
   "source": [
    "ngram_n = 5"
   ],
   "metadata": {
    "collapsed": false,
    "ExecuteTime": {
     "end_time": "2023-08-22T14:08:14.845961600Z",
     "start_time": "2023-08-22T14:08:14.776428543Z"
    }
   }
  },
  {
   "cell_type": "code",
   "execution_count": 386,
   "outputs": [
    {
     "data": {
      "text/plain": "(10112, 10112)"
     },
     "execution_count": 386,
     "metadata": {},
     "output_type": "execute_result"
    }
   ],
   "source": [
    "grams = []\n",
    "for prompt in text:\n",
    "\twords = [_cleanup(w) for w in prompt.split()]\n",
    "\tgrams.append([tuple(words[i:i+ngram_n]) for i in range(len(words)-ngram_n+1)])\n",
    "len(grams), len(answers)"
   ],
   "metadata": {
    "collapsed": false,
    "ExecuteTime": {
     "end_time": "2023-08-22T14:08:15.490261199Z",
     "start_time": "2023-08-22T14:08:14.865718801Z"
    }
   }
  },
  {
   "cell_type": "code",
   "execution_count": 387,
   "outputs": [],
   "source": [
    "\n",
    "# Initialize a dictionary to store n-gram frequencies per label\n",
    "ngram_label_freq = defaultdict(lambda: defaultdict(int))\n",
    "\n",
    "# Populate the dictionary\n",
    "for a, entry_grams in zip(answers, grams):\n",
    "    for g in entry_grams:\n",
    "        ngram_label_freq[g][a] += 1"
   ],
   "metadata": {
    "collapsed": false,
    "ExecuteTime": {
     "end_time": "2023-08-22T14:08:16.017070872Z",
     "start_time": "2023-08-22T14:08:15.465838632Z"
    }
   }
  },
  {
   "cell_type": "code",
   "execution_count": 388,
   "outputs": [],
   "source": [
    "ngram_freq = Counter([g for entry_grams in grams for g in entry_grams])\n",
    "label_freq = Counter(answers)"
   ],
   "metadata": {
    "collapsed": false,
    "ExecuteTime": {
     "end_time": "2023-08-22T14:08:16.019746415Z",
     "start_time": "2023-08-22T14:08:15.941512196Z"
    }
   }
  },
  {
   "cell_type": "code",
   "execution_count": 389,
   "outputs": [],
   "source": [
    "pmi = defaultdict(lambda: defaultdict(float))\n",
    "\n",
    "for ngram, label_freqs in ngram_label_freq.items():\n",
    "    for label, freq in label_freqs.items():\n",
    "        p_x_y = freq / len(grams)\n",
    "        p_x = ngram_freq[ngram] / len(grams)\n",
    "        p_y = label_freq[label] / len(grams)\n",
    "        \n",
    "        pmi[ngram][label] = math.log(p_x_y,2) -  math.log(p_x,2) - math.log(p_y,2)\n"
   ],
   "metadata": {
    "collapsed": false,
    "ExecuteTime": {
     "end_time": "2023-08-22T14:08:16.216736299Z",
     "start_time": "2023-08-22T14:08:15.951133376Z"
    }
   }
  },
  {
   "cell_type": "code",
   "execution_count": 390,
   "outputs": [],
   "source": [
    "# pmi"
   ],
   "metadata": {
    "collapsed": false,
    "ExecuteTime": {
     "end_time": "2023-08-22T14:08:16.216939612Z",
     "start_time": "2023-08-22T14:08:16.114557950Z"
    }
   }
  },
  {
   "cell_type": "code",
   "execution_count": 391,
   "outputs": [],
   "source": [
    "npmi = defaultdict(lambda: defaultdict(float))\n",
    "\n",
    "for ngram, label_pmis in pmi.items():\n",
    "    for label, pmival in label_pmis.items():\n",
    "        p_x_y = ngram_label_freq[ngram][label] / len(text)\n",
    "        \n",
    "        # Calculate the self-information\n",
    "        self_info = -math.log(p_x_y, 2)\n",
    "        \n",
    "        # Check for division by zero (this shouldn't happen if PMI is properly computed)\n",
    "        if self_info != 0:\n",
    "            npmi[ngram][label] = pmival / self_info\n",
    "        else:\n",
    "            npmi[ngram][label] = 0\n"
   ],
   "metadata": {
    "collapsed": false,
    "ExecuteTime": {
     "end_time": "2023-08-22T14:08:16.368359778Z",
     "start_time": "2023-08-22T14:08:16.116342515Z"
    }
   }
  },
  {
   "cell_type": "code",
   "execution_count": 392,
   "outputs": [
    {
     "data": {
      "text/plain": "0.019309477179876525"
     },
     "execution_count": 392,
     "metadata": {},
     "output_type": "execute_result"
    }
   ],
   "source": [
    "score = 0.\n",
    "norma = 0.\n",
    "\n",
    "max_pmis = {}\n",
    "\n",
    "for ngram, freqs in npmi.items():\n",
    "\tcount = ngram_freq[ngram]\n",
    "\tif len(freqs) and count > 0:# and count > 1:\n",
    "\t\tmax_abs_pmi = max([abs(pmi_score) for pmi_score in freqs.values()])\n",
    "\t\t# max_abs_pmi = sum([abs(pmi_score) for pmi_score in freqs.values()])\n",
    "\t\tscore += max_abs_pmi * count\n",
    "\t\tnorma += count\n",
    "\t\tmax_pmis[ngram] = max_abs_pmi\n",
    "\n",
    "score /= norma\n",
    "\n",
    "average_occ = sum(ngram_freq.values()) / len(ngram_freq)\n",
    "ngram_occs[ngram_n] = average_occ\n",
    "ngram_scores[ngram_n] = score\n",
    "score"
   ],
   "metadata": {
    "collapsed": false,
    "ExecuteTime": {
     "end_time": "2023-08-22T14:08:16.442239798Z",
     "start_time": "2023-08-22T14:08:16.389991604Z"
    }
   }
  },
  {
   "cell_type": "code",
   "execution_count": 393,
   "outputs": [
    {
     "data": {
      "text/plain": "{1: 0.00591444560268105,\n 2: 0.007920002964845959,\n 3: 0.011753763635829516,\n 4: 0.015873142168216794,\n 5: 0.019309477179876525}"
     },
     "execution_count": 393,
     "metadata": {},
     "output_type": "execute_result"
    }
   ],
   "source": [
    "ngram_scores"
   ],
   "metadata": {
    "collapsed": false,
    "ExecuteTime": {
     "end_time": "2023-08-22T14:08:16.960156272Z",
     "start_time": "2023-08-22T14:08:16.892366173Z"
    }
   }
  },
  {
   "cell_type": "code",
   "execution_count": 395,
   "outputs": [
    {
     "data": {
      "text/plain": "{1: 1380.6289855072464,\n 2: 189.64225352112675,\n 3: 46.65782626100881,\n 4: 22.66199813258637,\n 5: 14.685201880352889}"
     },
     "execution_count": 395,
     "metadata": {},
     "output_type": "execute_result"
    }
   ],
   "source": [
    "ngram_occs"
   ],
   "metadata": {
    "collapsed": false,
    "ExecuteTime": {
     "end_time": "2023-08-22T14:08:27.961884130Z",
     "start_time": "2023-08-22T14:08:27.924730622Z"
    }
   }
  },
  {
   "cell_type": "code",
   "execution_count": 394,
   "outputs": [
    {
     "data": {
      "text/plain": "<Figure size 640x480 with 1 Axes>",
      "image/png": "[encoded data removed]"
     },
     "metadata": {},
     "output_type": "display_data"
    }
   ],
   "source": [
    "# plot occurence and max_pmi\n",
    "\n",
    "order = list(max_pmis)\n",
    "occ = [ngram_freq[ngram] for ngram in order]\n",
    "mpmi = [max_pmis[ngram] for ngram in order]\n",
    "\n",
    "sns.scatterplot(x=occ, y=mpmi);\n",
    "plt.xscale('log')\n",
    "plt.title(f'NPMI Magnitude for {ngram_n}-grams in CLadder (balanced)')\n",
    "plt.xlabel(f'Occurrence of {ngram_n}-gram in the Dataset')\n",
    "plt.ylabel('Normalized PMI Magnitude');\n",
    "plt.savefig(f'npmi_{ngram_n}.png');"
   ],
   "metadata": {
    "collapsed": false,
    "ExecuteTime": {
     "end_time": "2023-08-22T14:08:18.839550023Z",
     "start_time": "2023-08-22T14:08:17.955846402Z"
    }
   }
  },
  {
   "cell_type": "code",
   "execution_count": 332,
   "outputs": [
    {
     "data": {
      "text/plain": "0"
     },
     "execution_count": 332,
     "metadata": {},
     "output_type": "execute_result"
    }
   ],
   "source": [
    "gold = [i for i, (o, m) in enumerate(zip(occ, mpmi)) if o < 5 and 0.001 < m < 0.05]\n",
    "len(gold)"
   ],
   "metadata": {
    "collapsed": false,
    "ExecuteTime": {
     "end_time": "2023-08-22T14:03:10.877448661Z",
     "start_time": "2023-08-22T14:03:10.843461034Z"
    }
   }
  },
  {
   "cell_type": "code",
   "execution_count": 332,
   "outputs": [],
   "source": [],
   "metadata": {
    "collapsed": false,
    "ExecuteTime": {
     "end_time": "2023-08-22T14:03:13.933143644Z",
     "start_time": "2023-08-22T14:03:13.897832252Z"
    }
   }
  },
  {
   "cell_type": "code",
   "execution_count": 340,
   "outputs": [
    {
     "name": "stdout",
     "output_type": "stream",
     "text": [
      "('allergy', 'case', 'by')\n",
      "{'no': -0.2110193316619615, 'yes': 0.09299730096955017}\n",
      "{'no': 1, 'yes': 13}\n"
     ]
    }
   ],
   "source": [
    "# ind = random.choice(gold)\n",
    "inds = np.argsort(mpmi)\n",
    "ind = inds[-10]\n",
    "print(order[ind])\n",
    "print(dict(npmi[order[ind]]))\n",
    "print(dict(ngram_label_freq[order[ind]]))"
   ],
   "metadata": {
    "collapsed": false,
    "ExecuteTime": {
     "end_time": "2023-08-22T14:04:04.942321236Z",
     "start_time": "2023-08-22T14:04:04.876872739Z"
    }
   }
  },
  {
   "cell_type": "code",
   "execution_count": null,
   "outputs": [],
   "source": [],
   "metadata": {
    "collapsed": false
   }
  },
  {
   "cell_type": "code",
   "execution_count": null,
   "outputs": [],
   "source": [],
   "metadata": {
    "collapsed": false
   }
  },
  {
   "cell_type": "code",
   "execution_count": 46,
   "outputs": [],
   "source": [
    "raw_vals = [v for label_freqs in pmi.values() for v in label_freqs.values()]"
   ],
   "metadata": {
    "collapsed": false,
    "ExecuteTime": {
     "end_time": "2023-08-22T11:24:06.086721099Z",
     "start_time": "2023-08-22T11:24:05.991087425Z"
    }
   }
  },
  {
   "cell_type": "code",
   "execution_count": 47,
   "outputs": [
    {
     "name": "stderr",
     "output_type": "stream",
     "text": [
      "/is/ei/fleeb/miniconda3/envs/py10/lib/python3.10/site-packages/seaborn/axisgrid.py:118: UserWarning: The figure layout has changed to tight\n",
      "  self._figure.tight_layout(*args, **kwargs)\n"
     ]
    },
    {
     "data": {
      "text/plain": "<Figure size 500x500 with 1 Axes>",
      "image/png": "[encoded data removed]"
     },
     "metadata": {},
     "output_type": "display_data"
    }
   ],
   "source": [
    "sns.displot(raw_vals, kde=False);"
   ],
   "metadata": {
    "collapsed": false,
    "ExecuteTime": {
     "end_time": "2023-08-22T11:24:07.284205227Z",
     "start_time": "2023-08-22T11:24:07.038827462Z"
    }
   }
  },
  {
   "cell_type": "code",
   "execution_count": null,
   "outputs": [],
   "source": [],
   "metadata": {
    "collapsed": false
   }
  },
  {
   "cell_type": "code",
   "execution_count": null,
   "outputs": [],
   "source": [],
   "metadata": {
    "collapsed": false
   }
  },
  {
   "cell_type": "code",
   "execution_count": null,
   "outputs": [],
   "source": [],
   "metadata": {
    "collapsed": false
   }
  },
  {
   "cell_type": "code",
   "execution_count": null,
   "outputs": [],
   "source": [],
   "metadata": {
    "collapsed": false
   }
  },
  {
   "cell_type": "code",
   "execution_count": 16,
   "outputs": [
    {
     "ename": "LookupError",
     "evalue": "\n**********************************************************************\n  Resource \u001B[93mpunkt\u001B[0m not found.\n  Please use the NLTK Downloader to obtain the resource:\n\n  \u001B[31m>>> import nltk\n  >>> nltk.download('punkt')\n  \u001B[0m\n  For more information see: https://www.nltk.org/data.html\n\n  Attempted to load \u001B[93mtokenizers/punkt/PY3/english.pickle\u001B[0m\n\n  Searched in:\n    - '/is/ei/fleeb/nltk_data'\n    - '/is/ei/fleeb/miniconda3/envs/py10/nltk_data'\n    - '/is/ei/fleeb/miniconda3/envs/py10/share/nltk_data'\n    - '/is/ei/fleeb/miniconda3/envs/py10/lib/nltk_data'\n    - '/usr/share/nltk_data'\n    - '/usr/local/share/nltk_data'\n    - '/usr/lib/nltk_data'\n    - '/usr/local/lib/nltk_data'\n    - ''\n**********************************************************************\n",
     "output_type": "error",
     "traceback": [
      "\u001B[0;31m---------------------------------------------------------------------------\u001B[0m",
      "\u001B[0;31mLookupError\u001B[0m                               Traceback (most recent call last)",
      "Cell \u001B[0;32mIn[16], line 6\u001B[0m\n\u001B[1;32m      3\u001B[0m labels \u001B[38;5;241m=\u001B[39m [\u001B[38;5;241m1\u001B[39m, \u001B[38;5;241m1\u001B[39m, \u001B[38;5;241m0\u001B[39m, \u001B[38;5;241m0\u001B[39m]  \u001B[38;5;66;03m# 1 for positive, 0 for negative\u001B[39;00m\n\u001B[1;32m      5\u001B[0m \u001B[38;5;66;03m# Extract bi-grams\u001B[39;00m\n\u001B[0;32m----> 6\u001B[0m bi_grams_list \u001B[38;5;241m=\u001B[39m [bigrams(word_tokenize(text)) \u001B[38;5;28;01mfor\u001B[39;00m text \u001B[38;5;129;01min\u001B[39;00m texts]\n\u001B[1;32m      7\u001B[0m flat_bi_grams \u001B[38;5;241m=\u001B[39m [item \u001B[38;5;28;01mfor\u001B[39;00m sublist \u001B[38;5;129;01min\u001B[39;00m bi_grams_list \u001B[38;5;28;01mfor\u001B[39;00m item \u001B[38;5;129;01min\u001B[39;00m sublist]\n\u001B[1;32m      9\u001B[0m \u001B[38;5;66;03m# Compute frequency distribution\u001B[39;00m\n",
      "Cell \u001B[0;32mIn[16], line 6\u001B[0m, in \u001B[0;36m<listcomp>\u001B[0;34m(.0)\u001B[0m\n\u001B[1;32m      3\u001B[0m labels \u001B[38;5;241m=\u001B[39m [\u001B[38;5;241m1\u001B[39m, \u001B[38;5;241m1\u001B[39m, \u001B[38;5;241m0\u001B[39m, \u001B[38;5;241m0\u001B[39m]  \u001B[38;5;66;03m# 1 for positive, 0 for negative\u001B[39;00m\n\u001B[1;32m      5\u001B[0m \u001B[38;5;66;03m# Extract bi-grams\u001B[39;00m\n\u001B[0;32m----> 6\u001B[0m bi_grams_list \u001B[38;5;241m=\u001B[39m [bigrams(\u001B[43mword_tokenize\u001B[49m\u001B[43m(\u001B[49m\u001B[43mtext\u001B[49m\u001B[43m)\u001B[49m) \u001B[38;5;28;01mfor\u001B[39;00m text \u001B[38;5;129;01min\u001B[39;00m texts]\n\u001B[1;32m      7\u001B[0m flat_bi_grams \u001B[38;5;241m=\u001B[39m [item \u001B[38;5;28;01mfor\u001B[39;00m sublist \u001B[38;5;129;01min\u001B[39;00m bi_grams_list \u001B[38;5;28;01mfor\u001B[39;00m item \u001B[38;5;129;01min\u001B[39;00m sublist]\n\u001B[1;32m      9\u001B[0m \u001B[38;5;66;03m# Compute frequency distribution\u001B[39;00m\n",
      "File \u001B[0;32m~/miniconda3/envs/py10/lib/python3.10/site-packages/nltk/tokenize/__init__.py:129\u001B[0m, in \u001B[0;36mword_tokenize\u001B[0;34m(text, language, preserve_line)\u001B[0m\n\u001B[1;32m    114\u001B[0m \u001B[38;5;28;01mdef\u001B[39;00m \u001B[38;5;21mword_tokenize\u001B[39m(text, language\u001B[38;5;241m=\u001B[39m\u001B[38;5;124m\"\u001B[39m\u001B[38;5;124menglish\u001B[39m\u001B[38;5;124m\"\u001B[39m, preserve_line\u001B[38;5;241m=\u001B[39m\u001B[38;5;28;01mFalse\u001B[39;00m):\n\u001B[1;32m    115\u001B[0m \u001B[38;5;250m    \u001B[39m\u001B[38;5;124;03m\"\"\"\u001B[39;00m\n\u001B[1;32m    116\u001B[0m \u001B[38;5;124;03m    Return a tokenized copy of *text*,\u001B[39;00m\n\u001B[1;32m    117\u001B[0m \u001B[38;5;124;03m    using NLTK's recommended word tokenizer\u001B[39;00m\n\u001B[0;32m   (...)\u001B[0m\n\u001B[1;32m    127\u001B[0m \u001B[38;5;124;03m    :type preserve_line: bool\u001B[39;00m\n\u001B[1;32m    128\u001B[0m \u001B[38;5;124;03m    \"\"\"\u001B[39;00m\n\u001B[0;32m--> 129\u001B[0m     sentences \u001B[38;5;241m=\u001B[39m [text] \u001B[38;5;28;01mif\u001B[39;00m preserve_line \u001B[38;5;28;01melse\u001B[39;00m \u001B[43msent_tokenize\u001B[49m\u001B[43m(\u001B[49m\u001B[43mtext\u001B[49m\u001B[43m,\u001B[49m\u001B[43m \u001B[49m\u001B[43mlanguage\u001B[49m\u001B[43m)\u001B[49m\n\u001B[1;32m    130\u001B[0m     \u001B[38;5;28;01mreturn\u001B[39;00m [\n\u001B[1;32m    131\u001B[0m         token \u001B[38;5;28;01mfor\u001B[39;00m sent \u001B[38;5;129;01min\u001B[39;00m sentences \u001B[38;5;28;01mfor\u001B[39;00m token \u001B[38;5;129;01min\u001B[39;00m _treebank_word_tokenizer\u001B[38;5;241m.\u001B[39mtokenize(sent)\n\u001B[1;32m    132\u001B[0m     ]\n",
      "File \u001B[0;32m~/miniconda3/envs/py10/lib/python3.10/site-packages/nltk/tokenize/__init__.py:106\u001B[0m, in \u001B[0;36msent_tokenize\u001B[0;34m(text, language)\u001B[0m\n\u001B[1;32m     96\u001B[0m \u001B[38;5;28;01mdef\u001B[39;00m \u001B[38;5;21msent_tokenize\u001B[39m(text, language\u001B[38;5;241m=\u001B[39m\u001B[38;5;124m\"\u001B[39m\u001B[38;5;124menglish\u001B[39m\u001B[38;5;124m\"\u001B[39m):\n\u001B[1;32m     97\u001B[0m \u001B[38;5;250m    \u001B[39m\u001B[38;5;124;03m\"\"\"\u001B[39;00m\n\u001B[1;32m     98\u001B[0m \u001B[38;5;124;03m    Return a sentence-tokenized copy of *text*,\u001B[39;00m\n\u001B[1;32m     99\u001B[0m \u001B[38;5;124;03m    using NLTK's recommended sentence tokenizer\u001B[39;00m\n\u001B[0;32m   (...)\u001B[0m\n\u001B[1;32m    104\u001B[0m \u001B[38;5;124;03m    :param language: the model name in the Punkt corpus\u001B[39;00m\n\u001B[1;32m    105\u001B[0m \u001B[38;5;124;03m    \"\"\"\u001B[39;00m\n\u001B[0;32m--> 106\u001B[0m     tokenizer \u001B[38;5;241m=\u001B[39m \u001B[43mload\u001B[49m\u001B[43m(\u001B[49m\u001B[38;5;124;43mf\u001B[39;49m\u001B[38;5;124;43m\"\u001B[39;49m\u001B[38;5;124;43mtokenizers/punkt/\u001B[39;49m\u001B[38;5;132;43;01m{\u001B[39;49;00m\u001B[43mlanguage\u001B[49m\u001B[38;5;132;43;01m}\u001B[39;49;00m\u001B[38;5;124;43m.pickle\u001B[39;49m\u001B[38;5;124;43m\"\u001B[39;49m\u001B[43m)\u001B[49m\n\u001B[1;32m    107\u001B[0m     \u001B[38;5;28;01mreturn\u001B[39;00m tokenizer\u001B[38;5;241m.\u001B[39mtokenize(text)\n",
      "File \u001B[0;32m~/miniconda3/envs/py10/lib/python3.10/site-packages/nltk/data.py:750\u001B[0m, in \u001B[0;36mload\u001B[0;34m(resource_url, format, cache, verbose, logic_parser, fstruct_reader, encoding)\u001B[0m\n\u001B[1;32m    747\u001B[0m     \u001B[38;5;28mprint\u001B[39m(\u001B[38;5;124mf\u001B[39m\u001B[38;5;124m\"\u001B[39m\u001B[38;5;124m<<Loading \u001B[39m\u001B[38;5;132;01m{\u001B[39;00mresource_url\u001B[38;5;132;01m}\u001B[39;00m\u001B[38;5;124m>>\u001B[39m\u001B[38;5;124m\"\u001B[39m)\n\u001B[1;32m    749\u001B[0m \u001B[38;5;66;03m# Load the resource.\u001B[39;00m\n\u001B[0;32m--> 750\u001B[0m opened_resource \u001B[38;5;241m=\u001B[39m \u001B[43m_open\u001B[49m\u001B[43m(\u001B[49m\u001B[43mresource_url\u001B[49m\u001B[43m)\u001B[49m\n\u001B[1;32m    752\u001B[0m \u001B[38;5;28;01mif\u001B[39;00m \u001B[38;5;28mformat\u001B[39m \u001B[38;5;241m==\u001B[39m \u001B[38;5;124m\"\u001B[39m\u001B[38;5;124mraw\u001B[39m\u001B[38;5;124m\"\u001B[39m:\n\u001B[1;32m    753\u001B[0m     resource_val \u001B[38;5;241m=\u001B[39m opened_resource\u001B[38;5;241m.\u001B[39mread()\n",
      "File \u001B[0;32m~/miniconda3/envs/py10/lib/python3.10/site-packages/nltk/data.py:876\u001B[0m, in \u001B[0;36m_open\u001B[0;34m(resource_url)\u001B[0m\n\u001B[1;32m    873\u001B[0m protocol, path_ \u001B[38;5;241m=\u001B[39m split_resource_url(resource_url)\n\u001B[1;32m    875\u001B[0m \u001B[38;5;28;01mif\u001B[39;00m protocol \u001B[38;5;129;01mis\u001B[39;00m \u001B[38;5;28;01mNone\u001B[39;00m \u001B[38;5;129;01mor\u001B[39;00m protocol\u001B[38;5;241m.\u001B[39mlower() \u001B[38;5;241m==\u001B[39m \u001B[38;5;124m\"\u001B[39m\u001B[38;5;124mnltk\u001B[39m\u001B[38;5;124m\"\u001B[39m:\n\u001B[0;32m--> 876\u001B[0m     \u001B[38;5;28;01mreturn\u001B[39;00m \u001B[43mfind\u001B[49m\u001B[43m(\u001B[49m\u001B[43mpath_\u001B[49m\u001B[43m,\u001B[49m\u001B[43m \u001B[49m\u001B[43mpath\u001B[49m\u001B[43m \u001B[49m\u001B[38;5;241;43m+\u001B[39;49m\u001B[43m \u001B[49m\u001B[43m[\u001B[49m\u001B[38;5;124;43m\"\u001B[39;49m\u001B[38;5;124;43m\"\u001B[39;49m\u001B[43m]\u001B[49m\u001B[43m)\u001B[49m\u001B[38;5;241m.\u001B[39mopen()\n\u001B[1;32m    877\u001B[0m \u001B[38;5;28;01melif\u001B[39;00m protocol\u001B[38;5;241m.\u001B[39mlower() \u001B[38;5;241m==\u001B[39m \u001B[38;5;124m\"\u001B[39m\u001B[38;5;124mfile\u001B[39m\u001B[38;5;124m\"\u001B[39m:\n\u001B[1;32m    878\u001B[0m     \u001B[38;5;66;03m# urllib might not use mode='rb', so handle this one ourselves:\u001B[39;00m\n\u001B[1;32m    879\u001B[0m     \u001B[38;5;28;01mreturn\u001B[39;00m find(path_, [\u001B[38;5;124m\"\u001B[39m\u001B[38;5;124m\"\u001B[39m])\u001B[38;5;241m.\u001B[39mopen()\n",
      "File \u001B[0;32m~/miniconda3/envs/py10/lib/python3.10/site-packages/nltk/data.py:583\u001B[0m, in \u001B[0;36mfind\u001B[0;34m(resource_name, paths)\u001B[0m\n\u001B[1;32m    581\u001B[0m sep \u001B[38;5;241m=\u001B[39m \u001B[38;5;124m\"\u001B[39m\u001B[38;5;124m*\u001B[39m\u001B[38;5;124m\"\u001B[39m \u001B[38;5;241m*\u001B[39m \u001B[38;5;241m70\u001B[39m\n\u001B[1;32m    582\u001B[0m resource_not_found \u001B[38;5;241m=\u001B[39m \u001B[38;5;124mf\u001B[39m\u001B[38;5;124m\"\u001B[39m\u001B[38;5;130;01m\\n\u001B[39;00m\u001B[38;5;132;01m{\u001B[39;00msep\u001B[38;5;132;01m}\u001B[39;00m\u001B[38;5;130;01m\\n\u001B[39;00m\u001B[38;5;132;01m{\u001B[39;00mmsg\u001B[38;5;132;01m}\u001B[39;00m\u001B[38;5;130;01m\\n\u001B[39;00m\u001B[38;5;132;01m{\u001B[39;00msep\u001B[38;5;132;01m}\u001B[39;00m\u001B[38;5;130;01m\\n\u001B[39;00m\u001B[38;5;124m\"\u001B[39m\n\u001B[0;32m--> 583\u001B[0m \u001B[38;5;28;01mraise\u001B[39;00m \u001B[38;5;167;01mLookupError\u001B[39;00m(resource_not_found)\n",
      "\u001B[0;31mLookupError\u001B[0m: \n**********************************************************************\n  Resource \u001B[93mpunkt\u001B[0m not found.\n  Please use the NLTK Downloader to obtain the resource:\n\n  \u001B[31m>>> import nltk\n  >>> nltk.download('punkt')\n  \u001B[0m\n  For more information see: https://www.nltk.org/data.html\n\n  Attempted to load \u001B[93mtokenizers/punkt/PY3/english.pickle\u001B[0m\n\n  Searched in:\n    - '/is/ei/fleeb/nltk_data'\n    - '/is/ei/fleeb/miniconda3/envs/py10/nltk_data'\n    - '/is/ei/fleeb/miniconda3/envs/py10/share/nltk_data'\n    - '/is/ei/fleeb/miniconda3/envs/py10/lib/nltk_data'\n    - '/usr/share/nltk_data'\n    - '/usr/local/share/nltk_data'\n    - '/usr/lib/nltk_data'\n    - '/usr/local/lib/nltk_data'\n    - ''\n**********************************************************************\n"
     ]
    }
   ],
   "source": [
    "\n",
    "# Sample text and labels\n",
    "texts = [\"I love machine learning\", \"Machine learning is fun\", \"I hate math\", \"Math is challenging\"]\n",
    "labels = [1, 1, 0, 0]  # 1 for positive, 0 for negative\n",
    "\n",
    "# Extract bi-grams\n",
    "bi_grams_list = [bigrams(word_tokenize(text)) for text in texts]\n",
    "flat_bi_grams = [item for sublist in bi_grams_list for item in sublist]\n",
    "\n",
    "# Compute frequency distribution\n",
    "freq_dist = FreqDist(flat_bi_grams)\n",
    "print(freq_dist)\n"
   ],
   "metadata": {
    "collapsed": false,
    "ExecuteTime": {
     "end_time": "2023-08-22T11:05:47.268117140Z",
     "start_time": "2023-08-22T11:05:46.704579722Z"
    }
   }
  },
  {
   "cell_type": "code",
   "execution_count": null,
   "outputs": [],
   "source": [],
   "metadata": {
    "collapsed": false
   }
  },
  {
   "cell_type": "code",
   "execution_count": null,
   "outputs": [],
   "source": [],
   "metadata": {
    "collapsed": false
   }
  },
  {
   "cell_type": "code",
   "execution_count": null,
   "outputs": [],
   "source": [],
   "metadata": {
    "collapsed": false
   }
  },
  {
   "cell_type": "markdown",
   "source": [
    "# Count grammar mistakes"
   ],
   "metadata": {
    "collapsed": false
   }
  },
  {
   "cell_type": "code",
   "execution_count": 29,
   "outputs": [],
   "source": [
    "\n",
    "from tqdm.notebook import tqdm\n",
    "from efficiency.function import avg\n",
    "import language_tool_python\n",
    "\n",
    "grammar_tool = language_tool_python.LanguageTool('en-US')\n",
    "def count_grammar_mistakes(text):\n",
    "   matches = grammar_tool.check(text)\n",
    "   return len(matches)"
   ],
   "metadata": {
    "collapsed": false,
    "ExecuteTime": {
     "end_time": "2023-08-09T11:03:36.215420154Z",
     "start_time": "2023-08-09T11:03:24.774980826Z"
    }
   }
  },
  {
   "cell_type": "code",
   "execution_count": 38,
   "outputs": [],
   "source": [
    "\n",
    "from pathlib import Path\n",
    "import numpy as np\n",
    "import random\n",
    "from collections import Counter\n",
    "from omnibelt import load_json, save_json"
   ],
   "metadata": {
    "collapsed": false,
    "ExecuteTime": {
     "end_time": "2023-08-09T11:10:02.937300761Z",
     "start_time": "2023-08-09T11:10:02.926740106Z"
    }
   }
  },
  {
   "cell_type": "code",
   "execution_count": 31,
   "outputs": [
    {
     "data": {
      "text/plain": "(10112, 7064)"
     },
     "execution_count": 31,
     "metadata": {},
     "output_type": "execute_result"
    }
   ],
   "source": [
    "root = Path('../data/backup')\n",
    "path = root / 'cladder-v1-q-aggregate.json'\n",
    "path = root / 'cladder-v1-q-commonsense.json'\n",
    "path = root / 'cladder-v1-q-balanced.json'\n",
    "# path = '../data/cladder-v1-common-easy.json'\n",
    "full = load_json(path)\n",
    "full_ids = {entry['question_id']: entry for entry in full}\n",
    "models = load_json(root / 'cladder-v1-meta-models.json')\n",
    "model_table = {info['model_id']: info for info in models}\n",
    "len(full), len(models)"
   ],
   "metadata": {
    "collapsed": false,
    "ExecuteTime": {
     "end_time": "2023-08-09T11:03:45.060902663Z",
     "start_time": "2023-08-09T11:03:44.673563910Z"
    }
   }
  },
  {
   "cell_type": "code",
   "execution_count": 32,
   "outputs": [],
   "source": [
    "for entry in full:\n",
    "\tmodel = models[entry['meta']['model_id']]\n",
    "\tentry['nonsense'] = model.get('nonsense', False)\n",
    "\tentry['anticommonsense'] = 'anticommonsense' in model\n",
    "\tentry['background'] = model['background']"
   ],
   "metadata": {
    "collapsed": false,
    "ExecuteTime": {
     "end_time": "2023-08-09T11:03:47.144949661Z",
     "start_time": "2023-08-09T11:03:47.128118206Z"
    }
   }
  },
  {
   "cell_type": "code",
   "execution_count": 48,
   "outputs": [],
   "source": [
    "byID = {entry['question_id']: entry for entry in full}"
   ],
   "metadata": {
    "collapsed": false,
    "ExecuteTime": {
     "end_time": "2023-08-09T11:16:30.372482122Z",
     "start_time": "2023-08-09T11:16:30.284664698Z"
    }
   }
  },
  {
   "cell_type": "code",
   "execution_count": 33,
   "outputs": [
    {
     "data": {
      "text/plain": "6270"
     },
     "execution_count": 33,
     "metadata": {},
     "output_type": "execute_result"
    }
   ],
   "source": [
    "sensical = [e for e in full if not e['nonsense']]\n",
    "len(sensical)"
   ],
   "metadata": {
    "collapsed": false,
    "ExecuteTime": {
     "end_time": "2023-08-09T11:03:50.568272390Z",
     "start_time": "2023-08-09T11:03:50.561986772Z"
    }
   }
  },
  {
   "cell_type": "code",
   "execution_count": 43,
   "outputs": [
    {
     "data": {
      "text/plain": "1"
     },
     "execution_count": 43,
     "metadata": {},
     "output_type": "execute_result"
    }
   ],
   "source": [
    "mistakes = {}\n",
    "mistake_path = root / 'grammar-mistakes.json'\n",
    "if mistake_path.exists():\n",
    "\tmistakes = load_json(mistake_path)\n",
    "len(mistakes)"
   ],
   "metadata": {
    "collapsed": false,
    "ExecuteTime": {
     "end_time": "2023-08-09T11:12:22.597471103Z",
     "start_time": "2023-08-09T11:12:22.592013120Z"
    }
   }
  },
  {
   "cell_type": "code",
   "execution_count": 53,
   "outputs": [
    {
     "data": {
      "text/plain": "6270"
     },
     "execution_count": 53,
     "metadata": {},
     "output_type": "execute_result"
    }
   ],
   "source": [
    "all_prompts = [f'{models[entry[\"meta\"][\"model_id\"]][\"background\"]}\\n{entry[\"given_info\"]}\\n{entry[\"question\"]}' for entry in sensical]\n",
    "len(all_prompts)"
   ],
   "metadata": {
    "collapsed": false,
    "ExecuteTime": {
     "end_time": "2023-08-09T11:22:22.673546939Z",
     "start_time": "2023-08-09T11:22:22.642557441Z"
    }
   }
  },
  {
   "cell_type": "code",
   "execution_count": 45,
   "outputs": [
    {
     "data": {
      "text/plain": "  0%|          | 0/6270 [00:00<?, ?it/s]",
      "application/vnd.jupyter.widget-view+json": {
       "version_major": 2,
       "version_minor": 0,
       "model_id": "e4845d233f8b4f6d97d34e5c7c10447c"
      }
     },
     "metadata": {},
     "output_type": "display_data"
    }
   ],
   "source": [
    "total = 0\n",
    "n = 0\n",
    "bar = tqdm(sensical)\n",
    "for entry in bar:\n",
    "\tn += 1\n",
    "\tif entry['question_id'] in mistakes:\n",
    "\t\ttotal += mistakes[entry['question_id']]\n",
    "\t\tcontinue\n",
    "\tmodel = models[entry['meta']['model_id']]\n",
    "\tprompt = f'{model[\"background\"]}\\n{entry[\"given_info\"]}\\n{entry[\"question\"]}'\n",
    "\tcnt = count_grammar_mistakes(prompt)\n",
    "\ttotal += cnt\n",
    "\tbar.set_description(f'{total/n:.2f}')\n",
    "\tmistakes[entry['question_id']] = cnt"
   ],
   "metadata": {
    "collapsed": false,
    "ExecuteTime": {
     "end_time": "2023-08-09T11:16:30.241368272Z",
     "start_time": "2023-08-09T11:12:38.602474207Z"
    }
   }
  },
  {
   "cell_type": "code",
   "execution_count": 46,
   "outputs": [
    {
     "name": "stdout",
     "output_type": "stream",
     "text": [
      "7808/6271 = 1.25\n"
     ]
    }
   ],
   "source": [
    "print(f'{sum(mistakes.values()):d}/{len(mistakes):d} = {sum(mistakes.values())/len(mistakes):.2f}')"
   ],
   "metadata": {
    "collapsed": false,
    "ExecuteTime": {
     "end_time": "2023-08-09T11:16:30.246222139Z",
     "start_time": "2023-08-09T11:16:30.242842908Z"
    }
   }
  },
  {
   "cell_type": "code",
   "execution_count": 47,
   "outputs": [],
   "source": [
    "save_json(mistakes, mistake_path)"
   ],
   "metadata": {
    "collapsed": false,
    "ExecuteTime": {
     "end_time": "2023-08-09T11:16:30.303601346Z",
     "start_time": "2023-08-09T11:16:30.247094258Z"
    }
   }
  },
  {
   "cell_type": "code",
   "execution_count": 50,
   "outputs": [
    {
     "name": "stdout",
     "output_type": "stream",
     "text": [
      "3413/3142 = 1.09\n"
     ]
    }
   ],
   "source": [
    "common_mistakes = {k: v for k, v in mistakes.items() if not byID[int(k)].get('anticommonsense', False) and not byID[int(k)].get('nonsense', False)}\n",
    "print(f'{sum(common_mistakes.values()):d}/{len(common_mistakes):d} = {sum(common_mistakes.values())/len(common_mistakes):.2f}')"
   ],
   "metadata": {
    "collapsed": false,
    "ExecuteTime": {
     "end_time": "2023-08-09T11:18:34.527809376Z",
     "start_time": "2023-08-09T11:18:34.525066784Z"
    }
   }
  },
  {
   "cell_type": "code",
   "execution_count": 51,
   "outputs": [
    {
     "name": "stdout",
     "output_type": "stream",
     "text": [
      "4395/3129 = 1.40\n"
     ]
    }
   ],
   "source": [
    "anti_mistakes = {k: v for k, v in mistakes.items() if byID[int(k)].get('anticommonsense', False)}\n",
    "print(f'{sum(anti_mistakes.values()):d}/{len(anti_mistakes):d} = {sum(anti_mistakes.values())/len(anti_mistakes):.2f}')"
   ],
   "metadata": {
    "collapsed": false,
    "ExecuteTime": {
     "end_time": "2023-08-09T11:18:53.089735923Z",
     "start_time": "2023-08-09T11:18:53.086435925Z"
    }
   }
  },
  {
   "cell_type": "code",
   "execution_count": 54,
   "outputs": [
    {
     "data": {
      "text/plain": "620425"
     },
     "execution_count": 54,
     "metadata": {},
     "output_type": "execute_result"
    }
   ],
   "source": [
    "wordcount = [len(prompt.split()) for prompt in all_prompts]\n",
    "sum(wordcount)"
   ],
   "metadata": {
    "collapsed": false,
    "ExecuteTime": {
     "end_time": "2023-08-09T11:22:52.597314644Z",
     "start_time": "2023-08-09T11:22:52.568196490Z"
    }
   }
  },
  {
   "cell_type": "code",
   "execution_count": 58,
   "outputs": [
    {
     "data": {
      "text/plain": "1.2584921626304548"
     },
     "execution_count": 58,
     "metadata": {},
     "output_type": "execute_result"
    }
   ],
   "source": [
    "sum(mistakes.values())/sum(wordcount)*100"
   ],
   "metadata": {
    "collapsed": false,
    "ExecuteTime": {
     "end_time": "2023-08-09T11:23:35.690926064Z",
     "start_time": "2023-08-09T11:23:35.686181116Z"
    }
   }
  },
  {
   "cell_type": "code",
   "execution_count": 59,
   "outputs": [
    {
     "data": {
      "text/plain": "98.95135566188198"
     },
     "execution_count": 59,
     "metadata": {},
     "output_type": "execute_result"
    }
   ],
   "source": [
    "sum(wordcount)/len(wordcount)"
   ],
   "metadata": {
    "collapsed": false,
    "ExecuteTime": {
     "end_time": "2023-08-09T11:24:04.616774132Z",
     "start_time": "2023-08-09T11:24:04.607302517Z"
    }
   }
  },
  {
   "cell_type": "code",
   "execution_count": null,
   "outputs": [],
   "source": [],
   "metadata": {
    "collapsed": false
   }
  },
  {
   "cell_type": "code",
   "execution_count": 18,
   "outputs": [],
   "source": [
    "entry = sensical[0]\n",
    "model = models[entry['meta']['model_id']]"
   ],
   "metadata": {
    "collapsed": false,
    "ExecuteTime": {
     "end_time": "2023-08-09T10:58:23.977139610Z",
     "start_time": "2023-08-09T10:58:23.931695052Z"
    }
   }
  },
  {
   "cell_type": "code",
   "execution_count": 19,
   "outputs": [],
   "source": [
    "prompt = f'{model[\"background\"]}\\n{entry[\"given_info\"]}\\n{entry[\"question\"]}'"
   ],
   "metadata": {
    "collapsed": false,
    "ExecuteTime": {
     "end_time": "2023-08-09T10:58:24.771477651Z",
     "start_time": "2023-08-09T10:58:24.758073567Z"
    }
   }
  },
  {
   "cell_type": "code",
   "execution_count": 23,
   "outputs": [
    {
     "data": {
      "text/plain": "4"
     },
     "execution_count": 23,
     "metadata": {},
     "output_type": "execute_result"
    }
   ],
   "source": [
    "cnt = count_grammar_mistakes(prompt)\n",
    "cnt"
   ],
   "metadata": {
    "collapsed": false,
    "ExecuteTime": {
     "end_time": "2023-08-09T11:00:14.008515211Z",
     "start_time": "2023-08-09T11:00:11.604875972Z"
    }
   }
  },
  {
   "cell_type": "code",
   "execution_count": null,
   "outputs": [],
   "source": [],
   "metadata": {
    "collapsed": false
   }
  },
  {
   "cell_type": "code",
   "execution_count": 24,
   "outputs": [
    {
     "name": "stdout",
     "output_type": "stream",
     "text": [
      "Imagine a self-contained, hypothetical world with only the following conditions, and without any unmentioned factors or causal relationships: Husband has a direct effect on wife and alarm clock. Wife has a direct effect on alarm clock.\n",
      "For husbands that don't set the alarm and wives that don't set the alarm, the probability of ringing alarm is 8%. For husbands that don't set the alarm and wives that set the alarm, the probability of ringing alarm is 54%. For husbands that set the alarm and wives that don't set the alarm, the probability of ringing alarm is 41%. For husbands that set the alarm and wives that set the alarm, the probability of ringing alarm is 86%. For husbands that don't set the alarm, the probability of alarm set by wife is 74%. For husbands that set the alarm, the probability of alarm set by wife is 24%.\n",
      "If we disregard the mediation effect through wife, would husband positively affect alarm clock?\n"
     ]
    }
   ],
   "source": [
    "print(prompt)"
   ],
   "metadata": {
    "collapsed": false,
    "ExecuteTime": {
     "end_time": "2023-08-09T11:00:15.215014408Z",
     "start_time": "2023-08-09T11:00:15.210900433Z"
    }
   }
  },
  {
   "cell_type": "code",
   "execution_count": 28,
   "outputs": [
    {
     "data": {
      "text/plain": "2"
     },
     "execution_count": 28,
     "metadata": {},
     "output_type": "execute_result"
    }
   ],
   "source": [
    "\n",
    "cnt = count_grammar_mistakes('These is cool. She think me am cool.')\n",
    "cnt"
   ],
   "metadata": {
    "collapsed": false,
    "ExecuteTime": {
     "end_time": "2023-08-09T11:01:55.665092663Z",
     "start_time": "2023-08-09T11:01:43.255267193Z"
    }
   }
  },
  {
   "cell_type": "code",
   "execution_count": null,
   "outputs": [],
   "source": [],
   "metadata": {
    "collapsed": false
   }
  },
  {
   "cell_type": "code",
   "execution_count": 13,
   "outputs": [],
   "source": [
    "mistakes = {}\n"
   ],
   "metadata": {
    "collapsed": false,
    "ExecuteTime": {
     "end_time": "2023-08-09T10:56:16.248222119Z",
     "start_time": "2023-08-09T10:56:16.241526358Z"
    }
   }
  },
  {
   "cell_type": "code",
   "execution_count": null,
   "outputs": [],
   "source": [],
   "metadata": {
    "collapsed": false
   }
  },
  {
   "cell_type": "code",
   "execution_count": 5,
   "outputs": [
    {
     "data": {
      "text/plain": "  0%|          | 0/1 [00:00<?, ?it/s]",
      "application/vnd.jupyter.widget-view+json": {
       "version_major": 2,
       "version_minor": 0,
       "model_id": "ae0c1d74dfd540ebb8201cdf2d72eb75"
      }
     },
     "metadata": {},
     "output_type": "display_data"
    }
   ],
   "source": [
    "\n",
    "# texts = get_texts() # TODO: Felix, can you exclude the nonsensical, which triggers grammatical errors? Then we can get the count of grammatical errors.\n",
    "texts = ['These is cool. She think it am cool.',]# 'This is cool', 'He think it is cool.', 'He wants I to think it is cool.']\n",
    "bar = tqdm(texts)\n",
    "cnts = []\n",
    "for text in bar:\n",
    "   cnt = count_grammar_mistakes(text)\n",
    "   cnts.append(cnt)\n",
    "   bar.set_description(str(avg(cnts)))"
   ],
   "metadata": {
    "collapsed": false,
    "ExecuteTime": {
     "end_time": "2023-08-09T10:53:04.704337962Z",
     "start_time": "2023-08-09T10:52:58.059866913Z"
    }
   }
  },
  {
   "cell_type": "code",
   "execution_count": 6,
   "outputs": [
    {
     "data": {
      "text/plain": "[2]"
     },
     "execution_count": 6,
     "metadata": {},
     "output_type": "execute_result"
    }
   ],
   "source": [
    "cnts"
   ],
   "metadata": {
    "collapsed": false,
    "ExecuteTime": {
     "end_time": "2023-08-09T10:53:04.749316283Z",
     "start_time": "2023-08-09T10:53:04.705122520Z"
    }
   }
  },
  {
   "cell_type": "code",
   "execution_count": null,
   "outputs": [],
   "source": [],
   "metadata": {
    "collapsed": false
   }
  },
  {
   "cell_type": "code",
   "execution_count": null,
   "outputs": [],
   "source": [],
   "metadata": {
    "collapsed": false
   }
  },
  {
   "cell_type": "code",
   "execution_count": null,
   "outputs": [],
   "source": [],
   "metadata": {
    "collapsed": false
   }
  },
  {
   "cell_type": "code",
   "execution_count": null,
   "outputs": [],
   "source": [],
   "metadata": {
    "collapsed": false
   }
  }
 ],
 "metadata": {
  "kernelspec": {
   "display_name": "Python 3",
   "language": "python",
   "name": "python3"
  },
  "language_info": {
   "codemirror_mode": {
    "name": "ipython",
    "version": 2
   },
   "file_extension": ".py",
   "mimetype": "text/x-python",
   "name": "python",
   "nbconvert_exporter": "python",
   "pygments_lexer": "ipython2",
   "version": "2.7.6"
  }
 },
 "nbformat": 4,
 "nbformat_minor": 0
}

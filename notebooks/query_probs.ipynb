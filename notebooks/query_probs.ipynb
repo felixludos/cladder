{
 "cells": [
  {
   "cell_type": "code",
   "execution_count": 83,
   "outputs": [],
   "source": [
    "from pathlib import Path\n",
    "from omnibelt import toposort, load_json, save_json\n",
    "from itertools import product, combinations\n",
    "# import pyperclip\n",
    "# import clipboard\n",
    "import networkx as nx\n",
    "from tqdm.notebook import tqdm\n",
    "from tabulate import tabulate\n",
    "import matplotlib.pyplot as plt\n",
    "import seaborn as sns\n",
    "\n",
    "import numpy as np\n",
    "import torch\n",
    "from causalbenchmark.novo.simulation.models import Bernoulli, ConditionalBernoulli, BernoulliNetwork\n",
    "from causalbenchmark.novo.seeding import NewsHeadlines, StatisticsPrompting, Story\n",
    "from causalbenchmark.novo.templating import FixedTemplate, SimpleTemplater\n",
    "from causalbenchmark.novo import misc"
   ],
   "metadata": {
    "collapsed": false,
    "ExecuteTime": {
     "end_time": "2023-11-17T13:50:43.658556392Z",
     "start_time": "2023-11-17T13:50:43.642144442Z"
    }
   },
   "id": "e4dbd77df7c7caae"
  },
  {
   "cell_type": "code",
   "execution_count": 44,
   "outputs": [
    {
     "data": {
      "text/plain": "  0%|          | 0/5 [00:00<?, ?it/s]",
      "application/vnd.jupyter.widget-view+json": {
       "version_major": 2,
       "version_minor": 0,
       "model_id": "e6e22f59a29c40a8887c9be32af56ebb"
      }
     },
     "metadata": {},
     "output_type": "display_data"
    },
    {
     "data": {
      "text/plain": "550074"
     },
     "execution_count": 44,
     "metadata": {},
     "output_type": "execute_result"
    }
   ],
   "source": [
    "spark_generator = NewsHeadlines(locs=['gb', 'de', 'fr', 'it', 'nl']).load(pbar=tqdm)\n",
    "len(spark_generator.article_IDs)"
   ],
   "metadata": {
    "collapsed": false,
    "ExecuteTime": {
     "end_time": "2023-11-17T12:56:15.475103997Z",
     "start_time": "2023-11-17T12:56:10.075083598Z"
    }
   },
   "id": "a3e440a9e9d43579"
  },
  {
   "cell_type": "code",
   "execution_count": 45,
   "outputs": [],
   "source": [
    "setting_generation_prompt_template = \\\n",
    "'''We are interested in building a causal model based on the explicit and implicit assumptions contained in the specified article and then using causal inference to evaluate the reasoning. Answer the following questions to design an interesting, simple, and most importantly realistic causal model from a news article.\n",
    "\n",
    "To help understand the instructions here are some tips:\n",
    "- all variables are always binary and (at least in principle) measurable, so when creating and selecting variables, make sure it is reasonable to treat them as binary\n",
    "- whenever you propose a variable, make sure to define the meaning of each value it can take, and mention whether it is observable or not\n",
    "- outcome variables are always observable\n",
    "- treatment variables are always observable and intervenable, that means it must be possible to (at least in principle) change their value if desired\n",
    "- confounder variables may or may not be observable, and should always have at least two causal children (for example, a treatment and outcome variable) and no causal parents\n",
    "- mediator variables may or may not be observable, and should always have at least one causal parents (for example, a treatment variable) and at least one causal child (for example, the outcome variable)\n",
    "- collider variables may or may not be observable, and should always have at least two causal parents (for example, a treatment and outcome variable) and no causal children\n",
    "\n",
    "Answer concisely and precisely in the desired format. Carefully complete each of these tasks in order.\n",
    "\n",
    "1. Write a short description of what the article is about and what causal model make inform the reasoning behind an argument the might make.\n",
    "2. Propose 1 outcome variable that the news article is either implicitly or explicitly addressing that people are most likely to be interested in studying, especially if people tend to have misconceptions about it\n",
    "3. Propose 2 treatment variables that either directly or indirectly affect the selected outcome variable and are the most interesting to study\n",
    "4. Propose 3 confounder variables that affect some reasonable combination of the outcome and treatment variables\n",
    "5. Propose 3 mediator variables that affect and are affected by some reasonable combination of any other variables\n",
    "6. Propose 2 collider variables that are affected by some reasonable combination of any other variables\n",
    "\n",
    "Here is the beginning of the new article:\n",
    "```\n",
    "{spark}\n",
    "```\n",
    "\n",
    "The variables and causal graph should, where possible, use specific details such as names and locations mentioned in the article. Also, generally the variable value \"0\" should correspond to the negative or control while the value \"1\" should correspond to the positive or greater value.\n",
    "\n",
    "Take a deep breath and think step-by-step about how you will do this.'''\n",
    "graph_selection_prompt_template = \\\n",
    "'''1. From all proposed confounder, mediator, and collider variables, select between 3-5 variables that are most interesting to study and together with the treatment and outcome variables result in a realistic interesting causal graph. Important: Make sure the causal graph is a DAG and that no node has more than 3 parents!\n",
    "2.  List all the edges in the causal graph, and make sure to mention which edges are observable and which are not.\n",
    "3. Provide a python list called `nodes` of all the nodes in the proposed graph. For each node, provide the following information in the form of a python dict:\n",
    "- `name`: the name of the variable\n",
    "- `description`: a short description of the variable\n",
    "- `type`: the type of the variable, which can be one of the following: `outcome`, `treatment`, `confounder`, `mediator`, `collider`\n",
    "- `observed`: a boolean value indicating whether the variable is observable or not\n",
    "- `values`: a python list of the descriptions of the values the variable can take (corresponding to the index)\n",
    "- `parents`: a python list of the names of the parents of the variable (make sure they match the corresponding `name` field of the parent nodes)\n",
    "\n",
    "Take a deep breath and think step-by-step about how you will do this.'''\n",
    "stats_prompt_template = \\\n",
    "'''We have a causal bayes net based on the following article:\n",
    "\n",
    "```\n",
    "{spark}\n",
    "```\n",
    "\n",
    "Now we would like to estimate the probabilities of certain events.\n",
    "\n",
    "Using commonsense, estimate the probabilities of the following events:\n",
    "\n",
    "{questions}\n",
    "\n",
    "Where the variables are defined as:\n",
    "{descriptions}\n",
    "\n",
    "For each question above, answer with the lower and upper bound estimates of the probabilities as a python dictionary where the key corresponds to the question index in exactly the following format:\n",
    "\n",
    "```python\n",
    "probabilities = {{\n",
    "  1: [0.3, 0.4],\n",
    "  ...\n",
    "}}\n",
    "```\n",
    "\n",
    "Answer concisely and precisely in the desired format.'''"
   ],
   "metadata": {
    "collapsed": false,
    "ExecuteTime": {
     "end_time": "2023-11-17T12:56:17.664395700Z",
     "start_time": "2023-11-17T12:56:17.660372652Z"
    }
   },
   "id": "810e9c63d4ccc441"
  },
  {
   "cell_type": "code",
   "execution_count": 51,
   "outputs": [
    {
     "name": "stdout",
     "output_type": "stream",
     "text": [
      "1423874\n",
      "Title: China's economy grows 4.9% while the rest of the world is crippled by coronavirus - Daily Mail\n",
      "Description: China's economy has grown 4.9 percent in the third quarter from last year proving the country is back to its pre-pandemic trajectory as industrial production is up and unemployment is down.\n",
      "Original Language: English\n"
     ]
    }
   ],
   "source": [
    "ctx = Story(story_root=misc.data_root() / 'stories', story_id='test2')\n",
    "# ctx = Story(story_root=misc.data_root() / 'stories')\n",
    "# ctx.populate_defaults()\n",
    "ctx.include(\n",
    "    FixedTemplate('setting', setting_generation_prompt_template),\n",
    "    FixedTemplate('graph', graph_selection_prompt_template),\n",
    "    StatisticsPrompting(stats_prompt_template),\n",
    "    spark_generator,\n",
    ");\n",
    "# print(ctx)\n",
    "print(ctx['seed'])\n",
    "print(ctx['spark'])"
   ],
   "metadata": {
    "collapsed": false,
    "ExecuteTime": {
     "end_time": "2023-11-17T13:01:12.444678228Z",
     "start_time": "2023-11-17T13:01:12.440795983Z"
    }
   },
   "id": "46baeb3a28e45ee"
  },
  {
   "cell_type": "code",
   "execution_count": 97,
   "outputs": [
    {
     "name": "stdout",
     "output_type": "stream",
     "text": [
      "We are interested in building a causal model based on the explicit and implicit assumptions contained in the specified article and then using causal inference to evaluate the reasoning. Answer the following questions to design an interesting, simple, and most importantly realistic causal model from a news article.\n",
      "\n",
      "To help understand the instructions here are some tips:\n",
      "- all variables are always binary and (at least in principle) measurable, so when creating and selecting variables, make sure it is reasonable to treat them as binary\n",
      "- whenever you propose a variable, make sure to define the meaning of each value it can take, and mention whether it is observable or not\n",
      "- outcome variables are always observable\n",
      "- treatment variables are always observable and intervenable, that means it must be possible to (at least in principle) change their value if desired\n",
      "- confounder variables may or may not be observable, and should always have at least two causal children (for example, a treatment and outcome variable) and no causal parents\n",
      "- mediator variables may or may not be observable, and should always have at least one causal parents (for example, a treatment variable) and at least one causal child (for example, the outcome variable)\n",
      "- collider variables may or may not be observable, and should always have at least two causal parents (for example, a treatment and outcome variable) and no causal children\n",
      "\n",
      "Answer concisely and precisely in the desired format. Carefully complete each of these tasks in order.\n",
      "\n",
      "1. Write a short description of what the article is about and what causal model make inform the reasoning behind an argument the might make.\n",
      "2. Propose 1 outcome variable that the news article is either implicitly or explicitly addressing that people are most likely to be interested in studying, especially if people tend to have misconceptions about it\n",
      "3. Propose 2 treatment variables that either directly or indirectly affect the selected outcome variable and are the most interesting to study\n",
      "4. Propose 3 confounder variables that affect some reasonable combination of the outcome and treatment variables\n",
      "5. Propose 3 mediator variables that affect and are affected by some reasonable combination of any other variables\n",
      "6. Propose 2 collider variables that are affected by some reasonable combination of any other variables\n",
      "\n",
      "Here is the beginning of the new article:\n",
      "```\n",
      "Title: China's economy grows 4.9% while the rest of the world is crippled by coronavirus - Daily Mail\n",
      "Description: China's economy has grown 4.9 percent in the third quarter from last year proving the country is back to its pre-pandemic trajectory as industrial production is up and unemployment is down.\n",
      "Original Language: English\n",
      "```\n",
      "\n",
      "The variables and causal graph should, where possible, use specific details such as names and locations mentioned in the article. Also, generally the variable value \"0\" should correspond to the negative or control while the value \"1\" should correspond to the positive or greater value.\n",
      "\n",
      "Take a deep breath and think step-by-step about how you will do this.\n"
     ]
    }
   ],
   "source": [
    "print(ctx['setting'])"
   ],
   "metadata": {
    "collapsed": false,
    "ExecuteTime": {
     "end_time": "2023-11-17T10:59:20.163507898Z",
     "start_time": "2023-11-17T10:59:20.119502533Z"
    }
   },
   "id": "7cac9d876fc4d17a"
  },
  {
   "cell_type": "code",
   "execution_count": 98,
   "outputs": [
    {
     "name": "stdout",
     "output_type": "stream",
     "text": [
      "1. From all proposed confounder, mediator, and collider variables, select between 3-5 variables that are most interesting to study and together with the treatment and outcome variables result in a realistic interesting causal graph. Important: Make sure the causal graph is a DAG and that no node has more than 3 parents!\n",
      "2.  List all the edges in the causal graph, and make sure to mention which edges are observable and which are not.\n",
      "3. Provide a python list called `nodes` of all the nodes in the proposed graph. For each node, provide the following information in the form of a python dict:\n",
      "- `name`: the name of the variable\n",
      "- `description`: a short description of the variable\n",
      "- `type`: the type of the variable, which can be one of the following: `outcome`, `treatment`, `confounder`, `mediator`, `collider`\n",
      "- `observed`: a boolean value indicating whether the variable is observable or not\n",
      "- `values`: a python list of the descriptions of the values the variable can take (corresponding to the index)\n",
      "- `parents`: a python list of the names of the parents of the variable (make sure they match the corresponding `name` field of the parent nodes)\n",
      "\n",
      "Take a deep breath and think step-by-step about how you will do this.\n"
     ]
    }
   ],
   "source": [
    "print(ctx['graph'])"
   ],
   "metadata": {
    "collapsed": false,
    "ExecuteTime": {
     "end_time": "2023-11-17T10:59:53.274724107Z",
     "start_time": "2023-11-17T10:59:53.227725982Z"
    }
   },
   "id": "3dba22960a9e0ca4"
  },
  {
   "cell_type": "code",
   "execution_count": 99,
   "outputs": [],
   "source": [
    "#################################################\n",
    "\n",
    "nodes = [\n",
    "    {\"name\": \"EG\", \"description\": \"Economic Growth\", \"type\": \"outcome\", \"observed\": True, \"values\": [\"No Growth\", \"Positive Growth\"], \"parents\": [\"GEP\", \"IP\", \"UR\", \"CC\"]},\n",
    "    {\"name\": \"IP\", \"description\": \"Industrial Production\", \"type\": \"treatment\", \"observed\": True, \"values\": [\"Decrease\", \"Increase\"], \"parents\": [\"GEP\"]},\n",
    "    {\"name\": \"UR\", \"description\": \"Unemployment Rate\", \"type\": \"treatment\", \"observed\": True, \"values\": [\"Increase\", \"Decrease\"], \"parents\": [\"GEP\"]},\n",
    "    {\"name\": \"GEP\", \"description\": \"Government Economic Policies\", \"type\": \"confounder\", \"observed\": True, \"values\": [\"Restrictive\", \"Stimulative\"], \"parents\": []},\n",
    "    {\"name\": \"CC\", \"description\": \"Consumer Confidence\", \"type\": \"mediator\", \"observed\": True, \"values\": [\"Low\", \"High\"], \"parents\": [\"IP\", \"UR\"]},\n",
    "    {\"name\": \"MP\", \"description\": \"Market Performance\", \"type\": \"collider\", \"observed\": True, \"values\": [\"Poor\", \"Good\"], \"parents\": [\"IP\", \"EG\"]}\n",
    "]\n",
    "\n",
    "\n",
    "\n",
    "#################################################\n",
    "varvals = {node['name']: node['values'] for node in nodes}\n",
    "varparents = {node['name']: node['parents'] for node in nodes}\n",
    "varorder = toposort(varparents)\n",
    "nodes = sorted(nodes, key=lambda x: varorder.index(x['name']))\n",
    "\n",
    "ctx['nodes'] = nodes\n"
   ],
   "metadata": {
    "collapsed": false,
    "ExecuteTime": {
     "end_time": "2023-11-17T11:01:14.996154515Z",
     "start_time": "2023-11-17T11:01:14.932933250Z"
    }
   },
   "id": "f3fcf031d24d5d48"
  },
  {
   "cell_type": "code",
   "execution_count": 18,
   "outputs": [
    {
     "name": "stderr",
     "output_type": "stream",
     "text": [
      "/tmp/ipykernel_4010087/2912959094.py:20: UserWarning: This figure includes Axes that are not compatible with tight_layout, so results might be incorrect.\n",
      "  plt.tight_layout();\n"
     ]
    },
    {
     "data": {
      "text/plain": "<Figure size 1000x600 with 1 Axes>",
      "image/png": "[encoded data removed]"
     },
     "metadata": {},
     "output_type": "display_data"
    }
   ],
   "source": [
    "G = nx.DiGraph()\n",
    "\n",
    "# Add nodes and edges to the graph\n",
    "for node in ctx['nodes']:\n",
    "    G.add_node(node['name'], type=node['type'], observed=node['observed'])\n",
    "\n",
    "    for parent in node['parents']:\n",
    "        G.add_edge(parent, node['name'])\n",
    "\n",
    "# Define node colors based on type\n",
    "node_colors = {'treatment': 'lightcoral', 'outcome': 'lightgreen', 'confounder': 'lightblue', 'mediator': 'lightyellow', 'collider': 'lightgray'}\n",
    "colors = [node_colors[G.nodes[n]['type']] for n in G.nodes]\n",
    "\n",
    "# Draw the graph\n",
    "plt.figure(figsize=(10, 6))\n",
    "# pos = nx.spring_layout(G)\n",
    "pos = nx.circular_layout(G)\n",
    "nx.draw(G, pos, with_labels=True, node_color=colors, node_size=5000, font_size=10, font_weight='bold', edge_color='gray', arrowsize=20)\n",
    "plt.title('Causal Graph', size=15);\n",
    "plt.tight_layout();"
   ],
   "metadata": {
    "collapsed": false,
    "ExecuteTime": {
     "end_time": "2023-11-17T12:07:56.274451797Z",
     "start_time": "2023-11-17T12:07:56.141558848Z"
    }
   },
   "id": "9f8b963c0ac35fa8"
  },
  {
   "cell_type": "code",
   "execution_count": 101,
   "outputs": [
    {
     "name": "stdout",
     "output_type": "stream",
     "text": [
      "We have a causal bayes net based on the following article:\n",
      "\n",
      "```\n",
      "Title: China's economy grows 4.9% while the rest of the world is crippled by coronavirus - Daily Mail\n",
      "Description: China's economy has grown 4.9 percent in the third quarter from last year proving the country is back to its pre-pandemic trajectory as industrial production is up and unemployment is down.\n",
      "Original Language: English\n",
      "```\n",
      "\n",
      "Now we would like to estimate the probabilities of certain events.\n",
      "\n",
      "Using commonsense, estimate the probabilities of the following events:\n",
      "\n",
      "1. what is the probability that \"GEP\" is \"Stimulative\" (rather than \"Restrictive\")?\n",
      "2. when \"GEP\" is \"Restrictive\": what is the probability that \"IP\" is \"Increase\" (rather than \"Decrease\")?\n",
      "3. when \"GEP\" is \"Stimulative\": what is the probability that \"IP\" is \"Increase\" (rather than \"Decrease\")?\n",
      "4. when \"GEP\" is \"Restrictive\": what is the probability that \"UR\" is \"Decrease\" (rather than \"Increase\")?\n",
      "5. when \"GEP\" is \"Stimulative\": what is the probability that \"UR\" is \"Decrease\" (rather than \"Increase\")?\n",
      "6. when \"IP\" is \"Decrease\" and \"UR\" is \"Increase\": what is the probability that \"CC\" is \"High\" (rather than \"Low\")?\n",
      "7. when \"IP\" is \"Decrease\" and \"UR\" is \"Decrease\": what is the probability that \"CC\" is \"High\" (rather than \"Low\")?\n",
      "8. when \"IP\" is \"Increase\" and \"UR\" is \"Increase\": what is the probability that \"CC\" is \"High\" (rather than \"Low\")?\n",
      "9. when \"IP\" is \"Increase\" and \"UR\" is \"Decrease\": what is the probability that \"CC\" is \"High\" (rather than \"Low\")?\n",
      "10. when \"GEP\" is \"Restrictive\" and \"IP\" is \"Decrease\" and \"UR\" is \"Increase\" and \"CC\" is \"Low\": what is the probability that \"EG\" is \"Positive Growth\" (rather than \"No Growth\")?\n",
      "11. when \"GEP\" is \"Restrictive\" and \"IP\" is \"Decrease\" and \"UR\" is \"Increase\" and \"CC\" is \"High\": what is the probability that \"EG\" is \"Positive Growth\" (rather than \"No Growth\")?\n",
      "12. when \"GEP\" is \"Restrictive\" and \"IP\" is \"Decrease\" and \"UR\" is \"Decrease\" and \"CC\" is \"Low\": what is the probability that \"EG\" is \"Positive Growth\" (rather than \"No Growth\")?\n",
      "13. when \"GEP\" is \"Restrictive\" and \"IP\" is \"Decrease\" and \"UR\" is \"Decrease\" and \"CC\" is \"High\": what is the probability that \"EG\" is \"Positive Growth\" (rather than \"No Growth\")?\n",
      "14. when \"GEP\" is \"Restrictive\" and \"IP\" is \"Increase\" and \"UR\" is \"Increase\" and \"CC\" is \"Low\": what is the probability that \"EG\" is \"Positive Growth\" (rather than \"No Growth\")?\n",
      "15. when \"GEP\" is \"Restrictive\" and \"IP\" is \"Increase\" and \"UR\" is \"Increase\" and \"CC\" is \"High\": what is the probability that \"EG\" is \"Positive Growth\" (rather than \"No Growth\")?\n",
      "16. when \"GEP\" is \"Restrictive\" and \"IP\" is \"Increase\" and \"UR\" is \"Decrease\" and \"CC\" is \"Low\": what is the probability that \"EG\" is \"Positive Growth\" (rather than \"No Growth\")?\n",
      "17. when \"GEP\" is \"Restrictive\" and \"IP\" is \"Increase\" and \"UR\" is \"Decrease\" and \"CC\" is \"High\": what is the probability that \"EG\" is \"Positive Growth\" (rather than \"No Growth\")?\n",
      "18. when \"GEP\" is \"Stimulative\" and \"IP\" is \"Decrease\" and \"UR\" is \"Increase\" and \"CC\" is \"Low\": what is the probability that \"EG\" is \"Positive Growth\" (rather than \"No Growth\")?\n",
      "19. when \"GEP\" is \"Stimulative\" and \"IP\" is \"Decrease\" and \"UR\" is \"Increase\" and \"CC\" is \"High\": what is the probability that \"EG\" is \"Positive Growth\" (rather than \"No Growth\")?\n",
      "20. when \"GEP\" is \"Stimulative\" and \"IP\" is \"Decrease\" and \"UR\" is \"Decrease\" and \"CC\" is \"Low\": what is the probability that \"EG\" is \"Positive Growth\" (rather than \"No Growth\")?\n",
      "21. when \"GEP\" is \"Stimulative\" and \"IP\" is \"Decrease\" and \"UR\" is \"Decrease\" and \"CC\" is \"High\": what is the probability that \"EG\" is \"Positive Growth\" (rather than \"No Growth\")?\n",
      "22. when \"GEP\" is \"Stimulative\" and \"IP\" is \"Increase\" and \"UR\" is \"Increase\" and \"CC\" is \"Low\": what is the probability that \"EG\" is \"Positive Growth\" (rather than \"No Growth\")?\n",
      "23. when \"GEP\" is \"Stimulative\" and \"IP\" is \"Increase\" and \"UR\" is \"Increase\" and \"CC\" is \"High\": what is the probability that \"EG\" is \"Positive Growth\" (rather than \"No Growth\")?\n",
      "24. when \"GEP\" is \"Stimulative\" and \"IP\" is \"Increase\" and \"UR\" is \"Decrease\" and \"CC\" is \"Low\": what is the probability that \"EG\" is \"Positive Growth\" (rather than \"No Growth\")?\n",
      "25. when \"GEP\" is \"Stimulative\" and \"IP\" is \"Increase\" and \"UR\" is \"Decrease\" and \"CC\" is \"High\": what is the probability that \"EG\" is \"Positive Growth\" (rather than \"No Growth\")?\n",
      "26. when \"IP\" is \"Decrease\" and \"EG\" is \"No Growth\": what is the probability that \"MP\" is \"Good\" (rather than \"Poor\")?\n",
      "27. when \"IP\" is \"Decrease\" and \"EG\" is \"Positive Growth\": what is the probability that \"MP\" is \"Good\" (rather than \"Poor\")?\n",
      "28. when \"IP\" is \"Increase\" and \"EG\" is \"No Growth\": what is the probability that \"MP\" is \"Good\" (rather than \"Poor\")?\n",
      "29. when \"IP\" is \"Increase\" and \"EG\" is \"Positive Growth\": what is the probability that \"MP\" is \"Good\" (rather than \"Poor\")?\n",
      "\n",
      "Where the variables are defined as:\n",
      "\"GEP\" means \"Government Economic Policies\"\n",
      "\"IP\" means \"Industrial Production\"\n",
      "\"UR\" means \"Unemployment Rate\"\n",
      "\"CC\" means \"Consumer Confidence\"\n",
      "\"EG\" means \"Economic Growth\"\n",
      "\"MP\" means \"Market Performance\"\n",
      "\n",
      "For each question above, answer with the lower and upper bound estimates of the probabilities as a python dictionary where the key corresponds to the question index in exactly the following format:\n",
      "\n",
      "```python\n",
      "probabilities = {\n",
      "  1: [0.3, 0.4],\n",
      "  ...\n",
      "}\n",
      "```\n",
      "\n",
      "Answer concisely and precisely in the desired format.\n"
     ]
    }
   ],
   "source": [
    "print(ctx['stats'])"
   ],
   "metadata": {
    "collapsed": false,
    "ExecuteTime": {
     "end_time": "2023-11-17T11:01:21.102144222Z",
     "start_time": "2023-11-17T11:01:21.054718183Z"
    }
   },
   "id": "feaee31660914e5"
  },
  {
   "cell_type": "code",
   "execution_count": 23,
   "outputs": [],
   "source": [
    "#################################################\n",
    "\n",
    "probabilities = {\n",
    "    1: [0.7, 0.8], # High probability of stimulative policies given economic growth\n",
    "    2: [0.1, 0.2], # Low probability of industrial production increasing under restrictive policies\n",
    "    3: [0.7, 0.8], # High probability of industrial production increasing under stimulative policies\n",
    "    4: [0.2, 0.3], # Low probability of unemployment decreasing under restrictive policies\n",
    "    5: [0.7, 0.8], # High probability of unemployment decreasing under stimulative policies\n",
    "    6: [0.1, 0.2], # Low probability of high consumer confidence with decreasing IP and increasing UR\n",
    "    7: [0.4, 0.5], # Moderate probability of high consumer confidence with decreasing IP and decreasing UR\n",
    "    8: [0.2, 0.3], # Low probability of high consumer confidence with increasing IP and increasing UR\n",
    "    9: [0.6, 0.7], # High probability of high consumer confidence with increasing IP and decreasing UR\n",
    "    10: [0.1, 0.2], # Very low probability of positive economic growth in this scenario\n",
    "    11: [0.2, 0.3], # Slightly higher probability of positive economic growth with high CC\n",
    "    12: [0.3, 0.4], # Moderate probability of positive economic growth with decreasing UR\n",
    "    13: [0.4, 0.5], # Higher probability of positive economic growth with high CC and decreasing UR\n",
    "    14: [0.3, 0.4], # Moderate probability of positive economic growth with increasing IP\n",
    "    15: [0.5, 0.6], # Higher probability of positive economic growth with high CC and increasing IP\n",
    "    16: [0.4, 0.5], # Moderate probability of positive economic growth with decreasing UR\n",
    "    17: [0.6, 0.7], # Higher probability of positive economic growth with high CC and decreasing UR\n",
    "    18: [0.2, 0.3], # Low probability of positive economic growth with decreasing IP and increasing UR\n",
    "    19: [0.3, 0.4], # Slightly higher probability of positive growth with high CC\n",
    "    20: [0.4, 0.5], # Moderate probability of positive growth with decreasing UR\n",
    "    21: [0.5, 0.6], # Higher probability of positive growth with high CC and decreasing UR\n",
    "    22: [0.6, 0.7], # High probability of positive economic growth with increasing IP\n",
    "    23: [0.8, 0.9], # Very high probability of positive growth with high CC and increasing IP\n",
    "    24: [0.7, 0.8], # High probability of positive growth with increasing IP and decreasing UR\n",
    "    25: [0.9, 1.0], # Very high probability of positive growth with high CC, increasing IP, and decreasing UR\n",
    "    26: [0.3, 0.4], # Moderate probability of good market performance with decreasing IP and no growth\n",
    "    27: [0.5, 0.6], # Higher probability of good market performance with decreasing IP but positive growth\n",
    "    28: [0.4, 0.5], # Moderate probability of good market performance with increasing IP and no growth\n",
    "    29: [0.7, 0.8], # High probability of good market performance with increasing IP and positive growth\n",
    "}\n",
    "\n",
    "\n",
    "\n",
    "#################################################\n",
    "probs = probabilities\n",
    "ctx['probs'] = probs"
   ],
   "metadata": {
    "collapsed": false,
    "ExecuteTime": {
     "end_time": "2023-11-17T12:14:47.827858199Z",
     "start_time": "2023-11-17T12:14:47.778342574Z"
    }
   },
   "id": "43b3c05608ca33be"
  },
  {
   "cell_type": "code",
   "execution_count": 24,
   "outputs": [],
   "source": [
    "raw_prob_samples = []\n",
    "def to_prob_range(raw):\n",
    "    raw = [prange for _, prange in sorted(raw.items())]\n",
    "    return torch.tensor(raw)\n",
    "\n",
    "prob_ranges = to_prob_range(ctx['probs'])\n",
    "lower_bound, upper_bound = prob_ranges.t()\n",
    "\n",
    "variables = {}\n",
    "for node in ctx['nodes']:\n",
    "    if len(node['parents']):\n",
    "        variables[node['name']] = ConditionalBernoulli([variables[parent] for parent in node['parents']])\n",
    "    else:\n",
    "        variables[node['name']] = Bernoulli(0.5)\n",
    "net = BernoulliNetwork(variables)\n",
    "# net"
   ],
   "metadata": {
    "collapsed": false,
    "ExecuteTime": {
     "end_time": "2023-11-17T12:14:48.381106887Z",
     "start_time": "2023-11-17T12:14:48.361363765Z"
    }
   },
   "id": "9c542b5b6c1269ef"
  },
  {
   "cell_type": "code",
   "execution_count": 25,
   "outputs": [],
   "source": [
    "def mc_samples(N, *fns):\n",
    "    estimates = []\n",
    "    for _ in tqdm(range(N)):\n",
    "        param_sample = torch.rand(len(prob_ranges), 1) * (upper_bound - lower_bound) + lower_bound\n",
    "        net.set_params(param_sample)\n",
    "        estimates.append([fn() for fn in fns])\n",
    "    return torch.tensor(estimates)\n",
    "def make_ate_fn(treatment, outcome):\n",
    "    def ate_fn():\n",
    "        return net.ate(treatment)[outcome].item()\n",
    "    return ate_fn\n",
    "def make_corr_fn(v1, v2):\n",
    "    def corr_fn():\n",
    "        return net.correlation(v1, v2).item()\n",
    "    return corr_fn"
   ],
   "metadata": {
    "collapsed": false,
    "ExecuteTime": {
     "end_time": "2023-11-17T12:14:49.192794119Z",
     "start_time": "2023-11-17T12:14:49.173866084Z"
    }
   },
   "id": "ad421b1510843ee"
  },
  {
   "cell_type": "code",
   "execution_count": 64,
   "outputs": [
    {
     "name": "stdout",
     "output_type": "stream",
     "text": [
      "--  ---------  ---------------\n",
      "IP  Decrease   Increase\n",
      "UR  Increase   Decrease\n",
      "EG  No Growth  Positive Growth\n",
      "--  ---------  ---------------\n"
     ]
    },
    {
     "data": {
      "text/plain": "  0%|          | 0/100 [00:00<?, ?it/s]",
      "application/vnd.jupyter.widget-view+json": {
       "version_major": 2,
       "version_minor": 0,
       "model_id": "52b553d5d1ff4b70addf6a5f02132c41"
      }
     },
     "metadata": {},
     "output_type": "display_data"
    },
    {
     "name": "stdout",
     "output_type": "stream",
     "text": [
      "'GEP' means Government Economic Policies\n",
      "'IP' means Industrial Production\n",
      "'UR' means Unemployment Rate\n",
      "'CC' means Consumer Confidence\n",
      "'EG' means Economic Growth\n",
      "'MP' means Market Performance\n",
      "Treatment Value    Treatment    Outcome Value    Outcome         ATE    Correlation\n",
      "-----------------  -----------  ---------------  ---------  --------  -------------\n",
      "Increase           IP           Positive Growth  EG         0.354034       0.145059\n",
      "Decrease           UR           Positive Growth  EG         0.197525      -0.113168\n"
     ]
    }
   ],
   "source": [
    "treatment1, treatment2 = [node['name'] for node in ctx['nodes'] if node['type'] == 'treatment']\n",
    "t1vals = [node['values'] for node in ctx['nodes'] if node['name'] == treatment1][0]\n",
    "t2vals = [node['values'] for node in ctx['nodes'] if node['name'] == treatment2][0]\n",
    "outcome = [node['name'] for node in ctx['nodes'] if node['type'] == 'outcome'][0]\n",
    "ovals = [node['values'] for node in ctx['nodes'] if node['name'] == outcome][0]\n",
    "\n",
    "print(tabulate([\n",
    "    [treatment1, *t1vals],\n",
    "    [treatment2, *t2vals],\n",
    "    [outcome, *ovals]\n",
    "]))\n",
    "\n",
    "ate1, ate2, corr1, corr2 = mc_samples(100, make_ate_fn(treatment1, outcome), make_ate_fn(treatment2, outcome),\n",
    "                                      make_corr_fn(treatment1, outcome), make_corr_fn(treatment2, outcome)).t()\n",
    "\n",
    "print('\\n'.join(f'{node[\"name\"]!r} means {node[\"description\"]}' for node in ctx['nodes']))\n",
    "print(tabulate([\n",
    "    [f'{t1vals[1]}', f'{treatment1}', f'{ovals[1]}', f'{outcome}', ate1.mean(), corr1.mean(), ],\n",
    "    [f'{t2vals[1]}', f'{treatment2}', f'{ovals[1]}', f'{outcome}', ate2.mean(), corr2.mean(), ],\n",
    "], headers=['Treatment Value', 'Treatment', 'Outcome Value', 'Outcome', 'ATE', 'Correlation']))"
   ],
   "metadata": {
    "collapsed": false,
    "ExecuteTime": {
     "end_time": "2023-11-17T13:14:49.104497413Z",
     "start_time": "2023-11-17T13:14:33.880830976Z"
    }
   },
   "id": "438022b13300119a"
  },
  {
   "cell_type": "code",
   "execution_count": 65,
   "outputs": [
    {
     "data": {
      "text/plain": "<Figure size 800x400 with 1 Axes>",
      "image/png": "[encoded data removed]"
     },
     "metadata": {},
     "output_type": "display_data"
    }
   ],
   "source": [
    "plt.figure(figsize=(8, 4))\n",
    "sns.kdeplot(ate1, label=f'{t1vals[1]} = {treatment1}', fill=True);\n",
    "sns.kdeplot(ate2, label=f'{t2vals[1]} = {treatment2}', fill=True);\n",
    "plt.title(f'{ovals[1]} = {outcome}')\n",
    "plt.ylabel(f'P(ATE)')\n",
    "plt.gca().legend(loc='upper center', bbox_to_anchor=(0.5, -.1))\n",
    "plt.axvline(0, color='black', linestyle='--', alpha=0.5)\n",
    "# plt.xlim(-1, 1)\n",
    "plt.tight_layout();"
   ],
   "metadata": {
    "collapsed": false,
    "ExecuteTime": {
     "end_time": "2023-11-17T13:14:49.351419896Z",
     "start_time": "2023-11-17T13:14:49.114824970Z"
    }
   },
   "id": "91c54e61480a1489"
  },
  {
   "cell_type": "code",
   "execution_count": 66,
   "outputs": [
    {
     "data": {
      "text/plain": "<Figure size 800x400 with 1 Axes>",
      "image/png": "[encoded data removed]"
     },
     "metadata": {},
     "output_type": "display_data"
    }
   ],
   "source": [
    "plt.figure(figsize=(8, 4))\n",
    "sns.kdeplot(corr1, label=f'{t1vals[1]} = {treatment1}', fill=True);\n",
    "sns.kdeplot(corr2, label=f'{t2vals[1]} = {treatment2}', fill=True);\n",
    "plt.title(f'{ovals[1]} = {outcome}')\n",
    "plt.ylabel(f'P(Correlation)')\n",
    "plt.gca().legend(loc='upper center', bbox_to_anchor=(0.5, -.1))\n",
    "plt.axvline(0, color='black', linestyle='--', alpha=0.5)\n",
    "# plt.xlim(-1, 1)\n",
    "plt.tight_layout();"
   ],
   "metadata": {
    "collapsed": false,
    "ExecuteTime": {
     "end_time": "2023-11-17T13:14:49.596283018Z",
     "start_time": "2023-11-17T13:14:49.367717078Z"
    }
   },
   "id": "567b6b9bfc98960c"
  },
  {
   "cell_type": "code",
   "execution_count": 67,
   "outputs": [
    {
     "data": {
      "text/plain": "PosixPath('/home/fleeb/workspace/code/cladder/novo-data/stories/test5.json')"
     },
     "execution_count": 67,
     "metadata": {},
     "output_type": "execute_result"
    }
   ],
   "source": [
    "i = len(list(ctx._root.glob(\"*.json\")))+1\n",
    "path = ctx._root / f'test{i}'\n",
    "while path.exists():\n",
    "    i += 1\n",
    "    path = ctx._root / f'test{i}'\n",
    "ctx.save(path.stem)"
   ],
   "metadata": {
    "collapsed": false,
    "ExecuteTime": {
     "end_time": "2023-11-17T13:14:49.596458283Z",
     "start_time": "2023-11-17T13:14:49.594186125Z"
    }
   },
   "id": "b09bd69041ed5cb2"
  },
  {
   "cell_type": "code",
   "execution_count": 68,
   "outputs": [
    {
     "name": "stdout",
     "output_type": "stream",
     "text": [
      "\"GEP\" means \"Government Economic Policies\"\n",
      "\"IP\" means \"Industrial Production\"\n",
      "\"UR\" means \"Unemployment Rate\"\n",
      "\"CC\" means \"Consumer Confidence\"\n",
      "\"EG\" means \"Economic Growth\"\n",
      "\"MP\" means \"Market Performance\"\n"
     ]
    }
   ],
   "source": [
    "print(ctx['descriptions'])"
   ],
   "metadata": {
    "collapsed": false,
    "ExecuteTime": {
     "end_time": "2023-11-17T13:14:49.642860736Z",
     "start_time": "2023-11-17T13:14:49.596063992Z"
    }
   },
   "id": "1e6fbb0b6124ccf3"
  },
  {
   "cell_type": "code",
   "execution_count": 63,
   "outputs": [
    {
     "name": "stdout",
     "output_type": "stream",
     "text": [
      "         ATE    Correlation  Treatment           Outcome             Treatment Description         Outcome Description\n",
      "------------  -------------  ------------------  ------------------  ----------------------------  ----------------------------\n",
      " 0.6            -0.130868    Stimulative GEP     Increase IP         Government Economic Policies  Industrial Production\n",
      " 0.5             0.0519683   Stimulative GEP     Decrease UR         Government Economic Policies  Unemployment Rate\n",
      " 0.265794       -0.0779333   Stimulative GEP     High CC             Government Economic Policies  Consumer Confidence\n",
      " 0.484723       -0.187706    Stimulative GEP     Positive Growth EG  Government Economic Policies  Economic Growth\n",
      " 0.212796        0.0678635   Stimulative GEP     Good MP             Government Economic Policies  Market Performance\n",
      " 0              -0.130868    Increase IP         Stimulative GEP     Industrial Production         Government Economic Policies\n",
      " 0              -0.00680091  Increase IP         Decrease UR         Industrial Production         Unemployment Rate\n",
      " 0.166992        0.46056     Increase IP         High CC             Industrial Production         Consumer Confidence\n",
      " 0.360488        0.140944    Increase IP         Positive Growth EG  Industrial Production         Economic Growth\n",
      " 0.251149       -0.0570334   Increase IP         Good MP             Industrial Production         Market Performance\n",
      " 0               0.0519682   Decrease UR         Stimulative GEP     Unemployment Rate             Government Economic Policies\n",
      "-5.96046e-08    -0.00680109  Decrease UR         Increase IP         Unemployment Rate             Industrial Production\n",
      " 0.364792       -0.325551    Decrease UR         High CC             Unemployment Rate             Consumer Confidence\n",
      " 0.195323       -0.107706    Decrease UR         Positive Growth EG  Unemployment Rate             Economic Growth\n",
      " 0.0517199       0.051162    Decrease UR         Good MP             Unemployment Rate             Market Performance\n",
      " 0              -0.0763614   High CC             Stimulative GEP     Consumer Confidence           Government Economic Policies\n",
      " 0               0.461552    High CC             Increase IP         Consumer Confidence           Industrial Production\n",
      " 0              -0.325442    High CC             Decrease UR         Consumer Confidence           Unemployment Rate\n",
      " 0.164792        0.239063    High CC             Positive Growth EG  Consumer Confidence           Economic Growth\n",
      " 0.0436355      -0.0936285   High CC             Good MP             Consumer Confidence           Market Performance\n",
      " 0              -0.177642    Positive Growth EG  Stimulative GEP     Economic Growth               Government Economic Policies\n",
      " 0               0.162765    Positive Growth EG  Increase IP         Economic Growth               Industrial Production\n",
      " 0              -0.0392065   Positive Growth EG  Decrease UR         Economic Growth               Unemployment Rate\n",
      " 0               0.269957    Positive Growth EG  High CC             Economic Growth               Consumer Confidence\n",
      " 0.264792       -0.388972    Positive Growth EG  Good MP             Economic Growth               Market Performance\n",
      " 0               0.0701614   Good MP             Stimulative GEP     Market Performance            Government Economic Policies\n",
      " 0               0.0396283   Good MP             Increase IP         Market Performance            Industrial Production\n",
      " 0               0.0145225   Good MP             Decrease UR         Market Performance            Unemployment Rate\n",
      " 0              -0.047896    Good MP             High CC             Market Performance            Consumer Confidence\n",
      " 0              -0.28434     Good MP             Positive Growth EG  Market Performance            Economic Growth\n"
     ]
    }
   ],
   "source": [
    "outcome = [node['name'] for node in ctx['nodes'] if node['type'] == 'outcome'][0]\n",
    "tbl = []\n",
    "\n",
    "for node1, node2 in product(ctx['nodes'], ctx['nodes']):\n",
    "    if node1 != node2:\n",
    "        tbl.append([\n",
    "                    net.ate(node1['name'])[node2['name']].item(), \n",
    "                    net.correlation(node1['name'], node2['name']).item(),\n",
    "                    f'{node1[\"values\"][1]} {node1[\"name\"]}', \n",
    "                    f'{node2[\"values\"][1]} {node2[\"name\"]}', \n",
    "                    node1['description'], \n",
    "                    node2['description'], \n",
    "                    ])\n",
    "print(tabulate(tbl, headers=['ATE', 'Correlation', 'Treatment', 'Outcome', 'Treatment Description', 'Outcome Description']))"
   ],
   "metadata": {
    "collapsed": false,
    "ExecuteTime": {
     "end_time": "2023-11-17T13:11:02.565115226Z",
     "start_time": "2023-11-17T13:11:00.597492931Z"
    }
   },
   "id": "edf70b7683a3e1b0"
  },
  {
   "cell_type": "code",
   "execution_count": null,
   "outputs": [],
   "source": [],
   "metadata": {
    "collapsed": false
   },
   "id": "dec8a389b45661b3"
  },
  {
   "cell_type": "code",
   "execution_count": 114,
   "outputs": [],
   "source": [
    "prompt_template = '''We have a causal bayes net based on the following article:\n",
    "\n",
    "```\n",
    "{spark}\n",
    "```\n",
    "\n",
    "And, for additional context, here are the variables and their descriptions:\n",
    "\n",
    "{descriptions}\n",
    "\n",
    "Now we would like to verbalize the description of some evidence. For each set of questions, fill in the blank and then for each possible descriptor of the probability, provide a reasonable quantitative estimate for the lower and upper bounds of the probability that would be implied by that evidence if the variable took on the value corresponding to 1. Note that your estimates for each descriptor should conform to common sense and reflect the meaning of the variable taking on the value corresponding to 1.\n",
    "\n",
    "For example, if the question is:\n",
    "\n",
    "Evidence template: \"The probability of _ is {descriptor}.\"\n",
    "With these descriptors: ['low', 'high', 'very high']\n",
    "\n",
    "1. \"Tax Rate\" can either be 0=\"Decreased\" or 1=\"Increased\".\n",
    "2. \"Vaccination Status\" can either be 0=\"Not Vaccinated\" or 1=\"Vaccinated\".\n",
    "...\n",
    "\n",
    "You should answer in the following format:\n",
    "\n",
    "```python\n",
    "evidence = {{\n",
    "  1: {{'blank': {{'Decreased': 'decreased taxes', 'Increased': 'increased taxes'}} 'implications': {{'low': [0.2, 0.4], 'high': [0.6, 0.8], 'very high': [0.8, 0.9]}}}},\n",
    "  2: {{'blank': {{'Not Vaccinated': 'not being vaccinated', 'Vaccinated': 'being vaccinated'}} 'implications': {{'low': [0.3, 0.5], 'high': [0.7, 0.9], 'very high': [0.85, 0.99]}}}},\n",
    "  ...\n",
    "}}\n",
    "```\n",
    "\n",
    "Here are the questions:\n",
    "\n",
    "Evidence template: \"The probability of _ is {descriptor}.\"\n",
    "With these descriptors: {descriptors}\n",
    "\n",
    "{questions}\n",
    "\n",
    "Answer all the questions in order, concisely, and precisely in the desired format, without any additional comments or discussion.\n",
    "'''\n",
    "\n",
    "q_template = '{i}. \"{variable}\" can either be 0=\"{value}\" or 1=\"{othervalue}\".'\n",
    "\n",
    "verbs = [\n",
    "    'very low', 'low', 'moderate', 'high', 'very high',\n",
    "    # 'extremely small', 'small', 'large', 'extremely large',\n",
    "    'significant', 'negligible', 'substantial', 'insignificant', 'considerable',\n",
    "    # 'improbable', 'likely', 'probable', 'unlikely', 'certain',\n",
    "]"
   ],
   "metadata": {
    "collapsed": false,
    "ExecuteTime": {
     "end_time": "2023-11-17T14:08:05.849563372Z",
     "start_time": "2023-11-17T14:08:05.807280700Z"
    }
   },
   "id": "bf9d27a21b2ff726"
  },
  {
   "cell_type": "code",
   "execution_count": 115,
   "outputs": [],
   "source": [
    "nodes = ctx['nodes']\n",
    "qlines = []\n",
    "i = 1\n",
    "for node in nodes:\n",
    "    v0, v1 = node['values']\n",
    "    qlines.append(q_template.format(i=i, variable=node['name'], value=v1, othervalue=v0))\n",
    "    i += 1\n",
    "questions = '\\n'.join(qlines)"
   ],
   "metadata": {
    "collapsed": false,
    "ExecuteTime": {
     "end_time": "2023-11-17T14:08:07.015874935Z",
     "start_time": "2023-11-17T14:08:07.010273377Z"
    }
   },
   "id": "949e58680c1eb438"
  },
  {
   "cell_type": "code",
   "execution_count": 116,
   "outputs": [
    {
     "data": {
      "text/plain": "{'descriptions', 'descriptor', 'descriptors', 'questions', 'spark'}"
     },
     "execution_count": 116,
     "metadata": {},
     "output_type": "execute_result"
    }
   ],
   "source": [
    "tmpl = SimpleTemplater(prompt_template)\n",
    "tmpl.keys"
   ],
   "metadata": {
    "collapsed": false,
    "ExecuteTime": {
     "end_time": "2023-11-17T14:08:07.360585831Z",
     "start_time": "2023-11-17T14:08:07.355102685Z"
    }
   },
   "id": "a474aee9dc7f34a4"
  },
  {
   "cell_type": "code",
   "execution_count": 117,
   "outputs": [
    {
     "name": "stdout",
     "output_type": "stream",
     "text": [
      "We have a causal bayes net based on the following article:\n",
      "\n",
      "```\n",
      "Title: China's economy grows 4.9% while the rest of the world is crippled by coronavirus - Daily Mail\n",
      "Description: China's economy has grown 4.9 percent in the third quarter from last year proving the country is back to its pre-pandemic trajectory as industrial production is up and unemployment is down.\n",
      "Original Language: English\n",
      "```\n",
      "\n",
      "And, for additional context, here are the variables and their descriptions:\n",
      "\n",
      "\"GEP\" means \"Government Economic Policies\"\n",
      "\"IP\" means \"Industrial Production\"\n",
      "\"UR\" means \"Unemployment Rate\"\n",
      "\"CC\" means \"Consumer Confidence\"\n",
      "\"EG\" means \"Economic Growth\"\n",
      "\"MP\" means \"Market Performance\"\n",
      "\n",
      "Now we would like to verbalize the description of some evidence. For each set of questions, fill in the blank and then for each possible descriptor of the probability, provide a reasonable quantitative estimate for the lower and upper bounds of the probability that would be implied by that evidence if the variable took on the value corresponding to 1. Note that your estimates for each descriptor should conform to common sense and reflect the meaning of the variable taking on the value corresponding to 1.\n",
      "\n",
      "For example, if the question is:\n",
      "\n",
      "Evidence template: \"The probability of _ is {descriptor}.\"\n",
      "With these descriptors: ['low', 'high', 'very high']\n",
      "\n",
      "1. \"Tax Rate\" can either be 0=\"Decreased\" or 1=\"Increased\".\n",
      "2. \"Vaccination Status\" can either be 0=\"Not Vaccinated\" or 1=\"Vaccinated\".\n",
      "...\n",
      "\n",
      "You should answer in the following format:\n",
      "\n",
      "```python\n",
      "evidence = {\n",
      "  1: {'blank': {'Decreased': 'decreased taxes', 'Increased': 'increased taxes'} 'implications': {'low': [0.2, 0.4], 'high': [0.6, 0.8], 'very high': [0.8, 0.9]}},\n",
      "  2: {'blank': {'Not Vaccinated': 'not being vaccinated', 'Vaccinated': 'being vaccinated'} 'implications': {'low': [0.3, 0.5], 'high': [0.7, 0.9], 'very high': [0.85, 0.99]}},\n",
      "  ...\n",
      "}\n",
      "```\n",
      "\n",
      "Here are the questions:\n",
      "\n",
      "Evidence template: \"The probability of _ is {descriptor}.\"\n",
      "With these descriptors: ['very low', 'low', 'moderate', 'high', 'very high', 'significant', 'negligible', 'substantial', 'insignificant', 'considerable']\n",
      "\n",
      "1. \"GEP\" can either be 0=\"Stimulative\" or 1=\"Restrictive\".\n",
      "2. \"IP\" can either be 0=\"Increase\" or 1=\"Decrease\".\n",
      "3. \"UR\" can either be 0=\"Decrease\" or 1=\"Increase\".\n",
      "4. \"CC\" can either be 0=\"High\" or 1=\"Low\".\n",
      "5. \"EG\" can either be 0=\"Positive Growth\" or 1=\"No Growth\".\n",
      "6. \"MP\" can either be 0=\"Good\" or 1=\"Poor\".\n",
      "\n",
      "Answer all the questions in order, concisely, and precisely in the desired format, without any additional comments or discussion.\n"
     ]
    }
   ],
   "source": [
    "# print(tmpl.fill_in(dict(spark=ctx['spark'], descriptions=ctx['descriptions'], descriptors=verbs, descriptor='{descriptor}', questions=questions)))\n",
    "print(prompt_template.format(spark=ctx['spark'], descriptions=ctx['descriptions'], descriptors=verbs, descriptor='{descriptor}', questions=questions))"
   ],
   "metadata": {
    "collapsed": false,
    "ExecuteTime": {
     "end_time": "2023-11-17T14:08:07.750339067Z",
     "start_time": "2023-11-17T14:08:07.744267484Z"
    }
   },
   "id": "7b23a2f10c9d7c62"
  },
  {
   "cell_type": "code",
   "execution_count": null,
   "outputs": [],
   "source": [
    "line_template = 'The probability that __ is {quantity}'"
   ],
   "metadata": {
    "collapsed": false
   },
   "id": "61af6af1c0665464"
  },
  {
   "cell_type": "code",
   "execution_count": 120,
   "outputs": [
    {
     "data": {
      "text/plain": "True"
     },
     "execution_count": 120,
     "metadata": {},
     "output_type": "execute_result"
    }
   ],
   "source": [
    "evidence = {\n",
    "  1: {\n",
    "    'blank': {'Stimulative': 'stimulative government economic policies', 'Restrictive': 'restrictive government economic policies'}, \n",
    "    'implications': {\n",
    "      'very low': [0.01, 0.1], \n",
    "      'low': [0.1, 0.3], \n",
    "      'moderate': [0.3, 0.5], \n",
    "      'high': [0.5, 0.7], \n",
    "      'very high': [0.7, 0.9], \n",
    "      'significant': [0.6, 0.8], \n",
    "      'negligible': [0.1, 0.2], \n",
    "      'substantial': [0.5, 0.7], \n",
    "      'insignificant': [0.2, 0.3], \n",
    "      'considerable': [0.4, 0.6]\n",
    "    }\n",
    "  },\n",
    "  2: {\n",
    "    'blank': {'Increase': 'an increase in industrial production', 'Decrease': 'a decrease in industrial production'}, \n",
    "    'implications': {\n",
    "      'very low': [0.01, 0.1], \n",
    "      'low': [0.1, 0.3], \n",
    "      'moderate': [0.3, 0.5], \n",
    "      'high': [0.5, 0.7], \n",
    "      'very high': [0.7, 0.9], \n",
    "      'significant': [0.6, 0.8], \n",
    "      'negligible': [0.1, 0.2], \n",
    "      'substantial': [0.5, 0.7], \n",
    "      'insignificant': [0.2, 0.3], \n",
    "      'considerable': [0.4, 0.6]\n",
    "    }\n",
    "  },\n",
    "  3: {\n",
    "    'blank': {'Decrease': 'a decrease in the unemployment rate', 'Increase': 'an increase in the unemployment rate'}, \n",
    "    'implications': {\n",
    "      'very low': [0.01, 0.1], \n",
    "      'low': [0.1, 0.3], \n",
    "      'moderate': [0.3, 0.5], \n",
    "      'high': [0.5, 0.7], \n",
    "      'very high': [0.7, 0.9], \n",
    "      'significant': [0.6, 0.8], \n",
    "      'negligible': [0.1, 0.2], \n",
    "      'substantial': [0.5, 0.7], \n",
    "      'insignificant': [0.2, 0.3], \n",
    "      'considerable': [0.4, 0.6]\n",
    "    }\n",
    "  },\n",
    "  4: {\n",
    "    'blank': {'High': 'high consumer confidence', 'Low': 'low consumer confidence'}, \n",
    "    'implications': {\n",
    "      'very low': [0.01, 0.1], \n",
    "      'low': [0.1, 0.3], \n",
    "      'moderate': [0.3, 0.5], \n",
    "      'high': [0.5, 0.7], \n",
    "      'very high': [0.7, 0.9], \n",
    "      'significant': [0.6, 0.8], \n",
    "      'negligible': [0.1, 0.2], \n",
    "      'substantial': [0.5, 0.7], \n",
    "      'insignificant': [0.2, 0.3], \n",
    "      'considerable': [0.4, 0.6]\n",
    "    }\n",
    "  },\n",
    "  5: {\n",
    "    'blank': {'Positive Growth': 'positive economic growth', 'No Growth': 'no economic growth'}, \n",
    "    'implications': {\n",
    "      'very low': [0.01, 0.1], \n",
    "      'low': [0.1, 0.3], \n",
    "      'moderate': [0.3, 0.5], \n",
    "      'high': [0.5, 0.7], \n",
    "      'very high': [0.7, 0.9], \n",
    "      'significant': [0.6, 0.8], \n",
    "      'negligible': [0.1, 0.2], \n",
    "      'substantial': [0.5, 0.7], \n",
    "      'insignificant': [0.2, 0.3], \n",
    "      'considerable': [0.4, 0.6]\n",
    "    }\n",
    "  },\n",
    "  6: {\n",
    "    'blank': {'Good': 'good market performance', 'Poor': 'poor market performance'}, \n",
    "    'implications': {\n",
    "      'very low': [0.01, 0.1], \n",
    "      'low': [0.1, 0.3], \n",
    "      'moderate': [0.3, 0.5], \n",
    "      'high': [0.5, 0.7], \n",
    "      'very high': [0.7, 0.9], \n",
    "      'significant': [0.6, 0.8], \n",
    "      'negligible': [0.1, 0.2], \n",
    "      'substantial': [0.5, 0.7], \n",
    "      'insignificant': [0.2, 0.3], \n",
    "      'considerable': [0.4, 0.6]\n",
    "    }\n",
    "  }\n",
    "}\n",
    "\n",
    "all(e1['implications'] == e2['implications'] for e1, e2 in combinations(evidence.values(), 2))\n"
   ],
   "metadata": {
    "collapsed": false,
    "ExecuteTime": {
     "end_time": "2023-11-17T14:10:45.018453412Z",
     "start_time": "2023-11-17T14:10:44.985886236Z"
    }
   },
   "id": "79cbbcae4d3e4455"
  },
  {
   "cell_type": "code",
   "execution_count": 121,
   "outputs": [
    {
     "name": "stdout",
     "output_type": "stream",
     "text": [
      "Title: China's economy grows 4.9% while the rest of the world is crippled by coronavirus - Daily Mail\n",
      "Description: China's economy has grown 4.9 percent in the third quarter from last year proving the country is back to its pre-pandemic trajectory as industrial production is up and unemployment is down.\n",
      "Original Language: English\n"
     ]
    }
   ],
   "source": [
    "print(ctx['spark'])"
   ],
   "metadata": {
    "collapsed": false,
    "ExecuteTime": {
     "end_time": "2023-11-17T14:40:34.386481665Z",
     "start_time": "2023-11-17T14:40:34.334250094Z"
    }
   },
   "id": "46ccd04c24fae20e"
  },
  {
   "cell_type": "code",
   "execution_count": null,
   "outputs": [],
   "source": [],
   "metadata": {
    "collapsed": false
   },
   "id": "cf82aa58afe6397b"
  },
  {
   "cell_type": "code",
   "execution_count": null,
   "outputs": [],
   "source": [
    "setting = {\n",
    "    \"introduction\": \"In light of China's notable economic growth of 4.9% amidst the global coronavirus pandemic, as reported by the Daily Mail, this causal model seeks to unravel the underlying factors contributing to this growth. It aims to provide insights into how different aspects such as industrial production and unemployment rates have played a role in shaping China's economic trajectory during this period.\",\n",
    "    \"overview\": \"Our causal graph is a simplified representation of the complex interplay between various economic factors. It includes variables like government policies, industrial production, and unemployment rates, each affecting the other in unique ways. For instance, government policies can be a confounder, affecting both unemployment and industrial production, while consumer confidence acts as a mediator, reflecting the impact of industrial changes on the overall economic growth.\",\n",
    "    \"questions\": {\n",
    "        1: {\"question\": \"Does an increase in industrial production have a positive effect on China's economic growth?\", \"answer\": \"yes\", \"explanation\": \"Given the economic context, an increase in industrial production likely contributes positively to economic growth.\", \"inequality\": \"ATE(IP) > 0\"},\n",
    "        2: {\"question\": \"Is the positive impact of decreasing unemployment on economic growth greater than that of increasing industrial production?\", \"answer\": \"no\", \"explanation\": \"Industrial production typically has a more direct and significant impact on economic growth compared to changes in unemployment rates.\", \"inequality\": \"ATE(UR) > ATE(IP)\"},\n",
    "        3: {\"question\": \"Does a decrease in the unemployment rate positively influence China's economic growth?\", \"answer\": \"yes\", \"explanation\": \"Lower unemployment generally leads to higher consumer spending and economic growth.\", \"inequality\": \"ATE(UR) > 0\"},\n",
    "        4: {\"question\": \"Is the impact of industrial production on economic growth stronger than the influence of government economic policies?\", \"answer\": \"yes\", \"explanation\": \"While government policies set the stage, industrial production is a more direct driver of economic growth.\", \"inequality\": \"ATE(IP) > ATE(GEP)\"},\n",
    "        5: {\"question\": \"Does a stimulative government policy have a greater positive effect on economic growth than an increase in industrial production?\", \"answer\": \"no\", \"explanation\": \"Industrial production, being a direct economic activity, likely has a stronger immediate impact on economic growth than general government policies.\", \"inequality\": \"ATE(GEP) > ATE(IP)\"}\n",
    "    },\n",
    "}\n"
   ],
   "metadata": {
    "collapsed": false
   },
   "id": "bcb1b46b3d4dc419"
  },
  {
   "cell_type": "code",
   "execution_count": 227,
   "outputs": [],
   "source": [
    "import pandas as pd\n",
    "from dowhy import CausalModel\n",
    "from networkx.drawing.nx_pydot import write_dot"
   ],
   "metadata": {
    "collapsed": false,
    "ExecuteTime": {
     "end_time": "2023-11-17T16:42:53.528932801Z",
     "start_time": "2023-11-17T16:42:53.492019Z"
    }
   },
   "id": "aa2676eeab935fe6"
  },
  {
   "cell_type": "code",
   "execution_count": 226,
   "outputs": [
    {
     "data": {
      "text/plain": "<networkx.classes.digraph.DiGraph at 0x7face779d850>"
     },
     "execution_count": 226,
     "metadata": {},
     "output_type": "execute_result"
    }
   ],
   "source": [
    "G = nx.DiGraph()\n",
    "for var in net.vars:\n",
    "    G.add_node(var.name)\n",
    "    for parent in var.parents:\n",
    "        G.add_edge(parent.name, var.name)\n",
    "G"
   ],
   "metadata": {
    "collapsed": false,
    "ExecuteTime": {
     "end_time": "2023-11-17T16:42:42.536213022Z",
     "start_time": "2023-11-17T16:42:42.484794281Z"
    }
   },
   "id": "5e7aafe933bd077f"
  },
  {
   "cell_type": "code",
   "execution_count": null,
   "outputs": [],
   "source": [],
   "metadata": {
    "collapsed": false
   },
   "id": "8c7e5e9f7b925deb"
  },
  {
   "cell_type": "code",
   "execution_count": null,
   "outputs": [],
   "source": [],
   "metadata": {
    "collapsed": false
   },
   "id": "826859c190c49f94"
  },
  {
   "cell_type": "code",
   "execution_count": 127,
   "outputs": [],
   "source": [
    "def convert_to_dot(nodes):\n",
    "    # Start the DOT graph definition\n",
    "    dot_graph = \"digraph {\\n\"\n",
    "\n",
    "    # Iterate over nodes to add them to the graph\n",
    "    for node in nodes:\n",
    "        dot_graph += f'    \"{node[\"name\"]}\" [label=\"{node[\"name\"]}: {node[\"description\"]}\"];\\n'\n",
    "\n",
    "        # Add edges from parents to this node\n",
    "        for parent in node.get(\"parents\", []):\n",
    "            dot_graph += f'    \"{parent}\" -> \"{node[\"name\"]}\";\\n'\n",
    "\n",
    "    dot_graph += \"}\\n\"\n",
    "    return dot_graph"
   ],
   "metadata": {
    "collapsed": false,
    "ExecuteTime": {
     "end_time": "2023-11-17T15:29:05.491002427Z",
     "start_time": "2023-11-17T15:29:05.471333306Z"
    }
   },
   "id": "4d7c72efc77402f6"
  },
  {
   "cell_type": "code",
   "execution_count": null,
   "outputs": [],
   "source": [],
   "metadata": {
    "collapsed": false
   },
   "id": "3c7139d76940267d"
  },
  {
   "cell_type": "code",
   "execution_count": null,
   "outputs": [],
   "source": [],
   "metadata": {
    "collapsed": false
   },
   "id": "ccaa22fdb7db1823"
  },
  {
   "cell_type": "code",
   "execution_count": null,
   "outputs": [],
   "source": [],
   "metadata": {
    "collapsed": false
   },
   "id": "70ed5f4de754786b"
  },
  {
   "cell_type": "code",
   "execution_count": 129,
   "outputs": [
    {
     "name": "stdout",
     "output_type": "stream",
     "text": [
      "\"GEP\" means \"Government Economic Policies\"\n",
      "\"IP\" means \"Industrial Production\"\n",
      "\"UR\" means \"Unemployment Rate\"\n",
      "\"CC\" means \"Consumer Confidence\"\n",
      "\"EG\" means \"Economic Growth\"\n",
      "\"MP\" means \"Market Performance\"\n"
     ]
    }
   ],
   "source": [
    "print(ctx['descriptions'])"
   ],
   "metadata": {
    "collapsed": false,
    "ExecuteTime": {
     "end_time": "2023-11-17T15:29:23.980795422Z",
     "start_time": "2023-11-17T15:29:23.959606348Z"
    }
   },
   "id": "27207467be5d57a"
  },
  {
   "cell_type": "code",
   "execution_count": 221,
   "outputs": [
    {
     "name": "stderr",
     "output_type": "stream",
     "text": [
      "ERROR:dowhy.causal_graph: Error: Pygraphviz cannot be loaded. No module named 'pygraphviz'\n",
      "Trying pydot ...\n"
     ]
    },
    {
     "name": "stdout",
     "output_type": "stream",
     "text": [
      "Estimand type: EstimandType.NONPARAMETRIC_ATE\n",
      "\n",
      "### Estimand : 1\n",
      "Estimand name: backdoor\n",
      "Estimand expression:\n",
      "  d               \n",
      "─────(E[EG|UR,IP])\n",
      "d[CC]             \n",
      "Estimand assumption 1, Unconfoundedness: If U→{CC} and U→EG then P(EG|CC,UR,IP,U) = P(EG|CC,UR,IP)\n",
      "\n",
      "### Estimand : 2\n",
      "Estimand name: iv\n",
      "No such variable(s) found!\n",
      "\n",
      "### Estimand : 3\n",
      "Estimand name: frontdoor\n",
      "No such variable(s) found!\n"
     ]
    },
    {
     "data": {
      "text/plain": "({'backdoor1': ['UR', 'IP', 'GEP'],\n  'backdoor2': ['UR', 'IP'],\n  'backdoor': ['UR', 'IP']},\n 'backdoor2')"
     },
     "execution_count": 221,
     "metadata": {},
     "output_type": "execute_result"
    }
   ],
   "source": [
    "# Create a dummy DataFrame\n",
    "# The columns should match the nodes in your causal graph\n",
    "dummy_data = pd.DataFrame({\n",
    "    'EG': [0],   # Economic Growth\n",
    "    'IP': [0],   # Industrial Production\n",
    "    'UR': [0],   # Unemployment Rate\n",
    "    'GEP': [0],  # Government Economic Policies\n",
    "    'CC': [0],   # Consumer Confidence\n",
    "    'MP': [0]    # Market Performance\n",
    "})\n",
    "\n",
    "# Define your DOT graph (use the function from the previous response)\n",
    "dot_graph = convert_to_dot(nodes)\n",
    "\n",
    "# Instantiate the CausalModel with dummy data\n",
    "model = CausalModel(\n",
    "    data=dummy_data,\n",
    "    treatment='CC',  # Replace with your treatment variable name\n",
    "    outcome='EG',      # Replace with your outcome variable name\n",
    "    graph=dot_graph\n",
    ")\n",
    "\n",
    "identified_estimand = model.identify_effect()\n",
    "print(identified_estimand)\n",
    "\n",
    "from sympy import pretty\n",
    "\n",
    "# # Assuming 'identified_estimand' is the object returned by model.identify_effect()\n",
    "# \n",
    "# # Print the basic information about the estimand\n",
    "# print(\"Estimand Identifier:\", identified_estimand.identifier)\n",
    "# print(\"Estimand Type:\", identified_estimand.estimand_type)\n",
    "# \n",
    "# # Accessing the estimands attribute\n",
    "# estimands_info = identified_estimand.estimands\n",
    "# \n",
    "# # Displaying the estimands information\n",
    "# print(\"Estimands Information:\")\n",
    "# print(estimands_info)\n",
    "\n",
    "identified_estimand.backdoor_variables, identified_estimand.default_backdoor_id"
   ],
   "metadata": {
    "collapsed": false,
    "ExecuteTime": {
     "end_time": "2023-11-17T16:20:35.773521574Z",
     "start_time": "2023-11-17T16:20:35.723047563Z"
    }
   },
   "id": "93d6c72207e41e7d"
  },
  {
   "cell_type": "code",
   "execution_count": 222,
   "outputs": [
    {
     "data": {
      "text/plain": "  d               \n─────(E[EG|UR,IP])\nd[CC]             ",
      "text/latex": "$\\displaystyle \\frac{d}{d \\left[\\begin{matrix}CC\\end{matrix}\\right]} \\operatorname{E}\\left[EG|UR,IP\\right]$"
     },
     "execution_count": 222,
     "metadata": {},
     "output_type": "execute_result"
    }
   ],
   "source": [
    "sym = identified_estimand.estimands[identified_estimand.default_backdoor_id]['estimand']\n",
    "sym"
   ],
   "metadata": {
    "collapsed": false,
    "ExecuteTime": {
     "end_time": "2023-11-17T16:20:37.010913900Z",
     "start_time": "2023-11-17T16:20:36.939807580Z"
    }
   },
   "id": "71c98945aa48f639"
  },
  {
   "cell_type": "code",
   "execution_count": 223,
   "outputs": [
    {
     "name": "stdout",
     "output_type": "stream",
     "text": [
      "  d               \n",
      "─────(E[EG|UR,IP])\n",
      "d[CC]             \n"
     ]
    }
   ],
   "source": [
    "print(pretty(sym))"
   ],
   "metadata": {
    "collapsed": false,
    "ExecuteTime": {
     "end_time": "2023-11-17T16:20:37.530553227Z",
     "start_time": "2023-11-17T16:20:37.514577711Z"
    }
   },
   "id": "81dca0ac3d6af062"
  },
  {
   "cell_type": "code",
   "execution_count": 224,
   "outputs": [
    {
     "name": "stdout",
     "output_type": "stream",
     "text": [
      "EG CC ['UR', 'IP']\n"
     ]
    }
   ],
   "source": [
    "do = sym.args[1][0].args[0][0].name\n",
    "exp = sym.args[0].args[0].name\n",
    "if '|' in exp:\n",
    "    outcome, cond = exp.split('|')\n",
    "    cond = cond.split(',')\n",
    "else:\n",
    "    outcome = exp\n",
    "    cond = []\n",
    "    \n",
    "print(outcome, do, cond)"
   ],
   "metadata": {
    "collapsed": false,
    "ExecuteTime": {
     "end_time": "2023-11-17T16:20:38.501074816Z",
     "start_time": "2023-11-17T16:20:38.443318970Z"
    }
   },
   "id": "42a9234e24004c1b"
  },
  {
   "cell_type": "code",
   "execution_count": 229,
   "outputs": [
    {
     "name": "stdout",
     "output_type": "stream",
     "text": [
      "ATE(CC -> EG) = E_{UR=u,IP=v} [ p(EG=1 | CC=1,UR=u,IP=v) - p(EG=1 | CC=0,UR=u,IP=v) ]\n"
     ]
    }
   ],
   "source": [
    "dummyvars = 'uvwxyz'\n",
    "assert len(cond) <= len(dummyvars)\n",
    "psum = ''\n",
    "condsuffix = ''\n",
    "if len(cond):\n",
    "    psum = ','.join(f'{v}={dummyvars[i]}' for i, v in enumerate(cond))\n",
    "    psum = f'E_{{{psum}}} '\n",
    "\n",
    "    condsuffix = ',' + ','.join(f'{v}={dummyvars[i]}' for i, v in enumerate(cond))\n",
    "\n",
    "expr = f'{psum}{\"[ \" if len(cond) else \"\"}p({outcome}=1 | {do}=1{condsuffix}) - p({outcome}=1 | {do}=0{condsuffix}){\" ]\" if len(cond) else \"\"}'\n",
    "\n",
    "# expr = (f'{psum}{\" [ \" if len(cond) else \"\"}p({outcome} | {do}=1{\", \" + \", \".join(cond) if len(cond) else \"\"}) - p({outcome} | {do}=0{\", \" + \",\".join(cond) if len(cond) else \"\"}){\" ]\" if len(cond) else \"\"}')\n",
    "print(f'ATE({do} -> {outcome}) = {expr}')"
   ],
   "metadata": {
    "collapsed": false,
    "ExecuteTime": {
     "end_time": "2023-11-17T17:06:39.653520046Z",
     "start_time": "2023-11-17T17:06:39.579828051Z"
    }
   },
   "id": "3c4b6395db86d3a5"
  },
  {
   "cell_type": "code",
   "execution_count": 215,
   "outputs": [],
   "source": [],
   "metadata": {
    "collapsed": false,
    "ExecuteTime": {
     "end_time": "2023-11-17T16:19:16.720067792Z",
     "start_time": "2023-11-17T16:19:16.682463947Z"
    }
   },
   "id": "f10832a3a199de04"
  },
  {
   "cell_type": "code",
   "execution_count": null,
   "outputs": [],
   "source": [],
   "metadata": {
    "collapsed": false
   },
   "id": "ce7532d3e5f9710c"
  },
  {
   "cell_type": "code",
   "execution_count": 153,
   "outputs": [
    {
     "ename": "AttributeError",
     "evalue": "'ImmutableDenseNDimArray' object has no attribute 'name'",
     "output_type": "error",
     "traceback": [
      "\u001B[0;31m---------------------------------------------------------------------------\u001B[0m",
      "\u001B[0;31mAttributeError\u001B[0m                            Traceback (most recent call last)",
      "Cell \u001B[0;32mIn[153], line 1\u001B[0m\n\u001B[0;32m----> 1\u001B[0m \u001B[43msym\u001B[49m\u001B[38;5;241;43m.\u001B[39;49m\u001B[43mvariables\u001B[49m\u001B[43m[\u001B[49m\u001B[38;5;241;43m0\u001B[39;49m\u001B[43m]\u001B[49m\u001B[38;5;241;43m.\u001B[39;49m\u001B[43mname\u001B[49m\n",
      "\u001B[0;31mAttributeError\u001B[0m: 'ImmutableDenseNDimArray' object has no attribute 'name'"
     ]
    }
   ],
   "source": [
    "sym.variables[0]"
   ],
   "metadata": {
    "collapsed": false,
    "ExecuteTime": {
     "end_time": "2023-11-17T15:41:40.436083421Z",
     "start_time": "2023-11-17T15:41:40.421360492Z"
    }
   },
   "id": "37bf7343710ee697"
  },
  {
   "cell_type": "code",
   "execution_count": 154,
   "outputs": [
    {
     "data": {
      "text/plain": "E[EG|GEP]",
      "image/png": "[encoded data removed]",
      "text/latex": "$\\displaystyle \\operatorname{E}\\left[EG|GEP\\right]$"
     },
     "execution_count": 154,
     "metadata": {},
     "output_type": "execute_result"
    }
   ],
   "source": [
    "expr = sym.expr\n",
    "expr"
   ],
   "metadata": {
    "collapsed": false,
    "ExecuteTime": {
     "end_time": "2023-11-17T15:42:23.896056718Z",
     "start_time": "2023-11-17T15:42:23.817110496Z"
    }
   },
   "id": "7ca9b5d52e9bdc53"
  },
  {
   "cell_type": "code",
   "execution_count": 159,
   "outputs": [],
   "source": [
    "e = expr.args[0]"
   ],
   "metadata": {
    "collapsed": false,
    "ExecuteTime": {
     "end_time": "2023-11-17T15:48:29.372834510Z",
     "start_time": "2023-11-17T15:48:29.331815176Z"
    }
   },
   "id": "942f1e9a7ab93ef2"
  },
  {
   "cell_type": "code",
   "execution_count": 160,
   "outputs": [
    {
     "data": {
      "text/plain": "⎛⎡⎛  d               ⎛                ⎛  d              ⎞⎞⎞⎤    ⎞\n⎜⎢⎜─────(E[EG|GEP]), ⎜(1.0, 0.0), (), ⎜─────(E[EG|GEP]),⎟⎟⎟⎥, []⎟\n⎝⎣⎝d[UR]             ⎝                ⎝d[UR]            ⎠⎠⎠⎦    ⎠",
      "text/latex": "$\\displaystyle \\left( \\left[ \\left( \\frac{d}{d \\left[\\begin{matrix}UR\\end{matrix}\\right]} \\operatorname{E}\\left[EG|GEP\\right], \\  \\left( \\left( 1.0, \\  0.0\\right), \\  \\left( \\right), \\  \\left( \\frac{d}{d \\left[\\begin{matrix}UR\\end{matrix}\\right]} \\operatorname{E}\\left[EG|GEP\\right],\\right)\\right)\\right)\\right], \\  \\left[ \\right]\\right)$"
     },
     "execution_count": 160,
     "metadata": {},
     "output_type": "execute_result"
    }
   ],
   "source": [
    "terms = sym.as_terms()\n",
    "terms"
   ],
   "metadata": {
    "collapsed": false,
    "ExecuteTime": {
     "end_time": "2023-11-17T15:54:02.518522151Z",
     "start_time": "2023-11-17T15:54:02.447641319Z"
    }
   },
   "id": "17f662ccb78cb6da"
  },
  {
   "cell_type": "code",
   "execution_count": 161,
   "outputs": [
    {
     "name": "stdout",
     "output_type": "stream",
     "text": [
      "Expression: Derivative(Expectation(EG|GEP), [UR])\n",
      "Coefficient: ((1.0, 0.0), (), (Derivative(Expectation(EG|GEP), [UR]),))\n"
     ]
    }
   ],
   "source": [
    "for term in terms[0]:\n",
    "    # Each term is a tuple, with the first element being the term itself and the second being its coefficient\n",
    "    expression, coefficient = term\n",
    "    # You can now analyze 'expression' and 'coefficient' to extract variable names and their relationships\n",
    "    # For instance, print them out to see their structure\n",
    "    print(\"Expression:\", expression)\n",
    "    print(\"Coefficient:\", coefficient)"
   ],
   "metadata": {
    "collapsed": false,
    "ExecuteTime": {
     "end_time": "2023-11-17T15:54:25.600817796Z",
     "start_time": "2023-11-17T15:54:25.565631474Z"
    }
   },
   "id": "50280e325b2cda90"
  },
  {
   "cell_type": "code",
   "execution_count": 164,
   "outputs": [
    {
     "name": "stdout",
     "output_type": "stream",
     "text": [
      "Expression: Derivative(E(EG, GEP), UR)\n",
      "Coefficient: ((1.0, 0.0), (1,), ())\n"
     ]
    }
   ],
   "source": [
    "from sympy import symbols, Derivative, Function\n",
    "\n",
    "# Define your symbols\n",
    "EG, GEP, UR = symbols('EG GEP UR')\n",
    "\n",
    "# Define the expected value function\n",
    "E = Function('E')(EG, GEP)\n",
    "\n",
    "# Define the derivative\n",
    "deriv = Derivative(E, UR)\n",
    "\n",
    "# Extract terms from the derivative\n",
    "terms = deriv.as_terms()\n",
    "\n",
    "# Process the terms to extract variable names and relationships\n",
    "# terms is a tuple, where the first element contains the terms\n",
    "for term in terms[0]:\n",
    "    # Each term is a tuple, with the first element being the term itself and the second being its coefficient\n",
    "    expression, coefficient = term\n",
    "    # You can now analyze 'expression' and 'coefficient' to extract variable names and their relationships\n",
    "    # For instance, print them out to see their structure\n",
    "    print(\"Expression:\", expression)\n",
    "    print(\"Coefficient:\", coefficient)"
   ],
   "metadata": {
    "collapsed": false,
    "ExecuteTime": {
     "end_time": "2023-11-17T15:55:19.554568299Z",
     "start_time": "2023-11-17T15:55:19.447398010Z"
    }
   },
   "id": "a83ad5dd7c6dc685"
  },
  {
   "cell_type": "code",
   "execution_count": 167,
   "outputs": [
    {
     "data": {
      "text/plain": " ∂             \n───(E(EG, GEP))\n∂UR            ",
      "image/png": "[encoded data removed]",
      "text/latex": "$\\displaystyle \\frac{\\partial}{\\partial UR} E{\\left(EG,GEP \\right)}$"
     },
     "execution_count": 167,
     "metadata": {},
     "output_type": "execute_result"
    }
   ],
   "source": [
    "deriv"
   ],
   "metadata": {
    "collapsed": false,
    "ExecuteTime": {
     "end_time": "2023-11-17T15:59:32.937196075Z",
     "start_time": "2023-11-17T15:59:32.851668831Z"
    }
   },
   "id": "11fe1cb94c8c0c7e"
  },
  {
   "cell_type": "code",
   "execution_count": 166,
   "outputs": [
    {
     "data": {
      "text/plain": "(EG, GEP)",
      "image/png": "[encoded data removed]",
      "text/latex": "$\\displaystyle \\left( EG, \\  GEP\\right)$"
     },
     "execution_count": 166,
     "metadata": {},
     "output_type": "execute_result"
    }
   ],
   "source": [
    "E.args"
   ],
   "metadata": {
    "collapsed": false,
    "ExecuteTime": {
     "end_time": "2023-11-17T15:59:25.637477739Z",
     "start_time": "2023-11-17T15:59:25.562784063Z"
    }
   },
   "id": "d54fe53bb33c4c02"
  },
  {
   "cell_type": "code",
   "execution_count": null,
   "outputs": [],
   "source": [],
   "metadata": {
    "collapsed": false
   },
   "id": "b6436dbf1a4b3a4e"
  },
  {
   "cell_type": "code",
   "execution_count": null,
   "outputs": [],
   "source": [],
   "metadata": {
    "collapsed": false
   },
   "id": "e1ab83f0f02c3b51"
  },
  {
   "cell_type": "code",
   "execution_count": null,
   "id": "initial_id",
   "metadata": {
    "collapsed": true
   },
   "outputs": [],
   "source": []
  }
 ],
 "metadata": {
  "kernelspec": {
   "display_name": "Python 3",
   "language": "python",
   "name": "python3"
  },
  "language_info": {
   "codemirror_mode": {
    "name": "ipython",
    "version": 2
   },
   "file_extension": ".py",
   "mimetype": "text/x-python",
   "name": "python",
   "nbconvert_exporter": "python",
   "pygments_lexer": "ipython2",
   "version": "2.7.6"
  }
 },
 "nbformat": 4,
 "nbformat_minor": 5
}

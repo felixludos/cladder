{
 "cells": [
  {
   "cell_type": "code",
   "execution_count": 14,
   "id": "initial_id",
   "metadata": {
    "collapsed": true,
    "ExecuteTime": {
     "end_time": "2023-11-27T15:42:13.906101703Z",
     "start_time": "2023-11-27T15:42:13.861302035Z"
    }
   },
   "outputs": [],
   "source": [
    "from pathlib import Path\n",
    "from omnibelt import toposort, load_json, save_json, pformat, pformat_vars\n",
    "from itertools import product, combinations\n",
    "# import pyperclip\n",
    "import random\n",
    "from PIL import Image\n",
    "from graphviz import Digraph\n",
    "import matplotlib.pyplot as plt\n",
    "import io\n",
    "# import clipboard\n",
    "import networkx as nx\n",
    "from tqdm.notebook import tqdm\n",
    "from tabulate import tabulate\n",
    "import matplotlib.pyplot as plt\n",
    "import seaborn as sns\n",
    "from omniply import tool, ToolKit, Context\n",
    "\n",
    "import numpy as np\n",
    "import torch\n",
    "from causalbenchmark.novo.simulation.models import Bernoulli, ConditionalBernoulli, BernoulliNetwork\n",
    "from causalbenchmark.novo.seeding import NewsHeadlines, StatisticsPrompting, Story\n",
    "# from causalbenchmark.novo.seeding.prompting import GraphInfo\n",
    "from causalbenchmark.novo.templating import FixedTemplate, SimpleTemplater\n",
    "from causalbenchmark.novo import misc"
   ]
  },
  {
   "cell_type": "code",
   "execution_count": 5,
   "outputs": [
    {
     "data": {
      "text/plain": "3",
      "image/png": "[encoded data removed]",
      "text/latex": "$\\displaystyle 3$"
     },
     "execution_count": 5,
     "metadata": {},
     "output_type": "execute_result"
    }
   ],
   "source": [
    "story_names = [\n",
    "\t'test19',\n",
    "\t'test20',\n",
    "\t'test21',\n",
    "]\n",
    "stories = []\n",
    "for name in story_names:\n",
    "\tstory = Story(story_root=misc.data_root() / 'stories', story_id=name).populate_defaults()\n",
    "\tstories.append(story)\n",
    "\t\n",
    "\tstory['stats'] = {int(k): v for k, v in story['stats'].items()}\n",
    "\tstory['verbs'] = {k: {int(k2): v2 for k2, v2 in v.items()} for k, v in story['verbs'].items()}\n",
    "\tfor k, v in story['verbs'].items():\n",
    "\t\tfor k2, v2 in v.items():\n",
    "\t\t\tif 'value' in v2:\n",
    "\t\t\t\tv2['value'] = {int(k3): v3 for k3, v3 in v2['value'].items()}\n",
    "\tstory['questions']['questions'] = {int(k): v for k, v in story['questions']['questions'].items()}\n",
    "len(stories)"
   ],
   "metadata": {
    "collapsed": false,
    "ExecuteTime": {
     "end_time": "2023-11-27T15:15:03.983233622Z",
     "start_time": "2023-11-27T15:15:03.852521876Z"
    }
   },
   "id": "604bd583b4084ccd"
  },
  {
   "cell_type": "code",
   "execution_count": 8,
   "outputs": [],
   "source": [
    "ctx = random.choice(stories)"
   ],
   "metadata": {
    "collapsed": false,
    "ExecuteTime": {
     "end_time": "2023-11-27T15:16:09.405245686Z",
     "start_time": "2023-11-27T15:16:09.325714771Z"
    }
   },
   "id": "b406baa2ddb318f5"
  },
  {
   "cell_type": "code",
   "execution_count": 9,
   "outputs": [],
   "source": [
    "rawverbs = ctx['verbs']\n",
    "rawvars = {node['name']: node for node in ctx['nodes']}"
   ],
   "metadata": {
    "collapsed": false,
    "ExecuteTime": {
     "end_time": "2023-11-27T15:16:09.557395498Z",
     "start_time": "2023-11-27T15:16:09.507409640Z"
    }
   },
   "id": "d93eee3117a87124"
  },
  {
   "cell_type": "code",
   "execution_count": 10,
   "outputs": [
    {
     "data": {
      "text/plain": "{1: {'variable': ['the local economic strength',\n   'the robustness of the local economy']},\n 2: {'subject': 'the area',\n  'value': {0: ['experiences a struggling economy',\n    'is facing economic difficulties'],\n   1: ['enjoys a thriving economy', 'benefits from a strong economy']}},\n 3: {'value': {0: ['the economy is struggling',\n    'economic challenges are prevalent'],\n   1: ['the economy is robust', \"there's economic prosperity\"]}},\n 4: {'domain': 'regions',\n  'value': {0: ['are economically struggling', 'face economic challenges'],\n   1: ['are economically strong', 'exhibit economic prosperity']}},\n 5: {'value': {0: ['the economy falters', 'economic downturns are seen'],\n   1: ['the economy flourishes', 'economic growth is evident']}},\n 6: {'value': {0: ['In regions with a weak economy',\n    'Where the economy is struggling'],\n   1: ['In areas with a strong economy', 'Where the economy is flourishing']}},\n 7: {'value': {0: ['if the local economy weakens',\n    'if economic conditions deteriorate'],\n   1: ['if the local economy strengthens', 'if economic conditions improve']}}}"
     },
     "execution_count": 10,
     "metadata": {},
     "output_type": "execute_result"
    }
   ],
   "source": [
    "next(iter(rawverbs.values()))"
   ],
   "metadata": {
    "collapsed": false,
    "ExecuteTime": {
     "end_time": "2023-11-27T15:16:10.144231518Z",
     "start_time": "2023-11-27T15:16:10.076903233Z"
    }
   },
   "id": "ba8a8eecbb41aff"
  },
  {
   "cell_type": "code",
   "execution_count": 13,
   "outputs": [],
   "source": [
    "def story_atoms(story):\n",
    "\tvarverbs = {}\n",
    "\tfor var, raw in story['verbs'].items():\n",
    "\t\tinfo = {'values': {0: {}, 1: {}}}\n",
    "\t\t\n",
    "\t\tinfo['variable'] = raw[1]['variable']\n",
    "\t\tinfo['subject'] = raw[2]['subject']\n",
    "\t\tinfo['domain'] = raw[4]['domain']\n",
    "\t\t\n",
    "\t\tfor i in [0, 1]:\n",
    "\t\t\tinfo_val = info['values'][i]\n",
    "\t\t\tinfo_val['verb'] = raw[2]['value'][i] # goes with subject\n",
    "\t\t\tinfo_val['phrase'] = raw[3]['value'][i]\n",
    "\t\t\tinfo_val['descriptor'] = raw[4]['value'][i] # goes with domain\n",
    "\t\t\tinfo_val['event'] = raw[5]['value'][i]\n",
    "\t\t\tinfo_val['conditional'] = raw[6]['value'][i]\n",
    "\t\t\tinfo_val['interventional'] = raw[7]['value'][i]\n",
    "\t\t\t\n",
    "\t\tvarverbs[var] = info\n",
    "\t\n",
    "\tstory['sheet'] = varverbs\n",
    "\treturn story\n",
    "\n",
    "for story in stories:\n",
    "\tstory_atoms(story)"
   ],
   "metadata": {
    "collapsed": false,
    "ExecuteTime": {
     "end_time": "2023-11-27T15:26:29.442079936Z",
     "start_time": "2023-11-27T15:26:29.379865912Z"
    }
   },
   "id": "172e69abce303632"
  },
  {
   "cell_type": "code",
   "execution_count": null,
   "outputs": [],
   "source": [
    "precise_templates = [\n",
    "\t['there', 'is', 'a', '{quantity}', '{prob_word}', 'that', '{position}'],\n",
    "\t['the', '{chance_word}', 'that', '{position}', '{\"are\" if chance_word == \"odds\" else \"is\"}', '{quantity}'],\n",
    "\t['{quantity}', 'of', 'the', 'time', '{position}'],\n",
    "]\n",
    "\n",
    "position_templates = [\n",
    "\t['{subject}', '{verb}',],\n",
    "\t['{domain}', '{descriptor}'],\n",
    "\t['{phrase}',],\n",
    "\t['{event}',],\n",
    "]\n",
    "\n",
    "prob_words = ['probability', 'chance', 'likelihood']\n",
    "chance_words = ['probability', 'chance', 'likelihood', 'odds']\n",
    "\n"
   ],
   "metadata": {
    "collapsed": false
   },
   "id": "eca2719f35b8fe6d"
  },
  {
   "cell_type": "code",
   "execution_count": 18,
   "outputs": [],
   "source": [
    "def detok(tokens):\n",
    "\ttoks = [', ' if tok == ',' else tok for tok in tokens]\n",
    "\tsentence = ' '.join(toks) + '.'\n",
    "\treturn sentence.capitalize()"
   ],
   "metadata": {
    "collapsed": false,
    "ExecuteTime": {
     "end_time": "2023-11-27T15:47:41.226348946Z",
     "start_time": "2023-11-27T15:47:41.210297087Z"
    }
   },
   "id": "1aab35e99d67d976"
  },
  {
   "cell_type": "code",
   "execution_count": null,
   "outputs": [],
   "source": [
    "# 1. One of the variables is {variable}.\n",
    "# 2. We estimate {subject} [often/usually/sometimes/rarely/etc.] {value}.\n",
    "# 3. There is a [number]% chance that {value}.\n",
    "# 4. [number]% of {domain} {value}.\n",
    "# 5. [number]% of the time {value}.\n",
    "# 6. Conditional sentence: {value}, [some consequence].\n",
    "# 7. Interventional: If {value}, [some effect]."
   ],
   "metadata": {
    "collapsed": false
   },
   "id": "eb8aeeebcf773cdf"
  },
  {
   "cell_type": "code",
   "execution_count": null,
   "outputs": [],
   "source": [
    "class Decision(AbstractMultiGadget):\n",
    "\tdef __init__(self, name: str, choices: list['AbstractGadget'] | dict[str, 'AbstractGadget'], id_name: str = None, **kwargs):\n",
    "\t\tif id_name is None:\n",
    "\t\t\tid_name = f'{name}_id'\n",
    "\t\tif isinstance(choices, list):\n",
    "\t\t\tchoices = {i: c for i, c in enumerate(choices)}\n",
    "\t\tsuper().__init__(**kwargs)\n",
    "\t\tself._choice_ids = list(choices.keys())\n",
    "\t\tself._choices = choices\n",
    "\t\tself._name = name\n",
    "\t\tself._id_name = id_name\n",
    "\t\t\n",
    "\tdef __len__(self):\n",
    "\t\treturn len(self._choice_ids)\n",
    "\t\t\n",
    "\tdef gizmos(self):\n",
    "\t\tyield from (self._id_name, self._name)\n",
    "\t\n",
    "\tdef pick(self, ctx: Context = None):\n",
    "\t\treturn random.choice(list(self._choices.keys())) if ctx is None else ctx.select(list(self._choice_ids))\n",
    "\t\n",
    "\tdef grab_from(self, ctx: Context, gizmo: str = None):\n",
    "\t\tif gizmo is None:\n",
    "\t\t\tgizmo = self._name\n",
    "\t\tif gizmo == self._id_name:\n",
    "\t\t\tpass\n",
    "\t\t\t\n",
    "\t\t\t\n",
    "\t\t\treturn self._choices[ctx[self._id_name]]\n",
    "\t\t\n",
    "\t\tself._name = ctx[self._name]\n",
    "\t\tself._id_name = ctx[self._id_name]\n",
    "\t\treturn self\n",
    "\t\n",
    "\tpass\n",
    "\n",
    "\n",
    "class ClauseVerbalizer(Context):\n",
    "\tdef __init__(self, rng=None, **kwargs):\n",
    "\t\tif rng is None:\n",
    "\t\t\trng = misc.get_rng(rng)\n",
    "\t\tsuper().__init__(**kwargs)\n",
    "\t\tself._rng = rng\n",
    "\t\t\t\n",
    "\t\t\t\n",
    "\tdef populate_default(self):\n",
    "\t\t\n",
    "\t\t\n",
    "\t\t\n",
    "\t\treturn self\n",
    "\t\n",
    "\t"
   ],
   "metadata": {
    "collapsed": false
   },
   "id": "238567e178379552"
  },
  {
   "cell_type": "code",
   "execution_count": null,
   "outputs": [],
   "source": [],
   "metadata": {
    "collapsed": false
   },
   "id": "28f852100b5fcba3"
  },
  {
   "cell_type": "code",
   "execution_count": null,
   "outputs": [],
   "source": [],
   "metadata": {
    "collapsed": false
   },
   "id": "27eac865d2408b88"
  },
  {
   "cell_type": "code",
   "execution_count": null,
   "outputs": [],
   "source": [],
   "metadata": {
    "collapsed": false,
    "ExecuteTime": {
     "end_time": "2023-11-27T15:11:52.536416030Z",
     "start_time": "2023-11-27T15:11:52.478641307Z"
    }
   },
   "id": "10620b6940b3b876"
  },
  {
   "cell_type": "code",
   "execution_count": null,
   "outputs": [],
   "source": [],
   "metadata": {
    "collapsed": false
   },
   "id": "960b14f65ddc10ec"
  }
 ],
 "metadata": {
  "kernelspec": {
   "display_name": "Python 3",
   "language": "python",
   "name": "python3"
  },
  "language_info": {
   "codemirror_mode": {
    "name": "ipython",
    "version": 2
   },
   "file_extension": ".py",
   "mimetype": "text/x-python",
   "name": "python",
   "nbconvert_exporter": "python",
   "pygments_lexer": "ipython2",
   "version": "2.7.6"
  }
 },
 "nbformat": 4,
 "nbformat_minor": 5
}

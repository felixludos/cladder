{
 "cells": [
  {
   "cell_type": "code",
   "execution_count": 2,
   "outputs": [],
   "source": [
    "from pathlib import Path\n",
    "from omnibelt import toposort, load_json, save_json\n",
    "from itertools import product, combinations\n",
    "# import pyperclip\n",
    "import random\n",
    "import json\n",
    "from PIL import Image\n",
    "from graphviz import Digraph\n",
    "import matplotlib.pyplot as plt\n",
    "import io\n",
    "# import clipboard\n",
    "import networkx as nx\n",
    "from tqdm.notebook import tqdm\n",
    "from tabulate import tabulate\n",
    "import matplotlib.pyplot as plt\n",
    "import seaborn as sns\n",
    "from omniply import tool, ToolKit, Context\n",
    "\n",
    "import numpy as np\n",
    "import torch\n",
    "from causalbenchmark.novo.simulation.models import Bernoulli, ConditionalBernoulli, BernoulliNetwork\n",
    "from causalbenchmark.novo.seeding import NewsHeadlines, StatisticsPrompting, Story\n",
    "# from causalbenchmark.novo.seeding.prompting import GraphInfo\n",
    "from causalbenchmark.novo.templating import FixedTemplate, SimpleTemplater, FileTemplate\n",
    "from causalbenchmark.novo import misc"
   ],
   "metadata": {
    "collapsed": false,
    "ExecuteTime": {
     "end_time": "2024-01-04T10:22:37.396771700Z",
     "start_time": "2024-01-04T10:22:23.799734600Z"
    }
   },
   "id": "e4dbd77df7c7caae"
  },
  {
   "cell_type": "code",
   "execution_count": 3,
   "outputs": [
    {
     "data": {
      "text/plain": "  0%|          | 0/5 [00:00<?, ?it/s]",
      "application/vnd.jupyter.widget-view+json": {
       "version_major": 2,
       "version_minor": 0,
       "model_id": "deafc7fa8e8544649ba05394f5a8be0a"
      }
     },
     "metadata": {},
     "output_type": "display_data"
    },
    {
     "data": {
      "text/plain": "550074",
      "image/png": "[encoded data removed]",
      "text/latex": "$\\displaystyle 550074$"
     },
     "execution_count": 3,
     "metadata": {},
     "output_type": "execute_result"
    }
   ],
   "source": [
    "spark_generator = NewsHeadlines(locs=['gb', 'de', 'fr', 'it', 'nl'], \n",
    "                                # dataset_root=Path(r'/home/fleeb/workspace/local_data/nnn/babel-briefings-v1'),\n",
    "                                # dataset_root=Path(r'C:\\Users\\anwan\\Documents\\workspace\\nnn\\babel-briefings-v1'),\n",
    "                                dataset_root=Path(r'C:\\Users\\anwan\\workspace\\local_data\\nnn\\babel-briefings-v1'),\n",
    "                                ).load(pbar=tqdm)\n",
    "len(spark_generator.article_IDs)"
   ],
   "metadata": {
    "collapsed": false,
    "ExecuteTime": {
     "end_time": "2024-01-04T10:23:01.852865600Z",
     "start_time": "2024-01-04T10:22:38.639568300Z"
    }
   },
   "id": "a3e440a9e9d43579"
  },
  {
   "cell_type": "code",
   "execution_count": 43,
   "outputs": [
    {
     "name": "stdout",
     "output_type": "stream",
     "text": [
      "1997993\n",
      "Title: The Wheel: Michael McIntyre’s gameshow infuriates BBC viewers 'Too confusing!' - Daily Express\n",
      "Description: MICHAEL MCINTYRE'S brand-new gameshow The Wheel kicked off on BBC One this evening - but some viewers had trouble getting their heads around the rules of the latest prime-time show.\n",
      "Original Language: English\n"
     ]
    }
   ],
   "source": [
    "# ctx = Story(story_root=misc.data_root() / 'stories', story_id='test17')\n",
    "ctx = Story(story_root=misc.data_root() / 'stories').populate_defaults()\n",
    "ctx.include(spark_generator,)\n",
    "# print(ctx)\n",
    "# ctx['seed'] = 6660483#2494534#91220#1684065#6805333\n",
    "# ctx['seed'] = 3506717#3357669#6660483\n",
    "# ctx['spark'] = '''Title: Naples, Apple renews the Academy program with the Federico II University - Rai News\n",
    "# Description: The academic training born between Cupertino and the University in 2016 restarts at the San Giovanni a Teduccio headquarters\n",
    "# Original Language: Italian'''\n",
    "print(ctx['seed'])\n",
    "print(ctx['spark'])"
   ],
   "metadata": {
    "collapsed": false,
    "ExecuteTime": {
     "end_time": "2024-01-04T10:55:10.036782800Z",
     "start_time": "2024-01-04T10:55:09.958305300Z"
    }
   },
   "id": "46baeb3a28e45ee"
  },
  {
   "cell_type": "code",
   "execution_count": 26,
   "outputs": [
    {
     "name": "stdout",
     "output_type": "stream",
     "text": [
      "We have a news article headline, and we would like to identify a potential specific analysis that could be motivated by the article. Importantly, we would like specific details to be mentioned in the setting, even if they don't show up in the original article, to paint a vivid picture of the motivation and potential features of the data.\n",
      "\n",
      "Here is the article headline:\n",
      "\n",
      "```\n",
      "Title: Follow the opening stage of the Tour of Britain 2021 - Cycling Flash here\n",
      "Description: Many riders use the Benelux Tour as the last multi-day event in their preparation for the World Championships in Leuven at the end of September. However, there are also a number of people who want to dot their i's and cross their i's in the Tour of Britain. Today is the opening stage between…\n",
      "Original Language: Dutch\n",
      "```\n",
      "\n",
      "Write a 2-3 sentence introduction to a statistical analysis that could be motivated by this article. Be sure to include specific details about the data that would be used and the analysis that would be performed. You do not need to write the entire analysis, just the introduction. Avoid using any technical jargon (such as words like \"statistical analysis\" or \"model\" and avoid starting with \"imagine\") and make sure the introduction is accessible to laypeople (albeit in a professional setting), and the motivation is clear. Imagine a casual conversation between friends or colleagues about the article that may prompt some deeper quantitative analysis when thinking about it, and make sure this introduction would sound understandable and interesting to them.\n",
      "\n",
      "Answer in the form of a json dictionary with two entries: one for the `introduction` and one for a proposed `title` for this specific setting that can serve as a file name.\n"
     ]
    }
   ],
   "source": [
    "# if 'prompt_story' in ctx:\n",
    "#     del ctx['prompt_motivation']\n",
    "print(ctx['prompt_motivation'])"
   ],
   "metadata": {
    "collapsed": false,
    "ExecuteTime": {
     "end_time": "2024-01-04T10:38:37.284348Z",
     "start_time": "2024-01-04T10:38:37.184567500Z"
    }
   },
   "id": "3785127939de600d"
  },
  {
   "cell_type": "code",
   "execution_count": 28,
   "outputs": [],
   "source": [
    "##############################################\n",
    "motivation_raw = '''\n",
    "\n",
    "{\n",
    "  \"introduction\": \"With the Tour of Britain 2021 igniting excitement among cycling enthusiasts, it's interesting to delve into the performance trends of riders who participate in both the Benelux Tour and the Tour of Britain. By comparing their finishing times, average speeds, and stage rankings in these events, we can uncover insights into how the rigors of the Benelux Tour impact their subsequent performance in the Tour of Britain. This exploration could reveal whether participating in the Benelux Tour serves as an effective warm-up for riders or if it leads to fatigue that affects their performance in Britain.\",\n",
    "  \"title\": \"Impact_of_Benelux_Tour_on_Tour_of_Britain_Performance\"\n",
    "}\n",
    "\n",
    "\n",
    "\n",
    "\n",
    "\n",
    "\n",
    "'''\n",
    "##############################################\n",
    "ctx['motivation'] = json.loads(motivation_raw)"
   ],
   "metadata": {
    "collapsed": false,
    "ExecuteTime": {
     "end_time": "2024-01-04T10:39:06.752122900Z",
     "start_time": "2024-01-04T10:39:06.613522100Z"
    }
   },
   "id": "8f63a07ab974c0b7"
  },
  {
   "cell_type": "code",
   "execution_count": 29,
   "outputs": [
    {
     "name": "stdout",
     "output_type": "stream",
     "text": [
      "We are interested in building a causal model based on the explicit and implicit assumptions contained in the specified article and then using causal inference to evaluate the reasoning. Answer the following questions to design an interesting, simple, and most importantly realistic causal model from a news article.\n",
      "\n",
      "To help understand the instructions here are some tips:\n",
      "- all variables are always binary and (at least in principle) measurable, so when creating and selecting variables, make sure it is reasonable to treat them as binary\n",
      "- whenever you propose a variable, make sure to define the meaning of each value it can take, and mention whether it is observable or not\n",
      "- outcome variables are always observable, and should always have 2-3 causal parents (including treatment, mediator, and confounder variables)\n",
      "- treatment variables are always observable and intervenable, that means it must be possible to (at least in principle) change their value if desired, and these should generally have at least causal parent, and always at least one child\n",
      "- confounder variables may or may not be observable, and should always have 2-3 causal children and no causal parents\n",
      "- mediator variables may or may not be observable, and should always have 1-2 causal parents (for example, a treatment variable or confounder) and 1-2 causal children (for example, the outcome variable)\n",
      "- collider variables are always observable, and should always have 2-3 causal parents (for example, a treatment and outcome variable) and no causal children\n",
      "\n",
      "Here is the topic and original the news article headline:\n",
      "\n",
      "```\n",
      "Title: Follow the opening stage of the Tour of Britain 2021 - Cycling Flash here\n",
      "Description: Many riders use the Benelux Tour as the last multi-day event in their preparation for the World Championships in Leuven at the end of September. However, there are also a number of people who want to dot their i's and cross their i's in the Tour of Britain. Today is the opening stage between…\n",
      "Original Language: Dutch\n",
      "\n",
      "With the Tour of Britain 2021 igniting excitement among cycling enthusiasts, it's interesting to delve into the performance trends of riders who participate in both the Benelux Tour and the Tour of Britain. By comparing their finishing times, average speeds, and stage rankings in these events, we can uncover insights into how the rigors of the Benelux Tour impact their subsequent performance in the Tour of Britain. This exploration could reveal whether participating in the Benelux Tour serves as an effective warm-up for riders or if it leads to fatigue that affects their performance in Britain.\n",
      "```\n",
      "\n",
      "Begin by brainstorming some non-trivial interesting binary causal variables to construct a causal bayes net:\n",
      "\n",
      "1. Propose 1 outcome variable mentioned implicitly or explicitly in the introduction addressing some quantity that people are most likely to be interested in studying, especially if people tend to have misconceptions about it\n",
      "3. Propose 2 treatment variables that either directly or indirectly affect the selected outcome variable and are the most interesting to study. Make sure the treatment variables affect the outcome (possibly through a mediator).\n",
      "4. Propose 2 confounder variables that affect some reasonable combination of the outcome, treatment, and mediator variables in a non-trivial way. Make sure the confounders have at least one child.\n",
      "5. Propose 2 mediator variables that affect and are affected by some reasonable combination of any other variables in a non-trivial way. Make sure the mediators have both parents and children.\n",
      "6. Propose 1 collider variable that are affected by some reasonable combination of any other variables in a non-trivial way. Make sure the collider has at least two parents.\n",
      "\n",
      "The variables and causal graph should, where possible, use specific details such as names and locations mentioned in the article. Also, generally the variable value \"0\" should correspond to the negative, neutral, or control while the value \"1\" should correspond to the positive choice or active value.\n",
      "\n",
      "As part of the brainstorming you should briefly first list the names of all the proposed variables.\n",
      "\n",
      "Next, construct a causal graph using the proposed variables by listing all the edges in the graph. Make sure to into the outcome variable and both treatment variables, and some interesting and intuitive combination of the other variables (you don't have to use all the others). Important: Make sure the causal graph is a DAG and that each node has at most THREE parents!\n",
      "\n",
      "Formalize this causal graph in the form of a JSON list of variables where each variable contains the following fields:\n",
      "- `name`: the name of the variable\n",
      "- `description`: a short description of the variable\n",
      "- `type`: the type of the variable, which can be one of the following: `outcome`, `treatment`, `confounder`, `mediator`, `collider`\n",
      "- `observed`: a boolean value indicating whether the variable is observable or not\n",
      "- `values`: a JSON list of the descriptions of the values the variable can take (corresponding to the index)\n",
      "- `parents`: a JSON list of the names of the parents of the variable (make sure they match the corresponding `name` field of the parent nodes, and remember, there should not be more than three parents for any node)\n",
      "\n",
      "Aside from some brief brainstorming, answer concisely and precisely with a JSON list in the desired format.\n",
      "\n",
      "Take a deep breath and think step-by-step how you are going to do this.\n"
     ]
    }
   ],
   "source": [
    "# if 'prompt_graph' in ctx:\n",
    "#     del ctx['prompt_graph']\n",
    "# print(FileTemplate('graph').fill_in(ctx))\n",
    "print(ctx['prompt_graph'])"
   ],
   "metadata": {
    "collapsed": false,
    "ExecuteTime": {
     "end_time": "2024-01-04T10:39:08.453613600Z",
     "start_time": "2024-01-04T10:39:08.307272100Z"
    }
   },
   "id": "3dba22960a9e0ca4"
  },
  {
   "cell_type": "code",
   "execution_count": 30,
   "outputs": [],
   "source": [
    "# nodes = ctx['nodes']\n",
    "#################################################\n",
    "nodes_raw = '''\n",
    "\n",
    "\n",
    "[\n",
    "  {\n",
    "    \"name\": \"Performance in Tour of Britain\",\n",
    "    \"description\": \"The overall performance of a rider in the Tour of Britain.\",\n",
    "    \"type\": \"outcome\",\n",
    "    \"observed\": true,\n",
    "    \"values\": [\"Below Average\", \"Above Average\"],\n",
    "    \"parents\": [\"Participation in Benelux Tour\", \"Fatigue Level\"]\n",
    "  },\n",
    "  {\n",
    "    \"name\": \"Participation in Benelux Tour\",\n",
    "    \"description\": \"Whether a rider participates in the Benelux Tour before the Tour of Britain.\",\n",
    "    \"type\": \"treatment\",\n",
    "    \"observed\": true,\n",
    "    \"values\": [\"No Participation\", \"Participation\"],\n",
    "    \"parents\": [\"Physical Fitness Level\", \"Experience in Professional Cycling\"]\n",
    "  },\n",
    "  {\n",
    "    \"name\": \"Physical Fitness Level\",\n",
    "    \"description\": \"The physical fitness level of a rider.\",\n",
    "    \"type\": \"treatment\",\n",
    "    \"observed\": true,\n",
    "    \"values\": [\"Low Fitness\", \"High Fitness\"],\n",
    "    \"parents\": [\"Experience in Professional Cycling\"]\n",
    "  },\n",
    "  {\n",
    "    \"name\": \"Experience in Professional Cycling\",\n",
    "    \"description\": \"The rider's experience level in professional cycling.\",\n",
    "    \"type\": \"confounder\",\n",
    "    \"observed\": true,\n",
    "    \"values\": [\"Less Experienced\", \"Highly Experienced\"],\n",
    "    \"parents\": []\n",
    "  },\n",
    "  {\n",
    "    \"name\": \"Weather Conditions\",\n",
    "    \"description\": \"The weather conditions during the races.\",\n",
    "    \"type\": \"confounder\",\n",
    "    \"observed\": true,\n",
    "    \"values\": [\"Adverse Weather\", \"Favorable Weather\"],\n",
    "    \"parents\": []\n",
    "  },\n",
    "  {\n",
    "    \"name\": \"Fatigue Level\",\n",
    "    \"description\": \"The level of fatigue a rider experiences.\",\n",
    "    \"type\": \"mediator\",\n",
    "    \"observed\": true,\n",
    "    \"values\": [\"Low Fatigue\", \"High Fatigue\"],\n",
    "    \"parents\": [\"Participation in Benelux Tour\", \"Training Intensity\"]\n",
    "  },\n",
    "  {\n",
    "    \"name\": \"Training Intensity\",\n",
    "    \"description\": \"The intensity of training undertaken by the rider.\",\n",
    "    \"type\": \"mediator\",\n",
    "    \"observed\": false,\n",
    "    \"values\": [\"Low Intensity\", \"High Intensity\"],\n",
    "    \"parents\": [\"Physical Fitness Level\", \"Weather Conditions\"]\n",
    "  },\n",
    "  {\n",
    "    \"name\": \"Public Perception of Performance\",\n",
    "    \"description\": \"The public's perception of a rider's performance.\",\n",
    "    \"type\": \"collider\",\n",
    "    \"observed\": true,\n",
    "    \"values\": [\"Negative Perception\", \"Positive Perception\"],\n",
    "    \"parents\": [\"Performance in Tour of Britain\", \"Weather Conditions\"]\n",
    "  }\n",
    "]\n",
    "\n",
    "\n",
    "\n",
    "\n",
    "\n",
    "'''\n",
    "#################################################\n",
    "if len(nodes_raw):\n",
    "    nodes = json.loads(nodes_raw)\n",
    "varparents = {node['name']: node['parents'] for node in nodes}\n",
    "varorder = toposort(varparents)\n",
    "nodes = sorted(nodes, key=lambda x: varorder.index(x['name']))\n",
    "nodes = [node for node in nodes if len(node['parents']) or any(node['name'] in parent for parent in varparents.values())]\n",
    "ctx['nodes'] = nodes"
   ],
   "metadata": {
    "collapsed": false,
    "ExecuteTime": {
     "end_time": "2024-01-04T10:41:37.788535100Z",
     "start_time": "2024-01-04T10:41:37.605070200Z"
    }
   },
   "id": "f3fcf031d24d5d48"
  },
  {
   "cell_type": "code",
   "execution_count": 31,
   "outputs": [
    {
     "data": {
      "text/plain": "<PIL.PngImagePlugin.PngImageFile image mode=RGBA size=824x539>",
      "image/png": "[encoded data removed]"
     },
     "execution_count": 31,
     "metadata": {},
     "output_type": "execute_result"
    }
   ],
   "source": [
    "dot = Digraph(comment='Causal Model')\n",
    "node_styles = {\n",
    "    \"treatment\": {\"shape\": \"ellipse\", \"style\": \"filled\", \"color\": \"lightpink\"},\n",
    "    \"outcome\": {\"shape\": \"ellipse\", \"style\": \"filled\", \"color\": \"lightgreen\"},\n",
    "    \"confounder\": {\"shape\": \"diamond\", \"style\": \"filled\", \"color\": \"lightblue\"},\n",
    "    \"mediator\": {\"shape\": \"box\", \"style\": \"filled\", \"color\": \"lightyellow\"},\n",
    "    \"collider\": {\"shape\": \"box\", \"style\": \"filled\", \"color\": \"lightgray\"}\n",
    "}\n",
    "for node in ctx['nodes']:\n",
    "    style = node_styles.get(node[\"type\"], {\"shape\": \"ellipse\"})\n",
    "    dot.node(node[\"name\"], node[\"name\"], **style)\n",
    "for node in ctx['nodes']:\n",
    "    for parent in node[\"parents\"]:\n",
    "        dot.edge(parent, node[\"name\"])\n",
    "# dot.view()\n",
    "dot.render(str(misc.temp_root() / 'graph'), format='png')\n",
    "Image.open(misc.temp_root() / 'graph.png')"
   ],
   "metadata": {
    "collapsed": false,
    "ExecuteTime": {
     "end_time": "2024-01-04T10:41:39.585374600Z",
     "start_time": "2024-01-04T10:41:39.256547700Z"
    }
   },
   "id": "9f8b963c0ac35fa8"
  },
  {
   "cell_type": "code",
   "execution_count": 32,
   "outputs": [
    {
     "name": "stdout",
     "output_type": "stream",
     "text": [
      "\n",
      "We have a causal bayes net model for an analysis about this topic:\n",
      "\n",
      "With the Tour of Britain 2021 igniting excitement among cycling enthusiasts, it's interesting to delve into the performance trends of riders who participate in both the Benelux Tour and the Tour of Britain. By comparing their finishing times, average speeds, and stage rankings in these events, we can uncover insights into how the rigors of the Benelux Tour impact their subsequent performance in the Tour of Britain. This exploration could reveal whether participating in the Benelux Tour serves as an effective warm-up for riders or if it leads to fatigue that affects their performance in Britain.\n",
      "\n",
      "Write a list of 4-8 concise and well-worded sentences that describe the structure and associated assumptions of the causal graph. The sentences should be ordered from describing the most noteworthy/surprising features of the graph to the most natural/intuitive features. Use an intuitive conversational style to describe the causal graph, and avoid using technical terms or jargon, but you can describe the variables and their relationships (including using terms like \"affects\", \"confounder\"/\"confounding\", \"mediator\"/\"mediates\") as long as you use them in a way that is understandable to a layperson. Refrain from mentioning words like \"causal inference\", \"model\", or \"variable\". Also, try to make the sentences flow together well, and avoid repeating yourself while still being thorough. Make sure not to mention the names or types of the variables in the graph, only what they represent to make the overview more natural. For each of the sentences, include a list of the variables in the causal model that are mentioned explicitly in the sentence (ordered in terms of importance).\n",
      "\n",
      "The meanings and parents of all the variables (all of which are binary) in the statistical model are:\n",
      "\n",
      "```\n",
      "[{'name': 'Experience in Professional Cycling', 'description': \"The rider's experience level in professional cycling.\", 'type': 'confounder', 'observed': True, 'values': ['Less Experienced', 'Highly Experienced'], 'parents': []}, {'name': 'Physical Fitness Level', 'description': 'The physical fitness level of a rider.', 'type': 'treatment', 'observed': True, 'values': ['Low Fitness', 'High Fitness'], 'parents': ['Experience in Professional Cycling']}, {'name': 'Participation in Benelux Tour', 'description': 'Whether a rider participates in the Benelux Tour before the Tour of Britain.', 'type': 'treatment', 'observed': True, 'values': ['No Participation', 'Participation'], 'parents': ['Physical Fitness Level', 'Experience in Professional Cycling']}, {'name': 'Weather Conditions', 'description': 'The weather conditions during the races.', 'type': 'confounder', 'observed': True, 'values': ['Adverse Weather', 'Favorable Weather'], 'parents': []}, {'name': 'Training Intensity', 'description': 'The intensity of training undertaken by the rider.', 'type': 'mediator', 'observed': False, 'values': ['Low Intensity', 'High Intensity'], 'parents': ['Physical Fitness Level', 'Weather Conditions']}, {'name': 'Fatigue Level', 'description': 'The level of fatigue a rider experiences.', 'type': 'mediator', 'observed': True, 'values': ['Low Fatigue', 'High Fatigue'], 'parents': ['Participation in Benelux Tour', 'Training Intensity']}, {'name': 'Performance in Tour of Britain', 'description': 'The overall performance of a rider in the Tour of Britain.', 'type': 'outcome', 'observed': True, 'values': ['Below Average', 'Above Average'], 'parents': ['Participation in Benelux Tour', 'Fatigue Level']}, {'name': 'Public Perception of Performance', 'description': \"The public's perception of a rider's performance.\", 'type': 'collider', 'observed': True, 'values': ['Negative Perception', 'Positive Perception'], 'parents': ['Performance in Tour of Britain', 'Weather Conditions']}]\n",
      "```\n",
      "\n",
      "Take a deep breath and think step-by-step how you are going to do this. Once you are ready, be sure to complete your answer in the form of a JSON list of sentences in the format:\n",
      "\n",
      "```json\n",
      "[\n",
      "\t{\"sentence\": \"[some sentence about assumptions/structure]\", \"involved\": [\"variable 1\", \"variable 2\", ...]},\n",
      "\t...\n",
      "]\n",
      "```\n"
     ]
    }
   ],
   "source": [
    "# if 'prompt_story' in ctx:\n",
    "#     del ctx['prompt_motivation']\n",
    "# print(FileTemplate('structure').fill_in(ctx))\n",
    "print(ctx['prompt_structure'])"
   ],
   "metadata": {
    "collapsed": false,
    "ExecuteTime": {
     "end_time": "2024-01-04T10:42:33.471862800Z",
     "start_time": "2024-01-04T10:42:33.361762200Z"
    }
   },
   "id": "b01d6f5a6f6c70ea"
  },
  {
   "cell_type": "code",
   "execution_count": 33,
   "outputs": [],
   "source": [
    "#################################################\n",
    "\n",
    "structure_raw = '''\n",
    "\n",
    "\n",
    "\n",
    "[\n",
    "  {\"sentence\": \"Interestingly, how the public perceives a rider's performance is influenced not just by their actual performance in the Tour of Britain, but also by the weather conditions during the race, suggesting that external factors can significantly shape public opinion.\", \"involved\": [\"Public Perception of Performance\", \"Performance in Tour of Britain\", \"Weather Conditions\"]},\n",
    "  {\"sentence\": \"A rider's decision to participate in the Benelux Tour before the Tour of Britain is shaped by both their physical fitness and their experience in professional cycling, indicating that both inherent ability and past experience play roles in making strategic choices.\", \"involved\": [\"Participation in Benelux Tour\", \"Physical Fitness Level\", \"Experience in Professional Cycling\"]},\n",
    "  {\"sentence\": \"The intensity of training a rider undertakes is determined by their physical fitness and the weather conditions, highlighting how both personal capability and environmental factors interact to influence preparation strategies.\", \"involved\": [\"Training Intensity\", \"Physical Fitness Level\", \"Weather Conditions\"]},\n",
    "  {\"sentence\": \"A rider's level of fatigue, which is a crucial factor affecting their performance in the Tour of Britain, is impacted by their participation in the Benelux Tour and how intensely they train, showing the direct consequences of their preparatory decisions.\", \"involved\": [\"Fatigue Level\", \"Participation in Benelux Tour\", \"Training Intensity\"]},\n",
    "  {\"sentence\": \"The overall performance of a rider in the Tour of Britain is directly influenced by their fatigue level and their participation in the Benelux Tour, suggesting that both immediate physical condition and prior race experiences are key to success.\", \"involved\": [\"Performance in Tour of Britain\", \"Fatigue Level\", \"Participation in Benelux Tour\"]},\n",
    "  {\"sentence\": \"A rider's physical fitness is not only crucial for their performance but also plays a role in determining their training intensity and decision to participate in previous tours, indicating that fitness is a foundational aspect in a cyclist's career.\", \"involved\": [\"Physical Fitness Level\", \"Training Intensity\", \"Participation in Benelux Tour\"]},\n",
    "  {\"sentence\": \"Experience in professional cycling is a fundamental factor that influences a rider's physical fitness and their decision to participate in the Benelux Tour, pointing to the importance of accumulated experience in shaping a rider's career trajectory.\", \"involved\": [\"Experience in Professional Cycling\", \"Physical Fitness Level\", \"Participation in Benelux Tour\"]},\n",
    "  {\"sentence\": \"Weather conditions not only affect the rider's training intensity but also play a role in shaping the public's perception of their performance, illustrating how environmental factors can have a broad impact on both preparation and perception.\", \"involved\": [\"Weather Conditions\", \"Training Intensity\", \"Public Perception of Performance\"]}\n",
    "]\n",
    "\n",
    "\n",
    "\n",
    "\n",
    "\n",
    "'''\n",
    "\n",
    "#################################################\n",
    "ctx['structure'] = json.loads(structure_raw)"
   ],
   "metadata": {
    "collapsed": false,
    "ExecuteTime": {
     "end_time": "2024-01-04T10:43:32.817299Z",
     "start_time": "2024-01-04T10:43:32.640239800Z"
    }
   },
   "id": "9e6543cef8511170"
  },
  {
   "cell_type": "code",
   "execution_count": 34,
   "outputs": [
    {
     "name": "stdout",
     "output_type": "stream",
     "text": [
      "We have a causal bayes net based on the following topic:\n",
      "\n",
      "With the Tour of Britain 2021 igniting excitement among cycling enthusiasts, it's interesting to delve into the performance trends of riders who participate in both the Benelux Tour and the Tour of Britain. By comparing their finishing times, average speeds, and stage rankings in these events, we can uncover insights into how the rigors of the Benelux Tour impact their subsequent performance in the Tour of Britain. This exploration could reveal whether participating in the Benelux Tour serves as an effective warm-up for riders or if it leads to fatigue that affects their performance in Britain.\n",
      "\n",
      "Now we would like to estimate the probabilities of certain events in a corresponding causal bayes net.\n",
      "\n",
      "Using commonsense, estimate the probabilities of the following events:\n",
      "\n",
      "1. what is the probability that \"Experience in Professional Cycling\" is \"Highly Experienced\" (rather than \"Less Experienced\")?\n",
      "2. when \"Experience in Professional Cycling\" is \"Less Experienced\": what is the probability that \"Physical Fitness Level\" is \"High Fitness\" (rather than \"Low Fitness\")?\n",
      "3. when \"Experience in Professional Cycling\" is \"Highly Experienced\": what is the probability that \"Physical Fitness Level\" is \"High Fitness\" (rather than \"Low Fitness\")?\n",
      "4. when \"Physical Fitness Level\" is \"Low Fitness\" and \"Experience in Professional Cycling\" is \"Less Experienced\": what is the probability that \"Participation in Benelux Tour\" is \"Participation\" (rather than \"No Participation\")?\n",
      "5. when \"Physical Fitness Level\" is \"Low Fitness\" and \"Experience in Professional Cycling\" is \"Highly Experienced\": what is the probability that \"Participation in Benelux Tour\" is \"Participation\" (rather than \"No Participation\")?\n",
      "6. when \"Physical Fitness Level\" is \"High Fitness\" and \"Experience in Professional Cycling\" is \"Less Experienced\": what is the probability that \"Participation in Benelux Tour\" is \"Participation\" (rather than \"No Participation\")?\n",
      "7. when \"Physical Fitness Level\" is \"High Fitness\" and \"Experience in Professional Cycling\" is \"Highly Experienced\": what is the probability that \"Participation in Benelux Tour\" is \"Participation\" (rather than \"No Participation\")?\n",
      "8. what is the probability that \"Weather Conditions\" is \"Favorable Weather\" (rather than \"Adverse Weather\")?\n",
      "9. when \"Physical Fitness Level\" is \"Low Fitness\" and \"Weather Conditions\" is \"Adverse Weather\": what is the probability that \"Training Intensity\" is \"High Intensity\" (rather than \"Low Intensity\")?\n",
      "10. when \"Physical Fitness Level\" is \"Low Fitness\" and \"Weather Conditions\" is \"Favorable Weather\": what is the probability that \"Training Intensity\" is \"High Intensity\" (rather than \"Low Intensity\")?\n",
      "11. when \"Physical Fitness Level\" is \"High Fitness\" and \"Weather Conditions\" is \"Adverse Weather\": what is the probability that \"Training Intensity\" is \"High Intensity\" (rather than \"Low Intensity\")?\n",
      "12. when \"Physical Fitness Level\" is \"High Fitness\" and \"Weather Conditions\" is \"Favorable Weather\": what is the probability that \"Training Intensity\" is \"High Intensity\" (rather than \"Low Intensity\")?\n",
      "13. when \"Participation in Benelux Tour\" is \"No Participation\" and \"Training Intensity\" is \"Low Intensity\": what is the probability that \"Fatigue Level\" is \"High Fatigue\" (rather than \"Low Fatigue\")?\n",
      "14. when \"Participation in Benelux Tour\" is \"No Participation\" and \"Training Intensity\" is \"High Intensity\": what is the probability that \"Fatigue Level\" is \"High Fatigue\" (rather than \"Low Fatigue\")?\n",
      "15. when \"Participation in Benelux Tour\" is \"Participation\" and \"Training Intensity\" is \"Low Intensity\": what is the probability that \"Fatigue Level\" is \"High Fatigue\" (rather than \"Low Fatigue\")?\n",
      "16. when \"Participation in Benelux Tour\" is \"Participation\" and \"Training Intensity\" is \"High Intensity\": what is the probability that \"Fatigue Level\" is \"High Fatigue\" (rather than \"Low Fatigue\")?\n",
      "17. when \"Participation in Benelux Tour\" is \"No Participation\" and \"Fatigue Level\" is \"Low Fatigue\": what is the probability that \"Performance in Tour of Britain\" is \"Above Average\" (rather than \"Below Average\")?\n",
      "18. when \"Participation in Benelux Tour\" is \"No Participation\" and \"Fatigue Level\" is \"High Fatigue\": what is the probability that \"Performance in Tour of Britain\" is \"Above Average\" (rather than \"Below Average\")?\n",
      "19. when \"Participation in Benelux Tour\" is \"Participation\" and \"Fatigue Level\" is \"Low Fatigue\": what is the probability that \"Performance in Tour of Britain\" is \"Above Average\" (rather than \"Below Average\")?\n",
      "20. when \"Participation in Benelux Tour\" is \"Participation\" and \"Fatigue Level\" is \"High Fatigue\": what is the probability that \"Performance in Tour of Britain\" is \"Above Average\" (rather than \"Below Average\")?\n",
      "21. when \"Performance in Tour of Britain\" is \"Below Average\" and \"Weather Conditions\" is \"Adverse Weather\": what is the probability that \"Public Perception of Performance\" is \"Positive Perception\" (rather than \"Negative Perception\")?\n",
      "22. when \"Performance in Tour of Britain\" is \"Below Average\" and \"Weather Conditions\" is \"Favorable Weather\": what is the probability that \"Public Perception of Performance\" is \"Positive Perception\" (rather than \"Negative Perception\")?\n",
      "23. when \"Performance in Tour of Britain\" is \"Above Average\" and \"Weather Conditions\" is \"Adverse Weather\": what is the probability that \"Public Perception of Performance\" is \"Positive Perception\" (rather than \"Negative Perception\")?\n",
      "24. when \"Performance in Tour of Britain\" is \"Above Average\" and \"Weather Conditions\" is \"Favorable Weather\": what is the probability that \"Public Perception of Performance\" is \"Positive Perception\" (rather than \"Negative Perception\")?\n",
      "\n",
      "Where the variables are defined as:\n",
      "\"Experience in Professional Cycling\" means \"The rider's experience level in professional cycling.\"\n",
      "\"Physical Fitness Level\" means \"The physical fitness level of a rider.\"\n",
      "\"Participation in Benelux Tour\" means \"Whether a rider participates in the Benelux Tour before the Tour of Britain.\"\n",
      "\"Weather Conditions\" means \"The weather conditions during the races.\"\n",
      "\"Training Intensity\" means \"The intensity of training undertaken by the rider.\"\n",
      "\"Fatigue Level\" means \"The level of fatigue a rider experiences.\"\n",
      "\"Performance in Tour of Britain\" means \"The overall performance of a rider in the Tour of Britain.\"\n",
      "\"Public Perception of Performance\" means \"The public's perception of a rider's performance.\"\n",
      "\n",
      "For each question above, answer with the lower and upper bound estimates of the probabilities as a JSON object where the key corresponds to the question index in exactly the following format:\n",
      "\n",
      "```json\n",
      "{\n",
      "  \"1\": [0.3, 0.4],\n",
      "  ...\n",
      "}\n",
      "```\n",
      "\n",
      "Answer concisely and precisely in the desired format. Do not add any additional comments or discussion.\n"
     ]
    }
   ],
   "source": [
    "# if 'prompt_stats' in ctx:\n",
    "#     del ctx['descriptions']\n",
    "#     del ctx['prob_questions']\n",
    "#     del ctx['prompt_stats']\n",
    "# print(FileTemplate('stats').fill_in(ctx))\n",
    "print(ctx['prompt_stats'])"
   ],
   "metadata": {
    "collapsed": false,
    "ExecuteTime": {
     "end_time": "2024-01-04T10:43:33.837545700Z",
     "start_time": "2024-01-04T10:43:33.714700700Z"
    }
   },
   "id": "feaee31660914e5"
  },
  {
   "cell_type": "code",
   "execution_count": 35,
   "outputs": [],
   "source": [
    "# probabilities = ctx['stats']\n",
    "#################################################\n",
    "\n",
    "probabilities_raw = '''\n",
    "\n",
    "\n",
    "{\n",
    "  \"1\": [0.6, 0.7],\n",
    "  \"2\": [0.3, 0.4],\n",
    "  \"3\": [0.7, 0.8],\n",
    "  \"4\": [0.2, 0.3],\n",
    "  \"5\": [0.5, 0.6],\n",
    "  \"6\": [0.6, 0.7],\n",
    "  \"7\": [0.8, 0.9],\n",
    "  \"8\": [0.5, 0.6],\n",
    "  \"9\": [0.3, 0.4],\n",
    "  \"10\": [0.4, 0.5],\n",
    "  \"11\": [0.6, 0.7],\n",
    "  \"12\": [0.7, 0.8],\n",
    "  \"13\": [0.4, 0.5],\n",
    "  \"14\": [0.2, 0.3],\n",
    "  \"15\": [0.6, 0.7],\n",
    "  \"16\": [0.4, 0.5],\n",
    "  \"17\": [0.7, 0.8],\n",
    "  \"18\": [0.3, 0.4],\n",
    "  \"19\": [0.8, 0.9],\n",
    "  \"20\": [0.5, 0.6],\n",
    "  \"21\": [0.2, 0.3],\n",
    "  \"22\": [0.3, 0.4],\n",
    "  \"23\": [0.7, 0.8],\n",
    "  \"24\": [0.8, 0.9]\n",
    "}\n",
    "\n",
    "\n",
    "\n",
    "\n",
    "\n",
    "'''\n",
    "\n",
    "#################################################\n",
    "ctx['stats'] = json.loads(probabilities_raw)"
   ],
   "metadata": {
    "collapsed": false,
    "ExecuteTime": {
     "end_time": "2024-01-04T10:44:15.950259700Z",
     "start_time": "2024-01-04T10:44:15.792366900Z"
    }
   },
   "id": "43b3c05608ca33be"
  },
  {
   "cell_type": "code",
   "execution_count": 36,
   "outputs": [
    {
     "name": "stdout",
     "output_type": "stream",
     "text": [
      "------------------------------  ----------------  -------------  ----------------------------------------------------------------------------\n",
      "Physical Fitness Level          Low Fitness       High Fitness   The physical fitness level of a rider.\n",
      "Participation in Benelux Tour   No Participation  Participation  Whether a rider participates in the Benelux Tour before the Tour of Britain.\n",
      "Performance in Tour of Britain  Below Average     Above Average  The overall performance of a rider in the Tour of Britain.\n",
      "------------------------------  ----------------  -------------  ----------------------------------------------------------------------------\n"
     ]
    },
    {
     "data": {
      "text/plain": "  0%|          | 0/20 [00:00<?, ?it/s]",
      "application/vnd.jupyter.widget-view+json": {
       "version_major": 2,
       "version_minor": 0,
       "model_id": "e3a953cc02d44c61946d33c4718d12e3"
      }
     },
     "metadata": {},
     "output_type": "display_data"
    },
    {
     "name": "stdout",
     "output_type": "stream",
     "text": [
      "'Experience in Professional Cycling' means The rider's experience level in professional cycling.\n",
      "'Physical Fitness Level' means The physical fitness level of a rider.\n",
      "'Participation in Benelux Tour' means Whether a rider participates in the Benelux Tour before the Tour of Britain.\n",
      "'Weather Conditions' means The weather conditions during the races.\n",
      "'Training Intensity' means The intensity of training undertaken by the rider.\n",
      "'Fatigue Level' means The level of fatigue a rider experiences.\n",
      "'Performance in Tour of Britain' means The overall performance of a rider in the Tour of Britain.\n",
      "'Public Perception of Performance' means The public's perception of a rider's performance.\n",
      "Treatment Value    Treatment                      Outcome Value    Outcome                               ATE    Correlation\n",
      "-----------------  -----------------------------  ---------------  ------------------------------  ---------  -------------\n",
      "High Fitness       Physical Fitness Level         Above Average    Performance in Tour of Britain  0.0465096      0.0421977\n",
      "Participation      Participation in Benelux Tour  Above Average    Performance in Tour of Britain  0.0730696      0.0841987\n"
     ]
    }
   ],
   "source": [
    "raw_prob_samples = []\n",
    "def to_prob_range(raw):\n",
    "    raw = [prange for _, prange in sorted(raw.items(), key=lambda item: int(item[0]))]\n",
    "    return torch.tensor(raw)\n",
    "\n",
    "prob_ranges = to_prob_range(ctx['stats'])\n",
    "lower_bound, upper_bound = prob_ranges.t()\n",
    "\n",
    "variables = {}\n",
    "for node in ctx['nodes']:\n",
    "    if len(node['parents']):\n",
    "        variables[node['name']] = ConditionalBernoulli([variables[parent] for parent in node['parents']])\n",
    "    else:\n",
    "        variables[node['name']] = Bernoulli(0.5)\n",
    "net = BernoulliNetwork(variables)\n",
    "def mc_samples(N, *fns):\n",
    "    estimates = []\n",
    "    for _ in tqdm(range(N)):\n",
    "        param_sample = torch.rand(len(prob_ranges), 1) * (upper_bound - lower_bound) + lower_bound\n",
    "        net.set_params(param_sample)\n",
    "        estimates.append([fn() for fn in fns])\n",
    "    return torch.tensor(estimates)\n",
    "def make_ate_fn(treatment, outcome, conditions=None):\n",
    "    def ate_fn():\n",
    "        return net.ate(treatment, conditions=conditions)[outcome].item()\n",
    "    return ate_fn\n",
    "def make_corr_fn(v1, v2):\n",
    "    def corr_fn():\n",
    "        return net.correlation(v1, v2).item()\n",
    "    return corr_fn\n",
    "treatment1, treatment2 = [n for n in ctx['treatments']]\n",
    "# t1vals = [node['values'] for node in ctx['nodes'] if node['name'] == treatment1][0]\n",
    "# t2vals = [node['values'] for node in ctx['nodes'] if node['name'] == treatment2][0]\n",
    "outcome = ctx['outcome']#['name']\n",
    "# ovals = [node['values'] for node in ctx['nodes'] if node['name'] == outcome][0]\n",
    "confounders = [node for node in ctx['confounders']]\n",
    "\n",
    "print(tabulate([\n",
    "    [treatment1['name'], *treatment1['values'], treatment1['description']],\n",
    "    [treatment2['name'], *treatment2['values'], treatment2['description']],\n",
    "    [outcome['name'], *outcome['values'], outcome['description']],\n",
    "]))\n",
    "\n",
    "cate_keys = [(treatment, confounder, cval) for treatment in ctx['treatments'] for confounder in ctx['confounders'] for cval in [0, 1]]\n",
    "cate_fns = [make_ate_fn(treatment['name'], outcome['name'], conditions={confounder['name']: val}) for treatment, confounder, val in cate_keys]\n",
    "ate1, ate2, corr1, corr2, *cates = mc_samples(20, make_ate_fn(treatment1['name'], outcome['name']), make_ate_fn(treatment2['name'], outcome['name']),\n",
    "                                      make_corr_fn(treatment1['name'], outcome['name']), make_corr_fn(treatment2['name'], outcome['name']), *cate_fns).t()\n",
    "\n",
    "print('\\n'.join(f'{node[\"name\"]!r} means {node[\"description\"]}' for node in ctx['nodes']))\n",
    "print(tabulate([\n",
    "    [f'{treatment1[\"values\"][1]}', f'{treatment1[\"name\"]}', f'{outcome[\"values\"][1]}', f'{outcome[\"name\"]}', ate1.mean(), corr1.mean(), ],\n",
    "    [f'{treatment2[\"values\"][1]}', f'{treatment2[\"name\"]}', f'{outcome[\"values\"][1]}', f'{outcome[\"name\"]}', ate2.mean(), corr2.mean(), ],\n",
    "], headers=['Treatment Value', 'Treatment', 'Outcome Value', 'Outcome', 'ATE', 'Correlation']))"
   ],
   "metadata": {
    "collapsed": false,
    "ExecuteTime": {
     "end_time": "2024-01-04T10:44:41.748805800Z",
     "start_time": "2024-01-04T10:44:17.180912700Z"
    }
   },
   "id": "72b141894423bdcb"
  },
  {
   "cell_type": "code",
   "execution_count": 37,
   "outputs": [
    {
     "name": "stderr",
     "output_type": "stream",
     "text": [
      "C:\\Users\\anwan\\miniconda3\\Lib\\site-packages\\torch\\masked\\maskedtensor\\core.py:156: UserWarning: The PyTorch API of MaskedTensors is in prototype stage and will change in the near future. Please open a Github issue for features requests and see our documentation on the torch.masked module for further information about the project.\n",
      "  warnings.warn((\"The PyTorch API of MaskedTensors is in prototype stage \"\n",
      "ERROR:dowhy.causal_graph: Error: Pygraphviz cannot be loaded. No module named 'pygraphviz'\n",
      "Trying pydot ...\n",
      "ERROR:dowhy.causal_graph: Error: Pygraphviz cannot be loaded. No module named 'pygraphviz'\n",
      "Trying pydot ...\n"
     ]
    },
    {
     "name": "stdout",
     "output_type": "stream",
     "text": [
      "Treatment                                                ATE    Correlation  Outcome\n",
      "-----------------------------------------------------  -----  -------------  -----------------------------------------------------\n",
      "Highly Experienced Experience in Professional Cycling   0.4            0.21  High Fitness Physical Fitness Level\n",
      "Highly Experienced Experience in Professional Cycling   0.39          -0.16  Participation Participation in Benelux Tour\n",
      "Highly Experienced Experience in Professional Cycling   0              0     Favorable Weather Weather Conditions\n",
      "Highly Experienced Experience in Professional Cycling   0.12           0.05  High Intensity Training Intensity\n",
      "Highly Experienced Experience in Professional Cycling   0.05           0.07  High Fatigue Fatigue Level\n",
      "Highly Experienced Experience in Professional Cycling   0.04          -0.01  Above Average Performance in Tour of Britain\n",
      "Highly Experienced Experience in Professional Cycling   0.02          -0     Positive Perception Public Perception of Performance\n",
      "High Fitness Physical Fitness Level                     0              0.21  Highly Experienced Experience in Professional Cycling\n",
      "High Fitness Physical Fitness Level                     0.34           0.26  Participation Participation in Benelux Tour\n",
      "High Fitness Physical Fitness Level                     0              0     Favorable Weather Weather Conditions\n",
      "High Fitness Physical Fitness Level                     0.3            0.23  High Intensity Training Intensity\n",
      "High Fitness Physical Fitness Level                     0.01          -0.03  High Fatigue Fatigue Level\n",
      "High Fitness Physical Fitness Level                     0.05           0.04  Above Average Performance in Tour of Britain\n",
      "High Fitness Physical Fitness Level                     0.02           0.01  Positive Perception Public Perception of Performance\n",
      "Participation Participation in Benelux Tour             0             -0.14  Highly Experienced Experience in Professional Cycling\n",
      "Participation Participation in Benelux Tour             0              0.29  High Fitness Physical Fitness Level\n",
      "Participation Participation in Benelux Tour             0              0     Favorable Weather Weather Conditions\n",
      "Participation Participation in Benelux Tour             0              0.06  High Intensity Training Intensity\n",
      "Participation Participation in Benelux Tour             0.2           -0.32  High Fatigue Fatigue Level\n",
      "Participation Participation in Benelux Tour             0.07           0.08  Above Average Performance in Tour of Britain\n",
      "Participation Participation in Benelux Tour             0.04           0.02  Positive Perception Public Perception of Performance\n",
      "Favorable Weather Weather Conditions                    0             -0     Highly Experienced Experience in Professional Cycling\n",
      "Favorable Weather Weather Conditions                    0              0     High Fitness Physical Fitness Level\n",
      "Favorable Weather Weather Conditions                    0              0     Participation Participation in Benelux Tour\n",
      "Favorable Weather Weather Conditions                    0.1            0.25  High Intensity Training Intensity\n",
      "Favorable Weather Weather Conditions                   -0.02           0.1   High Fatigue Fatigue Level\n",
      "Favorable Weather Weather Conditions                    0.01           0.02  Above Average Performance in Tour of Britain\n",
      "Favorable Weather Weather Conditions                    0.1            0.3   Positive Perception Public Perception of Performance\n",
      "High Intensity Training Intensity                       0              0.05  Highly Experienced Experience in Professional Cycling\n",
      "High Intensity Training Intensity                       0              0.23  High Fitness Physical Fitness Level\n",
      "High Intensity Training Intensity                       0              0.06  Participation Participation in Benelux Tour\n",
      "High Intensity Training Intensity                       0              0.25  Favorable Weather Weather Conditions\n",
      "High Intensity Training Intensity                      -0.2            0.31  High Fatigue Fatigue Level\n",
      "High Intensity Training Intensity                       0.07           0.1   Above Average Performance in Tour of Britain\n",
      "High Intensity Training Intensity                       0.03           0.1   Positive Perception Public Perception of Performance\n",
      "High Fatigue Fatigue Level                              0              0.06  Highly Experienced Experience in Professional Cycling\n",
      "High Fatigue Fatigue Level                              0             -0.02  High Fitness Physical Fitness Level\n",
      "High Fatigue Fatigue Level                              0             -0.32  Participation Participation in Benelux Tour\n",
      "High Fatigue Fatigue Level                              0              0.08  Favorable Weather Weather Conditions\n",
      "High Fatigue Fatigue Level                              0              0.31  High Intensity Training Intensity\n",
      "High Fatigue Fatigue Level                             -0.34           0.19  Above Average Performance in Tour of Britain\n",
      "High Fatigue Fatigue Level                             -0.17           0.08  Positive Perception Public Perception of Performance\n",
      "Above Average Performance in Tour of Britain            0             -0     Highly Experienced Experience in Professional Cycling\n",
      "Above Average Performance in Tour of Britain            0              0.04  High Fitness Physical Fitness Level\n",
      "Above Average Performance in Tour of Britain            0              0.07  Participation Participation in Benelux Tour\n",
      "Above Average Performance in Tour of Britain            0              0.02  Favorable Weather Weather Conditions\n",
      "Above Average Performance in Tour of Britain            0              0.08  High Intensity Training Intensity\n",
      "Above Average Performance in Tour of Britain            0              0.22  High Fatigue Fatigue Level\n",
      "Above Average Performance in Tour of Britain            0.5            0.28  Positive Perception Public Perception of Performance\n",
      "Positive Perception Public Perception of Performance    0             -0     Highly Experienced Experience in Professional Cycling\n",
      "Positive Perception Public Perception of Performance    0              0.01  High Fitness Physical Fitness Level\n",
      "Positive Perception Public Perception of Performance    0              0.02  Participation Participation in Benelux Tour\n",
      "Positive Perception Public Perception of Performance    0              0.3   Favorable Weather Weather Conditions\n",
      "Positive Perception Public Perception of Performance    0              0.09  High Intensity Training Intensity\n",
      "Positive Perception Public Perception of Performance    0              0.09  High Fatigue Fatigue Level\n",
      "Positive Perception Public Perception of Performance    0              0.28  Above Average Performance in Tour of Britain\n",
      "('Physical Fitness Level', 'Performance in Tour of Britain', ['Experience in Professional Cycling'])\n",
      "('Participation in Benelux Tour', 'Performance in Tour of Britain', ['Physical Fitness Level'])\n"
     ]
    },
    {
     "data": {
      "text/plain": "<Figure size 800x400 with 1 Axes>",
      "image/png": "[encoded data removed]"
     },
     "metadata": {},
     "output_type": "display_data"
    },
    {
     "data": {
      "text/plain": "<Figure size 800x400 with 1 Axes>",
      "image/png": "[encoded data removed]"
     },
     "metadata": {},
     "output_type": "display_data"
    }
   ],
   "source": [
    "plt.figure(figsize=(8, 4))\n",
    "sns.kdeplot(ate1, label=f'{treatment1[\"values\"][1]} = {treatment1[\"name\"]}', fill=True, clip=(min(ate1), max(ate1)));\n",
    "sns.kdeplot(ate2, label=f'{treatment2[\"values\"][1]} = {treatment2[\"name\"]}', fill=True, clip=(min(ate2), max(ate2)));\n",
    "plt.title(f'{outcome[\"values\"][1]} = {outcome[\"name\"]}')\n",
    "plt.ylabel(f'P(ATE)')\n",
    "plt.gca().legend(loc='upper center', bbox_to_anchor=(0.5, -.1))\n",
    "plt.axvline(0, color='black', linestyle='--', alpha=0.5)\n",
    "# plt.xlim(-1, 1)\n",
    "plt.tight_layout();\n",
    "\n",
    "plt.figure(figsize=(8, 4))\n",
    "sns.kdeplot(corr1, label=f'{treatment1[\"values\"][1]} = {treatment1[\"name\"]}', fill=True, clip=(min(corr1), max(corr1)));\n",
    "sns.kdeplot(corr2, label=f'{treatment2[\"values\"][1]} = {treatment2[\"name\"]}', fill=True, clip=(min(corr2), max(corr2)));\n",
    "plt.title(f'{outcome[\"values\"][1]} = {outcome[\"name\"]}')\n",
    "plt.ylabel(f'P(Correlation)')\n",
    "plt.gca().legend(loc='upper center', bbox_to_anchor=(0.5, -.1))\n",
    "plt.axvline(0, color='black', linestyle='--', alpha=0.5)\n",
    "# plt.xlim(-1, 1)\n",
    "plt.tight_layout();\n",
    "\n",
    "mn1, mx1 = ate1.min().item(), ate1.max().item()\n",
    "mu1 = ate1.mean().item()\n",
    "assert mn1 * mx1 > 0, f'{mn1} * {mx1} < 0'\n",
    "mn2, mx2 = ate2.min().item(), ate2.max().item()\n",
    "mu2 = ate2.mean().item()\n",
    "assert mn2 * mx2 > 0, f'{mn2} * {mx2} < 0'\n",
    "ctx['ate1'] = ate1.mean().item()\n",
    "ctx['ate2'] = ate2.mean().item()\n",
    "reverse1 = mu1 < 0\n",
    "reverse2 = mu2 < 0\n",
    "# print(tabulate([(node['name'], *node['values'], node['description']) for node in ctx['nodes']], headers=['Variable Name', 'Value 0', 'Value 1', 'Description']))\n",
    "# outcome = [node['name'] for node in ctx['nodes'] if node['type'] == 'outcome'][0]\n",
    "tbl = []\n",
    "\n",
    "for node1, node2 in product(ctx['nodes'], ctx['nodes']):\n",
    "    if node1 != node2:\n",
    "        tbl.append([\n",
    "                    f'{node1[\"values\"][1]} {node1[\"name\"]}', \n",
    "                    f\"{net.ate(node1['name'])[node2['name']].item():.2f}\", \n",
    "                    f\"{net.correlation(node1['name'], node2['name']).item():.2f}\",\n",
    "                    f'{node2[\"values\"][1]} {node2[\"name\"]}', \n",
    "                    # node1['description'], \n",
    "                    # node2['description'], \n",
    "                    ])\n",
    "print(tabulate(tbl, headers=['Treatment', 'ATE', 'Correlation', 'Outcome', \n",
    "                             # 'Treatment Description', 'Outcome Description'\n",
    "                             ]))\n",
    "\n",
    "print(net.backdoor_estimand(treatment1['name'], outcome['name']))\n",
    "print(net.backdoor_estimand(treatment2['name'], outcome['name']))"
   ],
   "metadata": {
    "collapsed": false,
    "ExecuteTime": {
     "end_time": "2024-01-04T10:44:51.202168Z",
     "start_time": "2024-01-04T10:44:41.766996200Z"
    }
   },
   "id": "91c54e61480a1489"
  },
  {
   "cell_type": "code",
   "execution_count": 38,
   "outputs": [
    {
     "name": "stdout",
     "output_type": "stream",
     "text": [
      "We would like to find very natural verbalizations of the following binary variables selected from a statistical model. The verbalizations should sound more natural and organic, so that you could imagine them being used in a newspaper article or casual conversation, while still being semantically equivalent to the variable and value definition.\n",
      "\n",
      "Here are the templates that we use to verbalize the variables:\n",
      "\n",
      "1. One of the variables is {descriptor}.\n",
      "2. {subject} [often/usually/sometimes/rarely/etc.] {predicate#}. (with pronoun: {pronoun})\n",
      "3. There is a [number]% chance that {nounclause#}.\n",
      "4. {preposition} [number]% of {domain}, {subclause#}.\n",
      "5. Conditional sentence: {condition#}, [some consequence].\n",
      "6. Interventional: If {action#}, [some effect].\n",
      "\n",
      "Variable 'Experience in Professional Cycling' (0='Less Experienced', 1='Highly Experienced') means The rider's experience level in professional cycling.\n",
      "Variable 'Physical Fitness Level' (0='Low Fitness', 1='High Fitness') means The physical fitness level of a rider.\n",
      "Variable 'Participation in Benelux Tour' (0='No Participation', 1='Participation') means Whether a rider participates in the Benelux Tour before the Tour of Britain.\n",
      "Variable 'Weather Conditions' (0='Adverse Weather', 1='Favorable Weather') means The weather conditions during the races.\n",
      "Variable 'Training Intensity' (0='Low Intensity', 1='High Intensity') means The intensity of training undertaken by the rider.\n",
      "Variable 'Fatigue Level' (0='Low Fatigue', 1='High Fatigue') means The level of fatigue a rider experiences.\n",
      "Variable 'Performance in Tour of Britain' (0='Below Average', 1='Above Average') means The overall performance of a rider in the Tour of Britain.\n",
      "Variable 'Public Perception of Performance' (0='Negative Perception', 1='Positive Perception') means The public's perception of a rider's performance.\n",
      "\n",
      "Here are some examples of verbalizations of the variable. For each of the templates fill in the blanks in the curly braces (and include 2-3 examples for each template, sorted from highest quality to least). Format your response as a JSON object. When replacing a key that ends in \"#\", make sure to include some examples for both values (0 and 1) that the variables can take. For example, a variable \"Smoking Rate\" which takes the values \"Low Smoking Rate\"=0 and \"High Smoking Rate\"=1 can be verbalized like this:\n",
      "\n",
      "```json\n",
      "{\n",
      "  \"Smoking Rate\": {\n",
      "    \"descriptor\": [\"the smoking rate\", \"prevalence of smokers\"],\n",
      "    \"subject\": \"people\",\n",
      "    \"predicate0\": [\"do not smoke\", \"are non-smokers\"],\n",
      "    \"predicate1\": [\"smoke\", \"are smokers\"],\n",
      "    \"pronoun\": \"they\",\n",
      "    \"nounclause0\": [\"people do not smoke\", \"people are non-smokers\"],\n",
      "    \"nounclause1\": [\"people smoke\", \"people are smokers\"],\n",
      "    \"preposition\": [\"in\", \"for\"],\n",
      "    \"domain\": \"cases\",\n",
      "    \"subclause0\": [\"a person does not smoke\", \"there is no smoking habit\"],\n",
      "    \"subclause1\": [\"a person smokes\", \"there is a smoking habit\"],\n",
      "    \"condition0\": [\"among non-smokers\", \"for people that do not smoke\"],\n",
      "    \"condition1\": [\"among smokers\", \"for people that smoke\"],\n",
      "    \"action0\": [\"people quit smoking\", \"people become non-smokers\"],\n",
      "    \"action1\": [\"people become smokers\", \"people take up smoking\"]\n",
      "  },\n",
      "  ...\n",
      "}\n",
      "```\n",
      "\n",
      "Answer concisely and precisely in the desired format, and only replace the blanks in curly braces. Do not add any additional comments or discussion. Most importantly, the verbalizations should not contain quantitative information like \"often\" or \"rarely\" aluding to the liklihood of the variable taking that value, and instead always neutrally assert the value of the variable definition in a precise, creative, and most importantly semantically equivalent way.\n"
     ]
    }
   ],
   "source": [
    "# if 'prompt_verbs' in ctx:\n",
    "#     del ctx['prompt_verbs']\n",
    "print(FileTemplate('verbs').fill_in(ctx))\n",
    "# print(ctx['prompt_verbs'])"
   ],
   "metadata": {
    "collapsed": false,
    "ExecuteTime": {
     "end_time": "2024-01-04T10:44:51.353696900Z",
     "start_time": "2024-01-04T10:44:51.200008700Z"
    }
   },
   "id": "3dc15b60d5792cfb"
  },
  {
   "cell_type": "code",
   "execution_count": 39,
   "outputs": [],
   "source": [
    "# verbalization = ctx['verbs']\n",
    "#################################################\n",
    "verbalization_raw = '''\n",
    "\n",
    "\n",
    "{\n",
    "  \"Experience in Professional Cycling\": {\n",
    "    \"descriptor\": [\"the rider's cycling experience\", \"the cyclist's track record\"],\n",
    "    \"subject\": \"the rider\",\n",
    "    \"predicate0\": [\"is relatively new to professional cycling\", \"has less experience in professional tours\"],\n",
    "    \"predicate1\": [\"is a veteran in professional cycling\", \"boasts extensive professional cycling experience\"],\n",
    "    \"pronoun\": \"they\",\n",
    "    \"nounclause0\": [\"the rider is new to professional cycling\", \"the cyclist has limited experience in professional tours\"],\n",
    "    \"nounclause1\": [\"the rider is seasoned in professional cycling\", \"the cyclist has a wealth of experience in professional tours\"],\n",
    "    \"preposition\": [\"among\", \"in the case of\"],\n",
    "    \"domain\": \"cyclists\",\n",
    "    \"subclause0\": [\"a cyclist is new to the professional scene\", \"there is limited experience in professional cycling\"],\n",
    "    \"subclause1\": [\"a cyclist is seasoned in professional tours\", \"there is extensive experience in professional cycling\"],\n",
    "    \"condition0\": [\"if the cyclist is newer to the professional scene\", \"when a rider has less experience\"],\n",
    "    \"condition1\": [\"if the cyclist is seasoned in professional tours\", \"when a rider has a wealth of professional experience\"],\n",
    "    \"action0\": [\"a cyclist enters the professional cycling scene\", \"a rider starts competing professionally\"],\n",
    "    \"action1\": [\"a cyclist gains extensive professional experience\", \"a rider accumulates years of professional cycling experience\"]\n",
    "  },\n",
    "  \"Physical Fitness Level\": {\n",
    "    \"descriptor\": [\"the rider's physical fitness\", \"the cyclist's fitness level\"],\n",
    "    \"subject\": \"the rider\",\n",
    "    \"predicate0\": [\"has lower physical fitness\", \"is not at peak fitness\"],\n",
    "    \"predicate1\": [\"is in top physical shape\", \"boasts high fitness levels\"],\n",
    "    \"pronoun\": \"they\",\n",
    "    \"nounclause0\": [\"the rider is not at peak fitness\", \"the cyclist has lower physical fitness\"],\n",
    "    \"nounclause1\": [\"the rider is in top physical shape\", \"the cyclist maintains high fitness levels\"],\n",
    "    \"preposition\": [\"for\", \"among\"],\n",
    "    \"domain\": \"cyclists\",\n",
    "    \"subclause0\": [\"a cyclist is not at their physical best\", \"fitness levels are not at their peak\"],\n",
    "    \"subclause1\": [\"a cyclist is in peak physical condition\", \"fitness levels are at their highest\"],\n",
    "    \"condition0\": [\"if the cyclist is not at peak fitness\", \"when a rider has lower physical fitness\"],\n",
    "    \"condition1\": [\"if the cyclist is in top physical shape\", \"when a rider boasts high fitness levels\"],\n",
    "    \"action0\": [\"a cyclist's fitness level decreases\", \"a rider falls out of top physical shape\"],\n",
    "    \"action1\": [\"a cyclist achieves peak physical fitness\", \"a rider trains to reach top fitness levels\"]\n",
    "  },\n",
    "  \"Participation in Benelux Tour\": {\n",
    "    \"descriptor\": [\"participation in the Benelux Tour\", \"the rider's involvement in the Benelux Tour\"],\n",
    "    \"subject\": \"the cyclist\",\n",
    "    \"predicate0\": [\"opts out of the Benelux Tour\", \"does not participate in the Benelux Tour\"],\n",
    "    \"predicate1\": [\"takes part in the Benelux Tour\", \"competes in the Benelux Tour\"],\n",
    "    \"pronoun\": \"they\",\n",
    "    \"nounclause0\": [\"the cyclist does not participate in the Benelux Tour\", \"there is no involvement in the Benelux Tour for the rider\"],\n",
    "    \"nounclause1\": [\"the cyclist participates in the Benelux Tour\", \"the rider is a competitor in the Benelux Tour\"],\n",
    "    \"preposition\": [\"among\", \"in\"],\n",
    "    \"domain\": \"participants\",\n",
    "    \"subclause0\": [\"a cyclist chooses not to compete in the Benelux Tour\", \"there is a decision against participating in the Benelux Tour\"],\n",
    "    \"subclause1\": [\"a cyclist commits to the Benelux Tour\", \"participation in the Benelux Tour is confirmed\"],\n",
    "    \"condition0\": [\"if a cyclist skips the Benelux Tour\", \"when a rider decides not to participate\"],\n",
    "    \"condition1\": [\"if a cyclist joins the Benelux Tour\", \"when a rider commits to the race\"],\n",
    "    \"action0\": [\"a cyclist decides against participating in the Benelux Tour\", \"a rider chooses not to compete\"],\n",
    "    \"action1\": [\"a cyclist signs up for the Benelux Tour\", \"a rider commits to participate in the race\"]\n",
    "  },\n",
    "  \"Weather Conditions\": {\n",
    "    \"descriptor\": [\"the race day weather conditions\", \"the weather during the race\"],\n",
    "    \"subject\": \"the day\",\n",
    "    \"predicate0\": [\"has adverse weather conditions\", \"is marked by challenging weather\"],\n",
    "    \"predicate1\": [\"enjoys favorable weather conditions\", \"is blessed with ideal weather\"],\n",
    "    \"pronoun\": \"it\",\n",
    "    \"nounclause0\": [\"the weather is adverse during the race\", \"challenging conditions prevail on race day\"],\n",
    "    \"nounclause1\": [\"the weather is favorable during the race\", \"ideal conditions grace the event\"],\n",
    "    \"preposition\": [\"under\", \"during\"],\n",
    "    \"domain\": \"races\",\n",
    "    \"subclause0\": [\"the event is hampered by poor weather\", \"adverse conditions affect the race\"],\n",
    "    \"subclause1\": [\"the race benefits from perfect weather\", \"favorable conditions enhance the event\"],\n",
    "    \"condition0\": [\"if the weather turns sour on race day\", \"when challenging conditions arise during the event\"],\n",
    "    \"condition1\": [\"if the race day is blessed with great weather\", \"when ideal conditions prevail\"],\n",
    "    \"action0\": [\"weather conditions worsen on the day of the race\", \"the event faces adverse weather\"],\n",
    "    \"action1\": [\"the race enjoys perfect weather conditions\", \"ideal weather conditions accompany the event\"]\n",
    "  },\n",
    "  \"Training Intensity\": {\n",
    "    \"descriptor\": [\"the intensity of the rider's training\", \"the level of training rigor\"],\n",
    "    \"subject\": \"the cyclist\",\n",
    "    \"predicate0\": [\"maintains low training intensity\", \"does not train intensively\"],\n",
    "    \"predicate1\": [\"engages in high-intensity training\", \"trains with great rigor\"],\n",
    "    \"pronoun\": \"they\",\n",
    "    \"nounclause0\": [\"the cyclist trains with low intensity\", \"there is a lack of rigorous training\"],\n",
    "    \"nounclause1\": [\"the cyclist trains intensely\", \"rigorous training is a part of their regimen\"],\n",
    "    \"preposition\": [\"among\", \"in\"],\n",
    "    \"domain\": \"athletes\",\n",
    "    \"subclause0\": [\"training sessions are less intensive\", \"a relaxed approach to training is adopted\"],\n",
    "    \"subclause1\": [\"training is taken to a high level of intensity\", \"a rigorous training schedule is followed\"],\n",
    "    \"condition0\": [\"if a cyclist opts for lighter training\", \"when training sessions are less rigorous\"],\n",
    "    \"condition1\": [\"if a cyclist adopts a high-intensity training regimen\", \"when training is highly rigorous\"],\n",
    "    \"action0\": [\"a cyclist reduces their training intensity\", \"training sessions become less rigorous\"],\n",
    "    \"action1\": [\"a cyclist ramps up their training intensity\", \"the training regimen becomes more intense\"]\n",
    "  },\n",
    "  \"Fatigue Level\": {\n",
    "    \"descriptor\": [\"the cyclist's level of fatigue\", \"the rider's fatigue\"],\n",
    "    \"subject\": \"the cyclist\",\n",
    "    \"predicate0\": [\"experiences low fatigue\", \"is not overly tired\"],\n",
    "    \"predicate1\": [\"suffers from high fatigue\", \"is significantly fatigued\"],\n",
    "    \"pronoun\": \"they\",\n",
    "    \"nounclause0\": [\"the cyclist is not overly fatigued\", \"there is a low level of tiredness\"],\n",
    "    \"nounclause1\": [\"the cyclist is highly fatigued\", \"a significant level of fatigue is evident\"],\n",
    "    \"preposition\": [\"among\", \"in\"],\n",
    "    \"domain\": \"competitors\",\n",
    "    \"subclause0\": [\"tiredness is not a major issue\", \"fatigue levels remain low\"],\n",
    "    \"subclause1\": [\"fatigue becomes a significant factor\", \"high levels of tiredness are apparent\"],\n",
    "    \"condition0\": [\"if a cyclist manages to keep fatigue low\", \"when tiredness is not a major concern\"],\n",
    "    \"condition1\": [\"if a cyclist experiences high levels of fatigue\", \"when significant tiredness affects the rider\"],\n",
    "    \"action0\": [\"a cyclist keeps their energy levels up\", \"efforts are made to minimize fatigue\"],\n",
    "    \"action1\": [\"a cyclist becomes increasingly fatigued\", \"tiredness takes a toll on the rider\"]\n",
    "  },\n",
    "  \"Performance in Tour of Britain\": {\n",
    "    \"descriptor\": [\"the rider's overall performance in the Tour of Britain\", \"the cyclist's showing in the Tour of Britain\"],\n",
    "    \"subject\": \"the cyclist\",\n",
    "    \"predicate0\": [\"did not meet the average benchmark\", \"fell below the expected level\"],\n",
    "    \"predicate1\": [\"excelled\", \"surpassed the average performance\"],\n",
    "    \"pronoun\": \"they\",\n",
    "    \"nounclause0\": [\"the cyclist's performance was below the average\", \"the rider didn't meet the expected standards\"],\n",
    "    \"nounclause1\": [\"the cyclist's performance was above the average\", \"the rider outperformed the expectations\"],\n",
    "    \"preposition\": [\"among\", \"within\"],\n",
    "    \"domain\": \"participants\",\n",
    "    \"subclause0\": [\"a cyclist's performance didn't reach the average mark\", \"there was a shortfall in the cyclist's performance\"],\n",
    "    \"subclause1\": [\"a cyclist's performance exceeded the average\", \"the rider went beyond the usual standards\"],\n",
    "    \"condition0\": [\"if a rider doesn't perform up to par\", \"when a cyclist falls short of the average\"],\n",
    "    \"condition1\": [\"if a rider excels in the race\", \"when a cyclist surpasses the average performance\"],\n",
    "    \"action0\": [\"if a cyclist fails to hit the average mark\", \"if a rider's performance dips below average\"],\n",
    "    \"action1\": [\"if a cyclist surpasses the average performance\", \"if a rider excels in the Tour\"]\n",
    "  },\n",
    "  \"Public Perception of Performance\": {\n",
    "    \"descriptor\": [\"the public's view of the rider's performance\", \"how the audience perceives the cyclist's performance\"],\n",
    "    \"subject\": \"the audience\",\n",
    "    \"predicate0\": [\"viewed the performance negatively\", \"had a poor impression of the cyclist's performance\"],\n",
    "    \"predicate1\": [\"appreciated the performance\", \"held a positive view of the cyclist's performance\"],\n",
    "    \"pronoun\": \"they\",\n",
    "    \"nounclause0\": [\"the audience had a negative view of the cyclist's performance\", \"the public was not impressed by the rider\"],\n",
    "    \"nounclause1\": [\"the audience was impressed by the cyclist's performance\", \"the public viewed the rider positively\"],\n",
    "    \"preposition\": [\"in\", \"among\"],\n",
    "    \"domain\": \"observers\",\n",
    "    \"subclause0\": [\"a negative sentiment prevailed among the audience\", \"there was a lack of approval from the public\"],\n",
    "    \"subclause1\": [\"a positive sentiment was evident among the audience\", \"there was widespread appreciation from the public\"],\n",
    "    \"condition0\": [\"if the public is not impressed\", \"when the audience disapproves\"],\n",
    "    \"condition1\": [\"if the public is impressed\", \"when the audience shows approval\"],\n",
    "    \"action0\": [\"if the public reacts negatively to a performance\", \"if the audience disapproves of the cyclist's effort\"],\n",
    "    \"action1\": [\"if the public reacts positively to a performance\", \"if the audience appreciates the cyclist's effort\"]\n",
    "  }\n",
    "}\n",
    "\n",
    "\n",
    "\n",
    "'''\n",
    "#################################################\n",
    "ctx['verbs'] = json.loads(verbalization_raw)"
   ],
   "metadata": {
    "collapsed": false,
    "ExecuteTime": {
     "end_time": "2024-01-04T10:51:30.389473900Z",
     "start_time": "2024-01-04T10:51:30.226650100Z"
    }
   },
   "id": "79f6bf9e67c64775"
  },
  {
   "cell_type": "code",
   "execution_count": 40,
   "outputs": [
    {
     "name": "stdout",
     "output_type": "stream",
     "text": [
      "We have a statistical model based on the following topic:\n",
      "\n",
      "With the Tour of Britain 2021 igniting excitement among cycling enthusiasts, it's interesting to delve into the performance trends of riders who participate in both the Benelux Tour and the Tour of Britain. By comparing their finishing times, average speeds, and stage rankings in these events, we can uncover insights into how the rigors of the Benelux Tour impact their subsequent performance in the Tour of Britain. This exploration could reveal whether participating in the Benelux Tour serves as an effective warm-up for riders or if it leads to fatigue that affects their performance in Britain.\n",
      "\n",
      "Now we would like to use this model to generate the following interesting research questions. Verbalize interesting \"yes\"/\"no\" questions where the correct answer depends computation of each of the following quantities:\n",
      "\n",
      "\t1. ATE('Physical Fitness Level') > 0\n",
      "\t2. ATE('Participation in Benelux Tour') < 0\n",
      "\t3. ATE('Physical Fitness Level') < ATE('Participation in Benelux Tour')\n",
      "\t4. |ATE('Physical Fitness Level')| > |ATE('Participation in Benelux Tour')|\n",
      "\t5. CATE('Physical Fitness Level' | 'Experience in Professional Cycling' = 0) > 0\n",
      "\t6. CATE('Participation in Benelux Tour' | 'Experience in Professional Cycling' = 0) > 0\n",
      "\t7. CATE('Physical Fitness Level' | 'Experience in Professional Cycling' = 0) < CATE('Participation in Benelux Tour' | 'Experience in Professional Cycling' = 0)\n",
      "\t8. |CATE('Participation in Benelux Tour' | 'Experience in Professional Cycling' = 0)| > |CATE('Physical Fitness Level' | 'Experience in Professional Cycling' = 0)|\n",
      "\t9. CATE('Physical Fitness Level' | 'Experience in Professional Cycling' = 1) < 0\n",
      "\t10. CATE('Participation in Benelux Tour' | 'Experience in Professional Cycling' = 1) < 0\n",
      "\t11. CATE('Participation in Benelux Tour' | 'Experience in Professional Cycling' = 1) > CATE('Physical Fitness Level' | 'Experience in Professional Cycling' = 1)\n",
      "\t12. |CATE('Participation in Benelux Tour' | 'Experience in Professional Cycling' = 1)| < |CATE('Physical Fitness Level' | 'Experience in Professional Cycling' = 1)|\n",
      "\t13. CATE('Physical Fitness Level' | 'Experience in Professional Cycling' = 0) < CATE('Physical Fitness Level' | 'Experience in Professional Cycling' = 1)\n",
      "\t14. |CATE('Physical Fitness Level' | 'Experience in Professional Cycling' = 0)| < |CATE('Physical Fitness Level' | 'Experience in Professional Cycling' = 1)|\n",
      "\t15. CATE('Participation in Benelux Tour' | 'Experience in Professional Cycling' = 0) > CATE('Participation in Benelux Tour' | 'Experience in Professional Cycling' = 1)\n",
      "\t16. |CATE('Participation in Benelux Tour' | 'Experience in Professional Cycling' = 1)| > |CATE('Participation in Benelux Tour' | 'Experience in Professional Cycling' = 0)|\n",
      "\t17. CATE('Physical Fitness Level' | 'Weather Conditions' = 0) > 0\n",
      "\t18. CATE('Participation in Benelux Tour' | 'Weather Conditions' = 0) < 0\n",
      "\t19. CATE('Physical Fitness Level' | 'Weather Conditions' = 0) < CATE('Participation in Benelux Tour' | 'Weather Conditions' = 0)\n",
      "\t20. |CATE('Physical Fitness Level' | 'Weather Conditions' = 0)| > |CATE('Participation in Benelux Tour' | 'Weather Conditions' = 0)|\n",
      "\t21. CATE('Physical Fitness Level' | 'Weather Conditions' = 1) > 0\n",
      "\t22. CATE('Participation in Benelux Tour' | 'Weather Conditions' = 1) < 0\n",
      "\t23. CATE('Physical Fitness Level' | 'Weather Conditions' = 1) > CATE('Participation in Benelux Tour' | 'Weather Conditions' = 1)\n",
      "\t24. |CATE('Participation in Benelux Tour' | 'Weather Conditions' = 1)| < |CATE('Physical Fitness Level' | 'Weather Conditions' = 1)|\n",
      "\t25. CATE('Physical Fitness Level' | 'Weather Conditions' = 1) < CATE('Physical Fitness Level' | 'Weather Conditions' = 0)\n",
      "\t26. |CATE('Physical Fitness Level' | 'Weather Conditions' = 1)| < |CATE('Physical Fitness Level' | 'Weather Conditions' = 0)|\n",
      "\t27. CATE('Participation in Benelux Tour' | 'Weather Conditions' = 0) > CATE('Participation in Benelux Tour' | 'Weather Conditions' = 1)\n",
      "\t28. |CATE('Participation in Benelux Tour' | 'Weather Conditions' = 1)| > |CATE('Participation in Benelux Tour' | 'Weather Conditions' = 0)|\n",
      "\n",
      "Where \"| * |\" is the absolute value and the definitions of \"ATE('X')\" (average treatment effect) and \"CATE('X' | 'U'=u)\" are:\n",
      "\n",
      "ATE('X') = E['Y' | do('X' = 1)] - E['Y' | do('X' = 0)]\n",
      "CATE('X' | 'U'=u) = E['Y' | 'U'=u, do('X' = 1)] - E['Y' | 'U'=u, do('X' = 0)]\n",
      "\n",
      "Where 'X' is a treatment variable, 'Y' is the outcome variable, and 'U' is a confounder variable.\n",
      "\n",
      "In addition to the questions and associated answers include a one sentence explanation for each question. Make sure the explanation can stand on its own without the question, so it should include all important details from the question.\n",
      "\n",
      "The meanings of all the variables (all of which are binary) in the statistical model are:\n",
      "\n",
      "Variable 'Experience in Professional Cycling' (0='Less Experienced', 1='Highly Experienced') means The rider's experience level in professional cycling.\n",
      "Variable 'Physical Fitness Level' (0='Low Fitness', 1='High Fitness') means The physical fitness level of a rider.\n",
      "Variable 'Participation in Benelux Tour' (0='No Participation', 1='Participation') means Whether a rider participates in the Benelux Tour before the Tour of Britain.\n",
      "Variable 'Weather Conditions' (0='Adverse Weather', 1='Favorable Weather') means The weather conditions during the races.\n",
      "Variable 'Training Intensity' (0='Low Intensity', 1='High Intensity') means The intensity of training undertaken by the rider.\n",
      "Variable 'Fatigue Level' (0='Low Fatigue', 1='High Fatigue') means The level of fatigue a rider experiences.\n",
      "Variable 'Performance in Tour of Britain' (0='Below Average', 1='Above Average') means The overall performance of a rider in the Tour of Britain.\n",
      "Variable 'Public Perception of Performance' (0='Negative Perception', 1='Positive Perception') means The public's perception of a rider's performance.\n",
      "\n",
      "Answer in the form of a JSON object in the following format:\n",
      "\n",
      "```json\n",
      "{\n",
      "    \"1\": {\"question\": \"[question]\", \"answer\": \"yes\", \"explanation\": \"[explanation]\"},\n",
      "    ...\n",
      "}\n",
      "```\n",
      "\n",
      "Answer concisely and precisely in the desired format. Do not add any additional comments or discussion. Most importantly, do not use any technical terms from causal inference such as ATE or CATE in the questions and explanations so that everything is easy to understand even for a layperson in a casual conversation.\n"
     ]
    }
   ],
   "source": [
    "# if 'prompt_questions' in ctx:\n",
    "#     del ctx['prompt_questions']\n",
    "# print(FileTemplate('questions').fill_in(ctx))\n",
    "print(ctx['prompt_questions'])"
   ],
   "metadata": {
    "collapsed": false,
    "ExecuteTime": {
     "end_time": "2024-01-04T10:51:31.794781200Z",
     "start_time": "2024-01-04T10:51:31.657980700Z"
    }
   },
   "id": "e7a104d246a371ac"
  },
  {
   "cell_type": "code",
   "execution_count": 41,
   "outputs": [],
   "source": [
    "# setting = ctx['questions']\n",
    "#################################################\n",
    "settings_raw = '''\n",
    "\n",
    "\n",
    "{\n",
    "    \"1\": {\"question\": \"Does being in better physical shape generally lead to better performance in the Tour of Britain?\", \"answer\": \"yes\", \"explanation\": \"Being in better physical shape typically results in improved performance in the Tour of Britain.\"},\n",
    "    \"2\": {\"question\": \"Does participating in the Benelux Tour tend to worsen a rider's performance in the Tour of Britain?\", \"answer\": \"yes\", \"explanation\": \"Participation in the Benelux Tour generally leads to a decrease in performance in the subsequent Tour of Britain.\"},\n",
    "    \"3\": {\"question\": \"Is the impact of physical fitness on performance in the Tour of Britain greater than that of participating in the Benelux Tour?\", \"answer\": \"no\", \"explanation\": \"The influence of participating in the Benelux Tour on a rider's performance in the Tour of Britain is greater than the impact of their physical fitness.\"},\n",
    "    \"4\": {\"question\": \"Does physical fitness have a more significant overall impact on Tour of Britain performance compared to participation in the Benelux Tour?\", \"answer\": \"yes\", \"explanation\": \"The overall impact of a rider's physical fitness on their performance in the Tour of Britain is more significant compared to their participation in the Benelux Tour.\"},\n",
    "    \"5\": {\"question\": \"For less experienced cyclists, does having a higher level of physical fitness improve performance in the Tour of Britain?\", \"answer\": \"yes\", \"explanation\": \"For cyclists with less professional experience, a higher level of physical fitness positively influences their performance in the Tour of Britain.\"},\n",
    "    \"6\": {\"question\": \"For less experienced riders, does participating in the Benelux Tour enhance their performance in the Tour of Britain?\", \"answer\": \"yes\", \"explanation\": \"Less experienced riders tend to improve their performance in the Tour of Britain by participating in the Benelux Tour.\"},\n",
    "    \"7\": {\"question\": \"Is the positive impact of being physically fit on Tour of Britain performance less for less experienced cyclists compared to their participation in the Benelux Tour?\", \"answer\": \"yes\", \"explanation\": \"For cyclists with less professional experience, the beneficial effect of being physically fit on their Tour of Britain performance is less than the effect of participating in the Benelux Tour.\"},\n",
    "    \"8\": {\"question\": \"For less experienced cyclists, does participation in the Benelux Tour have a more substantial overall impact on Tour of Britain performance compared to their physical fitness level?\", \"answer\": \"yes\", \"explanation\": \"For less experienced riders, the overall impact of participating in the Benelux Tour on their performance in the Tour of Britain is more substantial than that of their physical fitness level.\"},\n",
    "    \"9\": {\"question\": \"For highly experienced cyclists, does having a higher level of physical fitness decrease their performance in the Tour of Britain?\", \"answer\": \"no\", \"explanation\": \"Among highly experienced cyclists, a higher level of physical fitness does not lead to a decrease in their performance in the Tour of Britain.\"},\n",
    "    \"10\": {\"question\": \"For highly experienced riders, does participating in the Benelux Tour reduce their performance in the Tour of Britain?\", \"answer\": \"no\", \"explanation\": \"Highly experienced riders do not generally experience a reduction in their performance in the Tour of Britain due to participating in the Benelux Tour.\"},\n",
    "    \"11\": {\"question\": \"For highly experienced cyclists, does participation in the Benelux Tour have a greater impact on their Tour of Britain performance compared to their physical fitness?\", \"answer\": \"yes\", \"explanation\": \"For cyclists with extensive professional experience, the effect of participating in the Benelux Tour on their Tour of Britain performance is greater than that of their physical fitness.\"},\n",
    "    \"12\": {\"question\": \"Among highly experienced riders, does physical fitness have a less overall impact on Tour of Britain performance compared to participation in the Benelux Tour?\", \"answer\": \"no\", \"explanation\": \"For highly experienced riders, the overall impact of their physical fitness on performance in the Tour of Britain is not less than the impact of participating in the Benelux Tour.\"},\n",
    "    \"13\": {\"question\": \"Does being physically fit have a greater positive impact on performance in the Tour of Britain for less experienced cyclists compared to highly experienced ones?\", \"answer\": \"no\", \"explanation\": \"The positive influence of physical fitness on Tour of Britain performance is not greater for less experienced cyclists compared to their highly experienced counterparts.\"},\n",
    "    \"14\": {\"question\": \"Is the overall effect of physical fitness on performance in the Tour of Britain more significant for less experienced riders compared to highly experienced ones?\", \"answer\": \"no\", \"explanation\": \"The overall effect of physical fitness on performance in the Tour of Britain is not more significant for less experienced riders than for those who are highly experienced.\"},\n",
    "    \"15\": {\"question\": \"For less experienced cyclists, does participation in the Benelux Tour have a more positive effect on their Tour of Britain performance than for highly experienced riders?\", \"answer\": \"yes\", \"explanation\": \"Participation in the Benelux Tour tends to have a more positive effect on the performance of less experienced cyclists in the Tour of Britain compared to highly experienced riders.\"},\n",
    "    \"16\": {\"question\": \"Among highly experienced cyclists, does participation in the Benelux Tour have a greater overall impact on Tour of Britain performance compared to less experienced cyclists?\", \"answer\": \"yes\", \"explanation\": \"For highly experienced cyclists, the overall impact of participating in the Benelux Tour on their Tour of Britain performance is greater than for those with less experience.\"},\n",
    "    \"17\": {\"question\": \"In adverse weather conditions, does having a higher level of physical fitness improve a rider's performance in the Tour of Britain?\", \"answer\": \"yes\", \"explanation\": \"During adverse weather conditions, riders with higher physical fitness levels tend to perform better in the Tour of Britain.\"},\n",
    "    \"18\": {\"question\": \"In adverse weather conditions, does participating in the Benelux Tour negatively impact a rider's performance in the Tour of Britain?\", \"answer\": \"yes\", \"explanation\": \"When facing adverse weather conditions, participation in the Benelux Tour generally leads to a decrease in performance in the Tour of Britain.\"},\n",
    "    \"19\": {\"question\": \"Under adverse weather conditions, is the impact of participating in the Benelux Tour on Tour of Britain performance greater than that of physical fitness?\", \"answer\": \"yes\", \"explanation\": \"In scenarios with adverse weather, the impact of participating in the Benelux Tour on a rider's Tour of Britain performance is greater than the impact of their physical fitness.\"},\n",
    "    \"20\": {\"question\": \"In adverse weather, does physical fitness have a more significant overall impact on performance in the Tour of Britain compared to participation in the Benelux Tour?\", \"answer\": \"yes\", \"explanation\": \"When facing adverse weather conditions, the overall impact of a rider's physical fitness on their Tour of Britain performance is more significant than their participation in the Benelux Tour.\"},\n",
    "    \"21\": {\"question\": \"In favorable weather conditions, does being in better physical shape lead to improved performance in the Tour of Britain?\", \"answer\": \"yes\", \"explanation\": \"During favorable weather conditions, riders who are in better physical shape typically see improved performance in the Tour of Britain.\"},\n",
    "    \"22\": {\"question\": \"In favorable weather conditions, does participating in the Benelux Tour tend to worsen a rider's performance in the Tour of Britain?\", \"answer\": \"yes\", \"explanation\": \"When the weather is favorable, participation in the Benelux Tour often leads to a decrease in a rider's performance in the Tour of Britain.\"},\n",
    "    \"23\": {\"question\": \"Under favorable weather conditions, does physical fitness have a greater impact on Tour of Britain performance than participation in the Benelux Tour?\", \"answer\": \"yes\", \"explanation\": \"In favorable weather conditions, the influence of physical fitness on Tour of Britain performance is greater than that of participating in the Benelux Tour.\"},\n",
    "    \"24\": {\"question\": \"In favorable weather, does participation in the Benelux Tour have a less overall impact on Tour of Britain performance compared to physical fitness?\", \"answer\": \"no\", \"explanation\": \"During favorable weather conditions, the overall impact of participating in the Benelux Tour on Tour of Britain performance is not less than that of a rider's physical fitness.\"},\n",
    "    \"25\": {\"question\": \"Does being physically fit have a lesser positive effect on Tour of Britain performance in favorable weather compared to adverse weather?\", \"answer\": \"yes\", \"explanation\": \"The positive impact of being physically fit on a rider's performance in the Tour of Britain is lesser in favorable weather conditions compared to adverse weather.\"},\n",
    "    \"26\": {\"question\": \"Is the overall influence of physical fitness on Tour of Britain performance smaller in favorable weather compared to adverse weather?\", \"answer\": \"yes\", \"explanation\": \"The overall influence of a rider's physical fitness on their Tour of Britain performance is smaller in favorable weather compared to adverse weather conditions.\"},\n",
    "    \"27\": {\"question\": \"Does participating in the Benelux Tour have a more positive impact on Tour of Britain performance in adverse weather compared to favorable weather?\", \"answer\": \"yes\", \"explanation\": \"Participation in the Benelux Tour tends to have a more positive impact on Tour of Britain performance in adverse weather conditions compared to favorable weather.\"},\n",
    "    \"28\": {\"question\": \"Among riders who participate in the Benelux Tour, is the overall impact on Tour of Britain performance greater in favorable weather compared to adverse weather?\", \"answer\": \"yes\", \"explanation\": \"For riders who participate in the Benelux Tour, the overall impact on their performance in the Tour of Britain is greater in favorable weather conditions compared to adverse weather.\"}\n",
    "}\n",
    "\n",
    "\n",
    "\n",
    "\n",
    "\n",
    "\n",
    "'''\n",
    "#################################################\n",
    "setting = json.loads(settings_raw)\n",
    "setting = [setting[str(i)] for i in range(1, len(setting)+1)]\n",
    "ctx['questions'] = setting"
   ],
   "metadata": {
    "collapsed": false,
    "ExecuteTime": {
     "end_time": "2024-01-04T10:54:33.249264800Z",
     "start_time": "2024-01-04T10:54:33.109481300Z"
    }
   },
   "id": "15ee584645d0a66d"
  },
  {
   "cell_type": "code",
   "execution_count": 41,
   "outputs": [],
   "source": [],
   "metadata": {
    "collapsed": false,
    "ExecuteTime": {
     "end_time": "2024-01-04T10:54:34.750062200Z",
     "start_time": "2024-01-04T10:54:34.633890400Z"
    }
   },
   "id": "19aa513e0b179ac4"
  },
  {
   "cell_type": "code",
   "execution_count": 42,
   "outputs": [
    {
     "data": {
      "text/plain": "'Impact_of_Benelux_Tour_on_Tour_of_Britain_Performance.json'"
     },
     "execution_count": 42,
     "metadata": {},
     "output_type": "execute_result"
    }
   ],
   "source": [
    "i = 0\n",
    "path = ctx._root / f'{ctx[\"motivation\"][\"title\"] if \"motivation\" in ctx else \"test\"}{i if i > 1 else \"\"}'\n",
    "while path.exists():\n",
    "    i += 1\n",
    "    path = ctx._root / f'{ctx[\"motivation\"][\"title\"] if \"motivation\" in ctx else \"test\"}{i if i > 1 else \"\"}'\n",
    "ctx.save(path.stem if ctx.story_id is None else ctx.story_id).name"
   ],
   "metadata": {
    "collapsed": false,
    "ExecuteTime": {
     "end_time": "2024-01-04T10:54:35.477214600Z",
     "start_time": "2024-01-04T10:54:35.377926600Z"
    }
   },
   "id": "6135ec55dcfc66cb"
  },
  {
   "cell_type": "code",
   "execution_count": null,
   "outputs": [],
   "source": [],
   "metadata": {
    "collapsed": false
   },
   "id": "74283ee029cef299"
  },
  {
   "cell_type": "code",
   "execution_count": null,
   "outputs": [],
   "source": [],
   "metadata": {
    "collapsed": false
   },
   "id": "7898714478f8ecbf"
  },
  {
   "cell_type": "code",
   "execution_count": 27,
   "outputs": [],
   "source": [
    "ctx['stats'] = {int(k): v for k, v in ctx['stats'].items()}\n",
    "ctx['verbs'] = {k: {int(k2): v2 for k2, v2 in v.items()} for k, v in ctx['verbs'].items()}\n",
    "for k, v in ctx['verbs'].items():\n",
    "    for k2, v2 in v.items():\n",
    "        if 'value' in v2:\n",
    "            v2['value'] = {int(k3): v3 for k3, v3 in v2['value'].items()}\n",
    "ctx['questions']['questions'] = {int(k): v for k, v in ctx['questions']['questions'].items()}"
   ],
   "metadata": {
    "collapsed": false,
    "ExecuteTime": {
     "end_time": "2023-11-27T13:16:14.760924760Z",
     "start_time": "2023-11-27T13:16:14.681129533Z"
    }
   },
   "id": "a3ecd05075012115"
  },
  {
   "cell_type": "code",
   "execution_count": 28,
   "outputs": [],
   "source": [
    "rawverbs = ctx['verbs']\n",
    "rawvars = {node['name']: node for node in ctx['nodes']}"
   ],
   "metadata": {
    "collapsed": false,
    "ExecuteTime": {
     "end_time": "2023-11-27T13:16:16.110972483Z",
     "start_time": "2023-11-27T13:16:16.068164578Z"
    }
   },
   "id": "812ee6056e37cd92"
  },
  {
   "cell_type": "code",
   "execution_count": 29,
   "outputs": [
    {
     "name": "stdout",
     "output_type": "stream",
     "text": [
      "('ParticipationAppleAcademy', 'EmploymentRateTech', ['LocalEconCond'])\n",
      "('UnivIndustryCollab', 'EmploymentRateTech', ['LocalEconCond'])\n"
     ]
    }
   ],
   "source": [
    "print(net.backdoor_estimand(treatment1['name'], outcome['name']))\n",
    "print(net.backdoor_estimand(treatment2['name'], outcome['name']))"
   ],
   "metadata": {
    "collapsed": false,
    "ExecuteTime": {
     "end_time": "2023-11-27T13:16:16.341443207Z",
     "start_time": "2023-11-27T13:16:16.280347603Z"
    }
   },
   "id": "868f7eddeea4a0bd"
  },
  {
   "cell_type": "code",
   "execution_count": 30,
   "outputs": [
    {
     "name": "stdout",
     "output_type": "stream",
     "text": [
      "\t3. ATE('ParticipationAppleAcademy') < ATE('UnivIndustryCollab')\n",
      "{'treatment1': 'ParticipationAppleAcademy', 'treatment2': 'UnivIndustryCollab', 'query': 'ate', 'type': 'ate-compare', 'criterion': '<'}\n"
     ]
    },
    {
     "data": {
      "text/plain": "{'question': 'Is participating in the Apple Academy program more influential in increasing tech sector employment than active university-industry collaboration?',\n 'answer': 'no',\n 'explanation': 'Active university-industry collaboration tends to have a more significant impact on employment in the tech sector compared to individual participation in programs like Apple Academy.',\n 'wrong_explanation': 'Participation in the Apple Academy program is more effective in increasing employment in the tech sector compared to university-industry collaboration.'}"
     },
     "execution_count": 30,
     "metadata": {},
     "output_type": "execute_result"
    }
   ],
   "source": [
    "qkey = random.choice(list(ctx['questions']['questions']))\n",
    "qkey = 3\n",
    "qinfo = ctx['questions']['questions'][qkey]\n",
    "query = ctx['queries'][qkey-1]\n",
    "print(ctx['query_description'].split('\\n')[qkey-1])\n",
    "print(query)\n",
    "qinfo"
   ],
   "metadata": {
    "collapsed": false,
    "ExecuteTime": {
     "end_time": "2023-11-27T13:16:18.930917530Z",
     "start_time": "2023-11-27T13:16:18.890397758Z"
    }
   },
   "id": "72b12b18af21c3b0"
  },
  {
   "cell_type": "code",
   "execution_count": null,
   "outputs": [],
   "source": [
    "# 1. One of the variables is {variable}.\n",
    "# 2. We estimate {subject} [often/usually/sometimes/rarely/etc.] {value}.\n",
    "# 3. There is a [number]% chance that {value}.\n",
    "# 4. [number]% of {domain} {value}.\n",
    "# 5. [number]% of the time {value}.\n",
    "# 6. Conditional sentence: {value}, [some consequence].\n",
    "# 7. Interventional: If {value}, [some effect]."
   ],
   "metadata": {
    "collapsed": false
   },
   "id": "705ad18c9db5c863"
  },
  {
   "cell_type": "code",
   "execution_count": 63,
   "outputs": [
    {
     "data": {
      "text/plain": "{1: {'variable': ['the age of the refinery',\n   'how long the refinery has been operational']},\n 2: {'subject': 'the refinery',\n  'value': {0: ['is a new facility', 'has been recently established'],\n   1: ['has been operating for many years', 'is an older establishment']}},\n 3: {'value': {0: ['the refinery is newly built',\n    'the refinery has been recently established'],\n   1: ['the refinery is quite old',\n    'the refinery has many years of operation']}},\n 4: {'domain': 'refineries',\n  'value': {0: ['are new establishments', 'have been recently built'],\n   1: ['are older facilities', 'have been operating for many years']}},\n 5: {'value': {0: ['the refinery is a new establishment',\n    'the refinery has been recently constructed'],\n   1: ['the refinery is an old establishment',\n    'the refinery has been operating for a long time']}},\n 6: {'value': {0: ['If the refinery is newly established',\n    'In newer refineries'],\n   1: ['If the refinery has been around for many years',\n    'In older refineries']}},\n 7: {'value': {0: ['if the refinery is new',\n    'if the refinery has just started operations'],\n   1: ['if the refinery is old',\n    'if the refinery has been operating for decades']}}}"
     },
     "execution_count": 63,
     "metadata": {},
     "output_type": "execute_result"
    }
   ],
   "source": [
    "next(iter(rawverbs.values()))"
   ],
   "metadata": {
    "collapsed": false,
    "ExecuteTime": {
     "end_time": "2023-11-24T14:19:13.163194498Z",
     "start_time": "2023-11-24T14:19:13.112825244Z"
    }
   },
   "id": "945a4e8e8acb9125"
  },
  {
   "cell_type": "code",
   "execution_count": null,
   "outputs": [],
   "source": [
    "varverbs = {}\n",
    "\n",
    "for var, raw in rawverbs.items():\n",
    "    info = {'values': {0: {}, 1: {}}}\n",
    "    info0 = info['values'][0]\n",
    "    info1 = info['values'][1]\n",
    "    \n",
    "    info['variable'] = raw[1]['variable']\n",
    "    info['subject'] = raw[2]['subject']\n",
    "    info['domain'] = raw[3]['domain']\n",
    "    \n",
    "    \n",
    "    \n",
    "    for i in [0, 1]:\n",
    "        info_val = raw[2]['value'][i]\n",
    "        info_val['verb'] = raw[2]['value'][i]\n",
    "        \n",
    "\n",
    "    varverbs[var] = info"
   ],
   "metadata": {
    "collapsed": false
   },
   "id": "c9bd1232c55e1b23"
  },
  {
   "cell_type": "code",
   "execution_count": null,
   "outputs": [],
   "source": [],
   "metadata": {
    "collapsed": false
   },
   "id": "ea1fd369d89f7d18"
  },
  {
   "cell_type": "code",
   "execution_count": 62,
   "outputs": [
    {
     "data": {
      "text/plain": "{1: {'variable': ['the safety protocols in place at the refinery',\n   'how well the refinery follows safety guidelines']},\n 2: {'subject': 'the refinery',\n  'value': {0: ['lacks adequate safety protocols',\n    'has insufficient safety measures'],\n   1: ['maintains adequate safety protocols', 'has robust safety measures']}},\n 3: {'value': {0: ['safety protocols are inadequate',\n    'safety measures are not up to standard'],\n   1: ['safety protocols are thoroughly implemented',\n    'safety measures are comprehensive']}},\n 4: {'domain': 'refineries',\n  'value': {0: ['lack adequate safety measures',\n    'do not follow safety guidelines properly'],\n   1: ['have robust safety protocols',\n    'adhere strictly to safety guidelines']}},\n 5: {'value': {0: ['safety protocols are not followed properly',\n    'safety measures are neglected'],\n   1: ['safety protocols are strictly followed',\n    'safety measures are taken seriously']}},\n 6: {'value': {0: ['If safety protocols are lacking',\n    'In refineries with insufficient safety measures'],\n   1: ['When safety protocols are adequate',\n    'In refineries with comprehensive safety measures']}},\n 7: {'value': {0: ['if safety protocols are not followed',\n    'if safety measures are inadequate'],\n   1: ['if safety protocols are well implemented',\n    'if the refinery has strong safety measures']}}}"
     },
     "execution_count": 62,
     "metadata": {},
     "output_type": "execute_result"
    }
   ],
   "source": [
    "rawverbs[treatment1['name']]"
   ],
   "metadata": {
    "collapsed": false,
    "ExecuteTime": {
     "end_time": "2023-11-24T14:18:20.480701735Z",
     "start_time": "2023-11-24T14:18:20.433803517Z"
    }
   },
   "id": "197ea0866e2c44d3"
  },
  {
   "cell_type": "code",
   "execution_count": 28,
   "outputs": [
    {
     "data": {
      "text/plain": "{'1': {'variable': ['public support for the climate bill',\n   \"the climate bill's popularity\"]},\n '2': {'subject': 'the climate bill',\n  'value': {'0': ['lacks public support', 'is unpopular among the public'],\n   '1': ['enjoys high public support', 'is popular among the public']}},\n '3': {'value': {'0': ['there is little public backing for the climate bill',\n    'the climate bill is not popular'],\n   '1': ['there is strong public support for the climate bill',\n    'the climate bill is popular']}},\n '4': {'domain': 'public opinions',\n  'value': {'0': ['do not favor the climate bill',\n    'show disapproval of the climate bill'],\n   '1': ['favor the climate bill', 'show approval of the climate bill']}},\n '5': {'value': {'0': ['the climate bill struggles to gain public support',\n    'the climate bill faces public disapproval'],\n   '1': ['the climate bill wins public support',\n    'the climate bill is well-received by the public']}},\n '6': {'value': {'0': ['If public support for the climate bill is lacking',\n    'When the climate bill is unpopular'],\n   '1': ['If public support for the climate bill is strong',\n    'When the climate bill is popular']}},\n '7': {'value': {'0': ['if the climate bill fails to gain public support',\n    'if the climate bill is unpopular'],\n   '1': ['if the climate bill garners strong public support',\n    'if the climate bill is popular']}}}"
     },
     "execution_count": 28,
     "metadata": {},
     "output_type": "execute_result"
    }
   ],
   "source": [
    "rawverbs[outcome['name']]"
   ],
   "metadata": {
    "collapsed": false,
    "ExecuteTime": {
     "end_time": "2023-11-23T14:30:57.291253900Z",
     "start_time": "2023-11-23T14:30:57.244182100Z"
    }
   },
   "id": "327e8784efac4364"
  },
  {
   "cell_type": "code",
   "execution_count": null,
   "outputs": [],
   "source": [],
   "metadata": {
    "collapsed": false
   },
   "id": "f825d25d6d6b085e"
  },
  {
   "cell_type": "code",
   "execution_count": null,
   "outputs": [],
   "source": [
    "example_tmpl = '{subject} often {value}.'"
   ],
   "metadata": {
    "collapsed": false
   },
   "id": "94ae67d265970696"
  },
  {
   "cell_type": "code",
   "execution_count": 35,
   "outputs": [
    {
     "data": {
      "text/plain": "{'Presidential Engagement in Climate Discussions': {'1': {'variable': ['presidential involvement in climate talks',\n    \"the president's active participation in climate discussions\"]},\n  '2': {'subject': 'the president',\n   'value': {'0': ['is not involved in climate discussions',\n     'does not engage in climate talks'],\n    '1': ['actively participates in climate discussions',\n     'is deeply involved in climate talks']}},\n  '3': {'value': {'0': ['the president is not engaged in climate talks',\n     'there is no presidential involvement in climate discussions'],\n    '1': ['the president is actively engaged in climate talks',\n     'there is direct presidential involvement in climate discussions']}},\n  '4': {'domain': 'instances of climate discussions',\n   'value': {'0': ['do not include presidential engagement',\n     \"lack the president's involvement\"],\n    '1': ['include active presidential participation',\n     \"feature the president's active involvement\"]}},\n  '5': {'value': {'0': ['the president stays out of climate discussions',\n     \"there's no presidential involvement in climate talks\"],\n    '1': ['the president is actively engaged in climate discussions',\n     'presidential involvement in climate talks is evident']}},\n  '6': {'value': {'0': ['Without presidential engagement in climate talks',\n     \"In the absence of the president's involvement in climate discussions\"],\n    '1': ['With the president actively participating in climate discussions',\n     'When the president is involved in climate talks']}},\n  '7': {'value': {'0': ['if the president does not engage in climate discussions',\n     'if there is no presidential involvement in climate talks'],\n    '1': ['if the president actively participates in climate discussions',\n     'if there is direct presidential involvement in climate talks']}}},\n 'Media Coverage of Climate Issues': {'1': {'variable': ['media coverage of climate issues',\n    'reporting on climate matters']},\n  '2': {'subject': 'media outlets',\n   'value': {'0': ['provide limited or negative coverage of climate issues',\n     'report negatively on climate matters'],\n    '1': ['offer extensive and positive coverage of climate issues',\n     'report positively on climate matters']}},\n  '3': {'value': {'0': ['coverage of climate issues is limited or negative',\n     'reporting on climate matters is predominantly negative'],\n    '1': ['coverage of climate issues is extensive and positive',\n     'reporting on climate matters is predominantly positive']}},\n  '4': {'domain': 'reports on climate issues',\n   'value': {'0': ['are limited or negative',\n     'portray climate matters negatively'],\n    '1': ['are extensive and positive',\n     'portray climate matters positively']}},\n  '5': {'value': {'0': ['media coverage of climate issues is limited or negative',\n     'climate matters are reported negatively'],\n    '1': ['media coverage of climate issues is extensive and positive',\n     'climate matters are reported positively']}},\n  '6': {'value': {'0': ['When media coverage of climate issues is limited or negative',\n     'If climate matters are reported negatively'],\n    '1': ['When media coverage of climate issues is extensive and positive',\n     'If climate matters are reported positively']}},\n  '7': {'value': {'0': ['if media coverage of climate issues is limited or negative',\n     'if climate matters are reported negatively'],\n    '1': ['if media coverage of climate issues is extensive and positive',\n     'if climate matters are reported positively']}}},\n 'Content of Climate Bill': {'1': {'variable': ['perception of the climate bill',\n    'public view of the climate legislation']},\n  '2': {'subject': 'the climate bill',\n   'value': {'0': ['is perceived as ineffective or unfavorable',\n     'garners criticism'],\n    '1': ['is seen as effective and favorable', 'receives praise']}},\n  '3': {'value': {'0': ['the climate bill is viewed unfavorably',\n     'the legislation is considered ineffective'],\n    '1': ['the climate bill is favored',\n     'the legislation is seen as effective']}},\n  '4': {'domain': 'responses to the climate bill',\n   'value': {'0': ['are negative or critical', 'indicate dissatisfaction'],\n    '1': ['are positive or approving', 'indicate support']}},\n  '5': {'value': {'0': ['the climate bill is often criticized',\n     'the legislation faces disapproval'],\n    '1': ['the climate bill is often praised',\n     'the legislation is well-received']}},\n  '6': {'value': {'0': ['If the climate bill is perceived as ineffective',\n     'When the legislation is viewed unfavorably'],\n    '1': ['If the climate bill is seen as effective',\n     'When the legislation is viewed favorably']}},\n  '7': {'value': {'0': ['if the climate bill is criticized',\n     'if the legislation is seen as ineffective'],\n    '1': ['if the climate bill is praised',\n     'if the legislation is seen as effective']}}},\n 'Perceived Credibility of the President': {'1': {'variable': [\"the president's credibility\",\n    'public trust in the president']},\n  '2': {'subject': 'the president',\n   'value': {'0': ['is viewed as having low credibility',\n     'suffers from a lack of public trust'],\n    '1': ['is seen as highly credible',\n     'enjoys a high level of public trust']}},\n  '3': {'value': {'0': ['the president is perceived to have low credibility',\n     'public trust in the president is low'],\n    '1': ['the president is perceived to be highly credible',\n     'public trust in the president is high']}},\n  '4': {'domain': 'public opinions',\n   'value': {'0': ['reflect low credibility for the president',\n     'show a lack of trust in the president'],\n    '1': ['reflect high credibility for the president',\n     'show a high level of trust in the president']}},\n  '5': {'value': {'0': [\"the president's credibility is questioned\",\n     \"there's a notable lack of trust in the president\"],\n    '1': [\"the president's credibility is affirmed\",\n     \"there's a strong level of trust in the president\"]}},\n  '6': {'value': {'0': [\"When the president's credibility is low\",\n     'If public trust in the president is lacking'],\n    '1': [\"When the president's credibility is high\",\n     'If public trust in the president is strong']}},\n  '7': {'value': {'0': ['if the president is seen as lacking credibility',\n     'if public trust in the president is low'],\n    '1': ['if the president is seen as highly credible',\n     'if public trust in the president is high']}}},\n 'Public Support for Climate Bill': {'1': {'variable': ['public support for the climate bill',\n    \"the climate bill's popularity\"]},\n  '2': {'subject': 'the climate bill',\n   'value': {'0': ['lacks public support', 'is unpopular among the public'],\n    '1': ['enjoys high public support', 'is popular among the public']}},\n  '3': {'value': {'0': ['there is little public backing for the climate bill',\n     'the climate bill is not popular'],\n    '1': ['there is strong public support for the climate bill',\n     'the climate bill is popular']}},\n  '4': {'domain': 'public opinions',\n   'value': {'0': ['do not favor the climate bill',\n     'show disapproval of the climate bill'],\n    '1': ['favor the climate bill', 'show approval of the climate bill']}},\n  '5': {'value': {'0': ['the climate bill struggles to gain public support',\n     'the climate bill faces public disapproval'],\n    '1': ['the climate bill wins public support',\n     'the climate bill is well-received by the public']}},\n  '6': {'value': {'0': ['If public support for the climate bill is lacking',\n     'When the climate bill is unpopular'],\n    '1': ['If public support for the climate bill is strong',\n     'When the climate bill is popular']}},\n  '7': {'value': {'0': ['if the climate bill fails to gain public support',\n     'if the climate bill is unpopular'],\n    '1': ['if the climate bill garners strong public support',\n     'if the climate bill is popular']}}},\n \"Government's Overall Approval Rating\": {'1': {'variable': [\"the government's overall approval rating\",\n    \"the public's general approval of the government\"]},\n  '2': {'subject': 'the government',\n   'value': {'0': ['has a low approval rating',\n     'is not widely approved by the public'],\n    '1': ['enjoys a high approval rating',\n     'is broadly approved by the public']}},\n  '3': {'value': {'0': ['the government has a low approval rating',\n     'the public does not widely approve the government'],\n    '1': ['the government enjoys a high approval rating',\n     'the public broadly approves the government']}},\n  '4': {'domain': 'citizens',\n   'value': {'0': ['do not approve of the government',\n     'have a low opinion of the government'],\n    '1': ['approve of the government',\n     'have a high opinion of the government']}},\n  '5': {'value': {'0': [\"the government's approval rating is low\",\n     'public approval of the government is low'],\n    '1': [\"the government's approval rating is high\",\n     'public approval of the government is high']}},\n  '6': {'value': {'0': ['With a low approval rating for the government',\n     'When the government is not widely approved'],\n    '1': ['With a high approval rating for the government',\n     'When the government is broadly approved']}},\n  '7': {'value': {'0': [\"if the government's approval rating remains low\",\n     'if the public continues to disapprove the government'],\n    '1': [\"if the government's approval rating increases\",\n     \"if the public's approval of the government rises\"]}}}}"
     },
     "execution_count": 35,
     "metadata": {},
     "output_type": "execute_result"
    }
   ],
   "source": [
    "rawverbs"
   ],
   "metadata": {
    "collapsed": false,
    "ExecuteTime": {
     "end_time": "2023-11-23T14:45:57.525295500Z",
     "start_time": "2023-11-23T14:45:57.415375400Z"
    }
   },
   "id": "72cc0b2d090e4021"
  },
  {
   "cell_type": "code",
   "execution_count": 80,
   "outputs": [
    {
     "name": "stdout",
     "output_type": "stream",
     "text": [
      "We have a news article headline, and we would like to identify a potential specific analysis that could be motivated by the article. Importantly, we would like specific details to be mentioned in the setting, even if they don't show up in the original article, to paint a vivid picture of the motivation and potential features of the data.\n",
      "\n",
      "Here is the article headline:\n",
      "\n",
      "```\n",
      "Title: Inside the race to keep secrets safe from the quantum computing revolution - Telegraph.co.uk\n",
      "Description: Start-ups are taking part in a global competition to upgrade encryption to fend off the quantum computing threat\n",
      "Original Language: English\n",
      "```\n",
      "\n",
      "Write a 2-3 sentence introduction to a statistical analysis that could be motivated by this article. Be sure to include specific details about the data that would be used and the analysis that would be performed. You do not need to write the entire analysis, just the introduction. Avoid using any technical jargon (such as words like \"statistical analysis\" or \"model\" and avoid starting with \"imagine\") and make sure the introduction is accessible to laypeople (albeit in a professional setting), and the motivation is clear. Imagine a casual conversation between friends or colleagues about the article that may prompt some deeper quantitative analysis when thinking about it, and make sure this introduction would sound understandable and interesting to them.\n",
      "\n",
      "Answer in the form of a json dictionary with two entries: one for the `introduction` and one for a proposed `title` for this specific setting that can serve as a file name.\n"
     ]
    }
   ],
   "source": [
    "prompt = FileTemplate('motivation').fill_in(ctx)\n",
    "print(prompt)"
   ],
   "metadata": {
    "collapsed": false,
    "ExecuteTime": {
     "end_time": "2023-11-29T09:37:28.669484533Z",
     "start_time": "2023-11-29T09:37:28.601758308Z"
    }
   },
   "id": "a184ee6bd0f946e0"
  },
  {
   "cell_type": "code",
   "execution_count": 77,
   "outputs": [
    {
     "data": {
      "text/plain": "{'introduction': \"Imagine we're tracking a high-stakes race where companies around the world are scrambling to make their secrets quantum-proof. We'd gather data on how different start-ups are updating their encryption methods, noting things like the type of technology they're using, their progress speed, and the investments they're receiving. By looking at these pieces, we can understand who's leading in this crucial tech shift and what strategies are proving most effective.\",\n 'proposed_title': 'QuantumLeap_EncryptionRace'}"
     },
     "execution_count": 77,
     "metadata": {},
     "output_type": "execute_result"
    }
   ],
   "source": [
    "{\n",
    "  \"introduction\": \"With the rise of quantum computing posing a real challenge to current encryption methods, there's a fascinating question about how prepared different tech companies are for this change. By examining the patterns in investments made by these companies into quantum-safe technologies, we can get a sense of who's leading and who might be lagging in this race. This exploration would involve looking at the amount and types of investments over the past few years, delving into the sectors these companies belong to, and assessing their geographical distribution.\",\n",
    "  \"title\": \"Quantum_Leap_In_Encryption_Preparedness\"\n",
    "}\n"
   ],
   "metadata": {
    "collapsed": false,
    "ExecuteTime": {
     "end_time": "2023-11-29T09:23:05.923149087Z",
     "start_time": "2023-11-29T09:23:05.842205680Z"
    }
   },
   "id": "bcd5027970a8295e"
  },
  {
   "cell_type": "code",
   "execution_count": null,
   "outputs": [],
   "source": [
    "\n",
    "# For example, if the article is about some political decision or issue in the economy, then we can imagine using that article (and some implied associated data) to analyze how some specific company should adjust investments or how some associated economic indicator will change. \n"
   ],
   "metadata": {
    "collapsed": false
   },
   "id": "2ec237388a7f8626"
  },
  {
   "cell_type": "code",
   "execution_count": null,
   "outputs": [],
   "source": [],
   "metadata": {
    "collapsed": false
   },
   "id": "7094e0f316209b1"
  },
  {
   "cell_type": "code",
   "execution_count": null,
   "outputs": [],
   "source": [
    "ctx.include(get_verbalization_info);\n",
    "verb_prompt_template = '''We would like to find very natural verbalizations of the following binary variables selected from a statistical model. The verbalizations should sound more natural and organic, so that you could imagine them being used in a news paper article or casual conversation, while still being semantically equivalent to the original variable and value.\n",
    "\n",
    "Here are the templates that we use to verbalize the variables:\n",
    "\n",
    "1. {{subject}} [often/usually/sometimes/rarely/etc.] {{value}}.\n",
    "2. There is a [number]% chance that {{value}}.\n",
    "3. [number]% of {{domain}} {{value}}.\n",
    "4. [number]% of the time {{value}}.\n",
    "5. Conditional sentence: {{value}}, [some consequence].\n",
    "6. Interventional: If {{value}}, [some effect].\n",
    "\n",
    "{variable_description}\n",
    "\n",
    "Here are some examples of verbalizations of the variable. For each of the templates fill in the blanks (and include 2-3 examples for each template). Format your response as a python dictionary. For example, a variable \"Smoking Rate\" which takes the values \"Low Smoking Rate\" and \"High Smoking Rate\" can be verbalized like this:\n",
    "\n",
    "```python\n",
    "verbalizations = {{\n",
    "  \"Smoking Rate\": {{\n",
    "    \"Low Smoking Rate\": {{\n",
    "      1: {{\"subject\": \"people\", \"value\": [\"do not smoke\", \"are non-smokers\"]}},\n",
    "      2: {{\"value\": [\"a person does not smoke\", \"people are non-smokers\"]}}, \n",
    "      3: {{\"domain\": \"people\", \"value\": [\"do not smoke\", \"are non-smokers\"]}}, \n",
    "      4: {{\"value\": [\"people do not smoke\", \"people are non-smokers\"]}},\n",
    "      5: {{\"value\": [\"For people that do not smoke\", \"Among non-smokers\"]}}, \n",
    "      6: {{\"value\": [\"the smoking rate is decreased\", \"people stop smoking\"]}},\n",
    "    }},\n",
    "    \"High Smoking Rate\": {{\n",
    "      ...\n",
    "    }}\n",
    "  }},\n",
    "  ...\n",
    "}}\n",
    "```\n",
    "\n",
    "Answer concisely and precisely in the desired format, and only replace the blanks in curly braces. Do not add any additional comments or discussion. Most importantly, the verbalizations should not contain quantitative information like \"often\" or \"rarely\", and instead always assert the corresponding value.'''\n",
    "\n",
    "tmpl = FixedTemplate('verb_prompt', verb_prompt_template)\n",
    "ctx.include(tmpl,);\n",
    "print(ctx['verb_prompt'])"
   ],
   "metadata": {
    "collapsed": false
   },
   "id": "edee3643d33fc5b7"
  },
  {
   "cell_type": "code",
   "execution_count": 29,
   "outputs": [],
   "source": [
    "# # ate1_template = '{ate1:.3f} = ATE({{treatments}[0][\"name\"]!r}) = P({{outcome}[\"name\"]!r}={{outcome}[\"values\"][1]!r} | do({{treatments}[0][\"name\"]!r}={{treatments}[0][\"values\"][1]!r})) - P({{outcome}[\"name\"]!r}={{outcome}[\"values\"][1]!r} | do({{treatments}[0][\"name\"]!r}={{treatments}[0][\"values\"][0]!r}))'\n",
    "# # ate2_template = '{ate2:.3f} = ATE({{treatments}[1][\"name\"]!r}) = P({{outcome}[\"name\"]!r}={{outcome}[\"values\"][1]!r} | do({{treatments}[1][\"name\"]!r}={{treatments}[1][\"values\"][1]!r})) - P({{outcome}[\"name\"]!r}={{outcome}[\"values\"][1]!r} | do({{treatments}[1][\"name\"]!r}={{treatments}[1][\"values\"][0]!r}))'\n",
    "# ate_tmpl = '{val:.3f} = ATE({treatment!r}) = E({outcome!r} | do({treatment!r}=1)) - E({outcome!r} | do({treatment!r}=0))'\n",
    "# cate_tmpl = ('{val:.3f} = CATE({treatment!r} | {confounder!r}={cval}) = '\n",
    "#              'E[{outcome!r} | {confounder!r}={cval}, do({treatment!r}=1)] - E[{outcome!r} | {confounder!r}={cval}, do({treatment!r}=0)]')\n",
    "# for treatment, ate in [(treatment1, ate1.mean().item()), (treatment2, ate2.mean().item())]:\n",
    "#     print(SimpleTemplater(ate_tmpl).fill_in({}, treatment=treatment, outcome=outcome, val=ate))\n",
    "# for (treatment, confounder, cval), cate in zip(*[cate_keys, cates]):\n",
    "#     print(SimpleTemplater(cate_tmpl).fill_in({}, treatment=treatment, outcome=outcome, confounder=confounder, cval=cval, val=cate.mean().item()))"
   ],
   "metadata": {
    "collapsed": false,
    "ExecuteTime": {
     "end_time": "2023-11-17T13:11:02.565115226Z",
     "start_time": "2023-11-17T13:11:00.597492931Z"
    }
   },
   "id": "7faa4f69f3367c76"
  },
  {
   "cell_type": "code",
   "execution_count": 44,
   "outputs": [],
   "source": [
    "#######################################################################\n",
    "\n",
    "setting = {\n",
    "    \"introduction\": \"In light of the new decree by Prime Minister Giuseppe Conte, introducing a curfew in regions like Lombardy and Piedmont, it's crucial to understand how such decisions affect public health and behavior. This understanding can help in assessing the effectiveness of such measures and their impact on society.\",\n",
    "    \"overview\": \"Our approach looks at how different factors like the curfew enforcement, public response, and healthcare capacity interplay with each other. It's like a web, where pulling one strand can cause movement in another, and we try to understand these relationships, like how public compliance might be influenced by the curfew or how all these affect public health.\",\n",
    "    \"questions\": {\n",
    "        1: {\"question\": \"Does implementing a curfew generally lead to better public health outcomes?\", \"answer\": \"yes\", \"explanation\": \"Implementing a curfew is likely to have a positive effect on public health by controlling the situation that necessitated the curfew.\", \"wrong_explanation\": \"Implementing a curfew might not significantly impact public health, as other factors could play a more dominant role.\"},\n",
    "        2: {\"question\": \"Is public non-compliance with a curfew typically associated with better public health outcomes?\", \"answer\": \"no\", \"explanation\": \"Public non-compliance with a curfew is generally not expected to contribute positively to public health outcomes.\", \"wrong_explanation\": \"Public non-compliance might actually lead to better public health outcomes as it indicates normalcy and lesser public panic.\"},\n",
    "        3: {\"question\": \"Is the positive impact on public health greater when a curfew is implemented than when the public complies with it?\", \"answer\": \"yes\", \"explanation\": \"The direct enforcement of a curfew is likely to have a stronger positive impact on public health than the variable level of public compliance.\", \"wrong_explanation\": \"Public compliance with the curfew could have a greater positive impact on public health than the mere implementation of the curfew.\"},\n",
    "        4: {\"question\": \"Do both the implementation of a curfew and the lack of public compliance have a combined negative effect on public health?\", \"answer\": \"no\", \"explanation\": \"While the lack of public compliance might negatively affect public health, the implementation of a curfew is expected to have a positive impact, which does not result in a combined negative effect.\", \"wrong_explanation\": \"The negative impacts of both non-compliance and curfew implementation may combine to deteriorate public health.\"},\n",
    "        5: {\"question\": \"In regions with high healthcare capacity, does implementing a curfew have a positive impact on public health?\", \"answer\": \"yes\", \"explanation\": \"In areas with strong healthcare systems, the implementation of a curfew is likely to further bolster public health outcomes.\", \"wrong_explanation\": \"Even in regions with high healthcare capacity, a curfew might not significantly improve public health outcomes.\"},\n",
    "        6: {\"question\": \"In regions with low healthcare capacity, does implementing a curfew have a positive impact on public health?\", \"answer\": \"yes\", \"explanation\": \"In regions where healthcare resources are limited, implementing a curfew can be crucial in preventing the overburdening of the healthcare system.\", \"wrong_explanation\": \"A curfew might not be as effective in regions with low healthcare capacity due to the already strained resources.\"},\n",
    "        7: {\"question\": \"In regions with high healthcare capacity, does high public compliance with the curfew lead to worse public health outcomes?\", \"answer\": \"no\", \"explanation\": \"In areas with ample healthcare resources, high public compliance with a curfew is expected to support or maintain good public health outcomes.\", \"wrong_explanation\": \"High compliance in regions with strong healthcare systems might lead to negative public health outcomes due to over-cautious behavior.\"},\n",
    "        8: {\"question\": \"In regions with low healthcare capacity, does high public compliance with the curfew lead to better public health outcomes?\", \"answer\": \"yes\", \"explanation\": \"In areas with limited healthcare resources, high compliance with curfew measures can play a critical role in maintaining or improving public health outcomes.\", \"wrong_explanation\": \"High public compliance in regions with low healthcare capacity might not significantly improve public health outcomes.\"},\n",
    "        9: {\"question\": \"Is the positive impact on public health of implementing a curfew greater in regions with low healthcare capacity compared to those with high capacity?\", \"answer\": \"no\", \"explanation\": \"The positive impact of a curfew is likely significant in both scenarios but not necessarily greater in regions with lower healthcare capacity.\", \"wrong_explanation\": \"Implementing a curfew in regions with low healthcare capacity might have a greater positive impact on public health compared to regions with high healthcare capacity.\"},\n",
    "        10: {\"question\": \"Does high public compliance with the curfew lead to better public health outcomes in regions with high healthcare capacity compared to those with low capacity?\", \"answer\": \"yes\", \"explanation\": \"High compliance in regions with strong healthcare infrastructure likely results in more pronounced improvements in public health compared to regions with weaker healthcare systems.\", \"wrong_explanation\": \"The impact of high public compliance on public health might be greater in regions with low healthcare capacity.\"},\n",
    "        11: {\"question\": \"Is the positive impact on public health from implementing a curfew less in regions with high healthcare capacity than the impact of high public compliance in these regions?\", \"answer\": \"no\", \"explanation\": \"The implementation of a curfew is likely to have a significant positive impact on public health, potentially more so than the variable of public compliance, even in regions with high healthcare capacity.\", \"wrong_explanation\": \"In regions with high healthcare capacity, the impact of public compliance might be more significant for public health than the implementation of a curfew.\"},\n",
    "        12: {\"question\": \"Is the positive impact on public health from implementing a curfew less in regions with low healthcare capacity than the impact of high public compliance in these regions?\", \"answer\": \"yes\", \"explanation\": \"In regions with low healthcare capacity, the impact of high public compliance might be more crucial for public health than the mere implementation of a curfew.\", \"wrong_explanation\": \"Implementing a curfew in regions with low healthcare capacity is likely to have a greater positive impact on public health than high public compliance.\"}\n",
    "    },\n",
    "}\n",
    "\n",
    "\n",
    "\n",
    "#######################################################################\n",
    "ctx['setting'] = setting"
   ],
   "metadata": {
    "collapsed": false,
    "ExecuteTime": {
     "end_time": "2023-11-22T13:20:35.178557424Z",
     "start_time": "2023-11-22T13:20:35.089786551Z"
    }
   },
   "id": "47eb0d3ae6db4f3a"
  },
  {
   "cell_type": "code",
   "execution_count": null,
   "outputs": [],
   "source": [],
   "metadata": {
    "collapsed": false
   },
   "id": "29df5bbe5c120f68"
  },
  {
   "cell_type": "markdown",
   "source": [
    "# Save Story"
   ],
   "metadata": {
    "collapsed": false
   },
   "id": "5fb83cc089e9a915"
  },
  {
   "cell_type": "code",
   "execution_count": null,
   "outputs": [],
   "source": [],
   "metadata": {
    "collapsed": false
   },
   "id": "cbc87bb6935393"
  },
  {
   "cell_type": "code",
   "execution_count": null,
   "outputs": [],
   "source": [],
   "metadata": {
    "collapsed": false
   },
   "id": "e46308cbcd5d5d8d"
  },
  {
   "cell_type": "code",
   "execution_count": null,
   "outputs": [],
   "source": [],
   "metadata": {
    "collapsed": false
   },
   "id": "76dd431ae7bde9"
  },
  {
   "cell_type": "code",
   "execution_count": null,
   "outputs": [],
   "source": [],
   "metadata": {
    "collapsed": false
   },
   "id": "2eff1eb58588c15"
  },
  {
   "cell_type": "code",
   "execution_count": 59,
   "outputs": [],
   "source": [
    "import nltk\n",
    "from nltk import word_tokenize, pos_tag, ne_chunk\n",
    "from nltk.stem import WordNetLemmatizer\n",
    "from nltk.corpus import stopwords\n",
    "from rake_nltk import Rake\n",
    "import spacy\n",
    "import random"
   ],
   "metadata": {
    "collapsed": false
   },
   "id": "c45e6c65749794d3"
  },
  {
   "cell_type": "code",
   "execution_count": 61,
   "outputs": [
    {
     "data": {
      "text/plain": "24",
      "image/png": "[encoded data removed]",
      "text/latex": "$\\displaystyle 24$"
     },
     "execution_count": 61,
     "metadata": {},
     "output_type": "execute_result"
    }
   ],
   "source": [
    "example_texts = [val for var in raw_verbalization.values() for varval in var.values() for val in varval[4]['value']]\n",
    "len(example_texts)"
   ],
   "metadata": {
    "collapsed": false
   },
   "id": "173c691818cfe5b8"
  },
  {
   "cell_type": "code",
   "execution_count": 53,
   "outputs": [],
   "source": [
    "stop_words = set(stopwords.words('english'))\n",
    "stop_words.update(\"'s\", '|', 'I', \"n't\", \"`s\", \"'s\", 'n`t')\n",
    "\n",
    "nlp = spacy.load('en_core_web_md')\n",
    "\n"
   ],
   "metadata": {
    "collapsed": false
   },
   "id": "df2fb4ad34998003"
  },
  {
   "cell_type": "code",
   "execution_count": 79,
   "outputs": [
    {
     "name": "stdout",
     "output_type": "stream",
     "text": [
      "there is widespread healthcare availability in Moscow\n",
      "None None\n",
      "['widespread healthcare availability', 'Moscow']\n"
     ]
    }
   ],
   "source": [
    "text = \"Covid-19 mortality rate is high\"\n",
    "text = random.choice(example_texts)\n",
    "print(text)\n",
    "doc = nlp(text)\n",
    "subject, verb = None, None\n",
    "for token in doc:\n",
    "    if \"subj\" in token.dep_:\n",
    "        subject = token.text\n",
    "    # if \"VERB\" in token.pos_:\n",
    "    #     verb = token.text\n",
    "print(subject, verb)\n",
    "noun_phrases = [chunk.text for chunk in doc.noun_chunks]\n",
    "print(noun_phrases)"
   ],
   "metadata": {
    "collapsed": false,
    "ExecuteTime": {
     "end_time": "2023-11-21T13:58:08.296988112Z",
     "start_time": "2023-11-21T13:58:08.252502195Z"
    }
   },
   "id": "63e7dbde8cca2751"
  },
  {
   "cell_type": "code",
   "execution_count": null,
   "outputs": [],
   "source": [],
   "metadata": {
    "collapsed": false
   },
   "id": "fece4c4d70ada148"
  },
  {
   "cell_type": "code",
   "execution_count": null,
   "outputs": [],
   "source": [],
   "metadata": {
    "collapsed": false
   },
   "id": "e2a80b1279cd7a8f"
  },
  {
   "cell_type": "code",
   "execution_count": null,
   "outputs": [],
   "source": [],
   "metadata": {
    "collapsed": false
   },
   "id": "e2ead53bd9f0d663"
  },
  {
   "cell_type": "code",
   "execution_count": null,
   "outputs": [],
   "source": [],
   "metadata": {
    "collapsed": false
   },
   "id": "dec8a389b45661b3"
  },
  {
   "cell_type": "code",
   "execution_count": 21,
   "outputs": [],
   "source": [
    "old_prompt_template = '''We have a causal bayes net based on the following article:\n",
    "\n",
    "```\n",
    "{spark}\n",
    "```\n",
    "\n",
    "And, for additional context, here are the variables and their descriptions:\n",
    "\n",
    "{descriptions}\n",
    "\n",
    "Now we would like to verbalize the description of some evidence. For each set of questions, fill in the blank and then for each possible descriptor of the probability, provide a reasonable quantitative estimate for the lower and upper bounds of the probability that would be implied by that evidence if the variable took on the value corresponding to 1. Note that your estimates for each descriptor should conform to common sense and reflect the meaning of the variable taking on the value corresponding to 1.\n",
    "\n",
    "For example, if the question is:\n",
    "\n",
    "Evidence template: \"The probability of _ is {descriptor}.\"\n",
    "With these descriptors: ['low', 'high', 'very high']\n",
    "\n",
    "1. \"Tax Rate\" can either be 0=\"Decreased\" or 1=\"Increased\".\n",
    "2. \"Vaccination Status\" can either be 0=\"Not Vaccinated\" or 1=\"Vaccinated\".\n",
    "...\n",
    "\n",
    "You should answer in the following format:\n",
    "\n",
    "```python\n",
    "evidence = {{\n",
    "  1: {{'blank': {{'Decreased': 'decreased taxes', 'Increased': 'increased taxes'}} 'implications': {{'low': [0.2, 0.4], 'high': [0.6, 0.8], 'very high': [0.8, 0.9]}}}},\n",
    "  2: {{'blank': {{'Not Vaccinated': 'not being vaccinated', 'Vaccinated': 'being vaccinated'}} 'implications': {{'low': [0.3, 0.5], 'high': [0.7, 0.9], 'very high': [0.85, 0.99]}}}},\n",
    "  ...\n",
    "}}\n",
    "```\n",
    "\n",
    "Here are the questions:\n",
    "\n",
    "Evidence template: \"The probability of _ is {descriptor}.\"\n",
    "With these descriptors: {descriptors}\n",
    "\n",
    "{questions}\n",
    "\n",
    "Answer all the questions in order, concisely, and precisely in the desired format, without any additional comments or discussion.\n",
    "'''\n",
    "\n",
    "prompt_template = '''We have a causal bayes net based on the following article:\n",
    "\n",
    "```\n",
    "{spark}\n",
    "```\n",
    "\n",
    "And, for additional context, here are the variables and their descriptions:\n",
    "\n",
    "{descriptions}\n",
    "\n",
    "Now we would like to verbalize the description of some evidence using a few templates. For each template and variable, fill in the blank and then for each possible value the variable can take. Always use the present tense and make sure to use simple but precise language so the evidence can be communicated clearly. Also, only fill in the templates that make sense for the variable values.\n",
    "\n",
    "For example, if the question is:\n",
    "\n",
    "Template A: \"The probability of {variable} is high.\"\n",
    "Template B: \"{variable} often.\"\n",
    "Template C: \"It is likely that {variable}.\"\n",
    "Template D: \"Few {subject} {variable}.\"\n",
    "\n",
    "1. \"Tax Rate\": [\"Decreased\", \"Increased\"]\n",
    "2. \"Vaccination Status\": [\"Not Vaccinated\", \"Vaccinated\"]\n",
    "...\n",
    "\n",
    "You should answer in the following format:\n",
    "\n",
    "```python\n",
    "evidence = {{\n",
    "  1: {{'A': {{'variable': ['decreased taxes', 'increased taxes']}},\n",
    "       'B': {{'variable': ['taxes are decreased', 'taxes are increased']}},\n",
    "       'C': {{'variable': ['taxes are decreased', 'taxes are increased']}},\n",
    "       'D': {{'subject': [], 'variable': ['taxes are decreased', 'taxes are increased']}}}},\n",
    "  }},\n",
    "  2: {{'variable': {{'Not Vaccinated': 'not being vaccinated', 'Vaccinated': 'being vaccinated'}}}},\n",
    "  ...\n",
    "}}\n",
    "```\n",
    "\n",
    "Here are the questions:\n",
    "\n",
    "Evidence template: \"The probability of _ is {descriptor}.\"\n",
    "With these descriptors: {descriptors}\n",
    "\n",
    "{questions}\n",
    "\n",
    "Answer all the questions in order, concisely, and precisely in the desired format, without any additional comments or discussion.\n",
    "'''\n",
    "\n",
    "q_template = '{i}. \"{variable}\" can either be 0=\"{value}\" or 1=\"{othervalue}\".'\n",
    "\n",
    "verbs = [\n",
    "    'very low', 'low', 'moderate', 'high', 'very high',\n",
    "    # 'extremely small', 'small', 'large', 'extremely large',\n",
    "    'significant', 'negligible', 'substantial', 'insignificant', 'considerable',\n",
    "    # 'improbable', 'likely', 'probable', 'unlikely', 'certain',\n",
    "]"
   ],
   "metadata": {
    "collapsed": false,
    "ExecuteTime": {
     "end_time": "2023-11-19T15:58:07.180931606Z",
     "start_time": "2023-11-19T15:58:07.135552858Z"
    }
   },
   "id": "bf9d27a21b2ff726"
  },
  {
   "cell_type": "code",
   "execution_count": 22,
   "outputs": [],
   "source": [
    "nodes = ctx['nodes']\n",
    "qlines = []\n",
    "i = 1\n",
    "for node in nodes:\n",
    "    v0, v1 = node['values']\n",
    "    qlines.append(q_template.format(i=i, variable=node['name'], value=v1, othervalue=v0))\n",
    "    i += 1\n",
    "questions = '\\n'.join(qlines)"
   ],
   "metadata": {
    "collapsed": false,
    "ExecuteTime": {
     "end_time": "2023-11-19T15:58:08.750511902Z",
     "start_time": "2023-11-19T15:58:08.732077429Z"
    }
   },
   "id": "949e58680c1eb438"
  },
  {
   "cell_type": "code",
   "execution_count": 23,
   "outputs": [
    {
     "data": {
      "text/plain": "{'descriptions', 'descriptor', 'descriptors', 'questions', 'spark'}"
     },
     "execution_count": 23,
     "metadata": {},
     "output_type": "execute_result"
    }
   ],
   "source": [
    "tmpl = SimpleTemplater(prompt_template)\n",
    "tmpl.keys"
   ],
   "metadata": {
    "collapsed": false,
    "ExecuteTime": {
     "end_time": "2023-11-19T15:58:09.178284729Z",
     "start_time": "2023-11-19T15:58:09.135420113Z"
    }
   },
   "id": "a474aee9dc7f34a4"
  },
  {
   "cell_type": "code",
   "execution_count": 24,
   "outputs": [
    {
     "name": "stdout",
     "output_type": "stream",
     "text": [
      "We have a causal bayes net based on the following article:\n",
      "\n",
      "```\n",
      "Title: ARM takeover: Qualcomm interested in participating - heise online\n",
      "Description: If nothing comes of Nvidia's $40 billion ARM takeover, a consortium of several manufacturers could act as investors.\n",
      "Original Language: German\n",
      "```\n",
      "\n",
      "And, for additional context, here are the variables and their descriptions:\n",
      "\n",
      "\"Qualcomm_Participation\" means \"Participation of Qualcomm in ARM takeover\"\n",
      "\"Regulatory_Approval\" means \"Regulatory approval for ARM takeover\"\n",
      "\"Global_Economic_Conditions\" means \"Current global economic conditions\"\n",
      "\"Nvidia_Takeover_Success\" means \"Success of Nvidia's ARM takeover attempt\"\n",
      "\"Investment_Strategy\" means \"Investment strategy adopted by Qualcomm\"\n",
      "\"Tech_Innovation\" means \"Level of technological innovation in the market\"\n",
      "\"Market_Competition\" means \"Level of market competition in the tech industry\"\n",
      "\"Stock_Market_Response\" means \"Stock market response to the takeover and market conditions\"\n",
      "\n",
      "Now we would like to verbalize the description of some evidence. For each set of questions, fill in the blank and then for each possible descriptor of the probability, provide a reasonable quantitative estimate for the lower and upper bounds of the probability that would be implied by that evidence if the variable took on the value corresponding to 1. Note that your estimates for each descriptor should conform to common sense and reflect the meaning of the variable taking on the value corresponding to 1.\n",
      "\n",
      "For example, if the question is:\n",
      "\n",
      "Evidence template: \"The probability of _ is {descriptor}.\"\n",
      "With these descriptors: ['low', 'high', 'very high']\n",
      "\n",
      "1. \"Tax Rate\" can either be 0=\"Decreased\" or 1=\"Increased\".\n",
      "2. \"Vaccination Status\" can either be 0=\"Not Vaccinated\" or 1=\"Vaccinated\".\n",
      "...\n",
      "\n",
      "You should answer in the following format:\n",
      "\n",
      "```python\n",
      "evidence = {\n",
      "  1: {'blank': {'Decreased': 'decreased taxes', 'Increased': 'increased taxes'} 'implications': {'low': [0.2, 0.4], 'high': [0.6, 0.8], 'very high': [0.8, 0.9]}},\n",
      "  2: {'blank': {'Not Vaccinated': 'not being vaccinated', 'Vaccinated': 'being vaccinated'} 'implications': {'low': [0.3, 0.5], 'high': [0.7, 0.9], 'very high': [0.85, 0.99]}},\n",
      "  ...\n",
      "}\n",
      "```\n",
      "\n",
      "Here are the questions:\n",
      "\n",
      "Evidence template: \"The probability of _ is {descriptor}.\"\n",
      "With these descriptors: ['very low', 'low', 'moderate', 'high', 'very high', 'significant', 'negligible', 'substantial', 'insignificant', 'considerable']\n",
      "\n",
      "1. \"Qualcomm_Participation\" can either be 0=\"Participates\" or 1=\"Does not participate\".\n",
      "2. \"Regulatory_Approval\" can either be 0=\"Approved\" or 1=\"Not approved\".\n",
      "3. \"Global_Economic_Conditions\" can either be 0=\"Favorable conditions\" or 1=\"Unfavorable conditions\".\n",
      "4. \"Nvidia_Takeover_Success\" can either be 0=\"Takeover succeeds\" or 1=\"Takeover fails\".\n",
      "5. \"Investment_Strategy\" can either be 0=\"Aggressive strategy\" or 1=\"Conservative strategy\".\n",
      "6. \"Tech_Innovation\" can either be 0=\"High innovation\" or 1=\"Low innovation\".\n",
      "7. \"Market_Competition\" can either be 0=\"Increased competition\" or 1=\"Reduced competition\".\n",
      "8. \"Stock_Market_Response\" can either be 0=\"Positive response\" or 1=\"Negative response\".\n",
      "\n",
      "Answer all the questions in order, concisely, and precisely in the desired format, without any additional comments or discussion.\n"
     ]
    }
   ],
   "source": [
    "# print(tmpl.fill_in(dict(spark=ctx['spark'], descriptions=ctx['descriptions'], descriptors=verbs, descriptor='{descriptor}', questions=questions)))\n",
    "print(prompt_template.format(spark=ctx['spark'], descriptions=ctx['descriptions'], descriptors=verbs, descriptor='{descriptor}', questions=questions))"
   ],
   "metadata": {
    "collapsed": false,
    "ExecuteTime": {
     "end_time": "2023-11-19T15:58:09.619565965Z",
     "start_time": "2023-11-19T15:58:09.601398688Z"
    }
   },
   "id": "7b23a2f10c9d7c62"
  },
  {
   "cell_type": "code",
   "execution_count": null,
   "outputs": [],
   "source": [
    "line_template = 'The probability that __ is {quantity}'"
   ],
   "metadata": {
    "collapsed": false
   },
   "id": "61af6af1c0665464"
  },
  {
   "cell_type": "code",
   "execution_count": 120,
   "outputs": [
    {
     "data": {
      "text/plain": "True"
     },
     "execution_count": 120,
     "metadata": {},
     "output_type": "execute_result"
    }
   ],
   "source": [
    "evidence = {\n",
    "  1: {\n",
    "    'blank': {'Stimulative': 'stimulative government economic policies', 'Restrictive': 'restrictive government economic policies'}, \n",
    "    'implications': {\n",
    "      'very low': [0.01, 0.1], \n",
    "      'low': [0.1, 0.3], \n",
    "      'moderate': [0.3, 0.5], \n",
    "      'high': [0.5, 0.7], \n",
    "      'very high': [0.7, 0.9], \n",
    "      'significant': [0.6, 0.8], \n",
    "      'negligible': [0.1, 0.2], \n",
    "      'substantial': [0.5, 0.7], \n",
    "      'insignificant': [0.2, 0.3], \n",
    "      'considerable': [0.4, 0.6]\n",
    "    }\n",
    "  },\n",
    "  2: {\n",
    "    'blank': {'Increase': 'an increase in industrial production', 'Decrease': 'a decrease in industrial production'}, \n",
    "    'implications': {\n",
    "      'very low': [0.01, 0.1], \n",
    "      'low': [0.1, 0.3], \n",
    "      'moderate': [0.3, 0.5], \n",
    "      'high': [0.5, 0.7], \n",
    "      'very high': [0.7, 0.9], \n",
    "      'significant': [0.6, 0.8], \n",
    "      'negligible': [0.1, 0.2], \n",
    "      'substantial': [0.5, 0.7], \n",
    "      'insignificant': [0.2, 0.3], \n",
    "      'considerable': [0.4, 0.6]\n",
    "    }\n",
    "  },\n",
    "  3: {\n",
    "    'blank': {'Decrease': 'a decrease in the unemployment rate', 'Increase': 'an increase in the unemployment rate'}, \n",
    "    'implications': {\n",
    "      'very low': [0.01, 0.1], \n",
    "      'low': [0.1, 0.3], \n",
    "      'moderate': [0.3, 0.5], \n",
    "      'high': [0.5, 0.7], \n",
    "      'very high': [0.7, 0.9], \n",
    "      'significant': [0.6, 0.8], \n",
    "      'negligible': [0.1, 0.2], \n",
    "      'substantial': [0.5, 0.7], \n",
    "      'insignificant': [0.2, 0.3], \n",
    "      'considerable': [0.4, 0.6]\n",
    "    }\n",
    "  },\n",
    "  4: {\n",
    "    'blank': {'High': 'high consumer confidence', 'Low': 'low consumer confidence'}, \n",
    "    'implications': {\n",
    "      'very low': [0.01, 0.1], \n",
    "      'low': [0.1, 0.3], \n",
    "      'moderate': [0.3, 0.5], \n",
    "      'high': [0.5, 0.7], \n",
    "      'very high': [0.7, 0.9], \n",
    "      'significant': [0.6, 0.8], \n",
    "      'negligible': [0.1, 0.2], \n",
    "      'substantial': [0.5, 0.7], \n",
    "      'insignificant': [0.2, 0.3], \n",
    "      'considerable': [0.4, 0.6]\n",
    "    }\n",
    "  },\n",
    "  5: {\n",
    "    'blank': {'Positive Growth': 'positive economic growth', 'No Growth': 'no economic growth'}, \n",
    "    'implications': {\n",
    "      'very low': [0.01, 0.1], \n",
    "      'low': [0.1, 0.3], \n",
    "      'moderate': [0.3, 0.5], \n",
    "      'high': [0.5, 0.7], \n",
    "      'very high': [0.7, 0.9], \n",
    "      'significant': [0.6, 0.8], \n",
    "      'negligible': [0.1, 0.2], \n",
    "      'substantial': [0.5, 0.7], \n",
    "      'insignificant': [0.2, 0.3], \n",
    "      'considerable': [0.4, 0.6]\n",
    "    }\n",
    "  },\n",
    "  6: {\n",
    "    'blank': {'Good': 'good market performance', 'Poor': 'poor market performance'}, \n",
    "    'implications': {\n",
    "      'very low': [0.01, 0.1], \n",
    "      'low': [0.1, 0.3], \n",
    "      'moderate': [0.3, 0.5], \n",
    "      'high': [0.5, 0.7], \n",
    "      'very high': [0.7, 0.9], \n",
    "      'significant': [0.6, 0.8], \n",
    "      'negligible': [0.1, 0.2], \n",
    "      'substantial': [0.5, 0.7], \n",
    "      'insignificant': [0.2, 0.3], \n",
    "      'considerable': [0.4, 0.6]\n",
    "    }\n",
    "  }\n",
    "}\n",
    "\n",
    "all(e1['implications'] == e2['implications'] for e1, e2 in combinations(evidence.values(), 2))\n"
   ],
   "metadata": {
    "collapsed": false,
    "ExecuteTime": {
     "end_time": "2023-11-17T14:10:45.018453412Z",
     "start_time": "2023-11-17T14:10:44.985886236Z"
    }
   },
   "id": "79cbbcae4d3e4455"
  },
  {
   "cell_type": "code",
   "execution_count": 121,
   "outputs": [
    {
     "name": "stdout",
     "output_type": "stream",
     "text": [
      "Title: China's economy grows 4.9% while the rest of the world is crippled by coronavirus - Daily Mail\n",
      "Description: China's economy has grown 4.9 percent in the third quarter from last year proving the country is back to its pre-pandemic trajectory as industrial production is up and unemployment is down.\n",
      "Original Language: English\n"
     ]
    }
   ],
   "source": [
    "print(ctx['spark'])"
   ],
   "metadata": {
    "collapsed": false,
    "ExecuteTime": {
     "end_time": "2023-11-17T14:40:34.386481665Z",
     "start_time": "2023-11-17T14:40:34.334250094Z"
    }
   },
   "id": "46ccd04c24fae20e"
  },
  {
   "cell_type": "code",
   "execution_count": null,
   "outputs": [],
   "source": [],
   "metadata": {
    "collapsed": false
   },
   "id": "cf82aa58afe6397b"
  },
  {
   "cell_type": "code",
   "execution_count": null,
   "outputs": [],
   "source": [
    "setting = {\n",
    "    \"introduction\": \"In light of China's notable economic growth of 4.9% amidst the global coronavirus pandemic, as reported by the Daily Mail, this causal model seeks to unravel the underlying factors contributing to this growth. It aims to provide insights into how different aspects such as industrial production and unemployment rates have played a role in shaping China's economic trajectory during this period.\",\n",
    "    \"overview\": \"Our causal graph is a simplified representation of the complex interplay between various economic factors. It includes variables like government policies, industrial production, and unemployment rates, each affecting the other in unique ways. For instance, government policies can be a confounder, affecting both unemployment and industrial production, while consumer confidence acts as a mediator, reflecting the impact of industrial changes on the overall economic growth.\",\n",
    "    \"questions\": {\n",
    "        1: {\"question\": \"Does an increase in industrial production have a positive effect on China's economic growth?\", \"answer\": \"yes\", \"explanation\": \"Given the economic context, an increase in industrial production likely contributes positively to economic growth.\", \"inequality\": \"ATE(IP) > 0\"},\n",
    "        2: {\"question\": \"Is the positive impact of decreasing unemployment on economic growth greater than that of increasing industrial production?\", \"answer\": \"no\", \"explanation\": \"Industrial production typically has a more direct and significant impact on economic growth compared to changes in unemployment rates.\", \"inequality\": \"ATE(UR) > ATE(IP)\"},\n",
    "        3: {\"question\": \"Does a decrease in the unemployment rate positively influence China's economic growth?\", \"answer\": \"yes\", \"explanation\": \"Lower unemployment generally leads to higher consumer spending and economic growth.\", \"inequality\": \"ATE(UR) > 0\"},\n",
    "        4: {\"question\": \"Is the impact of industrial production on economic growth stronger than the influence of government economic policies?\", \"answer\": \"yes\", \"explanation\": \"While government policies set the stage, industrial production is a more direct driver of economic growth.\", \"inequality\": \"ATE(IP) > ATE(GEP)\"},\n",
    "        5: {\"question\": \"Does a stimulative government policy have a greater positive effect on economic growth than an increase in industrial production?\", \"answer\": \"no\", \"explanation\": \"Industrial production, being a direct economic activity, likely has a stronger immediate impact on economic growth than general government policies.\", \"inequality\": \"ATE(GEP) > ATE(IP)\"}\n",
    "    },\n",
    "}\n"
   ],
   "metadata": {
    "collapsed": false
   },
   "id": "bcb1b46b3d4dc419"
  },
  {
   "cell_type": "code",
   "execution_count": 227,
   "outputs": [],
   "source": [
    "import pandas as pd\n",
    "from dowhy import CausalModel\n",
    "from networkx.drawing.nx_pydot import write_dot"
   ],
   "metadata": {
    "collapsed": false,
    "ExecuteTime": {
     "end_time": "2023-11-17T16:42:53.528932801Z",
     "start_time": "2023-11-17T16:42:53.492019Z"
    }
   },
   "id": "aa2676eeab935fe6"
  },
  {
   "cell_type": "code",
   "execution_count": 226,
   "outputs": [
    {
     "data": {
      "text/plain": "<networkx.classes.digraph.DiGraph at 0x7face779d850>"
     },
     "execution_count": 226,
     "metadata": {},
     "output_type": "execute_result"
    }
   ],
   "source": [
    "G = nx.DiGraph()\n",
    "for var in net.vars:\n",
    "    G.add_node(var.name)\n",
    "    for parent in var.parents:\n",
    "        G.add_edge(parent.name, var.name)\n",
    "G"
   ],
   "metadata": {
    "collapsed": false,
    "ExecuteTime": {
     "end_time": "2023-11-17T16:42:42.536213022Z",
     "start_time": "2023-11-17T16:42:42.484794281Z"
    }
   },
   "id": "5e7aafe933bd077f"
  },
  {
   "cell_type": "code",
   "execution_count": null,
   "outputs": [],
   "source": [],
   "metadata": {
    "collapsed": false
   },
   "id": "8c7e5e9f7b925deb"
  },
  {
   "cell_type": "code",
   "execution_count": null,
   "outputs": [],
   "source": [],
   "metadata": {
    "collapsed": false
   },
   "id": "826859c190c49f94"
  },
  {
   "cell_type": "code",
   "execution_count": 127,
   "outputs": [],
   "source": [
    "def convert_to_dot(nodes):\n",
    "    # Start the DOT graph definition\n",
    "    dot_graph = \"digraph {\\n\"\n",
    "\n",
    "    # Iterate over nodes to add them to the graph\n",
    "    for node in nodes:\n",
    "        dot_graph += f'    \"{node[\"name\"]}\" [label=\"{node[\"name\"]}: {node[\"description\"]}\"];\\n'\n",
    "\n",
    "        # Add edges from parents to this node\n",
    "        for parent in node.get(\"parents\", []):\n",
    "            dot_graph += f'    \"{parent}\" -> \"{node[\"name\"]}\";\\n'\n",
    "\n",
    "    dot_graph += \"}\\n\"\n",
    "    return dot_graph"
   ],
   "metadata": {
    "collapsed": false,
    "ExecuteTime": {
     "end_time": "2023-11-17T15:29:05.491002427Z",
     "start_time": "2023-11-17T15:29:05.471333306Z"
    }
   },
   "id": "4d7c72efc77402f6"
  },
  {
   "cell_type": "code",
   "execution_count": null,
   "outputs": [],
   "source": [],
   "metadata": {
    "collapsed": false
   },
   "id": "3c7139d76940267d"
  },
  {
   "cell_type": "code",
   "execution_count": null,
   "outputs": [],
   "source": [
    "net"
   ],
   "metadata": {
    "collapsed": false
   },
   "id": "ccaa22fdb7db1823"
  },
  {
   "cell_type": "code",
   "execution_count": null,
   "outputs": [],
   "source": [],
   "metadata": {
    "collapsed": false
   },
   "id": "70ed5f4de754786b"
  },
  {
   "cell_type": "code",
   "execution_count": 129,
   "outputs": [
    {
     "name": "stdout",
     "output_type": "stream",
     "text": [
      "\"GEP\" means \"Government Economic Policies\"\n",
      "\"IP\" means \"Industrial Production\"\n",
      "\"UR\" means \"Unemployment Rate\"\n",
      "\"CC\" means \"Consumer Confidence\"\n",
      "\"EG\" means \"Economic Growth\"\n",
      "\"MP\" means \"Market Performance\"\n"
     ]
    }
   ],
   "source": [
    "print(ctx['descriptions'])"
   ],
   "metadata": {
    "collapsed": false,
    "ExecuteTime": {
     "end_time": "2023-11-17T15:29:23.980795422Z",
     "start_time": "2023-11-17T15:29:23.959606348Z"
    }
   },
   "id": "27207467be5d57a"
  },
  {
   "cell_type": "code",
   "execution_count": 221,
   "outputs": [
    {
     "name": "stderr",
     "output_type": "stream",
     "text": [
      "ERROR:dowhy.causal_graph: Error: Pygraphviz cannot be loaded. No module named 'pygraphviz'\n",
      "Trying pydot ...\n"
     ]
    },
    {
     "name": "stdout",
     "output_type": "stream",
     "text": [
      "Estimand type: EstimandType.NONPARAMETRIC_ATE\n",
      "\n",
      "### Estimand : 1\n",
      "Estimand name: backdoor\n",
      "Estimand expression:\n",
      "  d               \n",
      "─────(E[EG|UR,IP])\n",
      "d[CC]             \n",
      "Estimand assumption 1, Unconfoundedness: If U→{CC} and U→EG then P(EG|CC,UR,IP,U) = P(EG|CC,UR,IP)\n",
      "\n",
      "### Estimand : 2\n",
      "Estimand name: iv\n",
      "No such variable(s) found!\n",
      "\n",
      "### Estimand : 3\n",
      "Estimand name: frontdoor\n",
      "No such variable(s) found!\n"
     ]
    },
    {
     "data": {
      "text/plain": "({'backdoor1': ['UR', 'IP', 'GEP'],\n  'backdoor2': ['UR', 'IP'],\n  'backdoor': ['UR', 'IP']},\n 'backdoor2')"
     },
     "execution_count": 221,
     "metadata": {},
     "output_type": "execute_result"
    }
   ],
   "source": [
    "# Create a dummy DataFrame\n",
    "# The columns should match the nodes in your causal graph\n",
    "dummy_data = pd.DataFrame({\n",
    "    'EG': [0],   # Economic Growth\n",
    "    'IP': [0],   # Industrial Production\n",
    "    'UR': [0],   # Unemployment Rate\n",
    "    'GEP': [0],  # Government Economic Policies\n",
    "    'CC': [0],   # Consumer Confidence\n",
    "    'MP': [0]    # Market Performance\n",
    "})\n",
    "\n",
    "# Define your DOT graph (use the function from the previous response)\n",
    "dot_graph = convert_to_dot(nodes)\n",
    "\n",
    "# Instantiate the CausalModel with dummy data\n",
    "model = CausalModel(\n",
    "    data=dummy_data,\n",
    "    treatment='CC',  # Replace with your treatment variable name\n",
    "    outcome='EG',      # Replace with your outcome variable name\n",
    "    graph=dot_graph\n",
    ")\n",
    "\n",
    "identified_estimand = model.identify_effect()\n",
    "print(identified_estimand)\n",
    "\n",
    "from sympy import pretty\n",
    "\n",
    "# # Assuming 'identified_estimand' is the object returned by model.identify_effect()\n",
    "# \n",
    "# # Print the basic information about the estimand\n",
    "# print(\"Estimand Identifier:\", identified_estimand.identifier)\n",
    "# print(\"Estimand Type:\", identified_estimand.estimand_type)\n",
    "# \n",
    "# # Accessing the estimands attribute\n",
    "# estimands_info = identified_estimand.estimands\n",
    "# \n",
    "# # Displaying the estimands information\n",
    "# print(\"Estimands Information:\")\n",
    "# print(estimands_info)\n",
    "\n",
    "identified_estimand.backdoor_variables, identified_estimand.default_backdoor_id"
   ],
   "metadata": {
    "collapsed": false,
    "ExecuteTime": {
     "end_time": "2023-11-17T16:20:35.773521574Z",
     "start_time": "2023-11-17T16:20:35.723047563Z"
    }
   },
   "id": "93d6c72207e41e7d"
  },
  {
   "cell_type": "code",
   "execution_count": 222,
   "outputs": [
    {
     "data": {
      "text/plain": "  d               \n─────(E[EG|UR,IP])\nd[CC]             ",
      "text/latex": "$\\displaystyle \\frac{d}{d \\left[\\begin{matrix}CC\\end{matrix}\\right]} \\operatorname{E}\\left[EG|UR,IP\\right]$"
     },
     "execution_count": 222,
     "metadata": {},
     "output_type": "execute_result"
    }
   ],
   "source": [
    "sym = identified_estimand.estimands[identified_estimand.default_backdoor_id]['estimand']\n",
    "sym"
   ],
   "metadata": {
    "collapsed": false,
    "ExecuteTime": {
     "end_time": "2023-11-17T16:20:37.010913900Z",
     "start_time": "2023-11-17T16:20:36.939807580Z"
    }
   },
   "id": "71c98945aa48f639"
  },
  {
   "cell_type": "code",
   "execution_count": 223,
   "outputs": [
    {
     "name": "stdout",
     "output_type": "stream",
     "text": [
      "  d               \n",
      "─────(E[EG|UR,IP])\n",
      "d[CC]             \n"
     ]
    }
   ],
   "source": [
    "print(pretty(sym))"
   ],
   "metadata": {
    "collapsed": false,
    "ExecuteTime": {
     "end_time": "2023-11-17T16:20:37.530553227Z",
     "start_time": "2023-11-17T16:20:37.514577711Z"
    }
   },
   "id": "81dca0ac3d6af062"
  },
  {
   "cell_type": "code",
   "execution_count": 224,
   "outputs": [
    {
     "name": "stdout",
     "output_type": "stream",
     "text": [
      "EG CC ['UR', 'IP']\n"
     ]
    }
   ],
   "source": [
    "do = sym.args[1][0].args[0][0].name\n",
    "exp = sym.args[0].args[0].name\n",
    "if '|' in exp:\n",
    "    outcome, cond = exp.split('|')\n",
    "    cond = cond.split(',')\n",
    "else:\n",
    "    outcome = exp\n",
    "    cond = []\n",
    "    \n",
    "print(outcome, do, cond)"
   ],
   "metadata": {
    "collapsed": false,
    "ExecuteTime": {
     "end_time": "2023-11-17T16:20:38.501074816Z",
     "start_time": "2023-11-17T16:20:38.443318970Z"
    }
   },
   "id": "42a9234e24004c1b"
  },
  {
   "cell_type": "code",
   "execution_count": 229,
   "outputs": [
    {
     "name": "stdout",
     "output_type": "stream",
     "text": [
      "ATE(CC -> EG) = E_{UR=u,IP=v} [ p(EG=1 | CC=1,UR=u,IP=v) - p(EG=1 | CC=0,UR=u,IP=v) ]\n"
     ]
    }
   ],
   "source": [
    "dummyvars = 'uvwxyz'\n",
    "assert len(cond) <= len(dummyvars)\n",
    "psum = ''\n",
    "condsuffix = ''\n",
    "if len(cond):\n",
    "    psum = ','.join(f'{v}={dummyvars[i]}' for i, v in enumerate(cond))\n",
    "    psum = f'E_{{{psum}}} '\n",
    "\n",
    "    condsuffix = ',' + ','.join(f'{v}={dummyvars[i]}' for i, v in enumerate(cond))\n",
    "\n",
    "expr = f'{psum}{\"[ \" if len(cond) else \"\"}p({outcome}=1 | {do}=1{condsuffix}) - p({outcome}=1 | {do}=0{condsuffix}){\" ]\" if len(cond) else \"\"}'\n",
    "\n",
    "# expr = (f'{psum}{\" [ \" if len(cond) else \"\"}p({outcome} | {do}=1{\", \" + \", \".join(cond) if len(cond) else \"\"}) - p({outcome} | {do}=0{\", \" + \",\".join(cond) if len(cond) else \"\"}){\" ]\" if len(cond) else \"\"}')\n",
    "print(f'ATE({do} -> {outcome}) = {expr}')"
   ],
   "metadata": {
    "collapsed": false,
    "ExecuteTime": {
     "end_time": "2023-11-17T17:06:39.653520046Z",
     "start_time": "2023-11-17T17:06:39.579828051Z"
    }
   },
   "id": "3c4b6395db86d3a5"
  },
  {
   "cell_type": "code",
   "execution_count": 215,
   "outputs": [],
   "source": [],
   "metadata": {
    "collapsed": false,
    "ExecuteTime": {
     "end_time": "2023-11-17T16:19:16.720067792Z",
     "start_time": "2023-11-17T16:19:16.682463947Z"
    }
   },
   "id": "f10832a3a199de04"
  },
  {
   "cell_type": "code",
   "execution_count": null,
   "outputs": [],
   "source": [],
   "metadata": {
    "collapsed": false
   },
   "id": "ce7532d3e5f9710c"
  },
  {
   "cell_type": "code",
   "execution_count": 153,
   "outputs": [
    {
     "ename": "AttributeError",
     "evalue": "'ImmutableDenseNDimArray' object has no attribute 'name'",
     "output_type": "error",
     "traceback": [
      "\u001B[0;31m---------------------------------------------------------------------------\u001B[0m",
      "\u001B[0;31mAttributeError\u001B[0m                            Traceback (most recent call last)",
      "Cell \u001B[0;32mIn[153], line 1\u001B[0m\n\u001B[0;32m----> 1\u001B[0m \u001B[43msym\u001B[49m\u001B[38;5;241;43m.\u001B[39;49m\u001B[43mvariables\u001B[49m\u001B[43m[\u001B[49m\u001B[38;5;241;43m0\u001B[39;49m\u001B[43m]\u001B[49m\u001B[38;5;241;43m.\u001B[39;49m\u001B[43mname\u001B[49m\n",
      "\u001B[0;31mAttributeError\u001B[0m: 'ImmutableDenseNDimArray' object has no attribute 'name'"
     ]
    }
   ],
   "source": [
    "sym.variables[0]"
   ],
   "metadata": {
    "collapsed": false,
    "ExecuteTime": {
     "end_time": "2023-11-17T15:41:40.436083421Z",
     "start_time": "2023-11-17T15:41:40.421360492Z"
    }
   },
   "id": "37bf7343710ee697"
  },
  {
   "cell_type": "code",
   "execution_count": 154,
   "outputs": [
    {
     "data": {
      "text/plain": "E[EG|GEP]",
      "image/png": "[encoded data removed]",
      "text/latex": "$\\displaystyle \\operatorname{E}\\left[EG|GEP\\right]$"
     },
     "execution_count": 154,
     "metadata": {},
     "output_type": "execute_result"
    }
   ],
   "source": [
    "expr = sym.expr\n",
    "expr"
   ],
   "metadata": {
    "collapsed": false,
    "ExecuteTime": {
     "end_time": "2023-11-17T15:42:23.896056718Z",
     "start_time": "2023-11-17T15:42:23.817110496Z"
    }
   },
   "id": "7ca9b5d52e9bdc53"
  },
  {
   "cell_type": "code",
   "execution_count": 159,
   "outputs": [],
   "source": [
    "e = expr.args[0]"
   ],
   "metadata": {
    "collapsed": false,
    "ExecuteTime": {
     "end_time": "2023-11-17T15:48:29.372834510Z",
     "start_time": "2023-11-17T15:48:29.331815176Z"
    }
   },
   "id": "942f1e9a7ab93ef2"
  },
  {
   "cell_type": "code",
   "execution_count": 160,
   "outputs": [
    {
     "data": {
      "text/plain": "⎛⎡⎛  d               ⎛                ⎛  d              ⎞⎞⎞⎤    ⎞\n⎜⎢⎜─────(E[EG|GEP]), ⎜(1.0, 0.0), (), ⎜─────(E[EG|GEP]),⎟⎟⎟⎥, []⎟\n⎝⎣⎝d[UR]             ⎝                ⎝d[UR]            ⎠⎠⎠⎦    ⎠",
      "text/latex": "$\\displaystyle \\left( \\left[ \\left( \\frac{d}{d \\left[\\begin{matrix}UR\\end{matrix}\\right]} \\operatorname{E}\\left[EG|GEP\\right], \\  \\left( \\left( 1.0, \\  0.0\\right), \\  \\left( \\right), \\  \\left( \\frac{d}{d \\left[\\begin{matrix}UR\\end{matrix}\\right]} \\operatorname{E}\\left[EG|GEP\\right],\\right)\\right)\\right)\\right], \\  \\left[ \\right]\\right)$"
     },
     "execution_count": 160,
     "metadata": {},
     "output_type": "execute_result"
    }
   ],
   "source": [
    "terms = sym.as_terms()\n",
    "terms"
   ],
   "metadata": {
    "collapsed": false,
    "ExecuteTime": {
     "end_time": "2023-11-17T15:54:02.518522151Z",
     "start_time": "2023-11-17T15:54:02.447641319Z"
    }
   },
   "id": "17f662ccb78cb6da"
  },
  {
   "cell_type": "code",
   "execution_count": 161,
   "outputs": [
    {
     "name": "stdout",
     "output_type": "stream",
     "text": [
      "Expression: Derivative(Expectation(EG|GEP), [UR])\n",
      "Coefficient: ((1.0, 0.0), (), (Derivative(Expectation(EG|GEP), [UR]),))\n"
     ]
    }
   ],
   "source": [
    "for term in terms[0]:\n",
    "    # Each term is a tuple, with the first element being the term itself and the second being its coefficient\n",
    "    expression, coefficient = term\n",
    "    # You can now analyze 'expression' and 'coefficient' to extract variable names and their relationships\n",
    "    # For instance, print them out to see their structure\n",
    "    print(\"Expression:\", expression)\n",
    "    print(\"Coefficient:\", coefficient)"
   ],
   "metadata": {
    "collapsed": false,
    "ExecuteTime": {
     "end_time": "2023-11-17T15:54:25.600817796Z",
     "start_time": "2023-11-17T15:54:25.565631474Z"
    }
   },
   "id": "50280e325b2cda90"
  },
  {
   "cell_type": "code",
   "execution_count": 164,
   "outputs": [
    {
     "name": "stdout",
     "output_type": "stream",
     "text": [
      "Expression: Derivative(E(EG, GEP), UR)\n",
      "Coefficient: ((1.0, 0.0), (1,), ())\n"
     ]
    }
   ],
   "source": [
    "from sympy import symbols, Derivative, Function\n",
    "\n",
    "# Define your symbols\n",
    "EG, GEP, UR = symbols('EG GEP UR')\n",
    "\n",
    "# Define the expected value function\n",
    "E = Function('E')(EG, GEP)\n",
    "\n",
    "# Define the derivative\n",
    "deriv = Derivative(E, UR)\n",
    "\n",
    "# Extract terms from the derivative\n",
    "terms = deriv.as_terms()\n",
    "\n",
    "# Process the terms to extract variable names and relationships\n",
    "# terms is a tuple, where the first element contains the terms\n",
    "for term in terms[0]:\n",
    "    # Each term is a tuple, with the first element being the term itself and the second being its coefficient\n",
    "    expression, coefficient = term\n",
    "    # You can now analyze 'expression' and 'coefficient' to extract variable names and their relationships\n",
    "    # For instance, print them out to see their structure\n",
    "    print(\"Expression:\", expression)\n",
    "    print(\"Coefficient:\", coefficient)"
   ],
   "metadata": {
    "collapsed": false,
    "ExecuteTime": {
     "end_time": "2023-11-17T15:55:19.554568299Z",
     "start_time": "2023-11-17T15:55:19.447398010Z"
    }
   },
   "id": "a83ad5dd7c6dc685"
  },
  {
   "cell_type": "code",
   "execution_count": 167,
   "outputs": [
    {
     "data": {
      "text/plain": " ∂             \n───(E(EG, GEP))\n∂UR            ",
      "image/png": "[encoded data removed]",
      "text/latex": "$\\displaystyle \\frac{\\partial}{\\partial UR} E{\\left(EG,GEP \\right)}$"
     },
     "execution_count": 167,
     "metadata": {},
     "output_type": "execute_result"
    }
   ],
   "source": [
    "deriv"
   ],
   "metadata": {
    "collapsed": false,
    "ExecuteTime": {
     "end_time": "2023-11-17T15:59:32.937196075Z",
     "start_time": "2023-11-17T15:59:32.851668831Z"
    }
   },
   "id": "11fe1cb94c8c0c7e"
  },
  {
   "cell_type": "code",
   "execution_count": 166,
   "outputs": [
    {
     "data": {
      "text/plain": "(EG, GEP)",
      "image/png": "[encoded data removed]",
      "text/latex": "$\\displaystyle \\left( EG, \\  GEP\\right)$"
     },
     "execution_count": 166,
     "metadata": {},
     "output_type": "execute_result"
    }
   ],
   "source": [
    "E.args"
   ],
   "metadata": {
    "collapsed": false,
    "ExecuteTime": {
     "end_time": "2023-11-17T15:59:25.637477739Z",
     "start_time": "2023-11-17T15:59:25.562784063Z"
    }
   },
   "id": "d54fe53bb33c4c02"
  },
  {
   "cell_type": "code",
   "execution_count": null,
   "outputs": [],
   "source": [],
   "metadata": {
    "collapsed": false
   },
   "id": "b6436dbf1a4b3a4e"
  },
  {
   "cell_type": "code",
   "execution_count": null,
   "outputs": [],
   "source": [],
   "metadata": {
    "collapsed": false
   },
   "id": "e1ab83f0f02c3b51"
  },
  {
   "cell_type": "code",
   "execution_count": null,
   "id": "initial_id",
   "metadata": {
    "collapsed": true
   },
   "outputs": [],
   "source": []
  }
 ],
 "metadata": {
  "kernelspec": {
   "display_name": "Python 3",
   "language": "python",
   "name": "python3"
  },
  "language_info": {
   "codemirror_mode": {
    "name": "ipython",
    "version": 2
   },
   "file_extension": ".py",
   "mimetype": "text/x-python",
   "name": "python",
   "nbconvert_exporter": "python",
   "pygments_lexer": "ipython2",
   "version": "2.7.6"
  }
 },
 "nbformat": 4,
 "nbformat_minor": 5
}
